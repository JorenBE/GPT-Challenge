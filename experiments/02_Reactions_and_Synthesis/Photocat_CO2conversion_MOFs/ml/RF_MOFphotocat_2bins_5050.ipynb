{
 "cells": [
  {
   "cell_type": "markdown",
   "metadata": {},
   "source": [
    "## Random Forest - MOF_photocatalytic activity - 2bins - 50/50"
   ]
  },
  {
   "cell_type": "code",
   "execution_count": 1,
   "metadata": {},
   "outputs": [],
   "source": [
    "import pandas as pd\n",
    "import numpy as np\n",
    "from sklearn.model_selection import train_test_split\n",
    "from sklearn.preprocessing import LabelEncoder, OneHotEncoder\n",
    "from sklearn.metrics import accuracy_score, f1_score, cohen_kappa_score, r2_score, mean_absolute_error, root_mean_squared_error\n",
    "from sklearn.ensemble import RandomForestClassifier\n",
    "import matplotlib.pyplot as plt\n",
    "from sklearn import metrics\n",
    "import pycm\n",
    "from ast import literal_eval\n",
    "import sys\n",
    "sys.path.append(\"../plotutils/\")\n",
    "from plotutils import *\n",
    "plt.style.use(\"../plotutils/your.mplstyle\")\n",
    "from rdkit import Chem\n",
    "from rdkit.Chem import rdFingerprintGenerator"
   ]
  },
  {
   "cell_type": "code",
   "execution_count": 2,
   "metadata": {},
   "outputs": [],
   "source": [
    "def smiles_to_fingerprint(smiles) -> np.ndarray:\n",
    "    \"\"\"\n",
    "    Convert a SMILES string to a molecular fingerprint using RDKit.\n",
    "    \"\"\"\n",
    "    mol = Chem.MolFromSmiles(smiles)\n",
    "    if mol is None:\n",
    "        return None\n",
    "    # generate Morgan fingerprint\n",
    "    mfpgen = rdFingerprintGenerator.GetMorganGenerator(radius=20, fpSize=512)\n",
    "    fingerprint = mfpgen.GetFingerprint(mol)\n",
    "\n",
    "    return np.array(fingerprint)"
   ]
  },
  {
   "cell_type": "code",
   "execution_count": 3,
   "metadata": {
    "scrolled": true
   },
   "outputs": [
    {
     "name": "stdout",
     "output_type": "stream",
     "text": [
      "<class 'pandas.core.frame.DataFrame'>\n",
      "RangeIndex: 77 entries, 0 to 76\n",
      "Data columns (total 24 columns):\n",
      " #   Column                    Non-Null Count  Dtype  \n",
      "---  ------                    --------------  -----  \n",
      " 0   catalyst_name             77 non-null     object \n",
      " 1   linker_name               77 non-null     object \n",
      " 2   cocatalyst                11 non-null     object \n",
      " 3   SMILES                    77 non-null     object \n",
      " 4   source_for_metal          77 non-null     object \n",
      " 5   band_gap_for_composite    21 non-null     object \n",
      " 6   band_gap_for_MOF          29 non-null     object \n",
      " 7   band_gap_for_cocatalyst   9 non-null      float64\n",
      " 8   CB_for_MOF                25 non-null     object \n",
      " 9   CB_for_cocatalyst         9 non-null      float64\n",
      " 10  VB_for_MOF                25 non-null     object \n",
      " 11  VB_for_cocatalyst         9 non-null      float64\n",
      " 12  light_source              77 non-null     object \n",
      " 13  sacrificial_agent         77 non-null     object \n",
      " 14  reaction_phase            77 non-null     object \n",
      " 15  product                   77 non-null     object \n",
      " 16  activity                  77 non-null     float64\n",
      " 17  reaction_id               77 non-null     int64  \n",
      " 18  activity_2bins_5050       77 non-null     int64  \n",
      " 19  activity_7327             77 non-null     int64  \n",
      " 20  smiles_metal              77 non-null     object \n",
      " 21  catalyst                  77 non-null     object \n",
      " 22  catalyst_smiles           77 non-null     object \n",
      " 23  catalyst_smiles_bandgaps  77 non-null     object \n",
      "dtypes: float64(4), int64(3), object(17)\n",
      "memory usage: 14.6+ KB\n"
     ]
    }
   ],
   "source": [
    "df = pd.read_csv(f\"../PhotocatCO2conversionMOFs_dataset.csv\", sep=';')\n",
    "df.info()"
   ]
  },
  {
   "cell_type": "code",
   "execution_count": 4,
   "metadata": {},
   "outputs": [
    {
     "data": {
      "text/plain": [
       "0     [0, 0, 0, 0, 0, 0, 0, 0, 0, 0, 0, 0, 0, 0, 0, ...\n",
       "1     [0, 0, 0, 0, 0, 0, 0, 0, 0, 0, 0, 0, 0, 0, 0, ...\n",
       "2     [0, 0, 0, 0, 0, 0, 0, 0, 0, 0, 0, 0, 0, 0, 0, ...\n",
       "3     [0, 0, 0, 0, 0, 0, 0, 0, 0, 0, 0, 0, 0, 0, 0, ...\n",
       "4     [0, 0, 0, 0, 0, 0, 0, 0, 0, 0, 0, 0, 0, 0, 0, ...\n",
       "                            ...                        \n",
       "72    [0, 0, 0, 0, 0, 0, 0, 0, 0, 0, 1, 0, 0, 0, 0, ...\n",
       "73    [0, 0, 1, 0, 0, 0, 0, 0, 0, 0, 0, 0, 0, 0, 0, ...\n",
       "74    [0, 0, 0, 0, 0, 0, 0, 0, 0, 0, 0, 0, 0, 0, 0, ...\n",
       "75    [0, 0, 0, 0, 0, 0, 0, 0, 0, 0, 0, 0, 0, 0, 0, ...\n",
       "76    [0, 1, 0, 0, 0, 0, 0, 1, 0, 1, 0, 0, 0, 1, 0, ...\n",
       "Name: mp_bin, Length: 77, dtype: object"
      ]
     },
     "execution_count": 4,
     "metadata": {},
     "output_type": "execute_result"
    }
   ],
   "source": [
    "df[\"mp_bin\"] = df[\"SMILES\"].apply(smiles_to_fingerprint)\n",
    "df[\"mp_bin\"]"
   ]
  },
  {
   "cell_type": "code",
   "execution_count": 5,
   "metadata": {},
   "outputs": [
    {
     "name": "stdout",
     "output_type": "stream",
     "text": [
      "8\n"
     ]
    },
    {
     "data": {
      "text/plain": [
       "array(['CH3COOH', 'MeOH', 'H2', 'CO', 'CH4', 'HCOOC', 'HCOO', 'COOH'],\n",
       "      dtype=object)"
      ]
     },
     "execution_count": 5,
     "metadata": {},
     "output_type": "execute_result"
    }
   ],
   "source": [
    "print(len(df[\"product\"].unique()))\n",
    "df[\"product\"].unique()"
   ]
  },
  {
   "cell_type": "code",
   "execution_count": 6,
   "metadata": {},
   "outputs": [],
   "source": [
    "encoder_product = OneHotEncoder(sparse_output=False).set_output(transform=\"pandas\")\n",
    "one_hot_product = encoder_product.fit_transform(df[[\"product\"]])\n",
    "df = pd.concat([df, one_hot_product], axis=1)"
   ]
  },
  {
   "cell_type": "code",
   "execution_count": 7,
   "metadata": {
    "scrolled": true
   },
   "outputs": [
    {
     "name": "stdout",
     "output_type": "stream",
     "text": [
      "43\n"
     ]
    },
    {
     "data": {
      "text/plain": [
       "array(['ZrCl4', 'ZnO/Pt', 'In(NO3)3·xH2O', 'titanium isopropoxide',\n",
       "       'Co(NO3)2·6H2O', 'CoCl2∙6H2O', 'In(NO3)3·xH2O and Fe(NO3)3',\n",
       "       'ZrOCl2·8H2O', 'Re(CO)5Cl', 'zinc acetate hexahydrate',\n",
       "       'Zn(NO3)2·6H2O', 'zirconium (IV) chloride', 'isopropyl titanate',\n",
       "       'Titanium(IV) ethoxide', 'Co(NO3)2·H2O', 'Co(NO3)2•6H2O', 'Cu2O',\n",
       "       'ZrCl4 and tetrapropylorthortitanate', 'Co(CH3CHO)2·6H2O',\n",
       "       'Zn(NO3)2·6H2O and Ni(NO3)2·6H2O', 'copper nitrate trihydrate',\n",
       "       'Mg(NO3)2·6H2O', 'Zirconium tetrachloride',\n",
       "       'Ru(4,4′-H2dcbpy)2Cl2 and Cd(ClO4)2·6H2O', 'Ni(NO3)2·6H2O',\n",
       "       'Ni(NO3)2·6H2O, ZrCl4, and Cu(NO3)2·3H2O',\n",
       "       'Ni(phen)(oba)]n·0.5nH2O', 'titanium tetrachloride',\n",
       "       'Ce(NO3)3·6H2O', 'FeCl3·6H2O', 'Cu(NO3)2·6H2O', 'Cr(NO3)3·9H2O',\n",
       "       'Co(NO3)2 · 6H2O', 'Ni(ClO4)2·6H2O', 'zinc nitrate hexahydrate',\n",
       "       'Zn(NO3)2', 'tetra-n-butyl titanate', '9 RuCl3·3H2O/ ZrOCl2·H2O',\n",
       "       'Ir2(ppy)4Cl2', 'RhCl3 / ZrCl4', 'Fe2Zn', 'ZrCl5',\n",
       "       'Co(CH3COO)2·6H2O'], dtype=object)"
      ]
     },
     "execution_count": 7,
     "metadata": {},
     "output_type": "execute_result"
    }
   ],
   "source": [
    "print(len(df[\"source_for_metal\"].unique()))\n",
    "df[\"source_for_metal\"].unique()"
   ]
  },
  {
   "cell_type": "code",
   "execution_count": 8,
   "metadata": {},
   "outputs": [],
   "source": [
    "encoder_source = OneHotEncoder(sparse_output=False).set_output(transform=\"pandas\")\n",
    "one_hot_source = encoder_source.fit_transform(df[[\"source_for_metal\"]])\n",
    "df = pd.concat([df, one_hot_source], axis=1)"
   ]
  },
  {
   "cell_type": "code",
   "execution_count": 9,
   "metadata": {
    "scrolled": true
   },
   "outputs": [
    {
     "name": "stdout",
     "output_type": "stream",
     "text": [
      "33\n"
     ]
    },
    {
     "data": {
      "text/plain": [
       "array(['1,4-benzenedicarboxylic acid (H2BDC)', '2-methylimidazole',\n",
       "       '2-aminoterephthalic acid',\n",
       "       '4,5-dicarboxyimidazole and 4,4’- bipyridine', 'TCPP',\n",
       "       'Benzene-1,3,5-tricarboxylic acid (H3BTC)',\n",
       "       '2′-amino-[1,1′:4′,1″-terphenyl]-3,3″,5,5″- tetracarboxylic acid (H4L)',\n",
       "       '2,2′-bipyridine', '2-Methylimidazole', 'terephthalic acid',\n",
       "       'N,N-Cetyl Tri-methyl Ammonium Bromide', 'benzimidazole',\n",
       "       '1,3,5-benzenetricarboxylic acid',\n",
       "       '4,4′-(anthracene-9,10-diylbis(ethyne-2,1-diyl))dibenzoic acid',\n",
       "       '4,4′,4′′-nitrilotribenzoic acid and 4,4′-bipyridine',\n",
       "       \"4,4'-(porphyrin-5,15-diyl)dibenzoic acid\",\n",
       "       '1.2‐aminoterephtalic acid',\n",
       "       '2, 5-dioxido-1,4-benzenedicarboxylate',\n",
       "       'phen = 1,10-phenanthroline, oba = 4,4′-oxybis(benzoate)',\n",
       "       'Dicyandiamide',\n",
       "       '2,4,6-tris (2-(pyridin-4-yl)vinyl)-1,3,5-triazine and 1,3,5-benzenetricarboxylic acid',\n",
       "       '1,3,5-Benzenetricarboxylic acid',\n",
       "       '4,4′,4″-nitrilotribenzoic acid', 'benzimidazole (H-PhIM)',\n",
       "       '1,3,5-triformylbenzene, 5,5′-diamino-2,2′-bipyridine and 1,4-dioxane:mesitylene:6',\n",
       "       '4,4′-Biphenyldicarboxylic acid &  2,2-Bipyridyl-5,5-dicarboxylic acid',\n",
       "       '2,5-Dihydroxybenzene-1,4-dicarboxylic acid',\n",
       "       '4′-(4-Methoxycarbonylphenyl)-\\n 2.2′:6′,2′′terpyridine',\n",
       "       '2,2′-bipyridine-4,4′-dicarboxylic acid',\n",
       "       '5,10,15,20-tetrakis(4-methoxycarbonylphenyl)porphyrin',\n",
       "       'hexakis(4′-carboxy[1,1′-biphenyl]-4-yl)benzene',\n",
       "       'catbdc, 2,3-dihydroxyterephthalic acid',\n",
       "       \"Ni-4,4',4'',4'''-(5,10,15,20-porphyrintetrayl)tetraphosphonobenzoic acid (Ni-H8TPPP)\"],\n",
       "      dtype=object)"
      ]
     },
     "execution_count": 9,
     "metadata": {},
     "output_type": "execute_result"
    }
   ],
   "source": [
    "print(len(df[\"linker_name\"].unique()))\n",
    "df[\"linker_name\"].unique()"
   ]
  },
  {
   "cell_type": "code",
   "execution_count": 10,
   "metadata": {},
   "outputs": [],
   "source": [
    "encoder_linker = OneHotEncoder(sparse_output=False).set_output(transform=\"pandas\")\n",
    "one_hot_linker = encoder_linker.fit_transform(df[[\"linker_name\"]])\n",
    "df = pd.concat([df, one_hot_linker], axis=1)"
   ]
  },
  {
   "cell_type": "code",
   "execution_count": 11,
   "metadata": {},
   "outputs": [
    {
     "name": "stdout",
     "output_type": "stream",
     "text": [
      "5\n"
     ]
    },
    {
     "data": {
      "text/plain": [
       "array(['L', 'G', 'g', 'l', 'N'], dtype=object)"
      ]
     },
     "execution_count": 11,
     "metadata": {},
     "output_type": "execute_result"
    }
   ],
   "source": [
    "print(len(df[\"reaction_phase\"].unique()))\n",
    "df[\"reaction_phase\"].unique()"
   ]
  },
  {
   "cell_type": "code",
   "execution_count": 12,
   "metadata": {},
   "outputs": [],
   "source": [
    "encoder_phase = OneHotEncoder(sparse_output=False).set_output(transform=\"pandas\")\n",
    "one_hot_phase = encoder_phase.fit_transform(df[[\"reaction_phase\"]])\n",
    "df = pd.concat([df, one_hot_phase], axis=1)"
   ]
  },
  {
   "cell_type": "code",
   "execution_count": 13,
   "metadata": {},
   "outputs": [
    {
     "name": "stdout",
     "output_type": "stream",
     "text": [
      "30\n"
     ]
    },
    {
     "data": {
      "text/plain": [
       "array(['H2O+CO2', 'H2O+CO2 (Co(bpy)3)2', 'H2O+CO2 (Ru-(bpy)3)2',\n",
       "       'Prophyrin', 'BNAH and TEOA, (Ru(bpy)3)2+',\n",
       "       'TEOA, BNAH,(Ru(bpy)3)2+', '(bpy)3', 'TEOA',\n",
       "       'acetonitrile and TEOA', 'ethyl acetate or acetonitrile,H2O+CO2',\n",
       "       'MeCN and TEOA', 'MeCN and triethanolamine',\n",
       "       '[Ru(bpy)3]Cl2·6H2O , acetonitrile and TEOA and H2O+CO2',\n",
       "       'acetonitrile and H2O+CO2',\n",
       "       'acetonitrile, TEOA, H2O, CoCl2·6H2O, and bipyridine+CO2',\n",
       "       'Aceton, TEOA, CO2', '[Ru(bpy)3]Cl2.6H2O and TIPA, H2O and CO2',\n",
       "       '[Ru(bpy)3]Cl2.6H2O and TIPA, H2O and CO3',\n",
       "       '[Ru(bpy)3]Cl2.6H2O and TIPA, H2O and CO4', 'TEOA, Aceton +CO2',\n",
       "       'MeCN/TEOA/H2O and [Ru(bpy)3]Cl2 · 6H2O',\n",
       "       '[Ru(bpy)3]Cl2·6H2O +CO2', 'TEOA or DMA, DMF and H2O +CO2',\n",
       "       'H2O +CO2', 'MeCN/MeOH/TEOA +cO2', 'H2O + CO2', 'MeCN/TEOA',\n",
       "       'TIPA', 'TEOA/H2O', 'TEOA/H2O/MeCN and [Ru(bpy)3]Cl2·6H2O'],\n",
       "      dtype=object)"
      ]
     },
     "execution_count": 13,
     "metadata": {},
     "output_type": "execute_result"
    }
   ],
   "source": [
    "print(len(df[\"sacrificial_agent\"].unique()))\n",
    "df[\"sacrificial_agent\"].unique()"
   ]
  },
  {
   "cell_type": "code",
   "execution_count": 14,
   "metadata": {},
   "outputs": [],
   "source": [
    "encoder_agent = OneHotEncoder(sparse_output=False).set_output(transform=\"pandas\")\n",
    "one_hot_agent = encoder_agent.fit_transform(df[[\"sacrificial_agent\"]])\n",
    "df = pd.concat([df, one_hot_agent], axis=1)"
   ]
  },
  {
   "cell_type": "code",
   "execution_count": 15,
   "metadata": {},
   "outputs": [
    {
     "name": "stdout",
     "output_type": "stream",
     "text": [
      "8\n"
     ]
    },
    {
     "data": {
      "text/plain": [
       "array(['MoS2', 'Cd2Zn8S', nan, 'ZnO/rGO', 'CdS', 'g-C3N4', 'TiO2', 'Ag'],\n",
       "      dtype=object)"
      ]
     },
     "execution_count": 15,
     "metadata": {},
     "output_type": "execute_result"
    }
   ],
   "source": [
    "print(len(df[\"cocatalyst\"].unique()))\n",
    "df[\"cocatalyst\"].unique()"
   ]
  },
  {
   "cell_type": "code",
   "execution_count": 16,
   "metadata": {},
   "outputs": [],
   "source": [
    "encoder_cocatalyst = OneHotEncoder(sparse_output=False).set_output(transform=\"pandas\")\n",
    "one_hot_cocatalyst = encoder_cocatalyst.fit_transform(df[[\"cocatalyst\"]])\n",
    "df = pd.concat([df, one_hot_cocatalyst], axis=1)"
   ]
  },
  {
   "cell_type": "code",
   "execution_count": 26,
   "metadata": {},
   "outputs": [
    {
     "name": "stdout",
     "output_type": "stream",
     "text": [
      "<class 'pandas.core.frame.DataFrame'>\n",
      "RangeIndex: 77 entries, 0 to 76\n",
      "Columns: 153 entries, catalyst_name to cocatalyst_nan\n",
      "dtypes: float64(131), int64(3), object(19)\n",
      "memory usage: 92.2+ KB\n"
     ]
    }
   ],
   "source": [
    "df.info()"
   ]
  },
  {
   "cell_type": "code",
   "execution_count": 27,
   "metadata": {},
   "outputs": [
    {
     "data": {
      "text/plain": [
       "['mp_bin',\n",
       " 'product_CH3COOH',\n",
       " 'product_CH4',\n",
       " 'product_CO',\n",
       " 'product_COOH',\n",
       " 'product_H2',\n",
       " 'product_HCOO',\n",
       " 'product_HCOOC',\n",
       " 'product_MeOH',\n",
       " 'source_for_metal_9 RuCl3·3H2O/ ZrOCl2·H2O',\n",
       " 'source_for_metal_Ce(NO3)3·6H2O',\n",
       " 'source_for_metal_Co(CH3CHO)2·6H2O',\n",
       " 'source_for_metal_Co(CH3COO)2·6H2O',\n",
       " 'source_for_metal_Co(NO3)2 · 6H2O',\n",
       " 'source_for_metal_Co(NO3)2·6H2O',\n",
       " 'source_for_metal_Co(NO3)2·H2O',\n",
       " 'source_for_metal_Co(NO3)2•6H2O',\n",
       " 'source_for_metal_CoCl2∙6H2O',\n",
       " 'source_for_metal_Cr(NO3)3·9H2O',\n",
       " 'source_for_metal_Cu(NO3)2·6H2O',\n",
       " 'source_for_metal_Cu2O',\n",
       " 'source_for_metal_Fe2Zn',\n",
       " 'source_for_metal_FeCl3·6H2O',\n",
       " 'source_for_metal_In(NO3)3·xH2O',\n",
       " 'source_for_metal_In(NO3)3·xH2O and Fe(NO3)3',\n",
       " 'source_for_metal_Ir2(ppy)4Cl2',\n",
       " 'source_for_metal_Mg(NO3)2·6H2O',\n",
       " 'source_for_metal_Ni(ClO4)2·6H2O',\n",
       " 'source_for_metal_Ni(NO3)2·6H2O',\n",
       " 'source_for_metal_Ni(NO3)2·6H2O, ZrCl4, and Cu(NO3)2·3H2O',\n",
       " 'source_for_metal_Ni(phen)(oba)]n·0.5nH2O',\n",
       " 'source_for_metal_Re(CO)5Cl',\n",
       " 'source_for_metal_RhCl3 / ZrCl4',\n",
       " 'source_for_metal_Ru(4,4′-H2dcbpy)2Cl2 and Cd(ClO4)2·6H2O',\n",
       " 'source_for_metal_Titanium(IV) ethoxide',\n",
       " 'source_for_metal_Zirconium tetrachloride',\n",
       " 'source_for_metal_Zn(NO3)2',\n",
       " 'source_for_metal_Zn(NO3)2·6H2O',\n",
       " 'source_for_metal_Zn(NO3)2·6H2O and Ni(NO3)2·6H2O',\n",
       " 'source_for_metal_ZnO/Pt',\n",
       " 'source_for_metal_ZrCl4',\n",
       " 'source_for_metal_ZrCl4 and tetrapropylorthortitanate',\n",
       " 'source_for_metal_ZrCl5',\n",
       " 'source_for_metal_ZrOCl2·8H2O',\n",
       " 'source_for_metal_copper nitrate trihydrate',\n",
       " 'source_for_metal_isopropyl titanate',\n",
       " 'source_for_metal_tetra-n-butyl titanate',\n",
       " 'source_for_metal_titanium isopropoxide',\n",
       " 'source_for_metal_titanium tetrachloride',\n",
       " 'source_for_metal_zinc acetate hexahydrate',\n",
       " 'source_for_metal_zinc nitrate hexahydrate',\n",
       " 'source_for_metal_zirconium (IV) chloride',\n",
       " 'linker_name_1,3,5-Benzenetricarboxylic acid',\n",
       " 'linker_name_1,3,5-benzenetricarboxylic acid',\n",
       " 'linker_name_1,3,5-triformylbenzene, 5,5′-diamino-2,2′-bipyridine and 1,4-dioxane:mesitylene:6',\n",
       " 'linker_name_1,4-benzenedicarboxylic acid (H2BDC)',\n",
       " 'linker_name_1.2‐aminoterephtalic acid',\n",
       " 'linker_name_2, 5-dioxido-1,4-benzenedicarboxylate',\n",
       " 'linker_name_2,2′-bipyridine',\n",
       " 'linker_name_2,2′-bipyridine-4,4′-dicarboxylic acid',\n",
       " 'linker_name_2,4,6-tris (2-(pyridin-4-yl)vinyl)-1,3,5-triazine and 1,3,5-benzenetricarboxylic acid',\n",
       " 'linker_name_2,5-Dihydroxybenzene-1,4-dicarboxylic acid',\n",
       " 'linker_name_2-Methylimidazole',\n",
       " 'linker_name_2-aminoterephthalic acid',\n",
       " 'linker_name_2-methylimidazole',\n",
       " 'linker_name_2′-amino-[1,1′:4′,1″-terphenyl]-3,3″,5,5″- tetracarboxylic acid (H4L)',\n",
       " \"linker_name_4,4'-(porphyrin-5,15-diyl)dibenzoic acid\",\n",
       " 'linker_name_4,4′,4′′-nitrilotribenzoic acid and 4,4′-bipyridine',\n",
       " 'linker_name_4,4′,4″-nitrilotribenzoic acid',\n",
       " 'linker_name_4,4′-(anthracene-9,10-diylbis(ethyne-2,1-diyl))dibenzoic acid',\n",
       " 'linker_name_4,4′-Biphenyldicarboxylic acid &  2,2-Bipyridyl-5,5-dicarboxylic acid',\n",
       " 'linker_name_4,5-dicarboxyimidazole and 4,4’- bipyridine',\n",
       " 'linker_name_4′-(4-Methoxycarbonylphenyl)-\\n 2.2′:6′,2′′terpyridine',\n",
       " 'linker_name_5,10,15,20-tetrakis(4-methoxycarbonylphenyl)porphyrin',\n",
       " 'linker_name_Benzene-1,3,5-tricarboxylic acid (H3BTC)',\n",
       " 'linker_name_Dicyandiamide',\n",
       " 'linker_name_N,N-Cetyl Tri-methyl Ammonium Bromide',\n",
       " \"linker_name_Ni-4,4',4'',4'''-(5,10,15,20-porphyrintetrayl)tetraphosphonobenzoic acid (Ni-H8TPPP)\",\n",
       " 'linker_name_TCPP',\n",
       " 'linker_name_benzimidazole',\n",
       " 'linker_name_benzimidazole (H-PhIM)',\n",
       " 'linker_name_catbdc, 2,3-dihydroxyterephthalic acid',\n",
       " 'linker_name_hexakis(4′-carboxy[1,1′-biphenyl]-4-yl)benzene',\n",
       " 'linker_name_phen = 1,10-phenanthroline, oba = 4,4′-oxybis(benzoate)',\n",
       " 'linker_name_terephthalic acid',\n",
       " 'reaction_phase_G',\n",
       " 'reaction_phase_L',\n",
       " 'reaction_phase_N',\n",
       " 'reaction_phase_g',\n",
       " 'reaction_phase_l',\n",
       " 'sacrificial_agent_(bpy)3',\n",
       " 'sacrificial_agent_Aceton, TEOA, CO2',\n",
       " 'sacrificial_agent_BNAH and TEOA, (Ru(bpy)3)2+',\n",
       " 'sacrificial_agent_H2O + CO2',\n",
       " 'sacrificial_agent_H2O +CO2',\n",
       " 'sacrificial_agent_H2O+CO2',\n",
       " 'sacrificial_agent_H2O+CO2 (Co(bpy)3)2',\n",
       " 'sacrificial_agent_H2O+CO2 (Ru-(bpy)3)2',\n",
       " 'sacrificial_agent_MeCN and TEOA',\n",
       " 'sacrificial_agent_MeCN and triethanolamine',\n",
       " 'sacrificial_agent_MeCN/MeOH/TEOA +cO2',\n",
       " 'sacrificial_agent_MeCN/TEOA',\n",
       " 'sacrificial_agent_MeCN/TEOA/H2O and [Ru(bpy)3]Cl2 · 6H2O',\n",
       " 'sacrificial_agent_Prophyrin',\n",
       " 'sacrificial_agent_TEOA',\n",
       " 'sacrificial_agent_TEOA or DMA, DMF and H2O +CO2',\n",
       " 'sacrificial_agent_TEOA, Aceton +CO2',\n",
       " 'sacrificial_agent_TEOA, BNAH,(Ru(bpy)3)2+',\n",
       " 'sacrificial_agent_TEOA/H2O',\n",
       " 'sacrificial_agent_TEOA/H2O/MeCN and [Ru(bpy)3]Cl2·6H2O',\n",
       " 'sacrificial_agent_TIPA',\n",
       " 'sacrificial_agent_[Ru(bpy)3]Cl2.6H2O and TIPA, H2O and CO2',\n",
       " 'sacrificial_agent_[Ru(bpy)3]Cl2.6H2O and TIPA, H2O and CO3',\n",
       " 'sacrificial_agent_[Ru(bpy)3]Cl2.6H2O and TIPA, H2O and CO4',\n",
       " 'sacrificial_agent_[Ru(bpy)3]Cl2·6H2O +CO2',\n",
       " 'sacrificial_agent_[Ru(bpy)3]Cl2·6H2O , acetonitrile and TEOA and H2O+CO2',\n",
       " 'sacrificial_agent_acetonitrile and H2O+CO2',\n",
       " 'sacrificial_agent_acetonitrile and TEOA',\n",
       " 'sacrificial_agent_acetonitrile, TEOA, H2O, CoCl2·6H2O, and bipyridine+CO2',\n",
       " 'sacrificial_agent_ethyl acetate or acetonitrile,H2O+CO2',\n",
       " 'cocatalyst_Ag',\n",
       " 'cocatalyst_Cd2Zn8S',\n",
       " 'cocatalyst_CdS',\n",
       " 'cocatalyst_MoS2',\n",
       " 'cocatalyst_TiO2',\n",
       " 'cocatalyst_ZnO/rGO',\n",
       " 'cocatalyst_g-C3N4',\n",
       " 'cocatalyst_nan']"
      ]
     },
     "execution_count": 27,
     "metadata": {},
     "output_type": "execute_result"
    }
   ],
   "source": [
    "list(df.iloc[:,25:153].columns)"
   ]
  },
  {
   "cell_type": "code",
   "execution_count": 40,
   "metadata": {},
   "outputs": [],
   "source": [
    "def prepare_dataset_classification(\n",
    "    df,\n",
    "    target = \"activity_2bins_5050\",\n",
    "    representation = list(df.iloc[:,25:153].columns),\n",
    "    random_state=42,\n",
    "    train_size=65\n",
    "):\n",
    "    df_train, df_test = train_test_split(\n",
    "        df,\n",
    "        train_size=train_size,\n",
    "        random_state=random_state,\n",
    "        stratify=df[target].astype(int).values,\n",
    "    )\n",
    "    print(len(df_train), len(df_test))\n",
    "    \n",
    "    X_train, y_train = df_train[representation], df_train[target]\n",
    "    X_test, y_test = df_test[representation], df_test[target]\n",
    "    \n",
    "    X_train_concatenate = X_train.iloc[[i for i in np.arange(len(X_train))],:].apply(\n",
    "        lambda row: np.hstack(row), axis=1\n",
    "    )\n",
    "    \n",
    "    X_test_concatenate = X_test.iloc[[i for i in np.arange(len(X_test))],:].apply(\n",
    "        lambda row: np.hstack(row), axis=1\n",
    "    )\n",
    "    \n",
    "    return list(X_train_concatenate), y_train, list(X_test_concatenate), y_test"
   ]
  },
  {
   "cell_type": "code",
   "execution_count": 41,
   "metadata": {},
   "outputs": [],
   "source": [
    "def train_and_evaluate_classifier(X_train, y_train, X_test, y_test, random_state=42):\n",
    "    clf = RandomForestClassifier(\n",
    "        n_estimators=200, \n",
    "        random_state=random_state,\n",
    "        verbose=True\n",
    "    )\n",
    "    \n",
    "    clf.fit(X_train, y_train)\n",
    "    \n",
    "    y_pred = clf.predict(X_test)\n",
    "    y_test = np.array(y_test)\n",
    "    \n",
    "    acc = accuracy_score(y_test, y_pred)\n",
    "    f1_macro = f1_score(y_test, y_pred, average=\"macro\")\n",
    "    f1_micro = f1_score(y_test, y_pred, average=\"micro\")\n",
    "    f1_weighted = f1_score(y_test, y_pred, average='weighted')\n",
    "    kappa = cohen_kappa_score(y_test, y_pred)\n",
    "    \n",
    "    return y_test, y_pred, acc, f1_macro, f1_micro, f1_weighted, kappa"
   ]
  },
  {
   "cell_type": "code",
   "execution_count": 42,
   "metadata": {},
   "outputs": [],
   "source": [
    "def metrics_dict():\n",
    "    metrics_dict = {\n",
    "        \"train_size\": train_size,\n",
    "        \"y_true\": y_test_all,\n",
    "        \"y_pred\": y_pred_all,\n",
    "        \"accuracy\": acc_scores,\n",
    "        \"f1_macro\": f1macro_scores,\n",
    "        \"f1_micro\": f1micro_scores,\n",
    "        \"f1_weighted\": f1weighted_scores,\n",
    "        \"kappa\": kappa_scores\n",
    "    }\n",
    "    return metrics_dict"
   ]
  },
  {
   "cell_type": "markdown",
   "metadata": {},
   "source": [
    "### training size = 15"
   ]
  },
  {
   "cell_type": "code",
   "execution_count": 43,
   "metadata": {},
   "outputs": [],
   "source": [
    "train_size = 15\n",
    "iterations = 10\n",
    "y_test_all = []\n",
    "y_pred_all = []\n",
    "acc_scores = []\n",
    "f1macro_scores = []\n",
    "f1micro_scores = []\n",
    "f1weighted_scores = []\n",
    "kappa_scores = []"
   ]
  },
  {
   "cell_type": "code",
   "execution_count": 44,
   "metadata": {
    "scrolled": true
   },
   "outputs": [
    {
     "name": "stdout",
     "output_type": "stream",
     "text": [
      "-------------Iteration 1/10\n",
      "15 62\n",
      "random_state = 42\n",
      "Accuracy: 0.5161290322580645\n",
      "F1 macro: 0.4816053511705686\n",
      "F1 micro: 0.5161290322580645\n",
      "F1 weighted: 0.4816053511705686\n",
      "Kappa: 0.032258064516129004\n",
      "-------------Iteration 2/10\n",
      "15 62\n",
      "random_state = 43\n"
     ]
    },
    {
     "name": "stderr",
     "output_type": "stream",
     "text": [
      "[Parallel(n_jobs=1)]: Done  49 tasks      | elapsed:    0.0s\n",
      "[Parallel(n_jobs=1)]: Done 199 tasks      | elapsed:    0.1s\n",
      "[Parallel(n_jobs=1)]: Done  49 tasks      | elapsed:    0.0s\n",
      "[Parallel(n_jobs=1)]: Done 199 tasks      | elapsed:    0.0s\n",
      "[Parallel(n_jobs=1)]: Done  49 tasks      | elapsed:    0.0s\n",
      "[Parallel(n_jobs=1)]: Done 199 tasks      | elapsed:    0.1s\n",
      "[Parallel(n_jobs=1)]: Done  49 tasks      | elapsed:    0.0s\n",
      "[Parallel(n_jobs=1)]: Done 199 tasks      | elapsed:    0.0s\n",
      "[Parallel(n_jobs=1)]: Done  49 tasks      | elapsed:    0.0s\n",
      "[Parallel(n_jobs=1)]: Done 199 tasks      | elapsed:    0.1s\n",
      "[Parallel(n_jobs=1)]: Done  49 tasks      | elapsed:    0.0s\n",
      "[Parallel(n_jobs=1)]: Done 199 tasks      | elapsed:    0.0s\n"
     ]
    },
    {
     "name": "stdout",
     "output_type": "stream",
     "text": [
      "Accuracy: 0.5483870967741935\n",
      "F1 macro: 0.5464994775339603\n",
      "F1 micro: 0.5483870967741935\n",
      "F1 weighted: 0.5464994775339603\n",
      "Kappa: 0.09677419354838712\n",
      "-------------Iteration 3/10\n",
      "15 62\n",
      "random_state = 44\n",
      "Accuracy: 0.5161290322580645\n",
      "F1 macro: 0.4816053511705686\n",
      "F1 micro: 0.5161290322580645\n",
      "F1 weighted: 0.4816053511705686\n",
      "Kappa: 0.032258064516129004\n",
      "-------------Iteration 4/10\n",
      "15 62\n",
      "random_state = 45\n"
     ]
    },
    {
     "name": "stderr",
     "output_type": "stream",
     "text": [
      "[Parallel(n_jobs=1)]: Done  49 tasks      | elapsed:    0.0s\n",
      "[Parallel(n_jobs=1)]: Done 199 tasks      | elapsed:    0.1s\n",
      "[Parallel(n_jobs=1)]: Done  49 tasks      | elapsed:    0.0s\n",
      "[Parallel(n_jobs=1)]: Done 199 tasks      | elapsed:    0.0s\n",
      "[Parallel(n_jobs=1)]: Done  49 tasks      | elapsed:    0.0s\n",
      "[Parallel(n_jobs=1)]: Done 199 tasks      | elapsed:    0.1s\n",
      "[Parallel(n_jobs=1)]: Done  49 tasks      | elapsed:    0.0s\n",
      "[Parallel(n_jobs=1)]: Done 199 tasks      | elapsed:    0.0s\n"
     ]
    },
    {
     "name": "stdout",
     "output_type": "stream",
     "text": [
      "Accuracy: 0.43548387096774194\n",
      "F1 macro: 0.43415906127770537\n",
      "F1 micro: 0.43548387096774194\n",
      "F1 weighted: 0.43415906127770537\n",
      "Kappa: -0.12903225806451624\n",
      "-------------Iteration 5/10\n",
      "15 62\n",
      "random_state = 46\n",
      "Accuracy: 0.5806451612903226\n",
      "F1 macro: 0.5788923719958203\n",
      "F1 micro: 0.5806451612903226\n",
      "F1 weighted: 0.5788923719958203\n",
      "Kappa: 0.16129032258064513\n",
      "-------------Iteration 6/10\n",
      "15 62\n",
      "random_state = 47\n"
     ]
    },
    {
     "name": "stderr",
     "output_type": "stream",
     "text": [
      "[Parallel(n_jobs=1)]: Done  49 tasks      | elapsed:    0.0s\n",
      "[Parallel(n_jobs=1)]: Done 199 tasks      | elapsed:    0.1s\n",
      "[Parallel(n_jobs=1)]: Done  49 tasks      | elapsed:    0.0s\n",
      "[Parallel(n_jobs=1)]: Done 199 tasks      | elapsed:    0.0s\n",
      "[Parallel(n_jobs=1)]: Done  49 tasks      | elapsed:    0.0s\n"
     ]
    },
    {
     "name": "stdout",
     "output_type": "stream",
     "text": [
      "Accuracy: 0.6129032258064516\n",
      "F1 macro: 0.6025641025641025\n",
      "F1 micro: 0.6129032258064516\n",
      "F1 weighted: 0.6025641025641024\n",
      "Kappa: 0.22580645161290325\n",
      "-------------Iteration 7/10\n",
      "15 62\n",
      "random_state = 48\n",
      "Accuracy: 0.6290322580645161\n",
      "F1 macro: 0.5988748241912799\n",
      "F1 micro: 0.6290322580645161\n",
      "F1 weighted: 0.5988748241912799\n",
      "Kappa: 0.25806451612903225\n",
      "-------------Iteration 8/10\n",
      "15 62\n",
      "random_state = 49\n"
     ]
    },
    {
     "name": "stderr",
     "output_type": "stream",
     "text": [
      "[Parallel(n_jobs=1)]: Done 199 tasks      | elapsed:    0.1s\n",
      "[Parallel(n_jobs=1)]: Done  49 tasks      | elapsed:    0.0s\n",
      "[Parallel(n_jobs=1)]: Done 199 tasks      | elapsed:    0.0s\n",
      "[Parallel(n_jobs=1)]: Done  49 tasks      | elapsed:    0.0s\n",
      "[Parallel(n_jobs=1)]: Done 199 tasks      | elapsed:    0.1s\n",
      "[Parallel(n_jobs=1)]: Done  49 tasks      | elapsed:    0.0s\n",
      "[Parallel(n_jobs=1)]: Done 199 tasks      | elapsed:    0.0s\n"
     ]
    },
    {
     "name": "stdout",
     "output_type": "stream",
     "text": [
      "Accuracy: 0.5\n",
      "F1 macro: 0.4689140646587455\n",
      "F1 micro: 0.5\n",
      "F1 weighted: 0.46891406465874547\n",
      "Kappa: 0.0\n",
      "-------------Iteration 9/10\n",
      "15 62\n",
      "random_state = 50\n",
      "Accuracy: 0.5161290322580645\n",
      "F1 macro: 0.5141065830721003\n",
      "F1 micro: 0.5161290322580645\n",
      "F1 weighted: 0.5141065830721002\n",
      "Kappa: 0.032258064516129004\n",
      "-------------Iteration 10/10\n",
      "15 62\n",
      "random_state = 51\n"
     ]
    },
    {
     "name": "stderr",
     "output_type": "stream",
     "text": [
      "[Parallel(n_jobs=1)]: Done  49 tasks      | elapsed:    0.0s\n",
      "[Parallel(n_jobs=1)]: Done 199 tasks      | elapsed:    0.1s\n",
      "[Parallel(n_jobs=1)]: Done  49 tasks      | elapsed:    0.0s\n",
      "[Parallel(n_jobs=1)]: Done 199 tasks      | elapsed:    0.0s\n",
      "[Parallel(n_jobs=1)]: Done  49 tasks      | elapsed:    0.0s\n"
     ]
    },
    {
     "name": "stdout",
     "output_type": "stream",
     "text": [
      "Accuracy: 0.45161290322580644\n",
      "F1 macro: 0.4510416666666667\n",
      "F1 micro: 0.45161290322580644\n",
      "F1 weighted: 0.4510416666666667\n",
      "Kappa: -0.09677419354838701\n"
     ]
    },
    {
     "name": "stderr",
     "output_type": "stream",
     "text": [
      "[Parallel(n_jobs=1)]: Done 199 tasks      | elapsed:    0.1s\n",
      "[Parallel(n_jobs=1)]: Done  49 tasks      | elapsed:    0.0s\n",
      "[Parallel(n_jobs=1)]: Done 199 tasks      | elapsed:    0.0s\n"
     ]
    }
   ],
   "source": [
    "for n in range(iterations):\n",
    "    print(f\"-------------Iteration {n + 1}/{iterations}\")\n",
    "    random_state=42+n\n",
    "\n",
    "    X_train, y_train, X_test, y_test = prepare_dataset_classification(\n",
    "        df,\n",
    "        random_state=random_state,\n",
    "        train_size=train_size\n",
    "    )\n",
    "    print(f\"random_state = {random_state}\")\n",
    "\n",
    "    y_test, y_pred, acc, f1_macro, f1_micro, f1_weighted, kappa = train_and_evaluate_classifier(\n",
    "        X_train, \n",
    "        y_train, \n",
    "        X_test, \n",
    "        y_test, \n",
    "        random_state=random_state\n",
    "    )\n",
    "    \n",
    "    y_test_all.append(y_test)\n",
    "    y_pred_all.append(y_pred)    \n",
    "    acc_scores.append(acc)\n",
    "    f1macro_scores.append(f1_macro)\n",
    "    f1micro_scores.append(f1_micro)\n",
    "    f1weighted_scores.append(f1_weighted)\n",
    "    kappa_scores.append(kappa)\n",
    "    print(f\"Accuracy: {acc}\")\n",
    "    print(f\"F1 macro: {f1_macro}\")\n",
    "    print(f\"F1 micro: {f1_micro}\")\n",
    "    print(f\"F1 weighted: {f1_weighted}\")\n",
    "    print(f\"Kappa: {kappa}\")"
   ]
  },
  {
   "cell_type": "code",
   "execution_count": 45,
   "metadata": {},
   "outputs": [
    {
     "name": "stdout",
     "output_type": "stream",
     "text": [
      "FINAL REPORT for training size = 15\n",
      "mean accuracy: 0.5306451612903225 +/- 0.06011175855994911\n",
      "mean F1 macro: 0.5158262854301519 +/- 0.0589500852809101\n",
      "mean F1 micro: 0.5306451612903225 +/- 0.06011175855994911\n",
      "mean F1 weighted: 0.5158262854301519 +/- 0.058950085280910086\n",
      "mean Kappa: 0.06129032258064515 +/- 0.12022351711989823\n"
     ]
    }
   ],
   "source": [
    "print(f\"FINAL REPORT for training size = {train_size}\")\n",
    "\n",
    "print(f\"mean accuracy: {np.mean(acc_scores)} +/- {np.std(acc_scores)}\")\n",
    "print(f\"mean F1 macro: {np.mean(f1macro_scores)} +/- {np.std(f1macro_scores)}\")\n",
    "print(f\"mean F1 micro: {np.mean(f1micro_scores)} +/- {np.std(f1micro_scores)}\")\n",
    "print(f\"mean F1 weighted: {np.mean(f1weighted_scores)} +/- {np.std(f1weighted_scores)}\")\n",
    "print(f\"mean Kappa: {np.mean(kappa_scores)} +/- {np.std(kappa_scores)}\")"
   ]
  },
  {
   "cell_type": "code",
   "execution_count": 46,
   "metadata": {},
   "outputs": [
    {
     "data": {
      "text/html": [
       "<div>\n",
       "<style scoped>\n",
       "    .dataframe tbody tr th:only-of-type {\n",
       "        vertical-align: middle;\n",
       "    }\n",
       "\n",
       "    .dataframe tbody tr th {\n",
       "        vertical-align: top;\n",
       "    }\n",
       "\n",
       "    .dataframe thead th {\n",
       "        text-align: right;\n",
       "    }\n",
       "</style>\n",
       "<table border=\"1\" class=\"dataframe\">\n",
       "  <thead>\n",
       "    <tr style=\"text-align: right;\">\n",
       "      <th></th>\n",
       "      <th>train_size</th>\n",
       "      <th>y_true</th>\n",
       "      <th>y_pred</th>\n",
       "      <th>accuracy</th>\n",
       "      <th>f1_macro</th>\n",
       "      <th>f1_micro</th>\n",
       "      <th>f1_weighted</th>\n",
       "      <th>kappa</th>\n",
       "    </tr>\n",
       "  </thead>\n",
       "  <tbody>\n",
       "    <tr>\n",
       "      <th>0</th>\n",
       "      <td>15</td>\n",
       "      <td>[0, 0, 0, 0, 0, 1, 1, 1, 1, 1, 1, 0, 1, 0, 0, ...</td>\n",
       "      <td>[0, 0, 0, 0, 1, 0, 0, 1, 0, 0, 0, 0, 0, 0, 0, ...</td>\n",
       "      <td>0.516129</td>\n",
       "      <td>0.481605</td>\n",
       "      <td>0.516129</td>\n",
       "      <td>0.481605</td>\n",
       "      <td>0.032258</td>\n",
       "    </tr>\n",
       "    <tr>\n",
       "      <th>1</th>\n",
       "      <td>15</td>\n",
       "      <td>[0, 0, 0, 1, 1, 0, 0, 1, 0, 1, 1, 0, 1, 1, 1, ...</td>\n",
       "      <td>[0, 0, 1, 0, 1, 0, 0, 1, 1, 1, 1, 1, 1, 0, 1, ...</td>\n",
       "      <td>0.548387</td>\n",
       "      <td>0.546499</td>\n",
       "      <td>0.548387</td>\n",
       "      <td>0.546499</td>\n",
       "      <td>0.096774</td>\n",
       "    </tr>\n",
       "    <tr>\n",
       "      <th>2</th>\n",
       "      <td>15</td>\n",
       "      <td>[1, 1, 1, 1, 0, 0, 0, 0, 1, 1, 1, 1, 1, 1, 1, ...</td>\n",
       "      <td>[1, 0, 0, 0, 0, 1, 0, 0, 0, 1, 0, 0, 0, 1, 0, ...</td>\n",
       "      <td>0.516129</td>\n",
       "      <td>0.481605</td>\n",
       "      <td>0.516129</td>\n",
       "      <td>0.481605</td>\n",
       "      <td>0.032258</td>\n",
       "    </tr>\n",
       "  </tbody>\n",
       "</table>\n",
       "</div>"
      ],
      "text/plain": [
       "   train_size                                             y_true  \\\n",
       "0          15  [0, 0, 0, 0, 0, 1, 1, 1, 1, 1, 1, 0, 1, 0, 0, ...   \n",
       "1          15  [0, 0, 0, 1, 1, 0, 0, 1, 0, 1, 1, 0, 1, 1, 1, ...   \n",
       "2          15  [1, 1, 1, 1, 0, 0, 0, 0, 1, 1, 1, 1, 1, 1, 1, ...   \n",
       "\n",
       "                                              y_pred  accuracy  f1_macro  \\\n",
       "0  [0, 0, 0, 0, 1, 0, 0, 1, 0, 0, 0, 0, 0, 0, 0, ...  0.516129  0.481605   \n",
       "1  [0, 0, 1, 0, 1, 0, 0, 1, 1, 1, 1, 1, 1, 0, 1, ...  0.548387  0.546499   \n",
       "2  [1, 0, 0, 0, 0, 1, 0, 0, 0, 1, 0, 0, 0, 1, 0, ...  0.516129  0.481605   \n",
       "\n",
       "   f1_micro  f1_weighted     kappa  \n",
       "0  0.516129     0.481605  0.032258  \n",
       "1  0.548387     0.546499  0.096774  \n",
       "2  0.516129     0.481605  0.032258  "
      ]
     },
     "execution_count": 46,
     "metadata": {},
     "output_type": "execute_result"
    }
   ],
   "source": [
    "compiled_res_15 = pd.DataFrame(metrics_dict())\n",
    "compiled_res_15.head(3)"
   ]
  },
  {
   "cell_type": "markdown",
   "metadata": {},
   "source": [
    "### training size = 25"
   ]
  },
  {
   "cell_type": "code",
   "execution_count": 47,
   "metadata": {},
   "outputs": [],
   "source": [
    "train_size = 25\n",
    "iterations = 10\n",
    "y_test_all = []\n",
    "y_pred_all = []\n",
    "acc_scores = []\n",
    "f1macro_scores = []\n",
    "f1micro_scores = []\n",
    "f1weighted_scores = []\n",
    "kappa_scores = []"
   ]
  },
  {
   "cell_type": "code",
   "execution_count": 48,
   "metadata": {
    "scrolled": true
   },
   "outputs": [
    {
     "name": "stdout",
     "output_type": "stream",
     "text": [
      "-------------Iteration 1/10\n",
      "25 52\n",
      "random_state = 42\n",
      "Accuracy: 0.5384615384615384\n",
      "F1 macro: 0.4756302521008403\n",
      "F1 micro: 0.5384615384615384\n",
      "F1 weighted: 0.47563025210084037\n",
      "Kappa: 0.07692307692307687\n",
      "-------------Iteration 2/10\n",
      "25 52\n",
      "random_state = 43\n"
     ]
    },
    {
     "name": "stderr",
     "output_type": "stream",
     "text": [
      "[Parallel(n_jobs=1)]: Done  49 tasks      | elapsed:    0.0s\n",
      "[Parallel(n_jobs=1)]: Done 199 tasks      | elapsed:    0.1s\n",
      "[Parallel(n_jobs=1)]: Done  49 tasks      | elapsed:    0.0s\n",
      "[Parallel(n_jobs=1)]: Done 199 tasks      | elapsed:    0.0s\n",
      "[Parallel(n_jobs=1)]: Done  49 tasks      | elapsed:    0.0s\n",
      "[Parallel(n_jobs=1)]: Done 199 tasks      | elapsed:    0.1s\n",
      "[Parallel(n_jobs=1)]: Done  49 tasks      | elapsed:    0.0s\n",
      "[Parallel(n_jobs=1)]: Done 199 tasks      | elapsed:    0.0s\n",
      "[Parallel(n_jobs=1)]: Done  49 tasks      | elapsed:    0.0s\n",
      "[Parallel(n_jobs=1)]: Done 199 tasks      | elapsed:    0.1s\n",
      "[Parallel(n_jobs=1)]: Done  49 tasks      | elapsed:    0.0s\n",
      "[Parallel(n_jobs=1)]: Done 199 tasks      | elapsed:    0.0s\n"
     ]
    },
    {
     "name": "stdout",
     "output_type": "stream",
     "text": [
      "Accuracy: 0.5384615384615384\n",
      "F1 macro: 0.5377777777777778\n",
      "F1 micro: 0.5384615384615384\n",
      "F1 weighted: 0.5377777777777778\n",
      "Kappa: 0.07692307692307687\n",
      "-------------Iteration 3/10\n",
      "25 52\n",
      "random_state = 44\n",
      "Accuracy: 0.4230769230769231\n",
      "F1 macro: 0.41964285714285715\n",
      "F1 micro: 0.4230769230769231\n",
      "F1 weighted: 0.4196428571428571\n",
      "Kappa: -0.15384615384615374\n",
      "-------------Iteration 4/10\n",
      "25 52\n",
      "random_state = 45\n"
     ]
    },
    {
     "name": "stderr",
     "output_type": "stream",
     "text": [
      "[Parallel(n_jobs=1)]: Done  49 tasks      | elapsed:    0.0s\n",
      "[Parallel(n_jobs=1)]: Done 199 tasks      | elapsed:    0.1s\n",
      "[Parallel(n_jobs=1)]: Done  49 tasks      | elapsed:    0.0s\n",
      "[Parallel(n_jobs=1)]: Done 199 tasks      | elapsed:    0.0s\n",
      "[Parallel(n_jobs=1)]: Done  49 tasks      | elapsed:    0.0s\n"
     ]
    },
    {
     "name": "stdout",
     "output_type": "stream",
     "text": [
      "Accuracy: 0.5769230769230769\n",
      "F1 macro: 0.5606758832565284\n",
      "F1 micro: 0.5769230769230769\n",
      "F1 weighted: 0.5606758832565284\n",
      "Kappa: 0.15384615384615385\n",
      "-------------Iteration 5/10\n",
      "25 52\n",
      "random_state = 46\n",
      "Accuracy: 0.5961538461538461\n",
      "F1 macro: 0.5960044395116537\n",
      "F1 micro: 0.5961538461538461\n",
      "F1 weighted: 0.5960044395116537\n",
      "Kappa: 0.1923076923076923\n",
      "-------------Iteration 6/10\n",
      "25 52\n",
      "random_state = 47\n"
     ]
    },
    {
     "name": "stderr",
     "output_type": "stream",
     "text": [
      "[Parallel(n_jobs=1)]: Done 199 tasks      | elapsed:    0.1s\n",
      "[Parallel(n_jobs=1)]: Done  49 tasks      | elapsed:    0.0s\n",
      "[Parallel(n_jobs=1)]: Done 199 tasks      | elapsed:    0.0s\n",
      "[Parallel(n_jobs=1)]: Done  49 tasks      | elapsed:    0.0s\n",
      "[Parallel(n_jobs=1)]: Done 199 tasks      | elapsed:    0.1s\n",
      "[Parallel(n_jobs=1)]: Done  49 tasks      | elapsed:    0.0s\n",
      "[Parallel(n_jobs=1)]: Done 199 tasks      | elapsed:    0.0s\n"
     ]
    },
    {
     "name": "stdout",
     "output_type": "stream",
     "text": [
      "Accuracy: 0.5576923076923077\n",
      "F1 macro: 0.5535647629712579\n",
      "F1 micro: 0.5576923076923077\n",
      "F1 weighted: 0.5535647629712579\n",
      "Kappa: 0.11538461538461542\n",
      "-------------Iteration 7/10\n",
      "25 52\n",
      "random_state = 48\n",
      "Accuracy: 0.46153846153846156\n",
      "F1 macro: 0.45427286356821595\n",
      "F1 micro: 0.46153846153846156\n",
      "F1 weighted: 0.4542728635682159\n",
      "Kappa: -0.07692307692307687\n",
      "-------------Iteration 8/10\n",
      "25 52\n",
      "random_state = 49\n"
     ]
    },
    {
     "name": "stderr",
     "output_type": "stream",
     "text": [
      "[Parallel(n_jobs=1)]: Done  49 tasks      | elapsed:    0.0s\n",
      "[Parallel(n_jobs=1)]: Done 199 tasks      | elapsed:    0.1s\n",
      "[Parallel(n_jobs=1)]: Done  49 tasks      | elapsed:    0.0s\n",
      "[Parallel(n_jobs=1)]: Done 199 tasks      | elapsed:    0.0s\n",
      "[Parallel(n_jobs=1)]: Done  49 tasks      | elapsed:    0.0s\n",
      "[Parallel(n_jobs=1)]: Done 199 tasks      | elapsed:    0.1s\n",
      "[Parallel(n_jobs=1)]: Done  49 tasks      | elapsed:    0.0s\n",
      "[Parallel(n_jobs=1)]: Done 199 tasks      | elapsed:    0.0s\n",
      "[Parallel(n_jobs=1)]: Done  49 tasks      | elapsed:    0.0s\n",
      "[Parallel(n_jobs=1)]: Done 199 tasks      | elapsed:    0.1s\n",
      "[Parallel(n_jobs=1)]: Done  49 tasks      | elapsed:    0.0s\n",
      "[Parallel(n_jobs=1)]: Done 199 tasks      | elapsed:    0.0s\n"
     ]
    },
    {
     "name": "stdout",
     "output_type": "stream",
     "text": [
      "Accuracy: 0.5\n",
      "F1 macro: 0.4932533733133433\n",
      "F1 micro: 0.5\n",
      "F1 weighted: 0.49325337331334335\n",
      "Kappa: 0.0\n",
      "-------------Iteration 9/10\n",
      "25 52\n",
      "random_state = 50\n",
      "Accuracy: 0.5\n",
      "F1 macro: 0.49925925925925924\n",
      "F1 micro: 0.5\n",
      "F1 weighted: 0.49925925925925924\n",
      "Kappa: 0.0\n",
      "-------------Iteration 10/10\n",
      "25 52\n",
      "random_state = 51\n",
      "Accuracy: 0.5576923076923077\n",
      "F1 macro: 0.5535647629712579\n",
      "F1 micro: 0.5576923076923077\n",
      "F1 weighted: 0.5535647629712579\n",
      "Kappa: 0.11538461538461542\n"
     ]
    },
    {
     "name": "stderr",
     "output_type": "stream",
     "text": [
      "[Parallel(n_jobs=1)]: Done  49 tasks      | elapsed:    0.0s\n",
      "[Parallel(n_jobs=1)]: Done 199 tasks      | elapsed:    0.1s\n",
      "[Parallel(n_jobs=1)]: Done  49 tasks      | elapsed:    0.0s\n",
      "[Parallel(n_jobs=1)]: Done 199 tasks      | elapsed:    0.0s\n"
     ]
    }
   ],
   "source": [
    "for n in range(iterations):\n",
    "    print(f\"-------------Iteration {n + 1}/{iterations}\")\n",
    "    random_state=42+n\n",
    "\n",
    "    X_train, y_train, X_test, y_test = prepare_dataset_classification(\n",
    "        df,\n",
    "        random_state=random_state,\n",
    "        train_size=train_size\n",
    "    )\n",
    "    print(f\"random_state = {random_state}\")\n",
    "\n",
    "    y_test, y_pred, acc, f1_macro, f1_micro, f1_weighted, kappa = train_and_evaluate_classifier(\n",
    "        X_train, \n",
    "        y_train, \n",
    "        X_test, \n",
    "        y_test, \n",
    "        random_state=random_state\n",
    "    )\n",
    "    \n",
    "    y_test_all.append(y_test)\n",
    "    y_pred_all.append(y_pred)    \n",
    "    acc_scores.append(acc)\n",
    "    f1macro_scores.append(f1_macro)\n",
    "    f1micro_scores.append(f1_micro)\n",
    "    f1weighted_scores.append(f1_weighted)\n",
    "    kappa_scores.append(kappa)\n",
    "    print(f\"Accuracy: {acc}\")\n",
    "    print(f\"F1 macro: {f1_macro}\")\n",
    "    print(f\"F1 micro: {f1_micro}\")\n",
    "    print(f\"F1 weighted: {f1_weighted}\")\n",
    "    print(f\"Kappa: {kappa}\")"
   ]
  },
  {
   "cell_type": "code",
   "execution_count": 49,
   "metadata": {},
   "outputs": [
    {
     "name": "stdout",
     "output_type": "stream",
     "text": [
      "FINAL REPORT for training size = 25\n",
      "mean accuracy: 0.5249999999999999 +/- 0.050916162672591254\n",
      "mean F1 macro: 0.5143646231872993 +/- 0.05214279535613134\n",
      "mean F1 micro: 0.5249999999999999 +/- 0.050916162672591254\n",
      "mean F1 weighted: 0.5143646231872993 +/- 0.05214279535613134\n",
      "mean Kappa: 0.05000000000000001 +/- 0.10183232534518248\n"
     ]
    }
   ],
   "source": [
    "print(f\"FINAL REPORT for training size = {train_size}\")\n",
    "\n",
    "print(f\"mean accuracy: {np.mean(acc_scores)} +/- {np.std(acc_scores)}\")\n",
    "print(f\"mean F1 macro: {np.mean(f1macro_scores)} +/- {np.std(f1macro_scores)}\")\n",
    "print(f\"mean F1 micro: {np.mean(f1micro_scores)} +/- {np.std(f1micro_scores)}\")\n",
    "print(f\"mean F1 weighted: {np.mean(f1weighted_scores)} +/- {np.std(f1weighted_scores)}\")\n",
    "print(f\"mean Kappa: {np.mean(kappa_scores)} +/- {np.std(kappa_scores)}\")"
   ]
  },
  {
   "cell_type": "code",
   "execution_count": 50,
   "metadata": {},
   "outputs": [
    {
     "data": {
      "text/html": [
       "<div>\n",
       "<style scoped>\n",
       "    .dataframe tbody tr th:only-of-type {\n",
       "        vertical-align: middle;\n",
       "    }\n",
       "\n",
       "    .dataframe tbody tr th {\n",
       "        vertical-align: top;\n",
       "    }\n",
       "\n",
       "    .dataframe thead th {\n",
       "        text-align: right;\n",
       "    }\n",
       "</style>\n",
       "<table border=\"1\" class=\"dataframe\">\n",
       "  <thead>\n",
       "    <tr style=\"text-align: right;\">\n",
       "      <th></th>\n",
       "      <th>train_size</th>\n",
       "      <th>y_true</th>\n",
       "      <th>y_pred</th>\n",
       "      <th>accuracy</th>\n",
       "      <th>f1_macro</th>\n",
       "      <th>f1_micro</th>\n",
       "      <th>f1_weighted</th>\n",
       "      <th>kappa</th>\n",
       "    </tr>\n",
       "  </thead>\n",
       "  <tbody>\n",
       "    <tr>\n",
       "      <th>0</th>\n",
       "      <td>25</td>\n",
       "      <td>[1, 1, 0, 0, 0, 0, 0, 1, 1, 0, 1, 0, 1, 0, 1, ...</td>\n",
       "      <td>[0, 1, 0, 0, 0, 0, 0, 0, 1, 1, 0, 0, 0, 0, 1, ...</td>\n",
       "      <td>0.538462</td>\n",
       "      <td>0.475630</td>\n",
       "      <td>0.538462</td>\n",
       "      <td>0.475630</td>\n",
       "      <td>0.076923</td>\n",
       "    </tr>\n",
       "    <tr>\n",
       "      <th>1</th>\n",
       "      <td>25</td>\n",
       "      <td>[0, 1, 1, 1, 1, 1, 0, 0, 1, 1, 0, 1, 0, 1, 0, ...</td>\n",
       "      <td>[0, 1, 1, 1, 0, 0, 1, 0, 0, 0, 1, 0, 1, 1, 0, ...</td>\n",
       "      <td>0.538462</td>\n",
       "      <td>0.537778</td>\n",
       "      <td>0.538462</td>\n",
       "      <td>0.537778</td>\n",
       "      <td>0.076923</td>\n",
       "    </tr>\n",
       "    <tr>\n",
       "      <th>2</th>\n",
       "      <td>25</td>\n",
       "      <td>[1, 1, 0, 1, 0, 0, 1, 0, 1, 1, 0, 1, 1, 1, 1, ...</td>\n",
       "      <td>[1, 0, 0, 1, 0, 1, 1, 0, 0, 1, 0, 0, 0, 0, 0, ...</td>\n",
       "      <td>0.423077</td>\n",
       "      <td>0.419643</td>\n",
       "      <td>0.423077</td>\n",
       "      <td>0.419643</td>\n",
       "      <td>-0.153846</td>\n",
       "    </tr>\n",
       "  </tbody>\n",
       "</table>\n",
       "</div>"
      ],
      "text/plain": [
       "   train_size                                             y_true  \\\n",
       "0          25  [1, 1, 0, 0, 0, 0, 0, 1, 1, 0, 1, 0, 1, 0, 1, ...   \n",
       "1          25  [0, 1, 1, 1, 1, 1, 0, 0, 1, 1, 0, 1, 0, 1, 0, ...   \n",
       "2          25  [1, 1, 0, 1, 0, 0, 1, 0, 1, 1, 0, 1, 1, 1, 1, ...   \n",
       "\n",
       "                                              y_pred  accuracy  f1_macro  \\\n",
       "0  [0, 1, 0, 0, 0, 0, 0, 0, 1, 1, 0, 0, 0, 0, 1, ...  0.538462  0.475630   \n",
       "1  [0, 1, 1, 1, 0, 0, 1, 0, 0, 0, 1, 0, 1, 1, 0, ...  0.538462  0.537778   \n",
       "2  [1, 0, 0, 1, 0, 1, 1, 0, 0, 1, 0, 0, 0, 0, 0, ...  0.423077  0.419643   \n",
       "\n",
       "   f1_micro  f1_weighted     kappa  \n",
       "0  0.538462     0.475630  0.076923  \n",
       "1  0.538462     0.537778  0.076923  \n",
       "2  0.423077     0.419643 -0.153846  "
      ]
     },
     "execution_count": 50,
     "metadata": {},
     "output_type": "execute_result"
    }
   ],
   "source": [
    "compiled_res_25 = pd.DataFrame(metrics_dict())\n",
    "compiled_res_25.head(3)"
   ]
  },
  {
   "cell_type": "markdown",
   "metadata": {},
   "source": [
    "### training size = 35"
   ]
  },
  {
   "cell_type": "code",
   "execution_count": 51,
   "metadata": {},
   "outputs": [],
   "source": [
    "train_size = 35\n",
    "iterations = 10\n",
    "y_test_all = []\n",
    "y_pred_all = []\n",
    "acc_scores = []\n",
    "f1macro_scores = []\n",
    "f1micro_scores = []\n",
    "f1weighted_scores = []\n",
    "kappa_scores = []"
   ]
  },
  {
   "cell_type": "code",
   "execution_count": 52,
   "metadata": {
    "scrolled": true
   },
   "outputs": [
    {
     "name": "stdout",
     "output_type": "stream",
     "text": [
      "-------------Iteration 1/10\n",
      "35 42\n",
      "random_state = 42\n",
      "Accuracy: 0.5714285714285714\n",
      "F1 macro: 0.5552941176470588\n",
      "F1 micro: 0.5714285714285714\n",
      "F1 weighted: 0.5552941176470588\n",
      "Kappa: 0.1428571428571429\n",
      "-------------Iteration 2/10\n",
      "35 42\n",
      "random_state = 43\n"
     ]
    },
    {
     "name": "stderr",
     "output_type": "stream",
     "text": [
      "[Parallel(n_jobs=1)]: Done  49 tasks      | elapsed:    0.0s\n",
      "[Parallel(n_jobs=1)]: Done 199 tasks      | elapsed:    0.1s\n",
      "[Parallel(n_jobs=1)]: Done  49 tasks      | elapsed:    0.0s\n",
      "[Parallel(n_jobs=1)]: Done 199 tasks      | elapsed:    0.0s\n",
      "[Parallel(n_jobs=1)]: Done  49 tasks      | elapsed:    0.0s\n",
      "[Parallel(n_jobs=1)]: Done 199 tasks      | elapsed:    0.1s\n",
      "[Parallel(n_jobs=1)]: Done  49 tasks      | elapsed:    0.0s\n",
      "[Parallel(n_jobs=1)]: Done 199 tasks      | elapsed:    0.0s\n",
      "[Parallel(n_jobs=1)]: Done  49 tasks      | elapsed:    0.0s\n",
      "[Parallel(n_jobs=1)]: Done 199 tasks      | elapsed:    0.1s\n",
      "[Parallel(n_jobs=1)]: Done  49 tasks      | elapsed:    0.0s\n",
      "[Parallel(n_jobs=1)]: Done 199 tasks      | elapsed:    0.0s\n"
     ]
    },
    {
     "name": "stdout",
     "output_type": "stream",
     "text": [
      "Accuracy: 0.5238095238095238\n",
      "F1 macro: 0.5194508009153318\n",
      "F1 micro: 0.5238095238095238\n",
      "F1 weighted: 0.5194508009153318\n",
      "Kappa: 0.04761904761904767\n",
      "-------------Iteration 3/10\n",
      "35 42\n",
      "random_state = 44\n",
      "Accuracy: 0.5476190476190477\n",
      "F1 macro: 0.5411155836687751\n",
      "F1 micro: 0.5476190476190477\n",
      "F1 weighted: 0.5411155836687752\n",
      "Kappa: 0.09523809523809523\n",
      "-------------Iteration 4/10\n",
      "35 42\n",
      "random_state = 45\n"
     ]
    },
    {
     "name": "stderr",
     "output_type": "stream",
     "text": [
      "[Parallel(n_jobs=1)]: Done  49 tasks      | elapsed:    0.0s\n",
      "[Parallel(n_jobs=1)]: Done 199 tasks      | elapsed:    0.1s\n",
      "[Parallel(n_jobs=1)]: Done  49 tasks      | elapsed:    0.0s\n",
      "[Parallel(n_jobs=1)]: Done 199 tasks      | elapsed:    0.0s\n",
      "[Parallel(n_jobs=1)]: Done  49 tasks      | elapsed:    0.0s\n"
     ]
    },
    {
     "name": "stdout",
     "output_type": "stream",
     "text": [
      "Accuracy: 0.6666666666666666\n",
      "F1 macro: 0.6541176470588235\n",
      "F1 micro: 0.6666666666666666\n",
      "F1 weighted: 0.6541176470588235\n",
      "Kappa: 0.33333333333333337\n",
      "-------------Iteration 5/10\n",
      "35 42\n",
      "random_state = 46\n",
      "Accuracy: 0.6666666666666666\n",
      "F1 macro: 0.6666666666666666\n",
      "F1 micro: 0.6666666666666666\n",
      "F1 weighted: 0.6666666666666666\n",
      "Kappa: 0.33333333333333337\n",
      "-------------Iteration 6/10\n",
      "35 42\n",
      "random_state = 47\n"
     ]
    },
    {
     "name": "stderr",
     "output_type": "stream",
     "text": [
      "[Parallel(n_jobs=1)]: Done 199 tasks      | elapsed:    0.1s\n",
      "[Parallel(n_jobs=1)]: Done  49 tasks      | elapsed:    0.0s\n",
      "[Parallel(n_jobs=1)]: Done 199 tasks      | elapsed:    0.0s\n",
      "[Parallel(n_jobs=1)]: Done  49 tasks      | elapsed:    0.0s\n",
      "[Parallel(n_jobs=1)]: Done 199 tasks      | elapsed:    0.1s\n",
      "[Parallel(n_jobs=1)]: Done  49 tasks      | elapsed:    0.0s\n",
      "[Parallel(n_jobs=1)]: Done 199 tasks      | elapsed:    0.0s\n"
     ]
    },
    {
     "name": "stdout",
     "output_type": "stream",
     "text": [
      "Accuracy: 0.5\n",
      "F1 macro: 0.49743589743589745\n",
      "F1 micro: 0.5\n",
      "F1 weighted: 0.49743589743589745\n",
      "Kappa: 0.0\n",
      "-------------Iteration 7/10\n",
      "35 42\n",
      "random_state = 48\n",
      "Accuracy: 0.6190476190476191\n",
      "F1 macro: 0.6047058823529412\n",
      "F1 micro: 0.6190476190476191\n",
      "F1 weighted: 0.6047058823529412\n",
      "Kappa: 0.23809523809523814\n",
      "-------------Iteration 8/10\n",
      "35 42\n",
      "random_state = 49\n"
     ]
    },
    {
     "name": "stderr",
     "output_type": "stream",
     "text": [
      "[Parallel(n_jobs=1)]: Done  49 tasks      | elapsed:    0.0s\n",
      "[Parallel(n_jobs=1)]: Done 199 tasks      | elapsed:    0.1s\n",
      "[Parallel(n_jobs=1)]: Done  49 tasks      | elapsed:    0.0s\n",
      "[Parallel(n_jobs=1)]: Done 199 tasks      | elapsed:    0.0s\n",
      "[Parallel(n_jobs=1)]: Done  49 tasks      | elapsed:    0.0s\n",
      "[Parallel(n_jobs=1)]: Done 199 tasks      | elapsed:    0.1s\n",
      "[Parallel(n_jobs=1)]: Done  49 tasks      | elapsed:    0.0s\n",
      "[Parallel(n_jobs=1)]: Done 199 tasks      | elapsed:    0.0s\n",
      "[Parallel(n_jobs=1)]: Done  49 tasks      | elapsed:    0.0s\n",
      "[Parallel(n_jobs=1)]: Done 199 tasks      | elapsed:    0.1s\n",
      "[Parallel(n_jobs=1)]: Done  49 tasks      | elapsed:    0.0s\n",
      "[Parallel(n_jobs=1)]: Done 199 tasks      | elapsed:    0.0s\n"
     ]
    },
    {
     "name": "stdout",
     "output_type": "stream",
     "text": [
      "Accuracy: 0.4523809523809524\n",
      "F1 macro: 0.44957264957264953\n",
      "F1 micro: 0.4523809523809524\n",
      "F1 weighted: 0.4495726495726495\n",
      "Kappa: -0.09523809523809534\n",
      "-------------Iteration 9/10\n",
      "35 42\n",
      "random_state = 50\n",
      "Accuracy: 0.6190476190476191\n",
      "F1 macro: 0.6155606407322655\n",
      "F1 micro: 0.6190476190476191\n",
      "F1 weighted: 0.6155606407322655\n",
      "Kappa: 0.23809523809523814\n",
      "-------------Iteration 10/10\n",
      "35 42\n",
      "random_state = 51\n",
      "Accuracy: 0.6190476190476191\n",
      "F1 macro: 0.6111111111111112\n",
      "F1 micro: 0.6190476190476191\n",
      "F1 weighted: 0.6111111111111112\n",
      "Kappa: 0.23809523809523814\n"
     ]
    },
    {
     "name": "stderr",
     "output_type": "stream",
     "text": [
      "[Parallel(n_jobs=1)]: Done  49 tasks      | elapsed:    0.0s\n",
      "[Parallel(n_jobs=1)]: Done 199 tasks      | elapsed:    0.1s\n",
      "[Parallel(n_jobs=1)]: Done  49 tasks      | elapsed:    0.0s\n",
      "[Parallel(n_jobs=1)]: Done 199 tasks      | elapsed:    0.0s\n"
     ]
    }
   ],
   "source": [
    "for n in range(iterations):\n",
    "    print(f\"-------------Iteration {n + 1}/{iterations}\")\n",
    "    random_state=42+n\n",
    "\n",
    "    X_train, y_train, X_test, y_test = prepare_dataset_classification(\n",
    "        df,\n",
    "        random_state=random_state,\n",
    "        train_size=train_size\n",
    "    )\n",
    "    print(f\"random_state = {random_state}\")\n",
    "\n",
    "    y_test, y_pred, acc, f1_macro, f1_micro, f1_weighted, kappa = train_and_evaluate_classifier(\n",
    "        X_train, \n",
    "        y_train, \n",
    "        X_test, \n",
    "        y_test, \n",
    "        random_state=random_state\n",
    "    )\n",
    "    \n",
    "    y_test_all.append(y_test)\n",
    "    y_pred_all.append(y_pred)    \n",
    "    acc_scores.append(acc)\n",
    "    f1macro_scores.append(f1_macro)\n",
    "    f1micro_scores.append(f1_micro)\n",
    "    f1weighted_scores.append(f1_weighted)\n",
    "    kappa_scores.append(kappa)\n",
    "    print(f\"Accuracy: {acc}\")\n",
    "    print(f\"F1 macro: {f1_macro}\")\n",
    "    print(f\"F1 micro: {f1_micro}\")\n",
    "    print(f\"F1 weighted: {f1_weighted}\")\n",
    "    print(f\"Kappa: {kappa}\")"
   ]
  },
  {
   "cell_type": "code",
   "execution_count": 53,
   "metadata": {},
   "outputs": [
    {
     "name": "stdout",
     "output_type": "stream",
     "text": [
      "FINAL REPORT for training size = 35\n",
      "mean accuracy: 0.5785714285714285 +/- 0.06822166086616381\n",
      "mean F1 macro: 0.571503099716152 +/- 0.06688954577269314\n",
      "mean F1 micro: 0.5785714285714285 +/- 0.06822166086616381\n",
      "mean F1 weighted: 0.571503099716152 +/- 0.06688954577269315\n",
      "mean Kappa: 0.15714285714285717 +/- 0.13644332173232768\n"
     ]
    }
   ],
   "source": [
    "print(f\"FINAL REPORT for training size = {train_size}\")\n",
    "\n",
    "print(f\"mean accuracy: {np.mean(acc_scores)} +/- {np.std(acc_scores)}\")\n",
    "print(f\"mean F1 macro: {np.mean(f1macro_scores)} +/- {np.std(f1macro_scores)}\")\n",
    "print(f\"mean F1 micro: {np.mean(f1micro_scores)} +/- {np.std(f1micro_scores)}\")\n",
    "print(f\"mean F1 weighted: {np.mean(f1weighted_scores)} +/- {np.std(f1weighted_scores)}\")\n",
    "print(f\"mean Kappa: {np.mean(kappa_scores)} +/- {np.std(kappa_scores)}\")"
   ]
  },
  {
   "cell_type": "code",
   "execution_count": 54,
   "metadata": {},
   "outputs": [
    {
     "data": {
      "text/html": [
       "<div>\n",
       "<style scoped>\n",
       "    .dataframe tbody tr th:only-of-type {\n",
       "        vertical-align: middle;\n",
       "    }\n",
       "\n",
       "    .dataframe tbody tr th {\n",
       "        vertical-align: top;\n",
       "    }\n",
       "\n",
       "    .dataframe thead th {\n",
       "        text-align: right;\n",
       "    }\n",
       "</style>\n",
       "<table border=\"1\" class=\"dataframe\">\n",
       "  <thead>\n",
       "    <tr style=\"text-align: right;\">\n",
       "      <th></th>\n",
       "      <th>train_size</th>\n",
       "      <th>y_true</th>\n",
       "      <th>y_pred</th>\n",
       "      <th>accuracy</th>\n",
       "      <th>f1_macro</th>\n",
       "      <th>f1_micro</th>\n",
       "      <th>f1_weighted</th>\n",
       "      <th>kappa</th>\n",
       "    </tr>\n",
       "  </thead>\n",
       "  <tbody>\n",
       "    <tr>\n",
       "      <th>0</th>\n",
       "      <td>35</td>\n",
       "      <td>[0, 0, 0, 0, 0, 1, 1, 1, 0, 1, 0, 0, 1, 0, 0, ...</td>\n",
       "      <td>[0, 0, 0, 0, 1, 0, 0, 1, 1, 1, 0, 0, 0, 0, 0, ...</td>\n",
       "      <td>0.571429</td>\n",
       "      <td>0.555294</td>\n",
       "      <td>0.571429</td>\n",
       "      <td>0.555294</td>\n",
       "      <td>0.142857</td>\n",
       "    </tr>\n",
       "    <tr>\n",
       "      <th>1</th>\n",
       "      <td>35</td>\n",
       "      <td>[0, 1, 1, 1, 1, 1, 0, 0, 1, 1, 0, 1, 0, 1, 0, ...</td>\n",
       "      <td>[1, 1, 0, 0, 1, 1, 1, 0, 1, 0, 0, 0, 0, 0, 0, ...</td>\n",
       "      <td>0.523810</td>\n",
       "      <td>0.519451</td>\n",
       "      <td>0.523810</td>\n",
       "      <td>0.519451</td>\n",
       "      <td>0.047619</td>\n",
       "    </tr>\n",
       "    <tr>\n",
       "      <th>2</th>\n",
       "      <td>35</td>\n",
       "      <td>[0, 0, 1, 0, 1, 1, 1, 0, 1, 1, 1, 1, 0, 1, 1, ...</td>\n",
       "      <td>[0, 0, 0, 1, 0, 0, 0, 1, 0, 0, 1, 1, 1, 0, 1, ...</td>\n",
       "      <td>0.547619</td>\n",
       "      <td>0.541116</td>\n",
       "      <td>0.547619</td>\n",
       "      <td>0.541116</td>\n",
       "      <td>0.095238</td>\n",
       "    </tr>\n",
       "  </tbody>\n",
       "</table>\n",
       "</div>"
      ],
      "text/plain": [
       "   train_size                                             y_true  \\\n",
       "0          35  [0, 0, 0, 0, 0, 1, 1, 1, 0, 1, 0, 0, 1, 0, 0, ...   \n",
       "1          35  [0, 1, 1, 1, 1, 1, 0, 0, 1, 1, 0, 1, 0, 1, 0, ...   \n",
       "2          35  [0, 0, 1, 0, 1, 1, 1, 0, 1, 1, 1, 1, 0, 1, 1, ...   \n",
       "\n",
       "                                              y_pred  accuracy  f1_macro  \\\n",
       "0  [0, 0, 0, 0, 1, 0, 0, 1, 1, 1, 0, 0, 0, 0, 0, ...  0.571429  0.555294   \n",
       "1  [1, 1, 0, 0, 1, 1, 1, 0, 1, 0, 0, 0, 0, 0, 0, ...  0.523810  0.519451   \n",
       "2  [0, 0, 0, 1, 0, 0, 0, 1, 0, 0, 1, 1, 1, 0, 1, ...  0.547619  0.541116   \n",
       "\n",
       "   f1_micro  f1_weighted     kappa  \n",
       "0  0.571429     0.555294  0.142857  \n",
       "1  0.523810     0.519451  0.047619  \n",
       "2  0.547619     0.541116  0.095238  "
      ]
     },
     "execution_count": 54,
     "metadata": {},
     "output_type": "execute_result"
    }
   ],
   "source": [
    "compiled_res_35 = pd.DataFrame(metrics_dict())\n",
    "compiled_res_35.head(3)"
   ]
  },
  {
   "cell_type": "markdown",
   "metadata": {},
   "source": [
    "### training size = 45"
   ]
  },
  {
   "cell_type": "code",
   "execution_count": 55,
   "metadata": {},
   "outputs": [],
   "source": [
    "train_size = 45\n",
    "iterations = 10\n",
    "y_test_all = []\n",
    "y_pred_all = []\n",
    "acc_scores = []\n",
    "f1macro_scores = []\n",
    "f1micro_scores = []\n",
    "f1weighted_scores = []\n",
    "kappa_scores = []"
   ]
  },
  {
   "cell_type": "code",
   "execution_count": 56,
   "metadata": {
    "scrolled": true
   },
   "outputs": [
    {
     "name": "stdout",
     "output_type": "stream",
     "text": [
      "-------------Iteration 1/10\n",
      "45 32\n",
      "random_state = 42\n",
      "Accuracy: 0.625\n",
      "F1 macro: 0.611336032388664\n",
      "F1 micro: 0.625\n",
      "F1 weighted: 0.611336032388664\n",
      "Kappa: 0.25\n",
      "-------------Iteration 2/10\n",
      "45 32\n",
      "random_state = 43\n"
     ]
    },
    {
     "name": "stderr",
     "output_type": "stream",
     "text": [
      "[Parallel(n_jobs=1)]: Done  49 tasks      | elapsed:    0.0s\n",
      "[Parallel(n_jobs=1)]: Done 199 tasks      | elapsed:    0.1s\n",
      "[Parallel(n_jobs=1)]: Done  49 tasks      | elapsed:    0.0s\n",
      "[Parallel(n_jobs=1)]: Done 199 tasks      | elapsed:    0.0s\n",
      "[Parallel(n_jobs=1)]: Done  49 tasks      | elapsed:    0.0s\n",
      "[Parallel(n_jobs=1)]: Done 199 tasks      | elapsed:    0.1s\n",
      "[Parallel(n_jobs=1)]: Done  49 tasks      | elapsed:    0.0s\n",
      "[Parallel(n_jobs=1)]: Done 199 tasks      | elapsed:    0.0s\n",
      "[Parallel(n_jobs=1)]: Done  49 tasks      | elapsed:    0.0s\n",
      "[Parallel(n_jobs=1)]: Done 199 tasks      | elapsed:    0.1s\n",
      "[Parallel(n_jobs=1)]: Done  49 tasks      | elapsed:    0.0s\n",
      "[Parallel(n_jobs=1)]: Done 199 tasks      | elapsed:    0.0s\n"
     ]
    },
    {
     "name": "stdout",
     "output_type": "stream",
     "text": [
      "Accuracy: 0.46875\n",
      "F1 macro: 0.45545545545545546\n",
      "F1 micro: 0.46875\n",
      "F1 weighted: 0.45545545545545546\n",
      "Kappa: -0.0625\n",
      "-------------Iteration 3/10\n",
      "45 32\n",
      "random_state = 44\n",
      "Accuracy: 0.53125\n",
      "F1 macro: 0.5195195195195195\n",
      "F1 micro: 0.53125\n",
      "F1 weighted: 0.5195195195195195\n",
      "Kappa: 0.0625\n",
      "-------------Iteration 4/10\n",
      "45 32\n",
      "random_state = 45\n"
     ]
    },
    {
     "name": "stderr",
     "output_type": "stream",
     "text": [
      "[Parallel(n_jobs=1)]: Done  49 tasks      | elapsed:    0.0s\n",
      "[Parallel(n_jobs=1)]: Done 199 tasks      | elapsed:    0.1s\n",
      "[Parallel(n_jobs=1)]: Done  49 tasks      | elapsed:    0.0s\n",
      "[Parallel(n_jobs=1)]: Done 199 tasks      | elapsed:    0.0s\n",
      "[Parallel(n_jobs=1)]: Done  49 tasks      | elapsed:    0.0s\n"
     ]
    },
    {
     "name": "stdout",
     "output_type": "stream",
     "text": [
      "Accuracy: 0.59375\n",
      "F1 macro: 0.5588547189819725\n",
      "F1 micro: 0.59375\n",
      "F1 weighted: 0.5588547189819725\n",
      "Kappa: 0.1875\n",
      "-------------Iteration 5/10\n",
      "45 32\n",
      "random_state = 46\n",
      "Accuracy: 0.6875\n",
      "F1 macro: 0.6825396825396826\n",
      "F1 micro: 0.6875\n",
      "F1 weighted: 0.6825396825396826\n",
      "Kappa: 0.375\n",
      "-------------Iteration 6/10\n",
      "45 32\n",
      "random_state = 47\n"
     ]
    },
    {
     "name": "stderr",
     "output_type": "stream",
     "text": [
      "[Parallel(n_jobs=1)]: Done 199 tasks      | elapsed:    0.1s\n",
      "[Parallel(n_jobs=1)]: Done  49 tasks      | elapsed:    0.0s\n",
      "[Parallel(n_jobs=1)]: Done 199 tasks      | elapsed:    0.0s\n",
      "[Parallel(n_jobs=1)]: Done  49 tasks      | elapsed:    0.0s\n",
      "[Parallel(n_jobs=1)]: Done 199 tasks      | elapsed:    0.1s\n",
      "[Parallel(n_jobs=1)]: Done  49 tasks      | elapsed:    0.0s\n",
      "[Parallel(n_jobs=1)]: Done 199 tasks      | elapsed:    0.0s\n"
     ]
    },
    {
     "name": "stdout",
     "output_type": "stream",
     "text": [
      "Accuracy: 0.59375\n",
      "F1 macro: 0.5733333333333333\n",
      "F1 micro: 0.59375\n",
      "F1 weighted: 0.5733333333333333\n",
      "Kappa: 0.1875\n",
      "-------------Iteration 7/10\n",
      "45 32\n",
      "random_state = 48\n",
      "Accuracy: 0.5625\n",
      "F1 macro: 0.5465587044534412\n",
      "F1 micro: 0.5625\n",
      "F1 weighted: 0.5465587044534412\n",
      "Kappa: 0.125\n",
      "-------------Iteration 8/10\n",
      "45 32\n",
      "random_state = 49\n"
     ]
    },
    {
     "name": "stderr",
     "output_type": "stream",
     "text": [
      "[Parallel(n_jobs=1)]: Done  49 tasks      | elapsed:    0.0s\n",
      "[Parallel(n_jobs=1)]: Done 199 tasks      | elapsed:    0.1s\n",
      "[Parallel(n_jobs=1)]: Done  49 tasks      | elapsed:    0.0s\n",
      "[Parallel(n_jobs=1)]: Done 199 tasks      | elapsed:    0.0s\n",
      "[Parallel(n_jobs=1)]: Done  49 tasks      | elapsed:    0.0s\n",
      "[Parallel(n_jobs=1)]: Done 199 tasks      | elapsed:    0.1s\n",
      "[Parallel(n_jobs=1)]: Done  49 tasks      | elapsed:    0.0s\n",
      "[Parallel(n_jobs=1)]: Done 199 tasks      | elapsed:    0.0s\n",
      "[Parallel(n_jobs=1)]: Done  49 tasks      | elapsed:    0.0s\n",
      "[Parallel(n_jobs=1)]: Done 199 tasks      | elapsed:    0.1s\n",
      "[Parallel(n_jobs=1)]: Done  49 tasks      | elapsed:    0.0s\n",
      "[Parallel(n_jobs=1)]: Done 199 tasks      | elapsed:    0.0s\n"
     ]
    },
    {
     "name": "stdout",
     "output_type": "stream",
     "text": [
      "Accuracy: 0.5\n",
      "F1 macro: 0.4458874458874459\n",
      "F1 micro: 0.5\n",
      "F1 weighted: 0.4458874458874459\n",
      "Kappa: 0.0\n",
      "-------------Iteration 9/10\n",
      "45 32\n",
      "random_state = 50\n",
      "Accuracy: 0.71875\n",
      "F1 macro: 0.7117117117117118\n",
      "F1 micro: 0.71875\n",
      "F1 weighted: 0.7117117117117118\n",
      "Kappa: 0.4375\n",
      "-------------Iteration 10/10\n",
      "45 32\n",
      "random_state = 51\n",
      "Accuracy: 0.5\n",
      "F1 macro: 0.4980392156862745\n",
      "F1 micro: 0.5\n",
      "F1 weighted: 0.4980392156862745\n",
      "Kappa: 0.0\n"
     ]
    },
    {
     "name": "stderr",
     "output_type": "stream",
     "text": [
      "[Parallel(n_jobs=1)]: Done  49 tasks      | elapsed:    0.0s\n",
      "[Parallel(n_jobs=1)]: Done 199 tasks      | elapsed:    0.1s\n",
      "[Parallel(n_jobs=1)]: Done  49 tasks      | elapsed:    0.0s\n",
      "[Parallel(n_jobs=1)]: Done 199 tasks      | elapsed:    0.0s\n"
     ]
    }
   ],
   "source": [
    "for n in range(iterations):\n",
    "    print(f\"-------------Iteration {n + 1}/{iterations}\")\n",
    "    random_state=42+n\n",
    "\n",
    "    X_train, y_train, X_test, y_test = prepare_dataset_classification(\n",
    "        df,\n",
    "        random_state=random_state,\n",
    "        train_size=train_size\n",
    "    )\n",
    "    print(f\"random_state = {random_state}\")\n",
    "\n",
    "    y_test, y_pred, acc, f1_macro, f1_micro, f1_weighted, kappa = train_and_evaluate_classifier(\n",
    "        X_train, \n",
    "        y_train, \n",
    "        X_test, \n",
    "        y_test, \n",
    "        random_state=random_state\n",
    "    )\n",
    "    \n",
    "    y_test_all.append(y_test)\n",
    "    y_pred_all.append(y_pred)    \n",
    "    acc_scores.append(acc)\n",
    "    f1macro_scores.append(f1_macro)\n",
    "    f1micro_scores.append(f1_micro)\n",
    "    f1weighted_scores.append(f1_weighted)\n",
    "    kappa_scores.append(kappa)\n",
    "    print(f\"Accuracy: {acc}\")\n",
    "    print(f\"F1 macro: {f1_macro}\")\n",
    "    print(f\"F1 micro: {f1_micro}\")\n",
    "    print(f\"F1 weighted: {f1_weighted}\")\n",
    "    print(f\"Kappa: {kappa}\")"
   ]
  },
  {
   "cell_type": "code",
   "execution_count": 57,
   "metadata": {},
   "outputs": [
    {
     "name": "stdout",
     "output_type": "stream",
     "text": [
      "FINAL REPORT for training size = 45\n",
      "mean accuracy: 0.578125 +/- 0.078125\n",
      "mean F1 macro: 0.5603235819957502 +/- 0.08393781102752879\n",
      "mean F1 micro: 0.578125 +/- 0.078125\n",
      "mean F1 weighted: 0.5603235819957502 +/- 0.08393781102752879\n",
      "mean Kappa: 0.15625 +/- 0.15625\n"
     ]
    }
   ],
   "source": [
    "print(f\"FINAL REPORT for training size = {train_size}\")\n",
    "\n",
    "print(f\"mean accuracy: {np.mean(acc_scores)} +/- {np.std(acc_scores)}\")\n",
    "print(f\"mean F1 macro: {np.mean(f1macro_scores)} +/- {np.std(f1macro_scores)}\")\n",
    "print(f\"mean F1 micro: {np.mean(f1micro_scores)} +/- {np.std(f1micro_scores)}\")\n",
    "print(f\"mean F1 weighted: {np.mean(f1weighted_scores)} +/- {np.std(f1weighted_scores)}\")\n",
    "print(f\"mean Kappa: {np.mean(kappa_scores)} +/- {np.std(kappa_scores)}\")"
   ]
  },
  {
   "cell_type": "code",
   "execution_count": 58,
   "metadata": {},
   "outputs": [
    {
     "data": {
      "text/html": [
       "<div>\n",
       "<style scoped>\n",
       "    .dataframe tbody tr th:only-of-type {\n",
       "        vertical-align: middle;\n",
       "    }\n",
       "\n",
       "    .dataframe tbody tr th {\n",
       "        vertical-align: top;\n",
       "    }\n",
       "\n",
       "    .dataframe thead th {\n",
       "        text-align: right;\n",
       "    }\n",
       "</style>\n",
       "<table border=\"1\" class=\"dataframe\">\n",
       "  <thead>\n",
       "    <tr style=\"text-align: right;\">\n",
       "      <th></th>\n",
       "      <th>train_size</th>\n",
       "      <th>y_true</th>\n",
       "      <th>y_pred</th>\n",
       "      <th>accuracy</th>\n",
       "      <th>f1_macro</th>\n",
       "      <th>f1_micro</th>\n",
       "      <th>f1_weighted</th>\n",
       "      <th>kappa</th>\n",
       "    </tr>\n",
       "  </thead>\n",
       "  <tbody>\n",
       "    <tr>\n",
       "      <th>0</th>\n",
       "      <td>45</td>\n",
       "      <td>[1, 1, 0, 0, 0, 1, 1, 1, 1, 0, 0, 0, 0, 0, 1, ...</td>\n",
       "      <td>[1, 0, 0, 0, 0, 1, 0, 1, 1, 0, 0, 0, 0, 0, 0, ...</td>\n",
       "      <td>0.62500</td>\n",
       "      <td>0.611336</td>\n",
       "      <td>0.62500</td>\n",
       "      <td>0.611336</td>\n",
       "      <td>0.2500</td>\n",
       "    </tr>\n",
       "    <tr>\n",
       "      <th>1</th>\n",
       "      <td>45</td>\n",
       "      <td>[0, 0, 0, 0, 0, 1, 1, 0, 1, 1, 0, 1, 1, 0, 0, ...</td>\n",
       "      <td>[0, 0, 1, 0, 1, 0, 0, 0, 0, 0, 0, 0, 1, 0, 0, ...</td>\n",
       "      <td>0.46875</td>\n",
       "      <td>0.455455</td>\n",
       "      <td>0.46875</td>\n",
       "      <td>0.455455</td>\n",
       "      <td>-0.0625</td>\n",
       "    </tr>\n",
       "    <tr>\n",
       "      <th>2</th>\n",
       "      <td>45</td>\n",
       "      <td>[1, 0, 1, 1, 0, 0, 1, 0, 1, 0, 0, 0, 1, 1, 1, ...</td>\n",
       "      <td>[1, 1, 0, 1, 0, 0, 0, 1, 0, 1, 1, 0, 0, 1, 0, ...</td>\n",
       "      <td>0.53125</td>\n",
       "      <td>0.519520</td>\n",
       "      <td>0.53125</td>\n",
       "      <td>0.519520</td>\n",
       "      <td>0.0625</td>\n",
       "    </tr>\n",
       "  </tbody>\n",
       "</table>\n",
       "</div>"
      ],
      "text/plain": [
       "   train_size                                             y_true  \\\n",
       "0          45  [1, 1, 0, 0, 0, 1, 1, 1, 1, 0, 0, 0, 0, 0, 1, ...   \n",
       "1          45  [0, 0, 0, 0, 0, 1, 1, 0, 1, 1, 0, 1, 1, 0, 0, ...   \n",
       "2          45  [1, 0, 1, 1, 0, 0, 1, 0, 1, 0, 0, 0, 1, 1, 1, ...   \n",
       "\n",
       "                                              y_pred  accuracy  f1_macro  \\\n",
       "0  [1, 0, 0, 0, 0, 1, 0, 1, 1, 0, 0, 0, 0, 0, 0, ...   0.62500  0.611336   \n",
       "1  [0, 0, 1, 0, 1, 0, 0, 0, 0, 0, 0, 0, 1, 0, 0, ...   0.46875  0.455455   \n",
       "2  [1, 1, 0, 1, 0, 0, 0, 1, 0, 1, 1, 0, 0, 1, 0, ...   0.53125  0.519520   \n",
       "\n",
       "   f1_micro  f1_weighted   kappa  \n",
       "0   0.62500     0.611336  0.2500  \n",
       "1   0.46875     0.455455 -0.0625  \n",
       "2   0.53125     0.519520  0.0625  "
      ]
     },
     "execution_count": 58,
     "metadata": {},
     "output_type": "execute_result"
    }
   ],
   "source": [
    "compiled_res_45 = pd.DataFrame(metrics_dict())\n",
    "compiled_res_45.head(3)"
   ]
  },
  {
   "cell_type": "markdown",
   "metadata": {},
   "source": [
    "### training size = 55"
   ]
  },
  {
   "cell_type": "code",
   "execution_count": 59,
   "metadata": {},
   "outputs": [],
   "source": [
    "train_size = 55\n",
    "iterations = 10\n",
    "y_test_all = []\n",
    "y_pred_all = []\n",
    "acc_scores = []\n",
    "f1macro_scores = []\n",
    "f1micro_scores = []\n",
    "f1weighted_scores = []\n",
    "kappa_scores = []"
   ]
  },
  {
   "cell_type": "code",
   "execution_count": 60,
   "metadata": {
    "scrolled": true
   },
   "outputs": [
    {
     "name": "stdout",
     "output_type": "stream",
     "text": [
      "-------------Iteration 1/10\n",
      "55 22\n",
      "random_state = 42\n",
      "Accuracy: 0.6363636363636364\n",
      "F1 macro: 0.6239316239316239\n",
      "F1 micro: 0.6363636363636364\n",
      "F1 weighted: 0.6239316239316239\n",
      "Kappa: 0.2727272727272727\n",
      "-------------Iteration 2/10\n",
      "55 22\n",
      "random_state = 43\n"
     ]
    },
    {
     "name": "stderr",
     "output_type": "stream",
     "text": [
      "[Parallel(n_jobs=1)]: Done  49 tasks      | elapsed:    0.0s\n",
      "[Parallel(n_jobs=1)]: Done 199 tasks      | elapsed:    0.1s\n",
      "[Parallel(n_jobs=1)]: Done  49 tasks      | elapsed:    0.0s\n",
      "[Parallel(n_jobs=1)]: Done 199 tasks      | elapsed:    0.0s\n",
      "[Parallel(n_jobs=1)]: Done  49 tasks      | elapsed:    0.0s\n",
      "[Parallel(n_jobs=1)]: Done 199 tasks      | elapsed:    0.1s\n",
      "[Parallel(n_jobs=1)]: Done  49 tasks      | elapsed:    0.0s\n",
      "[Parallel(n_jobs=1)]: Done 199 tasks      | elapsed:    0.0s\n",
      "[Parallel(n_jobs=1)]: Done  49 tasks      | elapsed:    0.0s\n",
      "[Parallel(n_jobs=1)]: Done 199 tasks      | elapsed:    0.1s\n",
      "[Parallel(n_jobs=1)]: Done  49 tasks      | elapsed:    0.0s\n",
      "[Parallel(n_jobs=1)]: Done 199 tasks      | elapsed:    0.0s\n"
     ]
    },
    {
     "name": "stdout",
     "output_type": "stream",
     "text": [
      "Accuracy: 0.5\n",
      "F1 macro: 0.4905263157894737\n",
      "F1 micro: 0.5\n",
      "F1 weighted: 0.4905263157894737\n",
      "Kappa: 0.0\n",
      "-------------Iteration 3/10\n",
      "55 22\n",
      "random_state = 44\n",
      "Accuracy: 0.5454545454545454\n",
      "F1 macro: 0.5416666666666667\n",
      "F1 micro: 0.5454545454545454\n",
      "F1 weighted: 0.5416666666666667\n",
      "Kappa: 0.09090909090909094\n",
      "-------------Iteration 4/10\n",
      "55 22\n",
      "random_state = 45\n"
     ]
    },
    {
     "name": "stderr",
     "output_type": "stream",
     "text": [
      "[Parallel(n_jobs=1)]: Done  49 tasks      | elapsed:    0.0s\n",
      "[Parallel(n_jobs=1)]: Done 199 tasks      | elapsed:    0.1s\n",
      "[Parallel(n_jobs=1)]: Done  49 tasks      | elapsed:    0.0s\n",
      "[Parallel(n_jobs=1)]: Done 199 tasks      | elapsed:    0.0s\n",
      "[Parallel(n_jobs=1)]: Done  49 tasks      | elapsed:    0.0s\n"
     ]
    },
    {
     "name": "stdout",
     "output_type": "stream",
     "text": [
      "Accuracy: 0.7272727272727273\n",
      "F1 macro: 0.717948717948718\n",
      "F1 micro: 0.7272727272727273\n",
      "F1 weighted: 0.717948717948718\n",
      "Kappa: 0.4545454545454546\n",
      "-------------Iteration 5/10\n",
      "55 22\n",
      "random_state = 46\n",
      "Accuracy: 0.6363636363636364\n",
      "F1 macro: 0.6363636363636364\n",
      "F1 micro: 0.6363636363636364\n",
      "F1 weighted: 0.6363636363636364\n",
      "Kappa: 0.2727272727272727\n",
      "-------------Iteration 6/10\n",
      "55 22\n",
      "random_state = 47\n"
     ]
    },
    {
     "name": "stderr",
     "output_type": "stream",
     "text": [
      "[Parallel(n_jobs=1)]: Done 199 tasks      | elapsed:    0.1s\n",
      "[Parallel(n_jobs=1)]: Done  49 tasks      | elapsed:    0.0s\n",
      "[Parallel(n_jobs=1)]: Done 199 tasks      | elapsed:    0.0s\n",
      "[Parallel(n_jobs=1)]: Done  49 tasks      | elapsed:    0.0s\n",
      "[Parallel(n_jobs=1)]: Done 199 tasks      | elapsed:    0.1s\n",
      "[Parallel(n_jobs=1)]: Done  49 tasks      | elapsed:    0.0s\n",
      "[Parallel(n_jobs=1)]: Done 199 tasks      | elapsed:    0.0s\n"
     ]
    },
    {
     "name": "stdout",
     "output_type": "stream",
     "text": [
      "Accuracy: 0.5454545454545454\n",
      "F1 macro: 0.5454545454545454\n",
      "F1 micro: 0.5454545454545454\n",
      "F1 weighted: 0.5454545454545454\n",
      "Kappa: 0.09090909090909094\n",
      "-------------Iteration 7/10\n",
      "55 22\n",
      "random_state = 48\n",
      "Accuracy: 0.6818181818181818\n",
      "F1 macro: 0.681159420289855\n",
      "F1 micro: 0.6818181818181818\n",
      "F1 weighted: 0.6811594202898551\n",
      "Kappa: 0.36363636363636365\n",
      "-------------Iteration 8/10\n",
      "55 22\n",
      "random_state = 49\n"
     ]
    },
    {
     "name": "stderr",
     "output_type": "stream",
     "text": [
      "[Parallel(n_jobs=1)]: Done  49 tasks      | elapsed:    0.0s\n",
      "[Parallel(n_jobs=1)]: Done 199 tasks      | elapsed:    0.1s\n",
      "[Parallel(n_jobs=1)]: Done  49 tasks      | elapsed:    0.0s\n",
      "[Parallel(n_jobs=1)]: Done 199 tasks      | elapsed:    0.0s\n",
      "[Parallel(n_jobs=1)]: Done  49 tasks      | elapsed:    0.0s\n",
      "[Parallel(n_jobs=1)]: Done 199 tasks      | elapsed:    0.1s\n",
      "[Parallel(n_jobs=1)]: Done  49 tasks      | elapsed:    0.0s\n",
      "[Parallel(n_jobs=1)]: Done 199 tasks      | elapsed:    0.0s\n",
      "[Parallel(n_jobs=1)]: Done  49 tasks      | elapsed:    0.0s\n",
      "[Parallel(n_jobs=1)]: Done 199 tasks      | elapsed:    0.1s\n",
      "[Parallel(n_jobs=1)]: Done  49 tasks      | elapsed:    0.0s\n",
      "[Parallel(n_jobs=1)]: Done 199 tasks      | elapsed:    0.0s\n"
     ]
    },
    {
     "name": "stdout",
     "output_type": "stream",
     "text": [
      "Accuracy: 0.5454545454545454\n",
      "F1 macro: 0.5416666666666667\n",
      "F1 micro: 0.5454545454545454\n",
      "F1 weighted: 0.5416666666666667\n",
      "Kappa: 0.09090909090909094\n",
      "-------------Iteration 9/10\n",
      "55 22\n",
      "random_state = 50\n",
      "Accuracy: 0.6818181818181818\n",
      "F1 macro: 0.6644880174291938\n",
      "F1 micro: 0.6818181818181818\n",
      "F1 weighted: 0.6644880174291938\n",
      "Kappa: 0.36363636363636365\n",
      "-------------Iteration 10/10\n",
      "55 22\n",
      "random_state = 51\n",
      "Accuracy: 0.5\n",
      "F1 macro: 0.4989648033126294\n",
      "F1 micro: 0.5\n",
      "F1 weighted: 0.4989648033126294\n",
      "Kappa: 0.0\n"
     ]
    },
    {
     "name": "stderr",
     "output_type": "stream",
     "text": [
      "[Parallel(n_jobs=1)]: Done  49 tasks      | elapsed:    0.0s\n",
      "[Parallel(n_jobs=1)]: Done 199 tasks      | elapsed:    0.1s\n",
      "[Parallel(n_jobs=1)]: Done  49 tasks      | elapsed:    0.0s\n",
      "[Parallel(n_jobs=1)]: Done 199 tasks      | elapsed:    0.0s\n"
     ]
    }
   ],
   "source": [
    "for n in range(iterations):\n",
    "    print(f\"-------------Iteration {n + 1}/{iterations}\")\n",
    "    random_state=42+n\n",
    "\n",
    "    X_train, y_train, X_test, y_test = prepare_dataset_classification(\n",
    "        df,\n",
    "        random_state=random_state,\n",
    "        train_size=train_size\n",
    "    )\n",
    "    print(f\"random_state = {random_state}\")\n",
    "\n",
    "    y_test, y_pred, acc, f1_macro, f1_micro, f1_weighted, kappa = train_and_evaluate_classifier(\n",
    "        X_train, \n",
    "        y_train, \n",
    "        X_test, \n",
    "        y_test, \n",
    "        random_state=random_state\n",
    "    )\n",
    "    \n",
    "    y_test_all.append(y_test)\n",
    "    y_pred_all.append(y_pred)    \n",
    "    acc_scores.append(acc)\n",
    "    f1macro_scores.append(f1_macro)\n",
    "    f1micro_scores.append(f1_micro)\n",
    "    f1weighted_scores.append(f1_weighted)\n",
    "    kappa_scores.append(kappa)\n",
    "    print(f\"Accuracy: {acc}\")\n",
    "    print(f\"F1 macro: {f1_macro}\")\n",
    "    print(f\"F1 micro: {f1_micro}\")\n",
    "    print(f\"F1 weighted: {f1_weighted}\")\n",
    "    print(f\"Kappa: {kappa}\")"
   ]
  },
  {
   "cell_type": "code",
   "execution_count": 61,
   "metadata": {},
   "outputs": [
    {
     "name": "stdout",
     "output_type": "stream",
     "text": [
      "FINAL REPORT for training size = 55\n",
      "mean accuracy: 0.6 +/- 0.07820295697311479\n",
      "mean F1 macro: 0.5942170413853008 +/- 0.07628330564486915\n",
      "mean F1 micro: 0.6 +/- 0.07820295697311479\n",
      "mean F1 weighted: 0.5942170413853008 +/- 0.07628330564486917\n",
      "mean Kappa: 0.2 +/- 0.15640591394622957\n"
     ]
    }
   ],
   "source": [
    "print(f\"FINAL REPORT for training size = {train_size}\")\n",
    "\n",
    "print(f\"mean accuracy: {np.mean(acc_scores)} +/- {np.std(acc_scores)}\")\n",
    "print(f\"mean F1 macro: {np.mean(f1macro_scores)} +/- {np.std(f1macro_scores)}\")\n",
    "print(f\"mean F1 micro: {np.mean(f1micro_scores)} +/- {np.std(f1micro_scores)}\")\n",
    "print(f\"mean F1 weighted: {np.mean(f1weighted_scores)} +/- {np.std(f1weighted_scores)}\")\n",
    "print(f\"mean Kappa: {np.mean(kappa_scores)} +/- {np.std(kappa_scores)}\")"
   ]
  },
  {
   "cell_type": "code",
   "execution_count": 62,
   "metadata": {},
   "outputs": [
    {
     "data": {
      "text/html": [
       "<div>\n",
       "<style scoped>\n",
       "    .dataframe tbody tr th:only-of-type {\n",
       "        vertical-align: middle;\n",
       "    }\n",
       "\n",
       "    .dataframe tbody tr th {\n",
       "        vertical-align: top;\n",
       "    }\n",
       "\n",
       "    .dataframe thead th {\n",
       "        text-align: right;\n",
       "    }\n",
       "</style>\n",
       "<table border=\"1\" class=\"dataframe\">\n",
       "  <thead>\n",
       "    <tr style=\"text-align: right;\">\n",
       "      <th></th>\n",
       "      <th>train_size</th>\n",
       "      <th>y_true</th>\n",
       "      <th>y_pred</th>\n",
       "      <th>accuracy</th>\n",
       "      <th>f1_macro</th>\n",
       "      <th>f1_micro</th>\n",
       "      <th>f1_weighted</th>\n",
       "      <th>kappa</th>\n",
       "    </tr>\n",
       "  </thead>\n",
       "  <tbody>\n",
       "    <tr>\n",
       "      <th>0</th>\n",
       "      <td>55</td>\n",
       "      <td>[1, 1, 0, 0, 0, 1, 0, 0, 1, 0, 1, 0, 0, 1, 1, ...</td>\n",
       "      <td>[1, 1, 0, 0, 0, 0, 0, 1, 1, 0, 0, 0, 0, 0, 1, ...</td>\n",
       "      <td>0.636364</td>\n",
       "      <td>0.623932</td>\n",
       "      <td>0.636364</td>\n",
       "      <td>0.623932</td>\n",
       "      <td>0.272727</td>\n",
       "    </tr>\n",
       "    <tr>\n",
       "      <th>1</th>\n",
       "      <td>55</td>\n",
       "      <td>[0, 1, 1, 0, 0, 1, 0, 1, 1, 1, 0, 1, 0, 1, 0, ...</td>\n",
       "      <td>[1, 0, 0, 1, 0, 1, 1, 1, 0, 0, 0, 0, 1, 0, 0, ...</td>\n",
       "      <td>0.500000</td>\n",
       "      <td>0.490526</td>\n",
       "      <td>0.500000</td>\n",
       "      <td>0.490526</td>\n",
       "      <td>0.000000</td>\n",
       "    </tr>\n",
       "    <tr>\n",
       "      <th>2</th>\n",
       "      <td>55</td>\n",
       "      <td>[1, 0, 1, 0, 1, 1, 0, 1, 0, 0, 1, 0, 1, 1, 0, ...</td>\n",
       "      <td>[1, 0, 0, 1, 1, 1, 0, 0, 0, 1, 1, 0, 0, 1, 1, ...</td>\n",
       "      <td>0.545455</td>\n",
       "      <td>0.541667</td>\n",
       "      <td>0.545455</td>\n",
       "      <td>0.541667</td>\n",
       "      <td>0.090909</td>\n",
       "    </tr>\n",
       "  </tbody>\n",
       "</table>\n",
       "</div>"
      ],
      "text/plain": [
       "   train_size                                             y_true  \\\n",
       "0          55  [1, 1, 0, 0, 0, 1, 0, 0, 1, 0, 1, 0, 0, 1, 1, ...   \n",
       "1          55  [0, 1, 1, 0, 0, 1, 0, 1, 1, 1, 0, 1, 0, 1, 0, ...   \n",
       "2          55  [1, 0, 1, 0, 1, 1, 0, 1, 0, 0, 1, 0, 1, 1, 0, ...   \n",
       "\n",
       "                                              y_pred  accuracy  f1_macro  \\\n",
       "0  [1, 1, 0, 0, 0, 0, 0, 1, 1, 0, 0, 0, 0, 0, 1, ...  0.636364  0.623932   \n",
       "1  [1, 0, 0, 1, 0, 1, 1, 1, 0, 0, 0, 0, 1, 0, 0, ...  0.500000  0.490526   \n",
       "2  [1, 0, 0, 1, 1, 1, 0, 0, 0, 1, 1, 0, 0, 1, 1, ...  0.545455  0.541667   \n",
       "\n",
       "   f1_micro  f1_weighted     kappa  \n",
       "0  0.636364     0.623932  0.272727  \n",
       "1  0.500000     0.490526  0.000000  \n",
       "2  0.545455     0.541667  0.090909  "
      ]
     },
     "execution_count": 62,
     "metadata": {},
     "output_type": "execute_result"
    }
   ],
   "source": [
    "compiled_res_55 = pd.DataFrame(metrics_dict())\n",
    "compiled_res_55.head(3)"
   ]
  },
  {
   "cell_type": "markdown",
   "metadata": {},
   "source": [
    "### training size = 65"
   ]
  },
  {
   "cell_type": "code",
   "execution_count": 63,
   "metadata": {},
   "outputs": [],
   "source": [
    "train_size = 65\n",
    "iterations = 10\n",
    "y_test_all = []\n",
    "y_pred_all = []\n",
    "acc_scores = []\n",
    "f1macro_scores = []\n",
    "f1micro_scores = []\n",
    "f1weighted_scores = []\n",
    "kappa_scores = []"
   ]
  },
  {
   "cell_type": "code",
   "execution_count": 64,
   "metadata": {},
   "outputs": [
    {
     "name": "stdout",
     "output_type": "stream",
     "text": [
      "-------------Iteration 1/10\n",
      "65 12\n",
      "random_state = 42\n",
      "Accuracy: 0.5833333333333334\n",
      "F1 macro: 0.5804195804195804\n",
      "F1 micro: 0.5833333333333334\n",
      "F1 weighted: 0.5804195804195804\n",
      "Kappa: 0.16666666666666663\n",
      "-------------Iteration 2/10\n",
      "65 12\n",
      "random_state = 43\n"
     ]
    },
    {
     "name": "stderr",
     "output_type": "stream",
     "text": [
      "[Parallel(n_jobs=1)]: Done  49 tasks      | elapsed:    0.0s\n",
      "[Parallel(n_jobs=1)]: Done 199 tasks      | elapsed:    0.1s\n",
      "[Parallel(n_jobs=1)]: Done  49 tasks      | elapsed:    0.0s\n",
      "[Parallel(n_jobs=1)]: Done 199 tasks      | elapsed:    0.0s\n",
      "[Parallel(n_jobs=1)]: Done  49 tasks      | elapsed:    0.0s\n",
      "[Parallel(n_jobs=1)]: Done 199 tasks      | elapsed:    0.1s\n",
      "[Parallel(n_jobs=1)]: Done  49 tasks      | elapsed:    0.0s\n",
      "[Parallel(n_jobs=1)]: Done 199 tasks      | elapsed:    0.0s\n",
      "[Parallel(n_jobs=1)]: Done  49 tasks      | elapsed:    0.0s\n",
      "[Parallel(n_jobs=1)]: Done 199 tasks      | elapsed:    0.1s\n",
      "[Parallel(n_jobs=1)]: Done  49 tasks      | elapsed:    0.0s\n",
      "[Parallel(n_jobs=1)]: Done 199 tasks      | elapsed:    0.0s\n"
     ]
    },
    {
     "name": "stdout",
     "output_type": "stream",
     "text": [
      "Accuracy: 0.5\n",
      "F1 macro: 0.5\n",
      "F1 micro: 0.5\n",
      "F1 weighted: 0.5\n",
      "Kappa: 0.0\n",
      "-------------Iteration 3/10\n",
      "65 12\n",
      "random_state = 44\n",
      "Accuracy: 0.6666666666666666\n",
      "F1 macro: 0.6571428571428571\n",
      "F1 micro: 0.6666666666666666\n",
      "F1 weighted: 0.6571428571428571\n",
      "Kappa: 0.33333333333333337\n",
      "-------------Iteration 4/10\n",
      "65 12\n",
      "random_state = 45\n"
     ]
    },
    {
     "name": "stderr",
     "output_type": "stream",
     "text": [
      "[Parallel(n_jobs=1)]: Done  49 tasks      | elapsed:    0.0s\n",
      "[Parallel(n_jobs=1)]: Done 199 tasks      | elapsed:    0.1s\n",
      "[Parallel(n_jobs=1)]: Done  49 tasks      | elapsed:    0.0s\n",
      "[Parallel(n_jobs=1)]: Done 199 tasks      | elapsed:    0.0s\n",
      "[Parallel(n_jobs=1)]: Done  49 tasks      | elapsed:    0.0s\n"
     ]
    },
    {
     "name": "stdout",
     "output_type": "stream",
     "text": [
      "Accuracy: 0.6666666666666666\n",
      "F1 macro: 0.6571428571428571\n",
      "F1 micro: 0.6666666666666666\n",
      "F1 weighted: 0.6571428571428571\n",
      "Kappa: 0.33333333333333337\n",
      "-------------Iteration 5/10\n",
      "65 12\n",
      "random_state = 46\n",
      "Accuracy: 0.5833333333333334\n",
      "F1 macro: 0.5555555555555556\n",
      "F1 micro: 0.5833333333333334\n",
      "F1 weighted: 0.5555555555555555\n",
      "Kappa: 0.16666666666666663\n",
      "-------------Iteration 6/10\n",
      "65 12\n",
      "random_state = 47\n"
     ]
    },
    {
     "name": "stderr",
     "output_type": "stream",
     "text": [
      "[Parallel(n_jobs=1)]: Done 199 tasks      | elapsed:    0.1s\n",
      "[Parallel(n_jobs=1)]: Done  49 tasks      | elapsed:    0.0s\n",
      "[Parallel(n_jobs=1)]: Done 199 tasks      | elapsed:    0.0s\n",
      "[Parallel(n_jobs=1)]: Done  49 tasks      | elapsed:    0.0s\n",
      "[Parallel(n_jobs=1)]: Done 199 tasks      | elapsed:    0.1s\n",
      "[Parallel(n_jobs=1)]: Done  49 tasks      | elapsed:    0.0s\n",
      "[Parallel(n_jobs=1)]: Done 199 tasks      | elapsed:    0.0s\n"
     ]
    },
    {
     "name": "stdout",
     "output_type": "stream",
     "text": [
      "Accuracy: 0.4166666666666667\n",
      "F1 macro: 0.4125874125874126\n",
      "F1 micro: 0.4166666666666667\n",
      "F1 weighted: 0.41258741258741255\n",
      "Kappa: -0.16666666666666674\n",
      "-------------Iteration 7/10\n",
      "65 12\n",
      "random_state = 48\n",
      "Accuracy: 0.6666666666666666\n",
      "F1 macro: 0.6666666666666666\n",
      "F1 micro: 0.6666666666666666\n",
      "F1 weighted: 0.6666666666666666\n",
      "Kappa: 0.33333333333333337\n",
      "-------------Iteration 8/10\n",
      "65 12\n",
      "random_state = 49\n"
     ]
    },
    {
     "name": "stderr",
     "output_type": "stream",
     "text": [
      "[Parallel(n_jobs=1)]: Done  49 tasks      | elapsed:    0.0s\n",
      "[Parallel(n_jobs=1)]: Done 199 tasks      | elapsed:    0.1s\n",
      "[Parallel(n_jobs=1)]: Done  49 tasks      | elapsed:    0.0s\n",
      "[Parallel(n_jobs=1)]: Done 199 tasks      | elapsed:    0.0s\n",
      "[Parallel(n_jobs=1)]: Done  49 tasks      | elapsed:    0.0s\n",
      "[Parallel(n_jobs=1)]: Done 199 tasks      | elapsed:    0.1s\n",
      "[Parallel(n_jobs=1)]: Done  49 tasks      | elapsed:    0.0s\n",
      "[Parallel(n_jobs=1)]: Done 199 tasks      | elapsed:    0.0s\n",
      "[Parallel(n_jobs=1)]: Done  49 tasks      | elapsed:    0.0s\n",
      "[Parallel(n_jobs=1)]: Done 199 tasks      | elapsed:    0.1s\n",
      "[Parallel(n_jobs=1)]: Done  49 tasks      | elapsed:    0.0s\n",
      "[Parallel(n_jobs=1)]: Done 199 tasks      | elapsed:    0.0s\n"
     ]
    },
    {
     "name": "stdout",
     "output_type": "stream",
     "text": [
      "Accuracy: 0.5\n",
      "F1 macro: 0.4857142857142857\n",
      "F1 micro: 0.5\n",
      "F1 weighted: 0.48571428571428577\n",
      "Kappa: 0.0\n",
      "-------------Iteration 9/10\n",
      "65 12\n",
      "random_state = 50\n",
      "Accuracy: 0.5833333333333334\n",
      "F1 macro: 0.5555555555555556\n",
      "F1 micro: 0.5833333333333334\n",
      "F1 weighted: 0.5555555555555555\n",
      "Kappa: 0.16666666666666663\n",
      "-------------Iteration 10/10\n",
      "65 12\n",
      "random_state = 51\n",
      "Accuracy: 0.5\n",
      "F1 macro: 0.5\n",
      "F1 micro: 0.5\n",
      "F1 weighted: 0.5\n",
      "Kappa: 0.0\n"
     ]
    },
    {
     "name": "stderr",
     "output_type": "stream",
     "text": [
      "[Parallel(n_jobs=1)]: Done  49 tasks      | elapsed:    0.0s\n",
      "[Parallel(n_jobs=1)]: Done 199 tasks      | elapsed:    0.1s\n",
      "[Parallel(n_jobs=1)]: Done  49 tasks      | elapsed:    0.0s\n",
      "[Parallel(n_jobs=1)]: Done 199 tasks      | elapsed:    0.0s\n"
     ]
    }
   ],
   "source": [
    "for n in range(iterations):\n",
    "    print(f\"-------------Iteration {n + 1}/{iterations}\")\n",
    "    random_state=42+n\n",
    "\n",
    "    X_train, y_train, X_test, y_test = prepare_dataset_classification(\n",
    "        df,\n",
    "        random_state=random_state,\n",
    "        train_size=train_size\n",
    "    )\n",
    "    print(f\"random_state = {random_state}\")\n",
    "\n",
    "    y_test, y_pred, acc, f1_macro, f1_micro, f1_weighted, kappa = train_and_evaluate_classifier(\n",
    "        X_train, \n",
    "        y_train, \n",
    "        X_test, \n",
    "        y_test, \n",
    "        random_state=random_state\n",
    "    )\n",
    "    \n",
    "    y_test_all.append(y_test)\n",
    "    y_pred_all.append(y_pred)    \n",
    "    acc_scores.append(acc)\n",
    "    f1macro_scores.append(f1_macro)\n",
    "    f1micro_scores.append(f1_micro)\n",
    "    f1weighted_scores.append(f1_weighted)\n",
    "    kappa_scores.append(kappa)\n",
    "    print(f\"Accuracy: {acc}\")\n",
    "    print(f\"F1 macro: {f1_macro}\")\n",
    "    print(f\"F1 micro: {f1_micro}\")\n",
    "    print(f\"F1 weighted: {f1_weighted}\")\n",
    "    print(f\"Kappa: {kappa}\")"
   ]
  },
  {
   "cell_type": "code",
   "execution_count": 65,
   "metadata": {},
   "outputs": [
    {
     "name": "stdout",
     "output_type": "stream",
     "text": [
      "FINAL REPORT for training size = 65\n",
      "mean accuracy: 0.5666666666666667 +/- 0.08164965809277258\n",
      "mean F1 macro: 0.5570784770784771 +/- 0.08066672047113774\n",
      "mean F1 micro: 0.5666666666666667 +/- 0.08164965809277258\n",
      "mean F1 weighted: 0.5570784770784771 +/- 0.08066672047113775\n",
      "mean Kappa: 0.1333333333333333 +/- 0.16329931618554525\n"
     ]
    }
   ],
   "source": [
    "print(f\"FINAL REPORT for training size = {train_size}\")\n",
    "\n",
    "print(f\"mean accuracy: {np.mean(acc_scores)} +/- {np.std(acc_scores)}\")\n",
    "print(f\"mean F1 macro: {np.mean(f1macro_scores)} +/- {np.std(f1macro_scores)}\")\n",
    "print(f\"mean F1 micro: {np.mean(f1micro_scores)} +/- {np.std(f1micro_scores)}\")\n",
    "print(f\"mean F1 weighted: {np.mean(f1weighted_scores)} +/- {np.std(f1weighted_scores)}\")\n",
    "print(f\"mean Kappa: {np.mean(kappa_scores)} +/- {np.std(kappa_scores)}\")"
   ]
  },
  {
   "cell_type": "code",
   "execution_count": 66,
   "metadata": {},
   "outputs": [
    {
     "data": {
      "text/html": [
       "<div>\n",
       "<style scoped>\n",
       "    .dataframe tbody tr th:only-of-type {\n",
       "        vertical-align: middle;\n",
       "    }\n",
       "\n",
       "    .dataframe tbody tr th {\n",
       "        vertical-align: top;\n",
       "    }\n",
       "\n",
       "    .dataframe thead th {\n",
       "        text-align: right;\n",
       "    }\n",
       "</style>\n",
       "<table border=\"1\" class=\"dataframe\">\n",
       "  <thead>\n",
       "    <tr style=\"text-align: right;\">\n",
       "      <th></th>\n",
       "      <th>train_size</th>\n",
       "      <th>y_true</th>\n",
       "      <th>y_pred</th>\n",
       "      <th>accuracy</th>\n",
       "      <th>f1_macro</th>\n",
       "      <th>f1_micro</th>\n",
       "      <th>f1_weighted</th>\n",
       "      <th>kappa</th>\n",
       "    </tr>\n",
       "  </thead>\n",
       "  <tbody>\n",
       "    <tr>\n",
       "      <th>0</th>\n",
       "      <td>65</td>\n",
       "      <td>[1, 0, 0, 1, 1, 1, 0, 1, 1, 0, 0, 0]</td>\n",
       "      <td>[0, 0, 0, 0, 1, 1, 1, 0, 1, 1, 0, 0]</td>\n",
       "      <td>0.583333</td>\n",
       "      <td>0.580420</td>\n",
       "      <td>0.583333</td>\n",
       "      <td>0.580420</td>\n",
       "      <td>0.166667</td>\n",
       "    </tr>\n",
       "    <tr>\n",
       "      <th>1</th>\n",
       "      <td>65</td>\n",
       "      <td>[0, 0, 0, 1, 1, 0, 1, 1, 1, 0, 0, 1]</td>\n",
       "      <td>[0, 0, 0, 0, 1, 1, 0, 1, 1, 1, 1, 0]</td>\n",
       "      <td>0.500000</td>\n",
       "      <td>0.500000</td>\n",
       "      <td>0.500000</td>\n",
       "      <td>0.500000</td>\n",
       "      <td>0.000000</td>\n",
       "    </tr>\n",
       "    <tr>\n",
       "      <th>2</th>\n",
       "      <td>65</td>\n",
       "      <td>[1, 0, 1, 0, 0, 0, 1, 0, 1, 1, 1, 0]</td>\n",
       "      <td>[1, 1, 0, 0, 0, 0, 0, 0, 1, 1, 0, 0]</td>\n",
       "      <td>0.666667</td>\n",
       "      <td>0.657143</td>\n",
       "      <td>0.666667</td>\n",
       "      <td>0.657143</td>\n",
       "      <td>0.333333</td>\n",
       "    </tr>\n",
       "  </tbody>\n",
       "</table>\n",
       "</div>"
      ],
      "text/plain": [
       "   train_size                                y_true  \\\n",
       "0          65  [1, 0, 0, 1, 1, 1, 0, 1, 1, 0, 0, 0]   \n",
       "1          65  [0, 0, 0, 1, 1, 0, 1, 1, 1, 0, 0, 1]   \n",
       "2          65  [1, 0, 1, 0, 0, 0, 1, 0, 1, 1, 1, 0]   \n",
       "\n",
       "                                 y_pred  accuracy  f1_macro  f1_micro  \\\n",
       "0  [0, 0, 0, 0, 1, 1, 1, 0, 1, 1, 0, 0]  0.583333  0.580420  0.583333   \n",
       "1  [0, 0, 0, 0, 1, 1, 0, 1, 1, 1, 1, 0]  0.500000  0.500000  0.500000   \n",
       "2  [1, 1, 0, 0, 0, 0, 0, 0, 1, 1, 0, 0]  0.666667  0.657143  0.666667   \n",
       "\n",
       "   f1_weighted     kappa  \n",
       "0     0.580420  0.166667  \n",
       "1     0.500000  0.000000  \n",
       "2     0.657143  0.333333  "
      ]
     },
     "execution_count": 66,
     "metadata": {},
     "output_type": "execute_result"
    }
   ],
   "source": [
    "compiled_res_65 = pd.DataFrame(metrics_dict())\n",
    "compiled_res_65.head(3)"
   ]
  },
  {
   "cell_type": "code",
   "execution_count": 67,
   "metadata": {},
   "outputs": [
    {
     "name": "stdout",
     "output_type": "stream",
     "text": [
      "60\n"
     ]
    },
    {
     "data": {
      "text/html": [
       "<div>\n",
       "<style scoped>\n",
       "    .dataframe tbody tr th:only-of-type {\n",
       "        vertical-align: middle;\n",
       "    }\n",
       "\n",
       "    .dataframe tbody tr th {\n",
       "        vertical-align: top;\n",
       "    }\n",
       "\n",
       "    .dataframe thead th {\n",
       "        text-align: right;\n",
       "    }\n",
       "</style>\n",
       "<table border=\"1\" class=\"dataframe\">\n",
       "  <thead>\n",
       "    <tr style=\"text-align: right;\">\n",
       "      <th></th>\n",
       "      <th>train_size</th>\n",
       "      <th>y_true</th>\n",
       "      <th>y_pred</th>\n",
       "      <th>accuracy</th>\n",
       "      <th>f1_macro</th>\n",
       "      <th>f1_micro</th>\n",
       "      <th>f1_weighted</th>\n",
       "      <th>kappa</th>\n",
       "    </tr>\n",
       "  </thead>\n",
       "  <tbody>\n",
       "    <tr>\n",
       "      <th>0</th>\n",
       "      <td>15</td>\n",
       "      <td>[0, 0, 0, 0, 0, 1, 1, 1, 1, 1, 1, 0, 1, 0, 0, ...</td>\n",
       "      <td>[0, 0, 0, 0, 1, 0, 0, 1, 0, 0, 0, 0, 0, 0, 0, ...</td>\n",
       "      <td>0.516129</td>\n",
       "      <td>0.481605</td>\n",
       "      <td>0.516129</td>\n",
       "      <td>0.481605</td>\n",
       "      <td>0.032258</td>\n",
       "    </tr>\n",
       "    <tr>\n",
       "      <th>1</th>\n",
       "      <td>15</td>\n",
       "      <td>[0, 0, 0, 1, 1, 0, 0, 1, 0, 1, 1, 0, 1, 1, 1, ...</td>\n",
       "      <td>[0, 0, 1, 0, 1, 0, 0, 1, 1, 1, 1, 1, 1, 0, 1, ...</td>\n",
       "      <td>0.548387</td>\n",
       "      <td>0.546499</td>\n",
       "      <td>0.548387</td>\n",
       "      <td>0.546499</td>\n",
       "      <td>0.096774</td>\n",
       "    </tr>\n",
       "    <tr>\n",
       "      <th>2</th>\n",
       "      <td>15</td>\n",
       "      <td>[1, 1, 1, 1, 0, 0, 0, 0, 1, 1, 1, 1, 1, 1, 1, ...</td>\n",
       "      <td>[1, 0, 0, 0, 0, 1, 0, 0, 0, 1, 0, 0, 0, 1, 0, ...</td>\n",
       "      <td>0.516129</td>\n",
       "      <td>0.481605</td>\n",
       "      <td>0.516129</td>\n",
       "      <td>0.481605</td>\n",
       "      <td>0.032258</td>\n",
       "    </tr>\n",
       "    <tr>\n",
       "      <th>3</th>\n",
       "      <td>15</td>\n",
       "      <td>[1, 0, 0, 0, 1, 1, 1, 1, 0, 0, 0, 1, 1, 0, 0, ...</td>\n",
       "      <td>[1, 0, 0, 0, 0, 0, 1, 0, 0, 1, 0, 0, 0, 1, 1, ...</td>\n",
       "      <td>0.435484</td>\n",
       "      <td>0.434159</td>\n",
       "      <td>0.435484</td>\n",
       "      <td>0.434159</td>\n",
       "      <td>-0.129032</td>\n",
       "    </tr>\n",
       "    <tr>\n",
       "      <th>4</th>\n",
       "      <td>15</td>\n",
       "      <td>[0, 1, 1, 0, 0, 1, 1, 1, 0, 0, 0, 1, 1, 0, 0, ...</td>\n",
       "      <td>[0, 1, 1, 1, 1, 1, 1, 0, 0, 1, 0, 1, 1, 1, 1, ...</td>\n",
       "      <td>0.580645</td>\n",
       "      <td>0.578892</td>\n",
       "      <td>0.580645</td>\n",
       "      <td>0.578892</td>\n",
       "      <td>0.161290</td>\n",
       "    </tr>\n",
       "  </tbody>\n",
       "</table>\n",
       "</div>"
      ],
      "text/plain": [
       "   train_size                                             y_true  \\\n",
       "0          15  [0, 0, 0, 0, 0, 1, 1, 1, 1, 1, 1, 0, 1, 0, 0, ...   \n",
       "1          15  [0, 0, 0, 1, 1, 0, 0, 1, 0, 1, 1, 0, 1, 1, 1, ...   \n",
       "2          15  [1, 1, 1, 1, 0, 0, 0, 0, 1, 1, 1, 1, 1, 1, 1, ...   \n",
       "3          15  [1, 0, 0, 0, 1, 1, 1, 1, 0, 0, 0, 1, 1, 0, 0, ...   \n",
       "4          15  [0, 1, 1, 0, 0, 1, 1, 1, 0, 0, 0, 1, 1, 0, 0, ...   \n",
       "\n",
       "                                              y_pred  accuracy  f1_macro  \\\n",
       "0  [0, 0, 0, 0, 1, 0, 0, 1, 0, 0, 0, 0, 0, 0, 0, ...  0.516129  0.481605   \n",
       "1  [0, 0, 1, 0, 1, 0, 0, 1, 1, 1, 1, 1, 1, 0, 1, ...  0.548387  0.546499   \n",
       "2  [1, 0, 0, 0, 0, 1, 0, 0, 0, 1, 0, 0, 0, 1, 0, ...  0.516129  0.481605   \n",
       "3  [1, 0, 0, 0, 0, 0, 1, 0, 0, 1, 0, 0, 0, 1, 1, ...  0.435484  0.434159   \n",
       "4  [0, 1, 1, 1, 1, 1, 1, 0, 0, 1, 0, 1, 1, 1, 1, ...  0.580645  0.578892   \n",
       "\n",
       "   f1_micro  f1_weighted     kappa  \n",
       "0  0.516129     0.481605  0.032258  \n",
       "1  0.548387     0.546499  0.096774  \n",
       "2  0.516129     0.481605  0.032258  \n",
       "3  0.435484     0.434159 -0.129032  \n",
       "4  0.580645     0.578892  0.161290  "
      ]
     },
     "execution_count": 67,
     "metadata": {},
     "output_type": "execute_result"
    }
   ],
   "source": [
    "compiled_res = pd.concat([\n",
    "    compiled_res_15, \n",
    "    compiled_res_25,\n",
    "    compiled_res_35,\n",
    "    compiled_res_45,\n",
    "    compiled_res_55,\n",
    "    compiled_res_65\n",
    "], ignore_index=True)\n",
    "print(len(compiled_res))\n",
    "compiled_res.head()"
   ]
  },
  {
   "cell_type": "code",
   "execution_count": 68,
   "metadata": {},
   "outputs": [],
   "source": [
    "compiled_res[\"y_true\"] = compiled_res[\"y_true\"].apply(lambda arr: list(arr))\n",
    "compiled_res[\"y_pred\"] = compiled_res[\"y_pred\"].apply(lambda arr: list(arr))"
   ]
  },
  {
   "cell_type": "code",
   "execution_count": 69,
   "metadata": {},
   "outputs": [],
   "source": [
    "compiled_res.to_csv(\"RF_results_MOFphotocat_2bins_5050.csv\", sep=\",\", index=False)"
   ]
  },
  {
   "cell_type": "code",
   "execution_count": 70,
   "metadata": {},
   "outputs": [
    {
     "name": "stdout",
     "output_type": "stream",
     "text": [
      "<class 'pandas.core.frame.DataFrame'>\n",
      "RangeIndex: 60 entries, 0 to 59\n",
      "Data columns (total 8 columns):\n",
      " #   Column       Non-Null Count  Dtype  \n",
      "---  ------       --------------  -----  \n",
      " 0   train_size   60 non-null     int64  \n",
      " 1   y_true       60 non-null     object \n",
      " 2   y_pred       60 non-null     object \n",
      " 3   accuracy     60 non-null     float64\n",
      " 4   f1_macro     60 non-null     float64\n",
      " 5   f1_micro     60 non-null     float64\n",
      " 6   f1_weighted  60 non-null     float64\n",
      " 7   kappa        60 non-null     float64\n",
      "dtypes: float64(5), int64(1), object(2)\n",
      "memory usage: 3.9+ KB\n"
     ]
    }
   ],
   "source": [
    "df = pd.read_csv(\"RF_results_MOFphotocat_2bins_5050.csv\", sep=',')\n",
    "df.info()"
   ]
  },
  {
   "cell_type": "code",
   "execution_count": 71,
   "metadata": {},
   "outputs": [
    {
     "data": {
      "text/html": [
       "<div>\n",
       "<style scoped>\n",
       "    .dataframe tbody tr th:only-of-type {\n",
       "        vertical-align: middle;\n",
       "    }\n",
       "\n",
       "    .dataframe tbody tr th {\n",
       "        vertical-align: top;\n",
       "    }\n",
       "\n",
       "    .dataframe thead th {\n",
       "        text-align: right;\n",
       "    }\n",
       "</style>\n",
       "<table border=\"1\" class=\"dataframe\">\n",
       "  <thead>\n",
       "    <tr style=\"text-align: right;\">\n",
       "      <th></th>\n",
       "      <th>train_size</th>\n",
       "      <th>y_true</th>\n",
       "      <th>y_pred</th>\n",
       "      <th>accuracy</th>\n",
       "      <th>f1_macro</th>\n",
       "      <th>f1_micro</th>\n",
       "      <th>f1_weighted</th>\n",
       "      <th>kappa</th>\n",
       "    </tr>\n",
       "  </thead>\n",
       "  <tbody>\n",
       "    <tr>\n",
       "      <th>0</th>\n",
       "      <td>15</td>\n",
       "      <td>[0, 0, 0, 0, 0, 1, 1, 1, 1, 1, 1, 0, 1, 0, 0, ...</td>\n",
       "      <td>[0, 0, 0, 0, 1, 0, 0, 1, 0, 0, 0, 0, 0, 0, 0, ...</td>\n",
       "      <td>0.516129</td>\n",
       "      <td>0.481605</td>\n",
       "      <td>0.516129</td>\n",
       "      <td>0.481605</td>\n",
       "      <td>0.032258</td>\n",
       "    </tr>\n",
       "    <tr>\n",
       "      <th>1</th>\n",
       "      <td>15</td>\n",
       "      <td>[0, 0, 0, 1, 1, 0, 0, 1, 0, 1, 1, 0, 1, 1, 1, ...</td>\n",
       "      <td>[0, 0, 1, 0, 1, 0, 0, 1, 1, 1, 1, 1, 1, 0, 1, ...</td>\n",
       "      <td>0.548387</td>\n",
       "      <td>0.546499</td>\n",
       "      <td>0.548387</td>\n",
       "      <td>0.546499</td>\n",
       "      <td>0.096774</td>\n",
       "    </tr>\n",
       "    <tr>\n",
       "      <th>2</th>\n",
       "      <td>15</td>\n",
       "      <td>[1, 1, 1, 1, 0, 0, 0, 0, 1, 1, 1, 1, 1, 1, 1, ...</td>\n",
       "      <td>[1, 0, 0, 0, 0, 1, 0, 0, 0, 1, 0, 0, 0, 1, 0, ...</td>\n",
       "      <td>0.516129</td>\n",
       "      <td>0.481605</td>\n",
       "      <td>0.516129</td>\n",
       "      <td>0.481605</td>\n",
       "      <td>0.032258</td>\n",
       "    </tr>\n",
       "  </tbody>\n",
       "</table>\n",
       "</div>"
      ],
      "text/plain": [
       "   train_size                                             y_true  \\\n",
       "0          15  [0, 0, 0, 0, 0, 1, 1, 1, 1, 1, 1, 0, 1, 0, 0, ...   \n",
       "1          15  [0, 0, 0, 1, 1, 0, 0, 1, 0, 1, 1, 0, 1, 1, 1, ...   \n",
       "2          15  [1, 1, 1, 1, 0, 0, 0, 0, 1, 1, 1, 1, 1, 1, 1, ...   \n",
       "\n",
       "                                              y_pred  accuracy  f1_macro  \\\n",
       "0  [0, 0, 0, 0, 1, 0, 0, 1, 0, 0, 0, 0, 0, 0, 0, ...  0.516129  0.481605   \n",
       "1  [0, 0, 1, 0, 1, 0, 0, 1, 1, 1, 1, 1, 1, 0, 1, ...  0.548387  0.546499   \n",
       "2  [1, 0, 0, 0, 0, 1, 0, 0, 0, 1, 0, 0, 0, 1, 0, ...  0.516129  0.481605   \n",
       "\n",
       "   f1_micro  f1_weighted     kappa  \n",
       "0  0.516129     0.481605  0.032258  \n",
       "1  0.548387     0.546499  0.096774  \n",
       "2  0.516129     0.481605  0.032258  "
      ]
     },
     "execution_count": 71,
     "metadata": {},
     "output_type": "execute_result"
    }
   ],
   "source": [
    "df.head(3)"
   ]
  },
  {
   "cell_type": "code",
   "execution_count": 72,
   "metadata": {},
   "outputs": [
    {
     "data": {
      "text/html": [
       "<div>\n",
       "<style scoped>\n",
       "    .dataframe tbody tr th:only-of-type {\n",
       "        vertical-align: middle;\n",
       "    }\n",
       "\n",
       "    .dataframe tbody tr th {\n",
       "        vertical-align: top;\n",
       "    }\n",
       "\n",
       "    .dataframe thead tr th {\n",
       "        text-align: left;\n",
       "    }\n",
       "\n",
       "    .dataframe thead tr:last-of-type th {\n",
       "        text-align: right;\n",
       "    }\n",
       "</style>\n",
       "<table border=\"1\" class=\"dataframe\">\n",
       "  <thead>\n",
       "    <tr>\n",
       "      <th></th>\n",
       "      <th colspan=\"2\" halign=\"left\">accuracy</th>\n",
       "      <th colspan=\"2\" halign=\"left\">f1_macro</th>\n",
       "      <th colspan=\"2\" halign=\"left\">f1_micro</th>\n",
       "      <th colspan=\"2\" halign=\"left\">f1_weighted</th>\n",
       "      <th colspan=\"2\" halign=\"left\">kappa</th>\n",
       "    </tr>\n",
       "    <tr>\n",
       "      <th></th>\n",
       "      <th>mean</th>\n",
       "      <th>sem</th>\n",
       "      <th>mean</th>\n",
       "      <th>sem</th>\n",
       "      <th>mean</th>\n",
       "      <th>sem</th>\n",
       "      <th>mean</th>\n",
       "      <th>sem</th>\n",
       "      <th>mean</th>\n",
       "      <th>sem</th>\n",
       "    </tr>\n",
       "    <tr>\n",
       "      <th>train_size</th>\n",
       "      <th></th>\n",
       "      <th></th>\n",
       "      <th></th>\n",
       "      <th></th>\n",
       "      <th></th>\n",
       "      <th></th>\n",
       "      <th></th>\n",
       "      <th></th>\n",
       "      <th></th>\n",
       "      <th></th>\n",
       "    </tr>\n",
       "  </thead>\n",
       "  <tbody>\n",
       "    <tr>\n",
       "      <th>15</th>\n",
       "      <td>0.530645</td>\n",
       "      <td>0.020037</td>\n",
       "      <td>0.515826</td>\n",
       "      <td>0.019650</td>\n",
       "      <td>0.530645</td>\n",
       "      <td>0.020037</td>\n",
       "      <td>0.515826</td>\n",
       "      <td>0.019650</td>\n",
       "      <td>0.061290</td>\n",
       "      <td>0.040075</td>\n",
       "    </tr>\n",
       "    <tr>\n",
       "      <th>25</th>\n",
       "      <td>0.525000</td>\n",
       "      <td>0.016972</td>\n",
       "      <td>0.514365</td>\n",
       "      <td>0.017381</td>\n",
       "      <td>0.525000</td>\n",
       "      <td>0.016972</td>\n",
       "      <td>0.514365</td>\n",
       "      <td>0.017381</td>\n",
       "      <td>0.050000</td>\n",
       "      <td>0.033944</td>\n",
       "    </tr>\n",
       "    <tr>\n",
       "      <th>35</th>\n",
       "      <td>0.578571</td>\n",
       "      <td>0.022741</td>\n",
       "      <td>0.571503</td>\n",
       "      <td>0.022297</td>\n",
       "      <td>0.578571</td>\n",
       "      <td>0.022741</td>\n",
       "      <td>0.571503</td>\n",
       "      <td>0.022297</td>\n",
       "      <td>0.157143</td>\n",
       "      <td>0.045481</td>\n",
       "    </tr>\n",
       "    <tr>\n",
       "      <th>45</th>\n",
       "      <td>0.578125</td>\n",
       "      <td>0.026042</td>\n",
       "      <td>0.560324</td>\n",
       "      <td>0.027979</td>\n",
       "      <td>0.578125</td>\n",
       "      <td>0.026042</td>\n",
       "      <td>0.560324</td>\n",
       "      <td>0.027979</td>\n",
       "      <td>0.156250</td>\n",
       "      <td>0.052083</td>\n",
       "    </tr>\n",
       "    <tr>\n",
       "      <th>55</th>\n",
       "      <td>0.600000</td>\n",
       "      <td>0.026068</td>\n",
       "      <td>0.594217</td>\n",
       "      <td>0.025428</td>\n",
       "      <td>0.600000</td>\n",
       "      <td>0.026068</td>\n",
       "      <td>0.594217</td>\n",
       "      <td>0.025428</td>\n",
       "      <td>0.200000</td>\n",
       "      <td>0.052135</td>\n",
       "    </tr>\n",
       "    <tr>\n",
       "      <th>65</th>\n",
       "      <td>0.566667</td>\n",
       "      <td>0.027217</td>\n",
       "      <td>0.557078</td>\n",
       "      <td>0.026889</td>\n",
       "      <td>0.566667</td>\n",
       "      <td>0.027217</td>\n",
       "      <td>0.557078</td>\n",
       "      <td>0.026889</td>\n",
       "      <td>0.133333</td>\n",
       "      <td>0.054433</td>\n",
       "    </tr>\n",
       "  </tbody>\n",
       "</table>\n",
       "</div>"
      ],
      "text/plain": [
       "            accuracy            f1_macro            f1_micro            \\\n",
       "                mean       sem      mean       sem      mean       sem   \n",
       "train_size                                                               \n",
       "15          0.530645  0.020037  0.515826  0.019650  0.530645  0.020037   \n",
       "25          0.525000  0.016972  0.514365  0.017381  0.525000  0.016972   \n",
       "35          0.578571  0.022741  0.571503  0.022297  0.578571  0.022741   \n",
       "45          0.578125  0.026042  0.560324  0.027979  0.578125  0.026042   \n",
       "55          0.600000  0.026068  0.594217  0.025428  0.600000  0.026068   \n",
       "65          0.566667  0.027217  0.557078  0.026889  0.566667  0.027217   \n",
       "\n",
       "           f1_weighted               kappa            \n",
       "                  mean       sem      mean       sem  \n",
       "train_size                                            \n",
       "15            0.515826  0.019650  0.061290  0.040075  \n",
       "25            0.514365  0.017381  0.050000  0.033944  \n",
       "35            0.571503  0.022297  0.157143  0.045481  \n",
       "45            0.560324  0.027979  0.156250  0.052083  \n",
       "55            0.594217  0.025428  0.200000  0.052135  \n",
       "65            0.557078  0.026889  0.133333  0.054433  "
      ]
     },
     "execution_count": 72,
     "metadata": {},
     "output_type": "execute_result"
    }
   ],
   "source": [
    "grouped_res = df.select_dtypes(include = [\"int\", \"float\"]).groupby(['train_size']).agg(['mean', 'sem'])\n",
    "grouped_res"
   ]
  },
  {
   "cell_type": "code",
   "execution_count": 73,
   "metadata": {},
   "outputs": [],
   "source": [
    "conf_mats = []\n",
    "for i in np.arange(len(df)):\n",
    "    confusion_matrix = {\n",
    "        'all_y_true': literal_eval(df[\"y_true\"][i]),\n",
    "        'all_y_pred': literal_eval(df[\"y_pred\"][i])\n",
    "    }\n",
    "    conf_mats.append(confusion_matrix)"
   ]
  },
  {
   "cell_type": "code",
   "execution_count": 74,
   "metadata": {},
   "outputs": [
    {
     "name": "stdout",
     "output_type": "stream",
     "text": [
      "[[0.65       0.35      ]\n",
      " [0.51666667 0.48333333]]\n",
      "accuracy: 0.5666666666666667\n"
     ]
    },
    {
     "data": {
      "image/png": "[encoded data removed]",
      "text/plain": [
       "<Figure size 330x250 with 2 Axes>"
      ]
     },
     "metadata": {},
     "output_type": "display_data"
    }
   ],
   "source": [
    "index_maxsize = compiled_res[compiled_res[\"train_size\"]==max(compiled_res[\"train_size\"])].index\n",
    "conf_mats_max = [conf_mats[i] for i in index_maxsize]\n",
    "\n",
    "actual_all, predicted_all = [], []\n",
    "for index, _ in enumerate(conf_mats_max):\n",
    "    preds = conf_mats_max[index]\n",
    "    actual = preds[\"all_y_true\"]\n",
    "    predicted = preds[\"all_y_pred\"]\n",
    "    \n",
    "    for true, pred in zip(actual, predicted):\n",
    "        actual_all.append(true)\n",
    "        predicted_all.append(pred)\n",
    "\n",
    "confusion_matrix = metrics.confusion_matrix(actual_all, predicted_all)\n",
    "confusion_matrix_norm = confusion_matrix.astype(\"float\") / confusion_matrix.sum(axis=1)[:, np.newaxis]\n",
    "print(confusion_matrix_norm)\n",
    "\n",
    "cm = pycm.ConfusionMatrix(list(actual_all), list(predicted_all))\n",
    "acc = cm.Overall_ACC\n",
    "\n",
    "print(f'accuracy: {acc}')\n",
    "\n",
    "cm_display = metrics.ConfusionMatrixDisplay(\n",
    "    confusion_matrix = confusion_matrix_norm, display_labels = [0, 1])\n",
    "cm_display.plot(cmap=plt.cm.Blues, include_values=True, values_format=\".2f\")\n",
    "#plt.savefig('classif_MOFphotocat_confusionMatrix_50_50_size65_RF.pdf', bbox_inches='tight')"
   ]
  },
  {
   "cell_type": "code",
   "execution_count": null,
   "metadata": {},
   "outputs": [],
   "source": []
  },
  {
   "cell_type": "code",
   "execution_count": null,
   "metadata": {},
   "outputs": [],
   "source": []
  },
  {
   "cell_type": "code",
   "execution_count": null,
   "metadata": {},
   "outputs": [],
   "source": []
  },
  {
   "cell_type": "code",
   "execution_count": null,
   "metadata": {},
   "outputs": [],
   "source": []
  }
 ],
 "metadata": {
  "kernelspec": {
   "display_name": "Python [conda env:debyecalculator_env]",
   "language": "python",
   "name": "conda-env-debyecalculator_env-py"
  },
  "language_info": {
   "codemirror_mode": {
    "name": "ipython",
    "version": 3
   },
   "file_extension": ".py",
   "mimetype": "text/x-python",
   "name": "python",
   "nbconvert_exporter": "python",
   "pygments_lexer": "ipython3",
   "version": "3.9.19"
  }
 },
 "nbformat": 4,
 "nbformat_minor": 2
}
