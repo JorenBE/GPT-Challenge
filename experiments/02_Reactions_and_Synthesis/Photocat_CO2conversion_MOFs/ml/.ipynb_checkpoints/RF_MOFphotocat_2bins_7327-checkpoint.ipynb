{
 "cells": [
  {
   "cell_type": "markdown",
   "metadata": {},
   "source": [
    "## Random Forest - MOF_photocatalytic activity - 2bins - 73/27"
   ]
  },
  {
   "cell_type": "code",
   "execution_count": 1,
   "metadata": {},
   "outputs": [],
   "source": [
    "import pandas as pd\n",
    "import numpy as np\n",
    "from sklearn.model_selection import train_test_split\n",
    "from sklearn.preprocessing import LabelEncoder, OneHotEncoder\n",
    "from sklearn.metrics import accuracy_score, f1_score, cohen_kappa_score, r2_score, mean_absolute_error, root_mean_squared_error\n",
    "from sklearn.ensemble import RandomForestClassifier\n",
    "import matplotlib.pyplot as plt\n",
    "from sklearn import metrics\n",
    "import pycm\n",
    "from ast import literal_eval\n",
    "import sys\n",
    "sys.path.append(\"../plotutils/\")\n",
    "from plotutils import *\n",
    "plt.style.use(\"../plotutils/your.mplstyle\")\n",
    "from rdkit import Chem\n",
    "from rdkit.Chem import rdFingerprintGenerator"
   ]
  },
  {
   "cell_type": "code",
   "execution_count": 2,
   "metadata": {},
   "outputs": [],
   "source": [
    "def smiles_to_fingerprint(smiles) -> np.ndarray:\n",
    "    \"\"\"\n",
    "    Convert a SMILES string to a molecular fingerprint using RDKit.\n",
    "    \"\"\"\n",
    "    mol = Chem.MolFromSmiles(smiles)\n",
    "    if mol is None:\n",
    "        return None\n",
    "    # generate Morgan fingerprint\n",
    "    mfpgen = rdFingerprintGenerator.GetMorganGenerator(radius=20, fpSize=512)\n",
    "    fingerprint = mfpgen.GetFingerprint(mol)\n",
    "\n",
    "    return np.array(fingerprint)"
   ]
  },
  {
   "cell_type": "code",
   "execution_count": 3,
   "metadata": {
    "scrolled": true
   },
   "outputs": [
    {
     "name": "stdout",
     "output_type": "stream",
     "text": [
      "<class 'pandas.core.frame.DataFrame'>\n",
      "RangeIndex: 77 entries, 0 to 76\n",
      "Data columns (total 24 columns):\n",
      " #   Column                    Non-Null Count  Dtype  \n",
      "---  ------                    --------------  -----  \n",
      " 0   catalyst_name             77 non-null     object \n",
      " 1   linker_name               77 non-null     object \n",
      " 2   cocatalyst                11 non-null     object \n",
      " 3   SMILES                    77 non-null     object \n",
      " 4   source_for_metal          77 non-null     object \n",
      " 5   band_gap_for_composite    21 non-null     object \n",
      " 6   band_gap_for_MOF          29 non-null     object \n",
      " 7   band_gap_for_cocatalyst   9 non-null      float64\n",
      " 8   CB_for_MOF                25 non-null     object \n",
      " 9   CB_for_cocatalyst         9 non-null      float64\n",
      " 10  VB_for_MOF                25 non-null     object \n",
      " 11  VB_for_cocatalyst         9 non-null      float64\n",
      " 12  light_source              77 non-null     object \n",
      " 13  sacrificial_agent         77 non-null     object \n",
      " 14  reaction_phase            77 non-null     object \n",
      " 15  product                   77 non-null     object \n",
      " 16  activity                  77 non-null     float64\n",
      " 17  reaction_id               77 non-null     int64  \n",
      " 18  activity_2bins_5050       77 non-null     int64  \n",
      " 19  activity_7327             77 non-null     int64  \n",
      " 20  smiles_metal              77 non-null     object \n",
      " 21  catalyst                  77 non-null     object \n",
      " 22  catalyst_smiles           77 non-null     object \n",
      " 23  catalyst_smiles_bandgaps  77 non-null     object \n",
      "dtypes: float64(4), int64(3), object(17)\n",
      "memory usage: 14.6+ KB\n"
     ]
    }
   ],
   "source": [
    "df = pd.read_csv(f\"../PhotocatCO2conversionMOFs_dataset.csv\", sep=';')\n",
    "df.info()"
   ]
  },
  {
   "cell_type": "code",
   "execution_count": 4,
   "metadata": {},
   "outputs": [
    {
     "data": {
      "text/plain": [
       "0     [0, 0, 0, 0, 0, 0, 0, 0, 0, 0, 0, 0, 0, 0, 0, ...\n",
       "1     [0, 0, 0, 0, 0, 0, 0, 0, 0, 0, 0, 0, 0, 0, 0, ...\n",
       "2     [0, 0, 0, 0, 0, 0, 0, 0, 0, 0, 0, 0, 0, 0, 0, ...\n",
       "3     [0, 0, 0, 0, 0, 0, 0, 0, 0, 0, 0, 0, 0, 0, 0, ...\n",
       "4     [0, 0, 0, 0, 0, 0, 0, 0, 0, 0, 0, 0, 0, 0, 0, ...\n",
       "                            ...                        \n",
       "72    [0, 0, 0, 0, 0, 0, 0, 0, 0, 0, 1, 0, 0, 0, 0, ...\n",
       "73    [0, 0, 1, 0, 0, 0, 0, 0, 0, 0, 0, 0, 0, 0, 0, ...\n",
       "74    [0, 0, 0, 0, 0, 0, 0, 0, 0, 0, 0, 0, 0, 0, 0, ...\n",
       "75    [0, 0, 0, 0, 0, 0, 0, 0, 0, 0, 0, 0, 0, 0, 0, ...\n",
       "76    [0, 1, 0, 0, 0, 0, 0, 1, 0, 1, 0, 0, 0, 1, 0, ...\n",
       "Name: mp_bin, Length: 77, dtype: object"
      ]
     },
     "execution_count": 4,
     "metadata": {},
     "output_type": "execute_result"
    }
   ],
   "source": [
    "df[\"mp_bin\"] = df[\"SMILES\"].apply(smiles_to_fingerprint)\n",
    "df[\"mp_bin\"]"
   ]
  },
  {
   "cell_type": "code",
   "execution_count": 5,
   "metadata": {},
   "outputs": [
    {
     "name": "stdout",
     "output_type": "stream",
     "text": [
      "8\n"
     ]
    },
    {
     "data": {
      "text/plain": [
       "array(['CH3COOH', 'MeOH', 'H2', 'CO', 'CH4', 'HCOOC', 'HCOO', 'COOH'],\n",
       "      dtype=object)"
      ]
     },
     "execution_count": 5,
     "metadata": {},
     "output_type": "execute_result"
    }
   ],
   "source": [
    "print(len(df[\"product\"].unique()))\n",
    "df[\"product\"].unique()"
   ]
  },
  {
   "cell_type": "code",
   "execution_count": 6,
   "metadata": {},
   "outputs": [],
   "source": [
    "encoder_product = OneHotEncoder(sparse_output=False).set_output(transform=\"pandas\")\n",
    "one_hot_product = encoder_product.fit_transform(df[[\"product\"]])\n",
    "df = pd.concat([df, one_hot_product], axis=1)"
   ]
  },
  {
   "cell_type": "code",
   "execution_count": 7,
   "metadata": {
    "scrolled": true
   },
   "outputs": [
    {
     "name": "stdout",
     "output_type": "stream",
     "text": [
      "43\n"
     ]
    },
    {
     "data": {
      "text/plain": [
       "array(['ZrCl4', 'ZnO/Pt', 'In(NO3)3·xH2O', 'titanium isopropoxide',\n",
       "       'Co(NO3)2·6H2O', 'CoCl2∙6H2O', 'In(NO3)3·xH2O and Fe(NO3)3',\n",
       "       'ZrOCl2·8H2O', 'Re(CO)5Cl', 'zinc acetate hexahydrate',\n",
       "       'Zn(NO3)2·6H2O', 'zirconium (IV) chloride', 'isopropyl titanate',\n",
       "       'Titanium(IV) ethoxide', 'Co(NO3)2·H2O', 'Co(NO3)2•6H2O', 'Cu2O',\n",
       "       'ZrCl4 and tetrapropylorthortitanate', 'Co(CH3CHO)2·6H2O',\n",
       "       'Zn(NO3)2·6H2O and Ni(NO3)2·6H2O', 'copper nitrate trihydrate',\n",
       "       'Mg(NO3)2·6H2O', 'Zirconium tetrachloride',\n",
       "       'Ru(4,4′-H2dcbpy)2Cl2 and Cd(ClO4)2·6H2O', 'Ni(NO3)2·6H2O',\n",
       "       'Ni(NO3)2·6H2O, ZrCl4, and Cu(NO3)2·3H2O',\n",
       "       'Ni(phen)(oba)]n·0.5nH2O', 'titanium tetrachloride',\n",
       "       'Ce(NO3)3·6H2O', 'FeCl3·6H2O', 'Cu(NO3)2·6H2O', 'Cr(NO3)3·9H2O',\n",
       "       'Co(NO3)2 · 6H2O', 'Ni(ClO4)2·6H2O', 'zinc nitrate hexahydrate',\n",
       "       'Zn(NO3)2', 'tetra-n-butyl titanate', '9 RuCl3·3H2O/ ZrOCl2·H2O',\n",
       "       'Ir2(ppy)4Cl2', 'RhCl3 / ZrCl4', 'Fe2Zn', 'ZrCl5',\n",
       "       'Co(CH3COO)2·6H2O'], dtype=object)"
      ]
     },
     "execution_count": 7,
     "metadata": {},
     "output_type": "execute_result"
    }
   ],
   "source": [
    "print(len(df[\"source_for_metal\"].unique()))\n",
    "df[\"source_for_metal\"].unique()"
   ]
  },
  {
   "cell_type": "code",
   "execution_count": 8,
   "metadata": {},
   "outputs": [],
   "source": [
    "encoder_source = OneHotEncoder(sparse_output=False).set_output(transform=\"pandas\")\n",
    "one_hot_source = encoder_source.fit_transform(df[[\"source_for_metal\"]])\n",
    "df = pd.concat([df, one_hot_source], axis=1)"
   ]
  },
  {
   "cell_type": "code",
   "execution_count": 9,
   "metadata": {
    "scrolled": true
   },
   "outputs": [
    {
     "name": "stdout",
     "output_type": "stream",
     "text": [
      "33\n"
     ]
    },
    {
     "data": {
      "text/plain": [
       "array(['1,4-benzenedicarboxylic acid (H2BDC)', '2-methylimidazole',\n",
       "       '2-aminoterephthalic acid',\n",
       "       '4,5-dicarboxyimidazole and 4,4’- bipyridine', 'TCPP',\n",
       "       'Benzene-1,3,5-tricarboxylic acid (H3BTC)',\n",
       "       '2′-amino-[1,1′:4′,1″-terphenyl]-3,3″,5,5″- tetracarboxylic acid (H4L)',\n",
       "       '2,2′-bipyridine', '2-Methylimidazole', 'terephthalic acid',\n",
       "       'N,N-Cetyl Tri-methyl Ammonium Bromide', 'benzimidazole',\n",
       "       '1,3,5-benzenetricarboxylic acid',\n",
       "       '4,4′-(anthracene-9,10-diylbis(ethyne-2,1-diyl))dibenzoic acid',\n",
       "       '4,4′,4′′-nitrilotribenzoic acid and 4,4′-bipyridine',\n",
       "       \"4,4'-(porphyrin-5,15-diyl)dibenzoic acid\",\n",
       "       '1.2‐aminoterephtalic acid',\n",
       "       '2, 5-dioxido-1,4-benzenedicarboxylate',\n",
       "       'phen = 1,10-phenanthroline, oba = 4,4′-oxybis(benzoate)',\n",
       "       'Dicyandiamide',\n",
       "       '2,4,6-tris (2-(pyridin-4-yl)vinyl)-1,3,5-triazine and 1,3,5-benzenetricarboxylic acid',\n",
       "       '1,3,5-Benzenetricarboxylic acid',\n",
       "       '4,4′,4″-nitrilotribenzoic acid', 'benzimidazole (H-PhIM)',\n",
       "       '1,3,5-triformylbenzene, 5,5′-diamino-2,2′-bipyridine and 1,4-dioxane:mesitylene:6',\n",
       "       '4,4′-Biphenyldicarboxylic acid &  2,2-Bipyridyl-5,5-dicarboxylic acid',\n",
       "       '2,5-Dihydroxybenzene-1,4-dicarboxylic acid',\n",
       "       '4′-(4-Methoxycarbonylphenyl)-\\n 2.2′:6′,2′′terpyridine',\n",
       "       '2,2′-bipyridine-4,4′-dicarboxylic acid',\n",
       "       '5,10,15,20-tetrakis(4-methoxycarbonylphenyl)porphyrin',\n",
       "       'hexakis(4′-carboxy[1,1′-biphenyl]-4-yl)benzene',\n",
       "       'catbdc, 2,3-dihydroxyterephthalic acid',\n",
       "       \"Ni-4,4',4'',4'''-(5,10,15,20-porphyrintetrayl)tetraphosphonobenzoic acid (Ni-H8TPPP)\"],\n",
       "      dtype=object)"
      ]
     },
     "execution_count": 9,
     "metadata": {},
     "output_type": "execute_result"
    }
   ],
   "source": [
    "print(len(df[\"linker_name\"].unique()))\n",
    "df[\"linker_name\"].unique()"
   ]
  },
  {
   "cell_type": "code",
   "execution_count": 10,
   "metadata": {},
   "outputs": [],
   "source": [
    "encoder_linker = OneHotEncoder(sparse_output=False).set_output(transform=\"pandas\")\n",
    "one_hot_linker = encoder_linker.fit_transform(df[[\"linker_name\"]])\n",
    "df = pd.concat([df, one_hot_linker], axis=1)"
   ]
  },
  {
   "cell_type": "code",
   "execution_count": 11,
   "metadata": {},
   "outputs": [
    {
     "name": "stdout",
     "output_type": "stream",
     "text": [
      "5\n"
     ]
    },
    {
     "data": {
      "text/plain": [
       "array(['L', 'G', 'g', 'l', 'N'], dtype=object)"
      ]
     },
     "execution_count": 11,
     "metadata": {},
     "output_type": "execute_result"
    }
   ],
   "source": [
    "print(len(df[\"reaction_phase\"].unique()))\n",
    "df[\"reaction_phase\"].unique()"
   ]
  },
  {
   "cell_type": "code",
   "execution_count": 12,
   "metadata": {},
   "outputs": [],
   "source": [
    "encoder_phase = OneHotEncoder(sparse_output=False).set_output(transform=\"pandas\")\n",
    "one_hot_phase = encoder_phase.fit_transform(df[[\"reaction_phase\"]])\n",
    "df = pd.concat([df, one_hot_phase], axis=1)"
   ]
  },
  {
   "cell_type": "code",
   "execution_count": 13,
   "metadata": {},
   "outputs": [
    {
     "name": "stdout",
     "output_type": "stream",
     "text": [
      "30\n"
     ]
    },
    {
     "data": {
      "text/plain": [
       "array(['H2O+CO2', 'H2O+CO2 (Co(bpy)3)2', 'H2O+CO2 (Ru-(bpy)3)2',\n",
       "       'Prophyrin', 'BNAH and TEOA, (Ru(bpy)3)2+',\n",
       "       'TEOA, BNAH,(Ru(bpy)3)2+', '(bpy)3', 'TEOA',\n",
       "       'acetonitrile and TEOA', 'ethyl acetate or acetonitrile,H2O+CO2',\n",
       "       'MeCN and TEOA', 'MeCN and triethanolamine',\n",
       "       '[Ru(bpy)3]Cl2·6H2O , acetonitrile and TEOA and H2O+CO2',\n",
       "       'acetonitrile and H2O+CO2',\n",
       "       'acetonitrile, TEOA, H2O, CoCl2·6H2O, and bipyridine+CO2',\n",
       "       'Aceton, TEOA, CO2', '[Ru(bpy)3]Cl2.6H2O and TIPA, H2O and CO2',\n",
       "       '[Ru(bpy)3]Cl2.6H2O and TIPA, H2O and CO3',\n",
       "       '[Ru(bpy)3]Cl2.6H2O and TIPA, H2O and CO4', 'TEOA, Aceton +CO2',\n",
       "       'MeCN/TEOA/H2O and [Ru(bpy)3]Cl2 · 6H2O',\n",
       "       '[Ru(bpy)3]Cl2·6H2O +CO2', 'TEOA or DMA, DMF and H2O +CO2',\n",
       "       'H2O +CO2', 'MeCN/MeOH/TEOA +cO2', 'H2O + CO2', 'MeCN/TEOA',\n",
       "       'TIPA', 'TEOA/H2O', 'TEOA/H2O/MeCN and [Ru(bpy)3]Cl2·6H2O'],\n",
       "      dtype=object)"
      ]
     },
     "execution_count": 13,
     "metadata": {},
     "output_type": "execute_result"
    }
   ],
   "source": [
    "print(len(df[\"sacrificial_agent\"].unique()))\n",
    "df[\"sacrificial_agent\"].unique()"
   ]
  },
  {
   "cell_type": "code",
   "execution_count": 14,
   "metadata": {},
   "outputs": [],
   "source": [
    "encoder_agent = OneHotEncoder(sparse_output=False).set_output(transform=\"pandas\")\n",
    "one_hot_agent = encoder_agent.fit_transform(df[[\"sacrificial_agent\"]])\n",
    "df = pd.concat([df, one_hot_agent], axis=1)"
   ]
  },
  {
   "cell_type": "code",
   "execution_count": 15,
   "metadata": {},
   "outputs": [
    {
     "name": "stdout",
     "output_type": "stream",
     "text": [
      "8\n"
     ]
    },
    {
     "data": {
      "text/plain": [
       "array(['MoS2', 'Cd2Zn8S', nan, 'ZnO/rGO', 'CdS', 'g-C3N4', 'TiO2', 'Ag'],\n",
       "      dtype=object)"
      ]
     },
     "execution_count": 15,
     "metadata": {},
     "output_type": "execute_result"
    }
   ],
   "source": [
    "print(len(df[\"cocatalyst\"].unique()))\n",
    "df[\"cocatalyst\"].unique()"
   ]
  },
  {
   "cell_type": "code",
   "execution_count": 16,
   "metadata": {},
   "outputs": [],
   "source": [
    "encoder_cocatalyst = OneHotEncoder(sparse_output=False).set_output(transform=\"pandas\")\n",
    "one_hot_cocatalyst = encoder_cocatalyst.fit_transform(df[[\"cocatalyst\"]])\n",
    "df = pd.concat([df, one_hot_cocatalyst], axis=1)"
   ]
  },
  {
   "cell_type": "code",
   "execution_count": 17,
   "metadata": {},
   "outputs": [
    {
     "name": "stdout",
     "output_type": "stream",
     "text": [
      "<class 'pandas.core.frame.DataFrame'>\n",
      "RangeIndex: 77 entries, 0 to 76\n",
      "Columns: 153 entries, catalyst_name to cocatalyst_nan\n",
      "dtypes: float64(131), int64(3), object(19)\n",
      "memory usage: 92.2+ KB\n"
     ]
    }
   ],
   "source": [
    "df.info()"
   ]
  },
  {
   "cell_type": "code",
   "execution_count": 19,
   "metadata": {},
   "outputs": [
    {
     "data": {
      "text/plain": [
       "['mp_bin',\n",
       " 'product_CH3COOH',\n",
       " 'product_CH4',\n",
       " 'product_CO',\n",
       " 'product_COOH',\n",
       " 'product_H2',\n",
       " 'product_HCOO',\n",
       " 'product_HCOOC',\n",
       " 'product_MeOH',\n",
       " 'source_for_metal_9 RuCl3·3H2O/ ZrOCl2·H2O',\n",
       " 'source_for_metal_Ce(NO3)3·6H2O',\n",
       " 'source_for_metal_Co(CH3CHO)2·6H2O',\n",
       " 'source_for_metal_Co(CH3COO)2·6H2O',\n",
       " 'source_for_metal_Co(NO3)2 · 6H2O',\n",
       " 'source_for_metal_Co(NO3)2·6H2O',\n",
       " 'source_for_metal_Co(NO3)2·H2O',\n",
       " 'source_for_metal_Co(NO3)2•6H2O',\n",
       " 'source_for_metal_CoCl2∙6H2O',\n",
       " 'source_for_metal_Cr(NO3)3·9H2O',\n",
       " 'source_for_metal_Cu(NO3)2·6H2O',\n",
       " 'source_for_metal_Cu2O',\n",
       " 'source_for_metal_Fe2Zn',\n",
       " 'source_for_metal_FeCl3·6H2O',\n",
       " 'source_for_metal_In(NO3)3·xH2O',\n",
       " 'source_for_metal_In(NO3)3·xH2O and Fe(NO3)3',\n",
       " 'source_for_metal_Ir2(ppy)4Cl2',\n",
       " 'source_for_metal_Mg(NO3)2·6H2O',\n",
       " 'source_for_metal_Ni(ClO4)2·6H2O',\n",
       " 'source_for_metal_Ni(NO3)2·6H2O',\n",
       " 'source_for_metal_Ni(NO3)2·6H2O, ZrCl4, and Cu(NO3)2·3H2O',\n",
       " 'source_for_metal_Ni(phen)(oba)]n·0.5nH2O',\n",
       " 'source_for_metal_Re(CO)5Cl',\n",
       " 'source_for_metal_RhCl3 / ZrCl4',\n",
       " 'source_for_metal_Ru(4,4′-H2dcbpy)2Cl2 and Cd(ClO4)2·6H2O',\n",
       " 'source_for_metal_Titanium(IV) ethoxide',\n",
       " 'source_for_metal_Zirconium tetrachloride',\n",
       " 'source_for_metal_Zn(NO3)2',\n",
       " 'source_for_metal_Zn(NO3)2·6H2O',\n",
       " 'source_for_metal_Zn(NO3)2·6H2O and Ni(NO3)2·6H2O',\n",
       " 'source_for_metal_ZnO/Pt',\n",
       " 'source_for_metal_ZrCl4',\n",
       " 'source_for_metal_ZrCl4 and tetrapropylorthortitanate',\n",
       " 'source_for_metal_ZrCl5',\n",
       " 'source_for_metal_ZrOCl2·8H2O',\n",
       " 'source_for_metal_copper nitrate trihydrate',\n",
       " 'source_for_metal_isopropyl titanate',\n",
       " 'source_for_metal_tetra-n-butyl titanate',\n",
       " 'source_for_metal_titanium isopropoxide',\n",
       " 'source_for_metal_titanium tetrachloride',\n",
       " 'source_for_metal_zinc acetate hexahydrate',\n",
       " 'source_for_metal_zinc nitrate hexahydrate',\n",
       " 'source_for_metal_zirconium (IV) chloride',\n",
       " 'linker_name_1,3,5-Benzenetricarboxylic acid',\n",
       " 'linker_name_1,3,5-benzenetricarboxylic acid',\n",
       " 'linker_name_1,3,5-triformylbenzene, 5,5′-diamino-2,2′-bipyridine and 1,4-dioxane:mesitylene:6',\n",
       " 'linker_name_1,4-benzenedicarboxylic acid (H2BDC)',\n",
       " 'linker_name_1.2‐aminoterephtalic acid',\n",
       " 'linker_name_2, 5-dioxido-1,4-benzenedicarboxylate',\n",
       " 'linker_name_2,2′-bipyridine',\n",
       " 'linker_name_2,2′-bipyridine-4,4′-dicarboxylic acid',\n",
       " 'linker_name_2,4,6-tris (2-(pyridin-4-yl)vinyl)-1,3,5-triazine and 1,3,5-benzenetricarboxylic acid',\n",
       " 'linker_name_2,5-Dihydroxybenzene-1,4-dicarboxylic acid',\n",
       " 'linker_name_2-Methylimidazole',\n",
       " 'linker_name_2-aminoterephthalic acid',\n",
       " 'linker_name_2-methylimidazole',\n",
       " 'linker_name_2′-amino-[1,1′:4′,1″-terphenyl]-3,3″,5,5″- tetracarboxylic acid (H4L)',\n",
       " \"linker_name_4,4'-(porphyrin-5,15-diyl)dibenzoic acid\",\n",
       " 'linker_name_4,4′,4′′-nitrilotribenzoic acid and 4,4′-bipyridine',\n",
       " 'linker_name_4,4′,4″-nitrilotribenzoic acid',\n",
       " 'linker_name_4,4′-(anthracene-9,10-diylbis(ethyne-2,1-diyl))dibenzoic acid',\n",
       " 'linker_name_4,4′-Biphenyldicarboxylic acid &  2,2-Bipyridyl-5,5-dicarboxylic acid',\n",
       " 'linker_name_4,5-dicarboxyimidazole and 4,4’- bipyridine',\n",
       " 'linker_name_4′-(4-Methoxycarbonylphenyl)-\\n 2.2′:6′,2′′terpyridine',\n",
       " 'linker_name_5,10,15,20-tetrakis(4-methoxycarbonylphenyl)porphyrin',\n",
       " 'linker_name_Benzene-1,3,5-tricarboxylic acid (H3BTC)',\n",
       " 'linker_name_Dicyandiamide',\n",
       " 'linker_name_N,N-Cetyl Tri-methyl Ammonium Bromide',\n",
       " \"linker_name_Ni-4,4',4'',4'''-(5,10,15,20-porphyrintetrayl)tetraphosphonobenzoic acid (Ni-H8TPPP)\",\n",
       " 'linker_name_TCPP',\n",
       " 'linker_name_benzimidazole',\n",
       " 'linker_name_benzimidazole (H-PhIM)',\n",
       " 'linker_name_catbdc, 2,3-dihydroxyterephthalic acid',\n",
       " 'linker_name_hexakis(4′-carboxy[1,1′-biphenyl]-4-yl)benzene',\n",
       " 'linker_name_phen = 1,10-phenanthroline, oba = 4,4′-oxybis(benzoate)',\n",
       " 'linker_name_terephthalic acid',\n",
       " 'reaction_phase_G',\n",
       " 'reaction_phase_L',\n",
       " 'reaction_phase_N',\n",
       " 'reaction_phase_g',\n",
       " 'reaction_phase_l',\n",
       " 'sacrificial_agent_(bpy)3',\n",
       " 'sacrificial_agent_Aceton, TEOA, CO2',\n",
       " 'sacrificial_agent_BNAH and TEOA, (Ru(bpy)3)2+',\n",
       " 'sacrificial_agent_H2O + CO2',\n",
       " 'sacrificial_agent_H2O +CO2',\n",
       " 'sacrificial_agent_H2O+CO2',\n",
       " 'sacrificial_agent_H2O+CO2 (Co(bpy)3)2',\n",
       " 'sacrificial_agent_H2O+CO2 (Ru-(bpy)3)2',\n",
       " 'sacrificial_agent_MeCN and TEOA',\n",
       " 'sacrificial_agent_MeCN and triethanolamine',\n",
       " 'sacrificial_agent_MeCN/MeOH/TEOA +cO2',\n",
       " 'sacrificial_agent_MeCN/TEOA',\n",
       " 'sacrificial_agent_MeCN/TEOA/H2O and [Ru(bpy)3]Cl2 · 6H2O',\n",
       " 'sacrificial_agent_Prophyrin',\n",
       " 'sacrificial_agent_TEOA',\n",
       " 'sacrificial_agent_TEOA or DMA, DMF and H2O +CO2',\n",
       " 'sacrificial_agent_TEOA, Aceton +CO2',\n",
       " 'sacrificial_agent_TEOA, BNAH,(Ru(bpy)3)2+',\n",
       " 'sacrificial_agent_TEOA/H2O',\n",
       " 'sacrificial_agent_TEOA/H2O/MeCN and [Ru(bpy)3]Cl2·6H2O',\n",
       " 'sacrificial_agent_TIPA',\n",
       " 'sacrificial_agent_[Ru(bpy)3]Cl2.6H2O and TIPA, H2O and CO2',\n",
       " 'sacrificial_agent_[Ru(bpy)3]Cl2.6H2O and TIPA, H2O and CO3',\n",
       " 'sacrificial_agent_[Ru(bpy)3]Cl2.6H2O and TIPA, H2O and CO4',\n",
       " 'sacrificial_agent_[Ru(bpy)3]Cl2·6H2O +CO2',\n",
       " 'sacrificial_agent_[Ru(bpy)3]Cl2·6H2O , acetonitrile and TEOA and H2O+CO2',\n",
       " 'sacrificial_agent_acetonitrile and H2O+CO2',\n",
       " 'sacrificial_agent_acetonitrile and TEOA',\n",
       " 'sacrificial_agent_acetonitrile, TEOA, H2O, CoCl2·6H2O, and bipyridine+CO2',\n",
       " 'sacrificial_agent_ethyl acetate or acetonitrile,H2O+CO2',\n",
       " 'cocatalyst_Ag',\n",
       " 'cocatalyst_Cd2Zn8S',\n",
       " 'cocatalyst_CdS',\n",
       " 'cocatalyst_MoS2',\n",
       " 'cocatalyst_TiO2',\n",
       " 'cocatalyst_ZnO/rGO',\n",
       " 'cocatalyst_g-C3N4',\n",
       " 'cocatalyst_nan']"
      ]
     },
     "execution_count": 19,
     "metadata": {},
     "output_type": "execute_result"
    }
   ],
   "source": [
    "list(df.iloc[:,25:153].columns)"
   ]
  },
  {
   "cell_type": "code",
   "execution_count": 32,
   "metadata": {},
   "outputs": [],
   "source": [
    "def prepare_dataset_classification(\n",
    "    df,\n",
    "    target = \"activity_7327\",\n",
    "    representation = list(df.iloc[:,25:153].columns),\n",
    "    random_state=42,\n",
    "    train_size=65\n",
    "):\n",
    "    df_train, df_test = train_test_split(\n",
    "        df,\n",
    "        train_size=train_size,\n",
    "        random_state=random_state,\n",
    "        stratify=df[target].astype(int).values,\n",
    "    )\n",
    "    print(len(df_train), len(df_test))\n",
    "    \n",
    "    X_train, y_train = df_train[representation], df_train[target]\n",
    "    X_test, y_test = df_test[representation], df_test[target]\n",
    "    \n",
    "    X_train_concatenate = X_train.iloc[[i for i in np.arange(len(X_train))],:].apply(\n",
    "        lambda row: np.hstack(row), axis=1\n",
    "    )\n",
    "    \n",
    "    X_test_concatenate = X_test.iloc[[i for i in np.arange(len(X_test))],:].apply(\n",
    "        lambda row: np.hstack(row), axis=1\n",
    "    )\n",
    "    \n",
    "    return list(X_train_concatenate), y_train, list(X_test_concatenate), y_test"
   ]
  },
  {
   "cell_type": "code",
   "execution_count": 33,
   "metadata": {},
   "outputs": [],
   "source": [
    "def train_and_evaluate_classifier(X_train, y_train, X_test, y_test, random_state=42):\n",
    "    clf = RandomForestClassifier(\n",
    "        n_estimators=200, \n",
    "        random_state=random_state,\n",
    "        verbose=True\n",
    "    )\n",
    "    \n",
    "    clf.fit(X_train, y_train)\n",
    "    \n",
    "    y_pred = clf.predict(X_test)\n",
    "    y_test = np.array(y_test)\n",
    "    \n",
    "    acc = accuracy_score(y_test, y_pred)\n",
    "    f1_macro = f1_score(y_test, y_pred, average=\"macro\")\n",
    "    f1_micro = f1_score(y_test, y_pred, average=\"micro\")\n",
    "    f1_weighted = f1_score(y_test, y_pred, average='weighted')\n",
    "    kappa = cohen_kappa_score(y_test, y_pred)\n",
    "    \n",
    "    return y_test, y_pred, acc, f1_macro, f1_micro, f1_weighted, kappa"
   ]
  },
  {
   "cell_type": "code",
   "execution_count": 34,
   "metadata": {},
   "outputs": [],
   "source": [
    "def metrics_dict():\n",
    "    metrics_dict = {\n",
    "        \"train_size\": train_size,\n",
    "        \"y_true\": y_test_all,\n",
    "        \"y_pred\": y_pred_all,\n",
    "        \"accuracy\": acc_scores,\n",
    "        \"f1_macro\": f1macro_scores,\n",
    "        \"f1_micro\": f1micro_scores,\n",
    "        \"f1_weighted\": f1weighted_scores,\n",
    "        \"kappa\": kappa_scores\n",
    "    }\n",
    "    return metrics_dict"
   ]
  },
  {
   "cell_type": "markdown",
   "metadata": {},
   "source": [
    "### training size = 15"
   ]
  },
  {
   "cell_type": "code",
   "execution_count": 35,
   "metadata": {},
   "outputs": [],
   "source": [
    "train_size = 15\n",
    "iterations = 10\n",
    "y_test_all = []\n",
    "y_pred_all = []\n",
    "acc_scores = []\n",
    "f1macro_scores = []\n",
    "f1micro_scores = []\n",
    "f1weighted_scores = []\n",
    "kappa_scores = []"
   ]
  },
  {
   "cell_type": "code",
   "execution_count": 36,
   "metadata": {
    "scrolled": true
   },
   "outputs": [
    {
     "name": "stdout",
     "output_type": "stream",
     "text": [
      "-------------Iteration 1/10\n",
      "15 62\n",
      "random_state = 42\n",
      "Accuracy: 0.7258064516129032\n",
      "F1 macro: 0.4205607476635514\n",
      "F1 micro: 0.7258064516129032\n",
      "F1 weighted: 0.6104914078987036\n",
      "Kappa: 0.0\n",
      "-------------Iteration 2/10\n",
      "15 62\n",
      "random_state = 43\n"
     ]
    },
    {
     "name": "stderr",
     "output_type": "stream",
     "text": [
      "[Parallel(n_jobs=1)]: Done  49 tasks      | elapsed:    0.0s\n",
      "[Parallel(n_jobs=1)]: Done 199 tasks      | elapsed:    0.1s\n",
      "[Parallel(n_jobs=1)]: Done  49 tasks      | elapsed:    0.0s\n",
      "[Parallel(n_jobs=1)]: Done 199 tasks      | elapsed:    0.0s\n",
      "[Parallel(n_jobs=1)]: Done  49 tasks      | elapsed:    0.0s\n",
      "[Parallel(n_jobs=1)]: Done 199 tasks      | elapsed:    0.1s\n",
      "[Parallel(n_jobs=1)]: Done  49 tasks      | elapsed:    0.0s\n",
      "[Parallel(n_jobs=1)]: Done 199 tasks      | elapsed:    0.0s\n",
      "[Parallel(n_jobs=1)]: Done  49 tasks      | elapsed:    0.0s\n",
      "[Parallel(n_jobs=1)]: Done 199 tasks      | elapsed:    0.1s\n",
      "[Parallel(n_jobs=1)]: Done  49 tasks      | elapsed:    0.0s\n",
      "[Parallel(n_jobs=1)]: Done 199 tasks      | elapsed:    0.0s\n",
      "[Parallel(n_jobs=1)]: Done  49 tasks      | elapsed:    0.0s\n"
     ]
    },
    {
     "name": "stdout",
     "output_type": "stream",
     "text": [
      "Accuracy: 0.6612903225806451\n",
      "F1 macro: 0.47393939393939394\n",
      "F1 micro: 0.6612903225806451\n",
      "F1 weighted: 0.6157184750733138\n",
      "Kappa: -0.018779342723004744\n",
      "-------------Iteration 3/10\n",
      "15 62\n",
      "random_state = 44\n",
      "Accuracy: 0.6451612903225806\n",
      "F1 macro: 0.46467817896389324\n",
      "F1 micro: 0.6451612903225806\n",
      "F1 weighted: 0.6050539322428723\n",
      "Kappa: -0.04441041347626329\n",
      "-------------Iteration 4/10\n",
      "15 62\n",
      "random_state = 45\n"
     ]
    },
    {
     "name": "stderr",
     "output_type": "stream",
     "text": [
      "[Parallel(n_jobs=1)]: Done 199 tasks      | elapsed:    0.1s\n",
      "[Parallel(n_jobs=1)]: Done  49 tasks      | elapsed:    0.0s\n",
      "[Parallel(n_jobs=1)]: Done 199 tasks      | elapsed:    0.0s\n",
      "[Parallel(n_jobs=1)]: Done  49 tasks      | elapsed:    0.0s\n",
      "[Parallel(n_jobs=1)]: Done 199 tasks      | elapsed:    0.1s\n",
      "[Parallel(n_jobs=1)]: Done  49 tasks      | elapsed:    0.0s\n",
      "[Parallel(n_jobs=1)]: Done 199 tasks      | elapsed:    0.0s\n"
     ]
    },
    {
     "name": "stdout",
     "output_type": "stream",
     "text": [
      "Accuracy: 0.6290322580645161\n",
      "F1 macro: 0.4555173730431462\n",
      "F1 micro: 0.6290322580645161\n",
      "F1 weighted: 0.5943292810602422\n",
      "Kappa: -0.06896551724137923\n",
      "-------------Iteration 5/10\n",
      "15 62\n",
      "random_state = 46\n",
      "Accuracy: 0.7258064516129032\n",
      "F1 macro: 0.4716791979949875\n",
      "F1 micro: 0.7258064516129032\n",
      "F1 weighted: 0.6371574096531653\n",
      "Kappa: 0.0504504504504506\n",
      "-------------Iteration 6/10\n",
      "15 62\n",
      "random_state = 47\n"
     ]
    },
    {
     "name": "stderr",
     "output_type": "stream",
     "text": [
      "[Parallel(n_jobs=1)]: Done  49 tasks      | elapsed:    0.0s\n",
      "[Parallel(n_jobs=1)]: Done 199 tasks      | elapsed:    0.1s\n",
      "[Parallel(n_jobs=1)]: Done  49 tasks      | elapsed:    0.0s\n",
      "[Parallel(n_jobs=1)]: Done 199 tasks      | elapsed:    0.0s\n",
      "[Parallel(n_jobs=1)]: Done  49 tasks      | elapsed:    0.0s\n",
      "[Parallel(n_jobs=1)]: Done 199 tasks      | elapsed:    0.1s\n"
     ]
    },
    {
     "name": "stdout",
     "output_type": "stream",
     "text": [
      "Accuracy: 0.7258064516129032\n",
      "F1 macro: 0.4716791979949875\n",
      "F1 micro: 0.7258064516129032\n",
      "F1 weighted: 0.6371574096531653\n",
      "Kappa: 0.0504504504504506\n",
      "-------------Iteration 7/10\n",
      "15 62\n",
      "random_state = 48\n",
      "Accuracy: 0.6451612903225806\n",
      "F1 macro: 0.39215686274509803\n",
      "F1 micro: 0.6451612903225806\n",
      "F1 weighted: 0.5692599620493359\n",
      "Kappa: -0.1423785594639866\n",
      "-------------Iteration 8/10\n",
      "15 62\n",
      "random_state = 49\n"
     ]
    },
    {
     "name": "stderr",
     "output_type": "stream",
     "text": [
      "[Parallel(n_jobs=1)]: Done  49 tasks      | elapsed:    0.0s\n",
      "[Parallel(n_jobs=1)]: Done 199 tasks      | elapsed:    0.0s\n",
      "[Parallel(n_jobs=1)]: Done  49 tasks      | elapsed:    0.0s\n",
      "[Parallel(n_jobs=1)]: Done 199 tasks      | elapsed:    0.1s\n",
      "[Parallel(n_jobs=1)]: Done  49 tasks      | elapsed:    0.0s\n",
      "[Parallel(n_jobs=1)]: Done 199 tasks      | elapsed:    0.0s\n"
     ]
    },
    {
     "name": "stdout",
     "output_type": "stream",
     "text": [
      "Accuracy: 0.7419354838709677\n",
      "F1 macro: 0.48008385744234805\n",
      "F1 micro: 0.7419354838709677\n",
      "F1 weighted: 0.6467167106241969\n",
      "Kappa: 0.08317929759704257\n",
      "-------------Iteration 9/10\n",
      "15 62\n",
      "random_state = 50\n",
      "Accuracy: 0.6935483870967742\n",
      "F1 macro: 0.4095238095238095\n",
      "F1 micro: 0.6935483870967742\n",
      "F1 weighted: 0.5944700460829493\n",
      "Kappa: -0.06126126126126108\n",
      "-------------Iteration 10/10\n",
      "15 62\n",
      "random_state = 51\n"
     ]
    },
    {
     "name": "stderr",
     "output_type": "stream",
     "text": [
      "[Parallel(n_jobs=1)]: Done  49 tasks      | elapsed:    0.0s\n",
      "[Parallel(n_jobs=1)]: Done 199 tasks      | elapsed:    0.1s\n",
      "[Parallel(n_jobs=1)]: Done  49 tasks      | elapsed:    0.0s\n",
      "[Parallel(n_jobs=1)]: Done 199 tasks      | elapsed:    0.0s\n",
      "[Parallel(n_jobs=1)]: Done  49 tasks      | elapsed:    0.0s\n"
     ]
    },
    {
     "name": "stdout",
     "output_type": "stream",
     "text": [
      "Accuracy: 0.6935483870967742\n",
      "F1 macro: 0.5502100038182512\n",
      "F1 micro: 0.6935483870967742\n",
      "F1 weighted: 0.6648807104410696\n",
      "Kappa: 0.11694152923538226\n"
     ]
    },
    {
     "name": "stderr",
     "output_type": "stream",
     "text": [
      "[Parallel(n_jobs=1)]: Done 199 tasks      | elapsed:    0.1s\n",
      "[Parallel(n_jobs=1)]: Done  49 tasks      | elapsed:    0.0s\n",
      "[Parallel(n_jobs=1)]: Done 199 tasks      | elapsed:    0.0s\n"
     ]
    }
   ],
   "source": [
    "for n in range(iterations):\n",
    "    print(f\"-------------Iteration {n + 1}/{iterations}\")\n",
    "    random_state=42+n\n",
    "\n",
    "    X_train, y_train, X_test, y_test = prepare_dataset_classification(\n",
    "        df,\n",
    "        random_state=random_state,\n",
    "        train_size=train_size\n",
    "    )\n",
    "    print(f\"random_state = {random_state}\")\n",
    "\n",
    "    y_test, y_pred, acc, f1_macro, f1_micro, f1_weighted, kappa = train_and_evaluate_classifier(\n",
    "        X_train, \n",
    "        y_train, \n",
    "        X_test, \n",
    "        y_test, \n",
    "        random_state=random_state\n",
    "    )\n",
    "    \n",
    "    y_test_all.append(y_test)\n",
    "    y_pred_all.append(y_pred)    \n",
    "    acc_scores.append(acc)\n",
    "    f1macro_scores.append(f1_macro)\n",
    "    f1micro_scores.append(f1_micro)\n",
    "    f1weighted_scores.append(f1_weighted)\n",
    "    kappa_scores.append(kappa)\n",
    "    print(f\"Accuracy: {acc}\")\n",
    "    print(f\"F1 macro: {f1_macro}\")\n",
    "    print(f\"F1 micro: {f1_micro}\")\n",
    "    print(f\"F1 weighted: {f1_weighted}\")\n",
    "    print(f\"Kappa: {kappa}\")"
   ]
  },
  {
   "cell_type": "code",
   "execution_count": 37,
   "metadata": {},
   "outputs": [
    {
     "name": "stdout",
     "output_type": "stream",
     "text": [
      "FINAL REPORT for training size = 15\n",
      "mean accuracy: 0.6887096774193548 +/- 0.03887732513933534\n",
      "mean F1 macro: 0.45900286231294674 +/- 0.04212641490001329\n",
      "mean F1 micro: 0.6887096774193548 +/- 0.03887732513933534\n",
      "mean F1 weighted: 0.6175235344779014 +/- 0.027336662055629173\n",
      "mean Kappa: -0.0034773366432568897 +/- 0.07527913485264072\n"
     ]
    }
   ],
   "source": [
    "print(f\"FINAL REPORT for training size = {train_size}\")\n",
    "\n",
    "print(f\"mean accuracy: {np.mean(acc_scores)} +/- {np.std(acc_scores)}\")\n",
    "print(f\"mean F1 macro: {np.mean(f1macro_scores)} +/- {np.std(f1macro_scores)}\")\n",
    "print(f\"mean F1 micro: {np.mean(f1micro_scores)} +/- {np.std(f1micro_scores)}\")\n",
    "print(f\"mean F1 weighted: {np.mean(f1weighted_scores)} +/- {np.std(f1weighted_scores)}\")\n",
    "print(f\"mean Kappa: {np.mean(kappa_scores)} +/- {np.std(kappa_scores)}\")"
   ]
  },
  {
   "cell_type": "code",
   "execution_count": 38,
   "metadata": {},
   "outputs": [
    {
     "data": {
      "text/html": [
       "<div>\n",
       "<style scoped>\n",
       "    .dataframe tbody tr th:only-of-type {\n",
       "        vertical-align: middle;\n",
       "    }\n",
       "\n",
       "    .dataframe tbody tr th {\n",
       "        vertical-align: top;\n",
       "    }\n",
       "\n",
       "    .dataframe thead th {\n",
       "        text-align: right;\n",
       "    }\n",
       "</style>\n",
       "<table border=\"1\" class=\"dataframe\">\n",
       "  <thead>\n",
       "    <tr style=\"text-align: right;\">\n",
       "      <th></th>\n",
       "      <th>train_size</th>\n",
       "      <th>y_true</th>\n",
       "      <th>y_pred</th>\n",
       "      <th>accuracy</th>\n",
       "      <th>f1_macro</th>\n",
       "      <th>f1_micro</th>\n",
       "      <th>f1_weighted</th>\n",
       "      <th>kappa</th>\n",
       "    </tr>\n",
       "  </thead>\n",
       "  <tbody>\n",
       "    <tr>\n",
       "      <th>0</th>\n",
       "      <td>15</td>\n",
       "      <td>[0, 0, 0, 0, 0, 0, 1, 1, 1, 0, 1, 0, 0, 0, 0, ...</td>\n",
       "      <td>[0, 0, 0, 0, 0, 0, 0, 0, 0, 0, 0, 0, 0, 0, 0, ...</td>\n",
       "      <td>0.725806</td>\n",
       "      <td>0.420561</td>\n",
       "      <td>0.725806</td>\n",
       "      <td>0.610491</td>\n",
       "      <td>0.000000</td>\n",
       "    </tr>\n",
       "    <tr>\n",
       "      <th>1</th>\n",
       "      <td>15</td>\n",
       "      <td>[0, 0, 0, 0, 1, 0, 0, 0, 0, 0, 0, 0, 0, 0, 0, ...</td>\n",
       "      <td>[0, 0, 1, 0, 0, 0, 0, 0, 0, 0, 0, 0, 0, 0, 0, ...</td>\n",
       "      <td>0.661290</td>\n",
       "      <td>0.473939</td>\n",
       "      <td>0.661290</td>\n",
       "      <td>0.615718</td>\n",
       "      <td>-0.018779</td>\n",
       "    </tr>\n",
       "    <tr>\n",
       "      <th>2</th>\n",
       "      <td>15</td>\n",
       "      <td>[0, 0, 0, 1, 0, 1, 1, 1, 0, 1, 0, 0, 1, 1, 1, ...</td>\n",
       "      <td>[0, 0, 0, 0, 1, 0, 0, 0, 0, 0, 0, 0, 0, 0, 0, ...</td>\n",
       "      <td>0.645161</td>\n",
       "      <td>0.464678</td>\n",
       "      <td>0.645161</td>\n",
       "      <td>0.605054</td>\n",
       "      <td>-0.044410</td>\n",
       "    </tr>\n",
       "  </tbody>\n",
       "</table>\n",
       "</div>"
      ],
      "text/plain": [
       "   train_size                                             y_true  \\\n",
       "0          15  [0, 0, 0, 0, 0, 0, 1, 1, 1, 0, 1, 0, 0, 0, 0, ...   \n",
       "1          15  [0, 0, 0, 0, 1, 0, 0, 0, 0, 0, 0, 0, 0, 0, 0, ...   \n",
       "2          15  [0, 0, 0, 1, 0, 1, 1, 1, 0, 1, 0, 0, 1, 1, 1, ...   \n",
       "\n",
       "                                              y_pred  accuracy  f1_macro  \\\n",
       "0  [0, 0, 0, 0, 0, 0, 0, 0, 0, 0, 0, 0, 0, 0, 0, ...  0.725806  0.420561   \n",
       "1  [0, 0, 1, 0, 0, 0, 0, 0, 0, 0, 0, 0, 0, 0, 0, ...  0.661290  0.473939   \n",
       "2  [0, 0, 0, 0, 1, 0, 0, 0, 0, 0, 0, 0, 0, 0, 0, ...  0.645161  0.464678   \n",
       "\n",
       "   f1_micro  f1_weighted     kappa  \n",
       "0  0.725806     0.610491  0.000000  \n",
       "1  0.661290     0.615718 -0.018779  \n",
       "2  0.645161     0.605054 -0.044410  "
      ]
     },
     "execution_count": 38,
     "metadata": {},
     "output_type": "execute_result"
    }
   ],
   "source": [
    "compiled_res_15 = pd.DataFrame(metrics_dict())\n",
    "compiled_res_15.head(3)"
   ]
  },
  {
   "cell_type": "markdown",
   "metadata": {},
   "source": [
    "### training size = 25"
   ]
  },
  {
   "cell_type": "code",
   "execution_count": 39,
   "metadata": {},
   "outputs": [],
   "source": [
    "train_size = 25\n",
    "iterations = 10\n",
    "y_test_all = []\n",
    "y_pred_all = []\n",
    "acc_scores = []\n",
    "f1macro_scores = []\n",
    "f1micro_scores = []\n",
    "f1weighted_scores = []\n",
    "kappa_scores = []"
   ]
  },
  {
   "cell_type": "code",
   "execution_count": 40,
   "metadata": {
    "scrolled": true
   },
   "outputs": [
    {
     "name": "stdout",
     "output_type": "stream",
     "text": [
      "-------------Iteration 1/10\n",
      "25 52\n",
      "random_state = 42\n",
      "Accuracy: 0.6923076923076923\n",
      "F1 macro: 0.46253229974160204\n",
      "F1 micro: 0.6923076923076923\n",
      "F1 weighted: 0.6247266944941364\n",
      "Kappa: -0.009708737864077666\n",
      "-------------Iteration 2/10\n",
      "25 52\n",
      "random_state = 43\n"
     ]
    },
    {
     "name": "stderr",
     "output_type": "stream",
     "text": [
      "[Parallel(n_jobs=1)]: Done  49 tasks      | elapsed:    0.0s\n",
      "[Parallel(n_jobs=1)]: Done 199 tasks      | elapsed:    0.1s\n",
      "[Parallel(n_jobs=1)]: Done  49 tasks      | elapsed:    0.0s\n",
      "[Parallel(n_jobs=1)]: Done 199 tasks      | elapsed:    0.0s\n",
      "[Parallel(n_jobs=1)]: Done  49 tasks      | elapsed:    0.0s\n"
     ]
    },
    {
     "name": "stdout",
     "output_type": "stream",
     "text": [
      "Accuracy: 0.6538461538461539\n",
      "F1 macro: 0.44285714285714284\n",
      "F1 micro: 0.6538461538461539\n",
      "F1 weighted: 0.6010989010989011\n",
      "Kappa: -0.07339449541284404\n",
      "-------------Iteration 3/10\n",
      "25 52\n",
      "random_state = 44\n"
     ]
    },
    {
     "name": "stderr",
     "output_type": "stream",
     "text": [
      "[Parallel(n_jobs=1)]: Done 199 tasks      | elapsed:    0.1s\n",
      "[Parallel(n_jobs=1)]: Done  49 tasks      | elapsed:    0.0s\n",
      "[Parallel(n_jobs=1)]: Done 199 tasks      | elapsed:    0.0s\n",
      "[Parallel(n_jobs=1)]: Done  49 tasks      | elapsed:    0.0s\n",
      "[Parallel(n_jobs=1)]: Done 199 tasks      | elapsed:    0.1s\n",
      "[Parallel(n_jobs=1)]: Done  49 tasks      | elapsed:    0.0s\n",
      "[Parallel(n_jobs=1)]: Done 199 tasks      | elapsed:    0.0s\n"
     ]
    },
    {
     "name": "stdout",
     "output_type": "stream",
     "text": [
      "Accuracy: 0.6346153846153846\n",
      "F1 macro: 0.499746835443038\n",
      "F1 micro: 0.6346153846153846\n",
      "F1 weighted: 0.6196299902629018\n",
      "Kappa: 0.0040322580645161255\n",
      "-------------Iteration 4/10\n",
      "25 52\n",
      "random_state = 45\n",
      "Accuracy: 0.6730769230769231\n",
      "F1 macro: 0.45263157894736844\n",
      "F1 micro: 0.6730769230769231\n",
      "F1 weighted: 0.6129554655870446\n",
      "Kappa: -0.04245283018867929\n",
      "-------------Iteration 5/10\n",
      "25 52\n",
      "random_state = 46\n"
     ]
    },
    {
     "name": "stderr",
     "output_type": "stream",
     "text": [
      "[Parallel(n_jobs=1)]: Done  49 tasks      | elapsed:    0.0s\n",
      "[Parallel(n_jobs=1)]: Done 199 tasks      | elapsed:    0.1s\n",
      "[Parallel(n_jobs=1)]: Done  49 tasks      | elapsed:    0.0s\n",
      "[Parallel(n_jobs=1)]: Done 199 tasks      | elapsed:    0.0s\n",
      "[Parallel(n_jobs=1)]: Done  49 tasks      | elapsed:    0.0s\n"
     ]
    },
    {
     "name": "stdout",
     "output_type": "stream",
     "text": [
      "Accuracy: 0.6346153846153846\n",
      "F1 macro: 0.43316121629374643\n",
      "F1 micro: 0.6346153846153846\n",
      "F1 weighted: 0.589125733704047\n",
      "Kappa: -0.1026785714285714\n",
      "-------------Iteration 6/10\n",
      "25 52\n",
      "random_state = 47\n"
     ]
    },
    {
     "name": "stderr",
     "output_type": "stream",
     "text": [
      "[Parallel(n_jobs=1)]: Done 199 tasks      | elapsed:    0.1s\n",
      "[Parallel(n_jobs=1)]: Done  49 tasks      | elapsed:    0.0s\n",
      "[Parallel(n_jobs=1)]: Done 199 tasks      | elapsed:    0.0s\n",
      "[Parallel(n_jobs=1)]: Done  49 tasks      | elapsed:    0.0s\n",
      "[Parallel(n_jobs=1)]: Done 199 tasks      | elapsed:    0.1s\n",
      "[Parallel(n_jobs=1)]: Done  49 tasks      | elapsed:    0.0s\n",
      "[Parallel(n_jobs=1)]: Done 199 tasks      | elapsed:    0.0s\n"
     ]
    },
    {
     "name": "stdout",
     "output_type": "stream",
     "text": [
      "Accuracy: 0.6923076923076923\n",
      "F1 macro: 0.46253229974160204\n",
      "F1 micro: 0.6923076923076923\n",
      "F1 weighted: 0.6247266944941364\n",
      "Kappa: -0.009708737864077666\n",
      "-------------Iteration 7/10\n",
      "25 52\n",
      "random_state = 48\n",
      "Accuracy: 0.6346153846153846\n",
      "F1 macro: 0.38823529411764707\n",
      "F1 micro: 0.6346153846153846\n",
      "F1 weighted: 0.567420814479638\n",
      "Kappa: -0.16509433962264164\n",
      "-------------Iteration 8/10\n",
      "25 52\n",
      "random_state = 49\n"
     ]
    },
    {
     "name": "stderr",
     "output_type": "stream",
     "text": [
      "[Parallel(n_jobs=1)]: Done  49 tasks      | elapsed:    0.0s\n",
      "[Parallel(n_jobs=1)]: Done 199 tasks      | elapsed:    0.1s\n",
      "[Parallel(n_jobs=1)]: Done  49 tasks      | elapsed:    0.0s\n",
      "[Parallel(n_jobs=1)]: Done 199 tasks      | elapsed:    0.0s\n",
      "[Parallel(n_jobs=1)]: Done  49 tasks      | elapsed:    0.0s\n"
     ]
    },
    {
     "name": "stdout",
     "output_type": "stream",
     "text": [
      "Accuracy: 0.6923076923076923\n",
      "F1 macro: 0.5047619047619047\n",
      "F1 micro: 0.6923076923076923\n",
      "F1 weighted: 0.6454212454212455\n",
      "Kappa: 0.04587155963302758\n",
      "-------------Iteration 9/10\n",
      "25 52\n",
      "random_state = 50\n"
     ]
    },
    {
     "name": "stderr",
     "output_type": "stream",
     "text": [
      "[Parallel(n_jobs=1)]: Done 199 tasks      | elapsed:    0.1s\n",
      "[Parallel(n_jobs=1)]: Done  49 tasks      | elapsed:    0.0s\n",
      "[Parallel(n_jobs=1)]: Done 199 tasks      | elapsed:    0.0s\n",
      "[Parallel(n_jobs=1)]: Done  49 tasks      | elapsed:    0.0s\n",
      "[Parallel(n_jobs=1)]: Done 199 tasks      | elapsed:    0.1s\n",
      "[Parallel(n_jobs=1)]: Done  49 tasks      | elapsed:    0.0s\n",
      "[Parallel(n_jobs=1)]: Done 199 tasks      | elapsed:    0.0s\n"
     ]
    },
    {
     "name": "stdout",
     "output_type": "stream",
     "text": [
      "Accuracy: 0.6923076923076923\n",
      "F1 macro: 0.46253229974160204\n",
      "F1 micro: 0.6923076923076923\n",
      "F1 weighted: 0.6247266944941364\n",
      "Kappa: -0.009708737864077666\n",
      "-------------Iteration 10/10\n",
      "25 52\n",
      "random_state = 51\n",
      "Accuracy: 0.7115384615384616\n",
      "F1 macro: 0.6050632911392405\n",
      "F1 micro: 0.7115384615384616\n",
      "F1 weighted: 0.6997078870496592\n",
      "Kappa: 0.21370967741935487\n"
     ]
    },
    {
     "name": "stderr",
     "output_type": "stream",
     "text": [
      "[Parallel(n_jobs=1)]: Done  49 tasks      | elapsed:    0.0s\n",
      "[Parallel(n_jobs=1)]: Done 199 tasks      | elapsed:    0.1s\n",
      "[Parallel(n_jobs=1)]: Done  49 tasks      | elapsed:    0.0s\n",
      "[Parallel(n_jobs=1)]: Done 199 tasks      | elapsed:    0.0s\n"
     ]
    }
   ],
   "source": [
    "for n in range(iterations):\n",
    "    print(f\"-------------Iteration {n + 1}/{iterations}\")\n",
    "    random_state=42+n\n",
    "\n",
    "    X_train, y_train, X_test, y_test = prepare_dataset_classification(\n",
    "        df,\n",
    "        random_state=random_state,\n",
    "        train_size=train_size\n",
    "    )\n",
    "    print(f\"random_state = {random_state}\")\n",
    "\n",
    "    y_test, y_pred, acc, f1_macro, f1_micro, f1_weighted, kappa = train_and_evaluate_classifier(\n",
    "        X_train, \n",
    "        y_train, \n",
    "        X_test, \n",
    "        y_test, \n",
    "        random_state=random_state\n",
    "    )\n",
    "    \n",
    "    y_test_all.append(y_test)\n",
    "    y_pred_all.append(y_pred)    \n",
    "    acc_scores.append(acc)\n",
    "    f1macro_scores.append(f1_macro)\n",
    "    f1micro_scores.append(f1_micro)\n",
    "    f1weighted_scores.append(f1_weighted)\n",
    "    kappa_scores.append(kappa)\n",
    "    print(f\"Accuracy: {acc}\")\n",
    "    print(f\"F1 macro: {f1_macro}\")\n",
    "    print(f\"F1 micro: {f1_micro}\")\n",
    "    print(f\"F1 weighted: {f1_weighted}\")\n",
    "    print(f\"Kappa: {kappa}\")"
   ]
  },
  {
   "cell_type": "code",
   "execution_count": 41,
   "metadata": {},
   "outputs": [
    {
     "name": "stdout",
     "output_type": "stream",
     "text": [
      "FINAL REPORT for training size = 25\n",
      "mean accuracy: 0.6711538461538462 +/- 0.027801600566924937\n",
      "mean F1 macro: 0.4714054162784893 +/- 0.054372662620039515\n",
      "mean F1 micro: 0.6711538461538462 +/- 0.027801600566924937\n",
      "mean F1 weighted: 0.6209540121085848 +/- 0.03343996933229144\n",
      "mean Kappa: -0.014913295512807078 +/- 0.09530950897321326\n"
     ]
    }
   ],
   "source": [
    "print(f\"FINAL REPORT for training size = {train_size}\")\n",
    "\n",
    "print(f\"mean accuracy: {np.mean(acc_scores)} +/- {np.std(acc_scores)}\")\n",
    "print(f\"mean F1 macro: {np.mean(f1macro_scores)} +/- {np.std(f1macro_scores)}\")\n",
    "print(f\"mean F1 micro: {np.mean(f1micro_scores)} +/- {np.std(f1micro_scores)}\")\n",
    "print(f\"mean F1 weighted: {np.mean(f1weighted_scores)} +/- {np.std(f1weighted_scores)}\")\n",
    "print(f\"mean Kappa: {np.mean(kappa_scores)} +/- {np.std(kappa_scores)}\")"
   ]
  },
  {
   "cell_type": "code",
   "execution_count": 42,
   "metadata": {},
   "outputs": [
    {
     "data": {
      "text/html": [
       "<div>\n",
       "<style scoped>\n",
       "    .dataframe tbody tr th:only-of-type {\n",
       "        vertical-align: middle;\n",
       "    }\n",
       "\n",
       "    .dataframe tbody tr th {\n",
       "        vertical-align: top;\n",
       "    }\n",
       "\n",
       "    .dataframe thead th {\n",
       "        text-align: right;\n",
       "    }\n",
       "</style>\n",
       "<table border=\"1\" class=\"dataframe\">\n",
       "  <thead>\n",
       "    <tr style=\"text-align: right;\">\n",
       "      <th></th>\n",
       "      <th>train_size</th>\n",
       "      <th>y_true</th>\n",
       "      <th>y_pred</th>\n",
       "      <th>accuracy</th>\n",
       "      <th>f1_macro</th>\n",
       "      <th>f1_micro</th>\n",
       "      <th>f1_weighted</th>\n",
       "      <th>kappa</th>\n",
       "    </tr>\n",
       "  </thead>\n",
       "  <tbody>\n",
       "    <tr>\n",
       "      <th>0</th>\n",
       "      <td>25</td>\n",
       "      <td>[1, 1, 0, 0, 0, 0, 0, 0, 0, 0, 0, 0, 1, 0, 1, ...</td>\n",
       "      <td>[0, 0, 0, 0, 1, 0, 0, 0, 0, 0, 0, 0, 1, 0, 0, ...</td>\n",
       "      <td>0.692308</td>\n",
       "      <td>0.462532</td>\n",
       "      <td>0.692308</td>\n",
       "      <td>0.624727</td>\n",
       "      <td>-0.009709</td>\n",
       "    </tr>\n",
       "    <tr>\n",
       "      <th>1</th>\n",
       "      <td>25</td>\n",
       "      <td>[0, 0, 0, 0, 1, 1, 0, 0, 0, 1, 0, 0, 0, 1, 0, ...</td>\n",
       "      <td>[0, 1, 0, 0, 0, 0, 0, 0, 0, 0, 0, 0, 0, 0, 0, ...</td>\n",
       "      <td>0.653846</td>\n",
       "      <td>0.442857</td>\n",
       "      <td>0.653846</td>\n",
       "      <td>0.601099</td>\n",
       "      <td>-0.073394</td>\n",
       "    </tr>\n",
       "    <tr>\n",
       "      <th>2</th>\n",
       "      <td>25</td>\n",
       "      <td>[0, 1, 1, 1, 1, 0, 0, 0, 0, 0, 1, 0, 1, 0, 0, ...</td>\n",
       "      <td>[0, 0, 0, 0, 1, 1, 0, 0, 0, 1, 0, 0, 0, 0, 0, ...</td>\n",
       "      <td>0.634615</td>\n",
       "      <td>0.499747</td>\n",
       "      <td>0.634615</td>\n",
       "      <td>0.619630</td>\n",
       "      <td>0.004032</td>\n",
       "    </tr>\n",
       "  </tbody>\n",
       "</table>\n",
       "</div>"
      ],
      "text/plain": [
       "   train_size                                             y_true  \\\n",
       "0          25  [1, 1, 0, 0, 0, 0, 0, 0, 0, 0, 0, 0, 1, 0, 1, ...   \n",
       "1          25  [0, 0, 0, 0, 1, 1, 0, 0, 0, 1, 0, 0, 0, 1, 0, ...   \n",
       "2          25  [0, 1, 1, 1, 1, 0, 0, 0, 0, 0, 1, 0, 1, 0, 0, ...   \n",
       "\n",
       "                                              y_pred  accuracy  f1_macro  \\\n",
       "0  [0, 0, 0, 0, 1, 0, 0, 0, 0, 0, 0, 0, 1, 0, 0, ...  0.692308  0.462532   \n",
       "1  [0, 1, 0, 0, 0, 0, 0, 0, 0, 0, 0, 0, 0, 0, 0, ...  0.653846  0.442857   \n",
       "2  [0, 0, 0, 0, 1, 1, 0, 0, 0, 1, 0, 0, 0, 0, 0, ...  0.634615  0.499747   \n",
       "\n",
       "   f1_micro  f1_weighted     kappa  \n",
       "0  0.692308     0.624727 -0.009709  \n",
       "1  0.653846     0.601099 -0.073394  \n",
       "2  0.634615     0.619630  0.004032  "
      ]
     },
     "execution_count": 42,
     "metadata": {},
     "output_type": "execute_result"
    }
   ],
   "source": [
    "compiled_res_25 = pd.DataFrame(metrics_dict())\n",
    "compiled_res_25.head(3)"
   ]
  },
  {
   "cell_type": "markdown",
   "metadata": {},
   "source": [
    "### training size = 35"
   ]
  },
  {
   "cell_type": "code",
   "execution_count": 43,
   "metadata": {},
   "outputs": [],
   "source": [
    "train_size = 35\n",
    "iterations = 10\n",
    "y_test_all = []\n",
    "y_pred_all = []\n",
    "acc_scores = []\n",
    "f1macro_scores = []\n",
    "f1micro_scores = []\n",
    "f1weighted_scores = []\n",
    "kappa_scores = []"
   ]
  },
  {
   "cell_type": "code",
   "execution_count": 44,
   "metadata": {
    "scrolled": true
   },
   "outputs": [
    {
     "name": "stdout",
     "output_type": "stream",
     "text": [
      "-------------Iteration 1/10\n"
     ]
    },
    {
     "name": "stderr",
     "output_type": "stream",
     "text": [
      "[Parallel(n_jobs=1)]: Done  49 tasks      | elapsed:    0.0s\n"
     ]
    },
    {
     "name": "stdout",
     "output_type": "stream",
     "text": [
      "35 42\n",
      "random_state = 42\n",
      "Accuracy: 0.5952380952380952\n",
      "F1 macro: 0.4603174603174603\n",
      "F1 micro: 0.5952380952380952\n",
      "F1 weighted: 0.5888133030990174\n",
      "Kappa: -0.0785498489425982\n",
      "-------------Iteration 2/10\n",
      "35 42\n",
      "random_state = 43\n"
     ]
    },
    {
     "name": "stderr",
     "output_type": "stream",
     "text": [
      "[Parallel(n_jobs=1)]: Done 199 tasks      | elapsed:    0.1s\n",
      "[Parallel(n_jobs=1)]: Done  49 tasks      | elapsed:    0.0s\n",
      "[Parallel(n_jobs=1)]: Done 199 tasks      | elapsed:    0.0s\n",
      "[Parallel(n_jobs=1)]: Done  49 tasks      | elapsed:    0.0s\n",
      "[Parallel(n_jobs=1)]: Done 199 tasks      | elapsed:    0.2s\n",
      "[Parallel(n_jobs=1)]: Done  49 tasks      | elapsed:    0.0s\n",
      "[Parallel(n_jobs=1)]: Done 199 tasks      | elapsed:    0.0s\n",
      "[Parallel(n_jobs=1)]: Done  49 tasks      | elapsed:    0.0s\n",
      "[Parallel(n_jobs=1)]: Done 199 tasks      | elapsed:    0.1s\n",
      "[Parallel(n_jobs=1)]: Done  49 tasks      | elapsed:    0.0s\n",
      "[Parallel(n_jobs=1)]: Done 199 tasks      | elapsed:    0.0s\n"
     ]
    },
    {
     "name": "stdout",
     "output_type": "stream",
     "text": [
      "Accuracy: 0.6428571428571429\n",
      "F1 macro: 0.44688323090430204\n",
      "F1 micro: 0.6428571428571429\n",
      "F1 weighted: 0.6036623604665747\n",
      "Kappa: -0.08247422680412364\n",
      "-------------Iteration 3/10\n",
      "35 42\n",
      "random_state = 44\n",
      "Accuracy: 0.7380952380952381\n",
      "F1 macro: 0.553623188405797\n",
      "F1 micro: 0.7380952380952381\n",
      "F1 weighted: 0.6902691511387163\n",
      "Kappa: 0.14760147601476015\n",
      "-------------Iteration 4/10\n",
      "35 42\n",
      "random_state = 45\n"
     ]
    },
    {
     "name": "stderr",
     "output_type": "stream",
     "text": [
      "[Parallel(n_jobs=1)]: Done  49 tasks      | elapsed:    0.0s\n",
      "[Parallel(n_jobs=1)]: Done 199 tasks      | elapsed:    0.1s\n",
      "[Parallel(n_jobs=1)]: Done  49 tasks      | elapsed:    0.0s\n",
      "[Parallel(n_jobs=1)]: Done 199 tasks      | elapsed:    0.0s\n",
      "[Parallel(n_jobs=1)]: Done  49 tasks      | elapsed:    0.0s\n"
     ]
    },
    {
     "name": "stdout",
     "output_type": "stream",
     "text": [
      "Accuracy: 0.6904761904761905\n",
      "F1 macro: 0.47246376811594204\n",
      "F1 micro: 0.6904761904761905\n",
      "F1 weighted: 0.6339544513457557\n",
      "Kappa: -0.007380073800737907\n",
      "-------------Iteration 5/10\n",
      "35 42\n",
      "random_state = 46\n",
      "Accuracy: 0.5952380952380952\n",
      "F1 macro: 0.4603174603174603\n",
      "F1 micro: 0.5952380952380952\n",
      "F1 weighted: 0.5888133030990174\n",
      "Kappa: -0.0785498489425982\n",
      "-------------Iteration 6/10\n",
      "35 42\n",
      "random_state = 47\n"
     ]
    },
    {
     "name": "stderr",
     "output_type": "stream",
     "text": [
      "[Parallel(n_jobs=1)]: Done 199 tasks      | elapsed:    0.1s\n",
      "[Parallel(n_jobs=1)]: Done  49 tasks      | elapsed:    0.0s\n",
      "[Parallel(n_jobs=1)]: Done 199 tasks      | elapsed:    0.0s\n",
      "[Parallel(n_jobs=1)]: Done  49 tasks      | elapsed:    0.0s\n",
      "[Parallel(n_jobs=1)]: Done 199 tasks      | elapsed:    0.1s\n",
      "[Parallel(n_jobs=1)]: Done  49 tasks      | elapsed:    0.0s\n",
      "[Parallel(n_jobs=1)]: Done 199 tasks      | elapsed:    0.0s\n",
      "[Parallel(n_jobs=1)]: Done  49 tasks      | elapsed:    0.0s\n",
      "[Parallel(n_jobs=1)]: Done 199 tasks      | elapsed:    0.1s\n",
      "[Parallel(n_jobs=1)]: Done  49 tasks      | elapsed:    0.0s\n",
      "[Parallel(n_jobs=1)]: Done 199 tasks      | elapsed:    0.0s\n"
     ]
    },
    {
     "name": "stdout",
     "output_type": "stream",
     "text": [
      "Accuracy: 0.7142857142857143\n",
      "F1 macro: 0.48571428571428577\n",
      "F1 micro: 0.7142857142857143\n",
      "F1 weighted: 0.6489795918367347\n",
      "Kappa: 0.0344827586206895\n",
      "-------------Iteration 7/10\n",
      "35 42\n",
      "random_state = 48\n",
      "Accuracy: 0.6666666666666666\n",
      "F1 macro: 0.4\n",
      "F1 micro: 0.6666666666666666\n",
      "F1 weighted: 0.5904761904761905\n",
      "Kappa: -0.12643678160919558\n",
      "-------------Iteration 8/10\n",
      "35 42\n",
      "random_state = 49\n"
     ]
    },
    {
     "name": "stderr",
     "output_type": "stream",
     "text": [
      "[Parallel(n_jobs=1)]: Done  49 tasks      | elapsed:    0.0s\n",
      "[Parallel(n_jobs=1)]: Done 199 tasks      | elapsed:    0.1s\n",
      "[Parallel(n_jobs=1)]: Done  49 tasks      | elapsed:    0.0s\n",
      "[Parallel(n_jobs=1)]: Done 199 tasks      | elapsed:    0.0s\n",
      "[Parallel(n_jobs=1)]: Done  49 tasks      | elapsed:    0.0s\n",
      "[Parallel(n_jobs=1)]: Done 199 tasks      | elapsed:    0.1s\n",
      "[Parallel(n_jobs=1)]: Done  49 tasks      | elapsed:    0.0s\n",
      "[Parallel(n_jobs=1)]: Done 199 tasks      | elapsed:    0.0s\n"
     ]
    },
    {
     "name": "stdout",
     "output_type": "stream",
     "text": [
      "Accuracy: 0.7142857142857143\n",
      "F1 macro: 0.48571428571428577\n",
      "F1 micro: 0.7142857142857143\n",
      "F1 weighted: 0.6489795918367347\n",
      "Kappa: 0.0344827586206895\n",
      "-------------Iteration 9/10\n",
      "35 42\n",
      "random_state = 50\n",
      "Accuracy: 0.6904761904761905\n",
      "F1 macro: 0.4084507042253521\n",
      "F1 micro: 0.6904761904761905\n",
      "F1 weighted: 0.6029510395707579\n",
      "Kappa: -0.08764940239043817\n",
      "-------------Iteration 10/10\n",
      "35 42\n",
      "random_state = 51\n",
      "Accuracy: 0.7380952380952381\n",
      "F1 macro: 0.553623188405797\n",
      "F1 micro: 0.7380952380952381\n",
      "F1 weighted: 0.6902691511387163\n",
      "Kappa: 0.14760147601476015\n"
     ]
    },
    {
     "name": "stderr",
     "output_type": "stream",
     "text": [
      "[Parallel(n_jobs=1)]: Done  49 tasks      | elapsed:    0.0s\n",
      "[Parallel(n_jobs=1)]: Done 199 tasks      | elapsed:    0.1s\n",
      "[Parallel(n_jobs=1)]: Done  49 tasks      | elapsed:    0.0s\n",
      "[Parallel(n_jobs=1)]: Done 199 tasks      | elapsed:    0.0s\n"
     ]
    }
   ],
   "source": [
    "for n in range(iterations):\n",
    "    print(f\"-------------Iteration {n + 1}/{iterations}\")\n",
    "    random_state=42+n\n",
    "\n",
    "    X_train, y_train, X_test, y_test = prepare_dataset_classification(\n",
    "        df,\n",
    "        random_state=random_state,\n",
    "        train_size=train_size\n",
    "    )\n",
    "    print(f\"random_state = {random_state}\")\n",
    "\n",
    "    y_test, y_pred, acc, f1_macro, f1_micro, f1_weighted, kappa = train_and_evaluate_classifier(\n",
    "        X_train, \n",
    "        y_train, \n",
    "        X_test, \n",
    "        y_test, \n",
    "        random_state=random_state\n",
    "    )\n",
    "    \n",
    "    y_test_all.append(y_test)\n",
    "    y_pred_all.append(y_pred)    \n",
    "    acc_scores.append(acc)\n",
    "    f1macro_scores.append(f1_macro)\n",
    "    f1micro_scores.append(f1_micro)\n",
    "    f1weighted_scores.append(f1_weighted)\n",
    "    kappa_scores.append(kappa)\n",
    "    print(f\"Accuracy: {acc}\")\n",
    "    print(f\"F1 macro: {f1_macro}\")\n",
    "    print(f\"F1 micro: {f1_micro}\")\n",
    "    print(f\"F1 weighted: {f1_weighted}\")\n",
    "    print(f\"Kappa: {kappa}\")"
   ]
  },
  {
   "cell_type": "code",
   "execution_count": 45,
   "metadata": {},
   "outputs": [
    {
     "name": "stdout",
     "output_type": "stream",
     "text": [
      "FINAL REPORT for training size = 35\n",
      "mean accuracy: 0.6785714285714286 +/- 0.05022624549935474\n",
      "mean F1 macro: 0.4727107572120682 +/- 0.04880813959700925\n",
      "mean F1 micro: 0.6785714285714286 +/- 0.05022624549935474\n",
      "mean F1 weighted: 0.6287168134008215 +/- 0.037900527722579735\n",
      "mean Kappa: -0.00968717132187924 +/- 0.0937429455706441\n"
     ]
    }
   ],
   "source": [
    "print(f\"FINAL REPORT for training size = {train_size}\")\n",
    "\n",
    "print(f\"mean accuracy: {np.mean(acc_scores)} +/- {np.std(acc_scores)}\")\n",
    "print(f\"mean F1 macro: {np.mean(f1macro_scores)} +/- {np.std(f1macro_scores)}\")\n",
    "print(f\"mean F1 micro: {np.mean(f1micro_scores)} +/- {np.std(f1micro_scores)}\")\n",
    "print(f\"mean F1 weighted: {np.mean(f1weighted_scores)} +/- {np.std(f1weighted_scores)}\")\n",
    "print(f\"mean Kappa: {np.mean(kappa_scores)} +/- {np.std(kappa_scores)}\")"
   ]
  },
  {
   "cell_type": "code",
   "execution_count": 46,
   "metadata": {},
   "outputs": [
    {
     "data": {
      "text/html": [
       "<div>\n",
       "<style scoped>\n",
       "    .dataframe tbody tr th:only-of-type {\n",
       "        vertical-align: middle;\n",
       "    }\n",
       "\n",
       "    .dataframe tbody tr th {\n",
       "        vertical-align: top;\n",
       "    }\n",
       "\n",
       "    .dataframe thead th {\n",
       "        text-align: right;\n",
       "    }\n",
       "</style>\n",
       "<table border=\"1\" class=\"dataframe\">\n",
       "  <thead>\n",
       "    <tr style=\"text-align: right;\">\n",
       "      <th></th>\n",
       "      <th>train_size</th>\n",
       "      <th>y_true</th>\n",
       "      <th>y_pred</th>\n",
       "      <th>accuracy</th>\n",
       "      <th>f1_macro</th>\n",
       "      <th>f1_micro</th>\n",
       "      <th>f1_weighted</th>\n",
       "      <th>kappa</th>\n",
       "    </tr>\n",
       "  </thead>\n",
       "  <tbody>\n",
       "    <tr>\n",
       "      <th>0</th>\n",
       "      <td>35</td>\n",
       "      <td>[0, 0, 0, 0, 0, 1, 0, 0, 0, 1, 0, 0, 1, 0, 0, ...</td>\n",
       "      <td>[0, 0, 1, 0, 0, 0, 0, 0, 1, 1, 0, 0, 0, 1, 0, ...</td>\n",
       "      <td>0.595238</td>\n",
       "      <td>0.460317</td>\n",
       "      <td>0.595238</td>\n",
       "      <td>0.588813</td>\n",
       "      <td>-0.078550</td>\n",
       "    </tr>\n",
       "    <tr>\n",
       "      <th>1</th>\n",
       "      <td>35</td>\n",
       "      <td>[0, 1, 0, 1, 0, 1, 0, 0, 0, 1, 0, 0, 0, 1, 0, ...</td>\n",
       "      <td>[0, 0, 0, 0, 1, 0, 0, 0, 0, 0, 0, 0, 0, 0, 0, ...</td>\n",
       "      <td>0.642857</td>\n",
       "      <td>0.446883</td>\n",
       "      <td>0.642857</td>\n",
       "      <td>0.603662</td>\n",
       "      <td>-0.082474</td>\n",
       "    </tr>\n",
       "    <tr>\n",
       "      <th>2</th>\n",
       "      <td>35</td>\n",
       "      <td>[0, 0, 0, 0, 0, 0, 1, 1, 0, 1, 0, 0, 1, 0, 0, ...</td>\n",
       "      <td>[0, 0, 0, 0, 0, 0, 1, 0, 1, 0, 0, 0, 0, 0, 0, ...</td>\n",
       "      <td>0.738095</td>\n",
       "      <td>0.553623</td>\n",
       "      <td>0.738095</td>\n",
       "      <td>0.690269</td>\n",
       "      <td>0.147601</td>\n",
       "    </tr>\n",
       "  </tbody>\n",
       "</table>\n",
       "</div>"
      ],
      "text/plain": [
       "   train_size                                             y_true  \\\n",
       "0          35  [0, 0, 0, 0, 0, 1, 0, 0, 0, 1, 0, 0, 1, 0, 0, ...   \n",
       "1          35  [0, 1, 0, 1, 0, 1, 0, 0, 0, 1, 0, 0, 0, 1, 0, ...   \n",
       "2          35  [0, 0, 0, 0, 0, 0, 1, 1, 0, 1, 0, 0, 1, 0, 0, ...   \n",
       "\n",
       "                                              y_pred  accuracy  f1_macro  \\\n",
       "0  [0, 0, 1, 0, 0, 0, 0, 0, 1, 1, 0, 0, 0, 1, 0, ...  0.595238  0.460317   \n",
       "1  [0, 0, 0, 0, 1, 0, 0, 0, 0, 0, 0, 0, 0, 0, 0, ...  0.642857  0.446883   \n",
       "2  [0, 0, 0, 0, 0, 0, 1, 0, 1, 0, 0, 0, 0, 0, 0, ...  0.738095  0.553623   \n",
       "\n",
       "   f1_micro  f1_weighted     kappa  \n",
       "0  0.595238     0.588813 -0.078550  \n",
       "1  0.642857     0.603662 -0.082474  \n",
       "2  0.738095     0.690269  0.147601  "
      ]
     },
     "execution_count": 46,
     "metadata": {},
     "output_type": "execute_result"
    }
   ],
   "source": [
    "compiled_res_35 = pd.DataFrame(metrics_dict())\n",
    "compiled_res_35.head(3)"
   ]
  },
  {
   "cell_type": "markdown",
   "metadata": {},
   "source": [
    "### training size = 45"
   ]
  },
  {
   "cell_type": "code",
   "execution_count": 47,
   "metadata": {},
   "outputs": [],
   "source": [
    "train_size = 45\n",
    "iterations = 10\n",
    "y_test_all = []\n",
    "y_pred_all = []\n",
    "acc_scores = []\n",
    "f1macro_scores = []\n",
    "f1micro_scores = []\n",
    "f1weighted_scores = []\n",
    "kappa_scores = []"
   ]
  },
  {
   "cell_type": "code",
   "execution_count": 48,
   "metadata": {
    "scrolled": true
   },
   "outputs": [
    {
     "name": "stdout",
     "output_type": "stream",
     "text": [
      "-------------Iteration 1/10\n",
      "45 32\n",
      "random_state = 42\n",
      "Accuracy: 0.625\n",
      "F1 macro: 0.4514285714285714\n",
      "F1 micro: 0.625\n",
      "F1 weighted: 0.5864285714285714\n",
      "Kappa: -0.07262569832402233\n",
      "-------------Iteration 2/10\n",
      "45 32\n",
      "random_state = 43\n"
     ]
    },
    {
     "name": "stderr",
     "output_type": "stream",
     "text": [
      "[Parallel(n_jobs=1)]: Done  49 tasks      | elapsed:    0.0s\n",
      "[Parallel(n_jobs=1)]: Done 199 tasks      | elapsed:    0.1s\n",
      "[Parallel(n_jobs=1)]: Done  49 tasks      | elapsed:    0.0s\n",
      "[Parallel(n_jobs=1)]: Done 199 tasks      | elapsed:    0.0s\n",
      "[Parallel(n_jobs=1)]: Done  49 tasks      | elapsed:    0.0s\n"
     ]
    },
    {
     "name": "stdout",
     "output_type": "stream",
     "text": [
      "Accuracy: 0.625\n",
      "F1 macro: 0.4514285714285714\n",
      "F1 micro: 0.625\n",
      "F1 weighted: 0.5864285714285714\n",
      "Kappa: -0.07262569832402233\n",
      "-------------Iteration 3/10\n",
      "45 32\n",
      "random_state = 44\n"
     ]
    },
    {
     "name": "stderr",
     "output_type": "stream",
     "text": [
      "[Parallel(n_jobs=1)]: Done 199 tasks      | elapsed:    0.1s\n",
      "[Parallel(n_jobs=1)]: Done  49 tasks      | elapsed:    0.0s\n",
      "[Parallel(n_jobs=1)]: Done 199 tasks      | elapsed:    0.0s\n",
      "[Parallel(n_jobs=1)]: Done  49 tasks      | elapsed:    0.0s\n",
      "[Parallel(n_jobs=1)]: Done 199 tasks      | elapsed:    0.1s\n",
      "[Parallel(n_jobs=1)]: Done  49 tasks      | elapsed:    0.0s\n",
      "[Parallel(n_jobs=1)]: Done 199 tasks      | elapsed:    0.0s\n"
     ]
    },
    {
     "name": "stdout",
     "output_type": "stream",
     "text": [
      "Accuracy: 0.6875\n",
      "F1 macro: 0.48717948717948717\n",
      "F1 micro: 0.6875\n",
      "F1 weighted: 0.6274038461538461\n",
      "Kappa: 0.030303030303030276\n",
      "-------------Iteration 4/10\n",
      "45 32\n",
      "random_state = 45\n",
      "Accuracy: 0.65625\n",
      "F1 macro: 0.46907993966817496\n",
      "F1 micro: 0.65625\n",
      "F1 weighted: 0.6069947209653092\n",
      "Kappa: -0.023255813953488413\n",
      "-------------Iteration 5/10\n",
      "45 32\n",
      "random_state = 46\n"
     ]
    },
    {
     "name": "stderr",
     "output_type": "stream",
     "text": [
      "[Parallel(n_jobs=1)]: Done  49 tasks      | elapsed:    0.0s\n",
      "[Parallel(n_jobs=1)]: Done 199 tasks      | elapsed:    0.1s\n",
      "[Parallel(n_jobs=1)]: Done  49 tasks      | elapsed:    0.0s\n",
      "[Parallel(n_jobs=1)]: Done 199 tasks      | elapsed:    0.0s\n",
      "[Parallel(n_jobs=1)]: Done  49 tasks      | elapsed:    0.0s\n"
     ]
    },
    {
     "name": "stdout",
     "output_type": "stream",
     "text": [
      "Accuracy: 0.65625\n",
      "F1 macro: 0.46907993966817496\n",
      "F1 micro: 0.65625\n",
      "F1 weighted: 0.6069947209653092\n",
      "Kappa: -0.023255813953488413\n",
      "-------------Iteration 6/10\n",
      "45 32\n",
      "random_state = 47\n"
     ]
    },
    {
     "name": "stderr",
     "output_type": "stream",
     "text": [
      "[Parallel(n_jobs=1)]: Done 199 tasks      | elapsed:    0.1s\n",
      "[Parallel(n_jobs=1)]: Done  49 tasks      | elapsed:    0.0s\n",
      "[Parallel(n_jobs=1)]: Done 199 tasks      | elapsed:    0.0s\n",
      "[Parallel(n_jobs=1)]: Done  49 tasks      | elapsed:    0.0s\n",
      "[Parallel(n_jobs=1)]: Done 199 tasks      | elapsed:    0.1s\n",
      "[Parallel(n_jobs=1)]: Done  49 tasks      | elapsed:    0.0s\n",
      "[Parallel(n_jobs=1)]: Done 199 tasks      | elapsed:    0.0s\n"
     ]
    },
    {
     "name": "stdout",
     "output_type": "stream",
     "text": [
      "Accuracy: 0.65625\n",
      "F1 macro: 0.46907993966817496\n",
      "F1 micro: 0.65625\n",
      "F1 weighted: 0.6069947209653092\n",
      "Kappa: -0.023255813953488413\n",
      "-------------Iteration 7/10\n",
      "45 32\n",
      "random_state = 48\n",
      "Accuracy: 0.71875\n",
      "F1 macro: 0.41818181818181815\n",
      "F1 micro: 0.71875\n",
      "F1 weighted: 0.6011363636363636\n",
      "Kappa: 0.0\n",
      "-------------Iteration 8/10\n",
      "45 32\n",
      "random_state = 49\n"
     ]
    },
    {
     "name": "stderr",
     "output_type": "stream",
     "text": [
      "[Parallel(n_jobs=1)]: Done  49 tasks      | elapsed:    0.0s\n",
      "[Parallel(n_jobs=1)]: Done 199 tasks      | elapsed:    0.1s\n",
      "[Parallel(n_jobs=1)]: Done  49 tasks      | elapsed:    0.0s\n",
      "[Parallel(n_jobs=1)]: Done 199 tasks      | elapsed:    0.0s\n",
      "[Parallel(n_jobs=1)]: Done  49 tasks      | elapsed:    0.0s\n"
     ]
    },
    {
     "name": "stdout",
     "output_type": "stream",
     "text": [
      "Accuracy: 0.6875\n",
      "F1 macro: 0.48717948717948717\n",
      "F1 micro: 0.6875\n",
      "F1 weighted: 0.6274038461538461\n",
      "Kappa: 0.030303030303030276\n",
      "-------------Iteration 9/10\n",
      "45 32\n",
      "random_state = 50\n"
     ]
    },
    {
     "name": "stderr",
     "output_type": "stream",
     "text": [
      "[Parallel(n_jobs=1)]: Done 199 tasks      | elapsed:    0.1s\n",
      "[Parallel(n_jobs=1)]: Done  49 tasks      | elapsed:    0.0s\n",
      "[Parallel(n_jobs=1)]: Done 199 tasks      | elapsed:    0.0s\n",
      "[Parallel(n_jobs=1)]: Done  49 tasks      | elapsed:    0.0s\n",
      "[Parallel(n_jobs=1)]: Done 199 tasks      | elapsed:    0.1s\n",
      "[Parallel(n_jobs=1)]: Done  49 tasks      | elapsed:    0.0s\n",
      "[Parallel(n_jobs=1)]: Done 199 tasks      | elapsed:    0.0s\n"
     ]
    },
    {
     "name": "stdout",
     "output_type": "stream",
     "text": [
      "Accuracy: 0.6875\n",
      "F1 macro: 0.4074074074074074\n",
      "F1 micro: 0.6875\n",
      "F1 weighted: 0.5856481481481481\n",
      "Kappa: -0.0596026490066226\n",
      "-------------Iteration 10/10\n",
      "45 32\n",
      "random_state = 51\n",
      "Accuracy: 0.75\n",
      "F1 macro: 0.5259259259259259\n",
      "F1 micro: 0.75\n",
      "F1 weighted: 0.6685185185185185\n",
      "Kappa: 0.152317880794702\n"
     ]
    },
    {
     "name": "stderr",
     "output_type": "stream",
     "text": [
      "[Parallel(n_jobs=1)]: Done  49 tasks      | elapsed:    0.0s\n",
      "[Parallel(n_jobs=1)]: Done 199 tasks      | elapsed:    0.1s\n",
      "[Parallel(n_jobs=1)]: Done  49 tasks      | elapsed:    0.0s\n",
      "[Parallel(n_jobs=1)]: Done 199 tasks      | elapsed:    0.0s\n"
     ]
    }
   ],
   "source": [
    "for n in range(iterations):\n",
    "    print(f\"-------------Iteration {n + 1}/{iterations}\")\n",
    "    random_state=42+n\n",
    "\n",
    "    X_train, y_train, X_test, y_test = prepare_dataset_classification(\n",
    "        df,\n",
    "        random_state=random_state,\n",
    "        train_size=train_size\n",
    "    )\n",
    "    print(f\"random_state = {random_state}\")\n",
    "\n",
    "    y_test, y_pred, acc, f1_macro, f1_micro, f1_weighted, kappa = train_and_evaluate_classifier(\n",
    "        X_train, \n",
    "        y_train, \n",
    "        X_test, \n",
    "        y_test, \n",
    "        random_state=random_state\n",
    "    )\n",
    "    \n",
    "    y_test_all.append(y_test)\n",
    "    y_pred_all.append(y_pred)    \n",
    "    acc_scores.append(acc)\n",
    "    f1macro_scores.append(f1_macro)\n",
    "    f1micro_scores.append(f1_micro)\n",
    "    f1weighted_scores.append(f1_weighted)\n",
    "    kappa_scores.append(kappa)\n",
    "    print(f\"Accuracy: {acc}\")\n",
    "    print(f\"F1 macro: {f1_macro}\")\n",
    "    print(f\"F1 micro: {f1_micro}\")\n",
    "    print(f\"F1 weighted: {f1_weighted}\")\n",
    "    print(f\"Kappa: {kappa}\")"
   ]
  },
  {
   "cell_type": "code",
   "execution_count": 49,
   "metadata": {},
   "outputs": [
    {
     "name": "stdout",
     "output_type": "stream",
     "text": [
      "FINAL REPORT for training size = 45\n",
      "mean accuracy: 0.675 +/- 0.0375\n",
      "mean F1 macro: 0.46359710877357935 +/- 0.032562709738922384\n",
      "mean F1 micro: 0.675 +/- 0.0375\n",
      "mean F1 weighted: 0.6103952028363793 +/- 0.02416306936815594\n",
      "mean Kappa: -0.006169754611436995 +/- 0.06354571890525479\n"
     ]
    }
   ],
   "source": [
    "print(f\"FINAL REPORT for training size = {train_size}\")\n",
    "\n",
    "print(f\"mean accuracy: {np.mean(acc_scores)} +/- {np.std(acc_scores)}\")\n",
    "print(f\"mean F1 macro: {np.mean(f1macro_scores)} +/- {np.std(f1macro_scores)}\")\n",
    "print(f\"mean F1 micro: {np.mean(f1micro_scores)} +/- {np.std(f1micro_scores)}\")\n",
    "print(f\"mean F1 weighted: {np.mean(f1weighted_scores)} +/- {np.std(f1weighted_scores)}\")\n",
    "print(f\"mean Kappa: {np.mean(kappa_scores)} +/- {np.std(kappa_scores)}\")"
   ]
  },
  {
   "cell_type": "code",
   "execution_count": 50,
   "metadata": {},
   "outputs": [
    {
     "data": {
      "text/html": [
       "<div>\n",
       "<style scoped>\n",
       "    .dataframe tbody tr th:only-of-type {\n",
       "        vertical-align: middle;\n",
       "    }\n",
       "\n",
       "    .dataframe tbody tr th {\n",
       "        vertical-align: top;\n",
       "    }\n",
       "\n",
       "    .dataframe thead th {\n",
       "        text-align: right;\n",
       "    }\n",
       "</style>\n",
       "<table border=\"1\" class=\"dataframe\">\n",
       "  <thead>\n",
       "    <tr style=\"text-align: right;\">\n",
       "      <th></th>\n",
       "      <th>train_size</th>\n",
       "      <th>y_true</th>\n",
       "      <th>y_pred</th>\n",
       "      <th>accuracy</th>\n",
       "      <th>f1_macro</th>\n",
       "      <th>f1_micro</th>\n",
       "      <th>f1_weighted</th>\n",
       "      <th>kappa</th>\n",
       "    </tr>\n",
       "  </thead>\n",
       "  <tbody>\n",
       "    <tr>\n",
       "      <th>0</th>\n",
       "      <td>45</td>\n",
       "      <td>[0, 0, 0, 0, 0, 1, 1, 1, 0, 0, 0, 0, 0, 0, 0, ...</td>\n",
       "      <td>[0, 1, 1, 1, 0, 0, 0, 0, 0, 0, 0, 0, 0, 0, 0, ...</td>\n",
       "      <td>0.6250</td>\n",
       "      <td>0.451429</td>\n",
       "      <td>0.6250</td>\n",
       "      <td>0.586429</td>\n",
       "      <td>-0.072626</td>\n",
       "    </tr>\n",
       "    <tr>\n",
       "      <th>1</th>\n",
       "      <td>45</td>\n",
       "      <td>[0, 0, 0, 0, 0, 1, 0, 0, 0, 1, 0, 1, 1, 0, 0, ...</td>\n",
       "      <td>[0, 0, 0, 1, 0, 0, 0, 0, 1, 0, 0, 0, 0, 0, 1, ...</td>\n",
       "      <td>0.6250</td>\n",
       "      <td>0.451429</td>\n",
       "      <td>0.6250</td>\n",
       "      <td>0.586429</td>\n",
       "      <td>-0.072626</td>\n",
       "    </tr>\n",
       "    <tr>\n",
       "      <th>2</th>\n",
       "      <td>45</td>\n",
       "      <td>[0, 0, 0, 0, 0, 1, 1, 0, 0, 0, 1, 0, 0, 0, 0, ...</td>\n",
       "      <td>[0, 0, 0, 0, 0, 0, 0, 0, 0, 0, 0, 1, 0, 0, 0, ...</td>\n",
       "      <td>0.6875</td>\n",
       "      <td>0.487179</td>\n",
       "      <td>0.6875</td>\n",
       "      <td>0.627404</td>\n",
       "      <td>0.030303</td>\n",
       "    </tr>\n",
       "  </tbody>\n",
       "</table>\n",
       "</div>"
      ],
      "text/plain": [
       "   train_size                                             y_true  \\\n",
       "0          45  [0, 0, 0, 0, 0, 1, 1, 1, 0, 0, 0, 0, 0, 0, 0, ...   \n",
       "1          45  [0, 0, 0, 0, 0, 1, 0, 0, 0, 1, 0, 1, 1, 0, 0, ...   \n",
       "2          45  [0, 0, 0, 0, 0, 1, 1, 0, 0, 0, 1, 0, 0, 0, 0, ...   \n",
       "\n",
       "                                              y_pred  accuracy  f1_macro  \\\n",
       "0  [0, 1, 1, 1, 0, 0, 0, 0, 0, 0, 0, 0, 0, 0, 0, ...    0.6250  0.451429   \n",
       "1  [0, 0, 0, 1, 0, 0, 0, 0, 1, 0, 0, 0, 0, 0, 1, ...    0.6250  0.451429   \n",
       "2  [0, 0, 0, 0, 0, 0, 0, 0, 0, 0, 0, 1, 0, 0, 0, ...    0.6875  0.487179   \n",
       "\n",
       "   f1_micro  f1_weighted     kappa  \n",
       "0    0.6250     0.586429 -0.072626  \n",
       "1    0.6250     0.586429 -0.072626  \n",
       "2    0.6875     0.627404  0.030303  "
      ]
     },
     "execution_count": 50,
     "metadata": {},
     "output_type": "execute_result"
    }
   ],
   "source": [
    "compiled_res_45 = pd.DataFrame(metrics_dict())\n",
    "compiled_res_45.head(3)"
   ]
  },
  {
   "cell_type": "markdown",
   "metadata": {},
   "source": [
    "### training size = 55"
   ]
  },
  {
   "cell_type": "code",
   "execution_count": 51,
   "metadata": {},
   "outputs": [],
   "source": [
    "train_size = 55\n",
    "iterations = 10\n",
    "y_test_all = []\n",
    "y_pred_all = []\n",
    "acc_scores = []\n",
    "f1macro_scores = []\n",
    "f1micro_scores = []\n",
    "f1weighted_scores = []\n",
    "kappa_scores = []"
   ]
  },
  {
   "cell_type": "code",
   "execution_count": 52,
   "metadata": {
    "scrolled": true
   },
   "outputs": [
    {
     "name": "stdout",
     "output_type": "stream",
     "text": [
      "-------------Iteration 1/10\n",
      "55 22\n",
      "random_state = 42\n",
      "Accuracy: 0.6363636363636364\n",
      "F1 macro: 0.48235294117647054\n",
      "F1 micro: 0.6363636363636364\n",
      "F1 weighted: 0.6106951871657753\n",
      "Kappa: -0.023255813953488413\n",
      "-------------Iteration 2/10\n",
      "55 22\n",
      "random_state = 43\n"
     ]
    },
    {
     "name": "stderr",
     "output_type": "stream",
     "text": [
      "[Parallel(n_jobs=1)]: Done  49 tasks      | elapsed:    0.0s\n",
      "[Parallel(n_jobs=1)]: Done 199 tasks      | elapsed:    0.1s\n",
      "[Parallel(n_jobs=1)]: Done  49 tasks      | elapsed:    0.0s\n",
      "[Parallel(n_jobs=1)]: Done 199 tasks      | elapsed:    0.0s\n",
      "[Parallel(n_jobs=1)]: Done  49 tasks      | elapsed:    0.0s\n"
     ]
    },
    {
     "name": "stdout",
     "output_type": "stream",
     "text": [
      "Accuracy: 0.7727272727272727\n",
      "F1 macro: 0.5752895752895753\n",
      "F1 micro: 0.7727272727272727\n",
      "F1 weighted: 0.7069147069147069\n",
      "Kappa: 0.22535211267605637\n",
      "-------------Iteration 3/10\n",
      "55 22\n",
      "random_state = 44\n"
     ]
    },
    {
     "name": "stderr",
     "output_type": "stream",
     "text": [
      "[Parallel(n_jobs=1)]: Done 199 tasks      | elapsed:    0.1s\n",
      "[Parallel(n_jobs=1)]: Done  49 tasks      | elapsed:    0.0s\n",
      "[Parallel(n_jobs=1)]: Done 199 tasks      | elapsed:    0.0s\n",
      "[Parallel(n_jobs=1)]: Done  49 tasks      | elapsed:    0.0s\n",
      "[Parallel(n_jobs=1)]: Done 199 tasks      | elapsed:    0.1s\n",
      "[Parallel(n_jobs=1)]: Done  49 tasks      | elapsed:    0.0s\n",
      "[Parallel(n_jobs=1)]: Done 199 tasks      | elapsed:    0.0s\n"
     ]
    },
    {
     "name": "stdout",
     "output_type": "stream",
     "text": [
      "Accuracy: 0.7272727272727273\n",
      "F1 macro: 0.5416666666666667\n",
      "F1 micro: 0.7272727272727273\n",
      "F1 weighted: 0.6742424242424243\n",
      "Kappa: 0.1315789473684209\n",
      "-------------Iteration 4/10\n",
      "55 22\n",
      "random_state = 45\n",
      "Accuracy: 0.5909090909090909\n",
      "F1 macro: 0.37142857142857144\n",
      "F1 micro: 0.5909090909090909\n",
      "F1 weighted: 0.5402597402597403\n",
      "Kappa: -0.22222222222222232\n",
      "-------------Iteration 5/10\n",
      "55 22\n",
      "random_state = 46\n"
     ]
    },
    {
     "name": "stderr",
     "output_type": "stream",
     "text": [
      "[Parallel(n_jobs=1)]: Done  49 tasks      | elapsed:    0.0s\n",
      "[Parallel(n_jobs=1)]: Done 199 tasks      | elapsed:    0.1s\n",
      "[Parallel(n_jobs=1)]: Done  49 tasks      | elapsed:    0.0s\n",
      "[Parallel(n_jobs=1)]: Done 199 tasks      | elapsed:    0.0s\n",
      "[Parallel(n_jobs=1)]: Done  49 tasks      | elapsed:    0.0s\n"
     ]
    },
    {
     "name": "stdout",
     "output_type": "stream",
     "text": [
      "Accuracy: 0.6818181818181818\n",
      "F1 macro: 0.5111111111111111\n",
      "F1 micro: 0.6818181818181818\n",
      "F1 weighted: 0.6424242424242425\n",
      "Kappa: 0.04938271604938271\n",
      "-------------Iteration 6/10\n",
      "55 22\n",
      "random_state = 47\n"
     ]
    },
    {
     "name": "stderr",
     "output_type": "stream",
     "text": [
      "[Parallel(n_jobs=1)]: Done 199 tasks      | elapsed:    0.1s\n",
      "[Parallel(n_jobs=1)]: Done  49 tasks      | elapsed:    0.0s\n",
      "[Parallel(n_jobs=1)]: Done 199 tasks      | elapsed:    0.0s\n",
      "[Parallel(n_jobs=1)]: Done  49 tasks      | elapsed:    0.0s\n",
      "[Parallel(n_jobs=1)]: Done 199 tasks      | elapsed:    0.1s\n",
      "[Parallel(n_jobs=1)]: Done  49 tasks      | elapsed:    0.0s\n",
      "[Parallel(n_jobs=1)]: Done 199 tasks      | elapsed:    0.0s\n"
     ]
    },
    {
     "name": "stdout",
     "output_type": "stream",
     "text": [
      "Accuracy: 0.6363636363636364\n",
      "F1 macro: 0.48235294117647054\n",
      "F1 micro: 0.6363636363636364\n",
      "F1 weighted: 0.6106951871657753\n",
      "Kappa: -0.023255813953488413\n",
      "-------------Iteration 7/10\n",
      "55 22\n",
      "random_state = 48\n",
      "Accuracy: 0.7272727272727273\n",
      "F1 macro: 0.5416666666666667\n",
      "F1 micro: 0.7272727272727273\n",
      "F1 weighted: 0.6742424242424243\n",
      "Kappa: 0.1315789473684209\n",
      "-------------Iteration 8/10\n",
      "55 22\n",
      "random_state = 49\n"
     ]
    },
    {
     "name": "stderr",
     "output_type": "stream",
     "text": [
      "[Parallel(n_jobs=1)]: Done  49 tasks      | elapsed:    0.0s\n",
      "[Parallel(n_jobs=1)]: Done 199 tasks      | elapsed:    0.1s\n",
      "[Parallel(n_jobs=1)]: Done  49 tasks      | elapsed:    0.0s\n",
      "[Parallel(n_jobs=1)]: Done 199 tasks      | elapsed:    0.0s\n",
      "[Parallel(n_jobs=1)]: Done  49 tasks      | elapsed:    0.0s\n"
     ]
    },
    {
     "name": "stdout",
     "output_type": "stream",
     "text": [
      "Accuracy: 0.7727272727272727\n",
      "F1 macro: 0.5752895752895753\n",
      "F1 micro: 0.7727272727272727\n",
      "F1 weighted: 0.7069147069147069\n",
      "Kappa: 0.22535211267605637\n",
      "-------------Iteration 9/10\n",
      "55 22\n",
      "random_state = 50\n"
     ]
    },
    {
     "name": "stderr",
     "output_type": "stream",
     "text": [
      "[Parallel(n_jobs=1)]: Done 199 tasks      | elapsed:    0.1s\n",
      "[Parallel(n_jobs=1)]: Done  49 tasks      | elapsed:    0.0s\n",
      "[Parallel(n_jobs=1)]: Done 199 tasks      | elapsed:    0.0s\n",
      "[Parallel(n_jobs=1)]: Done  49 tasks      | elapsed:    0.0s\n",
      "[Parallel(n_jobs=1)]: Done 199 tasks      | elapsed:    0.1s\n",
      "[Parallel(n_jobs=1)]: Done  49 tasks      | elapsed:    0.0s\n",
      "[Parallel(n_jobs=1)]: Done 199 tasks      | elapsed:    0.0s\n"
     ]
    },
    {
     "name": "stdout",
     "output_type": "stream",
     "text": [
      "Accuracy: 0.6818181818181818\n",
      "F1 macro: 0.40540540540540543\n",
      "F1 micro: 0.6818181818181818\n",
      "F1 weighted: 0.5896805896805897\n",
      "Kappa: -0.08450704225352101\n",
      "-------------Iteration 10/10\n",
      "55 22\n",
      "random_state = 51\n",
      "Accuracy: 0.6818181818181818\n",
      "F1 macro: 0.40540540540540543\n",
      "F1 micro: 0.6818181818181818\n",
      "F1 weighted: 0.5896805896805897\n",
      "Kappa: -0.08450704225352101\n"
     ]
    },
    {
     "name": "stderr",
     "output_type": "stream",
     "text": [
      "[Parallel(n_jobs=1)]: Done  49 tasks      | elapsed:    0.0s\n",
      "[Parallel(n_jobs=1)]: Done 199 tasks      | elapsed:    0.1s\n",
      "[Parallel(n_jobs=1)]: Done  49 tasks      | elapsed:    0.0s\n",
      "[Parallel(n_jobs=1)]: Done 199 tasks      | elapsed:    0.0s\n"
     ]
    }
   ],
   "source": [
    "for n in range(iterations):\n",
    "    print(f\"-------------Iteration {n + 1}/{iterations}\")\n",
    "    random_state=42+n\n",
    "\n",
    "    X_train, y_train, X_test, y_test = prepare_dataset_classification(\n",
    "        df,\n",
    "        random_state=random_state,\n",
    "        train_size=train_size\n",
    "    )\n",
    "    print(f\"random_state = {random_state}\")\n",
    "\n",
    "    y_test, y_pred, acc, f1_macro, f1_micro, f1_weighted, kappa = train_and_evaluate_classifier(\n",
    "        X_train, \n",
    "        y_train, \n",
    "        X_test, \n",
    "        y_test, \n",
    "        random_state=random_state\n",
    "    )\n",
    "    \n",
    "    y_test_all.append(y_test)\n",
    "    y_pred_all.append(y_pred)    \n",
    "    acc_scores.append(acc)\n",
    "    f1macro_scores.append(f1_macro)\n",
    "    f1micro_scores.append(f1_micro)\n",
    "    f1weighted_scores.append(f1_weighted)\n",
    "    kappa_scores.append(kappa)\n",
    "    print(f\"Accuracy: {acc}\")\n",
    "    print(f\"F1 macro: {f1_macro}\")\n",
    "    print(f\"F1 micro: {f1_micro}\")\n",
    "    print(f\"F1 weighted: {f1_weighted}\")\n",
    "    print(f\"Kappa: {kappa}\")"
   ]
  },
  {
   "cell_type": "code",
   "execution_count": 53,
   "metadata": {},
   "outputs": [
    {
     "name": "stdout",
     "output_type": "stream",
     "text": [
      "FINAL REPORT for training size = 55\n",
      "mean accuracy: 0.6909090909090909 +/- 0.05677270907634907\n",
      "mean F1 macro: 0.48919688596159183 +/- 0.06986799757100386\n",
      "mean F1 micro: 0.6909090909090909 +/- 0.05677270907634907\n",
      "mean F1 weighted: 0.6345749798690976 +/- 0.052670258580551715\n",
      "mean Kappa: 0.03254969015020961 +/- 0.13884677875539383\n"
     ]
    }
   ],
   "source": [
    "print(f\"FINAL REPORT for training size = {train_size}\")\n",
    "\n",
    "print(f\"mean accuracy: {np.mean(acc_scores)} +/- {np.std(acc_scores)}\")\n",
    "print(f\"mean F1 macro: {np.mean(f1macro_scores)} +/- {np.std(f1macro_scores)}\")\n",
    "print(f\"mean F1 micro: {np.mean(f1micro_scores)} +/- {np.std(f1micro_scores)}\")\n",
    "print(f\"mean F1 weighted: {np.mean(f1weighted_scores)} +/- {np.std(f1weighted_scores)}\")\n",
    "print(f\"mean Kappa: {np.mean(kappa_scores)} +/- {np.std(kappa_scores)}\")"
   ]
  },
  {
   "cell_type": "code",
   "execution_count": 54,
   "metadata": {},
   "outputs": [
    {
     "data": {
      "text/html": [
       "<div>\n",
       "<style scoped>\n",
       "    .dataframe tbody tr th:only-of-type {\n",
       "        vertical-align: middle;\n",
       "    }\n",
       "\n",
       "    .dataframe tbody tr th {\n",
       "        vertical-align: top;\n",
       "    }\n",
       "\n",
       "    .dataframe thead th {\n",
       "        text-align: right;\n",
       "    }\n",
       "</style>\n",
       "<table border=\"1\" class=\"dataframe\">\n",
       "  <thead>\n",
       "    <tr style=\"text-align: right;\">\n",
       "      <th></th>\n",
       "      <th>train_size</th>\n",
       "      <th>y_true</th>\n",
       "      <th>y_pred</th>\n",
       "      <th>accuracy</th>\n",
       "      <th>f1_macro</th>\n",
       "      <th>f1_micro</th>\n",
       "      <th>f1_weighted</th>\n",
       "      <th>kappa</th>\n",
       "    </tr>\n",
       "  </thead>\n",
       "  <tbody>\n",
       "    <tr>\n",
       "      <th>0</th>\n",
       "      <td>55</td>\n",
       "      <td>[0, 1, 0, 0, 0, 1, 0, 0, 0, 0, 0, 0, 0, 1, 1, ...</td>\n",
       "      <td>[0, 1, 1, 0, 0, 0, 0, 0, 0, 1, 0, 0, 0, 0, 0, ...</td>\n",
       "      <td>0.636364</td>\n",
       "      <td>0.482353</td>\n",
       "      <td>0.636364</td>\n",
       "      <td>0.610695</td>\n",
       "      <td>-0.023256</td>\n",
       "    </tr>\n",
       "    <tr>\n",
       "      <th>1</th>\n",
       "      <td>55</td>\n",
       "      <td>[0, 0, 1, 0, 0, 0, 0, 0, 1, 0, 0, 1, 0, 0, 0, ...</td>\n",
       "      <td>[0, 0, 0, 0, 0, 0, 0, 0, 0, 0, 0, 1, 0, 0, 0, ...</td>\n",
       "      <td>0.772727</td>\n",
       "      <td>0.575290</td>\n",
       "      <td>0.772727</td>\n",
       "      <td>0.706915</td>\n",
       "      <td>0.225352</td>\n",
       "    </tr>\n",
       "    <tr>\n",
       "      <th>2</th>\n",
       "      <td>55</td>\n",
       "      <td>[0, 0, 1, 0, 0, 0, 1, 0, 0, 0, 0, 0, 0, 1, 1, ...</td>\n",
       "      <td>[0, 0, 0, 0, 0, 0, 0, 0, 0, 0, 0, 0, 0, 0, 0, ...</td>\n",
       "      <td>0.727273</td>\n",
       "      <td>0.541667</td>\n",
       "      <td>0.727273</td>\n",
       "      <td>0.674242</td>\n",
       "      <td>0.131579</td>\n",
       "    </tr>\n",
       "  </tbody>\n",
       "</table>\n",
       "</div>"
      ],
      "text/plain": [
       "   train_size                                             y_true  \\\n",
       "0          55  [0, 1, 0, 0, 0, 1, 0, 0, 0, 0, 0, 0, 0, 1, 1, ...   \n",
       "1          55  [0, 0, 1, 0, 0, 0, 0, 0, 1, 0, 0, 1, 0, 0, 0, ...   \n",
       "2          55  [0, 0, 1, 0, 0, 0, 1, 0, 0, 0, 0, 0, 0, 1, 1, ...   \n",
       "\n",
       "                                              y_pred  accuracy  f1_macro  \\\n",
       "0  [0, 1, 1, 0, 0, 0, 0, 0, 0, 1, 0, 0, 0, 0, 0, ...  0.636364  0.482353   \n",
       "1  [0, 0, 0, 0, 0, 0, 0, 0, 0, 0, 0, 1, 0, 0, 0, ...  0.772727  0.575290   \n",
       "2  [0, 0, 0, 0, 0, 0, 0, 0, 0, 0, 0, 0, 0, 0, 0, ...  0.727273  0.541667   \n",
       "\n",
       "   f1_micro  f1_weighted     kappa  \n",
       "0  0.636364     0.610695 -0.023256  \n",
       "1  0.772727     0.706915  0.225352  \n",
       "2  0.727273     0.674242  0.131579  "
      ]
     },
     "execution_count": 54,
     "metadata": {},
     "output_type": "execute_result"
    }
   ],
   "source": [
    "compiled_res_55 = pd.DataFrame(metrics_dict())\n",
    "compiled_res_55.head(3)"
   ]
  },
  {
   "cell_type": "markdown",
   "metadata": {},
   "source": [
    "### training size = 65"
   ]
  },
  {
   "cell_type": "code",
   "execution_count": 55,
   "metadata": {},
   "outputs": [],
   "source": [
    "train_size = 65\n",
    "iterations = 10\n",
    "y_test_all = []\n",
    "y_pred_all = []\n",
    "acc_scores = []\n",
    "f1macro_scores = []\n",
    "f1micro_scores = []\n",
    "f1weighted_scores = []\n",
    "kappa_scores = []"
   ]
  },
  {
   "cell_type": "code",
   "execution_count": 56,
   "metadata": {},
   "outputs": [
    {
     "name": "stdout",
     "output_type": "stream",
     "text": [
      "-------------Iteration 1/10\n",
      "65 12\n",
      "random_state = 42\n",
      "Accuracy: 0.75\n",
      "F1 macro: 0.42857142857142855\n",
      "F1 micro: 0.75\n",
      "F1 weighted: 0.6428571428571428\n",
      "Kappa: 0.0\n",
      "-------------Iteration 2/10\n",
      "65 12\n",
      "random_state = 43\n"
     ]
    },
    {
     "name": "stderr",
     "output_type": "stream",
     "text": [
      "[Parallel(n_jobs=1)]: Done  49 tasks      | elapsed:    0.0s\n",
      "[Parallel(n_jobs=1)]: Done 199 tasks      | elapsed:    0.1s\n",
      "[Parallel(n_jobs=1)]: Done  49 tasks      | elapsed:    0.0s\n",
      "[Parallel(n_jobs=1)]: Done 199 tasks      | elapsed:    0.0s\n",
      "[Parallel(n_jobs=1)]: Done  49 tasks      | elapsed:    0.0s\n",
      "[Parallel(n_jobs=1)]: Done 199 tasks      | elapsed:    0.1s\n",
      "[Parallel(n_jobs=1)]: Done  49 tasks      | elapsed:    0.0s\n",
      "[Parallel(n_jobs=1)]: Done 199 tasks      | elapsed:    0.0s\n",
      "[Parallel(n_jobs=1)]: Done  49 tasks      | elapsed:    0.0s\n",
      "[Parallel(n_jobs=1)]: Done 199 tasks      | elapsed:    0.1s\n",
      "[Parallel(n_jobs=1)]: Done  49 tasks      | elapsed:    0.0s\n",
      "[Parallel(n_jobs=1)]: Done 199 tasks      | elapsed:    0.0s\n"
     ]
    },
    {
     "name": "stdout",
     "output_type": "stream",
     "text": [
      "Accuracy: 0.75\n",
      "F1 macro: 0.6210526315789473\n",
      "F1 micro: 0.75\n",
      "F1 weighted: 0.731578947368421\n",
      "Kappa: 0.25\n",
      "-------------Iteration 3/10\n",
      "65 12\n",
      "random_state = 44\n",
      "Accuracy: 0.6666666666666666\n",
      "F1 macro: 0.4\n",
      "F1 micro: 0.6666666666666666\n",
      "F1 weighted: 0.6\n",
      "Kappa: -0.1428571428571428\n",
      "-------------Iteration 4/10\n",
      "65 12\n",
      "random_state = 45\n"
     ]
    },
    {
     "name": "stderr",
     "output_type": "stream",
     "text": [
      "[Parallel(n_jobs=1)]: Done  49 tasks      | elapsed:    0.0s\n",
      "[Parallel(n_jobs=1)]: Done 199 tasks      | elapsed:    0.1s\n",
      "[Parallel(n_jobs=1)]: Done  49 tasks      | elapsed:    0.0s\n",
      "[Parallel(n_jobs=1)]: Done 199 tasks      | elapsed:    0.0s\n",
      "[Parallel(n_jobs=1)]: Done  49 tasks      | elapsed:    0.0s\n"
     ]
    },
    {
     "name": "stdout",
     "output_type": "stream",
     "text": [
      "Accuracy: 0.6666666666666666\n",
      "F1 macro: 0.4\n",
      "F1 micro: 0.6666666666666666\n",
      "F1 weighted: 0.6\n",
      "Kappa: -0.1428571428571428\n",
      "-------------Iteration 5/10\n",
      "65 12\n",
      "random_state = 46\n",
      "Accuracy: 0.8333333333333334\n",
      "F1 macro: 0.7\n",
      "F1 micro: 0.8333333333333334\n",
      "F1 weighted: 0.7999999999999999\n",
      "Kappa: 0.4285714285714286\n",
      "-------------Iteration 6/10\n",
      "65 12\n",
      "random_state = 47\n"
     ]
    },
    {
     "name": "stderr",
     "output_type": "stream",
     "text": [
      "[Parallel(n_jobs=1)]: Done 199 tasks      | elapsed:    0.1s\n",
      "[Parallel(n_jobs=1)]: Done  49 tasks      | elapsed:    0.0s\n",
      "[Parallel(n_jobs=1)]: Done 199 tasks      | elapsed:    0.0s\n",
      "[Parallel(n_jobs=1)]: Done  49 tasks      | elapsed:    0.0s\n",
      "[Parallel(n_jobs=1)]: Done 199 tasks      | elapsed:    0.1s\n",
      "[Parallel(n_jobs=1)]: Done  49 tasks      | elapsed:    0.0s\n",
      "[Parallel(n_jobs=1)]: Done 199 tasks      | elapsed:    0.0s\n"
     ]
    },
    {
     "name": "stdout",
     "output_type": "stream",
     "text": [
      "Accuracy: 0.6666666666666666\n",
      "F1 macro: 0.4\n",
      "F1 micro: 0.6666666666666666\n",
      "F1 weighted: 0.6\n",
      "Kappa: -0.1428571428571428\n",
      "-------------Iteration 7/10\n",
      "65 12\n",
      "random_state = 48\n",
      "Accuracy: 0.6666666666666666\n",
      "F1 macro: 0.4\n",
      "F1 micro: 0.6666666666666666\n",
      "F1 weighted: 0.6\n",
      "Kappa: -0.1428571428571428\n",
      "-------------Iteration 8/10\n",
      "65 12\n",
      "random_state = 49\n"
     ]
    },
    {
     "name": "stderr",
     "output_type": "stream",
     "text": [
      "[Parallel(n_jobs=1)]: Done  49 tasks      | elapsed:    0.0s\n",
      "[Parallel(n_jobs=1)]: Done 199 tasks      | elapsed:    0.1s\n",
      "[Parallel(n_jobs=1)]: Done  49 tasks      | elapsed:    0.0s\n",
      "[Parallel(n_jobs=1)]: Done 199 tasks      | elapsed:    0.0s\n",
      "[Parallel(n_jobs=1)]: Done  49 tasks      | elapsed:    0.0s\n",
      "[Parallel(n_jobs=1)]: Done 199 tasks      | elapsed:    0.1s\n",
      "[Parallel(n_jobs=1)]: Done  49 tasks      | elapsed:    0.0s\n",
      "[Parallel(n_jobs=1)]: Done 199 tasks      | elapsed:    0.0s\n",
      "[Parallel(n_jobs=1)]: Done  49 tasks      | elapsed:    0.0s\n",
      "[Parallel(n_jobs=1)]: Done 199 tasks      | elapsed:    0.1s\n",
      "[Parallel(n_jobs=1)]: Done  49 tasks      | elapsed:    0.0s\n",
      "[Parallel(n_jobs=1)]: Done 199 tasks      | elapsed:    0.0s\n"
     ]
    },
    {
     "name": "stdout",
     "output_type": "stream",
     "text": [
      "Accuracy: 0.75\n",
      "F1 macro: 0.42857142857142855\n",
      "F1 micro: 0.75\n",
      "F1 weighted: 0.6428571428571428\n",
      "Kappa: 0.0\n",
      "-------------Iteration 9/10\n",
      "65 12\n",
      "random_state = 50\n",
      "Accuracy: 0.6666666666666666\n",
      "F1 macro: 0.4\n",
      "F1 micro: 0.6666666666666666\n",
      "F1 weighted: 0.6\n",
      "Kappa: -0.1428571428571428\n",
      "-------------Iteration 10/10\n",
      "65 12\n",
      "random_state = 51\n",
      "Accuracy: 0.6666666666666666\n",
      "F1 macro: 0.4\n",
      "F1 micro: 0.6666666666666666\n",
      "F1 weighted: 0.6\n",
      "Kappa: -0.1428571428571428\n"
     ]
    },
    {
     "name": "stderr",
     "output_type": "stream",
     "text": [
      "[Parallel(n_jobs=1)]: Done  49 tasks      | elapsed:    0.0s\n",
      "[Parallel(n_jobs=1)]: Done 199 tasks      | elapsed:    0.1s\n",
      "[Parallel(n_jobs=1)]: Done  49 tasks      | elapsed:    0.0s\n",
      "[Parallel(n_jobs=1)]: Done 199 tasks      | elapsed:    0.0s\n"
     ]
    }
   ],
   "source": [
    "for n in range(iterations):\n",
    "    print(f\"-------------Iteration {n + 1}/{iterations}\")\n",
    "    random_state=42+n\n",
    "\n",
    "    X_train, y_train, X_test, y_test = prepare_dataset_classification(\n",
    "        df,\n",
    "        random_state=random_state,\n",
    "        train_size=train_size\n",
    "    )\n",
    "    print(f\"random_state = {random_state}\")\n",
    "\n",
    "    y_test, y_pred, acc, f1_macro, f1_micro, f1_weighted, kappa = train_and_evaluate_classifier(\n",
    "        X_train, \n",
    "        y_train, \n",
    "        X_test, \n",
    "        y_test, \n",
    "        random_state=random_state\n",
    "    )\n",
    "    \n",
    "    y_test_all.append(y_test)\n",
    "    y_pred_all.append(y_pred)    \n",
    "    acc_scores.append(acc)\n",
    "    f1macro_scores.append(f1_macro)\n",
    "    f1micro_scores.append(f1_micro)\n",
    "    f1weighted_scores.append(f1_weighted)\n",
    "    kappa_scores.append(kappa)\n",
    "    print(f\"Accuracy: {acc}\")\n",
    "    print(f\"F1 macro: {f1_macro}\")\n",
    "    print(f\"F1 micro: {f1_micro}\")\n",
    "    print(f\"F1 weighted: {f1_weighted}\")\n",
    "    print(f\"Kappa: {kappa}\")"
   ]
  },
  {
   "cell_type": "code",
   "execution_count": 57,
   "metadata": {},
   "outputs": [
    {
     "name": "stdout",
     "output_type": "stream",
     "text": [
      "FINAL REPORT for training size = 65\n",
      "mean accuracy: 0.7083333333333334 +/- 0.05590169943749477\n",
      "mean F1 macro: 0.4578195488721805 +/- 0.1034726614480258\n",
      "mean F1 micro: 0.7083333333333334 +/- 0.05590169943749477\n",
      "mean F1 weighted: 0.6417293233082706 +/- 0.06600994208501851\n",
      "mean Kappa: -0.017857142857142815 +/- 0.1911631955867519\n"
     ]
    }
   ],
   "source": [
    "print(f\"FINAL REPORT for training size = {train_size}\")\n",
    "\n",
    "print(f\"mean accuracy: {np.mean(acc_scores)} +/- {np.std(acc_scores)}\")\n",
    "print(f\"mean F1 macro: {np.mean(f1macro_scores)} +/- {np.std(f1macro_scores)}\")\n",
    "print(f\"mean F1 micro: {np.mean(f1micro_scores)} +/- {np.std(f1micro_scores)}\")\n",
    "print(f\"mean F1 weighted: {np.mean(f1weighted_scores)} +/- {np.std(f1weighted_scores)}\")\n",
    "print(f\"mean Kappa: {np.mean(kappa_scores)} +/- {np.std(kappa_scores)}\")"
   ]
  },
  {
   "cell_type": "code",
   "execution_count": 58,
   "metadata": {},
   "outputs": [
    {
     "data": {
      "text/html": [
       "<div>\n",
       "<style scoped>\n",
       "    .dataframe tbody tr th:only-of-type {\n",
       "        vertical-align: middle;\n",
       "    }\n",
       "\n",
       "    .dataframe tbody tr th {\n",
       "        vertical-align: top;\n",
       "    }\n",
       "\n",
       "    .dataframe thead th {\n",
       "        text-align: right;\n",
       "    }\n",
       "</style>\n",
       "<table border=\"1\" class=\"dataframe\">\n",
       "  <thead>\n",
       "    <tr style=\"text-align: right;\">\n",
       "      <th></th>\n",
       "      <th>train_size</th>\n",
       "      <th>y_true</th>\n",
       "      <th>y_pred</th>\n",
       "      <th>accuracy</th>\n",
       "      <th>f1_macro</th>\n",
       "      <th>f1_micro</th>\n",
       "      <th>f1_weighted</th>\n",
       "      <th>kappa</th>\n",
       "    </tr>\n",
       "  </thead>\n",
       "  <tbody>\n",
       "    <tr>\n",
       "      <th>0</th>\n",
       "      <td>65</td>\n",
       "      <td>[1, 0, 0, 0, 1, 1, 0, 0, 0, 0, 0, 0]</td>\n",
       "      <td>[0, 0, 0, 0, 0, 0, 0, 0, 0, 0, 0, 0]</td>\n",
       "      <td>0.750000</td>\n",
       "      <td>0.428571</td>\n",
       "      <td>0.750000</td>\n",
       "      <td>0.642857</td>\n",
       "      <td>0.000000</td>\n",
       "    </tr>\n",
       "    <tr>\n",
       "      <th>1</th>\n",
       "      <td>65</td>\n",
       "      <td>[0, 0, 0, 1, 0, 0, 1, 0, 1, 0, 0, 0]</td>\n",
       "      <td>[0, 0, 1, 1, 0, 0, 0, 0, 0, 0, 0, 0]</td>\n",
       "      <td>0.750000</td>\n",
       "      <td>0.621053</td>\n",
       "      <td>0.750000</td>\n",
       "      <td>0.731579</td>\n",
       "      <td>0.250000</td>\n",
       "    </tr>\n",
       "    <tr>\n",
       "      <th>2</th>\n",
       "      <td>65</td>\n",
       "      <td>[1, 0, 0, 0, 0, 0, 0, 0, 1, 0, 1, 0]</td>\n",
       "      <td>[0, 0, 0, 0, 0, 0, 0, 1, 0, 0, 0, 0]</td>\n",
       "      <td>0.666667</td>\n",
       "      <td>0.400000</td>\n",
       "      <td>0.666667</td>\n",
       "      <td>0.600000</td>\n",
       "      <td>-0.142857</td>\n",
       "    </tr>\n",
       "  </tbody>\n",
       "</table>\n",
       "</div>"
      ],
      "text/plain": [
       "   train_size                                y_true  \\\n",
       "0          65  [1, 0, 0, 0, 1, 1, 0, 0, 0, 0, 0, 0]   \n",
       "1          65  [0, 0, 0, 1, 0, 0, 1, 0, 1, 0, 0, 0]   \n",
       "2          65  [1, 0, 0, 0, 0, 0, 0, 0, 1, 0, 1, 0]   \n",
       "\n",
       "                                 y_pred  accuracy  f1_macro  f1_micro  \\\n",
       "0  [0, 0, 0, 0, 0, 0, 0, 0, 0, 0, 0, 0]  0.750000  0.428571  0.750000   \n",
       "1  [0, 0, 1, 1, 0, 0, 0, 0, 0, 0, 0, 0]  0.750000  0.621053  0.750000   \n",
       "2  [0, 0, 0, 0, 0, 0, 0, 1, 0, 0, 0, 0]  0.666667  0.400000  0.666667   \n",
       "\n",
       "   f1_weighted     kappa  \n",
       "0     0.642857  0.000000  \n",
       "1     0.731579  0.250000  \n",
       "2     0.600000 -0.142857  "
      ]
     },
     "execution_count": 58,
     "metadata": {},
     "output_type": "execute_result"
    }
   ],
   "source": [
    "compiled_res_65 = pd.DataFrame(metrics_dict())\n",
    "compiled_res_65.head(3)"
   ]
  },
  {
   "cell_type": "code",
   "execution_count": 59,
   "metadata": {},
   "outputs": [
    {
     "name": "stdout",
     "output_type": "stream",
     "text": [
      "60\n"
     ]
    },
    {
     "data": {
      "text/html": [
       "<div>\n",
       "<style scoped>\n",
       "    .dataframe tbody tr th:only-of-type {\n",
       "        vertical-align: middle;\n",
       "    }\n",
       "\n",
       "    .dataframe tbody tr th {\n",
       "        vertical-align: top;\n",
       "    }\n",
       "\n",
       "    .dataframe thead th {\n",
       "        text-align: right;\n",
       "    }\n",
       "</style>\n",
       "<table border=\"1\" class=\"dataframe\">\n",
       "  <thead>\n",
       "    <tr style=\"text-align: right;\">\n",
       "      <th></th>\n",
       "      <th>train_size</th>\n",
       "      <th>y_true</th>\n",
       "      <th>y_pred</th>\n",
       "      <th>accuracy</th>\n",
       "      <th>f1_macro</th>\n",
       "      <th>f1_micro</th>\n",
       "      <th>f1_weighted</th>\n",
       "      <th>kappa</th>\n",
       "    </tr>\n",
       "  </thead>\n",
       "  <tbody>\n",
       "    <tr>\n",
       "      <th>0</th>\n",
       "      <td>15</td>\n",
       "      <td>[0, 0, 0, 0, 0, 0, 1, 1, 1, 0, 1, 0, 0, 0, 0, ...</td>\n",
       "      <td>[0, 0, 0, 0, 0, 0, 0, 0, 0, 0, 0, 0, 0, 0, 0, ...</td>\n",
       "      <td>0.725806</td>\n",
       "      <td>0.420561</td>\n",
       "      <td>0.725806</td>\n",
       "      <td>0.610491</td>\n",
       "      <td>0.000000</td>\n",
       "    </tr>\n",
       "    <tr>\n",
       "      <th>1</th>\n",
       "      <td>15</td>\n",
       "      <td>[0, 0, 0, 0, 1, 0, 0, 0, 0, 0, 0, 0, 0, 0, 0, ...</td>\n",
       "      <td>[0, 0, 1, 0, 0, 0, 0, 0, 0, 0, 0, 0, 0, 0, 0, ...</td>\n",
       "      <td>0.661290</td>\n",
       "      <td>0.473939</td>\n",
       "      <td>0.661290</td>\n",
       "      <td>0.615718</td>\n",
       "      <td>-0.018779</td>\n",
       "    </tr>\n",
       "    <tr>\n",
       "      <th>2</th>\n",
       "      <td>15</td>\n",
       "      <td>[0, 0, 0, 1, 0, 1, 1, 1, 0, 1, 0, 0, 1, 1, 1, ...</td>\n",
       "      <td>[0, 0, 0, 0, 1, 0, 0, 0, 0, 0, 0, 0, 0, 0, 0, ...</td>\n",
       "      <td>0.645161</td>\n",
       "      <td>0.464678</td>\n",
       "      <td>0.645161</td>\n",
       "      <td>0.605054</td>\n",
       "      <td>-0.044410</td>\n",
       "    </tr>\n",
       "    <tr>\n",
       "      <th>3</th>\n",
       "      <td>15</td>\n",
       "      <td>[0, 0, 1, 0, 0, 0, 0, 0, 0, 0, 1, 0, 0, 1, 0, ...</td>\n",
       "      <td>[0, 1, 0, 0, 0, 0, 0, 1, 1, 0, 0, 0, 0, 0, 1, ...</td>\n",
       "      <td>0.629032</td>\n",
       "      <td>0.455517</td>\n",
       "      <td>0.629032</td>\n",
       "      <td>0.594329</td>\n",
       "      <td>-0.068966</td>\n",
       "    </tr>\n",
       "    <tr>\n",
       "      <th>4</th>\n",
       "      <td>15</td>\n",
       "      <td>[0, 1, 1, 0, 0, 0, 1, 1, 0, 0, 0, 0, 0, 0, 0, ...</td>\n",
       "      <td>[0, 0, 0, 0, 0, 0, 0, 0, 0, 0, 0, 0, 0, 0, 0, ...</td>\n",
       "      <td>0.725806</td>\n",
       "      <td>0.471679</td>\n",
       "      <td>0.725806</td>\n",
       "      <td>0.637157</td>\n",
       "      <td>0.050450</td>\n",
       "    </tr>\n",
       "  </tbody>\n",
       "</table>\n",
       "</div>"
      ],
      "text/plain": [
       "   train_size                                             y_true  \\\n",
       "0          15  [0, 0, 0, 0, 0, 0, 1, 1, 1, 0, 1, 0, 0, 0, 0, ...   \n",
       "1          15  [0, 0, 0, 0, 1, 0, 0, 0, 0, 0, 0, 0, 0, 0, 0, ...   \n",
       "2          15  [0, 0, 0, 1, 0, 1, 1, 1, 0, 1, 0, 0, 1, 1, 1, ...   \n",
       "3          15  [0, 0, 1, 0, 0, 0, 0, 0, 0, 0, 1, 0, 0, 1, 0, ...   \n",
       "4          15  [0, 1, 1, 0, 0, 0, 1, 1, 0, 0, 0, 0, 0, 0, 0, ...   \n",
       "\n",
       "                                              y_pred  accuracy  f1_macro  \\\n",
       "0  [0, 0, 0, 0, 0, 0, 0, 0, 0, 0, 0, 0, 0, 0, 0, ...  0.725806  0.420561   \n",
       "1  [0, 0, 1, 0, 0, 0, 0, 0, 0, 0, 0, 0, 0, 0, 0, ...  0.661290  0.473939   \n",
       "2  [0, 0, 0, 0, 1, 0, 0, 0, 0, 0, 0, 0, 0, 0, 0, ...  0.645161  0.464678   \n",
       "3  [0, 1, 0, 0, 0, 0, 0, 1, 1, 0, 0, 0, 0, 0, 1, ...  0.629032  0.455517   \n",
       "4  [0, 0, 0, 0, 0, 0, 0, 0, 0, 0, 0, 0, 0, 0, 0, ...  0.725806  0.471679   \n",
       "\n",
       "   f1_micro  f1_weighted     kappa  \n",
       "0  0.725806     0.610491  0.000000  \n",
       "1  0.661290     0.615718 -0.018779  \n",
       "2  0.645161     0.605054 -0.044410  \n",
       "3  0.629032     0.594329 -0.068966  \n",
       "4  0.725806     0.637157  0.050450  "
      ]
     },
     "execution_count": 59,
     "metadata": {},
     "output_type": "execute_result"
    }
   ],
   "source": [
    "compiled_res = pd.concat([\n",
    "    compiled_res_15, \n",
    "    compiled_res_25,\n",
    "    compiled_res_35,\n",
    "    compiled_res_45,\n",
    "    compiled_res_55,\n",
    "    compiled_res_65\n",
    "], ignore_index=True)\n",
    "print(len(compiled_res))\n",
    "compiled_res.head()"
   ]
  },
  {
   "cell_type": "code",
   "execution_count": 60,
   "metadata": {},
   "outputs": [],
   "source": [
    "compiled_res[\"y_true\"] = compiled_res[\"y_true\"].apply(lambda arr: list(arr))\n",
    "compiled_res[\"y_pred\"] = compiled_res[\"y_pred\"].apply(lambda arr: list(arr))"
   ]
  },
  {
   "cell_type": "code",
   "execution_count": 61,
   "metadata": {},
   "outputs": [],
   "source": [
    "compiled_res.to_csv(\"RF_results_MOFphotocat_2bins_7327.csv\", sep=\",\", index=False)"
   ]
  },
  {
   "cell_type": "code",
   "execution_count": 62,
   "metadata": {},
   "outputs": [
    {
     "name": "stdout",
     "output_type": "stream",
     "text": [
      "<class 'pandas.core.frame.DataFrame'>\n",
      "RangeIndex: 60 entries, 0 to 59\n",
      "Data columns (total 8 columns):\n",
      " #   Column       Non-Null Count  Dtype  \n",
      "---  ------       --------------  -----  \n",
      " 0   train_size   60 non-null     int64  \n",
      " 1   y_true       60 non-null     object \n",
      " 2   y_pred       60 non-null     object \n",
      " 3   accuracy     60 non-null     float64\n",
      " 4   f1_macro     60 non-null     float64\n",
      " 5   f1_micro     60 non-null     float64\n",
      " 6   f1_weighted  60 non-null     float64\n",
      " 7   kappa        60 non-null     float64\n",
      "dtypes: float64(5), int64(1), object(2)\n",
      "memory usage: 3.9+ KB\n"
     ]
    }
   ],
   "source": [
    "df = pd.read_csv(\"RF_results_MOFphotocat_2bins_7327.csv\", sep=',')\n",
    "df.info()"
   ]
  },
  {
   "cell_type": "code",
   "execution_count": 63,
   "metadata": {},
   "outputs": [
    {
     "data": {
      "text/html": [
       "<div>\n",
       "<style scoped>\n",
       "    .dataframe tbody tr th:only-of-type {\n",
       "        vertical-align: middle;\n",
       "    }\n",
       "\n",
       "    .dataframe tbody tr th {\n",
       "        vertical-align: top;\n",
       "    }\n",
       "\n",
       "    .dataframe thead th {\n",
       "        text-align: right;\n",
       "    }\n",
       "</style>\n",
       "<table border=\"1\" class=\"dataframe\">\n",
       "  <thead>\n",
       "    <tr style=\"text-align: right;\">\n",
       "      <th></th>\n",
       "      <th>train_size</th>\n",
       "      <th>y_true</th>\n",
       "      <th>y_pred</th>\n",
       "      <th>accuracy</th>\n",
       "      <th>f1_macro</th>\n",
       "      <th>f1_micro</th>\n",
       "      <th>f1_weighted</th>\n",
       "      <th>kappa</th>\n",
       "    </tr>\n",
       "  </thead>\n",
       "  <tbody>\n",
       "    <tr>\n",
       "      <th>0</th>\n",
       "      <td>15</td>\n",
       "      <td>[0, 0, 0, 0, 0, 0, 1, 1, 1, 0, 1, 0, 0, 0, 0, ...</td>\n",
       "      <td>[0, 0, 0, 0, 0, 0, 0, 0, 0, 0, 0, 0, 0, 0, 0, ...</td>\n",
       "      <td>0.725806</td>\n",
       "      <td>0.420561</td>\n",
       "      <td>0.725806</td>\n",
       "      <td>0.610491</td>\n",
       "      <td>0.000000</td>\n",
       "    </tr>\n",
       "    <tr>\n",
       "      <th>1</th>\n",
       "      <td>15</td>\n",
       "      <td>[0, 0, 0, 0, 1, 0, 0, 0, 0, 0, 0, 0, 0, 0, 0, ...</td>\n",
       "      <td>[0, 0, 1, 0, 0, 0, 0, 0, 0, 0, 0, 0, 0, 0, 0, ...</td>\n",
       "      <td>0.661290</td>\n",
       "      <td>0.473939</td>\n",
       "      <td>0.661290</td>\n",
       "      <td>0.615718</td>\n",
       "      <td>-0.018779</td>\n",
       "    </tr>\n",
       "    <tr>\n",
       "      <th>2</th>\n",
       "      <td>15</td>\n",
       "      <td>[0, 0, 0, 1, 0, 1, 1, 1, 0, 1, 0, 0, 1, 1, 1, ...</td>\n",
       "      <td>[0, 0, 0, 0, 1, 0, 0, 0, 0, 0, 0, 0, 0, 0, 0, ...</td>\n",
       "      <td>0.645161</td>\n",
       "      <td>0.464678</td>\n",
       "      <td>0.645161</td>\n",
       "      <td>0.605054</td>\n",
       "      <td>-0.044410</td>\n",
       "    </tr>\n",
       "  </tbody>\n",
       "</table>\n",
       "</div>"
      ],
      "text/plain": [
       "   train_size                                             y_true  \\\n",
       "0          15  [0, 0, 0, 0, 0, 0, 1, 1, 1, 0, 1, 0, 0, 0, 0, ...   \n",
       "1          15  [0, 0, 0, 0, 1, 0, 0, 0, 0, 0, 0, 0, 0, 0, 0, ...   \n",
       "2          15  [0, 0, 0, 1, 0, 1, 1, 1, 0, 1, 0, 0, 1, 1, 1, ...   \n",
       "\n",
       "                                              y_pred  accuracy  f1_macro  \\\n",
       "0  [0, 0, 0, 0, 0, 0, 0, 0, 0, 0, 0, 0, 0, 0, 0, ...  0.725806  0.420561   \n",
       "1  [0, 0, 1, 0, 0, 0, 0, 0, 0, 0, 0, 0, 0, 0, 0, ...  0.661290  0.473939   \n",
       "2  [0, 0, 0, 0, 1, 0, 0, 0, 0, 0, 0, 0, 0, 0, 0, ...  0.645161  0.464678   \n",
       "\n",
       "   f1_micro  f1_weighted     kappa  \n",
       "0  0.725806     0.610491  0.000000  \n",
       "1  0.661290     0.615718 -0.018779  \n",
       "2  0.645161     0.605054 -0.044410  "
      ]
     },
     "execution_count": 63,
     "metadata": {},
     "output_type": "execute_result"
    }
   ],
   "source": [
    "df.head(3)"
   ]
  },
  {
   "cell_type": "code",
   "execution_count": 64,
   "metadata": {},
   "outputs": [
    {
     "data": {
      "text/html": [
       "<div>\n",
       "<style scoped>\n",
       "    .dataframe tbody tr th:only-of-type {\n",
       "        vertical-align: middle;\n",
       "    }\n",
       "\n",
       "    .dataframe tbody tr th {\n",
       "        vertical-align: top;\n",
       "    }\n",
       "\n",
       "    .dataframe thead tr th {\n",
       "        text-align: left;\n",
       "    }\n",
       "\n",
       "    .dataframe thead tr:last-of-type th {\n",
       "        text-align: right;\n",
       "    }\n",
       "</style>\n",
       "<table border=\"1\" class=\"dataframe\">\n",
       "  <thead>\n",
       "    <tr>\n",
       "      <th></th>\n",
       "      <th colspan=\"2\" halign=\"left\">accuracy</th>\n",
       "      <th colspan=\"2\" halign=\"left\">f1_macro</th>\n",
       "      <th colspan=\"2\" halign=\"left\">f1_micro</th>\n",
       "      <th colspan=\"2\" halign=\"left\">f1_weighted</th>\n",
       "      <th colspan=\"2\" halign=\"left\">kappa</th>\n",
       "    </tr>\n",
       "    <tr>\n",
       "      <th></th>\n",
       "      <th>mean</th>\n",
       "      <th>sem</th>\n",
       "      <th>mean</th>\n",
       "      <th>sem</th>\n",
       "      <th>mean</th>\n",
       "      <th>sem</th>\n",
       "      <th>mean</th>\n",
       "      <th>sem</th>\n",
       "      <th>mean</th>\n",
       "      <th>sem</th>\n",
       "    </tr>\n",
       "    <tr>\n",
       "      <th>train_size</th>\n",
       "      <th></th>\n",
       "      <th></th>\n",
       "      <th></th>\n",
       "      <th></th>\n",
       "      <th></th>\n",
       "      <th></th>\n",
       "      <th></th>\n",
       "      <th></th>\n",
       "      <th></th>\n",
       "      <th></th>\n",
       "    </tr>\n",
       "  </thead>\n",
       "  <tbody>\n",
       "    <tr>\n",
       "      <th>15</th>\n",
       "      <td>0.688710</td>\n",
       "      <td>0.012959</td>\n",
       "      <td>0.459003</td>\n",
       "      <td>0.014042</td>\n",
       "      <td>0.688710</td>\n",
       "      <td>0.012959</td>\n",
       "      <td>0.617524</td>\n",
       "      <td>0.009112</td>\n",
       "      <td>-0.003477</td>\n",
       "      <td>0.025093</td>\n",
       "    </tr>\n",
       "    <tr>\n",
       "      <th>25</th>\n",
       "      <td>0.671154</td>\n",
       "      <td>0.009267</td>\n",
       "      <td>0.471405</td>\n",
       "      <td>0.018124</td>\n",
       "      <td>0.671154</td>\n",
       "      <td>0.009267</td>\n",
       "      <td>0.620954</td>\n",
       "      <td>0.011147</td>\n",
       "      <td>-0.014913</td>\n",
       "      <td>0.031770</td>\n",
       "    </tr>\n",
       "    <tr>\n",
       "      <th>35</th>\n",
       "      <td>0.678571</td>\n",
       "      <td>0.016742</td>\n",
       "      <td>0.472711</td>\n",
       "      <td>0.016269</td>\n",
       "      <td>0.678571</td>\n",
       "      <td>0.016742</td>\n",
       "      <td>0.628717</td>\n",
       "      <td>0.012634</td>\n",
       "      <td>-0.009687</td>\n",
       "      <td>0.031248</td>\n",
       "    </tr>\n",
       "    <tr>\n",
       "      <th>45</th>\n",
       "      <td>0.675000</td>\n",
       "      <td>0.012500</td>\n",
       "      <td>0.463597</td>\n",
       "      <td>0.010854</td>\n",
       "      <td>0.675000</td>\n",
       "      <td>0.012500</td>\n",
       "      <td>0.610395</td>\n",
       "      <td>0.008054</td>\n",
       "      <td>-0.006170</td>\n",
       "      <td>0.021182</td>\n",
       "    </tr>\n",
       "    <tr>\n",
       "      <th>55</th>\n",
       "      <td>0.690909</td>\n",
       "      <td>0.018924</td>\n",
       "      <td>0.489197</td>\n",
       "      <td>0.023289</td>\n",
       "      <td>0.690909</td>\n",
       "      <td>0.018924</td>\n",
       "      <td>0.634575</td>\n",
       "      <td>0.017557</td>\n",
       "      <td>0.032550</td>\n",
       "      <td>0.046282</td>\n",
       "    </tr>\n",
       "    <tr>\n",
       "      <th>65</th>\n",
       "      <td>0.708333</td>\n",
       "      <td>0.018634</td>\n",
       "      <td>0.457820</td>\n",
       "      <td>0.034491</td>\n",
       "      <td>0.708333</td>\n",
       "      <td>0.018634</td>\n",
       "      <td>0.641729</td>\n",
       "      <td>0.022003</td>\n",
       "      <td>-0.017857</td>\n",
       "      <td>0.063721</td>\n",
       "    </tr>\n",
       "  </tbody>\n",
       "</table>\n",
       "</div>"
      ],
      "text/plain": [
       "            accuracy            f1_macro            f1_micro            \\\n",
       "                mean       sem      mean       sem      mean       sem   \n",
       "train_size                                                               \n",
       "15          0.688710  0.012959  0.459003  0.014042  0.688710  0.012959   \n",
       "25          0.671154  0.009267  0.471405  0.018124  0.671154  0.009267   \n",
       "35          0.678571  0.016742  0.472711  0.016269  0.678571  0.016742   \n",
       "45          0.675000  0.012500  0.463597  0.010854  0.675000  0.012500   \n",
       "55          0.690909  0.018924  0.489197  0.023289  0.690909  0.018924   \n",
       "65          0.708333  0.018634  0.457820  0.034491  0.708333  0.018634   \n",
       "\n",
       "           f1_weighted               kappa            \n",
       "                  mean       sem      mean       sem  \n",
       "train_size                                            \n",
       "15            0.617524  0.009112 -0.003477  0.025093  \n",
       "25            0.620954  0.011147 -0.014913  0.031770  \n",
       "35            0.628717  0.012634 -0.009687  0.031248  \n",
       "45            0.610395  0.008054 -0.006170  0.021182  \n",
       "55            0.634575  0.017557  0.032550  0.046282  \n",
       "65            0.641729  0.022003 -0.017857  0.063721  "
      ]
     },
     "execution_count": 64,
     "metadata": {},
     "output_type": "execute_result"
    }
   ],
   "source": [
    "grouped_res = df.select_dtypes(include = [\"int\", \"float\"]).groupby(['train_size']).agg(['mean', 'sem'])\n",
    "grouped_res"
   ]
  },
  {
   "cell_type": "code",
   "execution_count": 65,
   "metadata": {},
   "outputs": [],
   "source": [
    "conf_mats = []\n",
    "for i in np.arange(len(df)):\n",
    "    confusion_matrix = {\n",
    "        'all_y_true': literal_eval(df[\"y_true\"][i]),\n",
    "        'all_y_pred': literal_eval(df[\"y_pred\"][i])\n",
    "    }\n",
    "    conf_mats.append(confusion_matrix)"
   ]
  },
  {
   "cell_type": "code",
   "execution_count": 66,
   "metadata": {},
   "outputs": [
    {
     "name": "stdout",
     "output_type": "stream",
     "text": [
      "[[0.92222222 0.07777778]\n",
      " [0.93333333 0.06666667]]\n",
      "accuracy: 0.7083333333333334\n"
     ]
    },
    {
     "data": {
      "image/png": "[encoded data removed]",
      "text/plain": [
       "<Figure size 330x250 with 2 Axes>"
      ]
     },
     "metadata": {},
     "output_type": "display_data"
    }
   ],
   "source": [
    "index_maxsize = compiled_res[compiled_res[\"train_size\"]==max(compiled_res[\"train_size\"])].index\n",
    "conf_mats_max = [conf_mats[i] for i in index_maxsize]\n",
    "\n",
    "actual_all, predicted_all = [], []\n",
    "for index, _ in enumerate(conf_mats_max):\n",
    "    preds = conf_mats_max[index]\n",
    "    actual = preds[\"all_y_true\"]\n",
    "    predicted = preds[\"all_y_pred\"]\n",
    "    \n",
    "    for true, pred in zip(actual, predicted):\n",
    "        actual_all.append(true)\n",
    "        predicted_all.append(pred)\n",
    "\n",
    "confusion_matrix = metrics.confusion_matrix(actual_all, predicted_all)\n",
    "confusion_matrix_norm = confusion_matrix.astype(\"float\") / confusion_matrix.sum(axis=1)[:, np.newaxis]\n",
    "print(confusion_matrix_norm)\n",
    "\n",
    "cm = pycm.ConfusionMatrix(list(actual_all), list(predicted_all))\n",
    "acc = cm.Overall_ACC\n",
    "\n",
    "print(f'accuracy: {acc}')\n",
    "\n",
    "cm_display = metrics.ConfusionMatrixDisplay(\n",
    "    confusion_matrix = confusion_matrix_norm, display_labels = [0, 1])\n",
    "cm_display.plot(cmap=plt.cm.Blues, include_values=True, values_format=\".2f\")\n",
    "#plt.savefig('classif_MOFphotocat_confusionMatrix_73_27_size65_RF.pdf', bbox_inches='tight')"
   ]
  },
  {
   "cell_type": "code",
   "execution_count": null,
   "metadata": {},
   "outputs": [],
   "source": []
  },
  {
   "cell_type": "code",
   "execution_count": null,
   "metadata": {},
   "outputs": [],
   "source": []
  },
  {
   "cell_type": "code",
   "execution_count": null,
   "metadata": {},
   "outputs": [],
   "source": []
  },
  {
   "cell_type": "code",
   "execution_count": null,
   "metadata": {},
   "outputs": [],
   "source": []
  }
 ],
 "metadata": {
  "kernelspec": {
   "display_name": "Python [conda env:debyecalculator_env]",
   "language": "python",
   "name": "conda-env-debyecalculator_env-py"
  },
  "language_info": {
   "codemirror_mode": {
    "name": "ipython",
    "version": 3
   },
   "file_extension": ".py",
   "mimetype": "text/x-python",
   "name": "python",
   "nbconvert_exporter": "python",
   "pygments_lexer": "ipython3",
   "version": "3.9.19"
  }
 },
 "nbformat": 4,
 "nbformat_minor": 2
}
