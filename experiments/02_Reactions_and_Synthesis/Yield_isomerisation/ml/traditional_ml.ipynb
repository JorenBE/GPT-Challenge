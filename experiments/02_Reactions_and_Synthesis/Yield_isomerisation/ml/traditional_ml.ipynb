{
 "cells": [
  {
   "cell_type": "markdown",
   "metadata": {},
   "source": [
    "## Traditional machine learning\n",
    "Feature(s): SM-SMILES, Product-SMILES\n",
    "- goal: predict the yield from a isomerisation; starting material and product are smiles.\n",
    "- convert both to morgan fingerprints\n",
    "\n",
    "target: yield_bin\n",
    "- binary classification of yield"
   ]
  },
  {
   "cell_type": "code",
   "execution_count": 1,
   "metadata": {},
   "outputs": [],
   "source": [
    "import sys\n",
    "import os\n",
    "from sklearn.model_selection import cross_val_score\n",
    "from sklearn.base import clone\n",
    "from loguru import logger\n",
    "\n",
    "logger.remove()\n",
    "logger.add(sys.stderr, level=\"WARNING\")\n",
    "# Append the parent directory of your package to sys.path\n",
    "sys.path.append(os.path.abspath(os.path.join(os.getcwd(), '..', '..', '..', '..')))"
   ]
  },
  {
   "cell_type": "markdown",
   "metadata": {},
   "source": [
    "Read the dataset from the zip file"
   ]
  },
  {
   "cell_type": "code",
   "execution_count": 2,
   "metadata": {},
   "outputs": [],
   "source": [
    "import pandas as pd\n",
    "import numpy as np\n",
    "import zipfile\n",
    "\n",
    "path_to_dataset = 'Isomerisation_train.csv'\n",
    "csv_filename = 'Isomerisation_train.csv'\n",
    "\n",
    "# Open the file, Correct the encoding and sep if necessary\n",
    "if path_to_dataset.endswith('.zip'):\n",
    "    with zipfile.ZipFile(path_to_dataset, 'r') as z:\n",
    "        # Open the CSV file within the ZIP file\n",
    "        with z.open(csv_filename) as f:\n",
    "            # Read the CSV file into a DataFrame\n",
    "            df = pd.read_csv(f, sep=',', on_bad_lines='warn', index_col = 0)\n",
    "else:\n",
    "    # Read the CSV file into a DataFrame\n",
    "    df = pd.read_csv(path_to_dataset, sep=',', on_bad_lines='warn', index_col = 0)\n",
    "\n"
   ]
  },
  {
   "cell_type": "code",
   "execution_count": 3,
   "metadata": {},
   "outputs": [],
   "source": [
    "from MLPipeline import MLmodel, BinTheTarget\n",
    "\n",
    "Target = ['yield_bin']\n",
    "Features = ['SM-SMILES', 'Product-SMILES']\n",
    "Feature_types = ['SMILES', 'SMILES']\n",
    "input = df"
   ]
  },
  {
   "cell_type": "code",
   "execution_count": 4,
   "metadata": {},
   "outputs": [],
   "source": [
    "def objectiveRandomForestClassifier(trial, model_instance):\n",
    "    \"\"\"\n",
    "    Objective function for Optuna to minimize.\n",
    "    \"\"\"\n",
    "    # Define hyperparameters to tune\n",
    "    params = {\n",
    "        'n_estimators': trial.suggest_int('n_estimators', 50, 300),\n",
    "        'max_depth': trial.suggest_categorical('max_depth', [None, 10, 20, 30, 40]),\n",
    "        'min_samples_split': trial.suggest_int('min_samples_split', 2, 15),\n",
    "        'min_samples_leaf': trial.suggest_int('min_samples_leaf', 1, 6),\n",
    "        'max_features': trial.suggest_categorical('max_features', ['sqrt', 'log2']),\n",
    "        'bootstrap': trial.suggest_categorical('bootstrap', [True, False])\n",
    "    }\n",
    "\n",
    "    # Clone the model to ensure a fresh instance each trial\n",
    "    model_clone = clone(model_instance.model)\n",
    "    model_clone.set_params(**params)\n",
    "    \n",
    "    # Define the score metric\n",
    "    scoring = 'accuracy'\n",
    "\n",
    "    # Perform cross-validation\n",
    "    scores = cross_val_score(model_clone, model_instance.X_train, model_instance.y_train, cv=model_instance.cv, scoring=scoring)\n",
    "\n",
    "    # Return the average score across all folds\n",
    "    return scores.mean()\n",
    "\n",
    "\n",
    "def objectiveXGBClassifier(trial, model_instance):\n",
    "    \"\"\"\n",
    "    Objective function for Optuna to minimize for XGBClassifier.\n",
    "    \"\"\"\n",
    "    # Define hyperparameters to tune\n",
    "    params = {\n",
    "        'n_estimators': trial.suggest_int('n_estimators', 50, 300),\n",
    "        'max_depth': trial.suggest_int('max_depth', 3, 15),\n",
    "        'learning_rate': trial.suggest_float('learning_rate', 0.01, 0.3, log=True),\n",
    "        'subsample': trial.suggest_float('subsample', 0.5, 1.0),\n",
    "        'colsample_bytree': trial.suggest_float('colsample_bytree', 0.5, 1.0),\n",
    "        'gamma': trial.suggest_float('gamma', 1e-8, 1.0, log=True),\n",
    "        'reg_alpha': trial.suggest_float('reg_alpha', 1e-8, 1.0, log=True),  # L1 regularization\n",
    "        'reg_lambda': trial.suggest_float('reg_lambda', 1e-8, 1.0, log=True),  # L2 regularization\n",
    "    }\n",
    "\n",
    "    # Clone the model to ensure a fresh instance each trial\n",
    "    model_clone = clone(model_instance.model)\n",
    "    model_clone.set_params(**params)\n",
    "    \n",
    "    # Define the score metric\n",
    "    scoring = 'accuracy'\n",
    "\n",
    "    # Perform cross-validation\n",
    "    scores = cross_val_score(model_clone, model_instance.X_train, model_instance.y_train, cv=model_instance.cv, scoring=scoring)\n",
    "\n",
    "    # Return the average score across all folds\n",
    "    return scores.mean()\n"
   ]
  },
  {
   "cell_type": "code",
   "execution_count": 5,
   "metadata": {},
   "outputs": [
    {
     "name": "stderr",
     "output_type": "stream",
     "text": [
      "\u001b[32m[I 2024-10-18 09:37:37,525]\u001b[0m A new study created in memory with name: no-name-a238302e-ac07-43bf-821c-7dddba4e4c4c\u001b[0m\n",
      "/home/jorenvanherck/.local/lib/python3.10/site-packages/sklearn/model_selection/_split.py:700: UserWarning: The least populated class in y has only 4 members, which is less than n_splits=5.\n",
      "  warnings.warn(\n",
      "\u001b[32m[I 2024-10-18 09:37:37,655]\u001b[0m Trial 0 finished with value: 0.6 and parameters: {'n_estimators': 63, 'max_depth': 30, 'min_samples_split': 14, 'min_samples_leaf': 2, 'max_features': 'log2', 'bootstrap': False}. Best is trial 0 with value: 0.6.\u001b[0m\n"
     ]
    },
    {
     "name": "stdout",
     "output_type": "stream",
     "text": [
      "RUN: Model:RandomForestClassifier / Target:['yield_bin'] / Train size:10 / Seed:1\n"
     ]
    },
    {
     "name": "stderr",
     "output_type": "stream",
     "text": [
      "/home/jorenvanherck/.local/lib/python3.10/site-packages/sklearn/model_selection/_split.py:700: UserWarning: The least populated class in y has only 4 members, which is less than n_splits=5.\n",
      "  warnings.warn(\n",
      "\u001b[32m[I 2024-10-18 09:37:38,232]\u001b[0m Trial 1 finished with value: 0.4 and parameters: {'n_estimators': 234, 'max_depth': None, 'min_samples_split': 2, 'min_samples_leaf': 4, 'max_features': 'sqrt', 'bootstrap': True}. Best is trial 0 with value: 0.6.\u001b[0m\n",
      "\u001b[32m[I 2024-10-18 09:37:38,274]\u001b[0m A new study created in memory with name: no-name-28bdf840-aa15-4359-9980-f47d6714fe45\u001b[0m\n",
      "/home/jorenvanherck/.local/lib/python3.10/site-packages/sklearn/model_selection/_split.py:700: UserWarning: The least populated class in y has only 4 members, which is less than n_splits=5.\n",
      "  warnings.warn(\n",
      "\u001b[32m[I 2024-10-18 09:37:38,439]\u001b[0m Trial 0 finished with value: 0.6 and parameters: {'n_estimators': 117, 'max_depth': 8, 'learning_rate': 0.039277233980323796, 'subsample': 0.8364311214661199, 'colsample_bytree': 0.8686665865344205, 'gamma': 0.0004468440096216999, 'reg_alpha': 0.00022599509225095475, 'reg_lambda': 1.9100420570937106e-06}. Best is trial 0 with value: 0.6.\u001b[0m\n"
     ]
    },
    {
     "name": "stdout",
     "output_type": "stream",
     "text": [
      "RUN: Model:XGBClassifier / Target:['yield_bin'] / Train size:10 / Seed:1\n"
     ]
    },
    {
     "name": "stderr",
     "output_type": "stream",
     "text": [
      "/home/jorenvanherck/.local/lib/python3.10/site-packages/sklearn/model_selection/_split.py:700: UserWarning: The least populated class in y has only 4 members, which is less than n_splits=5.\n",
      "  warnings.warn(\n",
      "\u001b[32m[I 2024-10-18 09:37:38,735]\u001b[0m Trial 1 finished with value: 0.6 and parameters: {'n_estimators': 258, 'max_depth': 5, 'learning_rate': 0.05967537379294041, 'subsample': 0.8298740272079682, 'colsample_bytree': 0.7246691483492174, 'gamma': 2.6272515482255982e-08, 'reg_alpha': 7.835507489950758e-05, 'reg_lambda': 1.2850433796691709e-05}. Best is trial 0 with value: 0.6.\u001b[0m\n",
      "\u001b[32m[I 2024-10-18 09:37:38,787]\u001b[0m A new study created in memory with name: no-name-888da21a-499a-4e8c-8114-90c317c256fe\u001b[0m\n",
      "/home/jorenvanherck/.local/lib/python3.10/site-packages/sklearn/model_selection/_split.py:700: UserWarning: The least populated class in y has only 4 members, which is less than n_splits=5.\n",
      "  warnings.warn(\n"
     ]
    },
    {
     "name": "stdout",
     "output_type": "stream",
     "text": [
      "RUN: Model:RandomForestClassifier / Target:['yield_bin'] / Train size:10 / Seed:2\n"
     ]
    },
    {
     "name": "stderr",
     "output_type": "stream",
     "text": [
      "\u001b[32m[I 2024-10-18 09:37:39,195]\u001b[0m Trial 0 finished with value: 0.4 and parameters: {'n_estimators': 169, 'max_depth': 20, 'min_samples_split': 9, 'min_samples_leaf': 4, 'max_features': 'sqrt', 'bootstrap': True}. Best is trial 0 with value: 0.4.\u001b[0m\n",
      "/home/jorenvanherck/.local/lib/python3.10/site-packages/sklearn/model_selection/_split.py:700: UserWarning: The least populated class in y has only 4 members, which is less than n_splits=5.\n",
      "  warnings.warn(\n",
      "\u001b[32m[I 2024-10-18 09:37:39,353]\u001b[0m Trial 1 finished with value: 0.4 and parameters: {'n_estimators': 83, 'max_depth': 20, 'min_samples_split': 8, 'min_samples_leaf': 1, 'max_features': 'sqrt', 'bootstrap': False}. Best is trial 0 with value: 0.4.\u001b[0m\n",
      "\u001b[32m[I 2024-10-18 09:37:39,452]\u001b[0m A new study created in memory with name: no-name-a06b55c8-0cab-41ee-a1ba-9f21a88ef4e5\u001b[0m\n",
      "/home/jorenvanherck/.local/lib/python3.10/site-packages/sklearn/model_selection/_split.py:700: UserWarning: The least populated class in y has only 4 members, which is less than n_splits=5.\n",
      "  warnings.warn(\n",
      "\u001b[32m[I 2024-10-18 09:37:39,587]\u001b[0m Trial 0 finished with value: 0.6 and parameters: {'n_estimators': 188, 'max_depth': 11, 'learning_rate': 0.14060931843982846, 'subsample': 0.6815102955211756, 'colsample_bytree': 0.8595720965012248, 'gamma': 7.364251549370715e-08, 'reg_alpha': 0.001062744524476612, 'reg_lambda': 0.0026102013391600615}. Best is trial 0 with value: 0.6.\u001b[0m\n"
     ]
    },
    {
     "name": "stdout",
     "output_type": "stream",
     "text": [
      "RUN: Model:XGBClassifier / Target:['yield_bin'] / Train size:10 / Seed:2\n"
     ]
    },
    {
     "name": "stderr",
     "output_type": "stream",
     "text": [
      "/home/jorenvanherck/.local/lib/python3.10/site-packages/sklearn/model_selection/_split.py:700: UserWarning: The least populated class in y has only 4 members, which is less than n_splits=5.\n",
      "  warnings.warn(\n",
      "\u001b[32m[I 2024-10-18 09:37:39,804]\u001b[0m Trial 1 finished with value: 0.5 and parameters: {'n_estimators': 280, 'max_depth': 3, 'learning_rate': 0.015189149666890353, 'subsample': 0.8913767181066719, 'colsample_bytree': 0.7973830110263214, 'gamma': 0.047235466672129314, 'reg_alpha': 4.1747675532434636e-05, 'reg_lambda': 1.6246751008986245e-08}. Best is trial 0 with value: 0.6.\u001b[0m\n",
      "\u001b[32m[I 2024-10-18 09:37:39,853]\u001b[0m A new study created in memory with name: no-name-5accec53-6d64-4c40-bcb0-6bf4cbecb942\u001b[0m\n"
     ]
    },
    {
     "name": "stdout",
     "output_type": "stream",
     "text": [
      "RUN: Model:RandomForestClassifier / Target:['yield_bin'] / Train size:10 / Seed:3\n"
     ]
    },
    {
     "name": "stderr",
     "output_type": "stream",
     "text": [
      "\u001b[32m[I 2024-10-18 09:37:40,322]\u001b[0m Trial 0 finished with value: 0.5 and parameters: {'n_estimators': 251, 'max_depth': 10, 'min_samples_split': 14, 'min_samples_leaf': 6, 'max_features': 'log2', 'bootstrap': False}. Best is trial 0 with value: 0.5.\u001b[0m\n",
      "\u001b[32m[I 2024-10-18 09:37:40,942]\u001b[0m Trial 1 finished with value: 0.5 and parameters: {'n_estimators': 256, 'max_depth': 40, 'min_samples_split': 12, 'min_samples_leaf': 4, 'max_features': 'log2', 'bootstrap': True}. Best is trial 0 with value: 0.5.\u001b[0m\n",
      "\u001b[32m[I 2024-10-18 09:37:41,053]\u001b[0m A new study created in memory with name: no-name-955ffc57-c370-4e0d-ada0-3a6418d3bf5a\u001b[0m\n",
      "\u001b[32m[I 2024-10-18 09:37:41,143]\u001b[0m Trial 0 finished with value: 0.7 and parameters: {'n_estimators': 125, 'max_depth': 14, 'learning_rate': 0.13215773581893375, 'subsample': 0.8734443760813095, 'colsample_bytree': 0.5940307422707679, 'gamma': 2.0545006167582196e-05, 'reg_alpha': 0.19996409937085954, 'reg_lambda': 0.08313521541000853}. Best is trial 0 with value: 0.7.\u001b[0m\n",
      "\u001b[32m[I 2024-10-18 09:37:41,200]\u001b[0m Trial 1 finished with value: 0.5 and parameters: {'n_estimators': 57, 'max_depth': 4, 'learning_rate': 0.0494625667858605, 'subsample': 0.9290877988401227, 'colsample_bytree': 0.8239510772196355, 'gamma': 3.45481641891558e-05, 'reg_alpha': 7.350607373623391e-08, 'reg_lambda': 3.5658393227251644e-07}. Best is trial 0 with value: 0.7.\u001b[0m\n"
     ]
    },
    {
     "name": "stdout",
     "output_type": "stream",
     "text": [
      "RUN: Model:XGBClassifier / Target:['yield_bin'] / Train size:10 / Seed:3\n"
     ]
    }
   ],
   "source": [
    "MODEL_NAMES = ['RandomForestClassifier', 'XGBClassifier']\n",
    "TARGETS = [[i] for i in Target ]\n",
    "TRAIN_SIZES = [10]\n",
    "\n",
    "result = []\n",
    "for seed in [1, 2, 3]:\n",
    "    for model_name in MODEL_NAMES:\n",
    "        for target in TARGETS:\n",
    "            for train_size in TRAIN_SIZES:\n",
    "                print(f'RUN: Model:{model_name} / Target:{target} / Train size:{train_size} / Seed:{seed}')\n",
    "                \n",
    "                if model_name == 'RandomForestClassifier':\n",
    "                    objective = objectiveRandomForestClassifier\n",
    "                elif model_name == 'XGBClassifier':\n",
    "                    objective = objectiveXGBClassifier\n",
    "\n",
    "                model = MLmodel(modelType=model_name, \n",
    "                df=input,\n",
    "                randomSeed=seed,\n",
    "                train_count = train_size,\n",
    "                test_count = 3, \n",
    "                target=target, \n",
    "                features=Features, \n",
    "                hyperparameter_tuning=True,\n",
    "                feature_types=Feature_types,\n",
    "                optimization_method='optuna', \n",
    "                optimization_trials=2,\n",
    "                objective=lambda trial: objective(trial, model)\n",
    "                )\n",
    "\n",
    "                model.train()\n",
    "                eval, summary = model.evaluate()\n",
    "                result.append({**summary, **eval, 'seed':seed})\n",
    "\n"
   ]
  },
  {
   "cell_type": "markdown",
   "metadata": {},
   "source": [
    "Some information about the dataset such as the splitting, wrong smiles, total number of samples."
   ]
  },
  {
   "cell_type": "code",
   "execution_count": 6,
   "metadata": {},
   "outputs": [
    {
     "data": {
      "text/html": [
       "<div>\n",
       "<style scoped>\n",
       "    .dataframe tbody tr th:only-of-type {\n",
       "        vertical-align: middle;\n",
       "    }\n",
       "\n",
       "    .dataframe tbody tr th {\n",
       "        vertical-align: top;\n",
       "    }\n",
       "\n",
       "    .dataframe thead th {\n",
       "        text-align: right;\n",
       "    }\n",
       "</style>\n",
       "<table border=\"1\" class=\"dataframe\">\n",
       "  <thead>\n",
       "    <tr style=\"text-align: right;\">\n",
       "      <th></th>\n",
       "      <th>modeltype</th>\n",
       "      <th>target</th>\n",
       "      <th>train_size</th>\n",
       "      <th>trues</th>\n",
       "      <th>preds</th>\n",
       "      <th>model_params</th>\n",
       "      <th>accuracy</th>\n",
       "      <th>f1_micro</th>\n",
       "      <th>f1_macro</th>\n",
       "      <th>kappa</th>\n",
       "      <th>seed</th>\n",
       "    </tr>\n",
       "  </thead>\n",
       "  <tbody>\n",
       "    <tr>\n",
       "      <th>0</th>\n",
       "      <td>RandomForestClassifier</td>\n",
       "      <td>[yield_bin]</td>\n",
       "      <td>10</td>\n",
       "      <td>[0, 0, 1]</td>\n",
       "      <td>[0, 0, 0]</td>\n",
       "      <td>{'bootstrap': False, 'ccp_alpha': 0.0, 'class_...</td>\n",
       "      <td>0.666667</td>\n",
       "      <td>0.666667</td>\n",
       "      <td>0.400000</td>\n",
       "      <td>0.0</td>\n",
       "      <td>1</td>\n",
       "    </tr>\n",
       "    <tr>\n",
       "      <th>1</th>\n",
       "      <td>XGBClassifier</td>\n",
       "      <td>[yield_bin]</td>\n",
       "      <td>10</td>\n",
       "      <td>[0, 0, 1]</td>\n",
       "      <td>[0, 1, 1]</td>\n",
       "      <td>{'objective': 'binary:logistic', 'use_label_en...</td>\n",
       "      <td>0.666667</td>\n",
       "      <td>0.666667</td>\n",
       "      <td>0.666667</td>\n",
       "      <td>0.4</td>\n",
       "      <td>1</td>\n",
       "    </tr>\n",
       "    <tr>\n",
       "      <th>2</th>\n",
       "      <td>RandomForestClassifier</td>\n",
       "      <td>[yield_bin]</td>\n",
       "      <td>10</td>\n",
       "      <td>[1, 0, 1]</td>\n",
       "      <td>[1, 1, 1]</td>\n",
       "      <td>{'bootstrap': True, 'ccp_alpha': 0.0, 'class_w...</td>\n",
       "      <td>0.666667</td>\n",
       "      <td>0.666667</td>\n",
       "      <td>0.400000</td>\n",
       "      <td>0.0</td>\n",
       "      <td>2</td>\n",
       "    </tr>\n",
       "    <tr>\n",
       "      <th>3</th>\n",
       "      <td>XGBClassifier</td>\n",
       "      <td>[yield_bin]</td>\n",
       "      <td>10</td>\n",
       "      <td>[1, 0, 1]</td>\n",
       "      <td>[0, 1, 1]</td>\n",
       "      <td>{'objective': 'binary:logistic', 'use_label_en...</td>\n",
       "      <td>0.333333</td>\n",
       "      <td>0.333333</td>\n",
       "      <td>0.250000</td>\n",
       "      <td>-0.5</td>\n",
       "      <td>2</td>\n",
       "    </tr>\n",
       "    <tr>\n",
       "      <th>4</th>\n",
       "      <td>RandomForestClassifier</td>\n",
       "      <td>[yield_bin]</td>\n",
       "      <td>10</td>\n",
       "      <td>[1, 1, 0]</td>\n",
       "      <td>[0, 0, 0]</td>\n",
       "      <td>{'bootstrap': False, 'ccp_alpha': 0.0, 'class_...</td>\n",
       "      <td>0.333333</td>\n",
       "      <td>0.333333</td>\n",
       "      <td>0.250000</td>\n",
       "      <td>0.0</td>\n",
       "      <td>3</td>\n",
       "    </tr>\n",
       "    <tr>\n",
       "      <th>5</th>\n",
       "      <td>XGBClassifier</td>\n",
       "      <td>[yield_bin]</td>\n",
       "      <td>10</td>\n",
       "      <td>[1, 1, 0]</td>\n",
       "      <td>[0, 1, 0]</td>\n",
       "      <td>{'objective': 'binary:logistic', 'use_label_en...</td>\n",
       "      <td>0.666667</td>\n",
       "      <td>0.666667</td>\n",
       "      <td>0.666667</td>\n",
       "      <td>0.4</td>\n",
       "      <td>3</td>\n",
       "    </tr>\n",
       "  </tbody>\n",
       "</table>\n",
       "</div>"
      ],
      "text/plain": [
       "                modeltype       target  train_size      trues      preds  \\\n",
       "0  RandomForestClassifier  [yield_bin]          10  [0, 0, 1]  [0, 0, 0]   \n",
       "1           XGBClassifier  [yield_bin]          10  [0, 0, 1]  [0, 1, 1]   \n",
       "2  RandomForestClassifier  [yield_bin]          10  [1, 0, 1]  [1, 1, 1]   \n",
       "3           XGBClassifier  [yield_bin]          10  [1, 0, 1]  [0, 1, 1]   \n",
       "4  RandomForestClassifier  [yield_bin]          10  [1, 1, 0]  [0, 0, 0]   \n",
       "5           XGBClassifier  [yield_bin]          10  [1, 1, 0]  [0, 1, 0]   \n",
       "\n",
       "                                        model_params  accuracy  f1_micro  \\\n",
       "0  {'bootstrap': False, 'ccp_alpha': 0.0, 'class_...  0.666667  0.666667   \n",
       "1  {'objective': 'binary:logistic', 'use_label_en...  0.666667  0.666667   \n",
       "2  {'bootstrap': True, 'ccp_alpha': 0.0, 'class_w...  0.666667  0.666667   \n",
       "3  {'objective': 'binary:logistic', 'use_label_en...  0.333333  0.333333   \n",
       "4  {'bootstrap': False, 'ccp_alpha': 0.0, 'class_...  0.333333  0.333333   \n",
       "5  {'objective': 'binary:logistic', 'use_label_en...  0.666667  0.666667   \n",
       "\n",
       "   f1_macro  kappa  seed  \n",
       "0  0.400000    0.0     1  \n",
       "1  0.666667    0.4     1  \n",
       "2  0.400000    0.0     2  \n",
       "3  0.250000   -0.5     2  \n",
       "4  0.250000    0.0     3  \n",
       "5  0.666667    0.4     3  "
      ]
     },
     "metadata": {},
     "output_type": "display_data"
    }
   ],
   "source": [
    "df = pd.DataFrame(result)\n",
    "display(df)\n",
    "df.to_csv('Yield_isomerisation_traditional_ml.csv')"
   ]
  },
  {
   "cell_type": "code",
   "execution_count": 7,
   "metadata": {},
   "outputs": [
    {
     "data": {
      "text/plain": [
       "Text(0.5, 0.98, 'Random Forrest & XGB - Yield_isomerisation')"
      ]
     },
     "execution_count": 7,
     "metadata": {},
     "output_type": "execute_result"
    },
    {
     "data": {
      "image/png": "[encoded data removed]",
      "text/plain": [
       "<Figure size 640x480 with 4 Axes>"
      ]
     },
     "metadata": {},
     "output_type": "display_data"
    }
   ],
   "source": [
    "import matplotlib.pyplot as plt\n",
    "\n",
    "METRICS = ['accuracy','f1_micro','f1_macro', 'kappa']\n",
    "fig, ax = plt.subplots(len(METRICS), 1, sharex=True, layout = 'constrained')\n",
    "ax = ax.flatten()\n",
    "\n",
    "for i, metric in enumerate(METRICS):\n",
    "    ax[i].plot(df['train_size'], df[metric], marker = 'o')\n",
    "    ax[i].set_title(metric)\n",
    "    ax[i].set_ylim(0,1)\n",
    "\n",
    "fig.suptitle('Random Forrest & XGB - Yield_isomerisation')"
   ]
  }
 ],
 "metadata": {
  "kernelspec": {
   "display_name": "JorenML",
   "language": "python",
   "name": "python3"
  },
  "language_info": {
   "codemirror_mode": {
    "name": "ipython",
    "version": 3
   },
   "file_extension": ".py",
   "mimetype": "text/x-python",
   "name": "python",
   "nbconvert_exporter": "python",
   "pygments_lexer": "ipython3",
   "version": "3.10.12"
  }
 },
 "nbformat": 4,
 "nbformat_minor": 2
}
