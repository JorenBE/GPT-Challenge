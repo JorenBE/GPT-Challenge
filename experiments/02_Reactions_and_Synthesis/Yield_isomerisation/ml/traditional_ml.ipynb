{
 "cells": [
  {
   "cell_type": "markdown",
   "metadata": {},
   "source": [
    "## Traditional machine learning\n",
    "Feature(s): SM-SMILES, Product-SMILES\n",
    "- goal: predict the yield from a isomerisation; starting material and product are smiles.\n",
    "- convert both to morgan fingerprints\n",
    "\n",
    "target: yield_bin\n",
    "- binary classification of yield"
   ]
  },
  {
   "cell_type": "code",
   "execution_count": 1,
   "metadata": {},
   "outputs": [],
   "source": [
    "import sys\n",
    "import os\n",
    "from sklearn.model_selection import cross_val_score\n",
    "from sklearn.base import clone\n",
    "from loguru import logger\n",
    "\n",
    "logger.remove()\n",
    "logger.add(sys.stderr, level=\"WARNING\")\n",
    "# Append the parent directory of your package to sys.path\n",
    "sys.path.append(os.path.abspath(os.path.join(os.getcwd(), '..', '..', '..', '..')))"
   ]
  },
  {
   "cell_type": "markdown",
   "metadata": {},
   "source": [
    "Read the dataset from the zip file"
   ]
  },
  {
   "cell_type": "code",
   "execution_count": 2,
   "metadata": {},
   "outputs": [],
   "source": [
    "import pandas as pd\n",
    "import numpy as np\n",
    "import zipfile\n",
    "\n",
    "path_to_dataset = 'Isomerisation_train.csv'\n",
    "csv_filename = 'Isomerisation_train.csv'\n",
    "\n",
    "# Open the file, Correct the encoding and sep if necessary\n",
    "if path_to_dataset.endswith('.zip'):\n",
    "    with zipfile.ZipFile(path_to_dataset, 'r') as z:\n",
    "        # Open the CSV file within the ZIP file\n",
    "        with z.open(csv_filename) as f:\n",
    "            # Read the CSV file into a DataFrame\n",
    "            df = pd.read_csv(f, sep=',', on_bad_lines='warn', index_col = 0)\n",
    "else:\n",
    "    # Read the CSV file into a DataFrame\n",
    "    df = pd.read_csv(path_to_dataset, sep=',', on_bad_lines='warn', index_col = 0)\n",
    "\n"
   ]
  },
  {
   "cell_type": "code",
   "execution_count": 3,
   "metadata": {},
   "outputs": [
    {
     "name": "stderr",
     "output_type": "stream",
     "text": [
      "/home/lsmo/.local/lib/python3.10/site-packages/tqdm/auto.py:21: TqdmWarning: IProgress not found. Please update jupyter and ipywidgets. See https://ipywidgets.readthedocs.io/en/stable/user_install.html\n",
      "  from .autonotebook import tqdm as notebook_tqdm\n"
     ]
    }
   ],
   "source": [
    "from MLPipeline import MLmodel, BinTheTarget\n",
    "\n",
    "Target = ['yield_bin']\n",
    "Features = ['SM-SMILES', 'Product-SMILES']\n",
    "Feature_types = ['SMILES', 'SMILES']\n",
    "input = df"
   ]
  },
  {
   "cell_type": "code",
   "execution_count": 4,
   "metadata": {},
   "outputs": [],
   "source": [
    "def objectiveRandomForestClassifier(trial, model_instance):\n",
    "    \"\"\"\n",
    "    Objective function for Optuna to minimize.\n",
    "    \"\"\"\n",
    "    # Define hyperparameters to tune\n",
    "    params = {\n",
    "        'n_estimators': trial.suggest_int('n_estimators', 50, 300),\n",
    "        'max_depth': trial.suggest_categorical('max_depth', [None, 10, 20, 30, 40]),\n",
    "        'min_samples_split': trial.suggest_int('min_samples_split', 2, 15),\n",
    "        'min_samples_leaf': trial.suggest_int('min_samples_leaf', 1, 6),\n",
    "        'max_features': trial.suggest_categorical('max_features', ['sqrt', 'log2']),\n",
    "        'bootstrap': trial.suggest_categorical('bootstrap', [True, False])\n",
    "    }\n",
    "\n",
    "    # Clone the model to ensure a fresh instance each trial\n",
    "    model_clone = clone(model_instance.model)\n",
    "    model_clone.set_params(**params)\n",
    "    \n",
    "    # Define the score metric\n",
    "    scoring = 'accuracy'\n",
    "\n",
    "    # Perform cross-validation\n",
    "    scores = cross_val_score(model_clone, model_instance.X_train, model_instance.y_train, cv=model_instance.cv, scoring=scoring)\n",
    "\n",
    "    # Return the average score across all folds\n",
    "    return scores.mean()\n",
    "\n",
    "\n",
    "def objectiveXGBClassifier(trial, model_instance):\n",
    "    \"\"\"\n",
    "    Objective function for Optuna to minimize for XGBClassifier.\n",
    "    \"\"\"\n",
    "    # Define hyperparameters to tune\n",
    "    params = {\n",
    "        'n_estimators': trial.suggest_int('n_estimators', 50, 300),\n",
    "        'max_depth': trial.suggest_int('max_depth', 3, 15),\n",
    "        'learning_rate': trial.suggest_float('learning_rate', 0.01, 0.3, log=True),\n",
    "        'subsample': trial.suggest_float('subsample', 0.5, 1.0),\n",
    "        'colsample_bytree': trial.suggest_float('colsample_bytree', 0.5, 1.0),\n",
    "        'gamma': trial.suggest_float('gamma', 1e-8, 1.0, log=True),\n",
    "        'reg_alpha': trial.suggest_float('reg_alpha', 1e-8, 1.0, log=True),  # L1 regularization\n",
    "        'reg_lambda': trial.suggest_float('reg_lambda', 1e-8, 1.0, log=True),  # L2 regularization\n",
    "    }\n",
    "\n",
    "    # Clone the model to ensure a fresh instance each trial\n",
    "    model_clone = clone(model_instance.model)\n",
    "    model_clone.set_params(**params)\n",
    "    \n",
    "    # Define the score metric\n",
    "    scoring = 'accuracy'\n",
    "\n",
    "    # Perform cross-validation\n",
    "    scores = cross_val_score(model_clone, model_instance.X_train, model_instance.y_train, cv=model_instance.cv, scoring=scoring)\n",
    "\n",
    "    # Return the average score across all folds\n",
    "    return scores.mean()\n"
   ]
  },
  {
   "cell_type": "code",
   "execution_count": 5,
   "metadata": {},
   "outputs": [
    {
     "name": "stderr",
     "output_type": "stream",
     "text": [
      "\u001b[32m2024-09-17 15:04:17.158\u001b[0m | \u001b[33m\u001b[1mWARNING \u001b[0m | \u001b[36mMLPipeline\u001b[0m:\u001b[36m__post_init__\u001b[0m:\u001b[36m128\u001b[0m - \u001b[33m\u001b[1mIndexlist: [0]\u001b[0m\n",
      "\u001b[32m2024-09-17 15:04:17.176\u001b[0m | \u001b[33m\u001b[1mWARNING \u001b[0m | \u001b[36mMLPipeline\u001b[0m:\u001b[36m__post_init__\u001b[0m:\u001b[36m128\u001b[0m - \u001b[33m\u001b[1mIndexlist: [0, 1]\u001b[0m\n",
      "[I 2024-09-17 15:04:17,181] A new study created in memory with name: no-name-86078fc1-679e-4d8a-ab37-8176587d8b7c\n"
     ]
    },
    {
     "name": "stdout",
     "output_type": "stream",
     "text": [
      "RUN: Model:RandomForestClassifier / Target:['yield_bin'] / Train size:10 / Seed:1\n"
     ]
    },
    {
     "name": "stderr",
     "output_type": "stream",
     "text": [
      "/home/lsmo/.local/lib/python3.10/site-packages/sklearn/model_selection/_split.py:737: UserWarning: The least populated class in y has only 4 members, which is less than n_splits=5.\n",
      "  warnings.warn(\n",
      "[I 2024-09-17 15:04:18,216] Trial 0 finished with value: 0.6 and parameters: {'n_estimators': 205, 'max_depth': 20, 'min_samples_split': 12, 'min_samples_leaf': 3, 'max_features': 'log2', 'bootstrap': True}. Best is trial 0 with value: 0.6.\n",
      "/home/lsmo/.local/lib/python3.10/site-packages/sklearn/model_selection/_split.py:737: UserWarning: The least populated class in y has only 4 members, which is less than n_splits=5.\n",
      "  warnings.warn(\n",
      "[I 2024-09-17 15:04:18,543] Trial 1 finished with value: 0.6 and parameters: {'n_estimators': 89, 'max_depth': 40, 'min_samples_split': 15, 'min_samples_leaf': 5, 'max_features': 'log2', 'bootstrap': False}. Best is trial 0 with value: 0.6.\n",
      "\u001b[32m2024-09-17 15:04:18.797\u001b[0m | \u001b[33m\u001b[1mWARNING \u001b[0m | \u001b[36mMLPipeline\u001b[0m:\u001b[36m__post_init__\u001b[0m:\u001b[36m128\u001b[0m - \u001b[33m\u001b[1mIndexlist: [0]\u001b[0m\n",
      "\u001b[32m2024-09-17 15:04:18.816\u001b[0m | \u001b[33m\u001b[1mWARNING \u001b[0m | \u001b[36mMLPipeline\u001b[0m:\u001b[36m__post_init__\u001b[0m:\u001b[36m128\u001b[0m - \u001b[33m\u001b[1mIndexlist: [0, 1]\u001b[0m\n",
      "[I 2024-09-17 15:04:18,821] A new study created in memory with name: no-name-d8094998-9c90-48fd-917d-7103a781dcee\n"
     ]
    },
    {
     "name": "stdout",
     "output_type": "stream",
     "text": [
      "RUN: Model:XGBClassifier / Target:['yield_bin'] / Train size:10 / Seed:1\n"
     ]
    },
    {
     "name": "stderr",
     "output_type": "stream",
     "text": [
      "/home/lsmo/.local/lib/python3.10/site-packages/sklearn/model_selection/_split.py:737: UserWarning: The least populated class in y has only 4 members, which is less than n_splits=5.\n",
      "  warnings.warn(\n",
      "[I 2024-09-17 15:04:19,285] Trial 0 finished with value: 0.4 and parameters: {'n_estimators': 238, 'max_depth': 14, 'learning_rate': 0.16908657110345987, 'subsample': 0.8025314602671316, 'colsample_bytree': 0.7165196675050587, 'gamma': 4.863417644599676e-08, 'reg_alpha': 6.949348493659058e-07, 'reg_lambda': 0.002461119525495083}. Best is trial 0 with value: 0.4.\n",
      "/home/lsmo/.local/lib/python3.10/site-packages/sklearn/model_selection/_split.py:737: UserWarning: The least populated class in y has only 4 members, which is less than n_splits=5.\n",
      "  warnings.warn(\n",
      "[I 2024-09-17 15:04:19,972] Trial 1 finished with value: 0.4 and parameters: {'n_estimators': 197, 'max_depth': 6, 'learning_rate': 0.23787766349369496, 'subsample': 0.8438033675592091, 'colsample_bytree': 0.797313420141144, 'gamma': 4.1337950991145825e-05, 'reg_alpha': 0.005515761227587085, 'reg_lambda': 1.4886192005608046e-08}. Best is trial 0 with value: 0.4.\n",
      "\u001b[32m2024-09-17 15:04:20.135\u001b[0m | \u001b[33m\u001b[1mWARNING \u001b[0m | \u001b[36mMLPipeline\u001b[0m:\u001b[36m__post_init__\u001b[0m:\u001b[36m128\u001b[0m - \u001b[33m\u001b[1mIndexlist: [0]\u001b[0m\n",
      "\u001b[32m2024-09-17 15:04:20.152\u001b[0m | \u001b[33m\u001b[1mWARNING \u001b[0m | \u001b[36mMLPipeline\u001b[0m:\u001b[36m__post_init__\u001b[0m:\u001b[36m128\u001b[0m - \u001b[33m\u001b[1mIndexlist: [0, 1]\u001b[0m\n",
      "[I 2024-09-17 15:04:20,158] A new study created in memory with name: no-name-f7c10816-d383-4525-9aca-b2633fc333cb\n",
      "/home/lsmo/.local/lib/python3.10/site-packages/sklearn/model_selection/_split.py:737: UserWarning: The least populated class in y has only 4 members, which is less than n_splits=5.\n",
      "  warnings.warn(\n"
     ]
    },
    {
     "name": "stdout",
     "output_type": "stream",
     "text": [
      "RUN: Model:RandomForestClassifier / Target:['yield_bin'] / Train size:10 / Seed:2\n"
     ]
    },
    {
     "name": "stderr",
     "output_type": "stream",
     "text": [
      "[I 2024-09-17 15:04:20,785] Trial 0 finished with value: 0.4 and parameters: {'n_estimators': 167, 'max_depth': None, 'min_samples_split': 10, 'min_samples_leaf': 1, 'max_features': 'sqrt', 'bootstrap': False}. Best is trial 0 with value: 0.4.\n",
      "/home/lsmo/.local/lib/python3.10/site-packages/sklearn/model_selection/_split.py:737: UserWarning: The least populated class in y has only 4 members, which is less than n_splits=5.\n",
      "  warnings.warn(\n",
      "[I 2024-09-17 15:04:21,273] Trial 1 finished with value: 0.4 and parameters: {'n_estimators': 88, 'max_depth': None, 'min_samples_split': 12, 'min_samples_leaf': 1, 'max_features': 'sqrt', 'bootstrap': True}. Best is trial 0 with value: 0.4.\n",
      "\u001b[32m2024-09-17 15:04:21.442\u001b[0m | \u001b[33m\u001b[1mWARNING \u001b[0m | \u001b[36mMLPipeline\u001b[0m:\u001b[36m__post_init__\u001b[0m:\u001b[36m128\u001b[0m - \u001b[33m\u001b[1mIndexlist: [0]\u001b[0m\n",
      "\u001b[32m2024-09-17 15:04:21.460\u001b[0m | \u001b[33m\u001b[1mWARNING \u001b[0m | \u001b[36mMLPipeline\u001b[0m:\u001b[36m__post_init__\u001b[0m:\u001b[36m128\u001b[0m - \u001b[33m\u001b[1mIndexlist: [0, 1]\u001b[0m\n",
      "[I 2024-09-17 15:04:21,465] A new study created in memory with name: no-name-5fd6f3e2-3381-4c34-b89c-9a1394d8be3f\n",
      "/home/lsmo/.local/lib/python3.10/site-packages/sklearn/model_selection/_split.py:737: UserWarning: The least populated class in y has only 4 members, which is less than n_splits=5.\n",
      "  warnings.warn(\n"
     ]
    },
    {
     "name": "stdout",
     "output_type": "stream",
     "text": [
      "RUN: Model:XGBClassifier / Target:['yield_bin'] / Train size:10 / Seed:2\n"
     ]
    },
    {
     "name": "stderr",
     "output_type": "stream",
     "text": [
      "[I 2024-09-17 15:04:21,830] Trial 0 finished with value: 0.5 and parameters: {'n_estimators': 60, 'max_depth': 10, 'learning_rate': 0.2849361392335912, 'subsample': 0.7598660578430283, 'colsample_bytree': 0.9334762985597926, 'gamma': 1.1788586626906474e-06, 'reg_alpha': 0.029097827373506992, 'reg_lambda': 0.004876653635059217}. Best is trial 0 with value: 0.5.\n",
      "/home/lsmo/.local/lib/python3.10/site-packages/sklearn/model_selection/_split.py:737: UserWarning: The least populated class in y has only 4 members, which is less than n_splits=5.\n",
      "  warnings.warn(\n",
      "[I 2024-09-17 15:04:22,197] Trial 1 finished with value: 0.5 and parameters: {'n_estimators': 153, 'max_depth': 14, 'learning_rate': 0.025852519594822154, 'subsample': 0.9840919600488045, 'colsample_bytree': 0.8503894406295647, 'gamma': 5.937709301406924e-06, 'reg_alpha': 4.3980199627304686e-05, 'reg_lambda': 5.110515357250465e-05}. Best is trial 0 with value: 0.5.\n",
      "\u001b[32m2024-09-17 15:04:22.297\u001b[0m | \u001b[33m\u001b[1mWARNING \u001b[0m | \u001b[36mMLPipeline\u001b[0m:\u001b[36m__post_init__\u001b[0m:\u001b[36m128\u001b[0m - \u001b[33m\u001b[1mIndexlist: [0]\u001b[0m\n",
      "\u001b[32m2024-09-17 15:04:22.317\u001b[0m | \u001b[33m\u001b[1mWARNING \u001b[0m | \u001b[36mMLPipeline\u001b[0m:\u001b[36m__post_init__\u001b[0m:\u001b[36m128\u001b[0m - \u001b[33m\u001b[1mIndexlist: [0, 1]\u001b[0m\n",
      "[I 2024-09-17 15:04:22,321] A new study created in memory with name: no-name-6d8eca05-d7f0-4b46-9ad1-d88fdf3da674\n"
     ]
    },
    {
     "name": "stdout",
     "output_type": "stream",
     "text": [
      "RUN: Model:RandomForestClassifier / Target:['yield_bin'] / Train size:10 / Seed:3\n"
     ]
    },
    {
     "name": "stderr",
     "output_type": "stream",
     "text": [
      "[I 2024-09-17 15:04:23,785] Trial 0 finished with value: 0.5 and parameters: {'n_estimators': 285, 'max_depth': 20, 'min_samples_split': 13, 'min_samples_leaf': 5, 'max_features': 'log2', 'bootstrap': True}. Best is trial 0 with value: 0.5.\n",
      "[I 2024-09-17 15:04:24,164] Trial 1 finished with value: 0.4 and parameters: {'n_estimators': 102, 'max_depth': 20, 'min_samples_split': 2, 'min_samples_leaf': 1, 'max_features': 'sqrt', 'bootstrap': False}. Best is trial 0 with value: 0.5.\n",
      "\u001b[32m2024-09-17 15:04:24.504\u001b[0m | \u001b[33m\u001b[1mWARNING \u001b[0m | \u001b[36mMLPipeline\u001b[0m:\u001b[36m__post_init__\u001b[0m:\u001b[36m128\u001b[0m - \u001b[33m\u001b[1mIndexlist: [0]\u001b[0m\n",
      "\u001b[32m2024-09-17 15:04:24.522\u001b[0m | \u001b[33m\u001b[1mWARNING \u001b[0m | \u001b[36mMLPipeline\u001b[0m:\u001b[36m__post_init__\u001b[0m:\u001b[36m128\u001b[0m - \u001b[33m\u001b[1mIndexlist: [0, 1]\u001b[0m\n",
      "[I 2024-09-17 15:04:24,527] A new study created in memory with name: no-name-171d78ae-5c11-4725-8749-f0257647c9a2\n"
     ]
    },
    {
     "name": "stdout",
     "output_type": "stream",
     "text": [
      "RUN: Model:XGBClassifier / Target:['yield_bin'] / Train size:10 / Seed:3\n"
     ]
    },
    {
     "name": "stderr",
     "output_type": "stream",
     "text": [
      "[I 2024-09-17 15:04:25,182] Trial 0 finished with value: 0.5 and parameters: {'n_estimators': 282, 'max_depth': 15, 'learning_rate': 0.012123695352924334, 'subsample': 0.9631143361254516, 'colsample_bytree': 0.7777395172193151, 'gamma': 0.04228564857917985, 'reg_alpha': 1.4423632890541212e-06, 'reg_lambda': 1.6757428871305787e-05}. Best is trial 0 with value: 0.5.\n",
      "[I 2024-09-17 15:04:26,007] Trial 1 finished with value: 0.6 and parameters: {'n_estimators': 241, 'max_depth': 15, 'learning_rate': 0.16961985162230195, 'subsample': 0.739733815137988, 'colsample_bytree': 0.9124164072133087, 'gamma': 3.965455137260396e-06, 'reg_alpha': 8.477100027665194e-06, 'reg_lambda': 0.002766604370112094}. Best is trial 1 with value: 0.6.\n"
     ]
    }
   ],
   "source": [
    "MODEL_NAMES = ['RandomForestClassifier', 'XGBClassifier']\n",
    "TARGETS = [[i] for i in Target ]\n",
    "TRAIN_SIZES = [10]\n",
    "\n",
    "result = []\n",
    "for seed in [1, 2, 3]:\n",
    "    for model_name in MODEL_NAMES:\n",
    "        for target in TARGETS:\n",
    "            for train_size in TRAIN_SIZES:\n",
    "                print(f'RUN: Model:{model_name} / Target:{target} / Train size:{train_size} / Seed:{seed}')\n",
    "                \n",
    "                if model_name == 'RandomForestClassifier':\n",
    "                    objective = objectiveRandomForestClassifier\n",
    "                elif model_name == 'XGBClassifier':\n",
    "                    objective = objectiveXGBClassifier\n",
    "\n",
    "                model = MLmodel(modelType=model_name, \n",
    "                df=input,\n",
    "                randomSeed=seed,\n",
    "                train_count = train_size,\n",
    "                test_count = 3, \n",
    "                target=target, \n",
    "                features=Features, \n",
    "                hyperparameter_tuning=True,\n",
    "                feature_types=Feature_types,\n",
    "                optimization_method='optuna', \n",
    "                optimization_trials=2,\n",
    "                objective=lambda trial: objective(trial, model)\n",
    "                )\n",
    "\n",
    "                model.train()\n",
    "                eval, summary = model.evaluate()\n",
    "                result.append({**summary, **eval, 'seed':seed})\n",
    "\n"
   ]
  },
  {
   "cell_type": "markdown",
   "metadata": {},
   "source": [
    "Some information about the dataset such as the splitting, wrong smiles, total number of samples."
   ]
  },
  {
   "cell_type": "code",
   "execution_count": 7,
   "metadata": {},
   "outputs": [
    {
     "data": {
      "text/html": [
       "<div>\n",
       "<style scoped>\n",
       "    .dataframe tbody tr th:only-of-type {\n",
       "        vertical-align: middle;\n",
       "    }\n",
       "\n",
       "    .dataframe tbody tr th {\n",
       "        vertical-align: top;\n",
       "    }\n",
       "\n",
       "    .dataframe thead th {\n",
       "        text-align: right;\n",
       "    }\n",
       "</style>\n",
       "<table border=\"1\" class=\"dataframe\">\n",
       "  <thead>\n",
       "    <tr style=\"text-align: right;\">\n",
       "      <th></th>\n",
       "      <th>modeltype</th>\n",
       "      <th>target</th>\n",
       "      <th>train_size</th>\n",
       "      <th>trues</th>\n",
       "      <th>preds</th>\n",
       "      <th>model_params</th>\n",
       "      <th>accuracy</th>\n",
       "      <th>f1_micro</th>\n",
       "      <th>f1_macro</th>\n",
       "      <th>kappa</th>\n",
       "      <th>seed</th>\n",
       "    </tr>\n",
       "  </thead>\n",
       "  <tbody>\n",
       "    <tr>\n",
       "      <th>0</th>\n",
       "      <td>RandomForestClassifier</td>\n",
       "      <td>[yield_bin]</td>\n",
       "      <td>10</td>\n",
       "      <td>[0, 0, 1]</td>\n",
       "      <td>[0, 0, 0]</td>\n",
       "      <td>{'bootstrap': True, 'ccp_alpha': 0.0, 'class_w...</td>\n",
       "      <td>0.666667</td>\n",
       "      <td>0.666667</td>\n",
       "      <td>0.400000</td>\n",
       "      <td>0.0</td>\n",
       "      <td>1</td>\n",
       "    </tr>\n",
       "    <tr>\n",
       "      <th>1</th>\n",
       "      <td>XGBClassifier</td>\n",
       "      <td>[yield_bin]</td>\n",
       "      <td>10</td>\n",
       "      <td>[0, 0, 1]</td>\n",
       "      <td>[1, 1, 1]</td>\n",
       "      <td>{'objective': 'binary:logistic', 'base_score':...</td>\n",
       "      <td>0.333333</td>\n",
       "      <td>0.333333</td>\n",
       "      <td>0.250000</td>\n",
       "      <td>0.0</td>\n",
       "      <td>1</td>\n",
       "    </tr>\n",
       "    <tr>\n",
       "      <th>2</th>\n",
       "      <td>RandomForestClassifier</td>\n",
       "      <td>[yield_bin]</td>\n",
       "      <td>10</td>\n",
       "      <td>[1, 0, 1]</td>\n",
       "      <td>[0, 0, 1]</td>\n",
       "      <td>{'bootstrap': False, 'ccp_alpha': 0.0, 'class_...</td>\n",
       "      <td>0.666667</td>\n",
       "      <td>0.666667</td>\n",
       "      <td>0.666667</td>\n",
       "      <td>0.4</td>\n",
       "      <td>2</td>\n",
       "    </tr>\n",
       "    <tr>\n",
       "      <th>3</th>\n",
       "      <td>XGBClassifier</td>\n",
       "      <td>[yield_bin]</td>\n",
       "      <td>10</td>\n",
       "      <td>[1, 0, 1]</td>\n",
       "      <td>[0, 1, 1]</td>\n",
       "      <td>{'objective': 'binary:logistic', 'base_score':...</td>\n",
       "      <td>0.333333</td>\n",
       "      <td>0.333333</td>\n",
       "      <td>0.250000</td>\n",
       "      <td>-0.5</td>\n",
       "      <td>2</td>\n",
       "    </tr>\n",
       "    <tr>\n",
       "      <th>4</th>\n",
       "      <td>RandomForestClassifier</td>\n",
       "      <td>[yield_bin]</td>\n",
       "      <td>10</td>\n",
       "      <td>[1, 1, 0]</td>\n",
       "      <td>[0, 0, 0]</td>\n",
       "      <td>{'bootstrap': True, 'ccp_alpha': 0.0, 'class_w...</td>\n",
       "      <td>0.333333</td>\n",
       "      <td>0.333333</td>\n",
       "      <td>0.250000</td>\n",
       "      <td>0.0</td>\n",
       "      <td>3</td>\n",
       "    </tr>\n",
       "    <tr>\n",
       "      <th>5</th>\n",
       "      <td>XGBClassifier</td>\n",
       "      <td>[yield_bin]</td>\n",
       "      <td>10</td>\n",
       "      <td>[1, 1, 0]</td>\n",
       "      <td>[0, 1, 0]</td>\n",
       "      <td>{'objective': 'binary:logistic', 'base_score':...</td>\n",
       "      <td>0.666667</td>\n",
       "      <td>0.666667</td>\n",
       "      <td>0.666667</td>\n",
       "      <td>0.4</td>\n",
       "      <td>3</td>\n",
       "    </tr>\n",
       "  </tbody>\n",
       "</table>\n",
       "</div>"
      ],
      "text/plain": [
       "                modeltype       target  train_size      trues      preds  \\\n",
       "0  RandomForestClassifier  [yield_bin]          10  [0, 0, 1]  [0, 0, 0]   \n",
       "1           XGBClassifier  [yield_bin]          10  [0, 0, 1]  [1, 1, 1]   \n",
       "2  RandomForestClassifier  [yield_bin]          10  [1, 0, 1]  [0, 0, 1]   \n",
       "3           XGBClassifier  [yield_bin]          10  [1, 0, 1]  [0, 1, 1]   \n",
       "4  RandomForestClassifier  [yield_bin]          10  [1, 1, 0]  [0, 0, 0]   \n",
       "5           XGBClassifier  [yield_bin]          10  [1, 1, 0]  [0, 1, 0]   \n",
       "\n",
       "                                        model_params  accuracy  f1_micro  \\\n",
       "0  {'bootstrap': True, 'ccp_alpha': 0.0, 'class_w...  0.666667  0.666667   \n",
       "1  {'objective': 'binary:logistic', 'base_score':...  0.333333  0.333333   \n",
       "2  {'bootstrap': False, 'ccp_alpha': 0.0, 'class_...  0.666667  0.666667   \n",
       "3  {'objective': 'binary:logistic', 'base_score':...  0.333333  0.333333   \n",
       "4  {'bootstrap': True, 'ccp_alpha': 0.0, 'class_w...  0.333333  0.333333   \n",
       "5  {'objective': 'binary:logistic', 'base_score':...  0.666667  0.666667   \n",
       "\n",
       "   f1_macro  kappa  seed  \n",
       "0  0.400000    0.0     1  \n",
       "1  0.250000    0.0     1  \n",
       "2  0.666667    0.4     2  \n",
       "3  0.250000   -0.5     2  \n",
       "4  0.250000    0.0     3  \n",
       "5  0.666667    0.4     3  "
      ]
     },
     "metadata": {},
     "output_type": "display_data"
    }
   ],
   "source": [
    "df = pd.DataFrame(result)\n",
    "display(df)\n",
    "df.to_csv('Yield_isomerisation_traditional_ml.csv')"
   ]
  },
  {
   "cell_type": "code",
   "execution_count": 8,
   "metadata": {},
   "outputs": [
    {
     "data": {
      "text/plain": [
       "Text(0.5, 0.98, 'Random Forrest & XGB - MeltingPoint_molecules')"
      ]
     },
     "execution_count": 8,
     "metadata": {},
     "output_type": "execute_result"
    },
    {
     "data": {
      "image/png": "[encoded data removed]",
      "text/plain": [
       "<Figure size 640x480 with 4 Axes>"
      ]
     },
     "metadata": {},
     "output_type": "display_data"
    }
   ],
   "source": [
    "import matplotlib.pyplot as plt\n",
    "\n",
    "METRICS = ['accuracy','f1_micro','f1_macro', 'kappa']\n",
    "fig, ax = plt.subplots(len(METRICS), 1, sharex=True, layout = 'constrained')\n",
    "ax = ax.flatten()\n",
    "\n",
    "for i, metric in enumerate(METRICS):\n",
    "    ax[i].plot(df['train_size'], df[metric], marker = 'o')\n",
    "    ax[i].set_title(metric)\n",
    "    ax[i].set_ylim(0,1)\n",
    "\n",
    "fig.suptitle('Random Forrest & XGB - Yield_isomerisation')"
   ]
  }
 ],
 "metadata": {
  "kernelspec": {
   "display_name": "JorenML",
   "language": "python",
   "name": "python3"
  },
  "language_info": {
   "codemirror_mode": {
    "name": "ipython",
    "version": 3
   },
   "file_extension": ".py",
   "mimetype": "text/x-python",
   "name": "python",
   "nbconvert_exporter": "python",
   "pygments_lexer": "ipython3",
   "version": "3.10.14"
  }
 },
 "nbformat": 4,
 "nbformat_minor": 2
}
