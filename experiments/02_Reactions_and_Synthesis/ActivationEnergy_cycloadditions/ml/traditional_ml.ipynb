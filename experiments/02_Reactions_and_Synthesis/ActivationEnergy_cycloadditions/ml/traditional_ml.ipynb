{
 "cells": [
  {
   "cell_type": "markdown",
   "metadata": {},
   "source": [
    "## Traditional machine learning\n",
    "Feature(s): 'SMILES' column\n",
    "\n",
    "- 'SMILES' column\n",
    "\n",
    "Target: E_bin\n",
    "\n",
    "- Binary class"
   ]
  },
  {
   "cell_type": "code",
   "execution_count": 18,
   "metadata": {},
   "outputs": [],
   "source": [
    "import sys\n",
    "import os\n",
    "\n",
    "# Append the parent directory of your package to sys.path\n",
    "sys.path.append(os.path.abspath(os.path.join(os.getcwd(), '..', '..', '..', '..')))"
   ]
  },
  {
   "cell_type": "code",
   "execution_count": 19,
   "metadata": {},
   "outputs": [
    {
     "name": "stdout",
     "output_type": "stream",
     "text": [
      "Count of unique smiles: 966\n",
      "Count of all of the smiles: 966\n"
     ]
    }
   ],
   "source": [
    "import pandas as pd\n",
    "import numpy as np\n",
    "import zipfile\n",
    "\n",
    "path_to_dataset = 'train_denis.csv'\n",
    "csv_filename = 'train_denis.csv'\n",
    "\n",
    "# Open the file, Correct the encoding and sep if necessary\n",
    "if path_to_dataset.endswith('.zip'):\n",
    "    with zipfile.ZipFile(path_to_dataset, 'r') as z:\n",
    "        # Open the CSV file within the ZIP file\n",
    "        with z.open(csv_filename) as f:\n",
    "            # Read the CSV file into a DataFrame\n",
    "            df = pd.read_csv(f, sep=',', on_bad_lines='warn', index_col = 0)\n",
    "else:\n",
    "    # Read the CSV file into a DataFrame\n",
    "    df = pd.read_csv(path_to_dataset, sep=',', on_bad_lines='warn', index_col = 0)\n",
    "\n",
    "\n",
    "print('Count of unique smiles:', df.SMILES.unique().shape[0])\n",
    "print('Count of all of the smiles:', df.shape[0])\n"
   ]
  },
  {
   "cell_type": "code",
   "execution_count": 20,
   "metadata": {},
   "outputs": [
    {
     "data": {
      "text/html": [
       "<div>\n",
       "<style scoped>\n",
       "    .dataframe tbody tr th:only-of-type {\n",
       "        vertical-align: middle;\n",
       "    }\n",
       "\n",
       "    .dataframe tbody tr th {\n",
       "        vertical-align: top;\n",
       "    }\n",
       "\n",
       "    .dataframe thead th {\n",
       "        text-align: right;\n",
       "    }\n",
       "</style>\n",
       "<table border=\"1\" class=\"dataframe\">\n",
       "  <thead>\n",
       "    <tr style=\"text-align: right;\">\n",
       "      <th></th>\n",
       "      <th>SMILES</th>\n",
       "      <th>Free energy of activation (kcal/mol)</th>\n",
       "      <th>E_bin</th>\n",
       "    </tr>\n",
       "  </thead>\n",
       "  <tbody>\n",
       "    <tr>\n",
       "      <th>0</th>\n",
       "      <td>CC(=O)c2nnc(c1ccc(OC)cc1)nn2</td>\n",
       "      <td>13.188984</td>\n",
       "      <td>0</td>\n",
       "    </tr>\n",
       "    <tr>\n",
       "      <th>1</th>\n",
       "      <td>c1ccccc1c2nnc(F)nn2</td>\n",
       "      <td>12.936726</td>\n",
       "      <td>0</td>\n",
       "    </tr>\n",
       "    <tr>\n",
       "      <th>2</th>\n",
       "      <td>c1cc(C(=O)OC)ccc1c2nnc(c1cnccc1)nn2</td>\n",
       "      <td>13.905599</td>\n",
       "      <td>0</td>\n",
       "    </tr>\n",
       "    <tr>\n",
       "      <th>3</th>\n",
       "      <td>c1cc(OC)ccc1c2nnc(c1ncccc1)nn2</td>\n",
       "      <td>14.327913</td>\n",
       "      <td>0</td>\n",
       "    </tr>\n",
       "    <tr>\n",
       "      <th>4</th>\n",
       "      <td>c1(NC)ccccc1c2nnc(CC)nn2</td>\n",
       "      <td>16.231148</td>\n",
       "      <td>1</td>\n",
       "    </tr>\n",
       "  </tbody>\n",
       "</table>\n",
       "</div>"
      ],
      "text/plain": [
       "                                SMILES  Free energy of activation (kcal/mol)  \\\n",
       "0         CC(=O)c2nnc(c1ccc(OC)cc1)nn2                             13.188984   \n",
       "1                  c1ccccc1c2nnc(F)nn2                             12.936726   \n",
       "2  c1cc(C(=O)OC)ccc1c2nnc(c1cnccc1)nn2                             13.905599   \n",
       "3       c1cc(OC)ccc1c2nnc(c1ncccc1)nn2                             14.327913   \n",
       "4             c1(NC)ccccc1c2nnc(CC)nn2                             16.231148   \n",
       "\n",
       "   E_bin  \n",
       "0      0  \n",
       "1      0  \n",
       "2      0  \n",
       "3      0  \n",
       "4      1  "
      ]
     },
     "metadata": {},
     "output_type": "display_data"
    },
    {
     "data": {
      "text/plain": [
       "(966, 3)"
      ]
     },
     "execution_count": 20,
     "metadata": {},
     "output_type": "execute_result"
    }
   ],
   "source": [
    "display(df.head())\n",
    "df.shape"
   ]
  },
  {
   "cell_type": "code",
   "execution_count": 21,
   "metadata": {},
   "outputs": [],
   "source": [
    "from MLPipeline import MLmodel, BinTheTarget\n",
    "\n",
    "Target = ['E_bin']\n",
    "Features = ['SMILES']\n",
    "Feature_types = ['SMILES']\n",
    "input = df"
   ]
  },
  {
   "cell_type": "code",
   "execution_count": 22,
   "metadata": {},
   "outputs": [
    {
     "name": "stderr",
     "output_type": "stream",
     "text": [
      "\u001b[32m2024-09-12 17:47:06.104\u001b[0m | \u001b[1mINFO    \u001b[0m | \u001b[36mMLPipeline\u001b[0m:\u001b[36m__post_init__\u001b[0m:\u001b[36m134\u001b[0m - \u001b[1mndim y_train: 1\u001b[0m\n",
      "\u001b[32m2024-09-12 17:47:06.105\u001b[0m | \u001b[1mINFO    \u001b[0m | \u001b[36mMLPipeline\u001b[0m:\u001b[36m__post_init__\u001b[0m:\u001b[36m135\u001b[0m - \u001b[1mndim x_train: 2\u001b[0m\n",
      "\u001b[32m2024-09-12 17:47:06.105\u001b[0m | \u001b[1mINFO    \u001b[0m | \u001b[36mMLPipeline\u001b[0m:\u001b[36m__post_init__\u001b[0m:\u001b[36m136\u001b[0m - \u001b[1mshape y_train: (50,)\u001b[0m\n",
      "\u001b[32m2024-09-12 17:47:06.106\u001b[0m | \u001b[1mINFO    \u001b[0m | \u001b[36mMLPipeline\u001b[0m:\u001b[36m__post_init__\u001b[0m:\u001b[36m137\u001b[0m - \u001b[1mshape x_train: (50, 512)\u001b[0m\n"
     ]
    },
    {
     "name": "stdout",
     "output_type": "stream",
     "text": [
      "RandomForestClassifier model trained successfully.\n",
      "Accuracy for RandomForestClassifier: 0.72\n"
     ]
    },
    {
     "data": {
      "text/plain": [
       "0.72"
      ]
     },
     "execution_count": 22,
     "metadata": {},
     "output_type": "execute_result"
    }
   ],
   "source": [
    "model = MLmodel(modelType='RandomForestClassifier',\n",
    "                    df=input,\n",
    "                    target=Target,\n",
    "                    features=Features,\n",
    "                    feature_types=Feature_types)\n",
    "\n",
    "# get the values (input and output) of the model\n",
    "X_train, X_test, y_train, y_test = model.getValues()\n",
    "\n",
    "model.train()\n",
    "model.evaluate()"
   ]
  },
  {
   "cell_type": "code",
   "execution_count": 23,
   "metadata": {},
   "outputs": [],
   "source": [
    "from sklearn.model_selection import cross_val_score\n",
    "from sklearn.base import clone\n",
    "\n",
    "def objective(trial, model_instance):\n",
    "    \"\"\"\n",
    "    Objective function for Optuna to minimize.\n",
    "    \"\"\"\n",
    "    # Define hyperparameters to tune\n",
    "    params = {\n",
    "        'n_estimators': trial.suggest_int('n_estimators', 50, 300),\n",
    "        'max_depth': trial.suggest_categorical('max_depth', [None, 10, 20, 30, 40]),\n",
    "        'min_samples_split': trial.suggest_int('min_samples_split', 2, 15),\n",
    "        'min_samples_leaf': trial.suggest_int('min_samples_leaf', 1, 6),\n",
    "        'max_features': trial.suggest_categorical('max_features', ['sqrt', 'log2']),\n",
    "        'bootstrap': trial.suggest_categorical('bootstrap', [True, False])\n",
    "    }\n",
    "\n",
    "    # Clone the model to ensure a fresh instance each trial\n",
    "    model_clone = clone(model_instance.model)\n",
    "    model_clone.set_params(**params)\n",
    "    \n",
    "    # Define the score metric\n",
    "    scoring = 'accuracy'\n",
    "\n",
    "    # Perform cross-validation\n",
    "    scores = cross_val_score(model_clone, model_instance.X_train, model_instance.y_train, cv=model_instance.cv, scoring=scoring)\n",
    "\n",
    "    # Return the average score across all folds\n",
    "    return scores.mean()"
   ]
  },
  {
   "cell_type": "code",
   "execution_count": 26,
   "metadata": {},
   "outputs": [
    {
     "name": "stderr",
     "output_type": "stream",
     "text": [
      "\u001b[32m2024-09-12 17:47:51.290\u001b[0m | \u001b[1mINFO    \u001b[0m | \u001b[36mMLPipeline\u001b[0m:\u001b[36m__post_init__\u001b[0m:\u001b[36m134\u001b[0m - \u001b[1mndim y_train: 1\u001b[0m\n",
      "\u001b[32m2024-09-12 17:47:51.290\u001b[0m | \u001b[1mINFO    \u001b[0m | \u001b[36mMLPipeline\u001b[0m:\u001b[36m__post_init__\u001b[0m:\u001b[36m135\u001b[0m - \u001b[1mndim x_train: 2\u001b[0m\n",
      "\u001b[32m2024-09-12 17:47:51.291\u001b[0m | \u001b[1mINFO    \u001b[0m | \u001b[36mMLPipeline\u001b[0m:\u001b[36m__post_init__\u001b[0m:\u001b[36m136\u001b[0m - \u001b[1mshape y_train: (50,)\u001b[0m\n",
      "\u001b[32m2024-09-12 17:47:51.291\u001b[0m | \u001b[1mINFO    \u001b[0m | \u001b[36mMLPipeline\u001b[0m:\u001b[36m__post_init__\u001b[0m:\u001b[36m137\u001b[0m - \u001b[1mshape x_train: (50, 512)\u001b[0m\n",
      "[I 2024-09-12 17:47:51,292] A new study created in memory with name: no-name-6291418d-53c6-4de6-8a2d-28250e59bf68\n",
      "[I 2024-09-12 17:47:52,064] Trial 0 finished with value: 0.6 and parameters: {'n_estimators': 220, 'max_depth': 10, 'min_samples_split': 8, 'min_samples_leaf': 6, 'max_features': 'log2', 'bootstrap': False}. Best is trial 0 with value: 0.6.\n",
      "[I 2024-09-12 17:47:53,505] Trial 1 finished with value: 0.6 and parameters: {'n_estimators': 295, 'max_depth': 30, 'min_samples_split': 13, 'min_samples_leaf': 6, 'max_features': 'sqrt', 'bootstrap': True}. Best is trial 0 with value: 0.6.\n",
      "[I 2024-09-12 17:47:54,493] Trial 2 finished with value: 0.6199999999999999 and parameters: {'n_estimators': 284, 'max_depth': 10, 'min_samples_split': 6, 'min_samples_leaf': 5, 'max_features': 'log2', 'bootstrap': False}. Best is trial 2 with value: 0.6199999999999999.\n",
      "[I 2024-09-12 17:47:55,337] Trial 3 finished with value: 0.8000000000000002 and parameters: {'n_estimators': 169, 'max_depth': 10, 'min_samples_split': 14, 'min_samples_leaf': 1, 'max_features': 'log2', 'bootstrap': True}. Best is trial 3 with value: 0.8000000000000002.\n",
      "[I 2024-09-12 17:47:55,830] Trial 4 finished with value: 0.8200000000000001 and parameters: {'n_estimators': 96, 'max_depth': 10, 'min_samples_split': 6, 'min_samples_leaf': 1, 'max_features': 'log2', 'bootstrap': True}. Best is trial 4 with value: 0.8200000000000001.\n",
      "[I 2024-09-12 17:47:56,684] Trial 5 finished with value: 0.7 and parameters: {'n_estimators': 242, 'max_depth': 30, 'min_samples_split': 4, 'min_samples_leaf': 6, 'max_features': 'sqrt', 'bootstrap': False}. Best is trial 4 with value: 0.8200000000000001.\n",
      "[I 2024-09-12 17:47:56,994] Trial 6 finished with value: 0.74 and parameters: {'n_estimators': 86, 'max_depth': 30, 'min_samples_split': 5, 'min_samples_leaf': 3, 'max_features': 'log2', 'bootstrap': False}. Best is trial 4 with value: 0.8200000000000001.\n",
      "[I 2024-09-12 17:47:58,222] Trial 7 finished with value: 0.5800000000000001 and parameters: {'n_estimators': 251, 'max_depth': None, 'min_samples_split': 6, 'min_samples_leaf': 5, 'max_features': 'log2', 'bootstrap': True}. Best is trial 4 with value: 0.8200000000000001.\n",
      "[I 2024-09-12 17:47:59,100] Trial 8 finished with value: 0.78 and parameters: {'n_estimators': 249, 'max_depth': None, 'min_samples_split': 15, 'min_samples_leaf': 3, 'max_features': 'log2', 'bootstrap': False}. Best is trial 4 with value: 0.8200000000000001.\n",
      "[I 2024-09-12 17:47:59,659] Trial 9 finished with value: 0.54 and parameters: {'n_estimators': 114, 'max_depth': 10, 'min_samples_split': 10, 'min_samples_leaf': 5, 'max_features': 'log2', 'bootstrap': True}. Best is trial 4 with value: 0.8200000000000001.\n",
      "[I 2024-09-12 17:48:00,388] Trial 10 finished with value: 0.8200000000000001 and parameters: {'n_estimators': 141, 'max_depth': 20, 'min_samples_split': 2, 'min_samples_leaf': 1, 'max_features': 'sqrt', 'bootstrap': True}. Best is trial 4 with value: 0.8200000000000001.\n",
      "[I 2024-09-12 17:48:00,663] Trial 11 finished with value: 0.8 and parameters: {'n_estimators': 50, 'max_depth': 20, 'min_samples_split': 2, 'min_samples_leaf': 1, 'max_features': 'sqrt', 'bootstrap': True}. Best is trial 4 with value: 0.8200000000000001.\n",
      "[I 2024-09-12 17:48:01,416] Trial 12 finished with value: 0.74 and parameters: {'n_estimators': 147, 'max_depth': 20, 'min_samples_split': 2, 'min_samples_leaf': 2, 'max_features': 'sqrt', 'bootstrap': True}. Best is trial 4 with value: 0.8200000000000001.\n",
      "[I 2024-09-12 17:48:02,053] Trial 13 finished with value: 0.7999999999999999 and parameters: {'n_estimators': 124, 'max_depth': 40, 'min_samples_split': 9, 'min_samples_leaf': 2, 'max_features': 'sqrt', 'bootstrap': True}. Best is trial 4 with value: 0.8200000000000001.\n",
      "[I 2024-09-12 17:48:02,470] Trial 14 finished with value: 0.76 and parameters: {'n_estimators': 79, 'max_depth': 20, 'min_samples_split': 4, 'min_samples_leaf': 2, 'max_features': 'sqrt', 'bootstrap': True}. Best is trial 4 with value: 0.8200000000000001.\n",
      "[I 2024-09-12 17:48:03,462] Trial 15 finished with value: 0.8200000000000001 and parameters: {'n_estimators': 194, 'max_depth': 20, 'min_samples_split': 7, 'min_samples_leaf': 1, 'max_features': 'sqrt', 'bootstrap': True}. Best is trial 4 with value: 0.8200000000000001.\n",
      "[I 2024-09-12 17:48:04,197] Trial 16 finished with value: 0.76 and parameters: {'n_estimators': 143, 'max_depth': 40, 'min_samples_split': 11, 'min_samples_leaf': 2, 'max_features': 'sqrt', 'bootstrap': True}. Best is trial 4 with value: 0.8200000000000001.\n",
      "[I 2024-09-12 17:48:04,696] Trial 17 finished with value: 0.54 and parameters: {'n_estimators': 96, 'max_depth': 20, 'min_samples_split': 3, 'min_samples_leaf': 4, 'max_features': 'log2', 'bootstrap': True}. Best is trial 4 with value: 0.8200000000000001.\n",
      "[I 2024-09-12 17:48:05,572] Trial 18 finished with value: 0.82 and parameters: {'n_estimators': 171, 'max_depth': 10, 'min_samples_split': 5, 'min_samples_leaf': 1, 'max_features': 'log2', 'bootstrap': True}. Best is trial 4 with value: 0.8200000000000001.\n",
      "[I 2024-09-12 17:48:05,844] Trial 19 finished with value: 0.6599999999999999 and parameters: {'n_estimators': 50, 'max_depth': None, 'min_samples_split': 12, 'min_samples_leaf': 3, 'max_features': 'sqrt', 'bootstrap': True}. Best is trial 4 with value: 0.8200000000000001.\n",
      "[I 2024-09-12 17:48:06,546] Trial 20 finished with value: 0.6 and parameters: {'n_estimators': 139, 'max_depth': 40, 'min_samples_split': 8, 'min_samples_leaf': 4, 'max_features': 'log2', 'bootstrap': True}. Best is trial 4 with value: 0.8200000000000001.\n",
      "[I 2024-09-12 17:48:07,674] Trial 21 finished with value: 0.8 and parameters: {'n_estimators': 220, 'max_depth': 20, 'min_samples_split': 7, 'min_samples_leaf': 1, 'max_features': 'sqrt', 'bootstrap': True}. Best is trial 4 with value: 0.8200000000000001.\n",
      "[I 2024-09-12 17:48:08,678] Trial 22 finished with value: 0.78 and parameters: {'n_estimators': 195, 'max_depth': 20, 'min_samples_split': 7, 'min_samples_leaf': 1, 'max_features': 'sqrt', 'bootstrap': True}. Best is trial 4 with value: 0.8200000000000001.\n",
      "[I 2024-09-12 17:48:09,670] Trial 23 finished with value: 0.8 and parameters: {'n_estimators': 195, 'max_depth': 20, 'min_samples_split': 9, 'min_samples_leaf': 2, 'max_features': 'sqrt', 'bootstrap': True}. Best is trial 4 with value: 0.8200000000000001.\n",
      "[I 2024-09-12 17:48:10,240] Trial 24 finished with value: 0.78 and parameters: {'n_estimators': 108, 'max_depth': 20, 'min_samples_split': 4, 'min_samples_leaf': 1, 'max_features': 'sqrt', 'bootstrap': True}. Best is trial 4 with value: 0.8200000000000001.\n",
      "[I 2024-09-12 17:48:11,041] Trial 25 finished with value: 0.78 and parameters: {'n_estimators': 155, 'max_depth': 10, 'min_samples_split': 6, 'min_samples_leaf': 2, 'max_features': 'sqrt', 'bootstrap': True}. Best is trial 4 with value: 0.8200000000000001.\n",
      "[I 2024-09-12 17:48:11,800] Trial 26 finished with value: 0.8200000000000001 and parameters: {'n_estimators': 196, 'max_depth': 20, 'min_samples_split': 3, 'min_samples_leaf': 1, 'max_features': 'sqrt', 'bootstrap': False}. Best is trial 4 with value: 0.8200000000000001.\n",
      "[I 2024-09-12 17:48:12,454] Trial 27 finished with value: 0.82 and parameters: {'n_estimators': 125, 'max_depth': 20, 'min_samples_split': 7, 'min_samples_leaf': 2, 'max_features': 'sqrt', 'bootstrap': True}. Best is trial 4 with value: 0.8200000000000001.\n",
      "[I 2024-09-12 17:48:12,849] Trial 28 finished with value: 0.7999999999999999 and parameters: {'n_estimators': 74, 'max_depth': 10, 'min_samples_split': 10, 'min_samples_leaf': 1, 'max_features': 'log2', 'bootstrap': True}. Best is trial 4 with value: 0.8200000000000001.\n",
      "[I 2024-09-12 17:48:13,635] Trial 29 finished with value: 0.7 and parameters: {'n_estimators': 216, 'max_depth': 10, 'min_samples_split': 5, 'min_samples_leaf': 3, 'max_features': 'log2', 'bootstrap': False}. Best is trial 4 with value: 0.8200000000000001.\n",
      "[I 2024-09-12 17:48:14,476] Trial 30 finished with value: 0.82 and parameters: {'n_estimators': 160, 'max_depth': None, 'min_samples_split': 8, 'min_samples_leaf': 1, 'max_features': 'sqrt', 'bootstrap': True}. Best is trial 4 with value: 0.8200000000000001.\n",
      "[I 2024-09-12 17:48:15,194] Trial 31 finished with value: 0.8400000000000001 and parameters: {'n_estimators': 187, 'max_depth': 20, 'min_samples_split': 3, 'min_samples_leaf': 1, 'max_features': 'sqrt', 'bootstrap': False}. Best is trial 31 with value: 0.8400000000000001.\n",
      "[I 2024-09-12 17:48:15,893] Trial 32 finished with value: 0.8200000000000001 and parameters: {'n_estimators': 182, 'max_depth': 20, 'min_samples_split': 3, 'min_samples_leaf': 1, 'max_features': 'sqrt', 'bootstrap': False}. Best is trial 31 with value: 0.8400000000000001.\n",
      "[I 2024-09-12 17:48:16,680] Trial 33 finished with value: 0.8200000000000001 and parameters: {'n_estimators': 208, 'max_depth': 20, 'min_samples_split': 2, 'min_samples_leaf': 2, 'max_features': 'sqrt', 'bootstrap': False}. Best is trial 31 with value: 0.8400000000000001.\n",
      "[I 2024-09-12 17:48:17,368] Trial 34 finished with value: 0.8400000000000001 and parameters: {'n_estimators': 177, 'max_depth': 20, 'min_samples_split': 3, 'min_samples_leaf': 1, 'max_features': 'sqrt', 'bootstrap': False}. Best is trial 31 with value: 0.8400000000000001.\n",
      "[I 2024-09-12 17:48:18,057] Trial 35 finished with value: 0.8200000000000001 and parameters: {'n_estimators': 179, 'max_depth': 30, 'min_samples_split': 3, 'min_samples_leaf': 1, 'max_features': 'sqrt', 'bootstrap': False}. Best is trial 31 with value: 0.8400000000000001.\n",
      "[I 2024-09-12 17:48:18,548] Trial 36 finished with value: 0.8200000000000001 and parameters: {'n_estimators': 131, 'max_depth': 30, 'min_samples_split': 4, 'min_samples_leaf': 2, 'max_features': 'log2', 'bootstrap': False}. Best is trial 31 with value: 0.8400000000000001.\n",
      "[I 2024-09-12 17:48:19,577] Trial 37 finished with value: 0.6199999999999999 and parameters: {'n_estimators': 280, 'max_depth': 10, 'min_samples_split': 2, 'min_samples_leaf': 6, 'max_features': 'sqrt', 'bootstrap': False}. Best is trial 31 with value: 0.8400000000000001.\n",
      "[I 2024-09-12 17:48:20,442] Trial 38 finished with value: 0.8 and parameters: {'n_estimators': 232, 'max_depth': 20, 'min_samples_split': 5, 'min_samples_leaf': 1, 'max_features': 'log2', 'bootstrap': False}. Best is trial 31 with value: 0.8400000000000001.\n",
      "[I 2024-09-12 17:48:21,065] Trial 39 finished with value: 0.8200000000000001 and parameters: {'n_estimators': 161, 'max_depth': 40, 'min_samples_split': 4, 'min_samples_leaf': 2, 'max_features': 'sqrt', 'bootstrap': False}. Best is trial 31 with value: 0.8400000000000001.\n",
      "[I 2024-09-12 17:48:21,431] Trial 40 finished with value: 0.8 and parameters: {'n_estimators': 96, 'max_depth': 10, 'min_samples_split': 3, 'min_samples_leaf': 3, 'max_features': 'log2', 'bootstrap': False}. Best is trial 31 with value: 0.8400000000000001.\n",
      "[I 2024-09-12 17:48:22,142] Trial 41 finished with value: 0.8200000000000001 and parameters: {'n_estimators': 185, 'max_depth': 20, 'min_samples_split': 6, 'min_samples_leaf': 1, 'max_features': 'sqrt', 'bootstrap': False}. Best is trial 31 with value: 0.8400000000000001.\n",
      "[I 2024-09-12 17:48:22,945] Trial 42 finished with value: 0.8200000000000001 and parameters: {'n_estimators': 206, 'max_depth': 20, 'min_samples_split': 2, 'min_samples_leaf': 1, 'max_features': 'sqrt', 'bootstrap': False}. Best is trial 31 with value: 0.8400000000000001.\n",
      "[I 2024-09-12 17:48:23,590] Trial 43 finished with value: 0.8200000000000001 and parameters: {'n_estimators': 165, 'max_depth': 20, 'min_samples_split': 5, 'min_samples_leaf': 1, 'max_features': 'sqrt', 'bootstrap': False}. Best is trial 31 with value: 0.8400000000000001.\n",
      "[I 2024-09-12 17:48:24,805] Trial 44 finished with value: 0.78 and parameters: {'n_estimators': 237, 'max_depth': 20, 'min_samples_split': 7, 'min_samples_leaf': 1, 'max_features': 'sqrt', 'bootstrap': True}. Best is trial 31 with value: 0.8400000000000001.\n",
      "[I 2024-09-12 17:48:25,157] Trial 45 finished with value: 0.72 and parameters: {'n_estimators': 65, 'max_depth': 30, 'min_samples_split': 6, 'min_samples_leaf': 2, 'max_features': 'sqrt', 'bootstrap': True}. Best is trial 31 with value: 0.8400000000000001.\n",
      "[I 2024-09-12 17:48:25,754] Trial 46 finished with value: 0.8400000000000001 and parameters: {'n_estimators': 152, 'max_depth': None, 'min_samples_split': 4, 'min_samples_leaf': 1, 'max_features': 'sqrt', 'bootstrap': False}. Best is trial 31 with value: 0.8400000000000001.\n",
      "[I 2024-09-12 17:48:26,270] Trial 47 finished with value: 0.8400000000000001 and parameters: {'n_estimators': 134, 'max_depth': None, 'min_samples_split': 4, 'min_samples_leaf': 1, 'max_features': 'log2', 'bootstrap': False}. Best is trial 31 with value: 0.8400000000000001.\n",
      "[I 2024-09-12 17:48:26,702] Trial 48 finished with value: 0.6599999999999999 and parameters: {'n_estimators': 115, 'max_depth': None, 'min_samples_split': 4, 'min_samples_leaf': 5, 'max_features': 'log2', 'bootstrap': False}. Best is trial 31 with value: 0.8400000000000001.\n",
      "[I 2024-09-12 17:48:27,279] Trial 49 finished with value: 0.8400000000000001 and parameters: {'n_estimators': 153, 'max_depth': None, 'min_samples_split': 4, 'min_samples_leaf': 2, 'max_features': 'log2', 'bootstrap': False}. Best is trial 31 with value: 0.8400000000000001.\n"
     ]
    },
    {
     "name": "stdout",
     "output_type": "stream",
     "text": [
      "Best RandomForestClassifier model trained successfully with hyperparameter tuning using Optuna.\n",
      "Best hyperparameters: {'n_estimators': 187, 'max_depth': 20, 'min_samples_split': 3, 'min_samples_leaf': 1, 'max_features': 'sqrt', 'bootstrap': False}\n",
      "RandomForestClassifier model trained successfully.\n",
      "Accuracy for RandomForestClassifier: 0.68\n"
     ]
    },
    {
     "data": {
      "text/plain": [
       "0.68"
      ]
     },
     "execution_count": 26,
     "metadata": {},
     "output_type": "execute_result"
    }
   ],
   "source": [
    "model = MLmodel(modelType='RandomForestClassifier', df=input, target=Target, \n",
    "                features=['SMILES'], hyperparameter_tuning=True,\n",
    "                feature_types=Feature_types,\n",
    "                optimization_method='optuna', objective=lambda trial: objective(trial, model))\n",
    "\n",
    "model.train()\n",
    "predictions = model.predict()\n",
    "model.evaluate()"
   ]
  }
 ],
 "metadata": {
  "kernelspec": {
   "display_name": "Python 3",
   "language": "python",
   "name": "python3"
  },
  "language_info": {
   "codemirror_mode": {
    "name": "ipython",
    "version": 3
   },
   "file_extension": ".py",
   "mimetype": "text/x-python",
   "name": "python",
   "nbconvert_exporter": "python",
   "pygments_lexer": "ipython3",
   "version": "3.10.14"
  }
 },
 "nbformat": 4,
 "nbformat_minor": 2
}
