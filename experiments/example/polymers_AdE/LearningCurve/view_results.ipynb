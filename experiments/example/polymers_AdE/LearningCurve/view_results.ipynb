{
 "cells": [
  {
   "cell_type": "code",
   "execution_count": 3,
   "metadata": {},
   "outputs": [],
   "source": [
    "from fastcore.xtras import load_pickle\n",
    "import pandas as pd \n",
    "import os \n",
    "from glob import glob\n",
    "import matplotlib.pyplot as plt\n",
    "from datetime import datetime\n",
    "\n",
    "import sys\n",
    "sys.path.append(\"/home/jorenvanherck/Documents/gptchallengeV2/gptchem-gptj/plotutils/\")\n",
    "from plotutils import *\n",
    "\n",
    "plt.style.use(\"/home/jorenvanherck/Documents/gptchallengeV2/gptchem-gptj/plotutils/kevin.mplstyle\")\n",
    "\n",
    "FOLDER = 'out'"
   ]
  },
  {
   "cell_type": "code",
   "execution_count": 2,
   "metadata": {},
   "outputs": [
    {
     "name": "stdout",
     "output_type": "stream",
     "text": [
      "Pickles found in out: 12\n"
     ]
    }
   ],
   "source": [
    "if not os.path.exists(FOLDER):\n",
    "    raise FileExistsError('Cannot find folder {}'.format(FOLDER))\n",
    "\n",
    "all_res = glob(f'{FOLDER}/*.pkl')\n",
    "print('Pickles found in {}: {}'.format(FOLDER, len(all_res)))"
   ]
  },
  {
   "cell_type": "code",
   "execution_count": 3,
   "metadata": {},
   "outputs": [
    {
     "name": "stdout",
     "output_type": "stream",
     "text": [
      "[{'size': 5000, 'target': 'y_bin', 'accuracy': 0.98, 'f1_macro': 0.9799919967987194, 'f1_micro': 0.98, 'kappa': 0.96, 'num_epochs': 4, 'lr': 0.0003, 'bins': 2, 'test_size': 50}, {'size': 5000, 'target': 'y_bin', 'accuracy': 0.86, 'f1_macro': 0.8594941790445605, 'f1_micro': 0.86, 'kappa': 0.72, 'num_epochs': 4, 'lr': 0.0003, 'bins': 2, 'test_size': 50}, {'size': 100, 'target': 'y_bin', 'accuracy': 0.66, 'f1_macro': 0.6155585707824514, 'f1_micro': 0.66, 'kappa': 0.32000000000000006, 'num_epochs': 4, 'lr': 0.0003, 'bins': 2, 'test_size': 50}, {'size': 100, 'target': 'y_bin', 'accuracy': 0.5, 'f1_macro': 0.3333333333333333, 'f1_micro': 0.5, 'kappa': 0.0, 'num_epochs': 4, 'lr': 0.0003, 'bins': 2, 'test_size': 50}, {'size': 100, 'target': 'y_bin', 'accuracy': 0.62, 'f1_macro': 0.5558672276764843, 'f1_micro': 0.62, 'kappa': 0.24, 'num_epochs': 4, 'lr': 0.0003, 'bins': 2, 'test_size': 50}, {'size': 5000, 'target': 'y_bin', 'accuracy': 0.94, 'f1_macro': 0.9399759903961584, 'f1_micro': 0.94, 'kappa': 0.8799999999999999, 'num_epochs': 4, 'lr': 0.0003, 'bins': 2, 'test_size': 50}, {'size': 1000, 'target': 'y_bin', 'accuracy': 0.92, 'f1_macro': 0.9198717948717949, 'f1_micro': 0.92, 'kappa': 0.8400000000000001, 'num_epochs': 4, 'lr': 0.0003, 'bins': 2, 'test_size': 50}, {'size': 500, 'target': 'y_bin', 'accuracy': 0.92, 'f1_macro': 0.9198717948717949, 'f1_micro': 0.92, 'kappa': 0.8400000000000001, 'num_epochs': 4, 'lr': 0.0003, 'bins': 2, 'test_size': 50}, {'size': 500, 'target': 'y_bin', 'accuracy': 0.86, 'f1_macro': 0.8572011423908609, 'f1_micro': 0.86, 'kappa': 0.72, 'num_epochs': 4, 'lr': 0.0003, 'bins': 2, 'test_size': 50}, {'size': 1000, 'target': 'y_bin', 'accuracy': 0.9, 'f1_macro': 0.8999599839935974, 'f1_micro': 0.9, 'kappa': 0.8, 'num_epochs': 4, 'lr': 0.0003, 'bins': 2, 'test_size': 50}, {'size': 500, 'target': 'y_bin', 'accuracy': 0.86, 'f1_macro': 0.8599439775910365, 'f1_micro': 0.86, 'kappa': 0.72, 'num_epochs': 4, 'lr': 0.0003, 'bins': 2, 'test_size': 50}, {'size': 1000, 'target': 'y_bin', 'accuracy': 0.88, 'f1_macro': 0.8798076923076923, 'f1_micro': 0.88, 'kappa': 0.76, 'num_epochs': 4, 'lr': 0.0003, 'bins': 2, 'test_size': 50}]\n"
     ]
    }
   ],
   "source": [
    "\n",
    "compiled_res_list = []\n",
    "conf_mats = []\n",
    "\n",
    "for results in all_res:\n",
    "    res_full = load_pickle(results)\n",
    "    res = res_full['results']\n",
    "    summary = {\n",
    "        'size': res_full['train_size'],\n",
    "        #'representation': res_full['data_summary']['representation'],\n",
    "        'target': res_full['data_summary']['target'],\n",
    "        'accuracy': res['accuracy'],\n",
    "        'f1_macro': res['f1_macro'],\n",
    "        'f1_micro': res['f1_micro'],\n",
    "        'kappa': res['kappa'],\n",
    "        'num_epochs': res_full['config']['tune_settings']['num_train_epochs'],\n",
    "        'lr': res_full['config']['tune_settings']['learning_rate'],\n",
    "        'bins': len(set(res['all_y_true'])),\n",
    "        'test_size': len(res['all_y_true'])\n",
    "       \n",
    "    }\n",
    "    confusion_matrix = {\n",
    "        'all_y_true':res['all_y_true'],\n",
    "        'all_y_pred':res['all_y_pred']\n",
    "    }\n",
    "    conf_mats.append(confusion_matrix)\n",
    "    compiled_res_list.append(summary)"
   ]
  },
  {
   "cell_type": "code",
   "execution_count": 5,
   "metadata": {},
   "outputs": [],
   "source": [
    "compiled_res = pd.DataFrame(compiled_res_list)\n",
    "grouped_res =compiled_res.groupby(['bins', 'num_epochs', 'target', 'size']).agg(['mean', 'sem'])\n"
   ]
  },
  {
   "cell_type": "code",
   "execution_count": 6,
   "metadata": {},
   "outputs": [
    {
     "data": {
      "text/html": [
       "<div>\n",
       "<style scoped>\n",
       "    .dataframe tbody tr th:only-of-type {\n",
       "        vertical-align: middle;\n",
       "    }\n",
       "\n",
       "    .dataframe tbody tr th {\n",
       "        vertical-align: top;\n",
       "    }\n",
       "\n",
       "    .dataframe thead tr th {\n",
       "        text-align: left;\n",
       "    }\n",
       "\n",
       "    .dataframe thead tr:last-of-type th {\n",
       "        text-align: right;\n",
       "    }\n",
       "</style>\n",
       "<table border=\"1\" class=\"dataframe\">\n",
       "  <thead>\n",
       "    <tr>\n",
       "      <th></th>\n",
       "      <th></th>\n",
       "      <th></th>\n",
       "      <th></th>\n",
       "      <th colspan=\"2\" halign=\"left\">accuracy</th>\n",
       "      <th colspan=\"2\" halign=\"left\">f1_macro</th>\n",
       "      <th colspan=\"2\" halign=\"left\">f1_micro</th>\n",
       "      <th colspan=\"2\" halign=\"left\">kappa</th>\n",
       "      <th colspan=\"2\" halign=\"left\">lr</th>\n",
       "      <th colspan=\"2\" halign=\"left\">test_size</th>\n",
       "    </tr>\n",
       "    <tr>\n",
       "      <th></th>\n",
       "      <th></th>\n",
       "      <th></th>\n",
       "      <th></th>\n",
       "      <th>mean</th>\n",
       "      <th>sem</th>\n",
       "      <th>mean</th>\n",
       "      <th>sem</th>\n",
       "      <th>mean</th>\n",
       "      <th>sem</th>\n",
       "      <th>mean</th>\n",
       "      <th>sem</th>\n",
       "      <th>mean</th>\n",
       "      <th>sem</th>\n",
       "      <th>mean</th>\n",
       "      <th>sem</th>\n",
       "    </tr>\n",
       "    <tr>\n",
       "      <th>bins</th>\n",
       "      <th>num_epochs</th>\n",
       "      <th>target</th>\n",
       "      <th>size</th>\n",
       "      <th></th>\n",
       "      <th></th>\n",
       "      <th></th>\n",
       "      <th></th>\n",
       "      <th></th>\n",
       "      <th></th>\n",
       "      <th></th>\n",
       "      <th></th>\n",
       "      <th></th>\n",
       "      <th></th>\n",
       "      <th></th>\n",
       "      <th></th>\n",
       "    </tr>\n",
       "  </thead>\n",
       "  <tbody>\n",
       "    <tr>\n",
       "      <th rowspan=\"4\" valign=\"top\">2</th>\n",
       "      <th rowspan=\"4\" valign=\"top\">4</th>\n",
       "      <th rowspan=\"4\" valign=\"top\">y_bin</th>\n",
       "      <th>100</th>\n",
       "      <td>0.593333</td>\n",
       "      <td>0.048074</td>\n",
       "      <td>0.501586</td>\n",
       "      <td>0.085873</td>\n",
       "      <td>0.593333</td>\n",
       "      <td>0.048074</td>\n",
       "      <td>0.186667</td>\n",
       "      <td>0.096148</td>\n",
       "      <td>0.0003</td>\n",
       "      <td>0.0</td>\n",
       "      <td>50.0</td>\n",
       "      <td>0.0</td>\n",
       "    </tr>\n",
       "    <tr>\n",
       "      <th>500</th>\n",
       "      <td>0.880000</td>\n",
       "      <td>0.020000</td>\n",
       "      <td>0.879006</td>\n",
       "      <td>0.020448</td>\n",
       "      <td>0.880000</td>\n",
       "      <td>0.020000</td>\n",
       "      <td>0.760000</td>\n",
       "      <td>0.040000</td>\n",
       "      <td>0.0003</td>\n",
       "      <td>0.0</td>\n",
       "      <td>50.0</td>\n",
       "      <td>0.0</td>\n",
       "    </tr>\n",
       "    <tr>\n",
       "      <th>1000</th>\n",
       "      <td>0.900000</td>\n",
       "      <td>0.011547</td>\n",
       "      <td>0.899880</td>\n",
       "      <td>0.011566</td>\n",
       "      <td>0.900000</td>\n",
       "      <td>0.011547</td>\n",
       "      <td>0.800000</td>\n",
       "      <td>0.023094</td>\n",
       "      <td>0.0003</td>\n",
       "      <td>0.0</td>\n",
       "      <td>50.0</td>\n",
       "      <td>0.0</td>\n",
       "    </tr>\n",
       "    <tr>\n",
       "      <th>5000</th>\n",
       "      <td>0.926667</td>\n",
       "      <td>0.035277</td>\n",
       "      <td>0.926487</td>\n",
       "      <td>0.035433</td>\n",
       "      <td>0.926667</td>\n",
       "      <td>0.035277</td>\n",
       "      <td>0.853333</td>\n",
       "      <td>0.070553</td>\n",
       "      <td>0.0003</td>\n",
       "      <td>0.0</td>\n",
       "      <td>50.0</td>\n",
       "      <td>0.0</td>\n",
       "    </tr>\n",
       "  </tbody>\n",
       "</table>\n",
       "</div>"
      ],
      "text/plain": [
       "                             accuracy            f1_macro            f1_micro  \\\n",
       "                                 mean       sem      mean       sem      mean   \n",
       "bins num_epochs target size                                                     \n",
       "2    4          y_bin  100   0.593333  0.048074  0.501586  0.085873  0.593333   \n",
       "                       500   0.880000  0.020000  0.879006  0.020448  0.880000   \n",
       "                       1000  0.900000  0.011547  0.899880  0.011566  0.900000   \n",
       "                       5000  0.926667  0.035277  0.926487  0.035433  0.926667   \n",
       "\n",
       "                                          kappa                lr       \\\n",
       "                                  sem      mean       sem    mean  sem   \n",
       "bins num_epochs target size                                              \n",
       "2    4          y_bin  100   0.048074  0.186667  0.096148  0.0003  0.0   \n",
       "                       500   0.020000  0.760000  0.040000  0.0003  0.0   \n",
       "                       1000  0.011547  0.800000  0.023094  0.0003  0.0   \n",
       "                       5000  0.035277  0.853333  0.070553  0.0003  0.0   \n",
       "\n",
       "                            test_size       \n",
       "                                 mean  sem  \n",
       "bins num_epochs target size                 \n",
       "2    4          y_bin  100       50.0  0.0  \n",
       "                       500       50.0  0.0  \n",
       "                       1000      50.0  0.0  \n",
       "                       5000      50.0  0.0  "
      ]
     },
     "execution_count": 6,
     "metadata": {},
     "output_type": "execute_result"
    }
   ],
   "source": [
    "grouped_res\n"
   ]
  },
  {
   "cell_type": "markdown",
   "metadata": {},
   "source": [
    "# Plot"
   ]
  },
  {
   "cell_type": "code",
   "execution_count": 10,
   "metadata": {},
   "outputs": [
    {
     "name": "stderr",
     "output_type": "stream",
     "text": [
      "/home/jorenvanherck/.local/lib/python3.11/site-packages/matplotlib/ticker.py:2937: RuntimeWarning: invalid value encountered in log10\n",
      "  majorstep_no_exponent = 10 ** (np.log10(majorstep) % 1)\n"
     ]
    },
    {
     "data": {
      "image/png": "[encoded data removed]",
      "text/plain": [
       "<Figure size 500x444.984 with 4 Axes>"
      ]
     },
     "metadata": {},
     "output_type": "display_data"
    }
   ],
   "source": [
    "from scipy.stats import sem\n",
    "from scipy.constants import golden\n",
    "ONE_COL_WIDTH_INCH = 5\n",
    "TWO_COL_WIDTH_INCH = 7.2\n",
    "\n",
    "ONE_COL_GOLDEN_RATIO_HEIGHT_INCH = ONE_COL_WIDTH_INCH / golden\n",
    "TWO_COL_GOLDEN_RATIO_HEIGHT_INCH = TWO_COL_WIDTH_INCH / golden\n",
    "\n",
    "BINS = 2\n",
    "REPRESENTATION = 'y_bin'\n",
    "\n",
    "fig, ax = plt.subplots(4, 1,figsize=(ONE_COL_WIDTH_INCH, TWO_COL_GOLDEN_RATIO_HEIGHT_INCH),constrained_layout = True , sharex=True)\n",
    " \n",
    "for num_epochs in [4]:\n",
    "    for i, metric in enumerate(['accuracy', 'f1_macro', 'f1_micro', 'kappa']):\n",
    "        ax[i].plot(\n",
    "            grouped_res.loc[BINS, num_epochs,REPRESENTATION].index, \n",
    "            grouped_res.loc[BINS, num_epochs,REPRESENTATION][metric]['mean'],\n",
    "            marker='o',\n",
    "            label=f'{num_epochs} epochs'\n",
    "        )\n",
    "        ax[i].fill_between(\n",
    "            grouped_res.loc[BINS, num_epochs,REPRESENTATION].index,\n",
    "            grouped_res.loc[BINS, num_epochs,REPRESENTATION][metric]['mean'] - grouped_res.loc[BINS, num_epochs,REPRESENTATION][metric]['sem'],\n",
    "            grouped_res.loc[BINS, num_epochs,REPRESENTATION][metric]['mean'] + grouped_res.loc[BINS, num_epochs,REPRESENTATION][metric]['sem'],\n",
    "            alpha=0.2\n",
    "        )\n",
    "        ax[i].set_ylim(0,1)\n",
    "        #ax[i].set_title(metric)\n",
    "        ax[i].set_xticks((list(compiled_res['size'].unique())))\n",
    "        ax[i].set_title(metric)\n",
    "    #ylabel_top('accuracy', ax=ax[0])\n",
    "    #ylabel_top(r'F$_1$ macro', ax=ax[1])\n",
    "    #ylabel_top(r'F$_1$ micro', ax=ax[2])\n",
    "    #ylabel_top(r'$\\kappa$', ax=ax[3])\n",
    "ax[-1].set_xlabel('training set size')\n",
    "\n",
    "\n",
    "#matplotx.line_labels(ax[0])\n",
    "now = datetime.now().strftime('%Y%m%d_%H%M') \n",
    "#fig.suptitle('Hydrides - {} - {}'.format(REPRESENTATION, 'binary'), fontsize=16)\n",
    "fig.savefig(f'{now}_AdhesiveFreeE-{REPRESENTATION}-binary-{BINS}bin-classification-results.pdf', bbox_inches='tight')"
   ]
  }
 ],
 "metadata": {
  "kernelspec": {
   "display_name": "predirra",
   "language": "python",
   "name": "python3"
  },
  "language_info": {
   "codemirror_mode": {
    "name": "ipython",
    "version": 3
   },
   "file_extension": ".py",
   "mimetype": "text/x-python",
   "name": "python",
   "nbconvert_exporter": "python",
   "pygments_lexer": "ipython3",
   "version": "3.10.12"
  },
  "orig_nbformat": 4
 },
 "nbformat": 4,
 "nbformat_minor": 2
}
