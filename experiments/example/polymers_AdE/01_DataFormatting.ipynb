{
 "cells": [
  {
   "cell_type": "markdown",
   "metadata": {},
   "source": [
    "## Import nessacary libraries"
   ]
  },
  {
   "cell_type": "code",
   "execution_count": 37,
   "metadata": {},
   "outputs": [],
   "source": [
    "import pandas as pd # for data science\n",
    "import os # operating system\n",
    "import matplotlib.pyplot as plt # for plotting\n",
    "from sklearn.model_selection import train_test_split # for splitting the final dataset into train and test"
   ]
  },
  {
   "cell_type": "code",
   "execution_count": 38,
   "metadata": {},
   "outputs": [],
   "source": [
    "# define some Helper Functions\n",
    "\n",
    "def count_classes(df: pd.DataFrame, column = 'yield_class'):\n",
    "    counter = dict(df[column].value_counts())\n",
    "    print(f'The \"{column}\" column contains:')\n",
    "    for k,v in counter.items():\n",
    "        print(f'\\t{v}x {k}')\n",
    "\n",
    "def count_types(df, column):\n",
    "    from collections import Counter\n",
    "\n",
    "    types = Counter([type(i) for i in df[column]])\n",
    "\n",
    "    print(f'The datatypes in the \"{column}\" colomn:')\n",
    "    for k,v in types.items():\n",
    "        print(f'{v}x {k}')"
   ]
  },
  {
   "cell_type": "markdown",
   "metadata": {},
   "source": [
    "## Load and inspect data"
   ]
  },
  {
   "cell_type": "markdown",
   "metadata": {},
   "source": [
    "The data is in a tabular form in a .csv format."
   ]
  },
  {
   "cell_type": "code",
   "execution_count": 39,
   "metadata": {},
   "outputs": [
    {
     "name": "stdout",
     "output_type": "stream",
     "text": [
      "Data in 'data/polymers_rawData.csv'\n"
     ]
    }
   ],
   "source": [
    "RAW_DATA_FILE = os.path.join('data', 'polymers_rawData.csv')\n",
    "print(f\"Data in '{RAW_DATA_FILE}'\")"
   ]
  },
  {
   "cell_type": "markdown",
   "metadata": {},
   "source": [
    "With the 'pandas' library, we can read out the data as a dataframe (df)."
   ]
  },
  {
   "cell_type": "code",
   "execution_count": 40,
   "metadata": {},
   "outputs": [],
   "source": [
    "df = pd.read_csv(RAW_DATA_FILE)"
   ]
  },
  {
   "cell_type": "markdown",
   "metadata": {},
   "source": [
    "We can print out certain properties of the dataframe, e.g., the total lenght and the columns"
   ]
  },
  {
   "cell_type": "code",
   "execution_count": 41,
   "metadata": {},
   "outputs": [
    {
     "name": "stdout",
     "output_type": "stream",
     "text": [
      "Entries in de dataset: 16000\n",
      "Columns in the dataset: 2 (['sequence', 'E_adh'])\n"
     ]
    }
   ],
   "source": [
    "print(f\"Entries in de dataset: {len(df)}\")\n",
    "print(f\"Columns in the dataset: {len(df.columns)} ({df.columns.tolist()})\")"
   ]
  },
  {
   "cell_type": "markdown",
   "metadata": {},
   "source": [
    "Let's view 5 random entries of the dataframe"
   ]
  },
  {
   "cell_type": "code",
   "execution_count": 42,
   "metadata": {},
   "outputs": [
    {
     "data": {
      "text/html": [
       "<div>\n",
       "<style scoped>\n",
       "    .dataframe tbody tr th:only-of-type {\n",
       "        vertical-align: middle;\n",
       "    }\n",
       "\n",
       "    .dataframe tbody tr th {\n",
       "        vertical-align: top;\n",
       "    }\n",
       "\n",
       "    .dataframe thead th {\n",
       "        text-align: right;\n",
       "    }\n",
       "</style>\n",
       "<table border=\"1\" class=\"dataframe\">\n",
       "  <thead>\n",
       "    <tr style=\"text-align: right;\">\n",
       "      <th></th>\n",
       "      <th>sequence</th>\n",
       "      <th>E_adh</th>\n",
       "    </tr>\n",
       "  </thead>\n",
       "  <tbody>\n",
       "    <tr>\n",
       "      <th>7963</th>\n",
       "      <td>B B A A B A A B A A A B A B A A A A A A</td>\n",
       "      <td>8.214659</td>\n",
       "    </tr>\n",
       "    <tr>\n",
       "      <th>5745</th>\n",
       "      <td>B A B A B B A B B B B B B B B B A B B B</td>\n",
       "      <td>7.715853</td>\n",
       "    </tr>\n",
       "    <tr>\n",
       "      <th>7888</th>\n",
       "      <td>A A A A B A B B B A A A A A B A B A B B</td>\n",
       "      <td>8.517889</td>\n",
       "    </tr>\n",
       "    <tr>\n",
       "      <th>14272</th>\n",
       "      <td>B B A B B B B B B B B A A B B B B A A A</td>\n",
       "      <td>8.327265</td>\n",
       "    </tr>\n",
       "    <tr>\n",
       "      <th>14843</th>\n",
       "      <td>A A A A B A B B A B B B A A B B B B A B</td>\n",
       "      <td>8.243839</td>\n",
       "    </tr>\n",
       "  </tbody>\n",
       "</table>\n",
       "</div>"
      ],
      "text/plain": [
       "                                      sequence     E_adh\n",
       "7963   B B A A B A A B A A A B A B A A A A A A  8.214659\n",
       "5745   B A B A B B A B B B B B B B B B A B B B  7.715853\n",
       "7888   A A A A B A B B B A A A A A B A B A B B  8.517889\n",
       "14272  B B A B B B B B B B B A A B B B B A A A  8.327265\n",
       "14843  A A A A B A B B A B B B A A B B B B A B  8.243839"
      ]
     },
     "execution_count": 42,
     "metadata": {},
     "output_type": "execute_result"
    }
   ],
   "source": [
    "df.sample(5)"
   ]
  },
  {
   "cell_type": "markdown",
   "metadata": {},
   "source": [
    "## Format the target (i.e. E_adh)"
   ]
  },
  {
   "cell_type": "markdown",
   "metadata": {},
   "source": [
    "The aim of this dataset is to predict the adhesive Free Energy from the polymer sequence. Let's inspect only the 'adhesive Free Energy' column"
   ]
  },
  {
   "cell_type": "code",
   "execution_count": 43,
   "metadata": {},
   "outputs": [],
   "source": [
    "TARGET_COL = 'E_adh'"
   ]
  },
  {
   "cell_type": "code",
   "execution_count": 44,
   "metadata": {},
   "outputs": [
    {
     "data": {
      "text/plain": [
       "2114     7.835486\n",
       "7977     7.849286\n",
       "14806    8.674737\n",
       "660      8.343950\n",
       "9122     8.368444\n",
       "Name: E_adh, dtype: float64"
      ]
     },
     "execution_count": 44,
     "metadata": {},
     "output_type": "execute_result"
    }
   ],
   "source": [
    "df[TARGET_COL].sample(5)"
   ]
  },
  {
   "cell_type": "code",
   "execution_count": 45,
   "metadata": {},
   "outputs": [
    {
     "name": "stdout",
     "output_type": "stream",
     "text": [
      "The datatypes in the \"E_adh\" colomn:\n",
      "16000x <class 'float'>\n"
     ]
    }
   ],
   "source": [
    "count_types(df, TARGET_COL)"
   ]
  },
  {
   "cell_type": "code",
   "execution_count": 46,
   "metadata": {},
   "outputs": [
    {
     "name": "stdout",
     "output_type": "stream",
     "text": [
      "The median of the \"E_adh\" column is 8.203660316666666\n"
     ]
    },
    {
     "data": {
      "text/plain": [
       "Text(0, 0.5, 'count')"
      ]
     },
     "execution_count": 46,
     "metadata": {},
     "output_type": "execute_result"
    },
    {
     "data": {
      "image/png": "[encoded data removed]",
      "text/plain": [
       "<Figure size 640x480 with 1 Axes>"
      ]
     },
     "metadata": {},
     "output_type": "display_data"
    }
   ],
   "source": [
    "fig, ax = plt.subplots(1,1) #initate plot\n",
    "\n",
    "# plot target\n",
    "df[TARGET_COL].hist(ax = ax)\n",
    "\n",
    "#get median yield\n",
    "median = df[TARGET_COL].median()\n",
    "print(f'The median of the \"{TARGET_COL}\" column is {median}')\n",
    "\n",
    "\n",
    "#add a vertical line of the median\n",
    "ax.vlines(median, 0, 3200,\n",
    "          colors='black')\n",
    "\n",
    "ax.set_title(f'{TARGET_COL} (n = {len(df)})')\n",
    "ax.set_xlabel(TARGET_COL)\n",
    "ax.set_ylabel('count')"
   ]
  },
  {
   "cell_type": "markdown",
   "metadata": {},
   "source": [
    "The first goal is to create two classes; protocols that lead to a low target property (< median) and protocols that lead to a high target property (> median)"
   ]
  },
  {
   "cell_type": "markdown",
   "metadata": {},
   "source": [
    "We can do this in a few ways, all leading the same split."
   ]
  },
  {
   "cell_type": "code",
   "execution_count": 47,
   "metadata": {},
   "outputs": [
    {
     "name": "stdout",
     "output_type": "stream",
     "text": [
      "The \"E_adh_2classes\" column contains:\n",
      "\t8000x 0\n",
      "\t8000x 1\n"
     ]
    }
   ],
   "source": [
    "\n",
    "#with pandas qcut () (see https://pandas.pydata.org/docs/reference/api/pandas.qcut.html)\n",
    "\n",
    "N_CLASSES = 2\n",
    "CLASS_COL = f'{TARGET_COL}_{N_CLASSES}classes' # name of new column\n",
    "\n",
    "df[CLASS_COL] = pd.qcut(df[TARGET_COL], #column of interest\n",
    "                            q = N_CLASSES, # number of classes\n",
    "                            labels= range(N_CLASSES), #the labels of the classes\n",
    "                            ) \n",
    "\n",
    "count_classes(df, column=CLASS_COL)\n"
   ]
  },
  {
   "attachments": {},
   "cell_type": "markdown",
   "metadata": {},
   "source": [
    "### Format the prompt (i.e. the polymer sequence)"
   ]
  },
  {
   "cell_type": "markdown",
   "metadata": {},
   "source": [
    "Let's create a template string. We will later substitues all the properties in the curly brackets with the respective values of each entry. "
   ]
  },
  {
   "cell_type": "code",
   "execution_count": 54,
   "metadata": {},
   "outputs": [],
   "source": [
    "TEMPLATE = \"a co-polymer with sequence {SEQUENCE}\"\n",
    "\n",
    "def format_row_representation(row, template):\n",
    "    prompt = template.format(\n",
    "        **{\n",
    "            \"SEQUENCE\": row[\"sequence\"], # we use the template the format the row. Here the CANMOL in the curly brackets in the previous row is converted into the value of the row\n",
    "        }\n",
    "    )\n",
    "\n",
    "    return prompt"
   ]
  },
  {
   "cell_type": "markdown",
   "metadata": {},
   "source": [
    "Let's see the entries are converted"
   ]
  },
  {
   "cell_type": "code",
   "execution_count": 55,
   "metadata": {},
   "outputs": [
    {
     "data": {
      "text/plain": [
       "'a co-polymer with sequence B B B B A A B B B A B A B B B A B B B B'"
      ]
     },
     "execution_count": 55,
     "metadata": {},
     "output_type": "execute_result"
    }
   ],
   "source": [
    "row_number = 0 # change to see the prompt for row X\n",
    "format_row_representation(df.iloc[row_number], TEMPLATE)"
   ]
  },
  {
   "cell_type": "markdown",
   "metadata": {},
   "source": [
    "loop over the all the rows in the dataframe and create a new 'prompt' column with all the prompts. "
   ]
  },
  {
   "cell_type": "code",
   "execution_count": 58,
   "metadata": {},
   "outputs": [],
   "source": [
    "REPRESENTATION_COL = 'sequence'\n",
    "NEW_REPR_COL = f'{REPRESENTATION_COL}_prompt'\n",
    "\n",
    "df[NEW_REPR_COL] = [format_row_representation(row, TEMPLATE) for _, row in df.iterrows()]"
   ]
  },
  {
   "cell_type": "markdown",
   "metadata": {},
   "source": [
    "We can look at the final results, i.e. display only the prompt and the respective 'yield_class' (higher or lower than median)"
   ]
  },
  {
   "cell_type": "code",
   "execution_count": 59,
   "metadata": {},
   "outputs": [
    {
     "data": {
      "text/html": [
       "<div>\n",
       "<style scoped>\n",
       "    .dataframe tbody tr th:only-of-type {\n",
       "        vertical-align: middle;\n",
       "    }\n",
       "\n",
       "    .dataframe tbody tr th {\n",
       "        vertical-align: top;\n",
       "    }\n",
       "\n",
       "    .dataframe thead th {\n",
       "        text-align: right;\n",
       "    }\n",
       "</style>\n",
       "<table border=\"1\" class=\"dataframe\">\n",
       "  <thead>\n",
       "    <tr style=\"text-align: right;\">\n",
       "      <th></th>\n",
       "      <th>sequence_prompt</th>\n",
       "      <th>E_adh_2classes</th>\n",
       "    </tr>\n",
       "  </thead>\n",
       "  <tbody>\n",
       "    <tr>\n",
       "      <th>3460</th>\n",
       "      <td>a co-polymer with sequence B B B B B B A A B B...</td>\n",
       "      <td>0</td>\n",
       "    </tr>\n",
       "    <tr>\n",
       "      <th>6641</th>\n",
       "      <td>a co-polymer with sequence B A A B B B B A A B...</td>\n",
       "      <td>1</td>\n",
       "    </tr>\n",
       "    <tr>\n",
       "      <th>11471</th>\n",
       "      <td>a co-polymer with sequence B A B A B B B B B A...</td>\n",
       "      <td>0</td>\n",
       "    </tr>\n",
       "    <tr>\n",
       "      <th>14851</th>\n",
       "      <td>a co-polymer with sequence A A A A A B A A B A...</td>\n",
       "      <td>1</td>\n",
       "    </tr>\n",
       "    <tr>\n",
       "      <th>3048</th>\n",
       "      <td>a co-polymer with sequence B A A B B A B A A B...</td>\n",
       "      <td>0</td>\n",
       "    </tr>\n",
       "  </tbody>\n",
       "</table>\n",
       "</div>"
      ],
      "text/plain": [
       "                                         sequence_prompt E_adh_2classes\n",
       "3460   a co-polymer with sequence B B B B B B A A B B...              0\n",
       "6641   a co-polymer with sequence B A A B B B B A A B...              1\n",
       "11471  a co-polymer with sequence B A B A B B B B B A...              0\n",
       "14851  a co-polymer with sequence A A A A A B A A B A...              1\n",
       "3048   a co-polymer with sequence B A A B B A B A A B...              0"
      ]
     },
     "execution_count": 59,
     "metadata": {},
     "output_type": "execute_result"
    }
   ],
   "source": [
    "df[[NEW_REPR_COL, CLASS_COL]].sample(5)"
   ]
  },
  {
   "cell_type": "markdown",
   "metadata": {},
   "source": [
    "At any point, we can save the dataframe as a csv file"
   ]
  },
  {
   "cell_type": "code",
   "execution_count": 61,
   "metadata": {},
   "outputs": [],
   "source": [
    "FORMATTED_DATA_FILE = os.path.join('experiment', 'polymers_formattedData.csv')\n",
    "\n",
    "df.to_csv(FORMATTED_DATA_FILE)\n",
    "\n",
    "df.to_csv(FORMATTED_DATA_FILE)"
   ]
  }
 ],
 "metadata": {
  "kernelspec": {
   "display_name": "gptchem",
   "language": "python",
   "name": "python3"
  },
  "language_info": {
   "codemirror_mode": {
    "name": "ipython",
    "version": 3
   },
   "file_extension": ".py",
   "mimetype": "text/x-python",
   "name": "python",
   "nbconvert_exporter": "python",
   "pygments_lexer": "ipython3",
   "version": "3.10.12"
  },
  "orig_nbformat": 4
 },
 "nbformat": 4,
 "nbformat_minor": 2
}
