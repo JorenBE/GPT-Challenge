{
 "cells": [
  {
   "cell_type": "markdown",
   "metadata": {},
   "source": [
    "## Import nessacary libraries"
   ]
  },
  {
   "cell_type": "code",
   "execution_count": 48,
   "metadata": {},
   "outputs": [],
   "source": [
    "from fastcore.xtras import load_pickle # to load saved output files\n",
    "import pandas as pd # data science\n",
    "import os # operating system\n",
    "from glob import glob # path names\n",
    "import matplotlib.pyplot as plt # plotting"
   ]
  },
  {
   "cell_type": "markdown",
   "metadata": {},
   "source": [
    "The results of the experiment are saved in standarized pickle files in the 'out' folder"
   ]
  },
  {
   "cell_type": "code",
   "execution_count": 49,
   "metadata": {},
   "outputs": [
    {
     "name": "stdout",
     "output_type": "stream",
     "text": [
      "Out folder of experiment: experiment/out\n"
     ]
    }
   ],
   "source": [
    "OUT_FOLDER = os.path.join('experiment', 'out')\n",
    "print(f\"Out folder of experiment: {OUT_FOLDER}\")"
   ]
  },
  {
   "cell_type": "markdown",
   "metadata": {},
   "source": [
    "Create a list with all the output pickle files"
   ]
  },
  {
   "cell_type": "code",
   "execution_count": 50,
   "metadata": {},
   "outputs": [
    {
     "name": "stdout",
     "output_type": "stream",
     "text": [
      "Pickles found in experiment/out: 12\n"
     ]
    }
   ],
   "source": [
    "if not os.path.exists(OUT_FOLDER):\n",
    "    raise FileExistsError('Cannot find folder {}'.format(OUT_FOLDER))\n",
    "\n",
    "all_res = glob(f'{OUT_FOLDER}/*.pkl')\n",
    "print('Pickles found in {}: {}'.format(OUT_FOLDER, len(all_res)))\n"
   ]
  },
  {
   "cell_type": "markdown",
   "metadata": {},
   "source": [
    "Let's inspect one pickle file"
   ]
  },
  {
   "cell_type": "code",
   "execution_count": 51,
   "metadata": {},
   "outputs": [
    {
     "name": "stdout",
     "output_type": "stream",
     "text": [
      "results {'accuracy': 0.98, 'acc_macro': 0.98, 'racc': 0.5, 'kappa': 0.96, 'confusion_matrix': pycm.ConfusionMatrix(classes: [0, 1]), 'f1_macro': 0.9799919967987194, 'f1_micro': 0.98, 'frac_valid': 1.0, 'all_y_true': [0, 1, 0, 0, 1, 0, 1, 1, 1, 0, 0, 1, 1, 0, 1, 0, 0, 1, 0, 1, 0, 1, 1, 0, 1, 0, 0, 1, 1, 1, 0, 1, 1, 0, 1, 0, 0, 0, 1, 1, 1, 0, 0, 0, 0, 1, 0, 1, 1, 0], 'all_y_pred': array([0, 1, 1, 0, 1, 0, 1, 1, 1, 0, 0, 1, 1, 0, 1, 0, 0, 1, 0, 1, 0, 1,\n",
      "       1, 0, 1, 0, 0, 1, 1, 1, 0, 1, 1, 0, 1, 0, 0, 0, 1, 1, 1, 0, 0, 0,\n",
      "       0, 1, 0, 1, 1, 0]), 'valid_indices': [0, 1, 2, 3, 4, 5, 6, 7, 8, 9, 10, 11, 12, 13, 14, 15, 16, 17, 18, 19, 20, 21, 22, 23, 24, 25, 26, 27, 28, 29, 30, 31, 32, 33, 34, 35, 36, 37, 38, 39, 40, 41, 42, 43, 44, 45, 46, 47, 48, 49], 'might_have_rounded_floats': False}\n",
      "predictions [0 1 1 0 1 0 1 1 1 0 0 1 1 0 1 0 0 1 0 1 0 1 1 0 1 0 0 1 1 1 0 1 1 0 1 0 0\n",
      " 0 1 1 1 0 0 0 0 1 0 1 1 0]\n",
      "true [0 1 0 0 1 0 1 1 1 0 0 1 1 0 1 0 0 1 0 1 0 1 1 0 1 0 0 1 1 1 0 1 1 0 1 0 0\n",
      " 0 1 1 1 0 0 0 0 1 0 1 1 0]\n",
      "train_size 5000\n",
      "config {'property_name': 'Adhesive Free Energy', 'tune_settings': {'num_train_epochs': 4, 'learning_rate': 0.0003, 'per_device_train_batch_size': 10}, 'tokenizer_kwargs': {'cutoff_len': 128}, 'base_model': 'EleutherAI/gpt-j-6b', 'batch_size': 10, 'inference_batch_size': 2}\n",
      "data_summary {'datafile': 'train_mit.csv', 'target': 'E_adh_2classes', 'representation': 'sequence_prompt'}\n"
     ]
    }
   ],
   "source": [
    "INDEX = 0\n",
    "pickle_example = load_pickle(all_res[INDEX])\n",
    "for key, value in pickle_example.items():\n",
    "    print(key, value)"
   ]
  },
  {
   "cell_type": "markdown",
   "metadata": {},
   "source": [
    "These are indeed the parameters and metrics saved in 'experiment/run_experiment_sh.py'"
   ]
  },
  {
   "cell_type": "markdown",
   "metadata": {},
   "source": [
    "### Extract all the metrics and data from the pickle files"
   ]
  },
  {
   "cell_type": "code",
   "execution_count": 52,
   "metadata": {},
   "outputs": [],
   "source": [
    "def get_all_results(all_res:list):\n",
    "    result_metrics = []\n",
    "    result_confusion_matrices = []\n",
    "\n",
    "    for results in all_res:\n",
    "        res_full = load_pickle(results)\n",
    "        res = res_full['results']\n",
    "        summary = {\n",
    "            'size': res_full['train_size'],\n",
    "            'representation': res_full['data_summary']['representation'],\n",
    "            #'target': res_full['data_summary']['target'],\n",
    "            'accuracy': res['accuracy'],\n",
    "            'f1_macro': res['f1_macro'],\n",
    "            'f1_micro': res['f1_micro'],\n",
    "            'kappa': res['kappa'],\n",
    "            'num_epochs': res_full['config']['tune_settings']['num_train_epochs'],\n",
    "            'lr': res_full['config']['tune_settings']['learning_rate'],\n",
    "            'bins': len(set(res['all_y_true'])),\n",
    "            'test_size': len(res['all_y_true'])\n",
    "        \n",
    "        }\n",
    "        confusion_matrix = {\n",
    "            'all_y_true':res['all_y_true'],\n",
    "            'all_y_pred':res['all_y_pred']\n",
    "        }\n",
    "        result_confusion_matrices.append(confusion_matrix)\n",
    "        result_metrics.append(summary)\n",
    "    \n",
    "    return result_metrics, result_confusion_matrices\n",
    "\n",
    "results_metrics, results_cms = get_all_results(all_res) # we get the metrics and the data required for creating the confusion matrices (see later)\n"
   ]
  },
  {
   "cell_type": "markdown",
   "metadata": {},
   "source": [
    "With the pandas library, we can create an overview"
   ]
  },
  {
   "cell_type": "code",
   "execution_count": 53,
   "metadata": {},
   "outputs": [],
   "source": [
    "compiled_res = pd.DataFrame(results_metrics)\n",
    "grouped_res =compiled_res.groupby(['bins', 'num_epochs', 'representation', 'size']).agg(['mean', 'sem'])"
   ]
  },
  {
   "cell_type": "code",
   "execution_count": 54,
   "metadata": {},
   "outputs": [
    {
     "data": {
      "text/html": [
       "<div>\n",
       "<style scoped>\n",
       "    .dataframe tbody tr th:only-of-type {\n",
       "        vertical-align: middle;\n",
       "    }\n",
       "\n",
       "    .dataframe tbody tr th {\n",
       "        vertical-align: top;\n",
       "    }\n",
       "\n",
       "    .dataframe thead tr th {\n",
       "        text-align: left;\n",
       "    }\n",
       "\n",
       "    .dataframe thead tr:last-of-type th {\n",
       "        text-align: right;\n",
       "    }\n",
       "</style>\n",
       "<table border=\"1\" class=\"dataframe\">\n",
       "  <thead>\n",
       "    <tr>\n",
       "      <th></th>\n",
       "      <th></th>\n",
       "      <th></th>\n",
       "      <th></th>\n",
       "      <th colspan=\"2\" halign=\"left\">accuracy</th>\n",
       "      <th colspan=\"2\" halign=\"left\">f1_macro</th>\n",
       "      <th colspan=\"2\" halign=\"left\">f1_micro</th>\n",
       "      <th colspan=\"2\" halign=\"left\">kappa</th>\n",
       "      <th colspan=\"2\" halign=\"left\">lr</th>\n",
       "      <th colspan=\"2\" halign=\"left\">test_size</th>\n",
       "    </tr>\n",
       "    <tr>\n",
       "      <th></th>\n",
       "      <th></th>\n",
       "      <th></th>\n",
       "      <th></th>\n",
       "      <th>mean</th>\n",
       "      <th>sem</th>\n",
       "      <th>mean</th>\n",
       "      <th>sem</th>\n",
       "      <th>mean</th>\n",
       "      <th>sem</th>\n",
       "      <th>mean</th>\n",
       "      <th>sem</th>\n",
       "      <th>mean</th>\n",
       "      <th>sem</th>\n",
       "      <th>mean</th>\n",
       "      <th>sem</th>\n",
       "    </tr>\n",
       "    <tr>\n",
       "      <th>bins</th>\n",
       "      <th>num_epochs</th>\n",
       "      <th>representation</th>\n",
       "      <th>size</th>\n",
       "      <th></th>\n",
       "      <th></th>\n",
       "      <th></th>\n",
       "      <th></th>\n",
       "      <th></th>\n",
       "      <th></th>\n",
       "      <th></th>\n",
       "      <th></th>\n",
       "      <th></th>\n",
       "      <th></th>\n",
       "      <th></th>\n",
       "      <th></th>\n",
       "    </tr>\n",
       "  </thead>\n",
       "  <tbody>\n",
       "    <tr>\n",
       "      <th rowspan=\"4\" valign=\"top\">2</th>\n",
       "      <th rowspan=\"4\" valign=\"top\">4</th>\n",
       "      <th rowspan=\"4\" valign=\"top\">sequence_prompt</th>\n",
       "      <th>100</th>\n",
       "      <td>0.593333</td>\n",
       "      <td>0.048074</td>\n",
       "      <td>0.501586</td>\n",
       "      <td>0.085873</td>\n",
       "      <td>0.593333</td>\n",
       "      <td>0.048074</td>\n",
       "      <td>0.186667</td>\n",
       "      <td>0.096148</td>\n",
       "      <td>0.0003</td>\n",
       "      <td>0.0</td>\n",
       "      <td>50.0</td>\n",
       "      <td>0.0</td>\n",
       "    </tr>\n",
       "    <tr>\n",
       "      <th>500</th>\n",
       "      <td>0.880000</td>\n",
       "      <td>0.020000</td>\n",
       "      <td>0.879006</td>\n",
       "      <td>0.020448</td>\n",
       "      <td>0.880000</td>\n",
       "      <td>0.020000</td>\n",
       "      <td>0.760000</td>\n",
       "      <td>0.040000</td>\n",
       "      <td>0.0003</td>\n",
       "      <td>0.0</td>\n",
       "      <td>50.0</td>\n",
       "      <td>0.0</td>\n",
       "    </tr>\n",
       "    <tr>\n",
       "      <th>1000</th>\n",
       "      <td>0.900000</td>\n",
       "      <td>0.011547</td>\n",
       "      <td>0.899880</td>\n",
       "      <td>0.011566</td>\n",
       "      <td>0.900000</td>\n",
       "      <td>0.011547</td>\n",
       "      <td>0.800000</td>\n",
       "      <td>0.023094</td>\n",
       "      <td>0.0003</td>\n",
       "      <td>0.0</td>\n",
       "      <td>50.0</td>\n",
       "      <td>0.0</td>\n",
       "    </tr>\n",
       "    <tr>\n",
       "      <th>5000</th>\n",
       "      <td>0.926667</td>\n",
       "      <td>0.035277</td>\n",
       "      <td>0.926487</td>\n",
       "      <td>0.035433</td>\n",
       "      <td>0.926667</td>\n",
       "      <td>0.035277</td>\n",
       "      <td>0.853333</td>\n",
       "      <td>0.070553</td>\n",
       "      <td>0.0003</td>\n",
       "      <td>0.0</td>\n",
       "      <td>50.0</td>\n",
       "      <td>0.0</td>\n",
       "    </tr>\n",
       "  </tbody>\n",
       "</table>\n",
       "</div>"
      ],
      "text/plain": [
       "                                      accuracy            f1_macro            \\\n",
       "                                          mean       sem      mean       sem   \n",
       "bins num_epochs representation  size                                           \n",
       "2    4          sequence_prompt 100   0.593333  0.048074  0.501586  0.085873   \n",
       "                                500   0.880000  0.020000  0.879006  0.020448   \n",
       "                                1000  0.900000  0.011547  0.899880  0.011566   \n",
       "                                5000  0.926667  0.035277  0.926487  0.035433   \n",
       "\n",
       "                                      f1_micro               kappa            \\\n",
       "                                          mean       sem      mean       sem   \n",
       "bins num_epochs representation  size                                           \n",
       "2    4          sequence_prompt 100   0.593333  0.048074  0.186667  0.096148   \n",
       "                                500   0.880000  0.020000  0.760000  0.040000   \n",
       "                                1000  0.900000  0.011547  0.800000  0.023094   \n",
       "                                5000  0.926667  0.035277  0.853333  0.070553   \n",
       "\n",
       "                                          lr      test_size       \n",
       "                                        mean  sem      mean  sem  \n",
       "bins num_epochs representation  size                              \n",
       "2    4          sequence_prompt 100   0.0003  0.0      50.0  0.0  \n",
       "                                500   0.0003  0.0      50.0  0.0  \n",
       "                                1000  0.0003  0.0      50.0  0.0  \n",
       "                                5000  0.0003  0.0      50.0  0.0  "
      ]
     },
     "execution_count": 54,
     "metadata": {},
     "output_type": "execute_result"
    }
   ],
   "source": [
    "grouped_res\n"
   ]
  },
  {
   "cell_type": "markdown",
   "metadata": {},
   "source": [
    "## Plot the experiment"
   ]
  },
  {
   "cell_type": "code",
   "execution_count": 55,
   "metadata": {},
   "outputs": [
    {
     "data": {
      "image/png": "[encoded data removed]",
      "text/plain": [
       "<Figure size 500x444.984 with 4 Axes>"
      ]
     },
     "metadata": {},
     "output_type": "display_data"
    }
   ],
   "source": [
    "from scipy.stats import sem\n",
    "from scipy.constants import golden\n",
    "\n",
    "ONE_COL_WIDTH_INCH = 5\n",
    "TWO_COL_WIDTH_INCH = 7.2\n",
    "\n",
    "ONE_COL_GOLDEN_RATIO_HEIGHT_INCH = ONE_COL_WIDTH_INCH / golden\n",
    "TWO_COL_GOLDEN_RATIO_HEIGHT_INCH = TWO_COL_WIDTH_INCH / golden\n",
    "\n",
    "BINS = 2\n",
    "REPRESENTATION = 'sequence_prompt'\n",
    "N_EPOCHS = 4\n",
    "\n",
    "fig, ax = plt.subplots(4, 1,\n",
    "                       figsize=(ONE_COL_WIDTH_INCH, TWO_COL_GOLDEN_RATIO_HEIGHT_INCH),\n",
    "                       constrained_layout = True , \n",
    "                       sharex=True\n",
    "                       )\n",
    " \n",
    "for num_epochs in [N_EPOCHS]:\n",
    "    # loop over metrics \n",
    "    for i, metric in enumerate(['accuracy', 'f1_macro', 'f1_micro', 'kappa']):\n",
    "        # plot values and standard deviation\n",
    "        ax[i].plot(\n",
    "            grouped_res.loc[BINS, num_epochs,REPRESENTATION].index, \n",
    "            grouped_res.loc[BINS, num_epochs,REPRESENTATION][metric]['mean'],\n",
    "            marker='o',\n",
    "            label=f'{num_epochs} epochs'\n",
    "        )\n",
    "        ax[i].fill_between(\n",
    "            grouped_res.loc[BINS, num_epochs,REPRESENTATION].index,\n",
    "            grouped_res.loc[BINS, num_epochs,REPRESENTATION][metric]['mean'] - grouped_res.loc[BINS, num_epochs,REPRESENTATION][metric]['sem'],\n",
    "            grouped_res.loc[BINS, num_epochs,REPRESENTATION][metric]['mean'] + grouped_res.loc[BINS, num_epochs,REPRESENTATION][metric]['sem'],\n",
    "            alpha=0.2\n",
    "        )\n",
    "        \n",
    "        ax[i].set_ylim(0,1)\n",
    "        ax[i].set_xticks((list(compiled_res['size'].unique())))\n",
    "        ax[i].set_title(metric)\n",
    "\n",
    "ax[-1].set_xlabel('training set size')\n",
    "\n",
    "fig.suptitle('Polymers - {} - {}'.format(REPRESENTATION, 'binary'), fontsize=16)\n",
    "\n",
    "fig.savefig(f'AdhesiveFreeE-{REPRESENTATION}-binary-{BINS}bin-classification-results.pdf', bbox_inches='tight')"
   ]
  }
 ],
 "metadata": {
  "kernelspec": {
   "display_name": "predirra",
   "language": "python",
   "name": "python3"
  },
  "language_info": {
   "codemirror_mode": {
    "name": "ipython",
    "version": 3
   },
   "file_extension": ".py",
   "mimetype": "text/x-python",
   "name": "python",
   "nbconvert_exporter": "python",
   "pygments_lexer": "ipython3",
   "version": "3.10.12"
  }
 },
 "nbformat": 4,
 "nbformat_minor": 2
}
