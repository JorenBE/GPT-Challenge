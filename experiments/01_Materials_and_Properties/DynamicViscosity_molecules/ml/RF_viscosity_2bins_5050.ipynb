{
 "cells": [
  {
   "cell_type": "markdown",
   "metadata": {},
   "source": [
    "## Random Forest - viscosity - 2bins - 50/50"
   ]
  },
  {
   "cell_type": "code",
   "execution_count": 1,
   "metadata": {},
   "outputs": [],
   "source": [
    "import pandas as pd\n",
    "import numpy as np\n",
    "from sklearn.model_selection import train_test_split\n",
    "from sklearn.preprocessing import LabelEncoder, OneHotEncoder\n",
    "from sklearn.metrics import accuracy_score, f1_score, cohen_kappa_score, r2_score, mean_absolute_error, root_mean_squared_error\n",
    "from sklearn.ensemble import RandomForestClassifier\n",
    "import matplotlib.pyplot as plt\n",
    "from sklearn import metrics\n",
    "import pycm\n",
    "from ast import literal_eval\n",
    "import sys\n",
    "sys.path.append(\"../plotutils/\")\n",
    "from plotutils import *\n",
    "plt.style.use(\"../plotutils/your.mplstyle\")\n",
    "from rdkit import Chem\n",
    "from rdkit.Chem import rdFingerprintGenerator"
   ]
  },
  {
   "cell_type": "code",
   "execution_count": 2,
   "metadata": {
    "scrolled": true
   },
   "outputs": [
    {
     "name": "stdout",
     "output_type": "stream",
     "text": [
      "<class 'pandas.core.frame.DataFrame'>\n",
      "RangeIndex: 100 entries, 0 to 99\n",
      "Data columns (total 7 columns):\n",
      " #   Column                                       Non-Null Count  Dtype  \n",
      "---  ------                                       --------------  -----  \n",
      " 0   Chemicals                                    100 non-null    object \n",
      " 1   SMILES                                       100 non-null    object \n",
      " 2   Temperature (kelvin)                         100 non-null    float64\n",
      " 3   Dynamic Viscosity (cp)                       100 non-null    float64\n",
      " 4   Classification (based on dynamic viscosity)  100 non-null    object \n",
      " 5   viscosity_2bins_5050                         100 non-null    int64  \n",
      " 6   viscosity_7228                               100 non-null    int64  \n",
      "dtypes: float64(2), int64(2), object(3)\n",
      "memory usage: 5.6+ KB\n"
     ]
    }
   ],
   "source": [
    "df = pd.read_csv(f\"../Viscosity_dataset.csv\", sep=';')\n",
    "df.info()"
   ]
  },
  {
   "cell_type": "code",
   "execution_count": 8,
   "metadata": {},
   "outputs": [],
   "source": [
    "def smiles_to_fingerprint(smiles) -> np.ndarray:\n",
    "    \"\"\"\n",
    "    Convert a SMILES string to a molecular fingerprint using RDKit.\n",
    "    \"\"\"\n",
    "    mol = Chem.MolFromSmiles(smiles)\n",
    "    if mol is None:\n",
    "        return None\n",
    "    # generate Morgan fingerprint\n",
    "    mfpgen = rdFingerprintGenerator.GetMorganGenerator(radius=20, fpSize=512)\n",
    "    fingerprint = mfpgen.GetFingerprint(mol)\n",
    "\n",
    "    return np.array(fingerprint)"
   ]
  },
  {
   "cell_type": "code",
   "execution_count": 9,
   "metadata": {},
   "outputs": [
    {
     "data": {
      "text/plain": [
       "0     [0, 0, 1, 0, 0, 0, 0, 0, 0, 0, 0, 1, 0, 0, 0, ...\n",
       "1     [0, 0, 0, 0, 0, 0, 0, 0, 0, 0, 0, 1, 0, 0, 0, ...\n",
       "2     [0, 1, 0, 0, 0, 0, 0, 0, 0, 0, 0, 0, 0, 0, 0, ...\n",
       "3     [0, 0, 0, 0, 0, 0, 0, 0, 0, 0, 0, 0, 0, 0, 0, ...\n",
       "4     [0, 0, 0, 0, 0, 0, 0, 0, 0, 0, 0, 0, 0, 0, 0, ...\n",
       "                            ...                        \n",
       "95    [0, 0, 0, 0, 0, 0, 0, 0, 0, 0, 0, 0, 0, 0, 0, ...\n",
       "96    [0, 0, 0, 0, 0, 0, 0, 0, 0, 0, 0, 0, 0, 0, 0, ...\n",
       "97    [0, 0, 0, 0, 0, 0, 0, 0, 0, 0, 0, 0, 0, 0, 0, ...\n",
       "98    [0, 0, 0, 0, 0, 0, 0, 0, 0, 0, 0, 0, 0, 0, 0, ...\n",
       "99    [0, 0, 0, 0, 0, 0, 0, 0, 0, 0, 0, 0, 0, 0, 0, ...\n",
       "Name: mp_bin, Length: 100, dtype: object"
      ]
     },
     "execution_count": 9,
     "metadata": {},
     "output_type": "execute_result"
    }
   ],
   "source": [
    "df[\"mp_bin\"] = df[\"SMILES\"].apply(smiles_to_fingerprint)\n",
    "df[\"mp_bin\"]"
   ]
  },
  {
   "cell_type": "code",
   "execution_count": 18,
   "metadata": {},
   "outputs": [],
   "source": [
    "def prepare_dataset_classification(\n",
    "    df,\n",
    "    target = \"viscosity_2bins_5050\",\n",
    "    representation = \"mp_bin\",\n",
    "    random_state=42,\n",
    "    train_size=80\n",
    "):\n",
    "    df_train, df_test = train_test_split(\n",
    "        df,\n",
    "        train_size=train_size,\n",
    "        random_state=random_state,\n",
    "        stratify=df[target].astype(int).values,\n",
    "    )\n",
    "    print(len(df_train), len(df_test))\n",
    "    \n",
    "    X_train, y_train = df_train[representation], df_train[target]\n",
    "    X_test, y_test = df_test[representation], df_test[target]\n",
    "    \n",
    "    return list(X_train), y_train, list(X_test), y_test"
   ]
  },
  {
   "cell_type": "code",
   "execution_count": 19,
   "metadata": {},
   "outputs": [],
   "source": [
    "def train_and_evaluate_classifier(X_train, y_train, X_test, y_test, random_state=42):\n",
    "    clf = RandomForestClassifier(\n",
    "        n_estimators=200, \n",
    "        random_state=random_state,\n",
    "        verbose=True\n",
    "    )\n",
    "    \n",
    "    clf.fit(X_train, y_train)\n",
    "    \n",
    "    y_pred = clf.predict(X_test)\n",
    "    y_test = np.array(y_test)\n",
    "    \n",
    "    acc = accuracy_score(y_test, y_pred)\n",
    "    f1_macro = f1_score(y_test, y_pred, average=\"macro\")\n",
    "    f1_micro = f1_score(y_test, y_pred, average=\"micro\")\n",
    "    f1_weighted = f1_score(y_test, y_pred, average='weighted')\n",
    "    kappa = cohen_kappa_score(y_test, y_pred)\n",
    "    \n",
    "    return y_test, y_pred, acc, f1_macro, f1_micro, f1_weighted, kappa"
   ]
  },
  {
   "cell_type": "code",
   "execution_count": 20,
   "metadata": {},
   "outputs": [],
   "source": [
    "def metrics_dict():\n",
    "    metrics_dict = {\n",
    "        \"train_size\": train_size,\n",
    "        \"y_true\": y_test_all,\n",
    "        \"y_pred\": y_pred_all,\n",
    "        \"accuracy\": acc_scores,\n",
    "        \"f1_macro\": f1macro_scores,\n",
    "        \"f1_micro\": f1micro_scores,\n",
    "        \"f1_weighted\": f1weighted_scores,\n",
    "        \"kappa\": kappa_scores\n",
    "    }\n",
    "    return metrics_dict"
   ]
  },
  {
   "cell_type": "markdown",
   "metadata": {},
   "source": [
    "### training size = 40"
   ]
  },
  {
   "cell_type": "code",
   "execution_count": 21,
   "metadata": {},
   "outputs": [],
   "source": [
    "train_size = 40\n",
    "iterations = 10\n",
    "y_test_all = []\n",
    "y_pred_all = []\n",
    "acc_scores = []\n",
    "f1macro_scores = []\n",
    "f1micro_scores = []\n",
    "f1weighted_scores = []\n",
    "kappa_scores = []"
   ]
  },
  {
   "cell_type": "code",
   "execution_count": 22,
   "metadata": {
    "scrolled": true
   },
   "outputs": [
    {
     "name": "stdout",
     "output_type": "stream",
     "text": [
      "-------------Iteration 1/10\n",
      "40 60\n",
      "random_state = 42\n",
      "Accuracy: 0.75\n",
      "F1 macro: 0.7413049726933026\n",
      "F1 micro: 0.75\n",
      "F1 weighted: 0.7413049726933026\n",
      "Kappa: 0.5\n",
      "-------------Iteration 2/10\n",
      "40 60\n",
      "random_state = 43\n"
     ]
    },
    {
     "name": "stderr",
     "output_type": "stream",
     "text": [
      "[Parallel(n_jobs=1)]: Done  49 tasks      | elapsed:    0.0s\n",
      "[Parallel(n_jobs=1)]: Done 199 tasks      | elapsed:    0.1s\n",
      "[Parallel(n_jobs=1)]: Done  49 tasks      | elapsed:    0.0s\n",
      "[Parallel(n_jobs=1)]: Done 199 tasks      | elapsed:    0.0s\n",
      "[Parallel(n_jobs=1)]: Done  49 tasks      | elapsed:    0.0s\n",
      "[Parallel(n_jobs=1)]: Done 199 tasks      | elapsed:    0.1s\n",
      "[Parallel(n_jobs=1)]: Done  49 tasks      | elapsed:    0.0s\n",
      "[Parallel(n_jobs=1)]: Done 199 tasks      | elapsed:    0.0s\n",
      "[Parallel(n_jobs=1)]: Done  49 tasks      | elapsed:    0.0s\n",
      "[Parallel(n_jobs=1)]: Done 199 tasks      | elapsed:    0.1s\n",
      "[Parallel(n_jobs=1)]: Done  49 tasks      | elapsed:    0.0s\n",
      "[Parallel(n_jobs=1)]: Done 199 tasks      | elapsed:    0.0s\n",
      "[Parallel(n_jobs=1)]: Done  49 tasks      | elapsed:    0.0s\n"
     ]
    },
    {
     "name": "stdout",
     "output_type": "stream",
     "text": [
      "Accuracy: 0.7166666666666667\n",
      "F1 macro: 0.7165879410947485\n",
      "F1 micro: 0.7166666666666667\n",
      "F1 weighted: 0.7165879410947485\n",
      "Kappa: 0.43333333333333335\n",
      "-------------Iteration 3/10\n",
      "40 60\n",
      "random_state = 44\n",
      "Accuracy: 0.6166666666666667\n",
      "F1 macro: 0.6033342914630642\n",
      "F1 micro: 0.6166666666666667\n",
      "F1 weighted: 0.6033342914630642\n",
      "Kappa: 0.23333333333333328\n",
      "-------------Iteration 4/10\n",
      "40 60\n",
      "random_state = 45\n"
     ]
    },
    {
     "name": "stderr",
     "output_type": "stream",
     "text": [
      "[Parallel(n_jobs=1)]: Done 199 tasks      | elapsed:    0.1s\n",
      "[Parallel(n_jobs=1)]: Done  49 tasks      | elapsed:    0.0s\n",
      "[Parallel(n_jobs=1)]: Done 199 tasks      | elapsed:    0.0s\n",
      "[Parallel(n_jobs=1)]: Done  49 tasks      | elapsed:    0.0s\n",
      "[Parallel(n_jobs=1)]: Done 199 tasks      | elapsed:    0.1s\n",
      "[Parallel(n_jobs=1)]: Done  49 tasks      | elapsed:    0.0s\n",
      "[Parallel(n_jobs=1)]: Done 199 tasks      | elapsed:    0.0s\n",
      "[Parallel(n_jobs=1)]: Done  49 tasks      | elapsed:    0.0s\n"
     ]
    },
    {
     "name": "stdout",
     "output_type": "stream",
     "text": [
      "Accuracy: 0.7666666666666667\n",
      "F1 macro: 0.765625\n",
      "F1 micro: 0.7666666666666667\n",
      "F1 weighted: 0.765625\n",
      "Kappa: 0.5333333333333333\n",
      "-------------Iteration 5/10\n",
      "40 60\n",
      "random_state = 46\n",
      "Accuracy: 0.6833333333333333\n",
      "F1 macro: 0.6760443307757886\n",
      "F1 micro: 0.6833333333333333\n",
      "F1 weighted: 0.6760443307757886\n",
      "Kappa: 0.3666666666666667\n",
      "-------------Iteration 6/10\n",
      "40 60\n",
      "random_state = 47\n"
     ]
    },
    {
     "name": "stderr",
     "output_type": "stream",
     "text": [
      "[Parallel(n_jobs=1)]: Done 199 tasks      | elapsed:    0.1s\n",
      "[Parallel(n_jobs=1)]: Done  49 tasks      | elapsed:    0.0s\n",
      "[Parallel(n_jobs=1)]: Done 199 tasks      | elapsed:    0.0s\n",
      "[Parallel(n_jobs=1)]: Done  49 tasks      | elapsed:    0.0s\n",
      "[Parallel(n_jobs=1)]: Done 199 tasks      | elapsed:    0.1s\n",
      "[Parallel(n_jobs=1)]: Done  49 tasks      | elapsed:    0.0s\n",
      "[Parallel(n_jobs=1)]: Done 199 tasks      | elapsed:    0.0s\n"
     ]
    },
    {
     "name": "stdout",
     "output_type": "stream",
     "text": [
      "Accuracy: 0.6666666666666666\n",
      "F1 macro: 0.6336996336996337\n",
      "F1 micro: 0.6666666666666666\n",
      "F1 weighted: 0.6336996336996337\n",
      "Kappa: 0.33333333333333337\n",
      "-------------Iteration 7/10\n",
      "40 60\n",
      "random_state = 48\n",
      "Accuracy: 0.75\n",
      "F1 macro: 0.7482517482517483\n",
      "F1 micro: 0.75\n",
      "F1 weighted: 0.7482517482517482\n",
      "Kappa: 0.5\n",
      "-------------Iteration 8/10\n",
      "40 60\n",
      "random_state = 49\n"
     ]
    },
    {
     "name": "stderr",
     "output_type": "stream",
     "text": [
      "[Parallel(n_jobs=1)]: Done  49 tasks      | elapsed:    0.0s\n",
      "[Parallel(n_jobs=1)]: Done 199 tasks      | elapsed:    0.1s\n",
      "[Parallel(n_jobs=1)]: Done  49 tasks      | elapsed:    0.0s\n",
      "[Parallel(n_jobs=1)]: Done 199 tasks      | elapsed:    0.0s\n",
      "[Parallel(n_jobs=1)]: Done  49 tasks      | elapsed:    0.0s\n",
      "[Parallel(n_jobs=1)]: Done 199 tasks      | elapsed:    0.1s\n",
      "[Parallel(n_jobs=1)]: Done  49 tasks      | elapsed:    0.0s\n",
      "[Parallel(n_jobs=1)]: Done 199 tasks      | elapsed:    0.0s\n"
     ]
    },
    {
     "name": "stdout",
     "output_type": "stream",
     "text": [
      "Accuracy: 0.6666666666666666\n",
      "F1 macro: 0.6474735605170387\n",
      "F1 micro: 0.6666666666666666\n",
      "F1 weighted: 0.6474735605170387\n",
      "Kappa: 0.33333333333333337\n",
      "-------------Iteration 9/10\n",
      "40 60\n",
      "random_state = 50\n",
      "Accuracy: 0.7833333333333333\n",
      "F1 macro: 0.7757976430008624\n",
      "F1 micro: 0.7833333333333333\n",
      "F1 weighted: 0.7757976430008623\n",
      "Kappa: 0.5666666666666667\n",
      "-------------Iteration 10/10\n",
      "40 60\n",
      "random_state = 51\n",
      "Accuracy: 0.75\n",
      "F1 macro: 0.7493734335839599\n",
      "F1 micro: 0.75\n",
      "F1 weighted: 0.7493734335839598\n",
      "Kappa: 0.5\n"
     ]
    },
    {
     "name": "stderr",
     "output_type": "stream",
     "text": [
      "[Parallel(n_jobs=1)]: Done  49 tasks      | elapsed:    0.0s\n",
      "[Parallel(n_jobs=1)]: Done 199 tasks      | elapsed:    0.1s\n",
      "[Parallel(n_jobs=1)]: Done  49 tasks      | elapsed:    0.0s\n",
      "[Parallel(n_jobs=1)]: Done 199 tasks      | elapsed:    0.0s\n"
     ]
    }
   ],
   "source": [
    "for n in range(iterations):\n",
    "    print(f\"-------------Iteration {n + 1}/{iterations}\")\n",
    "    random_state=42+n\n",
    "\n",
    "    X_train, y_train, X_test, y_test = prepare_dataset_classification(\n",
    "        df,\n",
    "        random_state=random_state,\n",
    "        train_size=train_size\n",
    "    )\n",
    "    print(f\"random_state = {random_state}\")\n",
    "\n",
    "    y_test, y_pred, acc, f1_macro, f1_micro, f1_weighted, kappa = train_and_evaluate_classifier(\n",
    "        X_train, \n",
    "        y_train, \n",
    "        X_test, \n",
    "        y_test, \n",
    "        random_state=random_state\n",
    "    )\n",
    "    \n",
    "    y_test_all.append(y_test)\n",
    "    y_pred_all.append(y_pred)    \n",
    "    acc_scores.append(acc)\n",
    "    f1macro_scores.append(f1_macro)\n",
    "    f1micro_scores.append(f1_micro)\n",
    "    f1weighted_scores.append(f1_weighted)\n",
    "    kappa_scores.append(kappa)\n",
    "    print(f\"Accuracy: {acc}\")\n",
    "    print(f\"F1 macro: {f1_macro}\")\n",
    "    print(f\"F1 micro: {f1_micro}\")\n",
    "    print(f\"F1 weighted: {f1_weighted}\")\n",
    "    print(f\"Kappa: {kappa}\")"
   ]
  },
  {
   "cell_type": "code",
   "execution_count": 23,
   "metadata": {},
   "outputs": [
    {
     "name": "stdout",
     "output_type": "stream",
     "text": [
      "FINAL REPORT for training size = 40\n",
      "mean accuracy: 0.7150000000000001 +/- 0.05134307266916455\n",
      "mean F1 macro: 0.7057492555080147 +/- 0.05791503288779739\n",
      "mean F1 micro: 0.7150000000000001 +/- 0.05134307266916455\n",
      "mean F1 weighted: 0.7057492555080147 +/- 0.05791503288779736\n",
      "mean Kappa: 0.43 +/- 0.1026861453383291\n"
     ]
    }
   ],
   "source": [
    "print(f\"FINAL REPORT for training size = {train_size}\")\n",
    "\n",
    "print(f\"mean accuracy: {np.mean(acc_scores)} +/- {np.std(acc_scores)}\")\n",
    "print(f\"mean F1 macro: {np.mean(f1macro_scores)} +/- {np.std(f1macro_scores)}\")\n",
    "print(f\"mean F1 micro: {np.mean(f1micro_scores)} +/- {np.std(f1micro_scores)}\")\n",
    "print(f\"mean F1 weighted: {np.mean(f1weighted_scores)} +/- {np.std(f1weighted_scores)}\")\n",
    "print(f\"mean Kappa: {np.mean(kappa_scores)} +/- {np.std(kappa_scores)}\")"
   ]
  },
  {
   "cell_type": "code",
   "execution_count": 24,
   "metadata": {},
   "outputs": [
    {
     "data": {
      "text/html": [
       "<div>\n",
       "<style scoped>\n",
       "    .dataframe tbody tr th:only-of-type {\n",
       "        vertical-align: middle;\n",
       "    }\n",
       "\n",
       "    .dataframe tbody tr th {\n",
       "        vertical-align: top;\n",
       "    }\n",
       "\n",
       "    .dataframe thead th {\n",
       "        text-align: right;\n",
       "    }\n",
       "</style>\n",
       "<table border=\"1\" class=\"dataframe\">\n",
       "  <thead>\n",
       "    <tr style=\"text-align: right;\">\n",
       "      <th></th>\n",
       "      <th>train_size</th>\n",
       "      <th>y_true</th>\n",
       "      <th>y_pred</th>\n",
       "      <th>accuracy</th>\n",
       "      <th>f1_macro</th>\n",
       "      <th>f1_micro</th>\n",
       "      <th>f1_weighted</th>\n",
       "      <th>kappa</th>\n",
       "    </tr>\n",
       "  </thead>\n",
       "  <tbody>\n",
       "    <tr>\n",
       "      <th>0</th>\n",
       "      <td>40</td>\n",
       "      <td>[1, 1, 1, 1, 0, 0, 0, 0, 0, 0, 1, 0, 0, 0, 0, ...</td>\n",
       "      <td>[1, 1, 1, 1, 0, 0, 0, 0, 0, 1, 1, 0, 0, 0, 1, ...</td>\n",
       "      <td>0.750000</td>\n",
       "      <td>0.741305</td>\n",
       "      <td>0.750000</td>\n",
       "      <td>0.741305</td>\n",
       "      <td>0.500000</td>\n",
       "    </tr>\n",
       "    <tr>\n",
       "      <th>1</th>\n",
       "      <td>40</td>\n",
       "      <td>[0, 1, 1, 0, 0, 0, 0, 1, 1, 1, 0, 0, 0, 1, 1, ...</td>\n",
       "      <td>[0, 1, 0, 0, 1, 0, 0, 0, 1, 0, 0, 0, 0, 1, 1, ...</td>\n",
       "      <td>0.716667</td>\n",
       "      <td>0.716588</td>\n",
       "      <td>0.716667</td>\n",
       "      <td>0.716588</td>\n",
       "      <td>0.433333</td>\n",
       "    </tr>\n",
       "    <tr>\n",
       "      <th>2</th>\n",
       "      <td>40</td>\n",
       "      <td>[1, 1, 0, 1, 1, 1, 1, 0, 0, 0, 1, 0, 0, 1, 0, ...</td>\n",
       "      <td>[1, 0, 0, 1, 0, 0, 1, 1, 0, 0, 0, 0, 1, 0, 0, ...</td>\n",
       "      <td>0.616667</td>\n",
       "      <td>0.603334</td>\n",
       "      <td>0.616667</td>\n",
       "      <td>0.603334</td>\n",
       "      <td>0.233333</td>\n",
       "    </tr>\n",
       "  </tbody>\n",
       "</table>\n",
       "</div>"
      ],
      "text/plain": [
       "   train_size                                             y_true  \\\n",
       "0          40  [1, 1, 1, 1, 0, 0, 0, 0, 0, 0, 1, 0, 0, 0, 0, ...   \n",
       "1          40  [0, 1, 1, 0, 0, 0, 0, 1, 1, 1, 0, 0, 0, 1, 1, ...   \n",
       "2          40  [1, 1, 0, 1, 1, 1, 1, 0, 0, 0, 1, 0, 0, 1, 0, ...   \n",
       "\n",
       "                                              y_pred  accuracy  f1_macro  \\\n",
       "0  [1, 1, 1, 1, 0, 0, 0, 0, 0, 1, 1, 0, 0, 0, 1, ...  0.750000  0.741305   \n",
       "1  [0, 1, 0, 0, 1, 0, 0, 0, 1, 0, 0, 0, 0, 1, 1, ...  0.716667  0.716588   \n",
       "2  [1, 0, 0, 1, 0, 0, 1, 1, 0, 0, 0, 0, 1, 0, 0, ...  0.616667  0.603334   \n",
       "\n",
       "   f1_micro  f1_weighted     kappa  \n",
       "0  0.750000     0.741305  0.500000  \n",
       "1  0.716667     0.716588  0.433333  \n",
       "2  0.616667     0.603334  0.233333  "
      ]
     },
     "execution_count": 24,
     "metadata": {},
     "output_type": "execute_result"
    }
   ],
   "source": [
    "compiled_res_40 = pd.DataFrame(metrics_dict())\n",
    "compiled_res_40.head(3)"
   ]
  },
  {
   "cell_type": "markdown",
   "metadata": {},
   "source": [
    "### training size = 50"
   ]
  },
  {
   "cell_type": "code",
   "execution_count": 25,
   "metadata": {},
   "outputs": [],
   "source": [
    "train_size = 50\n",
    "iterations = 10\n",
    "y_test_all = []\n",
    "y_pred_all = []\n",
    "acc_scores = []\n",
    "f1macro_scores = []\n",
    "f1micro_scores = []\n",
    "f1weighted_scores = []\n",
    "kappa_scores = []"
   ]
  },
  {
   "cell_type": "code",
   "execution_count": 26,
   "metadata": {
    "scrolled": true
   },
   "outputs": [
    {
     "name": "stdout",
     "output_type": "stream",
     "text": [
      "-------------Iteration 1/10\n",
      "50 50\n",
      "random_state = 42\n",
      "Accuracy: 0.74\n",
      "F1 macro: 0.7312939231087227\n",
      "F1 micro: 0.74\n",
      "F1 weighted: 0.7312939231087227\n",
      "Kappa: 0.48\n",
      "-------------Iteration 2/10\n",
      "50 50\n",
      "random_state = 43\n"
     ]
    },
    {
     "name": "stderr",
     "output_type": "stream",
     "text": [
      "[Parallel(n_jobs=1)]: Done  49 tasks      | elapsed:    0.0s\n",
      "[Parallel(n_jobs=1)]: Done 199 tasks      | elapsed:    0.1s\n",
      "[Parallel(n_jobs=1)]: Done  49 tasks      | elapsed:    0.0s\n",
      "[Parallel(n_jobs=1)]: Done 199 tasks      | elapsed:    0.0s\n",
      "[Parallel(n_jobs=1)]: Done  49 tasks      | elapsed:    0.0s\n",
      "[Parallel(n_jobs=1)]: Done 199 tasks      | elapsed:    0.1s\n",
      "[Parallel(n_jobs=1)]: Done  49 tasks      | elapsed:    0.0s\n",
      "[Parallel(n_jobs=1)]: Done 199 tasks      | elapsed:    0.0s\n",
      "[Parallel(n_jobs=1)]: Done  49 tasks      | elapsed:    0.0s\n",
      "[Parallel(n_jobs=1)]: Done 199 tasks      | elapsed:    0.1s\n",
      "[Parallel(n_jobs=1)]: Done  49 tasks      | elapsed:    0.0s\n",
      "[Parallel(n_jobs=1)]: Done 199 tasks      | elapsed:    0.0s\n"
     ]
    },
    {
     "name": "stdout",
     "output_type": "stream",
     "text": [
      "Accuracy: 0.7\n",
      "F1 macro: 0.6998799519807923\n",
      "F1 micro: 0.7\n",
      "F1 weighted: 0.6998799519807923\n",
      "Kappa: 0.4\n",
      "-------------Iteration 3/10\n",
      "50 50\n",
      "random_state = 44\n",
      "Accuracy: 0.66\n",
      "F1 macro: 0.6565656565656566\n",
      "F1 micro: 0.66\n",
      "F1 weighted: 0.6565656565656566\n",
      "Kappa: 0.31999999999999995\n",
      "-------------Iteration 4/10\n",
      "50 50\n",
      "random_state = 45\n"
     ]
    },
    {
     "name": "stderr",
     "output_type": "stream",
     "text": [
      "[Parallel(n_jobs=1)]: Done  49 tasks      | elapsed:    0.0s\n",
      "[Parallel(n_jobs=1)]: Done 199 tasks      | elapsed:    0.1s\n",
      "[Parallel(n_jobs=1)]: Done  49 tasks      | elapsed:    0.0s\n",
      "[Parallel(n_jobs=1)]: Done 199 tasks      | elapsed:    0.0s\n",
      "[Parallel(n_jobs=1)]: Done  49 tasks      | elapsed:    0.0s\n"
     ]
    },
    {
     "name": "stdout",
     "output_type": "stream",
     "text": [
      "Accuracy: 0.68\n",
      "F1 macro: 0.68\n",
      "F1 micro: 0.68\n",
      "F1 weighted: 0.68\n",
      "Kappa: 0.36\n",
      "-------------Iteration 5/10\n",
      "50 50\n",
      "random_state = 46\n",
      "Accuracy: 0.7\n",
      "F1 macro: 0.6940024479804161\n",
      "F1 micro: 0.7\n",
      "F1 weighted: 0.6940024479804161\n",
      "Kappa: 0.4\n",
      "-------------Iteration 6/10\n",
      "50 50\n",
      "random_state = 47\n"
     ]
    },
    {
     "name": "stderr",
     "output_type": "stream",
     "text": [
      "[Parallel(n_jobs=1)]: Done 199 tasks      | elapsed:    0.1s\n",
      "[Parallel(n_jobs=1)]: Done  49 tasks      | elapsed:    0.0s\n",
      "[Parallel(n_jobs=1)]: Done 199 tasks      | elapsed:    0.0s\n",
      "[Parallel(n_jobs=1)]: Done  49 tasks      | elapsed:    0.0s\n",
      "[Parallel(n_jobs=1)]: Done 199 tasks      | elapsed:    0.1s\n",
      "[Parallel(n_jobs=1)]: Done  49 tasks      | elapsed:    0.0s\n",
      "[Parallel(n_jobs=1)]: Done 199 tasks      | elapsed:    0.0s\n"
     ]
    },
    {
     "name": "stdout",
     "output_type": "stream",
     "text": [
      "Accuracy: 0.74\n",
      "F1 macro: 0.7398959583833533\n",
      "F1 micro: 0.74\n",
      "F1 weighted: 0.7398959583833533\n",
      "Kappa: 0.48\n",
      "-------------Iteration 7/10\n",
      "50 50\n",
      "random_state = 48\n",
      "Accuracy: 0.74\n",
      "F1 macro: 0.7312939231087227\n",
      "F1 micro: 0.74\n",
      "F1 weighted: 0.7312939231087227\n",
      "Kappa: 0.48\n",
      "-------------Iteration 8/10\n",
      "50 50\n",
      "random_state = 49\n"
     ]
    },
    {
     "name": "stderr",
     "output_type": "stream",
     "text": [
      "[Parallel(n_jobs=1)]: Done  49 tasks      | elapsed:    0.0s\n",
      "[Parallel(n_jobs=1)]: Done 199 tasks      | elapsed:    0.1s\n",
      "[Parallel(n_jobs=1)]: Done  49 tasks      | elapsed:    0.0s\n",
      "[Parallel(n_jobs=1)]: Done 199 tasks      | elapsed:    0.0s\n",
      "[Parallel(n_jobs=1)]: Done  49 tasks      | elapsed:    0.0s\n",
      "[Parallel(n_jobs=1)]: Done 199 tasks      | elapsed:    0.1s\n",
      "[Parallel(n_jobs=1)]: Done  49 tasks      | elapsed:    0.0s\n",
      "[Parallel(n_jobs=1)]: Done 199 tasks      | elapsed:    0.0s\n",
      "[Parallel(n_jobs=1)]: Done  49 tasks      | elapsed:    0.0s\n",
      "[Parallel(n_jobs=1)]: Done 199 tasks      | elapsed:    0.1s\n",
      "[Parallel(n_jobs=1)]: Done  49 tasks      | elapsed:    0.0s\n",
      "[Parallel(n_jobs=1)]: Done 199 tasks      | elapsed:    0.0s\n",
      "[Parallel(n_jobs=1)]: Done  49 tasks      | elapsed:    0.0s\n"
     ]
    },
    {
     "name": "stdout",
     "output_type": "stream",
     "text": [
      "Accuracy: 0.7\n",
      "F1 macro: 0.696969696969697\n",
      "F1 micro: 0.7\n",
      "F1 weighted: 0.6969696969696969\n",
      "Kappa: 0.4\n",
      "-------------Iteration 9/10\n",
      "50 50\n",
      "random_state = 50\n",
      "Accuracy: 0.74\n",
      "F1 macro: 0.7267759562841529\n",
      "F1 micro: 0.74\n",
      "F1 weighted: 0.726775956284153\n",
      "Kappa: 0.48\n",
      "-------------Iteration 10/10\n",
      "50 50\n",
      "random_state = 51\n",
      "Accuracy: 0.72\n",
      "F1 macro: 0.719551282051282\n",
      "F1 micro: 0.72\n",
      "F1 weighted: 0.719551282051282\n",
      "Kappa: 0.43999999999999995\n"
     ]
    },
    {
     "name": "stderr",
     "output_type": "stream",
     "text": [
      "[Parallel(n_jobs=1)]: Done 199 tasks      | elapsed:    0.1s\n",
      "[Parallel(n_jobs=1)]: Done  49 tasks      | elapsed:    0.0s\n",
      "[Parallel(n_jobs=1)]: Done 199 tasks      | elapsed:    0.0s\n"
     ]
    }
   ],
   "source": [
    "for n in range(iterations):\n",
    "    print(f\"-------------Iteration {n + 1}/{iterations}\")\n",
    "    random_state=42+n\n",
    "\n",
    "    X_train, y_train, X_test, y_test = prepare_dataset_classification(\n",
    "        df,\n",
    "        random_state=random_state,\n",
    "        train_size=train_size\n",
    "    )\n",
    "    print(f\"random_state = {random_state}\")\n",
    "\n",
    "    y_test, y_pred, acc, f1_macro, f1_micro, f1_weighted, kappa = train_and_evaluate_classifier(\n",
    "        X_train, \n",
    "        y_train, \n",
    "        X_test, \n",
    "        y_test, \n",
    "        random_state=random_state\n",
    "    )\n",
    "    \n",
    "    y_test_all.append(y_test)\n",
    "    y_pred_all.append(y_pred)    \n",
    "    acc_scores.append(acc)\n",
    "    f1macro_scores.append(f1_macro)\n",
    "    f1micro_scores.append(f1_micro)\n",
    "    f1weighted_scores.append(f1_weighted)\n",
    "    kappa_scores.append(kappa)\n",
    "    print(f\"Accuracy: {acc}\")\n",
    "    print(f\"F1 macro: {f1_macro}\")\n",
    "    print(f\"F1 micro: {f1_micro}\")\n",
    "    print(f\"F1 weighted: {f1_weighted}\")\n",
    "    print(f\"Kappa: {kappa}\")"
   ]
  },
  {
   "cell_type": "code",
   "execution_count": 27,
   "metadata": {},
   "outputs": [
    {
     "name": "stdout",
     "output_type": "stream",
     "text": [
      "FINAL REPORT for training size = 50\n",
      "mean accuracy: 0.712 +/- 0.02712931993250106\n",
      "mean F1 macro: 0.7076228796432795 +/- 0.025298494489590533\n",
      "mean F1 micro: 0.712 +/- 0.02712931993250106\n",
      "mean F1 weighted: 0.7076228796432795 +/- 0.02529849448959055\n",
      "mean Kappa: 0.42400000000000004 +/- 0.054258639865002144\n"
     ]
    }
   ],
   "source": [
    "print(f\"FINAL REPORT for training size = {train_size}\")\n",
    "\n",
    "print(f\"mean accuracy: {np.mean(acc_scores)} +/- {np.std(acc_scores)}\")\n",
    "print(f\"mean F1 macro: {np.mean(f1macro_scores)} +/- {np.std(f1macro_scores)}\")\n",
    "print(f\"mean F1 micro: {np.mean(f1micro_scores)} +/- {np.std(f1micro_scores)}\")\n",
    "print(f\"mean F1 weighted: {np.mean(f1weighted_scores)} +/- {np.std(f1weighted_scores)}\")\n",
    "print(f\"mean Kappa: {np.mean(kappa_scores)} +/- {np.std(kappa_scores)}\")"
   ]
  },
  {
   "cell_type": "code",
   "execution_count": 28,
   "metadata": {},
   "outputs": [
    {
     "data": {
      "text/html": [
       "<div>\n",
       "<style scoped>\n",
       "    .dataframe tbody tr th:only-of-type {\n",
       "        vertical-align: middle;\n",
       "    }\n",
       "\n",
       "    .dataframe tbody tr th {\n",
       "        vertical-align: top;\n",
       "    }\n",
       "\n",
       "    .dataframe thead th {\n",
       "        text-align: right;\n",
       "    }\n",
       "</style>\n",
       "<table border=\"1\" class=\"dataframe\">\n",
       "  <thead>\n",
       "    <tr style=\"text-align: right;\">\n",
       "      <th></th>\n",
       "      <th>train_size</th>\n",
       "      <th>y_true</th>\n",
       "      <th>y_pred</th>\n",
       "      <th>accuracy</th>\n",
       "      <th>f1_macro</th>\n",
       "      <th>f1_micro</th>\n",
       "      <th>f1_weighted</th>\n",
       "      <th>kappa</th>\n",
       "    </tr>\n",
       "  </thead>\n",
       "  <tbody>\n",
       "    <tr>\n",
       "      <th>0</th>\n",
       "      <td>50</td>\n",
       "      <td>[1, 0, 0, 1, 0, 0, 0, 0, 0, 1, 1, 0, 0, 0, 1, ...</td>\n",
       "      <td>[0, 0, 0, 0, 0, 0, 0, 1, 0, 1, 0, 0, 0, 0, 1, ...</td>\n",
       "      <td>0.74</td>\n",
       "      <td>0.731294</td>\n",
       "      <td>0.74</td>\n",
       "      <td>0.731294</td>\n",
       "      <td>0.48</td>\n",
       "    </tr>\n",
       "    <tr>\n",
       "      <th>1</th>\n",
       "      <td>50</td>\n",
       "      <td>[0, 1, 0, 1, 0, 0, 1, 0, 1, 1, 0, 0, 0, 1, 0, ...</td>\n",
       "      <td>[0, 1, 0, 0, 0, 0, 0, 0, 1, 0, 1, 0, 0, 1, 0, ...</td>\n",
       "      <td>0.70</td>\n",
       "      <td>0.699880</td>\n",
       "      <td>0.70</td>\n",
       "      <td>0.699880</td>\n",
       "      <td>0.40</td>\n",
       "    </tr>\n",
       "    <tr>\n",
       "      <th>2</th>\n",
       "      <td>50</td>\n",
       "      <td>[1, 1, 0, 0, 1, 1, 1, 0, 0, 0, 1, 0, 0, 1, 0, ...</td>\n",
       "      <td>[1, 1, 0, 1, 0, 1, 0, 0, 0, 1, 0, 1, 0, 1, 1, ...</td>\n",
       "      <td>0.66</td>\n",
       "      <td>0.656566</td>\n",
       "      <td>0.66</td>\n",
       "      <td>0.656566</td>\n",
       "      <td>0.32</td>\n",
       "    </tr>\n",
       "  </tbody>\n",
       "</table>\n",
       "</div>"
      ],
      "text/plain": [
       "   train_size                                             y_true  \\\n",
       "0          50  [1, 0, 0, 1, 0, 0, 0, 0, 0, 1, 1, 0, 0, 0, 1, ...   \n",
       "1          50  [0, 1, 0, 1, 0, 0, 1, 0, 1, 1, 0, 0, 0, 1, 0, ...   \n",
       "2          50  [1, 1, 0, 0, 1, 1, 1, 0, 0, 0, 1, 0, 0, 1, 0, ...   \n",
       "\n",
       "                                              y_pred  accuracy  f1_macro  \\\n",
       "0  [0, 0, 0, 0, 0, 0, 0, 1, 0, 1, 0, 0, 0, 0, 1, ...      0.74  0.731294   \n",
       "1  [0, 1, 0, 0, 0, 0, 0, 0, 1, 0, 1, 0, 0, 1, 0, ...      0.70  0.699880   \n",
       "2  [1, 1, 0, 1, 0, 1, 0, 0, 0, 1, 0, 1, 0, 1, 1, ...      0.66  0.656566   \n",
       "\n",
       "   f1_micro  f1_weighted  kappa  \n",
       "0      0.74     0.731294   0.48  \n",
       "1      0.70     0.699880   0.40  \n",
       "2      0.66     0.656566   0.32  "
      ]
     },
     "execution_count": 28,
     "metadata": {},
     "output_type": "execute_result"
    }
   ],
   "source": [
    "compiled_res_50 = pd.DataFrame(metrics_dict())\n",
    "compiled_res_50.head(3)"
   ]
  },
  {
   "cell_type": "markdown",
   "metadata": {},
   "source": [
    "### training size = 60"
   ]
  },
  {
   "cell_type": "code",
   "execution_count": 29,
   "metadata": {},
   "outputs": [],
   "source": [
    "train_size = 60\n",
    "iterations = 10\n",
    "y_test_all = []\n",
    "y_pred_all = []\n",
    "acc_scores = []\n",
    "f1macro_scores = []\n",
    "f1micro_scores = []\n",
    "f1weighted_scores = []\n",
    "kappa_scores = []"
   ]
  },
  {
   "cell_type": "code",
   "execution_count": 30,
   "metadata": {
    "scrolled": true
   },
   "outputs": [
    {
     "name": "stdout",
     "output_type": "stream",
     "text": [
      "-------------Iteration 1/10\n",
      "60 40\n",
      "random_state = 42\n"
     ]
    },
    {
     "name": "stderr",
     "output_type": "stream",
     "text": [
      "[Parallel(n_jobs=1)]: Done  49 tasks      | elapsed:    0.0s\n",
      "[Parallel(n_jobs=1)]: Done 199 tasks      | elapsed:    0.1s\n",
      "[Parallel(n_jobs=1)]: Done  49 tasks      | elapsed:    0.0s\n",
      "[Parallel(n_jobs=1)]: Done 199 tasks      | elapsed:    0.0s\n"
     ]
    },
    {
     "name": "stdout",
     "output_type": "stream",
     "text": [
      "Accuracy: 0.75\n",
      "F1 macro: 0.7395833333333333\n",
      "F1 micro: 0.75\n",
      "F1 weighted: 0.7395833333333333\n",
      "Kappa: 0.5\n",
      "-------------Iteration 2/10\n",
      "60 40\n",
      "random_state = 43\n"
     ]
    },
    {
     "name": "stderr",
     "output_type": "stream",
     "text": [
      "[Parallel(n_jobs=1)]: Done  49 tasks      | elapsed:    0.0s\n",
      "[Parallel(n_jobs=1)]: Done 199 tasks      | elapsed:    0.2s\n",
      "[Parallel(n_jobs=1)]: Done  49 tasks      | elapsed:    0.0s\n",
      "[Parallel(n_jobs=1)]: Done 199 tasks      | elapsed:    0.0s\n"
     ]
    },
    {
     "name": "stdout",
     "output_type": "stream",
     "text": [
      "Accuracy: 0.825\n",
      "F1 macro: 0.8222222222222222\n",
      "F1 micro: 0.825\n",
      "F1 weighted: 0.8222222222222222\n",
      "Kappa: 0.65\n",
      "-------------Iteration 3/10\n",
      "60 40\n",
      "random_state = 44\n"
     ]
    },
    {
     "name": "stderr",
     "output_type": "stream",
     "text": [
      "[Parallel(n_jobs=1)]: Done  49 tasks      | elapsed:    0.0s\n",
      "[Parallel(n_jobs=1)]: Done 199 tasks      | elapsed:    0.2s\n",
      "[Parallel(n_jobs=1)]: Done  49 tasks      | elapsed:    0.0s\n",
      "[Parallel(n_jobs=1)]: Done 199 tasks      | elapsed:    0.0s\n"
     ]
    },
    {
     "name": "stdout",
     "output_type": "stream",
     "text": [
      "Accuracy: 0.65\n",
      "F1 macro: 0.6354166666666667\n",
      "F1 micro: 0.65\n",
      "F1 weighted: 0.6354166666666667\n",
      "Kappa: 0.30000000000000004\n",
      "-------------Iteration 4/10\n",
      "60 40\n",
      "random_state = 45\n"
     ]
    },
    {
     "name": "stderr",
     "output_type": "stream",
     "text": [
      "[Parallel(n_jobs=1)]: Done  49 tasks      | elapsed:    0.0s\n",
      "[Parallel(n_jobs=1)]: Done 199 tasks      | elapsed:    0.1s\n",
      "[Parallel(n_jobs=1)]: Done  49 tasks      | elapsed:    0.0s\n",
      "[Parallel(n_jobs=1)]: Done 199 tasks      | elapsed:    0.0s\n",
      "[Parallel(n_jobs=1)]: Done  49 tasks      | elapsed:    0.0s\n"
     ]
    },
    {
     "name": "stdout",
     "output_type": "stream",
     "text": [
      "Accuracy: 0.775\n",
      "F1 macro: 0.7737272155876807\n",
      "F1 micro: 0.775\n",
      "F1 weighted: 0.7737272155876808\n",
      "Kappa: 0.55\n",
      "-------------Iteration 5/10\n",
      "60 40\n",
      "random_state = 46\n",
      "Accuracy: 0.725\n",
      "F1 macro: 0.7163120567375887\n",
      "F1 micro: 0.725\n",
      "F1 weighted: 0.7163120567375886\n",
      "Kappa: 0.44999999999999996\n",
      "-------------Iteration 6/10\n",
      "60 40\n",
      "random_state = 47\n"
     ]
    },
    {
     "name": "stderr",
     "output_type": "stream",
     "text": [
      "[Parallel(n_jobs=1)]: Done 199 tasks      | elapsed:    0.1s\n",
      "[Parallel(n_jobs=1)]: Done  49 tasks      | elapsed:    0.0s\n",
      "[Parallel(n_jobs=1)]: Done 199 tasks      | elapsed:    0.0s\n",
      "[Parallel(n_jobs=1)]: Done  49 tasks      | elapsed:    0.0s\n",
      "[Parallel(n_jobs=1)]: Done 199 tasks      | elapsed:    0.1s\n",
      "[Parallel(n_jobs=1)]: Done  49 tasks      | elapsed:    0.0s\n",
      "[Parallel(n_jobs=1)]: Done 199 tasks      | elapsed:    0.0s\n",
      "[Parallel(n_jobs=1)]: Done  49 tasks      | elapsed:    0.0s\n",
      "[Parallel(n_jobs=1)]: Done 199 tasks      | elapsed:    0.1s\n",
      "[Parallel(n_jobs=1)]: Done  49 tasks      | elapsed:    0.0s\n"
     ]
    },
    {
     "name": "stdout",
     "output_type": "stream",
     "text": [
      "Accuracy: 0.775\n",
      "F1 macro: 0.7630019749835418\n",
      "F1 micro: 0.775\n",
      "F1 weighted: 0.7630019749835418\n",
      "Kappa: 0.55\n",
      "-------------Iteration 7/10\n",
      "60 40\n",
      "random_state = 48\n",
      "Accuracy: 0.725\n",
      "F1 macro: 0.7103357472021066\n",
      "F1 micro: 0.725\n",
      "F1 weighted: 0.7103357472021067\n",
      "Kappa: 0.44999999999999996\n",
      "-------------Iteration 8/10\n",
      "60 40\n",
      "random_state = 49\n"
     ]
    },
    {
     "name": "stderr",
     "output_type": "stream",
     "text": [
      "[Parallel(n_jobs=1)]: Done 199 tasks      | elapsed:    0.0s\n",
      "[Parallel(n_jobs=1)]: Done  49 tasks      | elapsed:    0.0s\n",
      "[Parallel(n_jobs=1)]: Done 199 tasks      | elapsed:    0.2s\n",
      "[Parallel(n_jobs=1)]: Done  49 tasks      | elapsed:    0.0s\n",
      "[Parallel(n_jobs=1)]: Done 199 tasks      | elapsed:    0.0s\n",
      "[Parallel(n_jobs=1)]: Done  49 tasks      | elapsed:    0.0s\n"
     ]
    },
    {
     "name": "stdout",
     "output_type": "stream",
     "text": [
      "Accuracy: 0.7\n",
      "F1 macro: 0.6799999999999999\n",
      "F1 micro: 0.7\n",
      "F1 weighted: 0.6799999999999999\n",
      "Kappa: 0.4\n",
      "-------------Iteration 9/10\n",
      "60 40\n",
      "random_state = 50\n"
     ]
    },
    {
     "name": "stderr",
     "output_type": "stream",
     "text": [
      "[Parallel(n_jobs=1)]: Done 199 tasks      | elapsed:    0.1s\n",
      "[Parallel(n_jobs=1)]: Done  49 tasks      | elapsed:    0.0s\n",
      "[Parallel(n_jobs=1)]: Done 199 tasks      | elapsed:    0.0s\n",
      "[Parallel(n_jobs=1)]: Done  49 tasks      | elapsed:    0.0s\n"
     ]
    },
    {
     "name": "stdout",
     "output_type": "stream",
     "text": [
      "Accuracy: 0.75\n",
      "F1 macro: 0.7395833333333333\n",
      "F1 micro: 0.75\n",
      "F1 weighted: 0.7395833333333333\n",
      "Kappa: 0.5\n",
      "-------------Iteration 10/10\n",
      "60 40\n",
      "random_state = 51\n",
      "Accuracy: 0.725\n",
      "F1 macro: 0.7206349206349206\n",
      "F1 micro: 0.725\n",
      "F1 weighted: 0.7206349206349206\n",
      "Kappa: 0.44999999999999996\n"
     ]
    },
    {
     "name": "stderr",
     "output_type": "stream",
     "text": [
      "[Parallel(n_jobs=1)]: Done 199 tasks      | elapsed:    0.1s\n",
      "[Parallel(n_jobs=1)]: Done  49 tasks      | elapsed:    0.0s\n",
      "[Parallel(n_jobs=1)]: Done 199 tasks      | elapsed:    0.0s\n"
     ]
    }
   ],
   "source": [
    "for n in range(iterations):\n",
    "    print(f\"-------------Iteration {n + 1}/{iterations}\")\n",
    "    random_state=42+n\n",
    "\n",
    "    X_train, y_train, X_test, y_test = prepare_dataset_classification(\n",
    "        df,\n",
    "        random_state=random_state,\n",
    "        train_size=train_size\n",
    "    )\n",
    "    print(f\"random_state = {random_state}\")\n",
    "\n",
    "    y_test, y_pred, acc, f1_macro, f1_micro, f1_weighted, kappa = train_and_evaluate_classifier(\n",
    "        X_train, \n",
    "        y_train, \n",
    "        X_test, \n",
    "        y_test, \n",
    "        random_state=random_state\n",
    "    )\n",
    "    \n",
    "    y_test_all.append(y_test)\n",
    "    y_pred_all.append(y_pred)    \n",
    "    acc_scores.append(acc)\n",
    "    f1macro_scores.append(f1_macro)\n",
    "    f1micro_scores.append(f1_micro)\n",
    "    f1weighted_scores.append(f1_weighted)\n",
    "    kappa_scores.append(kappa)\n",
    "    print(f\"Accuracy: {acc}\")\n",
    "    print(f\"F1 macro: {f1_macro}\")\n",
    "    print(f\"F1 micro: {f1_micro}\")\n",
    "    print(f\"F1 weighted: {f1_weighted}\")\n",
    "    print(f\"Kappa: {kappa}\")"
   ]
  },
  {
   "cell_type": "code",
   "execution_count": 31,
   "metadata": {},
   "outputs": [
    {
     "name": "stdout",
     "output_type": "stream",
     "text": [
      "FINAL REPORT for training size = 60\n",
      "mean accuracy: 0.74 +/- 0.045\n",
      "mean F1 macro: 0.7300817470701394 +/- 0.04878268752539641\n",
      "mean F1 micro: 0.74 +/- 0.045\n",
      "mean F1 weighted: 0.7300817470701394 +/- 0.04878268752539642\n",
      "mean Kappa: 0.48 +/- 0.09\n"
     ]
    }
   ],
   "source": [
    "print(f\"FINAL REPORT for training size = {train_size}\")\n",
    "\n",
    "print(f\"mean accuracy: {np.mean(acc_scores)} +/- {np.std(acc_scores)}\")\n",
    "print(f\"mean F1 macro: {np.mean(f1macro_scores)} +/- {np.std(f1macro_scores)}\")\n",
    "print(f\"mean F1 micro: {np.mean(f1micro_scores)} +/- {np.std(f1micro_scores)}\")\n",
    "print(f\"mean F1 weighted: {np.mean(f1weighted_scores)} +/- {np.std(f1weighted_scores)}\")\n",
    "print(f\"mean Kappa: {np.mean(kappa_scores)} +/- {np.std(kappa_scores)}\")"
   ]
  },
  {
   "cell_type": "code",
   "execution_count": 32,
   "metadata": {},
   "outputs": [
    {
     "data": {
      "text/html": [
       "<div>\n",
       "<style scoped>\n",
       "    .dataframe tbody tr th:only-of-type {\n",
       "        vertical-align: middle;\n",
       "    }\n",
       "\n",
       "    .dataframe tbody tr th {\n",
       "        vertical-align: top;\n",
       "    }\n",
       "\n",
       "    .dataframe thead th {\n",
       "        text-align: right;\n",
       "    }\n",
       "</style>\n",
       "<table border=\"1\" class=\"dataframe\">\n",
       "  <thead>\n",
       "    <tr style=\"text-align: right;\">\n",
       "      <th></th>\n",
       "      <th>train_size</th>\n",
       "      <th>y_true</th>\n",
       "      <th>y_pred</th>\n",
       "      <th>accuracy</th>\n",
       "      <th>f1_macro</th>\n",
       "      <th>f1_micro</th>\n",
       "      <th>f1_weighted</th>\n",
       "      <th>kappa</th>\n",
       "    </tr>\n",
       "  </thead>\n",
       "  <tbody>\n",
       "    <tr>\n",
       "      <th>0</th>\n",
       "      <td>60</td>\n",
       "      <td>[0, 0, 1, 0, 0, 0, 0, 0, 1, 1, 1, 0, 0, 0, 1, ...</td>\n",
       "      <td>[0, 0, 0, 0, 0, 0, 0, 0, 1, 1, 1, 0, 0, 0, 0, ...</td>\n",
       "      <td>0.750</td>\n",
       "      <td>0.739583</td>\n",
       "      <td>0.750</td>\n",
       "      <td>0.739583</td>\n",
       "      <td>0.50</td>\n",
       "    </tr>\n",
       "    <tr>\n",
       "      <th>1</th>\n",
       "      <td>60</td>\n",
       "      <td>[1, 0, 1, 0, 0, 1, 0, 0, 0, 1, 1, 0, 1, 1, 0, ...</td>\n",
       "      <td>[1, 0, 0, 0, 0, 1, 0, 0, 0, 0, 1, 0, 1, 1, 0, ...</td>\n",
       "      <td>0.825</td>\n",
       "      <td>0.822222</td>\n",
       "      <td>0.825</td>\n",
       "      <td>0.822222</td>\n",
       "      <td>0.65</td>\n",
       "    </tr>\n",
       "    <tr>\n",
       "      <th>2</th>\n",
       "      <td>60</td>\n",
       "      <td>[0, 1, 1, 1, 0, 0, 0, 1, 0, 1, 0, 0, 1, 0, 0, ...</td>\n",
       "      <td>[0, 1, 0, 0, 0, 0, 0, 1, 0, 0, 1, 0, 1, 0, 0, ...</td>\n",
       "      <td>0.650</td>\n",
       "      <td>0.635417</td>\n",
       "      <td>0.650</td>\n",
       "      <td>0.635417</td>\n",
       "      <td>0.30</td>\n",
       "    </tr>\n",
       "  </tbody>\n",
       "</table>\n",
       "</div>"
      ],
      "text/plain": [
       "   train_size                                             y_true  \\\n",
       "0          60  [0, 0, 1, 0, 0, 0, 0, 0, 1, 1, 1, 0, 0, 0, 1, ...   \n",
       "1          60  [1, 0, 1, 0, 0, 1, 0, 0, 0, 1, 1, 0, 1, 1, 0, ...   \n",
       "2          60  [0, 1, 1, 1, 0, 0, 0, 1, 0, 1, 0, 0, 1, 0, 0, ...   \n",
       "\n",
       "                                              y_pred  accuracy  f1_macro  \\\n",
       "0  [0, 0, 0, 0, 0, 0, 0, 0, 1, 1, 1, 0, 0, 0, 0, ...     0.750  0.739583   \n",
       "1  [1, 0, 0, 0, 0, 1, 0, 0, 0, 0, 1, 0, 1, 1, 0, ...     0.825  0.822222   \n",
       "2  [0, 1, 0, 0, 0, 0, 0, 1, 0, 0, 1, 0, 1, 0, 0, ...     0.650  0.635417   \n",
       "\n",
       "   f1_micro  f1_weighted  kappa  \n",
       "0     0.750     0.739583   0.50  \n",
       "1     0.825     0.822222   0.65  \n",
       "2     0.650     0.635417   0.30  "
      ]
     },
     "execution_count": 32,
     "metadata": {},
     "output_type": "execute_result"
    }
   ],
   "source": [
    "compiled_res_60 = pd.DataFrame(metrics_dict())\n",
    "compiled_res_60.head(3)"
   ]
  },
  {
   "cell_type": "markdown",
   "metadata": {},
   "source": [
    "### training size = 70"
   ]
  },
  {
   "cell_type": "code",
   "execution_count": 33,
   "metadata": {},
   "outputs": [],
   "source": [
    "train_size = 70\n",
    "iterations = 10\n",
    "y_test_all = []\n",
    "y_pred_all = []\n",
    "acc_scores = []\n",
    "f1macro_scores = []\n",
    "f1micro_scores = []\n",
    "f1weighted_scores = []\n",
    "kappa_scores = []"
   ]
  },
  {
   "cell_type": "code",
   "execution_count": 34,
   "metadata": {
    "scrolled": true
   },
   "outputs": [
    {
     "name": "stdout",
     "output_type": "stream",
     "text": [
      "-------------Iteration 1/10\n",
      "70 30\n",
      "random_state = 42\n",
      "Accuracy: 0.7666666666666667\n",
      "F1 macro: 0.76\n",
      "F1 micro: 0.7666666666666667\n",
      "F1 weighted: 0.7599999999999999\n",
      "Kappa: 0.5333333333333333\n",
      "-------------Iteration 2/10\n",
      "70 30\n",
      "random_state = 43\n"
     ]
    },
    {
     "name": "stderr",
     "output_type": "stream",
     "text": [
      "[Parallel(n_jobs=1)]: Done  49 tasks      | elapsed:    0.0s\n",
      "[Parallel(n_jobs=1)]: Done 199 tasks      | elapsed:    0.1s\n",
      "[Parallel(n_jobs=1)]: Done  49 tasks      | elapsed:    0.0s\n",
      "[Parallel(n_jobs=1)]: Done 199 tasks      | elapsed:    0.0s\n",
      "[Parallel(n_jobs=1)]: Done  49 tasks      | elapsed:    0.0s\n",
      "[Parallel(n_jobs=1)]: Done 199 tasks      | elapsed:    0.1s\n",
      "[Parallel(n_jobs=1)]: Done  49 tasks      | elapsed:    0.0s\n",
      "[Parallel(n_jobs=1)]: Done 199 tasks      | elapsed:    0.0s\n",
      "[Parallel(n_jobs=1)]: Done  49 tasks      | elapsed:    0.0s\n",
      "[Parallel(n_jobs=1)]: Done 199 tasks      | elapsed:    0.1s\n",
      "[Parallel(n_jobs=1)]: Done  49 tasks      | elapsed:    0.0s\n",
      "[Parallel(n_jobs=1)]: Done 199 tasks      | elapsed:    0.0s\n"
     ]
    },
    {
     "name": "stdout",
     "output_type": "stream",
     "text": [
      "Accuracy: 0.8666666666666667\n",
      "F1 macro: 0.8660714285714286\n",
      "F1 micro: 0.8666666666666667\n",
      "F1 weighted: 0.8660714285714285\n",
      "Kappa: 0.7333333333333334\n",
      "-------------Iteration 3/10\n",
      "70 30\n",
      "random_state = 44\n",
      "Accuracy: 0.7333333333333333\n",
      "F1 macro: 0.7321428571428572\n",
      "F1 micro: 0.7333333333333333\n",
      "F1 weighted: 0.7321428571428572\n",
      "Kappa: 0.4666666666666667\n",
      "-------------Iteration 4/10\n",
      "70 30\n",
      "random_state = 45\n"
     ]
    },
    {
     "name": "stderr",
     "output_type": "stream",
     "text": [
      "[Parallel(n_jobs=1)]: Done  49 tasks      | elapsed:    0.0s\n",
      "[Parallel(n_jobs=1)]: Done 199 tasks      | elapsed:    0.1s\n",
      "[Parallel(n_jobs=1)]: Done  49 tasks      | elapsed:    0.0s\n",
      "[Parallel(n_jobs=1)]: Done 199 tasks      | elapsed:    0.0s\n",
      "[Parallel(n_jobs=1)]: Done  49 tasks      | elapsed:    0.0s\n"
     ]
    },
    {
     "name": "stdout",
     "output_type": "stream",
     "text": [
      "Accuracy: 0.8\n",
      "F1 macro: 0.8\n",
      "F1 micro: 0.8\n",
      "F1 weighted: 0.8\n",
      "Kappa: 0.6\n",
      "-------------Iteration 5/10\n",
      "70 30\n",
      "random_state = 46\n",
      "Accuracy: 0.8333333333333334\n",
      "F1 macro: 0.8331479421579533\n",
      "F1 micro: 0.8333333333333334\n",
      "F1 weighted: 0.8331479421579533\n",
      "Kappa: 0.6666666666666667\n",
      "-------------Iteration 6/10\n",
      "70 30\n",
      "random_state = 47\n"
     ]
    },
    {
     "name": "stderr",
     "output_type": "stream",
     "text": [
      "[Parallel(n_jobs=1)]: Done 199 tasks      | elapsed:    0.1s\n",
      "[Parallel(n_jobs=1)]: Done  49 tasks      | elapsed:    0.0s\n",
      "[Parallel(n_jobs=1)]: Done 199 tasks      | elapsed:    0.0s\n",
      "[Parallel(n_jobs=1)]: Done  49 tasks      | elapsed:    0.0s\n",
      "[Parallel(n_jobs=1)]: Done 199 tasks      | elapsed:    0.1s\n",
      "[Parallel(n_jobs=1)]: Done  49 tasks      | elapsed:    0.0s\n",
      "[Parallel(n_jobs=1)]: Done 199 tasks      | elapsed:    0.0s\n"
     ]
    },
    {
     "name": "stdout",
     "output_type": "stream",
     "text": [
      "Accuracy: 0.8333333333333334\n",
      "F1 macro: 0.8285714285714285\n",
      "F1 micro: 0.8333333333333334\n",
      "F1 weighted: 0.8285714285714285\n",
      "Kappa: 0.6666666666666667\n",
      "-------------Iteration 7/10\n",
      "70 30\n",
      "random_state = 48\n",
      "Accuracy: 0.8666666666666667\n",
      "F1 macro: 0.8642533936651584\n",
      "F1 micro: 0.8666666666666667\n",
      "F1 weighted: 0.8642533936651584\n",
      "Kappa: 0.7333333333333334\n",
      "-------------Iteration 8/10\n",
      "70 30\n",
      "random_state = 49\n"
     ]
    },
    {
     "name": "stderr",
     "output_type": "stream",
     "text": [
      "[Parallel(n_jobs=1)]: Done  49 tasks      | elapsed:    0.0s\n",
      "[Parallel(n_jobs=1)]: Done 199 tasks      | elapsed:    0.1s\n",
      "[Parallel(n_jobs=1)]: Done  49 tasks      | elapsed:    0.0s\n",
      "[Parallel(n_jobs=1)]: Done 199 tasks      | elapsed:    0.0s\n",
      "[Parallel(n_jobs=1)]: Done  49 tasks      | elapsed:    0.0s\n",
      "[Parallel(n_jobs=1)]: Done 199 tasks      | elapsed:    0.1s\n",
      "[Parallel(n_jobs=1)]: Done  49 tasks      | elapsed:    0.0s\n",
      "[Parallel(n_jobs=1)]: Done 199 tasks      | elapsed:    0.0s\n",
      "[Parallel(n_jobs=1)]: Done  49 tasks      | elapsed:    0.0s\n",
      "[Parallel(n_jobs=1)]: Done 199 tasks      | elapsed:    0.1s\n",
      "[Parallel(n_jobs=1)]: Done  49 tasks      | elapsed:    0.0s\n",
      "[Parallel(n_jobs=1)]: Done 199 tasks      | elapsed:    0.0s\n"
     ]
    },
    {
     "name": "stdout",
     "output_type": "stream",
     "text": [
      "Accuracy: 0.6666666666666666\n",
      "F1 macro: 0.6411483253588517\n",
      "F1 micro: 0.6666666666666666\n",
      "F1 weighted: 0.6411483253588517\n",
      "Kappa: 0.33333333333333337\n",
      "-------------Iteration 9/10\n",
      "70 30\n",
      "random_state = 50\n",
      "Accuracy: 0.8\n",
      "F1 macro: 0.7991071428571428\n",
      "F1 micro: 0.8\n",
      "F1 weighted: 0.7991071428571428\n",
      "Kappa: 0.6\n",
      "-------------Iteration 10/10\n",
      "70 30\n",
      "random_state = 51\n",
      "Accuracy: 0.7333333333333333\n",
      "F1 macro: 0.7222222222222222\n",
      "F1 micro: 0.7333333333333333\n",
      "F1 weighted: 0.7222222222222221\n",
      "Kappa: 0.4666666666666667\n"
     ]
    },
    {
     "name": "stderr",
     "output_type": "stream",
     "text": [
      "[Parallel(n_jobs=1)]: Done  49 tasks      | elapsed:    0.0s\n",
      "[Parallel(n_jobs=1)]: Done 199 tasks      | elapsed:    0.1s\n",
      "[Parallel(n_jobs=1)]: Done  49 tasks      | elapsed:    0.0s\n",
      "[Parallel(n_jobs=1)]: Done 199 tasks      | elapsed:    0.0s\n"
     ]
    }
   ],
   "source": [
    "for n in range(iterations):\n",
    "    print(f\"-------------Iteration {n + 1}/{iterations}\")\n",
    "    random_state=42+n\n",
    "\n",
    "    X_train, y_train, X_test, y_test = prepare_dataset_classification(\n",
    "        df,\n",
    "        random_state=random_state,\n",
    "        train_size=train_size\n",
    "    )\n",
    "    print(f\"random_state = {random_state}\")\n",
    "\n",
    "    y_test, y_pred, acc, f1_macro, f1_micro, f1_weighted, kappa = train_and_evaluate_classifier(\n",
    "        X_train, \n",
    "        y_train, \n",
    "        X_test, \n",
    "        y_test, \n",
    "        random_state=random_state\n",
    "    )\n",
    "    \n",
    "    y_test_all.append(y_test)\n",
    "    y_pred_all.append(y_pred)    \n",
    "    acc_scores.append(acc)\n",
    "    f1macro_scores.append(f1_macro)\n",
    "    f1micro_scores.append(f1_micro)\n",
    "    f1weighted_scores.append(f1_weighted)\n",
    "    kappa_scores.append(kappa)\n",
    "    print(f\"Accuracy: {acc}\")\n",
    "    print(f\"F1 macro: {f1_macro}\")\n",
    "    print(f\"F1 micro: {f1_micro}\")\n",
    "    print(f\"F1 weighted: {f1_weighted}\")\n",
    "    print(f\"Kappa: {kappa}\")"
   ]
  },
  {
   "cell_type": "code",
   "execution_count": 35,
   "metadata": {},
   "outputs": [
    {
     "name": "stdout",
     "output_type": "stream",
     "text": [
      "FINAL REPORT for training size = 70\n",
      "mean accuracy: 0.79 +/- 0.06155395104206466\n",
      "mean F1 macro: 0.7846664740547044 +/- 0.06748814782959062\n",
      "mean F1 micro: 0.79 +/- 0.06155395104206466\n",
      "mean F1 weighted: 0.7846664740547042 +/- 0.06748814782959062\n",
      "mean Kappa: 0.58 +/- 0.12310790208412928\n"
     ]
    }
   ],
   "source": [
    "print(f\"FINAL REPORT for training size = {train_size}\")\n",
    "\n",
    "print(f\"mean accuracy: {np.mean(acc_scores)} +/- {np.std(acc_scores)}\")\n",
    "print(f\"mean F1 macro: {np.mean(f1macro_scores)} +/- {np.std(f1macro_scores)}\")\n",
    "print(f\"mean F1 micro: {np.mean(f1micro_scores)} +/- {np.std(f1micro_scores)}\")\n",
    "print(f\"mean F1 weighted: {np.mean(f1weighted_scores)} +/- {np.std(f1weighted_scores)}\")\n",
    "print(f\"mean Kappa: {np.mean(kappa_scores)} +/- {np.std(kappa_scores)}\")"
   ]
  },
  {
   "cell_type": "code",
   "execution_count": 36,
   "metadata": {},
   "outputs": [
    {
     "data": {
      "text/html": [
       "<div>\n",
       "<style scoped>\n",
       "    .dataframe tbody tr th:only-of-type {\n",
       "        vertical-align: middle;\n",
       "    }\n",
       "\n",
       "    .dataframe tbody tr th {\n",
       "        vertical-align: top;\n",
       "    }\n",
       "\n",
       "    .dataframe thead th {\n",
       "        text-align: right;\n",
       "    }\n",
       "</style>\n",
       "<table border=\"1\" class=\"dataframe\">\n",
       "  <thead>\n",
       "    <tr style=\"text-align: right;\">\n",
       "      <th></th>\n",
       "      <th>train_size</th>\n",
       "      <th>y_true</th>\n",
       "      <th>y_pred</th>\n",
       "      <th>accuracy</th>\n",
       "      <th>f1_macro</th>\n",
       "      <th>f1_micro</th>\n",
       "      <th>f1_weighted</th>\n",
       "      <th>kappa</th>\n",
       "    </tr>\n",
       "  </thead>\n",
       "  <tbody>\n",
       "    <tr>\n",
       "      <th>0</th>\n",
       "      <td>70</td>\n",
       "      <td>[0, 0, 1, 0, 0, 1, 1, 1, 1, 0, 1, 1, 0, 0, 1, ...</td>\n",
       "      <td>[0, 0, 0, 0, 0, 1, 1, 0, 0, 0, 1, 1, 0, 0, 0, ...</td>\n",
       "      <td>0.766667</td>\n",
       "      <td>0.760000</td>\n",
       "      <td>0.766667</td>\n",
       "      <td>0.760000</td>\n",
       "      <td>0.533333</td>\n",
       "    </tr>\n",
       "    <tr>\n",
       "      <th>1</th>\n",
       "      <td>70</td>\n",
       "      <td>[1, 1, 0, 1, 1, 1, 0, 0, 1, 0, 1, 1, 0, 0, 0, ...</td>\n",
       "      <td>[1, 1, 0, 1, 1, 1, 0, 0, 1, 0, 0, 1, 0, 0, 0, ...</td>\n",
       "      <td>0.866667</td>\n",
       "      <td>0.866071</td>\n",
       "      <td>0.866667</td>\n",
       "      <td>0.866071</td>\n",
       "      <td>0.733333</td>\n",
       "    </tr>\n",
       "    <tr>\n",
       "      <th>2</th>\n",
       "      <td>70</td>\n",
       "      <td>[0, 0, 0, 1, 0, 0, 1, 1, 0, 0, 1, 1, 1, 0, 0, ...</td>\n",
       "      <td>[0, 0, 0, 1, 0, 0, 1, 0, 0, 0, 1, 1, 1, 0, 0, ...</td>\n",
       "      <td>0.733333</td>\n",
       "      <td>0.732143</td>\n",
       "      <td>0.733333</td>\n",
       "      <td>0.732143</td>\n",
       "      <td>0.466667</td>\n",
       "    </tr>\n",
       "  </tbody>\n",
       "</table>\n",
       "</div>"
      ],
      "text/plain": [
       "   train_size                                             y_true  \\\n",
       "0          70  [0, 0, 1, 0, 0, 1, 1, 1, 1, 0, 1, 1, 0, 0, 1, ...   \n",
       "1          70  [1, 1, 0, 1, 1, 1, 0, 0, 1, 0, 1, 1, 0, 0, 0, ...   \n",
       "2          70  [0, 0, 0, 1, 0, 0, 1, 1, 0, 0, 1, 1, 1, 0, 0, ...   \n",
       "\n",
       "                                              y_pred  accuracy  f1_macro  \\\n",
       "0  [0, 0, 0, 0, 0, 1, 1, 0, 0, 0, 1, 1, 0, 0, 0, ...  0.766667  0.760000   \n",
       "1  [1, 1, 0, 1, 1, 1, 0, 0, 1, 0, 0, 1, 0, 0, 0, ...  0.866667  0.866071   \n",
       "2  [0, 0, 0, 1, 0, 0, 1, 0, 0, 0, 1, 1, 1, 0, 0, ...  0.733333  0.732143   \n",
       "\n",
       "   f1_micro  f1_weighted     kappa  \n",
       "0  0.766667     0.760000  0.533333  \n",
       "1  0.866667     0.866071  0.733333  \n",
       "2  0.733333     0.732143  0.466667  "
      ]
     },
     "execution_count": 36,
     "metadata": {},
     "output_type": "execute_result"
    }
   ],
   "source": [
    "compiled_res_70 = pd.DataFrame(metrics_dict())\n",
    "compiled_res_70.head(3)"
   ]
  },
  {
   "cell_type": "markdown",
   "metadata": {},
   "source": [
    "### training size = 80"
   ]
  },
  {
   "cell_type": "code",
   "execution_count": 37,
   "metadata": {},
   "outputs": [],
   "source": [
    "train_size = 80\n",
    "iterations = 10\n",
    "y_test_all = []\n",
    "y_pred_all = []\n",
    "acc_scores = []\n",
    "f1macro_scores = []\n",
    "f1micro_scores = []\n",
    "f1weighted_scores = []\n",
    "kappa_scores = []"
   ]
  },
  {
   "cell_type": "code",
   "execution_count": 38,
   "metadata": {
    "scrolled": true
   },
   "outputs": [
    {
     "name": "stdout",
     "output_type": "stream",
     "text": [
      "-------------Iteration 1/10\n",
      "80 20\n",
      "random_state = 42\n"
     ]
    },
    {
     "name": "stderr",
     "output_type": "stream",
     "text": [
      "[Parallel(n_jobs=1)]: Done  49 tasks      | elapsed:    0.0s\n",
      "[Parallel(n_jobs=1)]: Done 199 tasks      | elapsed:    0.2s\n",
      "[Parallel(n_jobs=1)]: Done  49 tasks      | elapsed:    0.0s\n",
      "[Parallel(n_jobs=1)]: Done 199 tasks      | elapsed:    0.0s\n"
     ]
    },
    {
     "name": "stdout",
     "output_type": "stream",
     "text": [
      "Accuracy: 0.75\n",
      "F1 macro: 0.7442455242966752\n",
      "F1 micro: 0.75\n",
      "F1 weighted: 0.7442455242966752\n",
      "Kappa: 0.5\n",
      "-------------Iteration 2/10\n",
      "80 20\n",
      "random_state = 43\n",
      "Accuracy: 0.85\n",
      "F1 macro: 0.8465473145780051\n",
      "F1 micro: 0.85\n",
      "F1 weighted: 0.846547314578005\n",
      "Kappa: 0.7\n",
      "-------------Iteration 3/10\n",
      "80 20\n",
      "random_state = 44\n"
     ]
    },
    {
     "name": "stderr",
     "output_type": "stream",
     "text": [
      "[Parallel(n_jobs=1)]: Done  49 tasks      | elapsed:    0.0s\n",
      "[Parallel(n_jobs=1)]: Done 199 tasks      | elapsed:    0.1s\n",
      "[Parallel(n_jobs=1)]: Done  49 tasks      | elapsed:    0.0s\n",
      "[Parallel(n_jobs=1)]: Done 199 tasks      | elapsed:    0.0s\n",
      "[Parallel(n_jobs=1)]: Done  49 tasks      | elapsed:    0.0s\n",
      "[Parallel(n_jobs=1)]: Done 199 tasks      | elapsed:    0.1s\n",
      "[Parallel(n_jobs=1)]: Done  49 tasks      | elapsed:    0.0s\n",
      "[Parallel(n_jobs=1)]: Done 199 tasks      | elapsed:    0.0s\n",
      "[Parallel(n_jobs=1)]: Done  49 tasks      | elapsed:    0.0s\n",
      "[Parallel(n_jobs=1)]: Done 199 tasks      | elapsed:    0.1s\n",
      "[Parallel(n_jobs=1)]: Done  49 tasks      | elapsed:    0.0s\n",
      "[Parallel(n_jobs=1)]: Done 199 tasks      | elapsed:    0.0s\n"
     ]
    },
    {
     "name": "stdout",
     "output_type": "stream",
     "text": [
      "Accuracy: 0.95\n",
      "F1 macro: 0.949874686716792\n",
      "F1 micro: 0.95\n",
      "F1 weighted: 0.949874686716792\n",
      "Kappa: 0.9\n",
      "-------------Iteration 4/10\n",
      "80 20\n",
      "random_state = 45\n",
      "Accuracy: 0.8\n",
      "F1 macro: 0.797979797979798\n",
      "F1 micro: 0.8\n",
      "F1 weighted: 0.7979797979797979\n",
      "Kappa: 0.6\n",
      "-------------Iteration 5/10\n",
      "80 20\n",
      "random_state = 46\n"
     ]
    },
    {
     "name": "stderr",
     "output_type": "stream",
     "text": [
      "[Parallel(n_jobs=1)]: Done  49 tasks      | elapsed:    0.0s\n",
      "[Parallel(n_jobs=1)]: Done 199 tasks      | elapsed:    0.1s\n",
      "[Parallel(n_jobs=1)]: Done  49 tasks      | elapsed:    0.0s\n",
      "[Parallel(n_jobs=1)]: Done 199 tasks      | elapsed:    0.0s\n",
      "[Parallel(n_jobs=1)]: Done  49 tasks      | elapsed:    0.0s\n"
     ]
    },
    {
     "name": "stdout",
     "output_type": "stream",
     "text": [
      "Accuracy: 0.8\n",
      "F1 macro: 0.797979797979798\n",
      "F1 micro: 0.8\n",
      "F1 weighted: 0.7979797979797979\n",
      "Kappa: 0.6\n",
      "-------------Iteration 6/10\n",
      "80 20\n",
      "random_state = 47\n",
      "Accuracy: 0.85\n",
      "F1 macro: 0.8465473145780051\n",
      "F1 micro: 0.85\n",
      "F1 weighted: 0.846547314578005\n",
      "Kappa: 0.7\n",
      "-------------Iteration 7/10\n",
      "80 20\n",
      "random_state = 48\n"
     ]
    },
    {
     "name": "stderr",
     "output_type": "stream",
     "text": [
      "[Parallel(n_jobs=1)]: Done 199 tasks      | elapsed:    0.1s\n",
      "[Parallel(n_jobs=1)]: Done  49 tasks      | elapsed:    0.0s\n",
      "[Parallel(n_jobs=1)]: Done 199 tasks      | elapsed:    0.0s\n",
      "[Parallel(n_jobs=1)]: Done  49 tasks      | elapsed:    0.0s\n",
      "[Parallel(n_jobs=1)]: Done 199 tasks      | elapsed:    0.1s\n",
      "[Parallel(n_jobs=1)]: Done  49 tasks      | elapsed:    0.0s\n",
      "[Parallel(n_jobs=1)]: Done 199 tasks      | elapsed:    0.0s\n"
     ]
    },
    {
     "name": "stdout",
     "output_type": "stream",
     "text": [
      "Accuracy: 0.8\n",
      "F1 macro: 0.7916666666666667\n",
      "F1 micro: 0.8\n",
      "F1 weighted: 0.7916666666666667\n",
      "Kappa: 0.6\n",
      "-------------Iteration 8/10\n",
      "80 20\n",
      "random_state = 49\n",
      "Accuracy: 0.65\n",
      "F1 macro: 0.6419437340153453\n",
      "F1 micro: 0.65\n",
      "F1 weighted: 0.6419437340153452\n",
      "Kappa: 0.30000000000000004\n",
      "-------------Iteration 9/10\n",
      "80 20\n",
      "random_state = 50\n"
     ]
    },
    {
     "name": "stderr",
     "output_type": "stream",
     "text": [
      "[Parallel(n_jobs=1)]: Done  49 tasks      | elapsed:    0.0s\n",
      "[Parallel(n_jobs=1)]: Done 199 tasks      | elapsed:    0.1s\n",
      "[Parallel(n_jobs=1)]: Done  49 tasks      | elapsed:    0.0s\n",
      "[Parallel(n_jobs=1)]: Done 199 tasks      | elapsed:    0.0s\n",
      "[Parallel(n_jobs=1)]: Done  49 tasks      | elapsed:    0.0s\n"
     ]
    },
    {
     "name": "stdout",
     "output_type": "stream",
     "text": [
      "Accuracy: 0.9\n",
      "F1 macro: 0.898989898989899\n",
      "F1 micro: 0.9\n",
      "F1 weighted: 0.898989898989899\n",
      "Kappa: 0.8\n",
      "-------------Iteration 10/10\n",
      "80 20\n",
      "random_state = 51\n",
      "Accuracy: 0.65\n",
      "F1 macro: 0.6266666666666667\n",
      "F1 micro: 0.65\n",
      "F1 weighted: 0.6266666666666666\n",
      "Kappa: 0.30000000000000004\n"
     ]
    },
    {
     "name": "stderr",
     "output_type": "stream",
     "text": [
      "[Parallel(n_jobs=1)]: Done 199 tasks      | elapsed:    0.1s\n",
      "[Parallel(n_jobs=1)]: Done  49 tasks      | elapsed:    0.0s\n",
      "[Parallel(n_jobs=1)]: Done 199 tasks      | elapsed:    0.0s\n",
      "[Parallel(n_jobs=1)]: Done  49 tasks      | elapsed:    0.0s\n",
      "[Parallel(n_jobs=1)]: Done 199 tasks      | elapsed:    0.1s\n",
      "[Parallel(n_jobs=1)]: Done  49 tasks      | elapsed:    0.0s\n",
      "[Parallel(n_jobs=1)]: Done 199 tasks      | elapsed:    0.0s\n"
     ]
    }
   ],
   "source": [
    "for n in range(iterations):\n",
    "    print(f\"-------------Iteration {n + 1}/{iterations}\")\n",
    "    random_state=42+n\n",
    "\n",
    "    X_train, y_train, X_test, y_test = prepare_dataset_classification(\n",
    "        df,\n",
    "        random_state=random_state,\n",
    "        train_size=train_size\n",
    "    )\n",
    "    print(f\"random_state = {random_state}\")\n",
    "\n",
    "    y_test, y_pred, acc, f1_macro, f1_micro, f1_weighted, kappa = train_and_evaluate_classifier(\n",
    "        X_train, \n",
    "        y_train, \n",
    "        X_test, \n",
    "        y_test, \n",
    "        random_state=random_state\n",
    "    )\n",
    "    \n",
    "    y_test_all.append(y_test)\n",
    "    y_pred_all.append(y_pred)    \n",
    "    acc_scores.append(acc)\n",
    "    f1macro_scores.append(f1_macro)\n",
    "    f1micro_scores.append(f1_micro)\n",
    "    f1weighted_scores.append(f1_weighted)\n",
    "    kappa_scores.append(kappa)\n",
    "    print(f\"Accuracy: {acc}\")\n",
    "    print(f\"F1 macro: {f1_macro}\")\n",
    "    print(f\"F1 micro: {f1_micro}\")\n",
    "    print(f\"F1 weighted: {f1_weighted}\")\n",
    "    print(f\"Kappa: {kappa}\")"
   ]
  },
  {
   "cell_type": "code",
   "execution_count": 39,
   "metadata": {},
   "outputs": [
    {
     "name": "stdout",
     "output_type": "stream",
     "text": [
      "FINAL REPORT for training size = 80\n",
      "mean accuracy: 0.8 +/- 0.09219544457292886\n",
      "mean F1 macro: 0.794244140246765 +/- 0.0971986747304734\n",
      "mean F1 micro: 0.8 +/- 0.09219544457292886\n",
      "mean F1 weighted: 0.794244140246765 +/- 0.09719867473047342\n",
      "mean Kappa: 0.6 +/- 0.18439088914585774\n"
     ]
    }
   ],
   "source": [
    "print(f\"FINAL REPORT for training size = {train_size}\")\n",
    "\n",
    "print(f\"mean accuracy: {np.mean(acc_scores)} +/- {np.std(acc_scores)}\")\n",
    "print(f\"mean F1 macro: {np.mean(f1macro_scores)} +/- {np.std(f1macro_scores)}\")\n",
    "print(f\"mean F1 micro: {np.mean(f1micro_scores)} +/- {np.std(f1micro_scores)}\")\n",
    "print(f\"mean F1 weighted: {np.mean(f1weighted_scores)} +/- {np.std(f1weighted_scores)}\")\n",
    "print(f\"mean Kappa: {np.mean(kappa_scores)} +/- {np.std(kappa_scores)}\")"
   ]
  },
  {
   "cell_type": "code",
   "execution_count": 40,
   "metadata": {},
   "outputs": [
    {
     "data": {
      "text/html": [
       "<div>\n",
       "<style scoped>\n",
       "    .dataframe tbody tr th:only-of-type {\n",
       "        vertical-align: middle;\n",
       "    }\n",
       "\n",
       "    .dataframe tbody tr th {\n",
       "        vertical-align: top;\n",
       "    }\n",
       "\n",
       "    .dataframe thead th {\n",
       "        text-align: right;\n",
       "    }\n",
       "</style>\n",
       "<table border=\"1\" class=\"dataframe\">\n",
       "  <thead>\n",
       "    <tr style=\"text-align: right;\">\n",
       "      <th></th>\n",
       "      <th>train_size</th>\n",
       "      <th>y_true</th>\n",
       "      <th>y_pred</th>\n",
       "      <th>accuracy</th>\n",
       "      <th>f1_macro</th>\n",
       "      <th>f1_micro</th>\n",
       "      <th>f1_weighted</th>\n",
       "      <th>kappa</th>\n",
       "    </tr>\n",
       "  </thead>\n",
       "  <tbody>\n",
       "    <tr>\n",
       "      <th>0</th>\n",
       "      <td>80</td>\n",
       "      <td>[1, 1, 1, 1, 0, 0, 0, 1, 0, 0, 0, 1, 0, 0, 0, ...</td>\n",
       "      <td>[1, 1, 0, 1, 0, 0, 0, 1, 0, 0, 0, 0, 0, 0, 1, ...</td>\n",
       "      <td>0.75</td>\n",
       "      <td>0.744246</td>\n",
       "      <td>0.75</td>\n",
       "      <td>0.744246</td>\n",
       "      <td>0.5</td>\n",
       "    </tr>\n",
       "    <tr>\n",
       "      <th>1</th>\n",
       "      <td>80</td>\n",
       "      <td>[0, 0, 0, 0, 1, 1, 0, 1, 1, 1, 1, 0, 1, 1, 1, ...</td>\n",
       "      <td>[0, 0, 0, 0, 1, 0, 0, 1, 1, 1, 1, 0, 1, 0, 1, ...</td>\n",
       "      <td>0.85</td>\n",
       "      <td>0.846547</td>\n",
       "      <td>0.85</td>\n",
       "      <td>0.846547</td>\n",
       "      <td>0.7</td>\n",
       "    </tr>\n",
       "    <tr>\n",
       "      <th>2</th>\n",
       "      <td>80</td>\n",
       "      <td>[1, 0, 1, 1, 1, 0, 0, 0, 1, 0, 1, 1, 0, 0, 1, ...</td>\n",
       "      <td>[1, 0, 1, 1, 1, 0, 0, 0, 1, 0, 1, 1, 0, 0, 1, ...</td>\n",
       "      <td>0.95</td>\n",
       "      <td>0.949875</td>\n",
       "      <td>0.95</td>\n",
       "      <td>0.949875</td>\n",
       "      <td>0.9</td>\n",
       "    </tr>\n",
       "  </tbody>\n",
       "</table>\n",
       "</div>"
      ],
      "text/plain": [
       "   train_size                                             y_true  \\\n",
       "0          80  [1, 1, 1, 1, 0, 0, 0, 1, 0, 0, 0, 1, 0, 0, 0, ...   \n",
       "1          80  [0, 0, 0, 0, 1, 1, 0, 1, 1, 1, 1, 0, 1, 1, 1, ...   \n",
       "2          80  [1, 0, 1, 1, 1, 0, 0, 0, 1, 0, 1, 1, 0, 0, 1, ...   \n",
       "\n",
       "                                              y_pred  accuracy  f1_macro  \\\n",
       "0  [1, 1, 0, 1, 0, 0, 0, 1, 0, 0, 0, 0, 0, 0, 1, ...      0.75  0.744246   \n",
       "1  [0, 0, 0, 0, 1, 0, 0, 1, 1, 1, 1, 0, 1, 0, 1, ...      0.85  0.846547   \n",
       "2  [1, 0, 1, 1, 1, 0, 0, 0, 1, 0, 1, 1, 0, 0, 1, ...      0.95  0.949875   \n",
       "\n",
       "   f1_micro  f1_weighted  kappa  \n",
       "0      0.75     0.744246    0.5  \n",
       "1      0.85     0.846547    0.7  \n",
       "2      0.95     0.949875    0.9  "
      ]
     },
     "execution_count": 40,
     "metadata": {},
     "output_type": "execute_result"
    }
   ],
   "source": [
    "compiled_res_80 = pd.DataFrame(metrics_dict())\n",
    "compiled_res_80.head(3)"
   ]
  },
  {
   "cell_type": "code",
   "execution_count": 41,
   "metadata": {},
   "outputs": [
    {
     "name": "stdout",
     "output_type": "stream",
     "text": [
      "50\n"
     ]
    },
    {
     "data": {
      "text/html": [
       "<div>\n",
       "<style scoped>\n",
       "    .dataframe tbody tr th:only-of-type {\n",
       "        vertical-align: middle;\n",
       "    }\n",
       "\n",
       "    .dataframe tbody tr th {\n",
       "        vertical-align: top;\n",
       "    }\n",
       "\n",
       "    .dataframe thead th {\n",
       "        text-align: right;\n",
       "    }\n",
       "</style>\n",
       "<table border=\"1\" class=\"dataframe\">\n",
       "  <thead>\n",
       "    <tr style=\"text-align: right;\">\n",
       "      <th></th>\n",
       "      <th>train_size</th>\n",
       "      <th>y_true</th>\n",
       "      <th>y_pred</th>\n",
       "      <th>accuracy</th>\n",
       "      <th>f1_macro</th>\n",
       "      <th>f1_micro</th>\n",
       "      <th>f1_weighted</th>\n",
       "      <th>kappa</th>\n",
       "    </tr>\n",
       "  </thead>\n",
       "  <tbody>\n",
       "    <tr>\n",
       "      <th>0</th>\n",
       "      <td>40</td>\n",
       "      <td>[1, 1, 1, 1, 0, 0, 0, 0, 0, 0, 1, 0, 0, 0, 0, ...</td>\n",
       "      <td>[1, 1, 1, 1, 0, 0, 0, 0, 0, 1, 1, 0, 0, 0, 1, ...</td>\n",
       "      <td>0.750000</td>\n",
       "      <td>0.741305</td>\n",
       "      <td>0.750000</td>\n",
       "      <td>0.741305</td>\n",
       "      <td>0.500000</td>\n",
       "    </tr>\n",
       "    <tr>\n",
       "      <th>1</th>\n",
       "      <td>40</td>\n",
       "      <td>[0, 1, 1, 0, 0, 0, 0, 1, 1, 1, 0, 0, 0, 1, 1, ...</td>\n",
       "      <td>[0, 1, 0, 0, 1, 0, 0, 0, 1, 0, 0, 0, 0, 1, 1, ...</td>\n",
       "      <td>0.716667</td>\n",
       "      <td>0.716588</td>\n",
       "      <td>0.716667</td>\n",
       "      <td>0.716588</td>\n",
       "      <td>0.433333</td>\n",
       "    </tr>\n",
       "    <tr>\n",
       "      <th>2</th>\n",
       "      <td>40</td>\n",
       "      <td>[1, 1, 0, 1, 1, 1, 1, 0, 0, 0, 1, 0, 0, 1, 0, ...</td>\n",
       "      <td>[1, 0, 0, 1, 0, 0, 1, 1, 0, 0, 0, 0, 1, 0, 0, ...</td>\n",
       "      <td>0.616667</td>\n",
       "      <td>0.603334</td>\n",
       "      <td>0.616667</td>\n",
       "      <td>0.603334</td>\n",
       "      <td>0.233333</td>\n",
       "    </tr>\n",
       "    <tr>\n",
       "      <th>3</th>\n",
       "      <td>40</td>\n",
       "      <td>[1, 1, 1, 1, 0, 0, 1, 0, 0, 1, 0, 1, 0, 1, 1, ...</td>\n",
       "      <td>[1, 1, 0, 1, 0, 0, 0, 1, 0, 1, 1, 1, 0, 1, 0, ...</td>\n",
       "      <td>0.766667</td>\n",
       "      <td>0.765625</td>\n",
       "      <td>0.766667</td>\n",
       "      <td>0.765625</td>\n",
       "      <td>0.533333</td>\n",
       "    </tr>\n",
       "    <tr>\n",
       "      <th>4</th>\n",
       "      <td>40</td>\n",
       "      <td>[0, 0, 0, 1, 0, 0, 0, 1, 0, 0, 1, 1, 0, 1, 1, ...</td>\n",
       "      <td>[0, 0, 0, 1, 0, 0, 0, 1, 0, 0, 1, 0, 0, 1, 0, ...</td>\n",
       "      <td>0.683333</td>\n",
       "      <td>0.676044</td>\n",
       "      <td>0.683333</td>\n",
       "      <td>0.676044</td>\n",
       "      <td>0.366667</td>\n",
       "    </tr>\n",
       "  </tbody>\n",
       "</table>\n",
       "</div>"
      ],
      "text/plain": [
       "   train_size                                             y_true  \\\n",
       "0          40  [1, 1, 1, 1, 0, 0, 0, 0, 0, 0, 1, 0, 0, 0, 0, ...   \n",
       "1          40  [0, 1, 1, 0, 0, 0, 0, 1, 1, 1, 0, 0, 0, 1, 1, ...   \n",
       "2          40  [1, 1, 0, 1, 1, 1, 1, 0, 0, 0, 1, 0, 0, 1, 0, ...   \n",
       "3          40  [1, 1, 1, 1, 0, 0, 1, 0, 0, 1, 0, 1, 0, 1, 1, ...   \n",
       "4          40  [0, 0, 0, 1, 0, 0, 0, 1, 0, 0, 1, 1, 0, 1, 1, ...   \n",
       "\n",
       "                                              y_pred  accuracy  f1_macro  \\\n",
       "0  [1, 1, 1, 1, 0, 0, 0, 0, 0, 1, 1, 0, 0, 0, 1, ...  0.750000  0.741305   \n",
       "1  [0, 1, 0, 0, 1, 0, 0, 0, 1, 0, 0, 0, 0, 1, 1, ...  0.716667  0.716588   \n",
       "2  [1, 0, 0, 1, 0, 0, 1, 1, 0, 0, 0, 0, 1, 0, 0, ...  0.616667  0.603334   \n",
       "3  [1, 1, 0, 1, 0, 0, 0, 1, 0, 1, 1, 1, 0, 1, 0, ...  0.766667  0.765625   \n",
       "4  [0, 0, 0, 1, 0, 0, 0, 1, 0, 0, 1, 0, 0, 1, 0, ...  0.683333  0.676044   \n",
       "\n",
       "   f1_micro  f1_weighted     kappa  \n",
       "0  0.750000     0.741305  0.500000  \n",
       "1  0.716667     0.716588  0.433333  \n",
       "2  0.616667     0.603334  0.233333  \n",
       "3  0.766667     0.765625  0.533333  \n",
       "4  0.683333     0.676044  0.366667  "
      ]
     },
     "execution_count": 41,
     "metadata": {},
     "output_type": "execute_result"
    }
   ],
   "source": [
    "compiled_res = pd.concat([\n",
    "    compiled_res_40, \n",
    "    compiled_res_50,\n",
    "    compiled_res_60,\n",
    "    compiled_res_70,\n",
    "    compiled_res_80,\n",
    "], ignore_index=True)\n",
    "print(len(compiled_res))\n",
    "compiled_res.head()"
   ]
  },
  {
   "cell_type": "code",
   "execution_count": 42,
   "metadata": {},
   "outputs": [],
   "source": [
    "compiled_res[\"y_true\"] = compiled_res[\"y_true\"].apply(lambda arr: list(arr))\n",
    "compiled_res[\"y_pred\"] = compiled_res[\"y_pred\"].apply(lambda arr: list(arr))"
   ]
  },
  {
   "cell_type": "code",
   "execution_count": 49,
   "metadata": {},
   "outputs": [],
   "source": [
    "compiled_res.to_csv(\"RF_results_viscosity_2bins_5050.csv\", sep=\",\", index=False)"
   ]
  },
  {
   "cell_type": "code",
   "execution_count": 50,
   "metadata": {},
   "outputs": [
    {
     "name": "stdout",
     "output_type": "stream",
     "text": [
      "<class 'pandas.core.frame.DataFrame'>\n",
      "RangeIndex: 50 entries, 0 to 49\n",
      "Data columns (total 8 columns):\n",
      " #   Column       Non-Null Count  Dtype  \n",
      "---  ------       --------------  -----  \n",
      " 0   train_size   50 non-null     int64  \n",
      " 1   y_true       50 non-null     object \n",
      " 2   y_pred       50 non-null     object \n",
      " 3   accuracy     50 non-null     float64\n",
      " 4   f1_macro     50 non-null     float64\n",
      " 5   f1_micro     50 non-null     float64\n",
      " 6   f1_weighted  50 non-null     float64\n",
      " 7   kappa        50 non-null     float64\n",
      "dtypes: float64(5), int64(1), object(2)\n",
      "memory usage: 3.2+ KB\n"
     ]
    }
   ],
   "source": [
    "df = pd.read_csv(\"RF_results_viscosity_2bins_5050.csv\", sep=',')\n",
    "df.info()"
   ]
  },
  {
   "cell_type": "code",
   "execution_count": 51,
   "metadata": {},
   "outputs": [
    {
     "data": {
      "text/html": [
       "<div>\n",
       "<style scoped>\n",
       "    .dataframe tbody tr th:only-of-type {\n",
       "        vertical-align: middle;\n",
       "    }\n",
       "\n",
       "    .dataframe tbody tr th {\n",
       "        vertical-align: top;\n",
       "    }\n",
       "\n",
       "    .dataframe thead th {\n",
       "        text-align: right;\n",
       "    }\n",
       "</style>\n",
       "<table border=\"1\" class=\"dataframe\">\n",
       "  <thead>\n",
       "    <tr style=\"text-align: right;\">\n",
       "      <th></th>\n",
       "      <th>train_size</th>\n",
       "      <th>y_true</th>\n",
       "      <th>y_pred</th>\n",
       "      <th>accuracy</th>\n",
       "      <th>f1_macro</th>\n",
       "      <th>f1_micro</th>\n",
       "      <th>f1_weighted</th>\n",
       "      <th>kappa</th>\n",
       "    </tr>\n",
       "  </thead>\n",
       "  <tbody>\n",
       "    <tr>\n",
       "      <th>0</th>\n",
       "      <td>40</td>\n",
       "      <td>[1, 1, 1, 1, 0, 0, 0, 0, 0, 0, 1, 0, 0, 0, 0, ...</td>\n",
       "      <td>[1, 1, 1, 1, 0, 0, 0, 0, 0, 1, 1, 0, 0, 0, 1, ...</td>\n",
       "      <td>0.750000</td>\n",
       "      <td>0.741305</td>\n",
       "      <td>0.750000</td>\n",
       "      <td>0.741305</td>\n",
       "      <td>0.500000</td>\n",
       "    </tr>\n",
       "    <tr>\n",
       "      <th>1</th>\n",
       "      <td>40</td>\n",
       "      <td>[0, 1, 1, 0, 0, 0, 0, 1, 1, 1, 0, 0, 0, 1, 1, ...</td>\n",
       "      <td>[0, 1, 0, 0, 1, 0, 0, 0, 1, 0, 0, 0, 0, 1, 1, ...</td>\n",
       "      <td>0.716667</td>\n",
       "      <td>0.716588</td>\n",
       "      <td>0.716667</td>\n",
       "      <td>0.716588</td>\n",
       "      <td>0.433333</td>\n",
       "    </tr>\n",
       "    <tr>\n",
       "      <th>2</th>\n",
       "      <td>40</td>\n",
       "      <td>[1, 1, 0, 1, 1, 1, 1, 0, 0, 0, 1, 0, 0, 1, 0, ...</td>\n",
       "      <td>[1, 0, 0, 1, 0, 0, 1, 1, 0, 0, 0, 0, 1, 0, 0, ...</td>\n",
       "      <td>0.616667</td>\n",
       "      <td>0.603334</td>\n",
       "      <td>0.616667</td>\n",
       "      <td>0.603334</td>\n",
       "      <td>0.233333</td>\n",
       "    </tr>\n",
       "  </tbody>\n",
       "</table>\n",
       "</div>"
      ],
      "text/plain": [
       "   train_size                                             y_true  \\\n",
       "0          40  [1, 1, 1, 1, 0, 0, 0, 0, 0, 0, 1, 0, 0, 0, 0, ...   \n",
       "1          40  [0, 1, 1, 0, 0, 0, 0, 1, 1, 1, 0, 0, 0, 1, 1, ...   \n",
       "2          40  [1, 1, 0, 1, 1, 1, 1, 0, 0, 0, 1, 0, 0, 1, 0, ...   \n",
       "\n",
       "                                              y_pred  accuracy  f1_macro  \\\n",
       "0  [1, 1, 1, 1, 0, 0, 0, 0, 0, 1, 1, 0, 0, 0, 1, ...  0.750000  0.741305   \n",
       "1  [0, 1, 0, 0, 1, 0, 0, 0, 1, 0, 0, 0, 0, 1, 1, ...  0.716667  0.716588   \n",
       "2  [1, 0, 0, 1, 0, 0, 1, 1, 0, 0, 0, 0, 1, 0, 0, ...  0.616667  0.603334   \n",
       "\n",
       "   f1_micro  f1_weighted     kappa  \n",
       "0  0.750000     0.741305  0.500000  \n",
       "1  0.716667     0.716588  0.433333  \n",
       "2  0.616667     0.603334  0.233333  "
      ]
     },
     "execution_count": 51,
     "metadata": {},
     "output_type": "execute_result"
    }
   ],
   "source": [
    "df.head(3)"
   ]
  },
  {
   "cell_type": "code",
   "execution_count": 52,
   "metadata": {},
   "outputs": [
    {
     "data": {
      "text/html": [
       "<div>\n",
       "<style scoped>\n",
       "    .dataframe tbody tr th:only-of-type {\n",
       "        vertical-align: middle;\n",
       "    }\n",
       "\n",
       "    .dataframe tbody tr th {\n",
       "        vertical-align: top;\n",
       "    }\n",
       "\n",
       "    .dataframe thead tr th {\n",
       "        text-align: left;\n",
       "    }\n",
       "\n",
       "    .dataframe thead tr:last-of-type th {\n",
       "        text-align: right;\n",
       "    }\n",
       "</style>\n",
       "<table border=\"1\" class=\"dataframe\">\n",
       "  <thead>\n",
       "    <tr>\n",
       "      <th></th>\n",
       "      <th colspan=\"2\" halign=\"left\">accuracy</th>\n",
       "      <th colspan=\"2\" halign=\"left\">f1_macro</th>\n",
       "      <th colspan=\"2\" halign=\"left\">f1_micro</th>\n",
       "      <th colspan=\"2\" halign=\"left\">f1_weighted</th>\n",
       "      <th colspan=\"2\" halign=\"left\">kappa</th>\n",
       "    </tr>\n",
       "    <tr>\n",
       "      <th></th>\n",
       "      <th>mean</th>\n",
       "      <th>sem</th>\n",
       "      <th>mean</th>\n",
       "      <th>sem</th>\n",
       "      <th>mean</th>\n",
       "      <th>sem</th>\n",
       "      <th>mean</th>\n",
       "      <th>sem</th>\n",
       "      <th>mean</th>\n",
       "      <th>sem</th>\n",
       "    </tr>\n",
       "    <tr>\n",
       "      <th>train_size</th>\n",
       "      <th></th>\n",
       "      <th></th>\n",
       "      <th></th>\n",
       "      <th></th>\n",
       "      <th></th>\n",
       "      <th></th>\n",
       "      <th></th>\n",
       "      <th></th>\n",
       "      <th></th>\n",
       "      <th></th>\n",
       "    </tr>\n",
       "  </thead>\n",
       "  <tbody>\n",
       "    <tr>\n",
       "      <th>40</th>\n",
       "      <td>0.715</td>\n",
       "      <td>0.017114</td>\n",
       "      <td>0.705749</td>\n",
       "      <td>0.019305</td>\n",
       "      <td>0.715</td>\n",
       "      <td>0.017114</td>\n",
       "      <td>0.705749</td>\n",
       "      <td>0.019305</td>\n",
       "      <td>0.430</td>\n",
       "      <td>0.034229</td>\n",
       "    </tr>\n",
       "    <tr>\n",
       "      <th>50</th>\n",
       "      <td>0.712</td>\n",
       "      <td>0.009043</td>\n",
       "      <td>0.707623</td>\n",
       "      <td>0.008433</td>\n",
       "      <td>0.712</td>\n",
       "      <td>0.009043</td>\n",
       "      <td>0.707623</td>\n",
       "      <td>0.008433</td>\n",
       "      <td>0.424</td>\n",
       "      <td>0.018086</td>\n",
       "    </tr>\n",
       "    <tr>\n",
       "      <th>60</th>\n",
       "      <td>0.740</td>\n",
       "      <td>0.015000</td>\n",
       "      <td>0.730082</td>\n",
       "      <td>0.016261</td>\n",
       "      <td>0.740</td>\n",
       "      <td>0.015000</td>\n",
       "      <td>0.730082</td>\n",
       "      <td>0.016261</td>\n",
       "      <td>0.480</td>\n",
       "      <td>0.030000</td>\n",
       "    </tr>\n",
       "    <tr>\n",
       "      <th>70</th>\n",
       "      <td>0.790</td>\n",
       "      <td>0.020518</td>\n",
       "      <td>0.784666</td>\n",
       "      <td>0.022496</td>\n",
       "      <td>0.790</td>\n",
       "      <td>0.020518</td>\n",
       "      <td>0.784666</td>\n",
       "      <td>0.022496</td>\n",
       "      <td>0.580</td>\n",
       "      <td>0.041036</td>\n",
       "    </tr>\n",
       "    <tr>\n",
       "      <th>80</th>\n",
       "      <td>0.800</td>\n",
       "      <td>0.030732</td>\n",
       "      <td>0.794244</td>\n",
       "      <td>0.032400</td>\n",
       "      <td>0.800</td>\n",
       "      <td>0.030732</td>\n",
       "      <td>0.794244</td>\n",
       "      <td>0.032400</td>\n",
       "      <td>0.600</td>\n",
       "      <td>0.061464</td>\n",
       "    </tr>\n",
       "  </tbody>\n",
       "</table>\n",
       "</div>"
      ],
      "text/plain": [
       "           accuracy            f1_macro           f1_micro            \\\n",
       "               mean       sem      mean       sem     mean       sem   \n",
       "train_size                                                             \n",
       "40            0.715  0.017114  0.705749  0.019305    0.715  0.017114   \n",
       "50            0.712  0.009043  0.707623  0.008433    0.712  0.009043   \n",
       "60            0.740  0.015000  0.730082  0.016261    0.740  0.015000   \n",
       "70            0.790  0.020518  0.784666  0.022496    0.790  0.020518   \n",
       "80            0.800  0.030732  0.794244  0.032400    0.800  0.030732   \n",
       "\n",
       "           f1_weighted            kappa            \n",
       "                  mean       sem   mean       sem  \n",
       "train_size                                         \n",
       "40            0.705749  0.019305  0.430  0.034229  \n",
       "50            0.707623  0.008433  0.424  0.018086  \n",
       "60            0.730082  0.016261  0.480  0.030000  \n",
       "70            0.784666  0.022496  0.580  0.041036  \n",
       "80            0.794244  0.032400  0.600  0.061464  "
      ]
     },
     "execution_count": 52,
     "metadata": {},
     "output_type": "execute_result"
    }
   ],
   "source": [
    "grouped_res = df.select_dtypes(include = [\"int\", \"float\"]).groupby(['train_size']).agg(['mean', 'sem'])\n",
    "grouped_res"
   ]
  },
  {
   "cell_type": "code",
   "execution_count": 53,
   "metadata": {},
   "outputs": [],
   "source": [
    "conf_mats = []\n",
    "for i in np.arange(len(df)):\n",
    "    confusion_matrix = {\n",
    "        'all_y_true': literal_eval(df[\"y_true\"][i]),\n",
    "        'all_y_pred': literal_eval(df[\"y_pred\"][i])\n",
    "    }\n",
    "    conf_mats.append(confusion_matrix)"
   ]
  },
  {
   "cell_type": "code",
   "execution_count": 54,
   "metadata": {},
   "outputs": [
    {
     "name": "stdout",
     "output_type": "stream",
     "text": [
      "[[0.94 0.06]\n",
      " [0.34 0.66]]\n",
      "accuracy: 0.8\n"
     ]
    },
    {
     "data": {
      "image/png": "[encoded data removed]",
      "text/plain": [
       "<Figure size 330x250 with 2 Axes>"
      ]
     },
     "metadata": {},
     "output_type": "display_data"
    }
   ],
   "source": [
    "index_maxsize = compiled_res[compiled_res[\"train_size\"]==max(compiled_res[\"train_size\"])].index\n",
    "conf_mats_max = [conf_mats[i] for i in index_maxsize]\n",
    "\n",
    "actual_all, predicted_all = [], []\n",
    "for index, _ in enumerate(conf_mats_max):\n",
    "    preds = conf_mats_max[index]\n",
    "    actual = preds[\"all_y_true\"]\n",
    "    predicted = preds[\"all_y_pred\"]\n",
    "    \n",
    "    for true, pred in zip(actual, predicted):\n",
    "        actual_all.append(true)\n",
    "        predicted_all.append(pred)\n",
    "\n",
    "confusion_matrix = metrics.confusion_matrix(actual_all, predicted_all)\n",
    "confusion_matrix_norm = confusion_matrix.astype(\"float\") / confusion_matrix.sum(axis=1)[:, np.newaxis]\n",
    "print(confusion_matrix_norm)\n",
    "\n",
    "cm = pycm.ConfusionMatrix(list(actual_all), list(predicted_all))\n",
    "acc = cm.Overall_ACC\n",
    "\n",
    "print(f'accuracy: {acc}')\n",
    "\n",
    "cm_display = metrics.ConfusionMatrixDisplay(\n",
    "    confusion_matrix = confusion_matrix_norm, display_labels = [0, 1])\n",
    "cm_display.plot(cmap=plt.cm.Blues, include_values=True, values_format=\".2f\")\n",
    "#plt.savefig('classif_viscosity_confusionMatrix_50_50_size80_RF.pdf', bbox_inches='tight')"
   ]
  },
  {
   "cell_type": "code",
   "execution_count": null,
   "metadata": {},
   "outputs": [],
   "source": []
  },
  {
   "cell_type": "code",
   "execution_count": null,
   "metadata": {},
   "outputs": [],
   "source": []
  },
  {
   "cell_type": "code",
   "execution_count": null,
   "metadata": {},
   "outputs": [],
   "source": []
  },
  {
   "cell_type": "code",
   "execution_count": null,
   "metadata": {},
   "outputs": [],
   "source": []
  }
 ],
 "metadata": {
  "kernelspec": {
   "display_name": "Python [conda env:debyecalculator_env]",
   "language": "python",
   "name": "conda-env-debyecalculator_env-py"
  },
  "language_info": {
   "codemirror_mode": {
    "name": "ipython",
    "version": 3
   },
   "file_extension": ".py",
   "mimetype": "text/x-python",
   "name": "python",
   "nbconvert_exporter": "python",
   "pygments_lexer": "ipython3",
   "version": "3.9.19"
  }
 },
 "nbformat": 4,
 "nbformat_minor": 2
}
