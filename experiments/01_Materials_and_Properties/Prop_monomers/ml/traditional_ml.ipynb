{
 "cells": [
  {
   "cell_type": "markdown",
   "metadata": {},
   "source": [
    "## Traditional machine learning\n",
    "Feature(s): 'SMILES' column\n",
    "\n",
    "- convert to morgan fingerprint\n",
    "\n",
    "Target: E_coh_bin,T_g_bin,R_gyr_bin,Densities_bin\n",
    "\n",
    "- 4 targets\n",
    "- each a binary class of a monomer property"
   ]
  },
  {
   "cell_type": "code",
   "execution_count": 1,
   "metadata": {},
   "outputs": [],
   "source": [
    "import sys\n",
    "import os\n",
    "\n",
    "# Append the parent directory of your package to sys.path\n",
    "sys.path.append(os.path.abspath(os.path.join(os.getcwd(), '..', '..', '..', '..')))"
   ]
  },
  {
   "cell_type": "code",
   "execution_count": 2,
   "metadata": {},
   "outputs": [
    {
     "name": "stdout",
     "output_type": "stream",
     "text": [
      "Count of unique smiles: 410\n",
      "Count of all of the smiles: 410\n"
     ]
    }
   ],
   "source": [
    "import pandas as pd\n",
    "import numpy as np\n",
    "import zipfile\n",
    "\n",
    "path_to_dataset = 'train_ben.csv'\n",
    "csv_filename = 'train_ben.csv'\n",
    "\n",
    "# Open the file, Correct the encoding and sep if necessary\n",
    "if path_to_dataset.endswith('.zip'):\n",
    "    with zipfile.ZipFile(path_to_dataset, 'r') as z:\n",
    "        # Open the CSV file within the ZIP file\n",
    "        with z.open(csv_filename) as f:\n",
    "            # Read the CSV file into a DataFrame\n",
    "            df = pd.read_csv(f, sep=',', on_bad_lines='warn')\n",
    "else:\n",
    "    # Read the CSV file into a DataFrame\n",
    "    df = pd.read_csv(path_to_dataset, sep=',', on_bad_lines='warn')\n",
    "\n",
    "\n",
    "print('Count of unique smiles:', df.SMILES.unique().shape[0])\n",
    "print('Count of all of the smiles:', df.shape[0])"
   ]
  },
  {
   "cell_type": "code",
   "execution_count": 3,
   "metadata": {},
   "outputs": [
    {
     "name": "stderr",
     "output_type": "stream",
     "text": [
      "/home/lsmo/.local/lib/python3.10/site-packages/tqdm/auto.py:21: TqdmWarning: IProgress not found. Please update jupyter and ipywidgets. See https://ipywidgets.readthedocs.io/en/stable/user_install.html\n",
      "  from .autonotebook import tqdm as notebook_tqdm\n"
     ]
    }
   ],
   "source": [
    "from MLPipeline import MLmodel, BinTheTarget\n",
    "\n",
    "Target = ['E_coh_bin','T_g_bin','R_gyr_bin','Densities_bin']\n",
    "Features = ['SMILES']\n",
    "Feature_types = ['SMILES']\n",
    "input = df"
   ]
  },
  {
   "cell_type": "code",
   "execution_count": 4,
   "metadata": {},
   "outputs": [
    {
     "name": "stderr",
     "output_type": "stream",
     "text": [
      "\u001b[32m2024-09-12 17:34:10.177\u001b[0m | \u001b[1mINFO    \u001b[0m | \u001b[36mMLPipeline\u001b[0m:\u001b[36m__post_init__\u001b[0m:\u001b[36m134\u001b[0m - \u001b[1mndim y_train: 2\u001b[0m\n",
      "\u001b[32m2024-09-12 17:34:10.178\u001b[0m | \u001b[1mINFO    \u001b[0m | \u001b[36mMLPipeline\u001b[0m:\u001b[36m__post_init__\u001b[0m:\u001b[36m135\u001b[0m - \u001b[1mndim x_train: 2\u001b[0m\n",
      "\u001b[32m2024-09-12 17:34:10.178\u001b[0m | \u001b[1mINFO    \u001b[0m | \u001b[36mMLPipeline\u001b[0m:\u001b[36m__post_init__\u001b[0m:\u001b[36m136\u001b[0m - \u001b[1mshape y_train: (50, 4)\u001b[0m\n",
      "\u001b[32m2024-09-12 17:34:10.179\u001b[0m | \u001b[1mINFO    \u001b[0m | \u001b[36mMLPipeline\u001b[0m:\u001b[36m__post_init__\u001b[0m:\u001b[36m137\u001b[0m - \u001b[1mshape x_train: (50, 512)\u001b[0m\n"
     ]
    }
   ],
   "source": [
    "model = MLmodel(modelType='RandomForestClassifier',\n",
    "                    df=input,\n",
    "                    target=Target,\n",
    "                    features=Features,\n",
    "                    feature_types=Feature_types)\n",
    "\n",
    "# get the values (input and output) of the model\n",
    "X_train, X_test, y_train, y_test = model.getValues()"
   ]
  },
  {
   "cell_type": "code",
   "execution_count": 5,
   "metadata": {},
   "outputs": [
    {
     "name": "stdout",
     "output_type": "stream",
     "text": [
      "RandomForestClassifier model trained successfully.\n",
      "Accuracies for each target in RandomForestClassifier: [0.7, 0.68, 0.82, 0.72]\n"
     ]
    },
    {
     "data": {
      "text/plain": [
       "[0.7, 0.68, 0.82, 0.72]"
      ]
     },
     "execution_count": 5,
     "metadata": {},
     "output_type": "execute_result"
    }
   ],
   "source": [
    "model.train()\n",
    "model.evaluate()"
   ]
  },
  {
   "cell_type": "code",
   "execution_count": 6,
   "metadata": {},
   "outputs": [],
   "source": [
    "from sklearn.model_selection import cross_val_score\n",
    "from sklearn.base import clone\n",
    "\n",
    "def objective(trial, model_instance):\n",
    "    \"\"\"\n",
    "    Objective function for Optuna to minimize.\n",
    "    \"\"\"\n",
    "    # Define hyperparameters to tune\n",
    "    params = {\n",
    "        'n_estimators': trial.suggest_int('n_estimators', 50, 300),\n",
    "        'max_depth': trial.suggest_categorical('max_depth', [None, 10, 20, 30, 40]),\n",
    "        'min_samples_split': trial.suggest_int('min_samples_split', 2, 15),\n",
    "        'min_samples_leaf': trial.suggest_int('min_samples_leaf', 1, 6),\n",
    "        'max_features': trial.suggest_categorical('max_features', ['sqrt', 'log2']),\n",
    "        'bootstrap': trial.suggest_categorical('bootstrap', [True, False])\n",
    "    }\n",
    "\n",
    "\n",
    "    # Clone the model to ensure a fresh instance each trial\n",
    "    model_to_clone = model_instance.model.estimator\n",
    "    model_clone = clone(model_to_clone)\n",
    "    model_clone.set_params(**params)\n",
    "    \n",
    "    # Define the score metric\n",
    "    scoring = 'accuracy'\n",
    "\n",
    "    # Perform cross-validation\n",
    "    scores = cross_val_score(model_clone, model_instance.X_train, model_instance.y_train, cv=model_instance.cv, scoring=scoring)\n",
    "\n",
    "    # Return the average score across all folds\n",
    "    return scores.mean()"
   ]
  },
  {
   "cell_type": "code",
   "execution_count": 7,
   "metadata": {},
   "outputs": [
    {
     "name": "stderr",
     "output_type": "stream",
     "text": [
      "\u001b[32m2024-09-12 17:34:11.020\u001b[0m | \u001b[1mINFO    \u001b[0m | \u001b[36mMLPipeline\u001b[0m:\u001b[36m__post_init__\u001b[0m:\u001b[36m134\u001b[0m - \u001b[1mndim y_train: 2\u001b[0m\n",
      "\u001b[32m2024-09-12 17:34:11.020\u001b[0m | \u001b[1mINFO    \u001b[0m | \u001b[36mMLPipeline\u001b[0m:\u001b[36m__post_init__\u001b[0m:\u001b[36m135\u001b[0m - \u001b[1mndim x_train: 2\u001b[0m\n",
      "\u001b[32m2024-09-12 17:34:11.021\u001b[0m | \u001b[1mINFO    \u001b[0m | \u001b[36mMLPipeline\u001b[0m:\u001b[36m__post_init__\u001b[0m:\u001b[36m136\u001b[0m - \u001b[1mshape y_train: (50, 4)\u001b[0m\n",
      "\u001b[32m2024-09-12 17:34:11.021\u001b[0m | \u001b[1mINFO    \u001b[0m | \u001b[36mMLPipeline\u001b[0m:\u001b[36m__post_init__\u001b[0m:\u001b[36m137\u001b[0m - \u001b[1mshape x_train: (50, 512)\u001b[0m\n",
      "[I 2024-09-12 17:34:11,022] A new study created in memory with name: no-name-92d337e9-34cf-468c-870a-884ea6cde08b\n",
      "[I 2024-09-12 17:34:11,620] Trial 0 finished with value: 0.06000000000000001 and parameters: {'n_estimators': 149, 'max_depth': 40, 'min_samples_split': 11, 'min_samples_leaf': 2, 'max_features': 'log2', 'bootstrap': False}. Best is trial 0 with value: 0.06000000000000001.\n",
      "[I 2024-09-12 17:34:12,333] Trial 1 finished with value: 0.06000000000000001 and parameters: {'n_estimators': 181, 'max_depth': None, 'min_samples_split': 3, 'min_samples_leaf': 4, 'max_features': 'log2', 'bootstrap': False}. Best is trial 0 with value: 0.06000000000000001.\n",
      "[I 2024-09-12 17:34:13,633] Trial 2 finished with value: 0.1 and parameters: {'n_estimators': 246, 'max_depth': 20, 'min_samples_split': 11, 'min_samples_leaf': 3, 'max_features': 'log2', 'bootstrap': True}. Best is trial 2 with value: 0.1.\n",
      "[I 2024-09-12 17:34:15,180] Trial 3 finished with value: 0.06000000000000001 and parameters: {'n_estimators': 291, 'max_depth': 10, 'min_samples_split': 9, 'min_samples_leaf': 2, 'max_features': 'log2', 'bootstrap': True}. Best is trial 2 with value: 0.1.\n",
      "[I 2024-09-12 17:34:16,255] Trial 4 finished with value: 0.08 and parameters: {'n_estimators': 282, 'max_depth': 10, 'min_samples_split': 4, 'min_samples_leaf': 6, 'max_features': 'log2', 'bootstrap': False}. Best is trial 2 with value: 0.1.\n",
      "[I 2024-09-12 17:34:17,732] Trial 5 finished with value: 0.06000000000000001 and parameters: {'n_estimators': 271, 'max_depth': 10, 'min_samples_split': 4, 'min_samples_leaf': 2, 'max_features': 'sqrt', 'bootstrap': True}. Best is trial 2 with value: 0.1.\n",
      "[I 2024-09-12 17:34:18,109] Trial 6 finished with value: 0.12000000000000002 and parameters: {'n_estimators': 91, 'max_depth': 30, 'min_samples_split': 10, 'min_samples_leaf': 1, 'max_features': 'log2', 'bootstrap': False}. Best is trial 6 with value: 0.12000000000000002.\n",
      "[I 2024-09-12 17:34:18,911] Trial 7 finished with value: 0.06000000000000001 and parameters: {'n_estimators': 195, 'max_depth': None, 'min_samples_split': 11, 'min_samples_leaf': 2, 'max_features': 'sqrt', 'bootstrap': False}. Best is trial 6 with value: 0.12000000000000002.\n",
      "[I 2024-09-12 17:34:19,573] Trial 8 finished with value: 0.08 and parameters: {'n_estimators': 122, 'max_depth': None, 'min_samples_split': 12, 'min_samples_leaf': 3, 'max_features': 'log2', 'bootstrap': True}. Best is trial 6 with value: 0.12000000000000002.\n",
      "[I 2024-09-12 17:34:20,617] Trial 9 finished with value: 0.08 and parameters: {'n_estimators': 253, 'max_depth': 30, 'min_samples_split': 4, 'min_samples_leaf': 1, 'max_features': 'log2', 'bootstrap': False}. Best is trial 6 with value: 0.12000000000000002.\n",
      "[I 2024-09-12 17:34:20,878] Trial 10 finished with value: 0.08 and parameters: {'n_estimators': 61, 'max_depth': 30, 'min_samples_split': 15, 'min_samples_leaf': 5, 'max_features': 'sqrt', 'bootstrap': False}. Best is trial 6 with value: 0.12000000000000002.\n",
      "[I 2024-09-12 17:34:21,372] Trial 11 finished with value: 0.1 and parameters: {'n_estimators': 77, 'max_depth': 20, 'min_samples_split': 8, 'min_samples_leaf': 1, 'max_features': 'log2', 'bootstrap': True}. Best is trial 6 with value: 0.12000000000000002.\n",
      "[I 2024-09-12 17:34:22,579] Trial 12 finished with value: 0.1 and parameters: {'n_estimators': 225, 'max_depth': 20, 'min_samples_split': 7, 'min_samples_leaf': 4, 'max_features': 'log2', 'bootstrap': True}. Best is trial 6 with value: 0.12000000000000002.\n",
      "[I 2024-09-12 17:34:23,179] Trial 13 finished with value: 0.12000000000000002 and parameters: {'n_estimators': 109, 'max_depth': 20, 'min_samples_split': 14, 'min_samples_leaf': 3, 'max_features': 'log2', 'bootstrap': True}. Best is trial 6 with value: 0.12000000000000002.\n",
      "[I 2024-09-12 17:34:23,638] Trial 14 finished with value: 0.08 and parameters: {'n_estimators': 107, 'max_depth': 30, 'min_samples_split': 15, 'min_samples_leaf': 1, 'max_features': 'sqrt', 'bootstrap': False}. Best is trial 6 with value: 0.12000000000000002.\n",
      "[I 2024-09-12 17:34:24,165] Trial 15 finished with value: 0.1 and parameters: {'n_estimators': 96, 'max_depth': 40, 'min_samples_split': 13, 'min_samples_leaf': 5, 'max_features': 'log2', 'bootstrap': True}. Best is trial 6 with value: 0.12000000000000002.\n",
      "[I 2024-09-12 17:34:24,725] Trial 16 finished with value: 0.08 and parameters: {'n_estimators': 138, 'max_depth': 20, 'min_samples_split': 13, 'min_samples_leaf': 3, 'max_features': 'log2', 'bootstrap': False}. Best is trial 6 with value: 0.12000000000000002.\n",
      "[I 2024-09-12 17:34:25,022] Trial 17 finished with value: 0.08 and parameters: {'n_estimators': 52, 'max_depth': 30, 'min_samples_split': 9, 'min_samples_leaf': 4, 'max_features': 'log2', 'bootstrap': True}. Best is trial 6 with value: 0.12000000000000002.\n",
      "[I 2024-09-12 17:34:25,904] Trial 18 finished with value: 0.08 and parameters: {'n_estimators': 164, 'max_depth': 20, 'min_samples_split': 6, 'min_samples_leaf': 6, 'max_features': 'sqrt', 'bootstrap': True}. Best is trial 6 with value: 0.12000000000000002.\n",
      "[I 2024-09-12 17:34:26,262] Trial 19 finished with value: 0.1 and parameters: {'n_estimators': 84, 'max_depth': 30, 'min_samples_split': 14, 'min_samples_leaf': 1, 'max_features': 'log2', 'bootstrap': False}. Best is trial 6 with value: 0.12000000000000002.\n",
      "[I 2024-09-12 17:34:26,937] Trial 20 finished with value: 0.14 and parameters: {'n_estimators': 119, 'max_depth': 40, 'min_samples_split': 10, 'min_samples_leaf': 5, 'max_features': 'log2', 'bootstrap': True}. Best is trial 20 with value: 0.14.\n",
      "[I 2024-09-12 17:34:27,608] Trial 21 finished with value: 0.08 and parameters: {'n_estimators': 120, 'max_depth': 40, 'min_samples_split': 10, 'min_samples_leaf': 5, 'max_features': 'log2', 'bootstrap': True}. Best is trial 20 with value: 0.14.\n",
      "[I 2024-09-12 17:34:28,355] Trial 22 finished with value: 0.1 and parameters: {'n_estimators': 135, 'max_depth': 40, 'min_samples_split': 6, 'min_samples_leaf': 5, 'max_features': 'log2', 'bootstrap': True}. Best is trial 20 with value: 0.14.\n",
      "[I 2024-09-12 17:34:28,899] Trial 23 finished with value: 0.08 and parameters: {'n_estimators': 99, 'max_depth': 40, 'min_samples_split': 13, 'min_samples_leaf': 3, 'max_features': 'log2', 'bootstrap': True}. Best is trial 20 with value: 0.14.\n",
      "[I 2024-09-12 17:34:29,334] Trial 24 finished with value: 0.08 and parameters: {'n_estimators': 76, 'max_depth': 40, 'min_samples_split': 10, 'min_samples_leaf': 6, 'max_features': 'log2', 'bootstrap': True}. Best is trial 20 with value: 0.14.\n",
      "[I 2024-09-12 17:34:30,200] Trial 25 finished with value: 0.08 and parameters: {'n_estimators': 160, 'max_depth': 20, 'min_samples_split': 8, 'min_samples_leaf': 4, 'max_features': 'log2', 'bootstrap': True}. Best is trial 20 with value: 0.14.\n",
      "[I 2024-09-12 17:34:30,692] Trial 26 finished with value: 0.1 and parameters: {'n_estimators': 116, 'max_depth': 30, 'min_samples_split': 12, 'min_samples_leaf': 2, 'max_features': 'sqrt', 'bootstrap': False}. Best is trial 20 with value: 0.14.\n",
      "[I 2024-09-12 17:34:31,658] Trial 27 finished with value: 0.14 and parameters: {'n_estimators': 181, 'max_depth': 20, 'min_samples_split': 10, 'min_samples_leaf': 5, 'max_features': 'log2', 'bootstrap': True}. Best is trial 20 with value: 0.14.\n",
      "[I 2024-09-12 17:34:32,460] Trial 28 finished with value: 0.06000000000000001 and parameters: {'n_estimators': 204, 'max_depth': 30, 'min_samples_split': 10, 'min_samples_leaf': 5, 'max_features': 'log2', 'bootstrap': False}. Best is trial 20 with value: 0.14.\n",
      "[I 2024-09-12 17:34:33,010] Trial 29 finished with value: 0.06000000000000001 and parameters: {'n_estimators': 138, 'max_depth': 40, 'min_samples_split': 7, 'min_samples_leaf': 6, 'max_features': 'log2', 'bootstrap': False}. Best is trial 20 with value: 0.14.\n",
      "[I 2024-09-12 17:34:33,947] Trial 30 finished with value: 0.08 and parameters: {'n_estimators': 175, 'max_depth': 40, 'min_samples_split': 10, 'min_samples_leaf': 5, 'max_features': 'log2', 'bootstrap': True}. Best is trial 20 with value: 0.14.\n",
      "[I 2024-09-12 17:34:34,734] Trial 31 finished with value: 0.1 and parameters: {'n_estimators': 146, 'max_depth': 20, 'min_samples_split': 12, 'min_samples_leaf': 4, 'max_features': 'log2', 'bootstrap': True}. Best is trial 20 with value: 0.14.\n",
      "[I 2024-09-12 17:34:35,818] Trial 32 finished with value: 0.08 and parameters: {'n_estimators': 202, 'max_depth': 20, 'min_samples_split': 11, 'min_samples_leaf': 4, 'max_features': 'log2', 'bootstrap': True}. Best is trial 20 with value: 0.14.\n",
      "[I 2024-09-12 17:34:36,307] Trial 33 finished with value: 0.1 and parameters: {'n_estimators': 88, 'max_depth': 20, 'min_samples_split': 9, 'min_samples_leaf': 5, 'max_features': 'log2', 'bootstrap': True}. Best is trial 20 with value: 0.14.\n",
      "[I 2024-09-12 17:34:37,301] Trial 34 finished with value: 0.06000000000000001 and parameters: {'n_estimators': 183, 'max_depth': 20, 'min_samples_split': 11, 'min_samples_leaf': 3, 'max_features': 'log2', 'bootstrap': True}. Best is trial 20 with value: 0.14.\n",
      "[I 2024-09-12 17:34:38,185] Trial 35 finished with value: 0.08 and parameters: {'n_estimators': 164, 'max_depth': None, 'min_samples_split': 2, 'min_samples_leaf': 4, 'max_features': 'log2', 'bootstrap': True}. Best is trial 20 with value: 0.14.\n",
      "[I 2024-09-12 17:34:39,409] Trial 36 finished with value: 0.08 and parameters: {'n_estimators': 225, 'max_depth': 10, 'min_samples_split': 8, 'min_samples_leaf': 2, 'max_features': 'log2', 'bootstrap': True}. Best is trial 20 with value: 0.14.\n",
      "[I 2024-09-12 17:34:39,705] Trial 37 finished with value: 0.13999999999999999 and parameters: {'n_estimators': 71, 'max_depth': 10, 'min_samples_split': 14, 'min_samples_leaf': 6, 'max_features': 'log2', 'bootstrap': False}. Best is trial 20 with value: 0.14.\n",
      "[I 2024-09-12 17:34:39,998] Trial 38 finished with value: 0.08 and parameters: {'n_estimators': 69, 'max_depth': 10, 'min_samples_split': 12, 'min_samples_leaf': 6, 'max_features': 'sqrt', 'bootstrap': False}. Best is trial 20 with value: 0.14.\n",
      "[I 2024-09-12 17:34:40,244] Trial 39 finished with value: 0.08 and parameters: {'n_estimators': 57, 'max_depth': 10, 'min_samples_split': 9, 'min_samples_leaf': 6, 'max_features': 'log2', 'bootstrap': False}. Best is trial 20 with value: 0.14.\n",
      "[I 2024-09-12 17:34:40,753] Trial 40 finished with value: 0.08 and parameters: {'n_estimators': 127, 'max_depth': 10, 'min_samples_split': 7, 'min_samples_leaf': 6, 'max_features': 'log2', 'bootstrap': False}. Best is trial 20 with value: 0.14.\n",
      "[I 2024-09-12 17:34:41,177] Trial 41 finished with value: 0.08 and parameters: {'n_estimators': 104, 'max_depth': 10, 'min_samples_split': 15, 'min_samples_leaf': 5, 'max_features': 'log2', 'bootstrap': False}. Best is trial 20 with value: 0.14.\n",
      "[I 2024-09-12 17:34:41,566] Trial 42 finished with value: 0.12000000000000002 and parameters: {'n_estimators': 90, 'max_depth': None, 'min_samples_split': 14, 'min_samples_leaf': 2, 'max_features': 'log2', 'bootstrap': False}. Best is trial 20 with value: 0.14.\n",
      "[I 2024-09-12 17:34:41,851] Trial 43 finished with value: 0.1 and parameters: {'n_estimators': 68, 'max_depth': 20, 'min_samples_split': 14, 'min_samples_leaf': 6, 'max_features': 'log2', 'bootstrap': False}. Best is trial 20 with value: 0.14.\n",
      "[I 2024-09-12 17:34:42,474] Trial 44 finished with value: 0.1 and parameters: {'n_estimators': 112, 'max_depth': 10, 'min_samples_split': 13, 'min_samples_leaf': 1, 'max_features': 'log2', 'bootstrap': True}. Best is trial 20 with value: 0.14.\n",
      "[I 2024-09-12 17:34:42,809] Trial 45 finished with value: 0.1 and parameters: {'n_estimators': 80, 'max_depth': 30, 'min_samples_split': 11, 'min_samples_leaf': 3, 'max_features': 'log2', 'bootstrap': False}. Best is trial 20 with value: 0.14.\n",
      "[I 2024-09-12 17:34:43,498] Trial 46 finished with value: 0.06000000000000001 and parameters: {'n_estimators': 126, 'max_depth': 20, 'min_samples_split': 14, 'min_samples_leaf': 5, 'max_features': 'sqrt', 'bootstrap': True}. Best is trial 20 with value: 0.14.\n",
      "[I 2024-09-12 17:34:43,911] Trial 47 finished with value: 0.06000000000000001 and parameters: {'n_estimators': 101, 'max_depth': None, 'min_samples_split': 12, 'min_samples_leaf': 5, 'max_features': 'log2', 'bootstrap': False}. Best is trial 20 with value: 0.14.\n",
      "[I 2024-09-12 17:34:44,721] Trial 48 finished with value: 0.08 and parameters: {'n_estimators': 150, 'max_depth': 30, 'min_samples_split': 10, 'min_samples_leaf': 4, 'max_features': 'log2', 'bootstrap': True}. Best is trial 20 with value: 0.14.\n",
      "[I 2024-09-12 17:34:45,106] Trial 49 finished with value: 0.08 and parameters: {'n_estimators': 66, 'max_depth': 20, 'min_samples_split': 5, 'min_samples_leaf': 1, 'max_features': 'log2', 'bootstrap': True}. Best is trial 20 with value: 0.14.\n"
     ]
    },
    {
     "name": "stdout",
     "output_type": "stream",
     "text": [
      "Best RandomForestClassifier model trained successfully with hyperparameter tuning using Optuna.\n",
      "Best hyperparameters: {'n_estimators': 119, 'max_depth': 40, 'min_samples_split': 10, 'min_samples_leaf': 5, 'max_features': 'log2', 'bootstrap': True}\n",
      "RandomForestClassifier model trained successfully.\n",
      "Accuracies for each target in RandomForestClassifier: [0.58, 0.6, 0.78, 0.54]\n"
     ]
    },
    {
     "data": {
      "text/plain": [
       "[0.58, 0.6, 0.78, 0.54]"
      ]
     },
     "execution_count": 7,
     "metadata": {},
     "output_type": "execute_result"
    }
   ],
   "source": [
    "model = MLmodel(modelType='RandomForestClassifier', df=input, target=Target, \n",
    "                features=['SMILES'], hyperparameter_tuning=True,\n",
    "                feature_types=Feature_types,\n",
    "                optimization_method='optuna', objective=lambda trial: objective(trial, model))\n",
    "\n",
    "model.train()\n",
    "predictions = model.predict()\n",
    "model.evaluate()"
   ]
  }
 ],
 "metadata": {
  "kernelspec": {
   "display_name": "JorenML",
   "language": "python",
   "name": "python3"
  },
  "language_info": {
   "codemirror_mode": {
    "name": "ipython",
    "version": 3
   },
   "file_extension": ".py",
   "mimetype": "text/x-python",
   "name": "python",
   "nbconvert_exporter": "python",
   "pygments_lexer": "ipython3",
   "version": "3.10.14"
  }
 },
 "nbformat": 4,
 "nbformat_minor": 2
}
