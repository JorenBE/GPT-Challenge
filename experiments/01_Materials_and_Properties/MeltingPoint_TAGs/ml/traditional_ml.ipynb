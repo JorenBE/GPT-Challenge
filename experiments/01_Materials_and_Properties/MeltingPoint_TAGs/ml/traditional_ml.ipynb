{
 "cells": [
  {
   "cell_type": "markdown",
   "metadata": {},
   "source": [
    "## Traditional machine learning\n",
    "Feature(s): 'SMILES' column\n",
    "\n",
    "- translate to morgan fingerprint\n",
    "\n",
    "target: mp_bin\n",
    "\n",
    "- binary class"
   ]
  },
  {
   "cell_type": "code",
   "execution_count": 1,
   "metadata": {},
   "outputs": [],
   "source": [
    "import sys\n",
    "import os\n",
    "from sklearn.model_selection import cross_val_score\n",
    "from sklearn.base import clone\n",
    "from loguru import logger\n",
    "\n",
    "logger.remove()\n",
    "logger.add(sys.stderr, level=\"WARNING\")\n",
    "# Append the parent directory of your package to sys.path\n",
    "sys.path.append(os.path.abspath(os.path.join(os.getcwd(), '..', '..', '..', '..')))"
   ]
  },
  {
   "cell_type": "markdown",
   "metadata": {},
   "source": [
    "Read the dataset from the zip file"
   ]
  },
  {
   "cell_type": "code",
   "execution_count": 2,
   "metadata": {},
   "outputs": [
    {
     "name": "stdout",
     "output_type": "stream",
     "text": [
      "Count of unique smiles: 173\n",
      "Count of all of the smiles: 211\n"
     ]
    }
   ],
   "source": [
    "import pandas as pd\n",
    "import numpy as np\n",
    "import zipfile\n",
    "\n",
    "path_to_dataset = 'fats_data.csv'\n",
    "csv_filename = 'fats_data.csv'\n",
    "\n",
    "# Open the file, Correct the encoding and sep if necessary\n",
    "if path_to_dataset.endswith('.zip'):\n",
    "    with zipfile.ZipFile(path_to_dataset, 'r') as z:\n",
    "        # Open the CSV file within the ZIP file\n",
    "        with z.open(csv_filename) as f:\n",
    "            # Read the CSV file into a DataFrame\n",
    "            df = pd.read_csv(f, sep=',', on_bad_lines='warn', index_col = 0)\n",
    "else:\n",
    "    # Read the CSV file into a DataFrame\n",
    "    df = pd.read_csv(path_to_dataset, sep=',', on_bad_lines='warn', index_col = 0)\n",
    "\n",
    "\n",
    "print('Count of unique smiles:', df.SMILES.unique().shape[0])\n",
    "print('Count of all of the smiles:', df.shape[0])\n",
    "\n"
   ]
  },
  {
   "cell_type": "code",
   "execution_count": 3,
   "metadata": {},
   "outputs": [
    {
     "name": "stderr",
     "output_type": "stream",
     "text": [
      "/home/lsmo/.local/lib/python3.10/site-packages/tqdm/auto.py:21: TqdmWarning: IProgress not found. Please update jupyter and ipywidgets. See https://ipywidgets.readthedocs.io/en/stable/user_install.html\n",
      "  from .autonotebook import tqdm as notebook_tqdm\n"
     ]
    }
   ],
   "source": [
    "from MLPipeline import MLmodel, BinTheTarget\n",
    "\n",
    "Target = ['mp_bin']\n",
    "Features = ['SMILES']\n",
    "Feature_types = ['SMILES']\n",
    "input = df"
   ]
  },
  {
   "cell_type": "code",
   "execution_count": 4,
   "metadata": {},
   "outputs": [],
   "source": [
    "def objectiveRandomForestClassifier(trial, model_instance):\n",
    "    \"\"\"\n",
    "    Objective function for Optuna to minimize.\n",
    "    \"\"\"\n",
    "    # Define hyperparameters to tune\n",
    "    params = {\n",
    "        'n_estimators': trial.suggest_int('n_estimators', 50, 300),\n",
    "        'max_depth': trial.suggest_categorical('max_depth', [None, 10, 20, 30, 40]),\n",
    "        'min_samples_split': trial.suggest_int('min_samples_split', 2, 15),\n",
    "        'min_samples_leaf': trial.suggest_int('min_samples_leaf', 1, 6),\n",
    "        'max_features': trial.suggest_categorical('max_features', ['sqrt', 'log2']),\n",
    "        'bootstrap': trial.suggest_categorical('bootstrap', [True, False])\n",
    "    }\n",
    "\n",
    "    # Clone the model to ensure a fresh instance each trial\n",
    "    model_clone = clone(model_instance.model)\n",
    "    model_clone.set_params(**params)\n",
    "    \n",
    "    # Define the score metric\n",
    "    scoring = 'accuracy'\n",
    "\n",
    "    # Perform cross-validation\n",
    "    scores = cross_val_score(model_clone, model_instance.X_train, model_instance.y_train, cv=model_instance.cv, scoring=scoring)\n",
    "\n",
    "    # Return the average score across all folds\n",
    "    return scores.mean()\n",
    "\n",
    "\n",
    "def objectiveXGBClassifier(trial, model_instance):\n",
    "    \"\"\"\n",
    "    Objective function for Optuna to minimize for XGBClassifier.\n",
    "    \"\"\"\n",
    "    # Define hyperparameters to tune\n",
    "    params = {\n",
    "        'n_estimators': trial.suggest_int('n_estimators', 50, 300),\n",
    "        'max_depth': trial.suggest_int('max_depth', 3, 15),\n",
    "        'learning_rate': trial.suggest_float('learning_rate', 0.01, 0.3, log=True),\n",
    "        'subsample': trial.suggest_float('subsample', 0.5, 1.0),\n",
    "        'colsample_bytree': trial.suggest_float('colsample_bytree', 0.5, 1.0),\n",
    "        'gamma': trial.suggest_float('gamma', 1e-8, 1.0, log=True),\n",
    "        'reg_alpha': trial.suggest_float('reg_alpha', 1e-8, 1.0, log=True),  # L1 regularization\n",
    "        'reg_lambda': trial.suggest_float('reg_lambda', 1e-8, 1.0, log=True),  # L2 regularization\n",
    "    }\n",
    "\n",
    "    # Clone the model to ensure a fresh instance each trial\n",
    "    model_clone = clone(model_instance.model)\n",
    "    model_clone.set_params(**params)\n",
    "    \n",
    "    # Define the score metric\n",
    "    scoring = 'accuracy'\n",
    "\n",
    "    # Perform cross-validation\n",
    "    scores = cross_val_score(model_clone, model_instance.X_train, model_instance.y_train, cv=model_instance.cv, scoring=scoring)\n",
    "\n",
    "    # Return the average score across all folds\n",
    "    return scores.mean()\n"
   ]
  },
  {
   "cell_type": "code",
   "execution_count": 5,
   "metadata": {},
   "outputs": [
    {
     "name": "stdout",
     "output_type": "stream",
     "text": [
      "RUN: Model:RandomForestClassifier / Target:['mp_bin'] / Train size:25 / Seed:1\n"
     ]
    },
    {
     "name": "stderr",
     "output_type": "stream",
     "text": [
      "[I 2024-09-17 10:40:40,789] A new study created in memory with name: no-name-eb064ce1-0685-4585-a29f-d6cf6a308260\n",
      "[I 2024-09-17 10:40:41,789] Trial 0 finished with value: 0.8 and parameters: {'n_estimators': 261, 'max_depth': 40, 'min_samples_split': 13, 'min_samples_leaf': 5, 'max_features': 'log2', 'bootstrap': False}. Best is trial 0 with value: 0.8.\n",
      "[I 2024-09-17 10:40:43,262] Trial 1 finished with value: 0.8400000000000001 and parameters: {'n_estimators': 259, 'max_depth': 40, 'min_samples_split': 8, 'min_samples_leaf': 2, 'max_features': 'log2', 'bootstrap': True}. Best is trial 1 with value: 0.8400000000000001.\n",
      "[I 2024-09-17 10:40:44,147] Trial 2 finished with value: 0.8 and parameters: {'n_estimators': 194, 'max_depth': None, 'min_samples_split': 8, 'min_samples_leaf': 5, 'max_features': 'sqrt', 'bootstrap': False}. Best is trial 1 with value: 0.8400000000000001.\n",
      "[I 2024-09-17 10:40:45,551] Trial 3 finished with value: 0.8 and parameters: {'n_estimators': 253, 'max_depth': 40, 'min_samples_split': 6, 'min_samples_leaf': 4, 'max_features': 'log2', 'bootstrap': True}. Best is trial 1 with value: 0.8400000000000001.\n",
      "[I 2024-09-17 10:40:46,471] Trial 4 finished with value: 0.8 and parameters: {'n_estimators': 245, 'max_depth': 10, 'min_samples_split': 5, 'min_samples_leaf': 4, 'max_features': 'sqrt', 'bootstrap': False}. Best is trial 1 with value: 0.8400000000000001.\n",
      "[I 2024-09-17 10:40:47,501] Trial 5 finished with value: 0.8 and parameters: {'n_estimators': 276, 'max_depth': 40, 'min_samples_split': 13, 'min_samples_leaf': 2, 'max_features': 'log2', 'bootstrap': False}. Best is trial 1 with value: 0.8400000000000001.\n",
      "[I 2024-09-17 10:40:48,244] Trial 6 finished with value: 0.8 and parameters: {'n_estimators': 198, 'max_depth': 10, 'min_samples_split': 14, 'min_samples_leaf': 5, 'max_features': 'sqrt', 'bootstrap': False}. Best is trial 1 with value: 0.8400000000000001.\n",
      "[I 2024-09-17 10:40:48,956] Trial 7 finished with value: 0.8 and parameters: {'n_estimators': 196, 'max_depth': None, 'min_samples_split': 14, 'min_samples_leaf': 6, 'max_features': 'log2', 'bootstrap': False}. Best is trial 1 with value: 0.8400000000000001.\n",
      "[I 2024-09-17 10:40:49,782] Trial 8 finished with value: 0.8 and parameters: {'n_estimators': 220, 'max_depth': None, 'min_samples_split': 6, 'min_samples_leaf': 2, 'max_features': 'sqrt', 'bootstrap': False}. Best is trial 1 with value: 0.8400000000000001.\n",
      "[I 2024-09-17 10:40:51,328] Trial 9 finished with value: 0.64 and parameters: {'n_estimators': 299, 'max_depth': 10, 'min_samples_split': 15, 'min_samples_leaf': 4, 'max_features': 'sqrt', 'bootstrap': True}. Best is trial 1 with value: 0.8400000000000001.\n"
     ]
    },
    {
     "name": "stdout",
     "output_type": "stream",
     "text": [
      "RUN: Model:RandomForestClassifier / Target:['mp_bin'] / Train size:50 / Seed:1\n"
     ]
    },
    {
     "name": "stderr",
     "output_type": "stream",
     "text": [
      "[I 2024-09-17 10:40:51,909] A new study created in memory with name: no-name-d8633986-dcb4-4d13-817e-16cd58416e03\n",
      "[I 2024-09-17 10:40:53,145] Trial 0 finished with value: 0.76 and parameters: {'n_estimators': 231, 'max_depth': 40, 'min_samples_split': 8, 'min_samples_leaf': 6, 'max_features': 'sqrt', 'bootstrap': True}. Best is trial 0 with value: 0.76.\n",
      "[I 2024-09-17 10:40:53,893] Trial 1 finished with value: 0.76 and parameters: {'n_estimators': 194, 'max_depth': 10, 'min_samples_split': 4, 'min_samples_leaf': 5, 'max_features': 'log2', 'bootstrap': False}. Best is trial 0 with value: 0.76.\n",
      "[I 2024-09-17 10:40:54,745] Trial 2 finished with value: 0.8400000000000001 and parameters: {'n_estimators': 194, 'max_depth': None, 'min_samples_split': 2, 'min_samples_leaf': 2, 'max_features': 'log2', 'bootstrap': False}. Best is trial 2 with value: 0.8400000000000001.\n",
      "[I 2024-09-17 10:40:55,531] Trial 3 finished with value: 0.78 and parameters: {'n_estimators': 198, 'max_depth': 20, 'min_samples_split': 3, 'min_samples_leaf': 5, 'max_features': 'log2', 'bootstrap': False}. Best is trial 2 with value: 0.8400000000000001.\n",
      "[I 2024-09-17 10:40:56,139] Trial 4 finished with value: 0.8400000000000001 and parameters: {'n_estimators': 142, 'max_depth': None, 'min_samples_split': 7, 'min_samples_leaf': 1, 'max_features': 'log2', 'bootstrap': False}. Best is trial 2 with value: 0.8400000000000001.\n",
      "[I 2024-09-17 10:40:57,168] Trial 5 finished with value: 0.76 and parameters: {'n_estimators': 276, 'max_depth': 20, 'min_samples_split': 13, 'min_samples_leaf': 6, 'max_features': 'log2', 'bootstrap': False}. Best is trial 2 with value: 0.8400000000000001.\n",
      "[I 2024-09-17 10:40:57,577] Trial 6 finished with value: 0.8 and parameters: {'n_estimators': 73, 'max_depth': 40, 'min_samples_split': 9, 'min_samples_leaf': 1, 'max_features': 'sqrt', 'bootstrap': True}. Best is trial 2 with value: 0.8400000000000001.\n",
      "[I 2024-09-17 10:40:58,120] Trial 7 finished with value: 0.82 and parameters: {'n_estimators': 131, 'max_depth': 10, 'min_samples_split': 14, 'min_samples_leaf': 1, 'max_features': 'sqrt', 'bootstrap': False}. Best is trial 2 with value: 0.8400000000000001.\n",
      "[I 2024-09-17 10:40:59,165] Trial 8 finished with value: 0.76 and parameters: {'n_estimators': 191, 'max_depth': 10, 'min_samples_split': 10, 'min_samples_leaf': 3, 'max_features': 'sqrt', 'bootstrap': True}. Best is trial 2 with value: 0.8400000000000001.\n",
      "[I 2024-09-17 10:41:00,776] Trial 9 finished with value: 0.76 and parameters: {'n_estimators': 294, 'max_depth': 30, 'min_samples_split': 10, 'min_samples_leaf': 3, 'max_features': 'sqrt', 'bootstrap': True}. Best is trial 2 with value: 0.8400000000000001.\n"
     ]
    },
    {
     "name": "stdout",
     "output_type": "stream",
     "text": [
      "RUN: Model:RandomForestClassifier / Target:['mp_bin'] / Train size:100 / Seed:1\n"
     ]
    },
    {
     "name": "stderr",
     "output_type": "stream",
     "text": [
      "[I 2024-09-17 10:41:01,411] A new study created in memory with name: no-name-34618bb2-be74-48a8-b1de-07dbcc46886c\n",
      "[I 2024-09-17 10:41:02,619] Trial 0 finished with value: 0.8600000000000001 and parameters: {'n_estimators': 255, 'max_depth': 10, 'min_samples_split': 4, 'min_samples_leaf': 1, 'max_features': 'sqrt', 'bootstrap': False}. Best is trial 0 with value: 0.8600000000000001.\n",
      "[I 2024-09-17 10:41:03,313] Trial 1 finished with value: 0.8700000000000001 and parameters: {'n_estimators': 160, 'max_depth': 40, 'min_samples_split': 9, 'min_samples_leaf': 4, 'max_features': 'sqrt', 'bootstrap': False}. Best is trial 1 with value: 0.8700000000000001.\n",
      "[I 2024-09-17 10:41:03,716] Trial 2 finished with value: 0.8700000000000001 and parameters: {'n_estimators': 61, 'max_depth': 30, 'min_samples_split': 5, 'min_samples_leaf': 3, 'max_features': 'sqrt', 'bootstrap': True}. Best is trial 1 with value: 0.8700000000000001.\n",
      "[I 2024-09-17 10:41:05,226] Trial 3 finished with value: 0.8299999999999998 and parameters: {'n_estimators': 269, 'max_depth': 40, 'min_samples_split': 3, 'min_samples_leaf': 3, 'max_features': 'log2', 'bootstrap': True}. Best is trial 1 with value: 0.8700000000000001.\n",
      "[I 2024-09-17 10:41:05,613] Trial 4 finished with value: 0.8400000000000001 and parameters: {'n_estimators': 93, 'max_depth': 30, 'min_samples_split': 13, 'min_samples_leaf': 6, 'max_features': 'log2', 'bootstrap': False}. Best is trial 1 with value: 0.8700000000000001.\n",
      "[I 2024-09-17 10:41:06,268] Trial 5 finished with value: 0.85 and parameters: {'n_estimators': 112, 'max_depth': 30, 'min_samples_split': 6, 'min_samples_leaf': 3, 'max_features': 'sqrt', 'bootstrap': True}. Best is trial 1 with value: 0.8700000000000001.\n",
      "[I 2024-09-17 10:41:07,845] Trial 6 finished with value: 0.85 and parameters: {'n_estimators': 292, 'max_depth': 20, 'min_samples_split': 14, 'min_samples_leaf': 4, 'max_features': 'log2', 'bootstrap': True}. Best is trial 1 with value: 0.8700000000000001.\n",
      "[I 2024-09-17 10:41:08,516] Trial 7 finished with value: 0.85 and parameters: {'n_estimators': 113, 'max_depth': 40, 'min_samples_split': 10, 'min_samples_leaf': 5, 'max_features': 'sqrt', 'bootstrap': True}. Best is trial 1 with value: 0.8700000000000001.\n",
      "[I 2024-09-17 10:41:09,610] Trial 8 finished with value: 0.8700000000000001 and parameters: {'n_estimators': 246, 'max_depth': None, 'min_samples_split': 6, 'min_samples_leaf': 4, 'max_features': 'sqrt', 'bootstrap': False}. Best is trial 1 with value: 0.8700000000000001.\n",
      "[I 2024-09-17 10:41:10,641] Trial 9 finished with value: 0.85 and parameters: {'n_estimators': 175, 'max_depth': 30, 'min_samples_split': 7, 'min_samples_leaf': 4, 'max_features': 'sqrt', 'bootstrap': True}. Best is trial 1 with value: 0.8700000000000001.\n"
     ]
    },
    {
     "name": "stdout",
     "output_type": "stream",
     "text": [
      "RUN: Model:RandomForestClassifier / Target:['mp_bin'] / Train size:150 / Seed:1\n"
     ]
    },
    {
     "name": "stderr",
     "output_type": "stream",
     "text": [
      "[I 2024-09-17 10:41:11,432] A new study created in memory with name: no-name-49f88627-ab30-43a9-a347-335bd3f8ad50\n",
      "[I 2024-09-17 10:41:12,424] Trial 0 finished with value: 0.8733333333333334 and parameters: {'n_estimators': 154, 'max_depth': 30, 'min_samples_split': 5, 'min_samples_leaf': 1, 'max_features': 'sqrt', 'bootstrap': True}. Best is trial 0 with value: 0.8733333333333334.\n",
      "[I 2024-09-17 10:41:13,766] Trial 1 finished with value: 0.8666666666666668 and parameters: {'n_estimators': 222, 'max_depth': 40, 'min_samples_split': 9, 'min_samples_leaf': 6, 'max_features': 'log2', 'bootstrap': True}. Best is trial 0 with value: 0.8733333333333334.\n",
      "[I 2024-09-17 10:41:14,057] Trial 2 finished with value: 0.8866666666666667 and parameters: {'n_estimators': 67, 'max_depth': 40, 'min_samples_split': 7, 'min_samples_leaf': 4, 'max_features': 'log2', 'bootstrap': False}. Best is trial 2 with value: 0.8866666666666667.\n",
      "[I 2024-09-17 10:41:15,647] Trial 3 finished with value: 0.8733333333333334 and parameters: {'n_estimators': 277, 'max_depth': 40, 'min_samples_split': 6, 'min_samples_leaf': 6, 'max_features': 'log2', 'bootstrap': True}. Best is trial 2 with value: 0.8866666666666667.\n",
      "[I 2024-09-17 10:41:16,198] Trial 4 finished with value: 0.8600000000000001 and parameters: {'n_estimators': 94, 'max_depth': 10, 'min_samples_split': 6, 'min_samples_leaf': 5, 'max_features': 'log2', 'bootstrap': True}. Best is trial 2 with value: 0.8866666666666667.\n",
      "[I 2024-09-17 10:41:16,835] Trial 5 finished with value: 0.8666666666666668 and parameters: {'n_estimators': 142, 'max_depth': None, 'min_samples_split': 4, 'min_samples_leaf': 1, 'max_features': 'log2', 'bootstrap': False}. Best is trial 2 with value: 0.8866666666666667.\n",
      "[I 2024-09-17 10:41:17,470] Trial 6 finished with value: 0.8866666666666667 and parameters: {'n_estimators': 150, 'max_depth': 20, 'min_samples_split': 12, 'min_samples_leaf': 5, 'max_features': 'log2', 'bootstrap': False}. Best is trial 2 with value: 0.8866666666666667.\n",
      "[I 2024-09-17 10:41:18,273] Trial 7 finished with value: 0.8933333333333333 and parameters: {'n_estimators': 181, 'max_depth': 40, 'min_samples_split': 13, 'min_samples_leaf': 5, 'max_features': 'sqrt', 'bootstrap': False}. Best is trial 7 with value: 0.8933333333333333.\n",
      "[I 2024-09-17 10:41:18,659] Trial 8 finished with value: 0.8933333333333333 and parameters: {'n_estimators': 84, 'max_depth': 10, 'min_samples_split': 12, 'min_samples_leaf': 1, 'max_features': 'sqrt', 'bootstrap': False}. Best is trial 7 with value: 0.8933333333333333.\n",
      "[I 2024-09-17 10:41:19,639] Trial 9 finished with value: 0.8866666666666667 and parameters: {'n_estimators': 221, 'max_depth': 10, 'min_samples_split': 3, 'min_samples_leaf': 3, 'max_features': 'sqrt', 'bootstrap': False}. Best is trial 7 with value: 0.8933333333333333.\n"
     ]
    },
    {
     "name": "stdout",
     "output_type": "stream",
     "text": [
      "RUN: Model:XGBClassifier / Target:['mp_bin'] / Train size:25 / Seed:1\n"
     ]
    },
    {
     "name": "stderr",
     "output_type": "stream",
     "text": [
      "[I 2024-09-17 10:41:20,051] A new study created in memory with name: no-name-fcc0e31c-4d36-450a-b3e5-b7082be2630e\n",
      "[I 2024-09-17 10:41:20,361] Trial 0 finished with value: 0.8400000000000001 and parameters: {'n_estimators': 65, 'max_depth': 13, 'learning_rate': 0.01898633340086326, 'subsample': 0.688535828773698, 'colsample_bytree': 0.7029923885737733, 'gamma': 1.9696944905285935e-05, 'reg_alpha': 0.0008235225655227914, 'reg_lambda': 0.018753478230614386}. Best is trial 0 with value: 0.8400000000000001.\n",
      "[I 2024-09-17 10:41:20,602] Trial 1 finished with value: 0.8 and parameters: {'n_estimators': 131, 'max_depth': 6, 'learning_rate': 0.07909067621915691, 'subsample': 0.5502378696605678, 'colsample_bytree': 0.5005025869167173, 'gamma': 0.00044996261355514927, 'reg_alpha': 1.1327497223996059e-07, 'reg_lambda': 0.033048456991445686}. Best is trial 0 with value: 0.8400000000000001.\n",
      "[I 2024-09-17 10:41:21,364] Trial 2 finished with value: 0.8 and parameters: {'n_estimators': 57, 'max_depth': 12, 'learning_rate': 0.059654548127317235, 'subsample': 0.5300832061400302, 'colsample_bytree': 0.7297066805837161, 'gamma': 3.1388150020430115e-08, 'reg_alpha': 1.1642111752161503e-08, 'reg_lambda': 0.00011780828607806061}. Best is trial 0 with value: 0.8400000000000001.\n",
      "[I 2024-09-17 10:41:21,880] Trial 3 finished with value: 0.8 and parameters: {'n_estimators': 283, 'max_depth': 14, 'learning_rate': 0.04651666784115852, 'subsample': 0.8648769506421261, 'colsample_bytree': 0.8398132869132002, 'gamma': 0.09090060042164887, 'reg_alpha': 0.015718541397399297, 'reg_lambda': 3.867130627195689e-05}. Best is trial 0 with value: 0.8400000000000001.\n",
      "[I 2024-09-17 10:41:22,099] Trial 4 finished with value: 0.8 and parameters: {'n_estimators': 56, 'max_depth': 9, 'learning_rate': 0.020107519685065935, 'subsample': 0.8983612935392298, 'colsample_bytree': 0.8867037592821422, 'gamma': 0.004448260187554756, 'reg_alpha': 0.00042563468472420484, 'reg_lambda': 0.9205724606501682}. Best is trial 0 with value: 0.8400000000000001.\n",
      "[I 2024-09-17 10:41:22,725] Trial 5 finished with value: 0.8 and parameters: {'n_estimators': 272, 'max_depth': 15, 'learning_rate': 0.016976805648249216, 'subsample': 0.9062222834654551, 'colsample_bytree': 0.709918238040627, 'gamma': 0.41723581388214087, 'reg_alpha': 4.1296024679488706e-07, 'reg_lambda': 0.6895060123343733}. Best is trial 0 with value: 0.8400000000000001.\n",
      "[I 2024-09-17 10:41:23,226] Trial 6 finished with value: 0.8 and parameters: {'n_estimators': 259, 'max_depth': 15, 'learning_rate': 0.015774732705106098, 'subsample': 0.9045468179567411, 'colsample_bytree': 0.8031687127120997, 'gamma': 0.0504932558258161, 'reg_alpha': 1.7372269056400098e-07, 'reg_lambda': 0.4941977848323467}. Best is trial 0 with value: 0.8400000000000001.\n",
      "[I 2024-09-17 10:41:23,498] Trial 7 finished with value: 0.8 and parameters: {'n_estimators': 136, 'max_depth': 13, 'learning_rate': 0.10267084677849532, 'subsample': 0.5437180083368645, 'colsample_bytree': 0.5062191108196147, 'gamma': 1.4803611096437366e-08, 'reg_alpha': 0.5962132367419305, 'reg_lambda': 1.990909280862478e-05}. Best is trial 0 with value: 0.8400000000000001.\n",
      "[I 2024-09-17 10:41:23,838] Trial 8 finished with value: 0.8 and parameters: {'n_estimators': 168, 'max_depth': 13, 'learning_rate': 0.015167231463971642, 'subsample': 0.8838131198297734, 'colsample_bytree': 0.9631208359567089, 'gamma': 0.017651932031657633, 'reg_alpha': 1.55714890952922e-08, 'reg_lambda': 1.5820901200366122e-07}. Best is trial 0 with value: 0.8400000000000001.\n",
      "[I 2024-09-17 10:41:24,168] Trial 9 finished with value: 0.8 and parameters: {'n_estimators': 199, 'max_depth': 14, 'learning_rate': 0.09493818694410484, 'subsample': 0.6342994840833955, 'colsample_bytree': 0.6159458920030836, 'gamma': 0.0010385950376958718, 'reg_alpha': 1.658753519851375e-06, 'reg_lambda': 0.02199873902898726}. Best is trial 0 with value: 0.8400000000000001.\n"
     ]
    },
    {
     "name": "stdout",
     "output_type": "stream",
     "text": [
      "RUN: Model:XGBClassifier / Target:['mp_bin'] / Train size:50 / Seed:1\n"
     ]
    },
    {
     "name": "stderr",
     "output_type": "stream",
     "text": [
      "[I 2024-09-17 10:41:24,575] A new study created in memory with name: no-name-1eeb7323-06ae-44ea-8aa3-952842eeb6c6\n",
      "[I 2024-09-17 10:41:25,248] Trial 0 finished with value: 0.8 and parameters: {'n_estimators': 195, 'max_depth': 15, 'learning_rate': 0.015411139760901431, 'subsample': 0.6543780637155837, 'colsample_bytree': 0.9453180202524781, 'gamma': 1.6949440221174414e-06, 'reg_alpha': 0.0005523755312754358, 'reg_lambda': 1.2711877551013946e-07}. Best is trial 0 with value: 0.8.\n",
      "[I 2024-09-17 10:41:25,677] Trial 1 finished with value: 0.82 and parameters: {'n_estimators': 197, 'max_depth': 5, 'learning_rate': 0.09518202183114946, 'subsample': 0.9074672465429624, 'colsample_bytree': 0.85077142963187, 'gamma': 4.664352547898349e-05, 'reg_alpha': 1.5151489316507802e-08, 'reg_lambda': 2.6413299726412006e-07}. Best is trial 1 with value: 0.82.\n",
      "[I 2024-09-17 10:41:25,951] Trial 2 finished with value: 0.8400000000000001 and parameters: {'n_estimators': 100, 'max_depth': 13, 'learning_rate': 0.09823592722825379, 'subsample': 0.9810613516350966, 'colsample_bytree': 0.7168281592366987, 'gamma': 0.09910258385414848, 'reg_alpha': 5.650624697632193e-05, 'reg_lambda': 0.0014841989243914386}. Best is trial 2 with value: 0.8400000000000001.\n",
      "[I 2024-09-17 10:41:26,232] Trial 3 finished with value: 0.8 and parameters: {'n_estimators': 93, 'max_depth': 9, 'learning_rate': 0.03334668392635302, 'subsample': 0.725804460201166, 'colsample_bytree': 0.8592020056704148, 'gamma': 2.4168810936274447e-05, 'reg_alpha': 9.454686405863223e-07, 'reg_lambda': 8.98987452404707e-06}. Best is trial 2 with value: 0.8400000000000001.\n",
      "[I 2024-09-17 10:41:26,585] Trial 4 finished with value: 0.8400000000000001 and parameters: {'n_estimators': 64, 'max_depth': 5, 'learning_rate': 0.09931262482270198, 'subsample': 0.9346055856049684, 'colsample_bytree': 0.5484741044488252, 'gamma': 3.131331860748714e-08, 'reg_alpha': 0.2944675528009558, 'reg_lambda': 0.001178406835025121}. Best is trial 2 with value: 0.8400000000000001.\n",
      "[I 2024-09-17 10:41:27,098] Trial 5 finished with value: 0.86 and parameters: {'n_estimators': 184, 'max_depth': 10, 'learning_rate': 0.03513241523746335, 'subsample': 0.768764871027245, 'colsample_bytree': 0.5345983206028689, 'gamma': 2.9141365872929764e-06, 'reg_alpha': 0.0004497333255579143, 'reg_lambda': 4.5091849722535086e-07}. Best is trial 5 with value: 0.86.\n",
      "[I 2024-09-17 10:41:27,492] Trial 6 finished with value: 0.8400000000000001 and parameters: {'n_estimators': 182, 'max_depth': 12, 'learning_rate': 0.14066841286462262, 'subsample': 0.8908833140311996, 'colsample_bytree': 0.7779910496922307, 'gamma': 5.6084167643565625e-06, 'reg_alpha': 0.013686608322283871, 'reg_lambda': 2.6922935768757766e-06}. Best is trial 5 with value: 0.86.\n",
      "[I 2024-09-17 10:41:27,798] Trial 7 finished with value: 0.8400000000000001 and parameters: {'n_estimators': 155, 'max_depth': 3, 'learning_rate': 0.29456441766401714, 'subsample': 0.6058241317620703, 'colsample_bytree': 0.734253998804479, 'gamma': 2.683323906333953e-08, 'reg_alpha': 0.010169115671949593, 'reg_lambda': 0.000727773201298248}. Best is trial 5 with value: 0.86.\n",
      "[I 2024-09-17 10:41:28,230] Trial 8 finished with value: 0.82 and parameters: {'n_estimators': 249, 'max_depth': 7, 'learning_rate': 0.27527787579237295, 'subsample': 0.6264945087213585, 'colsample_bytree': 0.5437701793136318, 'gamma': 0.09853073610294988, 'reg_alpha': 0.0034769265007289834, 'reg_lambda': 5.525758874833449e-06}. Best is trial 5 with value: 0.86.\n",
      "[I 2024-09-17 10:41:28,759] Trial 9 finished with value: 0.8200000000000001 and parameters: {'n_estimators': 289, 'max_depth': 11, 'learning_rate': 0.03597576797675345, 'subsample': 0.9391125164032863, 'colsample_bytree': 0.7435922341641075, 'gamma': 0.22130046224258856, 'reg_alpha': 0.6106669867186678, 'reg_lambda': 0.0008511466349873734}. Best is trial 5 with value: 0.86.\n"
     ]
    },
    {
     "name": "stdout",
     "output_type": "stream",
     "text": [
      "RUN: Model:XGBClassifier / Target:['mp_bin'] / Train size:100 / Seed:1\n"
     ]
    },
    {
     "name": "stderr",
     "output_type": "stream",
     "text": [
      "[I 2024-09-17 10:41:29,376] A new study created in memory with name: no-name-c76b989f-e7d7-4131-af8b-b8164ea693c6\n",
      "[I 2024-09-17 10:41:30,000] Trial 0 finished with value: 0.8099999999999999 and parameters: {'n_estimators': 243, 'max_depth': 15, 'learning_rate': 0.2384522234749284, 'subsample': 0.5039866077938833, 'colsample_bytree': 0.8341986839149389, 'gamma': 3.2714131588644448e-06, 'reg_alpha': 1.818114804157226e-06, 'reg_lambda': 9.824436079299464e-06}. Best is trial 0 with value: 0.8099999999999999.\n",
      "[I 2024-09-17 10:41:30,516] Trial 1 finished with value: 0.8400000000000001 and parameters: {'n_estimators': 139, 'max_depth': 14, 'learning_rate': 0.07591778383492727, 'subsample': 0.9373160215617721, 'colsample_bytree': 0.7235288409102637, 'gamma': 2.7483138378700172e-05, 'reg_alpha': 1.2117799810197834e-08, 'reg_lambda': 0.0013548314805766162}. Best is trial 1 with value: 0.8400000000000001.\n",
      "[I 2024-09-17 10:41:30,822] Trial 2 finished with value: 0.8400000000000001 and parameters: {'n_estimators': 126, 'max_depth': 13, 'learning_rate': 0.1296893951363379, 'subsample': 0.5423412611852274, 'colsample_bytree': 0.5017880004022199, 'gamma': 0.8393414660145598, 'reg_alpha': 9.628495922780864e-07, 'reg_lambda': 0.48640219330665363}. Best is trial 1 with value: 0.8400000000000001.\n",
      "[I 2024-09-17 10:41:32,234] Trial 3 finished with value: 0.89 and parameters: {'n_estimators': 114, 'max_depth': 7, 'learning_rate': 0.010390052842358378, 'subsample': 0.8438468562091339, 'colsample_bytree': 0.9103881024548395, 'gamma': 2.0573578396852353e-06, 'reg_alpha': 6.45546243752008e-07, 'reg_lambda': 0.00012089726294456219}. Best is trial 3 with value: 0.89.\n",
      "[I 2024-09-17 10:41:32,622] Trial 4 finished with value: 0.8500000000000002 and parameters: {'n_estimators': 82, 'max_depth': 9, 'learning_rate': 0.0868118683348997, 'subsample': 0.7264933094617104, 'colsample_bytree': 0.614495751629341, 'gamma': 0.0013651265575401496, 'reg_alpha': 7.30375078282478e-07, 'reg_lambda': 0.18092664402192027}. Best is trial 3 with value: 0.89.\n",
      "[I 2024-09-17 10:41:33,050] Trial 5 finished with value: 0.8700000000000001 and parameters: {'n_estimators': 164, 'max_depth': 9, 'learning_rate': 0.14326195716009607, 'subsample': 0.6486979289040306, 'colsample_bytree': 0.5769153155262011, 'gamma': 0.00027888838966998446, 'reg_alpha': 2.6329927113410607e-06, 'reg_lambda': 0.00134886697252416}. Best is trial 3 with value: 0.89.\n",
      "[I 2024-09-17 10:41:33,738] Trial 6 finished with value: 0.8600000000000001 and parameters: {'n_estimators': 275, 'max_depth': 9, 'learning_rate': 0.10859000766280534, 'subsample': 0.6295994308521711, 'colsample_bytree': 0.9182441478895206, 'gamma': 0.05211687643152187, 'reg_alpha': 0.00012178332556400232, 'reg_lambda': 0.005325833161247719}. Best is trial 3 with value: 0.89.\n",
      "[I 2024-09-17 10:41:34,364] Trial 7 finished with value: 0.8800000000000001 and parameters: {'n_estimators': 201, 'max_depth': 12, 'learning_rate': 0.017143094577094238, 'subsample': 0.5103245033951, 'colsample_bytree': 0.6318440610258471, 'gamma': 8.134939477637757e-05, 'reg_alpha': 1.5830259621129326e-08, 'reg_lambda': 0.1756830441603879}. Best is trial 3 with value: 0.89.\n",
      "[I 2024-09-17 10:41:35,194] Trial 8 finished with value: 0.85 and parameters: {'n_estimators': 190, 'max_depth': 10, 'learning_rate': 0.027968645194181022, 'subsample': 0.9499084413373229, 'colsample_bytree': 0.5743542356156344, 'gamma': 1.4621089281160089e-08, 'reg_alpha': 1.57801277298194e-08, 'reg_lambda': 7.600726323350531e-07}. Best is trial 3 with value: 0.89.\n",
      "[I 2024-09-17 10:41:35,753] Trial 9 finished with value: 0.86 and parameters: {'n_estimators': 157, 'max_depth': 10, 'learning_rate': 0.036374828497536676, 'subsample': 0.8231903147254385, 'colsample_bytree': 0.672354748205361, 'gamma': 2.733927394198876e-06, 'reg_alpha': 0.0011136828005060872, 'reg_lambda': 0.024792835367246142}. Best is trial 3 with value: 0.89.\n"
     ]
    },
    {
     "name": "stdout",
     "output_type": "stream",
     "text": [
      "RUN: Model:XGBClassifier / Target:['mp_bin'] / Train size:150 / Seed:1\n"
     ]
    },
    {
     "name": "stderr",
     "output_type": "stream",
     "text": [
      "[I 2024-09-17 10:41:36,562] A new study created in memory with name: no-name-fe43e7b2-0b14-46be-a941-64f77dac8700\n",
      "[I 2024-09-17 10:41:36,969] Trial 0 finished with value: 0.8533333333333333 and parameters: {'n_estimators': 102, 'max_depth': 5, 'learning_rate': 0.20215767659516085, 'subsample': 0.5381050840515811, 'colsample_bytree': 0.6078863177404397, 'gamma': 0.1531097650242261, 'reg_alpha': 5.410284961593619e-05, 'reg_lambda': 6.338365935073725e-07}. Best is trial 0 with value: 0.8533333333333333.\n",
      "[I 2024-09-17 10:41:37,775] Trial 1 finished with value: 0.9066666666666666 and parameters: {'n_estimators': 134, 'max_depth': 14, 'learning_rate': 0.015394969662265594, 'subsample': 0.6986529764081575, 'colsample_bytree': 0.5808845425240976, 'gamma': 0.12508978547049562, 'reg_alpha': 3.288630025612247e-08, 'reg_lambda': 8.99271807359195e-07}. Best is trial 1 with value: 0.9066666666666666.\n",
      "[I 2024-09-17 10:41:38,717] Trial 2 finished with value: 0.86 and parameters: {'n_estimators': 292, 'max_depth': 13, 'learning_rate': 0.06404395473912605, 'subsample': 0.8634663716474371, 'colsample_bytree': 0.7615038123435397, 'gamma': 0.0040442930172089634, 'reg_alpha': 0.008198872879148233, 'reg_lambda': 7.487818536828911e-06}. Best is trial 1 with value: 0.9066666666666666.\n",
      "[I 2024-09-17 10:41:39,102] Trial 3 finished with value: 0.8533333333333333 and parameters: {'n_estimators': 97, 'max_depth': 12, 'learning_rate': 0.2049580847570048, 'subsample': 0.7655162508400739, 'colsample_bytree': 0.6761686546129773, 'gamma': 0.00013939505391950637, 'reg_alpha': 1.617152690618434e-06, 'reg_lambda': 3.688978353503806e-07}. Best is trial 1 with value: 0.9066666666666666.\n",
      "[I 2024-09-17 10:41:40,326] Trial 4 finished with value: 0.8666666666666668 and parameters: {'n_estimators': 261, 'max_depth': 13, 'learning_rate': 0.02383310433423118, 'subsample': 0.9802517553666465, 'colsample_bytree': 0.8572670347633927, 'gamma': 1.3977871747778426e-07, 'reg_alpha': 1.0832193271240251e-07, 'reg_lambda': 0.0001033821040437301}. Best is trial 1 with value: 0.9066666666666666.\n",
      "[I 2024-09-17 10:41:41,210] Trial 5 finished with value: 0.8866666666666667 and parameters: {'n_estimators': 197, 'max_depth': 13, 'learning_rate': 0.023794943372759156, 'subsample': 0.774516202377018, 'colsample_bytree': 0.5713621746440398, 'gamma': 1.7259740445461892e-06, 'reg_alpha': 1.0981018499314338e-06, 'reg_lambda': 1.395363684728137e-08}. Best is trial 1 with value: 0.9066666666666666.\n",
      "[I 2024-09-17 10:41:41,948] Trial 6 finished with value: 0.86 and parameters: {'n_estimators': 215, 'max_depth': 3, 'learning_rate': 0.13878086809043486, 'subsample': 0.6200133223000491, 'colsample_bytree': 0.7562365216365974, 'gamma': 3.902296164921022e-06, 'reg_alpha': 0.031022686916612474, 'reg_lambda': 1.516747854563099e-06}. Best is trial 1 with value: 0.9066666666666666.\n",
      "[I 2024-09-17 10:41:42,698] Trial 7 finished with value: 0.8800000000000001 and parameters: {'n_estimators': 196, 'max_depth': 5, 'learning_rate': 0.04309951176310861, 'subsample': 0.8191412611046125, 'colsample_bytree': 0.6130007242906671, 'gamma': 5.86801725794841e-06, 'reg_alpha': 1.1014020178418566e-05, 'reg_lambda': 0.02006957871896348}. Best is trial 1 with value: 0.9066666666666666.\n",
      "[I 2024-09-17 10:41:43,120] Trial 8 finished with value: 0.8933333333333333 and parameters: {'n_estimators': 86, 'max_depth': 11, 'learning_rate': 0.08160458969603625, 'subsample': 0.7129729116050749, 'colsample_bytree': 0.6229602613992302, 'gamma': 2.38177486213231e-05, 'reg_alpha': 0.38701732377176656, 'reg_lambda': 0.043994499742368125}. Best is trial 1 with value: 0.9066666666666666.\n",
      "[I 2024-09-17 10:41:43,531] Trial 9 finished with value: 0.8866666666666667 and parameters: {'n_estimators': 95, 'max_depth': 6, 'learning_rate': 0.05471755878022818, 'subsample': 0.791755690176482, 'colsample_bytree': 0.6408884315922128, 'gamma': 1.0252647969822815e-07, 'reg_alpha': 0.0006386083833925547, 'reg_lambda': 1.612524866509673e-07}. Best is trial 1 with value: 0.9066666666666666.\n"
     ]
    },
    {
     "name": "stdout",
     "output_type": "stream",
     "text": [
      "RUN: Model:RandomForestClassifier / Target:['mp_bin'] / Train size:25 / Seed:2\n"
     ]
    },
    {
     "name": "stderr",
     "output_type": "stream",
     "text": [
      "[I 2024-09-17 10:41:43,886] A new study created in memory with name: no-name-a040f47d-7712-4ff5-a5c0-01442f214a2a\n",
      "[I 2024-09-17 10:41:44,260] Trial 0 finished with value: 0.9199999999999999 and parameters: {'n_estimators': 96, 'max_depth': None, 'min_samples_split': 6, 'min_samples_leaf': 1, 'max_features': 'sqrt', 'bootstrap': False}. Best is trial 0 with value: 0.9199999999999999.\n",
      "[I 2024-09-17 10:41:45,422] Trial 1 finished with value: 0.6399999999999999 and parameters: {'n_estimators': 218, 'max_depth': 10, 'min_samples_split': 14, 'min_samples_leaf': 2, 'max_features': 'sqrt', 'bootstrap': True}. Best is trial 0 with value: 0.9199999999999999.\n",
      "[I 2024-09-17 10:41:45,653] Trial 2 finished with value: 0.8400000000000001 and parameters: {'n_estimators': 56, 'max_depth': 30, 'min_samples_split': 12, 'min_samples_leaf': 4, 'max_features': 'sqrt', 'bootstrap': False}. Best is trial 0 with value: 0.9199999999999999.\n",
      "[I 2024-09-17 10:41:46,134] Trial 3 finished with value: 0.8 and parameters: {'n_estimators': 120, 'max_depth': 40, 'min_samples_split': 4, 'min_samples_leaf': 5, 'max_features': 'sqrt', 'bootstrap': False}. Best is trial 0 with value: 0.9199999999999999.\n",
      "[I 2024-09-17 10:41:46,534] Trial 4 finished with value: 0.8 and parameters: {'n_estimators': 105, 'max_depth': 40, 'min_samples_split': 14, 'min_samples_leaf': 5, 'max_features': 'sqrt', 'bootstrap': False}. Best is trial 0 with value: 0.9199999999999999.\n",
      "[I 2024-09-17 10:41:46,838] Trial 5 finished with value: 0.8 and parameters: {'n_estimators': 81, 'max_depth': 10, 'min_samples_split': 7, 'min_samples_leaf': 3, 'max_features': 'log2', 'bootstrap': False}. Best is trial 0 with value: 0.9199999999999999.\n",
      "[I 2024-09-17 10:41:48,195] Trial 6 finished with value: 0.8 and parameters: {'n_estimators': 261, 'max_depth': 40, 'min_samples_split': 5, 'min_samples_leaf': 2, 'max_features': 'log2', 'bootstrap': True}. Best is trial 0 with value: 0.9199999999999999.\n",
      "[I 2024-09-17 10:41:49,073] Trial 7 finished with value: 0.72 and parameters: {'n_estimators': 163, 'max_depth': 40, 'min_samples_split': 2, 'min_samples_leaf': 5, 'max_features': 'sqrt', 'bootstrap': True}. Best is trial 0 with value: 0.9199999999999999.\n",
      "[I 2024-09-17 10:41:49,767] Trial 8 finished with value: 0.9199999999999999 and parameters: {'n_estimators': 183, 'max_depth': None, 'min_samples_split': 5, 'min_samples_leaf': 1, 'max_features': 'log2', 'bootstrap': False}. Best is trial 0 with value: 0.9199999999999999.\n",
      "[I 2024-09-17 10:41:51,240] Trial 9 finished with value: 0.8 and parameters: {'n_estimators': 274, 'max_depth': 20, 'min_samples_split': 7, 'min_samples_leaf': 1, 'max_features': 'log2', 'bootstrap': True}. Best is trial 0 with value: 0.9199999999999999.\n"
     ]
    },
    {
     "name": "stdout",
     "output_type": "stream",
     "text": [
      "RUN: Model:RandomForestClassifier / Target:['mp_bin'] / Train size:50 / Seed:2\n"
     ]
    },
    {
     "name": "stderr",
     "output_type": "stream",
     "text": [
      "[I 2024-09-17 10:41:51,615] A new study created in memory with name: no-name-daf7d3ba-92cc-4c3b-b2b2-ea23a9a14ece\n",
      "[I 2024-09-17 10:41:52,835] Trial 0 finished with value: 0.9199999999999999 and parameters: {'n_estimators': 226, 'max_depth': 30, 'min_samples_split': 9, 'min_samples_leaf': 1, 'max_features': 'sqrt', 'bootstrap': True}. Best is trial 0 with value: 0.9199999999999999.\n",
      "[I 2024-09-17 10:41:53,168] Trial 1 finished with value: 0.86 and parameters: {'n_estimators': 84, 'max_depth': 30, 'min_samples_split': 13, 'min_samples_leaf': 6, 'max_features': 'sqrt', 'bootstrap': False}. Best is trial 0 with value: 0.9199999999999999.\n",
      "[I 2024-09-17 10:41:54,057] Trial 2 finished with value: 0.82 and parameters: {'n_estimators': 168, 'max_depth': 10, 'min_samples_split': 13, 'min_samples_leaf': 6, 'max_features': 'sqrt', 'bootstrap': True}. Best is trial 0 with value: 0.9199999999999999.\n",
      "[I 2024-09-17 10:41:54,683] Trial 3 finished with value: 0.8800000000000001 and parameters: {'n_estimators': 113, 'max_depth': None, 'min_samples_split': 3, 'min_samples_leaf': 5, 'max_features': 'sqrt', 'bootstrap': True}. Best is trial 0 with value: 0.9199999999999999.\n",
      "[I 2024-09-17 10:41:55,545] Trial 4 finished with value: 0.86 and parameters: {'n_estimators': 219, 'max_depth': 10, 'min_samples_split': 6, 'min_samples_leaf': 6, 'max_features': 'sqrt', 'bootstrap': False}. Best is trial 0 with value: 0.9199999999999999.\n",
      "[I 2024-09-17 10:41:56,048] Trial 5 finished with value: 0.8799999999999999 and parameters: {'n_estimators': 127, 'max_depth': 20, 'min_samples_split': 10, 'min_samples_leaf': 6, 'max_features': 'log2', 'bootstrap': False}. Best is trial 0 with value: 0.9199999999999999.\n",
      "[I 2024-09-17 10:41:56,803] Trial 6 finished with value: 0.86 and parameters: {'n_estimators': 168, 'max_depth': None, 'min_samples_split': 14, 'min_samples_leaf': 6, 'max_features': 'sqrt', 'bootstrap': False}. Best is trial 0 with value: 0.9199999999999999.\n",
      "[I 2024-09-17 10:41:58,367] Trial 7 finished with value: 0.8799999999999999 and parameters: {'n_estimators': 290, 'max_depth': 20, 'min_samples_split': 6, 'min_samples_leaf': 6, 'max_features': 'sqrt', 'bootstrap': True}. Best is trial 0 with value: 0.9199999999999999.\n",
      "[I 2024-09-17 10:42:00,029] Trial 8 finished with value: 0.8799999999999999 and parameters: {'n_estimators': 299, 'max_depth': None, 'min_samples_split': 5, 'min_samples_leaf': 3, 'max_features': 'log2', 'bootstrap': True}. Best is trial 0 with value: 0.9199999999999999.\n",
      "[I 2024-09-17 10:42:01,534] Trial 9 finished with value: 0.8400000000000001 and parameters: {'n_estimators': 278, 'max_depth': None, 'min_samples_split': 11, 'min_samples_leaf': 3, 'max_features': 'sqrt', 'bootstrap': True}. Best is trial 0 with value: 0.9199999999999999.\n"
     ]
    },
    {
     "name": "stdout",
     "output_type": "stream",
     "text": [
      "RUN: Model:RandomForestClassifier / Target:['mp_bin'] / Train size:100 / Seed:2\n"
     ]
    },
    {
     "name": "stderr",
     "output_type": "stream",
     "text": [
      "[I 2024-09-17 10:42:02,241] A new study created in memory with name: no-name-831b63f2-463f-4286-8dbe-0bf2fb17ee35\n",
      "[I 2024-09-17 10:42:03,495] Trial 0 finished with value: 0.8799999999999999 and parameters: {'n_estimators': 233, 'max_depth': 10, 'min_samples_split': 11, 'min_samples_leaf': 6, 'max_features': 'log2', 'bootstrap': True}. Best is trial 0 with value: 0.8799999999999999.\n",
      "[I 2024-09-17 10:42:04,811] Trial 1 finished with value: 0.89 and parameters: {'n_estimators': 241, 'max_depth': 20, 'min_samples_split': 14, 'min_samples_leaf': 2, 'max_features': 'log2', 'bootstrap': True}. Best is trial 1 with value: 0.89.\n",
      "[I 2024-09-17 10:42:05,144] Trial 2 finished with value: 0.9099999999999999 and parameters: {'n_estimators': 80, 'max_depth': 40, 'min_samples_split': 8, 'min_samples_leaf': 3, 'max_features': 'log2', 'bootstrap': False}. Best is trial 2 with value: 0.9099999999999999.\n",
      "[I 2024-09-17 10:42:06,118] Trial 3 finished with value: 0.9099999999999999 and parameters: {'n_estimators': 166, 'max_depth': 30, 'min_samples_split': 8, 'min_samples_leaf': 3, 'max_features': 'sqrt', 'bootstrap': True}. Best is trial 2 with value: 0.9099999999999999.\n",
      "[I 2024-09-17 10:42:06,584] Trial 4 finished with value: 0.8799999999999999 and parameters: {'n_estimators': 80, 'max_depth': 40, 'min_samples_split': 10, 'min_samples_leaf': 4, 'max_features': 'sqrt', 'bootstrap': True}. Best is trial 2 with value: 0.9099999999999999.\n",
      "[I 2024-09-17 10:42:07,224] Trial 5 finished with value: 0.9 and parameters: {'n_estimators': 107, 'max_depth': 10, 'min_samples_split': 8, 'min_samples_leaf': 4, 'max_features': 'log2', 'bootstrap': True}. Best is trial 2 with value: 0.9099999999999999.\n",
      "[I 2024-09-17 10:42:08,091] Trial 6 finished with value: 0.9299999999999999 and parameters: {'n_estimators': 208, 'max_depth': 30, 'min_samples_split': 11, 'min_samples_leaf': 2, 'max_features': 'sqrt', 'bootstrap': False}. Best is trial 6 with value: 0.9299999999999999.\n",
      "[I 2024-09-17 10:42:08,391] Trial 7 finished with value: 0.89 and parameters: {'n_estimators': 72, 'max_depth': None, 'min_samples_split': 12, 'min_samples_leaf': 3, 'max_features': 'log2', 'bootstrap': False}. Best is trial 6 with value: 0.9299999999999999.\n",
      "[I 2024-09-17 10:42:09,694] Trial 8 finished with value: 0.89 and parameters: {'n_estimators': 238, 'max_depth': None, 'min_samples_split': 8, 'min_samples_leaf': 4, 'max_features': 'log2', 'bootstrap': True}. Best is trial 6 with value: 0.9299999999999999.\n",
      "[I 2024-09-17 10:42:10,601] Trial 9 finished with value: 0.89 and parameters: {'n_estimators': 212, 'max_depth': 30, 'min_samples_split': 3, 'min_samples_leaf': 3, 'max_features': 'sqrt', 'bootstrap': False}. Best is trial 6 with value: 0.9299999999999999.\n"
     ]
    },
    {
     "name": "stdout",
     "output_type": "stream",
     "text": [
      "RUN: Model:RandomForestClassifier / Target:['mp_bin'] / Train size:150 / Seed:2\n"
     ]
    },
    {
     "name": "stderr",
     "output_type": "stream",
     "text": [
      "[I 2024-09-17 10:42:11,343] A new study created in memory with name: no-name-f03dd2ba-3c13-42c1-96d9-fba888d97234\n",
      "[I 2024-09-17 10:42:12,240] Trial 0 finished with value: 0.8333333333333334 and parameters: {'n_estimators': 160, 'max_depth': 10, 'min_samples_split': 14, 'min_samples_leaf': 2, 'max_features': 'sqrt', 'bootstrap': True}. Best is trial 0 with value: 0.8333333333333334.\n",
      "[I 2024-09-17 10:42:13,941] Trial 1 finished with value: 0.8333333333333334 and parameters: {'n_estimators': 297, 'max_depth': 10, 'min_samples_split': 10, 'min_samples_leaf': 2, 'max_features': 'sqrt', 'bootstrap': True}. Best is trial 0 with value: 0.8333333333333334.\n",
      "[I 2024-09-17 10:42:15,124] Trial 2 finished with value: 0.8400000000000001 and parameters: {'n_estimators': 212, 'max_depth': 30, 'min_samples_split': 12, 'min_samples_leaf': 1, 'max_features': 'log2', 'bootstrap': True}. Best is trial 2 with value: 0.8400000000000001.\n",
      "[I 2024-09-17 10:42:15,459] Trial 3 finished with value: 0.8466666666666667 and parameters: {'n_estimators': 69, 'max_depth': None, 'min_samples_split': 13, 'min_samples_leaf': 1, 'max_features': 'sqrt', 'bootstrap': False}. Best is trial 3 with value: 0.8466666666666667.\n",
      "[I 2024-09-17 10:42:16,639] Trial 4 finished with value: 0.8133333333333332 and parameters: {'n_estimators': 273, 'max_depth': 30, 'min_samples_split': 3, 'min_samples_leaf': 2, 'max_features': 'log2', 'bootstrap': False}. Best is trial 3 with value: 0.8466666666666667.\n",
      "[I 2024-09-17 10:42:17,233] Trial 5 finished with value: 0.86 and parameters: {'n_estimators': 134, 'max_depth': 40, 'min_samples_split': 5, 'min_samples_leaf': 4, 'max_features': 'sqrt', 'bootstrap': False}. Best is trial 5 with value: 0.86.\n",
      "[I 2024-09-17 10:42:17,813] Trial 6 finished with value: 0.8066666666666666 and parameters: {'n_estimators': 142, 'max_depth': 30, 'min_samples_split': 9, 'min_samples_leaf': 1, 'max_features': 'log2', 'bootstrap': False}. Best is trial 5 with value: 0.86.\n",
      "[I 2024-09-17 10:42:19,162] Trial 7 finished with value: 0.8333333333333334 and parameters: {'n_estimators': 243, 'max_depth': 20, 'min_samples_split': 15, 'min_samples_leaf': 6, 'max_features': 'log2', 'bootstrap': True}. Best is trial 5 with value: 0.86.\n",
      "[I 2024-09-17 10:42:20,424] Trial 8 finished with value: 0.8200000000000001 and parameters: {'n_estimators': 227, 'max_depth': 40, 'min_samples_split': 12, 'min_samples_leaf': 5, 'max_features': 'log2', 'bootstrap': True}. Best is trial 5 with value: 0.86.\n",
      "[I 2024-09-17 10:42:21,429] Trial 9 finished with value: 0.8266666666666668 and parameters: {'n_estimators': 248, 'max_depth': 20, 'min_samples_split': 3, 'min_samples_leaf': 4, 'max_features': 'log2', 'bootstrap': False}. Best is trial 5 with value: 0.86.\n"
     ]
    },
    {
     "name": "stdout",
     "output_type": "stream",
     "text": [
      "RUN: Model:XGBClassifier / Target:['mp_bin'] / Train size:25 / Seed:2\n"
     ]
    },
    {
     "name": "stderr",
     "output_type": "stream",
     "text": [
      "[I 2024-09-17 10:42:21,763] A new study created in memory with name: no-name-c36ad76c-7a8f-42e4-bf9d-1ea46ebb5939\n",
      "[I 2024-09-17 10:42:22,231] Trial 0 finished with value: 0.76 and parameters: {'n_estimators': 244, 'max_depth': 7, 'learning_rate': 0.01704901196997839, 'subsample': 0.5935724650168642, 'colsample_bytree': 0.6679012132520752, 'gamma': 1.3122367952674317e-06, 'reg_alpha': 0.2024193465782716, 'reg_lambda': 1.2231457986245459e-06}. Best is trial 0 with value: 0.76.\n",
      "[I 2024-09-17 10:42:22,834] Trial 1 finished with value: 0.8 and parameters: {'n_estimators': 195, 'max_depth': 12, 'learning_rate': 0.08732366310729228, 'subsample': 0.9863450434086906, 'colsample_bytree': 0.7523569730208431, 'gamma': 3.101516936472777e-06, 'reg_alpha': 0.0018031500651046737, 'reg_lambda': 0.00012313126183317316}. Best is trial 1 with value: 0.8.\n",
      "[I 2024-09-17 10:42:23,122] Trial 2 finished with value: 0.8400000000000001 and parameters: {'n_estimators': 115, 'max_depth': 6, 'learning_rate': 0.04875241255142714, 'subsample': 0.9805564342647934, 'colsample_bytree': 0.67978933698266, 'gamma': 1.7768146393577913e-07, 'reg_alpha': 0.0038763338452469883, 'reg_lambda': 1.9213046313508225e-05}. Best is trial 2 with value: 0.8400000000000001.\n",
      "[I 2024-09-17 10:42:23,625] Trial 3 finished with value: 0.76 and parameters: {'n_estimators': 193, 'max_depth': 13, 'learning_rate': 0.038887966521250435, 'subsample': 0.6532088635585314, 'colsample_bytree': 0.7010781839252938, 'gamma': 0.004009547914255564, 'reg_alpha': 0.0005371150867694239, 'reg_lambda': 1.9406811358240302e-05}. Best is trial 2 with value: 0.8400000000000001.\n",
      "[I 2024-09-17 10:42:24,200] Trial 4 finished with value: 0.8 and parameters: {'n_estimators': 275, 'max_depth': 6, 'learning_rate': 0.07427816784151688, 'subsample': 0.523467656640868, 'colsample_bytree': 0.9952306855548305, 'gamma': 3.262860638460765e-08, 'reg_alpha': 0.00019849787657135265, 'reg_lambda': 2.8634538742241316e-05}. Best is trial 2 with value: 0.8400000000000001.\n",
      "[I 2024-09-17 10:42:24,757] Trial 5 finished with value: 0.68 and parameters: {'n_estimators': 189, 'max_depth': 8, 'learning_rate': 0.25395545170532696, 'subsample': 0.8372221508823985, 'colsample_bytree': 0.5600010819369281, 'gamma': 0.08552709991405996, 'reg_alpha': 0.0001795418196841347, 'reg_lambda': 0.00033364825342124626}. Best is trial 2 with value: 0.8400000000000001.\n",
      "[I 2024-09-17 10:42:25,039] Trial 6 finished with value: 0.76 and parameters: {'n_estimators': 77, 'max_depth': 5, 'learning_rate': 0.01817317905789048, 'subsample': 0.9657921735425349, 'colsample_bytree': 0.9836345199266533, 'gamma': 0.012454689373715055, 'reg_alpha': 3.286661220376455e-05, 'reg_lambda': 0.020003698965700378}. Best is trial 2 with value: 0.8400000000000001.\n",
      "[I 2024-09-17 10:42:25,334] Trial 7 finished with value: 0.76 and parameters: {'n_estimators': 144, 'max_depth': 11, 'learning_rate': 0.10161585831586216, 'subsample': 0.7312193493333071, 'colsample_bytree': 0.8909057779510167, 'gamma': 0.006371021737953137, 'reg_alpha': 1.672025174243908e-06, 'reg_lambda': 7.402286323719595e-07}. Best is trial 2 with value: 0.8400000000000001.\n",
      "[I 2024-09-17 10:42:25,763] Trial 8 finished with value: 0.76 and parameters: {'n_estimators': 137, 'max_depth': 15, 'learning_rate': 0.07758257359038137, 'subsample': 0.5064943606683391, 'colsample_bytree': 0.9122072403743073, 'gamma': 0.0005720606490649498, 'reg_alpha': 0.6616647812758636, 'reg_lambda': 1.8614243517743966e-05}. Best is trial 2 with value: 0.8400000000000001.\n",
      "[I 2024-09-17 10:42:26,168] Trial 9 finished with value: 0.76 and parameters: {'n_estimators': 169, 'max_depth': 10, 'learning_rate': 0.08525190841811518, 'subsample': 0.6929515361432992, 'colsample_bytree': 0.7551715342479377, 'gamma': 4.714828862514352e-06, 'reg_alpha': 6.738260961732935e-08, 'reg_lambda': 0.002398890826076868}. Best is trial 2 with value: 0.8400000000000001.\n"
     ]
    },
    {
     "name": "stdout",
     "output_type": "stream",
     "text": [
      "RUN: Model:XGBClassifier / Target:['mp_bin'] / Train size:50 / Seed:2\n"
     ]
    },
    {
     "name": "stderr",
     "output_type": "stream",
     "text": [
      "[I 2024-09-17 10:42:26,584] A new study created in memory with name: no-name-16905291-c9e6-40fc-a318-56c9c0187ad9\n",
      "[I 2024-09-17 10:42:26,907] Trial 0 finished with value: 0.9400000000000001 and parameters: {'n_estimators': 98, 'max_depth': 12, 'learning_rate': 0.03665667226293222, 'subsample': 0.776871280878421, 'colsample_bytree': 0.5659415399333989, 'gamma': 4.342297987958157e-08, 'reg_alpha': 4.193125353300712e-05, 'reg_lambda': 3.165780268476288e-08}. Best is trial 0 with value: 0.9400000000000001.\n",
      "[I 2024-09-17 10:42:27,926] Trial 1 finished with value: 0.9199999999999999 and parameters: {'n_estimators': 250, 'max_depth': 11, 'learning_rate': 0.023769162111798987, 'subsample': 0.8651411191371492, 'colsample_bytree': 0.896634062574817, 'gamma': 1.1371019934884386e-08, 'reg_alpha': 0.004150181917441025, 'reg_lambda': 0.19169455681739633}. Best is trial 0 with value: 0.9400000000000001.\n",
      "[I 2024-09-17 10:42:28,529] Trial 2 finished with value: 0.9199999999999999 and parameters: {'n_estimators': 283, 'max_depth': 13, 'learning_rate': 0.014207996659837862, 'subsample': 0.5926357975256464, 'colsample_bytree': 0.6595378883599571, 'gamma': 1.8650938105023254e-08, 'reg_alpha': 5.488459847446739e-06, 'reg_lambda': 2.0391965823847833e-08}. Best is trial 0 with value: 0.9400000000000001.\n",
      "[I 2024-09-17 10:42:29,049] Trial 3 finished with value: 0.9400000000000001 and parameters: {'n_estimators': 254, 'max_depth': 8, 'learning_rate': 0.03036257597950653, 'subsample': 0.6245459802804293, 'colsample_bytree': 0.8494546811754089, 'gamma': 1.3694297554834127e-06, 'reg_alpha': 0.07211874750839174, 'reg_lambda': 2.5740431139437436e-06}. Best is trial 0 with value: 0.9400000000000001.\n",
      "[I 2024-09-17 10:42:29,839] Trial 4 finished with value: 0.9400000000000001 and parameters: {'n_estimators': 259, 'max_depth': 9, 'learning_rate': 0.023612457356473597, 'subsample': 0.7948678736152782, 'colsample_bytree': 0.6294729141051463, 'gamma': 2.3196773646177472e-05, 'reg_alpha': 0.0004785235921406542, 'reg_lambda': 1.2977836752098116e-08}. Best is trial 0 with value: 0.9400000000000001.\n",
      "[I 2024-09-17 10:42:30,234] Trial 5 finished with value: 0.9 and parameters: {'n_estimators': 152, 'max_depth': 12, 'learning_rate': 0.015370717110233178, 'subsample': 0.9781089789284068, 'colsample_bytree': 0.6565778475532004, 'gamma': 0.7408411483211884, 'reg_alpha': 2.759597645334901e-06, 'reg_lambda': 1.6370910941686718e-05}. Best is trial 0 with value: 0.9400000000000001.\n",
      "[I 2024-09-17 10:42:30,919] Trial 6 finished with value: 0.9 and parameters: {'n_estimators': 298, 'max_depth': 10, 'learning_rate': 0.04047744672452226, 'subsample': 0.8992295240570314, 'colsample_bytree': 0.715251338393787, 'gamma': 1.2168704166232611e-08, 'reg_alpha': 3.957341926594357e-08, 'reg_lambda': 2.2807519528772635e-07}. Best is trial 0 with value: 0.9400000000000001.\n",
      "[I 2024-09-17 10:42:32,104] Trial 7 finished with value: 0.9400000000000001 and parameters: {'n_estimators': 189, 'max_depth': 15, 'learning_rate': 0.05341789938447439, 'subsample': 0.6393792670934442, 'colsample_bytree': 0.688538596418979, 'gamma': 1.2989019445855425e-07, 'reg_alpha': 1.7913809909030365e-08, 'reg_lambda': 0.3998380521266747}. Best is trial 0 with value: 0.9400000000000001.\n",
      "[I 2024-09-17 10:42:32,461] Trial 8 finished with value: 0.9 and parameters: {'n_estimators': 102, 'max_depth': 12, 'learning_rate': 0.01379989467161181, 'subsample': 0.5656889221333223, 'colsample_bytree': 0.7355375452267108, 'gamma': 0.19471270495249413, 'reg_alpha': 1.8272723952755443e-08, 'reg_lambda': 3.670048169237383e-08}. Best is trial 0 with value: 0.9400000000000001.\n",
      "[I 2024-09-17 10:42:32,716] Trial 9 finished with value: 0.9400000000000001 and parameters: {'n_estimators': 121, 'max_depth': 6, 'learning_rate': 0.2854139604299814, 'subsample': 0.7037708219881265, 'colsample_bytree': 0.5508621279950996, 'gamma': 0.0015092213534642468, 'reg_alpha': 7.086780367535845e-06, 'reg_lambda': 0.0001804124301205881}. Best is trial 0 with value: 0.9400000000000001.\n"
     ]
    },
    {
     "name": "stdout",
     "output_type": "stream",
     "text": [
      "RUN: Model:XGBClassifier / Target:['mp_bin'] / Train size:100 / Seed:2\n"
     ]
    },
    {
     "name": "stderr",
     "output_type": "stream",
     "text": [
      "[I 2024-09-17 10:42:33,282] A new study created in memory with name: no-name-3c9174f8-1b43-4596-abda-87ab3d0ee5e9\n",
      "[I 2024-09-17 10:42:34,015] Trial 0 finished with value: 0.9099999999999999 and parameters: {'n_estimators': 215, 'max_depth': 15, 'learning_rate': 0.016888655146290073, 'subsample': 0.917436750038904, 'colsample_bytree': 0.7867371320553778, 'gamma': 4.6661987789139355e-07, 'reg_alpha': 0.10778545303645495, 'reg_lambda': 0.17152630263951227}. Best is trial 0 with value: 0.9099999999999999.\n",
      "[I 2024-09-17 10:42:34,251] Trial 1 finished with value: 0.89 and parameters: {'n_estimators': 70, 'max_depth': 11, 'learning_rate': 0.16515207536484572, 'subsample': 0.5174390081770921, 'colsample_bytree': 0.696794511423082, 'gamma': 9.053945346696087e-07, 'reg_alpha': 1.5394509421283237e-07, 'reg_lambda': 3.6170921413311677e-06}. Best is trial 0 with value: 0.9099999999999999.\n",
      "[I 2024-09-17 10:42:34,927] Trial 2 finished with value: 0.9099999999999999 and parameters: {'n_estimators': 276, 'max_depth': 4, 'learning_rate': 0.12011463560720569, 'subsample': 0.7822528099778661, 'colsample_bytree': 0.9961761905415257, 'gamma': 1.663565959273501e-06, 'reg_alpha': 0.175922980693391, 'reg_lambda': 0.004952710279768097}. Best is trial 0 with value: 0.9099999999999999.\n",
      "[I 2024-09-17 10:42:35,515] Trial 3 finished with value: 0.9199999999999999 and parameters: {'n_estimators': 134, 'max_depth': 12, 'learning_rate': 0.1771997625230921, 'subsample': 0.8678829992673955, 'colsample_bytree': 0.6168998683441025, 'gamma': 1.0170575935156927e-06, 'reg_alpha': 0.9846326668202421, 'reg_lambda': 4.237693659688924e-05}. Best is trial 3 with value: 0.9199999999999999.\n",
      "[I 2024-09-17 10:42:36,060] Trial 4 finished with value: 0.9 and parameters: {'n_estimators': 159, 'max_depth': 7, 'learning_rate': 0.21836099466280212, 'subsample': 0.6910352770994246, 'colsample_bytree': 0.5485382052083082, 'gamma': 9.130005722977231e-07, 'reg_alpha': 0.04955117943015828, 'reg_lambda': 4.1358764972777356e-05}. Best is trial 3 with value: 0.9199999999999999.\n",
      "[I 2024-09-17 10:42:36,609] Trial 5 finished with value: 0.9 and parameters: {'n_estimators': 98, 'max_depth': 9, 'learning_rate': 0.011838804824285763, 'subsample': 0.572397961040487, 'colsample_bytree': 0.8572596537001143, 'gamma': 1.4077349313389138e-05, 'reg_alpha': 1.564711177662146e-07, 'reg_lambda': 0.0003201041911961602}. Best is trial 3 with value: 0.9199999999999999.\n",
      "[I 2024-09-17 10:42:37,319] Trial 6 finished with value: 0.9099999999999999 and parameters: {'n_estimators': 158, 'max_depth': 12, 'learning_rate': 0.07161471926268483, 'subsample': 0.9756711792588441, 'colsample_bytree': 0.6912859598483324, 'gamma': 0.5943146141961962, 'reg_alpha': 2.544462270767097e-05, 'reg_lambda': 0.0001409982321570874}. Best is trial 3 with value: 0.9199999999999999.\n",
      "[I 2024-09-17 10:42:37,873] Trial 7 finished with value: 0.9099999999999999 and parameters: {'n_estimators': 264, 'max_depth': 5, 'learning_rate': 0.18006691220916687, 'subsample': 0.8744146337776799, 'colsample_bytree': 0.5475780326703902, 'gamma': 0.3212686141161399, 'reg_alpha': 3.813691705719525e-06, 'reg_lambda': 0.5366966723651218}. Best is trial 3 with value: 0.9199999999999999.\n",
      "[I 2024-09-17 10:42:38,583] Trial 8 finished with value: 0.9099999999999999 and parameters: {'n_estimators': 209, 'max_depth': 13, 'learning_rate': 0.01661378234264134, 'subsample': 0.9593525768669848, 'colsample_bytree': 0.8380038458628762, 'gamma': 0.5063511994157825, 'reg_alpha': 0.008114809028673542, 'reg_lambda': 0.058649076977620944}. Best is trial 3 with value: 0.9199999999999999.\n",
      "[I 2024-09-17 10:42:39,067] Trial 9 finished with value: 0.9099999999999999 and parameters: {'n_estimators': 136, 'max_depth': 11, 'learning_rate': 0.05152468309298461, 'subsample': 0.9630403426726902, 'colsample_bytree': 0.5338565904412262, 'gamma': 0.09274961643618264, 'reg_alpha': 3.805692872418651e-08, 'reg_lambda': 8.586633946753757e-06}. Best is trial 3 with value: 0.9199999999999999.\n"
     ]
    },
    {
     "name": "stdout",
     "output_type": "stream",
     "text": [
      "RUN: Model:XGBClassifier / Target:['mp_bin'] / Train size:150 / Seed:2\n"
     ]
    },
    {
     "name": "stderr",
     "output_type": "stream",
     "text": [
      "[I 2024-09-17 10:42:40,088] A new study created in memory with name: no-name-49e33877-8917-47a8-beeb-d156bdb8910e\n",
      "[I 2024-09-17 10:42:41,507] Trial 0 finished with value: 0.8266666666666665 and parameters: {'n_estimators': 231, 'max_depth': 6, 'learning_rate': 0.017226979156667807, 'subsample': 0.961840822039391, 'colsample_bytree': 0.7773415757106451, 'gamma': 0.00014523778848751643, 'reg_alpha': 0.06809775524761717, 'reg_lambda': 0.0002721789519954893}. Best is trial 0 with value: 0.8266666666666665.\n",
      "[I 2024-09-17 10:42:41,808] Trial 1 finished with value: 0.82 and parameters: {'n_estimators': 59, 'max_depth': 9, 'learning_rate': 0.11808438583365445, 'subsample': 0.9138092197502969, 'colsample_bytree': 0.5272184029251349, 'gamma': 0.07487357208139024, 'reg_alpha': 0.7029444939003903, 'reg_lambda': 0.0015643410581416314}. Best is trial 0 with value: 0.8266666666666665.\n",
      "[I 2024-09-17 10:42:42,919] Trial 2 finished with value: 0.8266666666666668 and parameters: {'n_estimators': 226, 'max_depth': 4, 'learning_rate': 0.01594436538294808, 'subsample': 0.5096063167068667, 'colsample_bytree': 0.6810365175881186, 'gamma': 0.00017856054224496827, 'reg_alpha': 1.155237540782507e-06, 'reg_lambda': 2.801984771798375e-07}. Best is trial 2 with value: 0.8266666666666668.\n",
      "[I 2024-09-17 10:42:43,392] Trial 3 finished with value: 0.8400000000000001 and parameters: {'n_estimators': 126, 'max_depth': 7, 'learning_rate': 0.1114476136575806, 'subsample': 0.7635766666592665, 'colsample_bytree': 0.5346327250012879, 'gamma': 7.703634348134911e-07, 'reg_alpha': 1.6796053462741812e-05, 'reg_lambda': 1.9975023820179355e-08}. Best is trial 3 with value: 0.8400000000000001.\n",
      "[I 2024-09-17 10:42:43,944] Trial 4 finished with value: 0.8066666666666666 and parameters: {'n_estimators': 178, 'max_depth': 4, 'learning_rate': 0.15335806693701903, 'subsample': 0.9960048444135392, 'colsample_bytree': 0.5652745345866748, 'gamma': 0.09328064362165368, 'reg_alpha': 0.00039490689789402084, 'reg_lambda': 0.00015473544541562528}. Best is trial 3 with value: 0.8400000000000001.\n",
      "[I 2024-09-17 10:42:44,763] Trial 5 finished with value: 0.8066666666666666 and parameters: {'n_estimators': 148, 'max_depth': 10, 'learning_rate': 0.1784126224747294, 'subsample': 0.7647073515409523, 'colsample_bytree': 0.9143299485386127, 'gamma': 7.626680774457185e-06, 'reg_alpha': 9.185346089753648e-07, 'reg_lambda': 3.49138498164806e-08}. Best is trial 3 with value: 0.8400000000000001.\n",
      "[I 2024-09-17 10:42:45,449] Trial 6 finished with value: 0.8266666666666665 and parameters: {'n_estimators': 142, 'max_depth': 4, 'learning_rate': 0.04035993860407147, 'subsample': 0.9853211675783282, 'colsample_bytree': 0.7102921807812299, 'gamma': 0.007917828929363747, 'reg_alpha': 1.4868643903786586e-07, 'reg_lambda': 0.0020763017056784163}. Best is trial 3 with value: 0.8400000000000001.\n",
      "[I 2024-09-17 10:42:46,354] Trial 7 finished with value: 0.8266666666666665 and parameters: {'n_estimators': 227, 'max_depth': 11, 'learning_rate': 0.05806177330709317, 'subsample': 0.9725408268031732, 'colsample_bytree': 0.6460490575331621, 'gamma': 0.0002483898188530855, 'reg_alpha': 0.02383944531197304, 'reg_lambda': 0.002260864646653145}. Best is trial 3 with value: 0.8400000000000001.\n",
      "[I 2024-09-17 10:42:46,738] Trial 8 finished with value: 0.8 and parameters: {'n_estimators': 96, 'max_depth': 6, 'learning_rate': 0.21071945783805518, 'subsample': 0.5673889400952847, 'colsample_bytree': 0.6735073373125104, 'gamma': 7.976873359775459e-05, 'reg_alpha': 0.029456005070736542, 'reg_lambda': 7.599174541862202e-08}. Best is trial 3 with value: 0.8400000000000001.\n",
      "[I 2024-09-17 10:42:47,577] Trial 9 finished with value: 0.8333333333333334 and parameters: {'n_estimators': 145, 'max_depth': 11, 'learning_rate': 0.025719554845620052, 'subsample': 0.7386938671254809, 'colsample_bytree': 0.7162326175164297, 'gamma': 2.0660109940569573e-05, 'reg_alpha': 6.014820090137185e-05, 'reg_lambda': 6.939328365916884e-05}. Best is trial 3 with value: 0.8400000000000001.\n"
     ]
    },
    {
     "name": "stdout",
     "output_type": "stream",
     "text": [
      "RUN: Model:RandomForestClassifier / Target:['mp_bin'] / Train size:25 / Seed:3\n"
     ]
    },
    {
     "name": "stderr",
     "output_type": "stream",
     "text": [
      "[I 2024-09-17 10:42:47,972] A new study created in memory with name: no-name-b733d6db-7dca-4aec-a379-afbfd80c0d03\n",
      "[I 2024-09-17 10:42:49,086] Trial 0 finished with value: 0.6 and parameters: {'n_estimators': 208, 'max_depth': 10, 'min_samples_split': 7, 'min_samples_leaf': 2, 'max_features': 'sqrt', 'bootstrap': True}. Best is trial 0 with value: 0.6.\n",
      "[I 2024-09-17 10:42:49,674] Trial 1 finished with value: 0.6 and parameters: {'n_estimators': 98, 'max_depth': None, 'min_samples_split': 8, 'min_samples_leaf': 3, 'max_features': 'sqrt', 'bootstrap': True}. Best is trial 0 with value: 0.6.\n",
      "[I 2024-09-17 10:42:50,667] Trial 2 finished with value: 0.64 and parameters: {'n_estimators': 261, 'max_depth': 10, 'min_samples_split': 13, 'min_samples_leaf': 3, 'max_features': 'sqrt', 'bootstrap': False}. Best is trial 2 with value: 0.64.\n",
      "[I 2024-09-17 10:42:51,998] Trial 3 finished with value: 0.56 and parameters: {'n_estimators': 247, 'max_depth': 20, 'min_samples_split': 15, 'min_samples_leaf': 5, 'max_features': 'sqrt', 'bootstrap': True}. Best is trial 2 with value: 0.64.\n",
      "[I 2024-09-17 10:42:53,041] Trial 4 finished with value: 0.6 and parameters: {'n_estimators': 279, 'max_depth': 20, 'min_samples_split': 7, 'min_samples_leaf': 5, 'max_features': 'log2', 'bootstrap': False}. Best is trial 2 with value: 0.64.\n",
      "[I 2024-09-17 10:42:53,567] Trial 5 finished with value: 0.64 and parameters: {'n_estimators': 133, 'max_depth': None, 'min_samples_split': 14, 'min_samples_leaf': 6, 'max_features': 'sqrt', 'bootstrap': False}. Best is trial 2 with value: 0.64.\n",
      "[I 2024-09-17 10:42:55,191] Trial 6 finished with value: 0.56 and parameters: {'n_estimators': 298, 'max_depth': 10, 'min_samples_split': 2, 'min_samples_leaf': 3, 'max_features': 'sqrt', 'bootstrap': True}. Best is trial 2 with value: 0.64.\n",
      "[I 2024-09-17 10:42:55,511] Trial 7 finished with value: 0.6 and parameters: {'n_estimators': 78, 'max_depth': 30, 'min_samples_split': 5, 'min_samples_leaf': 3, 'max_features': 'sqrt', 'bootstrap': False}. Best is trial 2 with value: 0.64.\n",
      "[I 2024-09-17 10:42:55,747] Trial 8 finished with value: 0.6 and parameters: {'n_estimators': 58, 'max_depth': 30, 'min_samples_split': 3, 'min_samples_leaf': 3, 'max_features': 'log2', 'bootstrap': False}. Best is trial 2 with value: 0.64.\n",
      "[I 2024-09-17 10:42:56,120] Trial 9 finished with value: 0.6 and parameters: {'n_estimators': 95, 'max_depth': None, 'min_samples_split': 11, 'min_samples_leaf': 4, 'max_features': 'sqrt', 'bootstrap': False}. Best is trial 2 with value: 0.64.\n"
     ]
    },
    {
     "name": "stdout",
     "output_type": "stream",
     "text": [
      "RUN: Model:RandomForestClassifier / Target:['mp_bin'] / Train size:50 / Seed:3\n"
     ]
    },
    {
     "name": "stderr",
     "output_type": "stream",
     "text": [
      "[I 2024-09-17 10:42:56,648] A new study created in memory with name: no-name-9bfef99f-c030-4c97-b18c-8057ecb8c498\n",
      "[I 2024-09-17 10:42:57,166] Trial 0 finished with value: 0.6799999999999999 and parameters: {'n_estimators': 134, 'max_depth': 40, 'min_samples_split': 15, 'min_samples_leaf': 4, 'max_features': 'sqrt', 'bootstrap': False}. Best is trial 0 with value: 0.6799999999999999.\n",
      "[I 2024-09-17 10:42:58,020] Trial 1 finished with value: 0.7 and parameters: {'n_estimators': 204, 'max_depth': 10, 'min_samples_split': 14, 'min_samples_leaf': 1, 'max_features': 'sqrt', 'bootstrap': False}. Best is trial 1 with value: 0.7.\n",
      "[I 2024-09-17 10:42:59,214] Trial 2 finished with value: 0.7000000000000001 and parameters: {'n_estimators': 218, 'max_depth': 30, 'min_samples_split': 14, 'min_samples_leaf': 2, 'max_features': 'sqrt', 'bootstrap': True}. Best is trial 2 with value: 0.7000000000000001.\n",
      "[I 2024-09-17 10:42:59,879] Trial 3 finished with value: 0.6199999999999999 and parameters: {'n_estimators': 165, 'max_depth': 30, 'min_samples_split': 4, 'min_samples_leaf': 2, 'max_features': 'sqrt', 'bootstrap': False}. Best is trial 2 with value: 0.7000000000000001.\n",
      "[I 2024-09-17 10:43:00,463] Trial 4 finished with value: 0.74 and parameters: {'n_estimators': 149, 'max_depth': None, 'min_samples_split': 2, 'min_samples_leaf': 6, 'max_features': 'sqrt', 'bootstrap': False}. Best is trial 4 with value: 0.74.\n",
      "[I 2024-09-17 10:43:01,256] Trial 5 finished with value: 0.6799999999999999 and parameters: {'n_estimators': 148, 'max_depth': None, 'min_samples_split': 13, 'min_samples_leaf': 3, 'max_features': 'sqrt', 'bootstrap': True}. Best is trial 4 with value: 0.74.\n",
      "[I 2024-09-17 10:43:02,513] Trial 6 finished with value: 0.6599999999999999 and parameters: {'n_estimators': 236, 'max_depth': None, 'min_samples_split': 13, 'min_samples_leaf': 6, 'max_features': 'sqrt', 'bootstrap': True}. Best is trial 4 with value: 0.74.\n",
      "[I 2024-09-17 10:43:02,808] Trial 7 finished with value: 0.7 and parameters: {'n_estimators': 53, 'max_depth': 20, 'min_samples_split': 6, 'min_samples_leaf': 6, 'max_features': 'sqrt', 'bootstrap': True}. Best is trial 4 with value: 0.74.\n",
      "[I 2024-09-17 10:43:03,486] Trial 8 finished with value: 0.6799999999999999 and parameters: {'n_estimators': 169, 'max_depth': 30, 'min_samples_split': 6, 'min_samples_leaf': 2, 'max_features': 'sqrt', 'bootstrap': False}. Best is trial 4 with value: 0.74.\n",
      "[I 2024-09-17 10:43:05,117] Trial 9 finished with value: 0.66 and parameters: {'n_estimators': 300, 'max_depth': 40, 'min_samples_split': 5, 'min_samples_leaf': 4, 'max_features': 'sqrt', 'bootstrap': True}. Best is trial 4 with value: 0.74.\n"
     ]
    },
    {
     "name": "stdout",
     "output_type": "stream",
     "text": [
      "RUN: Model:RandomForestClassifier / Target:['mp_bin'] / Train size:100 / Seed:3\n"
     ]
    },
    {
     "name": "stderr",
     "output_type": "stream",
     "text": [
      "[I 2024-09-17 10:43:05,685] A new study created in memory with name: no-name-079af9ad-d2e3-40e0-b26a-d0e465382585\n",
      "[I 2024-09-17 10:43:06,404] Trial 0 finished with value: 0.8399999999999999 and parameters: {'n_estimators': 130, 'max_depth': None, 'min_samples_split': 6, 'min_samples_leaf': 4, 'max_features': 'log2', 'bootstrap': True}. Best is trial 0 with value: 0.8399999999999999.\n",
      "[I 2024-09-17 10:43:06,888] Trial 1 finished with value: 0.8099999999999999 and parameters: {'n_estimators': 79, 'max_depth': None, 'min_samples_split': 4, 'min_samples_leaf': 1, 'max_features': 'sqrt', 'bootstrap': True}. Best is trial 0 with value: 0.8399999999999999.\n",
      "[I 2024-09-17 10:43:07,938] Trial 2 finished with value: 0.8400000000000001 and parameters: {'n_estimators': 179, 'max_depth': None, 'min_samples_split': 13, 'min_samples_leaf': 4, 'max_features': 'sqrt', 'bootstrap': True}. Best is trial 2 with value: 0.8400000000000001.\n",
      "[I 2024-09-17 10:43:08,270] Trial 3 finished with value: 0.8099999999999999 and parameters: {'n_estimators': 73, 'max_depth': None, 'min_samples_split': 2, 'min_samples_leaf': 2, 'max_features': 'sqrt', 'bootstrap': False}. Best is trial 2 with value: 0.8400000000000001.\n",
      "[I 2024-09-17 10:43:08,529] Trial 4 finished with value: 0.8300000000000001 and parameters: {'n_estimators': 59, 'max_depth': 10, 'min_samples_split': 7, 'min_samples_leaf': 3, 'max_features': 'sqrt', 'bootstrap': False}. Best is trial 2 with value: 0.8400000000000001.\n",
      "[I 2024-09-17 10:43:09,047] Trial 5 finished with value: 0.8300000000000001 and parameters: {'n_estimators': 129, 'max_depth': 40, 'min_samples_split': 15, 'min_samples_leaf': 5, 'max_features': 'log2', 'bootstrap': False}. Best is trial 2 with value: 0.8400000000000001.\n",
      "[I 2024-09-17 10:43:10,114] Trial 6 finished with value: 0.85 and parameters: {'n_estimators': 189, 'max_depth': 40, 'min_samples_split': 7, 'min_samples_leaf': 6, 'max_features': 'sqrt', 'bootstrap': True}. Best is trial 6 with value: 0.85.\n",
      "[I 2024-09-17 10:43:11,047] Trial 7 finished with value: 0.82 and parameters: {'n_estimators': 224, 'max_depth': 20, 'min_samples_split': 11, 'min_samples_leaf': 4, 'max_features': 'sqrt', 'bootstrap': False}. Best is trial 6 with value: 0.85.\n",
      "[I 2024-09-17 10:43:12,290] Trial 8 finished with value: 0.8300000000000001 and parameters: {'n_estimators': 223, 'max_depth': 10, 'min_samples_split': 11, 'min_samples_leaf': 6, 'max_features': 'sqrt', 'bootstrap': True}. Best is trial 6 with value: 0.85.\n",
      "[I 2024-09-17 10:43:13,325] Trial 9 finished with value: 0.82 and parameters: {'n_estimators': 168, 'max_depth': None, 'min_samples_split': 7, 'min_samples_leaf': 3, 'max_features': 'sqrt', 'bootstrap': True}. Best is trial 6 with value: 0.85.\n"
     ]
    },
    {
     "name": "stdout",
     "output_type": "stream",
     "text": [
      "RUN: Model:RandomForestClassifier / Target:['mp_bin'] / Train size:150 / Seed:3\n"
     ]
    },
    {
     "name": "stderr",
     "output_type": "stream",
     "text": [
      "[I 2024-09-17 10:43:14,172] A new study created in memory with name: no-name-d80c1f29-51b1-4e8d-9e28-b8c54d0e5302\n",
      "[I 2024-09-17 10:43:15,516] Trial 0 finished with value: 0.8266666666666668 and parameters: {'n_estimators': 219, 'max_depth': 20, 'min_samples_split': 4, 'min_samples_leaf': 1, 'max_features': 'sqrt', 'bootstrap': True}. Best is trial 0 with value: 0.8266666666666668.\n",
      "[I 2024-09-17 10:43:16,268] Trial 1 finished with value: 0.8400000000000001 and parameters: {'n_estimators': 156, 'max_depth': 40, 'min_samples_split': 8, 'min_samples_leaf': 1, 'max_features': 'sqrt', 'bootstrap': False}. Best is trial 1 with value: 0.8400000000000001.\n",
      "[I 2024-09-17 10:43:16,659] Trial 2 finished with value: 0.8800000000000001 and parameters: {'n_estimators': 86, 'max_depth': None, 'min_samples_split': 13, 'min_samples_leaf': 3, 'max_features': 'log2', 'bootstrap': False}. Best is trial 2 with value: 0.8800000000000001.\n",
      "[I 2024-09-17 10:43:18,058] Trial 3 finished with value: 0.8533333333333333 and parameters: {'n_estimators': 245, 'max_depth': 10, 'min_samples_split': 13, 'min_samples_leaf': 6, 'max_features': 'log2', 'bootstrap': True}. Best is trial 2 with value: 0.8800000000000001.\n",
      "[I 2024-09-17 10:43:18,955] Trial 4 finished with value: 0.8666666666666668 and parameters: {'n_estimators': 220, 'max_depth': 30, 'min_samples_split': 3, 'min_samples_leaf': 4, 'max_features': 'log2', 'bootstrap': False}. Best is trial 2 with value: 0.8800000000000001.\n",
      "[I 2024-09-17 10:43:20,699] Trial 5 finished with value: 0.8466666666666667 and parameters: {'n_estimators': 297, 'max_depth': 30, 'min_samples_split': 3, 'min_samples_leaf': 3, 'max_features': 'sqrt', 'bootstrap': True}. Best is trial 2 with value: 0.8800000000000001.\n",
      "[I 2024-09-17 10:43:21,042] Trial 6 finished with value: 0.8533333333333333 and parameters: {'n_estimators': 74, 'max_depth': None, 'min_samples_split': 13, 'min_samples_leaf': 4, 'max_features': 'sqrt', 'bootstrap': False}. Best is trial 2 with value: 0.8800000000000001.\n",
      "[I 2024-09-17 10:43:22,357] Trial 7 finished with value: 0.8600000000000001 and parameters: {'n_estimators': 231, 'max_depth': 40, 'min_samples_split': 6, 'min_samples_leaf': 2, 'max_features': 'log2', 'bootstrap': True}. Best is trial 2 with value: 0.8800000000000001.\n",
      "[I 2024-09-17 10:43:23,479] Trial 8 finished with value: 0.8666666666666668 and parameters: {'n_estimators': 190, 'max_depth': 40, 'min_samples_split': 10, 'min_samples_leaf': 1, 'max_features': 'sqrt', 'bootstrap': True}. Best is trial 2 with value: 0.8800000000000001.\n",
      "[I 2024-09-17 10:43:23,792] Trial 9 finished with value: 0.86 and parameters: {'n_estimators': 52, 'max_depth': 20, 'min_samples_split': 6, 'min_samples_leaf': 1, 'max_features': 'sqrt', 'bootstrap': True}. Best is trial 2 with value: 0.8800000000000001.\n"
     ]
    },
    {
     "name": "stdout",
     "output_type": "stream",
     "text": [
      "RUN: Model:XGBClassifier / Target:['mp_bin'] / Train size:25 / Seed:3\n"
     ]
    },
    {
     "name": "stderr",
     "output_type": "stream",
     "text": [
      "[I 2024-09-17 10:43:24,098] A new study created in memory with name: no-name-6c951128-3b96-4c4c-a949-676dbc02e4cb\n",
      "[I 2024-09-17 10:43:24,428] Trial 0 finished with value: 0.52 and parameters: {'n_estimators': 123, 'max_depth': 4, 'learning_rate': 0.27276165767293453, 'subsample': 0.7904824068093024, 'colsample_bytree': 0.8451206400546447, 'gamma': 1.627955189593134e-05, 'reg_alpha': 0.04585935042374453, 'reg_lambda': 0.00039438878741720513}. Best is trial 0 with value: 0.52.\n",
      "[I 2024-09-17 10:43:24,834] Trial 1 finished with value: 0.52 and parameters: {'n_estimators': 202, 'max_depth': 10, 'learning_rate': 0.02156777887730902, 'subsample': 0.6270758939343093, 'colsample_bytree': 0.5881467544663628, 'gamma': 4.9671433135804456e-06, 'reg_alpha': 7.312161062070922e-06, 'reg_lambda': 0.06954573046245491}. Best is trial 0 with value: 0.52.\n",
      "[I 2024-09-17 10:43:25,015] Trial 2 finished with value: 0.6 and parameters: {'n_estimators': 62, 'max_depth': 5, 'learning_rate': 0.21694244458829845, 'subsample': 0.6442293566874224, 'colsample_bytree': 0.7111420475581606, 'gamma': 1.4237897986989244e-06, 'reg_alpha': 2.389480611707782e-07, 'reg_lambda': 1.4850624590229241e-08}. Best is trial 2 with value: 0.6.\n",
      "[I 2024-09-17 10:43:25,451] Trial 3 finished with value: 0.52 and parameters: {'n_estimators': 238, 'max_depth': 4, 'learning_rate': 0.015999492673289383, 'subsample': 0.7502124267242035, 'colsample_bytree': 0.7734387214967842, 'gamma': 0.15417881474433423, 'reg_alpha': 5.0031075948276554e-05, 'reg_lambda': 0.10161671907780807}. Best is trial 2 with value: 0.6.\n",
      "[I 2024-09-17 10:43:25,934] Trial 4 finished with value: 0.56 and parameters: {'n_estimators': 246, 'max_depth': 8, 'learning_rate': 0.026055070877179183, 'subsample': 0.9404277217798025, 'colsample_bytree': 0.8057741998605301, 'gamma': 2.269401003767221e-05, 'reg_alpha': 1.7699205385252152e-07, 'reg_lambda': 0.0377676366350592}. Best is trial 2 with value: 0.6.\n",
      "[I 2024-09-17 10:43:26,121] Trial 5 finished with value: 0.52 and parameters: {'n_estimators': 51, 'max_depth': 7, 'learning_rate': 0.04609351789247381, 'subsample': 0.7418055794194769, 'colsample_bytree': 0.8652982481939222, 'gamma': 2.060170435972243e-05, 'reg_alpha': 1.4587828936902224e-06, 'reg_lambda': 0.019267819196476556}. Best is trial 2 with value: 0.6.\n",
      "[I 2024-09-17 10:43:26,476] Trial 6 finished with value: 0.52 and parameters: {'n_estimators': 188, 'max_depth': 15, 'learning_rate': 0.033194000047096, 'subsample': 0.6011402221813757, 'colsample_bytree': 0.7878075561245166, 'gamma': 8.162649037604527e-07, 'reg_alpha': 7.886984955761099e-07, 'reg_lambda': 1.440276649856683e-07}. Best is trial 2 with value: 0.6.\n",
      "[I 2024-09-17 10:43:27,025] Trial 7 finished with value: 0.52 and parameters: {'n_estimators': 257, 'max_depth': 11, 'learning_rate': 0.010342132706314334, 'subsample': 0.8794750144854673, 'colsample_bytree': 0.7534137661567302, 'gamma': 0.000666404457680621, 'reg_alpha': 6.500698564172553e-07, 'reg_lambda': 0.00873038363402736}. Best is trial 2 with value: 0.6.\n",
      "[I 2024-09-17 10:43:27,505] Trial 8 finished with value: 0.56 and parameters: {'n_estimators': 239, 'max_depth': 10, 'learning_rate': 0.029295096687310052, 'subsample': 0.8218931126265743, 'colsample_bytree': 0.7807555959010225, 'gamma': 1.622868963145315e-06, 'reg_alpha': 2.0280486166790346e-06, 'reg_lambda': 5.930704724103475e-06}. Best is trial 2 with value: 0.6.\n",
      "[I 2024-09-17 10:43:28,038] Trial 9 finished with value: 0.56 and parameters: {'n_estimators': 285, 'max_depth': 8, 'learning_rate': 0.015169993952852191, 'subsample': 0.8665286646681589, 'colsample_bytree': 0.6474756705259198, 'gamma': 3.343453119874515e-08, 'reg_alpha': 1.4411654935392662e-05, 'reg_lambda': 1.2815242555901166e-05}. Best is trial 2 with value: 0.6.\n"
     ]
    },
    {
     "name": "stdout",
     "output_type": "stream",
     "text": [
      "RUN: Model:XGBClassifier / Target:['mp_bin'] / Train size:50 / Seed:3\n"
     ]
    },
    {
     "name": "stderr",
     "output_type": "stream",
     "text": [
      "[I 2024-09-17 10:43:28,396] A new study created in memory with name: no-name-9bad2531-1501-4c19-8e85-ae2f86bc4f83\n",
      "[I 2024-09-17 10:43:28,670] Trial 0 finished with value: 0.68 and parameters: {'n_estimators': 57, 'max_depth': 12, 'learning_rate': 0.021229398281625074, 'subsample': 0.9519278435605734, 'colsample_bytree': 0.929047410500059, 'gamma': 1.3425324221770018e-05, 'reg_alpha': 3.663636047933734e-06, 'reg_lambda': 8.848254862811322e-06}. Best is trial 0 with value: 0.68.\n",
      "[I 2024-09-17 10:43:28,930] Trial 1 finished with value: 0.6799999999999999 and parameters: {'n_estimators': 95, 'max_depth': 5, 'learning_rate': 0.2460453167593444, 'subsample': 0.6657808550289264, 'colsample_bytree': 0.8911476636572275, 'gamma': 0.003657855631386812, 'reg_alpha': 2.854057800220749e-08, 'reg_lambda': 0.0004304354661465477}. Best is trial 0 with value: 0.68.\n",
      "[I 2024-09-17 10:43:29,684] Trial 2 finished with value: 0.66 and parameters: {'n_estimators': 298, 'max_depth': 9, 'learning_rate': 0.010508896119653461, 'subsample': 0.9888167363916898, 'colsample_bytree': 0.8006703336329797, 'gamma': 0.01644830893041525, 'reg_alpha': 0.34002862485247415, 'reg_lambda': 2.979813983436243e-08}. Best is trial 0 with value: 0.68.\n",
      "[I 2024-09-17 10:43:30,170] Trial 3 finished with value: 0.6799999999999999 and parameters: {'n_estimators': 260, 'max_depth': 5, 'learning_rate': 0.14897630398721162, 'subsample': 0.7482766797538937, 'colsample_bytree': 0.711855843080764, 'gamma': 1.5518967509088008e-07, 'reg_alpha': 0.3410959182282834, 'reg_lambda': 1.059122540473486e-05}. Best is trial 0 with value: 0.68.\n",
      "[I 2024-09-17 10:43:30,622] Trial 4 finished with value: 0.6799999999999999 and parameters: {'n_estimators': 145, 'max_depth': 14, 'learning_rate': 0.09153527406728999, 'subsample': 0.7932567517865459, 'colsample_bytree': 0.8501280442765585, 'gamma': 0.0007125718928221889, 'reg_alpha': 0.04177309222991017, 'reg_lambda': 1.0062198541857714e-08}. Best is trial 0 with value: 0.68.\n",
      "[I 2024-09-17 10:43:31,294] Trial 5 finished with value: 0.6799999999999999 and parameters: {'n_estimators': 73, 'max_depth': 5, 'learning_rate': 0.18693388492174387, 'subsample': 0.5913768319745853, 'colsample_bytree': 0.8817034321293912, 'gamma': 0.01333128731304592, 'reg_alpha': 3.625667450024221e-08, 'reg_lambda': 0.7981381468086077}. Best is trial 0 with value: 0.68.\n",
      "[I 2024-09-17 10:43:31,706] Trial 6 finished with value: 0.74 and parameters: {'n_estimators': 82, 'max_depth': 4, 'learning_rate': 0.01763160308982483, 'subsample': 0.5135665339669886, 'colsample_bytree': 0.5733234341649153, 'gamma': 0.00012230983750169527, 'reg_alpha': 0.04640759771662494, 'reg_lambda': 3.858991857841111e-06}. Best is trial 6 with value: 0.74.\n",
      "[I 2024-09-17 10:43:33,299] Trial 7 finished with value: 0.66 and parameters: {'n_estimators': 152, 'max_depth': 11, 'learning_rate': 0.027623652514522607, 'subsample': 0.8175099189396683, 'colsample_bytree': 0.7460362240930962, 'gamma': 1.0906071237174261e-05, 'reg_alpha': 1.2875803606535936e-05, 'reg_lambda': 0.5369277604365681}. Best is trial 6 with value: 0.74.\n",
      "[I 2024-09-17 10:43:34,370] Trial 8 finished with value: 0.66 and parameters: {'n_estimators': 244, 'max_depth': 13, 'learning_rate': 0.04575086328773021, 'subsample': 0.7490099081779757, 'colsample_bytree': 0.6658812899084113, 'gamma': 0.000266697479014008, 'reg_alpha': 0.00010804748748131754, 'reg_lambda': 0.0012530389355985023}. Best is trial 6 with value: 0.74.\n",
      "[I 2024-09-17 10:43:35,019] Trial 9 finished with value: 0.68 and parameters: {'n_estimators': 128, 'max_depth': 5, 'learning_rate': 0.010174947675919248, 'subsample': 0.8913882321463803, 'colsample_bytree': 0.7679084244658689, 'gamma': 1.765630422203004e-06, 'reg_alpha': 2.172466860809479e-05, 'reg_lambda': 8.50354313120214e-05}. Best is trial 6 with value: 0.74.\n"
     ]
    },
    {
     "name": "stdout",
     "output_type": "stream",
     "text": [
      "RUN: Model:XGBClassifier / Target:['mp_bin'] / Train size:100 / Seed:3\n"
     ]
    },
    {
     "name": "stderr",
     "output_type": "stream",
     "text": [
      "[I 2024-09-17 10:43:35,570] A new study created in memory with name: no-name-e14afcfe-7296-4085-a4b2-35c5e1d37cb2\n",
      "[I 2024-09-17 10:43:35,877] Trial 0 finished with value: 0.8300000000000001 and parameters: {'n_estimators': 61, 'max_depth': 11, 'learning_rate': 0.2280618742170779, 'subsample': 0.9761510559648265, 'colsample_bytree': 0.9842867130299099, 'gamma': 0.594351265676013, 'reg_alpha': 1.514642894758915e-08, 'reg_lambda': 0.13535704648500274}. Best is trial 0 with value: 0.8300000000000001.\n",
      "[I 2024-09-17 10:43:36,547] Trial 1 finished with value: 0.82 and parameters: {'n_estimators': 196, 'max_depth': 3, 'learning_rate': 0.01848462647881486, 'subsample': 0.8529864062301273, 'colsample_bytree': 0.5053893861659459, 'gamma': 4.410680652089595e-08, 'reg_alpha': 0.003045978862623545, 'reg_lambda': 2.7501998800081586e-06}. Best is trial 0 with value: 0.8300000000000001.\n",
      "[I 2024-09-17 10:43:37,156] Trial 2 finished with value: 0.8099999999999999 and parameters: {'n_estimators': 157, 'max_depth': 15, 'learning_rate': 0.1773908861075476, 'subsample': 0.8818874670402008, 'colsample_bytree': 0.6608966961610608, 'gamma': 4.265648869766859e-06, 'reg_alpha': 0.00785156302561585, 'reg_lambda': 2.6451734501385366e-06}. Best is trial 0 with value: 0.8300000000000001.\n",
      "[I 2024-09-17 10:43:37,592] Trial 3 finished with value: 0.8300000000000001 and parameters: {'n_estimators': 110, 'max_depth': 4, 'learning_rate': 0.015416782145206316, 'subsample': 0.6671166935166073, 'colsample_bytree': 0.6495140300254341, 'gamma': 0.004302514104699617, 'reg_alpha': 0.3075804045560595, 'reg_lambda': 1.1135536481533727e-05}. Best is trial 0 with value: 0.8300000000000001.\n",
      "[I 2024-09-17 10:43:37,888] Trial 4 finished with value: 0.8099999999999999 and parameters: {'n_estimators': 85, 'max_depth': 3, 'learning_rate': 0.26656174386160253, 'subsample': 0.7733323828924682, 'colsample_bytree': 0.8532190754464348, 'gamma': 2.445110725880616e-06, 'reg_alpha': 1.677331987813959e-06, 'reg_lambda': 3.6992517590543486e-07}. Best is trial 0 with value: 0.8300000000000001.\n",
      "[I 2024-09-17 10:43:38,627] Trial 5 finished with value: 0.82 and parameters: {'n_estimators': 226, 'max_depth': 14, 'learning_rate': 0.023891367319302248, 'subsample': 0.7006419510796116, 'colsample_bytree': 0.8114237247683231, 'gamma': 0.008756099660937232, 'reg_alpha': 0.0006901614951892089, 'reg_lambda': 0.5065021836955143}. Best is trial 0 with value: 0.8300000000000001.\n",
      "[I 2024-09-17 10:43:39,308] Trial 6 finished with value: 0.8 and parameters: {'n_estimators': 210, 'max_depth': 14, 'learning_rate': 0.09416647528431814, 'subsample': 0.5575061561358068, 'colsample_bytree': 0.8517221753757995, 'gamma': 0.06404655802303312, 'reg_alpha': 1.939310624908383e-05, 'reg_lambda': 0.0005428397909930659}. Best is trial 0 with value: 0.8300000000000001.\n",
      "[I 2024-09-17 10:43:40,650] Trial 7 finished with value: 0.82 and parameters: {'n_estimators': 280, 'max_depth': 6, 'learning_rate': 0.03972957825679132, 'subsample': 0.6607404091913107, 'colsample_bytree': 0.6426920590984652, 'gamma': 4.257576428691697e-05, 'reg_alpha': 2.628219385456461e-06, 'reg_lambda': 0.10551661060773004}. Best is trial 0 with value: 0.8300000000000001.\n",
      "[I 2024-09-17 10:43:41,267] Trial 8 finished with value: 0.8 and parameters: {'n_estimators': 153, 'max_depth': 15, 'learning_rate': 0.09090028609606728, 'subsample': 0.5730659988879296, 'colsample_bytree': 0.9451969746241335, 'gamma': 0.023949861138709498, 'reg_alpha': 3.677502980704558e-06, 'reg_lambda': 0.051716478330324625}. Best is trial 0 with value: 0.8300000000000001.\n",
      "[I 2024-09-17 10:43:41,989] Trial 9 finished with value: 0.8 and parameters: {'n_estimators': 213, 'max_depth': 15, 'learning_rate': 0.06585577022937292, 'subsample': 0.7601393854962375, 'colsample_bytree': 0.664101967270992, 'gamma': 0.3798737652194649, 'reg_alpha': 1.3733435713440333e-07, 'reg_lambda': 0.00019442928530468814}. Best is trial 0 with value: 0.8300000000000001.\n"
     ]
    },
    {
     "name": "stdout",
     "output_type": "stream",
     "text": [
      "RUN: Model:XGBClassifier / Target:['mp_bin'] / Train size:150 / Seed:3\n"
     ]
    },
    {
     "name": "stderr",
     "output_type": "stream",
     "text": [
      "[I 2024-09-17 10:43:42,701] A new study created in memory with name: no-name-9351fd1c-2307-4466-8f65-d47a40393942\n",
      "[I 2024-09-17 10:43:43,668] Trial 0 finished with value: 0.8533333333333333 and parameters: {'n_estimators': 205, 'max_depth': 3, 'learning_rate': 0.01171446873973338, 'subsample': 0.882251348150551, 'colsample_bytree': 0.5079795063335215, 'gamma': 3.930789214743512e-06, 'reg_alpha': 0.00023159874501206968, 'reg_lambda': 2.7978719077244823e-06}. Best is trial 0 with value: 0.8533333333333333.\n",
      "[I 2024-09-17 10:43:45,250] Trial 1 finished with value: 0.8333333333333334 and parameters: {'n_estimators': 218, 'max_depth': 9, 'learning_rate': 0.014698154050747366, 'subsample': 0.527004316548841, 'colsample_bytree': 0.8631657799769001, 'gamma': 1.5975627910565727e-07, 'reg_alpha': 0.00027961590744718015, 'reg_lambda': 3.1628724983622624e-08}. Best is trial 0 with value: 0.8533333333333333.\n",
      "[I 2024-09-17 10:43:46,248] Trial 2 finished with value: 0.8400000000000001 and parameters: {'n_estimators': 229, 'max_depth': 15, 'learning_rate': 0.04708713671153499, 'subsample': 0.6469675661716487, 'colsample_bytree': 0.7904195091071303, 'gamma': 0.00014873493151406557, 'reg_alpha': 2.5140648713039022e-06, 'reg_lambda': 0.00018769102300626844}. Best is trial 0 with value: 0.8533333333333333.\n",
      "[I 2024-09-17 10:43:46,835] Trial 3 finished with value: 0.8333333333333334 and parameters: {'n_estimators': 98, 'max_depth': 8, 'learning_rate': 0.029242044209027512, 'subsample': 0.8260133339943772, 'colsample_bytree': 0.9335445159505646, 'gamma': 0.0012592815148838629, 'reg_alpha': 0.0008109074063557709, 'reg_lambda': 0.0028557317366128387}. Best is trial 0 with value: 0.8533333333333333.\n",
      "[I 2024-09-17 10:43:47,349] Trial 4 finished with value: 0.8333333333333334 and parameters: {'n_estimators': 118, 'max_depth': 4, 'learning_rate': 0.05846200452935499, 'subsample': 0.8019325726215449, 'colsample_bytree': 0.8375943426823464, 'gamma': 0.014276431439804069, 'reg_alpha': 0.006760491353964395, 'reg_lambda': 4.5014283119923874e-05}. Best is trial 0 with value: 0.8533333333333333.\n",
      "[I 2024-09-17 10:43:48,114] Trial 5 finished with value: 0.8400000000000001 and parameters: {'n_estimators': 190, 'max_depth': 15, 'learning_rate': 0.05279847327168977, 'subsample': 0.8604735496232077, 'colsample_bytree': 0.9071393698163013, 'gamma': 0.10929749880941604, 'reg_alpha': 0.05346333842142054, 'reg_lambda': 1.686733022550289e-08}. Best is trial 0 with value: 0.8533333333333333.\n",
      "[I 2024-09-17 10:43:49,128] Trial 6 finished with value: 0.8400000000000001 and parameters: {'n_estimators': 287, 'max_depth': 12, 'learning_rate': 0.07884863258753155, 'subsample': 0.5657715301494082, 'colsample_bytree': 0.895376952451277, 'gamma': 2.007255421066886e-07, 'reg_alpha': 3.45856693556645e-05, 'reg_lambda': 0.0009253849610665673}. Best is trial 0 with value: 0.8533333333333333.\n",
      "[I 2024-09-17 10:43:49,898] Trial 7 finished with value: 0.8333333333333334 and parameters: {'n_estimators': 124, 'max_depth': 5, 'learning_rate': 0.033519617266058725, 'subsample': 0.6035239705330927, 'colsample_bytree': 0.8920594871322207, 'gamma': 0.002878858689414815, 'reg_alpha': 0.30892930217135595, 'reg_lambda': 0.0018040665990144964}. Best is trial 0 with value: 0.8533333333333333.\n",
      "[I 2024-09-17 10:43:51,859] Trial 8 finished with value: 0.8333333333333334 and parameters: {'n_estimators': 254, 'max_depth': 13, 'learning_rate': 0.014254052626457573, 'subsample': 0.6916472968158698, 'colsample_bytree': 0.7782013475097278, 'gamma': 1.4391318474586074e-07, 'reg_alpha': 3.696957799417391e-07, 'reg_lambda': 5.25143729331762e-06}. Best is trial 0 with value: 0.8533333333333333.\n",
      "[I 2024-09-17 10:43:52,707] Trial 9 finished with value: 0.8266666666666665 and parameters: {'n_estimators': 233, 'max_depth': 11, 'learning_rate': 0.18741649168295207, 'subsample': 0.6933181497185203, 'colsample_bytree': 0.6653638923067244, 'gamma': 3.4322507326641415e-07, 'reg_alpha': 1.6196421893583896e-07, 'reg_lambda': 0.028155080376925073}. Best is trial 0 with value: 0.8533333333333333.\n"
     ]
    }
   ],
   "source": [
    "MODEL_NAMES = ['RandomForestClassifier', 'XGBClassifier']\n",
    "TARGETS = [[i] for i in Target ]\n",
    "TRAIN_SIZES = [25, 50, 100, 150]\n",
    "\n",
    "result = []\n",
    "for seed in [1, 2, 3]:\n",
    "    for model_name in MODEL_NAMES:\n",
    "        for target in TARGETS:\n",
    "            for train_size in TRAIN_SIZES:\n",
    "                print(f'RUN: Model:{model_name} / Target:{target} / Train size:{train_size} / Seed:{seed}')\n",
    "                \n",
    "                if model_name == 'RandomForestClassifier':\n",
    "                    objective = objectiveRandomForestClassifier\n",
    "                elif model_name == 'XGBClassifier':\n",
    "                    objective = objectiveXGBClassifier\n",
    "\n",
    "                model = MLmodel(modelType=model_name, \n",
    "                df=input,\n",
    "                randomSeed=seed,\n",
    "                train_count = train_size,\n",
    "                test_count = 50, \n",
    "                target=target, \n",
    "                features=Features, \n",
    "                hyperparameter_tuning=True,\n",
    "                feature_types=Feature_types,\n",
    "                optimization_method='optuna', \n",
    "                optimization_trials=10,\n",
    "                objective=lambda trial: objective(trial, model)\n",
    "                )\n",
    "\n",
    "                model.train()\n",
    "                eval, summary = model.evaluate()\n",
    "                result.append({**summary, **eval, 'seed':seed})\n",
    "\n"
   ]
  },
  {
   "cell_type": "markdown",
   "metadata": {},
   "source": [
    "Some information about the dataset such as the splitting, wrong smiles, total number of samples."
   ]
  },
  {
   "cell_type": "code",
   "execution_count": 6,
   "metadata": {},
   "outputs": [
    {
     "data": {
      "text/html": [
       "<div>\n",
       "<style scoped>\n",
       "    .dataframe tbody tr th:only-of-type {\n",
       "        vertical-align: middle;\n",
       "    }\n",
       "\n",
       "    .dataframe tbody tr th {\n",
       "        vertical-align: top;\n",
       "    }\n",
       "\n",
       "    .dataframe thead th {\n",
       "        text-align: right;\n",
       "    }\n",
       "</style>\n",
       "<table border=\"1\" class=\"dataframe\">\n",
       "  <thead>\n",
       "    <tr style=\"text-align: right;\">\n",
       "      <th></th>\n",
       "      <th>modeltype</th>\n",
       "      <th>target</th>\n",
       "      <th>train_size</th>\n",
       "      <th>trues</th>\n",
       "      <th>preds</th>\n",
       "      <th>model_params</th>\n",
       "      <th>accuracy</th>\n",
       "      <th>f1_micro</th>\n",
       "      <th>f1_macro</th>\n",
       "      <th>kappa</th>\n",
       "      <th>seed</th>\n",
       "    </tr>\n",
       "  </thead>\n",
       "  <tbody>\n",
       "    <tr>\n",
       "      <th>0</th>\n",
       "      <td>RandomForestClassifier</td>\n",
       "      <td>[mp_bin]</td>\n",
       "      <td>25</td>\n",
       "      <td>[1, 0, 1, 1, 0, 0, 1, 0, 1, 1, 1, 1, 1, 1, 1, ...</td>\n",
       "      <td>[1, 0, 1, 1, 0, 0, 0, 1, 0, 1, 1, 1, 1, 1, 1, ...</td>\n",
       "      <td>{'bootstrap': True, 'ccp_alpha': 0.0, 'class_w...</td>\n",
       "      <td>0.82</td>\n",
       "      <td>0.82</td>\n",
       "      <td>0.810845</td>\n",
       "      <td>0.621849</td>\n",
       "      <td>1</td>\n",
       "    </tr>\n",
       "    <tr>\n",
       "      <th>1</th>\n",
       "      <td>RandomForestClassifier</td>\n",
       "      <td>[mp_bin]</td>\n",
       "      <td>50</td>\n",
       "      <td>[0, 0, 1, 1, 0, 0, 1, 1, 0, 1, 1, 1, 1, 0, 0, ...</td>\n",
       "      <td>[0, 0, 1, 1, 0, 0, 0, 1, 1, 1, 1, 0, 1, 0, 0, ...</td>\n",
       "      <td>{'bootstrap': False, 'ccp_alpha': 0.0, 'class_...</td>\n",
       "      <td>0.80</td>\n",
       "      <td>0.80</td>\n",
       "      <td>0.797078</td>\n",
       "      <td>0.594156</td>\n",
       "      <td>1</td>\n",
       "    </tr>\n",
       "    <tr>\n",
       "      <th>2</th>\n",
       "      <td>RandomForestClassifier</td>\n",
       "      <td>[mp_bin]</td>\n",
       "      <td>100</td>\n",
       "      <td>[1, 0, 0, 1, 0, 0, 1, 1, 0, 1, 1, 0, 1, 0, 0, ...</td>\n",
       "      <td>[1, 0, 0, 0, 1, 0, 1, 1, 0, 0, 1, 0, 0, 0, 0, ...</td>\n",
       "      <td>{'bootstrap': False, 'ccp_alpha': 0.0, 'class_...</td>\n",
       "      <td>0.86</td>\n",
       "      <td>0.86</td>\n",
       "      <td>0.859944</td>\n",
       "      <td>0.720000</td>\n",
       "      <td>1</td>\n",
       "    </tr>\n",
       "    <tr>\n",
       "      <th>3</th>\n",
       "      <td>RandomForestClassifier</td>\n",
       "      <td>[mp_bin]</td>\n",
       "      <td>150</td>\n",
       "      <td>[1, 0, 1, 1, 1, 0, 1, 1, 0, 0, 0, 1, 1, 1, 1, ...</td>\n",
       "      <td>[1, 0, 0, 0, 0, 0, 1, 1, 0, 0, 0, 1, 1, 1, 0, ...</td>\n",
       "      <td>{'bootstrap': False, 'ccp_alpha': 0.0, 'class_...</td>\n",
       "      <td>0.88</td>\n",
       "      <td>0.88</td>\n",
       "      <td>0.880000</td>\n",
       "      <td>0.763407</td>\n",
       "      <td>1</td>\n",
       "    </tr>\n",
       "    <tr>\n",
       "      <th>4</th>\n",
       "      <td>XGBClassifier</td>\n",
       "      <td>[mp_bin]</td>\n",
       "      <td>25</td>\n",
       "      <td>[1, 0, 1, 1, 0, 0, 1, 0, 1, 1, 1, 1, 1, 1, 1, ...</td>\n",
       "      <td>[1, 0, 1, 1, 1, 0, 0, 1, 0, 1, 1, 1, 1, 1, 1, ...</td>\n",
       "      <td>{'objective': 'binary:logistic', 'base_score':...</td>\n",
       "      <td>0.84</td>\n",
       "      <td>0.84</td>\n",
       "      <td>0.826389</td>\n",
       "      <td>0.653380</td>\n",
       "      <td>1</td>\n",
       "    </tr>\n",
       "    <tr>\n",
       "      <th>5</th>\n",
       "      <td>XGBClassifier</td>\n",
       "      <td>[mp_bin]</td>\n",
       "      <td>50</td>\n",
       "      <td>[0, 0, 1, 1, 0, 0, 1, 1, 0, 1, 1, 1, 1, 0, 0, ...</td>\n",
       "      <td>[0, 0, 1, 1, 0, 0, 0, 1, 1, 1, 1, 0, 1, 0, 0, ...</td>\n",
       "      <td>{'objective': 'binary:logistic', 'base_score':...</td>\n",
       "      <td>0.84</td>\n",
       "      <td>0.84</td>\n",
       "      <td>0.837662</td>\n",
       "      <td>0.675325</td>\n",
       "      <td>1</td>\n",
       "    </tr>\n",
       "    <tr>\n",
       "      <th>6</th>\n",
       "      <td>XGBClassifier</td>\n",
       "      <td>[mp_bin]</td>\n",
       "      <td>100</td>\n",
       "      <td>[1, 0, 0, 1, 0, 0, 1, 1, 0, 1, 1, 0, 1, 0, 0, ...</td>\n",
       "      <td>[1, 0, 0, 0, 1, 0, 1, 1, 0, 1, 1, 0, 0, 0, 0, ...</td>\n",
       "      <td>{'objective': 'binary:logistic', 'base_score':...</td>\n",
       "      <td>0.88</td>\n",
       "      <td>0.88</td>\n",
       "      <td>0.879808</td>\n",
       "      <td>0.760000</td>\n",
       "      <td>1</td>\n",
       "    </tr>\n",
       "    <tr>\n",
       "      <th>7</th>\n",
       "      <td>XGBClassifier</td>\n",
       "      <td>[mp_bin]</td>\n",
       "      <td>150</td>\n",
       "      <td>[1, 0, 1, 1, 1, 0, 1, 1, 0, 0, 0, 1, 1, 1, 1, ...</td>\n",
       "      <td>[1, 0, 0, 0, 0, 0, 1, 1, 0, 0, 0, 1, 1, 1, 0, ...</td>\n",
       "      <td>{'objective': 'binary:logistic', 'base_score':...</td>\n",
       "      <td>0.84</td>\n",
       "      <td>0.84</td>\n",
       "      <td>0.839744</td>\n",
       "      <td>0.681529</td>\n",
       "      <td>1</td>\n",
       "    </tr>\n",
       "    <tr>\n",
       "      <th>8</th>\n",
       "      <td>RandomForestClassifier</td>\n",
       "      <td>[mp_bin]</td>\n",
       "      <td>25</td>\n",
       "      <td>[1, 1, 1, 1, 0, 0, 1, 0, 0, 0, 1, 0, 0, 1, 1, ...</td>\n",
       "      <td>[1, 1, 1, 1, 0, 0, 1, 0, 0, 0, 1, 1, 0, 1, 0, ...</td>\n",
       "      <td>{'bootstrap': False, 'ccp_alpha': 0.0, 'class_...</td>\n",
       "      <td>0.84</td>\n",
       "      <td>0.84</td>\n",
       "      <td>0.840000</td>\n",
       "      <td>0.680511</td>\n",
       "      <td>2</td>\n",
       "    </tr>\n",
       "    <tr>\n",
       "      <th>9</th>\n",
       "      <td>RandomForestClassifier</td>\n",
       "      <td>[mp_bin]</td>\n",
       "      <td>50</td>\n",
       "      <td>[0, 1, 1, 0, 0, 0, 0, 0, 0, 1, 1, 1, 0, 0, 0, ...</td>\n",
       "      <td>[0, 1, 1, 0, 0, 0, 1, 0, 0, 0, 1, 1, 0, 0, 0, ...</td>\n",
       "      <td>{'bootstrap': True, 'ccp_alpha': 0.0, 'class_w...</td>\n",
       "      <td>0.78</td>\n",
       "      <td>0.78</td>\n",
       "      <td>0.777778</td>\n",
       "      <td>0.555735</td>\n",
       "      <td>2</td>\n",
       "    </tr>\n",
       "    <tr>\n",
       "      <th>10</th>\n",
       "      <td>RandomForestClassifier</td>\n",
       "      <td>[mp_bin]</td>\n",
       "      <td>100</td>\n",
       "      <td>[0, 0, 1, 1, 1, 1, 0, 0, 0, 1, 1, 0, 0, 0, 0, ...</td>\n",
       "      <td>[0, 0, 0, 0, 1, 1, 0, 0, 0, 0, 0, 0, 0, 0, 0, ...</td>\n",
       "      <td>{'bootstrap': False, 'ccp_alpha': 0.0, 'class_...</td>\n",
       "      <td>0.84</td>\n",
       "      <td>0.84</td>\n",
       "      <td>0.821747</td>\n",
       "      <td>0.649123</td>\n",
       "      <td>2</td>\n",
       "    </tr>\n",
       "    <tr>\n",
       "      <th>11</th>\n",
       "      <td>RandomForestClassifier</td>\n",
       "      <td>[mp_bin]</td>\n",
       "      <td>150</td>\n",
       "      <td>[0, 1, 0, 0, 0, 0, 0, 0, 1, 1, 1, 0, 1, 1, 1, ...</td>\n",
       "      <td>[0, 0, 0, 0, 1, 0, 0, 0, 1, 1, 1, 0, 0, 1, 1, ...</td>\n",
       "      <td>{'bootstrap': False, 'ccp_alpha': 0.0, 'class_...</td>\n",
       "      <td>0.84</td>\n",
       "      <td>0.84</td>\n",
       "      <td>0.830221</td>\n",
       "      <td>0.660441</td>\n",
       "      <td>2</td>\n",
       "    </tr>\n",
       "    <tr>\n",
       "      <th>12</th>\n",
       "      <td>XGBClassifier</td>\n",
       "      <td>[mp_bin]</td>\n",
       "      <td>25</td>\n",
       "      <td>[1, 1, 1, 1, 0, 0, 1, 0, 0, 0, 1, 0, 0, 1, 1, ...</td>\n",
       "      <td>[1, 1, 1, 1, 0, 0, 1, 0, 0, 0, 1, 1, 0, 1, 0, ...</td>\n",
       "      <td>{'objective': 'binary:logistic', 'base_score':...</td>\n",
       "      <td>0.84</td>\n",
       "      <td>0.84</td>\n",
       "      <td>0.839744</td>\n",
       "      <td>0.679487</td>\n",
       "      <td>2</td>\n",
       "    </tr>\n",
       "    <tr>\n",
       "      <th>13</th>\n",
       "      <td>XGBClassifier</td>\n",
       "      <td>[mp_bin]</td>\n",
       "      <td>50</td>\n",
       "      <td>[0, 1, 1, 0, 0, 0, 0, 0, 0, 1, 1, 1, 0, 0, 0, ...</td>\n",
       "      <td>[0, 1, 1, 1, 0, 0, 1, 0, 0, 0, 1, 1, 0, 0, 0, ...</td>\n",
       "      <td>{'objective': 'binary:logistic', 'base_score':...</td>\n",
       "      <td>0.80</td>\n",
       "      <td>0.80</td>\n",
       "      <td>0.799679</td>\n",
       "      <td>0.600000</td>\n",
       "      <td>2</td>\n",
       "    </tr>\n",
       "    <tr>\n",
       "      <th>14</th>\n",
       "      <td>XGBClassifier</td>\n",
       "      <td>[mp_bin]</td>\n",
       "      <td>100</td>\n",
       "      <td>[0, 0, 1, 1, 1, 1, 0, 0, 0, 1, 1, 0, 0, 0, 0, ...</td>\n",
       "      <td>[0, 0, 0, 0, 1, 1, 0, 0, 0, 0, 0, 0, 0, 0, 0, ...</td>\n",
       "      <td>{'objective': 'binary:logistic', 'base_score':...</td>\n",
       "      <td>0.84</td>\n",
       "      <td>0.84</td>\n",
       "      <td>0.821747</td>\n",
       "      <td>0.649123</td>\n",
       "      <td>2</td>\n",
       "    </tr>\n",
       "    <tr>\n",
       "      <th>15</th>\n",
       "      <td>XGBClassifier</td>\n",
       "      <td>[mp_bin]</td>\n",
       "      <td>150</td>\n",
       "      <td>[0, 1, 0, 0, 0, 0, 0, 0, 1, 1, 1, 0, 1, 1, 1, ...</td>\n",
       "      <td>[0, 1, 0, 0, 0, 0, 0, 0, 1, 1, 1, 0, 0, 1, 1, ...</td>\n",
       "      <td>{'objective': 'binary:logistic', 'base_score':...</td>\n",
       "      <td>0.90</td>\n",
       "      <td>0.90</td>\n",
       "      <td>0.896652</td>\n",
       "      <td>0.794069</td>\n",
       "      <td>2</td>\n",
       "    </tr>\n",
       "    <tr>\n",
       "      <th>16</th>\n",
       "      <td>RandomForestClassifier</td>\n",
       "      <td>[mp_bin]</td>\n",
       "      <td>25</td>\n",
       "      <td>[1, 1, 1, 0, 0, 1, 0, 0, 0, 0, 0, 0, 0, 1, 1, ...</td>\n",
       "      <td>[1, 1, 1, 0, 1, 1, 1, 1, 0, 0, 1, 0, 1, 1, 1, ...</td>\n",
       "      <td>{'bootstrap': False, 'ccp_alpha': 0.0, 'class_...</td>\n",
       "      <td>0.68</td>\n",
       "      <td>0.68</td>\n",
       "      <td>0.666667</td>\n",
       "      <td>0.360000</td>\n",
       "      <td>3</td>\n",
       "    </tr>\n",
       "    <tr>\n",
       "      <th>17</th>\n",
       "      <td>RandomForestClassifier</td>\n",
       "      <td>[mp_bin]</td>\n",
       "      <td>50</td>\n",
       "      <td>[0, 1, 0, 0, 1, 0, 0, 0, 1, 1, 0, 0, 0, 0, 1, ...</td>\n",
       "      <td>[1, 1, 0, 0, 1, 0, 0, 1, 1, 1, 0, 0, 0, 0, 1, ...</td>\n",
       "      <td>{'bootstrap': False, 'ccp_alpha': 0.0, 'class_...</td>\n",
       "      <td>0.80</td>\n",
       "      <td>0.80</td>\n",
       "      <td>0.800000</td>\n",
       "      <td>0.605678</td>\n",
       "      <td>3</td>\n",
       "    </tr>\n",
       "    <tr>\n",
       "      <th>18</th>\n",
       "      <td>RandomForestClassifier</td>\n",
       "      <td>[mp_bin]</td>\n",
       "      <td>100</td>\n",
       "      <td>[1, 0, 0, 1, 1, 0, 1, 0, 0, 0, 0, 0, 1, 1, 1, ...</td>\n",
       "      <td>[1, 0, 1, 0, 1, 0, 1, 1, 0, 0, 0, 0, 0, 1, 1, ...</td>\n",
       "      <td>{'bootstrap': True, 'ccp_alpha': 0.0, 'class_w...</td>\n",
       "      <td>0.84</td>\n",
       "      <td>0.84</td>\n",
       "      <td>0.838969</td>\n",
       "      <td>0.677939</td>\n",
       "      <td>3</td>\n",
       "    </tr>\n",
       "    <tr>\n",
       "      <th>19</th>\n",
       "      <td>RandomForestClassifier</td>\n",
       "      <td>[mp_bin]</td>\n",
       "      <td>150</td>\n",
       "      <td>[0, 1, 1, 1, 1, 1, 0, 0, 1, 0, 0, 1, 1, 1, 1, ...</td>\n",
       "      <td>[0, 1, 1, 1, 1, 1, 0, 0, 1, 0, 0, 0, 1, 1, 1, ...</td>\n",
       "      <td>{'bootstrap': False, 'ccp_alpha': 0.0, 'class_...</td>\n",
       "      <td>0.88</td>\n",
       "      <td>0.88</td>\n",
       "      <td>0.880000</td>\n",
       "      <td>0.760383</td>\n",
       "      <td>3</td>\n",
       "    </tr>\n",
       "    <tr>\n",
       "      <th>20</th>\n",
       "      <td>XGBClassifier</td>\n",
       "      <td>[mp_bin]</td>\n",
       "      <td>25</td>\n",
       "      <td>[1, 1, 1, 0, 0, 1, 0, 0, 0, 0, 0, 0, 0, 1, 1, ...</td>\n",
       "      <td>[1, 1, 1, 0, 1, 1, 1, 1, 0, 0, 1, 0, 1, 1, 1, ...</td>\n",
       "      <td>{'objective': 'binary:logistic', 'base_score':...</td>\n",
       "      <td>0.66</td>\n",
       "      <td>0.66</td>\n",
       "      <td>0.648615</td>\n",
       "      <td>0.320000</td>\n",
       "      <td>3</td>\n",
       "    </tr>\n",
       "    <tr>\n",
       "      <th>21</th>\n",
       "      <td>XGBClassifier</td>\n",
       "      <td>[mp_bin]</td>\n",
       "      <td>50</td>\n",
       "      <td>[0, 1, 0, 0, 1, 0, 0, 0, 1, 1, 0, 0, 0, 0, 1, ...</td>\n",
       "      <td>[1, 1, 0, 0, 1, 0, 0, 1, 1, 1, 0, 0, 0, 0, 1, ...</td>\n",
       "      <td>{'objective': 'binary:logistic', 'base_score':...</td>\n",
       "      <td>0.80</td>\n",
       "      <td>0.80</td>\n",
       "      <td>0.800000</td>\n",
       "      <td>0.605678</td>\n",
       "      <td>3</td>\n",
       "    </tr>\n",
       "    <tr>\n",
       "      <th>22</th>\n",
       "      <td>XGBClassifier</td>\n",
       "      <td>[mp_bin]</td>\n",
       "      <td>100</td>\n",
       "      <td>[1, 0, 0, 1, 1, 0, 1, 0, 0, 0, 0, 0, 1, 1, 1, ...</td>\n",
       "      <td>[1, 0, 0, 1, 1, 0, 1, 1, 0, 0, 0, 1, 1, 1, 1, ...</td>\n",
       "      <td>{'objective': 'binary:logistic', 'base_score':...</td>\n",
       "      <td>0.80</td>\n",
       "      <td>0.80</td>\n",
       "      <td>0.798712</td>\n",
       "      <td>0.607535</td>\n",
       "      <td>3</td>\n",
       "    </tr>\n",
       "    <tr>\n",
       "      <th>23</th>\n",
       "      <td>XGBClassifier</td>\n",
       "      <td>[mp_bin]</td>\n",
       "      <td>150</td>\n",
       "      <td>[0, 1, 1, 1, 1, 1, 0, 0, 1, 0, 0, 1, 1, 1, 1, ...</td>\n",
       "      <td>[0, 1, 1, 1, 1, 1, 0, 0, 1, 0, 0, 0, 1, 1, 1, ...</td>\n",
       "      <td>{'objective': 'binary:logistic', 'base_score':...</td>\n",
       "      <td>0.88</td>\n",
       "      <td>0.88</td>\n",
       "      <td>0.879808</td>\n",
       "      <td>0.761146</td>\n",
       "      <td>3</td>\n",
       "    </tr>\n",
       "  </tbody>\n",
       "</table>\n",
       "</div>"
      ],
      "text/plain": [
       "                 modeltype    target  train_size  \\\n",
       "0   RandomForestClassifier  [mp_bin]          25   \n",
       "1   RandomForestClassifier  [mp_bin]          50   \n",
       "2   RandomForestClassifier  [mp_bin]         100   \n",
       "3   RandomForestClassifier  [mp_bin]         150   \n",
       "4            XGBClassifier  [mp_bin]          25   \n",
       "5            XGBClassifier  [mp_bin]          50   \n",
       "6            XGBClassifier  [mp_bin]         100   \n",
       "7            XGBClassifier  [mp_bin]         150   \n",
       "8   RandomForestClassifier  [mp_bin]          25   \n",
       "9   RandomForestClassifier  [mp_bin]          50   \n",
       "10  RandomForestClassifier  [mp_bin]         100   \n",
       "11  RandomForestClassifier  [mp_bin]         150   \n",
       "12           XGBClassifier  [mp_bin]          25   \n",
       "13           XGBClassifier  [mp_bin]          50   \n",
       "14           XGBClassifier  [mp_bin]         100   \n",
       "15           XGBClassifier  [mp_bin]         150   \n",
       "16  RandomForestClassifier  [mp_bin]          25   \n",
       "17  RandomForestClassifier  [mp_bin]          50   \n",
       "18  RandomForestClassifier  [mp_bin]         100   \n",
       "19  RandomForestClassifier  [mp_bin]         150   \n",
       "20           XGBClassifier  [mp_bin]          25   \n",
       "21           XGBClassifier  [mp_bin]          50   \n",
       "22           XGBClassifier  [mp_bin]         100   \n",
       "23           XGBClassifier  [mp_bin]         150   \n",
       "\n",
       "                                                trues  \\\n",
       "0   [1, 0, 1, 1, 0, 0, 1, 0, 1, 1, 1, 1, 1, 1, 1, ...   \n",
       "1   [0, 0, 1, 1, 0, 0, 1, 1, 0, 1, 1, 1, 1, 0, 0, ...   \n",
       "2   [1, 0, 0, 1, 0, 0, 1, 1, 0, 1, 1, 0, 1, 0, 0, ...   \n",
       "3   [1, 0, 1, 1, 1, 0, 1, 1, 0, 0, 0, 1, 1, 1, 1, ...   \n",
       "4   [1, 0, 1, 1, 0, 0, 1, 0, 1, 1, 1, 1, 1, 1, 1, ...   \n",
       "5   [0, 0, 1, 1, 0, 0, 1, 1, 0, 1, 1, 1, 1, 0, 0, ...   \n",
       "6   [1, 0, 0, 1, 0, 0, 1, 1, 0, 1, 1, 0, 1, 0, 0, ...   \n",
       "7   [1, 0, 1, 1, 1, 0, 1, 1, 0, 0, 0, 1, 1, 1, 1, ...   \n",
       "8   [1, 1, 1, 1, 0, 0, 1, 0, 0, 0, 1, 0, 0, 1, 1, ...   \n",
       "9   [0, 1, 1, 0, 0, 0, 0, 0, 0, 1, 1, 1, 0, 0, 0, ...   \n",
       "10  [0, 0, 1, 1, 1, 1, 0, 0, 0, 1, 1, 0, 0, 0, 0, ...   \n",
       "11  [0, 1, 0, 0, 0, 0, 0, 0, 1, 1, 1, 0, 1, 1, 1, ...   \n",
       "12  [1, 1, 1, 1, 0, 0, 1, 0, 0, 0, 1, 0, 0, 1, 1, ...   \n",
       "13  [0, 1, 1, 0, 0, 0, 0, 0, 0, 1, 1, 1, 0, 0, 0, ...   \n",
       "14  [0, 0, 1, 1, 1, 1, 0, 0, 0, 1, 1, 0, 0, 0, 0, ...   \n",
       "15  [0, 1, 0, 0, 0, 0, 0, 0, 1, 1, 1, 0, 1, 1, 1, ...   \n",
       "16  [1, 1, 1, 0, 0, 1, 0, 0, 0, 0, 0, 0, 0, 1, 1, ...   \n",
       "17  [0, 1, 0, 0, 1, 0, 0, 0, 1, 1, 0, 0, 0, 0, 1, ...   \n",
       "18  [1, 0, 0, 1, 1, 0, 1, 0, 0, 0, 0, 0, 1, 1, 1, ...   \n",
       "19  [0, 1, 1, 1, 1, 1, 0, 0, 1, 0, 0, 1, 1, 1, 1, ...   \n",
       "20  [1, 1, 1, 0, 0, 1, 0, 0, 0, 0, 0, 0, 0, 1, 1, ...   \n",
       "21  [0, 1, 0, 0, 1, 0, 0, 0, 1, 1, 0, 0, 0, 0, 1, ...   \n",
       "22  [1, 0, 0, 1, 1, 0, 1, 0, 0, 0, 0, 0, 1, 1, 1, ...   \n",
       "23  [0, 1, 1, 1, 1, 1, 0, 0, 1, 0, 0, 1, 1, 1, 1, ...   \n",
       "\n",
       "                                                preds  \\\n",
       "0   [1, 0, 1, 1, 0, 0, 0, 1, 0, 1, 1, 1, 1, 1, 1, ...   \n",
       "1   [0, 0, 1, 1, 0, 0, 0, 1, 1, 1, 1, 0, 1, 0, 0, ...   \n",
       "2   [1, 0, 0, 0, 1, 0, 1, 1, 0, 0, 1, 0, 0, 0, 0, ...   \n",
       "3   [1, 0, 0, 0, 0, 0, 1, 1, 0, 0, 0, 1, 1, 1, 0, ...   \n",
       "4   [1, 0, 1, 1, 1, 0, 0, 1, 0, 1, 1, 1, 1, 1, 1, ...   \n",
       "5   [0, 0, 1, 1, 0, 0, 0, 1, 1, 1, 1, 0, 1, 0, 0, ...   \n",
       "6   [1, 0, 0, 0, 1, 0, 1, 1, 0, 1, 1, 0, 0, 0, 0, ...   \n",
       "7   [1, 0, 0, 0, 0, 0, 1, 1, 0, 0, 0, 1, 1, 1, 0, ...   \n",
       "8   [1, 1, 1, 1, 0, 0, 1, 0, 0, 0, 1, 1, 0, 1, 0, ...   \n",
       "9   [0, 1, 1, 0, 0, 0, 1, 0, 0, 0, 1, 1, 0, 0, 0, ...   \n",
       "10  [0, 0, 0, 0, 1, 1, 0, 0, 0, 0, 0, 0, 0, 0, 0, ...   \n",
       "11  [0, 0, 0, 0, 1, 0, 0, 0, 1, 1, 1, 0, 0, 1, 1, ...   \n",
       "12  [1, 1, 1, 1, 0, 0, 1, 0, 0, 0, 1, 1, 0, 1, 0, ...   \n",
       "13  [0, 1, 1, 1, 0, 0, 1, 0, 0, 0, 1, 1, 0, 0, 0, ...   \n",
       "14  [0, 0, 0, 0, 1, 1, 0, 0, 0, 0, 0, 0, 0, 0, 0, ...   \n",
       "15  [0, 1, 0, 0, 0, 0, 0, 0, 1, 1, 1, 0, 0, 1, 1, ...   \n",
       "16  [1, 1, 1, 0, 1, 1, 1, 1, 0, 0, 1, 0, 1, 1, 1, ...   \n",
       "17  [1, 1, 0, 0, 1, 0, 0, 1, 1, 1, 0, 0, 0, 0, 1, ...   \n",
       "18  [1, 0, 1, 0, 1, 0, 1, 1, 0, 0, 0, 0, 0, 1, 1, ...   \n",
       "19  [0, 1, 1, 1, 1, 1, 0, 0, 1, 0, 0, 0, 1, 1, 1, ...   \n",
       "20  [1, 1, 1, 0, 1, 1, 1, 1, 0, 0, 1, 0, 1, 1, 1, ...   \n",
       "21  [1, 1, 0, 0, 1, 0, 0, 1, 1, 1, 0, 0, 0, 0, 1, ...   \n",
       "22  [1, 0, 0, 1, 1, 0, 1, 1, 0, 0, 0, 1, 1, 1, 1, ...   \n",
       "23  [0, 1, 1, 1, 1, 1, 0, 0, 1, 0, 0, 0, 1, 1, 1, ...   \n",
       "\n",
       "                                         model_params  accuracy  f1_micro  \\\n",
       "0   {'bootstrap': True, 'ccp_alpha': 0.0, 'class_w...      0.82      0.82   \n",
       "1   {'bootstrap': False, 'ccp_alpha': 0.0, 'class_...      0.80      0.80   \n",
       "2   {'bootstrap': False, 'ccp_alpha': 0.0, 'class_...      0.86      0.86   \n",
       "3   {'bootstrap': False, 'ccp_alpha': 0.0, 'class_...      0.88      0.88   \n",
       "4   {'objective': 'binary:logistic', 'base_score':...      0.84      0.84   \n",
       "5   {'objective': 'binary:logistic', 'base_score':...      0.84      0.84   \n",
       "6   {'objective': 'binary:logistic', 'base_score':...      0.88      0.88   \n",
       "7   {'objective': 'binary:logistic', 'base_score':...      0.84      0.84   \n",
       "8   {'bootstrap': False, 'ccp_alpha': 0.0, 'class_...      0.84      0.84   \n",
       "9   {'bootstrap': True, 'ccp_alpha': 0.0, 'class_w...      0.78      0.78   \n",
       "10  {'bootstrap': False, 'ccp_alpha': 0.0, 'class_...      0.84      0.84   \n",
       "11  {'bootstrap': False, 'ccp_alpha': 0.0, 'class_...      0.84      0.84   \n",
       "12  {'objective': 'binary:logistic', 'base_score':...      0.84      0.84   \n",
       "13  {'objective': 'binary:logistic', 'base_score':...      0.80      0.80   \n",
       "14  {'objective': 'binary:logistic', 'base_score':...      0.84      0.84   \n",
       "15  {'objective': 'binary:logistic', 'base_score':...      0.90      0.90   \n",
       "16  {'bootstrap': False, 'ccp_alpha': 0.0, 'class_...      0.68      0.68   \n",
       "17  {'bootstrap': False, 'ccp_alpha': 0.0, 'class_...      0.80      0.80   \n",
       "18  {'bootstrap': True, 'ccp_alpha': 0.0, 'class_w...      0.84      0.84   \n",
       "19  {'bootstrap': False, 'ccp_alpha': 0.0, 'class_...      0.88      0.88   \n",
       "20  {'objective': 'binary:logistic', 'base_score':...      0.66      0.66   \n",
       "21  {'objective': 'binary:logistic', 'base_score':...      0.80      0.80   \n",
       "22  {'objective': 'binary:logistic', 'base_score':...      0.80      0.80   \n",
       "23  {'objective': 'binary:logistic', 'base_score':...      0.88      0.88   \n",
       "\n",
       "    f1_macro     kappa  seed  \n",
       "0   0.810845  0.621849     1  \n",
       "1   0.797078  0.594156     1  \n",
       "2   0.859944  0.720000     1  \n",
       "3   0.880000  0.763407     1  \n",
       "4   0.826389  0.653380     1  \n",
       "5   0.837662  0.675325     1  \n",
       "6   0.879808  0.760000     1  \n",
       "7   0.839744  0.681529     1  \n",
       "8   0.840000  0.680511     2  \n",
       "9   0.777778  0.555735     2  \n",
       "10  0.821747  0.649123     2  \n",
       "11  0.830221  0.660441     2  \n",
       "12  0.839744  0.679487     2  \n",
       "13  0.799679  0.600000     2  \n",
       "14  0.821747  0.649123     2  \n",
       "15  0.896652  0.794069     2  \n",
       "16  0.666667  0.360000     3  \n",
       "17  0.800000  0.605678     3  \n",
       "18  0.838969  0.677939     3  \n",
       "19  0.880000  0.760383     3  \n",
       "20  0.648615  0.320000     3  \n",
       "21  0.800000  0.605678     3  \n",
       "22  0.798712  0.607535     3  \n",
       "23  0.879808  0.761146     3  "
      ]
     },
     "metadata": {},
     "output_type": "display_data"
    }
   ],
   "source": [
    "df = pd.DataFrame(result)\n",
    "display(df)\n",
    "df.to_csv('fats_turino_traditional_ml.csv')"
   ]
  },
  {
   "cell_type": "code",
   "execution_count": 7,
   "metadata": {},
   "outputs": [
    {
     "data": {
      "text/plain": [
       "Text(0.5, 0.98, 'Random Forrest & XGB - MeltingPoint_molecules')"
      ]
     },
     "execution_count": 7,
     "metadata": {},
     "output_type": "execute_result"
    },
    {
     "data": {
      "image/png": "[encoded data removed]",
      "text/plain": [
       "<Figure size 640x480 with 4 Axes>"
      ]
     },
     "metadata": {},
     "output_type": "display_data"
    }
   ],
   "source": [
    "import matplotlib.pyplot as plt\n",
    "\n",
    "METRICS = ['accuracy','f1_micro','f1_macro', 'kappa']\n",
    "fig, ax = plt.subplots(len(METRICS), 1, sharex=True, layout = 'constrained')\n",
    "ax = ax.flatten()\n",
    "\n",
    "for i, metric in enumerate(METRICS):\n",
    "    ax[i].plot(df['train_size'], df[metric], marker = 'o')\n",
    "    ax[i].set_title(metric)\n",
    "    ax[i].set_ylim(0,1)\n",
    "\n",
    "fig.suptitle('Random Forrest & XGB - fats_turino')"
   ]
  }
 ],
 "metadata": {
  "kernelspec": {
   "display_name": "JorenML",
   "language": "python",
   "name": "python3"
  },
  "language_info": {
   "codemirror_mode": {
    "name": "ipython",
    "version": 3
   },
   "file_extension": ".py",
   "mimetype": "text/x-python",
   "name": "python",
   "nbconvert_exporter": "python",
   "pygments_lexer": "ipython3",
   "version": "3.10.14"
  }
 },
 "nbformat": 4,
 "nbformat_minor": 2
}
