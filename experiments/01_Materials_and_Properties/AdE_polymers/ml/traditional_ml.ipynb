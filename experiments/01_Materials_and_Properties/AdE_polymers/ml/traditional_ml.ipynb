{
 "cells": [
  {
   "cell_type": "markdown",
   "metadata": {},
   "source": [
    "## Traditional machine learning\n",
    "Feature(s): 'SMILES' column\n",
    "\n",
    "- Copolymer sequence of A and B monomer\n",
    "- Binary encoding\n",
    "\n",
    "Target: y_bin\n",
    "\n",
    "- Binary class"
   ]
  },
  {
   "cell_type": "code",
   "execution_count": 1,
   "metadata": {},
   "outputs": [],
   "source": [
    "import sys\n",
    "import os\n",
    "\n",
    "# Append the parent directory of your package to sys.path\n",
    "sys.path.append(os.path.abspath(os.path.join(os.getcwd(), '..', '..', '..', '..')))"
   ]
  },
  {
   "cell_type": "code",
   "execution_count": 2,
   "metadata": {},
   "outputs": [
    {
     "name": "stdout",
     "output_type": "stream",
     "text": [
      "Count of unique smiles: 16000\n",
      "Count of all of the smiles: 16000\n"
     ]
    }
   ],
   "source": [
    "import pandas as pd\n",
    "import numpy as np\n",
    "import zipfile\n",
    "\n",
    "path_to_dataset = 'train_polymers.csv'\n",
    "csv_filename = 'train_polymers.csv'\n",
    "\n",
    "# Open the file, Correct the encoding and sep if necessary\n",
    "if path_to_dataset.endswith('.zip'):\n",
    "    with zipfile.ZipFile(path_to_dataset, 'r') as z:\n",
    "        # Open the CSV file within the ZIP file\n",
    "        with z.open(csv_filename) as f:\n",
    "            # Read the CSV file into a DataFrame\n",
    "            df = pd.read_csv(f, sep=',', on_bad_lines='warn')\n",
    "else:\n",
    "    # Read the CSV file into a DataFrame\n",
    "    df = pd.read_csv(path_to_dataset, sep=',', on_bad_lines='warn')\n",
    "\n",
    "\n",
    "print('Count of unique smiles:', df.SMILES.unique().shape[0])\n",
    "print('Count of all of the smiles:', df.shape[0])\n"
   ]
  },
  {
   "cell_type": "code",
   "execution_count": 3,
   "metadata": {},
   "outputs": [],
   "source": [
    "# Define mapping\n",
    "mapping = {'A': 0, 'B': 1}\n",
    "\n",
    "# Apply mapping and convert sequences to arrays\n",
    "def encode_sequence(sequence):\n",
    "    return np.array([mapping[char] for char in sequence.split()])\n",
    "\n",
    "df['Encoded'] = df['SMILES'].apply(encode_sequence)"
   ]
  },
  {
   "cell_type": "code",
   "execution_count": 4,
   "metadata": {},
   "outputs": [
    {
     "name": "stderr",
     "output_type": "stream",
     "text": [
      "/home/lsmo/.local/lib/python3.10/site-packages/tqdm/auto.py:21: TqdmWarning: IProgress not found. Please update jupyter and ipywidgets. See https://ipywidgets.readthedocs.io/en/stable/user_install.html\n",
      "  from .autonotebook import tqdm as notebook_tqdm\n"
     ]
    }
   ],
   "source": [
    "from MLPipeline import MLmodel, BinTheTarget\n",
    "\n",
    "Target = 'y_bin'\n",
    "Features = ['Encoded']\n",
    "Feature_types = ['numerical']\n",
    "input = df[:7000]"
   ]
  },
  {
   "cell_type": "code",
   "execution_count": 5,
   "metadata": {},
   "outputs": [
    {
     "name": "stdout",
     "output_type": "stream",
     "text": [
      "RandomForestClassifier model trained successfully.\n",
      "Accuracy for RandomForestClassifier: 0.88\n"
     ]
    },
    {
     "data": {
      "text/plain": [
       "0.88"
      ]
     },
     "execution_count": 5,
     "metadata": {},
     "output_type": "execute_result"
    }
   ],
   "source": [
    "model = MLmodel(modelType='RandomForestClassifier',\n",
    "                    df=input,\n",
    "                    target=Target,\n",
    "                    features=Features,\n",
    "                    feature_types=Feature_types)\n",
    "\n",
    "# get the values (input and output) of the model\n",
    "X_train, X_test, y_train, y_test = model.getValues()\n",
    "\n",
    "model.train()\n",
    "model.evaluate()"
   ]
  },
  {
   "cell_type": "code",
   "execution_count": 6,
   "metadata": {},
   "outputs": [],
   "source": [
    "from sklearn.model_selection import cross_val_score\n",
    "from sklearn.base import clone\n",
    "\n",
    "def objective(trial, model_instance):\n",
    "    \"\"\"\n",
    "    Objective function for Optuna to minimize.\n",
    "    \"\"\"\n",
    "    # Define hyperparameters to tune\n",
    "    params = {\n",
    "        'n_estimators': trial.suggest_int('n_estimators', 50, 300),\n",
    "        'max_depth': trial.suggest_categorical('max_depth', [None, 10, 20, 30, 40]),\n",
    "        'min_samples_split': trial.suggest_int('min_samples_split', 2, 15),\n",
    "        'min_samples_leaf': trial.suggest_int('min_samples_leaf', 1, 6),\n",
    "        'max_features': trial.suggest_categorical('max_features', ['sqrt', 'log2']),\n",
    "        'bootstrap': trial.suggest_categorical('bootstrap', [True, False])\n",
    "    }\n",
    "\n",
    "    # Clone the model to ensure a fresh instance each trial\n",
    "    model_clone = clone(model_instance.model)\n",
    "    model_clone.set_params(**params)\n",
    "    \n",
    "    # Define the score metric\n",
    "    scoring = 'accuracy'\n",
    "\n",
    "    # Perform cross-validation\n",
    "    scores = cross_val_score(model_clone, model_instance.X_train, model_instance.y_train, cv=model_instance.cv, scoring=scoring)\n",
    "\n",
    "    # Return the average score across all folds\n",
    "    return scores.mean()"
   ]
  },
  {
   "cell_type": "code",
   "execution_count": 7,
   "metadata": {},
   "outputs": [
    {
     "name": "stderr",
     "output_type": "stream",
     "text": [
      "[I 2024-09-11 19:04:37,082] A new study created in memory with name: no-name-cb6cf7f8-a0a5-4dda-9994-f7b75ae31224\n",
      "[I 2024-09-11 19:04:37,613] Trial 0 finished with value: 0.76 and parameters: {'n_estimators': 131, 'max_depth': 40, 'min_samples_split': 4, 'min_samples_leaf': 6, 'max_features': 'log2', 'bootstrap': False}. Best is trial 0 with value: 0.76.\n",
      "[I 2024-09-11 19:04:38,196] Trial 1 finished with value: 0.74 and parameters: {'n_estimators': 145, 'max_depth': 20, 'min_samples_split': 14, 'min_samples_leaf': 2, 'max_features': 'sqrt', 'bootstrap': False}. Best is trial 0 with value: 0.76.\n",
      "[I 2024-09-11 19:04:39,225] Trial 2 finished with value: 0.74 and parameters: {'n_estimators': 266, 'max_depth': 40, 'min_samples_split': 13, 'min_samples_leaf': 3, 'max_features': 'sqrt', 'bootstrap': False}. Best is trial 0 with value: 0.76.\n",
      "[I 2024-09-11 19:04:40,416] Trial 3 finished with value: 0.76 and parameters: {'n_estimators': 203, 'max_depth': 10, 'min_samples_split': 11, 'min_samples_leaf': 1, 'max_features': 'log2', 'bootstrap': True}. Best is trial 0 with value: 0.76.\n",
      "[I 2024-09-11 19:04:41,211] Trial 4 finished with value: 0.7799999999999999 and parameters: {'n_estimators': 199, 'max_depth': None, 'min_samples_split': 7, 'min_samples_leaf': 1, 'max_features': 'sqrt', 'bootstrap': False}. Best is trial 4 with value: 0.7799999999999999.\n",
      "[I 2024-09-11 19:04:41,990] Trial 5 finished with value: 0.76 and parameters: {'n_estimators': 209, 'max_depth': 10, 'min_samples_split': 4, 'min_samples_leaf': 2, 'max_features': 'log2', 'bootstrap': False}. Best is trial 4 with value: 0.7799999999999999.\n",
      "[I 2024-09-11 19:04:42,581] Trial 6 finished with value: 0.76 and parameters: {'n_estimators': 156, 'max_depth': None, 'min_samples_split': 9, 'min_samples_leaf': 1, 'max_features': 'sqrt', 'bootstrap': False}. Best is trial 4 with value: 0.7799999999999999.\n",
      "[I 2024-09-11 19:04:43,719] Trial 7 finished with value: 0.74 and parameters: {'n_estimators': 221, 'max_depth': 10, 'min_samples_split': 14, 'min_samples_leaf': 4, 'max_features': 'log2', 'bootstrap': True}. Best is trial 4 with value: 0.7799999999999999.\n",
      "[I 2024-09-11 19:04:44,020] Trial 8 finished with value: 0.74 and parameters: {'n_estimators': 78, 'max_depth': 20, 'min_samples_split': 12, 'min_samples_leaf': 2, 'max_features': 'sqrt', 'bootstrap': False}. Best is trial 4 with value: 0.7799999999999999.\n",
      "[I 2024-09-11 19:04:44,688] Trial 9 finished with value: 0.78 and parameters: {'n_estimators': 170, 'max_depth': 20, 'min_samples_split': 2, 'min_samples_leaf': 1, 'max_features': 'log2', 'bootstrap': False}. Best is trial 9 with value: 0.78.\n",
      "[I 2024-09-11 19:04:46,281] Trial 10 finished with value: 0.76 and parameters: {'n_estimators': 296, 'max_depth': 30, 'min_samples_split': 2, 'min_samples_leaf': 5, 'max_features': 'log2', 'bootstrap': True}. Best is trial 9 with value: 0.78.\n",
      "[I 2024-09-11 19:04:46,686] Trial 11 finished with value: 0.74 and parameters: {'n_estimators': 98, 'max_depth': None, 'min_samples_split': 7, 'min_samples_leaf': 1, 'max_features': 'sqrt', 'bootstrap': False}. Best is trial 9 with value: 0.78.\n",
      "[I 2024-09-11 19:04:47,378] Trial 12 finished with value: 0.7200000000000001 and parameters: {'n_estimators': 176, 'max_depth': 20, 'min_samples_split': 7, 'min_samples_leaf': 3, 'max_features': 'sqrt', 'bootstrap': False}. Best is trial 9 with value: 0.78.\n",
      "[I 2024-09-11 19:04:48,333] Trial 13 finished with value: 0.74 and parameters: {'n_estimators': 243, 'max_depth': None, 'min_samples_split': 2, 'min_samples_leaf': 1, 'max_features': 'log2', 'bootstrap': False}. Best is trial 9 with value: 0.78.\n",
      "[I 2024-09-11 19:04:48,952] Trial 14 finished with value: 0.7999999999999999 and parameters: {'n_estimators': 115, 'max_depth': 30, 'min_samples_split': 5, 'min_samples_leaf': 4, 'max_features': 'log2', 'bootstrap': True}. Best is trial 14 with value: 0.7999999999999999.\n",
      "[I 2024-09-11 19:04:49,251] Trial 15 finished with value: 0.78 and parameters: {'n_estimators': 51, 'max_depth': 30, 'min_samples_split': 4, 'min_samples_leaf': 4, 'max_features': 'log2', 'bootstrap': True}. Best is trial 14 with value: 0.7999999999999999.\n",
      "[I 2024-09-11 19:04:49,900] Trial 16 finished with value: 0.8400000000000001 and parameters: {'n_estimators': 113, 'max_depth': 30, 'min_samples_split': 5, 'min_samples_leaf': 5, 'max_features': 'log2', 'bootstrap': True}. Best is trial 16 with value: 0.8400000000000001.\n",
      "[I 2024-09-11 19:04:50,518] Trial 17 finished with value: 0.78 and parameters: {'n_estimators': 112, 'max_depth': 30, 'min_samples_split': 5, 'min_samples_leaf': 6, 'max_features': 'log2', 'bootstrap': True}. Best is trial 16 with value: 0.8400000000000001.\n",
      "[I 2024-09-11 19:04:50,933] Trial 18 finished with value: 0.76 and parameters: {'n_estimators': 69, 'max_depth': 30, 'min_samples_split': 9, 'min_samples_leaf': 5, 'max_features': 'log2', 'bootstrap': True}. Best is trial 16 with value: 0.8400000000000001.\n",
      "[I 2024-09-11 19:04:51,614] Trial 19 finished with value: 0.7999999999999999 and parameters: {'n_estimators': 122, 'max_depth': 30, 'min_samples_split': 6, 'min_samples_leaf': 5, 'max_features': 'log2', 'bootstrap': True}. Best is trial 16 with value: 0.8400000000000001.\n",
      "[I 2024-09-11 19:04:52,136] Trial 20 finished with value: 0.7999999999999999 and parameters: {'n_estimators': 93, 'max_depth': 30, 'min_samples_split': 10, 'min_samples_leaf': 4, 'max_features': 'log2', 'bootstrap': True}. Best is trial 16 with value: 0.8400000000000001.\n",
      "[I 2024-09-11 19:04:52,812] Trial 21 finished with value: 0.76 and parameters: {'n_estimators': 123, 'max_depth': 30, 'min_samples_split': 6, 'min_samples_leaf': 5, 'max_features': 'log2', 'bootstrap': True}. Best is trial 16 with value: 0.8400000000000001.\n",
      "[I 2024-09-11 19:04:53,382] Trial 22 finished with value: 0.7999999999999999 and parameters: {'n_estimators': 106, 'max_depth': 30, 'min_samples_split': 5, 'min_samples_leaf': 5, 'max_features': 'log2', 'bootstrap': True}. Best is trial 16 with value: 0.8400000000000001.\n",
      "[I 2024-09-11 19:04:54,144] Trial 23 finished with value: 0.78 and parameters: {'n_estimators': 142, 'max_depth': 30, 'min_samples_split': 6, 'min_samples_leaf': 6, 'max_features': 'log2', 'bootstrap': True}. Best is trial 16 with value: 0.8400000000000001.\n",
      "[I 2024-09-11 19:04:54,580] Trial 24 finished with value: 0.7799999999999999 and parameters: {'n_estimators': 78, 'max_depth': 30, 'min_samples_split': 8, 'min_samples_leaf': 4, 'max_features': 'log2', 'bootstrap': True}. Best is trial 16 with value: 0.8400000000000001.\n",
      "[I 2024-09-11 19:04:55,260] Trial 25 finished with value: 0.74 and parameters: {'n_estimators': 123, 'max_depth': 30, 'min_samples_split': 3, 'min_samples_leaf': 5, 'max_features': 'log2', 'bootstrap': True}. Best is trial 16 with value: 0.8400000000000001.\n",
      "[I 2024-09-11 19:04:55,567] Trial 26 finished with value: 0.8 and parameters: {'n_estimators': 51, 'max_depth': 30, 'min_samples_split': 6, 'min_samples_leaf': 3, 'max_features': 'log2', 'bootstrap': True}. Best is trial 16 with value: 0.8400000000000001.\n",
      "[I 2024-09-11 19:04:55,976] Trial 27 finished with value: 0.8400000000000001 and parameters: {'n_estimators': 71, 'max_depth': 40, 'min_samples_split': 5, 'min_samples_leaf': 3, 'max_features': 'log2', 'bootstrap': True}. Best is trial 16 with value: 0.8400000000000001.\n",
      "[I 2024-09-11 19:04:56,280] Trial 28 finished with value: 0.78 and parameters: {'n_estimators': 50, 'max_depth': 40, 'min_samples_split': 8, 'min_samples_leaf': 3, 'max_features': 'log2', 'bootstrap': True}. Best is trial 16 with value: 0.8400000000000001.\n",
      "[I 2024-09-11 19:04:56,664] Trial 29 finished with value: 0.78 and parameters: {'n_estimators': 67, 'max_depth': 40, 'min_samples_split': 4, 'min_samples_leaf': 3, 'max_features': 'log2', 'bootstrap': True}. Best is trial 16 with value: 0.8400000000000001.\n",
      "[I 2024-09-11 19:04:57,151] Trial 30 finished with value: 0.76 and parameters: {'n_estimators': 88, 'max_depth': 40, 'min_samples_split': 3, 'min_samples_leaf': 2, 'max_features': 'log2', 'bootstrap': True}. Best is trial 16 with value: 0.8400000000000001.\n",
      "[I 2024-09-11 19:04:57,501] Trial 31 finished with value: 0.8200000000000001 and parameters: {'n_estimators': 61, 'max_depth': 40, 'min_samples_split': 5, 'min_samples_leaf': 4, 'max_features': 'log2', 'bootstrap': True}. Best is trial 16 with value: 0.8400000000000001.\n",
      "[I 2024-09-11 19:04:57,865] Trial 32 finished with value: 0.7999999999999999 and parameters: {'n_estimators': 62, 'max_depth': 40, 'min_samples_split': 5, 'min_samples_leaf': 3, 'max_features': 'log2', 'bootstrap': True}. Best is trial 16 with value: 0.8400000000000001.\n",
      "[I 2024-09-11 19:04:58,323] Trial 33 finished with value: 0.78 and parameters: {'n_estimators': 78, 'max_depth': 40, 'min_samples_split': 3, 'min_samples_leaf': 4, 'max_features': 'log2', 'bootstrap': True}. Best is trial 16 with value: 0.8400000000000001.\n",
      "[I 2024-09-11 19:04:58,640] Trial 34 finished with value: 0.76 and parameters: {'n_estimators': 50, 'max_depth': 40, 'min_samples_split': 6, 'min_samples_leaf': 2, 'max_features': 'log2', 'bootstrap': True}. Best is trial 16 with value: 0.8400000000000001.\n",
      "[I 2024-09-11 19:04:59,170] Trial 35 finished with value: 0.7999999999999999 and parameters: {'n_estimators': 92, 'max_depth': 40, 'min_samples_split': 7, 'min_samples_leaf': 3, 'max_features': 'log2', 'bootstrap': True}. Best is trial 16 with value: 0.8400000000000001.\n",
      "[I 2024-09-11 19:04:59,534] Trial 36 finished with value: 0.8200000000000001 and parameters: {'n_estimators': 64, 'max_depth': 40, 'min_samples_split': 5, 'min_samples_leaf': 3, 'max_features': 'sqrt', 'bootstrap': True}. Best is trial 16 with value: 0.8400000000000001.\n",
      "[I 2024-09-11 19:05:00,296] Trial 37 finished with value: 0.7799999999999999 and parameters: {'n_estimators': 139, 'max_depth': 40, 'min_samples_split': 4, 'min_samples_leaf': 4, 'max_features': 'sqrt', 'bootstrap': True}. Best is trial 16 with value: 0.8400000000000001.\n",
      "[I 2024-09-11 19:05:00,869] Trial 38 finished with value: 0.72 and parameters: {'n_estimators': 103, 'max_depth': 40, 'min_samples_split': 3, 'min_samples_leaf': 6, 'max_features': 'sqrt', 'bootstrap': True}. Best is trial 16 with value: 0.8400000000000001.\n",
      "[I 2024-09-11 19:05:01,319] Trial 39 finished with value: 0.76 and parameters: {'n_estimators': 81, 'max_depth': 10, 'min_samples_split': 4, 'min_samples_leaf': 2, 'max_features': 'sqrt', 'bootstrap': True}. Best is trial 16 with value: 0.8400000000000001.\n",
      "[I 2024-09-11 19:05:01,696] Trial 40 finished with value: 0.7 and parameters: {'n_estimators': 67, 'max_depth': 40, 'min_samples_split': 15, 'min_samples_leaf': 3, 'max_features': 'sqrt', 'bootstrap': True}. Best is trial 16 with value: 0.8400000000000001.\n",
      "[I 2024-09-11 19:05:02,052] Trial 41 finished with value: 0.7799999999999999 and parameters: {'n_estimators': 61, 'max_depth': 40, 'min_samples_split': 5, 'min_samples_leaf': 3, 'max_features': 'sqrt', 'bootstrap': True}. Best is trial 16 with value: 0.8400000000000001.\n",
      "[I 2024-09-11 19:05:02,402] Trial 42 finished with value: 0.78 and parameters: {'n_estimators': 60, 'max_depth': 10, 'min_samples_split': 6, 'min_samples_leaf': 3, 'max_features': 'sqrt', 'bootstrap': True}. Best is trial 16 with value: 0.8400000000000001.\n",
      "[I 2024-09-11 19:05:02,958] Trial 43 finished with value: 0.8200000000000001 and parameters: {'n_estimators': 85, 'max_depth': 40, 'min_samples_split': 7, 'min_samples_leaf': 4, 'max_features': 'log2', 'bootstrap': True}. Best is trial 16 with value: 0.8400000000000001.\n",
      "[I 2024-09-11 19:05:03,832] Trial 44 finished with value: 0.8400000000000001 and parameters: {'n_estimators': 157, 'max_depth': 40, 'min_samples_split': 8, 'min_samples_leaf': 4, 'max_features': 'sqrt', 'bootstrap': True}. Best is trial 16 with value: 0.8400000000000001.\n",
      "[I 2024-09-11 19:05:04,493] Trial 45 finished with value: 0.7799999999999999 and parameters: {'n_estimators': 162, 'max_depth': 40, 'min_samples_split': 12, 'min_samples_leaf': 4, 'max_features': 'sqrt', 'bootstrap': False}. Best is trial 16 with value: 0.8400000000000001.\n",
      "[I 2024-09-11 19:05:05,523] Trial 46 finished with value: 0.7799999999999999 and parameters: {'n_estimators': 180, 'max_depth': 20, 'min_samples_split': 9, 'min_samples_leaf': 5, 'max_features': 'sqrt', 'bootstrap': True}. Best is trial 16 with value: 0.8400000000000001.\n",
      "[I 2024-09-11 19:05:06,398] Trial 47 finished with value: 0.76 and parameters: {'n_estimators': 153, 'max_depth': None, 'min_samples_split': 10, 'min_samples_leaf': 2, 'max_features': 'sqrt', 'bootstrap': True}. Best is trial 16 with value: 0.8400000000000001.\n",
      "[I 2024-09-11 19:05:07,148] Trial 48 finished with value: 0.76 and parameters: {'n_estimators': 184, 'max_depth': 40, 'min_samples_split': 8, 'min_samples_leaf': 4, 'max_features': 'sqrt', 'bootstrap': False}. Best is trial 16 with value: 0.8400000000000001.\n",
      "[I 2024-09-11 19:05:08,216] Trial 49 finished with value: 0.7799999999999999 and parameters: {'n_estimators': 196, 'max_depth': 40, 'min_samples_split': 7, 'min_samples_leaf': 5, 'max_features': 'sqrt', 'bootstrap': True}. Best is trial 16 with value: 0.8400000000000001.\n"
     ]
    },
    {
     "name": "stdout",
     "output_type": "stream",
     "text": [
      "Best RandomForestClassifier model trained successfully with hyperparameter tuning using Optuna.\n",
      "Best hyperparameters: {'n_estimators': 113, 'max_depth': 30, 'min_samples_split': 5, 'min_samples_leaf': 5, 'max_features': 'log2', 'bootstrap': True}\n",
      "RandomForestClassifier model trained successfully.\n",
      "Accuracy for RandomForestClassifier: 0.78\n"
     ]
    },
    {
     "data": {
      "text/plain": [
       "0.78"
      ]
     },
     "execution_count": 7,
     "metadata": {},
     "output_type": "execute_result"
    }
   ],
   "source": [
    "model = MLmodel(modelType='RandomForestClassifier', df=df, target=Target, \n",
    "                features=Features, hyperparameter_tuning=True,\n",
    "                feature_types=Feature_types,\n",
    "                optimization_method='optuna', objective=lambda trial: objective(trial, model))\n",
    "\n",
    "model.train()\n",
    "predictions = model.predict()\n",
    "model.evaluate()"
   ]
  }
 ],
 "metadata": {
  "kernelspec": {
   "display_name": "JorenML",
   "language": "python",
   "name": "python3"
  },
  "language_info": {
   "codemirror_mode": {
    "name": "ipython",
    "version": 3
   },
   "file_extension": ".py",
   "mimetype": "text/x-python",
   "name": "python",
   "nbconvert_exporter": "python",
   "pygments_lexer": "ipython3",
   "version": "3.10.14"
  }
 },
 "nbformat": 4,
 "nbformat_minor": 2
}
