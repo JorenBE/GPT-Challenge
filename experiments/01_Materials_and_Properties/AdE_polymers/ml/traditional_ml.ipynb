{
 "cells": [
  {
   "cell_type": "markdown",
   "metadata": {},
   "source": [
    "## Traditional machine learning\n",
    "Feature(s): 'SMILES' column\n",
    "\n",
    "- Copolymer sequence of A and B monomer\n",
    "- Binary encoding\n",
    "\n",
    "Target: y_bin\n",
    "\n",
    "- Binary class"
   ]
  },
  {
   "cell_type": "code",
   "execution_count": 1,
   "metadata": {},
   "outputs": [],
   "source": [
    "import sys\n",
    "import os\n",
    "\n",
    "# Append the parent directory of your package to sys.path\n",
    "sys.path.append(os.path.abspath(os.path.join(os.getcwd(), '..', '..', '..', '..')))"
   ]
  },
  {
   "cell_type": "code",
   "execution_count": 2,
   "metadata": {},
   "outputs": [
    {
     "name": "stdout",
     "output_type": "stream",
     "text": [
      "Count of unique smiles: 16000\n",
      "Count of all of the smiles: 16000\n"
     ]
    }
   ],
   "source": [
    "import pandas as pd\n",
    "import numpy as np\n",
    "import zipfile\n",
    "\n",
    "path_to_dataset = 'train_polymers.csv'\n",
    "csv_filename = 'train_polymers.csv'\n",
    "\n",
    "# Open the file, Correct the encoding and sep if necessary\n",
    "if path_to_dataset.endswith('.zip'):\n",
    "    with zipfile.ZipFile(path_to_dataset, 'r') as z:\n",
    "        # Open the CSV file within the ZIP file\n",
    "        with z.open(csv_filename) as f:\n",
    "            # Read the CSV file into a DataFrame\n",
    "            df = pd.read_csv(f, sep=',', on_bad_lines='warn')\n",
    "else:\n",
    "    # Read the CSV file into a DataFrame\n",
    "    df = pd.read_csv(path_to_dataset, sep=',', on_bad_lines='warn')\n",
    "\n",
    "\n",
    "print('Count of unique smiles:', df.SMILES.unique().shape[0])\n",
    "print('Count of all of the smiles:', df.shape[0])\n"
   ]
  },
  {
   "cell_type": "code",
   "execution_count": 3,
   "metadata": {},
   "outputs": [],
   "source": [
    "# Define mapping\n",
    "mapping = {'A': 0, 'B': 1}\n",
    "\n",
    "# Apply mapping and convert sequences to arrays\n",
    "def encode_sequence(sequence):\n",
    "    return np.array([mapping[char] for char in sequence.split()])\n",
    "\n",
    "df['Encoded'] = df['SMILES'].apply(encode_sequence)"
   ]
  },
  {
   "cell_type": "code",
   "execution_count": 4,
   "metadata": {},
   "outputs": [
    {
     "name": "stderr",
     "output_type": "stream",
     "text": [
      "/home/lsmo/.local/lib/python3.10/site-packages/tqdm/auto.py:21: TqdmWarning: IProgress not found. Please update jupyter and ipywidgets. See https://ipywidgets.readthedocs.io/en/stable/user_install.html\n",
      "  from .autonotebook import tqdm as notebook_tqdm\n"
     ]
    }
   ],
   "source": [
    "from MLPipeline import MLmodel, BinTheTarget\n",
    "\n",
    "Target = ['y_bin']\n",
    "Features = ['Encoded']\n",
    "Feature_types = ['numerical']\n",
    "input = df[:7000]"
   ]
  },
  {
   "cell_type": "code",
   "execution_count": 5,
   "metadata": {},
   "outputs": [
    {
     "name": "stderr",
     "output_type": "stream",
     "text": [
      "\u001b[32m2024-09-12 17:07:32.055\u001b[0m | \u001b[1mINFO    \u001b[0m | \u001b[36mMLPipeline\u001b[0m:\u001b[36m__post_init__\u001b[0m:\u001b[36m133\u001b[0m - \u001b[1mndim y_train: 1\u001b[0m\n",
      "\u001b[32m2024-09-12 17:07:32.055\u001b[0m | \u001b[1mINFO    \u001b[0m | \u001b[36mMLPipeline\u001b[0m:\u001b[36m__post_init__\u001b[0m:\u001b[36m134\u001b[0m - \u001b[1mndim x_train: 2\u001b[0m\n",
      "\u001b[32m2024-09-12 17:07:32.056\u001b[0m | \u001b[1mINFO    \u001b[0m | \u001b[36mMLPipeline\u001b[0m:\u001b[36m__post_init__\u001b[0m:\u001b[36m135\u001b[0m - \u001b[1mshape y_train: (50,)\u001b[0m\n",
      "\u001b[32m2024-09-12 17:07:32.056\u001b[0m | \u001b[1mINFO    \u001b[0m | \u001b[36mMLPipeline\u001b[0m:\u001b[36m__post_init__\u001b[0m:\u001b[36m136\u001b[0m - \u001b[1mshape x_train: (50, 20)\u001b[0m\n"
     ]
    },
    {
     "name": "stdout",
     "output_type": "stream",
     "text": [
      "RandomForestClassifier model trained successfully.\n",
      "Accuracy for RandomForestClassifier: 0.68\n"
     ]
    },
    {
     "data": {
      "text/plain": [
       "0.68"
      ]
     },
     "execution_count": 5,
     "metadata": {},
     "output_type": "execute_result"
    }
   ],
   "source": [
    "model = MLmodel(modelType='RandomForestClassifier',\n",
    "                    df=input,\n",
    "                    target=Target,\n",
    "                    features=Features,\n",
    "                    feature_types=Feature_types)\n",
    "\n",
    "# get the values (input and output) of the model\n",
    "X_train, X_test, y_train, y_test = model.getValues()\n",
    "\n",
    "model.train()\n",
    "model.evaluate()"
   ]
  },
  {
   "cell_type": "code",
   "execution_count": 6,
   "metadata": {},
   "outputs": [],
   "source": [
    "from sklearn.model_selection import cross_val_score\n",
    "from sklearn.base import clone\n",
    "\n",
    "def objective(trial, model_instance):\n",
    "    \"\"\"\n",
    "    Objective function for Optuna to minimize.\n",
    "    \"\"\"\n",
    "    # Define hyperparameters to tune\n",
    "    params = {\n",
    "        'n_estimators': trial.suggest_int('n_estimators', 50, 300),\n",
    "        'max_depth': trial.suggest_categorical('max_depth', [None, 10, 20, 30, 40]),\n",
    "        'min_samples_split': trial.suggest_int('min_samples_split', 2, 15),\n",
    "        'min_samples_leaf': trial.suggest_int('min_samples_leaf', 1, 6),\n",
    "        'max_features': trial.suggest_categorical('max_features', ['sqrt', 'log2']),\n",
    "        'bootstrap': trial.suggest_categorical('bootstrap', [True, False])\n",
    "    }\n",
    "\n",
    "    # Clone the model to ensure a fresh instance each trial\n",
    "    model_clone = clone(model_instance.model)\n",
    "    model_clone.set_params(**params)\n",
    "    \n",
    "    # Define the score metric\n",
    "    scoring = 'accuracy'\n",
    "\n",
    "    # Perform cross-validation\n",
    "    scores = cross_val_score(model_clone, model_instance.X_train, model_instance.y_train, cv=model_instance.cv, scoring=scoring)\n",
    "\n",
    "    # Return the average score across all folds\n",
    "    return scores.mean()"
   ]
  },
  {
   "cell_type": "code",
   "execution_count": 7,
   "metadata": {},
   "outputs": [
    {
     "name": "stderr",
     "output_type": "stream",
     "text": [
      "\u001b[32m2024-09-12 17:07:32.183\u001b[0m | \u001b[1mINFO    \u001b[0m | \u001b[36mMLPipeline\u001b[0m:\u001b[36m__post_init__\u001b[0m:\u001b[36m133\u001b[0m - \u001b[1mndim y_train: 1\u001b[0m\n",
      "\u001b[32m2024-09-12 17:07:32.184\u001b[0m | \u001b[1mINFO    \u001b[0m | \u001b[36mMLPipeline\u001b[0m:\u001b[36m__post_init__\u001b[0m:\u001b[36m134\u001b[0m - \u001b[1mndim x_train: 2\u001b[0m\n",
      "\u001b[32m2024-09-12 17:07:32.185\u001b[0m | \u001b[1mINFO    \u001b[0m | \u001b[36mMLPipeline\u001b[0m:\u001b[36m__post_init__\u001b[0m:\u001b[36m135\u001b[0m - \u001b[1mshape y_train: (50,)\u001b[0m\n",
      "\u001b[32m2024-09-12 17:07:32.185\u001b[0m | \u001b[1mINFO    \u001b[0m | \u001b[36mMLPipeline\u001b[0m:\u001b[36m__post_init__\u001b[0m:\u001b[36m136\u001b[0m - \u001b[1mshape x_train: (50, 20)\u001b[0m\n",
      "[I 2024-09-12 17:07:32,186] A new study created in memory with name: no-name-fb0f5054-a93f-46ab-b1a5-5d14c93b635d\n",
      "[I 2024-09-12 17:07:33,298] Trial 0 finished with value: 0.74 and parameters: {'n_estimators': 227, 'max_depth': 20, 'min_samples_split': 15, 'min_samples_leaf': 2, 'max_features': 'log2', 'bootstrap': True}. Best is trial 0 with value: 0.74.\n",
      "[I 2024-09-12 17:07:33,650] Trial 1 finished with value: 0.8 and parameters: {'n_estimators': 99, 'max_depth': None, 'min_samples_split': 4, 'min_samples_leaf': 4, 'max_features': 'sqrt', 'bootstrap': False}. Best is trial 1 with value: 0.8.\n",
      "[I 2024-09-12 17:07:34,299] Trial 2 finished with value: 0.8 and parameters: {'n_estimators': 132, 'max_depth': 20, 'min_samples_split': 15, 'min_samples_leaf': 3, 'max_features': 'sqrt', 'bootstrap': True}. Best is trial 1 with value: 0.8.\n",
      "[I 2024-09-12 17:07:34,575] Trial 3 finished with value: 0.78 and parameters: {'n_estimators': 77, 'max_depth': 30, 'min_samples_split': 5, 'min_samples_leaf': 6, 'max_features': 'log2', 'bootstrap': False}. Best is trial 1 with value: 0.8.\n",
      "[I 2024-09-12 17:07:35,381] Trial 4 finished with value: 0.8 and parameters: {'n_estimators': 231, 'max_depth': None, 'min_samples_split': 14, 'min_samples_leaf': 2, 'max_features': 'log2', 'bootstrap': False}. Best is trial 1 with value: 0.8.\n",
      "[I 2024-09-12 17:07:36,263] Trial 5 finished with value: 0.7799999999999999 and parameters: {'n_estimators': 252, 'max_depth': None, 'min_samples_split': 5, 'min_samples_leaf': 5, 'max_features': 'sqrt', 'bootstrap': False}. Best is trial 1 with value: 0.8.\n",
      "[I 2024-09-12 17:07:37,202] Trial 6 finished with value: 0.8 and parameters: {'n_estimators': 190, 'max_depth': None, 'min_samples_split': 4, 'min_samples_leaf': 5, 'max_features': 'log2', 'bootstrap': True}. Best is trial 1 with value: 0.8.\n",
      "[I 2024-09-12 17:07:37,575] Trial 7 finished with value: 0.76 and parameters: {'n_estimators': 105, 'max_depth': 20, 'min_samples_split': 3, 'min_samples_leaf': 2, 'max_features': 'log2', 'bootstrap': False}. Best is trial 1 with value: 0.8.\n",
      "[I 2024-09-12 17:07:37,972] Trial 8 finished with value: 0.82 and parameters: {'n_estimators': 79, 'max_depth': None, 'min_samples_split': 4, 'min_samples_leaf': 5, 'max_features': 'log2', 'bootstrap': True}. Best is trial 8 with value: 0.82.\n",
      "[I 2024-09-12 17:07:38,822] Trial 9 finished with value: 0.74 and parameters: {'n_estimators': 246, 'max_depth': 20, 'min_samples_split': 9, 'min_samples_leaf': 6, 'max_features': 'sqrt', 'bootstrap': False}. Best is trial 8 with value: 0.82.\n",
      "[I 2024-09-12 17:07:39,111] Trial 10 finished with value: 0.7799999999999999 and parameters: {'n_estimators': 55, 'max_depth': 10, 'min_samples_split': 8, 'min_samples_leaf': 4, 'max_features': 'log2', 'bootstrap': True}. Best is trial 8 with value: 0.82.\n",
      "[I 2024-09-12 17:07:39,816] Trial 11 finished with value: 0.8 and parameters: {'n_estimators': 142, 'max_depth': 40, 'min_samples_split': 2, 'min_samples_leaf': 4, 'max_features': 'sqrt', 'bootstrap': True}. Best is trial 8 with value: 0.82.\n",
      "[I 2024-09-12 17:07:40,860] Trial 12 finished with value: 0.8 and parameters: {'n_estimators': 296, 'max_depth': None, 'min_samples_split': 8, 'min_samples_leaf': 5, 'max_features': 'sqrt', 'bootstrap': False}. Best is trial 8 with value: 0.82.\n",
      "[I 2024-09-12 17:07:41,396] Trial 13 finished with value: 0.82 and parameters: {'n_estimators': 106, 'max_depth': None, 'min_samples_split': 6, 'min_samples_leaf': 3, 'max_features': 'sqrt', 'bootstrap': True}. Best is trial 8 with value: 0.82.\n",
      "[I 2024-09-12 17:07:42,188] Trial 14 finished with value: 0.7799999999999999 and parameters: {'n_estimators': 159, 'max_depth': 40, 'min_samples_split': 6, 'min_samples_leaf': 1, 'max_features': 'log2', 'bootstrap': True}. Best is trial 8 with value: 0.82.\n",
      "[I 2024-09-12 17:07:42,732] Trial 15 finished with value: 0.8 and parameters: {'n_estimators': 108, 'max_depth': 10, 'min_samples_split': 11, 'min_samples_leaf': 3, 'max_features': 'sqrt', 'bootstrap': True}. Best is trial 8 with value: 0.82.\n",
      "[I 2024-09-12 17:07:43,099] Trial 16 finished with value: 0.82 and parameters: {'n_estimators': 71, 'max_depth': 30, 'min_samples_split': 7, 'min_samples_leaf': 3, 'max_features': 'sqrt', 'bootstrap': True}. Best is trial 8 with value: 0.82.\n",
      "[I 2024-09-12 17:07:44,055] Trial 17 finished with value: 0.8 and parameters: {'n_estimators': 193, 'max_depth': None, 'min_samples_split': 10, 'min_samples_leaf': 5, 'max_features': 'log2', 'bootstrap': True}. Best is trial 8 with value: 0.82.\n",
      "[I 2024-09-12 17:07:44,326] Trial 18 finished with value: 0.76 and parameters: {'n_estimators': 51, 'max_depth': None, 'min_samples_split': 6, 'min_samples_leaf': 1, 'max_features': 'sqrt', 'bootstrap': True}. Best is trial 8 with value: 0.82.\n",
      "[I 2024-09-12 17:07:44,948] Trial 19 finished with value: 0.8 and parameters: {'n_estimators': 124, 'max_depth': None, 'min_samples_split': 12, 'min_samples_leaf': 6, 'max_features': 'log2', 'bootstrap': True}. Best is trial 8 with value: 0.82.\n",
      "[I 2024-09-12 17:07:45,754] Trial 20 finished with value: 0.82 and parameters: {'n_estimators': 162, 'max_depth': 10, 'min_samples_split': 2, 'min_samples_leaf': 4, 'max_features': 'sqrt', 'bootstrap': True}. Best is trial 8 with value: 0.82.\n",
      "[I 2024-09-12 17:07:46,168] Trial 21 finished with value: 0.82 and parameters: {'n_estimators': 80, 'max_depth': 30, 'min_samples_split': 7, 'min_samples_leaf': 3, 'max_features': 'sqrt', 'bootstrap': True}. Best is trial 8 with value: 0.82.\n",
      "[I 2024-09-12 17:07:46,561] Trial 22 finished with value: 0.76 and parameters: {'n_estimators': 76, 'max_depth': 30, 'min_samples_split': 7, 'min_samples_leaf': 3, 'max_features': 'sqrt', 'bootstrap': True}. Best is trial 8 with value: 0.82.\n",
      "[I 2024-09-12 17:07:47,007] Trial 23 finished with value: 0.82 and parameters: {'n_estimators': 86, 'max_depth': 30, 'min_samples_split': 6, 'min_samples_leaf': 2, 'max_features': 'sqrt', 'bootstrap': True}. Best is trial 8 with value: 0.82.\n",
      "[I 2024-09-12 17:07:47,375] Trial 24 finished with value: 0.8 and parameters: {'n_estimators': 65, 'max_depth': 30, 'min_samples_split': 5, 'min_samples_leaf': 3, 'max_features': 'sqrt', 'bootstrap': True}. Best is trial 8 with value: 0.82.\n",
      "[I 2024-09-12 17:07:47,919] Trial 25 finished with value: 0.7799999999999999 and parameters: {'n_estimators': 107, 'max_depth': 40, 'min_samples_split': 4, 'min_samples_leaf': 4, 'max_features': 'sqrt', 'bootstrap': True}. Best is trial 8 with value: 0.82.\n",
      "[I 2024-09-12 17:07:48,536] Trial 26 finished with value: 0.7799999999999999 and parameters: {'n_estimators': 122, 'max_depth': 30, 'min_samples_split': 9, 'min_samples_leaf': 2, 'max_features': 'log2', 'bootstrap': True}. Best is trial 8 with value: 0.82.\n",
      "[I 2024-09-12 17:07:49,019] Trial 27 finished with value: 0.82 and parameters: {'n_estimators': 94, 'max_depth': None, 'min_samples_split': 7, 'min_samples_leaf': 3, 'max_features': 'sqrt', 'bootstrap': True}. Best is trial 8 with value: 0.82.\n",
      "[I 2024-09-12 17:07:49,747] Trial 28 finished with value: 0.8400000000000001 and parameters: {'n_estimators': 145, 'max_depth': None, 'min_samples_split': 10, 'min_samples_leaf': 5, 'max_features': 'log2', 'bootstrap': True}. Best is trial 28 with value: 0.8400000000000001.\n",
      "[I 2024-09-12 17:07:50,530] Trial 29 finished with value: 0.78 and parameters: {'n_estimators': 155, 'max_depth': None, 'min_samples_split': 12, 'min_samples_leaf': 5, 'max_features': 'log2', 'bootstrap': True}. Best is trial 28 with value: 0.8400000000000001.\n",
      "[I 2024-09-12 17:07:51,528] Trial 30 finished with value: 0.78 and parameters: {'n_estimators': 197, 'max_depth': None, 'min_samples_split': 10, 'min_samples_leaf': 6, 'max_features': 'log2', 'bootstrap': True}. Best is trial 28 with value: 0.8400000000000001.\n",
      "[I 2024-09-12 17:07:52,226] Trial 31 finished with value: 0.78 and parameters: {'n_estimators': 138, 'max_depth': None, 'min_samples_split': 8, 'min_samples_leaf': 4, 'max_features': 'log2', 'bootstrap': True}. Best is trial 28 with value: 0.8400000000000001.\n",
      "[I 2024-09-12 17:07:52,811] Trial 32 finished with value: 0.78 and parameters: {'n_estimators': 115, 'max_depth': None, 'min_samples_split': 3, 'min_samples_leaf': 5, 'max_features': 'log2', 'bootstrap': True}. Best is trial 28 with value: 0.8400000000000001.\n",
      "[I 2024-09-12 17:07:53,168] Trial 33 finished with value: 0.82 and parameters: {'n_estimators': 68, 'max_depth': 20, 'min_samples_split': 10, 'min_samples_leaf': 4, 'max_features': 'log2', 'bootstrap': True}. Best is trial 28 with value: 0.8400000000000001.\n",
      "[I 2024-09-12 17:07:53,649] Trial 34 finished with value: 0.7799999999999999 and parameters: {'n_estimators': 94, 'max_depth': 30, 'min_samples_split': 6, 'min_samples_leaf': 3, 'max_features': 'log2', 'bootstrap': True}. Best is trial 28 with value: 0.8400000000000001.\n",
      "[I 2024-09-12 17:07:54,514] Trial 35 finished with value: 0.7799999999999999 and parameters: {'n_estimators': 174, 'max_depth': None, 'min_samples_split': 13, 'min_samples_leaf': 2, 'max_features': 'sqrt', 'bootstrap': True}. Best is trial 28 with value: 0.8400000000000001.\n",
      "[I 2024-09-12 17:07:55,008] Trial 36 finished with value: 0.78 and parameters: {'n_estimators': 135, 'max_depth': None, 'min_samples_split': 5, 'min_samples_leaf': 5, 'max_features': 'log2', 'bootstrap': False}. Best is trial 28 with value: 0.8400000000000001.\n",
      "[I 2024-09-12 17:07:55,342] Trial 37 finished with value: 0.82 and parameters: {'n_estimators': 64, 'max_depth': 40, 'min_samples_split': 3, 'min_samples_leaf': 4, 'max_features': 'sqrt', 'bootstrap': True}. Best is trial 28 with value: 0.8400000000000001.\n",
      "[I 2024-09-12 17:07:55,869] Trial 38 finished with value: 0.74 and parameters: {'n_estimators': 93, 'max_depth': None, 'min_samples_split': 4, 'min_samples_leaf': 6, 'max_features': 'log2', 'bootstrap': True}. Best is trial 28 with value: 0.8400000000000001.\n",
      "[I 2024-09-12 17:07:56,407] Trial 39 finished with value: 0.7799999999999999 and parameters: {'n_estimators': 149, 'max_depth': 20, 'min_samples_split': 9, 'min_samples_leaf': 5, 'max_features': 'sqrt', 'bootstrap': False}. Best is trial 28 with value: 0.8400000000000001.\n",
      "[I 2024-09-12 17:07:57,026] Trial 40 finished with value: 0.74 and parameters: {'n_estimators': 123, 'max_depth': 10, 'min_samples_split': 15, 'min_samples_leaf': 3, 'max_features': 'log2', 'bootstrap': True}. Best is trial 28 with value: 0.8400000000000001.\n",
      "[I 2024-09-12 17:07:57,884] Trial 41 finished with value: 0.78 and parameters: {'n_estimators': 172, 'max_depth': 10, 'min_samples_split': 3, 'min_samples_leaf': 4, 'max_features': 'sqrt', 'bootstrap': True}. Best is trial 28 with value: 0.8400000000000001.\n",
      "[I 2024-09-12 17:07:58,945] Trial 42 finished with value: 0.78 and parameters: {'n_estimators': 214, 'max_depth': 10, 'min_samples_split': 2, 'min_samples_leaf': 5, 'max_features': 'sqrt', 'bootstrap': True}. Best is trial 28 with value: 0.8400000000000001.\n",
      "[I 2024-09-12 17:07:59,774] Trial 43 finished with value: 0.82 and parameters: {'n_estimators': 166, 'max_depth': 10, 'min_samples_split': 5, 'min_samples_leaf': 4, 'max_features': 'sqrt', 'bootstrap': True}. Best is trial 28 with value: 0.8400000000000001.\n",
      "[I 2024-09-12 17:08:00,443] Trial 44 finished with value: 0.82 and parameters: {'n_estimators': 185, 'max_depth': 10, 'min_samples_split': 2, 'min_samples_leaf': 3, 'max_features': 'sqrt', 'bootstrap': False}. Best is trial 28 with value: 0.8400000000000001.\n",
      "[I 2024-09-12 17:08:00,876] Trial 45 finished with value: 0.8 and parameters: {'n_estimators': 84, 'max_depth': 30, 'min_samples_split': 4, 'min_samples_leaf': 4, 'max_features': 'sqrt', 'bootstrap': True}. Best is trial 28 with value: 0.8400000000000001.\n",
      "[I 2024-09-12 17:08:01,395] Trial 46 finished with value: 0.8 and parameters: {'n_estimators': 102, 'max_depth': None, 'min_samples_split': 7, 'min_samples_leaf': 6, 'max_features': 'sqrt', 'bootstrap': True}. Best is trial 28 with value: 0.8400000000000001.\n",
      "[I 2024-09-12 17:08:02,136] Trial 47 finished with value: 0.82 and parameters: {'n_estimators': 148, 'max_depth': 10, 'min_samples_split': 2, 'min_samples_leaf': 4, 'max_features': 'log2', 'bootstrap': True}. Best is trial 28 with value: 0.8400000000000001.\n",
      "[I 2024-09-12 17:08:03,126] Trial 48 finished with value: 0.76 and parameters: {'n_estimators': 280, 'max_depth': 20, 'min_samples_split': 4, 'min_samples_leaf': 5, 'max_features': 'sqrt', 'bootstrap': False}. Best is trial 28 with value: 0.8400000000000001.\n",
      "[I 2024-09-12 17:08:04,150] Trial 49 finished with value: 0.7799999999999999 and parameters: {'n_estimators': 205, 'max_depth': None, 'min_samples_split': 8, 'min_samples_leaf': 3, 'max_features': 'sqrt', 'bootstrap': True}. Best is trial 28 with value: 0.8400000000000001.\n"
     ]
    },
    {
     "name": "stdout",
     "output_type": "stream",
     "text": [
      "Best RandomForestClassifier model trained successfully with hyperparameter tuning using Optuna.\n",
      "Best hyperparameters: {'n_estimators': 145, 'max_depth': None, 'min_samples_split': 10, 'min_samples_leaf': 5, 'max_features': 'log2', 'bootstrap': True}\n",
      "RandomForestClassifier model trained successfully.\n",
      "Accuracy for RandomForestClassifier: 0.80\n"
     ]
    },
    {
     "data": {
      "text/plain": [
       "0.8"
      ]
     },
     "execution_count": 7,
     "metadata": {},
     "output_type": "execute_result"
    }
   ],
   "source": [
    "model = MLmodel(modelType='RandomForestClassifier', df=df, target=Target, \n",
    "                features=Features, hyperparameter_tuning=True,\n",
    "                feature_types=Feature_types,\n",
    "                optimization_method='optuna', objective=lambda trial: objective(trial, model))\n",
    "\n",
    "model.train()\n",
    "predictions = model.predict()\n",
    "model.evaluate()"
   ]
  }
 ],
 "metadata": {
  "kernelspec": {
   "display_name": "JorenML",
   "language": "python",
   "name": "python3"
  },
  "language_info": {
   "codemirror_mode": {
    "name": "ipython",
    "version": 3
   },
   "file_extension": ".py",
   "mimetype": "text/x-python",
   "name": "python",
   "nbconvert_exporter": "python",
   "pygments_lexer": "ipython3",
   "version": "3.10.14"
  }
 },
 "nbformat": 4,
 "nbformat_minor": 2
}
