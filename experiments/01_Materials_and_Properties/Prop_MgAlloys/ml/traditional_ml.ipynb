{
 "cells": [
  {
   "cell_type": "markdown",
   "metadata": {},
   "source": [
    "## Traditional machine learning\n",
    "Feature(s): 'total_string' column\n",
    "\n",
    "- this is a concatenated string from various features, both categorcial and numerical, used for LLM experiments.\n",
    "\n",
    "Target: grain_size_bin_25.7,second_phase_bin_1.14\n",
    "\n",
    "- binary classes (the numbers of in the column name are the medians of the target)\n",
    "- so two experiments, one predicting the grain size, one predicting the second phase\n",
    "\n",
    "Datasets: \n",
    "- the HEREON_final.csv file has all the entries\n",
    "\n",
    "- the HEREON_extruded_final.csv is a subset of the total dataset, i.e. for all entries here the 'Prozessbedingung' is 'Extruded'\n"
   ]
  },
  {
   "cell_type": "code",
   "execution_count": 1,
   "metadata": {},
   "outputs": [],
   "source": [
    "import sys\n",
    "import os\n",
    "\n",
    "# Append the parent directory of your package to sys.path\n",
    "sys.path.append(os.path.abspath(os.path.join(os.getcwd(), '..', '..', '..', '..')))"
   ]
  },
  {
   "cell_type": "code",
   "execution_count": 2,
   "metadata": {},
   "outputs": [],
   "source": [
    "import pandas as pd\n",
    "import numpy as np\n",
    "import zipfile\n",
    "\n",
    "path_to_dataset = 'HEREON_final.csv'\n",
    "csv_filename = 'HEREON_final.csv'\n",
    "\n",
    "# Open the file, Correct the encoding and sep if necessary\n",
    "if path_to_dataset.endswith('.zip'):\n",
    "    with zipfile.ZipFile(path_to_dataset, 'r') as z:\n",
    "        # Open the CSV file within the ZIP file\n",
    "        with z.open(csv_filename) as f:\n",
    "            # Read the CSV file into a DataFrame\n",
    "            df = pd.read_csv(f, sep=',', on_bad_lines='warn', index_col = 0)\n",
    "else:\n",
    "    # Read the CSV file into a DataFrame\n",
    "    df = pd.read_csv(path_to_dataset, sep=',', on_bad_lines='warn', index_col = 0)"
   ]
  },
  {
   "cell_type": "code",
   "execution_count": 3,
   "metadata": {},
   "outputs": [
    {
     "data": {
      "text/html": [
       "<div>\n",
       "<style scoped>\n",
       "    .dataframe tbody tr th:only-of-type {\n",
       "        vertical-align: middle;\n",
       "    }\n",
       "\n",
       "    .dataframe tbody tr th {\n",
       "        vertical-align: top;\n",
       "    }\n",
       "\n",
       "    .dataframe thead th {\n",
       "        text-align: right;\n",
       "    }\n",
       "</style>\n",
       "<table border=\"1\" class=\"dataframe\">\n",
       "  <thead>\n",
       "    <tr style=\"text-align: right;\">\n",
       "      <th></th>\n",
       "      <th>Materials</th>\n",
       "      <th>Prozessbedingung</th>\n",
       "      <th>homogenized_temperature</th>\n",
       "      <th>homogenized_time</th>\n",
       "      <th>solutionized_temperature</th>\n",
       "      <th>solutionized_time</th>\n",
       "      <th>extrution_temperature</th>\n",
       "      <th>extrution_speed</th>\n",
       "      <th>extrusion_ratio</th>\n",
       "      <th>ECAE_temperature</th>\n",
       "      <th>...</th>\n",
       "      <th>grain_size</th>\n",
       "      <th>grain_size_error</th>\n",
       "      <th>second_phase</th>\n",
       "      <th>second_phase_error</th>\n",
       "      <th>vpd</th>\n",
       "      <th>grain_size_bin</th>\n",
       "      <th>grain_size_bin_25.7</th>\n",
       "      <th>second_phase_bin_1.14</th>\n",
       "      <th>concentration_string</th>\n",
       "      <th>total_string</th>\n",
       "    </tr>\n",
       "  </thead>\n",
       "  <tbody>\n",
       "    <tr>\n",
       "      <th>0</th>\n",
       "      <td>Mg</td>\n",
       "      <td>extruded</td>\n",
       "      <td>440.0</td>\n",
       "      <td>0.5</td>\n",
       "      <td>NaN</td>\n",
       "      <td>NaN</td>\n",
       "      <td>450.0</td>\n",
       "      <td>0.6</td>\n",
       "      <td>63.0</td>\n",
       "      <td>NaN</td>\n",
       "      <td>...</td>\n",
       "      <td>131.40</td>\n",
       "      <td>76.00</td>\n",
       "      <td>0.00</td>\n",
       "      <td>0.0</td>\n",
       "      <td>0</td>\n",
       "      <td>1</td>\n",
       "      <td>1</td>\n",
       "      <td>0</td>\n",
       "      <td>0.0015 Fe, 0.0001 Cu, 0.0002 Ni, 0.0 Nd, 0.0 Z...</td>\n",
       "      <td>A alloy witht the following paramters; extrude...</td>\n",
       "    </tr>\n",
       "    <tr>\n",
       "      <th>1</th>\n",
       "      <td>Mg-0.5Nd</td>\n",
       "      <td>extruded</td>\n",
       "      <td>440.0</td>\n",
       "      <td>0.5</td>\n",
       "      <td>NaN</td>\n",
       "      <td>NaN</td>\n",
       "      <td>450.0</td>\n",
       "      <td>0.6</td>\n",
       "      <td>63.0</td>\n",
       "      <td>NaN</td>\n",
       "      <td>...</td>\n",
       "      <td>24.70</td>\n",
       "      <td>9.80</td>\n",
       "      <td>0.50</td>\n",
       "      <td>1.0</td>\n",
       "      <td>60</td>\n",
       "      <td>0</td>\n",
       "      <td>0</td>\n",
       "      <td>0</td>\n",
       "      <td>0.0082 Fe, 0.0019 Cu, 0.0003 Ni, 0.68 Nd, 0.0 ...</td>\n",
       "      <td>A alloy witht the following paramters; extrude...</td>\n",
       "    </tr>\n",
       "    <tr>\n",
       "      <th>2</th>\n",
       "      <td>Mg-2Nd</td>\n",
       "      <td>extruded</td>\n",
       "      <td>440.0</td>\n",
       "      <td>0.5</td>\n",
       "      <td>NaN</td>\n",
       "      <td>NaN</td>\n",
       "      <td>450.0</td>\n",
       "      <td>0.6</td>\n",
       "      <td>63.0</td>\n",
       "      <td>NaN</td>\n",
       "      <td>...</td>\n",
       "      <td>19.80</td>\n",
       "      <td>8.00</td>\n",
       "      <td>1.40</td>\n",
       "      <td>0.2</td>\n",
       "      <td>60</td>\n",
       "      <td>0</td>\n",
       "      <td>0</td>\n",
       "      <td>1</td>\n",
       "      <td>0.0026 Fe, 0.0021 Cu, 0.0011 Ni, 2.39 Nd, 0.0 ...</td>\n",
       "      <td>A alloy witht the following paramters; extrude...</td>\n",
       "    </tr>\n",
       "    <tr>\n",
       "      <th>3</th>\n",
       "      <td>Mg-5Nd</td>\n",
       "      <td>extruded</td>\n",
       "      <td>440.0</td>\n",
       "      <td>0.5</td>\n",
       "      <td>NaN</td>\n",
       "      <td>NaN</td>\n",
       "      <td>450.0</td>\n",
       "      <td>0.6</td>\n",
       "      <td>63.0</td>\n",
       "      <td>NaN</td>\n",
       "      <td>...</td>\n",
       "      <td>9.50</td>\n",
       "      <td>3.60</td>\n",
       "      <td>10.30</td>\n",
       "      <td>1.0</td>\n",
       "      <td>60</td>\n",
       "      <td>0</td>\n",
       "      <td>0</td>\n",
       "      <td>1</td>\n",
       "      <td>0.016 Fe, 0.0024 Cu, 0.0038 Ni, 4.2 Nd, 0.0 Zn...</td>\n",
       "      <td>A alloy witht the following paramters; extrude...</td>\n",
       "    </tr>\n",
       "    <tr>\n",
       "      <th>4</th>\n",
       "      <td>Mg-2Zn</td>\n",
       "      <td>heat-treated</td>\n",
       "      <td>315.0</td>\n",
       "      <td>48.0</td>\n",
       "      <td>315.0</td>\n",
       "      <td>5.0</td>\n",
       "      <td>NaN</td>\n",
       "      <td>NaN</td>\n",
       "      <td>NaN</td>\n",
       "      <td>NaN</td>\n",
       "      <td>...</td>\n",
       "      <td>914.27</td>\n",
       "      <td>191.11</td>\n",
       "      <td>0.06</td>\n",
       "      <td>0.0</td>\n",
       "      <td>550</td>\n",
       "      <td>1</td>\n",
       "      <td>1</td>\n",
       "      <td>0</td>\n",
       "      <td>0.0 Fe, 0.0 Cu, 0.0 Ni, 0.0 Nd, 2.0 Zn, 0.0 Ca...</td>\n",
       "      <td>A alloy witht the following paramters; heat-tr...</td>\n",
       "    </tr>\n",
       "  </tbody>\n",
       "</table>\n",
       "<p>5 rows × 34 columns</p>\n",
       "</div>"
      ],
      "text/plain": [
       "  Materials Prozessbedingung  homogenized_temperature  homogenized_time  \\\n",
       "0        Mg         extruded                    440.0               0.5   \n",
       "1  Mg-0.5Nd         extruded                    440.0               0.5   \n",
       "2    Mg-2Nd         extruded                    440.0               0.5   \n",
       "3    Mg-5Nd         extruded                    440.0               0.5   \n",
       "4    Mg-2Zn     heat-treated                    315.0              48.0   \n",
       "\n",
       "   solutionized_temperature  solutionized_time  extrution_temperature  \\\n",
       "0                       NaN                NaN                  450.0   \n",
       "1                       NaN                NaN                  450.0   \n",
       "2                       NaN                NaN                  450.0   \n",
       "3                       NaN                NaN                  450.0   \n",
       "4                     315.0                5.0                    NaN   \n",
       "\n",
       "   extrution_speed  extrusion_ratio  ECAE_temperature  ...  grain_size  \\\n",
       "0              0.6             63.0               NaN  ...      131.40   \n",
       "1              0.6             63.0               NaN  ...       24.70   \n",
       "2              0.6             63.0               NaN  ...       19.80   \n",
       "3              0.6             63.0               NaN  ...        9.50   \n",
       "4              NaN              NaN               NaN  ...      914.27   \n",
       "\n",
       "   grain_size_error  second_phase  second_phase_error  vpd  grain_size_bin  \\\n",
       "0             76.00          0.00                 0.0    0               1   \n",
       "1              9.80          0.50                 1.0   60               0   \n",
       "2              8.00          1.40                 0.2   60               0   \n",
       "3              3.60         10.30                 1.0   60               0   \n",
       "4            191.11          0.06                 0.0  550               1   \n",
       "\n",
       "   grain_size_bin_25.7  second_phase_bin_1.14  \\\n",
       "0                    1                      0   \n",
       "1                    0                      0   \n",
       "2                    0                      1   \n",
       "3                    0                      1   \n",
       "4                    1                      0   \n",
       "\n",
       "                                concentration_string  \\\n",
       "0  0.0015 Fe, 0.0001 Cu, 0.0002 Ni, 0.0 Nd, 0.0 Z...   \n",
       "1  0.0082 Fe, 0.0019 Cu, 0.0003 Ni, 0.68 Nd, 0.0 ...   \n",
       "2  0.0026 Fe, 0.0021 Cu, 0.0011 Ni, 2.39 Nd, 0.0 ...   \n",
       "3  0.016 Fe, 0.0024 Cu, 0.0038 Ni, 4.2 Nd, 0.0 Zn...   \n",
       "4  0.0 Fe, 0.0 Cu, 0.0 Ni, 0.0 Nd, 2.0 Zn, 0.0 Ca...   \n",
       "\n",
       "                                        total_string  \n",
       "0  A alloy witht the following paramters; extrude...  \n",
       "1  A alloy witht the following paramters; extrude...  \n",
       "2  A alloy witht the following paramters; extrude...  \n",
       "3  A alloy witht the following paramters; extrude...  \n",
       "4  A alloy witht the following paramters; heat-tr...  \n",
       "\n",
       "[5 rows x 34 columns]"
      ]
     },
     "execution_count": 3,
     "metadata": {},
     "output_type": "execute_result"
    }
   ],
   "source": [
    "df.head()"
   ]
  },
  {
   "cell_type": "code",
   "execution_count": 4,
   "metadata": {},
   "outputs": [],
   "source": [
    "df_encoded = pd.get_dummies(df, columns=['Prozessbedingung'])"
   ]
  },
  {
   "cell_type": "code",
   "execution_count": 5,
   "metadata": {},
   "outputs": [],
   "source": [
    "exclude_columns = [ 'ECAE_temperature', 'ECAE_pass', 'Unnamed: 0', 'Materials',\n",
    "                     'grain_size','concentration_string', 'total_string', \n",
    "                     'grain_size_error', 'second_phase', 'second_phase_error', 'vpd',\n",
    "                     'grain_size_bin', 'grain_size_bin_25.7',  'second_phase_bin_1.14', 'Prozessbedingung']\n",
    "\n",
    "feature_columns = list(set(df_encoded.columns.tolist()) - set(exclude_columns))"
   ]
  },
  {
   "cell_type": "code",
   "execution_count": 6,
   "metadata": {},
   "outputs": [
    {
     "name": "stderr",
     "output_type": "stream",
     "text": [
      "/home/lsmo/.local/lib/python3.10/site-packages/tqdm/auto.py:21: TqdmWarning: IProgress not found. Please update jupyter and ipywidgets. See https://ipywidgets.readthedocs.io/en/stable/user_install.html\n",
      "  from .autonotebook import tqdm as notebook_tqdm\n"
     ]
    }
   ],
   "source": [
    "from MLPipeline import MLmodel, BinTheTarget\n",
    "\n",
    "Target = ['grain_size_bin_25.7', 'second_phase_bin_1.14']\n",
    "Features = feature_columns\n",
    "Feature_types = ['numerical']*len(feature_columns)\n",
    "input = df_encoded\n"
   ]
  },
  {
   "cell_type": "code",
   "execution_count": 7,
   "metadata": {},
   "outputs": [
    {
     "data": {
      "text/plain": [
       "81"
      ]
     },
     "execution_count": 7,
     "metadata": {},
     "output_type": "execute_result"
    }
   ],
   "source": [
    "len(input)"
   ]
  },
  {
   "cell_type": "code",
   "execution_count": 8,
   "metadata": {},
   "outputs": [
    {
     "name": "stderr",
     "output_type": "stream",
     "text": [
      "\u001b[32m2024-09-12 17:44:18.327\u001b[0m | \u001b[1mINFO    \u001b[0m | \u001b[36mMLPipeline\u001b[0m:\u001b[36m__post_init__\u001b[0m:\u001b[36m134\u001b[0m - \u001b[1mndim y_train: 2\u001b[0m\n",
      "\u001b[32m2024-09-12 17:44:18.328\u001b[0m | \u001b[1mINFO    \u001b[0m | \u001b[36mMLPipeline\u001b[0m:\u001b[36m__post_init__\u001b[0m:\u001b[36m135\u001b[0m - \u001b[1mndim x_train: 2\u001b[0m\n",
      "\u001b[32m2024-09-12 17:44:18.328\u001b[0m | \u001b[1mINFO    \u001b[0m | \u001b[36mMLPipeline\u001b[0m:\u001b[36m__post_init__\u001b[0m:\u001b[36m136\u001b[0m - \u001b[1mshape y_train: (10, 2)\u001b[0m\n",
      "\u001b[32m2024-09-12 17:44:18.329\u001b[0m | \u001b[1mINFO    \u001b[0m | \u001b[36mMLPipeline\u001b[0m:\u001b[36m__post_init__\u001b[0m:\u001b[36m137\u001b[0m - \u001b[1mshape x_train: (10, 24)\u001b[0m\n"
     ]
    }
   ],
   "source": [
    "model = MLmodel(modelType='RandomForestClassifier',\n",
    "                    df=input,\n",
    "                    target=Target,\n",
    "                    features=Features,\n",
    "                    feature_types=Feature_types,\n",
    "                    train_count=10,\n",
    "                    test_count=10)\n",
    "\n",
    "# get the values (input and output) of the model\n",
    "X_train, X_test, y_train, y_test = model.getValues()"
   ]
  },
  {
   "cell_type": "code",
   "execution_count": 9,
   "metadata": {},
   "outputs": [
    {
     "name": "stdout",
     "output_type": "stream",
     "text": [
      "RandomForestClassifier model trained successfully.\n",
      "Accuracies for each target in RandomForestClassifier: [0.7, 0.9]\n"
     ]
    },
    {
     "data": {
      "text/plain": [
       "[0.7, 0.9]"
      ]
     },
     "execution_count": 9,
     "metadata": {},
     "output_type": "execute_result"
    }
   ],
   "source": [
    "model.train()\n",
    "model.evaluate()"
   ]
  },
  {
   "cell_type": "code",
   "execution_count": 10,
   "metadata": {},
   "outputs": [],
   "source": [
    "from sklearn.model_selection import cross_val_score\n",
    "from sklearn.base import clone\n",
    "\n",
    "def objective(trial, model_instance):\n",
    "    \"\"\"\n",
    "    Objective function for Optuna to minimize.\n",
    "    \"\"\"\n",
    "    # Define hyperparameters to tune\n",
    "    params = {\n",
    "        'n_estimators': trial.suggest_int('n_estimators', 50, 300),\n",
    "        'max_depth': trial.suggest_categorical('max_depth', [None, 10, 20, 30, 40]),\n",
    "        'min_samples_split': trial.suggest_int('min_samples_split', 2, 15),\n",
    "        'min_samples_leaf': trial.suggest_int('min_samples_leaf', 1, 6),\n",
    "        'max_features': trial.suggest_categorical('max_features', ['sqrt', 'log2']),\n",
    "        'bootstrap': trial.suggest_categorical('bootstrap', [True, False])\n",
    "    }\n",
    "\n",
    "\n",
    "    # Clone the model to ensure a fresh instance each trial\n",
    "    model_to_clone = model_instance.model.estimator\n",
    "    model_clone = clone(model_to_clone)\n",
    "    model_clone.set_params(**params)\n",
    "    \n",
    "    # Define the score metric\n",
    "    scoring = 'accuracy'\n",
    "\n",
    "    # Perform cross-validation\n",
    "    scores = cross_val_score(model_clone, model_instance.X_train, model_instance.y_train, cv=model_instance.cv, scoring=scoring)\n",
    "\n",
    "    # Return the average score across all folds\n",
    "    return scores.mean()"
   ]
  },
  {
   "cell_type": "code",
   "execution_count": 11,
   "metadata": {},
   "outputs": [
    {
     "name": "stderr",
     "output_type": "stream",
     "text": [
      "\u001b[32m2024-09-12 17:44:18.560\u001b[0m | \u001b[1mINFO    \u001b[0m | \u001b[36mMLPipeline\u001b[0m:\u001b[36m__post_init__\u001b[0m:\u001b[36m134\u001b[0m - \u001b[1mndim y_train: 2\u001b[0m\n",
      "\u001b[32m2024-09-12 17:44:18.561\u001b[0m | \u001b[1mINFO    \u001b[0m | \u001b[36mMLPipeline\u001b[0m:\u001b[36m__post_init__\u001b[0m:\u001b[36m135\u001b[0m - \u001b[1mndim x_train: 2\u001b[0m\n",
      "\u001b[32m2024-09-12 17:44:18.562\u001b[0m | \u001b[1mINFO    \u001b[0m | \u001b[36mMLPipeline\u001b[0m:\u001b[36m__post_init__\u001b[0m:\u001b[36m136\u001b[0m - \u001b[1mshape y_train: (10, 2)\u001b[0m\n",
      "\u001b[32m2024-09-12 17:44:18.562\u001b[0m | \u001b[1mINFO    \u001b[0m | \u001b[36mMLPipeline\u001b[0m:\u001b[36m__post_init__\u001b[0m:\u001b[36m137\u001b[0m - \u001b[1mshape x_train: (10, 24)\u001b[0m\n",
      "[I 2024-09-12 17:44:18,563] A new study created in memory with name: no-name-c814699b-76a8-4c90-9251-753a29220fc4\n",
      "[I 2024-09-12 17:44:19,066] Trial 0 finished with value: 0.4 and parameters: {'n_estimators': 150, 'max_depth': 30, 'min_samples_split': 3, 'min_samples_leaf': 6, 'max_features': 'log2', 'bootstrap': False}. Best is trial 0 with value: 0.4.\n",
      "[I 2024-09-12 17:44:19,903] Trial 1 finished with value: 0.4 and parameters: {'n_estimators': 255, 'max_depth': 10, 'min_samples_split': 10, 'min_samples_leaf': 6, 'max_features': 'log2', 'bootstrap': False}. Best is trial 0 with value: 0.4.\n",
      "[I 2024-09-12 17:44:20,152] Trial 2 finished with value: 0.4 and parameters: {'n_estimators': 74, 'max_depth': 30, 'min_samples_split': 14, 'min_samples_leaf': 3, 'max_features': 'sqrt', 'bootstrap': False}. Best is trial 0 with value: 0.4.\n",
      "[I 2024-09-12 17:44:20,806] Trial 3 finished with value: 0.4 and parameters: {'n_estimators': 198, 'max_depth': None, 'min_samples_split': 14, 'min_samples_leaf': 6, 'max_features': 'sqrt', 'bootstrap': False}. Best is trial 0 with value: 0.4.\n",
      "[I 2024-09-12 17:44:21,242] Trial 4 finished with value: 0.2 and parameters: {'n_estimators': 94, 'max_depth': None, 'min_samples_split': 11, 'min_samples_leaf': 6, 'max_features': 'log2', 'bootstrap': True}. Best is trial 0 with value: 0.4.\n",
      "[I 2024-09-12 17:44:21,772] Trial 5 finished with value: 0.2 and parameters: {'n_estimators': 116, 'max_depth': 30, 'min_samples_split': 4, 'min_samples_leaf': 6, 'max_features': 'sqrt', 'bootstrap': True}. Best is trial 0 with value: 0.4.\n",
      "[I 2024-09-12 17:44:22,002] Trial 6 finished with value: 0.7 and parameters: {'n_estimators': 67, 'max_depth': None, 'min_samples_split': 7, 'min_samples_leaf': 1, 'max_features': 'sqrt', 'bootstrap': False}. Best is trial 6 with value: 0.7.\n",
      "[I 2024-09-12 17:44:22,941] Trial 7 finished with value: 0.4 and parameters: {'n_estimators': 208, 'max_depth': 10, 'min_samples_split': 8, 'min_samples_leaf': 1, 'max_features': 'log2', 'bootstrap': True}. Best is trial 6 with value: 0.7.\n",
      "[I 2024-09-12 17:44:23,179] Trial 8 finished with value: 0.4 and parameters: {'n_estimators': 50, 'max_depth': 20, 'min_samples_split': 5, 'min_samples_leaf': 6, 'max_features': 'sqrt', 'bootstrap': True}. Best is trial 6 with value: 0.7.\n",
      "[I 2024-09-12 17:44:23,502] Trial 9 finished with value: 0.7 and parameters: {'n_estimators': 96, 'max_depth': None, 'min_samples_split': 8, 'min_samples_leaf': 1, 'max_features': 'sqrt', 'bootstrap': False}. Best is trial 6 with value: 0.7.\n",
      "[I 2024-09-12 17:44:24,494] Trial 10 finished with value: 0.7 and parameters: {'n_estimators': 300, 'max_depth': 40, 'min_samples_split': 6, 'min_samples_leaf': 3, 'max_features': 'sqrt', 'bootstrap': False}. Best is trial 6 with value: 0.7.\n",
      "[I 2024-09-12 17:44:24,951] Trial 11 finished with value: 0.7 and parameters: {'n_estimators': 132, 'max_depth': None, 'min_samples_split': 8, 'min_samples_leaf': 1, 'max_features': 'sqrt', 'bootstrap': False}. Best is trial 6 with value: 0.7.\n",
      "[I 2024-09-12 17:44:25,164] Trial 12 finished with value: 0.7 and parameters: {'n_estimators': 57, 'max_depth': None, 'min_samples_split': 7, 'min_samples_leaf': 2, 'max_features': 'sqrt', 'bootstrap': False}. Best is trial 6 with value: 0.7.\n",
      "[I 2024-09-12 17:44:25,500] Trial 13 finished with value: 0.4 and parameters: {'n_estimators': 96, 'max_depth': None, 'min_samples_split': 11, 'min_samples_leaf': 2, 'max_features': 'sqrt', 'bootstrap': False}. Best is trial 6 with value: 0.7.\n",
      "[I 2024-09-12 17:44:26,042] Trial 14 finished with value: 0.7 and parameters: {'n_estimators': 159, 'max_depth': 20, 'min_samples_split': 2, 'min_samples_leaf': 4, 'max_features': 'sqrt', 'bootstrap': False}. Best is trial 6 with value: 0.7.\n",
      "[I 2024-09-12 17:44:26,384] Trial 15 finished with value: 0.4 and parameters: {'n_estimators': 99, 'max_depth': 40, 'min_samples_split': 10, 'min_samples_leaf': 1, 'max_features': 'sqrt', 'bootstrap': False}. Best is trial 6 with value: 0.7.\n",
      "[I 2024-09-12 17:44:27,011] Trial 16 finished with value: 0.7 and parameters: {'n_estimators': 184, 'max_depth': None, 'min_samples_split': 5, 'min_samples_leaf': 2, 'max_features': 'sqrt', 'bootstrap': False}. Best is trial 6 with value: 0.7.\n",
      "[I 2024-09-12 17:44:27,465] Trial 17 finished with value: 0.4 and parameters: {'n_estimators': 130, 'max_depth': None, 'min_samples_split': 9, 'min_samples_leaf': 4, 'max_features': 'sqrt', 'bootstrap': False}. Best is trial 6 with value: 0.7.\n",
      "[I 2024-09-12 17:44:27,826] Trial 18 finished with value: 0.2 and parameters: {'n_estimators': 74, 'max_depth': None, 'min_samples_split': 12, 'min_samples_leaf': 2, 'max_features': 'log2', 'bootstrap': True}. Best is trial 6 with value: 0.7.\n",
      "[I 2024-09-12 17:44:28,579] Trial 19 finished with value: 0.7 and parameters: {'n_estimators': 225, 'max_depth': 20, 'min_samples_split': 7, 'min_samples_leaf': 1, 'max_features': 'sqrt', 'bootstrap': False}. Best is trial 6 with value: 0.7.\n",
      "[I 2024-09-12 17:44:28,847] Trial 20 finished with value: 0.7 and parameters: {'n_estimators': 75, 'max_depth': 40, 'min_samples_split': 6, 'min_samples_leaf': 3, 'max_features': 'sqrt', 'bootstrap': False}. Best is trial 6 with value: 0.7.\n",
      "[I 2024-09-12 17:44:29,796] Trial 21 finished with value: 0.4 and parameters: {'n_estimators': 266, 'max_depth': 40, 'min_samples_split': 6, 'min_samples_leaf': 5, 'max_features': 'sqrt', 'bootstrap': False}. Best is trial 6 with value: 0.7.\n",
      "[I 2024-09-12 17:44:30,737] Trial 22 finished with value: 0.7 and parameters: {'n_estimators': 281, 'max_depth': 40, 'min_samples_split': 7, 'min_samples_leaf': 3, 'max_features': 'sqrt', 'bootstrap': False}. Best is trial 6 with value: 0.7.\n",
      "[I 2024-09-12 17:44:31,504] Trial 23 finished with value: 0.4 and parameters: {'n_estimators': 231, 'max_depth': 40, 'min_samples_split': 9, 'min_samples_leaf': 2, 'max_features': 'sqrt', 'bootstrap': False}. Best is trial 6 with value: 0.7.\n",
      "[I 2024-09-12 17:44:32,499] Trial 24 finished with value: 0.7 and parameters: {'n_estimators': 299, 'max_depth': 10, 'min_samples_split': 5, 'min_samples_leaf': 1, 'max_features': 'sqrt', 'bootstrap': False}. Best is trial 6 with value: 0.7.\n",
      "[I 2024-09-12 17:44:33,045] Trial 25 finished with value: 0.7 and parameters: {'n_estimators': 160, 'max_depth': 40, 'min_samples_split': 6, 'min_samples_leaf': 4, 'max_features': 'sqrt', 'bootstrap': False}. Best is trial 6 with value: 0.7.\n",
      "[I 2024-09-12 17:44:33,608] Trial 26 finished with value: 0.2 and parameters: {'n_estimators': 119, 'max_depth': None, 'min_samples_split': 4, 'min_samples_leaf': 5, 'max_features': 'log2', 'bootstrap': True}. Best is trial 6 with value: 0.7.\n",
      "[I 2024-09-12 17:44:34,430] Trial 27 finished with value: 0.7 and parameters: {'n_estimators': 243, 'max_depth': None, 'min_samples_split': 8, 'min_samples_leaf': 3, 'max_features': 'sqrt', 'bootstrap': False}. Best is trial 6 with value: 0.7.\n",
      "[I 2024-09-12 17:44:35,111] Trial 28 finished with value: 0.7 and parameters: {'n_estimators': 181, 'max_depth': 40, 'min_samples_split': 7, 'min_samples_leaf': 1, 'max_features': 'sqrt', 'bootstrap': False}. Best is trial 6 with value: 0.7.\n",
      "[I 2024-09-12 17:44:35,581] Trial 29 finished with value: 0.7 and parameters: {'n_estimators': 134, 'max_depth': 30, 'min_samples_split': 2, 'min_samples_leaf': 2, 'max_features': 'log2', 'bootstrap': False}. Best is trial 6 with value: 0.7.\n",
      "[I 2024-09-12 17:44:36,095] Trial 30 finished with value: 0.8 and parameters: {'n_estimators': 148, 'max_depth': 10, 'min_samples_split': 3, 'min_samples_leaf': 1, 'max_features': 'sqrt', 'bootstrap': False}. Best is trial 30 with value: 0.8.\n",
      "[I 2024-09-12 17:44:36,624] Trial 31 finished with value: 0.7 and parameters: {'n_estimators': 150, 'max_depth': 10, 'min_samples_split': 3, 'min_samples_leaf': 1, 'max_features': 'sqrt', 'bootstrap': False}. Best is trial 30 with value: 0.8.\n",
      "[I 2024-09-12 17:44:37,004] Trial 32 finished with value: 0.8 and parameters: {'n_estimators': 107, 'max_depth': 10, 'min_samples_split': 3, 'min_samples_leaf': 1, 'max_features': 'sqrt', 'bootstrap': False}. Best is trial 30 with value: 0.8.\n",
      "[I 2024-09-12 17:44:37,313] Trial 33 finished with value: 0.8 and parameters: {'n_estimators': 85, 'max_depth': 10, 'min_samples_split': 3, 'min_samples_leaf': 1, 'max_features': 'sqrt', 'bootstrap': False}. Best is trial 30 with value: 0.8.\n",
      "[I 2024-09-12 17:44:37,595] Trial 34 finished with value: 0.7 and parameters: {'n_estimators': 75, 'max_depth': 10, 'min_samples_split': 3, 'min_samples_leaf': 2, 'max_features': 'sqrt', 'bootstrap': False}. Best is trial 30 with value: 0.8.\n",
      "[I 2024-09-12 17:44:38,034] Trial 35 finished with value: 0.7 and parameters: {'n_estimators': 111, 'max_depth': 10, 'min_samples_split': 4, 'min_samples_leaf': 1, 'max_features': 'log2', 'bootstrap': False}. Best is trial 30 with value: 0.8.\n",
      "[I 2024-09-12 17:44:38,332] Trial 36 finished with value: 0.8 and parameters: {'n_estimators': 83, 'max_depth': 10, 'min_samples_split': 2, 'min_samples_leaf': 1, 'max_features': 'sqrt', 'bootstrap': False}. Best is trial 30 with value: 0.8.\n",
      "[I 2024-09-12 17:44:38,735] Trial 37 finished with value: 0.7 and parameters: {'n_estimators': 82, 'max_depth': 10, 'min_samples_split': 2, 'min_samples_leaf': 2, 'max_features': 'sqrt', 'bootstrap': True}. Best is trial 30 with value: 0.8.\n",
      "[I 2024-09-12 17:44:39,240] Trial 38 finished with value: 0.8 and parameters: {'n_estimators': 145, 'max_depth': 10, 'min_samples_split': 3, 'min_samples_leaf': 1, 'max_features': 'sqrt', 'bootstrap': False}. Best is trial 30 with value: 0.8.\n",
      "[I 2024-09-12 17:44:39,628] Trial 39 finished with value: 0.7 and parameters: {'n_estimators': 109, 'max_depth': 10, 'min_samples_split': 4, 'min_samples_leaf': 1, 'max_features': 'log2', 'bootstrap': False}. Best is trial 30 with value: 0.8.\n",
      "[I 2024-09-12 17:44:40,055] Trial 40 finished with value: 0.2 and parameters: {'n_estimators': 88, 'max_depth': 10, 'min_samples_split': 15, 'min_samples_leaf': 2, 'max_features': 'sqrt', 'bootstrap': True}. Best is trial 30 with value: 0.8.\n",
      "[I 2024-09-12 17:44:40,568] Trial 41 finished with value: 0.7 and parameters: {'n_estimators': 147, 'max_depth': 10, 'min_samples_split': 3, 'min_samples_leaf': 1, 'max_features': 'sqrt', 'bootstrap': False}. Best is trial 30 with value: 0.8.\n",
      "[I 2024-09-12 17:44:40,997] Trial 42 finished with value: 0.8 and parameters: {'n_estimators': 122, 'max_depth': 10, 'min_samples_split': 2, 'min_samples_leaf': 1, 'max_features': 'sqrt', 'bootstrap': False}. Best is trial 30 with value: 0.8.\n",
      "[I 2024-09-12 17:44:41,578] Trial 43 finished with value: 0.8 and parameters: {'n_estimators': 168, 'max_depth': 10, 'min_samples_split': 3, 'min_samples_leaf': 1, 'max_features': 'sqrt', 'bootstrap': False}. Best is trial 30 with value: 0.8.\n",
      "[I 2024-09-12 17:44:41,952] Trial 44 finished with value: 0.8 and parameters: {'n_estimators': 104, 'max_depth': 10, 'min_samples_split': 4, 'min_samples_leaf': 1, 'max_features': 'sqrt', 'bootstrap': False}. Best is trial 30 with value: 0.8.\n",
      "[I 2024-09-12 17:44:42,179] Trial 45 finished with value: 0.7 and parameters: {'n_estimators': 61, 'max_depth': 10, 'min_samples_split': 2, 'min_samples_leaf': 1, 'max_features': 'sqrt', 'bootstrap': False}. Best is trial 30 with value: 0.8.\n",
      "[I 2024-09-12 17:44:42,870] Trial 46 finished with value: 0.7 and parameters: {'n_estimators': 198, 'max_depth': 30, 'min_samples_split': 3, 'min_samples_leaf': 2, 'max_features': 'sqrt', 'bootstrap': False}. Best is trial 30 with value: 0.8.\n",
      "[I 2024-09-12 17:44:43,377] Trial 47 finished with value: 0.7 and parameters: {'n_estimators': 146, 'max_depth': 10, 'min_samples_split': 5, 'min_samples_leaf': 1, 'max_features': 'sqrt', 'bootstrap': False}. Best is trial 30 with value: 0.8.\n",
      "[I 2024-09-12 17:44:43,811] Trial 48 finished with value: 0.7 and parameters: {'n_estimators': 88, 'max_depth': 10, 'min_samples_split': 3, 'min_samples_leaf': 2, 'max_features': 'sqrt', 'bootstrap': True}. Best is trial 30 with value: 0.8.\n",
      "[I 2024-09-12 17:44:44,293] Trial 49 finished with value: 0.7 and parameters: {'n_estimators': 137, 'max_depth': 10, 'min_samples_split': 4, 'min_samples_leaf': 1, 'max_features': 'sqrt', 'bootstrap': False}. Best is trial 30 with value: 0.8.\n"
     ]
    },
    {
     "name": "stdout",
     "output_type": "stream",
     "text": [
      "Best RandomForestClassifier model trained successfully with hyperparameter tuning using Optuna.\n",
      "Best hyperparameters: {'n_estimators': 148, 'max_depth': 10, 'min_samples_split': 3, 'min_samples_leaf': 1, 'max_features': 'sqrt', 'bootstrap': False}\n",
      "RandomForestClassifier model trained successfully.\n",
      "Accuracies for each target in RandomForestClassifier: [0.7, 0.9]\n"
     ]
    },
    {
     "data": {
      "text/plain": [
       "[0.7, 0.9]"
      ]
     },
     "execution_count": 11,
     "metadata": {},
     "output_type": "execute_result"
    }
   ],
   "source": [
    "model = MLmodel(modelType='RandomForestClassifier', df=input, target=Target, \n",
    "                features=Features, hyperparameter_tuning=True,\n",
    "                feature_types=Feature_types,\n",
    "                train_count=10,\n",
    "                test_count=10,\n",
    "                optimization_method='optuna', objective=lambda trial: objective(trial, model))\n",
    "\n",
    "model.train()\n",
    "predictions = model.predict()\n",
    "model.evaluate()"
   ]
  }
 ],
 "metadata": {
  "kernelspec": {
   "display_name": "Python 3",
   "language": "python",
   "name": "python3"
  },
  "language_info": {
   "codemirror_mode": {
    "name": "ipython",
    "version": 3
   },
   "file_extension": ".py",
   "mimetype": "text/x-python",
   "name": "python",
   "nbconvert_exporter": "python",
   "pygments_lexer": "ipython3",
   "version": "3.10.14"
  }
 },
 "nbformat": 4,
 "nbformat_minor": 2
}
