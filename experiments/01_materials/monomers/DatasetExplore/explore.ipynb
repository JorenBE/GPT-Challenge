{
 "cells": [
  {
   "cell_type": "code",
   "execution_count": 21,
   "metadata": {},
   "outputs": [],
   "source": [
    "import pandas as pd \n",
    "import matplotlib.pyplot as plt\n",
    "\n",
    "import sys\n",
    "sys.path.append(\"/home/jorenvanherck/Documents/gptchallengeV2/gptchem-gptj/plotutils/\")\n",
    "plt.style.use(\"/home/jorenvanherck/Documents/gptchallengeV2/gptchem-gptj/plotutils/kevin.mplstyle\")"
   ]
  },
  {
   "cell_type": "code",
   "execution_count": 22,
   "metadata": {},
   "outputs": [],
   "source": [
    "df = pd.read_csv('train_ben.csv')"
   ]
  },
  {
   "cell_type": "code",
   "execution_count": 23,
   "metadata": {},
   "outputs": [
    {
     "data": {
      "text/html": [
       "<div>\n",
       "<style scoped>\n",
       "    .dataframe tbody tr th:only-of-type {\n",
       "        vertical-align: middle;\n",
       "    }\n",
       "\n",
       "    .dataframe tbody tr th {\n",
       "        vertical-align: top;\n",
       "    }\n",
       "\n",
       "    .dataframe thead th {\n",
       "        text-align: right;\n",
       "    }\n",
       "</style>\n",
       "<table border=\"1\" class=\"dataframe\">\n",
       "  <thead>\n",
       "    <tr style=\"text-align: right;\">\n",
       "      <th></th>\n",
       "      <th>Unnamed: 0</th>\n",
       "      <th>E_coh (MPa)</th>\n",
       "      <th>T_g (K)</th>\n",
       "      <th>R_gyr (A^2)</th>\n",
       "      <th>Densities (kg/m^3)</th>\n",
       "      <th>E_coh_bin</th>\n",
       "      <th>T_g_bin</th>\n",
       "      <th>R_gyr_bin</th>\n",
       "      <th>Densities_bin</th>\n",
       "      <th>smiles_lenght</th>\n",
       "    </tr>\n",
       "  </thead>\n",
       "  <tbody>\n",
       "    <tr>\n",
       "      <th>count</th>\n",
       "      <td>410.000000</td>\n",
       "      <td>410.000000</td>\n",
       "      <td>410.000000</td>\n",
       "      <td>4.100000e+02</td>\n",
       "      <td>410.000000</td>\n",
       "      <td>410.000000</td>\n",
       "      <td>410.000000</td>\n",
       "      <td>410.000000</td>\n",
       "      <td>410.000000</td>\n",
       "      <td>410.000000</td>\n",
       "    </tr>\n",
       "    <tr>\n",
       "      <th>mean</th>\n",
       "      <td>204.500000</td>\n",
       "      <td>560.195630</td>\n",
       "      <td>317.878114</td>\n",
       "      <td>1.313937e-19</td>\n",
       "      <td>1129.886987</td>\n",
       "      <td>0.500000</td>\n",
       "      <td>0.500000</td>\n",
       "      <td>0.500000</td>\n",
       "      <td>0.500000</td>\n",
       "      <td>29.800000</td>\n",
       "    </tr>\n",
       "    <tr>\n",
       "      <th>std</th>\n",
       "      <td>118.501055</td>\n",
       "      <td>154.255325</td>\n",
       "      <td>54.945007</td>\n",
       "      <td>1.633922e-19</td>\n",
       "      <td>157.443424</td>\n",
       "      <td>0.500611</td>\n",
       "      <td>0.500611</td>\n",
       "      <td>0.500611</td>\n",
       "      <td>0.500611</td>\n",
       "      <td>13.866602</td>\n",
       "    </tr>\n",
       "    <tr>\n",
       "      <th>min</th>\n",
       "      <td>0.000000</td>\n",
       "      <td>48.359557</td>\n",
       "      <td>196.493712</td>\n",
       "      <td>1.383725e-20</td>\n",
       "      <td>157.166117</td>\n",
       "      <td>0.000000</td>\n",
       "      <td>0.000000</td>\n",
       "      <td>0.000000</td>\n",
       "      <td>0.000000</td>\n",
       "      <td>4.000000</td>\n",
       "    </tr>\n",
       "    <tr>\n",
       "      <th>25%</th>\n",
       "      <td>102.250000</td>\n",
       "      <td>471.353107</td>\n",
       "      <td>278.700144</td>\n",
       "      <td>7.201439e-20</td>\n",
       "      <td>1045.068583</td>\n",
       "      <td>0.000000</td>\n",
       "      <td>0.000000</td>\n",
       "      <td>0.000000</td>\n",
       "      <td>0.000000</td>\n",
       "      <td>21.000000</td>\n",
       "    </tr>\n",
       "    <tr>\n",
       "      <th>50%</th>\n",
       "      <td>204.500000</td>\n",
       "      <td>550.250058</td>\n",
       "      <td>319.636715</td>\n",
       "      <td>9.704992e-20</td>\n",
       "      <td>1132.256118</td>\n",
       "      <td>0.500000</td>\n",
       "      <td>0.500000</td>\n",
       "      <td>0.500000</td>\n",
       "      <td>0.500000</td>\n",
       "      <td>26.000000</td>\n",
       "    </tr>\n",
       "    <tr>\n",
       "      <th>75%</th>\n",
       "      <td>306.750000</td>\n",
       "      <td>629.562207</td>\n",
       "      <td>360.126148</td>\n",
       "      <td>1.494501e-19</td>\n",
       "      <td>1196.112755</td>\n",
       "      <td>1.000000</td>\n",
       "      <td>1.000000</td>\n",
       "      <td>1.000000</td>\n",
       "      <td>1.000000</td>\n",
       "      <td>36.000000</td>\n",
       "    </tr>\n",
       "    <tr>\n",
       "      <th>max</th>\n",
       "      <td>409.000000</td>\n",
       "      <td>1325.912207</td>\n",
       "      <td>754.456201</td>\n",
       "      <td>2.264474e-18</td>\n",
       "      <td>1842.109784</td>\n",
       "      <td>1.000000</td>\n",
       "      <td>1.000000</td>\n",
       "      <td>1.000000</td>\n",
       "      <td>1.000000</td>\n",
       "      <td>85.000000</td>\n",
       "    </tr>\n",
       "  </tbody>\n",
       "</table>\n",
       "</div>"
      ],
      "text/plain": [
       "       Unnamed: 0  E_coh (MPa)     T_g (K)   R_gyr (A^2)  Densities (kg/m^3)  \\\n",
       "count  410.000000   410.000000  410.000000  4.100000e+02          410.000000   \n",
       "mean   204.500000   560.195630  317.878114  1.313937e-19         1129.886987   \n",
       "std    118.501055   154.255325   54.945007  1.633922e-19          157.443424   \n",
       "min      0.000000    48.359557  196.493712  1.383725e-20          157.166117   \n",
       "25%    102.250000   471.353107  278.700144  7.201439e-20         1045.068583   \n",
       "50%    204.500000   550.250058  319.636715  9.704992e-20         1132.256118   \n",
       "75%    306.750000   629.562207  360.126148  1.494501e-19         1196.112755   \n",
       "max    409.000000  1325.912207  754.456201  2.264474e-18         1842.109784   \n",
       "\n",
       "        E_coh_bin     T_g_bin   R_gyr_bin  Densities_bin  smiles_lenght  \n",
       "count  410.000000  410.000000  410.000000     410.000000     410.000000  \n",
       "mean     0.500000    0.500000    0.500000       0.500000      29.800000  \n",
       "std      0.500611    0.500611    0.500611       0.500611      13.866602  \n",
       "min      0.000000    0.000000    0.000000       0.000000       4.000000  \n",
       "25%      0.000000    0.000000    0.000000       0.000000      21.000000  \n",
       "50%      0.500000    0.500000    0.500000       0.500000      26.000000  \n",
       "75%      1.000000    1.000000    1.000000       1.000000      36.000000  \n",
       "max      1.000000    1.000000    1.000000       1.000000      85.000000  "
      ]
     },
     "execution_count": 23,
     "metadata": {},
     "output_type": "execute_result"
    }
   ],
   "source": [
    "df.describe()"
   ]
  },
  {
   "cell_type": "code",
   "execution_count": 24,
   "metadata": {},
   "outputs": [
    {
     "data": {
      "text/plain": [
       "E_coh (MPa)           5.502501e+02\n",
       "T_g (K)               3.196367e+02\n",
       "R_gyr (A^2)           9.704992e-20\n",
       "Densities (kg/m^3)    1.132256e+03\n",
       "dtype: float64"
      ]
     },
     "execution_count": 24,
     "metadata": {},
     "output_type": "execute_result"
    }
   ],
   "source": [
    "df_properties = df[['E_coh (MPa)', 'T_g (K)', 'R_gyr (A^2)','Densities (kg/m^3)']]\n",
    "df_properties.median()"
   ]
  },
  {
   "cell_type": "markdown",
   "metadata": {},
   "source": [
    "# Plot histogram"
   ]
  },
  {
   "cell_type": "code",
   "execution_count": 25,
   "metadata": {},
   "outputs": [
    {
     "data": {
      "image/png": "[encoded data removed]",
      "text/plain": [
       "<Figure size 500x300 with 4 Axes>"
      ]
     },
     "metadata": {},
     "output_type": "display_data"
    }
   ],
   "source": [
    "titles = {'E_coh (MPa)': 'cohesive energy', \n",
    "          'T_g (K)': 'glass transition\\ntemperature', \n",
    "          'R_gyr (A^2)': 'squared\\nradius of gyration',\n",
    "          'Densities (kg/m^3)': 'density'}\n",
    "\n",
    "fig, axes = plt.subplots(2,2, tight_layout = True, figsize = (5,3))\n",
    "\n",
    "for i, prop in zip(axes.flatten(), list(df_properties.columns)):\n",
    "    if prop == 'R_gyr (A^2)':\n",
    "        i.hist([i for i in df_properties[prop] if i < 0.5e-18], bins = 20)\n",
    "    else:\n",
    "        i.hist(df_properties[prop], bins = 20)\n",
    "    i.set_xlabel(titles[prop])\n",
    "\n",
    "plt.savefig('monomers_histograms.pdf', bbox_inches = 'tight')"
   ]
  },
  {
   "cell_type": "code",
   "execution_count": 26,
   "metadata": {},
   "outputs": [],
   "source": [
    "df.to_csv('train_ben.csv')"
   ]
  }
 ],
 "metadata": {
  "kernelspec": {
   "display_name": "gptchallenge",
   "language": "python",
   "name": "python3"
  },
  "language_info": {
   "codemirror_mode": {
    "name": "ipython",
    "version": 3
   },
   "file_extension": ".py",
   "mimetype": "text/x-python",
   "name": "python",
   "nbconvert_exporter": "python",
   "pygments_lexer": "ipython3",
   "version": "3.10.12"
  }
 },
 "nbformat": 4,
 "nbformat_minor": 2
}
