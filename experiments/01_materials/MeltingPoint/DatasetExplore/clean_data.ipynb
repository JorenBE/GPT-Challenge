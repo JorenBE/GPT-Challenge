{
 "cells": [
  {
   "cell_type": "code",
   "execution_count": 15,
   "metadata": {},
   "outputs": [],
   "source": [
    "import pandas as pd \n",
    "import matplotlib.pyplot as plt \n",
    "import numpy as np\n",
    "\n",
    "import sys\n",
    "sys.path.append(\"/home/jorenvanherck/Documents/gptchallengeV2/gptchem-gptj/plotutils/\")\n",
    "from plotutils import *\n",
    "\n",
    "plt.style.use(\"/home/jorenvanherck/Documents/gptchallengeV2/gptchem-gptj/plotutils/kevin.mplstyle\")"
   ]
  },
  {
   "cell_type": "code",
   "execution_count": 16,
   "metadata": {},
   "outputs": [],
   "source": [
    "df = pd.read_csv('ochem_clean.csv')"
   ]
  },
  {
   "cell_type": "code",
   "execution_count": 17,
   "metadata": {},
   "outputs": [],
   "source": [
    "df['mp_bin'] = pd.qcut(df['mp'], 2, labels=[0,1])\n",
    "df['len_smiles'] = [len(smiles) for smiles in df['SMILES']]"
   ]
  },
  {
   "cell_type": "code",
   "execution_count": 18,
   "metadata": {},
   "outputs": [
    {
     "data": {
      "text/html": [
       "<div>\n",
       "<style scoped>\n",
       "    .dataframe tbody tr th:only-of-type {\n",
       "        vertical-align: middle;\n",
       "    }\n",
       "\n",
       "    .dataframe tbody tr th {\n",
       "        vertical-align: top;\n",
       "    }\n",
       "\n",
       "    .dataframe thead th {\n",
       "        text-align: right;\n",
       "    }\n",
       "</style>\n",
       "<table border=\"1\" class=\"dataframe\">\n",
       "  <thead>\n",
       "    <tr style=\"text-align: right;\">\n",
       "      <th></th>\n",
       "      <th>SMILES</th>\n",
       "      <th>mp</th>\n",
       "      <th>NAME</th>\n",
       "      <th>Melting Point</th>\n",
       "      <th>mp_bin</th>\n",
       "      <th>len_smiles</th>\n",
       "    </tr>\n",
       "  </thead>\n",
       "  <tbody>\n",
       "    <tr>\n",
       "      <th>0</th>\n",
       "      <td>C(CCC)C1=NC=CC2=C(C=CC=C12)[N+](=O)[O-]</td>\n",
       "      <td>69.25</td>\n",
       "      <td>1-n-butyl-5-nitro-isoquinoline</td>\n",
       "      <td>69.0 - 69.5</td>\n",
       "      <td>0</td>\n",
       "      <td>39</td>\n",
       "    </tr>\n",
       "    <tr>\n",
       "      <th>1</th>\n",
       "      <td>ClC=1N=CC2=CC=CC(=C2C1)N</td>\n",
       "      <td>176.50</td>\n",
       "      <td>3-chloro-5-amino-isoquinoline</td>\n",
       "      <td>176.0 - 177.0</td>\n",
       "      <td>1</td>\n",
       "      <td>24</td>\n",
       "    </tr>\n",
       "    <tr>\n",
       "      <th>2</th>\n",
       "      <td>ClC1=NC(=CC2=C(C=CC=C12)[N+](=O)[O-])C</td>\n",
       "      <td>112.00</td>\n",
       "      <td>1-chloro-3-methyl-5-nitro-isoquinoline</td>\n",
       "      <td>112.0</td>\n",
       "      <td>0</td>\n",
       "      <td>38</td>\n",
       "    </tr>\n",
       "    <tr>\n",
       "      <th>3</th>\n",
       "      <td>C(CCCCCCCCCCC)C=1C(C=CC(C1)=O)=S</td>\n",
       "      <td>131.50</td>\n",
       "      <td>2-dodecylthio-p-benzoquinone</td>\n",
       "      <td>131.0 - 132.0</td>\n",
       "      <td>0</td>\n",
       "      <td>32</td>\n",
       "    </tr>\n",
       "    <tr>\n",
       "      <th>4</th>\n",
       "      <td>[N+](=O)([O-])OCC12CC(C3C4(C=CC(C=C4CCC3C1CCC2...</td>\n",
       "      <td>163.00</td>\n",
       "      <td>11,18-dihydroxy-pregna-1,4-diene-3,20-dione 18...</td>\n",
       "      <td>162.0 - 164.0</td>\n",
       "      <td>1</td>\n",
       "      <td>59</td>\n",
       "    </tr>\n",
       "    <tr>\n",
       "      <th>...</th>\n",
       "      <td>...</td>\n",
       "      <td>...</td>\n",
       "      <td>...</td>\n",
       "      <td>...</td>\n",
       "      <td>...</td>\n",
       "      <td>...</td>\n",
       "    </tr>\n",
       "    <tr>\n",
       "      <th>274978</th>\n",
       "      <td>CS(=O)(=O)C1CCN(CC1)CC2=CC=C(COC3=C4CN(C(C4=CC...</td>\n",
       "      <td>174.00</td>\n",
       "      <td>3-(4-((4-((4-(methylsulfonyl)piperidin-1-yl)me...</td>\n",
       "      <td>173.0 - 175.0</td>\n",
       "      <td>1</td>\n",
       "      <td>74</td>\n",
       "    </tr>\n",
       "    <tr>\n",
       "      <th>274979</th>\n",
       "      <td>C(C)OC(OC=1C(NC(C1C2=C(C=CC(=C2)C)C)=O)CC3CCS(...</td>\n",
       "      <td>88.00</td>\n",
       "      <td>carbonic acid 4-(2,5-dimethyl-phenyl)-5-oxo-2-...</td>\n",
       "      <td>87.0 - 89.0</td>\n",
       "      <td>0</td>\n",
       "      <td>72</td>\n",
       "    </tr>\n",
       "    <tr>\n",
       "      <th>274980</th>\n",
       "      <td>C(C)(C)(C)OC(C(NC(=O)OCC1=CC=CC=2C3=CC=CC=C3CC...</td>\n",
       "      <td>53.00</td>\n",
       "      <td>N-Fluorenylmethoxycarbonyl-S-[2,3-bis(palmitoy...</td>\n",
       "      <td>52.0 - 54.0</td>\n",
       "      <td>0</td>\n",
       "      <td>101</td>\n",
       "    </tr>\n",
       "    <tr>\n",
       "      <th>274981</th>\n",
       "      <td>C1(=CC=CC=2C3=CC=CC=C3CC12)COC(=O)NC(CSCC(COC(...</td>\n",
       "      <td>83.00</td>\n",
       "      <td>N-Fluorenylmethoxycarbonyl-S-[2,3-bis(palmitoy...</td>\n",
       "      <td>82.0 - 84.0</td>\n",
       "      <td>0</td>\n",
       "      <td>93</td>\n",
       "    </tr>\n",
       "    <tr>\n",
       "      <th>274982</th>\n",
       "      <td>C(C)OC(CN1C(C2=C(N(C(C2=C1C=3OC4=C(C3)C=C(C=C4...</td>\n",
       "      <td>195.00</td>\n",
       "      <td>2,5-Di(2,2-diethoxyethyl)-1,4-diketo-3,6-di(5,...</td>\n",
       "      <td>194.0 - 196.0</td>\n",
       "      <td>1</td>\n",
       "      <td>122</td>\n",
       "    </tr>\n",
       "  </tbody>\n",
       "</table>\n",
       "<p>274983 rows × 6 columns</p>\n",
       "</div>"
      ],
      "text/plain": [
       "                                                   SMILES      mp  \\\n",
       "0                 C(CCC)C1=NC=CC2=C(C=CC=C12)[N+](=O)[O-]   69.25   \n",
       "1                                ClC=1N=CC2=CC=CC(=C2C1)N  176.50   \n",
       "2                  ClC1=NC(=CC2=C(C=CC=C12)[N+](=O)[O-])C  112.00   \n",
       "3                        C(CCCCCCCCCCC)C=1C(C=CC(C1)=O)=S  131.50   \n",
       "4       [N+](=O)([O-])OCC12CC(C3C4(C=CC(C=C4CCC3C1CCC2...  163.00   \n",
       "...                                                   ...     ...   \n",
       "274978  CS(=O)(=O)C1CCN(CC1)CC2=CC=C(COC3=C4CN(C(C4=CC...  174.00   \n",
       "274979  C(C)OC(OC=1C(NC(C1C2=C(C=CC(=C2)C)C)=O)CC3CCS(...   88.00   \n",
       "274980  C(C)(C)(C)OC(C(NC(=O)OCC1=CC=CC=2C3=CC=CC=C3CC...   53.00   \n",
       "274981  C1(=CC=CC=2C3=CC=CC=C3CC12)COC(=O)NC(CSCC(COC(...   83.00   \n",
       "274982  C(C)OC(CN1C(C2=C(N(C(C2=C1C=3OC4=C(C3)C=C(C=C4...  195.00   \n",
       "\n",
       "                                                     NAME  Melting Point  \\\n",
       "0                          1-n-butyl-5-nitro-isoquinoline    69.0 - 69.5   \n",
       "1                           3-chloro-5-amino-isoquinoline  176.0 - 177.0   \n",
       "2                  1-chloro-3-methyl-5-nitro-isoquinoline          112.0   \n",
       "3                            2-dodecylthio-p-benzoquinone  131.0 - 132.0   \n",
       "4       11,18-dihydroxy-pregna-1,4-diene-3,20-dione 18...  162.0 - 164.0   \n",
       "...                                                   ...            ...   \n",
       "274978  3-(4-((4-((4-(methylsulfonyl)piperidin-1-yl)me...  173.0 - 175.0   \n",
       "274979  carbonic acid 4-(2,5-dimethyl-phenyl)-5-oxo-2-...    87.0 - 89.0   \n",
       "274980  N-Fluorenylmethoxycarbonyl-S-[2,3-bis(palmitoy...    52.0 - 54.0   \n",
       "274981  N-Fluorenylmethoxycarbonyl-S-[2,3-bis(palmitoy...    82.0 - 84.0   \n",
       "274982  2,5-Di(2,2-diethoxyethyl)-1,4-diketo-3,6-di(5,...  194.0 - 196.0   \n",
       "\n",
       "       mp_bin  len_smiles  \n",
       "0           0          39  \n",
       "1           1          24  \n",
       "2           0          38  \n",
       "3           0          32  \n",
       "4           1          59  \n",
       "...       ...         ...  \n",
       "274978      1          74  \n",
       "274979      0          72  \n",
       "274980      0         101  \n",
       "274981      0          93  \n",
       "274982      1         122  \n",
       "\n",
       "[274983 rows x 6 columns]"
      ]
     },
     "execution_count": 18,
     "metadata": {},
     "output_type": "execute_result"
    }
   ],
   "source": [
    "df"
   ]
  },
  {
   "cell_type": "code",
   "execution_count": 19,
   "metadata": {},
   "outputs": [],
   "source": [
    "import random\n",
    "\n",
    "df['SMILES_random'] = [''.join(random.sample(list(i), len(list(i)))) for i in df['SMILES']]\n",
    "df['name_smiles'] = [f\"{name} ({smiles})\" for name, smiles in zip(df['NAME'], df['SMILES'])]"
   ]
  },
  {
   "cell_type": "markdown",
   "metadata": {},
   "source": [
    "# Plot histogram"
   ]
  },
  {
   "cell_type": "code",
   "execution_count": 20,
   "metadata": {},
   "outputs": [
    {
     "data": {
      "image/png": "[encoded data removed]",
      "text/plain": [
       "<Figure size 330x250 with 1 Axes>"
      ]
     },
     "metadata": {},
     "output_type": "display_data"
    }
   ],
   "source": [
    "df['mp'].hist()\n",
    "plt.tight_layout()\n",
    "plt.xlabel('Melting Point / $^\\circ$C')\n",
    "plt.savefig('MeltingPoint_hist.pdf', bbox_inches='tight')"
   ]
  },
  {
   "cell_type": "code",
   "execution_count": 21,
   "metadata": {},
   "outputs": [
    {
     "data": {
      "text/plain": [
       "<matplotlib.collections.PathCollection at 0x7fd04d0a8a30>"
      ]
     },
     "execution_count": 21,
     "metadata": {},
     "output_type": "execute_result"
    },
    {
     "data": {
      "image/png": "[encoded data removed]",
      "text/plain": [
       "<Figure size 330x250 with 1 Axes>"
      ]
     },
     "metadata": {},
     "output_type": "display_data"
    }
   ],
   "source": [
    "plt.scatter(df['len_smiles'], df['mp'])"
   ]
  },
  {
   "attachments": {},
   "cell_type": "markdown",
   "metadata": {},
   "source": [
    "Drop the entries that do not even have SMILES or metal source."
   ]
  },
  {
   "cell_type": "code",
   "execution_count": 22,
   "metadata": {},
   "outputs": [],
   "source": [
    "df_nodupli = df.drop_duplicates('NAME')\n",
    "df_nodupli = df_nodupli.drop_duplicates('SMILES')"
   ]
  },
  {
   "cell_type": "code",
   "execution_count": 23,
   "metadata": {},
   "outputs": [],
   "source": [
    "df_nodupli.to_csv('train_meltingPoint_noDuplicates.csv')"
   ]
  }
 ],
 "metadata": {
  "kernelspec": {
   "display_name": "gptchem",
   "language": "python",
   "name": "python3"
  },
  "language_info": {
   "codemirror_mode": {
    "name": "ipython",
    "version": 3
   },
   "file_extension": ".py",
   "mimetype": "text/x-python",
   "name": "python",
   "nbconvert_exporter": "python",
   "pygments_lexer": "ipython3",
   "version": "3.10.12"
  },
  "orig_nbformat": 4
 },
 "nbformat": 4,
 "nbformat_minor": 2
}
