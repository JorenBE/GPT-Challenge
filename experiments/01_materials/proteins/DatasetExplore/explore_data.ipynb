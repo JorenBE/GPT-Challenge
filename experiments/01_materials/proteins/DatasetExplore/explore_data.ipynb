{
 "cells": [
  {
   "cell_type": "code",
   "execution_count": 1,
   "metadata": {},
   "outputs": [],
   "source": [
    "import pandas as pd\n",
    "import sys\n",
    "import matplotlib.pyplot as plt\n",
    "\n",
    "sys.path.append(\"/home/jorenvanherck/Documents/gptchallengeV2/gptchem-gptj/plotutils/\")\n",
    "from plotutils import *\n",
    "\n",
    "plt.style.use(\"/home/jorenvanherck/Documents/gptchallengeV2/gptchem-gptj/plotutils/kevin.mplstyle\")\n"
   ]
  },
  {
   "cell_type": "markdown",
   "metadata": {},
   "source": [
    "# Read Data"
   ]
  },
  {
   "cell_type": "code",
   "execution_count": 2,
   "metadata": {},
   "outputs": [
    {
     "name": "stdout",
     "output_type": "stream",
     "text": [
      "MIN entries: 84\n",
      "PLUS entries: 137\n",
      "PDB entries: 1562\n"
     ]
    }
   ],
   "source": [
    "FILE_MIN = 'data/llps_minus.csv'\n",
    "FILE_PLUS = 'data/llps_plus.csv'\n",
    "FILE_PDB = 'data/pdb30.csv'\n",
    "\n",
    "df_minus = pd.read_csv(FILE_MIN, index_col=0)\n",
    "df_plus = pd.read_csv(FILE_PLUS)\n",
    "df_pdb= pd.read_csv(FILE_PDB)\n",
    "\n",
    "print(f'MIN entries: {len(df_minus)}')\n",
    "print(f'PLUS entries: {len(df_plus)}')\n",
    "print(f'PDB entries: {len(df_pdb)}')"
   ]
  },
  {
   "cell_type": "markdown",
   "metadata": {},
   "source": [
    "# Plot Pie"
   ]
  },
  {
   "cell_type": "code",
   "execution_count": 3,
   "metadata": {},
   "outputs": [
    {
     "name": "stdout",
     "output_type": "stream",
     "text": [
      "1783\n",
      "Labels: ('LLPS+', 'PDB', 'LLPS-')\n",
      "Sizes: [137, 1562, 84]\n",
      "Percentage: [0.07683679192372406, 0.876051598429613, 0.04711160964666293]\n"
     ]
    },
    {
     "data": {
      "image/png": "[encoded data removed]",
      "text/plain": [
       "<Figure size 330x250 with 1 Axes>"
      ]
     },
     "metadata": {},
     "output_type": "display_data"
    }
   ],
   "source": [
    "labels = 'LLPS+', 'PDB', 'LLPS-'\n",
    "sizes = [len(df_plus), len(df_pdb), len(df_minus)]\n",
    "total = sum(sizes)\n",
    "print(total)\n",
    "print(f'Labels: {labels}')\n",
    "print(f'Sizes: {sizes}')\n",
    "print(f'Percentage: {[s/total for s in sizes]}')\n",
    "\n",
    "fig, ax = plt.subplots()\n",
    "ax.pie(sizes, labels=labels)\n",
    "\n",
    "fig.savefig('proteins_histogram.pdf')"
   ]
  },
  {
   "cell_type": "markdown",
   "metadata": {},
   "source": [
    "# Lenght of Sequence"
   ]
  },
  {
   "cell_type": "markdown",
   "metadata": {},
   "source": [
    "Checking the lenght of the sequences in the different subgroups"
   ]
  },
  {
   "cell_type": "code",
   "execution_count": 4,
   "metadata": {},
   "outputs": [],
   "source": [
    "df_minus['lenght'] = [len(seq) for seq in df_minus['Sequence']]\n",
    "df_plus['lenght'] = [len(seq) for seq in df_plus['Sequence']]\n",
    "df_pdb['lenght'] = [len(seq) for seq in df_pdb['seq']]"
   ]
  },
  {
   "cell_type": "code",
   "execution_count": 5,
   "metadata": {},
   "outputs": [
    {
     "data": {
      "text/plain": [
       "Text(0.5, 0, 'Lenght')"
      ]
     },
     "execution_count": 5,
     "metadata": {},
     "output_type": "execute_result"
    },
    {
     "data": {
      "image/png": "[encoded data removed]",
      "text/plain": [
       "<Figure size 330x250 with 1 Axes>"
      ]
     },
     "metadata": {},
     "output_type": "display_data"
    }
   ],
   "source": [
    "fig, ax = plt.subplots(1,1)\n",
    "df_minus.hist('lenght', ax= ax, alpha = 0.6, density = 1, color = 'orange', label = 'LLPS-')\n",
    "df_plus.hist('lenght',ax = ax, alpha = 0.6, density = 1, color = 'skyblue', label = 'LLPS+')\n",
    "df_pdb.hist('lenght',ax = ax, alpha = 0.5, density = 1, color = 'forestgreen', label = 'PDB')\n",
    "\n",
    "ax.legend()\n",
    "ax.set_title('Lenght of Sequence')\n",
    "ax.set_xlabel('Lenght')"
   ]
  },
  {
   "cell_type": "markdown",
   "metadata": {},
   "source": [
    "# Creates Bins"
   ]
  },
  {
   "cell_type": "code",
   "execution_count": 6,
   "metadata": {},
   "outputs": [],
   "source": [
    "df_minus['min_plus'] = 0\n",
    "df_plus['min_plus'] = 1\n",
    "\n",
    "df_minus['min_pdb'] = 0\n",
    "df_pdb['min_pdb'] = 1\n",
    "\n",
    "df_pdb['pdb_plus'] = 0\n",
    "df_plus['pdb_plus'] = 1"
   ]
  },
  {
   "cell_type": "code",
   "execution_count": 7,
   "metadata": {},
   "outputs": [
    {
     "name": "stdout",
     "output_type": "stream",
     "text": [
      "min_plus\n",
      "NaN    1562\n",
      "1.0     137\n",
      "0.0      84\n",
      "Name: count, dtype: int64\n"
     ]
    }
   ],
   "source": [
    "df_combined = pd.concat([df_minus, df_plus, df_pdb])\n",
    "print(df_combined['min_plus'].value_counts(dropna=False))"
   ]
  },
  {
   "cell_type": "markdown",
   "metadata": {},
   "source": [
    "# Update csv file"
   ]
  },
  {
   "cell_type": "code",
   "execution_count": 8,
   "metadata": {},
   "outputs": [],
   "source": [
    "import random"
   ]
  },
  {
   "cell_type": "code",
   "execution_count": 9,
   "metadata": {},
   "outputs": [],
   "source": [
    "df_all = pd.read_csv('LLPS_all.csv')\n",
    "df_all['lenght'] = [len(seq) for seq in df_all['Sequence']]\n",
    "df_all['first_20'] = [seq[0:20] for seq in df_all['Sequence']]\n",
    "df_all['lenght'] = [len(seq) for seq in df_all['Sequence']]\n",
    "\n",
    "df_all['shuffle_seq'] = df_all['Sequence'].apply(lambda seq: ''.join(random.sample(seq, len(seq))))\n"
   ]
  },
  {
   "cell_type": "code",
   "execution_count": 15,
   "metadata": {},
   "outputs": [
    {
     "data": {
      "text/html": [
       "<div>\n",
       "<style scoped>\n",
       "    .dataframe tbody tr th:only-of-type {\n",
       "        vertical-align: middle;\n",
       "    }\n",
       "\n",
       "    .dataframe tbody tr th {\n",
       "        vertical-align: top;\n",
       "    }\n",
       "\n",
       "    .dataframe thead th {\n",
       "        text-align: right;\n",
       "    }\n",
       "</style>\n",
       "<table border=\"1\" class=\"dataframe\">\n",
       "  <thead>\n",
       "    <tr style=\"text-align: right;\">\n",
       "      <th></th>\n",
       "      <th>Sequence</th>\n",
       "      <th>Uniprot_ID</th>\n",
       "      <th>min_plus</th>\n",
       "      <th>min_pdb</th>\n",
       "      <th>pdb_plus</th>\n",
       "      <th>lenght</th>\n",
       "      <th>first_20</th>\n",
       "      <th>shuffle_seq</th>\n",
       "    </tr>\n",
       "  </thead>\n",
       "  <tbody>\n",
       "    <tr>\n",
       "      <th>0</th>\n",
       "      <td>GQNTRWNNLDAPPSRGTSKWENRGARDERIEQELFSGQLSGINFDK...</td>\n",
       "      <td>D0PV95</td>\n",
       "      <td>0.0</td>\n",
       "      <td>0.0</td>\n",
       "      <td>NaN</td>\n",
       "      <td>541</td>\n",
       "      <td>GQNTRWNNLDAPPSRGTSKW</td>\n",
       "      <td>GGPSYPEVEKENIIHFNLRDFQVGMSRLRHRGNSRLAALDEPSHEG...</td>\n",
       "    </tr>\n",
       "    <tr>\n",
       "      <th>1</th>\n",
       "      <td>NTIFVQGLGENVTIESVADYFKQIGIIKTNKKTGQPMINLYTDRET...</td>\n",
       "      <td>P35637</td>\n",
       "      <td>0.0</td>\n",
       "      <td>0.0</td>\n",
       "      <td>NaN</td>\n",
       "      <td>242</td>\n",
       "      <td>NTIFVQGLGENVTIESVADY</td>\n",
       "      <td>DCMNTDNRGNFGGFPTWNKDGGSGGHQKTFPRKKGRFDAPYRGCGG...</td>\n",
       "    </tr>\n",
       "    <tr>\n",
       "      <th>2</th>\n",
       "      <td>MSKSESPKEPEQLRKLFIGGLSFETTDESLRSHFEQWGTLTDCVVM...</td>\n",
       "      <td>P09651-2</td>\n",
       "      <td>0.0</td>\n",
       "      <td>0.0</td>\n",
       "      <td>NaN</td>\n",
       "      <td>320</td>\n",
       "      <td>MSKSESPKEPEQLRKLFIGG</td>\n",
       "      <td>QDDKGASSSGSSERGSFEIGYPFGAREFGGMFPDNHGDPHGARGVT...</td>\n",
       "    </tr>\n",
       "    <tr>\n",
       "      <th>3</th>\n",
       "      <td>DRRGGRGGYDRGGYRGRGGDRGGFRGGRGGGDRGGFGPGK</td>\n",
       "      <td>P35637</td>\n",
       "      <td>0.0</td>\n",
       "      <td>0.0</td>\n",
       "      <td>NaN</td>\n",
       "      <td>40</td>\n",
       "      <td>DRRGGRGGYDRGGYRGRGGD</td>\n",
       "      <td>DGRRPGGGRGGGGRRGRRGGYRFDGGDKGGGGFRGDGYRG</td>\n",
       "    </tr>\n",
       "    <tr>\n",
       "      <th>4</th>\n",
       "      <td>MASNDYTQQATQSYGAYPTQPGQGYSQQSSQPYGQQSYSGYSQSTD...</td>\n",
       "      <td>P35637</td>\n",
       "      <td>0.0</td>\n",
       "      <td>0.0</td>\n",
       "      <td>NaN</td>\n",
       "      <td>163</td>\n",
       "      <td>MASNDYTQQATQSYGAYPTQ</td>\n",
       "      <td>GSGSTQGGSGSGSQQSQQQQSQQYASYTQDPYQYYQYSQYYSSSQY...</td>\n",
       "    </tr>\n",
       "    <tr>\n",
       "      <th>...</th>\n",
       "      <td>...</td>\n",
       "      <td>...</td>\n",
       "      <td>...</td>\n",
       "      <td>...</td>\n",
       "      <td>...</td>\n",
       "      <td>...</td>\n",
       "      <td>...</td>\n",
       "      <td>...</td>\n",
       "    </tr>\n",
       "    <tr>\n",
       "      <th>1778</th>\n",
       "      <td>MANFLTKNFVWILAAGVGVWFYQKADNAAKTATKPIADFLAELQFL...</td>\n",
       "      <td>NaN</td>\n",
       "      <td>NaN</td>\n",
       "      <td>1.0</td>\n",
       "      <td>0.0</td>\n",
       "      <td>127</td>\n",
       "      <td>MANFLTKNFVWILAAGVGVW</td>\n",
       "      <td>LPYDDNGTDLVAEKHFLLRDSYARFFAVNSWILGAAVVKIDVGTEA...</td>\n",
       "    </tr>\n",
       "    <tr>\n",
       "      <th>1779</th>\n",
       "      <td>MIVKKKLAAGEFAETFKNGNNITIIKAVGELVLRAYGADGGEGLRT...</td>\n",
       "      <td>NaN</td>\n",
       "      <td>NaN</td>\n",
       "      <td>1.0</td>\n",
       "      <td>0.0</td>\n",
       "      <td>335</td>\n",
       "      <td>MIVKKKLAAGEFAETFKNGN</td>\n",
       "      <td>LEYRGDFVAEYKGELVVYGSDEVFFSDVGTKSGEAPRGEDGMGSNS...</td>\n",
       "    </tr>\n",
       "    <tr>\n",
       "      <th>1780</th>\n",
       "      <td>MINMTRKLYYEDAYLKEAKGRVLEIRDNAILLDQTIFYPTGGGQPH...</td>\n",
       "      <td>NaN</td>\n",
       "      <td>NaN</td>\n",
       "      <td>1.0</td>\n",
       "      <td>0.0</td>\n",
       "      <td>216</td>\n",
       "      <td>MINMTRKLYYEDAYLKEAKG</td>\n",
       "      <td>YQIKRYMLLNKEFGINMVLVNHKADTRRGNLVGGDKYHVGGAGYLI...</td>\n",
       "    </tr>\n",
       "    <tr>\n",
       "      <th>1781</th>\n",
       "      <td>MMTALETRLSVADGTHAAALRQRLQAALAECRRELARGACPEHFQF...</td>\n",
       "      <td>NaN</td>\n",
       "      <td>NaN</td>\n",
       "      <td>1.0</td>\n",
       "      <td>0.0</td>\n",
       "      <td>67</td>\n",
       "      <td>MMTALETRLSVADGTHAAAL</td>\n",
       "      <td>RDRCEITGARHAAALFSQALTVPLTQEDRALEQGRMCHTLEAALSA...</td>\n",
       "    </tr>\n",
       "    <tr>\n",
       "      <th>1782</th>\n",
       "      <td>MMSMDFEDFPVESAHRILTPRPTVMVTTVDEEGNINAAPFSFTMPV...</td>\n",
       "      <td>NaN</td>\n",
       "      <td>NaN</td>\n",
       "      <td>1.0</td>\n",
       "      <td>0.0</td>\n",
       "      <td>186</td>\n",
       "      <td>MMSMDFEDFPVESAHRILTP</td>\n",
       "      <td>LAAAMVPLMVVEIVGHFVGTLPSRENASRMSNDDHWEPLEPLDNSE...</td>\n",
       "    </tr>\n",
       "  </tbody>\n",
       "</table>\n",
       "<p>1783 rows × 8 columns</p>\n",
       "</div>"
      ],
      "text/plain": [
       "                                               Sequence Uniprot_ID  min_plus  \\\n",
       "0     GQNTRWNNLDAPPSRGTSKWENRGARDERIEQELFSGQLSGINFDK...     D0PV95       0.0   \n",
       "1     NTIFVQGLGENVTIESVADYFKQIGIIKTNKKTGQPMINLYTDRET...     P35637       0.0   \n",
       "2     MSKSESPKEPEQLRKLFIGGLSFETTDESLRSHFEQWGTLTDCVVM...   P09651-2       0.0   \n",
       "3              DRRGGRGGYDRGGYRGRGGDRGGFRGGRGGGDRGGFGPGK     P35637       0.0   \n",
       "4     MASNDYTQQATQSYGAYPTQPGQGYSQQSSQPYGQQSYSGYSQSTD...     P35637       0.0   \n",
       "...                                                 ...        ...       ...   \n",
       "1778  MANFLTKNFVWILAAGVGVWFYQKADNAAKTATKPIADFLAELQFL...        NaN       NaN   \n",
       "1779  MIVKKKLAAGEFAETFKNGNNITIIKAVGELVLRAYGADGGEGLRT...        NaN       NaN   \n",
       "1780  MINMTRKLYYEDAYLKEAKGRVLEIRDNAILLDQTIFYPTGGGQPH...        NaN       NaN   \n",
       "1781  MMTALETRLSVADGTHAAALRQRLQAALAECRRELARGACPEHFQF...        NaN       NaN   \n",
       "1782  MMSMDFEDFPVESAHRILTPRPTVMVTTVDEEGNINAAPFSFTMPV...        NaN       NaN   \n",
       "\n",
       "      min_pdb  pdb_plus  lenght              first_20  \\\n",
       "0         0.0       NaN     541  GQNTRWNNLDAPPSRGTSKW   \n",
       "1         0.0       NaN     242  NTIFVQGLGENVTIESVADY   \n",
       "2         0.0       NaN     320  MSKSESPKEPEQLRKLFIGG   \n",
       "3         0.0       NaN      40  DRRGGRGGYDRGGYRGRGGD   \n",
       "4         0.0       NaN     163  MASNDYTQQATQSYGAYPTQ   \n",
       "...       ...       ...     ...                   ...   \n",
       "1778      1.0       0.0     127  MANFLTKNFVWILAAGVGVW   \n",
       "1779      1.0       0.0     335  MIVKKKLAAGEFAETFKNGN   \n",
       "1780      1.0       0.0     216  MINMTRKLYYEDAYLKEAKG   \n",
       "1781      1.0       0.0      67  MMTALETRLSVADGTHAAAL   \n",
       "1782      1.0       0.0     186  MMSMDFEDFPVESAHRILTP   \n",
       "\n",
       "                                            shuffle_seq  \n",
       "0     GGPSYPEVEKENIIHFNLRDFQVGMSRLRHRGNSRLAALDEPSHEG...  \n",
       "1     DCMNTDNRGNFGGFPTWNKDGGSGGHQKTFPRKKGRFDAPYRGCGG...  \n",
       "2     QDDKGASSSGSSERGSFEIGYPFGAREFGGMFPDNHGDPHGARGVT...  \n",
       "3              DGRRPGGGRGGGGRRGRRGGYRFDGGDKGGGGFRGDGYRG  \n",
       "4     GSGSTQGGSGSGSQQSQQQQSQQYASYTQDPYQYYQYSQYYSSSQY...  \n",
       "...                                                 ...  \n",
       "1778  LPYDDNGTDLVAEKHFLLRDSYARFFAVNSWILGAAVVKIDVGTEA...  \n",
       "1779  LEYRGDFVAEYKGELVVYGSDEVFFSDVGTKSGEAPRGEDGMGSNS...  \n",
       "1780  YQIKRYMLLNKEFGINMVLVNHKADTRRGNLVGGDKYHVGGAGYLI...  \n",
       "1781  RDRCEITGARHAAALFSQALTVPLTQEDRALEQGRMCHTLEAALSA...  \n",
       "1782  LAAAMVPLMVVEIVGHFVGTLPSRENASRMSNDDHWEPLEPLDNSE...  \n",
       "\n",
       "[1783 rows x 8 columns]"
      ]
     },
     "execution_count": 15,
     "metadata": {},
     "output_type": "execute_result"
    }
   ],
   "source": [
    "cols = [col for col in df_all.columns if not col.startswith('Unnamed')]\n",
    "df_all = df_all[cols]\n",
    "df_all"
   ]
  },
  {
   "cell_type": "code",
   "execution_count": 16,
   "metadata": {},
   "outputs": [],
   "source": [
    "df_all.to_csv('LLPS_all.csv')"
   ]
  },
  {
   "cell_type": "markdown",
   "metadata": {},
   "source": [
    "# Explore Sequence"
   ]
  },
  {
   "cell_type": "code",
   "execution_count": 12,
   "metadata": {},
   "outputs": [],
   "source": [
    "from collections import Counter\n",
    "def analyze_sequence(seq):\n",
    "    info = {}\n",
    "    info.update({'lenght': len(seq)})\n",
    "\n",
    "    info.update({'uniques': sorted(list(set(list(seq))))})\n",
    "    aa_counter = Counter(list(seq))\n",
    "    info.update({'most': {aa: c for aa,c in aa_counter.items() if c == max(aa_counter.values())}})\n",
    "\n",
    "    for k,v in info.items():\n",
    "        print(f\"{k}\\t\\t{v}\")\n",
    "    \n",
    "    return info"
   ]
  },
  {
   "cell_type": "code",
   "execution_count": 13,
   "metadata": {},
   "outputs": [
    {
     "name": "stdout",
     "output_type": "stream",
     "text": [
      "lenght\t\t541\n",
      "uniques\t\t['A', 'C', 'D', 'E', 'F', 'G', 'H', 'I', 'K', 'L', 'M', 'N', 'P', 'Q', 'R', 'S', 'T', 'V', 'W', 'Y']\n",
      "most\t\t{'G': 71}\n"
     ]
    },
    {
     "data": {
      "text/plain": [
       "{'lenght': 541,\n",
       " 'uniques': ['A',\n",
       "  'C',\n",
       "  'D',\n",
       "  'E',\n",
       "  'F',\n",
       "  'G',\n",
       "  'H',\n",
       "  'I',\n",
       "  'K',\n",
       "  'L',\n",
       "  'M',\n",
       "  'N',\n",
       "  'P',\n",
       "  'Q',\n",
       "  'R',\n",
       "  'S',\n",
       "  'T',\n",
       "  'V',\n",
       "  'W',\n",
       "  'Y'],\n",
       " 'most': {'G': 71}}"
      ]
     },
     "execution_count": 13,
     "metadata": {},
     "output_type": "execute_result"
    }
   ],
   "source": [
    "INDEX = 0\n",
    "\n",
    "seq = df_all.iloc[INDEX]['Sequence']\n",
    "analyze_sequence(seq)"
   ]
  }
 ],
 "metadata": {
  "kernelspec": {
   "display_name": "gptchallenge",
   "language": "python",
   "name": "python3"
  },
  "language_info": {
   "codemirror_mode": {
    "name": "ipython",
    "version": 3
   },
   "file_extension": ".py",
   "mimetype": "text/x-python",
   "name": "python",
   "nbconvert_exporter": "python",
   "pygments_lexer": "ipython3",
   "version": "3.10.12"
  },
  "orig_nbformat": 4
 },
 "nbformat": 4,
 "nbformat_minor": 2
}
