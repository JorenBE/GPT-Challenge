{
 "cells": [
  {
   "cell_type": "code",
   "execution_count": 20,
   "metadata": {},
   "outputs": [],
   "source": [
    "import pandas as pd\n",
    "import matplotlib.pyplot as plt\n",
    "import sys\n",
    "sys.path.append(\"/home/jorenvanherck/Documents/gptchallengeV2/gptchem-gptj/plotutils/\")\n",
    "from plotutils import *\n",
    "\n",
    "plt.style.use(\"/home/jorenvanherck/Documents/gptchallengeV2/gptchem-gptj/plotutils/kevin.mplstyle\")\n",
    "\n",
    "\n",
    "FILE = 'train_polymers.csv'\n",
    "df = pd.read_csv(FILE, index_col=0)"
   ]
  },
  {
   "cell_type": "markdown",
   "metadata": {},
   "source": [
    "# Add Bin"
   ]
  },
  {
   "cell_type": "code",
   "execution_count": 21,
   "metadata": {},
   "outputs": [
    {
     "data": {
      "text/plain": [
       "8.203660316666666"
      ]
     },
     "execution_count": 21,
     "metadata": {},
     "output_type": "execute_result"
    }
   ],
   "source": [
    "df['y_bin'] = pd.qcut(df['y'], 2 , labels=[0,1])\n",
    "df['y'].median()"
   ]
  },
  {
   "cell_type": "code",
   "execution_count": 22,
   "metadata": {},
   "outputs": [
    {
     "data": {
      "text/html": [
       "<div>\n",
       "<style scoped>\n",
       "    .dataframe tbody tr th:only-of-type {\n",
       "        vertical-align: middle;\n",
       "    }\n",
       "\n",
       "    .dataframe tbody tr th {\n",
       "        vertical-align: top;\n",
       "    }\n",
       "\n",
       "    .dataframe thead th {\n",
       "        text-align: right;\n",
       "    }\n",
       "</style>\n",
       "<table border=\"1\" class=\"dataframe\">\n",
       "  <thead>\n",
       "    <tr style=\"text-align: right;\">\n",
       "      <th></th>\n",
       "      <th>SMILES</th>\n",
       "      <th>y</th>\n",
       "      <th>y_bin</th>\n",
       "    </tr>\n",
       "  </thead>\n",
       "  <tbody>\n",
       "    <tr>\n",
       "      <th>0</th>\n",
       "      <td>B B B B A A B B B A B A B B B A B B B B</td>\n",
       "      <td>7.759848</td>\n",
       "      <td>0</td>\n",
       "    </tr>\n",
       "    <tr>\n",
       "      <th>1</th>\n",
       "      <td>B B B A A A B B A A B A B A B B B A B B</td>\n",
       "      <td>8.133042</td>\n",
       "      <td>0</td>\n",
       "    </tr>\n",
       "    <tr>\n",
       "      <th>2</th>\n",
       "      <td>A A B B A B B A B A B B B B A B B B B B</td>\n",
       "      <td>7.717979</td>\n",
       "      <td>0</td>\n",
       "    </tr>\n",
       "    <tr>\n",
       "      <th>3</th>\n",
       "      <td>B B B A B A A A A B A B A B A B B B B B</td>\n",
       "      <td>8.147355</td>\n",
       "      <td>0</td>\n",
       "    </tr>\n",
       "    <tr>\n",
       "      <th>4</th>\n",
       "      <td>B B B B B B A B B A B B B B B B B B B A</td>\n",
       "      <td>7.603120</td>\n",
       "      <td>0</td>\n",
       "    </tr>\n",
       "    <tr>\n",
       "      <th>...</th>\n",
       "      <td>...</td>\n",
       "      <td>...</td>\n",
       "      <td>...</td>\n",
       "    </tr>\n",
       "    <tr>\n",
       "      <th>15995</th>\n",
       "      <td>A B B A B A B A A A B A B A A A B A A B</td>\n",
       "      <td>7.937459</td>\n",
       "      <td>0</td>\n",
       "    </tr>\n",
       "    <tr>\n",
       "      <th>15996</th>\n",
       "      <td>B A A A B A A B A B A A A A A A A A A A</td>\n",
       "      <td>8.555531</td>\n",
       "      <td>1</td>\n",
       "    </tr>\n",
       "    <tr>\n",
       "      <th>15997</th>\n",
       "      <td>A A A B B B B B A A A A A A A B A B A A</td>\n",
       "      <td>8.823526</td>\n",
       "      <td>1</td>\n",
       "    </tr>\n",
       "    <tr>\n",
       "      <th>15998</th>\n",
       "      <td>B A A B B A B B B B A B A A B A A A A B</td>\n",
       "      <td>8.237800</td>\n",
       "      <td>1</td>\n",
       "    </tr>\n",
       "    <tr>\n",
       "      <th>15999</th>\n",
       "      <td>B A A B B B B A B B A B A B B B B A A A</td>\n",
       "      <td>8.106131</td>\n",
       "      <td>0</td>\n",
       "    </tr>\n",
       "  </tbody>\n",
       "</table>\n",
       "<p>16000 rows × 3 columns</p>\n",
       "</div>"
      ],
      "text/plain": [
       "                                        SMILES         y y_bin\n",
       "0      B B B B A A B B B A B A B B B A B B B B  7.759848     0\n",
       "1      B B B A A A B B A A B A B A B B B A B B  8.133042     0\n",
       "2      A A B B A B B A B A B B B B A B B B B B  7.717979     0\n",
       "3      B B B A B A A A A B A B A B A B B B B B  8.147355     0\n",
       "4      B B B B B B A B B A B B B B B B B B B A  7.603120     0\n",
       "...                                        ...       ...   ...\n",
       "15995  A B B A B A B A A A B A B A A A B A A B  7.937459     0\n",
       "15996  B A A A B A A B A B A A A A A A A A A A  8.555531     1\n",
       "15997  A A A B B B B B A A A A A A A B A B A A  8.823526     1\n",
       "15998  B A A B B A B B B B A B A A B A A A A B  8.237800     1\n",
       "15999  B A A B B B B A B B A B A B B B B A A A  8.106131     0\n",
       "\n",
       "[16000 rows x 3 columns]"
      ]
     },
     "execution_count": 22,
     "metadata": {},
     "output_type": "execute_result"
    }
   ],
   "source": [
    "df"
   ]
  },
  {
   "cell_type": "markdown",
   "metadata": {},
   "source": [
    "# Plot Histogram"
   ]
  },
  {
   "cell_type": "code",
   "execution_count": 23,
   "metadata": {},
   "outputs": [
    {
     "data": {
      "image/png": "[encoded data removed]",
      "text/plain": [
       "<Figure size 330x250 with 1 Axes>"
      ]
     },
     "metadata": {},
     "output_type": "display_data"
    }
   ],
   "source": [
    "df['y'].hist()\n",
    "plt.tight_layout()\n",
    "plt.xlabel('\\u0394 F / $\\it{K}$$_b$$\\it{T}$')\n",
    "plt.savefig('AdE_polymers_histogram.pdf', bbox_inches='tight')"
   ]
  },
  {
   "cell_type": "code",
   "execution_count": 25,
   "metadata": {},
   "outputs": [],
   "source": [
    "df.to_csv('train_polymers.csv')"
   ]
  }
 ],
 "metadata": {
  "kernelspec": {
   "display_name": "gptchallenge",
   "language": "python",
   "name": "python3"
  },
  "language_info": {
   "codemirror_mode": {
    "name": "ipython",
    "version": 3
   },
   "file_extension": ".py",
   "mimetype": "text/x-python",
   "name": "python",
   "nbconvert_exporter": "python",
   "pygments_lexer": "ipython3",
   "version": "3.10.12"
  },
  "orig_nbformat": 4
 },
 "nbformat": 4,
 "nbformat_minor": 2
}
