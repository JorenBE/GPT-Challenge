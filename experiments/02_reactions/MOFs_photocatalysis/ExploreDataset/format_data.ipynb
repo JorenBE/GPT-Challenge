{
 "cells": [
  {
   "cell_type": "code",
   "execution_count": 7,
   "metadata": {},
   "outputs": [],
   "source": [
    "import pandas as pd\n",
    "import re"
   ]
  },
  {
   "cell_type": "code",
   "execution_count": 13,
   "metadata": {},
   "outputs": [
    {
     "name": "stdout",
     "output_type": "stream",
     "text": [
      "Index(['mofid', 'mofkey', 'smiles_nodes', 'smiles_linkers', 'smiles',\n",
      "       'topology', 'cifname', 'HER_bool', 'OER_bool', 'VIS_bool',\n",
      "       'four_classes', 'inorg_BB', 'inorg_BB_top', 'hased_linker', 'HOV_bool',\n",
      "       'HOV_code', 'elements_linkers', 'elements_nodes', 'elemetns_all'],\n",
      "      dtype='object')\n"
     ]
    }
   ],
   "source": [
    "FILE = 'final_noDuplicates.csv'\n",
    "df = pd.read_csv(FILE, index_col=0)\n",
    "print(df.columns)"
   ]
  },
  {
   "cell_type": "code",
   "execution_count": 9,
   "metadata": {},
   "outputs": [],
   "source": [
    "elements_nodes = []\n",
    "for smiles in df[['smiles_nodes']].values:\n",
    "    elements = list(set(re.findall(r'\\b[A-Z][a-z]?', str(smiles))))\n",
    "    elements_nodes.append(elements)\n",
    "\n",
    "elements_linkers = []\n",
    "for smiles in df[['smiles_linkers']].values:\n",
    "    elements = list(set(re.findall(r'\\b[A-Z][a-z]?', str(smiles))))\n",
    "    elements_linkers.append(elements)\n",
    "\n",
    "df['elements_linkers'] = elements_linkers\n",
    "df['elements_nodes'] = elements_nodes\n",
    "\n",
    "df['elemetns_all'] = [list(set(nodes + linkers)) for nodes, linkers in zip(df['elements_linkers'], df['elements_nodes'])]"
   ]
  },
  {
   "cell_type": "code",
   "execution_count": 16,
   "metadata": {},
   "outputs": [
    {
     "data": {
      "text/html": [
       "<div>\n",
       "<style scoped>\n",
       "    .dataframe tbody tr th:only-of-type {\n",
       "        vertical-align: middle;\n",
       "    }\n",
       "\n",
       "    .dataframe tbody tr th {\n",
       "        vertical-align: top;\n",
       "    }\n",
       "\n",
       "    .dataframe thead th {\n",
       "        text-align: right;\n",
       "    }\n",
       "</style>\n",
       "<table border=\"1\" class=\"dataframe\">\n",
       "  <thead>\n",
       "    <tr style=\"text-align: right;\">\n",
       "      <th></th>\n",
       "      <th>elements_linkers</th>\n",
       "      <th>elements_nodes</th>\n",
       "      <th>elemetns_all</th>\n",
       "    </tr>\n",
       "  </thead>\n",
       "  <tbody>\n",
       "    <tr>\n",
       "      <th>67</th>\n",
       "      <td>['C', 'N']</td>\n",
       "      <td>['Ag']</td>\n",
       "      <td>['C', 'N', 'Ag']</td>\n",
       "    </tr>\n",
       "    <tr>\n",
       "      <th>84</th>\n",
       "      <td>['C', 'S']</td>\n",
       "      <td>['Co']</td>\n",
       "      <td>['C', 'S', 'Co']</td>\n",
       "    </tr>\n",
       "    <tr>\n",
       "      <th>16</th>\n",
       "      <td>['C', 'N', 'S']</td>\n",
       "      <td>['Cu']</td>\n",
       "      <td>['C', 'N', 'Cu', 'S']</td>\n",
       "    </tr>\n",
       "    <tr>\n",
       "      <th>33</th>\n",
       "      <td>['C', 'N']</td>\n",
       "      <td>['Ag']</td>\n",
       "      <td>['C', 'N', 'Ag']</td>\n",
       "    </tr>\n",
       "    <tr>\n",
       "      <th>32</th>\n",
       "      <td>['C', 'N']</td>\n",
       "      <td>['Cu']</td>\n",
       "      <td>['C', 'N', 'Cu']</td>\n",
       "    </tr>\n",
       "  </tbody>\n",
       "</table>\n",
       "</div>"
      ],
      "text/plain": [
       "   elements_linkers elements_nodes           elemetns_all\n",
       "67       ['C', 'N']         ['Ag']       ['C', 'N', 'Ag']\n",
       "84       ['C', 'S']         ['Co']       ['C', 'S', 'Co']\n",
       "16  ['C', 'N', 'S']         ['Cu']  ['C', 'N', 'Cu', 'S']\n",
       "33       ['C', 'N']         ['Ag']       ['C', 'N', 'Ag']\n",
       "32       ['C', 'N']         ['Cu']       ['C', 'N', 'Cu']"
      ]
     },
     "execution_count": 16,
     "metadata": {},
     "output_type": "execute_result"
    }
   ],
   "source": [
    "df[['elements_linkers', 'elements_nodes', 'elemetns_all']].sample(5)"
   ]
  },
  {
   "cell_type": "code",
   "execution_count": 11,
   "metadata": {},
   "outputs": [],
   "source": [
    "df.to_csv(FILE)"
   ]
  }
 ],
 "metadata": {
  "kernelspec": {
   "display_name": "gptchallenge",
   "language": "python",
   "name": "python3"
  },
  "language_info": {
   "codemirror_mode": {
    "name": "ipython",
    "version": 3
   },
   "file_extension": ".py",
   "mimetype": "text/x-python",
   "name": "python",
   "nbconvert_exporter": "python",
   "pygments_lexer": "ipython3",
   "version": "3.10.12"
  },
  "orig_nbformat": 4
 },
 "nbformat": 4,
 "nbformat_minor": 2
}
