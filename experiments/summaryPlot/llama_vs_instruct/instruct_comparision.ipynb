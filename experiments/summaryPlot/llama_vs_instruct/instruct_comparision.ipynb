{
 "cells": [
  {
   "cell_type": "code",
   "execution_count": 26,
   "metadata": {},
   "outputs": [],
   "source": [
    "import matplotlib.pyplot as plt"
   ]
  },
  {
   "cell_type": "code",
   "execution_count": 27,
   "metadata": {},
   "outputs": [],
   "source": [
    "results =  {'Adhesive Energy': {'results':{'Llama': 0.880000,\n",
    "                                        'Llama-Instruct': 0.96,\n",
    "                                        },\n",
    "                                    'epochs' : 4,\n",
    "                                    'size': 5000\n",
    "                                    },\n",
    "\n",
    "            'Density\\n(Monomers)': {'results':{'Llama': 0.840000,\n",
    "                                        'Llama-Instruct': 0.853333,\n",
    "                                        },\n",
    "                                    'epochs' : 20,\n",
    "                                    'size': 300\n",
    "                                    },\n",
    "                'Coh. E\\n(Monomers)': {'results':{'Llama': 0.746667,\n",
    "                                        'Llama-Instruct': 0.753333,\n",
    "                                        },\n",
    "                                    'epochs' : 20,\n",
    "                                    'size': 300\n",
    "                                    },\n",
    "            'Sq. r\\nof gyration\\n(Monomers)': {'results':{'Llama': 0.853333,\n",
    "                                        'Llama-Instruct': 0.906667,\n",
    "                                        },\n",
    "                                    'epochs' : 20,\n",
    "                                    'size': 300\n",
    "                                    },\n",
    "            'Tg\\n(Monomers)': {'results':{'Llama': 0.780000,\n",
    "                                        'Llama-Instruct': 0.793333,\n",
    "                                        },\n",
    "                                    'epochs' : 20,\n",
    "                                    'size': 300\n",
    "                                    },\n",
    "            'Melting Point': {'results':{'Llama': 0.553333,\n",
    "                                        'Llama-Instruct': 0.586667,\n",
    "                                        },\n",
    "                                    'epochs' : 20,\n",
    "                                    'size': 1000\n",
    "                                    },\n",
    "            'Grain Size\\n(Mg alloys)': {'results':{'Llama':0.920000,\n",
    "                                        'Llama-Instruct': 0.893333,\n",
    "                                        },\n",
    "                                    'epochs' : 20,\n",
    "                                    'size': 1000\n",
    "                                    },\n",
    "            'Dyn. Viscosity': {'results':{'Llama':0.726667,\n",
    "                                        'Llama-Instruct': 0.706667,\n",
    "                                        },\n",
    "                                    'epochs' : 20,\n",
    "                                    'size': 1000\n",
    "                                    },\n",
    "            \n",
    "}"
   ]
  },
  {
   "cell_type": "code",
   "execution_count": 30,
   "metadata": {},
   "outputs": [
    {
     "name": "stdout",
     "output_type": "stream",
     "text": [
      "Average accuracy Llama3.1: 0.7875000000000001 (n = 8)\n",
      "Average accuracy Llama3.1_instruct: 0.8066666250000001 (n = 8)\n"
     ]
    }
   ],
   "source": [
    "llama_accs = [res['results']['Llama'] for set, res in results.items()]\n",
    "llama_instruct_accs = [res['results']['Llama-Instruct'] for set, res in results.items()]\n",
    "\n",
    "llama_average = sum(llama_accs)/len(llama_accs)\n",
    "llama_instruct_average = sum(llama_instruct_accs) / len(llama_instruct_accs)\n",
    "\n",
    "print(f'Average accuracy Llama3.1: {llama_average} (n = {len(llama_accs)})' )\n",
    "print(f'Average accuracy Llama3.1_instruct: {llama_instruct_average} (n = {len(llama_instruct_accs)})')"
   ]
  },
  {
   "cell_type": "code",
   "execution_count": null,
   "metadata": {},
   "outputs": [],
   "source": []
  }
 ],
 "metadata": {
  "kernelspec": {
   "display_name": "predirra",
   "language": "python",
   "name": "python3"
  },
  "language_info": {
   "codemirror_mode": {
    "name": "ipython",
    "version": 3
   },
   "file_extension": ".py",
   "mimetype": "text/x-python",
   "name": "python",
   "nbconvert_exporter": "python",
   "pygments_lexer": "ipython3",
   "version": "3.10.12"
  }
 },
 "nbformat": 4,
 "nbformat_minor": 2
}
