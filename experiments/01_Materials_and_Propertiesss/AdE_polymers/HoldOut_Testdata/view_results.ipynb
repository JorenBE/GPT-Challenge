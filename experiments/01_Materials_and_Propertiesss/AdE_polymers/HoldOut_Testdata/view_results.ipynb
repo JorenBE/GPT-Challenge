{
 "cells": [
  {
   "cell_type": "code",
   "execution_count": 1,
   "metadata": {},
   "outputs": [],
   "source": [
    "from fastcore.xtras import load_pickle\n",
    "import pandas as pd \n",
    "import os \n",
    "from glob import glob\n",
    "from pathlib import Path\n",
    "from scipy.stats import sem\n",
    "import matplotlib.pyplot as plt\n",
    "from datetime import datetime\n",
    "\n",
    "FOLDER = 'out'\n",
    "\n",
    "import matplotlib.pyplot as plt\n",
    "import sys\n",
    "sys.path.append(\"/home/jorenvanherck/Documents/gptchallengeV2/gptchem-gptj/plotutils/\")\n",
    "from plotutils import *\n",
    "\n",
    "plt.style.use(\"/home/jorenvanherck/Documents/gptchallengeV2/gptchem-gptj/plotutils/kevin.mplstyle\")"
   ]
  },
  {
   "cell_type": "code",
   "execution_count": 2,
   "metadata": {},
   "outputs": [
    {
     "name": "stdout",
     "output_type": "stream",
     "text": [
      "Pickles found in out: 3\n"
     ]
    }
   ],
   "source": [
    "if not os.path.exists(FOLDER):\n",
    "    raise FileExistsError('Cannot find folder {}'.format(FOLDER))\n",
    "\n",
    "all_res = glob(f'{FOLDER}/*.pkl')\n",
    "print('Pickles found in {}: {}'.format(FOLDER, len(all_res)))"
   ]
  },
  {
   "cell_type": "code",
   "execution_count": 3,
   "metadata": {},
   "outputs": [
    {
     "name": "stdout",
     "output_type": "stream",
     "text": [
      "[{'size': 1000, 'target': 'y_bin', 'accuracy': 0.88125, 'f1_macro': 0.8811301717837938, 'f1_micro': 0.88125, 'kappa': 0.7625, 'num_epochs': 4, 'lr': 0.0003, 'bins': 2, 'test_size': 4000}, {'size': 1000, 'target': 'y_bin', 'accuracy': 0.88275, 'f1_macro': 0.8827151004120664, 'f1_micro': 0.88275, 'kappa': 0.7655000000000001, 'num_epochs': 4, 'lr': 0.0003, 'bins': 2, 'test_size': 4000}, {'size': 1000, 'target': 'y_bin', 'accuracy': 0.87925, 'f1_macro': 0.8792097693037888, 'f1_micro': 0.87925, 'kappa': 0.7585, 'num_epochs': 4, 'lr': 0.0003, 'bins': 2, 'test_size': 4000}]\n"
     ]
    }
   ],
   "source": [
    "\n",
    "compiled_res_list = []\n",
    "conf_mats = []\n",
    "\n",
    "for results in all_res:\n",
    "    res_full = load_pickle(results)\n",
    "    res = res_full['results']\n",
    "    summary = {\n",
    "        'size': res_full['train_size'],\n",
    "        #'representation': res_full['data_summary']['representation'],\n",
    "        'target': res_full['data_summary']['target'],\n",
    "        'accuracy': res['accuracy'],\n",
    "        'f1_macro': res['f1_macro'],\n",
    "        'f1_micro': res['f1_micro'],\n",
    "        'kappa': res['kappa'],\n",
    "        'num_epochs': res_full['config']['tune_settings']['num_train_epochs'],\n",
    "        'lr': res_full['config']['tune_settings']['learning_rate'],\n",
    "        'bins': len(set(res['all_y_true'])),\n",
    "        'test_size': len(res['all_y_true'])\n",
    "       \n",
    "    }\n",
    "    confusion_matrix = {\n",
    "        'all_y_true':res['all_y_true'],\n",
    "        'all_y_pred':res['all_y_pred']\n",
    "    }\n",
    "    conf_mats.append(confusion_matrix)\n",
    "    compiled_res_list.append(summary)\n",
    "print(compiled_res_list)"
   ]
  },
  {
   "cell_type": "code",
   "execution_count": 4,
   "metadata": {},
   "outputs": [],
   "source": [
    "compiled_res = pd.DataFrame(compiled_res_list)\n",
    "grouped_res =compiled_res.groupby(['bins', 'num_epochs', 'target', 'size']).agg(['mean', 'sem'])\n"
   ]
  },
  {
   "cell_type": "code",
   "execution_count": 5,
   "metadata": {},
   "outputs": [
    {
     "data": {
      "text/html": [
       "<div>\n",
       "<style scoped>\n",
       "    .dataframe tbody tr th:only-of-type {\n",
       "        vertical-align: middle;\n",
       "    }\n",
       "\n",
       "    .dataframe tbody tr th {\n",
       "        vertical-align: top;\n",
       "    }\n",
       "\n",
       "    .dataframe thead tr th {\n",
       "        text-align: left;\n",
       "    }\n",
       "\n",
       "    .dataframe thead tr:last-of-type th {\n",
       "        text-align: right;\n",
       "    }\n",
       "</style>\n",
       "<table border=\"1\" class=\"dataframe\">\n",
       "  <thead>\n",
       "    <tr>\n",
       "      <th></th>\n",
       "      <th></th>\n",
       "      <th></th>\n",
       "      <th></th>\n",
       "      <th colspan=\"2\" halign=\"left\">accuracy</th>\n",
       "      <th colspan=\"2\" halign=\"left\">f1_macro</th>\n",
       "      <th colspan=\"2\" halign=\"left\">f1_micro</th>\n",
       "      <th colspan=\"2\" halign=\"left\">kappa</th>\n",
       "      <th colspan=\"2\" halign=\"left\">lr</th>\n",
       "      <th colspan=\"2\" halign=\"left\">test_size</th>\n",
       "    </tr>\n",
       "    <tr>\n",
       "      <th></th>\n",
       "      <th></th>\n",
       "      <th></th>\n",
       "      <th></th>\n",
       "      <th>mean</th>\n",
       "      <th>sem</th>\n",
       "      <th>mean</th>\n",
       "      <th>sem</th>\n",
       "      <th>mean</th>\n",
       "      <th>sem</th>\n",
       "      <th>mean</th>\n",
       "      <th>sem</th>\n",
       "      <th>mean</th>\n",
       "      <th>sem</th>\n",
       "      <th>mean</th>\n",
       "      <th>sem</th>\n",
       "    </tr>\n",
       "    <tr>\n",
       "      <th>bins</th>\n",
       "      <th>num_epochs</th>\n",
       "      <th>target</th>\n",
       "      <th>size</th>\n",
       "      <th></th>\n",
       "      <th></th>\n",
       "      <th></th>\n",
       "      <th></th>\n",
       "      <th></th>\n",
       "      <th></th>\n",
       "      <th></th>\n",
       "      <th></th>\n",
       "      <th></th>\n",
       "      <th></th>\n",
       "      <th></th>\n",
       "      <th></th>\n",
       "    </tr>\n",
       "  </thead>\n",
       "  <tbody>\n",
       "    <tr>\n",
       "      <th>2</th>\n",
       "      <th>4</th>\n",
       "      <th>y_bin</th>\n",
       "      <th>1000</th>\n",
       "      <td>0.881083</td>\n",
       "      <td>0.001014</td>\n",
       "      <td>0.881018</td>\n",
       "      <td>0.001013</td>\n",
       "      <td>0.881083</td>\n",
       "      <td>0.001014</td>\n",
       "      <td>0.762167</td>\n",
       "      <td>0.002028</td>\n",
       "      <td>0.0003</td>\n",
       "      <td>0.0</td>\n",
       "      <td>4000.0</td>\n",
       "      <td>0.0</td>\n",
       "    </tr>\n",
       "  </tbody>\n",
       "</table>\n",
       "</div>"
      ],
      "text/plain": [
       "                             accuracy            f1_macro            f1_micro  \\\n",
       "                                 mean       sem      mean       sem      mean   \n",
       "bins num_epochs target size                                                     \n",
       "2    4          y_bin  1000  0.881083  0.001014  0.881018  0.001013  0.881083   \n",
       "\n",
       "                                          kappa                lr       \\\n",
       "                                  sem      mean       sem    mean  sem   \n",
       "bins num_epochs target size                                              \n",
       "2    4          y_bin  1000  0.001014  0.762167  0.002028  0.0003  0.0   \n",
       "\n",
       "                            test_size       \n",
       "                                 mean  sem  \n",
       "bins num_epochs target size                 \n",
       "2    4          y_bin  1000    4000.0  0.0  "
      ]
     },
     "execution_count": 5,
     "metadata": {},
     "output_type": "execute_result"
    }
   ],
   "source": [
    "grouped_res\n"
   ]
  },
  {
   "cell_type": "markdown",
   "metadata": {},
   "source": [
    "# Plot Confusion Matrices"
   ]
  },
  {
   "cell_type": "code",
   "execution_count": 6,
   "metadata": {},
   "outputs": [
    {
     "data": {
      "image/png": "[encoded data removed]",
      "text/plain": [
       "<Figure size 330x250 with 2 Axes>"
      ]
     },
     "metadata": {},
     "output_type": "display_data"
    },
    {
     "data": {
      "text/plain": [
       "<Figure size 330x250 with 0 Axes>"
      ]
     },
     "metadata": {},
     "output_type": "display_data"
    },
    {
     "data": {
      "image/png": "[encoded data removed]",
      "text/plain": [
       "<Figure size 330x250 with 2 Axes>"
      ]
     },
     "metadata": {},
     "output_type": "display_data"
    },
    {
     "data": {
      "text/plain": [
       "<Figure size 330x250 with 0 Axes>"
      ]
     },
     "metadata": {},
     "output_type": "display_data"
    },
    {
     "data": {
      "image/png": "[encoded data removed]",
      "text/plain": [
       "<Figure size 330x250 with 2 Axes>"
      ]
     },
     "metadata": {},
     "output_type": "display_data"
    },
    {
     "data": {
      "text/plain": [
       "<Figure size 330x250 with 0 Axes>"
      ]
     },
     "metadata": {},
     "output_type": "display_data"
    }
   ],
   "source": [
    "from sklearn import metrics\n",
    "import numpy as np\n",
    "for index, _ in enumerate(conf_mats):\n",
    "    try:\n",
    "        preds = conf_mats[index]\n",
    "        actual\t= preds['all_y_true']\n",
    "        predicted\t= preds['all_y_pred']\n",
    "\n",
    "        gpt_metrics = compiled_res.iloc[index]\n",
    "        confusion_matrix = metrics.confusion_matrix(actual, predicted)\n",
    "        confusion_matrix_normalized = confusion_matrix.astype('float') / confusion_matrix.sum(axis=1)[:, np.newaxis]\n",
    "\n",
    "        cm_display = metrics.ConfusionMatrixDisplay(confusion_matrix = confusion_matrix_normalized, display_labels = ['High','Low'])\n",
    "        cm_display.plot(cmap=plt.cm.Blues)\n",
    "\n",
    "        #cm_display.plot()\n",
    "\n",
    "\n",
    "        if not os.path.exists('ConfusionMatrices'):\n",
    "            os.mkdir('ConfusionMatrices')\n",
    "        plt.savefig(f'ConfusionMatrices/testData_{index}_normalized.pdf', bbox_inches = 'tight')\n",
    "        #plt.tight_layout()\n",
    "        plt.show()\n",
    "\n",
    "    except Exception as e:\n",
    "        print(e)\n",
    "    plt.clf()"
   ]
  }
 ],
 "metadata": {
  "kernelspec": {
   "display_name": "predirra",
   "language": "python",
   "name": "python3"
  },
  "language_info": {
   "codemirror_mode": {
    "name": "ipython",
    "version": 3
   },
   "file_extension": ".py",
   "mimetype": "text/x-python",
   "name": "python",
   "nbconvert_exporter": "python",
   "pygments_lexer": "ipython3",
   "version": "3.10.12"
  },
  "orig_nbformat": 4
 },
 "nbformat": 4,
 "nbformat_minor": 2
}
