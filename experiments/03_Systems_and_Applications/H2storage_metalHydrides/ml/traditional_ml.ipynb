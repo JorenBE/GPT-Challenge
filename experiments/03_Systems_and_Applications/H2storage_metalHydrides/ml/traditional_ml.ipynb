{
 "cells": [
  {
   "cell_type": "markdown",
   "metadata": {},
   "source": [
    "## Traditional machine learning\n",
    "Feature(s): Composition_Formula and Equilibrium_Pressure_25C\n",
    "- combine both\n",
    "- not sure how to do the Composition_Formula...\n",
    "\n",
    "target: binary_heat\n",
    "- binary class\n",
    "\n"
   ]
  },
  {
   "cell_type": "code",
   "execution_count": 2,
   "metadata": {},
   "outputs": [],
   "source": [
    "import sys\n",
    "import os\n",
    "from sklearn.model_selection import cross_val_score\n",
    "from sklearn.base import clone\n",
    "from loguru import logger\n",
    "\n",
    "logger.remove()\n",
    "logger.add(sys.stderr, level=\"WARNING\")\n",
    "# Append the parent directory of your package to sys.path\n",
    "sys.path.append(os.path.abspath(os.path.join(os.getcwd(), '..', '..', '..', '..')))"
   ]
  },
  {
   "cell_type": "markdown",
   "metadata": {},
   "source": [
    "Read the dataset from the zip file"
   ]
  },
  {
   "cell_type": "code",
   "execution_count": 4,
   "metadata": {},
   "outputs": [],
   "source": [
    "import pandas as pd\n",
    "import numpy as np\n",
    "import zipfile\n",
    "\n",
    "path_to_dataset = 'Hydrides.csv'\n",
    "csv_filename = 'Hydrides.csv'\n",
    "\n",
    "# Open the file, Correct the encoding and sep if necessary\n",
    "if path_to_dataset.endswith('.zip'):\n",
    "    with zipfile.ZipFile(path_to_dataset, 'r') as z:\n",
    "        # Open the CSV file within the ZIP file\n",
    "        with z.open(csv_filename) as f:\n",
    "            # Read the CSV file into a DataFrame\n",
    "            df = pd.read_csv(f, sep=',', on_bad_lines='warn', index_col = 0)\n",
    "else:\n",
    "    # Read the CSV file into a DataFrame\n",
    "    df = pd.read_csv(path_to_dataset, sep=',', on_bad_lines='warn', index_col = 0)\n",
    "\n"
   ]
  },
  {
   "cell_type": "code",
   "execution_count": 9,
   "metadata": {},
   "outputs": [
    {
     "data": {
      "text/plain": [
       "0                    Th2Al\n",
       "1                    Ti2Cu\n",
       "2                    Zr2Cu\n",
       "3                    Zr2Ni\n",
       "4                    Mg2Ni\n",
       "              ...         \n",
       "422                VTiAlCr\n",
       "423              VTiAlTaNb\n",
       "424                TiVCrNb\n",
       "425    Al0.1Ti0.3V0.3Nb0.3\n",
       "426                  TiVNb\n",
       "Name: Composition_Formula, Length: 427, dtype: object"
      ]
     },
     "execution_count": 9,
     "metadata": {},
     "output_type": "execute_result"
    }
   ],
   "source": [
    "df.Composition_Formula"
   ]
  },
  {
   "cell_type": "code",
   "execution_count": 3,
   "metadata": {},
   "outputs": [
    {
     "name": "stderr",
     "output_type": "stream",
     "text": [
      "/home/lsmo/.local/lib/python3.10/site-packages/tqdm/auto.py:21: TqdmWarning: IProgress not found. Please update jupyter and ipywidgets. See https://ipywidgets.readthedocs.io/en/stable/user_install.html\n",
      "  from .autonotebook import tqdm as notebook_tqdm\n"
     ]
    }
   ],
   "source": [
    "from MLPipeline import MLmodel, BinTheTarget\n",
    "\n",
    "Target = ['mp_bin']\n",
    "Features = ['SMILES']\n",
    "Feature_types = ['SMILES']\n",
    "input = df"
   ]
  },
  {
   "cell_type": "code",
   "execution_count": 4,
   "metadata": {},
   "outputs": [],
   "source": [
    "def objectiveRandomForestClassifier(trial, model_instance):\n",
    "    \"\"\"\n",
    "    Objective function for Optuna to minimize.\n",
    "    \"\"\"\n",
    "    # Define hyperparameters to tune\n",
    "    params = {\n",
    "        'n_estimators': trial.suggest_int('n_estimators', 50, 300),\n",
    "        'max_depth': trial.suggest_categorical('max_depth', [None, 10, 20, 30, 40]),\n",
    "        'min_samples_split': trial.suggest_int('min_samples_split', 2, 15),\n",
    "        'min_samples_leaf': trial.suggest_int('min_samples_leaf', 1, 6),\n",
    "        'max_features': trial.suggest_categorical('max_features', ['sqrt', 'log2']),\n",
    "        'bootstrap': trial.suggest_categorical('bootstrap', [True, False])\n",
    "    }\n",
    "\n",
    "    # Clone the model to ensure a fresh instance each trial\n",
    "    model_clone = clone(model_instance.model)\n",
    "    model_clone.set_params(**params)\n",
    "    \n",
    "    # Define the score metric\n",
    "    scoring = 'accuracy'\n",
    "\n",
    "    # Perform cross-validation\n",
    "    scores = cross_val_score(model_clone, model_instance.X_train, model_instance.y_train, cv=model_instance.cv, scoring=scoring)\n",
    "\n",
    "    # Return the average score across all folds\n",
    "    return scores.mean()\n",
    "\n",
    "\n",
    "def objectiveXGBClassifier(trial, model_instance):\n",
    "    \"\"\"\n",
    "    Objective function for Optuna to minimize for XGBClassifier.\n",
    "    \"\"\"\n",
    "    # Define hyperparameters to tune\n",
    "    params = {\n",
    "        'n_estimators': trial.suggest_int('n_estimators', 50, 300),\n",
    "        'max_depth': trial.suggest_int('max_depth', 3, 15),\n",
    "        'learning_rate': trial.suggest_float('learning_rate', 0.01, 0.3, log=True),\n",
    "        'subsample': trial.suggest_float('subsample', 0.5, 1.0),\n",
    "        'colsample_bytree': trial.suggest_float('colsample_bytree', 0.5, 1.0),\n",
    "        'gamma': trial.suggest_float('gamma', 1e-8, 1.0, log=True),\n",
    "        'reg_alpha': trial.suggest_float('reg_alpha', 1e-8, 1.0, log=True),  # L1 regularization\n",
    "        'reg_lambda': trial.suggest_float('reg_lambda', 1e-8, 1.0, log=True),  # L2 regularization\n",
    "    }\n",
    "\n",
    "    # Clone the model to ensure a fresh instance each trial\n",
    "    model_clone = clone(model_instance.model)\n",
    "    model_clone.set_params(**params)\n",
    "    \n",
    "    # Define the score metric\n",
    "    scoring = 'accuracy'\n",
    "\n",
    "    # Perform cross-validation\n",
    "    scores = cross_val_score(model_clone, model_instance.X_train, model_instance.y_train, cv=model_instance.cv, scoring=scoring)\n",
    "\n",
    "    # Return the average score across all folds\n",
    "    return scores.mean()\n"
   ]
  },
  {
   "cell_type": "code",
   "execution_count": 5,
   "metadata": {},
   "outputs": [
    {
     "name": "stdout",
     "output_type": "stream",
     "text": [
      "RUN: Model:RandomForestClassifier / Target:['mp_bin'] / Train size:25 / Seed:1\n"
     ]
    },
    {
     "name": "stderr",
     "output_type": "stream",
     "text": [
      "[I 2024-09-17 10:30:16,374] A new study created in memory with name: no-name-c29c937c-5c65-47c5-a034-06df0416be47\n",
      "[I 2024-09-17 10:30:17,639] Trial 0 finished with value: 0.6 and parameters: {'n_estimators': 238, 'max_depth': 20, 'min_samples_split': 8, 'min_samples_leaf': 5, 'max_features': 'sqrt', 'bootstrap': True}. Best is trial 0 with value: 0.6.\n",
      "[I 2024-09-17 10:30:18,401] Trial 1 finished with value: 0.6 and parameters: {'n_estimators': 206, 'max_depth': 40, 'min_samples_split': 10, 'min_samples_leaf': 3, 'max_features': 'log2', 'bootstrap': False}. Best is trial 0 with value: 0.6.\n"
     ]
    },
    {
     "name": "stdout",
     "output_type": "stream",
     "text": [
      "RUN: Model:RandomForestClassifier / Target:['mp_bin'] / Train size:50 / Seed:1\n"
     ]
    },
    {
     "name": "stderr",
     "output_type": "stream",
     "text": [
      "[I 2024-09-17 10:30:19,129] A new study created in memory with name: no-name-b0b49357-a47d-444a-bb6b-659e08ed0204\n",
      "[I 2024-09-17 10:30:19,755] Trial 0 finished with value: 0.36 and parameters: {'n_estimators': 105, 'max_depth': None, 'min_samples_split': 14, 'min_samples_leaf': 1, 'max_features': 'log2', 'bootstrap': True}. Best is trial 0 with value: 0.36.\n",
      "[I 2024-09-17 10:30:20,466] Trial 1 finished with value: 0.5800000000000001 and parameters: {'n_estimators': 179, 'max_depth': 40, 'min_samples_split': 9, 'min_samples_leaf': 1, 'max_features': 'log2', 'bootstrap': False}. Best is trial 1 with value: 0.5800000000000001.\n"
     ]
    },
    {
     "name": "stdout",
     "output_type": "stream",
     "text": [
      "RUN: Model:RandomForestClassifier / Target:['mp_bin'] / Train size:100 / Seed:1\n"
     ]
    },
    {
     "name": "stderr",
     "output_type": "stream",
     "text": [
      "[I 2024-09-17 10:30:21,129] A new study created in memory with name: no-name-8f681711-10c7-4001-b630-d6b5baa27c79\n",
      "[I 2024-09-17 10:30:22,539] Trial 0 finished with value: 0.55 and parameters: {'n_estimators': 247, 'max_depth': 30, 'min_samples_split': 11, 'min_samples_leaf': 1, 'max_features': 'sqrt', 'bootstrap': True}. Best is trial 0 with value: 0.55.\n",
      "[I 2024-09-17 10:30:23,626] Trial 1 finished with value: 0.5599999999999999 and parameters: {'n_estimators': 274, 'max_depth': 10, 'min_samples_split': 3, 'min_samples_leaf': 4, 'max_features': 'log2', 'bootstrap': False}. Best is trial 1 with value: 0.5599999999999999.\n"
     ]
    },
    {
     "name": "stdout",
     "output_type": "stream",
     "text": [
      "RUN: Model:RandomForestClassifier / Target:['mp_bin'] / Train size:200 / Seed:1\n"
     ]
    },
    {
     "name": "stderr",
     "output_type": "stream",
     "text": [
      "[I 2024-09-17 10:30:24,471] A new study created in memory with name: no-name-cfaef59c-6b86-4771-93c8-8df8d93522dd\n",
      "[I 2024-09-17 10:30:25,696] Trial 0 finished with value: 0.615 and parameters: {'n_estimators': 270, 'max_depth': 30, 'min_samples_split': 3, 'min_samples_leaf': 5, 'max_features': 'log2', 'bootstrap': False}. Best is trial 0 with value: 0.615.\n",
      "[I 2024-09-17 10:30:26,382] Trial 1 finished with value: 0.6 and parameters: {'n_estimators': 137, 'max_depth': 30, 'min_samples_split': 6, 'min_samples_leaf': 6, 'max_features': 'sqrt', 'bootstrap': False}. Best is trial 0 with value: 0.615.\n"
     ]
    },
    {
     "name": "stdout",
     "output_type": "stream",
     "text": [
      "RUN: Model:XGBClassifier / Target:['mp_bin'] / Train size:25 / Seed:1\n"
     ]
    },
    {
     "name": "stderr",
     "output_type": "stream",
     "text": [
      "[I 2024-09-17 10:30:27,022] A new study created in memory with name: no-name-190adee1-bb4b-483a-ad29-58fc020a3f6a\n",
      "[I 2024-09-17 10:30:27,352] Trial 0 finished with value: 0.64 and parameters: {'n_estimators': 157, 'max_depth': 15, 'learning_rate': 0.11471079194399908, 'subsample': 0.6029392616271096, 'colsample_bytree': 0.5845119158464867, 'gamma': 0.4750871454089408, 'reg_alpha': 2.2326883125121047e-07, 'reg_lambda': 2.187178221171122e-05}. Best is trial 0 with value: 0.64.\n",
      "[I 2024-09-17 10:30:27,568] Trial 1 finished with value: 0.6000000000000001 and parameters: {'n_estimators': 88, 'max_depth': 12, 'learning_rate': 0.11579599388153286, 'subsample': 0.8702702573742346, 'colsample_bytree': 0.7700966092465831, 'gamma': 0.004359353661355968, 'reg_alpha': 1.9907408534847977e-07, 'reg_lambda': 6.458766065716105e-05}. Best is trial 0 with value: 0.64.\n"
     ]
    },
    {
     "name": "stdout",
     "output_type": "stream",
     "text": [
      "RUN: Model:XGBClassifier / Target:['mp_bin'] / Train size:50 / Seed:1\n"
     ]
    },
    {
     "name": "stderr",
     "output_type": "stream",
     "text": [
      "[I 2024-09-17 10:30:28,078] A new study created in memory with name: no-name-a155a4be-b804-43fc-8ee8-f269a9d58eb0\n",
      "[I 2024-09-17 10:30:28,309] Trial 0 finished with value: 0.6 and parameters: {'n_estimators': 72, 'max_depth': 12, 'learning_rate': 0.02611736479856864, 'subsample': 0.5265157967288836, 'colsample_bytree': 0.6351829434771082, 'gamma': 0.0007061021425179472, 'reg_alpha': 0.0651353861689043, 'reg_lambda': 0.0005869250573191075}. Best is trial 0 with value: 0.6.\n",
      "[I 2024-09-17 10:30:28,886] Trial 1 finished with value: 0.5199999999999999 and parameters: {'n_estimators': 194, 'max_depth': 7, 'learning_rate': 0.01030473487065091, 'subsample': 0.9740162690381511, 'colsample_bytree': 0.5814239058658749, 'gamma': 4.4565484836562416e-06, 'reg_alpha': 5.502432865936956e-08, 'reg_lambda': 0.22370042452888214}. Best is trial 0 with value: 0.6.\n"
     ]
    },
    {
     "name": "stdout",
     "output_type": "stream",
     "text": [
      "RUN: Model:XGBClassifier / Target:['mp_bin'] / Train size:100 / Seed:1\n"
     ]
    },
    {
     "name": "stderr",
     "output_type": "stream",
     "text": [
      "[I 2024-09-17 10:30:29,501] A new study created in memory with name: no-name-4af810c6-3afd-4d83-9219-10fdf997cf35\n",
      "[I 2024-09-17 10:30:31,312] Trial 0 finished with value: 0.5900000000000001 and parameters: {'n_estimators': 265, 'max_depth': 10, 'learning_rate': 0.030297784787439493, 'subsample': 0.6371869081996986, 'colsample_bytree': 0.8387843528693494, 'gamma': 6.760558110470243e-05, 'reg_alpha': 0.012101392945229666, 'reg_lambda': 2.8204074534838605e-08}. Best is trial 0 with value: 0.5900000000000001.\n",
      "[I 2024-09-17 10:30:32,371] Trial 1 finished with value: 0.55 and parameters: {'n_estimators': 256, 'max_depth': 11, 'learning_rate': 0.01323225904148682, 'subsample': 0.8789936061245353, 'colsample_bytree': 0.6458172738046266, 'gamma': 1.2634414649536586e-06, 'reg_alpha': 0.03355588779131695, 'reg_lambda': 0.0006317880969904225}. Best is trial 0 with value: 0.5900000000000001.\n"
     ]
    },
    {
     "name": "stdout",
     "output_type": "stream",
     "text": [
      "RUN: Model:XGBClassifier / Target:['mp_bin'] / Train size:200 / Seed:1\n"
     ]
    },
    {
     "name": "stderr",
     "output_type": "stream",
     "text": [
      "[I 2024-09-17 10:30:33,212] A new study created in memory with name: no-name-edbd09e7-d1c3-4507-b9d1-ceb29b7fa88a\n",
      "[I 2024-09-17 10:30:33,608] Trial 0 finished with value: 0.6050000000000001 and parameters: {'n_estimators': 88, 'max_depth': 9, 'learning_rate': 0.23101197405734109, 'subsample': 0.6515651160638729, 'colsample_bytree': 0.5657126259858263, 'gamma': 0.017795555597068868, 'reg_alpha': 3.6473166383963113e-05, 'reg_lambda': 0.09500649218870191}. Best is trial 0 with value: 0.6050000000000001.\n",
      "[I 2024-09-17 10:30:34,781] Trial 1 finished with value: 0.6199999999999999 and parameters: {'n_estimators': 232, 'max_depth': 14, 'learning_rate': 0.016809584069406032, 'subsample': 0.5744354798375424, 'colsample_bytree': 0.9471007553451555, 'gamma': 0.011437216215817463, 'reg_alpha': 0.010022007801850169, 'reg_lambda': 0.018349489422682642}. Best is trial 1 with value: 0.6199999999999999.\n"
     ]
    },
    {
     "name": "stdout",
     "output_type": "stream",
     "text": [
      "RUN: Model:RandomForestClassifier / Target:['mp_bin'] / Train size:25 / Seed:2\n"
     ]
    },
    {
     "name": "stderr",
     "output_type": "stream",
     "text": [
      "[I 2024-09-17 10:30:35,522] A new study created in memory with name: no-name-d2241b6b-abe3-4214-9c20-cf28e7dcda99\n",
      "[I 2024-09-17 10:30:36,185] Trial 0 finished with value: 0.64 and parameters: {'n_estimators': 188, 'max_depth': 10, 'min_samples_split': 11, 'min_samples_leaf': 2, 'max_features': 'log2', 'bootstrap': False}. Best is trial 0 with value: 0.64.\n",
      "[I 2024-09-17 10:30:36,633] Trial 1 finished with value: 0.64 and parameters: {'n_estimators': 112, 'max_depth': 30, 'min_samples_split': 3, 'min_samples_leaf': 1, 'max_features': 'log2', 'bootstrap': False}. Best is trial 0 with value: 0.64.\n"
     ]
    },
    {
     "name": "stdout",
     "output_type": "stream",
     "text": [
      "RUN: Model:RandomForestClassifier / Target:['mp_bin'] / Train size:50 / Seed:2\n"
     ]
    },
    {
     "name": "stderr",
     "output_type": "stream",
     "text": [
      "[I 2024-09-17 10:30:37,236] A new study created in memory with name: no-name-bc3878ff-0ceb-47a9-8fe8-58f8a5fc4a42\n",
      "[I 2024-09-17 10:30:37,617] Trial 0 finished with value: 0.5599999999999999 and parameters: {'n_estimators': 71, 'max_depth': 30, 'min_samples_split': 15, 'min_samples_leaf': 4, 'max_features': 'sqrt', 'bootstrap': True}. Best is trial 0 with value: 0.5599999999999999.\n",
      "[I 2024-09-17 10:30:38,358] Trial 1 finished with value: 0.52 and parameters: {'n_estimators': 127, 'max_depth': None, 'min_samples_split': 12, 'min_samples_leaf': 1, 'max_features': 'log2', 'bootstrap': True}. Best is trial 0 with value: 0.5599999999999999.\n"
     ]
    },
    {
     "name": "stdout",
     "output_type": "stream",
     "text": [
      "RUN: Model:RandomForestClassifier / Target:['mp_bin'] / Train size:100 / Seed:2\n"
     ]
    },
    {
     "name": "stderr",
     "output_type": "stream",
     "text": [
      "[I 2024-09-17 10:30:38,950] A new study created in memory with name: no-name-37a8cf36-53ba-496d-ac7d-da364a82ac66\n",
      "[I 2024-09-17 10:30:39,793] Trial 0 finished with value: 0.5599999999999999 and parameters: {'n_estimators': 184, 'max_depth': 30, 'min_samples_split': 3, 'min_samples_leaf': 2, 'max_features': 'sqrt', 'bootstrap': False}. Best is trial 0 with value: 0.5599999999999999.\n",
      "[I 2024-09-17 10:30:40,639] Trial 1 finished with value: 0.61 and parameters: {'n_estimators': 204, 'max_depth': None, 'min_samples_split': 8, 'min_samples_leaf': 1, 'max_features': 'log2', 'bootstrap': False}. Best is trial 1 with value: 0.61.\n"
     ]
    },
    {
     "name": "stdout",
     "output_type": "stream",
     "text": [
      "RUN: Model:RandomForestClassifier / Target:['mp_bin'] / Train size:200 / Seed:2\n"
     ]
    },
    {
     "name": "stderr",
     "output_type": "stream",
     "text": [
      "[I 2024-09-17 10:30:41,456] A new study created in memory with name: no-name-7f9afdcc-bd47-47e3-9521-0ad7e5e22ba9\n",
      "[I 2024-09-17 10:30:41,819] Trial 0 finished with value: 0.5050000000000001 and parameters: {'n_estimators': 56, 'max_depth': 30, 'min_samples_split': 5, 'min_samples_leaf': 6, 'max_features': 'sqrt', 'bootstrap': True}. Best is trial 0 with value: 0.5050000000000001.\n",
      "[I 2024-09-17 10:30:42,946] Trial 1 finished with value: 0.55 and parameters: {'n_estimators': 189, 'max_depth': 30, 'min_samples_split': 6, 'min_samples_leaf': 6, 'max_features': 'log2', 'bootstrap': True}. Best is trial 1 with value: 0.55.\n"
     ]
    },
    {
     "name": "stdout",
     "output_type": "stream",
     "text": [
      "RUN: Model:XGBClassifier / Target:['mp_bin'] / Train size:25 / Seed:2\n"
     ]
    },
    {
     "name": "stderr",
     "output_type": "stream",
     "text": [
      "[I 2024-09-17 10:30:43,554] A new study created in memory with name: no-name-73202ec6-9ab8-4a47-b274-c55c9f8271c4\n",
      "[I 2024-09-17 10:30:43,940] Trial 0 finished with value: 0.64 and parameters: {'n_estimators': 198, 'max_depth': 3, 'learning_rate': 0.014533815108161397, 'subsample': 0.5274562614599917, 'colsample_bytree': 0.6702894376861639, 'gamma': 4.4660002748536034e-07, 'reg_alpha': 6.808717436117709e-08, 'reg_lambda': 0.008828075754526238}. Best is trial 0 with value: 0.64.\n",
      "[I 2024-09-17 10:30:44,240] Trial 1 finished with value: 0.6 and parameters: {'n_estimators': 152, 'max_depth': 9, 'learning_rate': 0.05349743858380232, 'subsample': 0.5952702840160342, 'colsample_bytree': 0.8343445054620184, 'gamma': 2.888222586041742e-06, 'reg_alpha': 0.00039198601165324926, 'reg_lambda': 0.00010716467478903019}. Best is trial 0 with value: 0.64.\n"
     ]
    },
    {
     "name": "stdout",
     "output_type": "stream",
     "text": [
      "RUN: Model:XGBClassifier / Target:['mp_bin'] / Train size:50 / Seed:2\n"
     ]
    },
    {
     "name": "stderr",
     "output_type": "stream",
     "text": [
      "[I 2024-09-17 10:30:44,755] A new study created in memory with name: no-name-f6c50992-69fa-47f0-9772-058e1f749866\n",
      "[I 2024-09-17 10:30:45,125] Trial 0 finished with value: 0.54 and parameters: {'n_estimators': 130, 'max_depth': 14, 'learning_rate': 0.01275847420583884, 'subsample': 0.5622104021874001, 'colsample_bytree': 0.6884422830599912, 'gamma': 0.0030453965097479263, 'reg_alpha': 4.433813111297283e-07, 'reg_lambda': 1.1922353885030904e-05}. Best is trial 0 with value: 0.54.\n",
      "[I 2024-09-17 10:30:45,619] Trial 1 finished with value: 0.48 and parameters: {'n_estimators': 187, 'max_depth': 9, 'learning_rate': 0.013760531597971862, 'subsample': 0.6827504318588161, 'colsample_bytree': 0.6628548751652132, 'gamma': 0.00016383723570862917, 'reg_alpha': 3.916168823206231e-05, 'reg_lambda': 0.0002532544039283875}. Best is trial 0 with value: 0.54.\n"
     ]
    },
    {
     "name": "stdout",
     "output_type": "stream",
     "text": [
      "RUN: Model:XGBClassifier / Target:['mp_bin'] / Train size:100 / Seed:2\n"
     ]
    },
    {
     "name": "stderr",
     "output_type": "stream",
     "text": [
      "[I 2024-09-17 10:30:46,188] A new study created in memory with name: no-name-dc192f4d-e287-4bbe-8183-4077799ff4d3\n",
      "[I 2024-09-17 10:30:46,813] Trial 0 finished with value: 0.53 and parameters: {'n_estimators': 226, 'max_depth': 5, 'learning_rate': 0.13513940887586387, 'subsample': 0.9802471586908892, 'colsample_bytree': 0.551534498395338, 'gamma': 0.0023388512078556466, 'reg_alpha': 0.16686487367744976, 'reg_lambda': 0.007670967038541209}. Best is trial 0 with value: 0.53.\n",
      "[I 2024-09-17 10:30:47,459] Trial 1 finished with value: 0.58 and parameters: {'n_estimators': 254, 'max_depth': 6, 'learning_rate': 0.09717718959511154, 'subsample': 0.8501570001673245, 'colsample_bytree': 0.7057965447773745, 'gamma': 0.288816921672585, 'reg_alpha': 2.390909075636635e-05, 'reg_lambda': 0.00875935754761242}. Best is trial 1 with value: 0.58.\n"
     ]
    },
    {
     "name": "stdout",
     "output_type": "stream",
     "text": [
      "RUN: Model:XGBClassifier / Target:['mp_bin'] / Train size:200 / Seed:2\n"
     ]
    },
    {
     "name": "stderr",
     "output_type": "stream",
     "text": [
      "[I 2024-09-17 10:30:48,223] A new study created in memory with name: no-name-696b2ec3-f7b5-4844-980c-182ecfa6fc60\n",
      "[I 2024-09-17 10:30:49,218] Trial 0 finished with value: 0.595 and parameters: {'n_estimators': 283, 'max_depth': 14, 'learning_rate': 0.2665929373161312, 'subsample': 0.6184421818941288, 'colsample_bytree': 0.8535429930211516, 'gamma': 1.3336864188458557e-07, 'reg_alpha': 0.030479901800047345, 'reg_lambda': 3.0836027934462384e-06}. Best is trial 0 with value: 0.595.\n",
      "[I 2024-09-17 10:30:49,675] Trial 1 finished with value: 0.585 and parameters: {'n_estimators': 86, 'max_depth': 6, 'learning_rate': 0.04601170183005981, 'subsample': 0.5804476193175652, 'colsample_bytree': 0.7928150018107132, 'gamma': 4.178521531355553e-08, 'reg_alpha': 1.2437248834133802e-05, 'reg_lambda': 0.00011334199500056175}. Best is trial 0 with value: 0.595.\n"
     ]
    },
    {
     "name": "stdout",
     "output_type": "stream",
     "text": [
      "RUN: Model:RandomForestClassifier / Target:['mp_bin'] / Train size:25 / Seed:3\n"
     ]
    },
    {
     "name": "stderr",
     "output_type": "stream",
     "text": [
      "[I 2024-09-17 10:30:50,356] A new study created in memory with name: no-name-a7324873-678b-44e7-a3cf-088ef4ea650d\n",
      "[I 2024-09-17 10:30:51,055] Trial 0 finished with value: 0.32 and parameters: {'n_estimators': 131, 'max_depth': 40, 'min_samples_split': 12, 'min_samples_leaf': 6, 'max_features': 'sqrt', 'bootstrap': True}. Best is trial 0 with value: 0.32.\n",
      "[I 2024-09-17 10:30:51,578] Trial 1 finished with value: 0.27999999999999997 and parameters: {'n_estimators': 135, 'max_depth': 10, 'min_samples_split': 9, 'min_samples_leaf': 4, 'max_features': 'log2', 'bootstrap': False}. Best is trial 0 with value: 0.32.\n"
     ]
    },
    {
     "name": "stdout",
     "output_type": "stream",
     "text": [
      "RUN: Model:RandomForestClassifier / Target:['mp_bin'] / Train size:50 / Seed:3\n"
     ]
    },
    {
     "name": "stderr",
     "output_type": "stream",
     "text": [
      "[I 2024-09-17 10:30:52,221] A new study created in memory with name: no-name-e6d54860-a5a5-4e9b-9e05-b2c498fb93e2\n",
      "[I 2024-09-17 10:30:53,211] Trial 0 finished with value: 0.52 and parameters: {'n_estimators': 168, 'max_depth': 40, 'min_samples_split': 15, 'min_samples_leaf': 4, 'max_features': 'sqrt', 'bootstrap': True}. Best is trial 0 with value: 0.52.\n",
      "[I 2024-09-17 10:30:53,973] Trial 1 finished with value: 0.5 and parameters: {'n_estimators': 137, 'max_depth': 40, 'min_samples_split': 10, 'min_samples_leaf': 3, 'max_features': 'log2', 'bootstrap': True}. Best is trial 0 with value: 0.52.\n"
     ]
    },
    {
     "name": "stdout",
     "output_type": "stream",
     "text": [
      "RUN: Model:RandomForestClassifier / Target:['mp_bin'] / Train size:100 / Seed:3\n"
     ]
    },
    {
     "name": "stderr",
     "output_type": "stream",
     "text": [
      "[I 2024-09-17 10:30:54,699] A new study created in memory with name: no-name-bed17344-5172-4bd4-9c6c-b40741e8acc9\n",
      "[I 2024-09-17 10:30:55,528] Trial 0 finished with value: 0.4999999999999999 and parameters: {'n_estimators': 134, 'max_depth': 20, 'min_samples_split': 5, 'min_samples_leaf': 2, 'max_features': 'sqrt', 'bootstrap': True}. Best is trial 0 with value: 0.4999999999999999.\n",
      "[I 2024-09-17 10:30:55,908] Trial 1 finished with value: 0.53 and parameters: {'n_estimators': 91, 'max_depth': 40, 'min_samples_split': 13, 'min_samples_leaf': 6, 'max_features': 'log2', 'bootstrap': False}. Best is trial 1 with value: 0.53.\n"
     ]
    },
    {
     "name": "stdout",
     "output_type": "stream",
     "text": [
      "RUN: Model:RandomForestClassifier / Target:['mp_bin'] / Train size:200 / Seed:3\n"
     ]
    },
    {
     "name": "stderr",
     "output_type": "stream",
     "text": [
      "[I 2024-09-17 10:30:56,587] A new study created in memory with name: no-name-dadbf24b-e1c5-4c24-bf99-a741e3e3b7b1\n",
      "[I 2024-09-17 10:30:57,542] Trial 0 finished with value: 0.595 and parameters: {'n_estimators': 154, 'max_depth': None, 'min_samples_split': 9, 'min_samples_leaf': 5, 'max_features': 'sqrt', 'bootstrap': True}. Best is trial 0 with value: 0.595.\n",
      "[I 2024-09-17 10:30:58,713] Trial 1 finished with value: 0.64 and parameters: {'n_estimators': 231, 'max_depth': 40, 'min_samples_split': 7, 'min_samples_leaf': 6, 'max_features': 'sqrt', 'bootstrap': False}. Best is trial 1 with value: 0.64.\n"
     ]
    },
    {
     "name": "stdout",
     "output_type": "stream",
     "text": [
      "RUN: Model:XGBClassifier / Target:['mp_bin'] / Train size:25 / Seed:3\n"
     ]
    },
    {
     "name": "stderr",
     "output_type": "stream",
     "text": [
      "[I 2024-09-17 10:30:59,338] A new study created in memory with name: no-name-50f94065-83bf-4b18-8925-41ef1a0f9c60\n",
      "[I 2024-09-17 10:30:59,559] Trial 0 finished with value: 0.32 and parameters: {'n_estimators': 73, 'max_depth': 5, 'learning_rate': 0.10554136443610218, 'subsample': 0.895757195427945, 'colsample_bytree': 0.695815675237164, 'gamma': 7.104620658062965e-06, 'reg_alpha': 1.474931877940059e-08, 'reg_lambda': 4.1105890826803005e-06}. Best is trial 0 with value: 0.32.\n",
      "[I 2024-09-17 10:31:00,029] Trial 1 finished with value: 0.27999999999999997 and parameters: {'n_estimators': 255, 'max_depth': 5, 'learning_rate': 0.039162629443027515, 'subsample': 0.8331358998443807, 'colsample_bytree': 0.5878518455597901, 'gamma': 8.55966709511837e-06, 'reg_alpha': 1.7217615424463675e-06, 'reg_lambda': 0.0006202759065836316}. Best is trial 0 with value: 0.32.\n"
     ]
    },
    {
     "name": "stdout",
     "output_type": "stream",
     "text": [
      "RUN: Model:XGBClassifier / Target:['mp_bin'] / Train size:50 / Seed:3\n"
     ]
    },
    {
     "name": "stderr",
     "output_type": "stream",
     "text": [
      "[I 2024-09-17 10:31:00,504] A new study created in memory with name: no-name-ac8884e7-ea77-4186-8da5-4eec03ba5dde\n",
      "[I 2024-09-17 10:31:01,018] Trial 0 finished with value: 0.44000000000000006 and parameters: {'n_estimators': 228, 'max_depth': 8, 'learning_rate': 0.18012426507985002, 'subsample': 0.8549773159025045, 'colsample_bytree': 0.8523477333262851, 'gamma': 8.064244669209317e-08, 'reg_alpha': 1.489429418282184e-08, 'reg_lambda': 0.00020443885313896386}. Best is trial 0 with value: 0.44000000000000006.\n",
      "[I 2024-09-17 10:31:01,518] Trial 1 finished with value: 0.42000000000000004 and parameters: {'n_estimators': 273, 'max_depth': 9, 'learning_rate': 0.16016055482821373, 'subsample': 0.7875955876517116, 'colsample_bytree': 0.9072205788637657, 'gamma': 1.1861263609670166e-05, 'reg_alpha': 5.8572403852175864e-05, 'reg_lambda': 2.208944770041574e-08}. Best is trial 0 with value: 0.44000000000000006.\n"
     ]
    },
    {
     "name": "stdout",
     "output_type": "stream",
     "text": [
      "RUN: Model:XGBClassifier / Target:['mp_bin'] / Train size:100 / Seed:3\n"
     ]
    },
    {
     "name": "stderr",
     "output_type": "stream",
     "text": [
      "[I 2024-09-17 10:31:02,107] A new study created in memory with name: no-name-0ad7b8b7-a024-450d-9816-4eb4df8bd93f\n",
      "[I 2024-09-17 10:31:03,184] Trial 0 finished with value: 0.52 and parameters: {'n_estimators': 295, 'max_depth': 14, 'learning_rate': 0.010370357012752207, 'subsample': 0.5018839618780427, 'colsample_bytree': 0.8368310982649967, 'gamma': 4.139198700225397e-08, 'reg_alpha': 6.322263318188044e-07, 'reg_lambda': 1.61351082701251e-05}. Best is trial 0 with value: 0.52.\n",
      "[I 2024-09-17 10:31:03,432] Trial 1 finished with value: 0.5399999999999999 and parameters: {'n_estimators': 52, 'max_depth': 14, 'learning_rate': 0.08650600080760024, 'subsample': 0.8581961142295029, 'colsample_bytree': 0.8440641366411267, 'gamma': 0.4940669050573746, 'reg_alpha': 0.12327575321017427, 'reg_lambda': 5.9064177957706455e-05}. Best is trial 1 with value: 0.5399999999999999.\n"
     ]
    },
    {
     "name": "stdout",
     "output_type": "stream",
     "text": [
      "RUN: Model:XGBClassifier / Target:['mp_bin'] / Train size:200 / Seed:3\n"
     ]
    },
    {
     "name": "stderr",
     "output_type": "stream",
     "text": [
      "[I 2024-09-17 10:31:04,142] A new study created in memory with name: no-name-dec3a4a0-3c97-47d6-b9e4-fb59f52f65d1\n",
      "[I 2024-09-17 10:31:05,176] Trial 0 finished with value: 0.615 and parameters: {'n_estimators': 261, 'max_depth': 11, 'learning_rate': 0.0979713848253234, 'subsample': 0.765305959013165, 'colsample_bytree': 0.5029692531462356, 'gamma': 0.0002727872078821265, 'reg_alpha': 1.2231230414746552e-08, 'reg_lambda': 6.121363588373275e-06}. Best is trial 0 with value: 0.615.\n",
      "[I 2024-09-17 10:31:05,842] Trial 1 finished with value: 0.5950000000000001 and parameters: {'n_estimators': 103, 'max_depth': 12, 'learning_rate': 0.020792183519201944, 'subsample': 0.8755065250150054, 'colsample_bytree': 0.6640125026937007, 'gamma': 0.028766032103909534, 'reg_alpha': 0.02839400663322438, 'reg_lambda': 0.0016867432907019995}. Best is trial 0 with value: 0.615.\n"
     ]
    }
   ],
   "source": [
    "MODEL_NAMES = ['RandomForestClassifier', 'XGBClassifier']\n",
    "TARGETS = [[i] for i in Target ]\n",
    "TRAIN_SIZES = [25, 50, 100, 200]\n",
    "\n",
    "result = []\n",
    "for seed in [1, 2, 3]:\n",
    "    for model_name in MODEL_NAMES:\n",
    "        for target in TARGETS:\n",
    "            for train_size in TRAIN_SIZES:\n",
    "                print(f'RUN: Model:{model_name} / Target:{target} / Train size:{train_size} / Seed:{seed}')\n",
    "                \n",
    "                if model_name == 'RandomForestClassifier':\n",
    "                    objective = objectiveRandomForestClassifier\n",
    "                elif model_name == 'XGBClassifier':\n",
    "                    objective = objectiveXGBClassifier\n",
    "\n",
    "                model = MLmodel(modelType=model_name, \n",
    "                df=input,\n",
    "                randomSeed=seed,\n",
    "                train_count = train_size,\n",
    "                test_count = 50, \n",
    "                target=target, \n",
    "                features=Features, \n",
    "                hyperparameter_tuning=True,\n",
    "                feature_types=Feature_types,\n",
    "                optimization_method='optuna', \n",
    "                optimization_trials=10,\n",
    "                objective=lambda trial: objective(trial, model)\n",
    "                )\n",
    "\n",
    "                model.train()\n",
    "                eval, summary = model.evaluate()\n",
    "                result.append({**summary, **eval, 'seed':seed})\n",
    "\n"
   ]
  },
  {
   "cell_type": "markdown",
   "metadata": {},
   "source": [
    "Some information about the dataset such as the splitting, wrong smiles, total number of samples."
   ]
  },
  {
   "cell_type": "code",
   "execution_count": 6,
   "metadata": {},
   "outputs": [
    {
     "data": {
      "text/html": [
       "<div>\n",
       "<style scoped>\n",
       "    .dataframe tbody tr th:only-of-type {\n",
       "        vertical-align: middle;\n",
       "    }\n",
       "\n",
       "    .dataframe tbody tr th {\n",
       "        vertical-align: top;\n",
       "    }\n",
       "\n",
       "    .dataframe thead th {\n",
       "        text-align: right;\n",
       "    }\n",
       "</style>\n",
       "<table border=\"1\" class=\"dataframe\">\n",
       "  <thead>\n",
       "    <tr style=\"text-align: right;\">\n",
       "      <th></th>\n",
       "      <th>modeltype</th>\n",
       "      <th>target</th>\n",
       "      <th>train_size</th>\n",
       "      <th>trues</th>\n",
       "      <th>preds</th>\n",
       "      <th>model_params</th>\n",
       "      <th>accuracy</th>\n",
       "      <th>f1_micro</th>\n",
       "      <th>f1_macro</th>\n",
       "      <th>kappa</th>\n",
       "      <th>seed</th>\n",
       "    </tr>\n",
       "  </thead>\n",
       "  <tbody>\n",
       "    <tr>\n",
       "      <th>0</th>\n",
       "      <td>RandomForestClassifier</td>\n",
       "      <td>[mp_bin]</td>\n",
       "      <td>25</td>\n",
       "      <td>[0, 0, 0, 0, 1, 0, 0, 1, 0, 0, 1, 1, 1, 1, 1, ...</td>\n",
       "      <td>[1, 1, 1, 1, 1, 1, 1, 1, 1, 1, 1, 1, 1, 1, 1, ...</td>\n",
       "      <td>{'bootstrap': True, 'ccp_alpha': 0.0, 'class_w...</td>\n",
       "      <td>0.46</td>\n",
       "      <td>0.46</td>\n",
       "      <td>0.315068</td>\n",
       "      <td>0.000000</td>\n",
       "      <td>1</td>\n",
       "    </tr>\n",
       "    <tr>\n",
       "      <th>1</th>\n",
       "      <td>RandomForestClassifier</td>\n",
       "      <td>[mp_bin]</td>\n",
       "      <td>50</td>\n",
       "      <td>[0, 0, 0, 0, 1, 0, 0, 1, 0, 0, 1, 1, 1, 1, 1, ...</td>\n",
       "      <td>[1, 0, 1, 0, 0, 0, 1, 1, 1, 1, 1, 1, 1, 1, 1, ...</td>\n",
       "      <td>{'bootstrap': False, 'ccp_alpha': 0.0, 'class_...</td>\n",
       "      <td>0.54</td>\n",
       "      <td>0.54</td>\n",
       "      <td>0.524597</td>\n",
       "      <td>0.111283</td>\n",
       "      <td>1</td>\n",
       "    </tr>\n",
       "    <tr>\n",
       "      <th>2</th>\n",
       "      <td>RandomForestClassifier</td>\n",
       "      <td>[mp_bin]</td>\n",
       "      <td>100</td>\n",
       "      <td>[0, 0, 0, 0, 1, 0, 0, 1, 0, 0, 1, 1, 1, 1, 1, ...</td>\n",
       "      <td>[1, 0, 0, 1, 1, 0, 1, 1, 0, 1, 1, 1, 0, 1, 1, ...</td>\n",
       "      <td>{'bootstrap': False, 'ccp_alpha': 0.0, 'class_...</td>\n",
       "      <td>0.58</td>\n",
       "      <td>0.58</td>\n",
       "      <td>0.571603</td>\n",
       "      <td>0.183515</td>\n",
       "      <td>1</td>\n",
       "    </tr>\n",
       "    <tr>\n",
       "      <th>3</th>\n",
       "      <td>RandomForestClassifier</td>\n",
       "      <td>[mp_bin]</td>\n",
       "      <td>200</td>\n",
       "      <td>[0, 0, 0, 0, 1, 0, 0, 1, 0, 0, 1, 1, 1, 1, 1, ...</td>\n",
       "      <td>[0, 0, 0, 1, 1, 0, 0, 1, 0, 0, 1, 0, 0, 1, 1, ...</td>\n",
       "      <td>{'bootstrap': False, 'ccp_alpha': 0.0, 'class_...</td>\n",
       "      <td>0.64</td>\n",
       "      <td>0.64</td>\n",
       "      <td>0.637681</td>\n",
       "      <td>0.275362</td>\n",
       "      <td>1</td>\n",
       "    </tr>\n",
       "    <tr>\n",
       "      <th>4</th>\n",
       "      <td>XGBClassifier</td>\n",
       "      <td>[mp_bin]</td>\n",
       "      <td>25</td>\n",
       "      <td>[0, 0, 0, 0, 1, 0, 0, 1, 0, 0, 1, 1, 1, 1, 1, ...</td>\n",
       "      <td>[1, 0, 0, 1, 1, 1, 0, 1, 1, 1, 1, 0, 1, 1, 1, ...</td>\n",
       "      <td>{'objective': 'binary:logistic', 'base_score':...</td>\n",
       "      <td>0.58</td>\n",
       "      <td>0.58</td>\n",
       "      <td>0.571603</td>\n",
       "      <td>0.183515</td>\n",
       "      <td>1</td>\n",
       "    </tr>\n",
       "    <tr>\n",
       "      <th>5</th>\n",
       "      <td>XGBClassifier</td>\n",
       "      <td>[mp_bin]</td>\n",
       "      <td>50</td>\n",
       "      <td>[0, 0, 0, 0, 1, 0, 0, 1, 0, 0, 1, 1, 1, 1, 1, ...</td>\n",
       "      <td>[1, 0, 0, 0, 0, 0, 1, 1, 1, 1, 1, 1, 1, 1, 1, ...</td>\n",
       "      <td>{'objective': 'binary:logistic', 'base_score':...</td>\n",
       "      <td>0.58</td>\n",
       "      <td>0.58</td>\n",
       "      <td>0.575758</td>\n",
       "      <td>0.178404</td>\n",
       "      <td>1</td>\n",
       "    </tr>\n",
       "    <tr>\n",
       "      <th>6</th>\n",
       "      <td>XGBClassifier</td>\n",
       "      <td>[mp_bin]</td>\n",
       "      <td>100</td>\n",
       "      <td>[0, 0, 0, 0, 1, 0, 0, 1, 0, 0, 1, 1, 1, 1, 1, ...</td>\n",
       "      <td>[1, 0, 0, 1, 0, 0, 0, 1, 1, 1, 1, 1, 0, 1, 1, ...</td>\n",
       "      <td>{'objective': 'binary:logistic', 'base_score':...</td>\n",
       "      <td>0.58</td>\n",
       "      <td>0.58</td>\n",
       "      <td>0.579832</td>\n",
       "      <td>0.167987</td>\n",
       "      <td>1</td>\n",
       "    </tr>\n",
       "    <tr>\n",
       "      <th>7</th>\n",
       "      <td>XGBClassifier</td>\n",
       "      <td>[mp_bin]</td>\n",
       "      <td>200</td>\n",
       "      <td>[0, 0, 0, 0, 1, 0, 0, 1, 0, 0, 1, 1, 1, 1, 1, ...</td>\n",
       "      <td>[1, 0, 0, 1, 1, 0, 0, 1, 0, 0, 1, 0, 1, 1, 1, ...</td>\n",
       "      <td>{'objective': 'binary:logistic', 'base_score':...</td>\n",
       "      <td>0.68</td>\n",
       "      <td>0.68</td>\n",
       "      <td>0.680000</td>\n",
       "      <td>0.364070</td>\n",
       "      <td>1</td>\n",
       "    </tr>\n",
       "    <tr>\n",
       "      <th>8</th>\n",
       "      <td>RandomForestClassifier</td>\n",
       "      <td>[mp_bin]</td>\n",
       "      <td>25</td>\n",
       "      <td>[0, 1, 0, 1, 1, 1, 1, 0, 0, 1, 0, 0, 0, 1, 1, ...</td>\n",
       "      <td>[1, 0, 0, 0, 0, 0, 0, 0, 1, 0, 0, 0, 0, 0, 0, ...</td>\n",
       "      <td>{'bootstrap': False, 'ccp_alpha': 0.0, 'class_...</td>\n",
       "      <td>0.36</td>\n",
       "      <td>0.36</td>\n",
       "      <td>0.264706</td>\n",
       "      <td>-0.122020</td>\n",
       "      <td>2</td>\n",
       "    </tr>\n",
       "    <tr>\n",
       "      <th>9</th>\n",
       "      <td>RandomForestClassifier</td>\n",
       "      <td>[mp_bin]</td>\n",
       "      <td>50</td>\n",
       "      <td>[0, 1, 0, 1, 1, 1, 1, 0, 0, 1, 0, 0, 0, 1, 1, ...</td>\n",
       "      <td>[0, 1, 0, 0, 1, 0, 0, 0, 1, 0, 0, 1, 1, 0, 1, ...</td>\n",
       "      <td>{'bootstrap': True, 'ccp_alpha': 0.0, 'class_w...</td>\n",
       "      <td>0.48</td>\n",
       "      <td>0.48</td>\n",
       "      <td>0.480000</td>\n",
       "      <td>-0.014041</td>\n",
       "      <td>2</td>\n",
       "    </tr>\n",
       "    <tr>\n",
       "      <th>10</th>\n",
       "      <td>RandomForestClassifier</td>\n",
       "      <td>[mp_bin]</td>\n",
       "      <td>100</td>\n",
       "      <td>[0, 1, 0, 1, 1, 1, 1, 0, 0, 1, 0, 0, 0, 1, 1, ...</td>\n",
       "      <td>[1, 1, 0, 1, 1, 1, 0, 0, 1, 0, 0, 1, 0, 1, 1, ...</td>\n",
       "      <td>{'bootstrap': False, 'ccp_alpha': 0.0, 'class_...</td>\n",
       "      <td>0.66</td>\n",
       "      <td>0.66</td>\n",
       "      <td>0.658772</td>\n",
       "      <td>0.324324</td>\n",
       "      <td>2</td>\n",
       "    </tr>\n",
       "    <tr>\n",
       "      <th>11</th>\n",
       "      <td>RandomForestClassifier</td>\n",
       "      <td>[mp_bin]</td>\n",
       "      <td>200</td>\n",
       "      <td>[0, 1, 0, 1, 1, 1, 1, 0, 0, 1, 0, 0, 0, 1, 1, ...</td>\n",
       "      <td>[0, 0, 0, 1, 1, 0, 0, 0, 1, 0, 0, 1, 0, 0, 0, ...</td>\n",
       "      <td>{'bootstrap': True, 'ccp_alpha': 0.0, 'class_w...</td>\n",
       "      <td>0.52</td>\n",
       "      <td>0.52</td>\n",
       "      <td>0.507389</td>\n",
       "      <td>0.108470</td>\n",
       "      <td>2</td>\n",
       "    </tr>\n",
       "    <tr>\n",
       "      <th>12</th>\n",
       "      <td>XGBClassifier</td>\n",
       "      <td>[mp_bin]</td>\n",
       "      <td>25</td>\n",
       "      <td>[0, 1, 0, 1, 1, 1, 1, 0, 0, 1, 0, 0, 0, 1, 1, ...</td>\n",
       "      <td>[0, 0, 0, 0, 0, 0, 0, 0, 0, 0, 0, 0, 0, 0, 0, ...</td>\n",
       "      <td>{'objective': 'binary:logistic', 'base_score':...</td>\n",
       "      <td>0.46</td>\n",
       "      <td>0.46</td>\n",
       "      <td>0.406593</td>\n",
       "      <td>0.037090</td>\n",
       "      <td>2</td>\n",
       "    </tr>\n",
       "    <tr>\n",
       "      <th>13</th>\n",
       "      <td>XGBClassifier</td>\n",
       "      <td>[mp_bin]</td>\n",
       "      <td>50</td>\n",
       "      <td>[0, 1, 0, 1, 1, 1, 1, 0, 0, 1, 0, 0, 0, 1, 1, ...</td>\n",
       "      <td>[0, 0, 0, 0, 0, 1, 0, 0, 1, 0, 0, 1, 1, 0, 1, ...</td>\n",
       "      <td>{'objective': 'binary:logistic', 'base_score':...</td>\n",
       "      <td>0.50</td>\n",
       "      <td>0.50</td>\n",
       "      <td>0.494949</td>\n",
       "      <td>-0.006441</td>\n",
       "      <td>2</td>\n",
       "    </tr>\n",
       "    <tr>\n",
       "      <th>14</th>\n",
       "      <td>XGBClassifier</td>\n",
       "      <td>[mp_bin]</td>\n",
       "      <td>100</td>\n",
       "      <td>[0, 1, 0, 1, 1, 1, 1, 0, 0, 1, 0, 0, 0, 1, 1, ...</td>\n",
       "      <td>[1, 1, 0, 1, 0, 1, 0, 0, 1, 0, 0, 1, 0, 1, 1, ...</td>\n",
       "      <td>{'objective': 'binary:logistic', 'base_score':...</td>\n",
       "      <td>0.62</td>\n",
       "      <td>0.62</td>\n",
       "      <td>0.616162</td>\n",
       "      <td>0.235105</td>\n",
       "      <td>2</td>\n",
       "    </tr>\n",
       "    <tr>\n",
       "      <th>15</th>\n",
       "      <td>XGBClassifier</td>\n",
       "      <td>[mp_bin]</td>\n",
       "      <td>200</td>\n",
       "      <td>[0, 1, 0, 1, 1, 1, 1, 0, 0, 1, 0, 0, 0, 1, 1, ...</td>\n",
       "      <td>[0, 1, 0, 1, 1, 1, 0, 0, 1, 0, 0, 1, 0, 0, 0, ...</td>\n",
       "      <td>{'objective': 'binary:logistic', 'base_score':...</td>\n",
       "      <td>0.58</td>\n",
       "      <td>0.58</td>\n",
       "      <td>0.575758</td>\n",
       "      <td>0.154589</td>\n",
       "      <td>2</td>\n",
       "    </tr>\n",
       "    <tr>\n",
       "      <th>16</th>\n",
       "      <td>RandomForestClassifier</td>\n",
       "      <td>[mp_bin]</td>\n",
       "      <td>25</td>\n",
       "      <td>[1, 1, 0, 0, 0, 1, 0, 0, 1, 1, 1, 1, 0, 1, 0, ...</td>\n",
       "      <td>[0, 0, 0, 0, 1, 1, 0, 0, 0, 0, 0, 0, 0, 0, 0, ...</td>\n",
       "      <td>{'bootstrap': True, 'ccp_alpha': 0.0, 'class_w...</td>\n",
       "      <td>0.56</td>\n",
       "      <td>0.56</td>\n",
       "      <td>0.476190</td>\n",
       "      <td>0.041812</td>\n",
       "      <td>3</td>\n",
       "    </tr>\n",
       "    <tr>\n",
       "      <th>17</th>\n",
       "      <td>RandomForestClassifier</td>\n",
       "      <td>[mp_bin]</td>\n",
       "      <td>50</td>\n",
       "      <td>[1, 1, 0, 0, 0, 1, 0, 0, 1, 1, 1, 1, 0, 1, 0, ...</td>\n",
       "      <td>[1, 0, 0, 0, 0, 0, 0, 0, 1, 1, 0, 0, 0, 0, 0, ...</td>\n",
       "      <td>{'bootstrap': True, 'ccp_alpha': 0.0, 'class_w...</td>\n",
       "      <td>0.62</td>\n",
       "      <td>0.62</td>\n",
       "      <td>0.518011</td>\n",
       "      <td>0.159292</td>\n",
       "      <td>3</td>\n",
       "    </tr>\n",
       "    <tr>\n",
       "      <th>18</th>\n",
       "      <td>RandomForestClassifier</td>\n",
       "      <td>[mp_bin]</td>\n",
       "      <td>100</td>\n",
       "      <td>[1, 1, 0, 0, 0, 1, 0, 0, 1, 1, 1, 1, 0, 1, 0, ...</td>\n",
       "      <td>[0, 0, 0, 0, 1, 1, 0, 0, 1, 1, 0, 0, 0, 0, 0, ...</td>\n",
       "      <td>{'bootstrap': False, 'ccp_alpha': 0.0, 'class_...</td>\n",
       "      <td>0.60</td>\n",
       "      <td>0.60</td>\n",
       "      <td>0.575552</td>\n",
       "      <td>0.163880</td>\n",
       "      <td>3</td>\n",
       "    </tr>\n",
       "    <tr>\n",
       "      <th>19</th>\n",
       "      <td>RandomForestClassifier</td>\n",
       "      <td>[mp_bin]</td>\n",
       "      <td>200</td>\n",
       "      <td>[1, 1, 0, 0, 0, 1, 0, 0, 1, 1, 1, 1, 0, 1, 0, ...</td>\n",
       "      <td>[0, 0, 0, 0, 1, 0, 0, 1, 1, 1, 0, 0, 0, 0, 0, ...</td>\n",
       "      <td>{'bootstrap': False, 'ccp_alpha': 0.0, 'class_...</td>\n",
       "      <td>0.58</td>\n",
       "      <td>0.58</td>\n",
       "      <td>0.509116</td>\n",
       "      <td>0.090121</td>\n",
       "      <td>3</td>\n",
       "    </tr>\n",
       "    <tr>\n",
       "      <th>20</th>\n",
       "      <td>XGBClassifier</td>\n",
       "      <td>[mp_bin]</td>\n",
       "      <td>25</td>\n",
       "      <td>[1, 1, 0, 0, 0, 1, 0, 0, 1, 1, 1, 1, 0, 1, 0, ...</td>\n",
       "      <td>[1, 0, 1, 0, 1, 1, 1, 1, 1, 0, 0, 0, 0, 0, 0, ...</td>\n",
       "      <td>{'objective': 'binary:logistic', 'base_score':...</td>\n",
       "      <td>0.56</td>\n",
       "      <td>0.56</td>\n",
       "      <td>0.548440</td>\n",
       "      <td>0.098361</td>\n",
       "      <td>3</td>\n",
       "    </tr>\n",
       "    <tr>\n",
       "      <th>21</th>\n",
       "      <td>XGBClassifier</td>\n",
       "      <td>[mp_bin]</td>\n",
       "      <td>50</td>\n",
       "      <td>[1, 1, 0, 0, 0, 1, 0, 0, 1, 1, 1, 1, 0, 1, 0, ...</td>\n",
       "      <td>[1, 0, 1, 0, 1, 0, 0, 0, 1, 0, 0, 0, 0, 0, 0, ...</td>\n",
       "      <td>{'objective': 'binary:logistic', 'base_score':...</td>\n",
       "      <td>0.60</td>\n",
       "      <td>0.60</td>\n",
       "      <td>0.575552</td>\n",
       "      <td>0.163880</td>\n",
       "      <td>3</td>\n",
       "    </tr>\n",
       "    <tr>\n",
       "      <th>22</th>\n",
       "      <td>XGBClassifier</td>\n",
       "      <td>[mp_bin]</td>\n",
       "      <td>100</td>\n",
       "      <td>[1, 1, 0, 0, 0, 1, 0, 0, 1, 1, 1, 1, 0, 1, 0, ...</td>\n",
       "      <td>[1, 0, 1, 0, 1, 0, 1, 1, 1, 1, 1, 0, 0, 0, 0, ...</td>\n",
       "      <td>{'objective': 'binary:logistic', 'base_score':...</td>\n",
       "      <td>0.60</td>\n",
       "      <td>0.60</td>\n",
       "      <td>0.594156</td>\n",
       "      <td>0.188312</td>\n",
       "      <td>3</td>\n",
       "    </tr>\n",
       "    <tr>\n",
       "      <th>23</th>\n",
       "      <td>XGBClassifier</td>\n",
       "      <td>[mp_bin]</td>\n",
       "      <td>200</td>\n",
       "      <td>[1, 1, 0, 0, 0, 1, 0, 0, 1, 1, 1, 1, 0, 1, 0, ...</td>\n",
       "      <td>[0, 0, 0, 0, 1, 0, 0, 0, 0, 1, 0, 0, 0, 0, 0, ...</td>\n",
       "      <td>{'objective': 'binary:logistic', 'base_score':...</td>\n",
       "      <td>0.60</td>\n",
       "      <td>0.60</td>\n",
       "      <td>0.565972</td>\n",
       "      <td>0.155405</td>\n",
       "      <td>3</td>\n",
       "    </tr>\n",
       "  </tbody>\n",
       "</table>\n",
       "</div>"
      ],
      "text/plain": [
       "                 modeltype    target  train_size  \\\n",
       "0   RandomForestClassifier  [mp_bin]          25   \n",
       "1   RandomForestClassifier  [mp_bin]          50   \n",
       "2   RandomForestClassifier  [mp_bin]         100   \n",
       "3   RandomForestClassifier  [mp_bin]         200   \n",
       "4            XGBClassifier  [mp_bin]          25   \n",
       "5            XGBClassifier  [mp_bin]          50   \n",
       "6            XGBClassifier  [mp_bin]         100   \n",
       "7            XGBClassifier  [mp_bin]         200   \n",
       "8   RandomForestClassifier  [mp_bin]          25   \n",
       "9   RandomForestClassifier  [mp_bin]          50   \n",
       "10  RandomForestClassifier  [mp_bin]         100   \n",
       "11  RandomForestClassifier  [mp_bin]         200   \n",
       "12           XGBClassifier  [mp_bin]          25   \n",
       "13           XGBClassifier  [mp_bin]          50   \n",
       "14           XGBClassifier  [mp_bin]         100   \n",
       "15           XGBClassifier  [mp_bin]         200   \n",
       "16  RandomForestClassifier  [mp_bin]          25   \n",
       "17  RandomForestClassifier  [mp_bin]          50   \n",
       "18  RandomForestClassifier  [mp_bin]         100   \n",
       "19  RandomForestClassifier  [mp_bin]         200   \n",
       "20           XGBClassifier  [mp_bin]          25   \n",
       "21           XGBClassifier  [mp_bin]          50   \n",
       "22           XGBClassifier  [mp_bin]         100   \n",
       "23           XGBClassifier  [mp_bin]         200   \n",
       "\n",
       "                                                trues  \\\n",
       "0   [0, 0, 0, 0, 1, 0, 0, 1, 0, 0, 1, 1, 1, 1, 1, ...   \n",
       "1   [0, 0, 0, 0, 1, 0, 0, 1, 0, 0, 1, 1, 1, 1, 1, ...   \n",
       "2   [0, 0, 0, 0, 1, 0, 0, 1, 0, 0, 1, 1, 1, 1, 1, ...   \n",
       "3   [0, 0, 0, 0, 1, 0, 0, 1, 0, 0, 1, 1, 1, 1, 1, ...   \n",
       "4   [0, 0, 0, 0, 1, 0, 0, 1, 0, 0, 1, 1, 1, 1, 1, ...   \n",
       "5   [0, 0, 0, 0, 1, 0, 0, 1, 0, 0, 1, 1, 1, 1, 1, ...   \n",
       "6   [0, 0, 0, 0, 1, 0, 0, 1, 0, 0, 1, 1, 1, 1, 1, ...   \n",
       "7   [0, 0, 0, 0, 1, 0, 0, 1, 0, 0, 1, 1, 1, 1, 1, ...   \n",
       "8   [0, 1, 0, 1, 1, 1, 1, 0, 0, 1, 0, 0, 0, 1, 1, ...   \n",
       "9   [0, 1, 0, 1, 1, 1, 1, 0, 0, 1, 0, 0, 0, 1, 1, ...   \n",
       "10  [0, 1, 0, 1, 1, 1, 1, 0, 0, 1, 0, 0, 0, 1, 1, ...   \n",
       "11  [0, 1, 0, 1, 1, 1, 1, 0, 0, 1, 0, 0, 0, 1, 1, ...   \n",
       "12  [0, 1, 0, 1, 1, 1, 1, 0, 0, 1, 0, 0, 0, 1, 1, ...   \n",
       "13  [0, 1, 0, 1, 1, 1, 1, 0, 0, 1, 0, 0, 0, 1, 1, ...   \n",
       "14  [0, 1, 0, 1, 1, 1, 1, 0, 0, 1, 0, 0, 0, 1, 1, ...   \n",
       "15  [0, 1, 0, 1, 1, 1, 1, 0, 0, 1, 0, 0, 0, 1, 1, ...   \n",
       "16  [1, 1, 0, 0, 0, 1, 0, 0, 1, 1, 1, 1, 0, 1, 0, ...   \n",
       "17  [1, 1, 0, 0, 0, 1, 0, 0, 1, 1, 1, 1, 0, 1, 0, ...   \n",
       "18  [1, 1, 0, 0, 0, 1, 0, 0, 1, 1, 1, 1, 0, 1, 0, ...   \n",
       "19  [1, 1, 0, 0, 0, 1, 0, 0, 1, 1, 1, 1, 0, 1, 0, ...   \n",
       "20  [1, 1, 0, 0, 0, 1, 0, 0, 1, 1, 1, 1, 0, 1, 0, ...   \n",
       "21  [1, 1, 0, 0, 0, 1, 0, 0, 1, 1, 1, 1, 0, 1, 0, ...   \n",
       "22  [1, 1, 0, 0, 0, 1, 0, 0, 1, 1, 1, 1, 0, 1, 0, ...   \n",
       "23  [1, 1, 0, 0, 0, 1, 0, 0, 1, 1, 1, 1, 0, 1, 0, ...   \n",
       "\n",
       "                                                preds  \\\n",
       "0   [1, 1, 1, 1, 1, 1, 1, 1, 1, 1, 1, 1, 1, 1, 1, ...   \n",
       "1   [1, 0, 1, 0, 0, 0, 1, 1, 1, 1, 1, 1, 1, 1, 1, ...   \n",
       "2   [1, 0, 0, 1, 1, 0, 1, 1, 0, 1, 1, 1, 0, 1, 1, ...   \n",
       "3   [0, 0, 0, 1, 1, 0, 0, 1, 0, 0, 1, 0, 0, 1, 1, ...   \n",
       "4   [1, 0, 0, 1, 1, 1, 0, 1, 1, 1, 1, 0, 1, 1, 1, ...   \n",
       "5   [1, 0, 0, 0, 0, 0, 1, 1, 1, 1, 1, 1, 1, 1, 1, ...   \n",
       "6   [1, 0, 0, 1, 0, 0, 0, 1, 1, 1, 1, 1, 0, 1, 1, ...   \n",
       "7   [1, 0, 0, 1, 1, 0, 0, 1, 0, 0, 1, 0, 1, 1, 1, ...   \n",
       "8   [1, 0, 0, 0, 0, 0, 0, 0, 1, 0, 0, 0, 0, 0, 0, ...   \n",
       "9   [0, 1, 0, 0, 1, 0, 0, 0, 1, 0, 0, 1, 1, 0, 1, ...   \n",
       "10  [1, 1, 0, 1, 1, 1, 0, 0, 1, 0, 0, 1, 0, 1, 1, ...   \n",
       "11  [0, 0, 0, 1, 1, 0, 0, 0, 1, 0, 0, 1, 0, 0, 0, ...   \n",
       "12  [0, 0, 0, 0, 0, 0, 0, 0, 0, 0, 0, 0, 0, 0, 0, ...   \n",
       "13  [0, 0, 0, 0, 0, 1, 0, 0, 1, 0, 0, 1, 1, 0, 1, ...   \n",
       "14  [1, 1, 0, 1, 0, 1, 0, 0, 1, 0, 0, 1, 0, 1, 1, ...   \n",
       "15  [0, 1, 0, 1, 1, 1, 0, 0, 1, 0, 0, 1, 0, 0, 0, ...   \n",
       "16  [0, 0, 0, 0, 1, 1, 0, 0, 0, 0, 0, 0, 0, 0, 0, ...   \n",
       "17  [1, 0, 0, 0, 0, 0, 0, 0, 1, 1, 0, 0, 0, 0, 0, ...   \n",
       "18  [0, 0, 0, 0, 1, 1, 0, 0, 1, 1, 0, 0, 0, 0, 0, ...   \n",
       "19  [0, 0, 0, 0, 1, 0, 0, 1, 1, 1, 0, 0, 0, 0, 0, ...   \n",
       "20  [1, 0, 1, 0, 1, 1, 1, 1, 1, 0, 0, 0, 0, 0, 0, ...   \n",
       "21  [1, 0, 1, 0, 1, 0, 0, 0, 1, 0, 0, 0, 0, 0, 0, ...   \n",
       "22  [1, 0, 1, 0, 1, 0, 1, 1, 1, 1, 1, 0, 0, 0, 0, ...   \n",
       "23  [0, 0, 0, 0, 1, 0, 0, 0, 0, 1, 0, 0, 0, 0, 0, ...   \n",
       "\n",
       "                                         model_params  accuracy  f1_micro  \\\n",
       "0   {'bootstrap': True, 'ccp_alpha': 0.0, 'class_w...      0.46      0.46   \n",
       "1   {'bootstrap': False, 'ccp_alpha': 0.0, 'class_...      0.54      0.54   \n",
       "2   {'bootstrap': False, 'ccp_alpha': 0.0, 'class_...      0.58      0.58   \n",
       "3   {'bootstrap': False, 'ccp_alpha': 0.0, 'class_...      0.64      0.64   \n",
       "4   {'objective': 'binary:logistic', 'base_score':...      0.58      0.58   \n",
       "5   {'objective': 'binary:logistic', 'base_score':...      0.58      0.58   \n",
       "6   {'objective': 'binary:logistic', 'base_score':...      0.58      0.58   \n",
       "7   {'objective': 'binary:logistic', 'base_score':...      0.68      0.68   \n",
       "8   {'bootstrap': False, 'ccp_alpha': 0.0, 'class_...      0.36      0.36   \n",
       "9   {'bootstrap': True, 'ccp_alpha': 0.0, 'class_w...      0.48      0.48   \n",
       "10  {'bootstrap': False, 'ccp_alpha': 0.0, 'class_...      0.66      0.66   \n",
       "11  {'bootstrap': True, 'ccp_alpha': 0.0, 'class_w...      0.52      0.52   \n",
       "12  {'objective': 'binary:logistic', 'base_score':...      0.46      0.46   \n",
       "13  {'objective': 'binary:logistic', 'base_score':...      0.50      0.50   \n",
       "14  {'objective': 'binary:logistic', 'base_score':...      0.62      0.62   \n",
       "15  {'objective': 'binary:logistic', 'base_score':...      0.58      0.58   \n",
       "16  {'bootstrap': True, 'ccp_alpha': 0.0, 'class_w...      0.56      0.56   \n",
       "17  {'bootstrap': True, 'ccp_alpha': 0.0, 'class_w...      0.62      0.62   \n",
       "18  {'bootstrap': False, 'ccp_alpha': 0.0, 'class_...      0.60      0.60   \n",
       "19  {'bootstrap': False, 'ccp_alpha': 0.0, 'class_...      0.58      0.58   \n",
       "20  {'objective': 'binary:logistic', 'base_score':...      0.56      0.56   \n",
       "21  {'objective': 'binary:logistic', 'base_score':...      0.60      0.60   \n",
       "22  {'objective': 'binary:logistic', 'base_score':...      0.60      0.60   \n",
       "23  {'objective': 'binary:logistic', 'base_score':...      0.60      0.60   \n",
       "\n",
       "    f1_macro     kappa  seed  \n",
       "0   0.315068  0.000000     1  \n",
       "1   0.524597  0.111283     1  \n",
       "2   0.571603  0.183515     1  \n",
       "3   0.637681  0.275362     1  \n",
       "4   0.571603  0.183515     1  \n",
       "5   0.575758  0.178404     1  \n",
       "6   0.579832  0.167987     1  \n",
       "7   0.680000  0.364070     1  \n",
       "8   0.264706 -0.122020     2  \n",
       "9   0.480000 -0.014041     2  \n",
       "10  0.658772  0.324324     2  \n",
       "11  0.507389  0.108470     2  \n",
       "12  0.406593  0.037090     2  \n",
       "13  0.494949 -0.006441     2  \n",
       "14  0.616162  0.235105     2  \n",
       "15  0.575758  0.154589     2  \n",
       "16  0.476190  0.041812     3  \n",
       "17  0.518011  0.159292     3  \n",
       "18  0.575552  0.163880     3  \n",
       "19  0.509116  0.090121     3  \n",
       "20  0.548440  0.098361     3  \n",
       "21  0.575552  0.163880     3  \n",
       "22  0.594156  0.188312     3  \n",
       "23  0.565972  0.155405     3  "
      ]
     },
     "metadata": {},
     "output_type": "display_data"
    }
   ],
   "source": [
    "df = pd.DataFrame(result)\n",
    "display(df)\n",
    "df.to_csv('H2storage_metalHydrides_traditional_ml.csv')"
   ]
  },
  {
   "cell_type": "code",
   "execution_count": 7,
   "metadata": {},
   "outputs": [
    {
     "data": {
      "text/plain": [
       "Text(0.5, 0.98, 'Random Forrest & XGB - MeltingPoint_molecules')"
      ]
     },
     "execution_count": 7,
     "metadata": {},
     "output_type": "execute_result"
    },
    {
     "data": {
      "image/png": "[encoded data removed]",
      "text/plain": [
       "<Figure size 640x480 with 4 Axes>"
      ]
     },
     "metadata": {},
     "output_type": "display_data"
    }
   ],
   "source": [
    "import matplotlib.pyplot as plt\n",
    "\n",
    "METRICS = ['accuracy','f1_micro','f1_macro', 'kappa']\n",
    "fig, ax = plt.subplots(len(METRICS), 1, sharex=True, layout = 'constrained')\n",
    "ax = ax.flatten()\n",
    "\n",
    "for i, metric in enumerate(METRICS):\n",
    "    ax[i].plot(df['train_size'], df[metric], marker = 'o')\n",
    "    ax[i].set_title(metric)\n",
    "    ax[i].set_ylim(0,1)\n",
    "\n",
    "fig.suptitle('Random Forrest & XGB - H2storage_metalHydrides')"
   ]
  }
 ],
 "metadata": {
  "kernelspec": {
   "display_name": "JorenML",
   "language": "python",
   "name": "python3"
  },
  "language_info": {
   "codemirror_mode": {
    "name": "ipython",
    "version": 3
   },
   "file_extension": ".py",
   "mimetype": "text/x-python",
   "name": "python",
   "nbconvert_exporter": "python",
   "pygments_lexer": "ipython3",
   "version": "3.10.14"
  }
 },
 "nbformat": 4,
 "nbformat_minor": 2
}
