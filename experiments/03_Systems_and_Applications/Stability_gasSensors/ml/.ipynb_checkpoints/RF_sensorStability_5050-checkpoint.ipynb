{
 "cells": [
  {
   "cell_type": "markdown",
   "metadata": {},
   "source": [
    "## Random Forest - sensor stability - 2bins - 50/50"
   ]
  },
  {
   "cell_type": "code",
   "execution_count": 1,
   "metadata": {},
   "outputs": [],
   "source": [
    "import pandas as pd\n",
    "import numpy as np\n",
    "from sklearn.model_selection import train_test_split\n",
    "from sklearn.preprocessing import LabelEncoder, OneHotEncoder\n",
    "from sklearn.metrics import accuracy_score, f1_score, cohen_kappa_score, r2_score, mean_absolute_error, root_mean_squared_error\n",
    "from sklearn.ensemble import RandomForestClassifier\n",
    "import matplotlib.pyplot as plt\n",
    "from sklearn import metrics\n",
    "import pycm\n",
    "from ast import literal_eval\n",
    "import sys\n",
    "sys.path.append(\"../plotutils/\")\n",
    "from plotutils import *\n",
    "plt.style.use(\"../plotutils/your.mplstyle\")"
   ]
  },
  {
   "cell_type": "code",
   "execution_count": 2,
   "metadata": {},
   "outputs": [
    {
     "name": "stdout",
     "output_type": "stream",
     "text": [
      "<class 'pandas.core.frame.DataFrame'>\n",
      "RangeIndex: 19 entries, 0 to 18\n",
      "Data columns (total 17 columns):\n",
      " #   Column                   Non-Null Count  Dtype  \n",
      "---  ------                   --------------  -----  \n",
      " 0   sensor                   19 non-null     object \n",
      " 1   dopant_type              19 non-null     object \n",
      " 2   dopant_dose              19 non-null     float64\n",
      " 3   calcination_temperature  19 non-null     object \n",
      " 4   BET_fresh                19 non-null     float64\n",
      " 5   particle_size_fresh      19 non-null     float64\n",
      " 6   BET_aged                 19 non-null     float64\n",
      " 7   particle_size_aged       19 non-null     float64\n",
      " 8   fresh_point              19 non-null     float64\n",
      " 9   5th_day                  19 non-null     float64\n",
      " 10  8th_day                  16 non-null     float64\n",
      " 11  12th_day                 18 non-null     float64\n",
      " 12  15th_day                 19 non-null     float64\n",
      " 13  diff_5_15day             19 non-null     float64\n",
      " 14  diff_5_15day_5050        19 non-null     int64  \n",
      " 15  diff_5_15day_3763        19 non-null     int64  \n",
      " 16  synthesis                19 non-null     object \n",
      "dtypes: float64(11), int64(2), object(4)\n",
      "memory usage: 2.6+ KB\n"
     ]
    }
   ],
   "source": [
    "df = pd.read_csv(f\"../StabilityGasSensors_dataset.csv\", sep=';')\n",
    "df.info()"
   ]
  },
  {
   "cell_type": "code",
   "execution_count": 6,
   "metadata": {},
   "outputs": [
    {
     "data": {
      "text/plain": [
       "array(['no dopant', 'Mo', 'Ce', 'Sm', 'Si'], dtype=object)"
      ]
     },
     "execution_count": 6,
     "metadata": {},
     "output_type": "execute_result"
    }
   ],
   "source": [
    "df[\"dopant_type\"].unique()"
   ]
  },
  {
   "cell_type": "code",
   "execution_count": 7,
   "metadata": {},
   "outputs": [
    {
     "data": {
      "text/plain": [
       "array(['no calcination', '700', '850'], dtype=object)"
      ]
     },
     "execution_count": 7,
     "metadata": {},
     "output_type": "execute_result"
    }
   ],
   "source": [
    "df[\"calcination_temperature\"].unique()"
   ]
  },
  {
   "cell_type": "code",
   "execution_count": 8,
   "metadata": {},
   "outputs": [],
   "source": [
    "target = \"diff_5_15day_5050\"\n",
    "representation = [\"dopant_type\", \"dopant_dose\", \"calcination_temperature\"]\n",
    "random_state=42\n",
    "train_size=10"
   ]
  },
  {
   "cell_type": "code",
   "execution_count": 9,
   "metadata": {},
   "outputs": [],
   "source": [
    "encoder_dopant = OneHotEncoder(sparse_output=False).set_output(transform=\"pandas\")\n",
    "one_hot_encoded = encoder_dopant.fit_transform(df[[\"dopant_type\"]])\n",
    "df = pd.concat([df, one_hot_encoded], axis=1)"
   ]
  },
  {
   "cell_type": "code",
   "execution_count": 10,
   "metadata": {},
   "outputs": [
    {
     "data": {
      "text/plain": [
       "Index(['sensor', 'dopant_type', 'dopant_dose', 'calcination_temperature',\n",
       "       'BET_fresh', 'particle_size_fresh', 'BET_aged', 'particle_size_aged',\n",
       "       'fresh_point', '5th_day', '8th_day', '12th_day', '15th_day',\n",
       "       'diff_0_5day', 'diff_0_5day_binned', 'diff_5_15day',\n",
       "       'diff_5_15day_2bins', 'diff_5_15day_3bins', 'diff_5_15day_5050',\n",
       "       'synthesis', 'synthesis_BET', 'dopant_type_Ce', 'dopant_type_Mo',\n",
       "       'dopant_type_Si', 'dopant_type_Sm', 'dopant_type_no dopant'],\n",
       "      dtype='object')"
      ]
     },
     "execution_count": 10,
     "metadata": {},
     "output_type": "execute_result"
    }
   ],
   "source": [
    "df.columns"
   ]
  },
  {
   "cell_type": "code",
   "execution_count": 11,
   "metadata": {},
   "outputs": [],
   "source": [
    "encoder_temp = OneHotEncoder(sparse_output=False).set_output(transform=\"pandas\")\n",
    "one_hot_encoded = encoder_temp.fit_transform(df[[\"calcination_temperature\"]])\n",
    "df = pd.concat([df, one_hot_encoded], axis=1)"
   ]
  },
  {
   "cell_type": "code",
   "execution_count": 12,
   "metadata": {},
   "outputs": [
    {
     "data": {
      "text/plain": [
       "Index(['sensor', 'dopant_type', 'dopant_dose', 'calcination_temperature',\n",
       "       'BET_fresh', 'particle_size_fresh', 'BET_aged', 'particle_size_aged',\n",
       "       'fresh_point', '5th_day', '8th_day', '12th_day', '15th_day',\n",
       "       'diff_0_5day', 'diff_0_5day_binned', 'diff_5_15day',\n",
       "       'diff_5_15day_2bins', 'diff_5_15day_3bins', 'diff_5_15day_5050',\n",
       "       'synthesis', 'synthesis_BET', 'dopant_type_Ce', 'dopant_type_Mo',\n",
       "       'dopant_type_Si', 'dopant_type_Sm', 'dopant_type_no dopant',\n",
       "       'calcination_temperature_700', 'calcination_temperature_850',\n",
       "       'calcination_temperature_no calcination'],\n",
       "      dtype='object')"
      ]
     },
     "execution_count": 12,
     "metadata": {},
     "output_type": "execute_result"
    }
   ],
   "source": [
    "df.columns"
   ]
  },
  {
   "cell_type": "code",
   "execution_count": 13,
   "metadata": {},
   "outputs": [
    {
     "data": {
      "text/plain": [
       "['dopant_type_Ce',\n",
       " 'dopant_type_Mo',\n",
       " 'dopant_type_Si',\n",
       " 'dopant_type_Sm',\n",
       " 'dopant_type_no dopant',\n",
       " 'calcination_temperature_700',\n",
       " 'calcination_temperature_850',\n",
       " 'calcination_temperature_no calcination']"
      ]
     },
     "execution_count": 13,
     "metadata": {},
     "output_type": "execute_result"
    }
   ],
   "source": [
    "df.columns[21:30].to_list()"
   ]
  },
  {
   "cell_type": "code",
   "execution_count": 14,
   "metadata": {},
   "outputs": [],
   "source": [
    "representation = [\"dopant_dose\"]\n",
    "representation.extend(df.columns[21:30].to_list())"
   ]
  },
  {
   "cell_type": "code",
   "execution_count": 15,
   "metadata": {},
   "outputs": [
    {
     "data": {
      "text/plain": [
       "['dopant_dose',\n",
       " 'dopant_type_Ce',\n",
       " 'dopant_type_Mo',\n",
       " 'dopant_type_Si',\n",
       " 'dopant_type_Sm',\n",
       " 'dopant_type_no dopant',\n",
       " 'calcination_temperature_700',\n",
       " 'calcination_temperature_850',\n",
       " 'calcination_temperature_no calcination']"
      ]
     },
     "execution_count": 15,
     "metadata": {},
     "output_type": "execute_result"
    }
   ],
   "source": [
    "representation"
   ]
  },
  {
   "cell_type": "code",
   "execution_count": 16,
   "metadata": {},
   "outputs": [],
   "source": [
    "def prepare_dataset_classification(\n",
    "    df,\n",
    "    target = \"diff_5_15day_5050\",\n",
    "    representation = representation,\n",
    "    random_state=42,\n",
    "    train_size=10\n",
    "):\n",
    "    df_train, df_test = train_test_split(\n",
    "        df,\n",
    "        train_size=train_size,\n",
    "        random_state=random_state,\n",
    "        stratify=df[target].astype(int).values,\n",
    "    )\n",
    "\n",
    "    print(len(df_train), len(df_test))\n",
    "    \n",
    "    X_train, y_train = df_train[representation], df_train[target]\n",
    "    X_test, y_test = df_test[representation], df_test[target]\n",
    "    \n",
    "    return X_train, y_train, X_test, y_test"
   ]
  },
  {
   "cell_type": "code",
   "execution_count": 17,
   "metadata": {},
   "outputs": [],
   "source": [
    "def train_and_evaluate_classifier(X_train, y_train, X_test, y_test, random_state=42):\n",
    "    clf = RandomForestClassifier(\n",
    "        n_estimators=100, \n",
    "        random_state=random_state,\n",
    "        verbose=True\n",
    "    )\n",
    "    \n",
    "    clf.fit(X_train, y_train)\n",
    "    \n",
    "    y_pred = clf.predict(X_test)\n",
    "    y_test = np.array(y_test)\n",
    "    \n",
    "    acc = accuracy_score(y_test, y_pred)\n",
    "    f1_macro = f1_score(y_test, y_pred, average=\"macro\")\n",
    "    f1_micro = f1_score(y_test, y_pred, average=\"micro\")\n",
    "    f1_weighted = f1_score(y_test, y_pred, average='weighted')\n",
    "    kappa = cohen_kappa_score(y_test, y_pred)\n",
    "    \n",
    "    return y_test, y_pred, acc, f1_macro, f1_micro, f1_weighted, kappa"
   ]
  },
  {
   "cell_type": "code",
   "execution_count": 18,
   "metadata": {},
   "outputs": [],
   "source": [
    "def metrics_dict():\n",
    "    metrics_dict = {\n",
    "        \"train_size\": train_size,\n",
    "        \"y_true\": y_test_all,\n",
    "        \"y_pred\": y_pred_all,\n",
    "        \"accuracy\": acc_scores,\n",
    "        \"f1_macro\": f1macro_scores,\n",
    "        \"f1_micro\": f1micro_scores,\n",
    "        \"f1_weighted\": f1weighted_scores,\n",
    "        \"kappa\": kappa_scores\n",
    "    }\n",
    "    return metrics_dict"
   ]
  },
  {
   "cell_type": "markdown",
   "metadata": {},
   "source": [
    "### training size = 5"
   ]
  },
  {
   "cell_type": "code",
   "execution_count": 19,
   "metadata": {},
   "outputs": [],
   "source": [
    "train_size = 5\n",
    "iterations = 10\n",
    "y_test_all = []\n",
    "y_pred_all = []\n",
    "acc_scores = []\n",
    "f1macro_scores = []\n",
    "f1micro_scores = []\n",
    "f1weighted_scores = []\n",
    "kappa_scores = []"
   ]
  },
  {
   "cell_type": "code",
   "execution_count": 20,
   "metadata": {
    "scrolled": true
   },
   "outputs": [
    {
     "name": "stdout",
     "output_type": "stream",
     "text": [
      "-------------Iteration 1/10\n",
      "5 14\n",
      "random_state = 42\n",
      "Accuracy: 0.5714285714285714\n",
      "F1 macro: 0.5333333333333333\n",
      "F1 micro: 0.5714285714285714\n",
      "F1 weighted: 0.5333333333333333\n",
      "Kappa: 0.1428571428571429\n",
      "-------------Iteration 2/10\n",
      "5 14\n",
      "random_state = 43\n",
      "Accuracy: 0.6428571428571429\n",
      "F1 macro: 0.5906432748538011\n",
      "F1 micro: 0.6428571428571429\n",
      "F1 weighted: 0.5906432748538012\n",
      "Kappa: 0.2857142857142857\n",
      "-------------Iteration 3/10\n",
      "5 14\n",
      "random_state = 44\n"
     ]
    },
    {
     "name": "stderr",
     "output_type": "stream",
     "text": [
      "[Parallel(n_jobs=1)]: Done  49 tasks      | elapsed:    0.0s\n",
      "[Parallel(n_jobs=1)]: Done  49 tasks      | elapsed:    0.0s\n",
      "[Parallel(n_jobs=1)]: Done  49 tasks      | elapsed:    0.0s\n",
      "[Parallel(n_jobs=1)]: Done  49 tasks      | elapsed:    0.0s\n",
      "[Parallel(n_jobs=1)]: Done  49 tasks      | elapsed:    0.1s\n",
      "[Parallel(n_jobs=1)]: Done  49 tasks      | elapsed:    0.0s\n",
      "[Parallel(n_jobs=1)]: Done  49 tasks      | elapsed:    0.1s\n",
      "[Parallel(n_jobs=1)]: Done  49 tasks      | elapsed:    0.0s\n"
     ]
    },
    {
     "name": "stdout",
     "output_type": "stream",
     "text": [
      "Accuracy: 0.5\n",
      "F1 macro: 0.47593582887700536\n",
      "F1 micro: 0.5\n",
      "F1 weighted: 0.4759358288770054\n",
      "Kappa: 0.0\n",
      "-------------Iteration 4/10\n",
      "5 14\n",
      "random_state = 45\n",
      "Accuracy: 0.5\n",
      "F1 macro: 0.49743589743589745\n",
      "F1 micro: 0.5\n",
      "F1 weighted: 0.49743589743589745\n",
      "Kappa: 0.0\n",
      "-------------Iteration 5/10\n",
      "5 14\n",
      "random_state = 46\n"
     ]
    },
    {
     "name": "stderr",
     "output_type": "stream",
     "text": [
      "[Parallel(n_jobs=1)]: Done  49 tasks      | elapsed:    0.0s\n",
      "[Parallel(n_jobs=1)]: Done  49 tasks      | elapsed:    0.0s\n",
      "[Parallel(n_jobs=1)]: Done  49 tasks      | elapsed:    0.0s\n",
      "[Parallel(n_jobs=1)]: Done  49 tasks      | elapsed:    0.0s\n"
     ]
    },
    {
     "name": "stdout",
     "output_type": "stream",
     "text": [
      "Accuracy: 0.42857142857142855\n",
      "F1 macro: 0.42857142857142855\n",
      "F1 micro: 0.42857142857142855\n",
      "F1 weighted: 0.42857142857142855\n",
      "Kappa: -0.1428571428571428\n",
      "-------------Iteration 6/10\n",
      "5 14\n",
      "random_state = 47\n",
      "Accuracy: 0.35714285714285715\n",
      "F1 macro: 0.35384615384615387\n",
      "F1 micro: 0.35714285714285715\n",
      "F1 weighted: 0.35384615384615387\n",
      "Kappa: -0.2857142857142858\n",
      "-------------Iteration 7/10\n",
      "5 14\n",
      "random_state = 48\n"
     ]
    },
    {
     "name": "stderr",
     "output_type": "stream",
     "text": [
      "[Parallel(n_jobs=1)]: Done  49 tasks      | elapsed:    0.0s\n",
      "[Parallel(n_jobs=1)]: Done  49 tasks      | elapsed:    0.0s\n",
      "[Parallel(n_jobs=1)]: Done  49 tasks      | elapsed:    0.0s\n",
      "[Parallel(n_jobs=1)]: Done  49 tasks      | elapsed:    0.0s\n",
      "[Parallel(n_jobs=1)]: Done  49 tasks      | elapsed:    0.0s\n"
     ]
    },
    {
     "name": "stdout",
     "output_type": "stream",
     "text": [
      "Accuracy: 0.6428571428571429\n",
      "F1 macro: 0.5906432748538011\n",
      "F1 micro: 0.6428571428571429\n",
      "F1 weighted: 0.5906432748538012\n",
      "Kappa: 0.2857142857142857\n",
      "-------------Iteration 8/10\n",
      "5 14\n",
      "random_state = 49\n",
      "Accuracy: 0.6428571428571429\n",
      "F1 macro: 0.5906432748538011\n",
      "F1 micro: 0.6428571428571429\n",
      "F1 weighted: 0.5906432748538012\n",
      "Kappa: 0.2857142857142857\n",
      "-------------Iteration 9/10\n",
      "5 14\n",
      "random_state = 50\n",
      "Accuracy: 0.42857142857142855\n",
      "F1 macro: 0.42857142857142855\n",
      "F1 micro: 0.42857142857142855\n",
      "F1 weighted: 0.42857142857142855\n",
      "Kappa: -0.1428571428571428\n",
      "-------------Iteration 10/10\n",
      "5 14\n",
      "random_state = 51\n",
      "Accuracy: 0.6428571428571429\n",
      "F1 macro: 0.5906432748538011\n",
      "F1 micro: 0.6428571428571429\n",
      "F1 weighted: 0.5906432748538012\n",
      "Kappa: 0.2857142857142857\n"
     ]
    },
    {
     "name": "stderr",
     "output_type": "stream",
     "text": [
      "[Parallel(n_jobs=1)]: Done  49 tasks      | elapsed:    0.0s\n",
      "[Parallel(n_jobs=1)]: Done  49 tasks      | elapsed:    0.0s\n",
      "[Parallel(n_jobs=1)]: Done  49 tasks      | elapsed:    0.0s\n"
     ]
    }
   ],
   "source": [
    "for n in range(iterations):\n",
    "    print(f\"-------------Iteration {n + 1}/{iterations}\")\n",
    "    random_state=42+n\n",
    "\n",
    "    X_train, y_train, X_test, y_test = prepare_dataset_classification(\n",
    "        df,\n",
    "        random_state=random_state,\n",
    "        train_size=train_size\n",
    "    )\n",
    "    print(f\"random_state = {random_state}\")\n",
    "\n",
    "    y_test, y_pred, acc, f1_macro, f1_micro, f1_weighted, kappa = train_and_evaluate_classifier(\n",
    "        X_train, \n",
    "        y_train, \n",
    "        X_test, \n",
    "        y_test, \n",
    "        random_state=random_state\n",
    "    )\n",
    "    \n",
    "    y_test_all.append(y_test)\n",
    "    y_pred_all.append(y_pred)\n",
    "    acc_scores.append(acc)\n",
    "    f1macro_scores.append(f1_macro)\n",
    "    f1micro_scores.append(f1_micro)\n",
    "    f1weighted_scores.append(f1_weighted)\n",
    "    kappa_scores.append(kappa)\n",
    "    print(f\"Accuracy: {acc}\")\n",
    "    print(f\"F1 macro: {f1_macro}\")\n",
    "    print(f\"F1 micro: {f1_micro}\")\n",
    "    print(f\"F1 weighted: {f1_weighted}\")\n",
    "    print(f\"Kappa: {kappa}\")"
   ]
  },
  {
   "cell_type": "code",
   "execution_count": 21,
   "metadata": {},
   "outputs": [
    {
     "name": "stdout",
     "output_type": "stream",
     "text": [
      "FINAL REPORT for training size = 5\n",
      "mean accuracy: 0.5357142857142858 +/- 0.10227015045197398\n",
      "mean F1 macro: 0.5080267170050452 +/- 0.0809211527903665\n",
      "mean F1 micro: 0.5357142857142858 +/- 0.10227015045197398\n",
      "mean F1 weighted: 0.5080267170050452 +/- 0.08092115279036655\n",
      "mean Kappa: 0.07142857142857142 +/- 0.2045403009039479\n"
     ]
    }
   ],
   "source": [
    "print(f\"FINAL REPORT for training size = {train_size}\")\n",
    "\n",
    "print(f\"mean accuracy: {np.mean(acc_scores)} +/- {np.std(acc_scores)}\")\n",
    "print(f\"mean F1 macro: {np.mean(f1macro_scores)} +/- {np.std(f1macro_scores)}\")\n",
    "print(f\"mean F1 micro: {np.mean(f1micro_scores)} +/- {np.std(f1micro_scores)}\")\n",
    "print(f\"mean F1 weighted: {np.mean(f1weighted_scores)} +/- {np.std(f1weighted_scores)}\")\n",
    "print(f\"mean Kappa: {np.mean(kappa_scores)} +/- {np.std(kappa_scores)}\")"
   ]
  },
  {
   "cell_type": "code",
   "execution_count": 22,
   "metadata": {},
   "outputs": [
    {
     "data": {
      "text/html": [
       "<div>\n",
       "<style scoped>\n",
       "    .dataframe tbody tr th:only-of-type {\n",
       "        vertical-align: middle;\n",
       "    }\n",
       "\n",
       "    .dataframe tbody tr th {\n",
       "        vertical-align: top;\n",
       "    }\n",
       "\n",
       "    .dataframe thead th {\n",
       "        text-align: right;\n",
       "    }\n",
       "</style>\n",
       "<table border=\"1\" class=\"dataframe\">\n",
       "  <thead>\n",
       "    <tr style=\"text-align: right;\">\n",
       "      <th></th>\n",
       "      <th>train_size</th>\n",
       "      <th>y_true</th>\n",
       "      <th>y_pred</th>\n",
       "      <th>accuracy</th>\n",
       "      <th>f1_macro</th>\n",
       "      <th>f1_micro</th>\n",
       "      <th>f1_weighted</th>\n",
       "      <th>kappa</th>\n",
       "    </tr>\n",
       "  </thead>\n",
       "  <tbody>\n",
       "    <tr>\n",
       "      <th>0</th>\n",
       "      <td>5</td>\n",
       "      <td>[1, 1, 0, 0, 1, 1, 0, 1, 0, 1, 0, 0, 1, 0]</td>\n",
       "      <td>[0, 1, 0, 0, 1, 0, 0, 0, 0, 0, 1, 0, 0, 0]</td>\n",
       "      <td>0.571429</td>\n",
       "      <td>0.533333</td>\n",
       "      <td>0.571429</td>\n",
       "      <td>0.533333</td>\n",
       "      <td>0.142857</td>\n",
       "    </tr>\n",
       "    <tr>\n",
       "      <th>1</th>\n",
       "      <td>5</td>\n",
       "      <td>[1, 0, 1, 0, 1, 1, 0, 1, 0, 0, 0, 1, 1, 0]</td>\n",
       "      <td>[0, 0, 0, 0, 1, 1, 0, 0, 0, 0, 0, 0, 0, 0]</td>\n",
       "      <td>0.642857</td>\n",
       "      <td>0.590643</td>\n",
       "      <td>0.642857</td>\n",
       "      <td>0.590643</td>\n",
       "      <td>0.285714</td>\n",
       "    </tr>\n",
       "    <tr>\n",
       "      <th>2</th>\n",
       "      <td>5</td>\n",
       "      <td>[1, 0, 1, 1, 1, 0, 1, 0, 0, 0, 0, 0, 1, 1]</td>\n",
       "      <td>[1, 0, 1, 0, 0, 0, 0, 0, 1, 0, 0, 1, 0, 0]</td>\n",
       "      <td>0.500000</td>\n",
       "      <td>0.475936</td>\n",
       "      <td>0.500000</td>\n",
       "      <td>0.475936</td>\n",
       "      <td>0.000000</td>\n",
       "    </tr>\n",
       "  </tbody>\n",
       "</table>\n",
       "</div>"
      ],
      "text/plain": [
       "   train_size                                      y_true  \\\n",
       "0           5  [1, 1, 0, 0, 1, 1, 0, 1, 0, 1, 0, 0, 1, 0]   \n",
       "1           5  [1, 0, 1, 0, 1, 1, 0, 1, 0, 0, 0, 1, 1, 0]   \n",
       "2           5  [1, 0, 1, 1, 1, 0, 1, 0, 0, 0, 0, 0, 1, 1]   \n",
       "\n",
       "                                       y_pred  accuracy  f1_macro  f1_micro  \\\n",
       "0  [0, 1, 0, 0, 1, 0, 0, 0, 0, 0, 1, 0, 0, 0]  0.571429  0.533333  0.571429   \n",
       "1  [0, 0, 0, 0, 1, 1, 0, 0, 0, 0, 0, 0, 0, 0]  0.642857  0.590643  0.642857   \n",
       "2  [1, 0, 1, 0, 0, 0, 0, 0, 1, 0, 0, 1, 0, 0]  0.500000  0.475936  0.500000   \n",
       "\n",
       "   f1_weighted     kappa  \n",
       "0     0.533333  0.142857  \n",
       "1     0.590643  0.285714  \n",
       "2     0.475936  0.000000  "
      ]
     },
     "execution_count": 22,
     "metadata": {},
     "output_type": "execute_result"
    }
   ],
   "source": [
    "compiled_res_5 = pd.DataFrame(metrics_dict())\n",
    "compiled_res_5.head(3)"
   ]
  },
  {
   "cell_type": "markdown",
   "metadata": {},
   "source": [
    "### training size = 8"
   ]
  },
  {
   "cell_type": "code",
   "execution_count": 23,
   "metadata": {},
   "outputs": [],
   "source": [
    "train_size = 8\n",
    "iterations = 10\n",
    "y_test_all = []\n",
    "y_pred_all = []\n",
    "acc_scores = []\n",
    "f1macro_scores = []\n",
    "f1micro_scores = []\n",
    "f1weighted_scores = []\n",
    "kappa_scores = []"
   ]
  },
  {
   "cell_type": "code",
   "execution_count": 24,
   "metadata": {
    "scrolled": true
   },
   "outputs": [
    {
     "name": "stdout",
     "output_type": "stream",
     "text": [
      "-------------Iteration 1/10\n",
      "8 11\n",
      "random_state = 42\n",
      "Accuracy: 0.7272727272727273\n",
      "F1 macro: 0.6857142857142857\n",
      "F1 micro: 0.7272727272727273\n",
      "F1 weighted: 0.6961038961038961\n",
      "Kappa: 0.42105263157894735\n",
      "-------------Iteration 2/10\n",
      "8 11\n",
      "random_state = 43\n",
      "Accuracy: 0.6363636363636364\n",
      "F1 macro: 0.6333333333333333\n",
      "F1 micro: 0.6363636363636364\n",
      "F1 weighted: 0.6303030303030303\n",
      "Kappa: 0.29032258064516137\n",
      "-------------Iteration 3/10\n",
      "8 11\n",
      "random_state = 44\n"
     ]
    },
    {
     "name": "stderr",
     "output_type": "stream",
     "text": [
      "[Parallel(n_jobs=1)]: Done  49 tasks      | elapsed:    0.0s\n",
      "[Parallel(n_jobs=1)]: Done  49 tasks      | elapsed:    0.0s\n",
      "[Parallel(n_jobs=1)]: Done  49 tasks      | elapsed:    0.0s\n",
      "[Parallel(n_jobs=1)]: Done  49 tasks      | elapsed:    0.0s\n",
      "[Parallel(n_jobs=1)]: Done  49 tasks      | elapsed:    0.0s\n",
      "[Parallel(n_jobs=1)]: Done  49 tasks      | elapsed:    0.0s\n",
      "[Parallel(n_jobs=1)]: Done  49 tasks      | elapsed:    0.0s\n",
      "[Parallel(n_jobs=1)]: Done  49 tasks      | elapsed:    0.0s\n",
      "[Parallel(n_jobs=1)]: Done  49 tasks      | elapsed:    0.0s\n",
      "[Parallel(n_jobs=1)]: Done  49 tasks      | elapsed:    0.0s\n"
     ]
    },
    {
     "name": "stdout",
     "output_type": "stream",
     "text": [
      "Accuracy: 0.5454545454545454\n",
      "F1 macro: 0.5454545454545454\n",
      "F1 micro: 0.5454545454545454\n",
      "F1 weighted: 0.5454545454545454\n",
      "Kappa: 0.09836065573770503\n",
      "-------------Iteration 4/10\n",
      "8 11\n",
      "random_state = 45\n",
      "Accuracy: 0.5454545454545454\n",
      "F1 macro: 0.5299145299145299\n",
      "F1 micro: 0.5454545454545454\n",
      "F1 weighted: 0.5221445221445221\n",
      "Kappa: 0.12698412698412687\n",
      "-------------Iteration 5/10\n",
      "8 11\n",
      "random_state = 46\n",
      "Accuracy: 0.45454545454545453\n",
      "F1 macro: 0.45\n",
      "F1 micro: 0.45454545454545453\n",
      "F1 weighted: 0.4454545454545455\n",
      "Kappa: -0.06451612903225801\n",
      "-------------Iteration 6/10\n",
      "8 11\n",
      "random_state = 47\n"
     ]
    },
    {
     "name": "stderr",
     "output_type": "stream",
     "text": [
      "[Parallel(n_jobs=1)]: Done  49 tasks      | elapsed:    0.0s\n",
      "[Parallel(n_jobs=1)]: Done  49 tasks      | elapsed:    0.0s\n",
      "[Parallel(n_jobs=1)]: Done  49 tasks      | elapsed:    0.0s\n",
      "[Parallel(n_jobs=1)]: Done  49 tasks      | elapsed:    0.0s\n",
      "[Parallel(n_jobs=1)]: Done  49 tasks      | elapsed:    0.0s\n"
     ]
    },
    {
     "name": "stdout",
     "output_type": "stream",
     "text": [
      "Accuracy: 0.6363636363636364\n",
      "F1 macro: 0.6333333333333333\n",
      "F1 micro: 0.6363636363636364\n",
      "F1 weighted: 0.6363636363636364\n",
      "Kappa: 0.2666666666666666\n",
      "-------------Iteration 7/10\n",
      "8 11\n",
      "random_state = 48\n",
      "Accuracy: 0.5454545454545454\n",
      "F1 macro: 0.35294117647058826\n",
      "F1 micro: 0.5454545454545454\n",
      "F1 weighted: 0.3850267379679144\n",
      "Kappa: 0.0\n",
      "-------------Iteration 8/10\n",
      "8 11\n",
      "random_state = 49\n",
      "Accuracy: 0.6363636363636364\n",
      "F1 macro: 0.6071428571428572\n",
      "F1 micro: 0.6363636363636364\n",
      "F1 weighted: 0.6168831168831169\n",
      "Kappa: 0.2413793103448275\n",
      "-------------Iteration 9/10\n",
      "8 11\n",
      "random_state = 50\n"
     ]
    },
    {
     "name": "stderr",
     "output_type": "stream",
     "text": [
      "[Parallel(n_jobs=1)]: Done  49 tasks      | elapsed:    0.0s\n",
      "[Parallel(n_jobs=1)]: Done  49 tasks      | elapsed:    0.0s\n",
      "[Parallel(n_jobs=1)]: Done  49 tasks      | elapsed:    0.0s\n",
      "[Parallel(n_jobs=1)]: Done  49 tasks      | elapsed:    0.0s\n"
     ]
    },
    {
     "name": "stdout",
     "output_type": "stream",
     "text": [
      "Accuracy: 0.36363636363636365\n",
      "F1 macro: 0.36363636363636365\n",
      "F1 micro: 0.36363636363636365\n",
      "F1 weighted: 0.36363636363636365\n",
      "Kappa: -0.26229508196721296\n",
      "-------------Iteration 10/10\n",
      "8 11\n",
      "random_state = 51\n",
      "Accuracy: 0.5454545454545454\n",
      "F1 macro: 0.5299145299145299\n",
      "F1 micro: 0.5454545454545454\n",
      "F1 weighted: 0.5221445221445221\n",
      "Kappa: 0.12698412698412687\n"
     ]
    },
    {
     "name": "stderr",
     "output_type": "stream",
     "text": [
      "[Parallel(n_jobs=1)]: Done  49 tasks      | elapsed:    0.0s\n"
     ]
    }
   ],
   "source": [
    "for n in range(iterations):\n",
    "    print(f\"-------------Iteration {n + 1}/{iterations}\")\n",
    "    random_state=42+n\n",
    "\n",
    "    X_train, y_train, X_test, y_test = prepare_dataset_classification(\n",
    "        df,\n",
    "        random_state=random_state,\n",
    "        train_size=train_size\n",
    "    )\n",
    "    print(f\"random_state = {random_state}\")\n",
    "\n",
    "    y_test, y_pred, acc, f1_macro, f1_micro, f1_weighted, kappa = train_and_evaluate_classifier(\n",
    "        X_train, \n",
    "        y_train, \n",
    "        X_test, \n",
    "        y_test, \n",
    "        random_state=random_state\n",
    "    )\n",
    "    \n",
    "    y_test_all.append(y_test)\n",
    "    y_pred_all.append(y_pred)\n",
    "    acc_scores.append(acc)\n",
    "    f1macro_scores.append(f1_macro)\n",
    "    f1micro_scores.append(f1_micro)\n",
    "    f1weighted_scores.append(f1_weighted)\n",
    "    kappa_scores.append(kappa)\n",
    "    print(f\"Accuracy: {acc}\")\n",
    "    print(f\"F1 macro: {f1_macro}\")\n",
    "    print(f\"F1 micro: {f1_micro}\")\n",
    "    print(f\"F1 weighted: {f1_weighted}\")\n",
    "    print(f\"Kappa: {kappa}\")"
   ]
  },
  {
   "cell_type": "code",
   "execution_count": 25,
   "metadata": {},
   "outputs": [
    {
     "name": "stdout",
     "output_type": "stream",
     "text": [
      "FINAL REPORT for training size = 8\n",
      "mean accuracy: 0.5636363636363635 +/- 0.09791208740244553\n",
      "mean F1 macro: 0.5331384954914367 +/- 0.10822225153773163\n",
      "mean F1 micro: 0.5636363636363635 +/- 0.09791208740244553\n",
      "mean F1 weighted: 0.5363514916456092 +/- 0.10597829353220366\n",
      "mean Kappa: 0.12449388879420908 +/- 0.18730886659021687\n"
     ]
    }
   ],
   "source": [
    "print(f\"FINAL REPORT for training size = {train_size}\")\n",
    "\n",
    "print(f\"mean accuracy: {np.mean(acc_scores)} +/- {np.std(acc_scores)}\")\n",
    "print(f\"mean F1 macro: {np.mean(f1macro_scores)} +/- {np.std(f1macro_scores)}\")\n",
    "print(f\"mean F1 micro: {np.mean(f1micro_scores)} +/- {np.std(f1micro_scores)}\")\n",
    "print(f\"mean F1 weighted: {np.mean(f1weighted_scores)} +/- {np.std(f1weighted_scores)}\")\n",
    "print(f\"mean Kappa: {np.mean(kappa_scores)} +/- {np.std(kappa_scores)}\")"
   ]
  },
  {
   "cell_type": "code",
   "execution_count": 26,
   "metadata": {},
   "outputs": [
    {
     "data": {
      "text/html": [
       "<div>\n",
       "<style scoped>\n",
       "    .dataframe tbody tr th:only-of-type {\n",
       "        vertical-align: middle;\n",
       "    }\n",
       "\n",
       "    .dataframe tbody tr th {\n",
       "        vertical-align: top;\n",
       "    }\n",
       "\n",
       "    .dataframe thead th {\n",
       "        text-align: right;\n",
       "    }\n",
       "</style>\n",
       "<table border=\"1\" class=\"dataframe\">\n",
       "  <thead>\n",
       "    <tr style=\"text-align: right;\">\n",
       "      <th></th>\n",
       "      <th>train_size</th>\n",
       "      <th>y_true</th>\n",
       "      <th>y_pred</th>\n",
       "      <th>accuracy</th>\n",
       "      <th>f1_macro</th>\n",
       "      <th>f1_micro</th>\n",
       "      <th>f1_weighted</th>\n",
       "      <th>kappa</th>\n",
       "    </tr>\n",
       "  </thead>\n",
       "  <tbody>\n",
       "    <tr>\n",
       "      <th>0</th>\n",
       "      <td>8</td>\n",
       "      <td>[1, 0, 1, 0, 0, 1, 0, 0, 1, 0, 1]</td>\n",
       "      <td>[0, 0, 0, 0, 0, 1, 0, 0, 1, 0, 0]</td>\n",
       "      <td>0.727273</td>\n",
       "      <td>0.685714</td>\n",
       "      <td>0.727273</td>\n",
       "      <td>0.696104</td>\n",
       "      <td>0.421053</td>\n",
       "    </tr>\n",
       "    <tr>\n",
       "      <th>1</th>\n",
       "      <td>8</td>\n",
       "      <td>[0, 0, 0, 1, 1, 1, 1, 0, 1, 0, 0]</td>\n",
       "      <td>[0, 1, 1, 1, 1, 0, 1, 0, 1, 1, 0]</td>\n",
       "      <td>0.636364</td>\n",
       "      <td>0.633333</td>\n",
       "      <td>0.636364</td>\n",
       "      <td>0.630303</td>\n",
       "      <td>0.290323</td>\n",
       "    </tr>\n",
       "    <tr>\n",
       "      <th>2</th>\n",
       "      <td>8</td>\n",
       "      <td>[1, 1, 1, 0, 1, 0, 0, 0, 0, 0, 1]</td>\n",
       "      <td>[0, 1, 1, 0, 0, 0, 0, 1, 1, 1, 1]</td>\n",
       "      <td>0.545455</td>\n",
       "      <td>0.545455</td>\n",
       "      <td>0.545455</td>\n",
       "      <td>0.545455</td>\n",
       "      <td>0.098361</td>\n",
       "    </tr>\n",
       "  </tbody>\n",
       "</table>\n",
       "</div>"
      ],
      "text/plain": [
       "   train_size                             y_true  \\\n",
       "0           8  [1, 0, 1, 0, 0, 1, 0, 0, 1, 0, 1]   \n",
       "1           8  [0, 0, 0, 1, 1, 1, 1, 0, 1, 0, 0]   \n",
       "2           8  [1, 1, 1, 0, 1, 0, 0, 0, 0, 0, 1]   \n",
       "\n",
       "                              y_pred  accuracy  f1_macro  f1_micro  \\\n",
       "0  [0, 0, 0, 0, 0, 1, 0, 0, 1, 0, 0]  0.727273  0.685714  0.727273   \n",
       "1  [0, 1, 1, 1, 1, 0, 1, 0, 1, 1, 0]  0.636364  0.633333  0.636364   \n",
       "2  [0, 1, 1, 0, 0, 0, 0, 1, 1, 1, 1]  0.545455  0.545455  0.545455   \n",
       "\n",
       "   f1_weighted     kappa  \n",
       "0     0.696104  0.421053  \n",
       "1     0.630303  0.290323  \n",
       "2     0.545455  0.098361  "
      ]
     },
     "execution_count": 26,
     "metadata": {},
     "output_type": "execute_result"
    }
   ],
   "source": [
    "compiled_res_8 = pd.DataFrame(metrics_dict())\n",
    "compiled_res_8.head(3)"
   ]
  },
  {
   "cell_type": "markdown",
   "metadata": {},
   "source": [
    "### training size = 10"
   ]
  },
  {
   "cell_type": "code",
   "execution_count": 27,
   "metadata": {},
   "outputs": [],
   "source": [
    "train_size = 10\n",
    "iterations = 10\n",
    "y_test_all = []\n",
    "y_pred_all = []\n",
    "acc_scores = []\n",
    "f1macro_scores = []\n",
    "f1micro_scores = []\n",
    "f1weighted_scores = []\n",
    "kappa_scores = []"
   ]
  },
  {
   "cell_type": "code",
   "execution_count": 28,
   "metadata": {
    "scrolled": true
   },
   "outputs": [
    {
     "name": "stdout",
     "output_type": "stream",
     "text": [
      "-------------Iteration 1/10\n",
      "10 9\n",
      "random_state = 42\n",
      "Accuracy: 0.7777777777777778\n",
      "F1 macro: 0.75\n",
      "F1 micro: 0.7777777777777778\n",
      "F1 weighted: 0.7592592592592593\n",
      "Kappa: 0.5263157894736843\n",
      "-------------Iteration 2/10\n",
      "10 9\n",
      "random_state = 43\n"
     ]
    },
    {
     "name": "stderr",
     "output_type": "stream",
     "text": [
      "[Parallel(n_jobs=1)]: Done  49 tasks      | elapsed:    0.0s\n",
      "[Parallel(n_jobs=1)]: Done  49 tasks      | elapsed:    0.0s\n",
      "[Parallel(n_jobs=1)]: Done  49 tasks      | elapsed:    0.0s\n",
      "[Parallel(n_jobs=1)]: Done  49 tasks      | elapsed:    0.0s\n"
     ]
    },
    {
     "name": "stdout",
     "output_type": "stream",
     "text": [
      "Accuracy: 0.7777777777777778\n",
      "F1 macro: 0.775\n",
      "F1 micro: 0.7777777777777778\n",
      "F1 weighted: 0.7777777777777778\n",
      "Kappa: 0.55\n",
      "-------------Iteration 3/10\n",
      "10 9\n",
      "random_state = 44\n",
      "Accuracy: 0.7777777777777778\n",
      "F1 macro: 0.775\n",
      "F1 micro: 0.7777777777777778\n",
      "F1 weighted: 0.7777777777777778\n",
      "Kappa: 0.55\n",
      "-------------Iteration 4/10\n",
      "10 9\n",
      "random_state = 45\n"
     ]
    },
    {
     "name": "stderr",
     "output_type": "stream",
     "text": [
      "[Parallel(n_jobs=1)]: Done  49 tasks      | elapsed:    0.0s\n",
      "[Parallel(n_jobs=1)]: Done  49 tasks      | elapsed:    0.0s\n",
      "[Parallel(n_jobs=1)]: Done  49 tasks      | elapsed:    0.0s\n",
      "[Parallel(n_jobs=1)]: Done  49 tasks      | elapsed:    0.0s\n"
     ]
    },
    {
     "name": "stdout",
     "output_type": "stream",
     "text": [
      "Accuracy: 0.6666666666666666\n",
      "F1 macro: 0.6493506493506493\n",
      "F1 micro: 0.6666666666666666\n",
      "F1 weighted: 0.6406926406926406\n",
      "Kappa: 0.37209302325581395\n",
      "-------------Iteration 5/10\n",
      "10 9\n",
      "random_state = 46\n",
      "Accuracy: 0.6666666666666666\n",
      "F1 macro: 0.6493506493506493\n",
      "F1 micro: 0.6666666666666666\n",
      "F1 weighted: 0.658008658008658\n",
      "Kappa: 0.3076923076923076\n",
      "-------------Iteration 6/10\n",
      "10 9\n",
      "random_state = 47\n"
     ]
    },
    {
     "name": "stderr",
     "output_type": "stream",
     "text": [
      "[Parallel(n_jobs=1)]: Done  49 tasks      | elapsed:    0.0s\n",
      "[Parallel(n_jobs=1)]: Done  49 tasks      | elapsed:    0.0s\n",
      "[Parallel(n_jobs=1)]: Done  49 tasks      | elapsed:    0.0s\n",
      "[Parallel(n_jobs=1)]: Done  49 tasks      | elapsed:    0.0s\n",
      "[Parallel(n_jobs=1)]: Done  49 tasks      | elapsed:    0.0s\n"
     ]
    },
    {
     "name": "stdout",
     "output_type": "stream",
     "text": [
      "Accuracy: 0.5555555555555556\n",
      "F1 macro: 0.55\n",
      "F1 micro: 0.5555555555555556\n",
      "F1 weighted: 0.5555555555555556\n",
      "Kappa: 0.10000000000000009\n",
      "-------------Iteration 7/10\n",
      "10 9\n",
      "random_state = 48\n",
      "Accuracy: 0.5555555555555556\n",
      "F1 macro: 0.5\n",
      "F1 micro: 0.5555555555555556\n",
      "F1 weighted: 0.5185185185185185\n",
      "Kappa: 0.052631578947368474\n",
      "-------------Iteration 8/10\n",
      "10 9\n",
      "random_state = 49\n",
      "Accuracy: 0.4444444444444444\n",
      "F1 macro: 0.41558441558441556\n",
      "F1 micro: 0.4444444444444444\n",
      "F1 weighted: 0.43001443001442996\n",
      "Kappa: -0.15384615384615397\n",
      "-------------Iteration 9/10\n",
      "10 9\n",
      "random_state = 50\n"
     ]
    },
    {
     "name": "stderr",
     "output_type": "stream",
     "text": [
      "[Parallel(n_jobs=1)]: Done  49 tasks      | elapsed:    0.0s\n",
      "[Parallel(n_jobs=1)]: Done  49 tasks      | elapsed:    0.0s\n",
      "[Parallel(n_jobs=1)]: Done  49 tasks      | elapsed:    0.0s\n",
      "[Parallel(n_jobs=1)]: Done  49 tasks      | elapsed:    0.0s\n"
     ]
    },
    {
     "name": "stdout",
     "output_type": "stream",
     "text": [
      "Accuracy: 0.3333333333333333\n",
      "F1 macro: 0.325\n",
      "F1 micro: 0.3333333333333333\n",
      "F1 weighted: 0.31666666666666665\n",
      "Kappa: -0.2857142857142856\n",
      "-------------Iteration 10/10\n",
      "10 9\n",
      "random_state = 51\n",
      "Accuracy: 0.4444444444444444\n",
      "F1 macro: 0.4444444444444444\n",
      "F1 micro: 0.4444444444444444\n",
      "F1 weighted: 0.4444444444444444\n",
      "Kappa: -0.09756097560975618\n"
     ]
    },
    {
     "name": "stderr",
     "output_type": "stream",
     "text": [
      "[Parallel(n_jobs=1)]: Done  49 tasks      | elapsed:    0.0s\n",
      "[Parallel(n_jobs=1)]: Done  49 tasks      | elapsed:    0.1s\n",
      "[Parallel(n_jobs=1)]: Done  49 tasks      | elapsed:    0.0s\n"
     ]
    }
   ],
   "source": [
    "for n in range(iterations):\n",
    "    print(f\"-------------Iteration {n + 1}/{iterations}\")\n",
    "    random_state=42+n\n",
    "\n",
    "    X_train, y_train, X_test, y_test = prepare_dataset_classification(\n",
    "        df,\n",
    "        random_state=random_state,\n",
    "        train_size=train_size\n",
    "    )\n",
    "    print(f\"random_state = {random_state}\")\n",
    "\n",
    "    y_test, y_pred, acc, f1_macro, f1_micro, f1_weighted, kappa = train_and_evaluate_classifier(\n",
    "        X_train, \n",
    "        y_train, \n",
    "        X_test, \n",
    "        y_test, \n",
    "        random_state=random_state\n",
    "    )\n",
    "    \n",
    "    y_test_all.append(y_test)\n",
    "    y_pred_all.append(y_pred)\n",
    "    acc_scores.append(acc)\n",
    "    f1macro_scores.append(f1_macro)\n",
    "    f1micro_scores.append(f1_micro)\n",
    "    f1weighted_scores.append(f1_weighted)\n",
    "    kappa_scores.append(kappa)\n",
    "    print(f\"Accuracy: {acc}\")\n",
    "    print(f\"F1 macro: {f1_macro}\")\n",
    "    print(f\"F1 micro: {f1_micro}\")\n",
    "    print(f\"F1 weighted: {f1_weighted}\")\n",
    "    print(f\"Kappa: {kappa}\")"
   ]
  },
  {
   "cell_type": "code",
   "execution_count": 29,
   "metadata": {},
   "outputs": [
    {
     "name": "stdout",
     "output_type": "stream",
     "text": [
      "FINAL REPORT for training size = 10\n",
      "mean accuracy: 0.6 +/- 0.15071844406945042\n",
      "mean F1 macro: 0.5833730158730159 +/- 0.15237717867535505\n",
      "mean F1 micro: 0.6 +/- 0.15071844406945042\n",
      "mean F1 weighted: 0.5878715728715729 +/- 0.1530059604326298\n",
      "mean Kappa: 0.19216112841989785 +/- 0.29554468542688966\n"
     ]
    }
   ],
   "source": [
    "print(f\"FINAL REPORT for training size = {train_size}\")\n",
    "\n",
    "print(f\"mean accuracy: {np.mean(acc_scores)} +/- {np.std(acc_scores)}\")\n",
    "print(f\"mean F1 macro: {np.mean(f1macro_scores)} +/- {np.std(f1macro_scores)}\")\n",
    "print(f\"mean F1 micro: {np.mean(f1micro_scores)} +/- {np.std(f1micro_scores)}\")\n",
    "print(f\"mean F1 weighted: {np.mean(f1weighted_scores)} +/- {np.std(f1weighted_scores)}\")\n",
    "print(f\"mean Kappa: {np.mean(kappa_scores)} +/- {np.std(kappa_scores)}\")"
   ]
  },
  {
   "cell_type": "code",
   "execution_count": 30,
   "metadata": {},
   "outputs": [
    {
     "data": {
      "text/html": [
       "<div>\n",
       "<style scoped>\n",
       "    .dataframe tbody tr th:only-of-type {\n",
       "        vertical-align: middle;\n",
       "    }\n",
       "\n",
       "    .dataframe tbody tr th {\n",
       "        vertical-align: top;\n",
       "    }\n",
       "\n",
       "    .dataframe thead th {\n",
       "        text-align: right;\n",
       "    }\n",
       "</style>\n",
       "<table border=\"1\" class=\"dataframe\">\n",
       "  <thead>\n",
       "    <tr style=\"text-align: right;\">\n",
       "      <th></th>\n",
       "      <th>train_size</th>\n",
       "      <th>y_true</th>\n",
       "      <th>y_pred</th>\n",
       "      <th>accuracy</th>\n",
       "      <th>f1_macro</th>\n",
       "      <th>f1_micro</th>\n",
       "      <th>f1_weighted</th>\n",
       "      <th>kappa</th>\n",
       "    </tr>\n",
       "  </thead>\n",
       "  <tbody>\n",
       "    <tr>\n",
       "      <th>0</th>\n",
       "      <td>10</td>\n",
       "      <td>[0, 1, 1, 0, 1, 0, 0, 0, 1]</td>\n",
       "      <td>[0, 0, 1, 0, 1, 0, 0, 0, 0]</td>\n",
       "      <td>0.777778</td>\n",
       "      <td>0.750</td>\n",
       "      <td>0.777778</td>\n",
       "      <td>0.759259</td>\n",
       "      <td>0.526316</td>\n",
       "    </tr>\n",
       "    <tr>\n",
       "      <th>1</th>\n",
       "      <td>10</td>\n",
       "      <td>[0, 0, 0, 1, 1, 1, 1, 0, 0]</td>\n",
       "      <td>[0, 1, 0, 0, 1, 1, 1, 0, 0]</td>\n",
       "      <td>0.777778</td>\n",
       "      <td>0.775</td>\n",
       "      <td>0.777778</td>\n",
       "      <td>0.777778</td>\n",
       "      <td>0.550000</td>\n",
       "    </tr>\n",
       "    <tr>\n",
       "      <th>2</th>\n",
       "      <td>10</td>\n",
       "      <td>[1, 1, 1, 0, 0, 0, 0, 0, 1]</td>\n",
       "      <td>[0, 1, 1, 1, 0, 0, 0, 0, 1]</td>\n",
       "      <td>0.777778</td>\n",
       "      <td>0.775</td>\n",
       "      <td>0.777778</td>\n",
       "      <td>0.777778</td>\n",
       "      <td>0.550000</td>\n",
       "    </tr>\n",
       "  </tbody>\n",
       "</table>\n",
       "</div>"
      ],
      "text/plain": [
       "   train_size                       y_true                       y_pred  \\\n",
       "0          10  [0, 1, 1, 0, 1, 0, 0, 0, 1]  [0, 0, 1, 0, 1, 0, 0, 0, 0]   \n",
       "1          10  [0, 0, 0, 1, 1, 1, 1, 0, 0]  [0, 1, 0, 0, 1, 1, 1, 0, 0]   \n",
       "2          10  [1, 1, 1, 0, 0, 0, 0, 0, 1]  [0, 1, 1, 1, 0, 0, 0, 0, 1]   \n",
       "\n",
       "   accuracy  f1_macro  f1_micro  f1_weighted     kappa  \n",
       "0  0.777778     0.750  0.777778     0.759259  0.526316  \n",
       "1  0.777778     0.775  0.777778     0.777778  0.550000  \n",
       "2  0.777778     0.775  0.777778     0.777778  0.550000  "
      ]
     },
     "execution_count": 30,
     "metadata": {},
     "output_type": "execute_result"
    }
   ],
   "source": [
    "compiled_res_10 = pd.DataFrame(metrics_dict())\n",
    "compiled_res_10.head(3)"
   ]
  },
  {
   "cell_type": "markdown",
   "metadata": {},
   "source": [
    "### training size = 12"
   ]
  },
  {
   "cell_type": "code",
   "execution_count": 31,
   "metadata": {},
   "outputs": [],
   "source": [
    "train_size = 12\n",
    "iterations = 10\n",
    "y_test_all = []\n",
    "y_pred_all = []\n",
    "acc_scores = []\n",
    "f1macro_scores = []\n",
    "f1micro_scores = []\n",
    "f1weighted_scores = []\n",
    "kappa_scores = []"
   ]
  },
  {
   "cell_type": "code",
   "execution_count": 32,
   "metadata": {
    "scrolled": true
   },
   "outputs": [
    {
     "name": "stdout",
     "output_type": "stream",
     "text": [
      "-------------Iteration 1/10\n",
      "12 7\n",
      "random_state = 42\n",
      "Accuracy: 0.7142857142857143\n",
      "F1 macro: 0.7083333333333333\n",
      "F1 micro: 0.7142857142857143\n",
      "F1 weighted: 0.7142857142857143\n",
      "Kappa: 0.41666666666666663\n",
      "-------------Iteration 2/10\n",
      "12 7\n",
      "random_state = 43\n"
     ]
    },
    {
     "name": "stderr",
     "output_type": "stream",
     "text": [
      "[Parallel(n_jobs=1)]: Done  49 tasks      | elapsed:    0.0s\n",
      "[Parallel(n_jobs=1)]: Done  49 tasks      | elapsed:    0.0s\n",
      "[Parallel(n_jobs=1)]: Done  49 tasks      | elapsed:    0.0s\n",
      "[Parallel(n_jobs=1)]: Done  49 tasks      | elapsed:    0.0s\n"
     ]
    },
    {
     "name": "stdout",
     "output_type": "stream",
     "text": [
      "Accuracy: 0.42857142857142855\n",
      "F1 macro: 0.41666666666666663\n",
      "F1 micro: 0.42857142857142855\n",
      "F1 weighted: 0.4047619047619047\n",
      "Kappa: -0.07692307692307687\n",
      "-------------Iteration 3/10\n",
      "12 7\n",
      "random_state = 44\n",
      "Accuracy: 0.42857142857142855\n",
      "F1 macro: 0.41666666666666663\n",
      "F1 micro: 0.42857142857142855\n",
      "F1 weighted: 0.4047619047619047\n",
      "Kappa: -0.07692307692307687\n",
      "-------------Iteration 4/10\n",
      "12 7\n",
      "random_state = 45\n",
      "Accuracy: 0.7142857142857143\n",
      "F1 macro: 0.7083333333333333\n",
      "F1 micro: 0.7142857142857143\n",
      "F1 weighted: 0.7023809523809523\n",
      "Kappa: 0.46153846153846156\n",
      "-------------Iteration 5/10\n",
      "12 7\n",
      "random_state = 46\n"
     ]
    },
    {
     "name": "stderr",
     "output_type": "stream",
     "text": [
      "[Parallel(n_jobs=1)]: Done  49 tasks      | elapsed:    0.0s\n",
      "[Parallel(n_jobs=1)]: Done  49 tasks      | elapsed:    0.0s\n",
      "[Parallel(n_jobs=1)]: Done  49 tasks      | elapsed:    0.0s\n",
      "[Parallel(n_jobs=1)]: Done  49 tasks      | elapsed:    0.0s\n",
      "[Parallel(n_jobs=1)]: Done  49 tasks      | elapsed:    0.0s\n",
      "[Parallel(n_jobs=1)]: Done  49 tasks      | elapsed:    0.0s\n",
      "[Parallel(n_jobs=1)]: Done  49 tasks      | elapsed:    0.0s\n",
      "[Parallel(n_jobs=1)]: Done  49 tasks      | elapsed:    0.0s\n",
      "[Parallel(n_jobs=1)]: Done  49 tasks      | elapsed:    0.0s\n"
     ]
    },
    {
     "name": "stdout",
     "output_type": "stream",
     "text": [
      "Accuracy: 0.8571428571428571\n",
      "F1 macro: 0.8444444444444444\n",
      "F1 micro: 0.8571428571428571\n",
      "F1 weighted: 0.8507936507936508\n",
      "Kappa: 0.6956521739130435\n",
      "-------------Iteration 6/10\n",
      "12 7\n",
      "random_state = 47\n",
      "Accuracy: 0.7142857142857143\n",
      "F1 macro: 0.7083333333333333\n",
      "F1 micro: 0.7142857142857143\n",
      "F1 weighted: 0.7142857142857143\n",
      "Kappa: 0.41666666666666663\n",
      "-------------Iteration 7/10\n",
      "12 7\n",
      "random_state = 48\n"
     ]
    },
    {
     "name": "stderr",
     "output_type": "stream",
     "text": [
      "[Parallel(n_jobs=1)]: Done  49 tasks      | elapsed:    0.0s\n",
      "[Parallel(n_jobs=1)]: Done  49 tasks      | elapsed:    0.0s\n",
      "[Parallel(n_jobs=1)]: Done  49 tasks      | elapsed:    0.0s\n",
      "[Parallel(n_jobs=1)]: Done  49 tasks      | elapsed:    0.0s\n",
      "[Parallel(n_jobs=1)]: Done  49 tasks      | elapsed:    0.0s\n"
     ]
    },
    {
     "name": "stdout",
     "output_type": "stream",
     "text": [
      "Accuracy: 0.42857142857142855\n",
      "F1 macro: 0.41666666666666663\n",
      "F1 micro: 0.42857142857142855\n",
      "F1 weighted: 0.42857142857142855\n",
      "Kappa: -0.16666666666666674\n",
      "-------------Iteration 8/10\n",
      "12 7\n",
      "random_state = 49\n",
      "Accuracy: 0.7142857142857143\n",
      "F1 macro: 0.65\n",
      "F1 micro: 0.7142857142857143\n",
      "F1 weighted: 0.6714285714285715\n",
      "Kappa: 0.36363636363636376\n",
      "-------------Iteration 9/10\n",
      "12 7\n",
      "random_state = 50\n",
      "Accuracy: 0.2857142857142857\n",
      "F1 macro: 0.2857142857142857\n",
      "F1 micro: 0.2857142857142857\n",
      "F1 weighted: 0.2857142857142857\n",
      "Kappa: -0.40000000000000013\n",
      "-------------Iteration 10/10\n",
      "12 7\n",
      "random_state = 51\n",
      "Accuracy: 0.14285714285714285\n",
      "F1 macro: 0.125\n",
      "F1 micro: 0.14285714285714285\n",
      "F1 weighted: 0.10714285714285714\n",
      "Kappa: -0.6153846153846154\n"
     ]
    },
    {
     "name": "stderr",
     "output_type": "stream",
     "text": [
      "[Parallel(n_jobs=1)]: Done  49 tasks      | elapsed:    0.0s\n",
      "[Parallel(n_jobs=1)]: Done  49 tasks      | elapsed:    0.0s\n"
     ]
    }
   ],
   "source": [
    "for n in range(iterations):\n",
    "    print(f\"-------------Iteration {n + 1}/{iterations}\")\n",
    "    random_state=42+n\n",
    "\n",
    "    X_train, y_train, X_test, y_test = prepare_dataset_classification(\n",
    "        df,\n",
    "        random_state=random_state,\n",
    "        train_size=train_size\n",
    "    )\n",
    "    print(f\"random_state = {random_state}\")\n",
    "\n",
    "    y_test, y_pred, acc, f1_macro, f1_micro, f1_weighted, kappa = train_and_evaluate_classifier(\n",
    "        X_train, \n",
    "        y_train, \n",
    "        X_test, \n",
    "        y_test, \n",
    "        random_state=random_state\n",
    "    )\n",
    "    \n",
    "    y_test_all.append(y_test)\n",
    "    y_pred_all.append(y_pred)\n",
    "    acc_scores.append(acc)\n",
    "    f1macro_scores.append(f1_macro)\n",
    "    f1micro_scores.append(f1_micro)\n",
    "    f1weighted_scores.append(f1_weighted)\n",
    "    kappa_scores.append(kappa)\n",
    "    print(f\"Accuracy: {acc}\")\n",
    "    print(f\"F1 macro: {f1_macro}\")\n",
    "    print(f\"F1 micro: {f1_micro}\")\n",
    "    print(f\"F1 weighted: {f1_weighted}\")\n",
    "    print(f\"Kappa: {kappa}\")"
   ]
  },
  {
   "cell_type": "code",
   "execution_count": 33,
   "metadata": {},
   "outputs": [
    {
     "name": "stdout",
     "output_type": "stream",
     "text": [
      "FINAL REPORT for training size = 12\n",
      "mean accuracy: 0.5428571428571429 +/- 0.21946130708196024\n",
      "mean F1 macro: 0.528015873015873 +/- 0.21699726217485607\n",
      "mean F1 micro: 0.5428571428571429 +/- 0.21946130708196024\n",
      "mean F1 weighted: 0.5284126984126984 +/- 0.22375514368055807\n",
      "mean Kappa: 0.10182628965237661 +/- 0.40632840354113964\n"
     ]
    }
   ],
   "source": [
    "print(f\"FINAL REPORT for training size = {train_size}\")\n",
    "\n",
    "print(f\"mean accuracy: {np.mean(acc_scores)} +/- {np.std(acc_scores)}\")\n",
    "print(f\"mean F1 macro: {np.mean(f1macro_scores)} +/- {np.std(f1macro_scores)}\")\n",
    "print(f\"mean F1 micro: {np.mean(f1micro_scores)} +/- {np.std(f1micro_scores)}\")\n",
    "print(f\"mean F1 weighted: {np.mean(f1weighted_scores)} +/- {np.std(f1weighted_scores)}\")\n",
    "print(f\"mean Kappa: {np.mean(kappa_scores)} +/- {np.std(kappa_scores)}\")"
   ]
  },
  {
   "cell_type": "code",
   "execution_count": 34,
   "metadata": {},
   "outputs": [
    {
     "data": {
      "text/html": [
       "<div>\n",
       "<style scoped>\n",
       "    .dataframe tbody tr th:only-of-type {\n",
       "        vertical-align: middle;\n",
       "    }\n",
       "\n",
       "    .dataframe tbody tr th {\n",
       "        vertical-align: top;\n",
       "    }\n",
       "\n",
       "    .dataframe thead th {\n",
       "        text-align: right;\n",
       "    }\n",
       "</style>\n",
       "<table border=\"1\" class=\"dataframe\">\n",
       "  <thead>\n",
       "    <tr style=\"text-align: right;\">\n",
       "      <th></th>\n",
       "      <th>train_size</th>\n",
       "      <th>y_true</th>\n",
       "      <th>y_pred</th>\n",
       "      <th>accuracy</th>\n",
       "      <th>f1_macro</th>\n",
       "      <th>f1_micro</th>\n",
       "      <th>f1_weighted</th>\n",
       "      <th>kappa</th>\n",
       "    </tr>\n",
       "  </thead>\n",
       "  <tbody>\n",
       "    <tr>\n",
       "      <th>0</th>\n",
       "      <td>12</td>\n",
       "      <td>[0, 1, 0, 1, 0, 0, 1]</td>\n",
       "      <td>[0, 0, 1, 1, 0, 0, 1]</td>\n",
       "      <td>0.714286</td>\n",
       "      <td>0.708333</td>\n",
       "      <td>0.714286</td>\n",
       "      <td>0.714286</td>\n",
       "      <td>0.416667</td>\n",
       "    </tr>\n",
       "    <tr>\n",
       "      <th>1</th>\n",
       "      <td>12</td>\n",
       "      <td>[0, 0, 1, 0, 1, 0, 1]</td>\n",
       "      <td>[1, 1, 1, 0, 1, 1, 0]</td>\n",
       "      <td>0.428571</td>\n",
       "      <td>0.416667</td>\n",
       "      <td>0.428571</td>\n",
       "      <td>0.404762</td>\n",
       "      <td>-0.076923</td>\n",
       "    </tr>\n",
       "    <tr>\n",
       "      <th>2</th>\n",
       "      <td>12</td>\n",
       "      <td>[1, 1, 0, 1, 0, 0, 0]</td>\n",
       "      <td>[0, 1, 0, 1, 1, 1, 1]</td>\n",
       "      <td>0.428571</td>\n",
       "      <td>0.416667</td>\n",
       "      <td>0.428571</td>\n",
       "      <td>0.404762</td>\n",
       "      <td>-0.076923</td>\n",
       "    </tr>\n",
       "  </tbody>\n",
       "</table>\n",
       "</div>"
      ],
      "text/plain": [
       "   train_size                 y_true                 y_pred  accuracy  \\\n",
       "0          12  [0, 1, 0, 1, 0, 0, 1]  [0, 0, 1, 1, 0, 0, 1]  0.714286   \n",
       "1          12  [0, 0, 1, 0, 1, 0, 1]  [1, 1, 1, 0, 1, 1, 0]  0.428571   \n",
       "2          12  [1, 1, 0, 1, 0, 0, 0]  [0, 1, 0, 1, 1, 1, 1]  0.428571   \n",
       "\n",
       "   f1_macro  f1_micro  f1_weighted     kappa  \n",
       "0  0.708333  0.714286     0.714286  0.416667  \n",
       "1  0.416667  0.428571     0.404762 -0.076923  \n",
       "2  0.416667  0.428571     0.404762 -0.076923  "
      ]
     },
     "execution_count": 34,
     "metadata": {},
     "output_type": "execute_result"
    }
   ],
   "source": [
    "compiled_res_12 = pd.DataFrame(metrics_dict())\n",
    "compiled_res_12.head(3)"
   ]
  },
  {
   "cell_type": "markdown",
   "metadata": {},
   "source": [
    "### training size = 13"
   ]
  },
  {
   "cell_type": "code",
   "execution_count": 35,
   "metadata": {},
   "outputs": [],
   "source": [
    "train_size = 13\n",
    "iterations = 10\n",
    "y_test_all = []\n",
    "y_pred_all = []\n",
    "acc_scores = []\n",
    "f1macro_scores = []\n",
    "f1micro_scores = []\n",
    "f1weighted_scores = []\n",
    "kappa_scores = []"
   ]
  },
  {
   "cell_type": "code",
   "execution_count": 36,
   "metadata": {
    "scrolled": true
   },
   "outputs": [
    {
     "name": "stdout",
     "output_type": "stream",
     "text": [
      "-------------Iteration 1/10\n",
      "13 6\n",
      "random_state = 42\n",
      "Accuracy: 0.8333333333333334\n",
      "F1 macro: 0.8285714285714285\n",
      "F1 micro: 0.8333333333333334\n",
      "F1 weighted: 0.8285714285714286\n",
      "Kappa: 0.6666666666666667\n",
      "-------------Iteration 2/10\n",
      "13 6\n",
      "random_state = 43\n",
      "Accuracy: 0.3333333333333333\n",
      "F1 macro: 0.25\n",
      "F1 micro: 0.3333333333333333\n",
      "F1 weighted: 0.25\n",
      "Kappa: -0.33333333333333326\n",
      "-------------Iteration 3/10\n",
      "13 6\n",
      "random_state = 44\n"
     ]
    },
    {
     "name": "stderr",
     "output_type": "stream",
     "text": [
      "[Parallel(n_jobs=1)]: Done  49 tasks      | elapsed:    0.0s\n",
      "[Parallel(n_jobs=1)]: Done  49 tasks      | elapsed:    0.0s\n",
      "[Parallel(n_jobs=1)]: Done  49 tasks      | elapsed:    0.0s\n",
      "[Parallel(n_jobs=1)]: Done  49 tasks      | elapsed:    0.0s\n",
      "[Parallel(n_jobs=1)]: Done  49 tasks      | elapsed:    0.0s\n",
      "[Parallel(n_jobs=1)]: Done  49 tasks      | elapsed:    0.0s\n",
      "[Parallel(n_jobs=1)]: Done  49 tasks      | elapsed:    0.0s\n",
      "[Parallel(n_jobs=1)]: Done  49 tasks      | elapsed:    0.0s\n",
      "[Parallel(n_jobs=1)]: Done  49 tasks      | elapsed:    0.0s\n",
      "[Parallel(n_jobs=1)]: Done  49 tasks      | elapsed:    0.0s\n"
     ]
    },
    {
     "name": "stdout",
     "output_type": "stream",
     "text": [
      "Accuracy: 0.5\n",
      "F1 macro: 0.4857142857142857\n",
      "F1 micro: 0.5\n",
      "F1 weighted: 0.48571428571428577\n",
      "Kappa: 0.0\n",
      "-------------Iteration 4/10\n",
      "13 6\n",
      "random_state = 45\n",
      "Accuracy: 0.8333333333333334\n",
      "F1 macro: 0.8285714285714285\n",
      "F1 micro: 0.8333333333333334\n",
      "F1 weighted: 0.8285714285714286\n",
      "Kappa: 0.6666666666666667\n",
      "-------------Iteration 5/10\n",
      "13 6\n",
      "random_state = 46\n",
      "Accuracy: 0.8333333333333334\n",
      "F1 macro: 0.8285714285714285\n",
      "F1 micro: 0.8333333333333334\n",
      "F1 weighted: 0.8285714285714286\n",
      "Kappa: 0.6666666666666667\n",
      "-------------Iteration 6/10\n",
      "13 6\n",
      "random_state = 47\n"
     ]
    },
    {
     "name": "stderr",
     "output_type": "stream",
     "text": [
      "[Parallel(n_jobs=1)]: Done  49 tasks      | elapsed:    0.0s\n",
      "[Parallel(n_jobs=1)]: Done  49 tasks      | elapsed:    0.0s\n",
      "[Parallel(n_jobs=1)]: Done  49 tasks      | elapsed:    0.0s\n",
      "[Parallel(n_jobs=1)]: Done  49 tasks      | elapsed:    0.0s\n"
     ]
    },
    {
     "name": "stdout",
     "output_type": "stream",
     "text": [
      "Accuracy: 0.6666666666666666\n",
      "F1 macro: 0.6666666666666666\n",
      "F1 micro: 0.6666666666666666\n",
      "F1 weighted: 0.6666666666666666\n",
      "Kappa: 0.33333333333333337\n",
      "-------------Iteration 7/10\n",
      "13 6\n",
      "random_state = 48\n",
      "Accuracy: 0.3333333333333333\n",
      "F1 macro: 0.3333333333333333\n",
      "F1 micro: 0.3333333333333333\n",
      "F1 weighted: 0.3333333333333333\n",
      "Kappa: -0.33333333333333326\n",
      "-------------Iteration 8/10\n",
      "13 6\n",
      "random_state = 49\n"
     ]
    },
    {
     "name": "stderr",
     "output_type": "stream",
     "text": [
      "[Parallel(n_jobs=1)]: Done  49 tasks      | elapsed:    0.0s\n",
      "[Parallel(n_jobs=1)]: Done  49 tasks      | elapsed:    0.0s\n",
      "[Parallel(n_jobs=1)]: Done  49 tasks      | elapsed:    0.0s\n",
      "[Parallel(n_jobs=1)]: Done  49 tasks      | elapsed:    0.0s\n"
     ]
    },
    {
     "name": "stdout",
     "output_type": "stream",
     "text": [
      "Accuracy: 0.5\n",
      "F1 macro: 0.4857142857142857\n",
      "F1 micro: 0.5\n",
      "F1 weighted: 0.48571428571428577\n",
      "Kappa: 0.0\n",
      "-------------Iteration 9/10\n",
      "13 6\n",
      "random_state = 50\n",
      "Accuracy: 0.5\n",
      "F1 macro: 0.4857142857142857\n",
      "F1 micro: 0.5\n",
      "F1 weighted: 0.48571428571428577\n",
      "Kappa: 0.0\n",
      "-------------Iteration 10/10\n",
      "13 6\n",
      "random_state = 51\n",
      "Accuracy: 0.3333333333333333\n",
      "F1 macro: 0.3333333333333333\n",
      "F1 micro: 0.3333333333333333\n",
      "F1 weighted: 0.3333333333333333\n",
      "Kappa: -0.33333333333333326\n"
     ]
    },
    {
     "name": "stderr",
     "output_type": "stream",
     "text": [
      "[Parallel(n_jobs=1)]: Done  49 tasks      | elapsed:    0.0s\n",
      "[Parallel(n_jobs=1)]: Done  49 tasks      | elapsed:    0.0s\n"
     ]
    }
   ],
   "source": [
    "for n in range(iterations):\n",
    "    print(f\"-------------Iteration {n + 1}/{iterations}\")\n",
    "    random_state=42+n\n",
    "\n",
    "    X_train, y_train, X_test, y_test = prepare_dataset_classification(\n",
    "        df,\n",
    "        random_state=random_state,\n",
    "        train_size=train_size\n",
    "    )\n",
    "    print(f\"random_state = {random_state}\")\n",
    "\n",
    "    y_test, y_pred, acc, f1_macro, f1_micro, f1_weighted, kappa = train_and_evaluate_classifier(\n",
    "        X_train, \n",
    "        y_train, \n",
    "        X_test, \n",
    "        y_test, \n",
    "        random_state=random_state\n",
    "    )\n",
    "    \n",
    "    y_test_all.append(y_test)\n",
    "    y_pred_all.append(y_pred)\n",
    "    acc_scores.append(acc)\n",
    "    f1macro_scores.append(f1_macro)\n",
    "    f1micro_scores.append(f1_micro)\n",
    "    f1weighted_scores.append(f1_weighted)\n",
    "    kappa_scores.append(kappa)\n",
    "    print(f\"Accuracy: {acc}\")\n",
    "    print(f\"F1 macro: {f1_macro}\")\n",
    "    print(f\"F1 micro: {f1_micro}\")\n",
    "    print(f\"F1 weighted: {f1_weighted}\")\n",
    "    print(f\"Kappa: {kappa}\")"
   ]
  },
  {
   "cell_type": "code",
   "execution_count": 37,
   "metadata": {},
   "outputs": [
    {
     "name": "stdout",
     "output_type": "stream",
     "text": [
      "FINAL REPORT for training size = 13\n",
      "mean accuracy: 0.5666666666666667 +/- 0.2\n",
      "mean F1 macro: 0.5526190476190476 +/- 0.2103890414276239\n",
      "mean F1 micro: 0.5666666666666667 +/- 0.2\n",
      "mean F1 weighted: 0.5526190476190476 +/- 0.21038904142762396\n",
      "mean Kappa: 0.13333333333333336 +/- 0.4000000000000001\n"
     ]
    }
   ],
   "source": [
    "print(f\"FINAL REPORT for training size = {train_size}\")\n",
    "\n",
    "print(f\"mean accuracy: {np.mean(acc_scores)} +/- {np.std(acc_scores)}\")\n",
    "print(f\"mean F1 macro: {np.mean(f1macro_scores)} +/- {np.std(f1macro_scores)}\")\n",
    "print(f\"mean F1 micro: {np.mean(f1micro_scores)} +/- {np.std(f1micro_scores)}\")\n",
    "print(f\"mean F1 weighted: {np.mean(f1weighted_scores)} +/- {np.std(f1weighted_scores)}\")\n",
    "print(f\"mean Kappa: {np.mean(kappa_scores)} +/- {np.std(kappa_scores)}\")"
   ]
  },
  {
   "cell_type": "code",
   "execution_count": 38,
   "metadata": {},
   "outputs": [
    {
     "data": {
      "text/html": [
       "<div>\n",
       "<style scoped>\n",
       "    .dataframe tbody tr th:only-of-type {\n",
       "        vertical-align: middle;\n",
       "    }\n",
       "\n",
       "    .dataframe tbody tr th {\n",
       "        vertical-align: top;\n",
       "    }\n",
       "\n",
       "    .dataframe thead th {\n",
       "        text-align: right;\n",
       "    }\n",
       "</style>\n",
       "<table border=\"1\" class=\"dataframe\">\n",
       "  <thead>\n",
       "    <tr style=\"text-align: right;\">\n",
       "      <th></th>\n",
       "      <th>train_size</th>\n",
       "      <th>y_true</th>\n",
       "      <th>y_pred</th>\n",
       "      <th>accuracy</th>\n",
       "      <th>f1_macro</th>\n",
       "      <th>f1_micro</th>\n",
       "      <th>f1_weighted</th>\n",
       "      <th>kappa</th>\n",
       "    </tr>\n",
       "  </thead>\n",
       "  <tbody>\n",
       "    <tr>\n",
       "      <th>0</th>\n",
       "      <td>13</td>\n",
       "      <td>[0, 0, 1, 0, 1, 1]</td>\n",
       "      <td>[1, 0, 1, 0, 1, 1]</td>\n",
       "      <td>0.833333</td>\n",
       "      <td>0.828571</td>\n",
       "      <td>0.833333</td>\n",
       "      <td>0.828571</td>\n",
       "      <td>0.666667</td>\n",
       "    </tr>\n",
       "    <tr>\n",
       "      <th>1</th>\n",
       "      <td>13</td>\n",
       "      <td>[0, 0, 1, 1, 1, 0]</td>\n",
       "      <td>[0, 0, 0, 0, 0, 1]</td>\n",
       "      <td>0.333333</td>\n",
       "      <td>0.250000</td>\n",
       "      <td>0.333333</td>\n",
       "      <td>0.250000</td>\n",
       "      <td>-0.333333</td>\n",
       "    </tr>\n",
       "    <tr>\n",
       "      <th>2</th>\n",
       "      <td>13</td>\n",
       "      <td>[1, 1, 1, 0, 0, 0]</td>\n",
       "      <td>[0, 0, 1, 1, 0, 0]</td>\n",
       "      <td>0.500000</td>\n",
       "      <td>0.485714</td>\n",
       "      <td>0.500000</td>\n",
       "      <td>0.485714</td>\n",
       "      <td>0.000000</td>\n",
       "    </tr>\n",
       "  </tbody>\n",
       "</table>\n",
       "</div>"
      ],
      "text/plain": [
       "   train_size              y_true              y_pred  accuracy  f1_macro  \\\n",
       "0          13  [0, 0, 1, 0, 1, 1]  [1, 0, 1, 0, 1, 1]  0.833333  0.828571   \n",
       "1          13  [0, 0, 1, 1, 1, 0]  [0, 0, 0, 0, 0, 1]  0.333333  0.250000   \n",
       "2          13  [1, 1, 1, 0, 0, 0]  [0, 0, 1, 1, 0, 0]  0.500000  0.485714   \n",
       "\n",
       "   f1_micro  f1_weighted     kappa  \n",
       "0  0.833333     0.828571  0.666667  \n",
       "1  0.333333     0.250000 -0.333333  \n",
       "2  0.500000     0.485714  0.000000  "
      ]
     },
     "execution_count": 38,
     "metadata": {},
     "output_type": "execute_result"
    }
   ],
   "source": [
    "compiled_res_13 = pd.DataFrame(metrics_dict())\n",
    "compiled_res_13.head(3)"
   ]
  },
  {
   "cell_type": "markdown",
   "metadata": {},
   "source": [
    "### training size = 14"
   ]
  },
  {
   "cell_type": "code",
   "execution_count": 39,
   "metadata": {},
   "outputs": [],
   "source": [
    "train_size = 14\n",
    "iterations = 10\n",
    "y_test_all = []\n",
    "y_pred_all = []\n",
    "acc_scores = []\n",
    "f1macro_scores = []\n",
    "f1micro_scores = []\n",
    "f1weighted_scores = []\n",
    "kappa_scores = []"
   ]
  },
  {
   "cell_type": "code",
   "execution_count": 40,
   "metadata": {
    "scrolled": true
   },
   "outputs": [
    {
     "name": "stdout",
     "output_type": "stream",
     "text": [
      "-------------Iteration 1/10\n",
      "14 5\n",
      "random_state = 42\n",
      "Accuracy: 0.8\n",
      "F1 macro: 0.7619047619047619\n",
      "F1 micro: 0.8\n",
      "F1 weighted: 0.7809523809523808\n",
      "Kappa: 0.5454545454545454\n",
      "-------------Iteration 2/10\n",
      "14 5\n",
      "random_state = 43\n"
     ]
    },
    {
     "name": "stderr",
     "output_type": "stream",
     "text": [
      "[Parallel(n_jobs=1)]: Done  49 tasks      | elapsed:    0.0s\n",
      "[Parallel(n_jobs=1)]: Done  49 tasks      | elapsed:    0.0s\n",
      "[Parallel(n_jobs=1)]: Done  49 tasks      | elapsed:    0.0s\n",
      "[Parallel(n_jobs=1)]: Done  49 tasks      | elapsed:    0.0s\n"
     ]
    },
    {
     "name": "stdout",
     "output_type": "stream",
     "text": [
      "Accuracy: 0.6\n",
      "F1 macro: 0.5833333333333333\n",
      "F1 micro: 0.6\n",
      "F1 weighted: 0.6\n",
      "Kappa: 0.16666666666666663\n",
      "-------------Iteration 3/10\n",
      "14 5\n",
      "random_state = 44\n",
      "Accuracy: 0.6\n",
      "F1 macro: 0.5833333333333333\n",
      "F1 micro: 0.6\n",
      "F1 weighted: 0.6\n",
      "Kappa: 0.16666666666666663\n",
      "-------------Iteration 4/10\n",
      "14 5\n",
      "random_state = 45\n",
      "Accuracy: 0.4\n",
      "F1 macro: 0.2857142857142857\n",
      "F1 micro: 0.4\n",
      "F1 weighted: 0.22857142857142856\n",
      "Kappa: 0.0\n",
      "-------------Iteration 5/10\n",
      "14 5\n"
     ]
    },
    {
     "name": "stderr",
     "output_type": "stream",
     "text": [
      "[Parallel(n_jobs=1)]: Done  49 tasks      | elapsed:    0.0s\n",
      "[Parallel(n_jobs=1)]: Done  49 tasks      | elapsed:    0.0s\n",
      "[Parallel(n_jobs=1)]: Done  49 tasks      | elapsed:    0.0s\n",
      "[Parallel(n_jobs=1)]: Done  49 tasks      | elapsed:    0.0s\n",
      "[Parallel(n_jobs=1)]: Done  49 tasks      | elapsed:    0.0s\n"
     ]
    },
    {
     "name": "stdout",
     "output_type": "stream",
     "text": [
      "random_state = 46\n",
      "Accuracy: 0.8\n",
      "F1 macro: 0.7619047619047619\n",
      "F1 micro: 0.8\n",
      "F1 weighted: 0.7809523809523808\n",
      "Kappa: 0.5454545454545454\n",
      "-------------Iteration 6/10\n",
      "14 5\n",
      "random_state = 47\n",
      "Accuracy: 0.6\n",
      "F1 macro: 0.5833333333333333\n",
      "F1 micro: 0.6\n",
      "F1 weighted: 0.6\n",
      "Kappa: 0.16666666666666663\n",
      "-------------Iteration 7/10\n",
      "14 5\n",
      "random_state = 48\n"
     ]
    },
    {
     "name": "stderr",
     "output_type": "stream",
     "text": [
      "[Parallel(n_jobs=1)]: Done  49 tasks      | elapsed:    0.0s\n",
      "[Parallel(n_jobs=1)]: Done  49 tasks      | elapsed:    0.0s\n",
      "[Parallel(n_jobs=1)]: Done  49 tasks      | elapsed:    0.0s\n",
      "[Parallel(n_jobs=1)]: Done  49 tasks      | elapsed:    0.0s\n",
      "[Parallel(n_jobs=1)]: Done  49 tasks      | elapsed:    0.0s\n"
     ]
    },
    {
     "name": "stdout",
     "output_type": "stream",
     "text": [
      "Accuracy: 0.2\n",
      "F1 macro: 0.16666666666666666\n",
      "F1 micro: 0.2\n",
      "F1 weighted: 0.13333333333333333\n",
      "Kappa: -0.4285714285714286\n",
      "-------------Iteration 8/10\n",
      "14 5\n",
      "random_state = 49\n",
      "Accuracy: 1.0\n",
      "F1 macro: 1.0\n",
      "F1 micro: 1.0\n",
      "F1 weighted: 1.0\n",
      "Kappa: 1.0\n",
      "-------------Iteration 9/10\n",
      "14 5\n",
      "random_state = 50\n",
      "Accuracy: 0.6\n",
      "F1 macro: 0.5833333333333333\n",
      "F1 micro: 0.6\n",
      "F1 weighted: 0.5666666666666667\n",
      "Kappa: 0.2857142857142857\n",
      "-------------Iteration 10/10\n",
      "14 5\n",
      "random_state = 51\n",
      "Accuracy: 0.6\n",
      "F1 macro: 0.5833333333333333\n",
      "F1 micro: 0.6\n",
      "F1 weighted: 0.5666666666666667\n",
      "Kappa: 0.2857142857142857\n"
     ]
    },
    {
     "name": "stderr",
     "output_type": "stream",
     "text": [
      "[Parallel(n_jobs=1)]: Done  49 tasks      | elapsed:    0.0s\n",
      "[Parallel(n_jobs=1)]: Done  49 tasks      | elapsed:    0.0s\n",
      "[Parallel(n_jobs=1)]: Done  49 tasks      | elapsed:    0.0s\n",
      "[Parallel(n_jobs=1)]: Done  49 tasks      | elapsed:    0.0s\n",
      "[Parallel(n_jobs=1)]: Done  49 tasks      | elapsed:    0.0s\n",
      "[Parallel(n_jobs=1)]: Done  49 tasks      | elapsed:    0.0s\n"
     ]
    }
   ],
   "source": [
    "for n in range(iterations):\n",
    "    print(f\"-------------Iteration {n + 1}/{iterations}\")\n",
    "    random_state=42+n\n",
    "\n",
    "    X_train, y_train, X_test, y_test = prepare_dataset_classification(\n",
    "        df,\n",
    "        random_state=random_state,\n",
    "        train_size=train_size\n",
    "    )\n",
    "    print(f\"random_state = {random_state}\")\n",
    "\n",
    "    y_test, y_pred, acc, f1_macro, f1_micro, f1_weighted, kappa = train_and_evaluate_classifier(\n",
    "        X_train, \n",
    "        y_train, \n",
    "        X_test, \n",
    "        y_test, \n",
    "        random_state=random_state\n",
    "    )\n",
    "    \n",
    "    y_test_all.append(y_test)\n",
    "    y_pred_all.append(y_pred)\n",
    "    acc_scores.append(acc)\n",
    "    f1macro_scores.append(f1_macro)\n",
    "    f1micro_scores.append(f1_micro)\n",
    "    f1weighted_scores.append(f1_weighted)\n",
    "    kappa_scores.append(kappa)\n",
    "    print(f\"Accuracy: {acc}\")\n",
    "    print(f\"F1 macro: {f1_macro}\")\n",
    "    print(f\"F1 micro: {f1_micro}\")\n",
    "    print(f\"F1 weighted: {f1_weighted}\")\n",
    "    print(f\"Kappa: {kappa}\")"
   ]
  },
  {
   "cell_type": "code",
   "execution_count": 41,
   "metadata": {},
   "outputs": [
    {
     "name": "stdout",
     "output_type": "stream",
     "text": [
      "FINAL REPORT for training size = 14\n",
      "mean accuracy: 0.6199999999999999 +/- 0.208806130178211\n",
      "mean F1 macro: 0.5892857142857142 +/- 0.2234324330848031\n",
      "mean F1 micro: 0.6199999999999999 +/- 0.208806130178211\n",
      "mean F1 weighted: 0.5857142857142856 +/- 0.241123598117565\n",
      "mean Kappa: 0.27337662337662333 +/- 0.3574864541586919\n"
     ]
    }
   ],
   "source": [
    "print(f\"FINAL REPORT for training size = {train_size}\")\n",
    "\n",
    "print(f\"mean accuracy: {np.mean(acc_scores)} +/- {np.std(acc_scores)}\")\n",
    "print(f\"mean F1 macro: {np.mean(f1macro_scores)} +/- {np.std(f1macro_scores)}\")\n",
    "print(f\"mean F1 micro: {np.mean(f1micro_scores)} +/- {np.std(f1micro_scores)}\")\n",
    "print(f\"mean F1 weighted: {np.mean(f1weighted_scores)} +/- {np.std(f1weighted_scores)}\")\n",
    "print(f\"mean Kappa: {np.mean(kappa_scores)} +/- {np.std(kappa_scores)}\")"
   ]
  },
  {
   "cell_type": "code",
   "execution_count": 42,
   "metadata": {},
   "outputs": [
    {
     "data": {
      "text/html": [
       "<div>\n",
       "<style scoped>\n",
       "    .dataframe tbody tr th:only-of-type {\n",
       "        vertical-align: middle;\n",
       "    }\n",
       "\n",
       "    .dataframe tbody tr th {\n",
       "        vertical-align: top;\n",
       "    }\n",
       "\n",
       "    .dataframe thead th {\n",
       "        text-align: right;\n",
       "    }\n",
       "</style>\n",
       "<table border=\"1\" class=\"dataframe\">\n",
       "  <thead>\n",
       "    <tr style=\"text-align: right;\">\n",
       "      <th></th>\n",
       "      <th>train_size</th>\n",
       "      <th>y_true</th>\n",
       "      <th>y_pred</th>\n",
       "      <th>accuracy</th>\n",
       "      <th>f1_macro</th>\n",
       "      <th>f1_micro</th>\n",
       "      <th>f1_weighted</th>\n",
       "      <th>kappa</th>\n",
       "    </tr>\n",
       "  </thead>\n",
       "  <tbody>\n",
       "    <tr>\n",
       "      <th>0</th>\n",
       "      <td>14</td>\n",
       "      <td>[0, 0, 1, 1, 0]</td>\n",
       "      <td>[0, 0, 0, 1, 0]</td>\n",
       "      <td>0.8</td>\n",
       "      <td>0.761905</td>\n",
       "      <td>0.8</td>\n",
       "      <td>0.780952</td>\n",
       "      <td>0.545455</td>\n",
       "    </tr>\n",
       "    <tr>\n",
       "      <th>1</th>\n",
       "      <td>14</td>\n",
       "      <td>[0, 0, 0, 1, 1]</td>\n",
       "      <td>[0, 0, 1, 1, 0]</td>\n",
       "      <td>0.6</td>\n",
       "      <td>0.583333</td>\n",
       "      <td>0.6</td>\n",
       "      <td>0.600000</td>\n",
       "      <td>0.166667</td>\n",
       "    </tr>\n",
       "    <tr>\n",
       "      <th>2</th>\n",
       "      <td>14</td>\n",
       "      <td>[1, 0, 0, 1, 0]</td>\n",
       "      <td>[1, 1, 0, 0, 0]</td>\n",
       "      <td>0.6</td>\n",
       "      <td>0.583333</td>\n",
       "      <td>0.6</td>\n",
       "      <td>0.600000</td>\n",
       "      <td>0.166667</td>\n",
       "    </tr>\n",
       "  </tbody>\n",
       "</table>\n",
       "</div>"
      ],
      "text/plain": [
       "   train_size           y_true           y_pred  accuracy  f1_macro  f1_micro  \\\n",
       "0          14  [0, 0, 1, 1, 0]  [0, 0, 0, 1, 0]       0.8  0.761905       0.8   \n",
       "1          14  [0, 0, 0, 1, 1]  [0, 0, 1, 1, 0]       0.6  0.583333       0.6   \n",
       "2          14  [1, 0, 0, 1, 0]  [1, 1, 0, 0, 0]       0.6  0.583333       0.6   \n",
       "\n",
       "   f1_weighted     kappa  \n",
       "0     0.780952  0.545455  \n",
       "1     0.600000  0.166667  \n",
       "2     0.600000  0.166667  "
      ]
     },
     "execution_count": 42,
     "metadata": {},
     "output_type": "execute_result"
    }
   ],
   "source": [
    "compiled_res_14 = pd.DataFrame(metrics_dict())\n",
    "compiled_res_14.head(3)"
   ]
  },
  {
   "cell_type": "markdown",
   "metadata": {},
   "source": [
    "### training size = 15"
   ]
  },
  {
   "cell_type": "code",
   "execution_count": 43,
   "metadata": {},
   "outputs": [],
   "source": [
    "train_size = 15\n",
    "iterations = 10\n",
    "y_test_all = []\n",
    "y_pred_all = []\n",
    "acc_scores = []\n",
    "f1macro_scores = []\n",
    "f1micro_scores = []\n",
    "f1weighted_scores = []\n",
    "kappa_scores = []"
   ]
  },
  {
   "cell_type": "code",
   "execution_count": 44,
   "metadata": {
    "scrolled": true
   },
   "outputs": [
    {
     "name": "stdout",
     "output_type": "stream",
     "text": [
      "-------------Iteration 1/10\n",
      "15 4\n",
      "random_state = 42\n",
      "Accuracy: 1.0\n",
      "F1 macro: 1.0\n",
      "F1 micro: 1.0\n",
      "F1 weighted: 1.0\n",
      "Kappa: 1.0\n",
      "-------------Iteration 2/10\n",
      "15 4\n",
      "random_state = 43\n"
     ]
    },
    {
     "name": "stderr",
     "output_type": "stream",
     "text": [
      "[Parallel(n_jobs=1)]: Done  49 tasks      | elapsed:    0.0s\n",
      "[Parallel(n_jobs=1)]: Done  49 tasks      | elapsed:    0.0s\n",
      "[Parallel(n_jobs=1)]: Done  49 tasks      | elapsed:    0.0s\n",
      "[Parallel(n_jobs=1)]: Done  49 tasks      | elapsed:    0.0s\n"
     ]
    },
    {
     "name": "stdout",
     "output_type": "stream",
     "text": [
      "Accuracy: 0.5\n",
      "F1 macro: 0.3333333333333333\n",
      "F1 micro: 0.5\n",
      "F1 weighted: 0.3333333333333333\n",
      "Kappa: 0.0\n",
      "-------------Iteration 3/10\n",
      "15 4\n",
      "random_state = 44\n",
      "Accuracy: 0.75\n",
      "F1 macro: 0.7333333333333334\n",
      "F1 micro: 0.75\n",
      "F1 weighted: 0.7333333333333334\n",
      "Kappa: 0.5\n",
      "-------------Iteration 4/10\n",
      "15 4\n",
      "random_state = 45\n"
     ]
    },
    {
     "name": "stderr",
     "output_type": "stream",
     "text": [
      "[Parallel(n_jobs=1)]: Done  49 tasks      | elapsed:    0.0s\n",
      "[Parallel(n_jobs=1)]: Done  49 tasks      | elapsed:    0.0s\n",
      "[Parallel(n_jobs=1)]: Done  49 tasks      | elapsed:    0.0s\n",
      "[Parallel(n_jobs=1)]: Done  49 tasks      | elapsed:    0.0s\n"
     ]
    },
    {
     "name": "stdout",
     "output_type": "stream",
     "text": [
      "Accuracy: 0.5\n",
      "F1 macro: 0.3333333333333333\n",
      "F1 micro: 0.5\n",
      "F1 weighted: 0.3333333333333333\n",
      "Kappa: 0.0\n",
      "-------------Iteration 5/10\n",
      "15 4\n",
      "random_state = 46\n",
      "Accuracy: 0.75\n",
      "F1 macro: 0.7333333333333334\n",
      "F1 micro: 0.75\n",
      "F1 weighted: 0.7333333333333334\n",
      "Kappa: 0.5\n",
      "-------------Iteration 6/10\n",
      "15 4\n",
      "random_state = 47\n"
     ]
    },
    {
     "name": "stderr",
     "output_type": "stream",
     "text": [
      "[Parallel(n_jobs=1)]: Done  49 tasks      | elapsed:    0.0s\n",
      "[Parallel(n_jobs=1)]: Done  49 tasks      | elapsed:    0.0s\n",
      "[Parallel(n_jobs=1)]: Done  49 tasks      | elapsed:    0.0s\n",
      "[Parallel(n_jobs=1)]: Done  49 tasks      | elapsed:    0.0s\n"
     ]
    },
    {
     "name": "stdout",
     "output_type": "stream",
     "text": [
      "Accuracy: 0.5\n",
      "F1 macro: 0.5\n",
      "F1 micro: 0.5\n",
      "F1 weighted: 0.5\n",
      "Kappa: 0.0\n",
      "-------------Iteration 7/10\n",
      "15 4\n",
      "random_state = 48\n",
      "Accuracy: 0.5\n",
      "F1 macro: 0.5\n",
      "F1 micro: 0.5\n",
      "F1 weighted: 0.5\n",
      "Kappa: 0.0\n",
      "-------------Iteration 8/10\n",
      "15 4\n",
      "random_state = 49\n",
      "Accuracy: 1.0\n",
      "F1 macro: 1.0\n",
      "F1 micro: 1.0\n",
      "F1 weighted: 1.0\n",
      "Kappa: 1.0\n",
      "-------------Iteration 9/10\n",
      "15 4\n",
      "random_state = 50\n"
     ]
    },
    {
     "name": "stderr",
     "output_type": "stream",
     "text": [
      "[Parallel(n_jobs=1)]: Done  49 tasks      | elapsed:    0.0s\n",
      "[Parallel(n_jobs=1)]: Done  49 tasks      | elapsed:    0.0s\n",
      "[Parallel(n_jobs=1)]: Done  49 tasks      | elapsed:    0.0s\n",
      "[Parallel(n_jobs=1)]: Done  49 tasks      | elapsed:    0.0s\n",
      "[Parallel(n_jobs=1)]: Done  49 tasks      | elapsed:    0.0s\n"
     ]
    },
    {
     "name": "stdout",
     "output_type": "stream",
     "text": [
      "Accuracy: 0.75\n",
      "F1 macro: 0.7333333333333334\n",
      "F1 micro: 0.75\n",
      "F1 weighted: 0.7333333333333334\n",
      "Kappa: 0.5\n",
      "-------------Iteration 10/10\n",
      "15 4\n",
      "random_state = 51\n",
      "Accuracy: 0.5\n",
      "F1 macro: 0.3333333333333333\n",
      "F1 micro: 0.5\n",
      "F1 weighted: 0.3333333333333333\n",
      "Kappa: 0.0\n"
     ]
    },
    {
     "name": "stderr",
     "output_type": "stream",
     "text": [
      "[Parallel(n_jobs=1)]: Done  49 tasks      | elapsed:    0.0s\n",
      "[Parallel(n_jobs=1)]: Done  49 tasks      | elapsed:    0.0s\n",
      "[Parallel(n_jobs=1)]: Done  49 tasks      | elapsed:    0.0s\n"
     ]
    }
   ],
   "source": [
    "for n in range(iterations):\n",
    "    print(f\"-------------Iteration {n + 1}/{iterations}\")\n",
    "    random_state=42+n\n",
    "\n",
    "    X_train, y_train, X_test, y_test = prepare_dataset_classification(\n",
    "        df,\n",
    "        random_state=random_state,\n",
    "        train_size=train_size\n",
    "    )\n",
    "    print(f\"random_state = {random_state}\")\n",
    "\n",
    "    y_test, y_pred, acc, f1_macro, f1_micro, f1_weighted, kappa = train_and_evaluate_classifier(\n",
    "        X_train, \n",
    "        y_train, \n",
    "        X_test, \n",
    "        y_test, \n",
    "        random_state=random_state\n",
    "    )\n",
    "    \n",
    "    y_test_all.append(y_test)\n",
    "    y_pred_all.append(y_pred)\n",
    "    acc_scores.append(acc)\n",
    "    f1macro_scores.append(f1_macro)\n",
    "    f1micro_scores.append(f1_micro)\n",
    "    f1weighted_scores.append(f1_weighted)\n",
    "    kappa_scores.append(kappa)\n",
    "    print(f\"Accuracy: {acc}\")\n",
    "    print(f\"F1 macro: {f1_macro}\")\n",
    "    print(f\"F1 micro: {f1_micro}\")\n",
    "    print(f\"F1 weighted: {f1_weighted}\")\n",
    "    print(f\"Kappa: {kappa}\")"
   ]
  },
  {
   "cell_type": "code",
   "execution_count": 45,
   "metadata": {},
   "outputs": [
    {
     "name": "stdout",
     "output_type": "stream",
     "text": [
      "FINAL REPORT for training size = 15\n",
      "mean accuracy: 0.675 +/- 0.19525624189766635\n",
      "mean F1 macro: 0.6199999999999999 +/- 0.24549270186029293\n",
      "mean F1 micro: 0.675 +/- 0.19525624189766635\n",
      "mean F1 weighted: 0.6199999999999999 +/- 0.24549270186029293\n",
      "mean Kappa: 0.35 +/- 0.39051248379533277\n"
     ]
    }
   ],
   "source": [
    "print(f\"FINAL REPORT for training size = {train_size}\")\n",
    "\n",
    "print(f\"mean accuracy: {np.mean(acc_scores)} +/- {np.std(acc_scores)}\")\n",
    "print(f\"mean F1 macro: {np.mean(f1macro_scores)} +/- {np.std(f1macro_scores)}\")\n",
    "print(f\"mean F1 micro: {np.mean(f1micro_scores)} +/- {np.std(f1micro_scores)}\")\n",
    "print(f\"mean F1 weighted: {np.mean(f1weighted_scores)} +/- {np.std(f1weighted_scores)}\")\n",
    "print(f\"mean Kappa: {np.mean(kappa_scores)} +/- {np.std(kappa_scores)}\")"
   ]
  },
  {
   "cell_type": "code",
   "execution_count": 46,
   "metadata": {},
   "outputs": [
    {
     "data": {
      "text/html": [
       "<div>\n",
       "<style scoped>\n",
       "    .dataframe tbody tr th:only-of-type {\n",
       "        vertical-align: middle;\n",
       "    }\n",
       "\n",
       "    .dataframe tbody tr th {\n",
       "        vertical-align: top;\n",
       "    }\n",
       "\n",
       "    .dataframe thead th {\n",
       "        text-align: right;\n",
       "    }\n",
       "</style>\n",
       "<table border=\"1\" class=\"dataframe\">\n",
       "  <thead>\n",
       "    <tr style=\"text-align: right;\">\n",
       "      <th></th>\n",
       "      <th>train_size</th>\n",
       "      <th>y_true</th>\n",
       "      <th>y_pred</th>\n",
       "      <th>accuracy</th>\n",
       "      <th>f1_macro</th>\n",
       "      <th>f1_micro</th>\n",
       "      <th>f1_weighted</th>\n",
       "      <th>kappa</th>\n",
       "    </tr>\n",
       "  </thead>\n",
       "  <tbody>\n",
       "    <tr>\n",
       "      <th>0</th>\n",
       "      <td>15</td>\n",
       "      <td>[0, 0, 1, 1]</td>\n",
       "      <td>[0, 0, 1, 1]</td>\n",
       "      <td>1.00</td>\n",
       "      <td>1.000000</td>\n",
       "      <td>1.00</td>\n",
       "      <td>1.000000</td>\n",
       "      <td>1.0</td>\n",
       "    </tr>\n",
       "    <tr>\n",
       "      <th>1</th>\n",
       "      <td>15</td>\n",
       "      <td>[0, 1, 1, 0]</td>\n",
       "      <td>[0, 0, 0, 0]</td>\n",
       "      <td>0.50</td>\n",
       "      <td>0.333333</td>\n",
       "      <td>0.50</td>\n",
       "      <td>0.333333</td>\n",
       "      <td>0.0</td>\n",
       "    </tr>\n",
       "    <tr>\n",
       "      <th>2</th>\n",
       "      <td>15</td>\n",
       "      <td>[1, 0, 1, 0]</td>\n",
       "      <td>[1, 0, 0, 0]</td>\n",
       "      <td>0.75</td>\n",
       "      <td>0.733333</td>\n",
       "      <td>0.75</td>\n",
       "      <td>0.733333</td>\n",
       "      <td>0.5</td>\n",
       "    </tr>\n",
       "  </tbody>\n",
       "</table>\n",
       "</div>"
      ],
      "text/plain": [
       "   train_size        y_true        y_pred  accuracy  f1_macro  f1_micro  \\\n",
       "0          15  [0, 0, 1, 1]  [0, 0, 1, 1]      1.00  1.000000      1.00   \n",
       "1          15  [0, 1, 1, 0]  [0, 0, 0, 0]      0.50  0.333333      0.50   \n",
       "2          15  [1, 0, 1, 0]  [1, 0, 0, 0]      0.75  0.733333      0.75   \n",
       "\n",
       "   f1_weighted  kappa  \n",
       "0     1.000000    1.0  \n",
       "1     0.333333    0.0  \n",
       "2     0.733333    0.5  "
      ]
     },
     "execution_count": 46,
     "metadata": {},
     "output_type": "execute_result"
    }
   ],
   "source": [
    "compiled_res_15 = pd.DataFrame(metrics_dict())\n",
    "compiled_res_15.head(3)"
   ]
  },
  {
   "cell_type": "code",
   "execution_count": 47,
   "metadata": {},
   "outputs": [
    {
     "name": "stdout",
     "output_type": "stream",
     "text": [
      "70\n"
     ]
    },
    {
     "data": {
      "text/html": [
       "<div>\n",
       "<style scoped>\n",
       "    .dataframe tbody tr th:only-of-type {\n",
       "        vertical-align: middle;\n",
       "    }\n",
       "\n",
       "    .dataframe tbody tr th {\n",
       "        vertical-align: top;\n",
       "    }\n",
       "\n",
       "    .dataframe thead th {\n",
       "        text-align: right;\n",
       "    }\n",
       "</style>\n",
       "<table border=\"1\" class=\"dataframe\">\n",
       "  <thead>\n",
       "    <tr style=\"text-align: right;\">\n",
       "      <th></th>\n",
       "      <th>train_size</th>\n",
       "      <th>y_true</th>\n",
       "      <th>y_pred</th>\n",
       "      <th>accuracy</th>\n",
       "      <th>f1_macro</th>\n",
       "      <th>f1_micro</th>\n",
       "      <th>f1_weighted</th>\n",
       "      <th>kappa</th>\n",
       "    </tr>\n",
       "  </thead>\n",
       "  <tbody>\n",
       "    <tr>\n",
       "      <th>0</th>\n",
       "      <td>5</td>\n",
       "      <td>[1, 1, 0, 0, 1, 1, 0, 1, 0, 1, 0, 0, 1, 0]</td>\n",
       "      <td>[0, 1, 0, 0, 1, 0, 0, 0, 0, 0, 1, 0, 0, 0]</td>\n",
       "      <td>0.571429</td>\n",
       "      <td>0.533333</td>\n",
       "      <td>0.571429</td>\n",
       "      <td>0.533333</td>\n",
       "      <td>0.142857</td>\n",
       "    </tr>\n",
       "    <tr>\n",
       "      <th>1</th>\n",
       "      <td>5</td>\n",
       "      <td>[1, 0, 1, 0, 1, 1, 0, 1, 0, 0, 0, 1, 1, 0]</td>\n",
       "      <td>[0, 0, 0, 0, 1, 1, 0, 0, 0, 0, 0, 0, 0, 0]</td>\n",
       "      <td>0.642857</td>\n",
       "      <td>0.590643</td>\n",
       "      <td>0.642857</td>\n",
       "      <td>0.590643</td>\n",
       "      <td>0.285714</td>\n",
       "    </tr>\n",
       "    <tr>\n",
       "      <th>2</th>\n",
       "      <td>5</td>\n",
       "      <td>[1, 0, 1, 1, 1, 0, 1, 0, 0, 0, 0, 0, 1, 1]</td>\n",
       "      <td>[1, 0, 1, 0, 0, 0, 0, 0, 1, 0, 0, 1, 0, 0]</td>\n",
       "      <td>0.500000</td>\n",
       "      <td>0.475936</td>\n",
       "      <td>0.500000</td>\n",
       "      <td>0.475936</td>\n",
       "      <td>0.000000</td>\n",
       "    </tr>\n",
       "    <tr>\n",
       "      <th>3</th>\n",
       "      <td>5</td>\n",
       "      <td>[0, 0, 0, 0, 1, 1, 1, 1, 1, 1, 0, 0, 0, 1]</td>\n",
       "      <td>[0, 0, 1, 0, 0, 0, 0, 1, 1, 0, 1, 0, 1, 1]</td>\n",
       "      <td>0.500000</td>\n",
       "      <td>0.497436</td>\n",
       "      <td>0.500000</td>\n",
       "      <td>0.497436</td>\n",
       "      <td>0.000000</td>\n",
       "    </tr>\n",
       "    <tr>\n",
       "      <th>4</th>\n",
       "      <td>5</td>\n",
       "      <td>[0, 1, 0, 0, 1, 0, 0, 1, 1, 1, 1, 0, 1, 0]</td>\n",
       "      <td>[0, 0, 0, 1, 1, 0, 1, 1, 1, 0, 0, 1, 0, 1]</td>\n",
       "      <td>0.428571</td>\n",
       "      <td>0.428571</td>\n",
       "      <td>0.428571</td>\n",
       "      <td>0.428571</td>\n",
       "      <td>-0.142857</td>\n",
       "    </tr>\n",
       "  </tbody>\n",
       "</table>\n",
       "</div>"
      ],
      "text/plain": [
       "   train_size                                      y_true  \\\n",
       "0           5  [1, 1, 0, 0, 1, 1, 0, 1, 0, 1, 0, 0, 1, 0]   \n",
       "1           5  [1, 0, 1, 0, 1, 1, 0, 1, 0, 0, 0, 1, 1, 0]   \n",
       "2           5  [1, 0, 1, 1, 1, 0, 1, 0, 0, 0, 0, 0, 1, 1]   \n",
       "3           5  [0, 0, 0, 0, 1, 1, 1, 1, 1, 1, 0, 0, 0, 1]   \n",
       "4           5  [0, 1, 0, 0, 1, 0, 0, 1, 1, 1, 1, 0, 1, 0]   \n",
       "\n",
       "                                       y_pred  accuracy  f1_macro  f1_micro  \\\n",
       "0  [0, 1, 0, 0, 1, 0, 0, 0, 0, 0, 1, 0, 0, 0]  0.571429  0.533333  0.571429   \n",
       "1  [0, 0, 0, 0, 1, 1, 0, 0, 0, 0, 0, 0, 0, 0]  0.642857  0.590643  0.642857   \n",
       "2  [1, 0, 1, 0, 0, 0, 0, 0, 1, 0, 0, 1, 0, 0]  0.500000  0.475936  0.500000   \n",
       "3  [0, 0, 1, 0, 0, 0, 0, 1, 1, 0, 1, 0, 1, 1]  0.500000  0.497436  0.500000   \n",
       "4  [0, 0, 0, 1, 1, 0, 1, 1, 1, 0, 0, 1, 0, 1]  0.428571  0.428571  0.428571   \n",
       "\n",
       "   f1_weighted     kappa  \n",
       "0     0.533333  0.142857  \n",
       "1     0.590643  0.285714  \n",
       "2     0.475936  0.000000  \n",
       "3     0.497436  0.000000  \n",
       "4     0.428571 -0.142857  "
      ]
     },
     "execution_count": 47,
     "metadata": {},
     "output_type": "execute_result"
    }
   ],
   "source": [
    "compiled_res = pd.concat([\n",
    "    compiled_res_5, \n",
    "    compiled_res_8,\n",
    "    compiled_res_10,\n",
    "    compiled_res_12,\n",
    "    compiled_res_13,\n",
    "    compiled_res_14,\n",
    "    compiled_res_15\n",
    "], ignore_index=True)\n",
    "print(len(compiled_res))\n",
    "compiled_res.head()"
   ]
  },
  {
   "cell_type": "code",
   "execution_count": 48,
   "metadata": {},
   "outputs": [],
   "source": [
    "compiled_res[\"y_true\"] = compiled_res[\"y_true\"].apply(lambda arr: list(arr))\n",
    "compiled_res[\"y_pred\"] = compiled_res[\"y_pred\"].apply(lambda arr: list(arr))"
   ]
  },
  {
   "cell_type": "code",
   "execution_count": 55,
   "metadata": {},
   "outputs": [],
   "source": [
    "compiled_res.to_csv(\"RF_results_sensorStability_2bins_5050.csv\", sep=\",\", index=False)"
   ]
  },
  {
   "cell_type": "code",
   "execution_count": 56,
   "metadata": {},
   "outputs": [
    {
     "name": "stdout",
     "output_type": "stream",
     "text": [
      "<class 'pandas.core.frame.DataFrame'>\n",
      "RangeIndex: 70 entries, 0 to 69\n",
      "Data columns (total 8 columns):\n",
      " #   Column       Non-Null Count  Dtype  \n",
      "---  ------       --------------  -----  \n",
      " 0   train_size   70 non-null     int64  \n",
      " 1   y_true       70 non-null     object \n",
      " 2   y_pred       70 non-null     object \n",
      " 3   accuracy     70 non-null     float64\n",
      " 4   f1_macro     70 non-null     float64\n",
      " 5   f1_micro     70 non-null     float64\n",
      " 6   f1_weighted  70 non-null     float64\n",
      " 7   kappa        70 non-null     float64\n",
      "dtypes: float64(5), int64(1), object(2)\n",
      "memory usage: 4.5+ KB\n"
     ]
    }
   ],
   "source": [
    "df = pd.read_csv(\"RF_results_sensorStability_2bins_5050.csv\", sep=',')\n",
    "df.info()"
   ]
  },
  {
   "cell_type": "code",
   "execution_count": 57,
   "metadata": {},
   "outputs": [
    {
     "data": {
      "text/html": [
       "<div>\n",
       "<style scoped>\n",
       "    .dataframe tbody tr th:only-of-type {\n",
       "        vertical-align: middle;\n",
       "    }\n",
       "\n",
       "    .dataframe tbody tr th {\n",
       "        vertical-align: top;\n",
       "    }\n",
       "\n",
       "    .dataframe thead th {\n",
       "        text-align: right;\n",
       "    }\n",
       "</style>\n",
       "<table border=\"1\" class=\"dataframe\">\n",
       "  <thead>\n",
       "    <tr style=\"text-align: right;\">\n",
       "      <th></th>\n",
       "      <th>train_size</th>\n",
       "      <th>y_true</th>\n",
       "      <th>y_pred</th>\n",
       "      <th>accuracy</th>\n",
       "      <th>f1_macro</th>\n",
       "      <th>f1_micro</th>\n",
       "      <th>f1_weighted</th>\n",
       "      <th>kappa</th>\n",
       "    </tr>\n",
       "  </thead>\n",
       "  <tbody>\n",
       "    <tr>\n",
       "      <th>0</th>\n",
       "      <td>5</td>\n",
       "      <td>[1, 1, 0, 0, 1, 1, 0, 1, 0, 1, 0, 0, 1, 0]</td>\n",
       "      <td>[0, 1, 0, 0, 1, 0, 0, 0, 0, 0, 1, 0, 0, 0]</td>\n",
       "      <td>0.571429</td>\n",
       "      <td>0.533333</td>\n",
       "      <td>0.571429</td>\n",
       "      <td>0.533333</td>\n",
       "      <td>0.142857</td>\n",
       "    </tr>\n",
       "    <tr>\n",
       "      <th>1</th>\n",
       "      <td>5</td>\n",
       "      <td>[1, 0, 1, 0, 1, 1, 0, 1, 0, 0, 0, 1, 1, 0]</td>\n",
       "      <td>[0, 0, 0, 0, 1, 1, 0, 0, 0, 0, 0, 0, 0, 0]</td>\n",
       "      <td>0.642857</td>\n",
       "      <td>0.590643</td>\n",
       "      <td>0.642857</td>\n",
       "      <td>0.590643</td>\n",
       "      <td>0.285714</td>\n",
       "    </tr>\n",
       "    <tr>\n",
       "      <th>2</th>\n",
       "      <td>5</td>\n",
       "      <td>[1, 0, 1, 1, 1, 0, 1, 0, 0, 0, 0, 0, 1, 1]</td>\n",
       "      <td>[1, 0, 1, 0, 0, 0, 0, 0, 1, 0, 0, 1, 0, 0]</td>\n",
       "      <td>0.500000</td>\n",
       "      <td>0.475936</td>\n",
       "      <td>0.500000</td>\n",
       "      <td>0.475936</td>\n",
       "      <td>0.000000</td>\n",
       "    </tr>\n",
       "  </tbody>\n",
       "</table>\n",
       "</div>"
      ],
      "text/plain": [
       "   train_size                                      y_true  \\\n",
       "0           5  [1, 1, 0, 0, 1, 1, 0, 1, 0, 1, 0, 0, 1, 0]   \n",
       "1           5  [1, 0, 1, 0, 1, 1, 0, 1, 0, 0, 0, 1, 1, 0]   \n",
       "2           5  [1, 0, 1, 1, 1, 0, 1, 0, 0, 0, 0, 0, 1, 1]   \n",
       "\n",
       "                                       y_pred  accuracy  f1_macro  f1_micro  \\\n",
       "0  [0, 1, 0, 0, 1, 0, 0, 0, 0, 0, 1, 0, 0, 0]  0.571429  0.533333  0.571429   \n",
       "1  [0, 0, 0, 0, 1, 1, 0, 0, 0, 0, 0, 0, 0, 0]  0.642857  0.590643  0.642857   \n",
       "2  [1, 0, 1, 0, 0, 0, 0, 0, 1, 0, 0, 1, 0, 0]  0.500000  0.475936  0.500000   \n",
       "\n",
       "   f1_weighted     kappa  \n",
       "0     0.533333  0.142857  \n",
       "1     0.590643  0.285714  \n",
       "2     0.475936  0.000000  "
      ]
     },
     "execution_count": 57,
     "metadata": {},
     "output_type": "execute_result"
    }
   ],
   "source": [
    "df.head(3)"
   ]
  },
  {
   "cell_type": "code",
   "execution_count": 58,
   "metadata": {},
   "outputs": [
    {
     "data": {
      "text/html": [
       "<div>\n",
       "<style scoped>\n",
       "    .dataframe tbody tr th:only-of-type {\n",
       "        vertical-align: middle;\n",
       "    }\n",
       "\n",
       "    .dataframe tbody tr th {\n",
       "        vertical-align: top;\n",
       "    }\n",
       "\n",
       "    .dataframe thead tr th {\n",
       "        text-align: left;\n",
       "    }\n",
       "\n",
       "    .dataframe thead tr:last-of-type th {\n",
       "        text-align: right;\n",
       "    }\n",
       "</style>\n",
       "<table border=\"1\" class=\"dataframe\">\n",
       "  <thead>\n",
       "    <tr>\n",
       "      <th></th>\n",
       "      <th colspan=\"2\" halign=\"left\">accuracy</th>\n",
       "      <th colspan=\"2\" halign=\"left\">f1_macro</th>\n",
       "      <th colspan=\"2\" halign=\"left\">f1_micro</th>\n",
       "      <th colspan=\"2\" halign=\"left\">f1_weighted</th>\n",
       "      <th colspan=\"2\" halign=\"left\">kappa</th>\n",
       "    </tr>\n",
       "    <tr>\n",
       "      <th></th>\n",
       "      <th>mean</th>\n",
       "      <th>sem</th>\n",
       "      <th>mean</th>\n",
       "      <th>sem</th>\n",
       "      <th>mean</th>\n",
       "      <th>sem</th>\n",
       "      <th>mean</th>\n",
       "      <th>sem</th>\n",
       "      <th>mean</th>\n",
       "      <th>sem</th>\n",
       "    </tr>\n",
       "    <tr>\n",
       "      <th>train_size</th>\n",
       "      <th></th>\n",
       "      <th></th>\n",
       "      <th></th>\n",
       "      <th></th>\n",
       "      <th></th>\n",
       "      <th></th>\n",
       "      <th></th>\n",
       "      <th></th>\n",
       "      <th></th>\n",
       "      <th></th>\n",
       "    </tr>\n",
       "  </thead>\n",
       "  <tbody>\n",
       "    <tr>\n",
       "      <th>5</th>\n",
       "      <td>0.535714</td>\n",
       "      <td>0.034090</td>\n",
       "      <td>0.508027</td>\n",
       "      <td>0.026974</td>\n",
       "      <td>0.535714</td>\n",
       "      <td>0.034090</td>\n",
       "      <td>0.508027</td>\n",
       "      <td>0.026974</td>\n",
       "      <td>0.071429</td>\n",
       "      <td>0.068180</td>\n",
       "    </tr>\n",
       "    <tr>\n",
       "      <th>8</th>\n",
       "      <td>0.563636</td>\n",
       "      <td>0.032637</td>\n",
       "      <td>0.533138</td>\n",
       "      <td>0.036074</td>\n",
       "      <td>0.563636</td>\n",
       "      <td>0.032637</td>\n",
       "      <td>0.536351</td>\n",
       "      <td>0.035326</td>\n",
       "      <td>0.124494</td>\n",
       "      <td>0.062436</td>\n",
       "    </tr>\n",
       "    <tr>\n",
       "      <th>10</th>\n",
       "      <td>0.600000</td>\n",
       "      <td>0.050239</td>\n",
       "      <td>0.583373</td>\n",
       "      <td>0.050792</td>\n",
       "      <td>0.600000</td>\n",
       "      <td>0.050239</td>\n",
       "      <td>0.587872</td>\n",
       "      <td>0.051002</td>\n",
       "      <td>0.192161</td>\n",
       "      <td>0.098515</td>\n",
       "    </tr>\n",
       "    <tr>\n",
       "      <th>12</th>\n",
       "      <td>0.542857</td>\n",
       "      <td>0.073154</td>\n",
       "      <td>0.528016</td>\n",
       "      <td>0.072332</td>\n",
       "      <td>0.542857</td>\n",
       "      <td>0.073154</td>\n",
       "      <td>0.528413</td>\n",
       "      <td>0.074585</td>\n",
       "      <td>0.101826</td>\n",
       "      <td>0.135443</td>\n",
       "    </tr>\n",
       "    <tr>\n",
       "      <th>13</th>\n",
       "      <td>0.566667</td>\n",
       "      <td>0.066667</td>\n",
       "      <td>0.552619</td>\n",
       "      <td>0.070130</td>\n",
       "      <td>0.566667</td>\n",
       "      <td>0.066667</td>\n",
       "      <td>0.552619</td>\n",
       "      <td>0.070130</td>\n",
       "      <td>0.133333</td>\n",
       "      <td>0.133333</td>\n",
       "    </tr>\n",
       "    <tr>\n",
       "      <th>14</th>\n",
       "      <td>0.620000</td>\n",
       "      <td>0.069602</td>\n",
       "      <td>0.589286</td>\n",
       "      <td>0.074477</td>\n",
       "      <td>0.620000</td>\n",
       "      <td>0.069602</td>\n",
       "      <td>0.585714</td>\n",
       "      <td>0.080375</td>\n",
       "      <td>0.273377</td>\n",
       "      <td>0.119162</td>\n",
       "    </tr>\n",
       "    <tr>\n",
       "      <th>15</th>\n",
       "      <td>0.675000</td>\n",
       "      <td>0.065085</td>\n",
       "      <td>0.620000</td>\n",
       "      <td>0.081831</td>\n",
       "      <td>0.675000</td>\n",
       "      <td>0.065085</td>\n",
       "      <td>0.620000</td>\n",
       "      <td>0.081831</td>\n",
       "      <td>0.350000</td>\n",
       "      <td>0.130171</td>\n",
       "    </tr>\n",
       "  </tbody>\n",
       "</table>\n",
       "</div>"
      ],
      "text/plain": [
       "            accuracy            f1_macro            f1_micro            \\\n",
       "                mean       sem      mean       sem      mean       sem   \n",
       "train_size                                                               \n",
       "5           0.535714  0.034090  0.508027  0.026974  0.535714  0.034090   \n",
       "8           0.563636  0.032637  0.533138  0.036074  0.563636  0.032637   \n",
       "10          0.600000  0.050239  0.583373  0.050792  0.600000  0.050239   \n",
       "12          0.542857  0.073154  0.528016  0.072332  0.542857  0.073154   \n",
       "13          0.566667  0.066667  0.552619  0.070130  0.566667  0.066667   \n",
       "14          0.620000  0.069602  0.589286  0.074477  0.620000  0.069602   \n",
       "15          0.675000  0.065085  0.620000  0.081831  0.675000  0.065085   \n",
       "\n",
       "           f1_weighted               kappa            \n",
       "                  mean       sem      mean       sem  \n",
       "train_size                                            \n",
       "5             0.508027  0.026974  0.071429  0.068180  \n",
       "8             0.536351  0.035326  0.124494  0.062436  \n",
       "10            0.587872  0.051002  0.192161  0.098515  \n",
       "12            0.528413  0.074585  0.101826  0.135443  \n",
       "13            0.552619  0.070130  0.133333  0.133333  \n",
       "14            0.585714  0.080375  0.273377  0.119162  \n",
       "15            0.620000  0.081831  0.350000  0.130171  "
      ]
     },
     "execution_count": 58,
     "metadata": {},
     "output_type": "execute_result"
    }
   ],
   "source": [
    "grouped_res = df.select_dtypes(include = [\"int\", \"float\"]).groupby(['train_size']).agg(['mean', 'sem'])\n",
    "grouped_res"
   ]
  },
  {
   "cell_type": "code",
   "execution_count": 59,
   "metadata": {},
   "outputs": [],
   "source": [
    "conf_mats = []\n",
    "for i in np.arange(len(df)):\n",
    "    confusion_matrix = {\n",
    "        'all_y_true': literal_eval(df[\"y_true\"][i]),\n",
    "        'all_y_pred': literal_eval(df[\"y_pred\"][i])\n",
    "    }\n",
    "    conf_mats.append(confusion_matrix)"
   ]
  },
  {
   "cell_type": "code",
   "execution_count": 61,
   "metadata": {},
   "outputs": [
    {
     "name": "stdout",
     "output_type": "stream",
     "text": [
      "[[0.65 0.35]\n",
      " [0.3  0.7 ]]\n",
      "accuracy: 0.675\n"
     ]
    },
    {
     "data": {
      "image/png": "[encoded data removed]",
      "text/plain": [
       "<Figure size 330x250 with 2 Axes>"
      ]
     },
     "metadata": {},
     "output_type": "display_data"
    }
   ],
   "source": [
    "index_maxsize = compiled_res[compiled_res[\"train_size\"]==max(compiled_res[\"train_size\"])].index\n",
    "conf_mats_max = [conf_mats[i] for i in index_maxsize]\n",
    "\n",
    "actual_all, predicted_all = [], []\n",
    "for index, _ in enumerate(conf_mats_max):\n",
    "    preds = conf_mats_max[index]\n",
    "    actual = preds[\"all_y_true\"]\n",
    "    predicted = preds[\"all_y_pred\"]\n",
    "    \n",
    "    for true, pred in zip(actual, predicted):\n",
    "        actual_all.append(true)\n",
    "        predicted_all.append(pred)\n",
    "\n",
    "confusion_matrix = metrics.confusion_matrix(actual_all, predicted_all)\n",
    "confusion_matrix_norm = confusion_matrix.astype(\"float\") / confusion_matrix.sum(axis=1)[:, np.newaxis]\n",
    "print(confusion_matrix_norm)\n",
    "\n",
    "cm = pycm.ConfusionMatrix(list(actual_all), list(predicted_all))\n",
    "acc = cm.Overall_ACC\n",
    "\n",
    "print(f'accuracy: {acc}')\n",
    "\n",
    "cm_display = metrics.ConfusionMatrixDisplay(\n",
    "    confusion_matrix = confusion_matrix_norm, display_labels = [0, 1])\n",
    "cm_display.plot(cmap=plt.cm.Blues, include_values=True, values_format=\".2f\")\n",
    "#plt.savefig('classif_sensorStability_confusionMatrix_50_50_120ep_size15_RF.pdf', bbox_inches='tight')"
   ]
  },
  {
   "cell_type": "code",
   "execution_count": null,
   "metadata": {},
   "outputs": [],
   "source": []
  },
  {
   "cell_type": "code",
   "execution_count": null,
   "metadata": {},
   "outputs": [],
   "source": []
  },
  {
   "cell_type": "code",
   "execution_count": null,
   "metadata": {},
   "outputs": [],
   "source": []
  },
  {
   "cell_type": "code",
   "execution_count": null,
   "metadata": {},
   "outputs": [],
   "source": []
  }
 ],
 "metadata": {
  "kernelspec": {
   "display_name": "Python [conda env:debyecalculator_env]",
   "language": "python",
   "name": "conda-env-debyecalculator_env-py"
  },
  "language_info": {
   "codemirror_mode": {
    "name": "ipython",
    "version": 3
   },
   "file_extension": ".py",
   "mimetype": "text/x-python",
   "name": "python",
   "nbconvert_exporter": "python",
   "pygments_lexer": "ipython3",
   "version": "3.9.19"
  }
 },
 "nbformat": 4,
 "nbformat_minor": 2
}
