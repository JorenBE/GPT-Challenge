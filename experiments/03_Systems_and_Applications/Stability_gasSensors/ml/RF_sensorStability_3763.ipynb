{
 "cells": [
  {
   "cell_type": "markdown",
   "metadata": {},
   "source": [
    "## Random Forest - sensor stability - 2bins - 37/63"
   ]
  },
  {
   "cell_type": "code",
   "execution_count": 1,
   "metadata": {},
   "outputs": [],
   "source": [
    "import pandas as pd\n",
    "import numpy as np\n",
    "from sklearn.model_selection import train_test_split\n",
    "from sklearn.preprocessing import LabelEncoder, OneHotEncoder\n",
    "from sklearn.metrics import accuracy_score, f1_score, cohen_kappa_score, r2_score, mean_absolute_error, root_mean_squared_error\n",
    "from sklearn.ensemble import RandomForestClassifier\n",
    "import matplotlib.pyplot as plt\n",
    "from sklearn import metrics\n",
    "import pycm\n",
    "from ast import literal_eval\n",
    "import sys\n",
    "sys.path.append(\"../plotutils/\")\n",
    "from plotutils import *\n",
    "plt.style.use(\"../plotutils/your.mplstyle\")"
   ]
  },
  {
   "cell_type": "code",
   "execution_count": 3,
   "metadata": {},
   "outputs": [
    {
     "name": "stdout",
     "output_type": "stream",
     "text": [
      "<class 'pandas.core.frame.DataFrame'>\n",
      "RangeIndex: 19 entries, 0 to 18\n",
      "Data columns (total 21 columns):\n",
      " #   Column                   Non-Null Count  Dtype  \n",
      "---  ------                   --------------  -----  \n",
      " 0   sensor                   19 non-null     object \n",
      " 1   dopant_type              19 non-null     object \n",
      " 2   dopant_dose              19 non-null     float64\n",
      " 3   calcination_temperature  19 non-null     object \n",
      " 4   BET_fresh                19 non-null     float64\n",
      " 5   particle_size_fresh      19 non-null     float64\n",
      " 6   BET_aged                 19 non-null     float64\n",
      " 7   particle_size_aged       19 non-null     float64\n",
      " 8   fresh_point              19 non-null     float64\n",
      " 9   5th_day                  19 non-null     float64\n",
      " 10  8th_day                  16 non-null     float64\n",
      " 11  12th_day                 18 non-null     float64\n",
      " 12  15th_day                 19 non-null     float64\n",
      " 13  diff_0_5day              19 non-null     float64\n",
      " 14  diff_0_5day_binned       19 non-null     int64  \n",
      " 15  diff_5_15day             19 non-null     float64\n",
      " 16  diff_5_15day_2bins       19 non-null     int64  \n",
      " 17  diff_5_15day_3bins       19 non-null     int64  \n",
      " 18  diff_5_15day_5050        19 non-null     int64  \n",
      " 19  synthesis                19 non-null     object \n",
      " 20  synthesis_BET            19 non-null     object \n",
      "dtypes: float64(12), int64(4), object(5)\n",
      "memory usage: 3.2+ KB\n"
     ]
    }
   ],
   "source": [
    "df = pd.read_csv(f\"../StabilityGasSensors_dataset.csv\", sep=';')\n",
    "df.info()"
   ]
  },
  {
   "cell_type": "code",
   "execution_count": 4,
   "metadata": {},
   "outputs": [
    {
     "data": {
      "text/plain": [
       "array(['no dopant', 'Mo', 'Ce', 'Sm', 'Si'], dtype=object)"
      ]
     },
     "execution_count": 4,
     "metadata": {},
     "output_type": "execute_result"
    }
   ],
   "source": [
    "df[\"dopant_type\"].unique()"
   ]
  },
  {
   "cell_type": "code",
   "execution_count": 5,
   "metadata": {},
   "outputs": [
    {
     "data": {
      "text/plain": [
       "array(['no calcination', '700', '850'], dtype=object)"
      ]
     },
     "execution_count": 5,
     "metadata": {},
     "output_type": "execute_result"
    }
   ],
   "source": [
    "df[\"calcination_temperature\"].unique()"
   ]
  },
  {
   "cell_type": "code",
   "execution_count": 6,
   "metadata": {},
   "outputs": [],
   "source": [
    "target = \"diff_5_15day_2bins\"\n",
    "representation = [\"dopant_type\", \"dopant_dose\", \"calcination_temperature\"]\n",
    "random_state=42\n",
    "train_size=10"
   ]
  },
  {
   "cell_type": "code",
   "execution_count": 7,
   "metadata": {},
   "outputs": [],
   "source": [
    "encoder_dopant = OneHotEncoder(sparse_output=False).set_output(transform=\"pandas\")\n",
    "one_hot_encoded = encoder_dopant.fit_transform(df[[\"dopant_type\"]])\n",
    "df = pd.concat([df, one_hot_encoded], axis=1)"
   ]
  },
  {
   "cell_type": "code",
   "execution_count": 8,
   "metadata": {},
   "outputs": [
    {
     "data": {
      "text/plain": [
       "Index(['sensor', 'dopant_type', 'dopant_dose', 'calcination_temperature',\n",
       "       'BET_fresh', 'particle_size_fresh', 'BET_aged', 'particle_size_aged',\n",
       "       'fresh_point', '5th_day', '8th_day', '12th_day', '15th_day',\n",
       "       'diff_0_5day', 'diff_0_5day_binned', 'diff_5_15day',\n",
       "       'diff_5_15day_2bins', 'diff_5_15day_3bins', 'diff_5_15day_5050',\n",
       "       'synthesis', 'synthesis_BET', 'dopant_type_Ce', 'dopant_type_Mo',\n",
       "       'dopant_type_Si', 'dopant_type_Sm', 'dopant_type_no dopant'],\n",
       "      dtype='object')"
      ]
     },
     "execution_count": 8,
     "metadata": {},
     "output_type": "execute_result"
    }
   ],
   "source": [
    "df.columns"
   ]
  },
  {
   "cell_type": "code",
   "execution_count": 9,
   "metadata": {},
   "outputs": [],
   "source": [
    "encoder_temp = OneHotEncoder(sparse_output=False).set_output(transform=\"pandas\")\n",
    "one_hot_encoded = encoder_temp.fit_transform(df[[\"calcination_temperature\"]])\n",
    "df = pd.concat([df, one_hot_encoded], axis=1)"
   ]
  },
  {
   "cell_type": "code",
   "execution_count": 10,
   "metadata": {},
   "outputs": [
    {
     "data": {
      "text/plain": [
       "Index(['sensor', 'dopant_type', 'dopant_dose', 'calcination_temperature',\n",
       "       'BET_fresh', 'particle_size_fresh', 'BET_aged', 'particle_size_aged',\n",
       "       'fresh_point', '5th_day', '8th_day', '12th_day', '15th_day',\n",
       "       'diff_0_5day', 'diff_0_5day_binned', 'diff_5_15day',\n",
       "       'diff_5_15day_2bins', 'diff_5_15day_3bins', 'diff_5_15day_5050',\n",
       "       'synthesis', 'synthesis_BET', 'dopant_type_Ce', 'dopant_type_Mo',\n",
       "       'dopant_type_Si', 'dopant_type_Sm', 'dopant_type_no dopant',\n",
       "       'calcination_temperature_700', 'calcination_temperature_850',\n",
       "       'calcination_temperature_no calcination'],\n",
       "      dtype='object')"
      ]
     },
     "execution_count": 10,
     "metadata": {},
     "output_type": "execute_result"
    }
   ],
   "source": [
    "df.columns"
   ]
  },
  {
   "cell_type": "code",
   "execution_count": 11,
   "metadata": {},
   "outputs": [
    {
     "data": {
      "text/plain": [
       "['dopant_type_Ce',\n",
       " 'dopant_type_Mo',\n",
       " 'dopant_type_Si',\n",
       " 'dopant_type_Sm',\n",
       " 'dopant_type_no dopant',\n",
       " 'calcination_temperature_700',\n",
       " 'calcination_temperature_850',\n",
       " 'calcination_temperature_no calcination']"
      ]
     },
     "execution_count": 11,
     "metadata": {},
     "output_type": "execute_result"
    }
   ],
   "source": [
    "df.columns[21:30].to_list()"
   ]
  },
  {
   "cell_type": "code",
   "execution_count": 12,
   "metadata": {},
   "outputs": [],
   "source": [
    "representation = [\"dopant_dose\"]\n",
    "representation.extend(df.columns[21:30].to_list())"
   ]
  },
  {
   "cell_type": "code",
   "execution_count": 13,
   "metadata": {},
   "outputs": [
    {
     "data": {
      "text/plain": [
       "['dopant_dose',\n",
       " 'dopant_type_Ce',\n",
       " 'dopant_type_Mo',\n",
       " 'dopant_type_Si',\n",
       " 'dopant_type_Sm',\n",
       " 'dopant_type_no dopant',\n",
       " 'calcination_temperature_700',\n",
       " 'calcination_temperature_850',\n",
       " 'calcination_temperature_no calcination']"
      ]
     },
     "execution_count": 13,
     "metadata": {},
     "output_type": "execute_result"
    }
   ],
   "source": [
    "representation"
   ]
  },
  {
   "cell_type": "code",
   "execution_count": 14,
   "metadata": {},
   "outputs": [],
   "source": [
    "def prepare_dataset_classification(\n",
    "    df,\n",
    "    target = \"diff_5_15day_2bins\",\n",
    "    representation = representation,\n",
    "    random_state=42,\n",
    "    train_size=10\n",
    "):\n",
    "    df_train, df_test = train_test_split(\n",
    "        df,\n",
    "        train_size=train_size,\n",
    "        random_state=random_state,\n",
    "        stratify=df[target].astype(int).values,\n",
    "    )\n",
    "\n",
    "    print(len(df_train), len(df_test))\n",
    "    \n",
    "    X_train, y_train = df_train[representation], df_train[target]\n",
    "    X_test, y_test = df_test[representation], df_test[target]\n",
    "    \n",
    "    return X_train, y_train, X_test, y_test"
   ]
  },
  {
   "cell_type": "code",
   "execution_count": 15,
   "metadata": {},
   "outputs": [],
   "source": [
    "def train_and_evaluate_classifier(X_train, y_train, X_test, y_test, random_state=42):\n",
    "    clf = RandomForestClassifier(\n",
    "        n_estimators=100, \n",
    "        random_state=random_state,\n",
    "        verbose=True\n",
    "    )\n",
    "    \n",
    "    clf.fit(X_train, y_train)\n",
    "    \n",
    "    y_pred = clf.predict(X_test)\n",
    "    y_test = np.array(y_test)\n",
    "    \n",
    "    acc = accuracy_score(y_test, y_pred)\n",
    "    f1_macro = f1_score(y_test, y_pred, average=\"macro\")\n",
    "    f1_micro = f1_score(y_test, y_pred, average=\"micro\")\n",
    "    f1_weighted = f1_score(y_test, y_pred, average='weighted')\n",
    "    kappa = cohen_kappa_score(y_test, y_pred)\n",
    "    \n",
    "    return y_test, y_pred, acc, f1_macro, f1_micro, f1_weighted, kappa"
   ]
  },
  {
   "cell_type": "code",
   "execution_count": 16,
   "metadata": {},
   "outputs": [],
   "source": [
    "def metrics_dict():\n",
    "    metrics_dict = {\n",
    "        \"train_size\": train_size,\n",
    "        \"y_true\": y_test_all,\n",
    "        \"y_pred\": y_pred_all,\n",
    "        \"accuracy\": acc_scores,\n",
    "        \"f1_macro\": f1macro_scores,\n",
    "        \"f1_micro\": f1micro_scores,\n",
    "        \"f1_weighted\": f1weighted_scores,\n",
    "        \"kappa\": kappa_scores\n",
    "    }\n",
    "    return metrics_dict"
   ]
  },
  {
   "cell_type": "markdown",
   "metadata": {},
   "source": [
    "### training size = 5"
   ]
  },
  {
   "cell_type": "code",
   "execution_count": 17,
   "metadata": {},
   "outputs": [],
   "source": [
    "train_size = 5\n",
    "iterations = 10\n",
    "target = \"diff_5_15day_2bins\"\n",
    "y_test_all = []\n",
    "y_pred_all = []\n",
    "acc_scores = []\n",
    "f1macro_scores = []\n",
    "f1micro_scores = []\n",
    "f1weighted_scores = []\n",
    "kappa_scores = []"
   ]
  },
  {
   "cell_type": "code",
   "execution_count": 18,
   "metadata": {
    "scrolled": true
   },
   "outputs": [
    {
     "name": "stdout",
     "output_type": "stream",
     "text": [
      "-------------Iteration 1/10\n",
      "5 14\n",
      "random_state = 42\n",
      "Accuracy: 0.42857142857142855\n",
      "F1 macro: 0.37777777777777777\n",
      "F1 micro: 0.42857142857142855\n",
      "F1 weighted: 0.42857142857142855\n",
      "Kappa: -0.24444444444444446\n",
      "-------------Iteration 2/10\n",
      "5 14\n",
      "random_state = 43\n",
      "Accuracy: 0.5\n",
      "F1 macro: 0.4269005847953216\n",
      "F1 micro: 0.5\n",
      "F1 weighted: 0.4853801169590643\n",
      "Kappa: -0.13953488372093026\n",
      "-------------Iteration 3/10\n",
      "5 14\n",
      "random_state = 44\n"
     ]
    },
    {
     "name": "stderr",
     "output_type": "stream",
     "text": [
      "[Parallel(n_jobs=1)]: Done  49 tasks      | elapsed:    0.0s\n",
      "[Parallel(n_jobs=1)]: Done  49 tasks      | elapsed:    0.0s\n",
      "[Parallel(n_jobs=1)]: Done  49 tasks      | elapsed:    0.0s\n",
      "[Parallel(n_jobs=1)]: Done  49 tasks      | elapsed:    0.0s\n",
      "[Parallel(n_jobs=1)]: Done  49 tasks      | elapsed:    0.0s\n",
      "[Parallel(n_jobs=1)]: Done  49 tasks      | elapsed:    0.0s\n",
      "[Parallel(n_jobs=1)]: Done  49 tasks      | elapsed:    0.0s\n",
      "[Parallel(n_jobs=1)]: Done  49 tasks      | elapsed:    0.0s\n",
      "[Parallel(n_jobs=1)]: Done  49 tasks      | elapsed:    0.0s\n",
      "[Parallel(n_jobs=1)]: Done  49 tasks      | elapsed:    0.0s\n"
     ]
    },
    {
     "name": "stdout",
     "output_type": "stream",
     "text": [
      "Accuracy: 0.5714285714285714\n",
      "F1 macro: 0.5625\n",
      "F1 micro: 0.5714285714285714\n",
      "F1 weighted: 0.5803571428571429\n",
      "Kappa: 0.1428571428571429\n",
      "-------------Iteration 4/10\n",
      "5 14\n",
      "random_state = 45\n",
      "Accuracy: 0.5714285714285714\n",
      "F1 macro: 0.5333333333333333\n",
      "F1 micro: 0.5714285714285714\n",
      "F1 weighted: 0.5714285714285714\n",
      "Kappa: 0.06666666666666665\n",
      "-------------Iteration 5/10\n",
      "5 14\n",
      "random_state = 46\n",
      "Accuracy: 0.5\n",
      "F1 macro: 0.47593582887700536\n",
      "F1 micro: 0.5\n",
      "F1 weighted: 0.5080213903743316\n",
      "Kappa: -0.042553191489361764\n",
      "-------------Iteration 6/10\n",
      "5 14\n",
      "random_state = 47\n"
     ]
    },
    {
     "name": "stderr",
     "output_type": "stream",
     "text": [
      "[Parallel(n_jobs=1)]: Done  49 tasks      | elapsed:    0.0s\n",
      "[Parallel(n_jobs=1)]: Done  49 tasks      | elapsed:    0.0s\n",
      "[Parallel(n_jobs=1)]: Done  49 tasks      | elapsed:    0.0s\n",
      "[Parallel(n_jobs=1)]: Done  49 tasks      | elapsed:    0.0s\n",
      "[Parallel(n_jobs=1)]: Done  49 tasks      | elapsed:    0.0s\n"
     ]
    },
    {
     "name": "stdout",
     "output_type": "stream",
     "text": [
      "Accuracy: 0.7857142857142857\n",
      "F1 macro: 0.7142857142857142\n",
      "F1 micro: 0.7857142857142857\n",
      "F1 weighted: 0.7551020408163264\n",
      "Kappa: 0.46153846153846156\n",
      "-------------Iteration 7/10\n",
      "5 14\n",
      "random_state = 48\n",
      "Accuracy: 0.7857142857142857\n",
      "F1 macro: 0.7142857142857142\n",
      "F1 micro: 0.7857142857142857\n",
      "F1 weighted: 0.7551020408163264\n",
      "Kappa: 0.46153846153846156\n",
      "-------------Iteration 8/10\n",
      "5 14\n",
      "random_state = 49\n",
      "Accuracy: 0.5714285714285714\n",
      "F1 macro: 0.5625\n",
      "F1 micro: 0.5714285714285714\n",
      "F1 weighted: 0.5803571428571429\n",
      "Kappa: 0.1428571428571429\n",
      "-------------Iteration 9/10\n",
      "5 14\n",
      "random_state = 50\n"
     ]
    },
    {
     "name": "stderr",
     "output_type": "stream",
     "text": [
      "[Parallel(n_jobs=1)]: Done  49 tasks      | elapsed:    0.0s\n",
      "[Parallel(n_jobs=1)]: Done  49 tasks      | elapsed:    0.0s\n",
      "[Parallel(n_jobs=1)]: Done  49 tasks      | elapsed:    0.0s\n",
      "[Parallel(n_jobs=1)]: Done  49 tasks      | elapsed:    0.0s\n"
     ]
    },
    {
     "name": "stdout",
     "output_type": "stream",
     "text": [
      "Accuracy: 0.6428571428571429\n",
      "F1 macro: 0.625668449197861\n",
      "F1 micro: 0.6428571428571429\n",
      "F1 weighted: 0.6485867074102368\n",
      "Kappa: 0.25531914893617025\n",
      "-------------Iteration 10/10\n",
      "5 14\n",
      "random_state = 51\n",
      "Accuracy: 0.5\n",
      "F1 macro: 0.47593582887700536\n",
      "F1 micro: 0.5\n",
      "F1 weighted: 0.5080213903743316\n",
      "Kappa: -0.042553191489361764\n"
     ]
    },
    {
     "name": "stderr",
     "output_type": "stream",
     "text": [
      "[Parallel(n_jobs=1)]: Done  49 tasks      | elapsed:    0.0s\n"
     ]
    }
   ],
   "source": [
    "for n in range(iterations):\n",
    "    print(f\"-------------Iteration {n + 1}/{iterations}\")\n",
    "    random_state=42+n\n",
    "\n",
    "    X_train, y_train, X_test, y_test = prepare_dataset_classification(\n",
    "        df,\n",
    "        target,\n",
    "        random_state=random_state,\n",
    "        train_size=train_size\n",
    "    )\n",
    "    print(f\"random_state = {random_state}\")\n",
    "\n",
    "    y_test, y_pred, acc, f1_macro, f1_micro, f1_weighted, kappa = train_and_evaluate_classifier(\n",
    "        X_train, \n",
    "        y_train, \n",
    "        X_test, \n",
    "        y_test, \n",
    "        random_state=random_state\n",
    "    )\n",
    "    \n",
    "    y_test_all.append(y_test)\n",
    "    y_pred_all.append(y_pred)\n",
    "    acc_scores.append(acc)\n",
    "    f1macro_scores.append(f1_macro)\n",
    "    f1micro_scores.append(f1_micro)\n",
    "    f1weighted_scores.append(f1_weighted)\n",
    "    kappa_scores.append(kappa)\n",
    "    print(f\"Accuracy: {acc}\")\n",
    "    print(f\"F1 macro: {f1_macro}\")\n",
    "    print(f\"F1 micro: {f1_micro}\")\n",
    "    print(f\"F1 weighted: {f1_weighted}\")\n",
    "    print(f\"Kappa: {kappa}\")"
   ]
  },
  {
   "cell_type": "code",
   "execution_count": 19,
   "metadata": {},
   "outputs": [
    {
     "name": "stdout",
     "output_type": "stream",
     "text": [
      "FINAL REPORT for training size = 5\n",
      "mean accuracy: 0.5857142857142856 +/- 0.11428571428571428\n",
      "mean F1 macro: 0.5469123231429733 +/- 0.10769642940875722\n",
      "mean F1 micro: 0.5857142857142856 +/- 0.11428571428571428\n",
      "mean F1 weighted: 0.5820927972464902 +/- 0.10406771224302766\n",
      "mean Kappa: 0.10616913132499475 +/- 0.22507996705409264\n"
     ]
    }
   ],
   "source": [
    "print(f\"FINAL REPORT for training size = {train_size}\")\n",
    "\n",
    "print(f\"mean accuracy: {np.mean(acc_scores)} +/- {np.std(acc_scores)}\")\n",
    "print(f\"mean F1 macro: {np.mean(f1macro_scores)} +/- {np.std(f1macro_scores)}\")\n",
    "print(f\"mean F1 micro: {np.mean(f1micro_scores)} +/- {np.std(f1micro_scores)}\")\n",
    "print(f\"mean F1 weighted: {np.mean(f1weighted_scores)} +/- {np.std(f1weighted_scores)}\")\n",
    "print(f\"mean Kappa: {np.mean(kappa_scores)} +/- {np.std(kappa_scores)}\")"
   ]
  },
  {
   "cell_type": "code",
   "execution_count": 20,
   "metadata": {},
   "outputs": [
    {
     "data": {
      "text/html": [
       "<div>\n",
       "<style scoped>\n",
       "    .dataframe tbody tr th:only-of-type {\n",
       "        vertical-align: middle;\n",
       "    }\n",
       "\n",
       "    .dataframe tbody tr th {\n",
       "        vertical-align: top;\n",
       "    }\n",
       "\n",
       "    .dataframe thead th {\n",
       "        text-align: right;\n",
       "    }\n",
       "</style>\n",
       "<table border=\"1\" class=\"dataframe\">\n",
       "  <thead>\n",
       "    <tr style=\"text-align: right;\">\n",
       "      <th></th>\n",
       "      <th>train_size</th>\n",
       "      <th>y_true</th>\n",
       "      <th>y_pred</th>\n",
       "      <th>accuracy</th>\n",
       "      <th>f1_macro</th>\n",
       "      <th>f1_micro</th>\n",
       "      <th>f1_weighted</th>\n",
       "      <th>kappa</th>\n",
       "    </tr>\n",
       "  </thead>\n",
       "  <tbody>\n",
       "    <tr>\n",
       "      <th>0</th>\n",
       "      <td>5</td>\n",
       "      <td>[1, 1, 1, 0, 1, 1, 0, 1, 1, 1, 0, 0, 1, 0]</td>\n",
       "      <td>[0, 1, 1, 0, 0, 1, 1, 1, 0, 1, 1, 1, 0, 1]</td>\n",
       "      <td>0.428571</td>\n",
       "      <td>0.377778</td>\n",
       "      <td>0.428571</td>\n",
       "      <td>0.428571</td>\n",
       "      <td>-0.244444</td>\n",
       "    </tr>\n",
       "    <tr>\n",
       "      <th>1</th>\n",
       "      <td>5</td>\n",
       "      <td>[1, 0, 0, 1, 1, 0, 1, 1, 1, 1, 0, 1, 0, 1]</td>\n",
       "      <td>[1, 1, 1, 0, 1, 1, 1, 1, 0, 1, 0, 0, 1, 1]</td>\n",
       "      <td>0.500000</td>\n",
       "      <td>0.426901</td>\n",
       "      <td>0.500000</td>\n",
       "      <td>0.485380</td>\n",
       "      <td>-0.139535</td>\n",
       "    </tr>\n",
       "    <tr>\n",
       "      <th>2</th>\n",
       "      <td>5</td>\n",
       "      <td>[1, 1, 1, 1, 1, 0, 1, 0, 0, 0, 1, 0, 1, 1]</td>\n",
       "      <td>[1, 0, 1, 1, 1, 0, 0, 1, 1, 0, 1, 0, 0, 0]</td>\n",
       "      <td>0.571429</td>\n",
       "      <td>0.562500</td>\n",
       "      <td>0.571429</td>\n",
       "      <td>0.580357</td>\n",
       "      <td>0.142857</td>\n",
       "    </tr>\n",
       "  </tbody>\n",
       "</table>\n",
       "</div>"
      ],
      "text/plain": [
       "   train_size                                      y_true  \\\n",
       "0           5  [1, 1, 1, 0, 1, 1, 0, 1, 1, 1, 0, 0, 1, 0]   \n",
       "1           5  [1, 0, 0, 1, 1, 0, 1, 1, 1, 1, 0, 1, 0, 1]   \n",
       "2           5  [1, 1, 1, 1, 1, 0, 1, 0, 0, 0, 1, 0, 1, 1]   \n",
       "\n",
       "                                       y_pred  accuracy  f1_macro  f1_micro  \\\n",
       "0  [0, 1, 1, 0, 0, 1, 1, 1, 0, 1, 1, 1, 0, 1]  0.428571  0.377778  0.428571   \n",
       "1  [1, 1, 1, 0, 1, 1, 1, 1, 0, 1, 0, 0, 1, 1]  0.500000  0.426901  0.500000   \n",
       "2  [1, 0, 1, 1, 1, 0, 0, 1, 1, 0, 1, 0, 0, 0]  0.571429  0.562500  0.571429   \n",
       "\n",
       "   f1_weighted     kappa  \n",
       "0     0.428571 -0.244444  \n",
       "1     0.485380 -0.139535  \n",
       "2     0.580357  0.142857  "
      ]
     },
     "execution_count": 20,
     "metadata": {},
     "output_type": "execute_result"
    }
   ],
   "source": [
    "compiled_res_5 = pd.DataFrame(metrics_dict())\n",
    "compiled_res_5.head(3)"
   ]
  },
  {
   "cell_type": "markdown",
   "metadata": {},
   "source": [
    "### training size = 8"
   ]
  },
  {
   "cell_type": "code",
   "execution_count": 21,
   "metadata": {},
   "outputs": [],
   "source": [
    "train_size = 8\n",
    "iterations = 10\n",
    "target = \"diff_5_15day_2bins\"\n",
    "y_test_all = []\n",
    "y_pred_all = []\n",
    "acc_scores = []\n",
    "f1macro_scores = []\n",
    "f1micro_scores = []\n",
    "f1weighted_scores = []\n",
    "kappa_scores = []"
   ]
  },
  {
   "cell_type": "code",
   "execution_count": 22,
   "metadata": {
    "scrolled": true
   },
   "outputs": [
    {
     "name": "stdout",
     "output_type": "stream",
     "text": [
      "-------------Iteration 1/10\n",
      "8 11\n",
      "random_state = 42\n",
      "Accuracy: 0.8181818181818182\n",
      "F1 macro: 0.7708333333333333\n",
      "F1 micro: 0.8181818181818182\n",
      "F1 weighted: 0.7992424242424242\n",
      "Kappa: 0.56\n",
      "-------------Iteration 2/10\n",
      "8 11\n",
      "random_state = 43\n"
     ]
    },
    {
     "name": "stderr",
     "output_type": "stream",
     "text": [
      "[Parallel(n_jobs=1)]: Done  49 tasks      | elapsed:    0.0s\n",
      "[Parallel(n_jobs=1)]: Done  49 tasks      | elapsed:    0.0s\n",
      "[Parallel(n_jobs=1)]: Done  49 tasks      | elapsed:    0.0s\n",
      "[Parallel(n_jobs=1)]: Done  49 tasks      | elapsed:    0.0s\n"
     ]
    },
    {
     "name": "stdout",
     "output_type": "stream",
     "text": [
      "Accuracy: 0.6363636363636364\n",
      "F1 macro: 0.5416666666666666\n",
      "F1 micro: 0.6363636363636364\n",
      "F1 weighted: 0.5984848484848485\n",
      "Kappa: 0.1200000000000001\n",
      "-------------Iteration 3/10\n",
      "8 11\n",
      "random_state = 44\n",
      "Accuracy: 0.5454545454545454\n",
      "F1 macro: 0.47619047619047616\n",
      "F1 micro: 0.5454545454545454\n",
      "F1 weighted: 0.528138528138528\n",
      "Kappa: -0.037735849056603765\n",
      "-------------Iteration 4/10\n",
      "8 11\n",
      "random_state = 45\n",
      "Accuracy: 0.7272727272727273\n",
      "F1 macro: 0.6857142857142857\n",
      "F1 micro: 0.7272727272727273\n",
      "F1 weighted: 0.7168831168831169\n",
      "Kappa: 0.37735849056603776\n",
      "-------------Iteration 5/10\n",
      "8 11\n",
      "random_state = 46\n"
     ]
    },
    {
     "name": "stderr",
     "output_type": "stream",
     "text": [
      "[Parallel(n_jobs=1)]: Done  49 tasks      | elapsed:    0.0s\n",
      "[Parallel(n_jobs=1)]: Done  49 tasks      | elapsed:    0.0s\n",
      "[Parallel(n_jobs=1)]: Done  49 tasks      | elapsed:    0.0s\n",
      "[Parallel(n_jobs=1)]: Done  49 tasks      | elapsed:    0.0s\n",
      "[Parallel(n_jobs=1)]: Done  49 tasks      | elapsed:    0.0s\n",
      "[Parallel(n_jobs=1)]: Done  49 tasks      | elapsed:    0.0s\n",
      "[Parallel(n_jobs=1)]: Done  49 tasks      | elapsed:    0.0s\n",
      "[Parallel(n_jobs=1)]: Done  49 tasks      | elapsed:    0.0s\n",
      "[Parallel(n_jobs=1)]: Done  49 tasks      | elapsed:    0.0s\n"
     ]
    },
    {
     "name": "stdout",
     "output_type": "stream",
     "text": [
      "Accuracy: 0.7272727272727273\n",
      "F1 macro: 0.6857142857142857\n",
      "F1 micro: 0.7272727272727273\n",
      "F1 weighted: 0.7168831168831169\n",
      "Kappa: 0.37735849056603776\n",
      "-------------Iteration 6/10\n",
      "8 11\n",
      "random_state = 47\n",
      "Accuracy: 0.7272727272727273\n",
      "F1 macro: 0.611764705882353\n",
      "F1 micro: 0.7272727272727273\n",
      "F1 weighted: 0.6695187165775401\n",
      "Kappa: 0.2978723404255319\n",
      "-------------Iteration 7/10\n",
      "8 11\n",
      "random_state = 48\n"
     ]
    },
    {
     "name": "stderr",
     "output_type": "stream",
     "text": [
      "[Parallel(n_jobs=1)]: Done  49 tasks      | elapsed:    0.0s\n",
      "[Parallel(n_jobs=1)]: Done  49 tasks      | elapsed:    0.0s\n",
      "[Parallel(n_jobs=1)]: Done  49 tasks      | elapsed:    0.0s\n",
      "[Parallel(n_jobs=1)]: Done  49 tasks      | elapsed:    0.0s\n",
      "[Parallel(n_jobs=1)]: Done  49 tasks      | elapsed:    0.0s\n"
     ]
    },
    {
     "name": "stdout",
     "output_type": "stream",
     "text": [
      "Accuracy: 0.7272727272727273\n",
      "F1 macro: 0.6857142857142857\n",
      "F1 micro: 0.7272727272727273\n",
      "F1 weighted: 0.7168831168831169\n",
      "Kappa: 0.37735849056603776\n",
      "-------------Iteration 8/10\n",
      "8 11\n",
      "random_state = 49\n",
      "Accuracy: 0.45454545454545453\n",
      "F1 macro: 0.45\n",
      "F1 micro: 0.45454545454545453\n",
      "F1 weighted: 0.43636363636363645\n",
      "Kappa: 0.02941176470588236\n",
      "-------------Iteration 9/10\n",
      "8 11\n",
      "random_state = 50\n",
      "Accuracy: 0.7272727272727273\n",
      "F1 macro: 0.6857142857142857\n",
      "F1 micro: 0.7272727272727273\n",
      "F1 weighted: 0.7168831168831169\n",
      "Kappa: 0.37735849056603776\n",
      "-------------Iteration 10/10\n",
      "8 11\n",
      "random_state = 51\n",
      "Accuracy: 0.6363636363636364\n",
      "F1 macro: 0.6071428571428572\n",
      "F1 micro: 0.6363636363636364\n",
      "F1 weighted: 0.6363636363636364\n",
      "Kappa: 0.2142857142857143\n"
     ]
    },
    {
     "name": "stderr",
     "output_type": "stream",
     "text": [
      "[Parallel(n_jobs=1)]: Done  49 tasks      | elapsed:    0.0s\n",
      "[Parallel(n_jobs=1)]: Done  49 tasks      | elapsed:    0.0s\n"
     ]
    }
   ],
   "source": [
    "for n in range(iterations):\n",
    "    print(f\"-------------Iteration {n + 1}/{iterations}\")\n",
    "    random_state=42+n\n",
    "\n",
    "    X_train, y_train, X_test, y_test = prepare_dataset_classification(\n",
    "        df,\n",
    "        target,\n",
    "        random_state=random_state,\n",
    "        train_size=train_size\n",
    "    )\n",
    "    print(f\"random_state = {random_state}\")\n",
    "\n",
    "    y_test, y_pred, acc, f1_macro, f1_micro, f1_weighted, kappa = train_and_evaluate_classifier(\n",
    "        X_train, \n",
    "        y_train, \n",
    "        X_test, \n",
    "        y_test, \n",
    "        random_state=random_state\n",
    "    )\n",
    "    \n",
    "    y_test_all.append(y_test)\n",
    "    y_pred_all.append(y_pred)\n",
    "    acc_scores.append(acc)\n",
    "    f1macro_scores.append(f1_macro)\n",
    "    f1micro_scores.append(f1_micro)\n",
    "    f1weighted_scores.append(f1_weighted)\n",
    "    kappa_scores.append(kappa)\n",
    "    print(f\"Accuracy: {acc}\")\n",
    "    print(f\"F1 macro: {f1_macro}\")\n",
    "    print(f\"F1 micro: {f1_micro}\")\n",
    "    print(f\"F1 weighted: {f1_weighted}\")\n",
    "    print(f\"Kappa: {kappa}\")"
   ]
  },
  {
   "cell_type": "code",
   "execution_count": 24,
   "metadata": {},
   "outputs": [
    {
     "name": "stdout",
     "output_type": "stream",
     "text": [
      "FINAL REPORT for training size = 8\n",
      "mean accuracy: 0.6727272727272728 +/- 0.10123207932418224\n",
      "mean F1 macro: 0.6200455182072829 +/- 0.09796660632797986\n",
      "mean F1 micro: 0.6727272727272728 +/- 0.10123207932418224\n",
      "mean F1 weighted: 0.6535644257703082 +/- 0.10185828926343572\n",
      "mean Kappa: 0.26932679326246756 +/- 0.1758305578286476\n"
     ]
    }
   ],
   "source": [
    "print(f\"FINAL REPORT for training size = {train_size}\")\n",
    "\n",
    "print(f\"mean accuracy: {np.mean(acc_scores)} +/- {np.std(acc_scores)}\")\n",
    "print(f\"mean F1 macro: {np.mean(f1macro_scores)} +/- {np.std(f1macro_scores)}\")\n",
    "print(f\"mean F1 micro: {np.mean(f1micro_scores)} +/- {np.std(f1micro_scores)}\")\n",
    "print(f\"mean F1 weighted: {np.mean(f1weighted_scores)} +/- {np.std(f1weighted_scores)}\")\n",
    "print(f\"mean Kappa: {np.mean(kappa_scores)} +/- {np.std(kappa_scores)}\")"
   ]
  },
  {
   "cell_type": "code",
   "execution_count": 25,
   "metadata": {},
   "outputs": [
    {
     "data": {
      "text/html": [
       "<div>\n",
       "<style scoped>\n",
       "    .dataframe tbody tr th:only-of-type {\n",
       "        vertical-align: middle;\n",
       "    }\n",
       "\n",
       "    .dataframe tbody tr th {\n",
       "        vertical-align: top;\n",
       "    }\n",
       "\n",
       "    .dataframe thead th {\n",
       "        text-align: right;\n",
       "    }\n",
       "</style>\n",
       "<table border=\"1\" class=\"dataframe\">\n",
       "  <thead>\n",
       "    <tr style=\"text-align: right;\">\n",
       "      <th></th>\n",
       "      <th>train_size</th>\n",
       "      <th>y_true</th>\n",
       "      <th>y_pred</th>\n",
       "      <th>accuracy</th>\n",
       "      <th>f1_macro</th>\n",
       "      <th>f1_micro</th>\n",
       "      <th>f1_weighted</th>\n",
       "      <th>kappa</th>\n",
       "    </tr>\n",
       "  </thead>\n",
       "  <tbody>\n",
       "    <tr>\n",
       "      <th>0</th>\n",
       "      <td>8</td>\n",
       "      <td>[1, 1, 1, 0, 0, 1, 0, 0, 1, 1, 1]</td>\n",
       "      <td>[1, 1, 1, 0, 0, 1, 1, 1, 1, 1, 1]</td>\n",
       "      <td>0.818182</td>\n",
       "      <td>0.770833</td>\n",
       "      <td>0.818182</td>\n",
       "      <td>0.799242</td>\n",
       "      <td>0.560000</td>\n",
       "    </tr>\n",
       "    <tr>\n",
       "      <th>1</th>\n",
       "      <td>8</td>\n",
       "      <td>[0, 0, 1, 0, 1, 1, 1, 1, 1, 0, 1]</td>\n",
       "      <td>[1, 1, 1, 1, 1, 1, 1, 1, 0, 0, 1]</td>\n",
       "      <td>0.636364</td>\n",
       "      <td>0.541667</td>\n",
       "      <td>0.636364</td>\n",
       "      <td>0.598485</td>\n",
       "      <td>0.120000</td>\n",
       "    </tr>\n",
       "    <tr>\n",
       "      <th>2</th>\n",
       "      <td>8</td>\n",
       "      <td>[1, 1, 1, 0, 1, 0, 0, 0, 1, 1, 1]</td>\n",
       "      <td>[1, 1, 1, 1, 1, 1, 0, 1, 0, 0, 1]</td>\n",
       "      <td>0.545455</td>\n",
       "      <td>0.476190</td>\n",
       "      <td>0.545455</td>\n",
       "      <td>0.528139</td>\n",
       "      <td>-0.037736</td>\n",
       "    </tr>\n",
       "  </tbody>\n",
       "</table>\n",
       "</div>"
      ],
      "text/plain": [
       "   train_size                             y_true  \\\n",
       "0           8  [1, 1, 1, 0, 0, 1, 0, 0, 1, 1, 1]   \n",
       "1           8  [0, 0, 1, 0, 1, 1, 1, 1, 1, 0, 1]   \n",
       "2           8  [1, 1, 1, 0, 1, 0, 0, 0, 1, 1, 1]   \n",
       "\n",
       "                              y_pred  accuracy  f1_macro  f1_micro  \\\n",
       "0  [1, 1, 1, 0, 0, 1, 1, 1, 1, 1, 1]  0.818182  0.770833  0.818182   \n",
       "1  [1, 1, 1, 1, 1, 1, 1, 1, 0, 0, 1]  0.636364  0.541667  0.636364   \n",
       "2  [1, 1, 1, 1, 1, 1, 0, 1, 0, 0, 1]  0.545455  0.476190  0.545455   \n",
       "\n",
       "   f1_weighted     kappa  \n",
       "0     0.799242  0.560000  \n",
       "1     0.598485  0.120000  \n",
       "2     0.528139 -0.037736  "
      ]
     },
     "execution_count": 25,
     "metadata": {},
     "output_type": "execute_result"
    }
   ],
   "source": [
    "compiled_res_8 = pd.DataFrame(metrics_dict())\n",
    "compiled_res_8.head(3)"
   ]
  },
  {
   "cell_type": "markdown",
   "metadata": {},
   "source": [
    "### training size = 10"
   ]
  },
  {
   "cell_type": "code",
   "execution_count": 26,
   "metadata": {},
   "outputs": [],
   "source": [
    "train_size = 10\n",
    "iterations = 10\n",
    "target = \"diff_5_15day_2bins\"\n",
    "y_test_all = []\n",
    "y_pred_all = []\n",
    "acc_scores = []\n",
    "f1macro_scores = []\n",
    "f1micro_scores = []\n",
    "f1weighted_scores = []\n",
    "kappa_scores = []"
   ]
  },
  {
   "cell_type": "code",
   "execution_count": 27,
   "metadata": {
    "scrolled": true
   },
   "outputs": [
    {
     "name": "stdout",
     "output_type": "stream",
     "text": [
      "-------------Iteration 1/10\n",
      "10 9\n",
      "random_state = 42\n",
      "Accuracy: 0.8888888888888888\n",
      "F1 macro: 0.8615384615384616\n",
      "F1 micro: 0.8888888888888888\n",
      "F1 weighted: 0.882051282051282\n",
      "Kappa: 0.7272727272727273\n",
      "-------------Iteration 2/10\n",
      "10 9\n",
      "random_state = 43\n",
      "Accuracy: 0.5555555555555556\n",
      "F1 macro: 0.35714285714285715\n",
      "F1 micro: 0.5555555555555556\n",
      "F1 weighted: 0.47619047619047616\n",
      "Kappa: -0.20000000000000018\n",
      "-------------Iteration 3/10\n",
      "10 9\n",
      "random_state = 44\n"
     ]
    },
    {
     "name": "stderr",
     "output_type": "stream",
     "text": [
      "[Parallel(n_jobs=1)]: Done  49 tasks      | elapsed:    0.0s\n",
      "[Parallel(n_jobs=1)]: Done  49 tasks      | elapsed:    0.0s\n",
      "[Parallel(n_jobs=1)]: Done  49 tasks      | elapsed:    0.0s\n",
      "[Parallel(n_jobs=1)]: Done  49 tasks      | elapsed:    0.0s\n",
      "[Parallel(n_jobs=1)]: Done  49 tasks      | elapsed:    0.0s\n",
      "[Parallel(n_jobs=1)]: Done  49 tasks      | elapsed:    0.0s\n",
      "[Parallel(n_jobs=1)]: Done  49 tasks      | elapsed:    0.0s\n",
      "[Parallel(n_jobs=1)]: Done  49 tasks      | elapsed:    0.0s\n",
      "[Parallel(n_jobs=1)]: Done  49 tasks      | elapsed:    0.0s\n"
     ]
    },
    {
     "name": "stdout",
     "output_type": "stream",
     "text": [
      "Accuracy: 0.6666666666666666\n",
      "F1 macro: 0.5846153846153846\n",
      "F1 micro: 0.6666666666666666\n",
      "F1 weighted: 0.6461538461538462\n",
      "Kappa: 0.18181818181818188\n",
      "-------------Iteration 4/10\n",
      "10 9\n",
      "random_state = 45\n",
      "Accuracy: 0.7777777777777778\n",
      "F1 macro: 0.75\n",
      "F1 micro: 0.7777777777777778\n",
      "F1 weighted: 0.7777777777777778\n",
      "Kappa: 0.5\n",
      "-------------Iteration 5/10\n",
      "10 9\n",
      "random_state = 46\n",
      "Accuracy: 0.6666666666666666\n",
      "F1 macro: 0.5846153846153846\n",
      "F1 micro: 0.6666666666666666\n",
      "F1 weighted: 0.6461538461538462\n",
      "Kappa: 0.18181818181818188\n",
      "-------------Iteration 6/10\n",
      "10 9\n",
      "random_state = 47\n"
     ]
    },
    {
     "name": "stderr",
     "output_type": "stream",
     "text": [
      "[Parallel(n_jobs=1)]: Done  49 tasks      | elapsed:    0.0s\n",
      "[Parallel(n_jobs=1)]: Done  49 tasks      | elapsed:    0.0s\n",
      "[Parallel(n_jobs=1)]: Done  49 tasks      | elapsed:    0.0s\n",
      "[Parallel(n_jobs=1)]: Done  49 tasks      | elapsed:    0.0s\n",
      "[Parallel(n_jobs=1)]: Done  49 tasks      | elapsed:    0.0s\n"
     ]
    },
    {
     "name": "stdout",
     "output_type": "stream",
     "text": [
      "Accuracy: 0.5555555555555556\n",
      "F1 macro: 0.5\n",
      "F1 micro: 0.5555555555555556\n",
      "F1 weighted: 0.5555555555555556\n",
      "Kappa: 0.0\n",
      "-------------Iteration 7/10\n",
      "10 9\n",
      "random_state = 48\n",
      "Accuracy: 0.6666666666666666\n",
      "F1 macro: 0.5846153846153846\n",
      "F1 micro: 0.6666666666666666\n",
      "F1 weighted: 0.6461538461538462\n",
      "Kappa: 0.18181818181818188\n",
      "-------------Iteration 8/10\n",
      "10 9\n",
      "random_state = 49\n",
      "Accuracy: 0.6666666666666666\n",
      "F1 macro: 0.5846153846153846\n",
      "F1 micro: 0.6666666666666666\n",
      "F1 weighted: 0.6461538461538462\n",
      "Kappa: 0.18181818181818188\n",
      "-------------Iteration 9/10\n"
     ]
    },
    {
     "name": "stderr",
     "output_type": "stream",
     "text": [
      "[Parallel(n_jobs=1)]: Done  49 tasks      | elapsed:    0.0s\n",
      "[Parallel(n_jobs=1)]: Done  49 tasks      | elapsed:    0.0s\n",
      "[Parallel(n_jobs=1)]: Done  49 tasks      | elapsed:    0.0s\n",
      "[Parallel(n_jobs=1)]: Done  49 tasks      | elapsed:    0.0s\n",
      "[Parallel(n_jobs=1)]: Done  49 tasks      | elapsed:    0.0s\n",
      "[Parallel(n_jobs=1)]: Done  49 tasks      | elapsed:    0.0s\n"
     ]
    },
    {
     "name": "stdout",
     "output_type": "stream",
     "text": [
      "10 9\n",
      "random_state = 50\n",
      "Accuracy: 0.6666666666666666\n",
      "F1 macro: 0.5846153846153846\n",
      "F1 micro: 0.6666666666666666\n",
      "F1 weighted: 0.6461538461538462\n",
      "Kappa: 0.18181818181818188\n",
      "-------------Iteration 10/10\n",
      "10 9\n",
      "random_state = 51\n",
      "Accuracy: 0.6666666666666666\n",
      "F1 macro: 0.6493506493506493\n",
      "F1 micro: 0.6666666666666666\n",
      "F1 weighted: 0.6753246753246753\n",
      "Kappa: 0.3076923076923076\n"
     ]
    }
   ],
   "source": [
    "for n in range(iterations):\n",
    "    print(f\"-------------Iteration {n + 1}/{iterations}\")\n",
    "    random_state=42+n\n",
    "\n",
    "    X_train, y_train, X_test, y_test = prepare_dataset_classification(\n",
    "        df,\n",
    "        target,\n",
    "        random_state=random_state,\n",
    "        train_size=train_size\n",
    "    )\n",
    "    print(f\"random_state = {random_state}\")\n",
    "\n",
    "    y_test, y_pred, acc, f1_macro, f1_micro, f1_weighted, kappa = train_and_evaluate_classifier(\n",
    "        X_train, \n",
    "        y_train, \n",
    "        X_test, \n",
    "        y_test, \n",
    "        random_state=random_state\n",
    "    )\n",
    "    \n",
    "    y_test_all.append(y_test)\n",
    "    y_pred_all.append(y_pred)\n",
    "    acc_scores.append(acc)\n",
    "    f1macro_scores.append(f1_macro)\n",
    "    f1micro_scores.append(f1_micro)\n",
    "    f1weighted_scores.append(f1_weighted)\n",
    "    kappa_scores.append(kappa)\n",
    "    print(f\"Accuracy: {acc}\")\n",
    "    print(f\"F1 macro: {f1_macro}\")\n",
    "    print(f\"F1 micro: {f1_micro}\")\n",
    "    print(f\"F1 weighted: {f1_weighted}\")\n",
    "    print(f\"Kappa: {kappa}\")"
   ]
  },
  {
   "cell_type": "code",
   "execution_count": 29,
   "metadata": {},
   "outputs": [
    {
     "name": "stdout",
     "output_type": "stream",
     "text": [
      "FINAL REPORT for training size = 10\n",
      "mean accuracy: 0.6777777777777778 +/- 0.09229582069908972\n",
      "mean F1 macro: 0.6041108891108891 +/- 0.12780136272818582\n",
      "mean F1 micro: 0.6777777777777778 +/- 0.09229582069908972\n",
      "mean F1 weighted: 0.6597668997668997 +/- 0.10443459293527167\n",
      "mean Kappa: 0.2244055944055944 +/- 0.23985635789797077\n"
     ]
    }
   ],
   "source": [
    "print(f\"FINAL REPORT for training size = {train_size}\")\n",
    "\n",
    "print(f\"mean accuracy: {np.mean(acc_scores)} +/- {np.std(acc_scores)}\")\n",
    "print(f\"mean F1 macro: {np.mean(f1macro_scores)} +/- {np.std(f1macro_scores)}\")\n",
    "print(f\"mean F1 micro: {np.mean(f1micro_scores)} +/- {np.std(f1micro_scores)}\")\n",
    "print(f\"mean F1 weighted: {np.mean(f1weighted_scores)} +/- {np.std(f1weighted_scores)}\")\n",
    "print(f\"mean Kappa: {np.mean(kappa_scores)} +/- {np.std(kappa_scores)}\")"
   ]
  },
  {
   "cell_type": "code",
   "execution_count": 30,
   "metadata": {},
   "outputs": [
    {
     "data": {
      "text/html": [
       "<div>\n",
       "<style scoped>\n",
       "    .dataframe tbody tr th:only-of-type {\n",
       "        vertical-align: middle;\n",
       "    }\n",
       "\n",
       "    .dataframe tbody tr th {\n",
       "        vertical-align: top;\n",
       "    }\n",
       "\n",
       "    .dataframe thead th {\n",
       "        text-align: right;\n",
       "    }\n",
       "</style>\n",
       "<table border=\"1\" class=\"dataframe\">\n",
       "  <thead>\n",
       "    <tr style=\"text-align: right;\">\n",
       "      <th></th>\n",
       "      <th>train_size</th>\n",
       "      <th>y_true</th>\n",
       "      <th>y_pred</th>\n",
       "      <th>accuracy</th>\n",
       "      <th>f1_macro</th>\n",
       "      <th>f1_micro</th>\n",
       "      <th>f1_weighted</th>\n",
       "      <th>kappa</th>\n",
       "    </tr>\n",
       "  </thead>\n",
       "  <tbody>\n",
       "    <tr>\n",
       "      <th>0</th>\n",
       "      <td>10</td>\n",
       "      <td>[0, 1, 1, 0, 1, 0, 1, 1, 1]</td>\n",
       "      <td>[1, 1, 1, 0, 1, 0, 1, 1, 1]</td>\n",
       "      <td>0.888889</td>\n",
       "      <td>0.861538</td>\n",
       "      <td>0.888889</td>\n",
       "      <td>0.882051</td>\n",
       "      <td>0.727273</td>\n",
       "    </tr>\n",
       "    <tr>\n",
       "      <th>1</th>\n",
       "      <td>10</td>\n",
       "      <td>[1, 1, 0, 1, 1, 0, 0, 1, 1]</td>\n",
       "      <td>[1, 0, 1, 1, 1, 1, 1, 1, 1]</td>\n",
       "      <td>0.555556</td>\n",
       "      <td>0.357143</td>\n",
       "      <td>0.555556</td>\n",
       "      <td>0.476190</td>\n",
       "      <td>-0.200000</td>\n",
       "    </tr>\n",
       "    <tr>\n",
       "      <th>2</th>\n",
       "      <td>10</td>\n",
       "      <td>[1, 1, 1, 0, 1, 0, 0, 1, 1]</td>\n",
       "      <td>[1, 1, 1, 1, 1, 0, 1, 0, 1]</td>\n",
       "      <td>0.666667</td>\n",
       "      <td>0.584615</td>\n",
       "      <td>0.666667</td>\n",
       "      <td>0.646154</td>\n",
       "      <td>0.181818</td>\n",
       "    </tr>\n",
       "  </tbody>\n",
       "</table>\n",
       "</div>"
      ],
      "text/plain": [
       "   train_size                       y_true                       y_pred  \\\n",
       "0          10  [0, 1, 1, 0, 1, 0, 1, 1, 1]  [1, 1, 1, 0, 1, 0, 1, 1, 1]   \n",
       "1          10  [1, 1, 0, 1, 1, 0, 0, 1, 1]  [1, 0, 1, 1, 1, 1, 1, 1, 1]   \n",
       "2          10  [1, 1, 1, 0, 1, 0, 0, 1, 1]  [1, 1, 1, 1, 1, 0, 1, 0, 1]   \n",
       "\n",
       "   accuracy  f1_macro  f1_micro  f1_weighted     kappa  \n",
       "0  0.888889  0.861538  0.888889     0.882051  0.727273  \n",
       "1  0.555556  0.357143  0.555556     0.476190 -0.200000  \n",
       "2  0.666667  0.584615  0.666667     0.646154  0.181818  "
      ]
     },
     "execution_count": 30,
     "metadata": {},
     "output_type": "execute_result"
    }
   ],
   "source": [
    "compiled_res_10 = pd.DataFrame(metrics_dict())\n",
    "compiled_res_10.head(3)"
   ]
  },
  {
   "cell_type": "markdown",
   "metadata": {},
   "source": [
    "### training size = 12"
   ]
  },
  {
   "cell_type": "code",
   "execution_count": 31,
   "metadata": {},
   "outputs": [],
   "source": [
    "train_size = 12\n",
    "iterations = 10\n",
    "target = \"diff_5_15day_2bins\"\n",
    "y_test_all = []\n",
    "y_pred_all = []\n",
    "acc_scores = []\n",
    "f1macro_scores = []\n",
    "f1micro_scores = []\n",
    "f1weighted_scores = []\n",
    "kappa_scores = []"
   ]
  },
  {
   "cell_type": "code",
   "execution_count": 32,
   "metadata": {
    "scrolled": true
   },
   "outputs": [
    {
     "name": "stdout",
     "output_type": "stream",
     "text": [
      "-------------Iteration 1/10\n",
      "12 7\n",
      "random_state = 42\n",
      "Accuracy: 0.8571428571428571\n",
      "F1 macro: 0.8444444444444444\n",
      "F1 micro: 0.8571428571428571\n",
      "F1 weighted: 0.8507936507936508\n",
      "Kappa: 0.6956521739130435\n",
      "-------------Iteration 2/10\n",
      "12 7\n",
      "random_state = 43\n"
     ]
    },
    {
     "name": "stderr",
     "output_type": "stream",
     "text": [
      "[Parallel(n_jobs=1)]: Done  49 tasks      | elapsed:    0.0s\n",
      "[Parallel(n_jobs=1)]: Done  49 tasks      | elapsed:    0.0s\n",
      "[Parallel(n_jobs=1)]: Done  49 tasks      | elapsed:    0.0s\n",
      "[Parallel(n_jobs=1)]: Done  49 tasks      | elapsed:    0.0s\n"
     ]
    },
    {
     "name": "stdout",
     "output_type": "stream",
     "text": [
      "Accuracy: 0.5714285714285714\n",
      "F1 macro: 0.36363636363636365\n",
      "F1 micro: 0.5714285714285714\n",
      "F1 weighted: 0.4155844155844156\n",
      "Kappa: 0.0\n",
      "-------------Iteration 3/10\n",
      "12 7\n",
      "random_state = 44\n",
      "Accuracy: 0.7142857142857143\n",
      "F1 macro: 0.65\n",
      "F1 micro: 0.7142857142857143\n",
      "F1 weighted: 0.6714285714285715\n",
      "Kappa: 0.36363636363636376\n",
      "-------------Iteration 4/10\n",
      "12 7\n",
      "random_state = 45\n"
     ]
    },
    {
     "name": "stderr",
     "output_type": "stream",
     "text": [
      "[Parallel(n_jobs=1)]: Done  49 tasks      | elapsed:    0.0s\n",
      "[Parallel(n_jobs=1)]: Done  49 tasks      | elapsed:    0.0s\n",
      "[Parallel(n_jobs=1)]: Done  49 tasks      | elapsed:    0.0s\n",
      "[Parallel(n_jobs=1)]: Done  49 tasks      | elapsed:    0.0s\n",
      "[Parallel(n_jobs=1)]: Done  49 tasks      | elapsed:    0.0s\n"
     ]
    },
    {
     "name": "stdout",
     "output_type": "stream",
     "text": [
      "Accuracy: 0.8571428571428571\n",
      "F1 macro: 0.8444444444444444\n",
      "F1 micro: 0.8571428571428571\n",
      "F1 weighted: 0.8507936507936508\n",
      "Kappa: 0.6956521739130435\n",
      "-------------Iteration 5/10\n",
      "12 7\n",
      "random_state = 46\n",
      "Accuracy: 0.5714285714285714\n",
      "F1 macro: 0.5333333333333333\n",
      "F1 micro: 0.5714285714285714\n",
      "F1 weighted: 0.5523809523809524\n",
      "Kappa: 0.08695652173913038\n",
      "-------------Iteration 6/10\n",
      "12 7\n",
      "random_state = 47\n",
      "Accuracy: 0.5714285714285714\n",
      "F1 macro: 0.5333333333333333\n",
      "F1 micro: 0.5714285714285714\n",
      "F1 weighted: 0.5523809523809524\n",
      "Kappa: 0.08695652173913038\n",
      "-------------Iteration 7/10\n",
      "12 7\n",
      "random_state = 48\n"
     ]
    },
    {
     "name": "stderr",
     "output_type": "stream",
     "text": [
      "[Parallel(n_jobs=1)]: Done  49 tasks      | elapsed:    0.0s\n",
      "[Parallel(n_jobs=1)]: Done  49 tasks      | elapsed:    0.0s\n",
      "[Parallel(n_jobs=1)]: Done  49 tasks      | elapsed:    0.0s\n",
      "[Parallel(n_jobs=1)]: Done  49 tasks      | elapsed:    0.0s\n",
      "[Parallel(n_jobs=1)]: Done  49 tasks      | elapsed:    0.0s\n"
     ]
    },
    {
     "name": "stdout",
     "output_type": "stream",
     "text": [
      "Accuracy: 0.5714285714285714\n",
      "F1 macro: 0.5333333333333333\n",
      "F1 micro: 0.5714285714285714\n",
      "F1 weighted: 0.5523809523809524\n",
      "Kappa: 0.08695652173913038\n",
      "-------------Iteration 8/10\n",
      "12 7\n",
      "random_state = 49\n",
      "Accuracy: 0.7142857142857143\n",
      "F1 macro: 0.65\n",
      "F1 micro: 0.7142857142857143\n",
      "F1 weighted: 0.6714285714285715\n",
      "Kappa: 0.36363636363636376\n",
      "-------------Iteration 9/10\n",
      "12 7\n",
      "random_state = 50\n",
      "Accuracy: 0.5714285714285714\n",
      "F1 macro: 0.5333333333333333\n",
      "F1 micro: 0.5714285714285714\n",
      "F1 weighted: 0.5523809523809524\n",
      "Kappa: 0.08695652173913038\n",
      "-------------Iteration 10/10\n",
      "12 7\n",
      "random_state = 51\n"
     ]
    },
    {
     "name": "stderr",
     "output_type": "stream",
     "text": [
      "[Parallel(n_jobs=1)]: Done  49 tasks      | elapsed:    0.0s\n",
      "[Parallel(n_jobs=1)]: Done  49 tasks      | elapsed:    0.0s\n",
      "[Parallel(n_jobs=1)]: Done  49 tasks      | elapsed:    0.0s\n",
      "[Parallel(n_jobs=1)]: Done  49 tasks      | elapsed:    0.0s\n",
      "[Parallel(n_jobs=1)]: Done  49 tasks      | elapsed:    0.0s\n"
     ]
    },
    {
     "name": "stdout",
     "output_type": "stream",
     "text": [
      "Accuracy: 0.7142857142857143\n",
      "F1 macro: 0.7083333333333333\n",
      "F1 micro: 0.7142857142857143\n",
      "F1 weighted: 0.7142857142857143\n",
      "Kappa: 0.41666666666666663\n"
     ]
    },
    {
     "name": "stderr",
     "output_type": "stream",
     "text": [
      "[Parallel(n_jobs=1)]: Done  49 tasks      | elapsed:    0.0s\n"
     ]
    }
   ],
   "source": [
    "for n in range(iterations):\n",
    "    print(f\"-------------Iteration {n + 1}/{iterations}\")\n",
    "    random_state=42+n\n",
    "\n",
    "    X_train, y_train, X_test, y_test = prepare_dataset_classification(\n",
    "        df,\n",
    "        target,\n",
    "        random_state=random_state,\n",
    "        train_size=train_size\n",
    "    )\n",
    "    print(f\"random_state = {random_state}\")\n",
    "\n",
    "    y_test, y_pred, acc, f1_macro, f1_micro, f1_weighted, kappa = train_and_evaluate_classifier(\n",
    "        X_train, \n",
    "        y_train, \n",
    "        X_test, \n",
    "        y_test, \n",
    "        random_state=random_state\n",
    "    )\n",
    "    \n",
    "    y_test_all.append(y_test)\n",
    "    y_pred_all.append(y_pred)\n",
    "    acc_scores.append(acc)\n",
    "    f1macro_scores.append(f1_macro)\n",
    "    f1micro_scores.append(f1_micro)\n",
    "    f1weighted_scores.append(f1_weighted)\n",
    "    kappa_scores.append(kappa)\n",
    "    print(f\"Accuracy: {acc}\")\n",
    "    print(f\"F1 macro: {f1_macro}\")\n",
    "    print(f\"F1 micro: {f1_micro}\")\n",
    "    print(f\"F1 weighted: {f1_weighted}\")\n",
    "    print(f\"Kappa: {kappa}\")"
   ]
  },
  {
   "cell_type": "code",
   "execution_count": 33,
   "metadata": {},
   "outputs": [
    {
     "name": "stdout",
     "output_type": "stream",
     "text": [
      "FINAL REPORT for training size = 12\n",
      "mean accuracy: 0.6714285714285715 +/- 0.11157499537009506\n",
      "mean F1 macro: 0.6194191919191919 +/- 0.14356767748190827\n",
      "mean F1 micro: 0.6714285714285715 +/- 0.11157499537009506\n",
      "mean F1 weighted: 0.6383838383838383 +/- 0.1331940046505172\n",
      "mean Kappa: 0.28830698287220025 +/- 0.24596227315007332\n"
     ]
    }
   ],
   "source": [
    "print(f\"FINAL REPORT for training size = {train_size}\")\n",
    "\n",
    "print(f\"mean accuracy: {np.mean(acc_scores)} +/- {np.std(acc_scores)}\")\n",
    "print(f\"mean F1 macro: {np.mean(f1macro_scores)} +/- {np.std(f1macro_scores)}\")\n",
    "print(f\"mean F1 micro: {np.mean(f1micro_scores)} +/- {np.std(f1micro_scores)}\")\n",
    "print(f\"mean F1 weighted: {np.mean(f1weighted_scores)} +/- {np.std(f1weighted_scores)}\")\n",
    "print(f\"mean Kappa: {np.mean(kappa_scores)} +/- {np.std(kappa_scores)}\")"
   ]
  },
  {
   "cell_type": "code",
   "execution_count": 34,
   "metadata": {},
   "outputs": [
    {
     "data": {
      "text/html": [
       "<div>\n",
       "<style scoped>\n",
       "    .dataframe tbody tr th:only-of-type {\n",
       "        vertical-align: middle;\n",
       "    }\n",
       "\n",
       "    .dataframe tbody tr th {\n",
       "        vertical-align: top;\n",
       "    }\n",
       "\n",
       "    .dataframe thead th {\n",
       "        text-align: right;\n",
       "    }\n",
       "</style>\n",
       "<table border=\"1\" class=\"dataframe\">\n",
       "  <thead>\n",
       "    <tr style=\"text-align: right;\">\n",
       "      <th></th>\n",
       "      <th>train_size</th>\n",
       "      <th>y_true</th>\n",
       "      <th>y_pred</th>\n",
       "      <th>accuracy</th>\n",
       "      <th>f1_macro</th>\n",
       "      <th>f1_micro</th>\n",
       "      <th>f1_weighted</th>\n",
       "      <th>kappa</th>\n",
       "    </tr>\n",
       "  </thead>\n",
       "  <tbody>\n",
       "    <tr>\n",
       "      <th>0</th>\n",
       "      <td>12</td>\n",
       "      <td>[0, 1, 0, 1, 0, 1, 1]</td>\n",
       "      <td>[1, 1, 0, 1, 0, 1, 1]</td>\n",
       "      <td>0.857143</td>\n",
       "      <td>0.844444</td>\n",
       "      <td>0.857143</td>\n",
       "      <td>0.850794</td>\n",
       "      <td>0.695652</td>\n",
       "    </tr>\n",
       "    <tr>\n",
       "      <th>1</th>\n",
       "      <td>12</td>\n",
       "      <td>[1, 1, 0, 1, 1, 0, 0]</td>\n",
       "      <td>[1, 1, 1, 1, 1, 1, 1]</td>\n",
       "      <td>0.571429</td>\n",
       "      <td>0.363636</td>\n",
       "      <td>0.571429</td>\n",
       "      <td>0.415584</td>\n",
       "      <td>0.000000</td>\n",
       "    </tr>\n",
       "    <tr>\n",
       "      <th>2</th>\n",
       "      <td>12</td>\n",
       "      <td>[1, 1, 1, 1, 0, 0, 0]</td>\n",
       "      <td>[1, 1, 1, 1, 1, 0, 1]</td>\n",
       "      <td>0.714286</td>\n",
       "      <td>0.650000</td>\n",
       "      <td>0.714286</td>\n",
       "      <td>0.671429</td>\n",
       "      <td>0.363636</td>\n",
       "    </tr>\n",
       "  </tbody>\n",
       "</table>\n",
       "</div>"
      ],
      "text/plain": [
       "   train_size                 y_true                 y_pred  accuracy  \\\n",
       "0          12  [0, 1, 0, 1, 0, 1, 1]  [1, 1, 0, 1, 0, 1, 1]  0.857143   \n",
       "1          12  [1, 1, 0, 1, 1, 0, 0]  [1, 1, 1, 1, 1, 1, 1]  0.571429   \n",
       "2          12  [1, 1, 1, 1, 0, 0, 0]  [1, 1, 1, 1, 1, 0, 1]  0.714286   \n",
       "\n",
       "   f1_macro  f1_micro  f1_weighted     kappa  \n",
       "0  0.844444  0.857143     0.850794  0.695652  \n",
       "1  0.363636  0.571429     0.415584  0.000000  \n",
       "2  0.650000  0.714286     0.671429  0.363636  "
      ]
     },
     "execution_count": 34,
     "metadata": {},
     "output_type": "execute_result"
    }
   ],
   "source": [
    "compiled_res_12 = pd.DataFrame(metrics_dict())\n",
    "compiled_res_12.head(3)"
   ]
  },
  {
   "cell_type": "markdown",
   "metadata": {},
   "source": [
    "### training size = 13"
   ]
  },
  {
   "cell_type": "code",
   "execution_count": 35,
   "metadata": {},
   "outputs": [],
   "source": [
    "train_size = 13\n",
    "iterations = 10\n",
    "target = \"diff_5_15day_2bins\"\n",
    "y_test_all = []\n",
    "y_pred_all = []\n",
    "acc_scores = []\n",
    "f1macro_scores = []\n",
    "f1micro_scores = []\n",
    "f1weighted_scores = []\n",
    "kappa_scores = []"
   ]
  },
  {
   "cell_type": "code",
   "execution_count": 36,
   "metadata": {
    "scrolled": true
   },
   "outputs": [
    {
     "name": "stdout",
     "output_type": "stream",
     "text": [
      "-------------Iteration 1/10\n",
      "13 6\n",
      "random_state = 42\n",
      "Accuracy: 0.8333333333333334\n",
      "F1 macro: 0.7777777777777777\n",
      "F1 micro: 0.8333333333333334\n",
      "F1 weighted: 0.8148148148148148\n",
      "Kappa: 0.5714285714285714\n",
      "-------------Iteration 2/10\n",
      "13 6\n",
      "random_state = 43\n"
     ]
    },
    {
     "name": "stderr",
     "output_type": "stream",
     "text": [
      "[Parallel(n_jobs=1)]: Done  49 tasks      | elapsed:    0.0s\n",
      "[Parallel(n_jobs=1)]: Done  49 tasks      | elapsed:    0.0s\n",
      "[Parallel(n_jobs=1)]: Done  49 tasks      | elapsed:    0.0s\n",
      "[Parallel(n_jobs=1)]: Done  49 tasks      | elapsed:    0.0s\n",
      "[Parallel(n_jobs=1)]: Done  49 tasks      | elapsed:    0.0s\n"
     ]
    },
    {
     "name": "stdout",
     "output_type": "stream",
     "text": [
      "Accuracy: 0.8333333333333334\n",
      "F1 macro: 0.7777777777777777\n",
      "F1 micro: 0.8333333333333334\n",
      "F1 weighted: 0.8148148148148148\n",
      "Kappa: 0.5714285714285714\n",
      "-------------Iteration 3/10\n",
      "13 6\n",
      "random_state = 44\n",
      "Accuracy: 0.6666666666666666\n",
      "F1 macro: 0.625\n",
      "F1 micro: 0.6666666666666666\n",
      "F1 weighted: 0.6666666666666666\n",
      "Kappa: 0.25\n",
      "-------------Iteration 4/10\n",
      "13 6\n",
      "random_state = 45\n",
      "Accuracy: 0.6666666666666666\n",
      "F1 macro: 0.625\n",
      "F1 micro: 0.6666666666666666\n",
      "F1 weighted: 0.6666666666666666\n",
      "Kappa: 0.25\n",
      "-------------Iteration 5/10\n",
      "13 6\n",
      "random_state = 46\n"
     ]
    },
    {
     "name": "stderr",
     "output_type": "stream",
     "text": [
      "[Parallel(n_jobs=1)]: Done  49 tasks      | elapsed:    0.0s\n",
      "[Parallel(n_jobs=1)]: Done  49 tasks      | elapsed:    0.0s\n",
      "[Parallel(n_jobs=1)]: Done  49 tasks      | elapsed:    0.0s\n",
      "[Parallel(n_jobs=1)]: Done  49 tasks      | elapsed:    0.0s\n",
      "[Parallel(n_jobs=1)]: Done  49 tasks      | elapsed:    0.0s\n"
     ]
    },
    {
     "name": "stdout",
     "output_type": "stream",
     "text": [
      "Accuracy: 0.6666666666666666\n",
      "F1 macro: 0.625\n",
      "F1 micro: 0.6666666666666666\n",
      "F1 weighted: 0.6666666666666666\n",
      "Kappa: 0.25\n",
      "-------------Iteration 6/10\n",
      "13 6\n",
      "random_state = 47\n",
      "Accuracy: 0.6666666666666666\n",
      "F1 macro: 0.625\n",
      "F1 micro: 0.6666666666666666\n",
      "F1 weighted: 0.6666666666666666\n",
      "Kappa: 0.25\n",
      "-------------Iteration 7/10\n",
      "13 6\n",
      "random_state = 48\n"
     ]
    },
    {
     "name": "stderr",
     "output_type": "stream",
     "text": [
      "[Parallel(n_jobs=1)]: Done  49 tasks      | elapsed:    0.0s\n",
      "[Parallel(n_jobs=1)]: Done  49 tasks      | elapsed:    0.0s\n",
      "[Parallel(n_jobs=1)]: Done  49 tasks      | elapsed:    0.0s\n",
      "[Parallel(n_jobs=1)]: Done  49 tasks      | elapsed:    0.0s\n",
      "[Parallel(n_jobs=1)]: Done  49 tasks      | elapsed:    0.0s\n",
      "[Parallel(n_jobs=1)]: Done  49 tasks      | elapsed:    0.0s\n",
      "[Parallel(n_jobs=1)]: Done  49 tasks      | elapsed:    0.0s\n"
     ]
    },
    {
     "name": "stdout",
     "output_type": "stream",
     "text": [
      "Accuracy: 0.6666666666666666\n",
      "F1 macro: 0.4\n",
      "F1 micro: 0.6666666666666666\n",
      "F1 weighted: 0.5333333333333333\n",
      "Kappa: 0.0\n",
      "-------------Iteration 8/10\n",
      "13 6\n",
      "random_state = 49\n",
      "Accuracy: 0.6666666666666666\n",
      "F1 macro: 0.625\n",
      "F1 micro: 0.6666666666666666\n",
      "F1 weighted: 0.6666666666666666\n",
      "Kappa: 0.25\n",
      "-------------Iteration 9/10\n",
      "13 6\n",
      "random_state = 50\n",
      "Accuracy: 0.6666666666666666\n",
      "F1 macro: 0.625\n",
      "F1 micro: 0.6666666666666666\n",
      "F1 weighted: 0.6666666666666666\n",
      "Kappa: 0.25\n",
      "-------------Iteration 10/10\n",
      "13 6\n",
      "random_state = 51\n",
      "Accuracy: 0.8333333333333334\n",
      "F1 macro: 0.8285714285714285\n",
      "F1 micro: 0.8333333333333334\n",
      "F1 weighted: 0.8380952380952381\n",
      "Kappa: 0.6666666666666667\n"
     ]
    },
    {
     "name": "stderr",
     "output_type": "stream",
     "text": [
      "[Parallel(n_jobs=1)]: Done  49 tasks      | elapsed:    0.0s\n",
      "[Parallel(n_jobs=1)]: Done  49 tasks      | elapsed:    0.0s\n",
      "[Parallel(n_jobs=1)]: Done  49 tasks      | elapsed:    0.0s\n"
     ]
    }
   ],
   "source": [
    "for n in range(iterations):\n",
    "    print(f\"-------------Iteration {n + 1}/{iterations}\")\n",
    "    random_state=42+n\n",
    "\n",
    "    X_train, y_train, X_test, y_test = prepare_dataset_classification(\n",
    "        df,\n",
    "        target,\n",
    "        random_state=random_state,\n",
    "        train_size=train_size\n",
    "    )\n",
    "    print(f\"random_state = {random_state}\")\n",
    "\n",
    "    y_test, y_pred, acc, f1_macro, f1_micro, f1_weighted, kappa = train_and_evaluate_classifier(\n",
    "        X_train, \n",
    "        y_train, \n",
    "        X_test, \n",
    "        y_test, \n",
    "        random_state=random_state\n",
    "    )\n",
    "    \n",
    "    y_test_all.append(y_test)\n",
    "    y_pred_all.append(y_pred)\n",
    "    acc_scores.append(acc)\n",
    "    f1macro_scores.append(f1_macro)\n",
    "    f1micro_scores.append(f1_micro)\n",
    "    f1weighted_scores.append(f1_weighted)\n",
    "    kappa_scores.append(kappa)\n",
    "    print(f\"Accuracy: {acc}\")\n",
    "    print(f\"F1 macro: {f1_macro}\")\n",
    "    print(f\"F1 micro: {f1_micro}\")\n",
    "    print(f\"F1 weighted: {f1_weighted}\")\n",
    "    print(f\"Kappa: {kappa}\")"
   ]
  },
  {
   "cell_type": "code",
   "execution_count": 37,
   "metadata": {},
   "outputs": [
    {
     "name": "stdout",
     "output_type": "stream",
     "text": [
      "FINAL REPORT for training size = 13\n",
      "mean accuracy: 0.7166666666666666 +/- 0.07637626158259737\n",
      "mean F1 macro: 0.6534126984126984 +/- 0.11431343358727998\n",
      "mean F1 micro: 0.7166666666666666 +/- 0.07637626158259737\n",
      "mean F1 weighted: 0.7001058201058201 +/- 0.08937533812635197\n",
      "mean Kappa: 0.33095238095238094 +/- 0.19421917628126775\n"
     ]
    }
   ],
   "source": [
    "print(f\"FINAL REPORT for training size = {train_size}\")\n",
    "\n",
    "print(f\"mean accuracy: {np.mean(acc_scores)} +/- {np.std(acc_scores)}\")\n",
    "print(f\"mean F1 macro: {np.mean(f1macro_scores)} +/- {np.std(f1macro_scores)}\")\n",
    "print(f\"mean F1 micro: {np.mean(f1micro_scores)} +/- {np.std(f1micro_scores)}\")\n",
    "print(f\"mean F1 weighted: {np.mean(f1weighted_scores)} +/- {np.std(f1weighted_scores)}\")\n",
    "print(f\"mean Kappa: {np.mean(kappa_scores)} +/- {np.std(kappa_scores)}\")"
   ]
  },
  {
   "cell_type": "code",
   "execution_count": 38,
   "metadata": {},
   "outputs": [
    {
     "data": {
      "text/html": [
       "<div>\n",
       "<style scoped>\n",
       "    .dataframe tbody tr th:only-of-type {\n",
       "        vertical-align: middle;\n",
       "    }\n",
       "\n",
       "    .dataframe tbody tr th {\n",
       "        vertical-align: top;\n",
       "    }\n",
       "\n",
       "    .dataframe thead th {\n",
       "        text-align: right;\n",
       "    }\n",
       "</style>\n",
       "<table border=\"1\" class=\"dataframe\">\n",
       "  <thead>\n",
       "    <tr style=\"text-align: right;\">\n",
       "      <th></th>\n",
       "      <th>train_size</th>\n",
       "      <th>y_true</th>\n",
       "      <th>y_pred</th>\n",
       "      <th>accuracy</th>\n",
       "      <th>f1_macro</th>\n",
       "      <th>f1_micro</th>\n",
       "      <th>f1_weighted</th>\n",
       "      <th>kappa</th>\n",
       "    </tr>\n",
       "  </thead>\n",
       "  <tbody>\n",
       "    <tr>\n",
       "      <th>0</th>\n",
       "      <td>13</td>\n",
       "      <td>[0, 1, 1, 0, 1, 1]</td>\n",
       "      <td>[0, 1, 1, 1, 1, 1]</td>\n",
       "      <td>0.833333</td>\n",
       "      <td>0.777778</td>\n",
       "      <td>0.833333</td>\n",
       "      <td>0.814815</td>\n",
       "      <td>0.571429</td>\n",
       "    </tr>\n",
       "    <tr>\n",
       "      <th>1</th>\n",
       "      <td>13</td>\n",
       "      <td>[1, 0, 1, 1, 1, 0]</td>\n",
       "      <td>[1, 0, 1, 1, 1, 1]</td>\n",
       "      <td>0.833333</td>\n",
       "      <td>0.777778</td>\n",
       "      <td>0.833333</td>\n",
       "      <td>0.814815</td>\n",
       "      <td>0.571429</td>\n",
       "    </tr>\n",
       "    <tr>\n",
       "      <th>2</th>\n",
       "      <td>13</td>\n",
       "      <td>[1, 1, 1, 0, 1, 0]</td>\n",
       "      <td>[0, 1, 1, 1, 1, 0]</td>\n",
       "      <td>0.666667</td>\n",
       "      <td>0.625000</td>\n",
       "      <td>0.666667</td>\n",
       "      <td>0.666667</td>\n",
       "      <td>0.250000</td>\n",
       "    </tr>\n",
       "  </tbody>\n",
       "</table>\n",
       "</div>"
      ],
      "text/plain": [
       "   train_size              y_true              y_pred  accuracy  f1_macro  \\\n",
       "0          13  [0, 1, 1, 0, 1, 1]  [0, 1, 1, 1, 1, 1]  0.833333  0.777778   \n",
       "1          13  [1, 0, 1, 1, 1, 0]  [1, 0, 1, 1, 1, 1]  0.833333  0.777778   \n",
       "2          13  [1, 1, 1, 0, 1, 0]  [0, 1, 1, 1, 1, 0]  0.666667  0.625000   \n",
       "\n",
       "   f1_micro  f1_weighted     kappa  \n",
       "0  0.833333     0.814815  0.571429  \n",
       "1  0.833333     0.814815  0.571429  \n",
       "2  0.666667     0.666667  0.250000  "
      ]
     },
     "execution_count": 38,
     "metadata": {},
     "output_type": "execute_result"
    }
   ],
   "source": [
    "compiled_res_13 = pd.DataFrame(metrics_dict())\n",
    "compiled_res_13.head(3)"
   ]
  },
  {
   "cell_type": "markdown",
   "metadata": {},
   "source": [
    "### training size = 14"
   ]
  },
  {
   "cell_type": "code",
   "execution_count": 39,
   "metadata": {},
   "outputs": [],
   "source": [
    "train_size = 14\n",
    "iterations = 10\n",
    "target = \"diff_5_15day_2bins\"\n",
    "y_test_all = []\n",
    "y_pred_all = []\n",
    "acc_scores = []\n",
    "f1macro_scores = []\n",
    "f1micro_scores = []\n",
    "f1weighted_scores = []\n",
    "kappa_scores = []"
   ]
  },
  {
   "cell_type": "code",
   "execution_count": 40,
   "metadata": {
    "scrolled": true
   },
   "outputs": [
    {
     "name": "stdout",
     "output_type": "stream",
     "text": [
      "-------------Iteration 1/10\n",
      "14 5\n",
      "random_state = 42\n",
      "Accuracy: 0.6\n",
      "F1 macro: 0.5833333333333333\n",
      "F1 micro: 0.6\n",
      "F1 weighted: 0.6\n",
      "Kappa: 0.16666666666666663\n",
      "-------------Iteration 2/10\n",
      "14 5\n",
      "random_state = 43\n",
      "Accuracy: 0.8\n",
      "F1 macro: 0.7619047619047619\n",
      "F1 micro: 0.8\n",
      "F1 weighted: 0.7809523809523808\n",
      "Kappa: 0.5454545454545454\n",
      "-------------Iteration 3/10\n",
      "14 5\n",
      "random_state = 44\n"
     ]
    },
    {
     "name": "stderr",
     "output_type": "stream",
     "text": [
      "[Parallel(n_jobs=1)]: Done  49 tasks      | elapsed:    0.0s\n",
      "[Parallel(n_jobs=1)]: Done  49 tasks      | elapsed:    0.0s\n",
      "[Parallel(n_jobs=1)]: Done  49 tasks      | elapsed:    0.0s\n",
      "[Parallel(n_jobs=1)]: Done  49 tasks      | elapsed:    0.0s\n",
      "[Parallel(n_jobs=1)]: Done  49 tasks      | elapsed:    0.0s\n",
      "[Parallel(n_jobs=1)]: Done  49 tasks      | elapsed:    0.0s\n",
      "[Parallel(n_jobs=1)]: Done  49 tasks      | elapsed:    0.0s\n",
      "[Parallel(n_jobs=1)]: Done  49 tasks      | elapsed:    0.0s\n",
      "[Parallel(n_jobs=1)]: Done  49 tasks      | elapsed:    0.1s\n"
     ]
    },
    {
     "name": "stdout",
     "output_type": "stream",
     "text": [
      "Accuracy: 0.8\n",
      "F1 macro: 0.7619047619047619\n",
      "F1 micro: 0.8\n",
      "F1 weighted: 0.7809523809523808\n",
      "Kappa: 0.5454545454545454\n",
      "-------------Iteration 4/10\n",
      "14 5\n",
      "random_state = 45\n",
      "Accuracy: 0.8\n",
      "F1 macro: 0.7619047619047619\n",
      "F1 micro: 0.8\n",
      "F1 weighted: 0.7809523809523808\n",
      "Kappa: 0.5454545454545454\n",
      "-------------Iteration 5/10\n",
      "14 5\n",
      "random_state = 46\n"
     ]
    },
    {
     "name": "stderr",
     "output_type": "stream",
     "text": [
      "[Parallel(n_jobs=1)]: Done  49 tasks      | elapsed:    0.0s\n",
      "[Parallel(n_jobs=1)]: Done  49 tasks      | elapsed:    0.0s\n",
      "[Parallel(n_jobs=1)]: Done  49 tasks      | elapsed:    0.0s\n",
      "[Parallel(n_jobs=1)]: Done  49 tasks      | elapsed:    0.0s\n",
      "[Parallel(n_jobs=1)]: Done  49 tasks      | elapsed:    0.0s\n"
     ]
    },
    {
     "name": "stdout",
     "output_type": "stream",
     "text": [
      "Accuracy: 0.8\n",
      "F1 macro: 0.7619047619047619\n",
      "F1 micro: 0.8\n",
      "F1 weighted: 0.7809523809523808\n",
      "Kappa: 0.5454545454545454\n",
      "-------------Iteration 6/10\n",
      "14 5\n",
      "random_state = 47\n",
      "Accuracy: 0.6\n",
      "F1 macro: 0.5833333333333333\n",
      "F1 micro: 0.6\n",
      "F1 weighted: 0.6\n",
      "Kappa: 0.16666666666666663\n",
      "-------------Iteration 7/10\n",
      "14 5\n",
      "random_state = 48\n",
      "Accuracy: 0.6\n",
      "F1 macro: 0.375\n",
      "F1 micro: 0.6\n",
      "F1 weighted: 0.45\n",
      "Kappa: 0.0\n",
      "-------------Iteration 8/10\n",
      "14 5\n",
      "random_state = 49\n"
     ]
    },
    {
     "name": "stderr",
     "output_type": "stream",
     "text": [
      "[Parallel(n_jobs=1)]: Done  49 tasks      | elapsed:    0.0s\n",
      "[Parallel(n_jobs=1)]: Done  49 tasks      | elapsed:    0.0s\n",
      "[Parallel(n_jobs=1)]: Done  49 tasks      | elapsed:    0.0s\n",
      "[Parallel(n_jobs=1)]: Done  49 tasks      | elapsed:    0.0s\n",
      "[Parallel(n_jobs=1)]: Done  49 tasks      | elapsed:    0.0s\n"
     ]
    },
    {
     "name": "stdout",
     "output_type": "stream",
     "text": [
      "Accuracy: 0.8\n",
      "F1 macro: 0.7619047619047619\n",
      "F1 micro: 0.8\n",
      "F1 weighted: 0.7809523809523808\n",
      "Kappa: 0.5454545454545454\n",
      "-------------Iteration 9/10\n",
      "14 5\n",
      "random_state = 50\n",
      "Accuracy: 0.6\n",
      "F1 macro: 0.5833333333333333\n",
      "F1 micro: 0.6\n",
      "F1 weighted: 0.6\n",
      "Kappa: 0.16666666666666663\n",
      "-------------Iteration 10/10\n",
      "14 5\n",
      "random_state = 51\n",
      "Accuracy: 1.0\n",
      "F1 macro: 1.0\n",
      "F1 micro: 1.0\n",
      "F1 weighted: 1.0\n",
      "Kappa: 1.0\n"
     ]
    },
    {
     "name": "stderr",
     "output_type": "stream",
     "text": [
      "[Parallel(n_jobs=1)]: Done  49 tasks      | elapsed:    0.0s\n"
     ]
    }
   ],
   "source": [
    "for n in range(iterations):\n",
    "    print(f\"-------------Iteration {n + 1}/{iterations}\")\n",
    "    random_state=42+n\n",
    "\n",
    "    X_train, y_train, X_test, y_test = prepare_dataset_classification(\n",
    "        df,\n",
    "        target,\n",
    "        random_state=random_state,\n",
    "        train_size=train_size\n",
    "    )\n",
    "    print(f\"random_state = {random_state}\")\n",
    "\n",
    "    y_test, y_pred, acc, f1_macro, f1_micro, f1_weighted, kappa = train_and_evaluate_classifier(\n",
    "        X_train, \n",
    "        y_train, \n",
    "        X_test, \n",
    "        y_test, \n",
    "        random_state=random_state\n",
    "    )\n",
    "    \n",
    "    y_test_all.append(y_test)\n",
    "    y_pred_all.append(y_pred)\n",
    "    acc_scores.append(acc)\n",
    "    f1macro_scores.append(f1_macro)\n",
    "    f1micro_scores.append(f1_micro)\n",
    "    f1weighted_scores.append(f1_weighted)\n",
    "    kappa_scores.append(kappa)\n",
    "    print(f\"Accuracy: {acc}\")\n",
    "    print(f\"F1 macro: {f1_macro}\")\n",
    "    print(f\"F1 micro: {f1_micro}\")\n",
    "    print(f\"F1 weighted: {f1_weighted}\")\n",
    "    print(f\"Kappa: {kappa}\")"
   ]
  },
  {
   "cell_type": "code",
   "execution_count": 41,
   "metadata": {},
   "outputs": [
    {
     "name": "stdout",
     "output_type": "stream",
     "text": [
      "FINAL REPORT for training size = 14\n",
      "mean accuracy: 0.74 +/- 0.128062484748657\n",
      "mean F1 macro: 0.6934523809523808 +/- 0.15974686786094813\n",
      "mean F1 micro: 0.74 +/- 0.128062484748657\n",
      "mean F1 weighted: 0.7154761904761904 +/- 0.14590110184393526\n",
      "mean Kappa: 0.4227272727272727 +/- 0.2799916370258364\n"
     ]
    }
   ],
   "source": [
    "print(f\"FINAL REPORT for training size = {train_size}\")\n",
    "\n",
    "print(f\"mean accuracy: {np.mean(acc_scores)} +/- {np.std(acc_scores)}\")\n",
    "print(f\"mean F1 macro: {np.mean(f1macro_scores)} +/- {np.std(f1macro_scores)}\")\n",
    "print(f\"mean F1 micro: {np.mean(f1micro_scores)} +/- {np.std(f1micro_scores)}\")\n",
    "print(f\"mean F1 weighted: {np.mean(f1weighted_scores)} +/- {np.std(f1weighted_scores)}\")\n",
    "print(f\"mean Kappa: {np.mean(kappa_scores)} +/- {np.std(kappa_scores)}\")"
   ]
  },
  {
   "cell_type": "code",
   "execution_count": 42,
   "metadata": {},
   "outputs": [
    {
     "data": {
      "text/html": [
       "<div>\n",
       "<style scoped>\n",
       "    .dataframe tbody tr th:only-of-type {\n",
       "        vertical-align: middle;\n",
       "    }\n",
       "\n",
       "    .dataframe tbody tr th {\n",
       "        vertical-align: top;\n",
       "    }\n",
       "\n",
       "    .dataframe thead th {\n",
       "        text-align: right;\n",
       "    }\n",
       "</style>\n",
       "<table border=\"1\" class=\"dataframe\">\n",
       "  <thead>\n",
       "    <tr style=\"text-align: right;\">\n",
       "      <th></th>\n",
       "      <th>train_size</th>\n",
       "      <th>y_true</th>\n",
       "      <th>y_pred</th>\n",
       "      <th>accuracy</th>\n",
       "      <th>f1_macro</th>\n",
       "      <th>f1_micro</th>\n",
       "      <th>f1_weighted</th>\n",
       "      <th>kappa</th>\n",
       "    </tr>\n",
       "  </thead>\n",
       "  <tbody>\n",
       "    <tr>\n",
       "      <th>0</th>\n",
       "      <td>14</td>\n",
       "      <td>[0, 0, 1, 1, 1]</td>\n",
       "      <td>[1, 0, 0, 1, 1]</td>\n",
       "      <td>0.6</td>\n",
       "      <td>0.583333</td>\n",
       "      <td>0.6</td>\n",
       "      <td>0.600000</td>\n",
       "      <td>0.166667</td>\n",
       "    </tr>\n",
       "    <tr>\n",
       "      <th>1</th>\n",
       "      <td>14</td>\n",
       "      <td>[0, 1, 1, 1, 0]</td>\n",
       "      <td>[0, 1, 1, 1, 1]</td>\n",
       "      <td>0.8</td>\n",
       "      <td>0.761905</td>\n",
       "      <td>0.8</td>\n",
       "      <td>0.780952</td>\n",
       "      <td>0.545455</td>\n",
       "    </tr>\n",
       "    <tr>\n",
       "      <th>2</th>\n",
       "      <td>14</td>\n",
       "      <td>[1, 0, 1, 1, 0]</td>\n",
       "      <td>[1, 1, 1, 1, 0]</td>\n",
       "      <td>0.8</td>\n",
       "      <td>0.761905</td>\n",
       "      <td>0.8</td>\n",
       "      <td>0.780952</td>\n",
       "      <td>0.545455</td>\n",
       "    </tr>\n",
       "  </tbody>\n",
       "</table>\n",
       "</div>"
      ],
      "text/plain": [
       "   train_size           y_true           y_pred  accuracy  f1_macro  f1_micro  \\\n",
       "0          14  [0, 0, 1, 1, 1]  [1, 0, 0, 1, 1]       0.6  0.583333       0.6   \n",
       "1          14  [0, 1, 1, 1, 0]  [0, 1, 1, 1, 1]       0.8  0.761905       0.8   \n",
       "2          14  [1, 0, 1, 1, 0]  [1, 1, 1, 1, 0]       0.8  0.761905       0.8   \n",
       "\n",
       "   f1_weighted     kappa  \n",
       "0     0.600000  0.166667  \n",
       "1     0.780952  0.545455  \n",
       "2     0.780952  0.545455  "
      ]
     },
     "execution_count": 42,
     "metadata": {},
     "output_type": "execute_result"
    }
   ],
   "source": [
    "compiled_res_14 = pd.DataFrame(metrics_dict())\n",
    "compiled_res_14.head(3)"
   ]
  },
  {
   "cell_type": "markdown",
   "metadata": {},
   "source": [
    "### training size = 15"
   ]
  },
  {
   "cell_type": "code",
   "execution_count": 43,
   "metadata": {},
   "outputs": [],
   "source": [
    "train_size = 15\n",
    "iterations = 10\n",
    "target = \"diff_5_15day_2bins\"\n",
    "y_test_all = []\n",
    "y_pred_all = []\n",
    "acc_scores = []\n",
    "f1macro_scores = []\n",
    "f1micro_scores = []\n",
    "f1weighted_scores = []\n",
    "kappa_scores = []"
   ]
  },
  {
   "cell_type": "code",
   "execution_count": 44,
   "metadata": {
    "scrolled": true
   },
   "outputs": [
    {
     "name": "stdout",
     "output_type": "stream",
     "text": [
      "-------------Iteration 1/10\n",
      "15 4\n",
      "random_state = 42\n",
      "Accuracy: 0.75\n",
      "F1 macro: 0.7333333333333334\n",
      "F1 micro: 0.75\n",
      "F1 weighted: 0.7666666666666667\n",
      "Kappa: 0.5\n",
      "-------------Iteration 2/10\n",
      "15 4\n",
      "random_state = 43\n"
     ]
    },
    {
     "name": "stderr",
     "output_type": "stream",
     "text": [
      "[Parallel(n_jobs=1)]: Done  49 tasks      | elapsed:    0.0s\n",
      "[Parallel(n_jobs=1)]: Done  49 tasks      | elapsed:    0.0s\n",
      "[Parallel(n_jobs=1)]: Done  49 tasks      | elapsed:    0.0s\n",
      "[Parallel(n_jobs=1)]: Done  49 tasks      | elapsed:    0.0s\n"
     ]
    },
    {
     "name": "stdout",
     "output_type": "stream",
     "text": [
      "Accuracy: 1.0\n",
      "F1 macro: 1.0\n",
      "F1 micro: 1.0\n",
      "F1 weighted: 1.0\n",
      "Kappa: 1.0\n",
      "-------------Iteration 3/10\n",
      "15 4\n",
      "random_state = 44\n",
      "Accuracy: 1.0\n",
      "F1 macro: 1.0\n",
      "F1 micro: 1.0\n",
      "F1 weighted: 1.0\n",
      "Kappa: 1.0\n",
      "-------------Iteration 4/10\n",
      "15 4\n",
      "random_state = 45\n"
     ]
    },
    {
     "name": "stderr",
     "output_type": "stream",
     "text": [
      "[Parallel(n_jobs=1)]: Done  49 tasks      | elapsed:    0.0s\n",
      "[Parallel(n_jobs=1)]: Done  49 tasks      | elapsed:    0.0s\n",
      "[Parallel(n_jobs=1)]: Done  49 tasks      | elapsed:    0.0s\n",
      "[Parallel(n_jobs=1)]: Done  49 tasks      | elapsed:    0.0s\n"
     ]
    },
    {
     "name": "stdout",
     "output_type": "stream",
     "text": [
      "Accuracy: 0.75\n",
      "F1 macro: 0.42857142857142855\n",
      "F1 micro: 0.75\n",
      "F1 weighted: 0.6428571428571428\n",
      "Kappa: 0.0\n",
      "-------------Iteration 5/10\n",
      "15 4\n",
      "random_state = 46\n",
      "Accuracy: 0.5\n",
      "F1 macro: 0.3333333333333333\n",
      "F1 micro: 0.5\n",
      "F1 weighted: 0.5\n",
      "Kappa: -0.33333333333333326\n",
      "-------------Iteration 6/10\n",
      "15 4\n",
      "random_state = 47\n"
     ]
    },
    {
     "name": "stderr",
     "output_type": "stream",
     "text": [
      "[Parallel(n_jobs=1)]: Done  49 tasks      | elapsed:    0.0s\n",
      "[Parallel(n_jobs=1)]: Done  49 tasks      | elapsed:    0.0s\n",
      "[Parallel(n_jobs=1)]: Done  49 tasks      | elapsed:    0.0s\n",
      "[Parallel(n_jobs=1)]: Done  49 tasks      | elapsed:    0.0s\n",
      "[Parallel(n_jobs=1)]: Done  49 tasks      | elapsed:    0.0s\n"
     ]
    },
    {
     "name": "stdout",
     "output_type": "stream",
     "text": [
      "Accuracy: 0.75\n",
      "F1 macro: 0.7333333333333334\n",
      "F1 micro: 0.75\n",
      "F1 weighted: 0.7666666666666667\n",
      "Kappa: 0.5\n",
      "-------------Iteration 7/10\n",
      "15 4\n",
      "random_state = 48\n",
      "Accuracy: 0.25\n",
      "F1 macro: 0.2\n",
      "F1 micro: 0.25\n",
      "F1 weighted: 0.30000000000000004\n",
      "Kappa: -0.5\n",
      "-------------Iteration 8/10\n",
      "15 4\n",
      "random_state = 49\n",
      "Accuracy: 1.0\n",
      "F1 macro: 1.0\n",
      "F1 micro: 1.0\n",
      "F1 weighted: 1.0\n",
      "Kappa: 1.0\n",
      "-------------Iteration 9/10\n",
      "15 4\n",
      "random_state = 50\n"
     ]
    },
    {
     "name": "stderr",
     "output_type": "stream",
     "text": [
      "[Parallel(n_jobs=1)]: Done  49 tasks      | elapsed:    0.0s\n",
      "[Parallel(n_jobs=1)]: Done  49 tasks      | elapsed:    0.0s\n",
      "[Parallel(n_jobs=1)]: Done  49 tasks      | elapsed:    0.0s\n",
      "[Parallel(n_jobs=1)]: Done  49 tasks      | elapsed:    0.0s\n"
     ]
    },
    {
     "name": "stdout",
     "output_type": "stream",
     "text": [
      "Accuracy: 0.5\n",
      "F1 macro: 0.3333333333333333\n",
      "F1 micro: 0.5\n",
      "F1 weighted: 0.5\n",
      "Kappa: -0.33333333333333326\n",
      "-------------Iteration 10/10\n",
      "15 4\n",
      "random_state = 51\n",
      "Accuracy: 1.0\n",
      "F1 macro: 1.0\n",
      "F1 micro: 1.0\n",
      "F1 weighted: 1.0\n",
      "Kappa: 1.0\n"
     ]
    },
    {
     "name": "stderr",
     "output_type": "stream",
     "text": [
      "[Parallel(n_jobs=1)]: Done  49 tasks      | elapsed:    0.0s\n",
      "[Parallel(n_jobs=1)]: Done  49 tasks      | elapsed:    0.0s\n",
      "[Parallel(n_jobs=1)]: Done  49 tasks      | elapsed:    0.0s\n"
     ]
    }
   ],
   "source": [
    "for n in range(iterations):\n",
    "    print(f\"-------------Iteration {n + 1}/{iterations}\")\n",
    "    random_state=42+n\n",
    "\n",
    "    X_train, y_train, X_test, y_test = prepare_dataset_classification(\n",
    "        df,\n",
    "        target,\n",
    "        random_state=random_state,\n",
    "        train_size=train_size\n",
    "    )\n",
    "    print(f\"random_state = {random_state}\")\n",
    "\n",
    "    y_test, y_pred, acc, f1_macro, f1_micro, f1_weighted, kappa = train_and_evaluate_classifier(\n",
    "        X_train, \n",
    "        y_train, \n",
    "        X_test, \n",
    "        y_test, \n",
    "        random_state=random_state\n",
    "    )\n",
    "    \n",
    "    y_test_all.append(y_test)\n",
    "    y_pred_all.append(y_pred)\n",
    "    acc_scores.append(acc)\n",
    "    f1macro_scores.append(f1_macro)\n",
    "    f1micro_scores.append(f1_micro)\n",
    "    f1weighted_scores.append(f1_weighted)\n",
    "    kappa_scores.append(kappa)\n",
    "    print(f\"Accuracy: {acc}\")\n",
    "    print(f\"F1 macro: {f1_macro}\")\n",
    "    print(f\"F1 micro: {f1_micro}\")\n",
    "    print(f\"F1 weighted: {f1_weighted}\")\n",
    "    print(f\"Kappa: {kappa}\")"
   ]
  },
  {
   "cell_type": "code",
   "execution_count": 45,
   "metadata": {},
   "outputs": [
    {
     "name": "stdout",
     "output_type": "stream",
     "text": [
      "FINAL REPORT for training size = 15\n",
      "mean accuracy: 0.75 +/- 0.25\n",
      "mean F1 macro: 0.6761904761904762 +/- 0.30807720562523017\n",
      "mean F1 micro: 0.75 +/- 0.25\n",
      "mean F1 weighted: 0.7476190476190476 +/- 0.24279177458264242\n",
      "mean Kappa: 0.3833333333333334 +/- 0.5918426968188234\n"
     ]
    }
   ],
   "source": [
    "print(f\"FINAL REPORT for training size = {train_size}\")\n",
    "\n",
    "print(f\"mean accuracy: {np.mean(acc_scores)} +/- {np.std(acc_scores)}\")\n",
    "print(f\"mean F1 macro: {np.mean(f1macro_scores)} +/- {np.std(f1macro_scores)}\")\n",
    "print(f\"mean F1 micro: {np.mean(f1micro_scores)} +/- {np.std(f1micro_scores)}\")\n",
    "print(f\"mean F1 weighted: {np.mean(f1weighted_scores)} +/- {np.std(f1weighted_scores)}\")\n",
    "print(f\"mean Kappa: {np.mean(kappa_scores)} +/- {np.std(kappa_scores)}\")"
   ]
  },
  {
   "cell_type": "code",
   "execution_count": 46,
   "metadata": {},
   "outputs": [
    {
     "data": {
      "text/html": [
       "<div>\n",
       "<style scoped>\n",
       "    .dataframe tbody tr th:only-of-type {\n",
       "        vertical-align: middle;\n",
       "    }\n",
       "\n",
       "    .dataframe tbody tr th {\n",
       "        vertical-align: top;\n",
       "    }\n",
       "\n",
       "    .dataframe thead th {\n",
       "        text-align: right;\n",
       "    }\n",
       "</style>\n",
       "<table border=\"1\" class=\"dataframe\">\n",
       "  <thead>\n",
       "    <tr style=\"text-align: right;\">\n",
       "      <th></th>\n",
       "      <th>train_size</th>\n",
       "      <th>y_true</th>\n",
       "      <th>y_pred</th>\n",
       "      <th>accuracy</th>\n",
       "      <th>f1_macro</th>\n",
       "      <th>f1_micro</th>\n",
       "      <th>f1_weighted</th>\n",
       "      <th>kappa</th>\n",
       "    </tr>\n",
       "  </thead>\n",
       "  <tbody>\n",
       "    <tr>\n",
       "      <th>0</th>\n",
       "      <td>15</td>\n",
       "      <td>[1, 0, 1, 1]</td>\n",
       "      <td>[1, 0, 1, 0]</td>\n",
       "      <td>0.75</td>\n",
       "      <td>0.733333</td>\n",
       "      <td>0.75</td>\n",
       "      <td>0.766667</td>\n",
       "      <td>0.5</td>\n",
       "    </tr>\n",
       "    <tr>\n",
       "      <th>1</th>\n",
       "      <td>15</td>\n",
       "      <td>[1, 1, 1, 0]</td>\n",
       "      <td>[1, 1, 1, 0]</td>\n",
       "      <td>1.00</td>\n",
       "      <td>1.000000</td>\n",
       "      <td>1.00</td>\n",
       "      <td>1.000000</td>\n",
       "      <td>1.0</td>\n",
       "    </tr>\n",
       "    <tr>\n",
       "      <th>2</th>\n",
       "      <td>15</td>\n",
       "      <td>[1, 0, 1, 1]</td>\n",
       "      <td>[1, 0, 1, 1]</td>\n",
       "      <td>1.00</td>\n",
       "      <td>1.000000</td>\n",
       "      <td>1.00</td>\n",
       "      <td>1.000000</td>\n",
       "      <td>1.0</td>\n",
       "    </tr>\n",
       "  </tbody>\n",
       "</table>\n",
       "</div>"
      ],
      "text/plain": [
       "   train_size        y_true        y_pred  accuracy  f1_macro  f1_micro  \\\n",
       "0          15  [1, 0, 1, 1]  [1, 0, 1, 0]      0.75  0.733333      0.75   \n",
       "1          15  [1, 1, 1, 0]  [1, 1, 1, 0]      1.00  1.000000      1.00   \n",
       "2          15  [1, 0, 1, 1]  [1, 0, 1, 1]      1.00  1.000000      1.00   \n",
       "\n",
       "   f1_weighted  kappa  \n",
       "0     0.766667    0.5  \n",
       "1     1.000000    1.0  \n",
       "2     1.000000    1.0  "
      ]
     },
     "execution_count": 46,
     "metadata": {},
     "output_type": "execute_result"
    }
   ],
   "source": [
    "compiled_res_15 = pd.DataFrame(metrics_dict())\n",
    "compiled_res_15.head(3)"
   ]
  },
  {
   "cell_type": "code",
   "execution_count": 47,
   "metadata": {},
   "outputs": [
    {
     "name": "stdout",
     "output_type": "stream",
     "text": [
      "70\n"
     ]
    },
    {
     "data": {
      "text/html": [
       "<div>\n",
       "<style scoped>\n",
       "    .dataframe tbody tr th:only-of-type {\n",
       "        vertical-align: middle;\n",
       "    }\n",
       "\n",
       "    .dataframe tbody tr th {\n",
       "        vertical-align: top;\n",
       "    }\n",
       "\n",
       "    .dataframe thead th {\n",
       "        text-align: right;\n",
       "    }\n",
       "</style>\n",
       "<table border=\"1\" class=\"dataframe\">\n",
       "  <thead>\n",
       "    <tr style=\"text-align: right;\">\n",
       "      <th></th>\n",
       "      <th>train_size</th>\n",
       "      <th>y_true</th>\n",
       "      <th>y_pred</th>\n",
       "      <th>accuracy</th>\n",
       "      <th>f1_macro</th>\n",
       "      <th>f1_micro</th>\n",
       "      <th>f1_weighted</th>\n",
       "      <th>kappa</th>\n",
       "    </tr>\n",
       "  </thead>\n",
       "  <tbody>\n",
       "    <tr>\n",
       "      <th>0</th>\n",
       "      <td>5</td>\n",
       "      <td>[1, 1, 1, 0, 1, 1, 0, 1, 1, 1, 0, 0, 1, 0]</td>\n",
       "      <td>[0, 1, 1, 0, 0, 1, 1, 1, 0, 1, 1, 1, 0, 1]</td>\n",
       "      <td>0.428571</td>\n",
       "      <td>0.377778</td>\n",
       "      <td>0.428571</td>\n",
       "      <td>0.428571</td>\n",
       "      <td>-0.244444</td>\n",
       "    </tr>\n",
       "    <tr>\n",
       "      <th>1</th>\n",
       "      <td>5</td>\n",
       "      <td>[1, 0, 0, 1, 1, 0, 1, 1, 1, 1, 0, 1, 0, 1]</td>\n",
       "      <td>[1, 1, 1, 0, 1, 1, 1, 1, 0, 1, 0, 0, 1, 1]</td>\n",
       "      <td>0.500000</td>\n",
       "      <td>0.426901</td>\n",
       "      <td>0.500000</td>\n",
       "      <td>0.485380</td>\n",
       "      <td>-0.139535</td>\n",
       "    </tr>\n",
       "    <tr>\n",
       "      <th>2</th>\n",
       "      <td>5</td>\n",
       "      <td>[1, 1, 1, 1, 1, 0, 1, 0, 0, 0, 1, 0, 1, 1]</td>\n",
       "      <td>[1, 0, 1, 1, 1, 0, 0, 1, 1, 0, 1, 0, 0, 0]</td>\n",
       "      <td>0.571429</td>\n",
       "      <td>0.562500</td>\n",
       "      <td>0.571429</td>\n",
       "      <td>0.580357</td>\n",
       "      <td>0.142857</td>\n",
       "    </tr>\n",
       "    <tr>\n",
       "      <th>3</th>\n",
       "      <td>5</td>\n",
       "      <td>[0, 1, 0, 1, 1, 1, 0, 1, 1, 0, 1, 0, 1, 1]</td>\n",
       "      <td>[0, 1, 0, 1, 1, 1, 1, 0, 0, 1, 0, 1, 1, 1]</td>\n",
       "      <td>0.571429</td>\n",
       "      <td>0.533333</td>\n",
       "      <td>0.571429</td>\n",
       "      <td>0.571429</td>\n",
       "      <td>0.066667</td>\n",
       "    </tr>\n",
       "    <tr>\n",
       "      <th>4</th>\n",
       "      <td>5</td>\n",
       "      <td>[1, 0, 1, 1, 0, 1, 1, 1, 0, 0, 0, 1, 1, 1]</td>\n",
       "      <td>[1, 1, 0, 0, 0, 1, 0, 1, 1, 1, 0, 0, 1, 1]</td>\n",
       "      <td>0.500000</td>\n",
       "      <td>0.475936</td>\n",
       "      <td>0.500000</td>\n",
       "      <td>0.508021</td>\n",
       "      <td>-0.042553</td>\n",
       "    </tr>\n",
       "  </tbody>\n",
       "</table>\n",
       "</div>"
      ],
      "text/plain": [
       "   train_size                                      y_true  \\\n",
       "0           5  [1, 1, 1, 0, 1, 1, 0, 1, 1, 1, 0, 0, 1, 0]   \n",
       "1           5  [1, 0, 0, 1, 1, 0, 1, 1, 1, 1, 0, 1, 0, 1]   \n",
       "2           5  [1, 1, 1, 1, 1, 0, 1, 0, 0, 0, 1, 0, 1, 1]   \n",
       "3           5  [0, 1, 0, 1, 1, 1, 0, 1, 1, 0, 1, 0, 1, 1]   \n",
       "4           5  [1, 0, 1, 1, 0, 1, 1, 1, 0, 0, 0, 1, 1, 1]   \n",
       "\n",
       "                                       y_pred  accuracy  f1_macro  f1_micro  \\\n",
       "0  [0, 1, 1, 0, 0, 1, 1, 1, 0, 1, 1, 1, 0, 1]  0.428571  0.377778  0.428571   \n",
       "1  [1, 1, 1, 0, 1, 1, 1, 1, 0, 1, 0, 0, 1, 1]  0.500000  0.426901  0.500000   \n",
       "2  [1, 0, 1, 1, 1, 0, 0, 1, 1, 0, 1, 0, 0, 0]  0.571429  0.562500  0.571429   \n",
       "3  [0, 1, 0, 1, 1, 1, 1, 0, 0, 1, 0, 1, 1, 1]  0.571429  0.533333  0.571429   \n",
       "4  [1, 1, 0, 0, 0, 1, 0, 1, 1, 1, 0, 0, 1, 1]  0.500000  0.475936  0.500000   \n",
       "\n",
       "   f1_weighted     kappa  \n",
       "0     0.428571 -0.244444  \n",
       "1     0.485380 -0.139535  \n",
       "2     0.580357  0.142857  \n",
       "3     0.571429  0.066667  \n",
       "4     0.508021 -0.042553  "
      ]
     },
     "execution_count": 47,
     "metadata": {},
     "output_type": "execute_result"
    }
   ],
   "source": [
    "compiled_res = pd.concat([\n",
    "    compiled_res_5, \n",
    "    compiled_res_8,\n",
    "    compiled_res_10,\n",
    "    compiled_res_12,\n",
    "    compiled_res_13,\n",
    "    compiled_res_14,\n",
    "    compiled_res_15\n",
    "], ignore_index=True)\n",
    "print(len(compiled_res))\n",
    "compiled_res.head()"
   ]
  },
  {
   "cell_type": "code",
   "execution_count": 48,
   "metadata": {},
   "outputs": [],
   "source": [
    "compiled_res[\"y_true\"] = compiled_res[\"y_true\"].apply(lambda arr: list(arr))\n",
    "compiled_res[\"y_pred\"] = compiled_res[\"y_pred\"].apply(lambda arr: list(arr))"
   ]
  },
  {
   "cell_type": "code",
   "execution_count": 55,
   "metadata": {},
   "outputs": [],
   "source": [
    "compiled_res.to_csv(\"RF_results_sensorStability_2bins_3763.csv\", sep=\",\", index=False)"
   ]
  },
  {
   "cell_type": "code",
   "execution_count": 56,
   "metadata": {},
   "outputs": [
    {
     "name": "stdout",
     "output_type": "stream",
     "text": [
      "<class 'pandas.core.frame.DataFrame'>\n",
      "RangeIndex: 70 entries, 0 to 69\n",
      "Data columns (total 8 columns):\n",
      " #   Column       Non-Null Count  Dtype  \n",
      "---  ------       --------------  -----  \n",
      " 0   train_size   70 non-null     int64  \n",
      " 1   y_true       70 non-null     object \n",
      " 2   y_pred       70 non-null     object \n",
      " 3   accuracy     70 non-null     float64\n",
      " 4   f1_macro     70 non-null     float64\n",
      " 5   f1_micro     70 non-null     float64\n",
      " 6   f1_weighted  70 non-null     float64\n",
      " 7   kappa        70 non-null     float64\n",
      "dtypes: float64(5), int64(1), object(2)\n",
      "memory usage: 4.5+ KB\n"
     ]
    }
   ],
   "source": [
    "df = pd.read_csv(\"RF_results_sensorStability_2bins_3763.csv\", sep=',')\n",
    "df.info()"
   ]
  },
  {
   "cell_type": "code",
   "execution_count": 57,
   "metadata": {},
   "outputs": [
    {
     "data": {
      "text/html": [
       "<div>\n",
       "<style scoped>\n",
       "    .dataframe tbody tr th:only-of-type {\n",
       "        vertical-align: middle;\n",
       "    }\n",
       "\n",
       "    .dataframe tbody tr th {\n",
       "        vertical-align: top;\n",
       "    }\n",
       "\n",
       "    .dataframe thead th {\n",
       "        text-align: right;\n",
       "    }\n",
       "</style>\n",
       "<table border=\"1\" class=\"dataframe\">\n",
       "  <thead>\n",
       "    <tr style=\"text-align: right;\">\n",
       "      <th></th>\n",
       "      <th>train_size</th>\n",
       "      <th>y_true</th>\n",
       "      <th>y_pred</th>\n",
       "      <th>accuracy</th>\n",
       "      <th>f1_macro</th>\n",
       "      <th>f1_micro</th>\n",
       "      <th>f1_weighted</th>\n",
       "      <th>kappa</th>\n",
       "    </tr>\n",
       "  </thead>\n",
       "  <tbody>\n",
       "    <tr>\n",
       "      <th>0</th>\n",
       "      <td>5</td>\n",
       "      <td>[1, 1, 1, 0, 1, 1, 0, 1, 1, 1, 0, 0, 1, 0]</td>\n",
       "      <td>[0, 1, 1, 0, 0, 1, 1, 1, 0, 1, 1, 1, 0, 1]</td>\n",
       "      <td>0.428571</td>\n",
       "      <td>0.377778</td>\n",
       "      <td>0.428571</td>\n",
       "      <td>0.428571</td>\n",
       "      <td>-0.244444</td>\n",
       "    </tr>\n",
       "    <tr>\n",
       "      <th>1</th>\n",
       "      <td>5</td>\n",
       "      <td>[1, 0, 0, 1, 1, 0, 1, 1, 1, 1, 0, 1, 0, 1]</td>\n",
       "      <td>[1, 1, 1, 0, 1, 1, 1, 1, 0, 1, 0, 0, 1, 1]</td>\n",
       "      <td>0.500000</td>\n",
       "      <td>0.426901</td>\n",
       "      <td>0.500000</td>\n",
       "      <td>0.485380</td>\n",
       "      <td>-0.139535</td>\n",
       "    </tr>\n",
       "    <tr>\n",
       "      <th>2</th>\n",
       "      <td>5</td>\n",
       "      <td>[1, 1, 1, 1, 1, 0, 1, 0, 0, 0, 1, 0, 1, 1]</td>\n",
       "      <td>[1, 0, 1, 1, 1, 0, 0, 1, 1, 0, 1, 0, 0, 0]</td>\n",
       "      <td>0.571429</td>\n",
       "      <td>0.562500</td>\n",
       "      <td>0.571429</td>\n",
       "      <td>0.580357</td>\n",
       "      <td>0.142857</td>\n",
       "    </tr>\n",
       "  </tbody>\n",
       "</table>\n",
       "</div>"
      ],
      "text/plain": [
       "   train_size                                      y_true  \\\n",
       "0           5  [1, 1, 1, 0, 1, 1, 0, 1, 1, 1, 0, 0, 1, 0]   \n",
       "1           5  [1, 0, 0, 1, 1, 0, 1, 1, 1, 1, 0, 1, 0, 1]   \n",
       "2           5  [1, 1, 1, 1, 1, 0, 1, 0, 0, 0, 1, 0, 1, 1]   \n",
       "\n",
       "                                       y_pred  accuracy  f1_macro  f1_micro  \\\n",
       "0  [0, 1, 1, 0, 0, 1, 1, 1, 0, 1, 1, 1, 0, 1]  0.428571  0.377778  0.428571   \n",
       "1  [1, 1, 1, 0, 1, 1, 1, 1, 0, 1, 0, 0, 1, 1]  0.500000  0.426901  0.500000   \n",
       "2  [1, 0, 1, 1, 1, 0, 0, 1, 1, 0, 1, 0, 0, 0]  0.571429  0.562500  0.571429   \n",
       "\n",
       "   f1_weighted     kappa  \n",
       "0     0.428571 -0.244444  \n",
       "1     0.485380 -0.139535  \n",
       "2     0.580357  0.142857  "
      ]
     },
     "execution_count": 57,
     "metadata": {},
     "output_type": "execute_result"
    }
   ],
   "source": [
    "df.head(3)"
   ]
  },
  {
   "cell_type": "code",
   "execution_count": 58,
   "metadata": {},
   "outputs": [
    {
     "data": {
      "text/html": [
       "<div>\n",
       "<style scoped>\n",
       "    .dataframe tbody tr th:only-of-type {\n",
       "        vertical-align: middle;\n",
       "    }\n",
       "\n",
       "    .dataframe tbody tr th {\n",
       "        vertical-align: top;\n",
       "    }\n",
       "\n",
       "    .dataframe thead tr th {\n",
       "        text-align: left;\n",
       "    }\n",
       "\n",
       "    .dataframe thead tr:last-of-type th {\n",
       "        text-align: right;\n",
       "    }\n",
       "</style>\n",
       "<table border=\"1\" class=\"dataframe\">\n",
       "  <thead>\n",
       "    <tr>\n",
       "      <th></th>\n",
       "      <th colspan=\"2\" halign=\"left\">accuracy</th>\n",
       "      <th colspan=\"2\" halign=\"left\">f1_macro</th>\n",
       "      <th colspan=\"2\" halign=\"left\">f1_micro</th>\n",
       "      <th colspan=\"2\" halign=\"left\">f1_weighted</th>\n",
       "      <th colspan=\"2\" halign=\"left\">kappa</th>\n",
       "    </tr>\n",
       "    <tr>\n",
       "      <th></th>\n",
       "      <th>mean</th>\n",
       "      <th>sem</th>\n",
       "      <th>mean</th>\n",
       "      <th>sem</th>\n",
       "      <th>mean</th>\n",
       "      <th>sem</th>\n",
       "      <th>mean</th>\n",
       "      <th>sem</th>\n",
       "      <th>mean</th>\n",
       "      <th>sem</th>\n",
       "    </tr>\n",
       "    <tr>\n",
       "      <th>train_size</th>\n",
       "      <th></th>\n",
       "      <th></th>\n",
       "      <th></th>\n",
       "      <th></th>\n",
       "      <th></th>\n",
       "      <th></th>\n",
       "      <th></th>\n",
       "      <th></th>\n",
       "      <th></th>\n",
       "      <th></th>\n",
       "    </tr>\n",
       "  </thead>\n",
       "  <tbody>\n",
       "    <tr>\n",
       "      <th>5</th>\n",
       "      <td>0.585714</td>\n",
       "      <td>0.038095</td>\n",
       "      <td>0.546912</td>\n",
       "      <td>0.035899</td>\n",
       "      <td>0.585714</td>\n",
       "      <td>0.038095</td>\n",
       "      <td>0.582093</td>\n",
       "      <td>0.034689</td>\n",
       "      <td>0.106169</td>\n",
       "      <td>0.075027</td>\n",
       "    </tr>\n",
       "    <tr>\n",
       "      <th>8</th>\n",
       "      <td>0.672727</td>\n",
       "      <td>0.033744</td>\n",
       "      <td>0.620046</td>\n",
       "      <td>0.032656</td>\n",
       "      <td>0.672727</td>\n",
       "      <td>0.033744</td>\n",
       "      <td>0.653564</td>\n",
       "      <td>0.033953</td>\n",
       "      <td>0.269327</td>\n",
       "      <td>0.058610</td>\n",
       "    </tr>\n",
       "    <tr>\n",
       "      <th>10</th>\n",
       "      <td>0.677778</td>\n",
       "      <td>0.030765</td>\n",
       "      <td>0.604111</td>\n",
       "      <td>0.042600</td>\n",
       "      <td>0.677778</td>\n",
       "      <td>0.030765</td>\n",
       "      <td>0.659767</td>\n",
       "      <td>0.034812</td>\n",
       "      <td>0.224406</td>\n",
       "      <td>0.079952</td>\n",
       "    </tr>\n",
       "    <tr>\n",
       "      <th>12</th>\n",
       "      <td>0.671429</td>\n",
       "      <td>0.037192</td>\n",
       "      <td>0.619419</td>\n",
       "      <td>0.047856</td>\n",
       "      <td>0.671429</td>\n",
       "      <td>0.037192</td>\n",
       "      <td>0.638384</td>\n",
       "      <td>0.044398</td>\n",
       "      <td>0.288307</td>\n",
       "      <td>0.081987</td>\n",
       "    </tr>\n",
       "    <tr>\n",
       "      <th>13</th>\n",
       "      <td>0.716667</td>\n",
       "      <td>0.025459</td>\n",
       "      <td>0.653413</td>\n",
       "      <td>0.038104</td>\n",
       "      <td>0.716667</td>\n",
       "      <td>0.025459</td>\n",
       "      <td>0.700106</td>\n",
       "      <td>0.029792</td>\n",
       "      <td>0.330952</td>\n",
       "      <td>0.064740</td>\n",
       "    </tr>\n",
       "    <tr>\n",
       "      <th>14</th>\n",
       "      <td>0.740000</td>\n",
       "      <td>0.042687</td>\n",
       "      <td>0.693452</td>\n",
       "      <td>0.053249</td>\n",
       "      <td>0.740000</td>\n",
       "      <td>0.042687</td>\n",
       "      <td>0.715476</td>\n",
       "      <td>0.048634</td>\n",
       "      <td>0.422727</td>\n",
       "      <td>0.093331</td>\n",
       "    </tr>\n",
       "    <tr>\n",
       "      <th>15</th>\n",
       "      <td>0.750000</td>\n",
       "      <td>0.083333</td>\n",
       "      <td>0.676190</td>\n",
       "      <td>0.102692</td>\n",
       "      <td>0.750000</td>\n",
       "      <td>0.083333</td>\n",
       "      <td>0.747619</td>\n",
       "      <td>0.080931</td>\n",
       "      <td>0.383333</td>\n",
       "      <td>0.197281</td>\n",
       "    </tr>\n",
       "  </tbody>\n",
       "</table>\n",
       "</div>"
      ],
      "text/plain": [
       "            accuracy            f1_macro            f1_micro            \\\n",
       "                mean       sem      mean       sem      mean       sem   \n",
       "train_size                                                               \n",
       "5           0.585714  0.038095  0.546912  0.035899  0.585714  0.038095   \n",
       "8           0.672727  0.033744  0.620046  0.032656  0.672727  0.033744   \n",
       "10          0.677778  0.030765  0.604111  0.042600  0.677778  0.030765   \n",
       "12          0.671429  0.037192  0.619419  0.047856  0.671429  0.037192   \n",
       "13          0.716667  0.025459  0.653413  0.038104  0.716667  0.025459   \n",
       "14          0.740000  0.042687  0.693452  0.053249  0.740000  0.042687   \n",
       "15          0.750000  0.083333  0.676190  0.102692  0.750000  0.083333   \n",
       "\n",
       "           f1_weighted               kappa            \n",
       "                  mean       sem      mean       sem  \n",
       "train_size                                            \n",
       "5             0.582093  0.034689  0.106169  0.075027  \n",
       "8             0.653564  0.033953  0.269327  0.058610  \n",
       "10            0.659767  0.034812  0.224406  0.079952  \n",
       "12            0.638384  0.044398  0.288307  0.081987  \n",
       "13            0.700106  0.029792  0.330952  0.064740  \n",
       "14            0.715476  0.048634  0.422727  0.093331  \n",
       "15            0.747619  0.080931  0.383333  0.197281  "
      ]
     },
     "execution_count": 58,
     "metadata": {},
     "output_type": "execute_result"
    }
   ],
   "source": [
    "grouped_res = df.select_dtypes(include = [\"int\", \"float\"]).groupby(['train_size']).agg(['mean', 'sem'])\n",
    "grouped_res"
   ]
  },
  {
   "cell_type": "code",
   "execution_count": 59,
   "metadata": {},
   "outputs": [],
   "source": [
    "conf_mats = []\n",
    "for i in np.arange(len(df)):\n",
    "    confusion_matrix = {\n",
    "        'all_y_true': literal_eval(df[\"y_true\"][i]),\n",
    "        'all_y_pred': literal_eval(df[\"y_pred\"][i])\n",
    "    }\n",
    "    conf_mats.append(confusion_matrix)"
   ]
  },
  {
   "cell_type": "code",
   "execution_count": 60,
   "metadata": {},
   "outputs": [
    {
     "name": "stdout",
     "output_type": "stream",
     "text": [
      "[[0.6 0.4]\n",
      " [0.2 0.8]]\n",
      "accuracy: 0.75\n"
     ]
    },
    {
     "data": {
      "image/png": "[encoded data removed]",
      "text/plain": [
       "<Figure size 330x250 with 2 Axes>"
      ]
     },
     "metadata": {},
     "output_type": "display_data"
    }
   ],
   "source": [
    "index_maxsize = compiled_res[compiled_res[\"train_size\"]==max(compiled_res[\"train_size\"])].index\n",
    "conf_mats_max = [conf_mats[i] for i in index_maxsize]\n",
    "\n",
    "actual_all, predicted_all = [], []\n",
    "for index, _ in enumerate(conf_mats_max):\n",
    "    preds = conf_mats_max[index]\n",
    "    actual = preds[\"all_y_true\"]\n",
    "    predicted = preds[\"all_y_pred\"]\n",
    "    \n",
    "    for true, pred in zip(actual, predicted):\n",
    "        actual_all.append(true)\n",
    "        predicted_all.append(pred)\n",
    "\n",
    "confusion_matrix = metrics.confusion_matrix(actual_all, predicted_all)\n",
    "confusion_matrix_norm = confusion_matrix.astype(\"float\") / confusion_matrix.sum(axis=1)[:, np.newaxis]\n",
    "print(confusion_matrix_norm)\n",
    "\n",
    "cm = pycm.ConfusionMatrix(list(actual_all), list(predicted_all))\n",
    "acc = cm.Overall_ACC\n",
    "\n",
    "print(f'accuracy: {acc}')\n",
    "\n",
    "cm_display = metrics.ConfusionMatrixDisplay(\n",
    "    confusion_matrix = confusion_matrix_norm, display_labels = [0, 1])\n",
    "cm_display.plot(cmap=plt.cm.Blues, include_values=True, values_format=\".2f\")\n",
    "#plt.savefig('classif_sensorStability_confusionMatrix_37_63_120ep_size15_RF.pdf', bbox_inches='tight')"
   ]
  },
  {
   "cell_type": "code",
   "execution_count": null,
   "metadata": {},
   "outputs": [],
   "source": []
  },
  {
   "cell_type": "code",
   "execution_count": null,
   "metadata": {},
   "outputs": [],
   "source": []
  },
  {
   "cell_type": "code",
   "execution_count": null,
   "metadata": {},
   "outputs": [],
   "source": []
  }
 ],
 "metadata": {
  "kernelspec": {
   "display_name": "Python [conda env:debyecalculator_env]",
   "language": "python",
   "name": "conda-env-debyecalculator_env-py"
  },
  "language_info": {
   "codemirror_mode": {
    "name": "ipython",
    "version": 3
   },
   "file_extension": ".py",
   "mimetype": "text/x-python",
   "name": "python",
   "nbconvert_exporter": "python",
   "pygments_lexer": "ipython3",
   "version": "3.9.19"
  }
 },
 "nbformat": 4,
 "nbformat_minor": 2
}
