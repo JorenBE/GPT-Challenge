{
 "cells": [
  {
   "cell_type": "markdown",
   "metadata": {},
   "source": [
    "## Random Forest - GASIF H2/CO - 2bins - 70/30"
   ]
  },
  {
   "cell_type": "code",
   "execution_count": 1,
   "metadata": {},
   "outputs": [],
   "source": [
    "import pandas as pd\n",
    "import numpy as np\n",
    "from sklearn.model_selection import train_test_split\n",
    "from sklearn.metrics import accuracy_score, f1_score, cohen_kappa_score, r2_score, mean_absolute_error, root_mean_squared_error\n",
    "from sklearn.ensemble import RandomForestClassifier\n",
    "import matplotlib.pyplot as plt\n",
    "from sklearn import metrics\n",
    "import pycm\n",
    "from ast import literal_eval\n",
    "import sys\n",
    "sys.path.append(\"../plotutils/\")\n",
    "from plotutils import *\n",
    "plt.style.use(\"../plotutils/your.mplstyle\")"
   ]
  },
  {
   "cell_type": "code",
   "execution_count": 2,
   "metadata": {
    "scrolled": true
   },
   "outputs": [
    {
     "name": "stdout",
     "output_type": "stream",
     "text": [
      "<class 'pandas.core.frame.DataFrame'>\n",
      "RangeIndex: 50 entries, 0 to 49\n",
      "Data columns (total 13 columns):\n",
      " #   Column           Non-Null Count  Dtype  \n",
      "---  ------           --------------  -----  \n",
      " 0   BIOMASS_name     50 non-null     object \n",
      " 1   HHVbiom (MJ/kg)  50 non-null     float64\n",
      " 2   C (%)            50 non-null     float64\n",
      " 3   H (%)            50 non-null     float64\n",
      " 4   O (%)            50 non-null     float64\n",
      " 5   ash (%)          50 non-null     float64\n",
      " 6   VM (%)           50 non-null     float64\n",
      " 7   FC (%)           50 non-null     float64\n",
      " 8   MC (%)           50 non-null     float64\n",
      " 9   H2_CO            50 non-null     float64\n",
      " 10  H2CO_2bins_5050  50 non-null     int64  \n",
      " 11  H2CO_7030        50 non-null     int64  \n",
      " 12  name_all_prop    50 non-null     object \n",
      "dtypes: float64(9), int64(2), object(2)\n",
      "memory usage: 5.2+ KB\n"
     ]
    }
   ],
   "source": [
    "df = pd.read_csv(f\"../GasificationBiomass_dataset.csv\", sep=';')\n",
    "df.info()"
   ]
  },
  {
   "cell_type": "code",
   "execution_count": 3,
   "metadata": {},
   "outputs": [],
   "source": [
    "def prepare_dataset_classification(\n",
    "    df,\n",
    "    target = \"H2CO_7030\",\n",
    "    representation = list(df.iloc[:,2:10].columns),\n",
    "    random_state=42,\n",
    "    train_size=30\n",
    "):\n",
    "    df_train, df_test = train_test_split(\n",
    "        df,\n",
    "        train_size=train_size,\n",
    "        random_state=random_state,\n",
    "        stratify=df[target].astype(int).values,\n",
    "    )\n",
    "    print(len(df_train), len(df_test))\n",
    "    \n",
    "    X_train, y_train = df_train[representation], df_train[target]\n",
    "    X_test, y_test = df_test[representation], df_test[target]\n",
    "    \n",
    "    return X_train, y_train, X_test, y_test"
   ]
  },
  {
   "cell_type": "code",
   "execution_count": 4,
   "metadata": {},
   "outputs": [],
   "source": [
    "def train_and_evaluate_classifier(X_train, y_train, X_test, y_test, random_state=42):\n",
    "    clf = RandomForestClassifier(\n",
    "        n_estimators=200, \n",
    "        random_state=random_state,\n",
    "        verbose=True\n",
    "    )\n",
    "    \n",
    "    clf.fit(X_train, y_train)\n",
    "    \n",
    "    y_pred = clf.predict(X_test)\n",
    "    y_test = np.array(y_test)\n",
    "    \n",
    "    acc = accuracy_score(y_test, y_pred)\n",
    "    f1_macro = f1_score(y_test, y_pred, average=\"macro\")\n",
    "    f1_micro = f1_score(y_test, y_pred, average=\"micro\")\n",
    "    f1_weighted = f1_score(y_test, y_pred, average='weighted')\n",
    "    kappa = cohen_kappa_score(y_test, y_pred)\n",
    "    \n",
    "    return y_test, y_pred, acc, f1_macro, f1_micro, f1_weighted, kappa"
   ]
  },
  {
   "cell_type": "code",
   "execution_count": 5,
   "metadata": {},
   "outputs": [],
   "source": [
    "def metrics_dict():\n",
    "    metrics_dict = {\n",
    "        \"train_size\": train_size,\n",
    "        \"y_true\": y_test_all,\n",
    "        \"y_pred\": y_pred_all,\n",
    "        \"accuracy\": acc_scores,\n",
    "        \"f1_macro\": f1macro_scores,\n",
    "        \"f1_micro\": f1micro_scores,\n",
    "        \"f1_weighted\": f1weighted_scores,\n",
    "        \"kappa\": kappa_scores\n",
    "    }\n",
    "    return metrics_dict"
   ]
  },
  {
   "cell_type": "markdown",
   "metadata": {},
   "source": [
    "### training size = 5"
   ]
  },
  {
   "cell_type": "code",
   "execution_count": 6,
   "metadata": {},
   "outputs": [],
   "source": [
    "train_size = 5\n",
    "iterations = 10\n",
    "y_test_all = []\n",
    "y_pred_all = []\n",
    "acc_scores = []\n",
    "f1macro_scores = []\n",
    "f1micro_scores = []\n",
    "f1weighted_scores = []\n",
    "kappa_scores = []"
   ]
  },
  {
   "cell_type": "code",
   "execution_count": 7,
   "metadata": {
    "scrolled": true
   },
   "outputs": [
    {
     "name": "stdout",
     "output_type": "stream",
     "text": [
      "-------------Iteration 1/10\n",
      "5 45\n",
      "random_state = 42\n",
      "Accuracy: 0.6444444444444445\n",
      "F1 macro: 0.5187165775401069\n",
      "F1 micro: 0.6444444444444445\n",
      "F1 weighted: 0.6225787284610814\n",
      "Kappa: 0.04761904761904767\n",
      "-------------Iteration 2/10\n",
      "5 45\n",
      "random_state = 43\n"
     ]
    },
    {
     "name": "stderr",
     "output_type": "stream",
     "text": [
      "[Parallel(n_jobs=1)]: Done  49 tasks      | elapsed:    0.0s\n",
      "[Parallel(n_jobs=1)]: Done 199 tasks      | elapsed:    0.1s\n",
      "[Parallel(n_jobs=1)]: Done  49 tasks      | elapsed:    0.0s\n",
      "[Parallel(n_jobs=1)]: Done 199 tasks      | elapsed:    0.0s\n",
      "[Parallel(n_jobs=1)]: Done  49 tasks      | elapsed:    0.0s\n",
      "[Parallel(n_jobs=1)]: Done 199 tasks      | elapsed:    0.1s\n",
      "[Parallel(n_jobs=1)]: Done  49 tasks      | elapsed:    0.0s\n",
      "[Parallel(n_jobs=1)]: Done 199 tasks      | elapsed:    0.0s\n",
      "[Parallel(n_jobs=1)]: Done  49 tasks      | elapsed:    0.0s\n"
     ]
    },
    {
     "name": "stdout",
     "output_type": "stream",
     "text": [
      "Accuracy: 0.7333333333333333\n",
      "F1 macro: 0.6590909090909092\n",
      "F1 micro: 0.7333333333333333\n",
      "F1 weighted: 0.7262626262626264\n",
      "Kappa: 0.3198992443324937\n",
      "-------------Iteration 3/10\n",
      "5 45\n",
      "random_state = 44\n"
     ]
    },
    {
     "name": "stderr",
     "output_type": "stream",
     "text": [
      "[Parallel(n_jobs=1)]: Done 199 tasks      | elapsed:    0.1s\n",
      "[Parallel(n_jobs=1)]: Done  49 tasks      | elapsed:    0.0s\n",
      "[Parallel(n_jobs=1)]: Done 199 tasks      | elapsed:    0.0s\n",
      "[Parallel(n_jobs=1)]: Done  49 tasks      | elapsed:    0.0s\n",
      "[Parallel(n_jobs=1)]: Done 199 tasks      | elapsed:    0.1s\n",
      "[Parallel(n_jobs=1)]: Done  49 tasks      | elapsed:    0.0s\n",
      "[Parallel(n_jobs=1)]: Done 199 tasks      | elapsed:    0.0s\n"
     ]
    },
    {
     "name": "stdout",
     "output_type": "stream",
     "text": [
      "Accuracy: 0.6666666666666666\n",
      "F1 macro: 0.6031746031746031\n",
      "F1 micro: 0.6666666666666666\n",
      "F1 weighted: 0.6701940035273368\n",
      "Kappa: 0.2068155111633373\n",
      "-------------Iteration 4/10\n",
      "5 45\n",
      "random_state = 45\n",
      "Accuracy: 0.6888888888888889\n",
      "F1 macro: 0.40789473684210525\n",
      "F1 micro: 0.6888888888888889\n",
      "F1 weighted: 0.5619883040935673\n",
      "Kappa: 0.0\n",
      "-------------Iteration 5/10\n",
      "5 45\n",
      "random_state = 46\n"
     ]
    },
    {
     "name": "stderr",
     "output_type": "stream",
     "text": [
      "[Parallel(n_jobs=1)]: Done  49 tasks      | elapsed:    0.0s\n",
      "[Parallel(n_jobs=1)]: Done 199 tasks      | elapsed:    0.1s\n",
      "[Parallel(n_jobs=1)]: Done  49 tasks      | elapsed:    0.0s\n",
      "[Parallel(n_jobs=1)]: Done 199 tasks      | elapsed:    0.0s\n",
      "[Parallel(n_jobs=1)]: Done  49 tasks      | elapsed:    0.0s\n"
     ]
    },
    {
     "name": "stdout",
     "output_type": "stream",
     "text": [
      "Accuracy: 0.7333333333333333\n",
      "F1 macro: 0.5833333333333334\n",
      "F1 micro: 0.7333333333333333\n",
      "F1 weighted: 0.6777777777777778\n",
      "Kappa: 0.22636103151862474\n",
      "-------------Iteration 6/10\n",
      "5 45\n",
      "random_state = 47\n",
      "Accuracy: 0.6666666666666666\n",
      "F1 macro: 0.45608380338436744\n",
      "F1 micro: 0.6666666666666666\n",
      "F1 weighted: 0.5839376846629063\n",
      "Kappa: 0.008810572687224627\n",
      "-------------Iteration 7/10\n",
      "5 45\n",
      "random_state = 48\n"
     ]
    },
    {
     "name": "stderr",
     "output_type": "stream",
     "text": [
      "[Parallel(n_jobs=1)]: Done 199 tasks      | elapsed:    0.1s\n",
      "[Parallel(n_jobs=1)]: Done  49 tasks      | elapsed:    0.0s\n",
      "[Parallel(n_jobs=1)]: Done 199 tasks      | elapsed:    0.0s\n",
      "[Parallel(n_jobs=1)]: Done  49 tasks      | elapsed:    0.0s\n",
      "[Parallel(n_jobs=1)]: Done 199 tasks      | elapsed:    0.1s\n",
      "[Parallel(n_jobs=1)]: Done  49 tasks      | elapsed:    0.0s\n",
      "[Parallel(n_jobs=1)]: Done 199 tasks      | elapsed:    0.0s\n"
     ]
    },
    {
     "name": "stdout",
     "output_type": "stream",
     "text": [
      "Accuracy: 0.6222222222222222\n",
      "F1 macro: 0.6098929117797043\n",
      "F1 micro: 0.6222222222222222\n",
      "F1 weighted: 0.6391750240806845\n",
      "Kappa: 0.26512968299711814\n",
      "-------------Iteration 8/10\n",
      "5 45\n",
      "random_state = 49\n",
      "Accuracy: 0.6666666666666666\n",
      "F1 macro: 0.4996293550778354\n",
      "F1 micro: 0.6666666666666666\n",
      "F1 weighted: 0.621695082777366\n",
      "Kappa: 0.03433476394849799\n",
      "-------------Iteration 9/10\n",
      "5 45\n",
      "random_state = 50\n"
     ]
    },
    {
     "name": "stderr",
     "output_type": "stream",
     "text": [
      "[Parallel(n_jobs=1)]: Done  49 tasks      | elapsed:    0.0s\n",
      "[Parallel(n_jobs=1)]: Done 199 tasks      | elapsed:    0.1s\n",
      "[Parallel(n_jobs=1)]: Done  49 tasks      | elapsed:    0.0s\n",
      "[Parallel(n_jobs=1)]: Done 199 tasks      | elapsed:    0.0s\n",
      "[Parallel(n_jobs=1)]: Done  49 tasks      | elapsed:    0.0s\n",
      "[Parallel(n_jobs=1)]: Done 199 tasks      | elapsed:    0.1s\n",
      "[Parallel(n_jobs=1)]: Done  49 tasks      | elapsed:    0.0s\n",
      "[Parallel(n_jobs=1)]: Done 199 tasks      | elapsed:    0.0s\n",
      "[Parallel(n_jobs=1)]: Done  49 tasks      | elapsed:    0.0s\n"
     ]
    },
    {
     "name": "stdout",
     "output_type": "stream",
     "text": [
      "Accuracy: 0.6888888888888889\n",
      "F1 macro: 0.685\n",
      "F1 micro: 0.6888888888888889\n",
      "F1 weighted: 0.6997777777777778\n",
      "Kappa: 0.42622950819672123\n",
      "-------------Iteration 10/10\n",
      "5 45\n",
      "random_state = 51\n",
      "Accuracy: 0.7333333333333333\n",
      "F1 macro: 0.6142857142857143\n",
      "F1 micro: 0.7333333333333333\n",
      "F1 weighted: 0.7047619047619048\n",
      "Kappa: 0.24791086350974934\n"
     ]
    },
    {
     "name": "stderr",
     "output_type": "stream",
     "text": [
      "[Parallel(n_jobs=1)]: Done 199 tasks      | elapsed:    0.1s\n",
      "[Parallel(n_jobs=1)]: Done  49 tasks      | elapsed:    0.0s\n",
      "[Parallel(n_jobs=1)]: Done 199 tasks      | elapsed:    0.0s\n"
     ]
    }
   ],
   "source": [
    "for n in range(iterations):\n",
    "    print(f\"-------------Iteration {n + 1}/{iterations}\")\n",
    "    random_state=42+n\n",
    "\n",
    "    X_train, y_train, X_test, y_test = prepare_dataset_classification(\n",
    "        df,\n",
    "        random_state=random_state,\n",
    "        train_size=train_size\n",
    "    )\n",
    "    print(f\"random_state = {random_state}\")\n",
    "\n",
    "    y_test, y_pred, acc, f1_macro, f1_micro, f1_weighted, kappa = train_and_evaluate_classifier(\n",
    "        X_train, \n",
    "        y_train, \n",
    "        X_test, \n",
    "        y_test, \n",
    "        random_state=random_state\n",
    "    )\n",
    "    \n",
    "    y_test_all.append(y_test)\n",
    "    y_pred_all.append(y_pred)    \n",
    "    acc_scores.append(acc)\n",
    "    f1macro_scores.append(f1_macro)\n",
    "    f1micro_scores.append(f1_micro)\n",
    "    f1weighted_scores.append(f1_weighted)\n",
    "    kappa_scores.append(kappa)\n",
    "    print(f\"Accuracy: {acc}\")\n",
    "    print(f\"F1 macro: {f1_macro}\")\n",
    "    print(f\"F1 micro: {f1_micro}\")\n",
    "    print(f\"F1 weighted: {f1_weighted}\")\n",
    "    print(f\"Kappa: {kappa}\")"
   ]
  },
  {
   "cell_type": "code",
   "execution_count": 8,
   "metadata": {},
   "outputs": [
    {
     "name": "stdout",
     "output_type": "stream",
     "text": [
      "FINAL REPORT for training size = 5\n",
      "mean accuracy: 0.6844444444444445 +/- 0.03691832827963587\n",
      "mean F1 macro: 0.5637101944508679 +/- 0.08510852354414221\n",
      "mean F1 micro: 0.6844444444444445 +/- 0.03691832827963587\n",
      "mean F1 weighted: 0.650814891418303 +/- 0.05123085639932763\n",
      "mean Kappa: 0.17831102259728146 +/- 0.13976712975091404\n"
     ]
    }
   ],
   "source": [
    "print(f\"FINAL REPORT for training size = {train_size}\")\n",
    "\n",
    "print(f\"mean accuracy: {np.mean(acc_scores)} +/- {np.std(acc_scores)}\")\n",
    "print(f\"mean F1 macro: {np.mean(f1macro_scores)} +/- {np.std(f1macro_scores)}\")\n",
    "print(f\"mean F1 micro: {np.mean(f1micro_scores)} +/- {np.std(f1micro_scores)}\")\n",
    "print(f\"mean F1 weighted: {np.mean(f1weighted_scores)} +/- {np.std(f1weighted_scores)}\")\n",
    "print(f\"mean Kappa: {np.mean(kappa_scores)} +/- {np.std(kappa_scores)}\")"
   ]
  },
  {
   "cell_type": "code",
   "execution_count": 9,
   "metadata": {},
   "outputs": [
    {
     "data": {
      "text/html": [
       "<div>\n",
       "<style scoped>\n",
       "    .dataframe tbody tr th:only-of-type {\n",
       "        vertical-align: middle;\n",
       "    }\n",
       "\n",
       "    .dataframe tbody tr th {\n",
       "        vertical-align: top;\n",
       "    }\n",
       "\n",
       "    .dataframe thead th {\n",
       "        text-align: right;\n",
       "    }\n",
       "</style>\n",
       "<table border=\"1\" class=\"dataframe\">\n",
       "  <thead>\n",
       "    <tr style=\"text-align: right;\">\n",
       "      <th></th>\n",
       "      <th>train_size</th>\n",
       "      <th>y_true</th>\n",
       "      <th>y_pred</th>\n",
       "      <th>accuracy</th>\n",
       "      <th>f1_macro</th>\n",
       "      <th>f1_micro</th>\n",
       "      <th>f1_weighted</th>\n",
       "      <th>kappa</th>\n",
       "    </tr>\n",
       "  </thead>\n",
       "  <tbody>\n",
       "    <tr>\n",
       "      <th>0</th>\n",
       "      <td>5</td>\n",
       "      <td>[1, 0, 0, 1, 0, 0, 1, 1, 0, 1, 0, 1, 0, 0, 0, ...</td>\n",
       "      <td>[0, 0, 0, 0, 1, 0, 1, 1, 0, 0, 0, 0, 0, 0, 0, ...</td>\n",
       "      <td>0.644444</td>\n",
       "      <td>0.518717</td>\n",
       "      <td>0.644444</td>\n",
       "      <td>0.622579</td>\n",
       "      <td>0.047619</td>\n",
       "    </tr>\n",
       "    <tr>\n",
       "      <th>1</th>\n",
       "      <td>5</td>\n",
       "      <td>[0, 0, 0, 0, 0, 1, 0, 0, 1, 1, 0, 0, 1, 0, 0, ...</td>\n",
       "      <td>[0, 0, 0, 0, 0, 0, 0, 0, 1, 0, 0, 0, 0, 0, 0, ...</td>\n",
       "      <td>0.733333</td>\n",
       "      <td>0.659091</td>\n",
       "      <td>0.733333</td>\n",
       "      <td>0.726263</td>\n",
       "      <td>0.319899</td>\n",
       "    </tr>\n",
       "    <tr>\n",
       "      <th>2</th>\n",
       "      <td>5</td>\n",
       "      <td>[0, 0, 0, 0, 0, 0, 1, 0, 1, 0, 0, 0, 0, 0, 0, ...</td>\n",
       "      <td>[0, 0, 0, 1, 0, 0, 1, 0, 0, 0, 1, 0, 1, 0, 0, ...</td>\n",
       "      <td>0.666667</td>\n",
       "      <td>0.603175</td>\n",
       "      <td>0.666667</td>\n",
       "      <td>0.670194</td>\n",
       "      <td>0.206816</td>\n",
       "    </tr>\n",
       "  </tbody>\n",
       "</table>\n",
       "</div>"
      ],
      "text/plain": [
       "   train_size                                             y_true  \\\n",
       "0           5  [1, 0, 0, 1, 0, 0, 1, 1, 0, 1, 0, 1, 0, 0, 0, ...   \n",
       "1           5  [0, 0, 0, 0, 0, 1, 0, 0, 1, 1, 0, 0, 1, 0, 0, ...   \n",
       "2           5  [0, 0, 0, 0, 0, 0, 1, 0, 1, 0, 0, 0, 0, 0, 0, ...   \n",
       "\n",
       "                                              y_pred  accuracy  f1_macro  \\\n",
       "0  [0, 0, 0, 0, 1, 0, 1, 1, 0, 0, 0, 0, 0, 0, 0, ...  0.644444  0.518717   \n",
       "1  [0, 0, 0, 0, 0, 0, 0, 0, 1, 0, 0, 0, 0, 0, 0, ...  0.733333  0.659091   \n",
       "2  [0, 0, 0, 1, 0, 0, 1, 0, 0, 0, 1, 0, 1, 0, 0, ...  0.666667  0.603175   \n",
       "\n",
       "   f1_micro  f1_weighted     kappa  \n",
       "0  0.644444     0.622579  0.047619  \n",
       "1  0.733333     0.726263  0.319899  \n",
       "2  0.666667     0.670194  0.206816  "
      ]
     },
     "execution_count": 9,
     "metadata": {},
     "output_type": "execute_result"
    }
   ],
   "source": [
    "compiled_res_5 = pd.DataFrame(metrics_dict())\n",
    "compiled_res_5.head(3)"
   ]
  },
  {
   "cell_type": "markdown",
   "metadata": {},
   "source": [
    "### training size = 10"
   ]
  },
  {
   "cell_type": "code",
   "execution_count": 10,
   "metadata": {},
   "outputs": [],
   "source": [
    "train_size = 10\n",
    "iterations = 10\n",
    "y_test_all = []\n",
    "y_pred_all = []\n",
    "acc_scores = []\n",
    "f1macro_scores = []\n",
    "f1micro_scores = []\n",
    "f1weighted_scores = []\n",
    "kappa_scores = []"
   ]
  },
  {
   "cell_type": "code",
   "execution_count": 11,
   "metadata": {
    "scrolled": true
   },
   "outputs": [
    {
     "name": "stdout",
     "output_type": "stream",
     "text": [
      "-------------Iteration 1/10\n",
      "10 40\n",
      "random_state = 42\n",
      "Accuracy: 0.825\n",
      "F1 macro: 0.7584124245038826\n",
      "F1 micro: 0.825\n",
      "F1 weighted: 0.8091458153580673\n",
      "Kappa: 0.527027027027027\n",
      "-------------Iteration 2/10\n",
      "10 40\n",
      "random_state = 43\n"
     ]
    },
    {
     "name": "stderr",
     "output_type": "stream",
     "text": [
      "[Parallel(n_jobs=1)]: Done  49 tasks      | elapsed:    0.0s\n",
      "[Parallel(n_jobs=1)]: Done 199 tasks      | elapsed:    0.1s\n",
      "[Parallel(n_jobs=1)]: Done  49 tasks      | elapsed:    0.0s\n",
      "[Parallel(n_jobs=1)]: Done 199 tasks      | elapsed:    0.0s\n",
      "[Parallel(n_jobs=1)]: Done  49 tasks      | elapsed:    0.0s\n",
      "[Parallel(n_jobs=1)]: Done 199 tasks      | elapsed:    0.1s\n",
      "[Parallel(n_jobs=1)]: Done  49 tasks      | elapsed:    0.0s\n",
      "[Parallel(n_jobs=1)]: Done 199 tasks      | elapsed:    0.0s\n",
      "[Parallel(n_jobs=1)]: Done  49 tasks      | elapsed:    0.0s\n"
     ]
    },
    {
     "name": "stdout",
     "output_type": "stream",
     "text": [
      "Accuracy: 0.75\n",
      "F1 macro: 0.6865203761755485\n",
      "F1 micro: 0.75\n",
      "F1 weighted: 0.7429467084639498\n",
      "Kappa: 0.375\n",
      "-------------Iteration 3/10\n",
      "10 40\n",
      "random_state = 44\n",
      "Accuracy: 0.675\n",
      "F1 macro: 0.6033562166285278\n",
      "F1 micro: 0.675\n",
      "F1 weighted: 0.670785659801678\n",
      "Kappa: 0.20731707317073167\n",
      "-------------Iteration 4/10\n",
      "10 40\n",
      "random_state = 45\n"
     ]
    },
    {
     "name": "stderr",
     "output_type": "stream",
     "text": [
      "[Parallel(n_jobs=1)]: Done 199 tasks      | elapsed:    0.1s\n",
      "[Parallel(n_jobs=1)]: Done  49 tasks      | elapsed:    0.0s\n",
      "[Parallel(n_jobs=1)]: Done 199 tasks      | elapsed:    0.0s\n",
      "[Parallel(n_jobs=1)]: Done  49 tasks      | elapsed:    0.0s\n",
      "[Parallel(n_jobs=1)]: Done 199 tasks      | elapsed:    0.1s\n",
      "[Parallel(n_jobs=1)]: Done  49 tasks      | elapsed:    0.0s\n",
      "[Parallel(n_jobs=1)]: Done 199 tasks      | elapsed:    0.0s\n"
     ]
    },
    {
     "name": "stdout",
     "output_type": "stream",
     "text": [
      "Accuracy: 0.8\n",
      "F1 macro: 0.7132616487455197\n",
      "F1 micro: 0.8\n",
      "F1 weighted: 0.7763440860215054\n",
      "Kappa: 0.4444444444444444\n",
      "-------------Iteration 5/10\n",
      "10 40\n",
      "random_state = 46\n",
      "Accuracy: 0.8\n",
      "F1 macro: 0.7619047619047619\n",
      "F1 micro: 0.8\n",
      "F1 weighted: 0.8\n",
      "Kappa: 0.5238095238095238\n",
      "-------------Iteration 6/10\n",
      "10 40\n",
      "random_state = 47\n"
     ]
    },
    {
     "name": "stderr",
     "output_type": "stream",
     "text": [
      "[Parallel(n_jobs=1)]: Done  49 tasks      | elapsed:    0.0s\n",
      "[Parallel(n_jobs=1)]: Done 199 tasks      | elapsed:    0.1s\n",
      "[Parallel(n_jobs=1)]: Done  49 tasks      | elapsed:    0.0s\n",
      "[Parallel(n_jobs=1)]: Done 199 tasks      | elapsed:    0.0s\n",
      "[Parallel(n_jobs=1)]: Done  49 tasks      | elapsed:    0.0s\n",
      "[Parallel(n_jobs=1)]: Done 199 tasks      | elapsed:    0.1s\n",
      "[Parallel(n_jobs=1)]: Done  49 tasks      | elapsed:    0.0s\n",
      "[Parallel(n_jobs=1)]: Done 199 tasks      | elapsed:    0.0s\n",
      "[Parallel(n_jobs=1)]: Done  49 tasks      | elapsed:    0.0s\n"
     ]
    },
    {
     "name": "stdout",
     "output_type": "stream",
     "text": [
      "Accuracy: 0.75\n",
      "F1 macro: 0.6865203761755485\n",
      "F1 micro: 0.75\n",
      "F1 weighted: 0.7429467084639498\n",
      "Kappa: 0.375\n",
      "-------------Iteration 7/10\n",
      "10 40\n",
      "random_state = 48\n"
     ]
    },
    {
     "name": "stderr",
     "output_type": "stream",
     "text": [
      "[Parallel(n_jobs=1)]: Done 199 tasks      | elapsed:    0.1s\n",
      "[Parallel(n_jobs=1)]: Done  49 tasks      | elapsed:    0.0s\n",
      "[Parallel(n_jobs=1)]: Done 199 tasks      | elapsed:    0.0s\n",
      "[Parallel(n_jobs=1)]: Done  49 tasks      | elapsed:    0.0s\n"
     ]
    },
    {
     "name": "stdout",
     "output_type": "stream",
     "text": [
      "Accuracy: 0.8\n",
      "F1 macro: 0.7492163009404389\n",
      "F1 micro: 0.8\n",
      "F1 weighted: 0.7943573667711599\n",
      "Kappa: 0.5\n",
      "-------------Iteration 8/10\n",
      "10 40\n",
      "random_state = 49\n"
     ]
    },
    {
     "name": "stderr",
     "output_type": "stream",
     "text": [
      "[Parallel(n_jobs=1)]: Done 199 tasks      | elapsed:    0.1s\n",
      "[Parallel(n_jobs=1)]: Done  49 tasks      | elapsed:    0.0s\n",
      "[Parallel(n_jobs=1)]: Done 199 tasks      | elapsed:    0.0s\n",
      "[Parallel(n_jobs=1)]: Done  49 tasks      | elapsed:    0.0s\n",
      "[Parallel(n_jobs=1)]: Done 199 tasks      | elapsed:    0.1s\n",
      "[Parallel(n_jobs=1)]: Done  49 tasks      | elapsed:    0.0s\n",
      "[Parallel(n_jobs=1)]: Done 199 tasks      | elapsed:    0.0s\n"
     ]
    },
    {
     "name": "stdout",
     "output_type": "stream",
     "text": [
      "Accuracy: 0.725\n",
      "F1 macro: 0.5891690009337068\n",
      "F1 micro: 0.725\n",
      "F1 weighted: 0.6836601307189543\n",
      "Kappa: 0.2142857142857143\n",
      "-------------Iteration 9/10\n",
      "10 40\n",
      "random_state = 50\n",
      "Accuracy: 0.75\n",
      "F1 macro: 0.6666666666666667\n",
      "F1 micro: 0.75\n",
      "F1 weighted: 0.7333333333333334\n",
      "Kappa: 0.3421052631578947\n",
      "-------------Iteration 10/10\n",
      "10 40\n",
      "random_state = 51\n",
      "Accuracy: 0.775\n",
      "F1 macro: 0.6893874029335634\n",
      "F1 micro: 0.775\n",
      "F1 weighted: 0.754616048317515\n",
      "Kappa: 0.3918918918918919\n"
     ]
    },
    {
     "name": "stderr",
     "output_type": "stream",
     "text": [
      "[Parallel(n_jobs=1)]: Done  49 tasks      | elapsed:    0.0s\n",
      "[Parallel(n_jobs=1)]: Done 199 tasks      | elapsed:    0.1s\n",
      "[Parallel(n_jobs=1)]: Done  49 tasks      | elapsed:    0.0s\n",
      "[Parallel(n_jobs=1)]: Done 199 tasks      | elapsed:    0.0s\n"
     ]
    }
   ],
   "source": [
    "for n in range(iterations):\n",
    "    print(f\"-------------Iteration {n + 1}/{iterations}\")\n",
    "    random_state=42+n\n",
    "\n",
    "    X_train, y_train, X_test, y_test = prepare_dataset_classification(\n",
    "        df,\n",
    "        random_state=random_state,\n",
    "        train_size=train_size\n",
    "    )\n",
    "    print(f\"random_state = {random_state}\")\n",
    "\n",
    "    y_test, y_pred, acc, f1_macro, f1_micro, f1_weighted, kappa = train_and_evaluate_classifier(\n",
    "        X_train, \n",
    "        y_train, \n",
    "        X_test, \n",
    "        y_test, \n",
    "        random_state=random_state\n",
    "    )\n",
    "    \n",
    "    y_test_all.append(y_test)\n",
    "    y_pred_all.append(y_pred)    \n",
    "    acc_scores.append(acc)\n",
    "    f1macro_scores.append(f1_macro)\n",
    "    f1micro_scores.append(f1_micro)\n",
    "    f1weighted_scores.append(f1_weighted)\n",
    "    kappa_scores.append(kappa)\n",
    "    print(f\"Accuracy: {acc}\")\n",
    "    print(f\"F1 macro: {f1_macro}\")\n",
    "    print(f\"F1 micro: {f1_micro}\")\n",
    "    print(f\"F1 weighted: {f1_weighted}\")\n",
    "    print(f\"Kappa: {kappa}\")"
   ]
  },
  {
   "cell_type": "code",
   "execution_count": 12,
   "metadata": {},
   "outputs": [
    {
     "name": "stdout",
     "output_type": "stream",
     "text": [
      "FINAL REPORT for training size = 10\n",
      "mean accuracy: 0.765 +/- 0.042130748865881786\n",
      "mean F1 macro: 0.6904415175608165 +/- 0.05669157846285675\n",
      "mean F1 micro: 0.765 +/- 0.042130748865881786\n",
      "mean F1 weighted: 0.7508135857250113 +/- 0.04441584017481264\n",
      "mean Kappa: 0.39008809377872283 +/- 0.10896860178731181\n"
     ]
    }
   ],
   "source": [
    "print(f\"FINAL REPORT for training size = {train_size}\")\n",
    "\n",
    "print(f\"mean accuracy: {np.mean(acc_scores)} +/- {np.std(acc_scores)}\")\n",
    "print(f\"mean F1 macro: {np.mean(f1macro_scores)} +/- {np.std(f1macro_scores)}\")\n",
    "print(f\"mean F1 micro: {np.mean(f1micro_scores)} +/- {np.std(f1micro_scores)}\")\n",
    "print(f\"mean F1 weighted: {np.mean(f1weighted_scores)} +/- {np.std(f1weighted_scores)}\")\n",
    "print(f\"mean Kappa: {np.mean(kappa_scores)} +/- {np.std(kappa_scores)}\")"
   ]
  },
  {
   "cell_type": "code",
   "execution_count": 13,
   "metadata": {},
   "outputs": [
    {
     "data": {
      "text/html": [
       "<div>\n",
       "<style scoped>\n",
       "    .dataframe tbody tr th:only-of-type {\n",
       "        vertical-align: middle;\n",
       "    }\n",
       "\n",
       "    .dataframe tbody tr th {\n",
       "        vertical-align: top;\n",
       "    }\n",
       "\n",
       "    .dataframe thead th {\n",
       "        text-align: right;\n",
       "    }\n",
       "</style>\n",
       "<table border=\"1\" class=\"dataframe\">\n",
       "  <thead>\n",
       "    <tr style=\"text-align: right;\">\n",
       "      <th></th>\n",
       "      <th>train_size</th>\n",
       "      <th>y_true</th>\n",
       "      <th>y_pred</th>\n",
       "      <th>accuracy</th>\n",
       "      <th>f1_macro</th>\n",
       "      <th>f1_micro</th>\n",
       "      <th>f1_weighted</th>\n",
       "      <th>kappa</th>\n",
       "    </tr>\n",
       "  </thead>\n",
       "  <tbody>\n",
       "    <tr>\n",
       "      <th>0</th>\n",
       "      <td>10</td>\n",
       "      <td>[0, 0, 0, 0, 0, 1, 0, 0, 0, 1, 0, 0, 1, 1, 0, ...</td>\n",
       "      <td>[0, 0, 0, 0, 0, 0, 1, 0, 0, 0, 0, 0, 0, 1, 0, ...</td>\n",
       "      <td>0.825</td>\n",
       "      <td>0.758412</td>\n",
       "      <td>0.825</td>\n",
       "      <td>0.809146</td>\n",
       "      <td>0.527027</td>\n",
       "    </tr>\n",
       "    <tr>\n",
       "      <th>1</th>\n",
       "      <td>10</td>\n",
       "      <td>[0, 0, 0, 0, 0, 1, 0, 0, 1, 1, 0, 0, 0, 1, 0, ...</td>\n",
       "      <td>[0, 0, 0, 0, 0, 1, 0, 0, 1, 0, 0, 0, 0, 1, 1, ...</td>\n",
       "      <td>0.750</td>\n",
       "      <td>0.686520</td>\n",
       "      <td>0.750</td>\n",
       "      <td>0.742947</td>\n",
       "      <td>0.375000</td>\n",
       "    </tr>\n",
       "    <tr>\n",
       "      <th>2</th>\n",
       "      <td>10</td>\n",
       "      <td>[1, 0, 0, 0, 0, 0, 1, 0, 1, 0, 0, 0, 0, 0, 0, ...</td>\n",
       "      <td>[0, 1, 0, 1, 1, 0, 1, 0, 1, 0, 0, 0, 0, 0, 0, ...</td>\n",
       "      <td>0.675</td>\n",
       "      <td>0.603356</td>\n",
       "      <td>0.675</td>\n",
       "      <td>0.670786</td>\n",
       "      <td>0.207317</td>\n",
       "    </tr>\n",
       "  </tbody>\n",
       "</table>\n",
       "</div>"
      ],
      "text/plain": [
       "   train_size                                             y_true  \\\n",
       "0          10  [0, 0, 0, 0, 0, 1, 0, 0, 0, 1, 0, 0, 1, 1, 0, ...   \n",
       "1          10  [0, 0, 0, 0, 0, 1, 0, 0, 1, 1, 0, 0, 0, 1, 0, ...   \n",
       "2          10  [1, 0, 0, 0, 0, 0, 1, 0, 1, 0, 0, 0, 0, 0, 0, ...   \n",
       "\n",
       "                                              y_pred  accuracy  f1_macro  \\\n",
       "0  [0, 0, 0, 0, 0, 0, 1, 0, 0, 0, 0, 0, 0, 1, 0, ...     0.825  0.758412   \n",
       "1  [0, 0, 0, 0, 0, 1, 0, 0, 1, 0, 0, 0, 0, 1, 1, ...     0.750  0.686520   \n",
       "2  [0, 1, 0, 1, 1, 0, 1, 0, 1, 0, 0, 0, 0, 0, 0, ...     0.675  0.603356   \n",
       "\n",
       "   f1_micro  f1_weighted     kappa  \n",
       "0     0.825     0.809146  0.527027  \n",
       "1     0.750     0.742947  0.375000  \n",
       "2     0.675     0.670786  0.207317  "
      ]
     },
     "execution_count": 13,
     "metadata": {},
     "output_type": "execute_result"
    }
   ],
   "source": [
    "compiled_res_10 = pd.DataFrame(metrics_dict())\n",
    "compiled_res_10.head(3)"
   ]
  },
  {
   "cell_type": "markdown",
   "metadata": {},
   "source": [
    "### training size = 15"
   ]
  },
  {
   "cell_type": "code",
   "execution_count": 14,
   "metadata": {},
   "outputs": [],
   "source": [
    "train_size = 15\n",
    "iterations = 10\n",
    "y_test_all = []\n",
    "y_pred_all = []\n",
    "acc_scores = []\n",
    "f1macro_scores = []\n",
    "f1micro_scores = []\n",
    "f1weighted_scores = []\n",
    "kappa_scores = []"
   ]
  },
  {
   "cell_type": "code",
   "execution_count": 15,
   "metadata": {
    "scrolled": true
   },
   "outputs": [
    {
     "name": "stdout",
     "output_type": "stream",
     "text": [
      "-------------Iteration 1/10\n",
      "15 35\n",
      "random_state = 42\n",
      "Accuracy: 0.7714285714285715\n",
      "F1 macro: 0.7008547008547008\n",
      "F1 micro: 0.7714285714285715\n",
      "F1 weighted: 0.7631257631257632\n",
      "Kappa: 0.4042553191489362\n",
      "-------------Iteration 2/10\n",
      "15 35\n",
      "random_state = 43\n"
     ]
    },
    {
     "name": "stderr",
     "output_type": "stream",
     "text": [
      "[Parallel(n_jobs=1)]: Done  49 tasks      | elapsed:    0.0s\n",
      "[Parallel(n_jobs=1)]: Done 199 tasks      | elapsed:    0.1s\n",
      "[Parallel(n_jobs=1)]: Done  49 tasks      | elapsed:    0.0s\n",
      "[Parallel(n_jobs=1)]: Done 199 tasks      | elapsed:    0.0s\n",
      "[Parallel(n_jobs=1)]: Done  49 tasks      | elapsed:    0.0s\n",
      "[Parallel(n_jobs=1)]: Done 199 tasks      | elapsed:    0.1s\n",
      "[Parallel(n_jobs=1)]: Done  49 tasks      | elapsed:    0.0s\n",
      "[Parallel(n_jobs=1)]: Done 199 tasks      | elapsed:    0.0s\n",
      "[Parallel(n_jobs=1)]: Done  49 tasks      | elapsed:    0.0s\n",
      "[Parallel(n_jobs=1)]: Done 199 tasks      | elapsed:    0.1s\n",
      "[Parallel(n_jobs=1)]: Done  49 tasks      | elapsed:    0.0s\n",
      "[Parallel(n_jobs=1)]: Done 199 tasks      | elapsed:    0.0s\n"
     ]
    },
    {
     "name": "stdout",
     "output_type": "stream",
     "text": [
      "Accuracy: 0.7714285714285715\n",
      "F1 macro: 0.72\n",
      "F1 micro: 0.7714285714285715\n",
      "F1 weighted: 0.7714285714285715\n",
      "Kappa: 0.44000000000000006\n",
      "-------------Iteration 3/10\n",
      "15 35\n",
      "random_state = 44\n",
      "Accuracy: 0.8\n",
      "F1 macro: 0.7471620227038184\n",
      "F1 micro: 0.8\n",
      "F1 weighted: 0.7966976264189888\n",
      "Kappa: 0.4948453608247423\n",
      "-------------Iteration 4/10\n",
      "15 35\n",
      "random_state = 45\n"
     ]
    },
    {
     "name": "stderr",
     "output_type": "stream",
     "text": [
      "[Parallel(n_jobs=1)]: Done  49 tasks      | elapsed:    0.0s\n",
      "[Parallel(n_jobs=1)]: Done 199 tasks      | elapsed:    0.2s\n",
      "[Parallel(n_jobs=1)]: Done  49 tasks      | elapsed:    0.0s\n",
      "[Parallel(n_jobs=1)]: Done 199 tasks      | elapsed:    0.0s\n"
     ]
    },
    {
     "name": "stdout",
     "output_type": "stream",
     "text": [
      "Accuracy: 0.6857142857142857\n",
      "F1 macro: 0.5333333333333333\n",
      "F1 micro: 0.6857142857142857\n",
      "F1 weighted: 0.6323809523809525\n",
      "Kappa: 0.11899313501144149\n",
      "-------------Iteration 5/10\n",
      "15 35\n",
      "random_state = 46\n"
     ]
    },
    {
     "name": "stderr",
     "output_type": "stream",
     "text": [
      "[Parallel(n_jobs=1)]: Done  49 tasks      | elapsed:    0.0s\n",
      "[Parallel(n_jobs=1)]: Done 199 tasks      | elapsed:    0.1s\n",
      "[Parallel(n_jobs=1)]: Done  49 tasks      | elapsed:    0.0s\n",
      "[Parallel(n_jobs=1)]: Done 199 tasks      | elapsed:    0.0s\n"
     ]
    },
    {
     "name": "stdout",
     "output_type": "stream",
     "text": [
      "Accuracy: 0.7428571428571429\n",
      "F1 macro: 0.6938775510204082\n",
      "F1 micro: 0.7428571428571429\n",
      "F1 weighted: 0.7393586005830903\n",
      "Kappa: 0.38834951456310673\n",
      "-------------Iteration 6/10\n",
      "15 35\n",
      "random_state = 47\n",
      "Accuracy: 0.6857142857142857\n",
      "F1 macro: 0.6438482886216466\n",
      "F1 micro: 0.6857142857142857\n",
      "F1 weighted: 0.689203118805339\n",
      "Kappa: 0.2883548983364139\n",
      "-------------Iteration 7/10\n",
      "15 35\n",
      "random_state = 48\n"
     ]
    },
    {
     "name": "stderr",
     "output_type": "stream",
     "text": [
      "[Parallel(n_jobs=1)]: Done  49 tasks      | elapsed:    0.0s\n",
      "[Parallel(n_jobs=1)]: Done 199 tasks      | elapsed:    0.1s\n",
      "[Parallel(n_jobs=1)]: Done  49 tasks      | elapsed:    0.0s\n",
      "[Parallel(n_jobs=1)]: Done 199 tasks      | elapsed:    0.0s\n",
      "[Parallel(n_jobs=1)]: Done  49 tasks      | elapsed:    0.0s\n",
      "[Parallel(n_jobs=1)]: Done 199 tasks      | elapsed:    0.1s\n",
      "[Parallel(n_jobs=1)]: Done  49 tasks      | elapsed:    0.0s\n",
      "[Parallel(n_jobs=1)]: Done 199 tasks      | elapsed:    0.0s\n",
      "[Parallel(n_jobs=1)]: Done  49 tasks      | elapsed:    0.0s\n"
     ]
    },
    {
     "name": "stdout",
     "output_type": "stream",
     "text": [
      "Accuracy: 0.7714285714285715\n",
      "F1 macro: 0.7348484848484849\n",
      "F1 micro: 0.7714285714285715\n",
      "F1 weighted: 0.7770562770562771\n",
      "Kappa: 0.4716981132075472\n",
      "-------------Iteration 8/10\n",
      "15 35\n",
      "random_state = 49\n"
     ]
    },
    {
     "name": "stderr",
     "output_type": "stream",
     "text": [
      "[Parallel(n_jobs=1)]: Done 199 tasks      | elapsed:    0.1s\n",
      "[Parallel(n_jobs=1)]: Done  49 tasks      | elapsed:    0.0s\n",
      "[Parallel(n_jobs=1)]: Done 199 tasks      | elapsed:    0.0s\n",
      "[Parallel(n_jobs=1)]: Done  49 tasks      | elapsed:    0.0s\n",
      "[Parallel(n_jobs=1)]: Done 199 tasks      | elapsed:    0.1s\n"
     ]
    },
    {
     "name": "stdout",
     "output_type": "stream",
     "text": [
      "Accuracy: 0.8\n",
      "F1 macro: 0.703030303030303\n",
      "F1 micro: 0.8\n",
      "F1 weighted: 0.7757575757575756\n",
      "Kappa: 0.4235294117647058\n",
      "-------------Iteration 9/10\n",
      "15 35\n",
      "random_state = 50\n",
      "Accuracy: 0.7428571428571429\n",
      "F1 macro: 0.6503884572697003\n",
      "F1 micro: 0.7428571428571429\n",
      "F1 weighted: 0.7274456952592359\n",
      "Kappa: 0.3076923076923077\n",
      "-------------Iteration 10/10\n",
      "15 35\n",
      "random_state = 51\n"
     ]
    },
    {
     "name": "stderr",
     "output_type": "stream",
     "text": [
      "[Parallel(n_jobs=1)]: Done  49 tasks      | elapsed:    0.0s\n",
      "[Parallel(n_jobs=1)]: Done 199 tasks      | elapsed:    0.0s\n",
      "[Parallel(n_jobs=1)]: Done  49 tasks      | elapsed:    0.0s\n",
      "[Parallel(n_jobs=1)]: Done 199 tasks      | elapsed:    0.1s\n",
      "[Parallel(n_jobs=1)]: Done  49 tasks      | elapsed:    0.0s\n",
      "[Parallel(n_jobs=1)]: Done 199 tasks      | elapsed:    0.0s\n"
     ]
    },
    {
     "name": "stdout",
     "output_type": "stream",
     "text": [
      "Accuracy: 0.7714285714285715\n",
      "F1 macro: 0.7008547008547008\n",
      "F1 micro: 0.7714285714285715\n",
      "F1 weighted: 0.7631257631257632\n",
      "Kappa: 0.4042553191489362\n"
     ]
    }
   ],
   "source": [
    "for n in range(iterations):\n",
    "    print(f\"-------------Iteration {n + 1}/{iterations}\")\n",
    "    random_state=42+n\n",
    "\n",
    "    X_train, y_train, X_test, y_test = prepare_dataset_classification(\n",
    "        df,\n",
    "        random_state=random_state,\n",
    "        train_size=train_size\n",
    "    )\n",
    "    print(f\"random_state = {random_state}\")\n",
    "\n",
    "    y_test, y_pred, acc, f1_macro, f1_micro, f1_weighted, kappa = train_and_evaluate_classifier(\n",
    "        X_train, \n",
    "        y_train, \n",
    "        X_test, \n",
    "        y_test, \n",
    "        random_state=random_state\n",
    "    )\n",
    "    \n",
    "    y_test_all.append(y_test)\n",
    "    y_pred_all.append(y_pred)    \n",
    "    acc_scores.append(acc)\n",
    "    f1macro_scores.append(f1_macro)\n",
    "    f1micro_scores.append(f1_micro)\n",
    "    f1weighted_scores.append(f1_weighted)\n",
    "    kappa_scores.append(kappa)\n",
    "    print(f\"Accuracy: {acc}\")\n",
    "    print(f\"F1 macro: {f1_macro}\")\n",
    "    print(f\"F1 micro: {f1_micro}\")\n",
    "    print(f\"F1 weighted: {f1_weighted}\")\n",
    "    print(f\"Kappa: {kappa}\")"
   ]
  },
  {
   "cell_type": "code",
   "execution_count": 16,
   "metadata": {},
   "outputs": [
    {
     "name": "stdout",
     "output_type": "stream",
     "text": [
      "FINAL REPORT for training size = 15\n",
      "mean accuracy: 0.7542857142857142 +/- 0.0387561713321444\n",
      "mean F1 macro: 0.6828197842537096 +/- 0.058589504978708414\n",
      "mean F1 micro: 0.7542857142857142 +/- 0.0387561713321444\n",
      "mean F1 weighted: 0.7435579943941557 +/- 0.04702909838217085\n",
      "mean Kappa: 0.3741973379698138 +/- 0.10476367103887999\n"
     ]
    }
   ],
   "source": [
    "print(f\"FINAL REPORT for training size = {train_size}\")\n",
    "\n",
    "print(f\"mean accuracy: {np.mean(acc_scores)} +/- {np.std(acc_scores)}\")\n",
    "print(f\"mean F1 macro: {np.mean(f1macro_scores)} +/- {np.std(f1macro_scores)}\")\n",
    "print(f\"mean F1 micro: {np.mean(f1micro_scores)} +/- {np.std(f1micro_scores)}\")\n",
    "print(f\"mean F1 weighted: {np.mean(f1weighted_scores)} +/- {np.std(f1weighted_scores)}\")\n",
    "print(f\"mean Kappa: {np.mean(kappa_scores)} +/- {np.std(kappa_scores)}\")"
   ]
  },
  {
   "cell_type": "code",
   "execution_count": 17,
   "metadata": {},
   "outputs": [
    {
     "data": {
      "text/html": [
       "<div>\n",
       "<style scoped>\n",
       "    .dataframe tbody tr th:only-of-type {\n",
       "        vertical-align: middle;\n",
       "    }\n",
       "\n",
       "    .dataframe tbody tr th {\n",
       "        vertical-align: top;\n",
       "    }\n",
       "\n",
       "    .dataframe thead th {\n",
       "        text-align: right;\n",
       "    }\n",
       "</style>\n",
       "<table border=\"1\" class=\"dataframe\">\n",
       "  <thead>\n",
       "    <tr style=\"text-align: right;\">\n",
       "      <th></th>\n",
       "      <th>train_size</th>\n",
       "      <th>y_true</th>\n",
       "      <th>y_pred</th>\n",
       "      <th>accuracy</th>\n",
       "      <th>f1_macro</th>\n",
       "      <th>f1_micro</th>\n",
       "      <th>f1_weighted</th>\n",
       "      <th>kappa</th>\n",
       "    </tr>\n",
       "  </thead>\n",
       "  <tbody>\n",
       "    <tr>\n",
       "      <th>0</th>\n",
       "      <td>15</td>\n",
       "      <td>[0, 0, 1, 0, 0, 0, 0, 0, 0, 1, 0, 0, 0, 1, 0, ...</td>\n",
       "      <td>[0, 0, 1, 1, 0, 0, 0, 0, 0, 0, 0, 0, 1, 1, 0, ...</td>\n",
       "      <td>0.771429</td>\n",
       "      <td>0.700855</td>\n",
       "      <td>0.771429</td>\n",
       "      <td>0.763126</td>\n",
       "      <td>0.404255</td>\n",
       "    </tr>\n",
       "    <tr>\n",
       "      <th>1</th>\n",
       "      <td>15</td>\n",
       "      <td>[1, 1, 0, 0, 0, 0, 0, 0, 0, 1, 0, 0, 0, 1, 0, ...</td>\n",
       "      <td>[0, 1, 1, 0, 0, 0, 0, 0, 0, 0, 0, 1, 0, 1, 0, ...</td>\n",
       "      <td>0.771429</td>\n",
       "      <td>0.720000</td>\n",
       "      <td>0.771429</td>\n",
       "      <td>0.771429</td>\n",
       "      <td>0.440000</td>\n",
       "    </tr>\n",
       "    <tr>\n",
       "      <th>2</th>\n",
       "      <td>15</td>\n",
       "      <td>[1, 0, 0, 1, 0, 1, 0, 0, 1, 1, 0, 0, 0, 0, 0, ...</td>\n",
       "      <td>[1, 1, 0, 0, 0, 1, 0, 0, 1, 0, 0, 0, 1, 0, 0, ...</td>\n",
       "      <td>0.800000</td>\n",
       "      <td>0.747162</td>\n",
       "      <td>0.800000</td>\n",
       "      <td>0.796698</td>\n",
       "      <td>0.494845</td>\n",
       "    </tr>\n",
       "  </tbody>\n",
       "</table>\n",
       "</div>"
      ],
      "text/plain": [
       "   train_size                                             y_true  \\\n",
       "0          15  [0, 0, 1, 0, 0, 0, 0, 0, 0, 1, 0, 0, 0, 1, 0, ...   \n",
       "1          15  [1, 1, 0, 0, 0, 0, 0, 0, 0, 1, 0, 0, 0, 1, 0, ...   \n",
       "2          15  [1, 0, 0, 1, 0, 1, 0, 0, 1, 1, 0, 0, 0, 0, 0, ...   \n",
       "\n",
       "                                              y_pred  accuracy  f1_macro  \\\n",
       "0  [0, 0, 1, 1, 0, 0, 0, 0, 0, 0, 0, 0, 1, 1, 0, ...  0.771429  0.700855   \n",
       "1  [0, 1, 1, 0, 0, 0, 0, 0, 0, 0, 0, 1, 0, 1, 0, ...  0.771429  0.720000   \n",
       "2  [1, 1, 0, 0, 0, 1, 0, 0, 1, 0, 0, 0, 1, 0, 0, ...  0.800000  0.747162   \n",
       "\n",
       "   f1_micro  f1_weighted     kappa  \n",
       "0  0.771429     0.763126  0.404255  \n",
       "1  0.771429     0.771429  0.440000  \n",
       "2  0.800000     0.796698  0.494845  "
      ]
     },
     "execution_count": 17,
     "metadata": {},
     "output_type": "execute_result"
    }
   ],
   "source": [
    "compiled_res_15 = pd.DataFrame(metrics_dict())\n",
    "compiled_res_15.head(3)"
   ]
  },
  {
   "cell_type": "markdown",
   "metadata": {},
   "source": [
    "### training size = 20"
   ]
  },
  {
   "cell_type": "code",
   "execution_count": 18,
   "metadata": {},
   "outputs": [],
   "source": [
    "train_size = 20\n",
    "iterations = 10\n",
    "y_test_all = []\n",
    "y_pred_all = []\n",
    "acc_scores = []\n",
    "f1macro_scores = []\n",
    "f1micro_scores = []\n",
    "f1weighted_scores = []\n",
    "kappa_scores = []"
   ]
  },
  {
   "cell_type": "code",
   "execution_count": 19,
   "metadata": {
    "scrolled": true
   },
   "outputs": [
    {
     "name": "stdout",
     "output_type": "stream",
     "text": [
      "-------------Iteration 1/10\n",
      "20 30\n",
      "random_state = 42\n"
     ]
    },
    {
     "name": "stderr",
     "output_type": "stream",
     "text": [
      "[Parallel(n_jobs=1)]: Done  49 tasks      | elapsed:    0.0s\n",
      "[Parallel(n_jobs=1)]: Done 199 tasks      | elapsed:    0.1s\n",
      "[Parallel(n_jobs=1)]: Done  49 tasks      | elapsed:    0.0s\n",
      "[Parallel(n_jobs=1)]: Done 199 tasks      | elapsed:    0.0s\n"
     ]
    },
    {
     "name": "stdout",
     "output_type": "stream",
     "text": [
      "Accuracy: 0.8333333333333334\n",
      "F1 macro: 0.7777777777777777\n",
      "F1 micro: 0.8333333333333334\n",
      "F1 weighted: 0.8222222222222222\n",
      "Kappa: 0.5614035087719298\n",
      "-------------Iteration 2/10\n",
      "20 30\n",
      "random_state = 43\n"
     ]
    },
    {
     "name": "stderr",
     "output_type": "stream",
     "text": [
      "[Parallel(n_jobs=1)]: Done  49 tasks      | elapsed:    0.0s\n",
      "[Parallel(n_jobs=1)]: Done 199 tasks      | elapsed:    0.2s\n",
      "[Parallel(n_jobs=1)]: Done  49 tasks      | elapsed:    0.0s\n",
      "[Parallel(n_jobs=1)]: Done 199 tasks      | elapsed:    0.0s\n"
     ]
    },
    {
     "name": "stdout",
     "output_type": "stream",
     "text": [
      "Accuracy: 0.8\n",
      "F1 macro: 0.7619047619047619\n",
      "F1 micro: 0.8\n",
      "F1 weighted: 0.8\n",
      "Kappa: 0.5238095238095237\n",
      "-------------Iteration 3/10\n",
      "20 30\n",
      "random_state = 44\n"
     ]
    },
    {
     "name": "stderr",
     "output_type": "stream",
     "text": [
      "[Parallel(n_jobs=1)]: Done  49 tasks      | elapsed:    0.0s\n",
      "[Parallel(n_jobs=1)]: Done 199 tasks      | elapsed:    0.2s\n",
      "[Parallel(n_jobs=1)]: Done  49 tasks      | elapsed:    0.0s\n",
      "[Parallel(n_jobs=1)]: Done 199 tasks      | elapsed:    0.0s\n"
     ]
    },
    {
     "name": "stdout",
     "output_type": "stream",
     "text": [
      "Accuracy: 0.7333333333333333\n",
      "F1 macro: 0.6273291925465838\n",
      "F1 micro: 0.7333333333333333\n",
      "F1 weighted: 0.706832298136646\n",
      "Kappa: 0.2727272727272727\n",
      "-------------Iteration 4/10\n",
      "20 30\n",
      "random_state = 45\n"
     ]
    },
    {
     "name": "stderr",
     "output_type": "stream",
     "text": [
      "[Parallel(n_jobs=1)]: Done  49 tasks      | elapsed:    0.0s\n",
      "[Parallel(n_jobs=1)]: Done 199 tasks      | elapsed:    0.2s\n",
      "[Parallel(n_jobs=1)]: Done  49 tasks      | elapsed:    0.0s\n",
      "[Parallel(n_jobs=1)]: Done 199 tasks      | elapsed:    0.0s\n"
     ]
    },
    {
     "name": "stdout",
     "output_type": "stream",
     "text": [
      "Accuracy: 0.7333333333333333\n",
      "F1 macro: 0.6825396825396826\n",
      "F1 micro: 0.7333333333333333\n",
      "F1 weighted: 0.7333333333333333\n",
      "Kappa: 0.3650793650793651\n",
      "-------------Iteration 5/10\n",
      "20 30\n",
      "random_state = 46\n"
     ]
    },
    {
     "name": "stderr",
     "output_type": "stream",
     "text": [
      "[Parallel(n_jobs=1)]: Done  49 tasks      | elapsed:    0.1s\n",
      "[Parallel(n_jobs=1)]: Done 199 tasks      | elapsed:    0.2s\n",
      "[Parallel(n_jobs=1)]: Done  49 tasks      | elapsed:    0.0s\n",
      "[Parallel(n_jobs=1)]: Done 199 tasks      | elapsed:    0.0s\n"
     ]
    },
    {
     "name": "stdout",
     "output_type": "stream",
     "text": [
      "Accuracy: 0.7333333333333333\n",
      "F1 macro: 0.6825396825396826\n",
      "F1 micro: 0.7333333333333333\n",
      "F1 weighted: 0.7333333333333333\n",
      "Kappa: 0.3650793650793651\n",
      "-------------Iteration 6/10\n",
      "20 30\n",
      "random_state = 47\n"
     ]
    },
    {
     "name": "stderr",
     "output_type": "stream",
     "text": [
      "[Parallel(n_jobs=1)]: Done  49 tasks      | elapsed:    0.0s\n",
      "[Parallel(n_jobs=1)]: Done 199 tasks      | elapsed:    0.2s\n",
      "[Parallel(n_jobs=1)]: Done  49 tasks      | elapsed:    0.0s\n",
      "[Parallel(n_jobs=1)]: Done 199 tasks      | elapsed:    0.0s\n"
     ]
    },
    {
     "name": "stdout",
     "output_type": "stream",
     "text": [
      "Accuracy: 0.8\n",
      "F1 macro: 0.7619047619047619\n",
      "F1 micro: 0.8\n",
      "F1 weighted: 0.8\n",
      "Kappa: 0.5238095238095237\n",
      "-------------Iteration 7/10\n",
      "20 30\n",
      "random_state = 48\n"
     ]
    },
    {
     "name": "stderr",
     "output_type": "stream",
     "text": [
      "[Parallel(n_jobs=1)]: Done  49 tasks      | elapsed:    0.0s\n",
      "[Parallel(n_jobs=1)]: Done 199 tasks      | elapsed:    0.2s\n",
      "[Parallel(n_jobs=1)]: Done  49 tasks      | elapsed:    0.0s\n",
      "[Parallel(n_jobs=1)]: Done 199 tasks      | elapsed:    0.0s\n"
     ]
    },
    {
     "name": "stdout",
     "output_type": "stream",
     "text": [
      "Accuracy: 0.7666666666666667\n",
      "F1 macro: 0.7127222982216143\n",
      "F1 micro: 0.7666666666666667\n",
      "F1 weighted: 0.762517099863201\n",
      "Kappa: 0.42622950819672123\n",
      "-------------Iteration 8/10\n",
      "20 30\n",
      "random_state = 49\n"
     ]
    },
    {
     "name": "stderr",
     "output_type": "stream",
     "text": [
      "[Parallel(n_jobs=1)]: Done  49 tasks      | elapsed:    0.0s\n",
      "[Parallel(n_jobs=1)]: Done 199 tasks      | elapsed:    0.2s\n",
      "[Parallel(n_jobs=1)]: Done  49 tasks      | elapsed:    0.0s\n",
      "[Parallel(n_jobs=1)]: Done 199 tasks      | elapsed:    0.0s\n"
     ]
    },
    {
     "name": "stdout",
     "output_type": "stream",
     "text": [
      "Accuracy: 0.8\n",
      "F1 macro: 0.6875\n",
      "F1 micro: 0.8\n",
      "F1 weighted: 0.7625\n",
      "Kappa: 0.4117647058823529\n",
      "-------------Iteration 9/10\n",
      "20 30\n",
      "random_state = 50\n"
     ]
    },
    {
     "name": "stderr",
     "output_type": "stream",
     "text": [
      "[Parallel(n_jobs=1)]: Done  49 tasks      | elapsed:    0.0s\n",
      "[Parallel(n_jobs=1)]: Done 199 tasks      | elapsed:    0.2s\n",
      "[Parallel(n_jobs=1)]: Done  49 tasks      | elapsed:    0.0s\n",
      "[Parallel(n_jobs=1)]: Done 199 tasks      | elapsed:    0.0s\n"
     ]
    },
    {
     "name": "stdout",
     "output_type": "stream",
     "text": [
      "Accuracy: 0.7\n",
      "F1 macro: 0.6306429548563611\n",
      "F1 micro: 0.7\n",
      "F1 weighted: 0.6946648426812584\n",
      "Kappa: 0.2622950819672131\n",
      "-------------Iteration 10/10\n",
      "20 30\n",
      "random_state = 51\n",
      "Accuracy: 0.8333333333333334\n",
      "F1 macro: 0.7777777777777777\n",
      "F1 micro: 0.8333333333333334\n",
      "F1 weighted: 0.8222222222222222\n",
      "Kappa: 0.5614035087719298\n"
     ]
    },
    {
     "name": "stderr",
     "output_type": "stream",
     "text": [
      "[Parallel(n_jobs=1)]: Done  49 tasks      | elapsed:    0.0s\n",
      "[Parallel(n_jobs=1)]: Done 199 tasks      | elapsed:    0.2s\n",
      "[Parallel(n_jobs=1)]: Done  49 tasks      | elapsed:    0.0s\n",
      "[Parallel(n_jobs=1)]: Done 199 tasks      | elapsed:    0.0s\n"
     ]
    }
   ],
   "source": [
    "for n in range(iterations):\n",
    "    print(f\"-------------Iteration {n + 1}/{iterations}\")\n",
    "    random_state=42+n\n",
    "\n",
    "    X_train, y_train, X_test, y_test = prepare_dataset_classification(\n",
    "        df,\n",
    "        random_state=random_state,\n",
    "        train_size=train_size\n",
    "    )\n",
    "    print(f\"random_state = {random_state}\")\n",
    "\n",
    "    y_test, y_pred, acc, f1_macro, f1_micro, f1_weighted, kappa = train_and_evaluate_classifier(\n",
    "        X_train, \n",
    "        y_train, \n",
    "        X_test, \n",
    "        y_test, \n",
    "        random_state=random_state\n",
    "    )\n",
    "    \n",
    "    y_test_all.append(y_test)\n",
    "    y_pred_all.append(y_pred)    \n",
    "    acc_scores.append(acc)\n",
    "    f1macro_scores.append(f1_macro)\n",
    "    f1micro_scores.append(f1_micro)\n",
    "    f1weighted_scores.append(f1_weighted)\n",
    "    kappa_scores.append(kappa)\n",
    "    print(f\"Accuracy: {acc}\")\n",
    "    print(f\"F1 macro: {f1_macro}\")\n",
    "    print(f\"F1 micro: {f1_micro}\")\n",
    "    print(f\"F1 weighted: {f1_weighted}\")\n",
    "    print(f\"Kappa: {kappa}\")"
   ]
  },
  {
   "cell_type": "code",
   "execution_count": 20,
   "metadata": {},
   "outputs": [
    {
     "name": "stdout",
     "output_type": "stream",
     "text": [
      "FINAL REPORT for training size = 20\n",
      "mean accuracy: 0.7733333333333332 +/- 0.044221663871405366\n",
      "mean F1 macro: 0.7102638890069003 +/- 0.0545242776754242\n",
      "mean F1 micro: 0.7733333333333332 +/- 0.044221663871405366\n",
      "mean F1 weighted: 0.7637625351792217 +/- 0.04396810035017793\n",
      "mean Kappa: 0.42736013640951975 +/- 0.10663034252280298\n"
     ]
    }
   ],
   "source": [
    "print(f\"FINAL REPORT for training size = {train_size}\")\n",
    "\n",
    "print(f\"mean accuracy: {np.mean(acc_scores)} +/- {np.std(acc_scores)}\")\n",
    "print(f\"mean F1 macro: {np.mean(f1macro_scores)} +/- {np.std(f1macro_scores)}\")\n",
    "print(f\"mean F1 micro: {np.mean(f1micro_scores)} +/- {np.std(f1micro_scores)}\")\n",
    "print(f\"mean F1 weighted: {np.mean(f1weighted_scores)} +/- {np.std(f1weighted_scores)}\")\n",
    "print(f\"mean Kappa: {np.mean(kappa_scores)} +/- {np.std(kappa_scores)}\")"
   ]
  },
  {
   "cell_type": "code",
   "execution_count": 21,
   "metadata": {},
   "outputs": [
    {
     "data": {
      "text/html": [
       "<div>\n",
       "<style scoped>\n",
       "    .dataframe tbody tr th:only-of-type {\n",
       "        vertical-align: middle;\n",
       "    }\n",
       "\n",
       "    .dataframe tbody tr th {\n",
       "        vertical-align: top;\n",
       "    }\n",
       "\n",
       "    .dataframe thead th {\n",
       "        text-align: right;\n",
       "    }\n",
       "</style>\n",
       "<table border=\"1\" class=\"dataframe\">\n",
       "  <thead>\n",
       "    <tr style=\"text-align: right;\">\n",
       "      <th></th>\n",
       "      <th>train_size</th>\n",
       "      <th>y_true</th>\n",
       "      <th>y_pred</th>\n",
       "      <th>accuracy</th>\n",
       "      <th>f1_macro</th>\n",
       "      <th>f1_micro</th>\n",
       "      <th>f1_weighted</th>\n",
       "      <th>kappa</th>\n",
       "    </tr>\n",
       "  </thead>\n",
       "  <tbody>\n",
       "    <tr>\n",
       "      <th>0</th>\n",
       "      <td>20</td>\n",
       "      <td>[1, 0, 1, 0, 0, 0, 1, 0, 0, 1, 0, 0, 0, 1, 0, ...</td>\n",
       "      <td>[1, 0, 0, 0, 0, 0, 1, 0, 0, 1, 0, 0, 0, 1, 0, ...</td>\n",
       "      <td>0.833333</td>\n",
       "      <td>0.777778</td>\n",
       "      <td>0.833333</td>\n",
       "      <td>0.822222</td>\n",
       "      <td>0.561404</td>\n",
       "    </tr>\n",
       "    <tr>\n",
       "      <th>1</th>\n",
       "      <td>20</td>\n",
       "      <td>[1, 1, 0, 0, 0, 0, 1, 0, 0, 0, 0, 0, 0, 0, 1, ...</td>\n",
       "      <td>[0, 1, 0, 0, 1, 0, 1, 0, 0, 0, 1, 0, 0, 0, 1, ...</td>\n",
       "      <td>0.800000</td>\n",
       "      <td>0.761905</td>\n",
       "      <td>0.800000</td>\n",
       "      <td>0.800000</td>\n",
       "      <td>0.523810</td>\n",
       "    </tr>\n",
       "    <tr>\n",
       "      <th>2</th>\n",
       "      <td>20</td>\n",
       "      <td>[0, 0, 1, 0, 0, 0, 0, 0, 1, 0, 0, 0, 0, 0, 1, ...</td>\n",
       "      <td>[0, 0, 1, 0, 0, 0, 0, 0, 1, 1, 0, 0, 0, 1, 0, ...</td>\n",
       "      <td>0.733333</td>\n",
       "      <td>0.627329</td>\n",
       "      <td>0.733333</td>\n",
       "      <td>0.706832</td>\n",
       "      <td>0.272727</td>\n",
       "    </tr>\n",
       "  </tbody>\n",
       "</table>\n",
       "</div>"
      ],
      "text/plain": [
       "   train_size                                             y_true  \\\n",
       "0          20  [1, 0, 1, 0, 0, 0, 1, 0, 0, 1, 0, 0, 0, 1, 0, ...   \n",
       "1          20  [1, 1, 0, 0, 0, 0, 1, 0, 0, 0, 0, 0, 0, 0, 1, ...   \n",
       "2          20  [0, 0, 1, 0, 0, 0, 0, 0, 1, 0, 0, 0, 0, 0, 1, ...   \n",
       "\n",
       "                                              y_pred  accuracy  f1_macro  \\\n",
       "0  [1, 0, 0, 0, 0, 0, 1, 0, 0, 1, 0, 0, 0, 1, 0, ...  0.833333  0.777778   \n",
       "1  [0, 1, 0, 0, 1, 0, 1, 0, 0, 0, 1, 0, 0, 0, 1, ...  0.800000  0.761905   \n",
       "2  [0, 0, 1, 0, 0, 0, 0, 0, 1, 1, 0, 0, 0, 1, 0, ...  0.733333  0.627329   \n",
       "\n",
       "   f1_micro  f1_weighted     kappa  \n",
       "0  0.833333     0.822222  0.561404  \n",
       "1  0.800000     0.800000  0.523810  \n",
       "2  0.733333     0.706832  0.272727  "
      ]
     },
     "execution_count": 21,
     "metadata": {},
     "output_type": "execute_result"
    }
   ],
   "source": [
    "compiled_res_20 = pd.DataFrame(metrics_dict())\n",
    "compiled_res_20.head(3)"
   ]
  },
  {
   "cell_type": "markdown",
   "metadata": {},
   "source": [
    "### training size = 25"
   ]
  },
  {
   "cell_type": "code",
   "execution_count": 22,
   "metadata": {},
   "outputs": [],
   "source": [
    "train_size = 25\n",
    "iterations = 10\n",
    "y_test_all = []\n",
    "y_pred_all = []\n",
    "acc_scores = []\n",
    "f1macro_scores = []\n",
    "f1micro_scores = []\n",
    "f1weighted_scores = []\n",
    "kappa_scores = []"
   ]
  },
  {
   "cell_type": "code",
   "execution_count": 23,
   "metadata": {
    "scrolled": true
   },
   "outputs": [
    {
     "name": "stdout",
     "output_type": "stream",
     "text": [
      "-------------Iteration 1/10\n",
      "25 25\n",
      "random_state = 42\n",
      "Accuracy: 0.76\n",
      "F1 macro: 0.6710526315789473\n",
      "F1 micro: 0.76\n",
      "F1 weighted: 0.7463157894736842\n",
      "Kappa: 0.34782608695652173\n",
      "-------------Iteration 2/10\n",
      "25 25\n",
      "random_state = 43\n"
     ]
    },
    {
     "name": "stderr",
     "output_type": "stream",
     "text": [
      "[Parallel(n_jobs=1)]: Done  49 tasks      | elapsed:    0.0s\n",
      "[Parallel(n_jobs=1)]: Done 199 tasks      | elapsed:    0.1s\n",
      "[Parallel(n_jobs=1)]: Done  49 tasks      | elapsed:    0.0s\n",
      "[Parallel(n_jobs=1)]: Done 199 tasks      | elapsed:    0.0s\n",
      "[Parallel(n_jobs=1)]: Done  49 tasks      | elapsed:    0.1s\n",
      "[Parallel(n_jobs=1)]: Done 199 tasks      | elapsed:    0.2s\n",
      "[Parallel(n_jobs=1)]: Done  49 tasks      | elapsed:    0.0s\n",
      "[Parallel(n_jobs=1)]: Done 199 tasks      | elapsed:    0.0s\n"
     ]
    },
    {
     "name": "stdout",
     "output_type": "stream",
     "text": [
      "Accuracy: 0.72\n",
      "F1 macro: 0.6361746361746362\n",
      "F1 micro: 0.72\n",
      "F1 weighted: 0.7130145530145531\n",
      "Kappa: 0.27385892116182575\n",
      "-------------Iteration 3/10\n",
      "25 25\n",
      "random_state = 44\n"
     ]
    },
    {
     "name": "stderr",
     "output_type": "stream",
     "text": [
      "[Parallel(n_jobs=1)]: Done  49 tasks      | elapsed:    0.0s\n",
      "[Parallel(n_jobs=1)]: Done 199 tasks      | elapsed:    0.1s\n",
      "[Parallel(n_jobs=1)]: Done  49 tasks      | elapsed:    0.0s\n",
      "[Parallel(n_jobs=1)]: Done 199 tasks      | elapsed:    0.0s\n"
     ]
    },
    {
     "name": "stdout",
     "output_type": "stream",
     "text": [
      "Accuracy: 0.88\n",
      "F1 macro: 0.8440748440748441\n",
      "F1 micro: 0.88\n",
      "F1 weighted: 0.877006237006237\n",
      "Kappa: 0.6887966804979253\n",
      "-------------Iteration 4/10\n",
      "25 25\n",
      "random_state = 45\n"
     ]
    },
    {
     "name": "stderr",
     "output_type": "stream",
     "text": [
      "[Parallel(n_jobs=1)]: Done  49 tasks      | elapsed:    0.0s\n",
      "[Parallel(n_jobs=1)]: Done 199 tasks      | elapsed:    0.2s\n",
      "[Parallel(n_jobs=1)]: Done  49 tasks      | elapsed:    0.0s\n",
      "[Parallel(n_jobs=1)]: Done 199 tasks      | elapsed:    0.0s\n"
     ]
    },
    {
     "name": "stdout",
     "output_type": "stream",
     "text": [
      "Accuracy: 0.72\n",
      "F1 macro: 0.592074592074592\n",
      "F1 micro: 0.72\n",
      "F1 weighted: 0.6743123543123544\n",
      "Kappa: 0.2290748898678414\n",
      "-------------Iteration 5/10\n",
      "25 25\n",
      "random_state = 46\n"
     ]
    },
    {
     "name": "stderr",
     "output_type": "stream",
     "text": [
      "[Parallel(n_jobs=1)]: Done  49 tasks      | elapsed:    0.0s\n",
      "[Parallel(n_jobs=1)]: Done 199 tasks      | elapsed:    0.2s\n",
      "[Parallel(n_jobs=1)]: Done  49 tasks      | elapsed:    0.0s\n",
      "[Parallel(n_jobs=1)]: Done 199 tasks      | elapsed:    0.0s\n"
     ]
    },
    {
     "name": "stdout",
     "output_type": "stream",
     "text": [
      "Accuracy: 0.72\n",
      "F1 macro: 0.6880570409982174\n",
      "F1 micro: 0.72\n",
      "F1 weighted: 0.7239928698752227\n",
      "Kappa: 0.37722419928825623\n",
      "-------------Iteration 6/10\n",
      "25 25\n",
      "random_state = 47\n"
     ]
    },
    {
     "name": "stderr",
     "output_type": "stream",
     "text": [
      "[Parallel(n_jobs=1)]: Done  49 tasks      | elapsed:    0.0s\n",
      "[Parallel(n_jobs=1)]: Done 199 tasks      | elapsed:    0.2s\n",
      "[Parallel(n_jobs=1)]: Done  49 tasks      | elapsed:    0.0s\n",
      "[Parallel(n_jobs=1)]: Done 199 tasks      | elapsed:    0.0s\n"
     ]
    },
    {
     "name": "stdout",
     "output_type": "stream",
     "text": [
      "Accuracy: 0.68\n",
      "F1 macro: 0.6323529411764706\n",
      "F1 micro: 0.68\n",
      "F1 weighted: 0.68\n",
      "Kappa: 0.26470588235294124\n",
      "-------------Iteration 7/10\n",
      "25 25\n",
      "random_state = 48\n"
     ]
    },
    {
     "name": "stderr",
     "output_type": "stream",
     "text": [
      "[Parallel(n_jobs=1)]: Done  49 tasks      | elapsed:    0.1s\n",
      "[Parallel(n_jobs=1)]: Done 199 tasks      | elapsed:    0.2s\n",
      "[Parallel(n_jobs=1)]: Done  49 tasks      | elapsed:    0.0s\n",
      "[Parallel(n_jobs=1)]: Done 199 tasks      | elapsed:    0.0s\n"
     ]
    },
    {
     "name": "stdout",
     "output_type": "stream",
     "text": [
      "Accuracy: 0.8\n",
      "F1 macro: 0.7619047619047619\n",
      "F1 micro: 0.8\n",
      "F1 weighted: 0.8038095238095238\n",
      "Kappa: 0.5247148288973384\n",
      "-------------Iteration 8/10\n",
      "25 25\n",
      "random_state = 49\n"
     ]
    },
    {
     "name": "stderr",
     "output_type": "stream",
     "text": [
      "[Parallel(n_jobs=1)]: Done  49 tasks      | elapsed:    0.0s\n",
      "[Parallel(n_jobs=1)]: Done 199 tasks      | elapsed:    0.2s\n",
      "[Parallel(n_jobs=1)]: Done  49 tasks      | elapsed:    0.0s\n",
      "[Parallel(n_jobs=1)]: Done 199 tasks      | elapsed:    0.0s\n"
     ]
    },
    {
     "name": "stdout",
     "output_type": "stream",
     "text": [
      "Accuracy: 0.84\n",
      "F1 macro: 0.75\n",
      "F1 micro: 0.84\n",
      "F1 weighted: 0.816\n",
      "Kappa: 0.5192307692307693\n",
      "-------------Iteration 9/10\n",
      "25 25\n",
      "random_state = 50\n"
     ]
    },
    {
     "name": "stderr",
     "output_type": "stream",
     "text": [
      "[Parallel(n_jobs=1)]: Done  49 tasks      | elapsed:    0.0s\n",
      "[Parallel(n_jobs=1)]: Done 199 tasks      | elapsed:    0.2s\n",
      "[Parallel(n_jobs=1)]: Done  49 tasks      | elapsed:    0.0s\n",
      "[Parallel(n_jobs=1)]: Done 199 tasks      | elapsed:    0.0s\n"
     ]
    },
    {
     "name": "stdout",
     "output_type": "stream",
     "text": [
      "Accuracy: 0.72\n",
      "F1 macro: 0.6666666666666667\n",
      "F1 micro: 0.72\n",
      "F1 weighted: 0.7253333333333333\n",
      "Kappa: 0.33460076045627374\n",
      "-------------Iteration 10/10\n",
      "25 25\n",
      "random_state = 51\n",
      "Accuracy: 0.8\n",
      "F1 macro: 0.7086247086247086\n",
      "F1 micro: 0.8\n",
      "F1 weighted: 0.7804195804195804\n",
      "Kappa: 0.4292237442922374\n"
     ]
    },
    {
     "name": "stderr",
     "output_type": "stream",
     "text": [
      "[Parallel(n_jobs=1)]: Done  49 tasks      | elapsed:    0.0s\n",
      "[Parallel(n_jobs=1)]: Done 199 tasks      | elapsed:    0.2s\n",
      "[Parallel(n_jobs=1)]: Done  49 tasks      | elapsed:    0.0s\n",
      "[Parallel(n_jobs=1)]: Done 199 tasks      | elapsed:    0.0s\n"
     ]
    }
   ],
   "source": [
    "for n in range(iterations):\n",
    "    print(f\"-------------Iteration {n + 1}/{iterations}\")\n",
    "    random_state=42+n\n",
    "\n",
    "    X_train, y_train, X_test, y_test = prepare_dataset_classification(\n",
    "        df,\n",
    "        random_state=random_state,\n",
    "        train_size=train_size\n",
    "    )\n",
    "    print(f\"random_state = {random_state}\")\n",
    "\n",
    "    y_test, y_pred, acc, f1_macro, f1_micro, f1_weighted, kappa = train_and_evaluate_classifier(\n",
    "        X_train, \n",
    "        y_train, \n",
    "        X_test, \n",
    "        y_test, \n",
    "        random_state=random_state\n",
    "    )\n",
    "    \n",
    "    y_test_all.append(y_test)\n",
    "    y_pred_all.append(y_pred)    \n",
    "    acc_scores.append(acc)\n",
    "    f1macro_scores.append(f1_macro)\n",
    "    f1micro_scores.append(f1_micro)\n",
    "    f1weighted_scores.append(f1_weighted)\n",
    "    kappa_scores.append(kappa)\n",
    "    print(f\"Accuracy: {acc}\")\n",
    "    print(f\"F1 macro: {f1_macro}\")\n",
    "    print(f\"F1 micro: {f1_micro}\")\n",
    "    print(f\"F1 weighted: {f1_weighted}\")\n",
    "    print(f\"Kappa: {kappa}\")"
   ]
  },
  {
   "cell_type": "code",
   "execution_count": 24,
   "metadata": {},
   "outputs": [
    {
     "name": "stdout",
     "output_type": "stream",
     "text": [
      "FINAL REPORT for training size = 25\n",
      "mean accuracy: 0.764 +/- 0.06053098380168622\n",
      "mean F1 macro: 0.6950982823273846 +/- 0.0702234065744678\n",
      "mean F1 micro: 0.764 +/- 0.06053098380168622\n",
      "mean F1 weighted: 0.7540204241244489 +/- 0.06118880087893258\n",
      "mean Kappa: 0.39892567630019304 +/- 0.1360018938134631\n"
     ]
    }
   ],
   "source": [
    "print(f\"FINAL REPORT for training size = {train_size}\")\n",
    "\n",
    "print(f\"mean accuracy: {np.mean(acc_scores)} +/- {np.std(acc_scores)}\")\n",
    "print(f\"mean F1 macro: {np.mean(f1macro_scores)} +/- {np.std(f1macro_scores)}\")\n",
    "print(f\"mean F1 micro: {np.mean(f1micro_scores)} +/- {np.std(f1micro_scores)}\")\n",
    "print(f\"mean F1 weighted: {np.mean(f1weighted_scores)} +/- {np.std(f1weighted_scores)}\")\n",
    "print(f\"mean Kappa: {np.mean(kappa_scores)} +/- {np.std(kappa_scores)}\")"
   ]
  },
  {
   "cell_type": "code",
   "execution_count": 25,
   "metadata": {},
   "outputs": [
    {
     "data": {
      "text/html": [
       "<div>\n",
       "<style scoped>\n",
       "    .dataframe tbody tr th:only-of-type {\n",
       "        vertical-align: middle;\n",
       "    }\n",
       "\n",
       "    .dataframe tbody tr th {\n",
       "        vertical-align: top;\n",
       "    }\n",
       "\n",
       "    .dataframe thead th {\n",
       "        text-align: right;\n",
       "    }\n",
       "</style>\n",
       "<table border=\"1\" class=\"dataframe\">\n",
       "  <thead>\n",
       "    <tr style=\"text-align: right;\">\n",
       "      <th></th>\n",
       "      <th>train_size</th>\n",
       "      <th>y_true</th>\n",
       "      <th>y_pred</th>\n",
       "      <th>accuracy</th>\n",
       "      <th>f1_macro</th>\n",
       "      <th>f1_micro</th>\n",
       "      <th>f1_weighted</th>\n",
       "      <th>kappa</th>\n",
       "    </tr>\n",
       "  </thead>\n",
       "  <tbody>\n",
       "    <tr>\n",
       "      <th>0</th>\n",
       "      <td>25</td>\n",
       "      <td>[1, 0, 0, 0, 1, 0, 1, 1, 0, 1, 0, 0, 0, 1, 0, ...</td>\n",
       "      <td>[0, 0, 0, 0, 1, 1, 0, 1, 0, 0, 0, 0, 0, 0, 0, ...</td>\n",
       "      <td>0.76</td>\n",
       "      <td>0.671053</td>\n",
       "      <td>0.76</td>\n",
       "      <td>0.746316</td>\n",
       "      <td>0.347826</td>\n",
       "    </tr>\n",
       "    <tr>\n",
       "      <th>1</th>\n",
       "      <td>25</td>\n",
       "      <td>[0, 1, 0, 0, 0, 1, 0, 0, 1, 0, 0, 0, 0, 0, 0, ...</td>\n",
       "      <td>[1, 0, 0, 0, 1, 1, 0, 0, 0, 0, 0, 1, 0, 0, 0, ...</td>\n",
       "      <td>0.72</td>\n",
       "      <td>0.636175</td>\n",
       "      <td>0.72</td>\n",
       "      <td>0.713015</td>\n",
       "      <td>0.273859</td>\n",
       "    </tr>\n",
       "    <tr>\n",
       "      <th>2</th>\n",
       "      <td>25</td>\n",
       "      <td>[0, 0, 0, 1, 1, 0, 0, 1, 0, 0, 0, 0, 0, 0, 0, ...</td>\n",
       "      <td>[0, 0, 0, 1, 0, 0, 0, 1, 0, 0, 1, 0, 0, 0, 0, ...</td>\n",
       "      <td>0.88</td>\n",
       "      <td>0.844075</td>\n",
       "      <td>0.88</td>\n",
       "      <td>0.877006</td>\n",
       "      <td>0.688797</td>\n",
       "    </tr>\n",
       "  </tbody>\n",
       "</table>\n",
       "</div>"
      ],
      "text/plain": [
       "   train_size                                             y_true  \\\n",
       "0          25  [1, 0, 0, 0, 1, 0, 1, 1, 0, 1, 0, 0, 0, 1, 0, ...   \n",
       "1          25  [0, 1, 0, 0, 0, 1, 0, 0, 1, 0, 0, 0, 0, 0, 0, ...   \n",
       "2          25  [0, 0, 0, 1, 1, 0, 0, 1, 0, 0, 0, 0, 0, 0, 0, ...   \n",
       "\n",
       "                                              y_pred  accuracy  f1_macro  \\\n",
       "0  [0, 0, 0, 0, 1, 1, 0, 1, 0, 0, 0, 0, 0, 0, 0, ...      0.76  0.671053   \n",
       "1  [1, 0, 0, 0, 1, 1, 0, 0, 0, 0, 0, 1, 0, 0, 0, ...      0.72  0.636175   \n",
       "2  [0, 0, 0, 1, 0, 0, 0, 1, 0, 0, 1, 0, 0, 0, 0, ...      0.88  0.844075   \n",
       "\n",
       "   f1_micro  f1_weighted     kappa  \n",
       "0      0.76     0.746316  0.347826  \n",
       "1      0.72     0.713015  0.273859  \n",
       "2      0.88     0.877006  0.688797  "
      ]
     },
     "execution_count": 25,
     "metadata": {},
     "output_type": "execute_result"
    }
   ],
   "source": [
    "compiled_res_25 = pd.DataFrame(metrics_dict())\n",
    "compiled_res_25.head(3)"
   ]
  },
  {
   "cell_type": "markdown",
   "metadata": {},
   "source": [
    "### training size = 30"
   ]
  },
  {
   "cell_type": "code",
   "execution_count": 26,
   "metadata": {},
   "outputs": [],
   "source": [
    "train_size = 30\n",
    "iterations = 10\n",
    "y_test_all = []\n",
    "y_pred_all = []\n",
    "acc_scores = []\n",
    "f1macro_scores = []\n",
    "f1micro_scores = []\n",
    "f1weighted_scores = []\n",
    "kappa_scores = []"
   ]
  },
  {
   "cell_type": "code",
   "execution_count": 27,
   "metadata": {},
   "outputs": [
    {
     "name": "stdout",
     "output_type": "stream",
     "text": [
      "-------------Iteration 1/10\n",
      "30 20\n",
      "random_state = 42\n"
     ]
    },
    {
     "name": "stderr",
     "output_type": "stream",
     "text": [
      "[Parallel(n_jobs=1)]: Done  49 tasks      | elapsed:    0.0s\n",
      "[Parallel(n_jobs=1)]: Done 199 tasks      | elapsed:    0.1s\n",
      "[Parallel(n_jobs=1)]: Done  49 tasks      | elapsed:    0.0s\n",
      "[Parallel(n_jobs=1)]: Done 199 tasks      | elapsed:    0.0s\n",
      "[Parallel(n_jobs=1)]: Done  49 tasks      | elapsed:    0.0s\n"
     ]
    },
    {
     "name": "stdout",
     "output_type": "stream",
     "text": [
      "Accuracy: 0.8\n",
      "F1 macro: 0.6875\n",
      "F1 micro: 0.8\n",
      "F1 weighted: 0.7625\n",
      "Kappa: 0.41176470588235303\n",
      "-------------Iteration 2/10\n",
      "30 20\n",
      "random_state = 43\n"
     ]
    },
    {
     "name": "stderr",
     "output_type": "stream",
     "text": [
      "[Parallel(n_jobs=1)]: Done 199 tasks      | elapsed:    0.2s\n",
      "[Parallel(n_jobs=1)]: Done  49 tasks      | elapsed:    0.0s\n",
      "[Parallel(n_jobs=1)]: Done 199 tasks      | elapsed:    0.0s\n",
      "[Parallel(n_jobs=1)]: Done  49 tasks      | elapsed:    0.0s\n"
     ]
    },
    {
     "name": "stdout",
     "output_type": "stream",
     "text": [
      "Accuracy: 0.85\n",
      "F1 macro: 0.8119122257053292\n",
      "F1 micro: 0.85\n",
      "F1 weighted: 0.8457680250783699\n",
      "Kappa: 0.625\n",
      "-------------Iteration 3/10\n",
      "30 20\n",
      "random_state = 44\n"
     ]
    },
    {
     "name": "stderr",
     "output_type": "stream",
     "text": [
      "[Parallel(n_jobs=1)]: Done 199 tasks      | elapsed:    0.2s\n",
      "[Parallel(n_jobs=1)]: Done  49 tasks      | elapsed:    0.0s\n",
      "[Parallel(n_jobs=1)]: Done 199 tasks      | elapsed:    0.0s\n",
      "[Parallel(n_jobs=1)]: Done  49 tasks      | elapsed:    0.0s\n"
     ]
    },
    {
     "name": "stdout",
     "output_type": "stream",
     "text": [
      "Accuracy: 0.9\n",
      "F1 macro: 0.8666666666666667\n",
      "F1 micro: 0.9\n",
      "F1 weighted: 0.8933333333333333\n",
      "Kappa: 0.736842105263158\n",
      "-------------Iteration 4/10\n",
      "30 20\n",
      "random_state = 45\n"
     ]
    },
    {
     "name": "stderr",
     "output_type": "stream",
     "text": [
      "[Parallel(n_jobs=1)]: Done 199 tasks      | elapsed:    0.2s\n",
      "[Parallel(n_jobs=1)]: Done  49 tasks      | elapsed:    0.0s\n",
      "[Parallel(n_jobs=1)]: Done 199 tasks      | elapsed:    0.0s\n",
      "[Parallel(n_jobs=1)]: Done  49 tasks      | elapsed:    0.0s\n"
     ]
    },
    {
     "name": "stdout",
     "output_type": "stream",
     "text": [
      "Accuracy: 0.65\n",
      "F1 macro: 0.561128526645768\n",
      "F1 micro: 0.65\n",
      "F1 weighted: 0.6401253918495298\n",
      "Kappa: 0.125\n",
      "-------------Iteration 5/10\n",
      "30 20\n",
      "random_state = 46\n"
     ]
    },
    {
     "name": "stderr",
     "output_type": "stream",
     "text": [
      "[Parallel(n_jobs=1)]: Done 199 tasks      | elapsed:    0.2s\n",
      "[Parallel(n_jobs=1)]: Done  49 tasks      | elapsed:    0.0s\n",
      "[Parallel(n_jobs=1)]: Done 199 tasks      | elapsed:    0.0s\n",
      "[Parallel(n_jobs=1)]: Done  49 tasks      | elapsed:    0.0s\n"
     ]
    },
    {
     "name": "stdout",
     "output_type": "stream",
     "text": [
      "Accuracy: 0.75\n",
      "F1 macro: 0.7150997150997151\n",
      "F1 micro: 0.75\n",
      "F1 weighted: 0.7549857549857549\n",
      "Kappa: 0.4318181818181819\n",
      "-------------Iteration 6/10\n",
      "30 20\n",
      "random_state = 47\n"
     ]
    },
    {
     "name": "stderr",
     "output_type": "stream",
     "text": [
      "[Parallel(n_jobs=1)]: Done 199 tasks      | elapsed:    0.2s\n",
      "[Parallel(n_jobs=1)]: Done  49 tasks      | elapsed:    0.0s\n",
      "[Parallel(n_jobs=1)]: Done 199 tasks      | elapsed:    0.0s\n",
      "[Parallel(n_jobs=1)]: Done  49 tasks      | elapsed:    0.0s\n"
     ]
    },
    {
     "name": "stdout",
     "output_type": "stream",
     "text": [
      "Accuracy: 0.8\n",
      "F1 macro: 0.7333333333333334\n",
      "F1 micro: 0.8\n",
      "F1 weighted: 0.7866666666666666\n",
      "Kappa: 0.4736842105263158\n",
      "-------------Iteration 7/10\n",
      "30 20\n",
      "random_state = 48\n"
     ]
    },
    {
     "name": "stderr",
     "output_type": "stream",
     "text": [
      "[Parallel(n_jobs=1)]: Done 199 tasks      | elapsed:    0.2s\n",
      "[Parallel(n_jobs=1)]: Done  49 tasks      | elapsed:    0.0s\n",
      "[Parallel(n_jobs=1)]: Done 199 tasks      | elapsed:    0.0s\n",
      "[Parallel(n_jobs=1)]: Done  49 tasks      | elapsed:    0.0s\n"
     ]
    },
    {
     "name": "stdout",
     "output_type": "stream",
     "text": [
      "Accuracy: 0.8\n",
      "F1 macro: 0.7333333333333334\n",
      "F1 micro: 0.8\n",
      "F1 weighted: 0.7866666666666666\n",
      "Kappa: 0.4736842105263158\n",
      "-------------Iteration 8/10\n",
      "30 20\n",
      "random_state = 49\n"
     ]
    },
    {
     "name": "stderr",
     "output_type": "stream",
     "text": [
      "[Parallel(n_jobs=1)]: Done 199 tasks      | elapsed:    0.2s\n",
      "[Parallel(n_jobs=1)]: Done  49 tasks      | elapsed:    0.0s\n",
      "[Parallel(n_jobs=1)]: Done 199 tasks      | elapsed:    0.0s\n",
      "[Parallel(n_jobs=1)]: Done  49 tasks      | elapsed:    0.1s\n"
     ]
    },
    {
     "name": "stdout",
     "output_type": "stream",
     "text": [
      "Accuracy: 0.8\n",
      "F1 macro: 0.7333333333333334\n",
      "F1 micro: 0.8\n",
      "F1 weighted: 0.7866666666666666\n",
      "Kappa: 0.4736842105263158\n",
      "-------------Iteration 9/10\n",
      "30 20\n",
      "random_state = 50\n"
     ]
    },
    {
     "name": "stderr",
     "output_type": "stream",
     "text": [
      "[Parallel(n_jobs=1)]: Done 199 tasks      | elapsed:    0.2s\n",
      "[Parallel(n_jobs=1)]: Done  49 tasks      | elapsed:    0.0s\n",
      "[Parallel(n_jobs=1)]: Done 199 tasks      | elapsed:    0.0s\n",
      "[Parallel(n_jobs=1)]: Done  49 tasks      | elapsed:    0.1s\n"
     ]
    },
    {
     "name": "stdout",
     "output_type": "stream",
     "text": [
      "Accuracy: 0.7\n",
      "F1 macro: 0.6428571428571428\n",
      "F1 micro: 0.7\n",
      "F1 weighted: 0.7\n",
      "Kappa: 0.2857142857142857\n",
      "-------------Iteration 10/10\n",
      "30 20\n",
      "random_state = 51\n",
      "Accuracy: 0.7\n",
      "F1 macro: 0.6000000000000001\n",
      "F1 micro: 0.7\n",
      "F1 weighted: 0.68\n",
      "Kappa: 0.21052631578947367\n"
     ]
    },
    {
     "name": "stderr",
     "output_type": "stream",
     "text": [
      "[Parallel(n_jobs=1)]: Done 199 tasks      | elapsed:    0.2s\n",
      "[Parallel(n_jobs=1)]: Done  49 tasks      | elapsed:    0.0s\n",
      "[Parallel(n_jobs=1)]: Done 199 tasks      | elapsed:    0.0s\n"
     ]
    }
   ],
   "source": [
    "for n in range(iterations):\n",
    "    print(f\"-------------Iteration {n + 1}/{iterations}\")\n",
    "    random_state=42+n\n",
    "\n",
    "    X_train, y_train, X_test, y_test = prepare_dataset_classification(\n",
    "        df,\n",
    "        random_state=random_state,\n",
    "        train_size=train_size\n",
    "    )\n",
    "    print(f\"random_state = {random_state}\")\n",
    "\n",
    "    y_test, y_pred, acc, f1_macro, f1_micro, f1_weighted, kappa = train_and_evaluate_classifier(\n",
    "        X_train, \n",
    "        y_train, \n",
    "        X_test, \n",
    "        y_test, \n",
    "        random_state=random_state\n",
    "    )\n",
    "    \n",
    "    y_test_all.append(y_test)\n",
    "    y_pred_all.append(y_pred)    \n",
    "    acc_scores.append(acc)\n",
    "    f1macro_scores.append(f1_macro)\n",
    "    f1micro_scores.append(f1_micro)\n",
    "    f1weighted_scores.append(f1_weighted)\n",
    "    kappa_scores.append(kappa)\n",
    "    print(f\"Accuracy: {acc}\")\n",
    "    print(f\"F1 macro: {f1_macro}\")\n",
    "    print(f\"F1 micro: {f1_micro}\")\n",
    "    print(f\"F1 weighted: {f1_weighted}\")\n",
    "    print(f\"Kappa: {kappa}\")"
   ]
  },
  {
   "cell_type": "code",
   "execution_count": 28,
   "metadata": {},
   "outputs": [
    {
     "name": "stdout",
     "output_type": "stream",
     "text": [
      "FINAL REPORT for training size = 30\n",
      "mean accuracy: 0.7750000000000001 +/- 0.07158910531638178\n",
      "mean F1 macro: 0.7085164276974621 +/- 0.08708903811404015\n",
      "mean F1 micro: 0.7750000000000001 +/- 0.07158910531638178\n",
      "mean F1 weighted: 0.7636712505246988 +/- 0.07178704532511115\n",
      "mean Kappa: 0.4247718226046399 +/- 0.1731983161194235\n"
     ]
    }
   ],
   "source": [
    "print(f\"FINAL REPORT for training size = {train_size}\")\n",
    "\n",
    "print(f\"mean accuracy: {np.mean(acc_scores)} +/- {np.std(acc_scores)}\")\n",
    "print(f\"mean F1 macro: {np.mean(f1macro_scores)} +/- {np.std(f1macro_scores)}\")\n",
    "print(f\"mean F1 micro: {np.mean(f1micro_scores)} +/- {np.std(f1micro_scores)}\")\n",
    "print(f\"mean F1 weighted: {np.mean(f1weighted_scores)} +/- {np.std(f1weighted_scores)}\")\n",
    "print(f\"mean Kappa: {np.mean(kappa_scores)} +/- {np.std(kappa_scores)}\")"
   ]
  },
  {
   "cell_type": "code",
   "execution_count": 29,
   "metadata": {},
   "outputs": [
    {
     "data": {
      "text/html": [
       "<div>\n",
       "<style scoped>\n",
       "    .dataframe tbody tr th:only-of-type {\n",
       "        vertical-align: middle;\n",
       "    }\n",
       "\n",
       "    .dataframe tbody tr th {\n",
       "        vertical-align: top;\n",
       "    }\n",
       "\n",
       "    .dataframe thead th {\n",
       "        text-align: right;\n",
       "    }\n",
       "</style>\n",
       "<table border=\"1\" class=\"dataframe\">\n",
       "  <thead>\n",
       "    <tr style=\"text-align: right;\">\n",
       "      <th></th>\n",
       "      <th>train_size</th>\n",
       "      <th>y_true</th>\n",
       "      <th>y_pred</th>\n",
       "      <th>accuracy</th>\n",
       "      <th>f1_macro</th>\n",
       "      <th>f1_micro</th>\n",
       "      <th>f1_weighted</th>\n",
       "      <th>kappa</th>\n",
       "    </tr>\n",
       "  </thead>\n",
       "  <tbody>\n",
       "    <tr>\n",
       "      <th>0</th>\n",
       "      <td>30</td>\n",
       "      <td>[0, 0, 0, 1, 1, 1, 0, 1, 0, 0, 0, 0, 0, 1, 0, ...</td>\n",
       "      <td>[0, 0, 0, 1, 0, 0, 0, 0, 0, 0, 0, 0, 0, 1, 0, ...</td>\n",
       "      <td>0.80</td>\n",
       "      <td>0.687500</td>\n",
       "      <td>0.80</td>\n",
       "      <td>0.762500</td>\n",
       "      <td>0.411765</td>\n",
       "    </tr>\n",
       "    <tr>\n",
       "      <th>1</th>\n",
       "      <td>30</td>\n",
       "      <td>[0, 1, 0, 0, 1, 1, 0, 0, 1, 0, 0, 0, 0, 0, 1, ...</td>\n",
       "      <td>[0, 1, 0, 0, 1, 0, 0, 0, 0, 0, 0, 1, 0, 0, 1, ...</td>\n",
       "      <td>0.85</td>\n",
       "      <td>0.811912</td>\n",
       "      <td>0.85</td>\n",
       "      <td>0.845768</td>\n",
       "      <td>0.625000</td>\n",
       "    </tr>\n",
       "    <tr>\n",
       "      <th>2</th>\n",
       "      <td>30</td>\n",
       "      <td>[1, 0, 1, 0, 1, 0, 1, 1, 0, 0, 0, 0, 0, 0, 1, ...</td>\n",
       "      <td>[0, 0, 1, 0, 0, 0, 1, 1, 0, 0, 0, 0, 0, 0, 1, ...</td>\n",
       "      <td>0.90</td>\n",
       "      <td>0.866667</td>\n",
       "      <td>0.90</td>\n",
       "      <td>0.893333</td>\n",
       "      <td>0.736842</td>\n",
       "    </tr>\n",
       "  </tbody>\n",
       "</table>\n",
       "</div>"
      ],
      "text/plain": [
       "   train_size                                             y_true  \\\n",
       "0          30  [0, 0, 0, 1, 1, 1, 0, 1, 0, 0, 0, 0, 0, 1, 0, ...   \n",
       "1          30  [0, 1, 0, 0, 1, 1, 0, 0, 1, 0, 0, 0, 0, 0, 1, ...   \n",
       "2          30  [1, 0, 1, 0, 1, 0, 1, 1, 0, 0, 0, 0, 0, 0, 1, ...   \n",
       "\n",
       "                                              y_pred  accuracy  f1_macro  \\\n",
       "0  [0, 0, 0, 1, 0, 0, 0, 0, 0, 0, 0, 0, 0, 1, 0, ...      0.80  0.687500   \n",
       "1  [0, 1, 0, 0, 1, 0, 0, 0, 0, 0, 0, 1, 0, 0, 1, ...      0.85  0.811912   \n",
       "2  [0, 0, 1, 0, 0, 0, 1, 1, 0, 0, 0, 0, 0, 0, 1, ...      0.90  0.866667   \n",
       "\n",
       "   f1_micro  f1_weighted     kappa  \n",
       "0      0.80     0.762500  0.411765  \n",
       "1      0.85     0.845768  0.625000  \n",
       "2      0.90     0.893333  0.736842  "
      ]
     },
     "execution_count": 29,
     "metadata": {},
     "output_type": "execute_result"
    }
   ],
   "source": [
    "compiled_res_30 = pd.DataFrame(metrics_dict())\n",
    "compiled_res_30.head(3)"
   ]
  },
  {
   "cell_type": "markdown",
   "metadata": {},
   "source": [
    "### training size = 35"
   ]
  },
  {
   "cell_type": "code",
   "execution_count": 30,
   "metadata": {},
   "outputs": [],
   "source": [
    "train_size = 35\n",
    "iterations = 10\n",
    "y_test_all = []\n",
    "y_pred_all = []\n",
    "acc_scores = []\n",
    "f1macro_scores = []\n",
    "f1micro_scores = []\n",
    "f1weighted_scores = []\n",
    "kappa_scores = []"
   ]
  },
  {
   "cell_type": "code",
   "execution_count": 31,
   "metadata": {},
   "outputs": [
    {
     "name": "stdout",
     "output_type": "stream",
     "text": [
      "-------------Iteration 1/10\n",
      "35 15\n",
      "random_state = 42\n"
     ]
    },
    {
     "name": "stderr",
     "output_type": "stream",
     "text": [
      "[Parallel(n_jobs=1)]: Done  49 tasks      | elapsed:    0.0s\n",
      "[Parallel(n_jobs=1)]: Done 199 tasks      | elapsed:    0.1s\n",
      "[Parallel(n_jobs=1)]: Done  49 tasks      | elapsed:    0.0s\n",
      "[Parallel(n_jobs=1)]: Done 199 tasks      | elapsed:    0.0s\n"
     ]
    },
    {
     "name": "stdout",
     "output_type": "stream",
     "text": [
      "Accuracy: 0.7333333333333333\n",
      "F1 macro: 0.4230769230769231\n",
      "F1 micro: 0.7333333333333333\n",
      "F1 weighted: 0.6205128205128205\n",
      "Kappa: 0.0\n",
      "-------------Iteration 2/10\n",
      "35 15\n",
      "random_state = 43\n"
     ]
    },
    {
     "name": "stderr",
     "output_type": "stream",
     "text": [
      "[Parallel(n_jobs=1)]: Done  49 tasks      | elapsed:    0.0s\n",
      "[Parallel(n_jobs=1)]: Done 199 tasks      | elapsed:    0.2s\n",
      "[Parallel(n_jobs=1)]: Done  49 tasks      | elapsed:    0.0s\n",
      "[Parallel(n_jobs=1)]: Done 199 tasks      | elapsed:    0.0s\n"
     ]
    },
    {
     "name": "stdout",
     "output_type": "stream",
     "text": [
      "Accuracy: 0.8\n",
      "F1 macro: 0.7619047619047619\n",
      "F1 micro: 0.8\n",
      "F1 weighted: 0.8063492063492064\n",
      "Kappa: 0.5263157894736842\n",
      "-------------Iteration 3/10\n",
      "35 15\n",
      "random_state = 44\n"
     ]
    },
    {
     "name": "stderr",
     "output_type": "stream",
     "text": [
      "[Parallel(n_jobs=1)]: Done  49 tasks      | elapsed:    0.0s\n",
      "[Parallel(n_jobs=1)]: Done 199 tasks      | elapsed:    0.2s\n",
      "[Parallel(n_jobs=1)]: Done  49 tasks      | elapsed:    0.0s\n",
      "[Parallel(n_jobs=1)]: Done 199 tasks      | elapsed:    0.0s\n"
     ]
    },
    {
     "name": "stdout",
     "output_type": "stream",
     "text": [
      "Accuracy: 0.9333333333333333\n",
      "F1 macro: 0.9068322981366459\n",
      "F1 micro: 0.9333333333333333\n",
      "F1 weighted: 0.9300207039337475\n",
      "Kappa: 0.8148148148148149\n",
      "-------------Iteration 4/10\n",
      "35 15\n",
      "random_state = 45\n"
     ]
    },
    {
     "name": "stderr",
     "output_type": "stream",
     "text": [
      "[Parallel(n_jobs=1)]: Done  49 tasks      | elapsed:    0.0s\n",
      "[Parallel(n_jobs=1)]: Done 199 tasks      | elapsed:    0.2s\n",
      "[Parallel(n_jobs=1)]: Done  49 tasks      | elapsed:    0.0s\n",
      "[Parallel(n_jobs=1)]: Done 199 tasks      | elapsed:    0.0s\n"
     ]
    },
    {
     "name": "stdout",
     "output_type": "stream",
     "text": [
      "Accuracy: 0.8\n",
      "F1 macro: 0.7204968944099379\n",
      "F1 micro: 0.8\n",
      "F1 weighted: 0.7701863354037267\n",
      "Kappa: 0.47058823529411764\n",
      "-------------Iteration 5/10\n",
      "35 15\n",
      "random_state = 46\n"
     ]
    },
    {
     "name": "stderr",
     "output_type": "stream",
     "text": [
      "[Parallel(n_jobs=1)]: Done  49 tasks      | elapsed:    0.1s\n",
      "[Parallel(n_jobs=1)]: Done 199 tasks      | elapsed:    0.2s\n",
      "[Parallel(n_jobs=1)]: Done  49 tasks      | elapsed:    0.0s\n",
      "[Parallel(n_jobs=1)]: Done 199 tasks      | elapsed:    0.0s\n"
     ]
    },
    {
     "name": "stdout",
     "output_type": "stream",
     "text": [
      "Accuracy: 0.6666666666666666\n",
      "F1 macro: 0.6411483253588517\n",
      "F1 micro: 0.6666666666666666\n",
      "F1 weighted: 0.6730462519936203\n",
      "Kappa: 0.2857142857142857\n",
      "-------------Iteration 6/10\n",
      "35 15\n",
      "random_state = 47\n"
     ]
    },
    {
     "name": "stderr",
     "output_type": "stream",
     "text": [
      "[Parallel(n_jobs=1)]: Done  49 tasks      | elapsed:    0.0s\n",
      "[Parallel(n_jobs=1)]: Done 199 tasks      | elapsed:    0.2s\n",
      "[Parallel(n_jobs=1)]: Done  49 tasks      | elapsed:    0.0s\n",
      "[Parallel(n_jobs=1)]: Done 199 tasks      | elapsed:    0.0s\n"
     ]
    },
    {
     "name": "stdout",
     "output_type": "stream",
     "text": [
      "Accuracy: 0.6666666666666666\n",
      "F1 macro: 0.6031746031746031\n",
      "F1 micro: 0.6666666666666666\n",
      "F1 weighted: 0.6560846560846562\n",
      "Kappa: 0.21052631578947367\n",
      "-------------Iteration 7/10\n",
      "35 15\n",
      "random_state = 48\n"
     ]
    },
    {
     "name": "stderr",
     "output_type": "stream",
     "text": [
      "[Parallel(n_jobs=1)]: Done  49 tasks      | elapsed:    0.0s\n",
      "[Parallel(n_jobs=1)]: Done 199 tasks      | elapsed:    0.2s\n",
      "[Parallel(n_jobs=1)]: Done  49 tasks      | elapsed:    0.0s\n",
      "[Parallel(n_jobs=1)]: Done 199 tasks      | elapsed:    0.0s\n"
     ]
    },
    {
     "name": "stdout",
     "output_type": "stream",
     "text": [
      "Accuracy: 0.8666666666666667\n",
      "F1 macro: 0.8295454545454546\n",
      "F1 micro: 0.8666666666666667\n",
      "F1 weighted: 0.8666666666666667\n",
      "Kappa: 0.6590909090909091\n",
      "-------------Iteration 8/10\n",
      "35 15\n",
      "random_state = 49\n"
     ]
    },
    {
     "name": "stderr",
     "output_type": "stream",
     "text": [
      "[Parallel(n_jobs=1)]: Done  49 tasks      | elapsed:    0.1s\n",
      "[Parallel(n_jobs=1)]: Done 199 tasks      | elapsed:    0.2s\n",
      "[Parallel(n_jobs=1)]: Done  49 tasks      | elapsed:    0.0s\n",
      "[Parallel(n_jobs=1)]: Done 199 tasks      | elapsed:    0.0s\n"
     ]
    },
    {
     "name": "stdout",
     "output_type": "stream",
     "text": [
      "Accuracy: 0.8\n",
      "F1 macro: 0.7619047619047619\n",
      "F1 micro: 0.8\n",
      "F1 weighted: 0.8063492063492064\n",
      "Kappa: 0.5263157894736842\n",
      "-------------Iteration 9/10\n",
      "35 15\n",
      "random_state = 50\n"
     ]
    },
    {
     "name": "stderr",
     "output_type": "stream",
     "text": [
      "[Parallel(n_jobs=1)]: Done  49 tasks      | elapsed:    0.0s\n",
      "[Parallel(n_jobs=1)]: Done 199 tasks      | elapsed:    0.2s\n",
      "[Parallel(n_jobs=1)]: Done  49 tasks      | elapsed:    0.0s\n",
      "[Parallel(n_jobs=1)]: Done 199 tasks      | elapsed:    0.0s\n"
     ]
    },
    {
     "name": "stdout",
     "output_type": "stream",
     "text": [
      "Accuracy: 0.6666666666666666\n",
      "F1 macro: 0.6411483253588517\n",
      "F1 micro: 0.6666666666666666\n",
      "F1 weighted: 0.6858054226475279\n",
      "Kappa: 0.3119266055045873\n",
      "-------------Iteration 10/10\n",
      "35 15\n",
      "random_state = 51\n",
      "Accuracy: 0.7333333333333333\n",
      "F1 macro: 0.5833333333333334\n",
      "F1 micro: 0.7333333333333333\n",
      "F1 weighted: 0.7000000000000001\n",
      "Kappa: 0.18918918918918926\n"
     ]
    },
    {
     "name": "stderr",
     "output_type": "stream",
     "text": [
      "[Parallel(n_jobs=1)]: Done  49 tasks      | elapsed:    0.0s\n",
      "[Parallel(n_jobs=1)]: Done 199 tasks      | elapsed:    0.2s\n",
      "[Parallel(n_jobs=1)]: Done  49 tasks      | elapsed:    0.0s\n",
      "[Parallel(n_jobs=1)]: Done 199 tasks      | elapsed:    0.0s\n"
     ]
    }
   ],
   "source": [
    "for n in range(iterations):\n",
    "    print(f\"-------------Iteration {n + 1}/{iterations}\")\n",
    "    random_state=42+n\n",
    "\n",
    "    X_train, y_train, X_test, y_test = prepare_dataset_classification(\n",
    "        df,\n",
    "        random_state=random_state,\n",
    "        train_size=train_size\n",
    "    )\n",
    "    print(f\"random_state = {random_state}\")\n",
    "\n",
    "    y_test, y_pred, acc, f1_macro, f1_micro, f1_weighted, kappa = train_and_evaluate_classifier(\n",
    "        X_train, \n",
    "        y_train, \n",
    "        X_test, \n",
    "        y_test, \n",
    "        random_state=random_state\n",
    "    )\n",
    "    \n",
    "    y_test_all.append(y_test)\n",
    "    y_pred_all.append(y_pred)    \n",
    "    acc_scores.append(acc)\n",
    "    f1macro_scores.append(f1_macro)\n",
    "    f1micro_scores.append(f1_micro)\n",
    "    f1weighted_scores.append(f1_weighted)\n",
    "    kappa_scores.append(kappa)\n",
    "    print(f\"Accuracy: {acc}\")\n",
    "    print(f\"F1 macro: {f1_macro}\")\n",
    "    print(f\"F1 micro: {f1_micro}\")\n",
    "    print(f\"F1 weighted: {f1_weighted}\")\n",
    "    print(f\"Kappa: {kappa}\")"
   ]
  },
  {
   "cell_type": "code",
   "execution_count": 32,
   "metadata": {},
   "outputs": [
    {
     "name": "stdout",
     "output_type": "stream",
     "text": [
      "FINAL REPORT for training size = 35\n",
      "mean accuracy: 0.7666666666666667 +/- 0.08563488385776756\n",
      "mean F1 macro: 0.6872565681204125 +/- 0.13138565138126265\n",
      "mean F1 micro: 0.7666666666666667 +/- 0.08563488385776756\n",
      "mean F1 weighted: 0.7515021269941179 +/- 0.09533299529450723\n",
      "mean Kappa: 0.3994481934344746 +/- 0.2317865534132568\n"
     ]
    }
   ],
   "source": [
    "print(f\"FINAL REPORT for training size = {train_size}\")\n",
    "\n",
    "print(f\"mean accuracy: {np.mean(acc_scores)} +/- {np.std(acc_scores)}\")\n",
    "print(f\"mean F1 macro: {np.mean(f1macro_scores)} +/- {np.std(f1macro_scores)}\")\n",
    "print(f\"mean F1 micro: {np.mean(f1micro_scores)} +/- {np.std(f1micro_scores)}\")\n",
    "print(f\"mean F1 weighted: {np.mean(f1weighted_scores)} +/- {np.std(f1weighted_scores)}\")\n",
    "print(f\"mean Kappa: {np.mean(kappa_scores)} +/- {np.std(kappa_scores)}\")"
   ]
  },
  {
   "cell_type": "code",
   "execution_count": 33,
   "metadata": {},
   "outputs": [
    {
     "data": {
      "text/html": [
       "<div>\n",
       "<style scoped>\n",
       "    .dataframe tbody tr th:only-of-type {\n",
       "        vertical-align: middle;\n",
       "    }\n",
       "\n",
       "    .dataframe tbody tr th {\n",
       "        vertical-align: top;\n",
       "    }\n",
       "\n",
       "    .dataframe thead th {\n",
       "        text-align: right;\n",
       "    }\n",
       "</style>\n",
       "<table border=\"1\" class=\"dataframe\">\n",
       "  <thead>\n",
       "    <tr style=\"text-align: right;\">\n",
       "      <th></th>\n",
       "      <th>train_size</th>\n",
       "      <th>y_true</th>\n",
       "      <th>y_pred</th>\n",
       "      <th>accuracy</th>\n",
       "      <th>f1_macro</th>\n",
       "      <th>f1_micro</th>\n",
       "      <th>f1_weighted</th>\n",
       "      <th>kappa</th>\n",
       "    </tr>\n",
       "  </thead>\n",
       "  <tbody>\n",
       "    <tr>\n",
       "      <th>0</th>\n",
       "      <td>35</td>\n",
       "      <td>[0, 0, 0, 1, 1, 0, 0, 0, 0, 1, 0, 0, 0, 0, 1]</td>\n",
       "      <td>[0, 0, 0, 0, 0, 0, 0, 0, 0, 0, 0, 0, 0, 0, 0]</td>\n",
       "      <td>0.733333</td>\n",
       "      <td>0.423077</td>\n",
       "      <td>0.733333</td>\n",
       "      <td>0.620513</td>\n",
       "      <td>0.000000</td>\n",
       "    </tr>\n",
       "    <tr>\n",
       "      <th>1</th>\n",
       "      <td>35</td>\n",
       "      <td>[0, 0, 0, 0, 0, 1, 1, 0, 0, 0, 0, 0, 1, 1, 0]</td>\n",
       "      <td>[1, 0, 0, 1, 0, 1, 1, 0, 0, 0, 0, 0, 0, 1, 0]</td>\n",
       "      <td>0.800000</td>\n",
       "      <td>0.761905</td>\n",
       "      <td>0.800000</td>\n",
       "      <td>0.806349</td>\n",
       "      <td>0.526316</td>\n",
       "    </tr>\n",
       "    <tr>\n",
       "      <th>2</th>\n",
       "      <td>35</td>\n",
       "      <td>[1, 0, 1, 0, 0, 1, 0, 0, 1, 0, 0, 0, 0, 0, 0]</td>\n",
       "      <td>[1, 0, 1, 0, 0, 0, 0, 0, 1, 0, 0, 0, 0, 0, 0]</td>\n",
       "      <td>0.933333</td>\n",
       "      <td>0.906832</td>\n",
       "      <td>0.933333</td>\n",
       "      <td>0.930021</td>\n",
       "      <td>0.814815</td>\n",
       "    </tr>\n",
       "  </tbody>\n",
       "</table>\n",
       "</div>"
      ],
      "text/plain": [
       "   train_size                                         y_true  \\\n",
       "0          35  [0, 0, 0, 1, 1, 0, 0, 0, 0, 1, 0, 0, 0, 0, 1]   \n",
       "1          35  [0, 0, 0, 0, 0, 1, 1, 0, 0, 0, 0, 0, 1, 1, 0]   \n",
       "2          35  [1, 0, 1, 0, 0, 1, 0, 0, 1, 0, 0, 0, 0, 0, 0]   \n",
       "\n",
       "                                          y_pred  accuracy  f1_macro  \\\n",
       "0  [0, 0, 0, 0, 0, 0, 0, 0, 0, 0, 0, 0, 0, 0, 0]  0.733333  0.423077   \n",
       "1  [1, 0, 0, 1, 0, 1, 1, 0, 0, 0, 0, 0, 0, 1, 0]  0.800000  0.761905   \n",
       "2  [1, 0, 1, 0, 0, 0, 0, 0, 1, 0, 0, 0, 0, 0, 0]  0.933333  0.906832   \n",
       "\n",
       "   f1_micro  f1_weighted     kappa  \n",
       "0  0.733333     0.620513  0.000000  \n",
       "1  0.800000     0.806349  0.526316  \n",
       "2  0.933333     0.930021  0.814815  "
      ]
     },
     "execution_count": 33,
     "metadata": {},
     "output_type": "execute_result"
    }
   ],
   "source": [
    "compiled_res_35 = pd.DataFrame(metrics_dict())\n",
    "compiled_res_35.head(3)"
   ]
  },
  {
   "cell_type": "markdown",
   "metadata": {},
   "source": [
    "### training size = 40"
   ]
  },
  {
   "cell_type": "code",
   "execution_count": 34,
   "metadata": {},
   "outputs": [],
   "source": [
    "train_size = 40\n",
    "iterations = 10\n",
    "y_test_all = []\n",
    "y_pred_all = []\n",
    "acc_scores = []\n",
    "f1macro_scores = []\n",
    "f1micro_scores = []\n",
    "f1weighted_scores = []\n",
    "kappa_scores = []"
   ]
  },
  {
   "cell_type": "code",
   "execution_count": 35,
   "metadata": {},
   "outputs": [
    {
     "name": "stdout",
     "output_type": "stream",
     "text": [
      "-------------Iteration 1/10\n",
      "40 10\n",
      "random_state = 42\n"
     ]
    },
    {
     "name": "stderr",
     "output_type": "stream",
     "text": [
      "[Parallel(n_jobs=1)]: Done  49 tasks      | elapsed:    0.0s\n",
      "[Parallel(n_jobs=1)]: Done 199 tasks      | elapsed:    0.1s\n",
      "[Parallel(n_jobs=1)]: Done  49 tasks      | elapsed:    0.0s\n",
      "[Parallel(n_jobs=1)]: Done 199 tasks      | elapsed:    0.0s\n"
     ]
    },
    {
     "name": "stdout",
     "output_type": "stream",
     "text": [
      "Accuracy: 0.6\n",
      "F1 macro: 0.375\n",
      "F1 micro: 0.6\n",
      "F1 weighted: 0.525\n",
      "Kappa: -0.17647058823529393\n",
      "-------------Iteration 2/10\n",
      "40 10\n",
      "random_state = 43\n"
     ]
    },
    {
     "name": "stderr",
     "output_type": "stream",
     "text": [
      "[Parallel(n_jobs=1)]: Done  49 tasks      | elapsed:    0.0s\n",
      "[Parallel(n_jobs=1)]: Done 199 tasks      | elapsed:    0.2s\n",
      "[Parallel(n_jobs=1)]: Done  49 tasks      | elapsed:    0.0s\n",
      "[Parallel(n_jobs=1)]: Done 199 tasks      | elapsed:    0.0s\n"
     ]
    },
    {
     "name": "stdout",
     "output_type": "stream",
     "text": [
      "Accuracy: 0.8\n",
      "F1 macro: 0.7619047619047619\n",
      "F1 micro: 0.8\n",
      "F1 weighted: 0.8\n",
      "Kappa: 0.5238095238095238\n",
      "-------------Iteration 3/10\n",
      "40 10\n",
      "random_state = 44\n"
     ]
    },
    {
     "name": "stderr",
     "output_type": "stream",
     "text": [
      "[Parallel(n_jobs=1)]: Done  49 tasks      | elapsed:    0.0s\n",
      "[Parallel(n_jobs=1)]: Done 199 tasks      | elapsed:    0.2s\n",
      "[Parallel(n_jobs=1)]: Done  49 tasks      | elapsed:    0.0s\n",
      "[Parallel(n_jobs=1)]: Done 199 tasks      | elapsed:    0.0s\n"
     ]
    },
    {
     "name": "stdout",
     "output_type": "stream",
     "text": [
      "Accuracy: 0.9\n",
      "F1 macro: 0.8666666666666667\n",
      "F1 micro: 0.9\n",
      "F1 weighted: 0.8933333333333333\n",
      "Kappa: 0.736842105263158\n",
      "-------------Iteration 4/10\n",
      "40 10\n",
      "random_state = 45\n"
     ]
    },
    {
     "name": "stderr",
     "output_type": "stream",
     "text": [
      "[Parallel(n_jobs=1)]: Done  49 tasks      | elapsed:    0.0s\n",
      "[Parallel(n_jobs=1)]: Done 199 tasks      | elapsed:    0.1s\n",
      "[Parallel(n_jobs=1)]: Done  49 tasks      | elapsed:    0.0s\n",
      "[Parallel(n_jobs=1)]: Done 199 tasks      | elapsed:    0.0s\n"
     ]
    },
    {
     "name": "stdout",
     "output_type": "stream",
     "text": [
      "Accuracy: 0.7\n",
      "F1 macro: 0.6000000000000001\n",
      "F1 micro: 0.7\n",
      "F1 weighted: 0.68\n",
      "Kappa: 0.21052631578947367\n",
      "-------------Iteration 5/10\n",
      "40 10\n",
      "random_state = 46\n"
     ]
    },
    {
     "name": "stderr",
     "output_type": "stream",
     "text": [
      "[Parallel(n_jobs=1)]: Done  49 tasks      | elapsed:    0.0s\n",
      "[Parallel(n_jobs=1)]: Done 199 tasks      | elapsed:    0.2s\n",
      "[Parallel(n_jobs=1)]: Done  49 tasks      | elapsed:    0.0s\n",
      "[Parallel(n_jobs=1)]: Done 199 tasks      | elapsed:    0.0s\n"
     ]
    },
    {
     "name": "stdout",
     "output_type": "stream",
     "text": [
      "Accuracy: 0.7\n",
      "F1 macro: 0.696969696969697\n",
      "F1 micro: 0.7\n",
      "F1 weighted: 0.7090909090909091\n",
      "Kappa: 0.44444444444444453\n",
      "-------------Iteration 6/10\n",
      "40 10\n",
      "random_state = 47\n"
     ]
    },
    {
     "name": "stderr",
     "output_type": "stream",
     "text": [
      "[Parallel(n_jobs=1)]: Done  49 tasks      | elapsed:    0.0s\n",
      "[Parallel(n_jobs=1)]: Done 199 tasks      | elapsed:    0.2s\n",
      "[Parallel(n_jobs=1)]: Done  49 tasks      | elapsed:    0.0s\n",
      "[Parallel(n_jobs=1)]: Done 199 tasks      | elapsed:    0.0s\n"
     ]
    },
    {
     "name": "stdout",
     "output_type": "stream",
     "text": [
      "Accuracy: 0.8\n",
      "F1 macro: 0.7619047619047619\n",
      "F1 micro: 0.8\n",
      "F1 weighted: 0.8\n",
      "Kappa: 0.5238095238095238\n",
      "-------------Iteration 7/10\n",
      "40 10\n",
      "random_state = 48\n",
      "Accuracy: 1.0\n",
      "F1 macro: 1.0\n",
      "F1 micro: 1.0\n",
      "F1 weighted: 1.0\n",
      "Kappa: 1.0\n",
      "-------------Iteration 8/10\n",
      "40 10\n",
      "random_state = 49\n"
     ]
    },
    {
     "name": "stderr",
     "output_type": "stream",
     "text": [
      "[Parallel(n_jobs=1)]: Done  49 tasks      | elapsed:    0.0s\n",
      "[Parallel(n_jobs=1)]: Done 199 tasks      | elapsed:    0.1s\n",
      "[Parallel(n_jobs=1)]: Done  49 tasks      | elapsed:    0.0s\n",
      "[Parallel(n_jobs=1)]: Done 199 tasks      | elapsed:    0.0s\n",
      "[Parallel(n_jobs=1)]: Done  49 tasks      | elapsed:    0.0s\n",
      "[Parallel(n_jobs=1)]: Done 199 tasks      | elapsed:    0.1s\n",
      "[Parallel(n_jobs=1)]: Done  49 tasks      | elapsed:    0.0s\n",
      "[Parallel(n_jobs=1)]: Done 199 tasks      | elapsed:    0.0s\n",
      "[Parallel(n_jobs=1)]: Done  49 tasks      | elapsed:    0.0s\n",
      "[Parallel(n_jobs=1)]: Done 199 tasks      | elapsed:    0.1s\n",
      "[Parallel(n_jobs=1)]: Done  49 tasks      | elapsed:    0.0s\n",
      "[Parallel(n_jobs=1)]: Done 199 tasks      | elapsed:    0.0s\n"
     ]
    },
    {
     "name": "stdout",
     "output_type": "stream",
     "text": [
      "Accuracy: 0.9\n",
      "F1 macro: 0.8901098901098901\n",
      "F1 micro: 0.9\n",
      "F1 weighted: 0.9032967032967033\n",
      "Kappa: 0.7826086956521738\n",
      "-------------Iteration 9/10\n",
      "40 10\n",
      "random_state = 50\n",
      "Accuracy: 0.8\n",
      "F1 macro: 0.7916666666666667\n",
      "F1 micro: 0.8\n",
      "F1 weighted: 0.8083333333333333\n",
      "Kappa: 0.6\n",
      "-------------Iteration 10/10\n",
      "40 10\n",
      "random_state = 51\n",
      "Accuracy: 0.6\n",
      "F1 macro: 0.5238095238095238\n",
      "F1 micro: 0.6\n",
      "F1 weighted: 0.6\n",
      "Kappa: 0.04761904761904767\n"
     ]
    },
    {
     "name": "stderr",
     "output_type": "stream",
     "text": [
      "[Parallel(n_jobs=1)]: Done  49 tasks      | elapsed:    0.0s\n",
      "[Parallel(n_jobs=1)]: Done 199 tasks      | elapsed:    0.1s\n",
      "[Parallel(n_jobs=1)]: Done  49 tasks      | elapsed:    0.0s\n",
      "[Parallel(n_jobs=1)]: Done 199 tasks      | elapsed:    0.0s\n"
     ]
    }
   ],
   "source": [
    "for n in range(iterations):\n",
    "    print(f\"-------------Iteration {n + 1}/{iterations}\")\n",
    "    random_state=42+n\n",
    "\n",
    "    X_train, y_train, X_test, y_test = prepare_dataset_classification(\n",
    "        df,\n",
    "        random_state=random_state,\n",
    "        train_size=train_size\n",
    "    )\n",
    "    print(f\"random_state = {random_state}\")\n",
    "\n",
    "    y_test, y_pred, acc, f1_macro, f1_micro, f1_weighted, kappa = train_and_evaluate_classifier(\n",
    "        X_train, \n",
    "        y_train, \n",
    "        X_test, \n",
    "        y_test, \n",
    "        random_state=random_state\n",
    "    )\n",
    "    \n",
    "    y_test_all.append(y_test)\n",
    "    y_pred_all.append(y_pred)    \n",
    "    acc_scores.append(acc)\n",
    "    f1macro_scores.append(f1_macro)\n",
    "    f1micro_scores.append(f1_micro)\n",
    "    f1weighted_scores.append(f1_weighted)\n",
    "    kappa_scores.append(kappa)\n",
    "    print(f\"Accuracy: {acc}\")\n",
    "    print(f\"F1 macro: {f1_macro}\")\n",
    "    print(f\"F1 micro: {f1_micro}\")\n",
    "    print(f\"F1 weighted: {f1_weighted}\")\n",
    "    print(f\"Kappa: {kappa}\")"
   ]
  },
  {
   "cell_type": "code",
   "execution_count": 36,
   "metadata": {},
   "outputs": [
    {
     "name": "stdout",
     "output_type": "stream",
     "text": [
      "FINAL REPORT for training size = 40\n",
      "mean accuracy: 0.78 +/- 0.12489995996796799\n",
      "mean F1 macro: 0.7268031968031968 +/- 0.17592040189076813\n",
      "mean F1 micro: 0.78 +/- 0.12489995996796799\n",
      "mean F1 weighted: 0.7719054279054279 +/- 0.13778504180993995\n",
      "mean Kappa: 0.46931890681520516 +/- 0.3371683208976851\n"
     ]
    }
   ],
   "source": [
    "print(f\"FINAL REPORT for training size = {train_size}\")\n",
    "\n",
    "print(f\"mean accuracy: {np.mean(acc_scores)} +/- {np.std(acc_scores)}\")\n",
    "print(f\"mean F1 macro: {np.mean(f1macro_scores)} +/- {np.std(f1macro_scores)}\")\n",
    "print(f\"mean F1 micro: {np.mean(f1micro_scores)} +/- {np.std(f1micro_scores)}\")\n",
    "print(f\"mean F1 weighted: {np.mean(f1weighted_scores)} +/- {np.std(f1weighted_scores)}\")\n",
    "print(f\"mean Kappa: {np.mean(kappa_scores)} +/- {np.std(kappa_scores)}\")"
   ]
  },
  {
   "cell_type": "code",
   "execution_count": 37,
   "metadata": {},
   "outputs": [
    {
     "data": {
      "text/html": [
       "<div>\n",
       "<style scoped>\n",
       "    .dataframe tbody tr th:only-of-type {\n",
       "        vertical-align: middle;\n",
       "    }\n",
       "\n",
       "    .dataframe tbody tr th {\n",
       "        vertical-align: top;\n",
       "    }\n",
       "\n",
       "    .dataframe thead th {\n",
       "        text-align: right;\n",
       "    }\n",
       "</style>\n",
       "<table border=\"1\" class=\"dataframe\">\n",
       "  <thead>\n",
       "    <tr style=\"text-align: right;\">\n",
       "      <th></th>\n",
       "      <th>train_size</th>\n",
       "      <th>y_true</th>\n",
       "      <th>y_pred</th>\n",
       "      <th>accuracy</th>\n",
       "      <th>f1_macro</th>\n",
       "      <th>f1_micro</th>\n",
       "      <th>f1_weighted</th>\n",
       "      <th>kappa</th>\n",
       "    </tr>\n",
       "  </thead>\n",
       "  <tbody>\n",
       "    <tr>\n",
       "      <th>0</th>\n",
       "      <td>40</td>\n",
       "      <td>[0, 0, 1, 0, 0, 1, 1, 0, 0, 0]</td>\n",
       "      <td>[0, 0, 0, 0, 0, 0, 0, 0, 0, 1]</td>\n",
       "      <td>0.6</td>\n",
       "      <td>0.375000</td>\n",
       "      <td>0.6</td>\n",
       "      <td>0.525000</td>\n",
       "      <td>-0.176471</td>\n",
       "    </tr>\n",
       "    <tr>\n",
       "      <th>1</th>\n",
       "      <td>40</td>\n",
       "      <td>[1, 0, 0, 0, 0, 0, 1, 0, 0, 1]</td>\n",
       "      <td>[1, 0, 0, 1, 0, 0, 1, 0, 0, 0]</td>\n",
       "      <td>0.8</td>\n",
       "      <td>0.761905</td>\n",
       "      <td>0.8</td>\n",
       "      <td>0.800000</td>\n",
       "      <td>0.523810</td>\n",
       "    </tr>\n",
       "    <tr>\n",
       "      <th>2</th>\n",
       "      <td>40</td>\n",
       "      <td>[0, 0, 1, 1, 0, 0, 0, 0, 1, 0]</td>\n",
       "      <td>[0, 0, 1, 0, 0, 0, 0, 0, 1, 0]</td>\n",
       "      <td>0.9</td>\n",
       "      <td>0.866667</td>\n",
       "      <td>0.9</td>\n",
       "      <td>0.893333</td>\n",
       "      <td>0.736842</td>\n",
       "    </tr>\n",
       "  </tbody>\n",
       "</table>\n",
       "</div>"
      ],
      "text/plain": [
       "   train_size                          y_true                          y_pred  \\\n",
       "0          40  [0, 0, 1, 0, 0, 1, 1, 0, 0, 0]  [0, 0, 0, 0, 0, 0, 0, 0, 0, 1]   \n",
       "1          40  [1, 0, 0, 0, 0, 0, 1, 0, 0, 1]  [1, 0, 0, 1, 0, 0, 1, 0, 0, 0]   \n",
       "2          40  [0, 0, 1, 1, 0, 0, 0, 0, 1, 0]  [0, 0, 1, 0, 0, 0, 0, 0, 1, 0]   \n",
       "\n",
       "   accuracy  f1_macro  f1_micro  f1_weighted     kappa  \n",
       "0       0.6  0.375000       0.6     0.525000 -0.176471  \n",
       "1       0.8  0.761905       0.8     0.800000  0.523810  \n",
       "2       0.9  0.866667       0.9     0.893333  0.736842  "
      ]
     },
     "execution_count": 37,
     "metadata": {},
     "output_type": "execute_result"
    }
   ],
   "source": [
    "compiled_res_40 = pd.DataFrame(metrics_dict())\n",
    "compiled_res_40.head(3)"
   ]
  },
  {
   "cell_type": "markdown",
   "metadata": {},
   "source": [
    "### training size = 45"
   ]
  },
  {
   "cell_type": "code",
   "execution_count": 38,
   "metadata": {},
   "outputs": [],
   "source": [
    "train_size = 45\n",
    "iterations = 10\n",
    "y_test_all = []\n",
    "y_pred_all = []\n",
    "acc_scores = []\n",
    "f1macro_scores = []\n",
    "f1micro_scores = []\n",
    "f1weighted_scores = []\n",
    "kappa_scores = []"
   ]
  },
  {
   "cell_type": "code",
   "execution_count": 39,
   "metadata": {},
   "outputs": [
    {
     "name": "stdout",
     "output_type": "stream",
     "text": [
      "-------------Iteration 1/10\n",
      "45 5\n",
      "random_state = 42\n"
     ]
    },
    {
     "name": "stderr",
     "output_type": "stream",
     "text": [
      "[Parallel(n_jobs=1)]: Done  49 tasks      | elapsed:    0.0s\n",
      "[Parallel(n_jobs=1)]: Done 199 tasks      | elapsed:    0.2s\n",
      "[Parallel(n_jobs=1)]: Done  49 tasks      | elapsed:    0.0s\n",
      "[Parallel(n_jobs=1)]: Done 199 tasks      | elapsed:    0.0s\n"
     ]
    },
    {
     "name": "stdout",
     "output_type": "stream",
     "text": [
      "Accuracy: 0.6\n",
      "F1 macro: 0.375\n",
      "F1 micro: 0.6\n",
      "F1 weighted: 0.6\n",
      "Kappa: -0.25\n",
      "-------------Iteration 2/10\n",
      "45 5\n",
      "random_state = 43\n"
     ]
    },
    {
     "name": "stderr",
     "output_type": "stream",
     "text": [
      "[Parallel(n_jobs=1)]: Done  49 tasks      | elapsed:    0.0s\n",
      "[Parallel(n_jobs=1)]: Done 199 tasks      | elapsed:    0.1s\n",
      "[Parallel(n_jobs=1)]: Done  49 tasks      | elapsed:    0.0s\n",
      "[Parallel(n_jobs=1)]: Done 199 tasks      | elapsed:    0.0s\n"
     ]
    },
    {
     "name": "stdout",
     "output_type": "stream",
     "text": [
      "Accuracy: 0.8\n",
      "F1 macro: 0.7619047619047619\n",
      "F1 micro: 0.8\n",
      "F1 weighted: 0.819047619047619\n",
      "Kappa: 0.5454545454545454\n",
      "-------------Iteration 3/10\n",
      "45 5\n",
      "random_state = 44\n"
     ]
    },
    {
     "name": "stderr",
     "output_type": "stream",
     "text": [
      "[Parallel(n_jobs=1)]: Done  49 tasks      | elapsed:    0.0s\n",
      "[Parallel(n_jobs=1)]: Done 199 tasks      | elapsed:    0.1s\n",
      "[Parallel(n_jobs=1)]: Done  49 tasks      | elapsed:    0.0s\n",
      "[Parallel(n_jobs=1)]: Done 199 tasks      | elapsed:    0.0s\n",
      "[Parallel(n_jobs=1)]: Done  49 tasks      | elapsed:    0.0s\n"
     ]
    },
    {
     "name": "stdout",
     "output_type": "stream",
     "text": [
      "Accuracy: 0.8\n",
      "F1 macro: 0.4444444444444444\n",
      "F1 micro: 0.8\n",
      "F1 weighted: 0.711111111111111\n",
      "Kappa: 0.0\n",
      "-------------Iteration 4/10\n",
      "45 5\n",
      "random_state = 45\n",
      "Accuracy: 0.6\n",
      "F1 macro: 0.375\n",
      "F1 micro: 0.6\n",
      "F1 weighted: 0.6\n",
      "Kappa: -0.25\n",
      "-------------Iteration 5/10\n",
      "45 5\n",
      "random_state = 46\n"
     ]
    },
    {
     "name": "stderr",
     "output_type": "stream",
     "text": [
      "[Parallel(n_jobs=1)]: Done 199 tasks      | elapsed:    0.1s\n",
      "[Parallel(n_jobs=1)]: Done  49 tasks      | elapsed:    0.0s\n",
      "[Parallel(n_jobs=1)]: Done 199 tasks      | elapsed:    0.0s\n",
      "[Parallel(n_jobs=1)]: Done  49 tasks      | elapsed:    0.0s\n",
      "[Parallel(n_jobs=1)]: Done 199 tasks      | elapsed:    0.1s\n",
      "[Parallel(n_jobs=1)]: Done  49 tasks      | elapsed:    0.0s\n",
      "[Parallel(n_jobs=1)]: Done 199 tasks      | elapsed:    0.0s\n"
     ]
    },
    {
     "name": "stdout",
     "output_type": "stream",
     "text": [
      "Accuracy: 0.6\n",
      "F1 macro: 0.5833333333333333\n",
      "F1 micro: 0.6\n",
      "F1 weighted: 0.6333333333333333\n",
      "Kappa: 0.2857142857142857\n",
      "-------------Iteration 6/10\n",
      "45 5\n",
      "random_state = 47\n",
      "Accuracy: 0.8\n",
      "F1 macro: 0.7619047619047619\n",
      "F1 micro: 0.8\n",
      "F1 weighted: 0.819047619047619\n",
      "Kappa: 0.5454545454545454\n",
      "-------------Iteration 7/10\n",
      "45 5\n",
      "random_state = 48\n"
     ]
    },
    {
     "name": "stderr",
     "output_type": "stream",
     "text": [
      "[Parallel(n_jobs=1)]: Done  49 tasks      | elapsed:    0.0s\n",
      "[Parallel(n_jobs=1)]: Done 199 tasks      | elapsed:    0.1s\n",
      "[Parallel(n_jobs=1)]: Done  49 tasks      | elapsed:    0.0s\n",
      "[Parallel(n_jobs=1)]: Done 199 tasks      | elapsed:    0.0s\n",
      "[Parallel(n_jobs=1)]: Done  49 tasks      | elapsed:    0.0s\n",
      "[Parallel(n_jobs=1)]: Done 199 tasks      | elapsed:    0.1s\n",
      "[Parallel(n_jobs=1)]: Done  49 tasks      | elapsed:    0.0s\n",
      "[Parallel(n_jobs=1)]: Done 199 tasks      | elapsed:    0.0s\n",
      "[Parallel(n_jobs=1)]: Done  49 tasks      | elapsed:    0.0s\n"
     ]
    },
    {
     "name": "stdout",
     "output_type": "stream",
     "text": [
      "Accuracy: 1.0\n",
      "F1 macro: 1.0\n",
      "F1 micro: 1.0\n",
      "F1 weighted: 1.0\n",
      "Kappa: 1.0\n",
      "-------------Iteration 8/10\n",
      "45 5\n",
      "random_state = 49\n",
      "Accuracy: 0.6\n",
      "F1 macro: 0.5833333333333333\n",
      "F1 micro: 0.6\n",
      "F1 weighted: 0.6333333333333333\n",
      "Kappa: 0.2857142857142857\n",
      "-------------Iteration 9/10\n",
      "45 5\n",
      "random_state = 50\n"
     ]
    },
    {
     "name": "stderr",
     "output_type": "stream",
     "text": [
      "[Parallel(n_jobs=1)]: Done 199 tasks      | elapsed:    0.1s\n",
      "[Parallel(n_jobs=1)]: Done  49 tasks      | elapsed:    0.0s\n",
      "[Parallel(n_jobs=1)]: Done 199 tasks      | elapsed:    0.0s\n",
      "[Parallel(n_jobs=1)]: Done  49 tasks      | elapsed:    0.0s\n",
      "[Parallel(n_jobs=1)]: Done 199 tasks      | elapsed:    0.1s\n",
      "[Parallel(n_jobs=1)]: Done  49 tasks      | elapsed:    0.0s\n",
      "[Parallel(n_jobs=1)]: Done 199 tasks      | elapsed:    0.0s\n"
     ]
    },
    {
     "name": "stdout",
     "output_type": "stream",
     "text": [
      "Accuracy: 0.8\n",
      "F1 macro: 0.7619047619047619\n",
      "F1 micro: 0.8\n",
      "F1 weighted: 0.819047619047619\n",
      "Kappa: 0.5454545454545454\n",
      "-------------Iteration 10/10\n",
      "45 5\n",
      "random_state = 51\n",
      "Accuracy: 0.6\n",
      "F1 macro: 0.375\n",
      "F1 micro: 0.6\n",
      "F1 weighted: 0.6\n",
      "Kappa: -0.25\n"
     ]
    },
    {
     "name": "stderr",
     "output_type": "stream",
     "text": [
      "[Parallel(n_jobs=1)]: Done  49 tasks      | elapsed:    0.0s\n",
      "[Parallel(n_jobs=1)]: Done 199 tasks      | elapsed:    0.1s\n",
      "[Parallel(n_jobs=1)]: Done  49 tasks      | elapsed:    0.0s\n",
      "[Parallel(n_jobs=1)]: Done 199 tasks      | elapsed:    0.0s\n"
     ]
    }
   ],
   "source": [
    "for n in range(iterations):\n",
    "    print(f\"-------------Iteration {n + 1}/{iterations}\")\n",
    "    random_state=42+n\n",
    "\n",
    "    X_train, y_train, X_test, y_test = prepare_dataset_classification(\n",
    "        df,\n",
    "        random_state=random_state,\n",
    "        train_size=train_size\n",
    "    )\n",
    "    print(f\"random_state = {random_state}\")\n",
    "\n",
    "    y_test, y_pred, acc, f1_macro, f1_micro, f1_weighted, kappa = train_and_evaluate_classifier(\n",
    "        X_train, \n",
    "        y_train, \n",
    "        X_test, \n",
    "        y_test, \n",
    "        random_state=random_state\n",
    "    )\n",
    "    \n",
    "    y_test_all.append(y_test)\n",
    "    y_pred_all.append(y_pred)    \n",
    "    acc_scores.append(acc)\n",
    "    f1macro_scores.append(f1_macro)\n",
    "    f1micro_scores.append(f1_micro)\n",
    "    f1weighted_scores.append(f1_weighted)\n",
    "    kappa_scores.append(kappa)\n",
    "    print(f\"Accuracy: {acc}\")\n",
    "    print(f\"F1 macro: {f1_macro}\")\n",
    "    print(f\"F1 micro: {f1_micro}\")\n",
    "    print(f\"F1 weighted: {f1_weighted}\")\n",
    "    print(f\"Kappa: {kappa}\")"
   ]
  },
  {
   "cell_type": "code",
   "execution_count": 40,
   "metadata": {},
   "outputs": [
    {
     "name": "stdout",
     "output_type": "stream",
     "text": [
      "FINAL REPORT for training size = 45\n",
      "mean accuracy: 0.72 +/- 0.13266499161421602\n",
      "mean F1 macro: 0.6021825396825397 +/- 0.20376945487668346\n",
      "mean F1 micro: 0.72 +/- 0.13266499161421602\n",
      "mean F1 weighted: 0.7234920634920633 +/- 0.12884509381834533\n",
      "mean Kappa: 0.24577922077922074 +/- 0.40487689930707504\n"
     ]
    }
   ],
   "source": [
    "print(f\"FINAL REPORT for training size = {train_size}\")\n",
    "\n",
    "print(f\"mean accuracy: {np.mean(acc_scores)} +/- {np.std(acc_scores)}\")\n",
    "print(f\"mean F1 macro: {np.mean(f1macro_scores)} +/- {np.std(f1macro_scores)}\")\n",
    "print(f\"mean F1 micro: {np.mean(f1micro_scores)} +/- {np.std(f1micro_scores)}\")\n",
    "print(f\"mean F1 weighted: {np.mean(f1weighted_scores)} +/- {np.std(f1weighted_scores)}\")\n",
    "print(f\"mean Kappa: {np.mean(kappa_scores)} +/- {np.std(kappa_scores)}\")"
   ]
  },
  {
   "cell_type": "code",
   "execution_count": 41,
   "metadata": {},
   "outputs": [
    {
     "data": {
      "text/html": [
       "<div>\n",
       "<style scoped>\n",
       "    .dataframe tbody tr th:only-of-type {\n",
       "        vertical-align: middle;\n",
       "    }\n",
       "\n",
       "    .dataframe tbody tr th {\n",
       "        vertical-align: top;\n",
       "    }\n",
       "\n",
       "    .dataframe thead th {\n",
       "        text-align: right;\n",
       "    }\n",
       "</style>\n",
       "<table border=\"1\" class=\"dataframe\">\n",
       "  <thead>\n",
       "    <tr style=\"text-align: right;\">\n",
       "      <th></th>\n",
       "      <th>train_size</th>\n",
       "      <th>y_true</th>\n",
       "      <th>y_pred</th>\n",
       "      <th>accuracy</th>\n",
       "      <th>f1_macro</th>\n",
       "      <th>f1_micro</th>\n",
       "      <th>f1_weighted</th>\n",
       "      <th>kappa</th>\n",
       "    </tr>\n",
       "  </thead>\n",
       "  <tbody>\n",
       "    <tr>\n",
       "      <th>0</th>\n",
       "      <td>45</td>\n",
       "      <td>[0, 0, 0, 1, 0]</td>\n",
       "      <td>[1, 0, 0, 0, 0]</td>\n",
       "      <td>0.6</td>\n",
       "      <td>0.375000</td>\n",
       "      <td>0.6</td>\n",
       "      <td>0.600000</td>\n",
       "      <td>-0.250000</td>\n",
       "    </tr>\n",
       "    <tr>\n",
       "      <th>1</th>\n",
       "      <td>45</td>\n",
       "      <td>[0, 0, 0, 0, 1]</td>\n",
       "      <td>[1, 0, 0, 0, 1]</td>\n",
       "      <td>0.8</td>\n",
       "      <td>0.761905</td>\n",
       "      <td>0.8</td>\n",
       "      <td>0.819048</td>\n",
       "      <td>0.545455</td>\n",
       "    </tr>\n",
       "    <tr>\n",
       "      <th>2</th>\n",
       "      <td>45</td>\n",
       "      <td>[0, 1, 0, 0, 0]</td>\n",
       "      <td>[0, 0, 0, 0, 0]</td>\n",
       "      <td>0.8</td>\n",
       "      <td>0.444444</td>\n",
       "      <td>0.8</td>\n",
       "      <td>0.711111</td>\n",
       "      <td>0.000000</td>\n",
       "    </tr>\n",
       "  </tbody>\n",
       "</table>\n",
       "</div>"
      ],
      "text/plain": [
       "   train_size           y_true           y_pred  accuracy  f1_macro  f1_micro  \\\n",
       "0          45  [0, 0, 0, 1, 0]  [1, 0, 0, 0, 0]       0.6  0.375000       0.6   \n",
       "1          45  [0, 0, 0, 0, 1]  [1, 0, 0, 0, 1]       0.8  0.761905       0.8   \n",
       "2          45  [0, 1, 0, 0, 0]  [0, 0, 0, 0, 0]       0.8  0.444444       0.8   \n",
       "\n",
       "   f1_weighted     kappa  \n",
       "0     0.600000 -0.250000  \n",
       "1     0.819048  0.545455  \n",
       "2     0.711111  0.000000  "
      ]
     },
     "execution_count": 41,
     "metadata": {},
     "output_type": "execute_result"
    }
   ],
   "source": [
    "compiled_res_45 = pd.DataFrame(metrics_dict())\n",
    "compiled_res_45.head(3)"
   ]
  },
  {
   "cell_type": "code",
   "execution_count": 42,
   "metadata": {},
   "outputs": [
    {
     "name": "stdout",
     "output_type": "stream",
     "text": [
      "90\n"
     ]
    },
    {
     "data": {
      "text/html": [
       "<div>\n",
       "<style scoped>\n",
       "    .dataframe tbody tr th:only-of-type {\n",
       "        vertical-align: middle;\n",
       "    }\n",
       "\n",
       "    .dataframe tbody tr th {\n",
       "        vertical-align: top;\n",
       "    }\n",
       "\n",
       "    .dataframe thead th {\n",
       "        text-align: right;\n",
       "    }\n",
       "</style>\n",
       "<table border=\"1\" class=\"dataframe\">\n",
       "  <thead>\n",
       "    <tr style=\"text-align: right;\">\n",
       "      <th></th>\n",
       "      <th>train_size</th>\n",
       "      <th>y_true</th>\n",
       "      <th>y_pred</th>\n",
       "      <th>accuracy</th>\n",
       "      <th>f1_macro</th>\n",
       "      <th>f1_micro</th>\n",
       "      <th>f1_weighted</th>\n",
       "      <th>kappa</th>\n",
       "    </tr>\n",
       "  </thead>\n",
       "  <tbody>\n",
       "    <tr>\n",
       "      <th>0</th>\n",
       "      <td>5</td>\n",
       "      <td>[1, 0, 0, 1, 0, 0, 1, 1, 0, 1, 0, 1, 0, 0, 0, ...</td>\n",
       "      <td>[0, 0, 0, 0, 1, 0, 1, 1, 0, 0, 0, 0, 0, 0, 0, ...</td>\n",
       "      <td>0.644444</td>\n",
       "      <td>0.518717</td>\n",
       "      <td>0.644444</td>\n",
       "      <td>0.622579</td>\n",
       "      <td>0.047619</td>\n",
       "    </tr>\n",
       "    <tr>\n",
       "      <th>1</th>\n",
       "      <td>5</td>\n",
       "      <td>[0, 0, 0, 0, 0, 1, 0, 0, 1, 1, 0, 0, 1, 0, 0, ...</td>\n",
       "      <td>[0, 0, 0, 0, 0, 0, 0, 0, 1, 0, 0, 0, 0, 0, 0, ...</td>\n",
       "      <td>0.733333</td>\n",
       "      <td>0.659091</td>\n",
       "      <td>0.733333</td>\n",
       "      <td>0.726263</td>\n",
       "      <td>0.319899</td>\n",
       "    </tr>\n",
       "    <tr>\n",
       "      <th>2</th>\n",
       "      <td>5</td>\n",
       "      <td>[0, 0, 0, 0, 0, 0, 1, 0, 1, 0, 0, 0, 0, 0, 0, ...</td>\n",
       "      <td>[0, 0, 0, 1, 0, 0, 1, 0, 0, 0, 1, 0, 1, 0, 0, ...</td>\n",
       "      <td>0.666667</td>\n",
       "      <td>0.603175</td>\n",
       "      <td>0.666667</td>\n",
       "      <td>0.670194</td>\n",
       "      <td>0.206816</td>\n",
       "    </tr>\n",
       "    <tr>\n",
       "      <th>3</th>\n",
       "      <td>5</td>\n",
       "      <td>[0, 0, 0, 1, 1, 1, 0, 1, 0, 1, 0, 0, 1, 1, 1, ...</td>\n",
       "      <td>[0, 0, 0, 0, 0, 0, 0, 0, 0, 0, 0, 0, 0, 0, 0, ...</td>\n",
       "      <td>0.688889</td>\n",
       "      <td>0.407895</td>\n",
       "      <td>0.688889</td>\n",
       "      <td>0.561988</td>\n",
       "      <td>0.000000</td>\n",
       "    </tr>\n",
       "    <tr>\n",
       "      <th>4</th>\n",
       "      <td>5</td>\n",
       "      <td>[0, 0, 0, 0, 0, 0, 0, 0, 1, 1, 1, 0, 0, 0, 1, ...</td>\n",
       "      <td>[0, 0, 0, 0, 0, 0, 0, 0, 1, 0, 0, 0, 0, 0, 0, ...</td>\n",
       "      <td>0.733333</td>\n",
       "      <td>0.583333</td>\n",
       "      <td>0.733333</td>\n",
       "      <td>0.677778</td>\n",
       "      <td>0.226361</td>\n",
       "    </tr>\n",
       "  </tbody>\n",
       "</table>\n",
       "</div>"
      ],
      "text/plain": [
       "   train_size                                             y_true  \\\n",
       "0           5  [1, 0, 0, 1, 0, 0, 1, 1, 0, 1, 0, 1, 0, 0, 0, ...   \n",
       "1           5  [0, 0, 0, 0, 0, 1, 0, 0, 1, 1, 0, 0, 1, 0, 0, ...   \n",
       "2           5  [0, 0, 0, 0, 0, 0, 1, 0, 1, 0, 0, 0, 0, 0, 0, ...   \n",
       "3           5  [0, 0, 0, 1, 1, 1, 0, 1, 0, 1, 0, 0, 1, 1, 1, ...   \n",
       "4           5  [0, 0, 0, 0, 0, 0, 0, 0, 1, 1, 1, 0, 0, 0, 1, ...   \n",
       "\n",
       "                                              y_pred  accuracy  f1_macro  \\\n",
       "0  [0, 0, 0, 0, 1, 0, 1, 1, 0, 0, 0, 0, 0, 0, 0, ...  0.644444  0.518717   \n",
       "1  [0, 0, 0, 0, 0, 0, 0, 0, 1, 0, 0, 0, 0, 0, 0, ...  0.733333  0.659091   \n",
       "2  [0, 0, 0, 1, 0, 0, 1, 0, 0, 0, 1, 0, 1, 0, 0, ...  0.666667  0.603175   \n",
       "3  [0, 0, 0, 0, 0, 0, 0, 0, 0, 0, 0, 0, 0, 0, 0, ...  0.688889  0.407895   \n",
       "4  [0, 0, 0, 0, 0, 0, 0, 0, 1, 0, 0, 0, 0, 0, 0, ...  0.733333  0.583333   \n",
       "\n",
       "   f1_micro  f1_weighted     kappa  \n",
       "0  0.644444     0.622579  0.047619  \n",
       "1  0.733333     0.726263  0.319899  \n",
       "2  0.666667     0.670194  0.206816  \n",
       "3  0.688889     0.561988  0.000000  \n",
       "4  0.733333     0.677778  0.226361  "
      ]
     },
     "execution_count": 42,
     "metadata": {},
     "output_type": "execute_result"
    }
   ],
   "source": [
    "compiled_res = pd.concat([\n",
    "    compiled_res_5, \n",
    "    compiled_res_10,\n",
    "    compiled_res_15,\n",
    "    compiled_res_20,\n",
    "    compiled_res_25,\n",
    "    compiled_res_30,\n",
    "    compiled_res_35,\n",
    "    compiled_res_40,\n",
    "    compiled_res_45,\n",
    "], ignore_index=True)\n",
    "print(len(compiled_res))\n",
    "compiled_res.head()"
   ]
  },
  {
   "cell_type": "code",
   "execution_count": 43,
   "metadata": {},
   "outputs": [],
   "source": [
    "compiled_res[\"y_true\"] = compiled_res[\"y_true\"].apply(lambda arr: list(arr))\n",
    "compiled_res[\"y_pred\"] = compiled_res[\"y_pred\"].apply(lambda arr: list(arr))"
   ]
  },
  {
   "cell_type": "code",
   "execution_count": 46,
   "metadata": {},
   "outputs": [],
   "source": [
    "compiled_res.to_csv(\"RF_results_GASIF_2bins_7030.csv\", sep=\",\", index=False)"
   ]
  },
  {
   "cell_type": "code",
   "execution_count": 47,
   "metadata": {},
   "outputs": [
    {
     "name": "stdout",
     "output_type": "stream",
     "text": [
      "<class 'pandas.core.frame.DataFrame'>\n",
      "RangeIndex: 90 entries, 0 to 89\n",
      "Data columns (total 8 columns):\n",
      " #   Column       Non-Null Count  Dtype  \n",
      "---  ------       --------------  -----  \n",
      " 0   train_size   90 non-null     int64  \n",
      " 1   y_true       90 non-null     object \n",
      " 2   y_pred       90 non-null     object \n",
      " 3   accuracy     90 non-null     float64\n",
      " 4   f1_macro     90 non-null     float64\n",
      " 5   f1_micro     90 non-null     float64\n",
      " 6   f1_weighted  90 non-null     float64\n",
      " 7   kappa        90 non-null     float64\n",
      "dtypes: float64(5), int64(1), object(2)\n",
      "memory usage: 5.8+ KB\n"
     ]
    }
   ],
   "source": [
    "df = pd.read_csv(\"RF_results_GASIF_2bins_7030.csv\", sep=',')\n",
    "df.info()"
   ]
  },
  {
   "cell_type": "code",
   "execution_count": 48,
   "metadata": {},
   "outputs": [
    {
     "data": {
      "text/html": [
       "<div>\n",
       "<style scoped>\n",
       "    .dataframe tbody tr th:only-of-type {\n",
       "        vertical-align: middle;\n",
       "    }\n",
       "\n",
       "    .dataframe tbody tr th {\n",
       "        vertical-align: top;\n",
       "    }\n",
       "\n",
       "    .dataframe thead th {\n",
       "        text-align: right;\n",
       "    }\n",
       "</style>\n",
       "<table border=\"1\" class=\"dataframe\">\n",
       "  <thead>\n",
       "    <tr style=\"text-align: right;\">\n",
       "      <th></th>\n",
       "      <th>train_size</th>\n",
       "      <th>y_true</th>\n",
       "      <th>y_pred</th>\n",
       "      <th>accuracy</th>\n",
       "      <th>f1_macro</th>\n",
       "      <th>f1_micro</th>\n",
       "      <th>f1_weighted</th>\n",
       "      <th>kappa</th>\n",
       "    </tr>\n",
       "  </thead>\n",
       "  <tbody>\n",
       "    <tr>\n",
       "      <th>0</th>\n",
       "      <td>5</td>\n",
       "      <td>[1, 0, 0, 1, 0, 0, 1, 1, 0, 1, 0, 1, 0, 0, 0, ...</td>\n",
       "      <td>[0, 0, 0, 0, 1, 0, 1, 1, 0, 0, 0, 0, 0, 0, 0, ...</td>\n",
       "      <td>0.644444</td>\n",
       "      <td>0.518717</td>\n",
       "      <td>0.644444</td>\n",
       "      <td>0.622579</td>\n",
       "      <td>0.047619</td>\n",
       "    </tr>\n",
       "    <tr>\n",
       "      <th>1</th>\n",
       "      <td>5</td>\n",
       "      <td>[0, 0, 0, 0, 0, 1, 0, 0, 1, 1, 0, 0, 1, 0, 0, ...</td>\n",
       "      <td>[0, 0, 0, 0, 0, 0, 0, 0, 1, 0, 0, 0, 0, 0, 0, ...</td>\n",
       "      <td>0.733333</td>\n",
       "      <td>0.659091</td>\n",
       "      <td>0.733333</td>\n",
       "      <td>0.726263</td>\n",
       "      <td>0.319899</td>\n",
       "    </tr>\n",
       "    <tr>\n",
       "      <th>2</th>\n",
       "      <td>5</td>\n",
       "      <td>[0, 0, 0, 0, 0, 0, 1, 0, 1, 0, 0, 0, 0, 0, 0, ...</td>\n",
       "      <td>[0, 0, 0, 1, 0, 0, 1, 0, 0, 0, 1, 0, 1, 0, 0, ...</td>\n",
       "      <td>0.666667</td>\n",
       "      <td>0.603175</td>\n",
       "      <td>0.666667</td>\n",
       "      <td>0.670194</td>\n",
       "      <td>0.206816</td>\n",
       "    </tr>\n",
       "  </tbody>\n",
       "</table>\n",
       "</div>"
      ],
      "text/plain": [
       "   train_size                                             y_true  \\\n",
       "0           5  [1, 0, 0, 1, 0, 0, 1, 1, 0, 1, 0, 1, 0, 0, 0, ...   \n",
       "1           5  [0, 0, 0, 0, 0, 1, 0, 0, 1, 1, 0, 0, 1, 0, 0, ...   \n",
       "2           5  [0, 0, 0, 0, 0, 0, 1, 0, 1, 0, 0, 0, 0, 0, 0, ...   \n",
       "\n",
       "                                              y_pred  accuracy  f1_macro  \\\n",
       "0  [0, 0, 0, 0, 1, 0, 1, 1, 0, 0, 0, 0, 0, 0, 0, ...  0.644444  0.518717   \n",
       "1  [0, 0, 0, 0, 0, 0, 0, 0, 1, 0, 0, 0, 0, 0, 0, ...  0.733333  0.659091   \n",
       "2  [0, 0, 0, 1, 0, 0, 1, 0, 0, 0, 1, 0, 1, 0, 0, ...  0.666667  0.603175   \n",
       "\n",
       "   f1_micro  f1_weighted     kappa  \n",
       "0  0.644444     0.622579  0.047619  \n",
       "1  0.733333     0.726263  0.319899  \n",
       "2  0.666667     0.670194  0.206816  "
      ]
     },
     "execution_count": 48,
     "metadata": {},
     "output_type": "execute_result"
    }
   ],
   "source": [
    "df.head(3)"
   ]
  },
  {
   "cell_type": "code",
   "execution_count": 49,
   "metadata": {},
   "outputs": [
    {
     "data": {
      "text/html": [
       "<div>\n",
       "<style scoped>\n",
       "    .dataframe tbody tr th:only-of-type {\n",
       "        vertical-align: middle;\n",
       "    }\n",
       "\n",
       "    .dataframe tbody tr th {\n",
       "        vertical-align: top;\n",
       "    }\n",
       "\n",
       "    .dataframe thead tr th {\n",
       "        text-align: left;\n",
       "    }\n",
       "\n",
       "    .dataframe thead tr:last-of-type th {\n",
       "        text-align: right;\n",
       "    }\n",
       "</style>\n",
       "<table border=\"1\" class=\"dataframe\">\n",
       "  <thead>\n",
       "    <tr>\n",
       "      <th></th>\n",
       "      <th colspan=\"2\" halign=\"left\">accuracy</th>\n",
       "      <th colspan=\"2\" halign=\"left\">f1_macro</th>\n",
       "      <th colspan=\"2\" halign=\"left\">f1_micro</th>\n",
       "      <th colspan=\"2\" halign=\"left\">f1_weighted</th>\n",
       "      <th colspan=\"2\" halign=\"left\">kappa</th>\n",
       "    </tr>\n",
       "    <tr>\n",
       "      <th></th>\n",
       "      <th>mean</th>\n",
       "      <th>sem</th>\n",
       "      <th>mean</th>\n",
       "      <th>sem</th>\n",
       "      <th>mean</th>\n",
       "      <th>sem</th>\n",
       "      <th>mean</th>\n",
       "      <th>sem</th>\n",
       "      <th>mean</th>\n",
       "      <th>sem</th>\n",
       "    </tr>\n",
       "    <tr>\n",
       "      <th>train_size</th>\n",
       "      <th></th>\n",
       "      <th></th>\n",
       "      <th></th>\n",
       "      <th></th>\n",
       "      <th></th>\n",
       "      <th></th>\n",
       "      <th></th>\n",
       "      <th></th>\n",
       "      <th></th>\n",
       "      <th></th>\n",
       "    </tr>\n",
       "  </thead>\n",
       "  <tbody>\n",
       "    <tr>\n",
       "      <th>5</th>\n",
       "      <td>0.684444</td>\n",
       "      <td>0.012306</td>\n",
       "      <td>0.563710</td>\n",
       "      <td>0.028370</td>\n",
       "      <td>0.684444</td>\n",
       "      <td>0.012306</td>\n",
       "      <td>0.650815</td>\n",
       "      <td>0.017077</td>\n",
       "      <td>0.178311</td>\n",
       "      <td>0.046589</td>\n",
       "    </tr>\n",
       "    <tr>\n",
       "      <th>10</th>\n",
       "      <td>0.765000</td>\n",
       "      <td>0.014044</td>\n",
       "      <td>0.690442</td>\n",
       "      <td>0.018897</td>\n",
       "      <td>0.765000</td>\n",
       "      <td>0.014044</td>\n",
       "      <td>0.750814</td>\n",
       "      <td>0.014805</td>\n",
       "      <td>0.390088</td>\n",
       "      <td>0.036323</td>\n",
       "    </tr>\n",
       "    <tr>\n",
       "      <th>15</th>\n",
       "      <td>0.754286</td>\n",
       "      <td>0.012919</td>\n",
       "      <td>0.682820</td>\n",
       "      <td>0.019530</td>\n",
       "      <td>0.754286</td>\n",
       "      <td>0.012919</td>\n",
       "      <td>0.743558</td>\n",
       "      <td>0.015676</td>\n",
       "      <td>0.374197</td>\n",
       "      <td>0.034921</td>\n",
       "    </tr>\n",
       "    <tr>\n",
       "      <th>20</th>\n",
       "      <td>0.773333</td>\n",
       "      <td>0.014741</td>\n",
       "      <td>0.710264</td>\n",
       "      <td>0.018175</td>\n",
       "      <td>0.773333</td>\n",
       "      <td>0.014741</td>\n",
       "      <td>0.763763</td>\n",
       "      <td>0.014656</td>\n",
       "      <td>0.427360</td>\n",
       "      <td>0.035543</td>\n",
       "    </tr>\n",
       "    <tr>\n",
       "      <th>25</th>\n",
       "      <td>0.764000</td>\n",
       "      <td>0.020177</td>\n",
       "      <td>0.695098</td>\n",
       "      <td>0.023408</td>\n",
       "      <td>0.764000</td>\n",
       "      <td>0.020177</td>\n",
       "      <td>0.754020</td>\n",
       "      <td>0.020396</td>\n",
       "      <td>0.398926</td>\n",
       "      <td>0.045334</td>\n",
       "    </tr>\n",
       "    <tr>\n",
       "      <th>30</th>\n",
       "      <td>0.775000</td>\n",
       "      <td>0.023863</td>\n",
       "      <td>0.708516</td>\n",
       "      <td>0.029030</td>\n",
       "      <td>0.775000</td>\n",
       "      <td>0.023863</td>\n",
       "      <td>0.763671</td>\n",
       "      <td>0.023929</td>\n",
       "      <td>0.424772</td>\n",
       "      <td>0.057733</td>\n",
       "    </tr>\n",
       "    <tr>\n",
       "      <th>35</th>\n",
       "      <td>0.766667</td>\n",
       "      <td>0.028545</td>\n",
       "      <td>0.687257</td>\n",
       "      <td>0.043795</td>\n",
       "      <td>0.766667</td>\n",
       "      <td>0.028545</td>\n",
       "      <td>0.751502</td>\n",
       "      <td>0.031778</td>\n",
       "      <td>0.399448</td>\n",
       "      <td>0.077262</td>\n",
       "    </tr>\n",
       "    <tr>\n",
       "      <th>40</th>\n",
       "      <td>0.780000</td>\n",
       "      <td>0.041633</td>\n",
       "      <td>0.726803</td>\n",
       "      <td>0.058640</td>\n",
       "      <td>0.780000</td>\n",
       "      <td>0.041633</td>\n",
       "      <td>0.771905</td>\n",
       "      <td>0.045928</td>\n",
       "      <td>0.469319</td>\n",
       "      <td>0.112389</td>\n",
       "    </tr>\n",
       "    <tr>\n",
       "      <th>45</th>\n",
       "      <td>0.720000</td>\n",
       "      <td>0.044222</td>\n",
       "      <td>0.602183</td>\n",
       "      <td>0.067923</td>\n",
       "      <td>0.720000</td>\n",
       "      <td>0.044222</td>\n",
       "      <td>0.723492</td>\n",
       "      <td>0.042948</td>\n",
       "      <td>0.245779</td>\n",
       "      <td>0.134959</td>\n",
       "    </tr>\n",
       "  </tbody>\n",
       "</table>\n",
       "</div>"
      ],
      "text/plain": [
       "            accuracy            f1_macro            f1_micro            \\\n",
       "                mean       sem      mean       sem      mean       sem   \n",
       "train_size                                                               \n",
       "5           0.684444  0.012306  0.563710  0.028370  0.684444  0.012306   \n",
       "10          0.765000  0.014044  0.690442  0.018897  0.765000  0.014044   \n",
       "15          0.754286  0.012919  0.682820  0.019530  0.754286  0.012919   \n",
       "20          0.773333  0.014741  0.710264  0.018175  0.773333  0.014741   \n",
       "25          0.764000  0.020177  0.695098  0.023408  0.764000  0.020177   \n",
       "30          0.775000  0.023863  0.708516  0.029030  0.775000  0.023863   \n",
       "35          0.766667  0.028545  0.687257  0.043795  0.766667  0.028545   \n",
       "40          0.780000  0.041633  0.726803  0.058640  0.780000  0.041633   \n",
       "45          0.720000  0.044222  0.602183  0.067923  0.720000  0.044222   \n",
       "\n",
       "           f1_weighted               kappa            \n",
       "                  mean       sem      mean       sem  \n",
       "train_size                                            \n",
       "5             0.650815  0.017077  0.178311  0.046589  \n",
       "10            0.750814  0.014805  0.390088  0.036323  \n",
       "15            0.743558  0.015676  0.374197  0.034921  \n",
       "20            0.763763  0.014656  0.427360  0.035543  \n",
       "25            0.754020  0.020396  0.398926  0.045334  \n",
       "30            0.763671  0.023929  0.424772  0.057733  \n",
       "35            0.751502  0.031778  0.399448  0.077262  \n",
       "40            0.771905  0.045928  0.469319  0.112389  \n",
       "45            0.723492  0.042948  0.245779  0.134959  "
      ]
     },
     "execution_count": 49,
     "metadata": {},
     "output_type": "execute_result"
    }
   ],
   "source": [
    "grouped_res = df.select_dtypes(include = [\"int\", \"float\"]).groupby(['train_size']).agg(['mean', 'sem'])\n",
    "grouped_res"
   ]
  },
  {
   "cell_type": "code",
   "execution_count": 50,
   "metadata": {},
   "outputs": [],
   "source": [
    "conf_mats = []\n",
    "for i in np.arange(len(df)):\n",
    "    confusion_matrix = {\n",
    "        'all_y_true': literal_eval(df[\"y_true\"][i]),\n",
    "        'all_y_pred': literal_eval(df[\"y_pred\"][i])\n",
    "    }\n",
    "    conf_mats.append(confusion_matrix)"
   ]
  },
  {
   "cell_type": "code",
   "execution_count": 51,
   "metadata": {},
   "outputs": [
    {
     "name": "stdout",
     "output_type": "stream",
     "text": [
      "[[0.75 0.25]\n",
      " [0.4  0.6 ]]\n",
      "accuracy: 0.72\n"
     ]
    },
    {
     "data": {
      "text/plain": [
       "<sklearn.metrics._plot.confusion_matrix.ConfusionMatrixDisplay at 0x7f81ef5ab700>"
      ]
     },
     "execution_count": 51,
     "metadata": {},
     "output_type": "execute_result"
    },
    {
     "data": {
      "image/png": "[encoded data removed]",
      "text/plain": [
       "<Figure size 330x250 with 2 Axes>"
      ]
     },
     "metadata": {},
     "output_type": "display_data"
    }
   ],
   "source": [
    "index_maxsize = compiled_res[compiled_res[\"train_size\"]==max(compiled_res[\"train_size\"])].index\n",
    "conf_mats_max = [conf_mats[i] for i in index_maxsize]\n",
    "\n",
    "actual_all, predicted_all = [], []\n",
    "for index, _ in enumerate(conf_mats_max):\n",
    "    preds = conf_mats_max[index]\n",
    "    actual = preds[\"all_y_true\"]\n",
    "    predicted = preds[\"all_y_pred\"]\n",
    "    \n",
    "    for true, pred in zip(actual, predicted):\n",
    "        actual_all.append(true)\n",
    "        predicted_all.append(pred)\n",
    "\n",
    "confusion_matrix = metrics.confusion_matrix(actual_all, predicted_all)\n",
    "confusion_matrix_norm = confusion_matrix.astype(\"float\") / confusion_matrix.sum(axis=1)[:, np.newaxis]\n",
    "print(confusion_matrix_norm)\n",
    "\n",
    "cm = pycm.ConfusionMatrix(list(actual_all), list(predicted_all))\n",
    "acc = cm.Overall_ACC\n",
    "\n",
    "print(f'accuracy: {acc}')\n",
    "\n",
    "cm_display = metrics.ConfusionMatrixDisplay(\n",
    "    confusion_matrix = confusion_matrix_norm, display_labels = [0, 1])\n",
    "cm_display.plot(cmap=plt.cm.Blues, include_values=True, values_format=\".2f\")\n",
    "#plt.savefig('classif_GASIF_confusionMatrix_70_30_size45_RF.pdf', bbox_inches='tight')"
   ]
  },
  {
   "cell_type": "code",
   "execution_count": null,
   "metadata": {},
   "outputs": [],
   "source": []
  },
  {
   "cell_type": "code",
   "execution_count": null,
   "metadata": {},
   "outputs": [],
   "source": []
  },
  {
   "cell_type": "code",
   "execution_count": null,
   "metadata": {},
   "outputs": [],
   "source": []
  },
  {
   "cell_type": "code",
   "execution_count": null,
   "metadata": {},
   "outputs": [],
   "source": []
  }
 ],
 "metadata": {
  "kernelspec": {
   "display_name": "Python [conda env:debyecalculator_env]",
   "language": "python",
   "name": "conda-env-debyecalculator_env-py"
  },
  "language_info": {
   "codemirror_mode": {
    "name": "ipython",
    "version": 3
   },
   "file_extension": ".py",
   "mimetype": "text/x-python",
   "name": "python",
   "nbconvert_exporter": "python",
   "pygments_lexer": "ipython3",
   "version": "3.9.19"
  }
 },
 "nbformat": 4,
 "nbformat_minor": 2
}
