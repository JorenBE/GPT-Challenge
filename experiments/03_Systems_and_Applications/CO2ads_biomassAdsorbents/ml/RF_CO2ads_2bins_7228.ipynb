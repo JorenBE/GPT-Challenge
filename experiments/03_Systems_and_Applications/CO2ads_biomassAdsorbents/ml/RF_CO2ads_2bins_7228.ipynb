{
 "cells": [
  {
   "cell_type": "markdown",
   "metadata": {},
   "source": [
    "## Random Forest - CO2ads - 2bins - 72/28"
   ]
  },
  {
   "cell_type": "code",
   "execution_count": 1,
   "metadata": {},
   "outputs": [],
   "source": [
    "import pandas as pd\n",
    "import numpy as np\n",
    "from sklearn.model_selection import train_test_split\n",
    "from sklearn.preprocessing import LabelEncoder, OneHotEncoder\n",
    "from sklearn.metrics import accuracy_score, f1_score, cohen_kappa_score, r2_score, mean_absolute_error, root_mean_squared_error\n",
    "from sklearn.ensemble import RandomForestClassifier\n",
    "import matplotlib.pyplot as plt\n",
    "from sklearn import metrics\n",
    "import pycm\n",
    "from ast import literal_eval\n",
    "import sys\n",
    "sys.path.append(\"../plotutils/\")\n",
    "from plotutils import *\n",
    "plt.style.use(\"../plotutils/your.mplstyle\")"
   ]
  },
  {
   "cell_type": "code",
   "execution_count": 2,
   "metadata": {
    "scrolled": true
   },
   "outputs": [
    {
     "name": "stdout",
     "output_type": "stream",
     "text": [
      "<class 'pandas.core.frame.DataFrame'>\n",
      "RangeIndex: 421 entries, 0 to 420\n",
      "Data columns (total 16 columns):\n",
      " #   Column                        Non-Null Count  Dtype  \n",
      "---  ------                        --------------  -----  \n",
      " 0   Precursor                     421 non-null    object \n",
      " 1   Activator                     421 non-null    object \n",
      " 2   Activator_carbon_ratio        421 non-null    object \n",
      " 3   Activation T (K)              421 non-null    int64  \n",
      " 4   T adsorption (K)              421 non-null    int64  \n",
      " 5   P adsorption (bar)            421 non-null    float64\n",
      " 6   CO2 ads (mmol/g)              421 non-null    float64\n",
      " 7   CO2ads_2bins_5050             421 non-null    int64  \n",
      " 8   CO2ads_4bins                  421 non-null    int64  \n",
      " 9   CO2ads_10bins                 421 non-null    int64  \n",
      " 10  CO2ads_7228                   421 non-null    int64  \n",
      " 11  adsorption_all_inputs         421 non-null    object \n",
      " 12  adsorption_only_BETpore       421 non-null    object \n",
      " 13  adsorption_wo_BETpore         421 non-null    object \n",
      " 14  adsorption_all_inputs_woNAME  421 non-null    object \n",
      " 15  adsorption_wo_BETporeNAME     421 non-null    object \n",
      "dtypes: float64(2), int64(6), object(8)\n",
      "memory usage: 52.8+ KB\n"
     ]
    }
   ],
   "source": [
    "df = pd.read_csv(f\"../CO2adsorption_dataset.csv\", sep=';')\n",
    "df.info()"
   ]
  },
  {
   "cell_type": "code",
   "execution_count": 3,
   "metadata": {},
   "outputs": [
    {
     "data": {
      "text/plain": [
       "array(['4', '1.5', '0.5', '1', '2', '3', '5', 'none', '6', '2.5', '1.25',\n",
       "       '8'], dtype=object)"
      ]
     },
     "execution_count": 3,
     "metadata": {},
     "output_type": "execute_result"
    }
   ],
   "source": [
    "df[\"Activator_carbon_ratio\"].unique()"
   ]
  },
  {
   "cell_type": "code",
   "execution_count": 4,
   "metadata": {},
   "outputs": [],
   "source": [
    "df[\"Activator_carbon_ratio\"] = df['Activator_carbon_ratio'].replace('none', 0)"
   ]
  },
  {
   "cell_type": "code",
   "execution_count": 5,
   "metadata": {},
   "outputs": [],
   "source": [
    "df[\"Activator_carbon_ratio\"] = pd.to_numeric(df[\"Activator_carbon_ratio\"])"
   ]
  },
  {
   "cell_type": "code",
   "execution_count": 6,
   "metadata": {},
   "outputs": [
    {
     "data": {
      "text/plain": [
       "array([4.  , 1.5 , 0.5 , 1.  , 2.  , 3.  , 5.  , 0.  , 6.  , 2.5 , 1.25,\n",
       "       8.  ])"
      ]
     },
     "execution_count": 6,
     "metadata": {},
     "output_type": "execute_result"
    }
   ],
   "source": [
    "df[\"Activator_carbon_ratio\"].unique()"
   ]
  },
  {
   "cell_type": "code",
   "execution_count": 7,
   "metadata": {
    "scrolled": true
   },
   "outputs": [
    {
     "name": "stdout",
     "output_type": "stream",
     "text": [
      "<class 'pandas.core.frame.DataFrame'>\n",
      "RangeIndex: 421 entries, 0 to 420\n",
      "Data columns (total 30 columns):\n",
      " #   Column                      Non-Null Count  Dtype  \n",
      "---  ------                      --------------  -----  \n",
      " 0   Precursor                   421 non-null    object \n",
      " 1   Activator-Ratio             421 non-null    object \n",
      " 2   Activator                   421 non-null    object \n",
      " 3   Activator_carbon_ratio      421 non-null    float64\n",
      " 4   Activation T (K)            421 non-null    int64  \n",
      " 5   BET (m2/g)                  421 non-null    float64\n",
      " 6   T adsorption (K)            421 non-null    int64  \n",
      " 7   P adsorption (bar)          421 non-null    float64\n",
      " 8   CO2 ads (mmol/g)            421 non-null    float64\n",
      " 9   Pore volume (cm3/g)         421 non-null    float64\n",
      " 10  synthesis                   421 non-null    object \n",
      " 11  adsorption                  421 non-null    object \n",
      " 12  adsorption_short            421 non-null    object \n",
      " 13  adsorption_woBET            421 non-null    object \n",
      " 14  adsorption_woBET_pore       421 non-null    object \n",
      " 15  adsorption_woNAME           421 non-null    object \n",
      " 16  adsorption_woBET_pore_NAME  421 non-null    object \n",
      " 17  synthesis_woNAME            421 non-null    object \n",
      " 18  2bins_ads                   421 non-null    int64  \n",
      " 19  3bins_ads                   421 non-null    int64  \n",
      " 20  4bins_ads                   421 non-null    int64  \n",
      " 21  5bins_ads                   421 non-null    int64  \n",
      " 22  10bins_ads                  421 non-null    int64  \n",
      " 23  2bins_BET                   421 non-null    int64  \n",
      " 24  3bins_BET                   421 non-null    int64  \n",
      " 25  4bins_BET                   421 non-null    int64  \n",
      " 26  5bins_BET                   421 non-null    int64  \n",
      " 27  10bins_BET                  421 non-null    int64  \n",
      " 28  bet_1800                    421 non-null    int64  \n",
      " 29  CO2ads_4                    421 non-null    int64  \n",
      "dtypes: float64(5), int64(14), object(11)\n",
      "memory usage: 98.8+ KB\n"
     ]
    }
   ],
   "source": [
    "df.info()"
   ]
  },
  {
   "cell_type": "code",
   "execution_count": 8,
   "metadata": {},
   "outputs": [
    {
     "data": {
      "text/plain": [
       "33"
      ]
     },
     "execution_count": 8,
     "metadata": {},
     "output_type": "execute_result"
    }
   ],
   "source": [
    "len(df[\"Precursor\"].unique())"
   ]
  },
  {
   "cell_type": "code",
   "execution_count": 9,
   "metadata": {},
   "outputs": [
    {
     "data": {
      "text/plain": [
       "10"
      ]
     },
     "execution_count": 9,
     "metadata": {},
     "output_type": "execute_result"
    }
   ],
   "source": [
    "len(df[\"Activator\"].unique())"
   ]
  },
  {
   "cell_type": "code",
   "execution_count": 10,
   "metadata": {},
   "outputs": [],
   "source": [
    "encoder_precursor = OneHotEncoder(sparse_output=False).set_output(transform=\"pandas\")\n",
    "one_hot_precursor = encoder_precursor.fit_transform(df[[\"Precursor\"]])\n",
    "df = pd.concat([df, one_hot_precursor], axis=1)"
   ]
  },
  {
   "cell_type": "code",
   "execution_count": 11,
   "metadata": {},
   "outputs": [],
   "source": [
    "encoder_activator = OneHotEncoder(sparse_output=False).set_output(transform=\"pandas\")\n",
    "one_hot_activator = encoder_activator.fit_transform(df[[\"Activator\"]])\n",
    "df = pd.concat([df, one_hot_activator], axis=1)"
   ]
  },
  {
   "cell_type": "code",
   "execution_count": 12,
   "metadata": {
    "scrolled": true
   },
   "outputs": [
    {
     "name": "stdout",
     "output_type": "stream",
     "text": [
      "<class 'pandas.core.frame.DataFrame'>\n",
      "RangeIndex: 421 entries, 0 to 420\n",
      "Data columns (total 73 columns):\n",
      " #   Column                                    Non-Null Count  Dtype  \n",
      "---  ------                                    --------------  -----  \n",
      " 0   Precursor                                 421 non-null    object \n",
      " 1   Activator-Ratio                           421 non-null    object \n",
      " 2   Activator                                 421 non-null    object \n",
      " 3   Activator_carbon_ratio                    421 non-null    float64\n",
      " 4   Activation T (K)                          421 non-null    int64  \n",
      " 5   BET (m2/g)                                421 non-null    float64\n",
      " 6   T adsorption (K)                          421 non-null    int64  \n",
      " 7   P adsorption (bar)                        421 non-null    float64\n",
      " 8   CO2 ads (mmol/g)                          421 non-null    float64\n",
      " 9   Pore volume (cm3/g)                       421 non-null    float64\n",
      " 10  synthesis                                 421 non-null    object \n",
      " 11  adsorption                                421 non-null    object \n",
      " 12  adsorption_short                          421 non-null    object \n",
      " 13  adsorption_woBET                          421 non-null    object \n",
      " 14  adsorption_woBET_pore                     421 non-null    object \n",
      " 15  adsorption_woNAME                         421 non-null    object \n",
      " 16  adsorption_woBET_pore_NAME                421 non-null    object \n",
      " 17  synthesis_woNAME                          421 non-null    object \n",
      " 18  2bins_ads                                 421 non-null    int64  \n",
      " 19  3bins_ads                                 421 non-null    int64  \n",
      " 20  4bins_ads                                 421 non-null    int64  \n",
      " 21  5bins_ads                                 421 non-null    int64  \n",
      " 22  10bins_ads                                421 non-null    int64  \n",
      " 23  2bins_BET                                 421 non-null    int64  \n",
      " 24  3bins_BET                                 421 non-null    int64  \n",
      " 25  4bins_BET                                 421 non-null    int64  \n",
      " 26  5bins_BET                                 421 non-null    int64  \n",
      " 27  10bins_BET                                421 non-null    int64  \n",
      " 28  bet_1800                                  421 non-null    int64  \n",
      " 29  CO2ads_4                                  421 non-null    int64  \n",
      " 30  Precursor_Acai stone                      421 non-null    float64\n",
      " 31  Precursor_Bambo                           421 non-null    float64\n",
      " 32  Precursor_Black locust                    421 non-null    float64\n",
      " 33  Precursor_Catkin                          421 non-null    float64\n",
      " 34  Precursor_Celtuce leaves                  421 non-null    float64\n",
      " 35  Precursor_Chitosan                        421 non-null    float64\n",
      " 36  Precursor_Chrysanthemum tea               421 non-null    float64\n",
      " 37  Precursor_Coconut shell                   421 non-null    float64\n",
      " 38  Precursor_Coffee grounds                  421 non-null    float64\n",
      " 39  Precursor_Cork                            421 non-null    float64\n",
      " 40  Precursor_Crab shell                      421 non-null    float64\n",
      " 41  Precursor_Empty fruit bunch               421 non-null    float64\n",
      " 42  Precursor_Garlic peel                     421 non-null    float64\n",
      " 43  Precursor_Lignin Waste                    421 non-null    float64\n",
      " 44  Precursor_Lotus leaf                      421 non-null    float64\n",
      " 45  Precursor_Olive stone                     421 non-null    float64\n",
      " 46  Precursor_Paulownia sawdust               421 non-null    float64\n",
      " 47  Precursor_Peanut shell                    421 non-null    float64\n",
      " 48  Precursor_Pineapple                       421 non-null    float64\n",
      " 49  Precursor_Pollen                          421 non-null    float64\n",
      " 50  Precursor_Popcorn                         421 non-null    float64\n",
      " 51  Precursor_Poplar Wood                     421 non-null    float64\n",
      " 52  Precursor_Rice husk                       421 non-null    float64\n",
      " 53  Precursor_Starch and cellulose + sawdust  421 non-null    float64\n",
      " 54  Precursor_Sugarcane bagasse               421 non-null    float64\n",
      " 55  Precursor_Sunflower seed shell            421 non-null    float64\n",
      " 56  Precursor_Tar+CaO                         421 non-null    float64\n",
      " 57  Precursor_Tea seed shell                  421 non-null    float64\n",
      " 58  Precursor_Urea + tobacco                  421 non-null    float64\n",
      " 59  Precursor_Vine shoots                     421 non-null    float64\n",
      " 60  Precursor_Walnut shell                    421 non-null    float64\n",
      " 61  Precursor_Waste wool                      421 non-null    float64\n",
      " 62  Precursor_Wheat                           421 non-null    float64\n",
      " 63  Activator_CO2                             421 non-null    float64\n",
      " 64  Activator_CO2+N2                          421 non-null    float64\n",
      " 65  Activator_K2C2O4                          421 non-null    float64\n",
      " 66  Activator_K2CO3                           421 non-null    float64\n",
      " 67  Activator_KCl-ZnCl2                       421 non-null    float64\n",
      " 68  Activator_KOH                             421 non-null    float64\n",
      " 69  Activator_KOH+Ammonia                     421 non-null    float64\n",
      " 70  Activator_KOH+N2                          421 non-null    float64\n",
      " 71  Activator_NaNH2                           421 non-null    float64\n",
      " 72  Activator_ZnCl2                           421 non-null    float64\n",
      "dtypes: float64(48), int64(14), object(11)\n",
      "memory usage: 240.2+ KB\n"
     ]
    }
   ],
   "source": [
    "df.info()"
   ]
  },
  {
   "cell_type": "code",
   "execution_count": 13,
   "metadata": {
    "scrolled": true
   },
   "outputs": [
    {
     "data": {
      "text/plain": [
       "['Precursor_Acai stone',\n",
       " 'Precursor_Bambo',\n",
       " 'Precursor_Black locust',\n",
       " 'Precursor_Catkin',\n",
       " 'Precursor_Celtuce leaves',\n",
       " 'Precursor_Chitosan',\n",
       " 'Precursor_Chrysanthemum tea',\n",
       " 'Precursor_Coconut shell',\n",
       " 'Precursor_Coffee grounds',\n",
       " 'Precursor_Cork',\n",
       " 'Precursor_Crab shell',\n",
       " 'Precursor_Empty fruit bunch',\n",
       " 'Precursor_Garlic peel',\n",
       " 'Precursor_Lignin Waste',\n",
       " 'Precursor_Lotus leaf',\n",
       " 'Precursor_Olive stone',\n",
       " 'Precursor_Paulownia sawdust',\n",
       " 'Precursor_Peanut shell',\n",
       " 'Precursor_Pineapple',\n",
       " 'Precursor_Pollen',\n",
       " 'Precursor_Popcorn',\n",
       " 'Precursor_Poplar Wood',\n",
       " 'Precursor_Rice husk',\n",
       " 'Precursor_Starch and cellulose + sawdust',\n",
       " 'Precursor_Sugarcane bagasse',\n",
       " 'Precursor_Sunflower seed shell',\n",
       " 'Precursor_Tar+CaO',\n",
       " 'Precursor_Tea seed shell',\n",
       " 'Precursor_Urea + tobacco',\n",
       " 'Precursor_Vine shoots',\n",
       " 'Precursor_Walnut shell',\n",
       " 'Precursor_Waste wool',\n",
       " 'Precursor_Wheat',\n",
       " 'Activator_CO2',\n",
       " 'Activator_CO2+N2',\n",
       " 'Activator_K2C2O4',\n",
       " 'Activator_K2CO3',\n",
       " 'Activator_KCl-ZnCl2',\n",
       " 'Activator_KOH',\n",
       " 'Activator_KOH+Ammonia',\n",
       " 'Activator_KOH+N2',\n",
       " 'Activator_NaNH2',\n",
       " 'Activator_ZnCl2']"
      ]
     },
     "execution_count": 13,
     "metadata": {},
     "output_type": "execute_result"
    }
   ],
   "source": [
    "df.columns[30:73].to_list()"
   ]
  },
  {
   "cell_type": "code",
   "execution_count": 14,
   "metadata": {},
   "outputs": [
    {
     "data": {
      "text/plain": [
       "['Activator_carbon_ratio',\n",
       " 'Activation T (K)',\n",
       " 'BET (m2/g)',\n",
       " 'T adsorption (K)',\n",
       " 'P adsorption (bar)',\n",
       " 'Pore volume (cm3/g)']"
      ]
     },
     "execution_count": 14,
     "metadata": {},
     "output_type": "execute_result"
    }
   ],
   "source": [
    "list(df.iloc[:,[3, 4, 5, 6, 7, 9]].columns)"
   ]
  },
  {
   "cell_type": "code",
   "execution_count": 15,
   "metadata": {},
   "outputs": [],
   "source": [
    "representation = list(df.iloc[:,[3, 4, 5, 6, 7, 9]].columns)\n",
    "representation.extend(df.columns[30:73].to_list())"
   ]
  },
  {
   "cell_type": "code",
   "execution_count": 26,
   "metadata": {},
   "outputs": [],
   "source": [
    "def prepare_dataset_classification(\n",
    "    df,\n",
    "    target = \"CO2ads_7228\",\n",
    "    representation=representation,\n",
    "    random_state=42,\n",
    "    train_size=300\n",
    "):\n",
    "    df_train, df_test = train_test_split(\n",
    "        df,\n",
    "        train_size=train_size,\n",
    "        random_state=random_state,\n",
    "        stratify=df[target].astype(int).values,\n",
    "    )\n",
    "    print(len(df_train), len(df_test))\n",
    "    \n",
    "    X_train, y_train = df_train[representation], df_train[target]\n",
    "    X_test, y_test = df_test[representation], df_test[target]\n",
    "    \n",
    "    return X_train, y_train, X_test, y_test"
   ]
  },
  {
   "cell_type": "code",
   "execution_count": 27,
   "metadata": {},
   "outputs": [],
   "source": [
    "def train_and_evaluate_classifier(X_train, y_train, X_test, y_test, random_state=42):\n",
    "    clf = RandomForestClassifier(\n",
    "        n_estimators=200, \n",
    "        random_state=random_state,\n",
    "        verbose=True\n",
    "    )\n",
    "    \n",
    "    clf.fit(X_train, y_train)\n",
    "    \n",
    "    y_pred = clf.predict(X_test)\n",
    "    y_test = np.array(y_test)\n",
    "    \n",
    "    acc = accuracy_score(y_test, y_pred)\n",
    "    f1_macro = f1_score(y_test, y_pred, average=\"macro\")\n",
    "    f1_micro = f1_score(y_test, y_pred, average=\"micro\")\n",
    "    f1_weighted = f1_score(y_test, y_pred, average='weighted')\n",
    "    kappa = cohen_kappa_score(y_test, y_pred)\n",
    "    \n",
    "    return y_test, y_pred, acc, f1_macro, f1_micro, f1_weighted, kappa"
   ]
  },
  {
   "cell_type": "code",
   "execution_count": 28,
   "metadata": {},
   "outputs": [],
   "source": [
    "def metrics_dict():\n",
    "    metrics_dict = {\n",
    "        \"train_size\": train_size,\n",
    "        \"y_true\": y_test_all,\n",
    "        \"y_pred\": y_pred_all,\n",
    "        \"accuracy\": acc_scores,\n",
    "        \"f1_macro\": f1macro_scores,\n",
    "        \"f1_micro\": f1micro_scores,\n",
    "        \"f1_weighted\": f1weighted_scores,\n",
    "        \"kappa\": kappa_scores\n",
    "    }\n",
    "    return metrics_dict"
   ]
  },
  {
   "cell_type": "markdown",
   "metadata": {},
   "source": [
    "### training size = 50"
   ]
  },
  {
   "cell_type": "code",
   "execution_count": 29,
   "metadata": {},
   "outputs": [],
   "source": [
    "train_size = 50\n",
    "iterations = 10\n",
    "y_test_all = []\n",
    "y_pred_all = []\n",
    "acc_scores = []\n",
    "f1macro_scores = []\n",
    "f1micro_scores = []\n",
    "f1weighted_scores = []\n",
    "kappa_scores = []"
   ]
  },
  {
   "cell_type": "code",
   "execution_count": 30,
   "metadata": {},
   "outputs": [
    {
     "name": "stdout",
     "output_type": "stream",
     "text": [
      "-------------Iteration 1/10\n",
      "50 371\n",
      "random_state = 42\n",
      "Accuracy: 0.8355795148247979\n",
      "F1 macro: 0.7737013149342533\n",
      "F1 micro: 0.8355795148247979\n",
      "F1 weighted: 0.8269676004070415\n",
      "Kappa: 0.5506780233089126\n",
      "-------------Iteration 2/10\n",
      "50 371\n",
      "random_state = 43\n"
     ]
    },
    {
     "name": "stderr",
     "output_type": "stream",
     "text": [
      "[Parallel(n_jobs=1)]: Done  49 tasks      | elapsed:    0.0s\n",
      "[Parallel(n_jobs=1)]: Done 199 tasks      | elapsed:    0.1s\n",
      "[Parallel(n_jobs=1)]: Done  49 tasks      | elapsed:    0.0s\n",
      "[Parallel(n_jobs=1)]: Done 199 tasks      | elapsed:    0.0s\n",
      "[Parallel(n_jobs=1)]: Done  49 tasks      | elapsed:    0.0s\n",
      "[Parallel(n_jobs=1)]: Done 199 tasks      | elapsed:    0.1s\n",
      "[Parallel(n_jobs=1)]: Done  49 tasks      | elapsed:    0.0s\n",
      "[Parallel(n_jobs=1)]: Done 199 tasks      | elapsed:    0.0s\n",
      "[Parallel(n_jobs=1)]: Done  49 tasks      | elapsed:    0.0s\n",
      "[Parallel(n_jobs=1)]: Done 199 tasks      | elapsed:    0.1s\n",
      "[Parallel(n_jobs=1)]: Done  49 tasks      | elapsed:    0.0s\n",
      "[Parallel(n_jobs=1)]: Done 199 tasks      | elapsed:    0.0s\n"
     ]
    },
    {
     "name": "stdout",
     "output_type": "stream",
     "text": [
      "Accuracy: 0.8247978436657682\n",
      "F1 macro: 0.7374380750176928\n",
      "F1 micro: 0.8247978436657682\n",
      "F1 weighted: 0.80561135242063\n",
      "Kappa: 0.4872094754077445\n",
      "-------------Iteration 3/10\n",
      "50 371\n",
      "random_state = 44\n",
      "Accuracy: 0.8355795148247979\n",
      "F1 macro: 0.7771245112811573\n",
      "F1 micro: 0.8355795148247979\n",
      "F1 weighted: 0.8285033828168835\n",
      "Kappa: 0.5565592240619184\n",
      "-------------Iteration 4/10\n",
      "50 371\n",
      "random_state = 45\n"
     ]
    },
    {
     "name": "stderr",
     "output_type": "stream",
     "text": [
      "[Parallel(n_jobs=1)]: Done  49 tasks      | elapsed:    0.0s\n",
      "[Parallel(n_jobs=1)]: Done 199 tasks      | elapsed:    0.1s\n",
      "[Parallel(n_jobs=1)]: Done  49 tasks      | elapsed:    0.0s\n",
      "[Parallel(n_jobs=1)]: Done 199 tasks      | elapsed:    0.0s\n",
      "[Parallel(n_jobs=1)]: Done  49 tasks      | elapsed:    0.0s\n"
     ]
    },
    {
     "name": "stdout",
     "output_type": "stream",
     "text": [
      "Accuracy: 0.8247978436657682\n",
      "F1 macro: 0.7588620568971551\n",
      "F1 micro: 0.8247978436657682\n",
      "F1 weighted: 0.8156212135484872\n",
      "Kappa: 0.5212142871324479\n",
      "-------------Iteration 5/10\n",
      "50 371\n",
      "random_state = 46\n",
      "Accuracy: 0.8086253369272237\n",
      "F1 macro: 0.7279862036205169\n",
      "F1 micro: 0.8086253369272237\n",
      "F1 weighted: 0.794653209869131\n",
      "Kappa: 0.46276845261161303\n",
      "-------------Iteration 6/10\n",
      "50 371\n",
      "random_state = 47\n"
     ]
    },
    {
     "name": "stderr",
     "output_type": "stream",
     "text": [
      "[Parallel(n_jobs=1)]: Done 199 tasks      | elapsed:    0.1s\n",
      "[Parallel(n_jobs=1)]: Done  49 tasks      | elapsed:    0.0s\n",
      "[Parallel(n_jobs=1)]: Done 199 tasks      | elapsed:    0.0s\n",
      "[Parallel(n_jobs=1)]: Done  49 tasks      | elapsed:    0.0s\n",
      "[Parallel(n_jobs=1)]: Done 199 tasks      | elapsed:    0.1s\n",
      "[Parallel(n_jobs=1)]: Done  49 tasks      | elapsed:    0.0s\n",
      "[Parallel(n_jobs=1)]: Done 199 tasks      | elapsed:    0.0s\n"
     ]
    },
    {
     "name": "stdout",
     "output_type": "stream",
     "text": [
      "Accuracy: 0.7951482479784366\n",
      "F1 macro: 0.6915638400280038\n",
      "F1 micro: 0.7951482479784366\n",
      "F1 weighted: 0.7720224266685726\n",
      "Kappa: 0.39829278702518145\n",
      "-------------Iteration 7/10\n",
      "50 371\n",
      "random_state = 48\n",
      "Accuracy: 0.8382749326145552\n",
      "F1 macro: 0.7862739073661571\n",
      "F1 micro: 0.8382749326145552\n",
      "F1 weighted: 0.8337283948879194\n",
      "Kappa: 0.5735958930350165\n",
      "-------------Iteration 8/10\n",
      "50 371\n",
      "random_state = 49\n"
     ]
    },
    {
     "name": "stderr",
     "output_type": "stream",
     "text": [
      "[Parallel(n_jobs=1)]: Done  49 tasks      | elapsed:    0.0s\n",
      "[Parallel(n_jobs=1)]: Done 199 tasks      | elapsed:    0.1s\n",
      "[Parallel(n_jobs=1)]: Done  49 tasks      | elapsed:    0.0s\n",
      "[Parallel(n_jobs=1)]: Done 199 tasks      | elapsed:    0.0s\n",
      "[Parallel(n_jobs=1)]: Done  49 tasks      | elapsed:    0.0s\n",
      "[Parallel(n_jobs=1)]: Done 199 tasks      | elapsed:    0.1s\n",
      "[Parallel(n_jobs=1)]: Done  49 tasks      | elapsed:    0.0s\n",
      "[Parallel(n_jobs=1)]: Done 199 tasks      | elapsed:    0.0s\n",
      "[Parallel(n_jobs=1)]: Done  49 tasks      | elapsed:    0.0s\n",
      "[Parallel(n_jobs=1)]: Done 199 tasks      | elapsed:    0.1s\n",
      "[Parallel(n_jobs=1)]: Done  49 tasks      | elapsed:    0.0s\n",
      "[Parallel(n_jobs=1)]: Done 199 tasks      | elapsed:    0.0s\n"
     ]
    },
    {
     "name": "stdout",
     "output_type": "stream",
     "text": [
      "Accuracy: 0.8436657681940701\n",
      "F1 macro: 0.7919277481240814\n",
      "F1 micro: 0.8436657681940701\n",
      "F1 weighted: 0.8386317986737469\n",
      "Kappa: 0.5851551956815115\n",
      "-------------Iteration 9/10\n",
      "50 371\n",
      "random_state = 50\n",
      "Accuracy: 0.7978436657681941\n",
      "F1 macro: 0.7391365490085783\n",
      "F1 micro: 0.7978436657681941\n",
      "F1 weighted: 0.794841597297532\n",
      "Kappa: 0.4786689899387331\n",
      "-------------Iteration 10/10\n",
      "50 371\n",
      "random_state = 51\n",
      "Accuracy: 0.8247978436657682\n",
      "F1 macro: 0.7625097251356595\n",
      "F1 micro: 0.8247978436657682\n",
      "F1 weighted: 0.8172577030015971\n",
      "Kappa: 0.5274811403938473\n"
     ]
    },
    {
     "name": "stderr",
     "output_type": "stream",
     "text": [
      "[Parallel(n_jobs=1)]: Done  49 tasks      | elapsed:    0.0s\n",
      "[Parallel(n_jobs=1)]: Done 199 tasks      | elapsed:    0.1s\n",
      "[Parallel(n_jobs=1)]: Done  49 tasks      | elapsed:    0.0s\n",
      "[Parallel(n_jobs=1)]: Done 199 tasks      | elapsed:    0.0s\n"
     ]
    }
   ],
   "source": [
    "for n in range(iterations):\n",
    "    print(f\"-------------Iteration {n + 1}/{iterations}\")\n",
    "    random_state=42+n\n",
    "\n",
    "    X_train, y_train, X_test, y_test = prepare_dataset_classification(\n",
    "        df,\n",
    "        random_state=random_state,\n",
    "        train_size=train_size\n",
    "    )\n",
    "    print(f\"random_state = {random_state}\")\n",
    "\n",
    "    y_test, y_pred, acc, f1_macro, f1_micro, f1_weighted, kappa = train_and_evaluate_classifier(\n",
    "        X_train, \n",
    "        y_train, \n",
    "        X_test, \n",
    "        y_test, \n",
    "        random_state=random_state\n",
    "    )\n",
    "    \n",
    "    y_test_all.append(y_test)\n",
    "    y_pred_all.append(y_pred)    \n",
    "    acc_scores.append(acc)\n",
    "    f1macro_scores.append(f1_macro)\n",
    "    f1micro_scores.append(f1_micro)\n",
    "    f1weighted_scores.append(f1_weighted)\n",
    "    kappa_scores.append(kappa)\n",
    "    print(f\"Accuracy: {acc}\")\n",
    "    print(f\"F1 macro: {f1_macro}\")\n",
    "    print(f\"F1 micro: {f1_micro}\")\n",
    "    print(f\"F1 weighted: {f1_weighted}\")\n",
    "    print(f\"Kappa: {kappa}\")"
   ]
  },
  {
   "cell_type": "code",
   "execution_count": 31,
   "metadata": {},
   "outputs": [
    {
     "name": "stdout",
     "output_type": "stream",
     "text": [
      "FINAL REPORT for training size = 50\n",
      "mean accuracy: 0.822911051212938 +/- 0.01612977283059535\n",
      "mean F1 macro: 0.7546523931413256 +/- 0.02926604528500067\n",
      "mean F1 micro: 0.822911051212938 +/- 0.01612977283059535\n",
      "mean F1 weighted: 0.8127838679591541 +/- 0.019866357966422065\n",
      "mean Kappa: 0.5141623468596925 +/- 0.05475734093975225\n"
     ]
    }
   ],
   "source": [
    "print(f\"FINAL REPORT for training size = {train_size}\")\n",
    "\n",
    "print(f\"mean accuracy: {np.mean(acc_scores)} +/- {np.std(acc_scores)}\")\n",
    "print(f\"mean F1 macro: {np.mean(f1macro_scores)} +/- {np.std(f1macro_scores)}\")\n",
    "print(f\"mean F1 micro: {np.mean(f1micro_scores)} +/- {np.std(f1micro_scores)}\")\n",
    "print(f\"mean F1 weighted: {np.mean(f1weighted_scores)} +/- {np.std(f1weighted_scores)}\")\n",
    "print(f\"mean Kappa: {np.mean(kappa_scores)} +/- {np.std(kappa_scores)}\")"
   ]
  },
  {
   "cell_type": "code",
   "execution_count": 32,
   "metadata": {},
   "outputs": [
    {
     "data": {
      "text/html": [
       "<div>\n",
       "<style scoped>\n",
       "    .dataframe tbody tr th:only-of-type {\n",
       "        vertical-align: middle;\n",
       "    }\n",
       "\n",
       "    .dataframe tbody tr th {\n",
       "        vertical-align: top;\n",
       "    }\n",
       "\n",
       "    .dataframe thead th {\n",
       "        text-align: right;\n",
       "    }\n",
       "</style>\n",
       "<table border=\"1\" class=\"dataframe\">\n",
       "  <thead>\n",
       "    <tr style=\"text-align: right;\">\n",
       "      <th></th>\n",
       "      <th>train_size</th>\n",
       "      <th>y_true</th>\n",
       "      <th>y_pred</th>\n",
       "      <th>accuracy</th>\n",
       "      <th>f1_macro</th>\n",
       "      <th>f1_micro</th>\n",
       "      <th>f1_weighted</th>\n",
       "      <th>kappa</th>\n",
       "    </tr>\n",
       "  </thead>\n",
       "  <tbody>\n",
       "    <tr>\n",
       "      <th>0</th>\n",
       "      <td>50</td>\n",
       "      <td>[0, 1, 1, 1, 0, 0, 1, 1, 0, 0, 0, 0, 0, 1, 0, ...</td>\n",
       "      <td>[0, 1, 1, 1, 0, 0, 1, 0, 0, 0, 0, 0, 0, 1, 0, ...</td>\n",
       "      <td>0.835580</td>\n",
       "      <td>0.773701</td>\n",
       "      <td>0.835580</td>\n",
       "      <td>0.826968</td>\n",
       "      <td>0.550678</td>\n",
       "    </tr>\n",
       "    <tr>\n",
       "      <th>1</th>\n",
       "      <td>50</td>\n",
       "      <td>[0, 0, 0, 0, 0, 0, 0, 0, 0, 0, 0, 0, 0, 0, 0, ...</td>\n",
       "      <td>[0, 1, 0, 0, 0, 0, 0, 0, 0, 0, 0, 0, 0, 0, 0, ...</td>\n",
       "      <td>0.824798</td>\n",
       "      <td>0.737438</td>\n",
       "      <td>0.824798</td>\n",
       "      <td>0.805611</td>\n",
       "      <td>0.487209</td>\n",
       "    </tr>\n",
       "    <tr>\n",
       "      <th>2</th>\n",
       "      <td>50</td>\n",
       "      <td>[0, 0, 1, 0, 1, 0, 0, 0, 0, 0, 0, 0, 0, 0, 1, ...</td>\n",
       "      <td>[1, 0, 0, 0, 1, 0, 0, 0, 0, 0, 0, 0, 0, 0, 0, ...</td>\n",
       "      <td>0.835580</td>\n",
       "      <td>0.777125</td>\n",
       "      <td>0.835580</td>\n",
       "      <td>0.828503</td>\n",
       "      <td>0.556559</td>\n",
       "    </tr>\n",
       "  </tbody>\n",
       "</table>\n",
       "</div>"
      ],
      "text/plain": [
       "   train_size                                             y_true  \\\n",
       "0          50  [0, 1, 1, 1, 0, 0, 1, 1, 0, 0, 0, 0, 0, 1, 0, ...   \n",
       "1          50  [0, 0, 0, 0, 0, 0, 0, 0, 0, 0, 0, 0, 0, 0, 0, ...   \n",
       "2          50  [0, 0, 1, 0, 1, 0, 0, 0, 0, 0, 0, 0, 0, 0, 1, ...   \n",
       "\n",
       "                                              y_pred  accuracy  f1_macro  \\\n",
       "0  [0, 1, 1, 1, 0, 0, 1, 0, 0, 0, 0, 0, 0, 1, 0, ...  0.835580  0.773701   \n",
       "1  [0, 1, 0, 0, 0, 0, 0, 0, 0, 0, 0, 0, 0, 0, 0, ...  0.824798  0.737438   \n",
       "2  [1, 0, 0, 0, 1, 0, 0, 0, 0, 0, 0, 0, 0, 0, 0, ...  0.835580  0.777125   \n",
       "\n",
       "   f1_micro  f1_weighted     kappa  \n",
       "0  0.835580     0.826968  0.550678  \n",
       "1  0.824798     0.805611  0.487209  \n",
       "2  0.835580     0.828503  0.556559  "
      ]
     },
     "execution_count": 32,
     "metadata": {},
     "output_type": "execute_result"
    }
   ],
   "source": [
    "compiled_res_50 = pd.DataFrame(metrics_dict())\n",
    "compiled_res_50.head(3)"
   ]
  },
  {
   "cell_type": "markdown",
   "metadata": {},
   "source": [
    "### training size = 100"
   ]
  },
  {
   "cell_type": "code",
   "execution_count": 33,
   "metadata": {},
   "outputs": [],
   "source": [
    "train_size = 100\n",
    "iterations = 10\n",
    "y_test_all = []\n",
    "y_pred_all = []\n",
    "acc_scores = []\n",
    "f1macro_scores = []\n",
    "f1micro_scores = []\n",
    "f1weighted_scores = []\n",
    "kappa_scores = []"
   ]
  },
  {
   "cell_type": "code",
   "execution_count": 34,
   "metadata": {
    "scrolled": true
   },
   "outputs": [
    {
     "name": "stdout",
     "output_type": "stream",
     "text": [
      "-------------Iteration 1/10\n",
      "100 321\n",
      "random_state = 42\n",
      "Accuracy: 0.8286604361370716\n",
      "F1 macro: 0.7640242190945907\n",
      "F1 micro: 0.8286604361370716\n",
      "F1 weighted: 0.8198114302324463\n",
      "Kappa: 0.5313619833833249\n",
      "-------------Iteration 2/10\n",
      "100 321\n",
      "random_state = 43\n"
     ]
    },
    {
     "name": "stderr",
     "output_type": "stream",
     "text": [
      "[Parallel(n_jobs=1)]: Done  49 tasks      | elapsed:    0.0s\n",
      "[Parallel(n_jobs=1)]: Done 199 tasks      | elapsed:    0.1s\n",
      "[Parallel(n_jobs=1)]: Done  49 tasks      | elapsed:    0.0s\n",
      "[Parallel(n_jobs=1)]: Done 199 tasks      | elapsed:    0.0s\n",
      "[Parallel(n_jobs=1)]: Done  49 tasks      | elapsed:    0.0s\n",
      "[Parallel(n_jobs=1)]: Done 199 tasks      | elapsed:    0.1s\n",
      "[Parallel(n_jobs=1)]: Done  49 tasks      | elapsed:    0.0s\n",
      "[Parallel(n_jobs=1)]: Done 199 tasks      | elapsed:    0.0s\n",
      "[Parallel(n_jobs=1)]: Done  49 tasks      | elapsed:    0.0s\n",
      "[Parallel(n_jobs=1)]: Done 199 tasks      | elapsed:    0.1s\n",
      "[Parallel(n_jobs=1)]: Done  49 tasks      | elapsed:    0.0s\n",
      "[Parallel(n_jobs=1)]: Done 199 tasks      | elapsed:    0.0s\n"
     ]
    },
    {
     "name": "stdout",
     "output_type": "stream",
     "text": [
      "Accuracy: 0.8566978193146417\n",
      "F1 macro: 0.8116389427492601\n",
      "F1 micro: 0.8566978193146417\n",
      "F1 weighted: 0.8532538287491349\n",
      "Kappa: 0.623968625853112\n",
      "-------------Iteration 3/10\n",
      "100 321\n",
      "random_state = 44\n",
      "Accuracy: 0.8629283489096573\n",
      "F1 macro: 0.8198285539340748\n",
      "F1 micro: 0.8629283489096573\n",
      "F1 weighted: 0.8596340970643899\n",
      "Kappa: 0.6403178160334114\n",
      "-------------Iteration 4/10\n",
      "100 321\n",
      "random_state = 45\n"
     ]
    },
    {
     "name": "stderr",
     "output_type": "stream",
     "text": [
      "[Parallel(n_jobs=1)]: Done  49 tasks      | elapsed:    0.0s\n",
      "[Parallel(n_jobs=1)]: Done 199 tasks      | elapsed:    0.1s\n",
      "[Parallel(n_jobs=1)]: Done  49 tasks      | elapsed:    0.0s\n",
      "[Parallel(n_jobs=1)]: Done 199 tasks      | elapsed:    0.0s\n",
      "[Parallel(n_jobs=1)]: Done  49 tasks      | elapsed:    0.0s\n"
     ]
    },
    {
     "name": "stdout",
     "output_type": "stream",
     "text": [
      "Accuracy: 0.8753894080996885\n",
      "F1 macro: 0.8320954074694006\n",
      "F1 micro: 0.8753894080996885\n",
      "F1 weighted: 0.8706084755147488\n",
      "Kappa: 0.6656075837283192\n",
      "-------------Iteration 5/10\n",
      "100 321\n",
      "random_state = 46\n",
      "Accuracy: 0.8442367601246106\n",
      "F1 macro: 0.7845059076262084\n",
      "F1 micro: 0.8442367601246106\n",
      "F1 weighted: 0.8357542721958433\n",
      "Kappa: 0.5723193348966105\n",
      "-------------Iteration 6/10\n",
      "100 321\n",
      "random_state = 47\n"
     ]
    },
    {
     "name": "stderr",
     "output_type": "stream",
     "text": [
      "[Parallel(n_jobs=1)]: Done 199 tasks      | elapsed:    0.1s\n",
      "[Parallel(n_jobs=1)]: Done  49 tasks      | elapsed:    0.0s\n",
      "[Parallel(n_jobs=1)]: Done 199 tasks      | elapsed:    0.0s\n",
      "[Parallel(n_jobs=1)]: Done  49 tasks      | elapsed:    0.0s\n",
      "[Parallel(n_jobs=1)]: Done 199 tasks      | elapsed:    0.1s\n",
      "[Parallel(n_jobs=1)]: Done  49 tasks      | elapsed:    0.0s\n",
      "[Parallel(n_jobs=1)]: Done 199 tasks      | elapsed:    0.0s\n"
     ]
    },
    {
     "name": "stdout",
     "output_type": "stream",
     "text": [
      "Accuracy: 0.8660436137071651\n",
      "F1 macro: 0.8202664166569007\n",
      "F1 micro: 0.8660436137071651\n",
      "F1 weighted: 0.8612398337697916\n",
      "Kappa: 0.641880497107127\n",
      "-------------Iteration 7/10\n",
      "100 321\n",
      "random_state = 48\n",
      "Accuracy: 0.8629283489096573\n",
      "F1 macro: 0.816856846473029\n",
      "F1 micro: 0.8629283489096573\n",
      "F1 weighted: 0.8583498145060172\n",
      "Kappa: 0.6349255583126552\n",
      "-------------Iteration 8/10\n",
      "100 321\n",
      "random_state = 49\n"
     ]
    },
    {
     "name": "stderr",
     "output_type": "stream",
     "text": [
      "[Parallel(n_jobs=1)]: Done  49 tasks      | elapsed:    0.0s\n",
      "[Parallel(n_jobs=1)]: Done 199 tasks      | elapsed:    0.1s\n",
      "[Parallel(n_jobs=1)]: Done  49 tasks      | elapsed:    0.0s\n",
      "[Parallel(n_jobs=1)]: Done 199 tasks      | elapsed:    0.0s\n",
      "[Parallel(n_jobs=1)]: Done  49 tasks      | elapsed:    0.0s\n",
      "[Parallel(n_jobs=1)]: Done 199 tasks      | elapsed:    0.1s\n",
      "[Parallel(n_jobs=1)]: Done  49 tasks      | elapsed:    0.0s\n",
      "[Parallel(n_jobs=1)]: Done 199 tasks      | elapsed:    0.0s\n",
      "[Parallel(n_jobs=1)]: Done  49 tasks      | elapsed:    0.0s\n",
      "[Parallel(n_jobs=1)]: Done 199 tasks      | elapsed:    0.1s\n",
      "[Parallel(n_jobs=1)]: Done  49 tasks      | elapsed:    0.0s\n",
      "[Parallel(n_jobs=1)]: Done 199 tasks      | elapsed:    0.0s\n"
     ]
    },
    {
     "name": "stdout",
     "output_type": "stream",
     "text": [
      "Accuracy: 0.8785046728971962\n",
      "F1 macro: 0.8499658441293848\n",
      "F1 micro: 0.8785046728971962\n",
      "F1 weighted: 0.8795239167817609\n",
      "Kappa: 0.7000215656674573\n",
      "-------------Iteration 9/10\n",
      "100 321\n",
      "random_state = 50\n",
      "Accuracy: 0.838006230529595\n",
      "F1 macro: 0.7738211382113821\n",
      "F1 micro: 0.838006230529595\n",
      "F1 weighted: 0.8282470936858901\n",
      "Kappa: 0.5517482141898062\n",
      "-------------Iteration 10/10\n",
      "100 321\n",
      "random_state = 51\n",
      "Accuracy: 0.8348909657320872\n",
      "F1 macro: 0.7746174736702656\n",
      "F1 micro: 0.8348909657320872\n",
      "F1 weighted: 0.8272660058929412\n",
      "Kappa: 0.5518531201432975\n"
     ]
    },
    {
     "name": "stderr",
     "output_type": "stream",
     "text": [
      "[Parallel(n_jobs=1)]: Done  49 tasks      | elapsed:    0.0s\n",
      "[Parallel(n_jobs=1)]: Done 199 tasks      | elapsed:    0.1s\n",
      "[Parallel(n_jobs=1)]: Done  49 tasks      | elapsed:    0.0s\n",
      "[Parallel(n_jobs=1)]: Done 199 tasks      | elapsed:    0.0s\n"
     ]
    }
   ],
   "source": [
    "for n in range(iterations):\n",
    "    print(f\"-------------Iteration {n + 1}/{iterations}\")\n",
    "    random_state=42+n\n",
    "\n",
    "    X_train, y_train, X_test, y_test = prepare_dataset_classification(\n",
    "        df,\n",
    "        random_state=random_state,\n",
    "        train_size=train_size\n",
    "    )\n",
    "    print(f\"random_state = {random_state}\")\n",
    "\n",
    "    y_test, y_pred, acc, f1_macro, f1_micro, f1_weighted, kappa = train_and_evaluate_classifier(\n",
    "        X_train, \n",
    "        y_train, \n",
    "        X_test, \n",
    "        y_test, \n",
    "        random_state=random_state\n",
    "    )\n",
    "    \n",
    "    y_test_all.append(y_test)\n",
    "    y_pred_all.append(y_pred)    \n",
    "    acc_scores.append(acc)\n",
    "    f1macro_scores.append(f1_macro)\n",
    "    f1micro_scores.append(f1_micro)\n",
    "    f1weighted_scores.append(f1_weighted)\n",
    "    kappa_scores.append(kappa)\n",
    "    print(f\"Accuracy: {acc}\")\n",
    "    print(f\"F1 macro: {f1_macro}\")\n",
    "    print(f\"F1 micro: {f1_micro}\")\n",
    "    print(f\"F1 weighted: {f1_weighted}\")\n",
    "    print(f\"Kappa: {kappa}\")"
   ]
  },
  {
   "cell_type": "code",
   "execution_count": 35,
   "metadata": {},
   "outputs": [
    {
     "name": "stdout",
     "output_type": "stream",
     "text": [
      "FINAL REPORT for training size = 100\n",
      "mean accuracy: 0.854828660436137 +/- 0.016496202236602774\n",
      "mean F1 macro: 0.8047620750014495 +/- 0.02717972367634883\n",
      "mean F1 micro: 0.854828660436137 +/- 0.016496202236602774\n",
      "mean F1 weighted: 0.8493688768392964 +/- 0.019225395133576875\n",
      "mean Kappa: 0.6114004299315121 +/- 0.05320386829059659\n"
     ]
    }
   ],
   "source": [
    "print(f\"FINAL REPORT for training size = {train_size}\")\n",
    "\n",
    "print(f\"mean accuracy: {np.mean(acc_scores)} +/- {np.std(acc_scores)}\")\n",
    "print(f\"mean F1 macro: {np.mean(f1macro_scores)} +/- {np.std(f1macro_scores)}\")\n",
    "print(f\"mean F1 micro: {np.mean(f1micro_scores)} +/- {np.std(f1micro_scores)}\")\n",
    "print(f\"mean F1 weighted: {np.mean(f1weighted_scores)} +/- {np.std(f1weighted_scores)}\")\n",
    "print(f\"mean Kappa: {np.mean(kappa_scores)} +/- {np.std(kappa_scores)}\")"
   ]
  },
  {
   "cell_type": "code",
   "execution_count": 36,
   "metadata": {},
   "outputs": [
    {
     "data": {
      "text/html": [
       "<div>\n",
       "<style scoped>\n",
       "    .dataframe tbody tr th:only-of-type {\n",
       "        vertical-align: middle;\n",
       "    }\n",
       "\n",
       "    .dataframe tbody tr th {\n",
       "        vertical-align: top;\n",
       "    }\n",
       "\n",
       "    .dataframe thead th {\n",
       "        text-align: right;\n",
       "    }\n",
       "</style>\n",
       "<table border=\"1\" class=\"dataframe\">\n",
       "  <thead>\n",
       "    <tr style=\"text-align: right;\">\n",
       "      <th></th>\n",
       "      <th>train_size</th>\n",
       "      <th>y_true</th>\n",
       "      <th>y_pred</th>\n",
       "      <th>accuracy</th>\n",
       "      <th>f1_macro</th>\n",
       "      <th>f1_micro</th>\n",
       "      <th>f1_weighted</th>\n",
       "      <th>kappa</th>\n",
       "    </tr>\n",
       "  </thead>\n",
       "  <tbody>\n",
       "    <tr>\n",
       "      <th>0</th>\n",
       "      <td>100</td>\n",
       "      <td>[0, 1, 0, 0, 0, 0, 1, 1, 0, 0, 0, 0, 0, 0, 1, ...</td>\n",
       "      <td>[0, 0, 0, 0, 1, 0, 0, 1, 1, 0, 0, 0, 0, 0, 1, ...</td>\n",
       "      <td>0.828660</td>\n",
       "      <td>0.764024</td>\n",
       "      <td>0.828660</td>\n",
       "      <td>0.819811</td>\n",
       "      <td>0.531362</td>\n",
       "    </tr>\n",
       "    <tr>\n",
       "      <th>1</th>\n",
       "      <td>100</td>\n",
       "      <td>[1, 0, 1, 0, 0, 1, 0, 0, 0, 1, 0, 0, 1, 1, 0, ...</td>\n",
       "      <td>[1, 0, 1, 0, 0, 0, 0, 0, 0, 1, 0, 0, 0, 1, 0, ...</td>\n",
       "      <td>0.856698</td>\n",
       "      <td>0.811639</td>\n",
       "      <td>0.856698</td>\n",
       "      <td>0.853254</td>\n",
       "      <td>0.623969</td>\n",
       "    </tr>\n",
       "    <tr>\n",
       "      <th>2</th>\n",
       "      <td>100</td>\n",
       "      <td>[0, 0, 0, 0, 1, 0, 1, 0, 0, 0, 0, 0, 0, 0, 1, ...</td>\n",
       "      <td>[0, 0, 0, 0, 1, 0, 0, 0, 0, 0, 0, 1, 0, 0, 0, ...</td>\n",
       "      <td>0.862928</td>\n",
       "      <td>0.819829</td>\n",
       "      <td>0.862928</td>\n",
       "      <td>0.859634</td>\n",
       "      <td>0.640318</td>\n",
       "    </tr>\n",
       "  </tbody>\n",
       "</table>\n",
       "</div>"
      ],
      "text/plain": [
       "   train_size                                             y_true  \\\n",
       "0         100  [0, 1, 0, 0, 0, 0, 1, 1, 0, 0, 0, 0, 0, 0, 1, ...   \n",
       "1         100  [1, 0, 1, 0, 0, 1, 0, 0, 0, 1, 0, 0, 1, 1, 0, ...   \n",
       "2         100  [0, 0, 0, 0, 1, 0, 1, 0, 0, 0, 0, 0, 0, 0, 1, ...   \n",
       "\n",
       "                                              y_pred  accuracy  f1_macro  \\\n",
       "0  [0, 0, 0, 0, 1, 0, 0, 1, 1, 0, 0, 0, 0, 0, 1, ...  0.828660  0.764024   \n",
       "1  [1, 0, 1, 0, 0, 0, 0, 0, 0, 1, 0, 0, 0, 1, 0, ...  0.856698  0.811639   \n",
       "2  [0, 0, 0, 0, 1, 0, 0, 0, 0, 0, 0, 1, 0, 0, 0, ...  0.862928  0.819829   \n",
       "\n",
       "   f1_micro  f1_weighted     kappa  \n",
       "0  0.828660     0.819811  0.531362  \n",
       "1  0.856698     0.853254  0.623969  \n",
       "2  0.862928     0.859634  0.640318  "
      ]
     },
     "execution_count": 36,
     "metadata": {},
     "output_type": "execute_result"
    }
   ],
   "source": [
    "compiled_res_100 = pd.DataFrame(metrics_dict())\n",
    "compiled_res_100.head(3)"
   ]
  },
  {
   "cell_type": "markdown",
   "metadata": {},
   "source": [
    "### training size = 200"
   ]
  },
  {
   "cell_type": "code",
   "execution_count": 37,
   "metadata": {},
   "outputs": [],
   "source": [
    "train_size = 200\n",
    "iterations = 10\n",
    "y_test_all = []\n",
    "y_pred_all = []\n",
    "acc_scores = []\n",
    "f1macro_scores = []\n",
    "f1micro_scores = []\n",
    "f1weighted_scores = []\n",
    "kappa_scores = []"
   ]
  },
  {
   "cell_type": "code",
   "execution_count": 38,
   "metadata": {
    "scrolled": true
   },
   "outputs": [
    {
     "name": "stdout",
     "output_type": "stream",
     "text": [
      "-------------Iteration 1/10\n",
      "200 221\n",
      "random_state = 42\n",
      "Accuracy: 0.8868778280542986\n",
      "F1 macro: 0.8530780481318974\n",
      "F1 micro: 0.8868778280542986\n",
      "F1 weighted: 0.8846457671160268\n",
      "Kappa: 0.7065384819673872\n",
      "-------------Iteration 2/10\n",
      "200 221\n",
      "random_state = 43\n"
     ]
    },
    {
     "name": "stderr",
     "output_type": "stream",
     "text": [
      "[Parallel(n_jobs=1)]: Done  49 tasks      | elapsed:    0.0s\n",
      "[Parallel(n_jobs=1)]: Done 199 tasks      | elapsed:    0.1s\n",
      "[Parallel(n_jobs=1)]: Done  49 tasks      | elapsed:    0.0s\n",
      "[Parallel(n_jobs=1)]: Done 199 tasks      | elapsed:    0.0s\n",
      "[Parallel(n_jobs=1)]: Done  49 tasks      | elapsed:    0.0s\n",
      "[Parallel(n_jobs=1)]: Done 199 tasks      | elapsed:    0.1s\n",
      "[Parallel(n_jobs=1)]: Done  49 tasks      | elapsed:    0.0s\n",
      "[Parallel(n_jobs=1)]: Done 199 tasks      | elapsed:    0.0s\n",
      "[Parallel(n_jobs=1)]: Done  49 tasks      | elapsed:    0.0s\n",
      "[Parallel(n_jobs=1)]: Done 199 tasks      | elapsed:    0.1s\n",
      "[Parallel(n_jobs=1)]: Done  49 tasks      | elapsed:    0.0s\n",
      "[Parallel(n_jobs=1)]: Done 199 tasks      | elapsed:    0.0s\n"
     ]
    },
    {
     "name": "stdout",
     "output_type": "stream",
     "text": [
      "Accuracy: 0.8914027149321267\n",
      "F1 macro: 0.852960745176314\n",
      "F1 micro: 0.8914027149321267\n",
      "F1 weighted: 0.8866399930154775\n",
      "Kappa: 0.7075107532811293\n",
      "-------------Iteration 3/10\n",
      "200 221\n",
      "random_state = 44\n",
      "Accuracy: 0.8733031674208145\n",
      "F1 macro: 0.8239644970414202\n",
      "F1 micro: 0.8733031674208145\n",
      "F1 weighted: 0.8657126027470615\n",
      "Kappa: 0.6511444356748224\n",
      "-------------Iteration 4/10\n",
      "200 221\n",
      "random_state = 45\n"
     ]
    },
    {
     "name": "stderr",
     "output_type": "stream",
     "text": [
      "[Parallel(n_jobs=1)]: Done  49 tasks      | elapsed:    0.0s\n",
      "[Parallel(n_jobs=1)]: Done 199 tasks      | elapsed:    0.1s\n",
      "[Parallel(n_jobs=1)]: Done  49 tasks      | elapsed:    0.0s\n",
      "[Parallel(n_jobs=1)]: Done 199 tasks      | elapsed:    0.0s\n",
      "[Parallel(n_jobs=1)]: Done  49 tasks      | elapsed:    0.0s\n"
     ]
    },
    {
     "name": "stdout",
     "output_type": "stream",
     "text": [
      "Accuracy: 0.8778280542986425\n",
      "F1 macro: 0.8413242919824492\n",
      "F1 micro: 0.8778280542986425\n",
      "F1 weighted: 0.8754174284853091\n",
      "Kappa: 0.6830615605247783\n",
      "-------------Iteration 5/10\n",
      "200 221\n",
      "random_state = 46\n",
      "Accuracy: 0.9004524886877828\n",
      "F1 macro: 0.8741718426501035\n",
      "F1 micro: 0.9004524886877828\n",
      "F1 weighted: 0.8999320798553535\n",
      "Kappa: 0.7483697339819895\n",
      "-------------Iteration 6/10\n",
      "200 221\n",
      "random_state = 47\n"
     ]
    },
    {
     "name": "stderr",
     "output_type": "stream",
     "text": [
      "[Parallel(n_jobs=1)]: Done 199 tasks      | elapsed:    0.1s\n",
      "[Parallel(n_jobs=1)]: Done  49 tasks      | elapsed:    0.0s\n",
      "[Parallel(n_jobs=1)]: Done 199 tasks      | elapsed:    0.0s\n",
      "[Parallel(n_jobs=1)]: Done  49 tasks      | elapsed:    0.0s\n",
      "[Parallel(n_jobs=1)]: Done 199 tasks      | elapsed:    0.1s\n",
      "[Parallel(n_jobs=1)]: Done  49 tasks      | elapsed:    0.0s\n",
      "[Parallel(n_jobs=1)]: Done 199 tasks      | elapsed:    0.0s\n"
     ]
    },
    {
     "name": "stdout",
     "output_type": "stream",
     "text": [
      "Accuracy: 0.8506787330316742\n",
      "F1 macro: 0.8102609464838567\n",
      "F1 micro: 0.8506787330316742\n",
      "F1 weighted: 0.8494899746037973\n",
      "Kappa: 0.6206107267336003\n",
      "-------------Iteration 7/10\n",
      "200 221\n",
      "random_state = 48\n",
      "Accuracy: 0.8733031674208145\n",
      "F1 macro: 0.8398550724637681\n",
      "F1 micro: 0.8733031674208145\n",
      "F1 weighted: 0.8726408289068136\n",
      "Kappa: 0.6797432977952593\n",
      "-------------Iteration 8/10\n",
      "200 221\n",
      "random_state = 49\n"
     ]
    },
    {
     "name": "stderr",
     "output_type": "stream",
     "text": [
      "[Parallel(n_jobs=1)]: Done  49 tasks      | elapsed:    0.0s\n",
      "[Parallel(n_jobs=1)]: Done 199 tasks      | elapsed:    0.1s\n",
      "[Parallel(n_jobs=1)]: Done  49 tasks      | elapsed:    0.0s\n",
      "[Parallel(n_jobs=1)]: Done 199 tasks      | elapsed:    0.0s\n",
      "[Parallel(n_jobs=1)]: Done  49 tasks      | elapsed:    0.0s\n",
      "[Parallel(n_jobs=1)]: Done 199 tasks      | elapsed:    0.1s\n",
      "[Parallel(n_jobs=1)]: Done  49 tasks      | elapsed:    0.0s\n",
      "[Parallel(n_jobs=1)]: Done 199 tasks      | elapsed:    0.0s\n",
      "[Parallel(n_jobs=1)]: Done  49 tasks      | elapsed:    0.0s\n",
      "[Parallel(n_jobs=1)]: Done 199 tasks      | elapsed:    0.1s\n",
      "[Parallel(n_jobs=1)]: Done  49 tasks      | elapsed:    0.0s\n",
      "[Parallel(n_jobs=1)]: Done 199 tasks      | elapsed:    0.0s\n"
     ]
    },
    {
     "name": "stdout",
     "output_type": "stream",
     "text": [
      "Accuracy: 0.8733031674208145\n",
      "F1 macro: 0.843071616960844\n",
      "F1 micro: 0.8733031674208145\n",
      "F1 weighted: 0.8739264983581334\n",
      "Kappa: 0.6861750684653616\n",
      "-------------Iteration 9/10\n",
      "200 221\n",
      "random_state = 50\n",
      "Accuracy: 0.8868778280542986\n",
      "F1 macro: 0.8530780481318974\n",
      "F1 micro: 0.8868778280542986\n",
      "F1 weighted: 0.8846457671160268\n",
      "Kappa: 0.7065384819673872\n",
      "-------------Iteration 10/10\n",
      "200 221\n",
      "random_state = 51\n",
      "Accuracy: 0.8552036199095022\n",
      "F1 macro: 0.8169772256728778\n",
      "F1 micro: 0.8552036199095022\n",
      "F1 weighted: 0.8544466616077868\n",
      "Kappa: 0.6339923403374392\n"
     ]
    },
    {
     "name": "stderr",
     "output_type": "stream",
     "text": [
      "[Parallel(n_jobs=1)]: Done  49 tasks      | elapsed:    0.0s\n",
      "[Parallel(n_jobs=1)]: Done 199 tasks      | elapsed:    0.1s\n",
      "[Parallel(n_jobs=1)]: Done  49 tasks      | elapsed:    0.0s\n",
      "[Parallel(n_jobs=1)]: Done 199 tasks      | elapsed:    0.0s\n"
     ]
    }
   ],
   "source": [
    "for n in range(iterations):\n",
    "    print(f\"-------------Iteration {n + 1}/{iterations}\")\n",
    "    random_state=42+n\n",
    "\n",
    "    X_train, y_train, X_test, y_test = prepare_dataset_classification(\n",
    "        df,\n",
    "        random_state=random_state,\n",
    "        train_size=train_size\n",
    "    )\n",
    "    print(f\"random_state = {random_state}\")\n",
    "\n",
    "    y_test, y_pred, acc, f1_macro, f1_micro, f1_weighted, kappa = train_and_evaluate_classifier(\n",
    "        X_train, \n",
    "        y_train, \n",
    "        X_test, \n",
    "        y_test, \n",
    "        random_state=random_state\n",
    "    )\n",
    "    \n",
    "    y_test_all.append(y_test)\n",
    "    y_pred_all.append(y_pred)    \n",
    "    acc_scores.append(acc)\n",
    "    f1macro_scores.append(f1_macro)\n",
    "    f1micro_scores.append(f1_micro)\n",
    "    f1weighted_scores.append(f1_weighted)\n",
    "    kappa_scores.append(kappa)\n",
    "    print(f\"Accuracy: {acc}\")\n",
    "    print(f\"F1 macro: {f1_macro}\")\n",
    "    print(f\"F1 micro: {f1_micro}\")\n",
    "    print(f\"F1 weighted: {f1_weighted}\")\n",
    "    print(f\"Kappa: {kappa}\")"
   ]
  },
  {
   "cell_type": "code",
   "execution_count": 39,
   "metadata": {},
   "outputs": [
    {
     "name": "stdout",
     "output_type": "stream",
     "text": [
      "FINAL REPORT for training size = 200\n",
      "mean accuracy: 0.876923076923077 +/- 0.01470414190884338\n",
      "mean F1 macro: 0.8408742334695429 +/- 0.01831100753864865\n",
      "mean F1 micro: 0.876923076923077 +/- 0.01470414190884338\n",
      "mean F1 weighted: 0.8747497601811786 +/- 0.014522061469481824\n",
      "mean Kappa: 0.6823684880729154 +/- 0.03647979084684656\n"
     ]
    }
   ],
   "source": [
    "print(f\"FINAL REPORT for training size = {train_size}\")\n",
    "\n",
    "print(f\"mean accuracy: {np.mean(acc_scores)} +/- {np.std(acc_scores)}\")\n",
    "print(f\"mean F1 macro: {np.mean(f1macro_scores)} +/- {np.std(f1macro_scores)}\")\n",
    "print(f\"mean F1 micro: {np.mean(f1micro_scores)} +/- {np.std(f1micro_scores)}\")\n",
    "print(f\"mean F1 weighted: {np.mean(f1weighted_scores)} +/- {np.std(f1weighted_scores)}\")\n",
    "print(f\"mean Kappa: {np.mean(kappa_scores)} +/- {np.std(kappa_scores)}\")"
   ]
  },
  {
   "cell_type": "code",
   "execution_count": 40,
   "metadata": {},
   "outputs": [
    {
     "data": {
      "text/html": [
       "<div>\n",
       "<style scoped>\n",
       "    .dataframe tbody tr th:only-of-type {\n",
       "        vertical-align: middle;\n",
       "    }\n",
       "\n",
       "    .dataframe tbody tr th {\n",
       "        vertical-align: top;\n",
       "    }\n",
       "\n",
       "    .dataframe thead th {\n",
       "        text-align: right;\n",
       "    }\n",
       "</style>\n",
       "<table border=\"1\" class=\"dataframe\">\n",
       "  <thead>\n",
       "    <tr style=\"text-align: right;\">\n",
       "      <th></th>\n",
       "      <th>train_size</th>\n",
       "      <th>y_true</th>\n",
       "      <th>y_pred</th>\n",
       "      <th>accuracy</th>\n",
       "      <th>f1_macro</th>\n",
       "      <th>f1_micro</th>\n",
       "      <th>f1_weighted</th>\n",
       "      <th>kappa</th>\n",
       "    </tr>\n",
       "  </thead>\n",
       "  <tbody>\n",
       "    <tr>\n",
       "      <th>0</th>\n",
       "      <td>200</td>\n",
       "      <td>[1, 0, 0, 0, 0, 1, 0, 0, 0, 1, 0, 1, 0, 0, 0, ...</td>\n",
       "      <td>[1, 0, 0, 0, 0, 1, 0, 1, 0, 1, 0, 1, 0, 0, 0, ...</td>\n",
       "      <td>0.886878</td>\n",
       "      <td>0.853078</td>\n",
       "      <td>0.886878</td>\n",
       "      <td>0.884646</td>\n",
       "      <td>0.706538</td>\n",
       "    </tr>\n",
       "    <tr>\n",
       "      <th>1</th>\n",
       "      <td>200</td>\n",
       "      <td>[0, 0, 0, 0, 0, 0, 0, 1, 1, 0, 0, 0, 0, 1, 1, ...</td>\n",
       "      <td>[0, 0, 0, 0, 0, 0, 0, 0, 1, 0, 0, 0, 0, 1, 1, ...</td>\n",
       "      <td>0.891403</td>\n",
       "      <td>0.852961</td>\n",
       "      <td>0.891403</td>\n",
       "      <td>0.886640</td>\n",
       "      <td>0.707511</td>\n",
       "    </tr>\n",
       "    <tr>\n",
       "      <th>2</th>\n",
       "      <td>200</td>\n",
       "      <td>[0, 0, 1, 0, 0, 1, 1, 0, 0, 1, 1, 1, 0, 0, 0, ...</td>\n",
       "      <td>[0, 0, 0, 0, 0, 0, 1, 0, 1, 1, 1, 0, 0, 0, 0, ...</td>\n",
       "      <td>0.873303</td>\n",
       "      <td>0.823964</td>\n",
       "      <td>0.873303</td>\n",
       "      <td>0.865713</td>\n",
       "      <td>0.651144</td>\n",
       "    </tr>\n",
       "  </tbody>\n",
       "</table>\n",
       "</div>"
      ],
      "text/plain": [
       "   train_size                                             y_true  \\\n",
       "0         200  [1, 0, 0, 0, 0, 1, 0, 0, 0, 1, 0, 1, 0, 0, 0, ...   \n",
       "1         200  [0, 0, 0, 0, 0, 0, 0, 1, 1, 0, 0, 0, 0, 1, 1, ...   \n",
       "2         200  [0, 0, 1, 0, 0, 1, 1, 0, 0, 1, 1, 1, 0, 0, 0, ...   \n",
       "\n",
       "                                              y_pred  accuracy  f1_macro  \\\n",
       "0  [1, 0, 0, 0, 0, 1, 0, 1, 0, 1, 0, 1, 0, 0, 0, ...  0.886878  0.853078   \n",
       "1  [0, 0, 0, 0, 0, 0, 0, 0, 1, 0, 0, 0, 0, 1, 1, ...  0.891403  0.852961   \n",
       "2  [0, 0, 0, 0, 0, 0, 1, 0, 1, 1, 1, 0, 0, 0, 0, ...  0.873303  0.823964   \n",
       "\n",
       "   f1_micro  f1_weighted     kappa  \n",
       "0  0.886878     0.884646  0.706538  \n",
       "1  0.891403     0.886640  0.707511  \n",
       "2  0.873303     0.865713  0.651144  "
      ]
     },
     "execution_count": 40,
     "metadata": {},
     "output_type": "execute_result"
    }
   ],
   "source": [
    "compiled_res_200 = pd.DataFrame(metrics_dict())\n",
    "compiled_res_200.head(3)"
   ]
  },
  {
   "cell_type": "markdown",
   "metadata": {},
   "source": [
    "### training size = 300"
   ]
  },
  {
   "cell_type": "code",
   "execution_count": 41,
   "metadata": {},
   "outputs": [],
   "source": [
    "train_size = 300\n",
    "iterations = 10\n",
    "y_test_all = []\n",
    "y_pred_all = []\n",
    "acc_scores = []\n",
    "f1macro_scores = []\n",
    "f1micro_scores = []\n",
    "f1weighted_scores = []\n",
    "kappa_scores = []"
   ]
  },
  {
   "cell_type": "code",
   "execution_count": 42,
   "metadata": {
    "scrolled": true
   },
   "outputs": [
    {
     "name": "stdout",
     "output_type": "stream",
     "text": [
      "-------------Iteration 1/10\n",
      "300 121\n",
      "random_state = 42\n",
      "Accuracy: 0.9008264462809917\n",
      "F1 macro: 0.8639430284857572\n",
      "F1 micro: 0.9008264462809917\n",
      "F1 weighted: 0.896142837672073\n",
      "Kappa: 0.7295081967213115\n",
      "-------------Iteration 2/10\n",
      "300 121\n",
      "random_state = 43\n"
     ]
    },
    {
     "name": "stderr",
     "output_type": "stream",
     "text": [
      "[Parallel(n_jobs=1)]: Done  49 tasks      | elapsed:    0.0s\n",
      "[Parallel(n_jobs=1)]: Done 199 tasks      | elapsed:    0.1s\n",
      "[Parallel(n_jobs=1)]: Done  49 tasks      | elapsed:    0.0s\n",
      "[Parallel(n_jobs=1)]: Done 199 tasks      | elapsed:    0.0s\n",
      "[Parallel(n_jobs=1)]: Done  49 tasks      | elapsed:    0.1s\n",
      "[Parallel(n_jobs=1)]: Done 199 tasks      | elapsed:    0.2s\n",
      "[Parallel(n_jobs=1)]: Done  49 tasks      | elapsed:    0.0s\n",
      "[Parallel(n_jobs=1)]: Done 199 tasks      | elapsed:    0.0s\n",
      "[Parallel(n_jobs=1)]: Done  49 tasks      | elapsed:    0.0s\n"
     ]
    },
    {
     "name": "stdout",
     "output_type": "stream",
     "text": [
      "Accuracy: 0.8925619834710744\n",
      "F1 macro: 0.8543113827915162\n",
      "F1 micro: 0.8925619834710744\n",
      "F1 weighted: 0.8882433672653178\n",
      "Kappa: 0.7099391480730224\n",
      "-------------Iteration 3/10\n",
      "300 121\n",
      "random_state = 44\n",
      "Accuracy: 0.9256198347107438\n",
      "F1 macro: 0.8991386496248958\n",
      "F1 micro: 0.9256198347107438\n",
      "F1 weighted: 0.9226300234913738\n",
      "Kappa: 0.7991886409736308\n",
      "-------------Iteration 4/10\n"
     ]
    },
    {
     "name": "stderr",
     "output_type": "stream",
     "text": [
      "[Parallel(n_jobs=1)]: Done 199 tasks      | elapsed:    0.1s\n",
      "[Parallel(n_jobs=1)]: Done  49 tasks      | elapsed:    0.0s\n",
      "[Parallel(n_jobs=1)]: Done 199 tasks      | elapsed:    0.0s\n",
      "[Parallel(n_jobs=1)]: Done  49 tasks      | elapsed:    0.0s\n",
      "[Parallel(n_jobs=1)]: Done 199 tasks      | elapsed:    0.1s\n",
      "[Parallel(n_jobs=1)]: Done  49 tasks      | elapsed:    0.0s\n",
      "[Parallel(n_jobs=1)]: Done 199 tasks      | elapsed:    0.0s\n"
     ]
    },
    {
     "name": "stdout",
     "output_type": "stream",
     "text": [
      "300 121\n",
      "random_state = 45\n",
      "Accuracy: 0.8842975206611571\n",
      "F1 macro: 0.844871794871795\n",
      "F1 micro: 0.8842975206611571\n",
      "F1 weighted: 0.8804195804195805\n",
      "Kappa: 0.6907630522088353\n",
      "-------------Iteration 5/10\n",
      "300 121\n",
      "random_state = 46\n"
     ]
    },
    {
     "name": "stderr",
     "output_type": "stream",
     "text": [
      "[Parallel(n_jobs=1)]: Done  49 tasks      | elapsed:    0.0s\n",
      "[Parallel(n_jobs=1)]: Done 199 tasks      | elapsed:    0.1s\n",
      "[Parallel(n_jobs=1)]: Done  49 tasks      | elapsed:    0.0s\n",
      "[Parallel(n_jobs=1)]: Done 199 tasks      | elapsed:    0.0s\n",
      "[Parallel(n_jobs=1)]: Done  49 tasks      | elapsed:    0.0s\n"
     ]
    },
    {
     "name": "stdout",
     "output_type": "stream",
     "text": [
      "Accuracy: 0.9090909090909091\n",
      "F1 macro: 0.8819721557151725\n",
      "F1 micro: 0.9090909090909091\n",
      "F1 weighted: 0.9076882149507848\n",
      "Kappa: 0.7641325536062378\n",
      "-------------Iteration 6/10\n",
      "300 121\n",
      "random_state = 47\n",
      "Accuracy: 0.8760330578512396\n",
      "F1 macro: 0.8452025586353944\n",
      "F1 micro: 0.8760330578512396\n",
      "F1 weighted: 0.8766039930219035\n",
      "Kappa: 0.6904315196998123\n",
      "-------------Iteration 7/10\n",
      "300 121\n",
      "random_state = 48\n"
     ]
    },
    {
     "name": "stderr",
     "output_type": "stream",
     "text": [
      "[Parallel(n_jobs=1)]: Done 199 tasks      | elapsed:    0.1s\n",
      "[Parallel(n_jobs=1)]: Done  49 tasks      | elapsed:    0.0s\n",
      "[Parallel(n_jobs=1)]: Done 199 tasks      | elapsed:    0.0s\n",
      "[Parallel(n_jobs=1)]: Done  49 tasks      | elapsed:    0.0s\n",
      "[Parallel(n_jobs=1)]: Done 199 tasks      | elapsed:    0.1s\n",
      "[Parallel(n_jobs=1)]: Done  49 tasks      | elapsed:    0.0s\n",
      "[Parallel(n_jobs=1)]: Done 199 tasks      | elapsed:    0.0s\n"
     ]
    },
    {
     "name": "stdout",
     "output_type": "stream",
     "text": [
      "Accuracy: 0.8925619834710744\n",
      "F1 macro: 0.8658422174840086\n",
      "F1 micro: 0.8925619834710744\n",
      "F1 weighted: 0.8930567939523163\n",
      "Kappa: 0.7317073170731707\n",
      "-------------Iteration 8/10\n",
      "300 121\n",
      "random_state = 49\n",
      "Accuracy: 0.8842975206611571\n",
      "F1 macro: 0.8482078853046595\n",
      "F1 micro: 0.8842975206611571\n",
      "F1 weighted: 0.8818507657217335\n",
      "Kappa: 0.6968503937007874\n",
      "-------------Iteration 9/10\n",
      "300 121\n",
      "random_state = 50\n"
     ]
    },
    {
     "name": "stderr",
     "output_type": "stream",
     "text": [
      "[Parallel(n_jobs=1)]: Done  49 tasks      | elapsed:    0.0s\n",
      "[Parallel(n_jobs=1)]: Done 199 tasks      | elapsed:    0.1s\n",
      "[Parallel(n_jobs=1)]: Done  49 tasks      | elapsed:    0.0s\n",
      "[Parallel(n_jobs=1)]: Done 199 tasks      | elapsed:    0.0s\n",
      "[Parallel(n_jobs=1)]: Done  49 tasks      | elapsed:    0.0s\n"
     ]
    },
    {
     "name": "stdout",
     "output_type": "stream",
     "text": [
      "Accuracy: 0.9256198347107438\n",
      "F1 macro: 0.9013676297436826\n",
      "F1 micro: 0.9256198347107438\n",
      "F1 weighted: 0.9235988176301553\n",
      "Kappa: 0.8031809145129225\n",
      "-------------Iteration 10/10\n",
      "300 121\n",
      "random_state = 51\n",
      "Accuracy: 0.9008264462809917\n",
      "F1 macro: 0.8725421348314606\n",
      "F1 micro: 0.9008264462809917\n",
      "F1 weighted: 0.8998340143003064\n",
      "Kappa: 0.7451737451737452\n"
     ]
    },
    {
     "name": "stderr",
     "output_type": "stream",
     "text": [
      "[Parallel(n_jobs=1)]: Done 199 tasks      | elapsed:    0.1s\n",
      "[Parallel(n_jobs=1)]: Done  49 tasks      | elapsed:    0.0s\n",
      "[Parallel(n_jobs=1)]: Done 199 tasks      | elapsed:    0.0s\n",
      "[Parallel(n_jobs=1)]: Done  49 tasks      | elapsed:    0.0s\n",
      "[Parallel(n_jobs=1)]: Done 199 tasks      | elapsed:    0.1s\n",
      "[Parallel(n_jobs=1)]: Done  49 tasks      | elapsed:    0.0s\n",
      "[Parallel(n_jobs=1)]: Done 199 tasks      | elapsed:    0.0s\n"
     ]
    }
   ],
   "source": [
    "for n in range(iterations):\n",
    "    print(f\"-------------Iteration {n + 1}/{iterations}\")\n",
    "    random_state=42+n\n",
    "\n",
    "    X_train, y_train, X_test, y_test = prepare_dataset_classification(\n",
    "        df,\n",
    "        random_state=random_state,\n",
    "        train_size=train_size\n",
    "    )\n",
    "    print(f\"random_state = {random_state}\")\n",
    "\n",
    "    y_test, y_pred, acc, f1_macro, f1_micro, f1_weighted, kappa = train_and_evaluate_classifier(\n",
    "        X_train, \n",
    "        y_train, \n",
    "        X_test, \n",
    "        y_test, \n",
    "        random_state=random_state\n",
    "    )\n",
    "    \n",
    "    y_test_all.append(y_test)\n",
    "    y_pred_all.append(y_pred)    \n",
    "    acc_scores.append(acc)\n",
    "    f1macro_scores.append(f1_macro)\n",
    "    f1micro_scores.append(f1_micro)\n",
    "    f1weighted_scores.append(f1_weighted)\n",
    "    kappa_scores.append(kappa)\n",
    "    print(f\"Accuracy: {acc}\")\n",
    "    print(f\"F1 macro: {f1_macro}\")\n",
    "    print(f\"F1 micro: {f1_micro}\")\n",
    "    print(f\"F1 weighted: {f1_weighted}\")\n",
    "    print(f\"Kappa: {kappa}\")"
   ]
  },
  {
   "cell_type": "code",
   "execution_count": 43,
   "metadata": {},
   "outputs": [
    {
     "name": "stdout",
     "output_type": "stream",
     "text": [
      "FINAL REPORT for training size = 300\n",
      "mean accuracy: 0.8991735537190083 +/- 0.016025387958401086\n",
      "mean F1 macro: 0.8677399437488342 +/- 0.01988227436805098\n",
      "mean F1 micro: 0.8991735537190083 +/- 0.016025387958401086\n",
      "mean F1 weighted: 0.8970068408425546 +/- 0.01581149342339307\n",
      "mean Kappa: 0.7360875481743475 +/- 0.03972014514622423\n"
     ]
    }
   ],
   "source": [
    "print(f\"FINAL REPORT for training size = {train_size}\")\n",
    "\n",
    "print(f\"mean accuracy: {np.mean(acc_scores)} +/- {np.std(acc_scores)}\")\n",
    "print(f\"mean F1 macro: {np.mean(f1macro_scores)} +/- {np.std(f1macro_scores)}\")\n",
    "print(f\"mean F1 micro: {np.mean(f1micro_scores)} +/- {np.std(f1micro_scores)}\")\n",
    "print(f\"mean F1 weighted: {np.mean(f1weighted_scores)} +/- {np.std(f1weighted_scores)}\")\n",
    "print(f\"mean Kappa: {np.mean(kappa_scores)} +/- {np.std(kappa_scores)}\")"
   ]
  },
  {
   "cell_type": "code",
   "execution_count": 44,
   "metadata": {},
   "outputs": [
    {
     "data": {
      "text/html": [
       "<div>\n",
       "<style scoped>\n",
       "    .dataframe tbody tr th:only-of-type {\n",
       "        vertical-align: middle;\n",
       "    }\n",
       "\n",
       "    .dataframe tbody tr th {\n",
       "        vertical-align: top;\n",
       "    }\n",
       "\n",
       "    .dataframe thead th {\n",
       "        text-align: right;\n",
       "    }\n",
       "</style>\n",
       "<table border=\"1\" class=\"dataframe\">\n",
       "  <thead>\n",
       "    <tr style=\"text-align: right;\">\n",
       "      <th></th>\n",
       "      <th>train_size</th>\n",
       "      <th>y_true</th>\n",
       "      <th>y_pred</th>\n",
       "      <th>accuracy</th>\n",
       "      <th>f1_macro</th>\n",
       "      <th>f1_micro</th>\n",
       "      <th>f1_weighted</th>\n",
       "      <th>kappa</th>\n",
       "    </tr>\n",
       "  </thead>\n",
       "  <tbody>\n",
       "    <tr>\n",
       "      <th>0</th>\n",
       "      <td>300</td>\n",
       "      <td>[0, 1, 0, 0, 1, 1, 1, 0, 1, 0, 1, 0, 0, 0, 1, ...</td>\n",
       "      <td>[0, 1, 0, 0, 1, 1, 1, 0, 1, 0, 1, 0, 0, 0, 1, ...</td>\n",
       "      <td>0.900826</td>\n",
       "      <td>0.863943</td>\n",
       "      <td>0.900826</td>\n",
       "      <td>0.896143</td>\n",
       "      <td>0.729508</td>\n",
       "    </tr>\n",
       "    <tr>\n",
       "      <th>1</th>\n",
       "      <td>300</td>\n",
       "      <td>[0, 0, 0, 0, 0, 0, 1, 0, 1, 1, 0, 0, 0, 0, 0, ...</td>\n",
       "      <td>[0, 1, 0, 0, 0, 0, 1, 0, 0, 0, 0, 0, 0, 0, 0, ...</td>\n",
       "      <td>0.892562</td>\n",
       "      <td>0.854311</td>\n",
       "      <td>0.892562</td>\n",
       "      <td>0.888243</td>\n",
       "      <td>0.709939</td>\n",
       "    </tr>\n",
       "    <tr>\n",
       "      <th>2</th>\n",
       "      <td>300</td>\n",
       "      <td>[0, 0, 0, 1, 1, 1, 0, 0, 1, 0, 0, 1, 0, 0, 0, ...</td>\n",
       "      <td>[0, 0, 0, 1, 0, 1, 0, 0, 0, 0, 0, 0, 0, 0, 0, ...</td>\n",
       "      <td>0.925620</td>\n",
       "      <td>0.899139</td>\n",
       "      <td>0.925620</td>\n",
       "      <td>0.922630</td>\n",
       "      <td>0.799189</td>\n",
       "    </tr>\n",
       "  </tbody>\n",
       "</table>\n",
       "</div>"
      ],
      "text/plain": [
       "   train_size                                             y_true  \\\n",
       "0         300  [0, 1, 0, 0, 1, 1, 1, 0, 1, 0, 1, 0, 0, 0, 1, ...   \n",
       "1         300  [0, 0, 0, 0, 0, 0, 1, 0, 1, 1, 0, 0, 0, 0, 0, ...   \n",
       "2         300  [0, 0, 0, 1, 1, 1, 0, 0, 1, 0, 0, 1, 0, 0, 0, ...   \n",
       "\n",
       "                                              y_pred  accuracy  f1_macro  \\\n",
       "0  [0, 1, 0, 0, 1, 1, 1, 0, 1, 0, 1, 0, 0, 0, 1, ...  0.900826  0.863943   \n",
       "1  [0, 1, 0, 0, 0, 0, 1, 0, 0, 0, 0, 0, 0, 0, 0, ...  0.892562  0.854311   \n",
       "2  [0, 0, 0, 1, 0, 1, 0, 0, 0, 0, 0, 0, 0, 0, 0, ...  0.925620  0.899139   \n",
       "\n",
       "   f1_micro  f1_weighted     kappa  \n",
       "0  0.900826     0.896143  0.729508  \n",
       "1  0.892562     0.888243  0.709939  \n",
       "2  0.925620     0.922630  0.799189  "
      ]
     },
     "execution_count": 44,
     "metadata": {},
     "output_type": "execute_result"
    }
   ],
   "source": [
    "compiled_res_300 = pd.DataFrame(metrics_dict())\n",
    "compiled_res_300.head(3)"
   ]
  },
  {
   "cell_type": "markdown",
   "metadata": {},
   "source": [
    "### training size = 380"
   ]
  },
  {
   "cell_type": "code",
   "execution_count": 45,
   "metadata": {},
   "outputs": [],
   "source": [
    "train_size = 380\n",
    "iterations = 10\n",
    "y_test_all = []\n",
    "y_pred_all = []\n",
    "acc_scores = []\n",
    "f1macro_scores = []\n",
    "f1micro_scores = []\n",
    "f1weighted_scores = []\n",
    "kappa_scores = []"
   ]
  },
  {
   "cell_type": "code",
   "execution_count": 46,
   "metadata": {
    "scrolled": true
   },
   "outputs": [
    {
     "name": "stdout",
     "output_type": "stream",
     "text": [
      "-------------Iteration 1/10\n",
      "380 41\n",
      "random_state = 42\n",
      "Accuracy: 0.926829268292683\n",
      "F1 macro: 0.9039812646370022\n",
      "F1 micro: 0.926829268292683\n",
      "F1 weighted: 0.9256868681098988\n",
      "Kappa: 0.8081123244929798\n",
      "-------------Iteration 2/10\n",
      "380 41\n",
      "random_state = 43\n"
     ]
    },
    {
     "name": "stderr",
     "output_type": "stream",
     "text": [
      "[Parallel(n_jobs=1)]: Done  49 tasks      | elapsed:    0.0s\n",
      "[Parallel(n_jobs=1)]: Done 199 tasks      | elapsed:    0.1s\n",
      "[Parallel(n_jobs=1)]: Done  49 tasks      | elapsed:    0.0s\n",
      "[Parallel(n_jobs=1)]: Done 199 tasks      | elapsed:    0.0s\n",
      "[Parallel(n_jobs=1)]: Done  49 tasks      | elapsed:    0.0s\n",
      "[Parallel(n_jobs=1)]: Done 199 tasks      | elapsed:    0.1s\n",
      "[Parallel(n_jobs=1)]: Done  49 tasks      | elapsed:    0.0s\n",
      "[Parallel(n_jobs=1)]: Done 199 tasks      | elapsed:    0.0s\n",
      "[Parallel(n_jobs=1)]: Done  49 tasks      | elapsed:    0.0s\n",
      "[Parallel(n_jobs=1)]: Done 199 tasks      | elapsed:    0.1s\n",
      "[Parallel(n_jobs=1)]: Done  49 tasks      | elapsed:    0.0s\n",
      "[Parallel(n_jobs=1)]: Done 199 tasks      | elapsed:    0.0s\n"
     ]
    },
    {
     "name": "stdout",
     "output_type": "stream",
     "text": [
      "Accuracy: 0.9024390243902439\n",
      "F1 macro: 0.8757575757575757\n",
      "F1 micro: 0.9024390243902439\n",
      "F1 weighted: 0.9024390243902439\n",
      "Kappa: 0.7515151515151515\n",
      "-------------Iteration 3/10\n",
      "380 41\n",
      "random_state = 44\n",
      "Accuracy: 1.0\n",
      "F1 macro: 1.0\n",
      "F1 micro: 1.0\n",
      "F1 weighted: 1.0\n",
      "Kappa: 1.0\n",
      "-------------Iteration 4/10\n",
      "380 41\n",
      "random_state = 45\n"
     ]
    },
    {
     "name": "stderr",
     "output_type": "stream",
     "text": [
      "[Parallel(n_jobs=1)]: Done  49 tasks      | elapsed:    0.0s\n",
      "[Parallel(n_jobs=1)]: Done 199 tasks      | elapsed:    0.1s\n",
      "[Parallel(n_jobs=1)]: Done  49 tasks      | elapsed:    0.0s\n",
      "[Parallel(n_jobs=1)]: Done 199 tasks      | elapsed:    0.0s\n",
      "[Parallel(n_jobs=1)]: Done  49 tasks      | elapsed:    0.0s\n"
     ]
    },
    {
     "name": "stdout",
     "output_type": "stream",
     "text": [
      "Accuracy: 0.9024390243902439\n",
      "F1 macro: 0.8757575757575757\n",
      "F1 micro: 0.9024390243902439\n",
      "F1 weighted: 0.9024390243902439\n",
      "Kappa: 0.7515151515151515\n",
      "-------------Iteration 5/10\n",
      "380 41\n",
      "random_state = 46\n",
      "Accuracy: 0.8536585365853658\n",
      "F1 macro: 0.8136363636363637\n",
      "F1 micro: 0.8536585365853658\n",
      "F1 weighted: 0.8536585365853658\n",
      "Kappa: 0.6272727272727272\n",
      "-------------Iteration 6/10\n",
      "380 41\n",
      "random_state = 47\n"
     ]
    },
    {
     "name": "stderr",
     "output_type": "stream",
     "text": [
      "[Parallel(n_jobs=1)]: Done 199 tasks      | elapsed:    0.1s\n",
      "[Parallel(n_jobs=1)]: Done  49 tasks      | elapsed:    0.0s\n",
      "[Parallel(n_jobs=1)]: Done 199 tasks      | elapsed:    0.0s\n",
      "[Parallel(n_jobs=1)]: Done  49 tasks      | elapsed:    0.0s\n",
      "[Parallel(n_jobs=1)]: Done 199 tasks      | elapsed:    0.1s\n",
      "[Parallel(n_jobs=1)]: Done  49 tasks      | elapsed:    0.0s\n",
      "[Parallel(n_jobs=1)]: Done 199 tasks      | elapsed:    0.0s\n"
     ]
    },
    {
     "name": "stdout",
     "output_type": "stream",
     "text": [
      "Accuracy: 0.9024390243902439\n",
      "F1 macro: 0.8677419354838709\n",
      "F1 micro: 0.9024390243902439\n",
      "F1 weighted: 0.899134539732494\n",
      "Kappa: 0.7363344051446945\n",
      "-------------Iteration 7/10\n",
      "380 41\n",
      "random_state = 48\n"
     ]
    },
    {
     "name": "stderr",
     "output_type": "stream",
     "text": [
      "[Parallel(n_jobs=1)]: Done  49 tasks      | elapsed:    0.1s\n",
      "[Parallel(n_jobs=1)]: Done 199 tasks      | elapsed:    0.2s\n",
      "[Parallel(n_jobs=1)]: Done  49 tasks      | elapsed:    0.0s\n",
      "[Parallel(n_jobs=1)]: Done 199 tasks      | elapsed:    0.0s\n",
      "[Parallel(n_jobs=1)]: Done  49 tasks      | elapsed:    0.0s\n"
     ]
    },
    {
     "name": "stdout",
     "output_type": "stream",
     "text": [
      "Accuracy: 0.7804878048780488\n",
      "F1 macro: 0.7119437939110069\n",
      "F1 micro: 0.7804878048780488\n",
      "F1 weighted: 0.7770606043296966\n",
      "Kappa: 0.42433697347893906\n",
      "-------------Iteration 8/10\n",
      "380 41\n",
      "random_state = 49\n",
      "Accuracy: 0.926829268292683\n",
      "F1 macro: 0.9039812646370022\n",
      "F1 micro: 0.926829268292683\n",
      "F1 weighted: 0.9256868681098988\n",
      "Kappa: 0.8081123244929798\n",
      "-------------Iteration 9/10\n",
      "380 41\n",
      "random_state = 50\n"
     ]
    },
    {
     "name": "stderr",
     "output_type": "stream",
     "text": [
      "[Parallel(n_jobs=1)]: Done 199 tasks      | elapsed:    0.1s\n",
      "[Parallel(n_jobs=1)]: Done  49 tasks      | elapsed:    0.0s\n",
      "[Parallel(n_jobs=1)]: Done 199 tasks      | elapsed:    0.0s\n",
      "[Parallel(n_jobs=1)]: Done  49 tasks      | elapsed:    0.0s\n",
      "[Parallel(n_jobs=1)]: Done 199 tasks      | elapsed:    0.1s\n",
      "[Parallel(n_jobs=1)]: Done  49 tasks      | elapsed:    0.0s\n",
      "[Parallel(n_jobs=1)]: Done 199 tasks      | elapsed:    0.0s\n"
     ]
    },
    {
     "name": "stdout",
     "output_type": "stream",
     "text": [
      "Accuracy: 0.9512195121951219\n",
      "F1 macro: 0.9338709677419355\n",
      "F1 micro: 0.9512195121951219\n",
      "F1 weighted: 0.949567269866247\n",
      "Kappa: 0.8681672025723473\n",
      "-------------Iteration 10/10\n",
      "380 41\n",
      "random_state = 51\n",
      "Accuracy: 0.9512195121951219\n",
      "F1 macro: 0.9338709677419355\n",
      "F1 micro: 0.9512195121951219\n",
      "F1 weighted: 0.949567269866247\n",
      "Kappa: 0.8681672025723473\n"
     ]
    },
    {
     "name": "stderr",
     "output_type": "stream",
     "text": [
      "[Parallel(n_jobs=1)]: Done  49 tasks      | elapsed:    0.0s\n",
      "[Parallel(n_jobs=1)]: Done 199 tasks      | elapsed:    0.1s\n",
      "[Parallel(n_jobs=1)]: Done  49 tasks      | elapsed:    0.0s\n",
      "[Parallel(n_jobs=1)]: Done 199 tasks      | elapsed:    0.0s\n"
     ]
    }
   ],
   "source": [
    "for n in range(iterations):\n",
    "    print(f\"-------------Iteration {n + 1}/{iterations}\")\n",
    "    random_state=42+n\n",
    "\n",
    "    X_train, y_train, X_test, y_test = prepare_dataset_classification(\n",
    "        df,\n",
    "        random_state=random_state,\n",
    "        train_size=train_size\n",
    "    )\n",
    "    print(f\"random_state = {random_state}\")\n",
    "\n",
    "    y_test, y_pred, acc, f1_macro, f1_micro, f1_weighted, kappa = train_and_evaluate_classifier(\n",
    "        X_train, \n",
    "        y_train, \n",
    "        X_test, \n",
    "        y_test, \n",
    "        random_state=random_state\n",
    "    )\n",
    "    \n",
    "    y_test_all.append(y_test)\n",
    "    y_pred_all.append(y_pred)    \n",
    "    acc_scores.append(acc)\n",
    "    f1macro_scores.append(f1_macro)\n",
    "    f1micro_scores.append(f1_micro)\n",
    "    f1weighted_scores.append(f1_weighted)\n",
    "    kappa_scores.append(kappa)\n",
    "    print(f\"Accuracy: {acc}\")\n",
    "    print(f\"F1 macro: {f1_macro}\")\n",
    "    print(f\"F1 micro: {f1_micro}\")\n",
    "    print(f\"F1 weighted: {f1_weighted}\")\n",
    "    print(f\"Kappa: {kappa}\")"
   ]
  },
  {
   "cell_type": "code",
   "execution_count": 47,
   "metadata": {},
   "outputs": [
    {
     "name": "stdout",
     "output_type": "stream",
     "text": [
      "FINAL REPORT for training size = 380\n",
      "mean accuracy: 0.9097560975609756 +/- 0.05673026024201466\n",
      "mean F1 macro: 0.8820541709304269 +/- 0.07358358877153867\n",
      "mean F1 micro: 0.9097560975609756 +/- 0.05673026024201466\n",
      "mean F1 weighted: 0.9085240005380335 +/- 0.057254821595626115\n",
      "mean Kappa: 0.7643533463057317 +/- 0.14711580632504762\n"
     ]
    }
   ],
   "source": [
    "print(f\"FINAL REPORT for training size = {train_size}\")\n",
    "\n",
    "print(f\"mean accuracy: {np.mean(acc_scores)} +/- {np.std(acc_scores)}\")\n",
    "print(f\"mean F1 macro: {np.mean(f1macro_scores)} +/- {np.std(f1macro_scores)}\")\n",
    "print(f\"mean F1 micro: {np.mean(f1micro_scores)} +/- {np.std(f1micro_scores)}\")\n",
    "print(f\"mean F1 weighted: {np.mean(f1weighted_scores)} +/- {np.std(f1weighted_scores)}\")\n",
    "print(f\"mean Kappa: {np.mean(kappa_scores)} +/- {np.std(kappa_scores)}\")"
   ]
  },
  {
   "cell_type": "code",
   "execution_count": 48,
   "metadata": {},
   "outputs": [
    {
     "data": {
      "text/html": [
       "<div>\n",
       "<style scoped>\n",
       "    .dataframe tbody tr th:only-of-type {\n",
       "        vertical-align: middle;\n",
       "    }\n",
       "\n",
       "    .dataframe tbody tr th {\n",
       "        vertical-align: top;\n",
       "    }\n",
       "\n",
       "    .dataframe thead th {\n",
       "        text-align: right;\n",
       "    }\n",
       "</style>\n",
       "<table border=\"1\" class=\"dataframe\">\n",
       "  <thead>\n",
       "    <tr style=\"text-align: right;\">\n",
       "      <th></th>\n",
       "      <th>train_size</th>\n",
       "      <th>y_true</th>\n",
       "      <th>y_pred</th>\n",
       "      <th>accuracy</th>\n",
       "      <th>f1_macro</th>\n",
       "      <th>f1_micro</th>\n",
       "      <th>f1_weighted</th>\n",
       "      <th>kappa</th>\n",
       "    </tr>\n",
       "  </thead>\n",
       "  <tbody>\n",
       "    <tr>\n",
       "      <th>0</th>\n",
       "      <td>380</td>\n",
       "      <td>[0, 1, 1, 0, 0, 1, 0, 0, 0, 1, 0, 1, 0, 0, 1, ...</td>\n",
       "      <td>[0, 1, 1, 0, 0, 1, 0, 0, 0, 1, 0, 1, 0, 0, 1, ...</td>\n",
       "      <td>0.926829</td>\n",
       "      <td>0.903981</td>\n",
       "      <td>0.926829</td>\n",
       "      <td>0.925687</td>\n",
       "      <td>0.808112</td>\n",
       "    </tr>\n",
       "    <tr>\n",
       "      <th>1</th>\n",
       "      <td>380</td>\n",
       "      <td>[1, 0, 0, 0, 0, 0, 0, 0, 0, 0, 0, 1, 0, 0, 0, ...</td>\n",
       "      <td>[1, 1, 0, 0, 0, 0, 0, 0, 1, 0, 0, 1, 0, 0, 0, ...</td>\n",
       "      <td>0.902439</td>\n",
       "      <td>0.875758</td>\n",
       "      <td>0.902439</td>\n",
       "      <td>0.902439</td>\n",
       "      <td>0.751515</td>\n",
       "    </tr>\n",
       "    <tr>\n",
       "      <th>2</th>\n",
       "      <td>380</td>\n",
       "      <td>[0, 0, 1, 0, 0, 0, 1, 0, 0, 0, 1, 1, 0, 1, 1, ...</td>\n",
       "      <td>[0, 0, 1, 0, 0, 0, 1, 0, 0, 0, 1, 1, 0, 1, 1, ...</td>\n",
       "      <td>1.000000</td>\n",
       "      <td>1.000000</td>\n",
       "      <td>1.000000</td>\n",
       "      <td>1.000000</td>\n",
       "      <td>1.000000</td>\n",
       "    </tr>\n",
       "  </tbody>\n",
       "</table>\n",
       "</div>"
      ],
      "text/plain": [
       "   train_size                                             y_true  \\\n",
       "0         380  [0, 1, 1, 0, 0, 1, 0, 0, 0, 1, 0, 1, 0, 0, 1, ...   \n",
       "1         380  [1, 0, 0, 0, 0, 0, 0, 0, 0, 0, 0, 1, 0, 0, 0, ...   \n",
       "2         380  [0, 0, 1, 0, 0, 0, 1, 0, 0, 0, 1, 1, 0, 1, 1, ...   \n",
       "\n",
       "                                              y_pred  accuracy  f1_macro  \\\n",
       "0  [0, 1, 1, 0, 0, 1, 0, 0, 0, 1, 0, 1, 0, 0, 1, ...  0.926829  0.903981   \n",
       "1  [1, 1, 0, 0, 0, 0, 0, 0, 1, 0, 0, 1, 0, 0, 0, ...  0.902439  0.875758   \n",
       "2  [0, 0, 1, 0, 0, 0, 1, 0, 0, 0, 1, 1, 0, 1, 1, ...  1.000000  1.000000   \n",
       "\n",
       "   f1_micro  f1_weighted     kappa  \n",
       "0  0.926829     0.925687  0.808112  \n",
       "1  0.902439     0.902439  0.751515  \n",
       "2  1.000000     1.000000  1.000000  "
      ]
     },
     "execution_count": 48,
     "metadata": {},
     "output_type": "execute_result"
    }
   ],
   "source": [
    "compiled_res_380 = pd.DataFrame(metrics_dict())\n",
    "compiled_res_380.head(3)"
   ]
  },
  {
   "cell_type": "code",
   "execution_count": 49,
   "metadata": {},
   "outputs": [
    {
     "name": "stdout",
     "output_type": "stream",
     "text": [
      "50\n"
     ]
    },
    {
     "data": {
      "text/html": [
       "<div>\n",
       "<style scoped>\n",
       "    .dataframe tbody tr th:only-of-type {\n",
       "        vertical-align: middle;\n",
       "    }\n",
       "\n",
       "    .dataframe tbody tr th {\n",
       "        vertical-align: top;\n",
       "    }\n",
       "\n",
       "    .dataframe thead th {\n",
       "        text-align: right;\n",
       "    }\n",
       "</style>\n",
       "<table border=\"1\" class=\"dataframe\">\n",
       "  <thead>\n",
       "    <tr style=\"text-align: right;\">\n",
       "      <th></th>\n",
       "      <th>train_size</th>\n",
       "      <th>y_true</th>\n",
       "      <th>y_pred</th>\n",
       "      <th>accuracy</th>\n",
       "      <th>f1_macro</th>\n",
       "      <th>f1_micro</th>\n",
       "      <th>f1_weighted</th>\n",
       "      <th>kappa</th>\n",
       "    </tr>\n",
       "  </thead>\n",
       "  <tbody>\n",
       "    <tr>\n",
       "      <th>0</th>\n",
       "      <td>50</td>\n",
       "      <td>[0, 1, 1, 1, 0, 0, 1, 1, 0, 0, 0, 0, 0, 1, 0, ...</td>\n",
       "      <td>[0, 1, 1, 1, 0, 0, 1, 0, 0, 0, 0, 0, 0, 1, 0, ...</td>\n",
       "      <td>0.835580</td>\n",
       "      <td>0.773701</td>\n",
       "      <td>0.835580</td>\n",
       "      <td>0.826968</td>\n",
       "      <td>0.550678</td>\n",
       "    </tr>\n",
       "    <tr>\n",
       "      <th>1</th>\n",
       "      <td>50</td>\n",
       "      <td>[0, 0, 0, 0, 0, 0, 0, 0, 0, 0, 0, 0, 0, 0, 0, ...</td>\n",
       "      <td>[0, 1, 0, 0, 0, 0, 0, 0, 0, 0, 0, 0, 0, 0, 0, ...</td>\n",
       "      <td>0.824798</td>\n",
       "      <td>0.737438</td>\n",
       "      <td>0.824798</td>\n",
       "      <td>0.805611</td>\n",
       "      <td>0.487209</td>\n",
       "    </tr>\n",
       "    <tr>\n",
       "      <th>2</th>\n",
       "      <td>50</td>\n",
       "      <td>[0, 0, 1, 0, 1, 0, 0, 0, 0, 0, 0, 0, 0, 0, 1, ...</td>\n",
       "      <td>[1, 0, 0, 0, 1, 0, 0, 0, 0, 0, 0, 0, 0, 0, 0, ...</td>\n",
       "      <td>0.835580</td>\n",
       "      <td>0.777125</td>\n",
       "      <td>0.835580</td>\n",
       "      <td>0.828503</td>\n",
       "      <td>0.556559</td>\n",
       "    </tr>\n",
       "    <tr>\n",
       "      <th>3</th>\n",
       "      <td>50</td>\n",
       "      <td>[0, 0, 0, 1, 0, 0, 0, 0, 0, 0, 0, 1, 0, 0, 0, ...</td>\n",
       "      <td>[0, 0, 0, 1, 0, 0, 0, 0, 0, 0, 1, 1, 0, 0, 0, ...</td>\n",
       "      <td>0.824798</td>\n",
       "      <td>0.758862</td>\n",
       "      <td>0.824798</td>\n",
       "      <td>0.815621</td>\n",
       "      <td>0.521214</td>\n",
       "    </tr>\n",
       "    <tr>\n",
       "      <th>4</th>\n",
       "      <td>50</td>\n",
       "      <td>[1, 1, 0, 0, 1, 1, 0, 0, 0, 0, 0, 0, 0, 0, 0, ...</td>\n",
       "      <td>[1, 1, 0, 0, 0, 1, 0, 0, 0, 0, 0, 0, 0, 1, 0, ...</td>\n",
       "      <td>0.808625</td>\n",
       "      <td>0.727986</td>\n",
       "      <td>0.808625</td>\n",
       "      <td>0.794653</td>\n",
       "      <td>0.462768</td>\n",
       "    </tr>\n",
       "  </tbody>\n",
       "</table>\n",
       "</div>"
      ],
      "text/plain": [
       "   train_size                                             y_true  \\\n",
       "0          50  [0, 1, 1, 1, 0, 0, 1, 1, 0, 0, 0, 0, 0, 1, 0, ...   \n",
       "1          50  [0, 0, 0, 0, 0, 0, 0, 0, 0, 0, 0, 0, 0, 0, 0, ...   \n",
       "2          50  [0, 0, 1, 0, 1, 0, 0, 0, 0, 0, 0, 0, 0, 0, 1, ...   \n",
       "3          50  [0, 0, 0, 1, 0, 0, 0, 0, 0, 0, 0, 1, 0, 0, 0, ...   \n",
       "4          50  [1, 1, 0, 0, 1, 1, 0, 0, 0, 0, 0, 0, 0, 0, 0, ...   \n",
       "\n",
       "                                              y_pred  accuracy  f1_macro  \\\n",
       "0  [0, 1, 1, 1, 0, 0, 1, 0, 0, 0, 0, 0, 0, 1, 0, ...  0.835580  0.773701   \n",
       "1  [0, 1, 0, 0, 0, 0, 0, 0, 0, 0, 0, 0, 0, 0, 0, ...  0.824798  0.737438   \n",
       "2  [1, 0, 0, 0, 1, 0, 0, 0, 0, 0, 0, 0, 0, 0, 0, ...  0.835580  0.777125   \n",
       "3  [0, 0, 0, 1, 0, 0, 0, 0, 0, 0, 1, 1, 0, 0, 0, ...  0.824798  0.758862   \n",
       "4  [1, 1, 0, 0, 0, 1, 0, 0, 0, 0, 0, 0, 0, 1, 0, ...  0.808625  0.727986   \n",
       "\n",
       "   f1_micro  f1_weighted     kappa  \n",
       "0  0.835580     0.826968  0.550678  \n",
       "1  0.824798     0.805611  0.487209  \n",
       "2  0.835580     0.828503  0.556559  \n",
       "3  0.824798     0.815621  0.521214  \n",
       "4  0.808625     0.794653  0.462768  "
      ]
     },
     "execution_count": 49,
     "metadata": {},
     "output_type": "execute_result"
    }
   ],
   "source": [
    "compiled_res = pd.concat([\n",
    "    compiled_res_50,\n",
    "    compiled_res_100, \n",
    "    compiled_res_200,\n",
    "    compiled_res_300,\n",
    "    compiled_res_380,\n",
    "], ignore_index=True)\n",
    "print(len(compiled_res))\n",
    "compiled_res.head()"
   ]
  },
  {
   "cell_type": "code",
   "execution_count": 50,
   "metadata": {},
   "outputs": [],
   "source": [
    "compiled_res[\"y_true\"] = compiled_res[\"y_true\"].apply(lambda arr: list(arr))\n",
    "compiled_res[\"y_pred\"] = compiled_res[\"y_pred\"].apply(lambda arr: list(arr))"
   ]
  },
  {
   "cell_type": "code",
   "execution_count": 51,
   "metadata": {},
   "outputs": [],
   "source": [
    "compiled_res.to_csv(\"RF_results_CO2ads_2bins_7228.csv\", sep=\",\", index=False)"
   ]
  },
  {
   "cell_type": "code",
   "execution_count": 52,
   "metadata": {},
   "outputs": [
    {
     "name": "stdout",
     "output_type": "stream",
     "text": [
      "<class 'pandas.core.frame.DataFrame'>\n",
      "RangeIndex: 50 entries, 0 to 49\n",
      "Data columns (total 8 columns):\n",
      " #   Column       Non-Null Count  Dtype  \n",
      "---  ------       --------------  -----  \n",
      " 0   train_size   50 non-null     int64  \n",
      " 1   y_true       50 non-null     object \n",
      " 2   y_pred       50 non-null     object \n",
      " 3   accuracy     50 non-null     float64\n",
      " 4   f1_macro     50 non-null     float64\n",
      " 5   f1_micro     50 non-null     float64\n",
      " 6   f1_weighted  50 non-null     float64\n",
      " 7   kappa        50 non-null     float64\n",
      "dtypes: float64(5), int64(1), object(2)\n",
      "memory usage: 3.2+ KB\n"
     ]
    }
   ],
   "source": [
    "df = pd.read_csv(\"RF_results_CO2ads_2bins_7228.csv\", sep=',')\n",
    "df.info()"
   ]
  },
  {
   "cell_type": "code",
   "execution_count": 53,
   "metadata": {},
   "outputs": [
    {
     "data": {
      "text/html": [
       "<div>\n",
       "<style scoped>\n",
       "    .dataframe tbody tr th:only-of-type {\n",
       "        vertical-align: middle;\n",
       "    }\n",
       "\n",
       "    .dataframe tbody tr th {\n",
       "        vertical-align: top;\n",
       "    }\n",
       "\n",
       "    .dataframe thead th {\n",
       "        text-align: right;\n",
       "    }\n",
       "</style>\n",
       "<table border=\"1\" class=\"dataframe\">\n",
       "  <thead>\n",
       "    <tr style=\"text-align: right;\">\n",
       "      <th></th>\n",
       "      <th>train_size</th>\n",
       "      <th>y_true</th>\n",
       "      <th>y_pred</th>\n",
       "      <th>accuracy</th>\n",
       "      <th>f1_macro</th>\n",
       "      <th>f1_micro</th>\n",
       "      <th>f1_weighted</th>\n",
       "      <th>kappa</th>\n",
       "    </tr>\n",
       "  </thead>\n",
       "  <tbody>\n",
       "    <tr>\n",
       "      <th>0</th>\n",
       "      <td>50</td>\n",
       "      <td>[0, 1, 1, 1, 0, 0, 1, 1, 0, 0, 0, 0, 0, 1, 0, ...</td>\n",
       "      <td>[0, 1, 1, 1, 0, 0, 1, 0, 0, 0, 0, 0, 0, 1, 0, ...</td>\n",
       "      <td>0.835580</td>\n",
       "      <td>0.773701</td>\n",
       "      <td>0.835580</td>\n",
       "      <td>0.826968</td>\n",
       "      <td>0.550678</td>\n",
       "    </tr>\n",
       "    <tr>\n",
       "      <th>1</th>\n",
       "      <td>50</td>\n",
       "      <td>[0, 0, 0, 0, 0, 0, 0, 0, 0, 0, 0, 0, 0, 0, 0, ...</td>\n",
       "      <td>[0, 1, 0, 0, 0, 0, 0, 0, 0, 0, 0, 0, 0, 0, 0, ...</td>\n",
       "      <td>0.824798</td>\n",
       "      <td>0.737438</td>\n",
       "      <td>0.824798</td>\n",
       "      <td>0.805611</td>\n",
       "      <td>0.487209</td>\n",
       "    </tr>\n",
       "    <tr>\n",
       "      <th>2</th>\n",
       "      <td>50</td>\n",
       "      <td>[0, 0, 1, 0, 1, 0, 0, 0, 0, 0, 0, 0, 0, 0, 1, ...</td>\n",
       "      <td>[1, 0, 0, 0, 1, 0, 0, 0, 0, 0, 0, 0, 0, 0, 0, ...</td>\n",
       "      <td>0.835580</td>\n",
       "      <td>0.777125</td>\n",
       "      <td>0.835580</td>\n",
       "      <td>0.828503</td>\n",
       "      <td>0.556559</td>\n",
       "    </tr>\n",
       "  </tbody>\n",
       "</table>\n",
       "</div>"
      ],
      "text/plain": [
       "   train_size                                             y_true  \\\n",
       "0          50  [0, 1, 1, 1, 0, 0, 1, 1, 0, 0, 0, 0, 0, 1, 0, ...   \n",
       "1          50  [0, 0, 0, 0, 0, 0, 0, 0, 0, 0, 0, 0, 0, 0, 0, ...   \n",
       "2          50  [0, 0, 1, 0, 1, 0, 0, 0, 0, 0, 0, 0, 0, 0, 1, ...   \n",
       "\n",
       "                                              y_pred  accuracy  f1_macro  \\\n",
       "0  [0, 1, 1, 1, 0, 0, 1, 0, 0, 0, 0, 0, 0, 1, 0, ...  0.835580  0.773701   \n",
       "1  [0, 1, 0, 0, 0, 0, 0, 0, 0, 0, 0, 0, 0, 0, 0, ...  0.824798  0.737438   \n",
       "2  [1, 0, 0, 0, 1, 0, 0, 0, 0, 0, 0, 0, 0, 0, 0, ...  0.835580  0.777125   \n",
       "\n",
       "   f1_micro  f1_weighted     kappa  \n",
       "0  0.835580     0.826968  0.550678  \n",
       "1  0.824798     0.805611  0.487209  \n",
       "2  0.835580     0.828503  0.556559  "
      ]
     },
     "execution_count": 53,
     "metadata": {},
     "output_type": "execute_result"
    }
   ],
   "source": [
    "df.head(3)"
   ]
  },
  {
   "cell_type": "code",
   "execution_count": 54,
   "metadata": {},
   "outputs": [
    {
     "data": {
      "text/html": [
       "<div>\n",
       "<style scoped>\n",
       "    .dataframe tbody tr th:only-of-type {\n",
       "        vertical-align: middle;\n",
       "    }\n",
       "\n",
       "    .dataframe tbody tr th {\n",
       "        vertical-align: top;\n",
       "    }\n",
       "\n",
       "    .dataframe thead tr th {\n",
       "        text-align: left;\n",
       "    }\n",
       "\n",
       "    .dataframe thead tr:last-of-type th {\n",
       "        text-align: right;\n",
       "    }\n",
       "</style>\n",
       "<table border=\"1\" class=\"dataframe\">\n",
       "  <thead>\n",
       "    <tr>\n",
       "      <th></th>\n",
       "      <th colspan=\"2\" halign=\"left\">accuracy</th>\n",
       "      <th colspan=\"2\" halign=\"left\">f1_macro</th>\n",
       "      <th colspan=\"2\" halign=\"left\">f1_micro</th>\n",
       "      <th colspan=\"2\" halign=\"left\">f1_weighted</th>\n",
       "      <th colspan=\"2\" halign=\"left\">kappa</th>\n",
       "    </tr>\n",
       "    <tr>\n",
       "      <th></th>\n",
       "      <th>mean</th>\n",
       "      <th>sem</th>\n",
       "      <th>mean</th>\n",
       "      <th>sem</th>\n",
       "      <th>mean</th>\n",
       "      <th>sem</th>\n",
       "      <th>mean</th>\n",
       "      <th>sem</th>\n",
       "      <th>mean</th>\n",
       "      <th>sem</th>\n",
       "    </tr>\n",
       "    <tr>\n",
       "      <th>train_size</th>\n",
       "      <th></th>\n",
       "      <th></th>\n",
       "      <th></th>\n",
       "      <th></th>\n",
       "      <th></th>\n",
       "      <th></th>\n",
       "      <th></th>\n",
       "      <th></th>\n",
       "      <th></th>\n",
       "      <th></th>\n",
       "    </tr>\n",
       "  </thead>\n",
       "  <tbody>\n",
       "    <tr>\n",
       "      <th>50</th>\n",
       "      <td>0.822911</td>\n",
       "      <td>0.005377</td>\n",
       "      <td>0.754652</td>\n",
       "      <td>0.009755</td>\n",
       "      <td>0.822911</td>\n",
       "      <td>0.005377</td>\n",
       "      <td>0.812784</td>\n",
       "      <td>0.006622</td>\n",
       "      <td>0.514162</td>\n",
       "      <td>0.018252</td>\n",
       "    </tr>\n",
       "    <tr>\n",
       "      <th>100</th>\n",
       "      <td>0.854829</td>\n",
       "      <td>0.005499</td>\n",
       "      <td>0.804762</td>\n",
       "      <td>0.009060</td>\n",
       "      <td>0.854829</td>\n",
       "      <td>0.005499</td>\n",
       "      <td>0.849369</td>\n",
       "      <td>0.006408</td>\n",
       "      <td>0.611400</td>\n",
       "      <td>0.017735</td>\n",
       "    </tr>\n",
       "    <tr>\n",
       "      <th>200</th>\n",
       "      <td>0.876923</td>\n",
       "      <td>0.004901</td>\n",
       "      <td>0.840874</td>\n",
       "      <td>0.006104</td>\n",
       "      <td>0.876923</td>\n",
       "      <td>0.004901</td>\n",
       "      <td>0.874750</td>\n",
       "      <td>0.004841</td>\n",
       "      <td>0.682368</td>\n",
       "      <td>0.012160</td>\n",
       "    </tr>\n",
       "    <tr>\n",
       "      <th>300</th>\n",
       "      <td>0.899174</td>\n",
       "      <td>0.005342</td>\n",
       "      <td>0.867740</td>\n",
       "      <td>0.006627</td>\n",
       "      <td>0.899174</td>\n",
       "      <td>0.005342</td>\n",
       "      <td>0.897007</td>\n",
       "      <td>0.005270</td>\n",
       "      <td>0.736088</td>\n",
       "      <td>0.013240</td>\n",
       "    </tr>\n",
       "    <tr>\n",
       "      <th>380</th>\n",
       "      <td>0.909756</td>\n",
       "      <td>0.018910</td>\n",
       "      <td>0.882054</td>\n",
       "      <td>0.024528</td>\n",
       "      <td>0.909756</td>\n",
       "      <td>0.018910</td>\n",
       "      <td>0.908524</td>\n",
       "      <td>0.019085</td>\n",
       "      <td>0.764353</td>\n",
       "      <td>0.049039</td>\n",
       "    </tr>\n",
       "  </tbody>\n",
       "</table>\n",
       "</div>"
      ],
      "text/plain": [
       "            accuracy            f1_macro            f1_micro            \\\n",
       "                mean       sem      mean       sem      mean       sem   \n",
       "train_size                                                               \n",
       "50          0.822911  0.005377  0.754652  0.009755  0.822911  0.005377   \n",
       "100         0.854829  0.005499  0.804762  0.009060  0.854829  0.005499   \n",
       "200         0.876923  0.004901  0.840874  0.006104  0.876923  0.004901   \n",
       "300         0.899174  0.005342  0.867740  0.006627  0.899174  0.005342   \n",
       "380         0.909756  0.018910  0.882054  0.024528  0.909756  0.018910   \n",
       "\n",
       "           f1_weighted               kappa            \n",
       "                  mean       sem      mean       sem  \n",
       "train_size                                            \n",
       "50            0.812784  0.006622  0.514162  0.018252  \n",
       "100           0.849369  0.006408  0.611400  0.017735  \n",
       "200           0.874750  0.004841  0.682368  0.012160  \n",
       "300           0.897007  0.005270  0.736088  0.013240  \n",
       "380           0.908524  0.019085  0.764353  0.049039  "
      ]
     },
     "execution_count": 54,
     "metadata": {},
     "output_type": "execute_result"
    }
   ],
   "source": [
    "grouped_res = df.select_dtypes(include = [\"int\", \"float\"]).groupby(['train_size']).agg(['mean', 'sem'])\n",
    "grouped_res"
   ]
  },
  {
   "cell_type": "code",
   "execution_count": 55,
   "metadata": {},
   "outputs": [],
   "source": [
    "conf_mats = []\n",
    "for i in np.arange(len(df)):\n",
    "    confusion_matrix = {\n",
    "        'all_y_true': literal_eval(df[\"y_true\"][i]),\n",
    "        'all_y_pred': literal_eval(df[\"y_pred\"][i])\n",
    "    }\n",
    "    conf_mats.append(confusion_matrix)"
   ]
  },
  {
   "cell_type": "code",
   "execution_count": 56,
   "metadata": {},
   "outputs": [
    {
     "name": "stdout",
     "output_type": "stream",
     "text": [
      "[[0.95333333 0.04666667]\n",
      " [0.20909091 0.79090909]]\n",
      "accuracy: 0.9097560975609756\n"
     ]
    },
    {
     "data": {
      "image/png": "[encoded data removed]",
      "text/plain": [
       "<Figure size 330x250 with 2 Axes>"
      ]
     },
     "metadata": {},
     "output_type": "display_data"
    }
   ],
   "source": [
    "index_maxsize = compiled_res[compiled_res[\"train_size\"]==max(compiled_res[\"train_size\"])].index\n",
    "conf_mats_max = [conf_mats[i] for i in index_maxsize]\n",
    "\n",
    "actual_all, predicted_all = [], []\n",
    "for index, _ in enumerate(conf_mats_max):\n",
    "    preds = conf_mats_max[index]\n",
    "    actual = preds[\"all_y_true\"]\n",
    "    predicted = preds[\"all_y_pred\"]\n",
    "    \n",
    "    for true, pred in zip(actual, predicted):\n",
    "        actual_all.append(true)\n",
    "        predicted_all.append(pred)\n",
    "\n",
    "confusion_matrix = metrics.confusion_matrix(actual_all, predicted_all)\n",
    "confusion_matrix_norm = confusion_matrix.astype(\"float\") / confusion_matrix.sum(axis=1)[:, np.newaxis]\n",
    "print(confusion_matrix_norm)\n",
    "\n",
    "cm = pycm.ConfusionMatrix(list(actual_all), list(predicted_all))\n",
    "acc = cm.Overall_ACC\n",
    "\n",
    "print(f'accuracy: {acc}')\n",
    "\n",
    "cm_display = metrics.ConfusionMatrixDisplay(\n",
    "    confusion_matrix = confusion_matrix_norm, display_labels = [0, 1])\n",
    "cm_display.plot(cmap=plt.cm.Blues, include_values=True, values_format=\".2f\")\n",
    "#plt.savefig('classif_CO2ads_confusionMatrix_72_28_size380_RF.pdf', bbox_inches='tight')"
   ]
  },
  {
   "cell_type": "code",
   "execution_count": null,
   "metadata": {},
   "outputs": [],
   "source": []
  },
  {
   "cell_type": "code",
   "execution_count": null,
   "metadata": {},
   "outputs": [],
   "source": []
  },
  {
   "cell_type": "code",
   "execution_count": null,
   "metadata": {},
   "outputs": [],
   "source": []
  },
  {
   "cell_type": "code",
   "execution_count": null,
   "metadata": {},
   "outputs": [],
   "source": []
  }
 ],
 "metadata": {
  "kernelspec": {
   "display_name": "Python [conda env:debyecalculator_env]",
   "language": "python",
   "name": "conda-env-debyecalculator_env-py"
  },
  "language_info": {
   "codemirror_mode": {
    "name": "ipython",
    "version": 3
   },
   "file_extension": ".py",
   "mimetype": "text/x-python",
   "name": "python",
   "nbconvert_exporter": "python",
   "pygments_lexer": "ipython3",
   "version": "3.9.19"
  }
 },
 "nbformat": 4,
 "nbformat_minor": 2
}
