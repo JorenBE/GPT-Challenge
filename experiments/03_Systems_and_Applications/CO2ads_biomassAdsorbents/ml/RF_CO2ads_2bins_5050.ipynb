{
 "cells": [
  {
   "cell_type": "markdown",
   "metadata": {},
   "source": [
    "## Random Forest - CO2ads - 2bins - 50/50"
   ]
  },
  {
   "cell_type": "code",
   "execution_count": 1,
   "metadata": {},
   "outputs": [],
   "source": [
    "import pandas as pd\n",
    "import numpy as np\n",
    "from sklearn.model_selection import train_test_split\n",
    "from sklearn.preprocessing import LabelEncoder, OneHotEncoder\n",
    "from sklearn.metrics import accuracy_score, f1_score, cohen_kappa_score, r2_score, mean_absolute_error, root_mean_squared_error\n",
    "from sklearn.ensemble import RandomForestClassifier\n",
    "import matplotlib.pyplot as plt\n",
    "from sklearn import metrics\n",
    "import pycm\n",
    "from ast import literal_eval\n",
    "import sys\n",
    "sys.path.append(\"../plotutils/\")\n",
    "from plotutils import *\n",
    "plt.style.use(\"../plotutils/your.mplstyle\")"
   ]
  },
  {
   "cell_type": "code",
   "execution_count": 2,
   "metadata": {
    "scrolled": true
   },
   "outputs": [
    {
     "name": "stdout",
     "output_type": "stream",
     "text": [
      "<class 'pandas.core.frame.DataFrame'>\n",
      "RangeIndex: 421 entries, 0 to 420\n",
      "Data columns (total 16 columns):\n",
      " #   Column                        Non-Null Count  Dtype  \n",
      "---  ------                        --------------  -----  \n",
      " 0   Precursor                     421 non-null    object \n",
      " 1   Activator                     421 non-null    object \n",
      " 2   Activator_carbon_ratio        421 non-null    object \n",
      " 3   Activation T (K)              421 non-null    int64  \n",
      " 4   T adsorption (K)              421 non-null    int64  \n",
      " 5   P adsorption (bar)            421 non-null    float64\n",
      " 6   CO2 ads (mmol/g)              421 non-null    float64\n",
      " 7   CO2ads_2bins_5050             421 non-null    int64  \n",
      " 8   CO2ads_4bins                  421 non-null    int64  \n",
      " 9   CO2ads_10bins                 421 non-null    int64  \n",
      " 10  CO2ads_7228                   421 non-null    int64  \n",
      " 11  adsorption_all_inputs         421 non-null    object \n",
      " 12  adsorption_only_BETpore       421 non-null    object \n",
      " 13  adsorption_wo_BETpore         421 non-null    object \n",
      " 14  adsorption_all_inputs_woNAME  421 non-null    object \n",
      " 15  adsorption_wo_BETporeNAME     421 non-null    object \n",
      "dtypes: float64(2), int64(6), object(8)\n",
      "memory usage: 52.8+ KB\n"
     ]
    }
   ],
   "source": [
    "df = pd.read_csv(f\"../CO2adsorption_dataset.csv\", sep=';')\n",
    "df.info()"
   ]
  },
  {
   "cell_type": "code",
   "execution_count": 3,
   "metadata": {},
   "outputs": [
    {
     "data": {
      "text/plain": [
       "array(['4', '1.5', '0.5', '1', '2', '3', '5', 'none', '6', '2.5', '1.25',\n",
       "       '8'], dtype=object)"
      ]
     },
     "execution_count": 3,
     "metadata": {},
     "output_type": "execute_result"
    }
   ],
   "source": [
    "df[\"Activator_carbon_ratio\"].unique()"
   ]
  },
  {
   "cell_type": "code",
   "execution_count": 4,
   "metadata": {},
   "outputs": [],
   "source": [
    "df[\"Activator_carbon_ratio\"] = df['Activator_carbon_ratio'].replace('none', 0)"
   ]
  },
  {
   "cell_type": "code",
   "execution_count": 5,
   "metadata": {},
   "outputs": [],
   "source": [
    "df[\"Activator_carbon_ratio\"] = pd.to_numeric(df[\"Activator_carbon_ratio\"])"
   ]
  },
  {
   "cell_type": "code",
   "execution_count": 6,
   "metadata": {},
   "outputs": [
    {
     "data": {
      "text/plain": [
       "array([4.  , 1.5 , 0.5 , 1.  , 2.  , 3.  , 5.  , 0.  , 6.  , 2.5 , 1.25,\n",
       "       8.  ])"
      ]
     },
     "execution_count": 6,
     "metadata": {},
     "output_type": "execute_result"
    }
   ],
   "source": [
    "df[\"Activator_carbon_ratio\"].unique()"
   ]
  },
  {
   "cell_type": "code",
   "execution_count": 7,
   "metadata": {
    "scrolled": true
   },
   "outputs": [
    {
     "name": "stdout",
     "output_type": "stream",
     "text": [
      "<class 'pandas.core.frame.DataFrame'>\n",
      "RangeIndex: 421 entries, 0 to 420\n",
      "Data columns (total 30 columns):\n",
      " #   Column                      Non-Null Count  Dtype  \n",
      "---  ------                      --------------  -----  \n",
      " 0   Precursor                   421 non-null    object \n",
      " 1   Activator-Ratio             421 non-null    object \n",
      " 2   Activator                   421 non-null    object \n",
      " 3   Activator_carbon_ratio      421 non-null    float64\n",
      " 4   Activation T (K)            421 non-null    int64  \n",
      " 5   BET (m2/g)                  421 non-null    float64\n",
      " 6   T adsorption (K)            421 non-null    int64  \n",
      " 7   P adsorption (bar)          421 non-null    float64\n",
      " 8   CO2 ads (mmol/g)            421 non-null    float64\n",
      " 9   Pore volume (cm3/g)         421 non-null    float64\n",
      " 10  synthesis                   421 non-null    object \n",
      " 11  adsorption                  421 non-null    object \n",
      " 12  adsorption_short            421 non-null    object \n",
      " 13  adsorption_woBET            421 non-null    object \n",
      " 14  adsorption_woBET_pore       421 non-null    object \n",
      " 15  adsorption_woNAME           421 non-null    object \n",
      " 16  adsorption_woBET_pore_NAME  421 non-null    object \n",
      " 17  synthesis_woNAME            421 non-null    object \n",
      " 18  2bins_ads                   421 non-null    int64  \n",
      " 19  3bins_ads                   421 non-null    int64  \n",
      " 20  4bins_ads                   421 non-null    int64  \n",
      " 21  5bins_ads                   421 non-null    int64  \n",
      " 22  10bins_ads                  421 non-null    int64  \n",
      " 23  2bins_BET                   421 non-null    int64  \n",
      " 24  3bins_BET                   421 non-null    int64  \n",
      " 25  4bins_BET                   421 non-null    int64  \n",
      " 26  5bins_BET                   421 non-null    int64  \n",
      " 27  10bins_BET                  421 non-null    int64  \n",
      " 28  bet_1800                    421 non-null    int64  \n",
      " 29  CO2ads_4                    421 non-null    int64  \n",
      "dtypes: float64(5), int64(14), object(11)\n",
      "memory usage: 98.8+ KB\n"
     ]
    }
   ],
   "source": [
    "df.info()"
   ]
  },
  {
   "cell_type": "code",
   "execution_count": 8,
   "metadata": {},
   "outputs": [
    {
     "data": {
      "text/plain": [
       "33"
      ]
     },
     "execution_count": 8,
     "metadata": {},
     "output_type": "execute_result"
    }
   ],
   "source": [
    "len(df[\"Precursor\"].unique())"
   ]
  },
  {
   "cell_type": "code",
   "execution_count": 9,
   "metadata": {},
   "outputs": [
    {
     "data": {
      "text/plain": [
       "10"
      ]
     },
     "execution_count": 9,
     "metadata": {},
     "output_type": "execute_result"
    }
   ],
   "source": [
    "len(df[\"Activator\"].unique())"
   ]
  },
  {
   "cell_type": "code",
   "execution_count": 10,
   "metadata": {},
   "outputs": [],
   "source": [
    "encoder_precursor = OneHotEncoder(sparse_output=False).set_output(transform=\"pandas\")\n",
    "one_hot_precursor = encoder_precursor.fit_transform(df[[\"Precursor\"]])\n",
    "df = pd.concat([df, one_hot_precursor], axis=1)"
   ]
  },
  {
   "cell_type": "code",
   "execution_count": 11,
   "metadata": {},
   "outputs": [],
   "source": [
    "encoder_activator = OneHotEncoder(sparse_output=False).set_output(transform=\"pandas\")\n",
    "one_hot_activator = encoder_activator.fit_transform(df[[\"Activator\"]])\n",
    "df = pd.concat([df, one_hot_activator], axis=1)"
   ]
  },
  {
   "cell_type": "code",
   "execution_count": 13,
   "metadata": {
    "scrolled": true
   },
   "outputs": [
    {
     "data": {
      "text/plain": [
       "['Precursor_Acai stone',\n",
       " 'Precursor_Bambo',\n",
       " 'Precursor_Black locust',\n",
       " 'Precursor_Catkin',\n",
       " 'Precursor_Celtuce leaves',\n",
       " 'Precursor_Chitosan',\n",
       " 'Precursor_Chrysanthemum tea',\n",
       " 'Precursor_Coconut shell',\n",
       " 'Precursor_Coffee grounds',\n",
       " 'Precursor_Cork',\n",
       " 'Precursor_Crab shell',\n",
       " 'Precursor_Empty fruit bunch',\n",
       " 'Precursor_Garlic peel',\n",
       " 'Precursor_Lignin Waste',\n",
       " 'Precursor_Lotus leaf',\n",
       " 'Precursor_Olive stone',\n",
       " 'Precursor_Paulownia sawdust',\n",
       " 'Precursor_Peanut shell',\n",
       " 'Precursor_Pineapple',\n",
       " 'Precursor_Pollen',\n",
       " 'Precursor_Popcorn',\n",
       " 'Precursor_Poplar Wood',\n",
       " 'Precursor_Rice husk',\n",
       " 'Precursor_Starch and cellulose + sawdust',\n",
       " 'Precursor_Sugarcane bagasse',\n",
       " 'Precursor_Sunflower seed shell',\n",
       " 'Precursor_Tar+CaO',\n",
       " 'Precursor_Tea seed shell',\n",
       " 'Precursor_Urea + tobacco',\n",
       " 'Precursor_Vine shoots',\n",
       " 'Precursor_Walnut shell',\n",
       " 'Precursor_Waste wool',\n",
       " 'Precursor_Wheat',\n",
       " 'Activator_CO2',\n",
       " 'Activator_CO2+N2',\n",
       " 'Activator_K2C2O4',\n",
       " 'Activator_K2CO3',\n",
       " 'Activator_KCl-ZnCl2',\n",
       " 'Activator_KOH',\n",
       " 'Activator_KOH+Ammonia',\n",
       " 'Activator_KOH+N2',\n",
       " 'Activator_NaNH2',\n",
       " 'Activator_ZnCl2']"
      ]
     },
     "execution_count": 13,
     "metadata": {},
     "output_type": "execute_result"
    }
   ],
   "source": [
    "df.columns[30:73].to_list()"
   ]
  },
  {
   "cell_type": "code",
   "execution_count": 14,
   "metadata": {},
   "outputs": [
    {
     "data": {
      "text/plain": [
       "['Activator_carbon_ratio',\n",
       " 'Activation T (K)',\n",
       " 'BET (m2/g)',\n",
       " 'T adsorption (K)',\n",
       " 'P adsorption (bar)',\n",
       " 'Pore volume (cm3/g)']"
      ]
     },
     "execution_count": 14,
     "metadata": {},
     "output_type": "execute_result"
    }
   ],
   "source": [
    "list(df.iloc[:,[3, 4, 5, 6, 7, 9]].columns)"
   ]
  },
  {
   "cell_type": "code",
   "execution_count": 15,
   "metadata": {},
   "outputs": [],
   "source": [
    "representation = list(df.iloc[:,[3, 4, 5, 6, 7, 9]].columns)\n",
    "representation.extend(df.columns[30:73].to_list())"
   ]
  },
  {
   "cell_type": "code",
   "execution_count": 26,
   "metadata": {},
   "outputs": [],
   "source": [
    "def prepare_dataset_classification(\n",
    "    df,\n",
    "    target = \"CO2ads_2bins_5050\",\n",
    "    representation=representation,\n",
    "    random_state=42,\n",
    "    train_size=300\n",
    "):\n",
    "    df_train, df_test = train_test_split(\n",
    "        df,\n",
    "        train_size=train_size,\n",
    "        random_state=random_state,\n",
    "        stratify=df[target].astype(int).values,\n",
    "    )\n",
    "    print(len(df_train), len(df_test))\n",
    "    \n",
    "    X_train, y_train = df_train[representation], df_train[target]\n",
    "    X_test, y_test = df_test[representation], df_test[target]\n",
    "    \n",
    "    return X_train, y_train, X_test, y_test"
   ]
  },
  {
   "cell_type": "code",
   "execution_count": 27,
   "metadata": {},
   "outputs": [],
   "source": [
    "def train_and_evaluate_classifier(X_train, y_train, X_test, y_test, random_state=42):\n",
    "    clf = RandomForestClassifier(\n",
    "        n_estimators=200, \n",
    "        random_state=random_state,\n",
    "        verbose=True\n",
    "    )\n",
    "    \n",
    "    clf.fit(X_train, y_train)\n",
    "    \n",
    "    y_pred = clf.predict(X_test)\n",
    "    y_test = np.array(y_test)\n",
    "    \n",
    "    acc = accuracy_score(y_test, y_pred)\n",
    "    f1_macro = f1_score(y_test, y_pred, average=\"macro\")\n",
    "    f1_micro = f1_score(y_test, y_pred, average=\"micro\")\n",
    "    f1_weighted = f1_score(y_test, y_pred, average='weighted')\n",
    "    kappa = cohen_kappa_score(y_test, y_pred)\n",
    "    \n",
    "    return y_test, y_pred, acc, f1_macro, f1_micro, f1_weighted, kappa"
   ]
  },
  {
   "cell_type": "code",
   "execution_count": 28,
   "metadata": {},
   "outputs": [],
   "source": [
    "def metrics_dict():\n",
    "    metrics_dict = {\n",
    "        \"train_size\": train_size,\n",
    "        \"y_true\": y_test_all,\n",
    "        \"y_pred\": y_pred_all,\n",
    "        \"accuracy\": acc_scores,\n",
    "        \"f1_macro\": f1macro_scores,\n",
    "        \"f1_micro\": f1micro_scores,\n",
    "        \"f1_weighted\": f1weighted_scores,\n",
    "        \"kappa\": kappa_scores\n",
    "    }\n",
    "    return metrics_dict"
   ]
  },
  {
   "cell_type": "markdown",
   "metadata": {},
   "source": [
    "### training size = 50"
   ]
  },
  {
   "cell_type": "code",
   "execution_count": 29,
   "metadata": {},
   "outputs": [],
   "source": [
    "train_size = 50\n",
    "iterations = 10\n",
    "y_test_all = []\n",
    "y_pred_all = []\n",
    "acc_scores = []\n",
    "f1macro_scores = []\n",
    "f1micro_scores = []\n",
    "f1weighted_scores = []\n",
    "kappa_scores = []"
   ]
  },
  {
   "cell_type": "code",
   "execution_count": 30,
   "metadata": {},
   "outputs": [
    {
     "name": "stdout",
     "output_type": "stream",
     "text": [
      "-------------Iteration 1/10\n",
      "50 371\n",
      "random_state = 42\n",
      "Accuracy: 0.7897574123989218\n",
      "F1 macro: 0.7896825396825397\n",
      "F1 micro: 0.7897574123989218\n",
      "F1 weighted: 0.7896076669661576\n",
      "Kappa: 0.5799634220686852\n",
      "-------------Iteration 2/10\n",
      "50 371\n",
      "random_state = 43\n"
     ]
    },
    {
     "name": "stderr",
     "output_type": "stream",
     "text": [
      "[Parallel(n_jobs=1)]: Done  49 tasks      | elapsed:    0.0s\n",
      "[Parallel(n_jobs=1)]: Done 199 tasks      | elapsed:    0.1s\n",
      "[Parallel(n_jobs=1)]: Done  49 tasks      | elapsed:    0.0s\n",
      "[Parallel(n_jobs=1)]: Done 199 tasks      | elapsed:    0.0s\n",
      "[Parallel(n_jobs=1)]: Done  49 tasks      | elapsed:    0.0s\n",
      "[Parallel(n_jobs=1)]: Done 199 tasks      | elapsed:    0.1s\n",
      "[Parallel(n_jobs=1)]: Done  49 tasks      | elapsed:    0.0s\n",
      "[Parallel(n_jobs=1)]: Done 199 tasks      | elapsed:    0.0s\n",
      "[Parallel(n_jobs=1)]: Done  49 tasks      | elapsed:    0.0s\n",
      "[Parallel(n_jobs=1)]: Done 199 tasks      | elapsed:    0.1s\n",
      "[Parallel(n_jobs=1)]: Done  49 tasks      | elapsed:    0.0s\n",
      "[Parallel(n_jobs=1)]: Done 199 tasks      | elapsed:    0.0s\n"
     ]
    },
    {
     "name": "stdout",
     "output_type": "stream",
     "text": [
      "Accuracy: 0.8382749326145552\n",
      "F1 macro: 0.838132635253054\n",
      "F1 micro: 0.8382749326145552\n",
      "F1 weighted: 0.8380420823866442\n",
      "Kappa: 0.6770262035344302\n",
      "-------------Iteration 3/10\n",
      "50 371\n",
      "random_state = 44\n",
      "Accuracy: 0.7870619946091644\n",
      "F1 macro: 0.7868389855778671\n",
      "F1 micro: 0.7870619946091644\n",
      "F1 weighted: 0.7867088969762771\n",
      "Kappa: 0.5747943536102366\n",
      "-------------Iteration 4/10\n",
      "50 371\n",
      "random_state = 45\n"
     ]
    },
    {
     "name": "stderr",
     "output_type": "stream",
     "text": [
      "[Parallel(n_jobs=1)]: Done  49 tasks      | elapsed:    0.0s\n",
      "[Parallel(n_jobs=1)]: Done 199 tasks      | elapsed:    0.1s\n",
      "[Parallel(n_jobs=1)]: Done  49 tasks      | elapsed:    0.0s\n",
      "[Parallel(n_jobs=1)]: Done 199 tasks      | elapsed:    0.0s\n",
      "[Parallel(n_jobs=1)]: Done  49 tasks      | elapsed:    0.0s\n"
     ]
    },
    {
     "name": "stdout",
     "output_type": "stream",
     "text": [
      "Accuracy: 0.8086253369272237\n",
      "F1 macro: 0.8086253369272237\n",
      "F1 micro: 0.8086253369272237\n",
      "F1 weighted: 0.8086253369272237\n",
      "Kappa: 0.6173868835790544\n",
      "-------------Iteration 5/10\n",
      "50 371\n",
      "random_state = 46\n",
      "Accuracy: 0.7439353099730458\n",
      "F1 macro: 0.743667134555663\n",
      "F1 micro: 0.7439353099730458\n",
      "F1 weighted: 0.743823570215803\n",
      "Kappa: 0.4874274661508704\n",
      "-------------Iteration 6/10\n",
      "50 371\n",
      "random_state = 47\n"
     ]
    },
    {
     "name": "stderr",
     "output_type": "stream",
     "text": [
      "[Parallel(n_jobs=1)]: Done 199 tasks      | elapsed:    0.1s\n",
      "[Parallel(n_jobs=1)]: Done  49 tasks      | elapsed:    0.0s\n",
      "[Parallel(n_jobs=1)]: Done 199 tasks      | elapsed:    0.0s\n",
      "[Parallel(n_jobs=1)]: Done  49 tasks      | elapsed:    0.0s\n",
      "[Parallel(n_jobs=1)]: Done 199 tasks      | elapsed:    0.1s\n",
      "[Parallel(n_jobs=1)]: Done  49 tasks      | elapsed:    0.0s\n",
      "[Parallel(n_jobs=1)]: Done 199 tasks      | elapsed:    0.0s\n"
     ]
    },
    {
     "name": "stdout",
     "output_type": "stream",
     "text": [
      "Accuracy: 0.7924528301886793\n",
      "F1 macro: 0.7921568627450981\n",
      "F1 micro: 0.7924528301886793\n",
      "F1 weighted: 0.7920088790233074\n",
      "Kappa: 0.5856432125088842\n",
      "-------------Iteration 7/10\n",
      "50 371\n",
      "random_state = 48\n",
      "Accuracy: 0.7735849056603774\n",
      "F1 macro: 0.7735700999767496\n",
      "F1 micro: 0.7735849056603774\n",
      "F1 weighted: 0.7735355533816181\n",
      "Kappa: 0.5474689977637732\n",
      "-------------Iteration 8/10\n",
      "50 371\n",
      "random_state = 49\n"
     ]
    },
    {
     "name": "stderr",
     "output_type": "stream",
     "text": [
      "[Parallel(n_jobs=1)]: Done  49 tasks      | elapsed:    0.0s\n",
      "[Parallel(n_jobs=1)]: Done 199 tasks      | elapsed:    0.1s\n",
      "[Parallel(n_jobs=1)]: Done  49 tasks      | elapsed:    0.0s\n",
      "[Parallel(n_jobs=1)]: Done 199 tasks      | elapsed:    0.0s\n",
      "[Parallel(n_jobs=1)]: Done  49 tasks      | elapsed:    0.0s\n",
      "[Parallel(n_jobs=1)]: Done 199 tasks      | elapsed:    0.1s\n",
      "[Parallel(n_jobs=1)]: Done  49 tasks      | elapsed:    0.0s\n",
      "[Parallel(n_jobs=1)]: Done 199 tasks      | elapsed:    0.0s\n",
      "[Parallel(n_jobs=1)]: Done  49 tasks      | elapsed:    0.0s\n",
      "[Parallel(n_jobs=1)]: Done 199 tasks      | elapsed:    0.1s\n",
      "[Parallel(n_jobs=1)]: Done  49 tasks      | elapsed:    0.0s\n",
      "[Parallel(n_jobs=1)]: Done 199 tasks      | elapsed:    0.0s\n"
     ]
    },
    {
     "name": "stdout",
     "output_type": "stream",
     "text": [
      "Accuracy: 0.8221024258760108\n",
      "F1 macro: 0.8214160686154385\n",
      "F1 micro: 0.8221024258760108\n",
      "F1 weighted: 0.8212071772752644\n",
      "Kappa: 0.6451612903225806\n",
      "-------------Iteration 9/10\n",
      "50 371\n",
      "random_state = 50\n",
      "Accuracy: 0.7762803234501348\n",
      "F1 macro: 0.7759612936083524\n",
      "F1 micro: 0.7762803234501348\n",
      "F1 weighted: 0.7758017786874614\n",
      "Kappa: 0.5533556706264595\n",
      "-------------Iteration 10/10\n",
      "50 371\n",
      "random_state = 51\n",
      "Accuracy: 0.7547169811320755\n",
      "F1 macro: 0.7547169811320755\n",
      "F1 micro: 0.7547169811320755\n",
      "F1 weighted: 0.7547169811320755\n",
      "Kappa: 0.5096085409252669\n"
     ]
    },
    {
     "name": "stderr",
     "output_type": "stream",
     "text": [
      "[Parallel(n_jobs=1)]: Done  49 tasks      | elapsed:    0.0s\n",
      "[Parallel(n_jobs=1)]: Done 199 tasks      | elapsed:    0.1s\n",
      "[Parallel(n_jobs=1)]: Done  49 tasks      | elapsed:    0.0s\n",
      "[Parallel(n_jobs=1)]: Done 199 tasks      | elapsed:    0.0s\n"
     ]
    }
   ],
   "source": [
    "for n in range(iterations):\n",
    "    print(f\"-------------Iteration {n + 1}/{iterations}\")\n",
    "    random_state=42+n\n",
    "\n",
    "    X_train, y_train, X_test, y_test = prepare_dataset_classification(\n",
    "        df,\n",
    "        random_state=random_state,\n",
    "        train_size=train_size\n",
    "    )\n",
    "    print(f\"random_state = {random_state}\")\n",
    "\n",
    "    y_test, y_pred, acc, f1_macro, f1_micro, f1_weighted, kappa = train_and_evaluate_classifier(\n",
    "        X_train, \n",
    "        y_train, \n",
    "        X_test, \n",
    "        y_test, \n",
    "        random_state=random_state\n",
    "    )\n",
    "    \n",
    "    y_test_all.append(y_test)\n",
    "    y_pred_all.append(y_pred)    \n",
    "    acc_scores.append(acc)\n",
    "    f1macro_scores.append(f1_macro)\n",
    "    f1micro_scores.append(f1_micro)\n",
    "    f1weighted_scores.append(f1_weighted)\n",
    "    kappa_scores.append(kappa)\n",
    "    print(f\"Accuracy: {acc}\")\n",
    "    print(f\"F1 macro: {f1_macro}\")\n",
    "    print(f\"F1 micro: {f1_micro}\")\n",
    "    print(f\"F1 weighted: {f1_weighted}\")\n",
    "    print(f\"Kappa: {kappa}\")"
   ]
  },
  {
   "cell_type": "code",
   "execution_count": 31,
   "metadata": {},
   "outputs": [
    {
     "name": "stdout",
     "output_type": "stream",
     "text": [
      "FINAL REPORT for training size = 50\n",
      "mean accuracy: 0.7886792452830188 +/- 0.027440359229378774\n",
      "mean F1 macro: 0.7884767938074061 +/- 0.027387623356231634\n",
      "mean F1 micro: 0.7886792452830188 +/- 0.027440359229378774\n",
      "mean F1 weighted: 0.7884077922971833 +/- 0.02732823443563351\n",
      "mean Kappa: 0.5777836041090241 +/- 0.055100360028755395\n"
     ]
    }
   ],
   "source": [
    "print(f\"FINAL REPORT for training size = {train_size}\")\n",
    "\n",
    "print(f\"mean accuracy: {np.mean(acc_scores)} +/- {np.std(acc_scores)}\")\n",
    "print(f\"mean F1 macro: {np.mean(f1macro_scores)} +/- {np.std(f1macro_scores)}\")\n",
    "print(f\"mean F1 micro: {np.mean(f1micro_scores)} +/- {np.std(f1micro_scores)}\")\n",
    "print(f\"mean F1 weighted: {np.mean(f1weighted_scores)} +/- {np.std(f1weighted_scores)}\")\n",
    "print(f\"mean Kappa: {np.mean(kappa_scores)} +/- {np.std(kappa_scores)}\")"
   ]
  },
  {
   "cell_type": "code",
   "execution_count": 32,
   "metadata": {},
   "outputs": [
    {
     "data": {
      "text/html": [
       "<div>\n",
       "<style scoped>\n",
       "    .dataframe tbody tr th:only-of-type {\n",
       "        vertical-align: middle;\n",
       "    }\n",
       "\n",
       "    .dataframe tbody tr th {\n",
       "        vertical-align: top;\n",
       "    }\n",
       "\n",
       "    .dataframe thead th {\n",
       "        text-align: right;\n",
       "    }\n",
       "</style>\n",
       "<table border=\"1\" class=\"dataframe\">\n",
       "  <thead>\n",
       "    <tr style=\"text-align: right;\">\n",
       "      <th></th>\n",
       "      <th>train_size</th>\n",
       "      <th>y_true</th>\n",
       "      <th>y_pred</th>\n",
       "      <th>accuracy</th>\n",
       "      <th>f1_macro</th>\n",
       "      <th>f1_micro</th>\n",
       "      <th>f1_weighted</th>\n",
       "      <th>kappa</th>\n",
       "    </tr>\n",
       "  </thead>\n",
       "  <tbody>\n",
       "    <tr>\n",
       "      <th>0</th>\n",
       "      <td>50</td>\n",
       "      <td>[0, 1, 1, 1, 0, 1, 1, 1, 0, 0, 0, 0, 1, 1, 0, ...</td>\n",
       "      <td>[1, 1, 0, 0, 1, 1, 1, 0, 0, 0, 0, 0, 1, 1, 1, ...</td>\n",
       "      <td>0.789757</td>\n",
       "      <td>0.789683</td>\n",
       "      <td>0.789757</td>\n",
       "      <td>0.789608</td>\n",
       "      <td>0.579963</td>\n",
       "    </tr>\n",
       "    <tr>\n",
       "      <th>1</th>\n",
       "      <td>50</td>\n",
       "      <td>[1, 1, 1, 1, 1, 1, 0, 0, 0, 1, 1, 0, 1, 0, 0, ...</td>\n",
       "      <td>[1, 1, 1, 1, 1, 1, 1, 0, 0, 1, 1, 0, 1, 0, 0, ...</td>\n",
       "      <td>0.838275</td>\n",
       "      <td>0.838133</td>\n",
       "      <td>0.838275</td>\n",
       "      <td>0.838042</td>\n",
       "      <td>0.677026</td>\n",
       "    </tr>\n",
       "    <tr>\n",
       "      <th>2</th>\n",
       "      <td>50</td>\n",
       "      <td>[1, 0, 1, 0, 0, 0, 1, 1, 1, 1, 0, 0, 1, 1, 1, ...</td>\n",
       "      <td>[1, 0, 1, 0, 1, 0, 1, 0, 1, 1, 0, 1, 1, 1, 1, ...</td>\n",
       "      <td>0.787062</td>\n",
       "      <td>0.786839</td>\n",
       "      <td>0.787062</td>\n",
       "      <td>0.786709</td>\n",
       "      <td>0.574794</td>\n",
       "    </tr>\n",
       "  </tbody>\n",
       "</table>\n",
       "</div>"
      ],
      "text/plain": [
       "   train_size                                             y_true  \\\n",
       "0          50  [0, 1, 1, 1, 0, 1, 1, 1, 0, 0, 0, 0, 1, 1, 0, ...   \n",
       "1          50  [1, 1, 1, 1, 1, 1, 0, 0, 0, 1, 1, 0, 1, 0, 0, ...   \n",
       "2          50  [1, 0, 1, 0, 0, 0, 1, 1, 1, 1, 0, 0, 1, 1, 1, ...   \n",
       "\n",
       "                                              y_pred  accuracy  f1_macro  \\\n",
       "0  [1, 1, 0, 0, 1, 1, 1, 0, 0, 0, 0, 0, 1, 1, 1, ...  0.789757  0.789683   \n",
       "1  [1, 1, 1, 1, 1, 1, 1, 0, 0, 1, 1, 0, 1, 0, 0, ...  0.838275  0.838133   \n",
       "2  [1, 0, 1, 0, 1, 0, 1, 0, 1, 1, 0, 1, 1, 1, 1, ...  0.787062  0.786839   \n",
       "\n",
       "   f1_micro  f1_weighted     kappa  \n",
       "0  0.789757     0.789608  0.579963  \n",
       "1  0.838275     0.838042  0.677026  \n",
       "2  0.787062     0.786709  0.574794  "
      ]
     },
     "execution_count": 32,
     "metadata": {},
     "output_type": "execute_result"
    }
   ],
   "source": [
    "compiled_res_50 = pd.DataFrame(metrics_dict())\n",
    "compiled_res_50.head(3)"
   ]
  },
  {
   "cell_type": "markdown",
   "metadata": {},
   "source": [
    "### training size = 100"
   ]
  },
  {
   "cell_type": "code",
   "execution_count": 33,
   "metadata": {},
   "outputs": [],
   "source": [
    "train_size = 100\n",
    "iterations = 10\n",
    "y_test_all = []\n",
    "y_pred_all = []\n",
    "acc_scores = []\n",
    "f1macro_scores = []\n",
    "f1micro_scores = []\n",
    "f1weighted_scores = []\n",
    "kappa_scores = []"
   ]
  },
  {
   "cell_type": "code",
   "execution_count": 34,
   "metadata": {
    "scrolled": true
   },
   "outputs": [
    {
     "name": "stdout",
     "output_type": "stream",
     "text": [
      "-------------Iteration 1/10\n",
      "100 321\n",
      "random_state = 42\n",
      "Accuracy: 0.822429906542056\n",
      "F1 macro: 0.8224230130923842\n",
      "F1 micro: 0.822429906542056\n",
      "F1 weighted: 0.8224402467165637\n",
      "Kappa: 0.6448770452031132\n",
      "-------------Iteration 2/10\n",
      "100 321\n",
      "random_state = 43\n"
     ]
    },
    {
     "name": "stderr",
     "output_type": "stream",
     "text": [
      "[Parallel(n_jobs=1)]: Done  49 tasks      | elapsed:    0.0s\n",
      "[Parallel(n_jobs=1)]: Done 199 tasks      | elapsed:    0.1s\n",
      "[Parallel(n_jobs=1)]: Done  49 tasks      | elapsed:    0.0s\n",
      "[Parallel(n_jobs=1)]: Done 199 tasks      | elapsed:    0.0s\n",
      "[Parallel(n_jobs=1)]: Done  49 tasks      | elapsed:    0.0s\n",
      "[Parallel(n_jobs=1)]: Done 199 tasks      | elapsed:    0.1s\n",
      "[Parallel(n_jobs=1)]: Done  49 tasks      | elapsed:    0.0s\n",
      "[Parallel(n_jobs=1)]: Done 199 tasks      | elapsed:    0.0s\n",
      "[Parallel(n_jobs=1)]: Done  49 tasks      | elapsed:    0.0s\n",
      "[Parallel(n_jobs=1)]: Done 199 tasks      | elapsed:    0.1s\n",
      "[Parallel(n_jobs=1)]: Done  49 tasks      | elapsed:    0.0s\n"
     ]
    },
    {
     "name": "stdout",
     "output_type": "stream",
     "text": [
      "Accuracy: 0.8473520249221184\n",
      "F1 macro: 0.8473460989741549\n",
      "F1 micro: 0.8473520249221184\n",
      "F1 weighted: 0.8473312841042463\n",
      "Kappa: 0.6948373202956755\n",
      "-------------Iteration 3/10\n",
      "100 321\n",
      "random_state = 44\n",
      "Accuracy: 0.8193146417445483\n",
      "F1 macro: 0.8192286779555693\n",
      "F1 micro: 0.8193146417445483\n",
      "F1 weighted: 0.8192900806619828\n",
      "Kappa: 0.6384713969474543\n",
      "-------------Iteration 4/10\n",
      "100 321\n",
      "random_state = 45\n"
     ]
    },
    {
     "name": "stderr",
     "output_type": "stream",
     "text": [
      "[Parallel(n_jobs=1)]: Done 199 tasks      | elapsed:    0.0s\n",
      "[Parallel(n_jobs=1)]: Done  49 tasks      | elapsed:    0.0s\n",
      "[Parallel(n_jobs=1)]: Done 199 tasks      | elapsed:    0.1s\n",
      "[Parallel(n_jobs=1)]: Done  49 tasks      | elapsed:    0.0s\n",
      "[Parallel(n_jobs=1)]: Done 199 tasks      | elapsed:    0.0s\n"
     ]
    },
    {
     "name": "stdout",
     "output_type": "stream",
     "text": [
      "Accuracy: 0.8161993769470405\n",
      "F1 macro: 0.8161351390709188\n",
      "F1 micro: 0.8161993769470405\n",
      "F1 weighted: 0.8160816075074842\n",
      "Kappa: 0.6327017434982449\n",
      "-------------Iteration 5/10\n",
      "100 321\n",
      "random_state = 46\n",
      "Accuracy: 0.8411214953271028\n",
      "F1 macro: 0.8409671559436959\n",
      "F1 micro: 0.8411214953271028\n",
      "F1 weighted: 0.8410443256353992\n",
      "Kappa: 0.6820115377891731\n",
      "-------------Iteration 6/10\n",
      "100 321\n",
      "random_state = 47\n"
     ]
    },
    {
     "name": "stderr",
     "output_type": "stream",
     "text": [
      "[Parallel(n_jobs=1)]: Done  49 tasks      | elapsed:    0.0s\n",
      "[Parallel(n_jobs=1)]: Done 199 tasks      | elapsed:    0.1s\n",
      "[Parallel(n_jobs=1)]: Done  49 tasks      | elapsed:    0.0s\n",
      "[Parallel(n_jobs=1)]: Done 199 tasks      | elapsed:    0.0s\n",
      "[Parallel(n_jobs=1)]: Done  49 tasks      | elapsed:    0.0s\n",
      "[Parallel(n_jobs=1)]: Done 199 tasks      | elapsed:    0.1s\n",
      "[Parallel(n_jobs=1)]: Done  49 tasks      | elapsed:    0.0s\n",
      "[Parallel(n_jobs=1)]: Done 199 tasks      | elapsed:    0.0s\n",
      "[Parallel(n_jobs=1)]: Done  49 tasks      | elapsed:    0.0s\n",
      "[Parallel(n_jobs=1)]: Done 199 tasks      | elapsed:    0.1s\n",
      "[Parallel(n_jobs=1)]: Done  49 tasks      | elapsed:    0.0s\n",
      "[Parallel(n_jobs=1)]: Done 199 tasks      | elapsed:    0.0s\n"
     ]
    },
    {
     "name": "stdout",
     "output_type": "stream",
     "text": [
      "Accuracy: 0.8317757009345794\n",
      "F1 macro: 0.8317348761357459\n",
      "F1 micro: 0.8317757009345794\n",
      "F1 weighted: 0.8317757009345794\n",
      "Kappa: 0.6634697522714919\n",
      "-------------Iteration 7/10\n",
      "100 321\n",
      "random_state = 48\n",
      "Accuracy: 0.8411214953271028\n",
      "F1 macro: 0.8410968211599126\n",
      "F1 micro: 0.8411214953271028\n",
      "F1 weighted: 0.841065978450925\n",
      "Kappa: 0.6824433107675596\n",
      "-------------Iteration 8/10\n",
      "100 321\n",
      "random_state = 49\n"
     ]
    },
    {
     "name": "stderr",
     "output_type": "stream",
     "text": [
      "[Parallel(n_jobs=1)]: Done  49 tasks      | elapsed:    0.0s\n",
      "[Parallel(n_jobs=1)]: Done 199 tasks      | elapsed:    0.1s\n",
      "[Parallel(n_jobs=1)]: Done  49 tasks      | elapsed:    0.0s\n",
      "[Parallel(n_jobs=1)]: Done 199 tasks      | elapsed:    0.0s\n",
      "[Parallel(n_jobs=1)]: Done  49 tasks      | elapsed:    0.0s\n"
     ]
    },
    {
     "name": "stdout",
     "output_type": "stream",
     "text": [
      "Accuracy: 0.8504672897196262\n",
      "F1 macro: 0.8502914885347843\n",
      "F1 micro: 0.8504672897196262\n",
      "F1 weighted: 0.8502115789053107\n",
      "Kappa: 0.7013258897418004\n",
      "-------------Iteration 9/10\n",
      "100 321\n",
      "random_state = 50\n",
      "Accuracy: 0.8348909657320872\n",
      "F1 macro: 0.834833260521334\n",
      "F1 micro: 0.8348909657320872\n",
      "F1 weighted: 0.8347851728457061\n",
      "Kappa: 0.6700541085662199\n",
      "-------------Iteration 10/10\n",
      "100 321\n",
      "random_state = 51\n",
      "Accuracy: 0.8193146417445483\n",
      "F1 macro: 0.8192707928865419\n",
      "F1 micro: 0.8193146417445483\n",
      "F1 weighted: 0.8193146417445483\n",
      "Kappa: 0.6385415857730838\n"
     ]
    },
    {
     "name": "stderr",
     "output_type": "stream",
     "text": [
      "[Parallel(n_jobs=1)]: Done 199 tasks      | elapsed:    0.1s\n",
      "[Parallel(n_jobs=1)]: Done  49 tasks      | elapsed:    0.0s\n",
      "[Parallel(n_jobs=1)]: Done 199 tasks      | elapsed:    0.0s\n",
      "[Parallel(n_jobs=1)]: Done  49 tasks      | elapsed:    0.0s\n",
      "[Parallel(n_jobs=1)]: Done 199 tasks      | elapsed:    0.1s\n",
      "[Parallel(n_jobs=1)]: Done  49 tasks      | elapsed:    0.0s\n",
      "[Parallel(n_jobs=1)]: Done 199 tasks      | elapsed:    0.0s\n"
     ]
    }
   ],
   "source": [
    "for n in range(iterations):\n",
    "    print(f\"-------------Iteration {n + 1}/{iterations}\")\n",
    "    random_state=42+n\n",
    "\n",
    "    X_train, y_train, X_test, y_test = prepare_dataset_classification(\n",
    "        df,\n",
    "        random_state=random_state,\n",
    "        train_size=train_size\n",
    "    )\n",
    "    print(f\"random_state = {random_state}\")\n",
    "\n",
    "    y_test, y_pred, acc, f1_macro, f1_micro, f1_weighted, kappa = train_and_evaluate_classifier(\n",
    "        X_train, \n",
    "        y_train, \n",
    "        X_test, \n",
    "        y_test, \n",
    "        random_state=random_state\n",
    "    )\n",
    "    \n",
    "    y_test_all.append(y_test)\n",
    "    y_pred_all.append(y_pred)    \n",
    "    acc_scores.append(acc)\n",
    "    f1macro_scores.append(f1_macro)\n",
    "    f1micro_scores.append(f1_micro)\n",
    "    f1weighted_scores.append(f1_weighted)\n",
    "    kappa_scores.append(kappa)\n",
    "    print(f\"Accuracy: {acc}\")\n",
    "    print(f\"F1 macro: {f1_macro}\")\n",
    "    print(f\"F1 micro: {f1_micro}\")\n",
    "    print(f\"F1 weighted: {f1_weighted}\")\n",
    "    print(f\"Kappa: {kappa}\")"
   ]
  },
  {
   "cell_type": "code",
   "execution_count": 35,
   "metadata": {},
   "outputs": [
    {
     "name": "stdout",
     "output_type": "stream",
     "text": [
      "FINAL REPORT for training size = 100\n",
      "mean accuracy: 0.8323987538940809 +/- 0.01188709285254761\n",
      "mean F1 macro: 0.8323327324275042 +/- 0.01186922813693595\n",
      "mean F1 micro: 0.8323987538940809 +/- 0.01188709285254761\n",
      "mean F1 weighted: 0.8323340617506745 +/- 0.011851741059160195\n",
      "mean Kappa: 0.6648733690853816 +/- 0.023839353850731774\n"
     ]
    }
   ],
   "source": [
    "print(f\"FINAL REPORT for training size = {train_size}\")\n",
    "\n",
    "print(f\"mean accuracy: {np.mean(acc_scores)} +/- {np.std(acc_scores)}\")\n",
    "print(f\"mean F1 macro: {np.mean(f1macro_scores)} +/- {np.std(f1macro_scores)}\")\n",
    "print(f\"mean F1 micro: {np.mean(f1micro_scores)} +/- {np.std(f1micro_scores)}\")\n",
    "print(f\"mean F1 weighted: {np.mean(f1weighted_scores)} +/- {np.std(f1weighted_scores)}\")\n",
    "print(f\"mean Kappa: {np.mean(kappa_scores)} +/- {np.std(kappa_scores)}\")"
   ]
  },
  {
   "cell_type": "code",
   "execution_count": 36,
   "metadata": {},
   "outputs": [
    {
     "data": {
      "text/html": [
       "<div>\n",
       "<style scoped>\n",
       "    .dataframe tbody tr th:only-of-type {\n",
       "        vertical-align: middle;\n",
       "    }\n",
       "\n",
       "    .dataframe tbody tr th {\n",
       "        vertical-align: top;\n",
       "    }\n",
       "\n",
       "    .dataframe thead th {\n",
       "        text-align: right;\n",
       "    }\n",
       "</style>\n",
       "<table border=\"1\" class=\"dataframe\">\n",
       "  <thead>\n",
       "    <tr style=\"text-align: right;\">\n",
       "      <th></th>\n",
       "      <th>train_size</th>\n",
       "      <th>y_true</th>\n",
       "      <th>y_pred</th>\n",
       "      <th>accuracy</th>\n",
       "      <th>f1_macro</th>\n",
       "      <th>f1_micro</th>\n",
       "      <th>f1_weighted</th>\n",
       "      <th>kappa</th>\n",
       "    </tr>\n",
       "  </thead>\n",
       "  <tbody>\n",
       "    <tr>\n",
       "      <th>0</th>\n",
       "      <td>100</td>\n",
       "      <td>[0, 1, 1, 0, 0, 0, 1, 1, 0, 0, 0, 1, 0, 0, 1, ...</td>\n",
       "      <td>[0, 1, 1, 1, 0, 0, 1, 0, 1, 1, 0, 1, 0, 0, 0, ...</td>\n",
       "      <td>0.822430</td>\n",
       "      <td>0.822423</td>\n",
       "      <td>0.822430</td>\n",
       "      <td>0.822440</td>\n",
       "      <td>0.644877</td>\n",
       "    </tr>\n",
       "    <tr>\n",
       "      <th>1</th>\n",
       "      <td>100</td>\n",
       "      <td>[1, 1, 0, 1, 0, 0, 1, 0, 1, 0, 1, 1, 1, 1, 0, ...</td>\n",
       "      <td>[1, 1, 0, 1, 1, 0, 1, 0, 1, 0, 1, 1, 1, 1, 0, ...</td>\n",
       "      <td>0.847352</td>\n",
       "      <td>0.847346</td>\n",
       "      <td>0.847352</td>\n",
       "      <td>0.847331</td>\n",
       "      <td>0.694837</td>\n",
       "    </tr>\n",
       "    <tr>\n",
       "      <th>2</th>\n",
       "      <td>100</td>\n",
       "      <td>[1, 0, 1, 0, 1, 0, 1, 1, 1, 0, 0, 0, 1, 1, 1, ...</td>\n",
       "      <td>[1, 1, 1, 0, 1, 1, 1, 1, 0, 0, 0, 0, 0, 1, 1, ...</td>\n",
       "      <td>0.819315</td>\n",
       "      <td>0.819229</td>\n",
       "      <td>0.819315</td>\n",
       "      <td>0.819290</td>\n",
       "      <td>0.638471</td>\n",
       "    </tr>\n",
       "  </tbody>\n",
       "</table>\n",
       "</div>"
      ],
      "text/plain": [
       "   train_size                                             y_true  \\\n",
       "0         100  [0, 1, 1, 0, 0, 0, 1, 1, 0, 0, 0, 1, 0, 0, 1, ...   \n",
       "1         100  [1, 1, 0, 1, 0, 0, 1, 0, 1, 0, 1, 1, 1, 1, 0, ...   \n",
       "2         100  [1, 0, 1, 0, 1, 0, 1, 1, 1, 0, 0, 0, 1, 1, 1, ...   \n",
       "\n",
       "                                              y_pred  accuracy  f1_macro  \\\n",
       "0  [0, 1, 1, 1, 0, 0, 1, 0, 1, 1, 0, 1, 0, 0, 0, ...  0.822430  0.822423   \n",
       "1  [1, 1, 0, 1, 1, 0, 1, 0, 1, 0, 1, 1, 1, 1, 0, ...  0.847352  0.847346   \n",
       "2  [1, 1, 1, 0, 1, 1, 1, 1, 0, 0, 0, 0, 0, 1, 1, ...  0.819315  0.819229   \n",
       "\n",
       "   f1_micro  f1_weighted     kappa  \n",
       "0  0.822430     0.822440  0.644877  \n",
       "1  0.847352     0.847331  0.694837  \n",
       "2  0.819315     0.819290  0.638471  "
      ]
     },
     "execution_count": 36,
     "metadata": {},
     "output_type": "execute_result"
    }
   ],
   "source": [
    "compiled_res_100 = pd.DataFrame(metrics_dict())\n",
    "compiled_res_100.head(3)"
   ]
  },
  {
   "cell_type": "markdown",
   "metadata": {},
   "source": [
    "### training size = 200"
   ]
  },
  {
   "cell_type": "code",
   "execution_count": 37,
   "metadata": {},
   "outputs": [],
   "source": [
    "train_size = 200\n",
    "iterations = 10\n",
    "y_test_all = []\n",
    "y_pred_all = []\n",
    "acc_scores = []\n",
    "f1macro_scores = []\n",
    "f1micro_scores = []\n",
    "f1weighted_scores = []\n",
    "kappa_scores = []"
   ]
  },
  {
   "cell_type": "code",
   "execution_count": 38,
   "metadata": {
    "scrolled": true
   },
   "outputs": [
    {
     "name": "stdout",
     "output_type": "stream",
     "text": [
      "-------------Iteration 1/10\n",
      "200 221\n",
      "random_state = 42\n",
      "Accuracy: 0.8552036199095022\n",
      "F1 macro: 0.8552006552006552\n",
      "F1 micro: 0.8552036199095022\n",
      "F1 weighted: 0.855191761074114\n",
      "Kappa: 0.710496151956771\n",
      "-------------Iteration 2/10\n",
      "200 221\n",
      "random_state = 43\n"
     ]
    },
    {
     "name": "stderr",
     "output_type": "stream",
     "text": [
      "[Parallel(n_jobs=1)]: Done  49 tasks      | elapsed:    0.0s\n",
      "[Parallel(n_jobs=1)]: Done 199 tasks      | elapsed:    0.1s\n",
      "[Parallel(n_jobs=1)]: Done  49 tasks      | elapsed:    0.0s\n",
      "[Parallel(n_jobs=1)]: Done 199 tasks      | elapsed:    0.0s\n",
      "[Parallel(n_jobs=1)]: Done  49 tasks      | elapsed:    0.0s\n",
      "[Parallel(n_jobs=1)]: Done 199 tasks      | elapsed:    0.1s\n",
      "[Parallel(n_jobs=1)]: Done  49 tasks      | elapsed:    0.0s\n",
      "[Parallel(n_jobs=1)]: Done 199 tasks      | elapsed:    0.0s\n",
      "[Parallel(n_jobs=1)]: Done  49 tasks      | elapsed:    0.0s\n",
      "[Parallel(n_jobs=1)]: Done 199 tasks      | elapsed:    0.1s\n",
      "[Parallel(n_jobs=1)]: Done  49 tasks      | elapsed:    0.0s\n",
      "[Parallel(n_jobs=1)]: Done 199 tasks      | elapsed:    0.0s\n"
     ]
    },
    {
     "name": "stdout",
     "output_type": "stream",
     "text": [
      "Accuracy: 0.8506787330316742\n",
      "F1 macro: 0.8503723764387272\n",
      "F1 micro: 0.8506787330316742\n",
      "F1 weighted: 0.8504642834166113\n",
      "Kappa: 0.7010452961672473\n",
      "-------------Iteration 3/10\n",
      "200 221\n",
      "random_state = 44\n",
      "Accuracy: 0.8823529411764706\n",
      "F1 macro: 0.8820607553366174\n",
      "F1 micro: 0.8823529411764706\n",
      "F1 weighted: 0.8821404423838501\n",
      "Kappa: 0.7644309609708101\n",
      "-------------Iteration 4/10\n",
      "200 221\n",
      "random_state = 45\n"
     ]
    },
    {
     "name": "stderr",
     "output_type": "stream",
     "text": [
      "[Parallel(n_jobs=1)]: Done  49 tasks      | elapsed:    0.0s\n",
      "[Parallel(n_jobs=1)]: Done 199 tasks      | elapsed:    0.1s\n",
      "[Parallel(n_jobs=1)]: Done  49 tasks      | elapsed:    0.0s\n",
      "[Parallel(n_jobs=1)]: Done 199 tasks      | elapsed:    0.0s\n",
      "[Parallel(n_jobs=1)]: Done  49 tasks      | elapsed:    0.0s\n"
     ]
    },
    {
     "name": "stdout",
     "output_type": "stream",
     "text": [
      "Accuracy: 0.8778280542986425\n",
      "F1 macro: 0.8778280542986425\n",
      "F1 micro: 0.8778280542986425\n",
      "F1 weighted: 0.8778280542986425\n",
      "Kappa: 0.7557011258955988\n",
      "-------------Iteration 5/10\n",
      "200 221\n",
      "random_state = 46\n",
      "Accuracy: 0.8687782805429864\n",
      "F1 macro: 0.8682495631616816\n",
      "F1 micro: 0.8687782805429864\n",
      "F1 weighted: 0.8683628597433898\n",
      "Kappa: 0.7371529344215232\n",
      "-------------Iteration 6/10\n",
      "200 221\n",
      "random_state = 47\n"
     ]
    },
    {
     "name": "stderr",
     "output_type": "stream",
     "text": [
      "[Parallel(n_jobs=1)]: Done 199 tasks      | elapsed:    0.1s\n",
      "[Parallel(n_jobs=1)]: Done  49 tasks      | elapsed:    0.0s\n",
      "[Parallel(n_jobs=1)]: Done 199 tasks      | elapsed:    0.0s\n",
      "[Parallel(n_jobs=1)]: Done  49 tasks      | elapsed:    0.0s\n",
      "[Parallel(n_jobs=1)]: Done 199 tasks      | elapsed:    0.1s\n",
      "[Parallel(n_jobs=1)]: Done  49 tasks      | elapsed:    0.0s\n",
      "[Parallel(n_jobs=1)]: Done 199 tasks      | elapsed:    0.0s\n"
     ]
    },
    {
     "name": "stdout",
     "output_type": "stream",
     "text": [
      "Accuracy: 0.8642533936651584\n",
      "F1 macro: 0.8642506142506143\n",
      "F1 micro: 0.8642533936651584\n",
      "F1 weighted: 0.8642589524942467\n",
      "Kappa: 0.7285234624518877\n",
      "-------------Iteration 7/10\n",
      "200 221\n",
      "random_state = 48\n"
     ]
    },
    {
     "name": "stderr",
     "output_type": "stream",
     "text": [
      "[Parallel(n_jobs=1)]: Done  49 tasks      | elapsed:    0.0s\n",
      "[Parallel(n_jobs=1)]: Done 199 tasks      | elapsed:    0.1s\n",
      "[Parallel(n_jobs=1)]: Done  49 tasks      | elapsed:    0.0s\n",
      "[Parallel(n_jobs=1)]: Done 199 tasks      | elapsed:    0.0s\n"
     ]
    },
    {
     "name": "stdout",
     "output_type": "stream",
     "text": [
      "Accuracy: 0.8687782805429864\n",
      "F1 macro: 0.8687675328132358\n",
      "F1 micro: 0.8687782805429864\n",
      "F1 weighted: 0.8687836544078615\n",
      "Kappa: 0.7375404398214505\n",
      "-------------Iteration 8/10\n",
      "200 221\n",
      "random_state = 49\n",
      "Accuracy: 0.8506787330316742\n",
      "F1 macro: 0.8506298003072197\n",
      "F1 micro: 0.8506787330316742\n",
      "F1 weighted: 0.8506664998505606\n",
      "Kappa: 0.7012657190840945\n",
      "-------------Iteration 9/10\n",
      "200 221\n",
      "random_state = 50\n"
     ]
    },
    {
     "name": "stderr",
     "output_type": "stream",
     "text": [
      "[Parallel(n_jobs=1)]: Done  49 tasks      | elapsed:    0.0s\n",
      "[Parallel(n_jobs=1)]: Done 199 tasks      | elapsed:    0.1s\n",
      "[Parallel(n_jobs=1)]: Done  49 tasks      | elapsed:    0.0s\n",
      "[Parallel(n_jobs=1)]: Done 199 tasks      | elapsed:    0.0s\n",
      "[Parallel(n_jobs=1)]: Done  49 tasks      | elapsed:    0.0s\n",
      "[Parallel(n_jobs=1)]: Done 199 tasks      | elapsed:    0.1s\n",
      "[Parallel(n_jobs=1)]: Done  49 tasks      | elapsed:    0.0s\n",
      "[Parallel(n_jobs=1)]: Done 199 tasks      | elapsed:    0.0s\n",
      "[Parallel(n_jobs=1)]: Done  49 tasks      | elapsed:    0.0s\n"
     ]
    },
    {
     "name": "stdout",
     "output_type": "stream",
     "text": [
      "Accuracy: 0.8280542986425339\n",
      "F1 macro: 0.8278816199376947\n",
      "F1 micro: 0.8280542986425339\n",
      "F1 weighted: 0.8278076147784779\n",
      "Kappa: 0.6564673157162726\n",
      "-------------Iteration 10/10\n",
      "200 221\n",
      "random_state = 51\n",
      "Accuracy: 0.8552036199095022\n",
      "F1 macro: 0.8550582062633219\n",
      "F1 micro: 0.8552036199095022\n",
      "F1 weighted: 0.8551205263973992\n",
      "Kappa: 0.7102114407474185\n"
     ]
    },
    {
     "name": "stderr",
     "output_type": "stream",
     "text": [
      "[Parallel(n_jobs=1)]: Done 199 tasks      | elapsed:    0.2s\n",
      "[Parallel(n_jobs=1)]: Done  49 tasks      | elapsed:    0.0s\n",
      "[Parallel(n_jobs=1)]: Done 199 tasks      | elapsed:    0.0s\n"
     ]
    }
   ],
   "source": [
    "for n in range(iterations):\n",
    "    print(f\"-------------Iteration {n + 1}/{iterations}\")\n",
    "    random_state=42+n\n",
    "\n",
    "    X_train, y_train, X_test, y_test = prepare_dataset_classification(\n",
    "        df,\n",
    "        random_state=random_state,\n",
    "        train_size=train_size\n",
    "    )\n",
    "    print(f\"random_state = {random_state}\")\n",
    "\n",
    "    y_test, y_pred, acc, f1_macro, f1_micro, f1_weighted, kappa = train_and_evaluate_classifier(\n",
    "        X_train, \n",
    "        y_train, \n",
    "        X_test, \n",
    "        y_test, \n",
    "        random_state=random_state\n",
    "    )\n",
    "    \n",
    "    y_test_all.append(y_test)\n",
    "    y_pred_all.append(y_pred)    \n",
    "    acc_scores.append(acc)\n",
    "    f1macro_scores.append(f1_macro)\n",
    "    f1micro_scores.append(f1_micro)\n",
    "    f1weighted_scores.append(f1_weighted)\n",
    "    kappa_scores.append(kappa)\n",
    "    print(f\"Accuracy: {acc}\")\n",
    "    print(f\"F1 macro: {f1_macro}\")\n",
    "    print(f\"F1 micro: {f1_micro}\")\n",
    "    print(f\"F1 weighted: {f1_weighted}\")\n",
    "    print(f\"Kappa: {kappa}\")"
   ]
  },
  {
   "cell_type": "code",
   "execution_count": 40,
   "metadata": {},
   "outputs": [
    {
     "name": "stdout",
     "output_type": "stream",
     "text": [
      "FINAL REPORT for training size = 200\n",
      "mean accuracy: 0.8601809954751131 +/- 0.014932126696832596\n",
      "mean F1 macro: 0.8600299178008409 +/- 0.014923261346744382\n",
      "mean F1 micro: 0.8601809954751131 +/- 0.014932126696832596\n",
      "mean F1 weighted: 0.8600624648845153 +/- 0.01494841322969974\n",
      "mean Kappa: 0.7202834847233074 +/- 0.029757707772401755\n"
     ]
    }
   ],
   "source": [
    "print(f\"FINAL REPORT for training size = {train_size}\")\n",
    "\n",
    "print(f\"mean accuracy: {np.mean(acc_scores)} +/- {np.std(acc_scores)}\")\n",
    "print(f\"mean F1 macro: {np.mean(f1macro_scores)} +/- {np.std(f1macro_scores)}\")\n",
    "print(f\"mean F1 micro: {np.mean(f1micro_scores)} +/- {np.std(f1micro_scores)}\")\n",
    "print(f\"mean F1 weighted: {np.mean(f1weighted_scores)} +/- {np.std(f1weighted_scores)}\")\n",
    "print(f\"mean Kappa: {np.mean(kappa_scores)} +/- {np.std(kappa_scores)}\")"
   ]
  },
  {
   "cell_type": "code",
   "execution_count": 41,
   "metadata": {},
   "outputs": [
    {
     "data": {
      "text/html": [
       "<div>\n",
       "<style scoped>\n",
       "    .dataframe tbody tr th:only-of-type {\n",
       "        vertical-align: middle;\n",
       "    }\n",
       "\n",
       "    .dataframe tbody tr th {\n",
       "        vertical-align: top;\n",
       "    }\n",
       "\n",
       "    .dataframe thead th {\n",
       "        text-align: right;\n",
       "    }\n",
       "</style>\n",
       "<table border=\"1\" class=\"dataframe\">\n",
       "  <thead>\n",
       "    <tr style=\"text-align: right;\">\n",
       "      <th></th>\n",
       "      <th>train_size</th>\n",
       "      <th>y_true</th>\n",
       "      <th>y_pred</th>\n",
       "      <th>accuracy</th>\n",
       "      <th>f1_macro</th>\n",
       "      <th>f1_micro</th>\n",
       "      <th>f1_weighted</th>\n",
       "      <th>kappa</th>\n",
       "    </tr>\n",
       "  </thead>\n",
       "  <tbody>\n",
       "    <tr>\n",
       "      <th>0</th>\n",
       "      <td>200</td>\n",
       "      <td>[1, 0, 0, 0, 0, 1, 1, 0, 1, 1, 1, 1, 0, 1, 0, ...</td>\n",
       "      <td>[1, 0, 0, 1, 0, 0, 1, 0, 0, 1, 1, 1, 0, 1, 0, ...</td>\n",
       "      <td>0.855204</td>\n",
       "      <td>0.855201</td>\n",
       "      <td>0.855204</td>\n",
       "      <td>0.855192</td>\n",
       "      <td>0.710496</td>\n",
       "    </tr>\n",
       "    <tr>\n",
       "      <th>1</th>\n",
       "      <td>200</td>\n",
       "      <td>[1, 1, 1, 0, 0, 1, 1, 1, 0, 1, 0, 1, 1, 0, 1, ...</td>\n",
       "      <td>[1, 1, 1, 0, 0, 1, 1, 0, 0, 1, 0, 1, 1, 0, 1, ...</td>\n",
       "      <td>0.850679</td>\n",
       "      <td>0.850372</td>\n",
       "      <td>0.850679</td>\n",
       "      <td>0.850464</td>\n",
       "      <td>0.701045</td>\n",
       "    </tr>\n",
       "    <tr>\n",
       "      <th>2</th>\n",
       "      <td>200</td>\n",
       "      <td>[0, 1, 1, 0, 0, 0, 1, 0, 0, 0, 0, 0, 1, 1, 1, ...</td>\n",
       "      <td>[0, 0, 0, 0, 0, 0, 1, 0, 0, 0, 0, 0, 1, 1, 1, ...</td>\n",
       "      <td>0.882353</td>\n",
       "      <td>0.882061</td>\n",
       "      <td>0.882353</td>\n",
       "      <td>0.882140</td>\n",
       "      <td>0.764431</td>\n",
       "    </tr>\n",
       "  </tbody>\n",
       "</table>\n",
       "</div>"
      ],
      "text/plain": [
       "   train_size                                             y_true  \\\n",
       "0         200  [1, 0, 0, 0, 0, 1, 1, 0, 1, 1, 1, 1, 0, 1, 0, ...   \n",
       "1         200  [1, 1, 1, 0, 0, 1, 1, 1, 0, 1, 0, 1, 1, 0, 1, ...   \n",
       "2         200  [0, 1, 1, 0, 0, 0, 1, 0, 0, 0, 0, 0, 1, 1, 1, ...   \n",
       "\n",
       "                                              y_pred  accuracy  f1_macro  \\\n",
       "0  [1, 0, 0, 1, 0, 0, 1, 0, 0, 1, 1, 1, 0, 1, 0, ...  0.855204  0.855201   \n",
       "1  [1, 1, 1, 0, 0, 1, 1, 0, 0, 1, 0, 1, 1, 0, 1, ...  0.850679  0.850372   \n",
       "2  [0, 0, 0, 0, 0, 0, 1, 0, 0, 0, 0, 0, 1, 1, 1, ...  0.882353  0.882061   \n",
       "\n",
       "   f1_micro  f1_weighted     kappa  \n",
       "0  0.855204     0.855192  0.710496  \n",
       "1  0.850679     0.850464  0.701045  \n",
       "2  0.882353     0.882140  0.764431  "
      ]
     },
     "execution_count": 41,
     "metadata": {},
     "output_type": "execute_result"
    }
   ],
   "source": [
    "compiled_res_200 = pd.DataFrame(metrics_dict())\n",
    "compiled_res_200.head(3)"
   ]
  },
  {
   "cell_type": "markdown",
   "metadata": {},
   "source": [
    "### training size = 300"
   ]
  },
  {
   "cell_type": "code",
   "execution_count": 42,
   "metadata": {},
   "outputs": [],
   "source": [
    "train_size = 300\n",
    "iterations = 10\n",
    "y_test_all = []\n",
    "y_pred_all = []\n",
    "acc_scores = []\n",
    "f1macro_scores = []\n",
    "f1micro_scores = []\n",
    "f1weighted_scores = []\n",
    "kappa_scores = []"
   ]
  },
  {
   "cell_type": "code",
   "execution_count": 43,
   "metadata": {
    "scrolled": true
   },
   "outputs": [
    {
     "name": "stdout",
     "output_type": "stream",
     "text": [
      "-------------Iteration 1/10\n",
      "300 121\n",
      "random_state = 42\n",
      "Accuracy: 0.9504132231404959\n",
      "F1 macro: 0.950382722799344\n",
      "F1 micro: 0.9504132231404959\n",
      "F1 weighted: 0.9504132231404959\n",
      "Kappa: 0.9007654455986878\n",
      "-------------Iteration 2/10\n",
      "300 121\n",
      "random_state = 43\n"
     ]
    },
    {
     "name": "stderr",
     "output_type": "stream",
     "text": [
      "[Parallel(n_jobs=1)]: Done  49 tasks      | elapsed:    0.0s\n",
      "[Parallel(n_jobs=1)]: Done 199 tasks      | elapsed:    0.1s\n",
      "[Parallel(n_jobs=1)]: Done  49 tasks      | elapsed:    0.0s\n",
      "[Parallel(n_jobs=1)]: Done 199 tasks      | elapsed:    0.0s\n",
      "[Parallel(n_jobs=1)]: Done  49 tasks      | elapsed:    0.0s\n",
      "[Parallel(n_jobs=1)]: Done 199 tasks      | elapsed:    0.2s\n",
      "[Parallel(n_jobs=1)]: Done  49 tasks      | elapsed:    0.0s\n",
      "[Parallel(n_jobs=1)]: Done 199 tasks      | elapsed:    0.0s\n",
      "[Parallel(n_jobs=1)]: Done  49 tasks      | elapsed:    0.0s\n"
     ]
    },
    {
     "name": "stdout",
     "output_type": "stream",
     "text": [
      "Accuracy: 0.9338842975206612\n",
      "F1 macro: 0.9336622807017544\n",
      "F1 micro: 0.9338842975206612\n",
      "F1 weighted: 0.9337574307670001\n",
      "Kappa: 0.8674698795180723\n",
      "-------------Iteration 3/10\n",
      "300 121\n",
      "random_state = 44\n",
      "Accuracy: 0.9008264462809917\n",
      "F1 macro: 0.9006568144499179\n",
      "F1 micro: 0.9008264462809917\n",
      "F1 weighted: 0.9007585935485621\n",
      "Kappa: 0.8013679890560875\n",
      "-------------Iteration 4/10\n",
      "300 121\n",
      "random_state = 45\n"
     ]
    },
    {
     "name": "stderr",
     "output_type": "stream",
     "text": [
      "[Parallel(n_jobs=1)]: Done 199 tasks      | elapsed:    0.1s\n",
      "[Parallel(n_jobs=1)]: Done  49 tasks      | elapsed:    0.0s\n",
      "[Parallel(n_jobs=1)]: Done 199 tasks      | elapsed:    0.0s\n",
      "[Parallel(n_jobs=1)]: Done  49 tasks      | elapsed:    0.0s\n",
      "[Parallel(n_jobs=1)]: Done 199 tasks      | elapsed:    0.1s\n",
      "[Parallel(n_jobs=1)]: Done  49 tasks      | elapsed:    0.0s\n",
      "[Parallel(n_jobs=1)]: Done 199 tasks      | elapsed:    0.0s\n"
     ]
    },
    {
     "name": "stdout",
     "output_type": "stream",
     "text": [
      "Accuracy: 0.9173553719008265\n",
      "F1 macro: 0.9173497267759563\n",
      "F1 micro: 0.9173553719008265\n",
      "F1 weighted: 0.9173327914013458\n",
      "Kappa: 0.8348799126637555\n",
      "-------------Iteration 5/10\n",
      "300 121\n",
      "random_state = 46\n",
      "Accuracy: 0.8512396694214877\n",
      "F1 macro: 0.8507401315789473\n",
      "F1 micro: 0.8512396694214877\n",
      "F1 weighted: 0.8509542192257502\n",
      "Kappa: 0.7018072289156626\n",
      "-------------Iteration 6/10\n",
      "300 121\n",
      "random_state = 47\n"
     ]
    },
    {
     "name": "stderr",
     "output_type": "stream",
     "text": [
      "[Parallel(n_jobs=1)]: Done  49 tasks      | elapsed:    0.0s\n",
      "[Parallel(n_jobs=1)]: Done 199 tasks      | elapsed:    0.1s\n",
      "[Parallel(n_jobs=1)]: Done  49 tasks      | elapsed:    0.0s\n",
      "[Parallel(n_jobs=1)]: Done 199 tasks      | elapsed:    0.0s\n",
      "[Parallel(n_jobs=1)]: Done  49 tasks      | elapsed:    0.0s\n",
      "[Parallel(n_jobs=1)]: Done 199 tasks      | elapsed:    0.1s\n",
      "[Parallel(n_jobs=1)]: Done  49 tasks      | elapsed:    0.0s\n",
      "[Parallel(n_jobs=1)]: Done 199 tasks      | elapsed:    0.0s\n",
      "[Parallel(n_jobs=1)]: Done  49 tasks      | elapsed:    0.0s\n",
      "[Parallel(n_jobs=1)]: Done 199 tasks      | elapsed:    0.1s\n",
      "[Parallel(n_jobs=1)]: Done  49 tasks      | elapsed:    0.0s\n",
      "[Parallel(n_jobs=1)]: Done 199 tasks      | elapsed:    0.0s\n"
     ]
    },
    {
     "name": "stdout",
     "output_type": "stream",
     "text": [
      "Accuracy: 0.9338842975206612\n",
      "F1 macro: 0.9338436303991251\n",
      "F1 micro: 0.9338842975206612\n",
      "F1 weighted: 0.9338842975206612\n",
      "Kappa: 0.8676872607982504\n",
      "-------------Iteration 7/10\n",
      "300 121\n",
      "random_state = 48\n",
      "Accuracy: 0.8925619834710744\n",
      "F1 macro: 0.8922971585073605\n",
      "F1 micro: 0.8925619834710744\n",
      "F1 weighted: 0.8924295709892175\n",
      "Kappa: 0.7847269741343916\n",
      "-------------Iteration 8/10\n",
      "300 121\n",
      "random_state = 49\n"
     ]
    },
    {
     "name": "stderr",
     "output_type": "stream",
     "text": [
      "[Parallel(n_jobs=1)]: Done  49 tasks      | elapsed:    0.0s\n",
      "[Parallel(n_jobs=1)]: Done 199 tasks      | elapsed:    0.1s\n",
      "[Parallel(n_jobs=1)]: Done  49 tasks      | elapsed:    0.0s\n",
      "[Parallel(n_jobs=1)]: Done 199 tasks      | elapsed:    0.0s\n",
      "[Parallel(n_jobs=1)]: Done  49 tasks      | elapsed:    0.0s\n"
     ]
    },
    {
     "name": "stdout",
     "output_type": "stream",
     "text": [
      "Accuracy: 0.8842975206611571\n",
      "F1 macro: 0.8840996168582376\n",
      "F1 micro: 0.8842975206611571\n",
      "F1 weighted: 0.8842183591399893\n",
      "Kappa: 0.7682626538987688\n",
      "-------------Iteration 9/10\n",
      "300 121\n",
      "random_state = 50\n",
      "Accuracy: 0.8925619834710744\n",
      "F1 macro: 0.8925326228052197\n",
      "F1 micro: 0.8925619834710744\n",
      "F1 weighted: 0.8925766638040018\n",
      "Kappa: 0.7850799289520426\n",
      "-------------Iteration 10/10\n",
      "300 121\n",
      "random_state = 51\n",
      "Accuracy: 0.8512396694214877\n",
      "F1 macro: 0.8512295081967213\n",
      "F1 micro: 0.8512396694214877\n",
      "F1 weighted: 0.8512599918710201\n",
      "Kappa: 0.7025402895383774\n"
     ]
    },
    {
     "name": "stderr",
     "output_type": "stream",
     "text": [
      "[Parallel(n_jobs=1)]: Done 199 tasks      | elapsed:    0.1s\n",
      "[Parallel(n_jobs=1)]: Done  49 tasks      | elapsed:    0.0s\n",
      "[Parallel(n_jobs=1)]: Done 199 tasks      | elapsed:    0.0s\n",
      "[Parallel(n_jobs=1)]: Done  49 tasks      | elapsed:    0.0s\n",
      "[Parallel(n_jobs=1)]: Done 199 tasks      | elapsed:    0.1s\n",
      "[Parallel(n_jobs=1)]: Done  49 tasks      | elapsed:    0.0s\n",
      "[Parallel(n_jobs=1)]: Done 199 tasks      | elapsed:    0.0s\n"
     ]
    }
   ],
   "source": [
    "for n in range(iterations):\n",
    "    print(f\"-------------Iteration {n + 1}/{iterations}\")\n",
    "    random_state=42+n\n",
    "\n",
    "    X_train, y_train, X_test, y_test = prepare_dataset_classification(\n",
    "        df,\n",
    "        random_state=random_state,\n",
    "        train_size=train_size\n",
    "    )\n",
    "    print(f\"random_state = {random_state}\")\n",
    "\n",
    "    y_test, y_pred, acc, f1_macro, f1_micro, f1_weighted, kappa = train_and_evaluate_classifier(\n",
    "        X_train, \n",
    "        y_train, \n",
    "        X_test, \n",
    "        y_test, \n",
    "        random_state=random_state\n",
    "    )\n",
    "    \n",
    "    y_test_all.append(y_test)\n",
    "    y_pred_all.append(y_pred)    \n",
    "    acc_scores.append(acc)\n",
    "    f1macro_scores.append(f1_macro)\n",
    "    f1micro_scores.append(f1_micro)\n",
    "    f1weighted_scores.append(f1_weighted)\n",
    "    kappa_scores.append(kappa)\n",
    "    print(f\"Accuracy: {acc}\")\n",
    "    print(f\"F1 macro: {f1_macro}\")\n",
    "    print(f\"F1 micro: {f1_micro}\")\n",
    "    print(f\"F1 weighted: {f1_weighted}\")\n",
    "    print(f\"Kappa: {kappa}\")"
   ]
  },
  {
   "cell_type": "code",
   "execution_count": 44,
   "metadata": {},
   "outputs": [
    {
     "name": "stdout",
     "output_type": "stream",
     "text": [
      "FINAL REPORT for training size = 300\n",
      "mean accuracy: 0.9008264462809918 +/- 0.03200812682816046\n",
      "mean F1 macro: 0.9006794213072584 +/- 0.03207304271422344\n",
      "mean F1 micro: 0.9008264462809918 +/- 0.03200812682816046\n",
      "mean F1 weighted: 0.9007585141408043 +/- 0.03204216754665122\n",
      "mean Kappa: 0.8014587563074096 +/- 0.0640999012310485\n"
     ]
    }
   ],
   "source": [
    "print(f\"FINAL REPORT for training size = {train_size}\")\n",
    "\n",
    "print(f\"mean accuracy: {np.mean(acc_scores)} +/- {np.std(acc_scores)}\")\n",
    "print(f\"mean F1 macro: {np.mean(f1macro_scores)} +/- {np.std(f1macro_scores)}\")\n",
    "print(f\"mean F1 micro: {np.mean(f1micro_scores)} +/- {np.std(f1micro_scores)}\")\n",
    "print(f\"mean F1 weighted: {np.mean(f1weighted_scores)} +/- {np.std(f1weighted_scores)}\")\n",
    "print(f\"mean Kappa: {np.mean(kappa_scores)} +/- {np.std(kappa_scores)}\")"
   ]
  },
  {
   "cell_type": "code",
   "execution_count": 45,
   "metadata": {},
   "outputs": [
    {
     "data": {
      "text/html": [
       "<div>\n",
       "<style scoped>\n",
       "    .dataframe tbody tr th:only-of-type {\n",
       "        vertical-align: middle;\n",
       "    }\n",
       "\n",
       "    .dataframe tbody tr th {\n",
       "        vertical-align: top;\n",
       "    }\n",
       "\n",
       "    .dataframe thead th {\n",
       "        text-align: right;\n",
       "    }\n",
       "</style>\n",
       "<table border=\"1\" class=\"dataframe\">\n",
       "  <thead>\n",
       "    <tr style=\"text-align: right;\">\n",
       "      <th></th>\n",
       "      <th>train_size</th>\n",
       "      <th>y_true</th>\n",
       "      <th>y_pred</th>\n",
       "      <th>accuracy</th>\n",
       "      <th>f1_macro</th>\n",
       "      <th>f1_micro</th>\n",
       "      <th>f1_weighted</th>\n",
       "      <th>kappa</th>\n",
       "    </tr>\n",
       "  </thead>\n",
       "  <tbody>\n",
       "    <tr>\n",
       "      <th>0</th>\n",
       "      <td>300</td>\n",
       "      <td>[0, 1, 0, 0, 1, 1, 1, 0, 1, 0, 1, 0, 0, 0, 1, ...</td>\n",
       "      <td>[0, 1, 0, 0, 1, 1, 0, 0, 1, 0, 1, 0, 0, 0, 1, ...</td>\n",
       "      <td>0.950413</td>\n",
       "      <td>0.950383</td>\n",
       "      <td>0.950413</td>\n",
       "      <td>0.950413</td>\n",
       "      <td>0.900765</td>\n",
       "    </tr>\n",
       "    <tr>\n",
       "      <th>1</th>\n",
       "      <td>300</td>\n",
       "      <td>[0, 1, 1, 0, 1, 0, 0, 1, 1, 0, 1, 0, 0, 1, 1, ...</td>\n",
       "      <td>[0, 1, 1, 0, 1, 0, 0, 1, 1, 0, 1, 0, 0, 0, 1, ...</td>\n",
       "      <td>0.933884</td>\n",
       "      <td>0.933662</td>\n",
       "      <td>0.933884</td>\n",
       "      <td>0.933757</td>\n",
       "      <td>0.867470</td>\n",
       "    </tr>\n",
       "    <tr>\n",
       "      <th>2</th>\n",
       "      <td>300</td>\n",
       "      <td>[0, 1, 0, 1, 1, 0, 1, 0, 0, 1, 0, 1, 0, 1, 0, ...</td>\n",
       "      <td>[0, 1, 0, 1, 0, 0, 0, 0, 0, 1, 0, 1, 0, 0, 0, ...</td>\n",
       "      <td>0.900826</td>\n",
       "      <td>0.900657</td>\n",
       "      <td>0.900826</td>\n",
       "      <td>0.900759</td>\n",
       "      <td>0.801368</td>\n",
       "    </tr>\n",
       "  </tbody>\n",
       "</table>\n",
       "</div>"
      ],
      "text/plain": [
       "   train_size                                             y_true  \\\n",
       "0         300  [0, 1, 0, 0, 1, 1, 1, 0, 1, 0, 1, 0, 0, 0, 1, ...   \n",
       "1         300  [0, 1, 1, 0, 1, 0, 0, 1, 1, 0, 1, 0, 0, 1, 1, ...   \n",
       "2         300  [0, 1, 0, 1, 1, 0, 1, 0, 0, 1, 0, 1, 0, 1, 0, ...   \n",
       "\n",
       "                                              y_pred  accuracy  f1_macro  \\\n",
       "0  [0, 1, 0, 0, 1, 1, 0, 0, 1, 0, 1, 0, 0, 0, 1, ...  0.950413  0.950383   \n",
       "1  [0, 1, 1, 0, 1, 0, 0, 1, 1, 0, 1, 0, 0, 0, 1, ...  0.933884  0.933662   \n",
       "2  [0, 1, 0, 1, 0, 0, 0, 0, 0, 1, 0, 1, 0, 0, 0, ...  0.900826  0.900657   \n",
       "\n",
       "   f1_micro  f1_weighted     kappa  \n",
       "0  0.950413     0.950413  0.900765  \n",
       "1  0.933884     0.933757  0.867470  \n",
       "2  0.900826     0.900759  0.801368  "
      ]
     },
     "execution_count": 45,
     "metadata": {},
     "output_type": "execute_result"
    }
   ],
   "source": [
    "compiled_res_300 = pd.DataFrame(metrics_dict())\n",
    "compiled_res_300.head(3)"
   ]
  },
  {
   "cell_type": "markdown",
   "metadata": {},
   "source": [
    "### training size = 380"
   ]
  },
  {
   "cell_type": "code",
   "execution_count": 46,
   "metadata": {},
   "outputs": [],
   "source": [
    "train_size = 380\n",
    "iterations = 10\n",
    "y_test_all = []\n",
    "y_pred_all = []\n",
    "acc_scores = []\n",
    "f1macro_scores = []\n",
    "f1micro_scores = []\n",
    "f1weighted_scores = []\n",
    "kappa_scores = []"
   ]
  },
  {
   "cell_type": "code",
   "execution_count": 47,
   "metadata": {
    "scrolled": true
   },
   "outputs": [
    {
     "name": "stdout",
     "output_type": "stream",
     "text": [
      "-------------Iteration 1/10\n",
      "380 41\n",
      "random_state = 42\n",
      "Accuracy: 0.975609756097561\n",
      "F1 macro: 0.975551580202743\n",
      "F1 micro: 0.975609756097561\n",
      "F1 weighted: 0.975580668150152\n",
      "Kappa: 0.9511323003575686\n",
      "-------------Iteration 2/10\n",
      "380 41\n",
      "random_state = 43\n"
     ]
    },
    {
     "name": "stderr",
     "output_type": "stream",
     "text": [
      "[Parallel(n_jobs=1)]: Done  49 tasks      | elapsed:    0.0s\n",
      "[Parallel(n_jobs=1)]: Done 199 tasks      | elapsed:    0.1s\n",
      "[Parallel(n_jobs=1)]: Done  49 tasks      | elapsed:    0.0s\n",
      "[Parallel(n_jobs=1)]: Done 199 tasks      | elapsed:    0.0s\n",
      "[Parallel(n_jobs=1)]: Done  49 tasks      | elapsed:    0.0s\n",
      "[Parallel(n_jobs=1)]: Done 199 tasks      | elapsed:    0.1s\n",
      "[Parallel(n_jobs=1)]: Done  49 tasks      | elapsed:    0.0s\n",
      "[Parallel(n_jobs=1)]: Done 199 tasks      | elapsed:    0.0s\n",
      "[Parallel(n_jobs=1)]: Done  49 tasks      | elapsed:    0.0s\n"
     ]
    },
    {
     "name": "stdout",
     "output_type": "stream",
     "text": [
      "Accuracy: 0.926829268292683\n",
      "F1 macro: 0.926654740608229\n",
      "F1 micro: 0.926829268292683\n",
      "F1 weighted: 0.9267420044504558\n",
      "Kappa: 0.8533969010727056\n",
      "-------------Iteration 3/10\n",
      "380 41\n",
      "random_state = 44\n"
     ]
    },
    {
     "name": "stderr",
     "output_type": "stream",
     "text": [
      "[Parallel(n_jobs=1)]: Done 199 tasks      | elapsed:    0.2s\n",
      "[Parallel(n_jobs=1)]: Done  49 tasks      | elapsed:    0.0s\n",
      "[Parallel(n_jobs=1)]: Done 199 tasks      | elapsed:    0.0s\n",
      "[Parallel(n_jobs=1)]: Done  49 tasks      | elapsed:    0.0s\n",
      "[Parallel(n_jobs=1)]: Done 199 tasks      | elapsed:    0.1s\n",
      "[Parallel(n_jobs=1)]: Done  49 tasks      | elapsed:    0.0s\n",
      "[Parallel(n_jobs=1)]: Done 199 tasks      | elapsed:    0.0s\n"
     ]
    },
    {
     "name": "stdout",
     "output_type": "stream",
     "text": [
      "Accuracy: 0.9024390243902439\n",
      "F1 macro: 0.9023809523809524\n",
      "F1 micro: 0.9024390243902439\n",
      "F1 weighted: 0.9023228803716609\n",
      "Kappa: 0.8052256532066508\n",
      "-------------Iteration 4/10\n",
      "380 41\n",
      "random_state = 45\n",
      "Accuracy: 0.9024390243902439\n",
      "F1 macro: 0.9023809523809524\n",
      "F1 micro: 0.9024390243902439\n",
      "F1 weighted: 0.9023228803716609\n",
      "Kappa: 0.8052256532066508\n",
      "-------------Iteration 5/10\n",
      "380 41\n",
      "random_state = 46\n"
     ]
    },
    {
     "name": "stderr",
     "output_type": "stream",
     "text": [
      "[Parallel(n_jobs=1)]: Done  49 tasks      | elapsed:    0.0s\n",
      "[Parallel(n_jobs=1)]: Done 199 tasks      | elapsed:    0.1s\n",
      "[Parallel(n_jobs=1)]: Done  49 tasks      | elapsed:    0.0s\n",
      "[Parallel(n_jobs=1)]: Done 199 tasks      | elapsed:    0.0s\n",
      "[Parallel(n_jobs=1)]: Done  49 tasks      | elapsed:    0.0s\n"
     ]
    },
    {
     "name": "stdout",
     "output_type": "stream",
     "text": [
      "Accuracy: 0.8292682926829268\n",
      "F1 macro: 0.8288610614192009\n",
      "F1 micro: 0.8292682926829268\n",
      "F1 weighted: 0.8290646770510638\n",
      "Kappa: 0.6579261025029798\n",
      "-------------Iteration 6/10\n",
      "380 41\n",
      "random_state = 47\n",
      "Accuracy: 0.9024390243902439\n",
      "F1 macro: 0.9019138755980861\n",
      "F1 micro: 0.9024390243902439\n",
      "F1 weighted: 0.902088925195472\n",
      "Kappa: 0.8042959427207637\n",
      "-------------Iteration 7/10\n",
      "380 41\n",
      "random_state = 48\n"
     ]
    },
    {
     "name": "stderr",
     "output_type": "stream",
     "text": [
      "[Parallel(n_jobs=1)]: Done 199 tasks      | elapsed:    0.1s\n",
      "[Parallel(n_jobs=1)]: Done  49 tasks      | elapsed:    0.0s\n",
      "[Parallel(n_jobs=1)]: Done 199 tasks      | elapsed:    0.0s\n",
      "[Parallel(n_jobs=1)]: Done  49 tasks      | elapsed:    0.0s\n",
      "[Parallel(n_jobs=1)]: Done 199 tasks      | elapsed:    0.1s\n",
      "[Parallel(n_jobs=1)]: Done  49 tasks      | elapsed:    0.0s\n",
      "[Parallel(n_jobs=1)]: Done 199 tasks      | elapsed:    0.0s\n"
     ]
    },
    {
     "name": "stdout",
     "output_type": "stream",
     "text": [
      "Accuracy: 0.9512195121951219\n",
      "F1 macro: 0.9511904761904761\n",
      "F1 micro: 0.9512195121951219\n",
      "F1 weighted: 0.9512195121951219\n",
      "Kappa: 0.9023809523809524\n",
      "-------------Iteration 8/10\n",
      "380 41\n",
      "random_state = 49\n"
     ]
    },
    {
     "name": "stderr",
     "output_type": "stream",
     "text": [
      "[Parallel(n_jobs=1)]: Done  49 tasks      | elapsed:    0.0s\n",
      "[Parallel(n_jobs=1)]: Done 199 tasks      | elapsed:    0.1s\n",
      "[Parallel(n_jobs=1)]: Done  49 tasks      | elapsed:    0.0s\n",
      "[Parallel(n_jobs=1)]: Done 199 tasks      | elapsed:    0.0s\n",
      "[Parallel(n_jobs=1)]: Done  49 tasks      | elapsed:    0.0s\n"
     ]
    },
    {
     "name": "stdout",
     "output_type": "stream",
     "text": [
      "Accuracy: 0.9512195121951219\n",
      "F1 macro: 0.9511904761904761\n",
      "F1 micro: 0.9512195121951219\n",
      "F1 weighted: 0.9512195121951219\n",
      "Kappa: 0.9023809523809524\n",
      "-------------Iteration 9/10\n",
      "380 41\n",
      "random_state = 50\n",
      "Accuracy: 0.9512195121951219\n",
      "F1 macro: 0.9511904761904761\n",
      "F1 micro: 0.9512195121951219\n",
      "F1 weighted: 0.9511614401858304\n",
      "Kappa: 0.9026128266033254\n",
      "-------------Iteration 10/10\n",
      "380 41\n",
      "random_state = 51\n",
      "Accuracy: 0.8780487804878049\n",
      "F1 macro: 0.877757901013715\n",
      "F1 micro: 0.8780487804878049\n",
      "F1 weighted: 0.87790334075076\n",
      "Kappa: 0.7556615017878427\n"
     ]
    },
    {
     "name": "stderr",
     "output_type": "stream",
     "text": [
      "[Parallel(n_jobs=1)]: Done 199 tasks      | elapsed:    0.1s\n",
      "[Parallel(n_jobs=1)]: Done  49 tasks      | elapsed:    0.0s\n",
      "[Parallel(n_jobs=1)]: Done 199 tasks      | elapsed:    0.0s\n",
      "[Parallel(n_jobs=1)]: Done  49 tasks      | elapsed:    0.0s\n",
      "[Parallel(n_jobs=1)]: Done 199 tasks      | elapsed:    0.1s\n",
      "[Parallel(n_jobs=1)]: Done  49 tasks      | elapsed:    0.0s\n",
      "[Parallel(n_jobs=1)]: Done 199 tasks      | elapsed:    0.0s\n"
     ]
    }
   ],
   "source": [
    "for n in range(iterations):\n",
    "    print(f\"-------------Iteration {n + 1}/{iterations}\")\n",
    "    random_state=42+n\n",
    "\n",
    "    X_train, y_train, X_test, y_test = prepare_dataset_classification(\n",
    "        df,\n",
    "        random_state=random_state,\n",
    "        train_size=train_size\n",
    "    )\n",
    "    print(f\"random_state = {random_state}\")\n",
    "\n",
    "    y_test, y_pred, acc, f1_macro, f1_micro, f1_weighted, kappa = train_and_evaluate_classifier(\n",
    "        X_train, \n",
    "        y_train, \n",
    "        X_test, \n",
    "        y_test, \n",
    "        random_state=random_state\n",
    "    )\n",
    "    \n",
    "    y_test_all.append(y_test)\n",
    "    y_pred_all.append(y_pred)    \n",
    "    acc_scores.append(acc)\n",
    "    f1macro_scores.append(f1_macro)\n",
    "    f1micro_scores.append(f1_micro)\n",
    "    f1weighted_scores.append(f1_weighted)\n",
    "    kappa_scores.append(kappa)\n",
    "    print(f\"Accuracy: {acc}\")\n",
    "    print(f\"F1 macro: {f1_macro}\")\n",
    "    print(f\"F1 micro: {f1_micro}\")\n",
    "    print(f\"F1 weighted: {f1_weighted}\")\n",
    "    print(f\"Kappa: {kappa}\")"
   ]
  },
  {
   "cell_type": "code",
   "execution_count": 48,
   "metadata": {},
   "outputs": [
    {
     "name": "stdout",
     "output_type": "stream",
     "text": [
      "FINAL REPORT for training size = 380\n",
      "mean accuracy: 0.9170731707317075 +/- 0.04110316962525052\n",
      "mean F1 macro: 0.9169072492175306 +/- 0.04122113608673801\n",
      "mean F1 micro: 0.9170731707317075 +/- 0.04110316962525052\n",
      "mean F1 weighted: 0.91696258409173 +/- 0.041170240437752546\n",
      "mean Kappa: 0.8340238786220393 +/- 0.0823608122200647\n"
     ]
    }
   ],
   "source": [
    "print(f\"FINAL REPORT for training size = {train_size}\")\n",
    "\n",
    "print(f\"mean accuracy: {np.mean(acc_scores)} +/- {np.std(acc_scores)}\")\n",
    "print(f\"mean F1 macro: {np.mean(f1macro_scores)} +/- {np.std(f1macro_scores)}\")\n",
    "print(f\"mean F1 micro: {np.mean(f1micro_scores)} +/- {np.std(f1micro_scores)}\")\n",
    "print(f\"mean F1 weighted: {np.mean(f1weighted_scores)} +/- {np.std(f1weighted_scores)}\")\n",
    "print(f\"mean Kappa: {np.mean(kappa_scores)} +/- {np.std(kappa_scores)}\")"
   ]
  },
  {
   "cell_type": "code",
   "execution_count": 49,
   "metadata": {},
   "outputs": [
    {
     "data": {
      "text/html": [
       "<div>\n",
       "<style scoped>\n",
       "    .dataframe tbody tr th:only-of-type {\n",
       "        vertical-align: middle;\n",
       "    }\n",
       "\n",
       "    .dataframe tbody tr th {\n",
       "        vertical-align: top;\n",
       "    }\n",
       "\n",
       "    .dataframe thead th {\n",
       "        text-align: right;\n",
       "    }\n",
       "</style>\n",
       "<table border=\"1\" class=\"dataframe\">\n",
       "  <thead>\n",
       "    <tr style=\"text-align: right;\">\n",
       "      <th></th>\n",
       "      <th>train_size</th>\n",
       "      <th>y_true</th>\n",
       "      <th>y_pred</th>\n",
       "      <th>accuracy</th>\n",
       "      <th>f1_macro</th>\n",
       "      <th>f1_micro</th>\n",
       "      <th>f1_weighted</th>\n",
       "      <th>kappa</th>\n",
       "    </tr>\n",
       "  </thead>\n",
       "  <tbody>\n",
       "    <tr>\n",
       "      <th>0</th>\n",
       "      <td>380</td>\n",
       "      <td>[1, 1, 1, 0, 1, 1, 1, 1, 0, 1, 0, 1, 0, 0, 1, ...</td>\n",
       "      <td>[1, 1, 1, 0, 1, 1, 0, 1, 0, 1, 0, 1, 0, 0, 1, ...</td>\n",
       "      <td>0.975610</td>\n",
       "      <td>0.975552</td>\n",
       "      <td>0.975610</td>\n",
       "      <td>0.975581</td>\n",
       "      <td>0.951132</td>\n",
       "    </tr>\n",
       "    <tr>\n",
       "      <th>1</th>\n",
       "      <td>380</td>\n",
       "      <td>[0, 1, 1, 0, 0, 0, 0, 0, 1, 0, 0, 1, 0, 1, 0, ...</td>\n",
       "      <td>[0, 1, 1, 0, 0, 0, 0, 0, 1, 0, 0, 1, 0, 1, 0, ...</td>\n",
       "      <td>0.926829</td>\n",
       "      <td>0.926655</td>\n",
       "      <td>0.926829</td>\n",
       "      <td>0.926742</td>\n",
       "      <td>0.853397</td>\n",
       "    </tr>\n",
       "    <tr>\n",
       "      <th>2</th>\n",
       "      <td>380</td>\n",
       "      <td>[1, 1, 0, 1, 1, 0, 0, 0, 0, 0, 0, 0, 1, 1, 1, ...</td>\n",
       "      <td>[1, 1, 0, 1, 1, 0, 0, 0, 0, 1, 0, 0, 1, 1, 1, ...</td>\n",
       "      <td>0.902439</td>\n",
       "      <td>0.902381</td>\n",
       "      <td>0.902439</td>\n",
       "      <td>0.902323</td>\n",
       "      <td>0.805226</td>\n",
       "    </tr>\n",
       "  </tbody>\n",
       "</table>\n",
       "</div>"
      ],
      "text/plain": [
       "   train_size                                             y_true  \\\n",
       "0         380  [1, 1, 1, 0, 1, 1, 1, 1, 0, 1, 0, 1, 0, 0, 1, ...   \n",
       "1         380  [0, 1, 1, 0, 0, 0, 0, 0, 1, 0, 0, 1, 0, 1, 0, ...   \n",
       "2         380  [1, 1, 0, 1, 1, 0, 0, 0, 0, 0, 0, 0, 1, 1, 1, ...   \n",
       "\n",
       "                                              y_pred  accuracy  f1_macro  \\\n",
       "0  [1, 1, 1, 0, 1, 1, 0, 1, 0, 1, 0, 1, 0, 0, 1, ...  0.975610  0.975552   \n",
       "1  [0, 1, 1, 0, 0, 0, 0, 0, 1, 0, 0, 1, 0, 1, 0, ...  0.926829  0.926655   \n",
       "2  [1, 1, 0, 1, 1, 0, 0, 0, 0, 1, 0, 0, 1, 1, 1, ...  0.902439  0.902381   \n",
       "\n",
       "   f1_micro  f1_weighted     kappa  \n",
       "0  0.975610     0.975581  0.951132  \n",
       "1  0.926829     0.926742  0.853397  \n",
       "2  0.902439     0.902323  0.805226  "
      ]
     },
     "execution_count": 49,
     "metadata": {},
     "output_type": "execute_result"
    }
   ],
   "source": [
    "compiled_res_380 = pd.DataFrame(metrics_dict())\n",
    "compiled_res_380.head(3)"
   ]
  },
  {
   "cell_type": "code",
   "execution_count": 50,
   "metadata": {},
   "outputs": [
    {
     "name": "stdout",
     "output_type": "stream",
     "text": [
      "50\n"
     ]
    },
    {
     "data": {
      "text/html": [
       "<div>\n",
       "<style scoped>\n",
       "    .dataframe tbody tr th:only-of-type {\n",
       "        vertical-align: middle;\n",
       "    }\n",
       "\n",
       "    .dataframe tbody tr th {\n",
       "        vertical-align: top;\n",
       "    }\n",
       "\n",
       "    .dataframe thead th {\n",
       "        text-align: right;\n",
       "    }\n",
       "</style>\n",
       "<table border=\"1\" class=\"dataframe\">\n",
       "  <thead>\n",
       "    <tr style=\"text-align: right;\">\n",
       "      <th></th>\n",
       "      <th>train_size</th>\n",
       "      <th>y_true</th>\n",
       "      <th>y_pred</th>\n",
       "      <th>accuracy</th>\n",
       "      <th>f1_macro</th>\n",
       "      <th>f1_micro</th>\n",
       "      <th>f1_weighted</th>\n",
       "      <th>kappa</th>\n",
       "    </tr>\n",
       "  </thead>\n",
       "  <tbody>\n",
       "    <tr>\n",
       "      <th>0</th>\n",
       "      <td>50</td>\n",
       "      <td>[0, 1, 1, 1, 0, 1, 1, 1, 0, 0, 0, 0, 1, 1, 0, ...</td>\n",
       "      <td>[1, 1, 0, 0, 1, 1, 1, 0, 0, 0, 0, 0, 1, 1, 1, ...</td>\n",
       "      <td>0.789757</td>\n",
       "      <td>0.789683</td>\n",
       "      <td>0.789757</td>\n",
       "      <td>0.789608</td>\n",
       "      <td>0.579963</td>\n",
       "    </tr>\n",
       "    <tr>\n",
       "      <th>1</th>\n",
       "      <td>50</td>\n",
       "      <td>[1, 1, 1, 1, 1, 1, 0, 0, 0, 1, 1, 0, 1, 0, 0, ...</td>\n",
       "      <td>[1, 1, 1, 1, 1, 1, 1, 0, 0, 1, 1, 0, 1, 0, 0, ...</td>\n",
       "      <td>0.838275</td>\n",
       "      <td>0.838133</td>\n",
       "      <td>0.838275</td>\n",
       "      <td>0.838042</td>\n",
       "      <td>0.677026</td>\n",
       "    </tr>\n",
       "    <tr>\n",
       "      <th>2</th>\n",
       "      <td>50</td>\n",
       "      <td>[1, 0, 1, 0, 0, 0, 1, 1, 1, 1, 0, 0, 1, 1, 1, ...</td>\n",
       "      <td>[1, 0, 1, 0, 1, 0, 1, 0, 1, 1, 0, 1, 1, 1, 1, ...</td>\n",
       "      <td>0.787062</td>\n",
       "      <td>0.786839</td>\n",
       "      <td>0.787062</td>\n",
       "      <td>0.786709</td>\n",
       "      <td>0.574794</td>\n",
       "    </tr>\n",
       "    <tr>\n",
       "      <th>3</th>\n",
       "      <td>50</td>\n",
       "      <td>[0, 1, 0, 0, 0, 1, 0, 1, 0, 1, 1, 0, 1, 0, 1, ...</td>\n",
       "      <td>[0, 1, 1, 0, 1, 1, 0, 1, 1, 1, 1, 0, 1, 0, 1, ...</td>\n",
       "      <td>0.808625</td>\n",
       "      <td>0.808625</td>\n",
       "      <td>0.808625</td>\n",
       "      <td>0.808625</td>\n",
       "      <td>0.617387</td>\n",
       "    </tr>\n",
       "    <tr>\n",
       "      <th>4</th>\n",
       "      <td>50</td>\n",
       "      <td>[0, 1, 0, 0, 0, 0, 0, 0, 1, 0, 0, 0, 0, 0, 1, ...</td>\n",
       "      <td>[0, 1, 0, 0, 1, 0, 0, 0, 1, 0, 0, 0, 1, 0, 1, ...</td>\n",
       "      <td>0.743935</td>\n",
       "      <td>0.743667</td>\n",
       "      <td>0.743935</td>\n",
       "      <td>0.743824</td>\n",
       "      <td>0.487427</td>\n",
       "    </tr>\n",
       "  </tbody>\n",
       "</table>\n",
       "</div>"
      ],
      "text/plain": [
       "   train_size                                             y_true  \\\n",
       "0          50  [0, 1, 1, 1, 0, 1, 1, 1, 0, 0, 0, 0, 1, 1, 0, ...   \n",
       "1          50  [1, 1, 1, 1, 1, 1, 0, 0, 0, 1, 1, 0, 1, 0, 0, ...   \n",
       "2          50  [1, 0, 1, 0, 0, 0, 1, 1, 1, 1, 0, 0, 1, 1, 1, ...   \n",
       "3          50  [0, 1, 0, 0, 0, 1, 0, 1, 0, 1, 1, 0, 1, 0, 1, ...   \n",
       "4          50  [0, 1, 0, 0, 0, 0, 0, 0, 1, 0, 0, 0, 0, 0, 1, ...   \n",
       "\n",
       "                                              y_pred  accuracy  f1_macro  \\\n",
       "0  [1, 1, 0, 0, 1, 1, 1, 0, 0, 0, 0, 0, 1, 1, 1, ...  0.789757  0.789683   \n",
       "1  [1, 1, 1, 1, 1, 1, 1, 0, 0, 1, 1, 0, 1, 0, 0, ...  0.838275  0.838133   \n",
       "2  [1, 0, 1, 0, 1, 0, 1, 0, 1, 1, 0, 1, 1, 1, 1, ...  0.787062  0.786839   \n",
       "3  [0, 1, 1, 0, 1, 1, 0, 1, 1, 1, 1, 0, 1, 0, 1, ...  0.808625  0.808625   \n",
       "4  [0, 1, 0, 0, 1, 0, 0, 0, 1, 0, 0, 0, 1, 0, 1, ...  0.743935  0.743667   \n",
       "\n",
       "   f1_micro  f1_weighted     kappa  \n",
       "0  0.789757     0.789608  0.579963  \n",
       "1  0.838275     0.838042  0.677026  \n",
       "2  0.787062     0.786709  0.574794  \n",
       "3  0.808625     0.808625  0.617387  \n",
       "4  0.743935     0.743824  0.487427  "
      ]
     },
     "execution_count": 50,
     "metadata": {},
     "output_type": "execute_result"
    }
   ],
   "source": [
    "compiled_res = pd.concat([\n",
    "    compiled_res_50,\n",
    "    compiled_res_100, \n",
    "    compiled_res_200,\n",
    "    compiled_res_300,\n",
    "    compiled_res_380,\n",
    "], ignore_index=True)\n",
    "print(len(compiled_res))\n",
    "compiled_res.head()"
   ]
  },
  {
   "cell_type": "code",
   "execution_count": 51,
   "metadata": {},
   "outputs": [],
   "source": [
    "compiled_res[\"y_true\"] = compiled_res[\"y_true\"].apply(lambda arr: list(arr))\n",
    "compiled_res[\"y_pred\"] = compiled_res[\"y_pred\"].apply(lambda arr: list(arr))"
   ]
  },
  {
   "cell_type": "code",
   "execution_count": 52,
   "metadata": {},
   "outputs": [],
   "source": [
    "compiled_res.to_csv(\"RF_results_CO2ads_2bins_5050.csv\", sep=\",\", index=False)"
   ]
  },
  {
   "cell_type": "code",
   "execution_count": 53,
   "metadata": {},
   "outputs": [
    {
     "name": "stdout",
     "output_type": "stream",
     "text": [
      "<class 'pandas.core.frame.DataFrame'>\n",
      "RangeIndex: 50 entries, 0 to 49\n",
      "Data columns (total 8 columns):\n",
      " #   Column       Non-Null Count  Dtype  \n",
      "---  ------       --------------  -----  \n",
      " 0   train_size   50 non-null     int64  \n",
      " 1   y_true       50 non-null     object \n",
      " 2   y_pred       50 non-null     object \n",
      " 3   accuracy     50 non-null     float64\n",
      " 4   f1_macro     50 non-null     float64\n",
      " 5   f1_micro     50 non-null     float64\n",
      " 6   f1_weighted  50 non-null     float64\n",
      " 7   kappa        50 non-null     float64\n",
      "dtypes: float64(5), int64(1), object(2)\n",
      "memory usage: 3.2+ KB\n"
     ]
    }
   ],
   "source": [
    "df = pd.read_csv(\"RF_results_CO2ads_2bins_5050.csv\", sep=',')\n",
    "df.info()"
   ]
  },
  {
   "cell_type": "code",
   "execution_count": 54,
   "metadata": {},
   "outputs": [
    {
     "data": {
      "text/html": [
       "<div>\n",
       "<style scoped>\n",
       "    .dataframe tbody tr th:only-of-type {\n",
       "        vertical-align: middle;\n",
       "    }\n",
       "\n",
       "    .dataframe tbody tr th {\n",
       "        vertical-align: top;\n",
       "    }\n",
       "\n",
       "    .dataframe thead th {\n",
       "        text-align: right;\n",
       "    }\n",
       "</style>\n",
       "<table border=\"1\" class=\"dataframe\">\n",
       "  <thead>\n",
       "    <tr style=\"text-align: right;\">\n",
       "      <th></th>\n",
       "      <th>train_size</th>\n",
       "      <th>y_true</th>\n",
       "      <th>y_pred</th>\n",
       "      <th>accuracy</th>\n",
       "      <th>f1_macro</th>\n",
       "      <th>f1_micro</th>\n",
       "      <th>f1_weighted</th>\n",
       "      <th>kappa</th>\n",
       "    </tr>\n",
       "  </thead>\n",
       "  <tbody>\n",
       "    <tr>\n",
       "      <th>0</th>\n",
       "      <td>50</td>\n",
       "      <td>[0, 1, 1, 1, 0, 1, 1, 1, 0, 0, 0, 0, 1, 1, 0, ...</td>\n",
       "      <td>[1, 1, 0, 0, 1, 1, 1, 0, 0, 0, 0, 0, 1, 1, 1, ...</td>\n",
       "      <td>0.789757</td>\n",
       "      <td>0.789683</td>\n",
       "      <td>0.789757</td>\n",
       "      <td>0.789608</td>\n",
       "      <td>0.579963</td>\n",
       "    </tr>\n",
       "    <tr>\n",
       "      <th>1</th>\n",
       "      <td>50</td>\n",
       "      <td>[1, 1, 1, 1, 1, 1, 0, 0, 0, 1, 1, 0, 1, 0, 0, ...</td>\n",
       "      <td>[1, 1, 1, 1, 1, 1, 1, 0, 0, 1, 1, 0, 1, 0, 0, ...</td>\n",
       "      <td>0.838275</td>\n",
       "      <td>0.838133</td>\n",
       "      <td>0.838275</td>\n",
       "      <td>0.838042</td>\n",
       "      <td>0.677026</td>\n",
       "    </tr>\n",
       "    <tr>\n",
       "      <th>2</th>\n",
       "      <td>50</td>\n",
       "      <td>[1, 0, 1, 0, 0, 0, 1, 1, 1, 1, 0, 0, 1, 1, 1, ...</td>\n",
       "      <td>[1, 0, 1, 0, 1, 0, 1, 0, 1, 1, 0, 1, 1, 1, 1, ...</td>\n",
       "      <td>0.787062</td>\n",
       "      <td>0.786839</td>\n",
       "      <td>0.787062</td>\n",
       "      <td>0.786709</td>\n",
       "      <td>0.574794</td>\n",
       "    </tr>\n",
       "  </tbody>\n",
       "</table>\n",
       "</div>"
      ],
      "text/plain": [
       "   train_size                                             y_true  \\\n",
       "0          50  [0, 1, 1, 1, 0, 1, 1, 1, 0, 0, 0, 0, 1, 1, 0, ...   \n",
       "1          50  [1, 1, 1, 1, 1, 1, 0, 0, 0, 1, 1, 0, 1, 0, 0, ...   \n",
       "2          50  [1, 0, 1, 0, 0, 0, 1, 1, 1, 1, 0, 0, 1, 1, 1, ...   \n",
       "\n",
       "                                              y_pred  accuracy  f1_macro  \\\n",
       "0  [1, 1, 0, 0, 1, 1, 1, 0, 0, 0, 0, 0, 1, 1, 1, ...  0.789757  0.789683   \n",
       "1  [1, 1, 1, 1, 1, 1, 1, 0, 0, 1, 1, 0, 1, 0, 0, ...  0.838275  0.838133   \n",
       "2  [1, 0, 1, 0, 1, 0, 1, 0, 1, 1, 0, 1, 1, 1, 1, ...  0.787062  0.786839   \n",
       "\n",
       "   f1_micro  f1_weighted     kappa  \n",
       "0  0.789757     0.789608  0.579963  \n",
       "1  0.838275     0.838042  0.677026  \n",
       "2  0.787062     0.786709  0.574794  "
      ]
     },
     "execution_count": 54,
     "metadata": {},
     "output_type": "execute_result"
    }
   ],
   "source": [
    "df.head(3)"
   ]
  },
  {
   "cell_type": "code",
   "execution_count": 55,
   "metadata": {},
   "outputs": [
    {
     "data": {
      "text/html": [
       "<div>\n",
       "<style scoped>\n",
       "    .dataframe tbody tr th:only-of-type {\n",
       "        vertical-align: middle;\n",
       "    }\n",
       "\n",
       "    .dataframe tbody tr th {\n",
       "        vertical-align: top;\n",
       "    }\n",
       "\n",
       "    .dataframe thead tr th {\n",
       "        text-align: left;\n",
       "    }\n",
       "\n",
       "    .dataframe thead tr:last-of-type th {\n",
       "        text-align: right;\n",
       "    }\n",
       "</style>\n",
       "<table border=\"1\" class=\"dataframe\">\n",
       "  <thead>\n",
       "    <tr>\n",
       "      <th></th>\n",
       "      <th colspan=\"2\" halign=\"left\">accuracy</th>\n",
       "      <th colspan=\"2\" halign=\"left\">f1_macro</th>\n",
       "      <th colspan=\"2\" halign=\"left\">f1_micro</th>\n",
       "      <th colspan=\"2\" halign=\"left\">f1_weighted</th>\n",
       "      <th colspan=\"2\" halign=\"left\">kappa</th>\n",
       "    </tr>\n",
       "    <tr>\n",
       "      <th></th>\n",
       "      <th>mean</th>\n",
       "      <th>sem</th>\n",
       "      <th>mean</th>\n",
       "      <th>sem</th>\n",
       "      <th>mean</th>\n",
       "      <th>sem</th>\n",
       "      <th>mean</th>\n",
       "      <th>sem</th>\n",
       "      <th>mean</th>\n",
       "      <th>sem</th>\n",
       "    </tr>\n",
       "    <tr>\n",
       "      <th>train_size</th>\n",
       "      <th></th>\n",
       "      <th></th>\n",
       "      <th></th>\n",
       "      <th></th>\n",
       "      <th></th>\n",
       "      <th></th>\n",
       "      <th></th>\n",
       "      <th></th>\n",
       "      <th></th>\n",
       "      <th></th>\n",
       "    </tr>\n",
       "  </thead>\n",
       "  <tbody>\n",
       "    <tr>\n",
       "      <th>50</th>\n",
       "      <td>0.788679</td>\n",
       "      <td>0.009147</td>\n",
       "      <td>0.788477</td>\n",
       "      <td>0.009129</td>\n",
       "      <td>0.788679</td>\n",
       "      <td>0.009147</td>\n",
       "      <td>0.788408</td>\n",
       "      <td>0.009109</td>\n",
       "      <td>0.577784</td>\n",
       "      <td>0.018367</td>\n",
       "    </tr>\n",
       "    <tr>\n",
       "      <th>100</th>\n",
       "      <td>0.832399</td>\n",
       "      <td>0.003962</td>\n",
       "      <td>0.832333</td>\n",
       "      <td>0.003956</td>\n",
       "      <td>0.832399</td>\n",
       "      <td>0.003962</td>\n",
       "      <td>0.832334</td>\n",
       "      <td>0.003951</td>\n",
       "      <td>0.664873</td>\n",
       "      <td>0.007946</td>\n",
       "    </tr>\n",
       "    <tr>\n",
       "      <th>200</th>\n",
       "      <td>0.860181</td>\n",
       "      <td>0.004977</td>\n",
       "      <td>0.860030</td>\n",
       "      <td>0.004974</td>\n",
       "      <td>0.860181</td>\n",
       "      <td>0.004977</td>\n",
       "      <td>0.860062</td>\n",
       "      <td>0.004983</td>\n",
       "      <td>0.720283</td>\n",
       "      <td>0.009919</td>\n",
       "    </tr>\n",
       "    <tr>\n",
       "      <th>300</th>\n",
       "      <td>0.900826</td>\n",
       "      <td>0.010669</td>\n",
       "      <td>0.900679</td>\n",
       "      <td>0.010691</td>\n",
       "      <td>0.900826</td>\n",
       "      <td>0.010669</td>\n",
       "      <td>0.900759</td>\n",
       "      <td>0.010681</td>\n",
       "      <td>0.801459</td>\n",
       "      <td>0.021367</td>\n",
       "    </tr>\n",
       "    <tr>\n",
       "      <th>380</th>\n",
       "      <td>0.917073</td>\n",
       "      <td>0.013701</td>\n",
       "      <td>0.916907</td>\n",
       "      <td>0.013740</td>\n",
       "      <td>0.917073</td>\n",
       "      <td>0.013701</td>\n",
       "      <td>0.916963</td>\n",
       "      <td>0.013723</td>\n",
       "      <td>0.834024</td>\n",
       "      <td>0.027454</td>\n",
       "    </tr>\n",
       "  </tbody>\n",
       "</table>\n",
       "</div>"
      ],
      "text/plain": [
       "            accuracy            f1_macro            f1_micro            \\\n",
       "                mean       sem      mean       sem      mean       sem   \n",
       "train_size                                                               \n",
       "50          0.788679  0.009147  0.788477  0.009129  0.788679  0.009147   \n",
       "100         0.832399  0.003962  0.832333  0.003956  0.832399  0.003962   \n",
       "200         0.860181  0.004977  0.860030  0.004974  0.860181  0.004977   \n",
       "300         0.900826  0.010669  0.900679  0.010691  0.900826  0.010669   \n",
       "380         0.917073  0.013701  0.916907  0.013740  0.917073  0.013701   \n",
       "\n",
       "           f1_weighted               kappa            \n",
       "                  mean       sem      mean       sem  \n",
       "train_size                                            \n",
       "50            0.788408  0.009109  0.577784  0.018367  \n",
       "100           0.832334  0.003951  0.664873  0.007946  \n",
       "200           0.860062  0.004983  0.720283  0.009919  \n",
       "300           0.900759  0.010681  0.801459  0.021367  \n",
       "380           0.916963  0.013723  0.834024  0.027454  "
      ]
     },
     "execution_count": 55,
     "metadata": {},
     "output_type": "execute_result"
    }
   ],
   "source": [
    "grouped_res = df.select_dtypes(include = [\"int\", \"float\"]).groupby(['train_size']).agg(['mean', 'sem'])\n",
    "grouped_res"
   ]
  },
  {
   "cell_type": "code",
   "execution_count": 56,
   "metadata": {},
   "outputs": [],
   "source": [
    "conf_mats = []\n",
    "for i in np.arange(len(df)):\n",
    "    confusion_matrix = {\n",
    "        'all_y_true': literal_eval(df[\"y_true\"][i]),\n",
    "        'all_y_pred': literal_eval(df[\"y_pred\"][i])\n",
    "    }\n",
    "    conf_mats.append(confusion_matrix)"
   ]
  },
  {
   "cell_type": "code",
   "execution_count": 57,
   "metadata": {},
   "outputs": [
    {
     "name": "stdout",
     "output_type": "stream",
     "text": [
      "[[0.91904762 0.08095238]\n",
      " [0.085      0.915     ]]\n",
      "accuracy: 0.9170731707317074\n"
     ]
    },
    {
     "data": {
      "image/png": "[encoded data removed]",
      "text/plain": [
       "<Figure size 330x250 with 2 Axes>"
      ]
     },
     "metadata": {},
     "output_type": "display_data"
    }
   ],
   "source": [
    "index_maxsize = compiled_res[compiled_res[\"train_size\"]==max(compiled_res[\"train_size\"])].index\n",
    "conf_mats_max = [conf_mats[i] for i in index_maxsize]\n",
    "\n",
    "actual_all, predicted_all = [], []\n",
    "for index, _ in enumerate(conf_mats_max):\n",
    "    preds = conf_mats_max[index]\n",
    "    actual = preds[\"all_y_true\"]\n",
    "    predicted = preds[\"all_y_pred\"]\n",
    "    \n",
    "    for true, pred in zip(actual, predicted):\n",
    "        actual_all.append(true)\n",
    "        predicted_all.append(pred)\n",
    "\n",
    "confusion_matrix = metrics.confusion_matrix(actual_all, predicted_all)\n",
    "confusion_matrix_norm = confusion_matrix.astype(\"float\") / confusion_matrix.sum(axis=1)[:, np.newaxis]\n",
    "print(confusion_matrix_norm)\n",
    "\n",
    "cm = pycm.ConfusionMatrix(list(actual_all), list(predicted_all))\n",
    "acc = cm.Overall_ACC\n",
    "\n",
    "print(f'accuracy: {acc}')\n",
    "\n",
    "cm_display = metrics.ConfusionMatrixDisplay(\n",
    "    confusion_matrix = confusion_matrix_norm, display_labels = [0, 1])\n",
    "cm_display.plot(cmap=plt.cm.Blues, include_values=True, values_format=\".2f\")\n",
    "#plt.savefig('classif_CO2ads_confusionMatrix_50_50_size380_RF.pdf', bbox_inches='tight')"
   ]
  },
  {
   "cell_type": "code",
   "execution_count": null,
   "metadata": {},
   "outputs": [],
   "source": []
  },
  {
   "cell_type": "code",
   "execution_count": null,
   "metadata": {},
   "outputs": [],
   "source": []
  },
  {
   "cell_type": "code",
   "execution_count": null,
   "metadata": {},
   "outputs": [],
   "source": []
  },
  {
   "cell_type": "code",
   "execution_count": null,
   "metadata": {},
   "outputs": [],
   "source": []
  }
 ],
 "metadata": {
  "kernelspec": {
   "display_name": "Python [conda env:debyecalculator_env]",
   "language": "python",
   "name": "conda-env-debyecalculator_env-py"
  },
  "language_info": {
   "codemirror_mode": {
    "name": "ipython",
    "version": 3
   },
   "file_extension": ".py",
   "mimetype": "text/x-python",
   "name": "python",
   "nbconvert_exporter": "python",
   "pygments_lexer": "ipython3",
   "version": "3.9.19"
  }
 },
 "nbformat": 4,
 "nbformat_minor": 2
}
