{
 "cells": [
  {
   "cell_type": "markdown",
   "metadata": {},
   "source": [
    "## Random Forest - BET - 2bins - 50/50"
   ]
  },
  {
   "cell_type": "code",
   "execution_count": 1,
   "metadata": {},
   "outputs": [],
   "source": [
    "import pandas as pd\n",
    "import numpy as np\n",
    "from sklearn.model_selection import train_test_split\n",
    "from sklearn.preprocessing import LabelEncoder, OneHotEncoder\n",
    "from sklearn.metrics import accuracy_score, f1_score, cohen_kappa_score, r2_score, mean_absolute_error, root_mean_squared_error\n",
    "from sklearn.ensemble import RandomForestClassifier\n",
    "import matplotlib.pyplot as plt\n",
    "from sklearn import metrics\n",
    "import pycm\n",
    "from ast import literal_eval\n",
    "import sys\n",
    "sys.path.append(\"../plotutils/\")\n",
    "from plotutils import *\n",
    "plt.style.use(\"../plotutils/your.mplstyle\")"
   ]
  },
  {
   "cell_type": "code",
   "execution_count": 2,
   "metadata": {
    "scrolled": true
   },
   "outputs": [
    {
     "name": "stdout",
     "output_type": "stream",
     "text": [
      "<class 'pandas.core.frame.DataFrame'>\n",
      "RangeIndex: 74 entries, 0 to 73\n",
      "Data columns (total 9 columns):\n",
      " #   Column                  Non-Null Count  Dtype  \n",
      "---  ------                  --------------  -----  \n",
      " 0   Precursor               74 non-null     object \n",
      " 1   Activator               74 non-null     object \n",
      " 2   Activator_carbon_ratio  74 non-null     object \n",
      " 3   Activation T (K)        74 non-null     int64  \n",
      " 4   Pore volume (cm3/g)     74 non-null     float64\n",
      " 5   BET (m2/g)              74 non-null     float64\n",
      " 6   BET_2bins_5050          74 non-null     int64  \n",
      " 7   BET_7426                74 non-null     int64  \n",
      " 8   synthesis               74 non-null     object \n",
      "dtypes: float64(2), int64(3), object(4)\n",
      "memory usage: 5.3+ KB\n"
     ]
    }
   ],
   "source": [
    "df = pd.read_csv(f\"../BET_dataset.csv\", sep=';')\n",
    "df.info()"
   ]
  },
  {
   "cell_type": "code",
   "execution_count": 3,
   "metadata": {},
   "outputs": [
    {
     "data": {
      "text/plain": [
       "array(['4', '1.5', '0.5', '1', '2', '3', '5', 'none', '6', '2.5', '1.25',\n",
       "       '8'], dtype=object)"
      ]
     },
     "execution_count": 3,
     "metadata": {},
     "output_type": "execute_result"
    }
   ],
   "source": [
    "df[\"Activator_carbon_ratio\"].unique()"
   ]
  },
  {
   "cell_type": "code",
   "execution_count": 4,
   "metadata": {},
   "outputs": [],
   "source": [
    "df[\"Activator_carbon_ratio\"] = df['Activator_carbon_ratio'].replace('none', 0)"
   ]
  },
  {
   "cell_type": "code",
   "execution_count": 5,
   "metadata": {},
   "outputs": [],
   "source": [
    "df[\"Activator_carbon_ratio\"] = pd.to_numeric(df[\"Activator_carbon_ratio\"])"
   ]
  },
  {
   "cell_type": "code",
   "execution_count": 6,
   "metadata": {},
   "outputs": [
    {
     "data": {
      "text/plain": [
       "array([4.  , 1.5 , 0.5 , 1.  , 2.  , 3.  , 5.  , 0.  , 6.  , 2.5 , 1.25,\n",
       "       8.  ])"
      ]
     },
     "execution_count": 6,
     "metadata": {},
     "output_type": "execute_result"
    }
   ],
   "source": [
    "df[\"Activator_carbon_ratio\"].unique()"
   ]
  },
  {
   "cell_type": "code",
   "execution_count": 7,
   "metadata": {
    "scrolled": true
   },
   "outputs": [
    {
     "name": "stdout",
     "output_type": "stream",
     "text": [
      "<class 'pandas.core.frame.DataFrame'>\n",
      "RangeIndex: 74 entries, 0 to 73\n",
      "Data columns (total 15 columns):\n",
      " #   Column                  Non-Null Count  Dtype  \n",
      "---  ------                  --------------  -----  \n",
      " 0   Precursor               74 non-null     object \n",
      " 1   Activator-Ratio         74 non-null     object \n",
      " 2   Activator               74 non-null     object \n",
      " 3   Activator_carbon_ratio  74 non-null     float64\n",
      " 4   Activation T (K)        74 non-null     int64  \n",
      " 5   BET (m2/g)              74 non-null     float64\n",
      " 6   Pore volume (cm3/g)     74 non-null     float64\n",
      " 7   synthesis               74 non-null     object \n",
      " 8   synthesis_woNAME        74 non-null     object \n",
      " 9   2bins_BET               74 non-null     int64  \n",
      " 10  3bins_BET               74 non-null     int64  \n",
      " 11  4bins_BET               74 non-null     int64  \n",
      " 12  5bins_BET               74 non-null     int64  \n",
      " 13  10bins_BET              74 non-null     int64  \n",
      " 14  bet_1800                74 non-null     int64  \n",
      "dtypes: float64(3), int64(7), object(5)\n",
      "memory usage: 8.8+ KB\n"
     ]
    }
   ],
   "source": [
    "df.info()"
   ]
  },
  {
   "cell_type": "code",
   "execution_count": 8,
   "metadata": {},
   "outputs": [
    {
     "data": {
      "text/plain": [
       "31"
      ]
     },
     "execution_count": 8,
     "metadata": {},
     "output_type": "execute_result"
    }
   ],
   "source": [
    "len(df[\"Precursor\"].unique())"
   ]
  },
  {
   "cell_type": "code",
   "execution_count": 9,
   "metadata": {},
   "outputs": [
    {
     "data": {
      "text/plain": [
       "10"
      ]
     },
     "execution_count": 9,
     "metadata": {},
     "output_type": "execute_result"
    }
   ],
   "source": [
    "len(df[\"Activator\"].unique())"
   ]
  },
  {
   "cell_type": "code",
   "execution_count": 10,
   "metadata": {},
   "outputs": [],
   "source": [
    "encoder_precursor = OneHotEncoder(sparse_output=False).set_output(transform=\"pandas\")\n",
    "one_hot_precursor = encoder_precursor.fit_transform(df[[\"Precursor\"]])\n",
    "df = pd.concat([df, one_hot_precursor], axis=1)"
   ]
  },
  {
   "cell_type": "code",
   "execution_count": 11,
   "metadata": {},
   "outputs": [],
   "source": [
    "encoder_activator = OneHotEncoder(sparse_output=False).set_output(transform=\"pandas\")\n",
    "one_hot_activator = encoder_activator.fit_transform(df[[\"Activator\"]])\n",
    "df = pd.concat([df, one_hot_activator], axis=1)"
   ]
  },
  {
   "cell_type": "code",
   "execution_count": 13,
   "metadata": {
    "scrolled": true
   },
   "outputs": [
    {
     "data": {
      "text/plain": [
       "['Precursor_Acai stone',\n",
       " 'Precursor_Bambo',\n",
       " 'Precursor_Black locust',\n",
       " 'Precursor_Catkin',\n",
       " 'Precursor_Celtuce leaves',\n",
       " 'Precursor_Chitosan',\n",
       " 'Precursor_Chrysanthemum tea',\n",
       " 'Precursor_Coconut shell',\n",
       " 'Precursor_Coffee grounds',\n",
       " 'Precursor_Cork',\n",
       " 'Precursor_Crab shell',\n",
       " 'Precursor_Empty fruit bunch',\n",
       " 'Precursor_Garlic peel',\n",
       " 'Precursor_Lignin Waste',\n",
       " 'Precursor_Olive stone',\n",
       " 'Precursor_Paulownia sawdust',\n",
       " 'Precursor_Peanut shell',\n",
       " 'Precursor_Pineapple',\n",
       " 'Precursor_Pollen',\n",
       " 'Precursor_Popcorn',\n",
       " 'Precursor_Poplar Wood',\n",
       " 'Precursor_Rice husk',\n",
       " 'Precursor_Sugarcane bagasse',\n",
       " 'Precursor_Sunflower seed shell',\n",
       " 'Precursor_Tar+CaO',\n",
       " 'Precursor_Tea seed shell',\n",
       " 'Precursor_Urea + tobacco',\n",
       " 'Precursor_Vine shoots',\n",
       " 'Precursor_Walnut shell',\n",
       " 'Precursor_Waste wool',\n",
       " 'Precursor_Wheat',\n",
       " 'Activator_CO2',\n",
       " 'Activator_CO2+N2',\n",
       " 'Activator_K2C2O4',\n",
       " 'Activator_K2CO3',\n",
       " 'Activator_KCl-ZnCl2',\n",
       " 'Activator_KOH',\n",
       " 'Activator_KOH+Ammonia',\n",
       " 'Activator_KOH+N2',\n",
       " 'Activator_NaNH2',\n",
       " 'Activator_ZnCl2']"
      ]
     },
     "execution_count": 13,
     "metadata": {},
     "output_type": "execute_result"
    }
   ],
   "source": [
    "df.columns[15:56].to_list()"
   ]
  },
  {
   "cell_type": "code",
   "execution_count": 14,
   "metadata": {},
   "outputs": [],
   "source": [
    "representation = [\"Activator_carbon_ratio\", \"Activation T (K)\"]\n",
    "representation.extend(df.columns[15:56].to_list())"
   ]
  },
  {
   "cell_type": "code",
   "execution_count": 26,
   "metadata": {},
   "outputs": [],
   "source": [
    "def prepare_dataset_classification(\n",
    "    df,\n",
    "    target = \"BET_2bins_5050\",\n",
    "    representation=representation,\n",
    "    random_state=42,\n",
    "    train_size=60\n",
    "):\n",
    "    df_train, df_test = train_test_split(\n",
    "        df,\n",
    "        train_size=train_size,\n",
    "        random_state=random_state,\n",
    "        stratify=df[target].astype(int).values,\n",
    "    )\n",
    "    print(len(df_train), len(df_test))\n",
    "    \n",
    "    X_train, y_train = df_train[representation], df_train[target]\n",
    "    X_test, y_test = df_test[representation], df_test[target]\n",
    "    \n",
    "    return X_train, y_train, X_test, y_test"
   ]
  },
  {
   "cell_type": "code",
   "execution_count": 27,
   "metadata": {},
   "outputs": [],
   "source": [
    "def train_and_evaluate_classifier(X_train, y_train, X_test, y_test, random_state=42):\n",
    "    clf = RandomForestClassifier(\n",
    "        n_estimators=200, \n",
    "        random_state=random_state,\n",
    "        verbose=True\n",
    "    )\n",
    "    \n",
    "    clf.fit(X_train, y_train)\n",
    "    \n",
    "    y_pred = clf.predict(X_test)\n",
    "    y_test = np.array(y_test)\n",
    "    \n",
    "    acc = accuracy_score(y_test, y_pred)\n",
    "    f1_macro = f1_score(y_test, y_pred, average=\"macro\")\n",
    "    f1_micro = f1_score(y_test, y_pred, average=\"micro\")\n",
    "    f1_weighted = f1_score(y_test, y_pred, average='weighted')\n",
    "    kappa = cohen_kappa_score(y_test, y_pred)\n",
    "    \n",
    "    return y_test, y_pred, acc, f1_macro, f1_micro, f1_weighted, kappa"
   ]
  },
  {
   "cell_type": "code",
   "execution_count": 28,
   "metadata": {},
   "outputs": [],
   "source": [
    "def metrics_dict():\n",
    "    metrics_dict = {\n",
    "        \"train_size\": train_size,\n",
    "        \"y_true\": y_test_all,\n",
    "        \"y_pred\": y_pred_all,\n",
    "        \"accuracy\": acc_scores,\n",
    "        \"f1_macro\": f1macro_scores,\n",
    "        \"f1_micro\": f1micro_scores,\n",
    "        \"f1_weighted\": f1weighted_scores,\n",
    "        \"kappa\": kappa_scores\n",
    "    }\n",
    "    return metrics_dict"
   ]
  },
  {
   "cell_type": "markdown",
   "metadata": {},
   "source": [
    "### training size = 15"
   ]
  },
  {
   "cell_type": "code",
   "execution_count": 29,
   "metadata": {},
   "outputs": [],
   "source": [
    "train_size = 15\n",
    "iterations = 10\n",
    "y_test_all = []\n",
    "y_pred_all = []\n",
    "acc_scores = []\n",
    "f1macro_scores = []\n",
    "f1micro_scores = []\n",
    "f1weighted_scores = []\n",
    "kappa_scores = []"
   ]
  },
  {
   "cell_type": "code",
   "execution_count": 30,
   "metadata": {
    "scrolled": true
   },
   "outputs": [
    {
     "name": "stdout",
     "output_type": "stream",
     "text": [
      "-------------Iteration 1/10\n",
      "15 59\n",
      "random_state = 42\n",
      "Accuracy: 0.6440677966101694\n",
      "F1 macro: 0.6436583261432269\n",
      "F1 micro: 0.6440677966101694\n",
      "F1 weighted: 0.643863061376698\n",
      "Kappa: 0.2875215641173088\n",
      "-------------Iteration 2/10\n",
      "15 59\n",
      "random_state = 43\n"
     ]
    },
    {
     "name": "stderr",
     "output_type": "stream",
     "text": [
      "[Parallel(n_jobs=1)]: Done  49 tasks      | elapsed:    0.0s\n",
      "[Parallel(n_jobs=1)]: Done 199 tasks      | elapsed:    0.1s\n",
      "[Parallel(n_jobs=1)]: Done  49 tasks      | elapsed:    0.0s\n",
      "[Parallel(n_jobs=1)]: Done 199 tasks      | elapsed:    0.0s\n",
      "[Parallel(n_jobs=1)]: Done  49 tasks      | elapsed:    0.0s\n",
      "[Parallel(n_jobs=1)]: Done 199 tasks      | elapsed:    0.1s\n",
      "[Parallel(n_jobs=1)]: Done  49 tasks      | elapsed:    0.0s\n",
      "[Parallel(n_jobs=1)]: Done 199 tasks      | elapsed:    0.0s\n",
      "[Parallel(n_jobs=1)]: Done  49 tasks      | elapsed:    0.0s\n",
      "[Parallel(n_jobs=1)]: Done 199 tasks      | elapsed:    0.1s\n",
      "[Parallel(n_jobs=1)]: Done  49 tasks      | elapsed:    0.0s\n",
      "[Parallel(n_jobs=1)]: Done 199 tasks      | elapsed:    0.0s\n"
     ]
    },
    {
     "name": "stdout",
     "output_type": "stream",
     "text": [
      "Accuracy: 0.711864406779661\n",
      "F1 macro: 0.7115329306873741\n",
      "F1 micro: 0.711864406779661\n",
      "F1 weighted: 0.7116986687335175\n",
      "Kappa: 0.4232317423806785\n",
      "-------------Iteration 3/10\n",
      "15 59\n",
      "random_state = 44\n",
      "Accuracy: 0.559322033898305\n",
      "F1 macro: 0.5368357487922705\n",
      "F1 micro: 0.559322033898305\n",
      "F1 weighted: 0.5351060345533448\n",
      "Kappa: 0.1254275940706956\n",
      "-------------Iteration 4/10\n",
      "15 59\n",
      "random_state = 45\n"
     ]
    },
    {
     "name": "stderr",
     "output_type": "stream",
     "text": [
      "[Parallel(n_jobs=1)]: Done  49 tasks      | elapsed:    0.0s\n",
      "[Parallel(n_jobs=1)]: Done 199 tasks      | elapsed:    0.1s\n",
      "[Parallel(n_jobs=1)]: Done  49 tasks      | elapsed:    0.0s\n",
      "[Parallel(n_jobs=1)]: Done 199 tasks      | elapsed:    0.0s\n",
      "[Parallel(n_jobs=1)]: Done  49 tasks      | elapsed:    0.0s\n",
      "[Parallel(n_jobs=1)]: Done 199 tasks      | elapsed:    0.1s\n",
      "[Parallel(n_jobs=1)]: Done  49 tasks      | elapsed:    0.0s\n",
      "[Parallel(n_jobs=1)]: Done 199 tasks      | elapsed:    0.0s\n"
     ]
    },
    {
     "name": "stdout",
     "output_type": "stream",
     "text": [
      "Accuracy: 0.6779661016949152\n",
      "F1 macro: 0.6775956284153005\n",
      "F1 micro: 0.6779661016949152\n",
      "F1 weighted: 0.6774103917754932\n",
      "Kappa: 0.3568559954102123\n",
      "-------------Iteration 5/10\n",
      "15 59\n",
      "random_state = 46\n",
      "Accuracy: 0.6610169491525424\n",
      "F1 macro: 0.6601382488479263\n",
      "F1 micro: 0.6610169491525424\n",
      "F1 weighted: 0.6598453487463876\n",
      "Kappa: 0.32339449541284404\n",
      "-------------Iteration 6/10\n",
      "15 59\n",
      "random_state = 47\n"
     ]
    },
    {
     "name": "stderr",
     "output_type": "stream",
     "text": [
      "[Parallel(n_jobs=1)]: Done  49 tasks      | elapsed:    0.0s\n",
      "[Parallel(n_jobs=1)]: Done 199 tasks      | elapsed:    0.1s\n",
      "[Parallel(n_jobs=1)]: Done  49 tasks      | elapsed:    0.0s\n",
      "[Parallel(n_jobs=1)]: Done 199 tasks      | elapsed:    0.0s\n",
      "[Parallel(n_jobs=1)]: Done  49 tasks      | elapsed:    0.0s\n"
     ]
    },
    {
     "name": "stdout",
     "output_type": "stream",
     "text": [
      "Accuracy: 0.6440677966101694\n",
      "F1 macro: 0.6228310502283105\n",
      "F1 micro: 0.6440677966101694\n",
      "F1 weighted: 0.6213141397724633\n",
      "Kappa: 0.2940170940170941\n",
      "-------------Iteration 7/10\n",
      "15 59\n",
      "random_state = 48\n",
      "Accuracy: 0.6779661016949152\n",
      "F1 macro: 0.6775956284153005\n",
      "F1 micro: 0.6779661016949152\n",
      "F1 weighted: 0.6777808650551079\n",
      "Kappa: 0.3553766532489937\n",
      "-------------Iteration 8/10\n",
      "15 59\n",
      "random_state = 49\n"
     ]
    },
    {
     "name": "stderr",
     "output_type": "stream",
     "text": [
      "[Parallel(n_jobs=1)]: Done 199 tasks      | elapsed:    0.1s\n",
      "[Parallel(n_jobs=1)]: Done  49 tasks      | elapsed:    0.0s\n",
      "[Parallel(n_jobs=1)]: Done 199 tasks      | elapsed:    0.0s\n",
      "[Parallel(n_jobs=1)]: Done  49 tasks      | elapsed:    0.0s\n",
      "[Parallel(n_jobs=1)]: Done 199 tasks      | elapsed:    0.1s\n",
      "[Parallel(n_jobs=1)]: Done  49 tasks      | elapsed:    0.0s\n",
      "[Parallel(n_jobs=1)]: Done 199 tasks      | elapsed:    0.0s\n"
     ]
    },
    {
     "name": "stdout",
     "output_type": "stream",
     "text": [
      "Accuracy: 0.711864406779661\n",
      "F1 macro: 0.7105339105339106\n",
      "F1 micro: 0.711864406779661\n",
      "F1 weighted: 0.7102012864724728\n",
      "Kappa: 0.42521489971346704\n",
      "-------------Iteration 9/10\n",
      "15 59\n",
      "random_state = 50\n",
      "Accuracy: 0.6271186440677966\n",
      "F1 macro: 0.6182352941176471\n",
      "F1 micro: 0.6271186440677966\n",
      "F1 weighted: 0.619222333000997\n",
      "Kappa: 0.2505773672055428\n",
      "-------------Iteration 10/10\n",
      "15 59\n",
      "random_state = 51\n"
     ]
    },
    {
     "name": "stderr",
     "output_type": "stream",
     "text": [
      "[Parallel(n_jobs=1)]: Done  49 tasks      | elapsed:    0.0s\n",
      "[Parallel(n_jobs=1)]: Done 199 tasks      | elapsed:    0.1s\n",
      "[Parallel(n_jobs=1)]: Done  49 tasks      | elapsed:    0.0s\n",
      "[Parallel(n_jobs=1)]: Done 199 tasks      | elapsed:    0.0s\n",
      "[Parallel(n_jobs=1)]: Done  49 tasks      | elapsed:    0.0s\n"
     ]
    },
    {
     "name": "stdout",
     "output_type": "stream",
     "text": [
      "Accuracy: 0.5932203389830508\n",
      "F1 macro: 0.593103448275862\n",
      "F1 micro: 0.5932203389830508\n",
      "F1 weighted: 0.5932203389830508\n",
      "Kappa: 0.18620689655172418\n"
     ]
    },
    {
     "name": "stderr",
     "output_type": "stream",
     "text": [
      "[Parallel(n_jobs=1)]: Done 199 tasks      | elapsed:    0.1s\n",
      "[Parallel(n_jobs=1)]: Done  49 tasks      | elapsed:    0.0s\n",
      "[Parallel(n_jobs=1)]: Done 199 tasks      | elapsed:    0.0s\n"
     ]
    }
   ],
   "source": [
    "for n in range(iterations):\n",
    "    print(f\"-------------Iteration {n + 1}/{iterations}\")\n",
    "    random_state=42+n\n",
    "\n",
    "    X_train, y_train, X_test, y_test = prepare_dataset_classification(\n",
    "        df,\n",
    "        random_state=random_state,\n",
    "        train_size=train_size\n",
    "    )\n",
    "    print(f\"random_state = {random_state}\")\n",
    "\n",
    "    y_test, y_pred, acc, f1_macro, f1_micro, f1_weighted, kappa = train_and_evaluate_classifier(\n",
    "        X_train, \n",
    "        y_train, \n",
    "        X_test, \n",
    "        y_test, \n",
    "        random_state=random_state\n",
    "    )\n",
    "    \n",
    "    y_test_all.append(y_test)\n",
    "    y_pred_all.append(y_pred)    \n",
    "    acc_scores.append(acc)\n",
    "    f1macro_scores.append(f1_macro)\n",
    "    f1micro_scores.append(f1_micro)\n",
    "    f1weighted_scores.append(f1_weighted)\n",
    "    kappa_scores.append(kappa)\n",
    "    print(f\"Accuracy: {acc}\")\n",
    "    print(f\"F1 macro: {f1_macro}\")\n",
    "    print(f\"F1 micro: {f1_micro}\")\n",
    "    print(f\"F1 weighted: {f1_weighted}\")\n",
    "    print(f\"Kappa: {kappa}\")"
   ]
  },
  {
   "cell_type": "code",
   "execution_count": 31,
   "metadata": {},
   "outputs": [
    {
     "name": "stdout",
     "output_type": "stream",
     "text": [
      "FINAL REPORT for training size = 15\n",
      "mean accuracy: 0.6508474576271187 +/- 0.04623112439656223\n",
      "mean F1 macro: 0.6452060214457129 +/- 0.05165015550120489\n",
      "mean F1 micro: 0.6508474576271187 +/- 0.04623112439656223\n",
      "mean F1 weighted: 0.6449662468469534 +/- 0.051990315848841936\n",
      "mean Kappa: 0.3027824302128561 +/- 0.09148354665132667\n"
     ]
    }
   ],
   "source": [
    "print(f\"FINAL REPORT for training size = {train_size}\")\n",
    "\n",
    "print(f\"mean accuracy: {np.mean(acc_scores)} +/- {np.std(acc_scores)}\")\n",
    "print(f\"mean F1 macro: {np.mean(f1macro_scores)} +/- {np.std(f1macro_scores)}\")\n",
    "print(f\"mean F1 micro: {np.mean(f1micro_scores)} +/- {np.std(f1micro_scores)}\")\n",
    "print(f\"mean F1 weighted: {np.mean(f1weighted_scores)} +/- {np.std(f1weighted_scores)}\")\n",
    "print(f\"mean Kappa: {np.mean(kappa_scores)} +/- {np.std(kappa_scores)}\")"
   ]
  },
  {
   "cell_type": "code",
   "execution_count": 32,
   "metadata": {},
   "outputs": [
    {
     "data": {
      "text/html": [
       "<div>\n",
       "<style scoped>\n",
       "    .dataframe tbody tr th:only-of-type {\n",
       "        vertical-align: middle;\n",
       "    }\n",
       "\n",
       "    .dataframe tbody tr th {\n",
       "        vertical-align: top;\n",
       "    }\n",
       "\n",
       "    .dataframe thead th {\n",
       "        text-align: right;\n",
       "    }\n",
       "</style>\n",
       "<table border=\"1\" class=\"dataframe\">\n",
       "  <thead>\n",
       "    <tr style=\"text-align: right;\">\n",
       "      <th></th>\n",
       "      <th>train_size</th>\n",
       "      <th>y_true</th>\n",
       "      <th>y_pred</th>\n",
       "      <th>accuracy</th>\n",
       "      <th>f1_macro</th>\n",
       "      <th>f1_micro</th>\n",
       "      <th>f1_weighted</th>\n",
       "      <th>kappa</th>\n",
       "    </tr>\n",
       "  </thead>\n",
       "  <tbody>\n",
       "    <tr>\n",
       "      <th>0</th>\n",
       "      <td>15</td>\n",
       "      <td>[0, 1, 1, 0, 0, 1, 0, 0, 1, 1, 1, 0, 0, 0, 0, ...</td>\n",
       "      <td>[0, 0, 1, 0, 0, 0, 0, 0, 0, 0, 0, 0, 1, 0, 0, ...</td>\n",
       "      <td>0.644068</td>\n",
       "      <td>0.643658</td>\n",
       "      <td>0.644068</td>\n",
       "      <td>0.643863</td>\n",
       "      <td>0.287522</td>\n",
       "    </tr>\n",
       "    <tr>\n",
       "      <th>1</th>\n",
       "      <td>15</td>\n",
       "      <td>[1, 1, 1, 0, 1, 0, 1, 1, 0, 1, 1, 0, 1, 0, 0, ...</td>\n",
       "      <td>[1, 1, 1, 0, 0, 1, 1, 1, 0, 0, 1, 0, 0, 0, 0, ...</td>\n",
       "      <td>0.711864</td>\n",
       "      <td>0.711533</td>\n",
       "      <td>0.711864</td>\n",
       "      <td>0.711699</td>\n",
       "      <td>0.423232</td>\n",
       "    </tr>\n",
       "    <tr>\n",
       "      <th>2</th>\n",
       "      <td>15</td>\n",
       "      <td>[0, 0, 1, 1, 1, 1, 1, 0, 1, 1, 0, 0, 1, 0, 1, ...</td>\n",
       "      <td>[1, 0, 1, 1, 1, 0, 1, 1, 1, 1, 0, 0, 1, 0, 1, ...</td>\n",
       "      <td>0.559322</td>\n",
       "      <td>0.536836</td>\n",
       "      <td>0.559322</td>\n",
       "      <td>0.535106</td>\n",
       "      <td>0.125428</td>\n",
       "    </tr>\n",
       "  </tbody>\n",
       "</table>\n",
       "</div>"
      ],
      "text/plain": [
       "   train_size                                             y_true  \\\n",
       "0          15  [0, 1, 1, 0, 0, 1, 0, 0, 1, 1, 1, 0, 0, 0, 0, ...   \n",
       "1          15  [1, 1, 1, 0, 1, 0, 1, 1, 0, 1, 1, 0, 1, 0, 0, ...   \n",
       "2          15  [0, 0, 1, 1, 1, 1, 1, 0, 1, 1, 0, 0, 1, 0, 1, ...   \n",
       "\n",
       "                                              y_pred  accuracy  f1_macro  \\\n",
       "0  [0, 0, 1, 0, 0, 0, 0, 0, 0, 0, 0, 0, 1, 0, 0, ...  0.644068  0.643658   \n",
       "1  [1, 1, 1, 0, 0, 1, 1, 1, 0, 0, 1, 0, 0, 0, 0, ...  0.711864  0.711533   \n",
       "2  [1, 0, 1, 1, 1, 0, 1, 1, 1, 1, 0, 0, 1, 0, 1, ...  0.559322  0.536836   \n",
       "\n",
       "   f1_micro  f1_weighted     kappa  \n",
       "0  0.644068     0.643863  0.287522  \n",
       "1  0.711864     0.711699  0.423232  \n",
       "2  0.559322     0.535106  0.125428  "
      ]
     },
     "execution_count": 32,
     "metadata": {},
     "output_type": "execute_result"
    }
   ],
   "source": [
    "compiled_res_15 = pd.DataFrame(metrics_dict())\n",
    "compiled_res_15.head(3)"
   ]
  },
  {
   "cell_type": "markdown",
   "metadata": {},
   "source": [
    "### training size = 25"
   ]
  },
  {
   "cell_type": "code",
   "execution_count": 33,
   "metadata": {},
   "outputs": [],
   "source": [
    "train_size = 25\n",
    "iterations = 10\n",
    "y_test_all = []\n",
    "y_pred_all = []\n",
    "acc_scores = []\n",
    "f1macro_scores = []\n",
    "f1micro_scores = []\n",
    "f1weighted_scores = []\n",
    "kappa_scores = []"
   ]
  },
  {
   "cell_type": "code",
   "execution_count": 34,
   "metadata": {
    "scrolled": true
   },
   "outputs": [
    {
     "name": "stdout",
     "output_type": "stream",
     "text": [
      "-------------Iteration 1/10\n",
      "25 49\n",
      "random_state = 42\n",
      "Accuracy: 0.7142857142857143\n",
      "F1 macro: 0.7112794612794613\n",
      "F1 micro: 0.7142857142857143\n",
      "F1 weighted: 0.7106782106782106\n",
      "Kappa: 0.4311774461028193\n",
      "-------------Iteration 2/10\n",
      "25 49\n",
      "random_state = 43\n"
     ]
    },
    {
     "name": "stderr",
     "output_type": "stream",
     "text": [
      "[Parallel(n_jobs=1)]: Done  49 tasks      | elapsed:    0.0s\n",
      "[Parallel(n_jobs=1)]: Done 199 tasks      | elapsed:    0.1s\n",
      "[Parallel(n_jobs=1)]: Done  49 tasks      | elapsed:    0.0s\n",
      "[Parallel(n_jobs=1)]: Done 199 tasks      | elapsed:    0.0s\n",
      "[Parallel(n_jobs=1)]: Done  49 tasks      | elapsed:    0.0s\n",
      "[Parallel(n_jobs=1)]: Done 199 tasks      | elapsed:    0.1s\n",
      "[Parallel(n_jobs=1)]: Done  49 tasks      | elapsed:    0.0s\n",
      "[Parallel(n_jobs=1)]: Done 199 tasks      | elapsed:    0.0s\n"
     ]
    },
    {
     "name": "stdout",
     "output_type": "stream",
     "text": [
      "Accuracy: 0.6938775510204082\n",
      "F1 macro: 0.6892177589852009\n",
      "F1 micro: 0.6938775510204082\n",
      "F1 weighted: 0.6899943909910689\n",
      "Kappa: 0.38493723849372385\n",
      "-------------Iteration 3/10\n",
      "25 49\n",
      "random_state = 44\n",
      "Accuracy: 0.7142857142857143\n",
      "F1 macro: 0.7141666666666666\n",
      "F1 micro: 0.7142857142857143\n",
      "F1 weighted: 0.7142857142857143\n",
      "Kappa: 0.42833333333333334\n",
      "-------------Iteration 4/10\n",
      "25 49\n",
      "random_state = 45\n"
     ]
    },
    {
     "name": "stderr",
     "output_type": "stream",
     "text": [
      "[Parallel(n_jobs=1)]: Done  49 tasks      | elapsed:    0.0s\n",
      "[Parallel(n_jobs=1)]: Done 199 tasks      | elapsed:    0.1s\n",
      "[Parallel(n_jobs=1)]: Done  49 tasks      | elapsed:    0.0s\n",
      "[Parallel(n_jobs=1)]: Done 199 tasks      | elapsed:    0.0s\n",
      "[Parallel(n_jobs=1)]: Done  49 tasks      | elapsed:    0.0s\n",
      "[Parallel(n_jobs=1)]: Done 199 tasks      | elapsed:    0.1s\n",
      "[Parallel(n_jobs=1)]: Done  49 tasks      | elapsed:    0.0s\n",
      "[Parallel(n_jobs=1)]: Done 199 tasks      | elapsed:    0.0s\n",
      "[Parallel(n_jobs=1)]: Done  49 tasks      | elapsed:    0.0s\n",
      "[Parallel(n_jobs=1)]: Done 199 tasks      | elapsed:    0.1s\n",
      "[Parallel(n_jobs=1)]: Done  49 tasks      | elapsed:    0.0s\n",
      "[Parallel(n_jobs=1)]: Done 199 tasks      | elapsed:    0.0s\n"
     ]
    },
    {
     "name": "stdout",
     "output_type": "stream",
     "text": [
      "Accuracy: 0.5918367346938775\n",
      "F1 macro: 0.5916666666666667\n",
      "F1 micro: 0.5918367346938775\n",
      "F1 weighted: 0.5914965986394558\n",
      "Kappa: 0.18469217970049923\n",
      "-------------Iteration 5/10\n",
      "25 49\n",
      "random_state = 46\n",
      "Accuracy: 0.7142857142857143\n",
      "F1 macro: 0.7132107023411371\n",
      "F1 micro: 0.7142857142857143\n",
      "F1 weighted: 0.713569039655996\n",
      "Kappa: 0.42737896494156935\n",
      "-------------Iteration 6/10\n",
      "25 49\n",
      "random_state = 47\n"
     ]
    },
    {
     "name": "stderr",
     "output_type": "stream",
     "text": [
      "[Parallel(n_jobs=1)]: Done  49 tasks      | elapsed:    0.0s\n",
      "[Parallel(n_jobs=1)]: Done 199 tasks      | elapsed:    0.1s\n",
      "[Parallel(n_jobs=1)]: Done  49 tasks      | elapsed:    0.0s\n",
      "[Parallel(n_jobs=1)]: Done 199 tasks      | elapsed:    0.0s\n",
      "[Parallel(n_jobs=1)]: Done  49 tasks      | elapsed:    0.0s\n"
     ]
    },
    {
     "name": "stdout",
     "output_type": "stream",
     "text": [
      "Accuracy: 0.6530612244897959\n",
      "F1 macro: 0.6477801268498943\n",
      "F1 micro: 0.6530612244897959\n",
      "F1 weighted: 0.6468999439099107\n",
      "Kappa: 0.3098591549295774\n",
      "-------------Iteration 7/10\n",
      "25 49\n",
      "random_state = 48\n",
      "Accuracy: 0.6530612244897959\n",
      "F1 macro: 0.6435601198117245\n",
      "F1 micro: 0.6530612244897959\n",
      "F1 weighted: 0.6423724817269655\n",
      "Kappa: 0.31100082712985944\n",
      "-------------Iteration 8/10\n",
      "25 49\n",
      "random_state = 49\n"
     ]
    },
    {
     "name": "stderr",
     "output_type": "stream",
     "text": [
      "[Parallel(n_jobs=1)]: Done 199 tasks      | elapsed:    0.1s\n",
      "[Parallel(n_jobs=1)]: Done  49 tasks      | elapsed:    0.0s\n",
      "[Parallel(n_jobs=1)]: Done 199 tasks      | elapsed:    0.0s\n",
      "[Parallel(n_jobs=1)]: Done  49 tasks      | elapsed:    0.1s\n",
      "[Parallel(n_jobs=1)]: Done 199 tasks      | elapsed:    0.1s\n",
      "[Parallel(n_jobs=1)]: Done  49 tasks      | elapsed:    0.0s\n",
      "[Parallel(n_jobs=1)]: Done 199 tasks      | elapsed:    0.0s\n"
     ]
    },
    {
     "name": "stdout",
     "output_type": "stream",
     "text": [
      "Accuracy: 0.6530612244897959\n",
      "F1 macro: 0.650733752620545\n",
      "F1 micro: 0.6530612244897959\n",
      "F1 weighted: 0.6501518846532324\n",
      "Kappa: 0.3087136929460581\n",
      "-------------Iteration 9/10\n",
      "25 49\n",
      "random_state = 50\n",
      "Accuracy: 0.6530612244897959\n",
      "F1 macro: 0.6530612244897959\n",
      "F1 micro: 0.6530612244897959\n",
      "F1 weighted: 0.6530612244897959\n",
      "Kappa: 0.30641132389675274\n",
      "-------------Iteration 10/10\n",
      "25 49\n",
      "random_state = 51\n"
     ]
    },
    {
     "name": "stderr",
     "output_type": "stream",
     "text": [
      "[Parallel(n_jobs=1)]: Done  49 tasks      | elapsed:    0.0s\n",
      "[Parallel(n_jobs=1)]: Done 199 tasks      | elapsed:    0.1s\n",
      "[Parallel(n_jobs=1)]: Done  49 tasks      | elapsed:    0.0s\n",
      "[Parallel(n_jobs=1)]: Done 199 tasks      | elapsed:    0.0s\n",
      "[Parallel(n_jobs=1)]: Done  49 tasks      | elapsed:    0.0s\n"
     ]
    },
    {
     "name": "stdout",
     "output_type": "stream",
     "text": [
      "Accuracy: 0.673469387755102\n",
      "F1 macro: 0.6722408026755853\n",
      "F1 micro: 0.673469387755102\n",
      "F1 weighted: 0.6718312743157463\n",
      "Kappa: 0.34883720930232565\n"
     ]
    },
    {
     "name": "stderr",
     "output_type": "stream",
     "text": [
      "[Parallel(n_jobs=1)]: Done 199 tasks      | elapsed:    0.1s\n",
      "[Parallel(n_jobs=1)]: Done  49 tasks      | elapsed:    0.0s\n",
      "[Parallel(n_jobs=1)]: Done 199 tasks      | elapsed:    0.0s\n"
     ]
    }
   ],
   "source": [
    "for n in range(iterations):\n",
    "    print(f\"-------------Iteration {n + 1}/{iterations}\")\n",
    "    random_state=42+n\n",
    "\n",
    "    X_train, y_train, X_test, y_test = prepare_dataset_classification(\n",
    "        df,\n",
    "        random_state=random_state,\n",
    "        train_size=train_size\n",
    "    )\n",
    "    print(f\"random_state = {random_state}\")\n",
    "\n",
    "    y_test, y_pred, acc, f1_macro, f1_micro, f1_weighted, kappa = train_and_evaluate_classifier(\n",
    "        X_train, \n",
    "        y_train, \n",
    "        X_test, \n",
    "        y_test, \n",
    "        random_state=random_state\n",
    "    )\n",
    "    \n",
    "    y_test_all.append(y_test)\n",
    "    y_pred_all.append(y_pred)    \n",
    "    acc_scores.append(acc)\n",
    "    f1macro_scores.append(f1_macro)\n",
    "    f1micro_scores.append(f1_micro)\n",
    "    f1weighted_scores.append(f1_weighted)\n",
    "    kappa_scores.append(kappa)\n",
    "    print(f\"Accuracy: {acc}\")\n",
    "    print(f\"F1 macro: {f1_macro}\")\n",
    "    print(f\"F1 micro: {f1_micro}\")\n",
    "    print(f\"F1 weighted: {f1_weighted}\")\n",
    "    print(f\"Kappa: {kappa}\")"
   ]
  },
  {
   "cell_type": "code",
   "execution_count": 35,
   "metadata": {},
   "outputs": [
    {
     "name": "stdout",
     "output_type": "stream",
     "text": [
      "FINAL REPORT for training size = 25\n",
      "mean accuracy: 0.6714285714285714 +/- 0.037017055402483796\n",
      "mean F1 macro: 0.6686917282386677 +/- 0.03723720238413492\n",
      "mean F1 micro: 0.6714285714285714 +/- 0.037017055402483796\n",
      "mean F1 weighted: 0.6684340763346095 +/- 0.037461122218718994\n",
      "mean Kappa: 0.3441341370776519 +/- 0.07324937032775981\n"
     ]
    }
   ],
   "source": [
    "print(f\"FINAL REPORT for training size = {train_size}\")\n",
    "\n",
    "print(f\"mean accuracy: {np.mean(acc_scores)} +/- {np.std(acc_scores)}\")\n",
    "print(f\"mean F1 macro: {np.mean(f1macro_scores)} +/- {np.std(f1macro_scores)}\")\n",
    "print(f\"mean F1 micro: {np.mean(f1micro_scores)} +/- {np.std(f1micro_scores)}\")\n",
    "print(f\"mean F1 weighted: {np.mean(f1weighted_scores)} +/- {np.std(f1weighted_scores)}\")\n",
    "print(f\"mean Kappa: {np.mean(kappa_scores)} +/- {np.std(kappa_scores)}\")"
   ]
  },
  {
   "cell_type": "code",
   "execution_count": 36,
   "metadata": {},
   "outputs": [
    {
     "data": {
      "text/html": [
       "<div>\n",
       "<style scoped>\n",
       "    .dataframe tbody tr th:only-of-type {\n",
       "        vertical-align: middle;\n",
       "    }\n",
       "\n",
       "    .dataframe tbody tr th {\n",
       "        vertical-align: top;\n",
       "    }\n",
       "\n",
       "    .dataframe thead th {\n",
       "        text-align: right;\n",
       "    }\n",
       "</style>\n",
       "<table border=\"1\" class=\"dataframe\">\n",
       "  <thead>\n",
       "    <tr style=\"text-align: right;\">\n",
       "      <th></th>\n",
       "      <th>train_size</th>\n",
       "      <th>y_true</th>\n",
       "      <th>y_pred</th>\n",
       "      <th>accuracy</th>\n",
       "      <th>f1_macro</th>\n",
       "      <th>f1_micro</th>\n",
       "      <th>f1_weighted</th>\n",
       "      <th>kappa</th>\n",
       "    </tr>\n",
       "  </thead>\n",
       "  <tbody>\n",
       "    <tr>\n",
       "      <th>0</th>\n",
       "      <td>25</td>\n",
       "      <td>[1, 0, 1, 1, 1, 0, 0, 1, 0, 0, 0, 0, 0, 0, 1, ...</td>\n",
       "      <td>[1, 0, 1, 1, 0, 0, 0, 1, 1, 1, 0, 1, 0, 1, 1, ...</td>\n",
       "      <td>0.714286</td>\n",
       "      <td>0.711279</td>\n",
       "      <td>0.714286</td>\n",
       "      <td>0.710678</td>\n",
       "      <td>0.431177</td>\n",
       "    </tr>\n",
       "    <tr>\n",
       "      <th>1</th>\n",
       "      <td>25</td>\n",
       "      <td>[0, 0, 0, 1, 0, 0, 0, 1, 0, 1, 1, 0, 1, 1, 1, ...</td>\n",
       "      <td>[0, 0, 1, 0, 0, 0, 0, 1, 1, 1, 0, 0, 0, 1, 1, ...</td>\n",
       "      <td>0.693878</td>\n",
       "      <td>0.689218</td>\n",
       "      <td>0.693878</td>\n",
       "      <td>0.689994</td>\n",
       "      <td>0.384937</td>\n",
       "    </tr>\n",
       "    <tr>\n",
       "      <th>2</th>\n",
       "      <td>25</td>\n",
       "      <td>[0, 0, 1, 0, 1, 1, 1, 0, 1, 1, 1, 1, 1, 0, 1, ...</td>\n",
       "      <td>[0, 0, 1, 0, 1, 0, 1, 0, 1, 0, 1, 1, 1, 0, 0, ...</td>\n",
       "      <td>0.714286</td>\n",
       "      <td>0.714167</td>\n",
       "      <td>0.714286</td>\n",
       "      <td>0.714286</td>\n",
       "      <td>0.428333</td>\n",
       "    </tr>\n",
       "  </tbody>\n",
       "</table>\n",
       "</div>"
      ],
      "text/plain": [
       "   train_size                                             y_true  \\\n",
       "0          25  [1, 0, 1, 1, 1, 0, 0, 1, 0, 0, 0, 0, 0, 0, 1, ...   \n",
       "1          25  [0, 0, 0, 1, 0, 0, 0, 1, 0, 1, 1, 0, 1, 1, 1, ...   \n",
       "2          25  [0, 0, 1, 0, 1, 1, 1, 0, 1, 1, 1, 1, 1, 0, 1, ...   \n",
       "\n",
       "                                              y_pred  accuracy  f1_macro  \\\n",
       "0  [1, 0, 1, 1, 0, 0, 0, 1, 1, 1, 0, 1, 0, 1, 1, ...  0.714286  0.711279   \n",
       "1  [0, 0, 1, 0, 0, 0, 0, 1, 1, 1, 0, 0, 0, 1, 1, ...  0.693878  0.689218   \n",
       "2  [0, 0, 1, 0, 1, 0, 1, 0, 1, 0, 1, 1, 1, 0, 0, ...  0.714286  0.714167   \n",
       "\n",
       "   f1_micro  f1_weighted     kappa  \n",
       "0  0.714286     0.710678  0.431177  \n",
       "1  0.693878     0.689994  0.384937  \n",
       "2  0.714286     0.714286  0.428333  "
      ]
     },
     "execution_count": 36,
     "metadata": {},
     "output_type": "execute_result"
    }
   ],
   "source": [
    "compiled_res_25 = pd.DataFrame(metrics_dict())\n",
    "compiled_res_25.head(3)"
   ]
  },
  {
   "cell_type": "markdown",
   "metadata": {},
   "source": [
    "### training size = 35"
   ]
  },
  {
   "cell_type": "code",
   "execution_count": 37,
   "metadata": {},
   "outputs": [],
   "source": [
    "train_size = 35\n",
    "iterations = 10\n",
    "y_test_all = []\n",
    "y_pred_all = []\n",
    "acc_scores = []\n",
    "f1macro_scores = []\n",
    "f1micro_scores = []\n",
    "f1weighted_scores = []\n",
    "kappa_scores = []"
   ]
  },
  {
   "cell_type": "code",
   "execution_count": 38,
   "metadata": {
    "scrolled": true
   },
   "outputs": [
    {
     "name": "stdout",
     "output_type": "stream",
     "text": [
      "-------------Iteration 1/10\n",
      "35 39\n",
      "random_state = 42\n",
      "Accuracy: 0.6923076923076923\n",
      "F1 macro: 0.6921052631578948\n",
      "F1 micro: 0.6923076923076923\n",
      "F1 weighted: 0.6923076923076923\n",
      "Kappa: 0.38421052631578945\n",
      "-------------Iteration 2/10\n",
      "35 39\n",
      "random_state = 43\n"
     ]
    },
    {
     "name": "stderr",
     "output_type": "stream",
     "text": [
      "[Parallel(n_jobs=1)]: Done  49 tasks      | elapsed:    0.0s\n",
      "[Parallel(n_jobs=1)]: Done 199 tasks      | elapsed:    0.1s\n",
      "[Parallel(n_jobs=1)]: Done  49 tasks      | elapsed:    0.0s\n",
      "[Parallel(n_jobs=1)]: Done 199 tasks      | elapsed:    0.0s\n",
      "[Parallel(n_jobs=1)]: Done  49 tasks      | elapsed:    0.0s\n",
      "[Parallel(n_jobs=1)]: Done 199 tasks      | elapsed:    0.1s\n",
      "[Parallel(n_jobs=1)]: Done  49 tasks      | elapsed:    0.0s\n",
      "[Parallel(n_jobs=1)]: Done 199 tasks      | elapsed:    0.0s\n"
     ]
    },
    {
     "name": "stdout",
     "output_type": "stream",
     "text": [
      "Accuracy: 0.6923076923076923\n",
      "F1 macro: 0.6921052631578948\n",
      "F1 micro: 0.6923076923076923\n",
      "F1 weighted: 0.6919028340080972\n",
      "Kappa: 0.3858267716535434\n",
      "-------------Iteration 3/10\n",
      "35 39\n",
      "random_state = 44\n",
      "Accuracy: 0.6153846153846154\n",
      "F1 macro: 0.6153846153846154\n",
      "F1 micro: 0.6153846153846154\n",
      "F1 weighted: 0.6153846153846154\n",
      "Kappa: 0.23127463863337716\n",
      "-------------Iteration 4/10\n",
      "35 39\n",
      "random_state = 45\n"
     ]
    },
    {
     "name": "stderr",
     "output_type": "stream",
     "text": [
      "[Parallel(n_jobs=1)]: Done  49 tasks      | elapsed:    0.0s\n",
      "[Parallel(n_jobs=1)]: Done 199 tasks      | elapsed:    0.1s\n",
      "[Parallel(n_jobs=1)]: Done  49 tasks      | elapsed:    0.0s\n",
      "[Parallel(n_jobs=1)]: Done 199 tasks      | elapsed:    0.0s\n",
      "[Parallel(n_jobs=1)]: Done  49 tasks      | elapsed:    0.0s\n",
      "[Parallel(n_jobs=1)]: Done 199 tasks      | elapsed:    0.1s\n",
      "[Parallel(n_jobs=1)]: Done  49 tasks      | elapsed:    0.0s\n",
      "[Parallel(n_jobs=1)]: Done 199 tasks      | elapsed:    0.0s\n",
      "[Parallel(n_jobs=1)]: Done  49 tasks      | elapsed:    0.0s\n",
      "[Parallel(n_jobs=1)]: Done 199 tasks      | elapsed:    0.1s\n",
      "[Parallel(n_jobs=1)]: Done  49 tasks      | elapsed:    0.0s\n",
      "[Parallel(n_jobs=1)]: Done 199 tasks      | elapsed:    0.0s\n"
     ]
    },
    {
     "name": "stdout",
     "output_type": "stream",
     "text": [
      "Accuracy: 0.6666666666666666\n",
      "F1 macro: 0.6666666666666666\n",
      "F1 micro: 0.6666666666666666\n",
      "F1 weighted: 0.6666666666666666\n",
      "Kappa: 0.3337713534822603\n",
      "-------------Iteration 5/10\n",
      "35 39\n",
      "random_state = 46\n",
      "Accuracy: 0.6666666666666666\n",
      "F1 macro: 0.6666666666666666\n",
      "F1 micro: 0.6666666666666666\n",
      "F1 weighted: 0.6666666666666666\n",
      "Kappa: 0.3337713534822603\n",
      "-------------Iteration 6/10\n",
      "35 39\n",
      "random_state = 47\n"
     ]
    },
    {
     "name": "stderr",
     "output_type": "stream",
     "text": [
      "[Parallel(n_jobs=1)]: Done  49 tasks      | elapsed:    0.0s\n",
      "[Parallel(n_jobs=1)]: Done 199 tasks      | elapsed:    0.1s\n",
      "[Parallel(n_jobs=1)]: Done  49 tasks      | elapsed:    0.0s\n",
      "[Parallel(n_jobs=1)]: Done 199 tasks      | elapsed:    0.0s\n",
      "[Parallel(n_jobs=1)]: Done  49 tasks      | elapsed:    0.0s\n"
     ]
    },
    {
     "name": "stdout",
     "output_type": "stream",
     "text": [
      "Accuracy: 0.6923076923076923\n",
      "F1 macro: 0.6921052631578948\n",
      "F1 micro: 0.6923076923076923\n",
      "F1 weighted: 0.6919028340080972\n",
      "Kappa: 0.3858267716535434\n",
      "-------------Iteration 7/10\n",
      "35 39\n",
      "random_state = 48\n",
      "Accuracy: 0.6153846153846154\n",
      "F1 macro: 0.6112956810631229\n",
      "F1 micro: 0.6153846153846154\n",
      "F1 weighted: 0.6102734474827498\n",
      "Kappa: 0.23529411764705888\n",
      "-------------Iteration 8/10\n",
      "35 39\n",
      "random_state = 49\n"
     ]
    },
    {
     "name": "stderr",
     "output_type": "stream",
     "text": [
      "[Parallel(n_jobs=1)]: Done 199 tasks      | elapsed:    0.1s\n",
      "[Parallel(n_jobs=1)]: Done  49 tasks      | elapsed:    0.0s\n",
      "[Parallel(n_jobs=1)]: Done 199 tasks      | elapsed:    0.0s\n",
      "[Parallel(n_jobs=1)]: Done  49 tasks      | elapsed:    0.0s\n",
      "[Parallel(n_jobs=1)]: Done 199 tasks      | elapsed:    0.1s\n",
      "[Parallel(n_jobs=1)]: Done  49 tasks      | elapsed:    0.0s\n",
      "[Parallel(n_jobs=1)]: Done 199 tasks      | elapsed:    0.0s\n"
     ]
    },
    {
     "name": "stdout",
     "output_type": "stream",
     "text": [
      "Accuracy: 0.7692307692307693\n",
      "F1 macro: 0.7692307692307693\n",
      "F1 micro: 0.7692307692307693\n",
      "F1 weighted: 0.7692307692307693\n",
      "Kappa: 0.5387647831800263\n",
      "-------------Iteration 9/10\n",
      "35 39\n",
      "random_state = 50\n",
      "Accuracy: 0.6923076923076923\n",
      "F1 macro: 0.6921052631578948\n",
      "F1 micro: 0.6923076923076923\n",
      "F1 weighted: 0.6919028340080972\n",
      "Kappa: 0.3858267716535434\n",
      "-------------Iteration 10/10\n",
      "35 39\n",
      "random_state = 51\n"
     ]
    },
    {
     "name": "stderr",
     "output_type": "stream",
     "text": [
      "[Parallel(n_jobs=1)]: Done  49 tasks      | elapsed:    0.0s\n",
      "[Parallel(n_jobs=1)]: Done 199 tasks      | elapsed:    0.1s\n",
      "[Parallel(n_jobs=1)]: Done  49 tasks      | elapsed:    0.0s\n",
      "[Parallel(n_jobs=1)]: Done 199 tasks      | elapsed:    0.0s\n",
      "[Parallel(n_jobs=1)]: Done  49 tasks      | elapsed:    0.0s\n"
     ]
    },
    {
     "name": "stdout",
     "output_type": "stream",
     "text": [
      "Accuracy: 0.7692307692307693\n",
      "F1 macro: 0.7636363636363637\n",
      "F1 micro: 0.7692307692307693\n",
      "F1 weighted: 0.7627039627039628\n",
      "Kappa: 0.5423728813559323\n"
     ]
    },
    {
     "name": "stderr",
     "output_type": "stream",
     "text": [
      "[Parallel(n_jobs=1)]: Done 199 tasks      | elapsed:    0.1s\n",
      "[Parallel(n_jobs=1)]: Done  49 tasks      | elapsed:    0.0s\n",
      "[Parallel(n_jobs=1)]: Done 199 tasks      | elapsed:    0.0s\n"
     ]
    }
   ],
   "source": [
    "for n in range(iterations):\n",
    "    print(f\"-------------Iteration {n + 1}/{iterations}\")\n",
    "    random_state=42+n\n",
    "\n",
    "    X_train, y_train, X_test, y_test = prepare_dataset_classification(\n",
    "        df,\n",
    "        random_state=random_state,\n",
    "        train_size=train_size\n",
    "    )\n",
    "    print(f\"random_state = {random_state}\")\n",
    "\n",
    "    y_test, y_pred, acc, f1_macro, f1_micro, f1_weighted, kappa = train_and_evaluate_classifier(\n",
    "        X_train, \n",
    "        y_train, \n",
    "        X_test, \n",
    "        y_test, \n",
    "        random_state=random_state\n",
    "    )\n",
    "    \n",
    "    y_test_all.append(y_test)\n",
    "    y_pred_all.append(y_pred)    \n",
    "    acc_scores.append(acc)\n",
    "    f1macro_scores.append(f1_macro)\n",
    "    f1micro_scores.append(f1_micro)\n",
    "    f1weighted_scores.append(f1_weighted)\n",
    "    kappa_scores.append(kappa)\n",
    "    print(f\"Accuracy: {acc}\")\n",
    "    print(f\"F1 macro: {f1_macro}\")\n",
    "    print(f\"F1 micro: {f1_micro}\")\n",
    "    print(f\"F1 weighted: {f1_weighted}\")\n",
    "    print(f\"Kappa: {kappa}\")"
   ]
  },
  {
   "cell_type": "code",
   "execution_count": 39,
   "metadata": {},
   "outputs": [
    {
     "name": "stdout",
     "output_type": "stream",
     "text": [
      "FINAL REPORT for training size = 35\n",
      "mean accuracy: 0.6871794871794872 +/- 0.04971979340939825\n",
      "mean F1 macro: 0.6861301815279784 +/- 0.04941509562247804\n",
      "mean F1 micro: 0.6871794871794872 +/- 0.04971979340939825\n",
      "mean F1 weighted: 0.6858942322467414 +/- 0.04942030266942146\n",
      "mean Kappa: 0.37569399690573346 +/- 0.09941759185678042\n"
     ]
    }
   ],
   "source": [
    "print(f\"FINAL REPORT for training size = {train_size}\")\n",
    "\n",
    "print(f\"mean accuracy: {np.mean(acc_scores)} +/- {np.std(acc_scores)}\")\n",
    "print(f\"mean F1 macro: {np.mean(f1macro_scores)} +/- {np.std(f1macro_scores)}\")\n",
    "print(f\"mean F1 micro: {np.mean(f1micro_scores)} +/- {np.std(f1micro_scores)}\")\n",
    "print(f\"mean F1 weighted: {np.mean(f1weighted_scores)} +/- {np.std(f1weighted_scores)}\")\n",
    "print(f\"mean Kappa: {np.mean(kappa_scores)} +/- {np.std(kappa_scores)}\")"
   ]
  },
  {
   "cell_type": "code",
   "execution_count": 40,
   "metadata": {},
   "outputs": [
    {
     "data": {
      "text/html": [
       "<div>\n",
       "<style scoped>\n",
       "    .dataframe tbody tr th:only-of-type {\n",
       "        vertical-align: middle;\n",
       "    }\n",
       "\n",
       "    .dataframe tbody tr th {\n",
       "        vertical-align: top;\n",
       "    }\n",
       "\n",
       "    .dataframe thead th {\n",
       "        text-align: right;\n",
       "    }\n",
       "</style>\n",
       "<table border=\"1\" class=\"dataframe\">\n",
       "  <thead>\n",
       "    <tr style=\"text-align: right;\">\n",
       "      <th></th>\n",
       "      <th>train_size</th>\n",
       "      <th>y_true</th>\n",
       "      <th>y_pred</th>\n",
       "      <th>accuracy</th>\n",
       "      <th>f1_macro</th>\n",
       "      <th>f1_micro</th>\n",
       "      <th>f1_weighted</th>\n",
       "      <th>kappa</th>\n",
       "    </tr>\n",
       "  </thead>\n",
       "  <tbody>\n",
       "    <tr>\n",
       "      <th>0</th>\n",
       "      <td>35</td>\n",
       "      <td>[0, 0, 1, 0, 0, 1, 1, 1, 1, 0, 1, 0, 0, 0, 0, ...</td>\n",
       "      <td>[1, 0, 1, 0, 0, 1, 1, 1, 1, 0, 0, 0, 0, 1, 0, ...</td>\n",
       "      <td>0.692308</td>\n",
       "      <td>0.692105</td>\n",
       "      <td>0.692308</td>\n",
       "      <td>0.692308</td>\n",
       "      <td>0.384211</td>\n",
       "    </tr>\n",
       "    <tr>\n",
       "      <th>1</th>\n",
       "      <td>35</td>\n",
       "      <td>[0, 0, 0, 1, 0, 0, 0, 1, 0, 1, 1, 0, 1, 1, 1, ...</td>\n",
       "      <td>[1, 0, 0, 1, 1, 0, 0, 0, 1, 1, 0, 0, 1, 1, 0, ...</td>\n",
       "      <td>0.692308</td>\n",
       "      <td>0.692105</td>\n",
       "      <td>0.692308</td>\n",
       "      <td>0.691903</td>\n",
       "      <td>0.385827</td>\n",
       "    </tr>\n",
       "    <tr>\n",
       "      <th>2</th>\n",
       "      <td>35</td>\n",
       "      <td>[0, 0, 1, 0, 1, 1, 1, 0, 1, 1, 1, 1, 0, 1, 1, ...</td>\n",
       "      <td>[0, 1, 1, 0, 1, 1, 1, 1, 0, 1, 1, 0, 0, 0, 1, ...</td>\n",
       "      <td>0.615385</td>\n",
       "      <td>0.615385</td>\n",
       "      <td>0.615385</td>\n",
       "      <td>0.615385</td>\n",
       "      <td>0.231275</td>\n",
       "    </tr>\n",
       "  </tbody>\n",
       "</table>\n",
       "</div>"
      ],
      "text/plain": [
       "   train_size                                             y_true  \\\n",
       "0          35  [0, 0, 1, 0, 0, 1, 1, 1, 1, 0, 1, 0, 0, 0, 0, ...   \n",
       "1          35  [0, 0, 0, 1, 0, 0, 0, 1, 0, 1, 1, 0, 1, 1, 1, ...   \n",
       "2          35  [0, 0, 1, 0, 1, 1, 1, 0, 1, 1, 1, 1, 0, 1, 1, ...   \n",
       "\n",
       "                                              y_pred  accuracy  f1_macro  \\\n",
       "0  [1, 0, 1, 0, 0, 1, 1, 1, 1, 0, 0, 0, 0, 1, 0, ...  0.692308  0.692105   \n",
       "1  [1, 0, 0, 1, 1, 0, 0, 0, 1, 1, 0, 0, 1, 1, 0, ...  0.692308  0.692105   \n",
       "2  [0, 1, 1, 0, 1, 1, 1, 1, 0, 1, 1, 0, 0, 0, 1, ...  0.615385  0.615385   \n",
       "\n",
       "   f1_micro  f1_weighted     kappa  \n",
       "0  0.692308     0.692308  0.384211  \n",
       "1  0.692308     0.691903  0.385827  \n",
       "2  0.615385     0.615385  0.231275  "
      ]
     },
     "execution_count": 40,
     "metadata": {},
     "output_type": "execute_result"
    }
   ],
   "source": [
    "compiled_res_35 = pd.DataFrame(metrics_dict())\n",
    "compiled_res_35.head(3)"
   ]
  },
  {
   "cell_type": "markdown",
   "metadata": {},
   "source": [
    "### training size = 45"
   ]
  },
  {
   "cell_type": "code",
   "execution_count": 41,
   "metadata": {},
   "outputs": [],
   "source": [
    "train_size = 45\n",
    "iterations = 10\n",
    "y_test_all = []\n",
    "y_pred_all = []\n",
    "acc_scores = []\n",
    "f1macro_scores = []\n",
    "f1micro_scores = []\n",
    "f1weighted_scores = []\n",
    "kappa_scores = []"
   ]
  },
  {
   "cell_type": "code",
   "execution_count": 42,
   "metadata": {
    "scrolled": true
   },
   "outputs": [
    {
     "name": "stdout",
     "output_type": "stream",
     "text": [
      "-------------Iteration 1/10\n",
      "45 29\n",
      "random_state = 42\n",
      "Accuracy: 0.7241379310344828\n",
      "F1 macro: 0.7238095238095238\n",
      "F1 micro: 0.7241379310344828\n",
      "F1 weighted: 0.7234811165845648\n",
      "Kappa: 0.45023696682464465\n",
      "-------------Iteration 2/10\n",
      "45 29\n",
      "random_state = 43\n"
     ]
    },
    {
     "name": "stderr",
     "output_type": "stream",
     "text": [
      "[Parallel(n_jobs=1)]: Done  49 tasks      | elapsed:    0.0s\n",
      "[Parallel(n_jobs=1)]: Done 199 tasks      | elapsed:    0.1s\n",
      "[Parallel(n_jobs=1)]: Done  49 tasks      | elapsed:    0.0s\n",
      "[Parallel(n_jobs=1)]: Done 199 tasks      | elapsed:    0.0s\n",
      "[Parallel(n_jobs=1)]: Done  49 tasks      | elapsed:    0.0s\n",
      "[Parallel(n_jobs=1)]: Done 199 tasks      | elapsed:    0.1s\n",
      "[Parallel(n_jobs=1)]: Done  49 tasks      | elapsed:    0.0s\n",
      "[Parallel(n_jobs=1)]: Done 199 tasks      | elapsed:    0.0s\n",
      "[Parallel(n_jobs=1)]: Done  49 tasks      | elapsed:    0.0s\n",
      "[Parallel(n_jobs=1)]: Done 199 tasks      | elapsed:    0.1s\n",
      "[Parallel(n_jobs=1)]: Done  49 tasks      | elapsed:    0.0s\n",
      "[Parallel(n_jobs=1)]: Done 199 tasks      | elapsed:    0.0s\n",
      "[Parallel(n_jobs=1)]: Done  49 tasks      | elapsed:    0.0s\n"
     ]
    },
    {
     "name": "stdout",
     "output_type": "stream",
     "text": [
      "Accuracy: 0.7241379310344828\n",
      "F1 macro: 0.7238095238095238\n",
      "F1 micro: 0.7241379310344828\n",
      "F1 weighted: 0.7241379310344828\n",
      "Kappa: 0.4476190476190476\n",
      "-------------Iteration 3/10\n",
      "45 29\n",
      "random_state = 44\n",
      "Accuracy: 0.5172413793103449\n",
      "F1 macro: 0.5166666666666666\n",
      "F1 micro: 0.5172413793103449\n",
      "F1 weighted: 0.5160919540229885\n",
      "Kappa: 0.03791469194312802\n",
      "-------------Iteration 4/10\n",
      "45 29\n",
      "random_state = 45\n"
     ]
    },
    {
     "name": "stderr",
     "output_type": "stream",
     "text": [
      "[Parallel(n_jobs=1)]: Done 199 tasks      | elapsed:    0.1s\n",
      "[Parallel(n_jobs=1)]: Done  49 tasks      | elapsed:    0.0s\n",
      "[Parallel(n_jobs=1)]: Done 199 tasks      | elapsed:    0.0s\n",
      "[Parallel(n_jobs=1)]: Done  49 tasks      | elapsed:    0.0s\n",
      "[Parallel(n_jobs=1)]: Done 199 tasks      | elapsed:    0.1s\n",
      "[Parallel(n_jobs=1)]: Done  49 tasks      | elapsed:    0.0s\n",
      "[Parallel(n_jobs=1)]: Done 199 tasks      | elapsed:    0.0s\n"
     ]
    },
    {
     "name": "stdout",
     "output_type": "stream",
     "text": [
      "Accuracy: 0.6896551724137931\n",
      "F1 macro: 0.6881720430107527\n",
      "F1 micro: 0.6896551724137931\n",
      "F1 weighted: 0.6889136077122728\n",
      "Kappa: 0.3770883054892602\n",
      "-------------Iteration 5/10\n",
      "45 29\n",
      "random_state = 46\n",
      "Accuracy: 0.6551724137931034\n",
      "F1 macro: 0.6547619047619048\n",
      "F1 micro: 0.6551724137931034\n",
      "F1 weighted: 0.654351395730706\n",
      "Kappa: 0.3127962085308057\n",
      "-------------Iteration 6/10\n",
      "45 29\n",
      "random_state = 47\n"
     ]
    },
    {
     "name": "stderr",
     "output_type": "stream",
     "text": [
      "[Parallel(n_jobs=1)]: Done  49 tasks      | elapsed:    0.0s\n",
      "[Parallel(n_jobs=1)]: Done 199 tasks      | elapsed:    0.1s\n",
      "[Parallel(n_jobs=1)]: Done  49 tasks      | elapsed:    0.0s\n",
      "[Parallel(n_jobs=1)]: Done 199 tasks      | elapsed:    0.0s\n",
      "[Parallel(n_jobs=1)]: Done  49 tasks      | elapsed:    0.0s\n",
      "[Parallel(n_jobs=1)]: Done 199 tasks      | elapsed:    0.1s\n",
      "[Parallel(n_jobs=1)]: Done  49 tasks      | elapsed:    0.0s\n",
      "[Parallel(n_jobs=1)]: Done 199 tasks      | elapsed:    0.0s\n"
     ]
    },
    {
     "name": "stdout",
     "output_type": "stream",
     "text": [
      "Accuracy: 0.7586206896551724\n",
      "F1 macro: 0.7478260869565218\n",
      "F1 micro: 0.7586206896551724\n",
      "F1 weighted: 0.7496251874062969\n",
      "Kappa: 0.5108433734939759\n",
      "-------------Iteration 7/10\n",
      "45 29\n",
      "random_state = 48\n",
      "Accuracy: 0.6551724137931034\n",
      "F1 macro: 0.6514423076923077\n",
      "F1 micro: 0.6551724137931034\n",
      "F1 weighted: 0.652685676392573\n",
      "Kappa: 0.30622009569377995\n",
      "-------------Iteration 8/10\n",
      "45 29\n",
      "random_state = 49\n"
     ]
    },
    {
     "name": "stderr",
     "output_type": "stream",
     "text": [
      "[Parallel(n_jobs=1)]: Done  49 tasks      | elapsed:    0.0s\n",
      "[Parallel(n_jobs=1)]: Done 199 tasks      | elapsed:    0.1s\n",
      "[Parallel(n_jobs=1)]: Done  49 tasks      | elapsed:    0.0s\n",
      "[Parallel(n_jobs=1)]: Done 199 tasks      | elapsed:    0.0s\n",
      "[Parallel(n_jobs=1)]: Done  49 tasks      | elapsed:    0.0s\n"
     ]
    },
    {
     "name": "stdout",
     "output_type": "stream",
     "text": [
      "Accuracy: 0.7586206896551724\n",
      "F1 macro: 0.7586206896551724\n",
      "F1 micro: 0.7586206896551724\n",
      "F1 weighted: 0.7586206896551724\n",
      "Kappa: 0.517814726840855\n",
      "-------------Iteration 9/10\n",
      "45 29\n",
      "random_state = 50\n",
      "Accuracy: 0.6551724137931034\n",
      "F1 macro: 0.6514423076923077\n",
      "F1 micro: 0.6551724137931034\n",
      "F1 weighted: 0.6501989389920425\n",
      "Kappa: 0.3160377358490566\n",
      "-------------Iteration 10/10\n",
      "45 29\n",
      "random_state = 51\n",
      "Accuracy: 0.7241379310344828\n",
      "F1 macro: 0.7211538461538461\n",
      "F1 micro: 0.7241379310344828\n",
      "F1 weighted: 0.720159151193634\n",
      "Kappa: 0.4528301886792453\n"
     ]
    },
    {
     "name": "stderr",
     "output_type": "stream",
     "text": [
      "[Parallel(n_jobs=1)]: Done 199 tasks      | elapsed:    0.1s\n",
      "[Parallel(n_jobs=1)]: Done  49 tasks      | elapsed:    0.0s\n",
      "[Parallel(n_jobs=1)]: Done 199 tasks      | elapsed:    0.0s\n",
      "[Parallel(n_jobs=1)]: Done  49 tasks      | elapsed:    0.0s\n",
      "[Parallel(n_jobs=1)]: Done 199 tasks      | elapsed:    0.1s\n",
      "[Parallel(n_jobs=1)]: Done  49 tasks      | elapsed:    0.0s\n",
      "[Parallel(n_jobs=1)]: Done 199 tasks      | elapsed:    0.0s\n"
     ]
    }
   ],
   "source": [
    "for n in range(iterations):\n",
    "    print(f\"-------------Iteration {n + 1}/{iterations}\")\n",
    "    random_state=42+n\n",
    "\n",
    "    X_train, y_train, X_test, y_test = prepare_dataset_classification(\n",
    "        df,\n",
    "        random_state=random_state,\n",
    "        train_size=train_size\n",
    "    )\n",
    "    print(f\"random_state = {random_state}\")\n",
    "\n",
    "    y_test, y_pred, acc, f1_macro, f1_micro, f1_weighted, kappa = train_and_evaluate_classifier(\n",
    "        X_train, \n",
    "        y_train, \n",
    "        X_test, \n",
    "        y_test, \n",
    "        random_state=random_state\n",
    "    )\n",
    "    \n",
    "    y_test_all.append(y_test)\n",
    "    y_pred_all.append(y_pred)    \n",
    "    acc_scores.append(acc)\n",
    "    f1macro_scores.append(f1_macro)\n",
    "    f1micro_scores.append(f1_micro)\n",
    "    f1weighted_scores.append(f1_weighted)\n",
    "    kappa_scores.append(kappa)\n",
    "    print(f\"Accuracy: {acc}\")\n",
    "    print(f\"F1 macro: {f1_macro}\")\n",
    "    print(f\"F1 micro: {f1_micro}\")\n",
    "    print(f\"F1 weighted: {f1_weighted}\")\n",
    "    print(f\"Kappa: {kappa}\")"
   ]
  },
  {
   "cell_type": "code",
   "execution_count": 43,
   "metadata": {},
   "outputs": [
    {
     "name": "stdout",
     "output_type": "stream",
     "text": [
      "FINAL REPORT for training size = 45\n",
      "mean accuracy: 0.6862068965517241 +/- 0.06801063077005523\n",
      "mean F1 macro: 0.6837704900208527 +/- 0.0672192069766374\n",
      "mean F1 micro: 0.6862068965517241 +/- 0.06801063077005523\n",
      "mean F1 weighted: 0.6838265648724734 +/- 0.0675065195420171\n",
      "mean Kappa: 0.3729401340963799 +/- 0.13472420153940204\n"
     ]
    }
   ],
   "source": [
    "print(f\"FINAL REPORT for training size = {train_size}\")\n",
    "\n",
    "print(f\"mean accuracy: {np.mean(acc_scores)} +/- {np.std(acc_scores)}\")\n",
    "print(f\"mean F1 macro: {np.mean(f1macro_scores)} +/- {np.std(f1macro_scores)}\")\n",
    "print(f\"mean F1 micro: {np.mean(f1micro_scores)} +/- {np.std(f1micro_scores)}\")\n",
    "print(f\"mean F1 weighted: {np.mean(f1weighted_scores)} +/- {np.std(f1weighted_scores)}\")\n",
    "print(f\"mean Kappa: {np.mean(kappa_scores)} +/- {np.std(kappa_scores)}\")"
   ]
  },
  {
   "cell_type": "code",
   "execution_count": 44,
   "metadata": {},
   "outputs": [
    {
     "data": {
      "text/html": [
       "<div>\n",
       "<style scoped>\n",
       "    .dataframe tbody tr th:only-of-type {\n",
       "        vertical-align: middle;\n",
       "    }\n",
       "\n",
       "    .dataframe tbody tr th {\n",
       "        vertical-align: top;\n",
       "    }\n",
       "\n",
       "    .dataframe thead th {\n",
       "        text-align: right;\n",
       "    }\n",
       "</style>\n",
       "<table border=\"1\" class=\"dataframe\">\n",
       "  <thead>\n",
       "    <tr style=\"text-align: right;\">\n",
       "      <th></th>\n",
       "      <th>train_size</th>\n",
       "      <th>y_true</th>\n",
       "      <th>y_pred</th>\n",
       "      <th>accuracy</th>\n",
       "      <th>f1_macro</th>\n",
       "      <th>f1_micro</th>\n",
       "      <th>f1_weighted</th>\n",
       "      <th>kappa</th>\n",
       "    </tr>\n",
       "  </thead>\n",
       "  <tbody>\n",
       "    <tr>\n",
       "      <th>0</th>\n",
       "      <td>45</td>\n",
       "      <td>[0, 1, 1, 0, 0, 0, 1, 1, 0, 0, 0, 0, 1, 1, 1, ...</td>\n",
       "      <td>[0, 1, 1, 0, 0, 0, 1, 1, 1, 0, 1, 0, 1, 1, 0, ...</td>\n",
       "      <td>0.724138</td>\n",
       "      <td>0.723810</td>\n",
       "      <td>0.724138</td>\n",
       "      <td>0.723481</td>\n",
       "      <td>0.450237</td>\n",
       "    </tr>\n",
       "    <tr>\n",
       "      <th>1</th>\n",
       "      <td>45</td>\n",
       "      <td>[0, 0, 1, 0, 0, 0, 1, 0, 0, 1, 0, 1, 0, 0, 1, ...</td>\n",
       "      <td>[0, 1, 0, 0, 1, 0, 0, 1, 0, 1, 0, 1, 0, 0, 1, ...</td>\n",
       "      <td>0.724138</td>\n",
       "      <td>0.723810</td>\n",
       "      <td>0.724138</td>\n",
       "      <td>0.724138</td>\n",
       "      <td>0.447619</td>\n",
       "    </tr>\n",
       "    <tr>\n",
       "      <th>2</th>\n",
       "      <td>45</td>\n",
       "      <td>[0, 0, 1, 1, 0, 1, 0, 0, 1, 1, 1, 0, 0, 1, 0, ...</td>\n",
       "      <td>[1, 1, 0, 1, 0, 1, 1, 1, 1, 0, 1, 0, 1, 1, 0, ...</td>\n",
       "      <td>0.517241</td>\n",
       "      <td>0.516667</td>\n",
       "      <td>0.517241</td>\n",
       "      <td>0.516092</td>\n",
       "      <td>0.037915</td>\n",
       "    </tr>\n",
       "  </tbody>\n",
       "</table>\n",
       "</div>"
      ],
      "text/plain": [
       "   train_size                                             y_true  \\\n",
       "0          45  [0, 1, 1, 0, 0, 0, 1, 1, 0, 0, 0, 0, 1, 1, 1, ...   \n",
       "1          45  [0, 0, 1, 0, 0, 0, 1, 0, 0, 1, 0, 1, 0, 0, 1, ...   \n",
       "2          45  [0, 0, 1, 1, 0, 1, 0, 0, 1, 1, 1, 0, 0, 1, 0, ...   \n",
       "\n",
       "                                              y_pred  accuracy  f1_macro  \\\n",
       "0  [0, 1, 1, 0, 0, 0, 1, 1, 1, 0, 1, 0, 1, 1, 0, ...  0.724138  0.723810   \n",
       "1  [0, 1, 0, 0, 1, 0, 0, 1, 0, 1, 0, 1, 0, 0, 1, ...  0.724138  0.723810   \n",
       "2  [1, 1, 0, 1, 0, 1, 1, 1, 1, 0, 1, 0, 1, 1, 0, ...  0.517241  0.516667   \n",
       "\n",
       "   f1_micro  f1_weighted     kappa  \n",
       "0  0.724138     0.723481  0.450237  \n",
       "1  0.724138     0.724138  0.447619  \n",
       "2  0.517241     0.516092  0.037915  "
      ]
     },
     "execution_count": 44,
     "metadata": {},
     "output_type": "execute_result"
    }
   ],
   "source": [
    "compiled_res_45 = pd.DataFrame(metrics_dict())\n",
    "compiled_res_45.head(3)"
   ]
  },
  {
   "cell_type": "markdown",
   "metadata": {},
   "source": [
    "### training size = 55"
   ]
  },
  {
   "cell_type": "code",
   "execution_count": 45,
   "metadata": {},
   "outputs": [],
   "source": [
    "train_size = 55\n",
    "iterations = 10\n",
    "y_test_all = []\n",
    "y_pred_all = []\n",
    "acc_scores = []\n",
    "f1macro_scores = []\n",
    "f1micro_scores = []\n",
    "f1weighted_scores = []\n",
    "kappa_scores = []"
   ]
  },
  {
   "cell_type": "code",
   "execution_count": 46,
   "metadata": {
    "scrolled": true
   },
   "outputs": [
    {
     "name": "stdout",
     "output_type": "stream",
     "text": [
      "-------------Iteration 1/10\n",
      "55 19\n",
      "random_state = 42\n",
      "Accuracy: 0.7368421052631579\n",
      "F1 macro: 0.7368421052631579\n",
      "F1 micro: 0.7368421052631579\n",
      "F1 weighted: 0.7368421052631579\n",
      "Kappa: 0.47513812154696133\n",
      "-------------Iteration 2/10\n",
      "55 19\n",
      "random_state = 43\n"
     ]
    },
    {
     "name": "stderr",
     "output_type": "stream",
     "text": [
      "[Parallel(n_jobs=1)]: Done  49 tasks      | elapsed:    0.0s\n",
      "[Parallel(n_jobs=1)]: Done 199 tasks      | elapsed:    0.1s\n",
      "[Parallel(n_jobs=1)]: Done  49 tasks      | elapsed:    0.0s\n",
      "[Parallel(n_jobs=1)]: Done 199 tasks      | elapsed:    0.0s\n",
      "[Parallel(n_jobs=1)]: Done  49 tasks      | elapsed:    0.0s\n",
      "[Parallel(n_jobs=1)]: Done 199 tasks      | elapsed:    0.1s\n",
      "[Parallel(n_jobs=1)]: Done  49 tasks      | elapsed:    0.0s\n",
      "[Parallel(n_jobs=1)]: Done 199 tasks      | elapsed:    0.0s\n",
      "[Parallel(n_jobs=1)]: Done  49 tasks      | elapsed:    0.0s\n",
      "[Parallel(n_jobs=1)]: Done 199 tasks      | elapsed:    0.1s\n",
      "[Parallel(n_jobs=1)]: Done  49 tasks      | elapsed:    0.0s\n",
      "[Parallel(n_jobs=1)]: Done 199 tasks      | elapsed:    0.0s\n",
      "[Parallel(n_jobs=1)]: Done  49 tasks      | elapsed:    0.0s\n"
     ]
    },
    {
     "name": "stdout",
     "output_type": "stream",
     "text": [
      "Accuracy: 0.7368421052631579\n",
      "F1 macro: 0.7338935574229692\n",
      "F1 micro: 0.7368421052631579\n",
      "F1 weighted: 0.7353678313430635\n",
      "Kappa: 0.4692737430167597\n",
      "-------------Iteration 3/10\n",
      "55 19\n",
      "random_state = 44\n",
      "Accuracy: 0.631578947368421\n",
      "F1 macro: 0.6274509803921569\n",
      "F1 micro: 0.631578947368421\n",
      "F1 weighted: 0.6253869969040248\n",
      "Kappa: 0.27322404371584696\n",
      "-------------Iteration 4/10\n",
      "55 19\n",
      "random_state = 45\n"
     ]
    },
    {
     "name": "stderr",
     "output_type": "stream",
     "text": [
      "[Parallel(n_jobs=1)]: Done 199 tasks      | elapsed:    0.1s\n",
      "[Parallel(n_jobs=1)]: Done  49 tasks      | elapsed:    0.0s\n",
      "[Parallel(n_jobs=1)]: Done 199 tasks      | elapsed:    0.0s\n",
      "[Parallel(n_jobs=1)]: Done  49 tasks      | elapsed:    0.0s\n",
      "[Parallel(n_jobs=1)]: Done 199 tasks      | elapsed:    0.1s\n",
      "[Parallel(n_jobs=1)]: Done  49 tasks      | elapsed:    0.0s\n",
      "[Parallel(n_jobs=1)]: Done 199 tasks      | elapsed:    0.0s\n"
     ]
    },
    {
     "name": "stdout",
     "output_type": "stream",
     "text": [
      "Accuracy: 0.6842105263157895\n",
      "F1 macro: 0.6833333333333333\n",
      "F1 micro: 0.6842105263157895\n",
      "F1 weighted: 0.6842105263157895\n",
      "Kappa: 0.3666666666666666\n",
      "-------------Iteration 5/10\n",
      "55 19\n",
      "random_state = 46\n",
      "Accuracy: 0.631578947368421\n",
      "F1 macro: 0.6274509803921569\n",
      "F1 micro: 0.631578947368421\n",
      "F1 weighted: 0.6253869969040248\n",
      "Kappa: 0.27322404371584696\n",
      "-------------Iteration 6/10\n",
      "55 19\n",
      "random_state = 47\n"
     ]
    },
    {
     "name": "stderr",
     "output_type": "stream",
     "text": [
      "[Parallel(n_jobs=1)]: Done  49 tasks      | elapsed:    0.0s\n",
      "[Parallel(n_jobs=1)]: Done 199 tasks      | elapsed:    0.1s\n",
      "[Parallel(n_jobs=1)]: Done  49 tasks      | elapsed:    0.0s\n",
      "[Parallel(n_jobs=1)]: Done 199 tasks      | elapsed:    0.0s\n",
      "[Parallel(n_jobs=1)]: Done  49 tasks      | elapsed:    0.0s\n"
     ]
    },
    {
     "name": "stdout",
     "output_type": "stream",
     "text": [
      "Accuracy: 0.8421052631578947\n",
      "F1 macro: 0.8403361344537814\n",
      "F1 micro: 0.8421052631578947\n",
      "F1 weighted: 0.8412206988058382\n",
      "Kappa: 0.6815642458100559\n",
      "-------------Iteration 7/10\n",
      "55 19\n",
      "random_state = 48\n",
      "Accuracy: 0.631578947368421\n",
      "F1 macro: 0.6274509803921569\n",
      "F1 micro: 0.631578947368421\n",
      "F1 weighted: 0.6295149638802889\n",
      "Kappa: 0.25698324022346364\n",
      "-------------Iteration 8/10\n",
      "55 19\n",
      "random_state = 49\n"
     ]
    },
    {
     "name": "stderr",
     "output_type": "stream",
     "text": [
      "[Parallel(n_jobs=1)]: Done 199 tasks      | elapsed:    0.1s\n",
      "[Parallel(n_jobs=1)]: Done  49 tasks      | elapsed:    0.0s\n",
      "[Parallel(n_jobs=1)]: Done 199 tasks      | elapsed:    0.0s\n",
      "[Parallel(n_jobs=1)]: Done  49 tasks      | elapsed:    0.0s\n",
      "[Parallel(n_jobs=1)]: Done 199 tasks      | elapsed:    0.1s\n",
      "[Parallel(n_jobs=1)]: Done  49 tasks      | elapsed:    0.0s\n",
      "[Parallel(n_jobs=1)]: Done 199 tasks      | elapsed:    0.0s\n"
     ]
    },
    {
     "name": "stdout",
     "output_type": "stream",
     "text": [
      "Accuracy: 0.7368421052631579\n",
      "F1 macro: 0.7338935574229692\n",
      "F1 micro: 0.7368421052631579\n",
      "F1 weighted: 0.7353678313430635\n",
      "Kappa: 0.4692737430167597\n",
      "-------------Iteration 9/10\n",
      "55 19\n",
      "random_state = 50\n",
      "Accuracy: 0.631578947368421\n",
      "F1 macro: 0.631578947368421\n",
      "F1 micro: 0.631578947368421\n",
      "F1 weighted: 0.631578947368421\n",
      "Kappa: 0.26519337016574596\n",
      "-------------Iteration 10/10\n",
      "55 19\n",
      "random_state = 51\n"
     ]
    },
    {
     "name": "stderr",
     "output_type": "stream",
     "text": [
      "[Parallel(n_jobs=1)]: Done  49 tasks      | elapsed:    0.0s\n",
      "[Parallel(n_jobs=1)]: Done 199 tasks      | elapsed:    0.1s\n",
      "[Parallel(n_jobs=1)]: Done  49 tasks      | elapsed:    0.0s\n",
      "[Parallel(n_jobs=1)]: Done 199 tasks      | elapsed:    0.0s\n",
      "[Parallel(n_jobs=1)]: Done  49 tasks      | elapsed:    0.0s\n"
     ]
    },
    {
     "name": "stdout",
     "output_type": "stream",
     "text": [
      "Accuracy: 0.7368421052631579\n",
      "F1 macro: 0.7338935574229692\n",
      "F1 micro: 0.7368421052631579\n",
      "F1 weighted: 0.7324192835028749\n",
      "Kappa: 0.4808743169398907\n"
     ]
    },
    {
     "name": "stderr",
     "output_type": "stream",
     "text": [
      "[Parallel(n_jobs=1)]: Done 199 tasks      | elapsed:    0.1s\n",
      "[Parallel(n_jobs=1)]: Done  49 tasks      | elapsed:    0.0s\n",
      "[Parallel(n_jobs=1)]: Done 199 tasks      | elapsed:    0.0s\n"
     ]
    }
   ],
   "source": [
    "for n in range(iterations):\n",
    "    print(f\"-------------Iteration {n + 1}/{iterations}\")\n",
    "    random_state=42+n\n",
    "\n",
    "    X_train, y_train, X_test, y_test = prepare_dataset_classification(\n",
    "        df,\n",
    "        random_state=random_state,\n",
    "        train_size=train_size\n",
    "    )\n",
    "    print(f\"random_state = {random_state}\")\n",
    "\n",
    "    y_test, y_pred, acc, f1_macro, f1_micro, f1_weighted, kappa = train_and_evaluate_classifier(\n",
    "        X_train, \n",
    "        y_train, \n",
    "        X_test, \n",
    "        y_test, \n",
    "        random_state=random_state\n",
    "    )\n",
    "    \n",
    "    y_test_all.append(y_test)\n",
    "    y_pred_all.append(y_pred)    \n",
    "    acc_scores.append(acc)\n",
    "    f1macro_scores.append(f1_macro)\n",
    "    f1micro_scores.append(f1_micro)\n",
    "    f1weighted_scores.append(f1_weighted)\n",
    "    kappa_scores.append(kappa)\n",
    "    print(f\"Accuracy: {acc}\")\n",
    "    print(f\"F1 macro: {f1_macro}\")\n",
    "    print(f\"F1 micro: {f1_micro}\")\n",
    "    print(f\"F1 weighted: {f1_weighted}\")\n",
    "    print(f\"Kappa: {kappa}\")"
   ]
  },
  {
   "cell_type": "code",
   "execution_count": 47,
   "metadata": {},
   "outputs": [
    {
     "name": "stdout",
     "output_type": "stream",
     "text": [
      "FINAL REPORT for training size = 55\n",
      "mean accuracy: 0.7 +/- 0.06678198705499747\n",
      "mean F1 macro: 0.6976124133864072 +/- 0.06722364488689853\n",
      "mean F1 micro: 0.7 +/- 0.06678198705499747\n",
      "mean F1 weighted: 0.6977296181630547 +/- 0.0677015109037256\n",
      "mean Kappa: 0.40114155348179975 +/- 0.13150342458930667\n"
     ]
    }
   ],
   "source": [
    "print(f\"FINAL REPORT for training size = {train_size}\")\n",
    "\n",
    "print(f\"mean accuracy: {np.mean(acc_scores)} +/- {np.std(acc_scores)}\")\n",
    "print(f\"mean F1 macro: {np.mean(f1macro_scores)} +/- {np.std(f1macro_scores)}\")\n",
    "print(f\"mean F1 micro: {np.mean(f1micro_scores)} +/- {np.std(f1micro_scores)}\")\n",
    "print(f\"mean F1 weighted: {np.mean(f1weighted_scores)} +/- {np.std(f1weighted_scores)}\")\n",
    "print(f\"mean Kappa: {np.mean(kappa_scores)} +/- {np.std(kappa_scores)}\")"
   ]
  },
  {
   "cell_type": "code",
   "execution_count": 48,
   "metadata": {},
   "outputs": [
    {
     "data": {
      "text/html": [
       "<div>\n",
       "<style scoped>\n",
       "    .dataframe tbody tr th:only-of-type {\n",
       "        vertical-align: middle;\n",
       "    }\n",
       "\n",
       "    .dataframe tbody tr th {\n",
       "        vertical-align: top;\n",
       "    }\n",
       "\n",
       "    .dataframe thead th {\n",
       "        text-align: right;\n",
       "    }\n",
       "</style>\n",
       "<table border=\"1\" class=\"dataframe\">\n",
       "  <thead>\n",
       "    <tr style=\"text-align: right;\">\n",
       "      <th></th>\n",
       "      <th>train_size</th>\n",
       "      <th>y_true</th>\n",
       "      <th>y_pred</th>\n",
       "      <th>accuracy</th>\n",
       "      <th>f1_macro</th>\n",
       "      <th>f1_micro</th>\n",
       "      <th>f1_weighted</th>\n",
       "      <th>kappa</th>\n",
       "    </tr>\n",
       "  </thead>\n",
       "  <tbody>\n",
       "    <tr>\n",
       "      <th>0</th>\n",
       "      <td>55</td>\n",
       "      <td>[1, 0, 0, 0, 1, 1, 0, 0, 0, 0, 1, 1, 1, 1, 1, ...</td>\n",
       "      <td>[0, 0, 1, 0, 1, 1, 0, 0, 0, 1, 0, 1, 1, 1, 1, ...</td>\n",
       "      <td>0.736842</td>\n",
       "      <td>0.736842</td>\n",
       "      <td>0.736842</td>\n",
       "      <td>0.736842</td>\n",
       "      <td>0.475138</td>\n",
       "    </tr>\n",
       "    <tr>\n",
       "      <th>1</th>\n",
       "      <td>55</td>\n",
       "      <td>[1, 1, 1, 0, 0, 1, 1, 0, 1, 0, 1, 0, 1, 0, 0, ...</td>\n",
       "      <td>[0, 1, 1, 0, 0, 1, 1, 0, 0, 0, 0, 0, 1, 0, 0, ...</td>\n",
       "      <td>0.736842</td>\n",
       "      <td>0.733894</td>\n",
       "      <td>0.736842</td>\n",
       "      <td>0.735368</td>\n",
       "      <td>0.469274</td>\n",
       "    </tr>\n",
       "    <tr>\n",
       "      <th>2</th>\n",
       "      <td>55</td>\n",
       "      <td>[0, 0, 0, 1, 1, 1, 1, 1, 0, 0, 0, 1, 0, 0, 1, ...</td>\n",
       "      <td>[1, 0, 1, 1, 1, 1, 1, 0, 1, 0, 0, 1, 0, 1, 0, ...</td>\n",
       "      <td>0.631579</td>\n",
       "      <td>0.627451</td>\n",
       "      <td>0.631579</td>\n",
       "      <td>0.625387</td>\n",
       "      <td>0.273224</td>\n",
       "    </tr>\n",
       "  </tbody>\n",
       "</table>\n",
       "</div>"
      ],
      "text/plain": [
       "   train_size                                             y_true  \\\n",
       "0          55  [1, 0, 0, 0, 1, 1, 0, 0, 0, 0, 1, 1, 1, 1, 1, ...   \n",
       "1          55  [1, 1, 1, 0, 0, 1, 1, 0, 1, 0, 1, 0, 1, 0, 0, ...   \n",
       "2          55  [0, 0, 0, 1, 1, 1, 1, 1, 0, 0, 0, 1, 0, 0, 1, ...   \n",
       "\n",
       "                                              y_pred  accuracy  f1_macro  \\\n",
       "0  [0, 0, 1, 0, 1, 1, 0, 0, 0, 1, 0, 1, 1, 1, 1, ...  0.736842  0.736842   \n",
       "1  [0, 1, 1, 0, 0, 1, 1, 0, 0, 0, 0, 0, 1, 0, 0, ...  0.736842  0.733894   \n",
       "2  [1, 0, 1, 1, 1, 1, 1, 0, 1, 0, 0, 1, 0, 1, 0, ...  0.631579  0.627451   \n",
       "\n",
       "   f1_micro  f1_weighted     kappa  \n",
       "0  0.736842     0.736842  0.475138  \n",
       "1  0.736842     0.735368  0.469274  \n",
       "2  0.631579     0.625387  0.273224  "
      ]
     },
     "execution_count": 48,
     "metadata": {},
     "output_type": "execute_result"
    }
   ],
   "source": [
    "compiled_res_55 = pd.DataFrame(metrics_dict())\n",
    "compiled_res_55.head(3)"
   ]
  },
  {
   "cell_type": "markdown",
   "metadata": {},
   "source": [
    "### training size = 65"
   ]
  },
  {
   "cell_type": "code",
   "execution_count": 49,
   "metadata": {},
   "outputs": [],
   "source": [
    "train_size = 65\n",
    "iterations = 10\n",
    "y_test_all = []\n",
    "y_pred_all = []\n",
    "acc_scores = []\n",
    "f1macro_scores = []\n",
    "f1micro_scores = []\n",
    "f1weighted_scores = []\n",
    "kappa_scores = []"
   ]
  },
  {
   "cell_type": "code",
   "execution_count": 50,
   "metadata": {},
   "outputs": [
    {
     "name": "stdout",
     "output_type": "stream",
     "text": [
      "-------------Iteration 1/10\n",
      "65 9\n",
      "random_state = 42\n",
      "Accuracy: 0.7777777777777778\n",
      "F1 macro: 0.775\n",
      "F1 micro: 0.7777777777777778\n",
      "F1 weighted: 0.7777777777777778\n",
      "Kappa: 0.55\n",
      "-------------Iteration 2/10\n",
      "65 9\n",
      "random_state = 43\n"
     ]
    },
    {
     "name": "stderr",
     "output_type": "stream",
     "text": [
      "[Parallel(n_jobs=1)]: Done  49 tasks      | elapsed:    0.0s\n",
      "[Parallel(n_jobs=1)]: Done 199 tasks      | elapsed:    0.1s\n",
      "[Parallel(n_jobs=1)]: Done  49 tasks      | elapsed:    0.0s\n",
      "[Parallel(n_jobs=1)]: Done 199 tasks      | elapsed:    0.0s\n",
      "[Parallel(n_jobs=1)]: Done  49 tasks      | elapsed:    0.0s\n",
      "[Parallel(n_jobs=1)]: Done 199 tasks      | elapsed:    0.1s\n",
      "[Parallel(n_jobs=1)]: Done  49 tasks      | elapsed:    0.0s\n",
      "[Parallel(n_jobs=1)]: Done 199 tasks      | elapsed:    0.0s\n",
      "[Parallel(n_jobs=1)]: Done  49 tasks      | elapsed:    0.0s\n",
      "[Parallel(n_jobs=1)]: Done 199 tasks      | elapsed:    0.1s\n",
      "[Parallel(n_jobs=1)]: Done  49 tasks      | elapsed:    0.0s\n",
      "[Parallel(n_jobs=1)]: Done 199 tasks      | elapsed:    0.0s\n"
     ]
    },
    {
     "name": "stdout",
     "output_type": "stream",
     "text": [
      "Accuracy: 0.6666666666666666\n",
      "F1 macro: 0.6666666666666666\n",
      "F1 micro: 0.6666666666666666\n",
      "F1 weighted: 0.6666666666666666\n",
      "Kappa: 0.3414634146341463\n",
      "-------------Iteration 3/10\n",
      "65 9\n",
      "random_state = 44\n",
      "Accuracy: 0.7777777777777778\n",
      "F1 macro: 0.775\n",
      "F1 micro: 0.7777777777777778\n",
      "F1 weighted: 0.7722222222222223\n",
      "Kappa: 0.5714285714285714\n",
      "-------------Iteration 4/10\n",
      "65 9\n",
      "random_state = 45\n"
     ]
    },
    {
     "name": "stderr",
     "output_type": "stream",
     "text": [
      "[Parallel(n_jobs=1)]: Done  49 tasks      | elapsed:    0.0s\n",
      "[Parallel(n_jobs=1)]: Done 199 tasks      | elapsed:    0.1s\n",
      "[Parallel(n_jobs=1)]: Done  49 tasks      | elapsed:    0.0s\n",
      "[Parallel(n_jobs=1)]: Done 199 tasks      | elapsed:    0.0s\n",
      "[Parallel(n_jobs=1)]: Done  49 tasks      | elapsed:    0.0s\n",
      "[Parallel(n_jobs=1)]: Done 199 tasks      | elapsed:    0.1s\n"
     ]
    },
    {
     "name": "stdout",
     "output_type": "stream",
     "text": [
      "Accuracy: 0.5555555555555556\n",
      "F1 macro: 0.5\n",
      "F1 micro: 0.5555555555555556\n",
      "F1 weighted: 0.5185185185185185\n",
      "Kappa: 0.052631578947368474\n",
      "-------------Iteration 5/10\n",
      "65 9\n",
      "random_state = 46\n",
      "Accuracy: 0.7777777777777778\n",
      "F1 macro: 0.775\n",
      "F1 micro: 0.7777777777777778\n",
      "F1 weighted: 0.7722222222222223\n",
      "Kappa: 0.5714285714285714\n",
      "-------------Iteration 6/10\n",
      "65 9\n",
      "random_state = 47\n"
     ]
    },
    {
     "name": "stderr",
     "output_type": "stream",
     "text": [
      "[Parallel(n_jobs=1)]: Done  49 tasks      | elapsed:    0.0s\n",
      "[Parallel(n_jobs=1)]: Done 199 tasks      | elapsed:    0.0s\n",
      "[Parallel(n_jobs=1)]: Done  49 tasks      | elapsed:    0.0s\n",
      "[Parallel(n_jobs=1)]: Done 199 tasks      | elapsed:    0.1s\n",
      "[Parallel(n_jobs=1)]: Done  49 tasks      | elapsed:    0.0s\n",
      "[Parallel(n_jobs=1)]: Done 199 tasks      | elapsed:    0.0s\n"
     ]
    },
    {
     "name": "stdout",
     "output_type": "stream",
     "text": [
      "Accuracy: 0.8888888888888888\n",
      "F1 macro: 0.8888888888888888\n",
      "F1 micro: 0.8888888888888888\n",
      "F1 weighted: 0.8888888888888888\n",
      "Kappa: 0.7804878048780488\n",
      "-------------Iteration 7/10\n",
      "65 9\n",
      "random_state = 48\n",
      "Accuracy: 0.7777777777777778\n",
      "F1 macro: 0.775\n",
      "F1 micro: 0.7777777777777778\n",
      "F1 weighted: 0.7777777777777778\n",
      "Kappa: 0.55\n",
      "-------------Iteration 8/10\n",
      "65 9\n",
      "random_state = 49\n"
     ]
    },
    {
     "name": "stderr",
     "output_type": "stream",
     "text": [
      "[Parallel(n_jobs=1)]: Done  49 tasks      | elapsed:    0.0s\n",
      "[Parallel(n_jobs=1)]: Done 199 tasks      | elapsed:    0.1s\n",
      "[Parallel(n_jobs=1)]: Done  49 tasks      | elapsed:    0.0s\n",
      "[Parallel(n_jobs=1)]: Done 199 tasks      | elapsed:    0.0s\n",
      "[Parallel(n_jobs=1)]: Done  49 tasks      | elapsed:    0.0s\n",
      "[Parallel(n_jobs=1)]: Done 199 tasks      | elapsed:    0.1s\n",
      "[Parallel(n_jobs=1)]: Done  49 tasks      | elapsed:    0.0s\n",
      "[Parallel(n_jobs=1)]: Done 199 tasks      | elapsed:    0.0s\n",
      "[Parallel(n_jobs=1)]: Done  49 tasks      | elapsed:    0.0s\n",
      "[Parallel(n_jobs=1)]: Done 199 tasks      | elapsed:    0.1s\n",
      "[Parallel(n_jobs=1)]: Done  49 tasks      | elapsed:    0.0s\n",
      "[Parallel(n_jobs=1)]: Done 199 tasks      | elapsed:    0.0s\n"
     ]
    },
    {
     "name": "stdout",
     "output_type": "stream",
     "text": [
      "Accuracy: 0.7777777777777778\n",
      "F1 macro: 0.775\n",
      "F1 micro: 0.7777777777777778\n",
      "F1 weighted: 0.7777777777777778\n",
      "Kappa: 0.55\n",
      "-------------Iteration 9/10\n",
      "65 9\n",
      "random_state = 50\n",
      "Accuracy: 0.4444444444444444\n",
      "F1 macro: 0.4444444444444444\n",
      "F1 micro: 0.4444444444444444\n",
      "F1 weighted: 0.4444444444444444\n",
      "Kappa: -0.09756097560975618\n",
      "-------------Iteration 10/10\n",
      "65 9\n",
      "random_state = 51\n",
      "Accuracy: 0.8888888888888888\n",
      "F1 macro: 0.8888888888888888\n",
      "F1 micro: 0.8888888888888888\n",
      "F1 weighted: 0.8888888888888888\n",
      "Kappa: 0.7804878048780488\n"
     ]
    },
    {
     "name": "stderr",
     "output_type": "stream",
     "text": [
      "[Parallel(n_jobs=1)]: Done  49 tasks      | elapsed:    0.0s\n",
      "[Parallel(n_jobs=1)]: Done 199 tasks      | elapsed:    0.1s\n",
      "[Parallel(n_jobs=1)]: Done  49 tasks      | elapsed:    0.0s\n",
      "[Parallel(n_jobs=1)]: Done 199 tasks      | elapsed:    0.0s\n"
     ]
    }
   ],
   "source": [
    "for n in range(iterations):\n",
    "    print(f\"-------------Iteration {n + 1}/{iterations}\")\n",
    "    random_state=42+n\n",
    "\n",
    "    X_train, y_train, X_test, y_test = prepare_dataset_classification(\n",
    "        df,\n",
    "        random_state=random_state,\n",
    "        train_size=train_size\n",
    "    )\n",
    "    print(f\"random_state = {random_state}\")\n",
    "\n",
    "    y_test, y_pred, acc, f1_macro, f1_micro, f1_weighted, kappa = train_and_evaluate_classifier(\n",
    "        X_train, \n",
    "        y_train, \n",
    "        X_test, \n",
    "        y_test, \n",
    "        random_state=random_state\n",
    "    )\n",
    "    \n",
    "    y_test_all.append(y_test)\n",
    "    y_pred_all.append(y_pred)    \n",
    "    acc_scores.append(acc)\n",
    "    f1macro_scores.append(f1_macro)\n",
    "    f1micro_scores.append(f1_micro)\n",
    "    f1weighted_scores.append(f1_weighted)\n",
    "    kappa_scores.append(kappa)\n",
    "    print(f\"Accuracy: {acc}\")\n",
    "    print(f\"F1 macro: {f1_macro}\")\n",
    "    print(f\"F1 micro: {f1_micro}\")\n",
    "    print(f\"F1 weighted: {f1_weighted}\")\n",
    "    print(f\"Kappa: {kappa}\")"
   ]
  },
  {
   "cell_type": "code",
   "execution_count": 51,
   "metadata": {},
   "outputs": [
    {
     "name": "stdout",
     "output_type": "stream",
     "text": [
      "FINAL REPORT for training size = 65\n",
      "mean accuracy: 0.7333333333333334 +/- 0.13333333333333333\n",
      "mean F1 macro: 0.726388888888889 +/- 0.14104575258045757\n",
      "mean F1 micro: 0.7333333333333334 +/- 0.13333333333333333\n",
      "mean F1 weighted: 0.7285185185185185 +/- 0.13826080204713137\n",
      "mean Kappa: 0.46503667705849994 +/- 0.27297949229171453\n"
     ]
    }
   ],
   "source": [
    "print(f\"FINAL REPORT for training size = {train_size}\")\n",
    "\n",
    "print(f\"mean accuracy: {np.mean(acc_scores)} +/- {np.std(acc_scores)}\")\n",
    "print(f\"mean F1 macro: {np.mean(f1macro_scores)} +/- {np.std(f1macro_scores)}\")\n",
    "print(f\"mean F1 micro: {np.mean(f1micro_scores)} +/- {np.std(f1micro_scores)}\")\n",
    "print(f\"mean F1 weighted: {np.mean(f1weighted_scores)} +/- {np.std(f1weighted_scores)}\")\n",
    "print(f\"mean Kappa: {np.mean(kappa_scores)} +/- {np.std(kappa_scores)}\")"
   ]
  },
  {
   "cell_type": "code",
   "execution_count": 52,
   "metadata": {},
   "outputs": [
    {
     "data": {
      "text/html": [
       "<div>\n",
       "<style scoped>\n",
       "    .dataframe tbody tr th:only-of-type {\n",
       "        vertical-align: middle;\n",
       "    }\n",
       "\n",
       "    .dataframe tbody tr th {\n",
       "        vertical-align: top;\n",
       "    }\n",
       "\n",
       "    .dataframe thead th {\n",
       "        text-align: right;\n",
       "    }\n",
       "</style>\n",
       "<table border=\"1\" class=\"dataframe\">\n",
       "  <thead>\n",
       "    <tr style=\"text-align: right;\">\n",
       "      <th></th>\n",
       "      <th>train_size</th>\n",
       "      <th>y_true</th>\n",
       "      <th>y_pred</th>\n",
       "      <th>accuracy</th>\n",
       "      <th>f1_macro</th>\n",
       "      <th>f1_micro</th>\n",
       "      <th>f1_weighted</th>\n",
       "      <th>kappa</th>\n",
       "    </tr>\n",
       "  </thead>\n",
       "  <tbody>\n",
       "    <tr>\n",
       "      <th>0</th>\n",
       "      <td>65</td>\n",
       "      <td>[1, 0, 1, 1, 1, 0, 0, 0, 0]</td>\n",
       "      <td>[0, 0, 1, 1, 1, 0, 1, 0, 0]</td>\n",
       "      <td>0.777778</td>\n",
       "      <td>0.775000</td>\n",
       "      <td>0.777778</td>\n",
       "      <td>0.777778</td>\n",
       "      <td>0.550000</td>\n",
       "    </tr>\n",
       "    <tr>\n",
       "      <th>1</th>\n",
       "      <td>65</td>\n",
       "      <td>[1, 0, 0, 1, 1, 0, 0, 0, 1]</td>\n",
       "      <td>[1, 1, 0, 1, 1, 0, 0, 1, 0]</td>\n",
       "      <td>0.666667</td>\n",
       "      <td>0.666667</td>\n",
       "      <td>0.666667</td>\n",
       "      <td>0.666667</td>\n",
       "      <td>0.341463</td>\n",
       "    </tr>\n",
       "    <tr>\n",
       "      <th>2</th>\n",
       "      <td>65</td>\n",
       "      <td>[0, 1, 1, 0, 0, 0, 0, 1, 1]</td>\n",
       "      <td>[0, 1, 1, 0, 1, 0, 1, 1, 1]</td>\n",
       "      <td>0.777778</td>\n",
       "      <td>0.775000</td>\n",
       "      <td>0.777778</td>\n",
       "      <td>0.772222</td>\n",
       "      <td>0.571429</td>\n",
       "    </tr>\n",
       "  </tbody>\n",
       "</table>\n",
       "</div>"
      ],
      "text/plain": [
       "   train_size                       y_true                       y_pred  \\\n",
       "0          65  [1, 0, 1, 1, 1, 0, 0, 0, 0]  [0, 0, 1, 1, 1, 0, 1, 0, 0]   \n",
       "1          65  [1, 0, 0, 1, 1, 0, 0, 0, 1]  [1, 1, 0, 1, 1, 0, 0, 1, 0]   \n",
       "2          65  [0, 1, 1, 0, 0, 0, 0, 1, 1]  [0, 1, 1, 0, 1, 0, 1, 1, 1]   \n",
       "\n",
       "   accuracy  f1_macro  f1_micro  f1_weighted     kappa  \n",
       "0  0.777778  0.775000  0.777778     0.777778  0.550000  \n",
       "1  0.666667  0.666667  0.666667     0.666667  0.341463  \n",
       "2  0.777778  0.775000  0.777778     0.772222  0.571429  "
      ]
     },
     "execution_count": 52,
     "metadata": {},
     "output_type": "execute_result"
    }
   ],
   "source": [
    "compiled_res_65 = pd.DataFrame(metrics_dict())\n",
    "compiled_res_65.head(3)"
   ]
  },
  {
   "cell_type": "code",
   "execution_count": 53,
   "metadata": {},
   "outputs": [
    {
     "name": "stdout",
     "output_type": "stream",
     "text": [
      "60\n"
     ]
    },
    {
     "data": {
      "text/html": [
       "<div>\n",
       "<style scoped>\n",
       "    .dataframe tbody tr th:only-of-type {\n",
       "        vertical-align: middle;\n",
       "    }\n",
       "\n",
       "    .dataframe tbody tr th {\n",
       "        vertical-align: top;\n",
       "    }\n",
       "\n",
       "    .dataframe thead th {\n",
       "        text-align: right;\n",
       "    }\n",
       "</style>\n",
       "<table border=\"1\" class=\"dataframe\">\n",
       "  <thead>\n",
       "    <tr style=\"text-align: right;\">\n",
       "      <th></th>\n",
       "      <th>train_size</th>\n",
       "      <th>y_true</th>\n",
       "      <th>y_pred</th>\n",
       "      <th>accuracy</th>\n",
       "      <th>f1_macro</th>\n",
       "      <th>f1_micro</th>\n",
       "      <th>f1_weighted</th>\n",
       "      <th>kappa</th>\n",
       "    </tr>\n",
       "  </thead>\n",
       "  <tbody>\n",
       "    <tr>\n",
       "      <th>0</th>\n",
       "      <td>15</td>\n",
       "      <td>[0, 1, 1, 0, 0, 1, 0, 0, 1, 1, 1, 0, 0, 0, 0, ...</td>\n",
       "      <td>[0, 0, 1, 0, 0, 0, 0, 0, 0, 0, 0, 0, 1, 0, 0, ...</td>\n",
       "      <td>0.644068</td>\n",
       "      <td>0.643658</td>\n",
       "      <td>0.644068</td>\n",
       "      <td>0.643863</td>\n",
       "      <td>0.287522</td>\n",
       "    </tr>\n",
       "    <tr>\n",
       "      <th>1</th>\n",
       "      <td>15</td>\n",
       "      <td>[1, 1, 1, 0, 1, 0, 1, 1, 0, 1, 1, 0, 1, 0, 0, ...</td>\n",
       "      <td>[1, 1, 1, 0, 0, 1, 1, 1, 0, 0, 1, 0, 0, 0, 0, ...</td>\n",
       "      <td>0.711864</td>\n",
       "      <td>0.711533</td>\n",
       "      <td>0.711864</td>\n",
       "      <td>0.711699</td>\n",
       "      <td>0.423232</td>\n",
       "    </tr>\n",
       "    <tr>\n",
       "      <th>2</th>\n",
       "      <td>15</td>\n",
       "      <td>[0, 0, 1, 1, 1, 1, 1, 0, 1, 1, 0, 0, 1, 0, 1, ...</td>\n",
       "      <td>[1, 0, 1, 1, 1, 0, 1, 1, 1, 1, 0, 0, 1, 0, 1, ...</td>\n",
       "      <td>0.559322</td>\n",
       "      <td>0.536836</td>\n",
       "      <td>0.559322</td>\n",
       "      <td>0.535106</td>\n",
       "      <td>0.125428</td>\n",
       "    </tr>\n",
       "    <tr>\n",
       "      <th>3</th>\n",
       "      <td>15</td>\n",
       "      <td>[1, 0, 0, 0, 1, 1, 1, 1, 0, 0, 0, 1, 1, 0, 0, ...</td>\n",
       "      <td>[0, 1, 0, 1, 1, 1, 0, 1, 1, 0, 1, 1, 1, 0, 0, ...</td>\n",
       "      <td>0.677966</td>\n",
       "      <td>0.677596</td>\n",
       "      <td>0.677966</td>\n",
       "      <td>0.677410</td>\n",
       "      <td>0.356856</td>\n",
       "    </tr>\n",
       "    <tr>\n",
       "      <th>4</th>\n",
       "      <td>15</td>\n",
       "      <td>[0, 0, 0, 1, 1, 1, 0, 0, 0, 1, 0, 1, 1, 1, 0, ...</td>\n",
       "      <td>[0, 0, 1, 0, 0, 0, 1, 0, 0, 0, 0, 1, 0, 0, 0, ...</td>\n",
       "      <td>0.661017</td>\n",
       "      <td>0.660138</td>\n",
       "      <td>0.661017</td>\n",
       "      <td>0.659845</td>\n",
       "      <td>0.323394</td>\n",
       "    </tr>\n",
       "  </tbody>\n",
       "</table>\n",
       "</div>"
      ],
      "text/plain": [
       "   train_size                                             y_true  \\\n",
       "0          15  [0, 1, 1, 0, 0, 1, 0, 0, 1, 1, 1, 0, 0, 0, 0, ...   \n",
       "1          15  [1, 1, 1, 0, 1, 0, 1, 1, 0, 1, 1, 0, 1, 0, 0, ...   \n",
       "2          15  [0, 0, 1, 1, 1, 1, 1, 0, 1, 1, 0, 0, 1, 0, 1, ...   \n",
       "3          15  [1, 0, 0, 0, 1, 1, 1, 1, 0, 0, 0, 1, 1, 0, 0, ...   \n",
       "4          15  [0, 0, 0, 1, 1, 1, 0, 0, 0, 1, 0, 1, 1, 1, 0, ...   \n",
       "\n",
       "                                              y_pred  accuracy  f1_macro  \\\n",
       "0  [0, 0, 1, 0, 0, 0, 0, 0, 0, 0, 0, 0, 1, 0, 0, ...  0.644068  0.643658   \n",
       "1  [1, 1, 1, 0, 0, 1, 1, 1, 0, 0, 1, 0, 0, 0, 0, ...  0.711864  0.711533   \n",
       "2  [1, 0, 1, 1, 1, 0, 1, 1, 1, 1, 0, 0, 1, 0, 1, ...  0.559322  0.536836   \n",
       "3  [0, 1, 0, 1, 1, 1, 0, 1, 1, 0, 1, 1, 1, 0, 0, ...  0.677966  0.677596   \n",
       "4  [0, 0, 1, 0, 0, 0, 1, 0, 0, 0, 0, 1, 0, 0, 0, ...  0.661017  0.660138   \n",
       "\n",
       "   f1_micro  f1_weighted     kappa  \n",
       "0  0.644068     0.643863  0.287522  \n",
       "1  0.711864     0.711699  0.423232  \n",
       "2  0.559322     0.535106  0.125428  \n",
       "3  0.677966     0.677410  0.356856  \n",
       "4  0.661017     0.659845  0.323394  "
      ]
     },
     "execution_count": 53,
     "metadata": {},
     "output_type": "execute_result"
    }
   ],
   "source": [
    "compiled_res = pd.concat([\n",
    "    compiled_res_15, \n",
    "    compiled_res_25,\n",
    "    compiled_res_35,\n",
    "    compiled_res_45,\n",
    "    compiled_res_55,\n",
    "    compiled_res_65,\n",
    "], ignore_index=True)\n",
    "print(len(compiled_res))\n",
    "compiled_res.head()"
   ]
  },
  {
   "cell_type": "code",
   "execution_count": 54,
   "metadata": {},
   "outputs": [],
   "source": [
    "compiled_res[\"y_true\"] = compiled_res[\"y_true\"].apply(lambda arr: list(arr))\n",
    "compiled_res[\"y_pred\"] = compiled_res[\"y_pred\"].apply(lambda arr: list(arr))"
   ]
  },
  {
   "cell_type": "code",
   "execution_count": 55,
   "metadata": {},
   "outputs": [],
   "source": [
    "compiled_res.to_csv(\"RF_results_BET_2bins_5050.csv\", sep=\",\", index=False)"
   ]
  },
  {
   "cell_type": "code",
   "execution_count": 56,
   "metadata": {},
   "outputs": [
    {
     "name": "stdout",
     "output_type": "stream",
     "text": [
      "<class 'pandas.core.frame.DataFrame'>\n",
      "RangeIndex: 60 entries, 0 to 59\n",
      "Data columns (total 8 columns):\n",
      " #   Column       Non-Null Count  Dtype  \n",
      "---  ------       --------------  -----  \n",
      " 0   train_size   60 non-null     int64  \n",
      " 1   y_true       60 non-null     object \n",
      " 2   y_pred       60 non-null     object \n",
      " 3   accuracy     60 non-null     float64\n",
      " 4   f1_macro     60 non-null     float64\n",
      " 5   f1_micro     60 non-null     float64\n",
      " 6   f1_weighted  60 non-null     float64\n",
      " 7   kappa        60 non-null     float64\n",
      "dtypes: float64(5), int64(1), object(2)\n",
      "memory usage: 3.9+ KB\n"
     ]
    }
   ],
   "source": [
    "df = pd.read_csv(\"RF_results_BET_2bins_5050.csv\", sep=',')\n",
    "df.info()"
   ]
  },
  {
   "cell_type": "code",
   "execution_count": 57,
   "metadata": {},
   "outputs": [
    {
     "data": {
      "text/html": [
       "<div>\n",
       "<style scoped>\n",
       "    .dataframe tbody tr th:only-of-type {\n",
       "        vertical-align: middle;\n",
       "    }\n",
       "\n",
       "    .dataframe tbody tr th {\n",
       "        vertical-align: top;\n",
       "    }\n",
       "\n",
       "    .dataframe thead th {\n",
       "        text-align: right;\n",
       "    }\n",
       "</style>\n",
       "<table border=\"1\" class=\"dataframe\">\n",
       "  <thead>\n",
       "    <tr style=\"text-align: right;\">\n",
       "      <th></th>\n",
       "      <th>train_size</th>\n",
       "      <th>y_true</th>\n",
       "      <th>y_pred</th>\n",
       "      <th>accuracy</th>\n",
       "      <th>f1_macro</th>\n",
       "      <th>f1_micro</th>\n",
       "      <th>f1_weighted</th>\n",
       "      <th>kappa</th>\n",
       "    </tr>\n",
       "  </thead>\n",
       "  <tbody>\n",
       "    <tr>\n",
       "      <th>0</th>\n",
       "      <td>15</td>\n",
       "      <td>[0, 1, 1, 0, 0, 1, 0, 0, 1, 1, 1, 0, 0, 0, 0, ...</td>\n",
       "      <td>[0, 0, 1, 0, 0, 0, 0, 0, 0, 0, 0, 0, 1, 0, 0, ...</td>\n",
       "      <td>0.644068</td>\n",
       "      <td>0.643658</td>\n",
       "      <td>0.644068</td>\n",
       "      <td>0.643863</td>\n",
       "      <td>0.287522</td>\n",
       "    </tr>\n",
       "    <tr>\n",
       "      <th>1</th>\n",
       "      <td>15</td>\n",
       "      <td>[1, 1, 1, 0, 1, 0, 1, 1, 0, 1, 1, 0, 1, 0, 0, ...</td>\n",
       "      <td>[1, 1, 1, 0, 0, 1, 1, 1, 0, 0, 1, 0, 0, 0, 0, ...</td>\n",
       "      <td>0.711864</td>\n",
       "      <td>0.711533</td>\n",
       "      <td>0.711864</td>\n",
       "      <td>0.711699</td>\n",
       "      <td>0.423232</td>\n",
       "    </tr>\n",
       "    <tr>\n",
       "      <th>2</th>\n",
       "      <td>15</td>\n",
       "      <td>[0, 0, 1, 1, 1, 1, 1, 0, 1, 1, 0, 0, 1, 0, 1, ...</td>\n",
       "      <td>[1, 0, 1, 1, 1, 0, 1, 1, 1, 1, 0, 0, 1, 0, 1, ...</td>\n",
       "      <td>0.559322</td>\n",
       "      <td>0.536836</td>\n",
       "      <td>0.559322</td>\n",
       "      <td>0.535106</td>\n",
       "      <td>0.125428</td>\n",
       "    </tr>\n",
       "  </tbody>\n",
       "</table>\n",
       "</div>"
      ],
      "text/plain": [
       "   train_size                                             y_true  \\\n",
       "0          15  [0, 1, 1, 0, 0, 1, 0, 0, 1, 1, 1, 0, 0, 0, 0, ...   \n",
       "1          15  [1, 1, 1, 0, 1, 0, 1, 1, 0, 1, 1, 0, 1, 0, 0, ...   \n",
       "2          15  [0, 0, 1, 1, 1, 1, 1, 0, 1, 1, 0, 0, 1, 0, 1, ...   \n",
       "\n",
       "                                              y_pred  accuracy  f1_macro  \\\n",
       "0  [0, 0, 1, 0, 0, 0, 0, 0, 0, 0, 0, 0, 1, 0, 0, ...  0.644068  0.643658   \n",
       "1  [1, 1, 1, 0, 0, 1, 1, 1, 0, 0, 1, 0, 0, 0, 0, ...  0.711864  0.711533   \n",
       "2  [1, 0, 1, 1, 1, 0, 1, 1, 1, 1, 0, 0, 1, 0, 1, ...  0.559322  0.536836   \n",
       "\n",
       "   f1_micro  f1_weighted     kappa  \n",
       "0  0.644068     0.643863  0.287522  \n",
       "1  0.711864     0.711699  0.423232  \n",
       "2  0.559322     0.535106  0.125428  "
      ]
     },
     "execution_count": 57,
     "metadata": {},
     "output_type": "execute_result"
    }
   ],
   "source": [
    "df.head(3)"
   ]
  },
  {
   "cell_type": "code",
   "execution_count": 58,
   "metadata": {},
   "outputs": [
    {
     "data": {
      "text/html": [
       "<div>\n",
       "<style scoped>\n",
       "    .dataframe tbody tr th:only-of-type {\n",
       "        vertical-align: middle;\n",
       "    }\n",
       "\n",
       "    .dataframe tbody tr th {\n",
       "        vertical-align: top;\n",
       "    }\n",
       "\n",
       "    .dataframe thead tr th {\n",
       "        text-align: left;\n",
       "    }\n",
       "\n",
       "    .dataframe thead tr:last-of-type th {\n",
       "        text-align: right;\n",
       "    }\n",
       "</style>\n",
       "<table border=\"1\" class=\"dataframe\">\n",
       "  <thead>\n",
       "    <tr>\n",
       "      <th></th>\n",
       "      <th colspan=\"2\" halign=\"left\">accuracy</th>\n",
       "      <th colspan=\"2\" halign=\"left\">f1_macro</th>\n",
       "      <th colspan=\"2\" halign=\"left\">f1_micro</th>\n",
       "      <th colspan=\"2\" halign=\"left\">f1_weighted</th>\n",
       "      <th colspan=\"2\" halign=\"left\">kappa</th>\n",
       "    </tr>\n",
       "    <tr>\n",
       "      <th></th>\n",
       "      <th>mean</th>\n",
       "      <th>sem</th>\n",
       "      <th>mean</th>\n",
       "      <th>sem</th>\n",
       "      <th>mean</th>\n",
       "      <th>sem</th>\n",
       "      <th>mean</th>\n",
       "      <th>sem</th>\n",
       "      <th>mean</th>\n",
       "      <th>sem</th>\n",
       "    </tr>\n",
       "    <tr>\n",
       "      <th>train_size</th>\n",
       "      <th></th>\n",
       "      <th></th>\n",
       "      <th></th>\n",
       "      <th></th>\n",
       "      <th></th>\n",
       "      <th></th>\n",
       "      <th></th>\n",
       "      <th></th>\n",
       "      <th></th>\n",
       "      <th></th>\n",
       "    </tr>\n",
       "  </thead>\n",
       "  <tbody>\n",
       "    <tr>\n",
       "      <th>15</th>\n",
       "      <td>0.650847</td>\n",
       "      <td>0.015410</td>\n",
       "      <td>0.645206</td>\n",
       "      <td>0.017217</td>\n",
       "      <td>0.650847</td>\n",
       "      <td>0.015410</td>\n",
       "      <td>0.644966</td>\n",
       "      <td>0.017330</td>\n",
       "      <td>0.302782</td>\n",
       "      <td>0.030495</td>\n",
       "    </tr>\n",
       "    <tr>\n",
       "      <th>25</th>\n",
       "      <td>0.671429</td>\n",
       "      <td>0.012339</td>\n",
       "      <td>0.668692</td>\n",
       "      <td>0.012412</td>\n",
       "      <td>0.671429</td>\n",
       "      <td>0.012339</td>\n",
       "      <td>0.668434</td>\n",
       "      <td>0.012487</td>\n",
       "      <td>0.344134</td>\n",
       "      <td>0.024416</td>\n",
       "    </tr>\n",
       "    <tr>\n",
       "      <th>35</th>\n",
       "      <td>0.687179</td>\n",
       "      <td>0.016573</td>\n",
       "      <td>0.686130</td>\n",
       "      <td>0.016472</td>\n",
       "      <td>0.687179</td>\n",
       "      <td>0.016573</td>\n",
       "      <td>0.685894</td>\n",
       "      <td>0.016473</td>\n",
       "      <td>0.375694</td>\n",
       "      <td>0.033139</td>\n",
       "    </tr>\n",
       "    <tr>\n",
       "      <th>45</th>\n",
       "      <td>0.686207</td>\n",
       "      <td>0.022670</td>\n",
       "      <td>0.683770</td>\n",
       "      <td>0.022406</td>\n",
       "      <td>0.686207</td>\n",
       "      <td>0.022670</td>\n",
       "      <td>0.683827</td>\n",
       "      <td>0.022502</td>\n",
       "      <td>0.372940</td>\n",
       "      <td>0.044908</td>\n",
       "    </tr>\n",
       "    <tr>\n",
       "      <th>55</th>\n",
       "      <td>0.700000</td>\n",
       "      <td>0.022261</td>\n",
       "      <td>0.697612</td>\n",
       "      <td>0.022408</td>\n",
       "      <td>0.700000</td>\n",
       "      <td>0.022261</td>\n",
       "      <td>0.697730</td>\n",
       "      <td>0.022567</td>\n",
       "      <td>0.401142</td>\n",
       "      <td>0.043834</td>\n",
       "    </tr>\n",
       "    <tr>\n",
       "      <th>65</th>\n",
       "      <td>0.733333</td>\n",
       "      <td>0.044444</td>\n",
       "      <td>0.726389</td>\n",
       "      <td>0.047015</td>\n",
       "      <td>0.733333</td>\n",
       "      <td>0.044444</td>\n",
       "      <td>0.728519</td>\n",
       "      <td>0.046087</td>\n",
       "      <td>0.465037</td>\n",
       "      <td>0.090993</td>\n",
       "    </tr>\n",
       "  </tbody>\n",
       "</table>\n",
       "</div>"
      ],
      "text/plain": [
       "            accuracy            f1_macro            f1_micro            \\\n",
       "                mean       sem      mean       sem      mean       sem   \n",
       "train_size                                                               \n",
       "15          0.650847  0.015410  0.645206  0.017217  0.650847  0.015410   \n",
       "25          0.671429  0.012339  0.668692  0.012412  0.671429  0.012339   \n",
       "35          0.687179  0.016573  0.686130  0.016472  0.687179  0.016573   \n",
       "45          0.686207  0.022670  0.683770  0.022406  0.686207  0.022670   \n",
       "55          0.700000  0.022261  0.697612  0.022408  0.700000  0.022261   \n",
       "65          0.733333  0.044444  0.726389  0.047015  0.733333  0.044444   \n",
       "\n",
       "           f1_weighted               kappa            \n",
       "                  mean       sem      mean       sem  \n",
       "train_size                                            \n",
       "15            0.644966  0.017330  0.302782  0.030495  \n",
       "25            0.668434  0.012487  0.344134  0.024416  \n",
       "35            0.685894  0.016473  0.375694  0.033139  \n",
       "45            0.683827  0.022502  0.372940  0.044908  \n",
       "55            0.697730  0.022567  0.401142  0.043834  \n",
       "65            0.728519  0.046087  0.465037  0.090993  "
      ]
     },
     "execution_count": 58,
     "metadata": {},
     "output_type": "execute_result"
    }
   ],
   "source": [
    "grouped_res = df.select_dtypes(include = [\"int\", \"float\"]).groupby(['train_size']).agg(['mean', 'sem'])\n",
    "grouped_res"
   ]
  },
  {
   "cell_type": "code",
   "execution_count": 59,
   "metadata": {},
   "outputs": [],
   "source": [
    "conf_mats = []\n",
    "for i in np.arange(len(df)):\n",
    "    confusion_matrix = {\n",
    "        'all_y_true': literal_eval(df[\"y_true\"][i]),\n",
    "        'all_y_pred': literal_eval(df[\"y_pred\"][i])\n",
    "    }\n",
    "    conf_mats.append(confusion_matrix)"
   ]
  },
  {
   "cell_type": "code",
   "execution_count": 60,
   "metadata": {},
   "outputs": [
    {
     "name": "stdout",
     "output_type": "stream",
     "text": [
      "[[0.70212766 0.29787234]\n",
      " [0.23255814 0.76744186]]\n",
      "accuracy: 0.7333333333333333\n"
     ]
    },
    {
     "data": {
      "text/plain": [
       "<sklearn.metrics._plot.confusion_matrix.ConfusionMatrixDisplay at 0x7f3849f5bcd0>"
      ]
     },
     "execution_count": 60,
     "metadata": {},
     "output_type": "execute_result"
    },
    {
     "data": {
      "image/png": "[encoded data removed]",
      "text/plain": [
       "<Figure size 330x250 with 2 Axes>"
      ]
     },
     "metadata": {},
     "output_type": "display_data"
    }
   ],
   "source": [
    "index_maxsize = compiled_res[compiled_res[\"train_size\"]==max(compiled_res[\"train_size\"])].index\n",
    "conf_mats_max = [conf_mats[i] for i in index_maxsize]\n",
    "\n",
    "actual_all, predicted_all = [], []\n",
    "for index, _ in enumerate(conf_mats_max):\n",
    "    preds = conf_mats_max[index]\n",
    "    actual = preds[\"all_y_true\"]\n",
    "    predicted = preds[\"all_y_pred\"]\n",
    "    \n",
    "    for true, pred in zip(actual, predicted):\n",
    "        actual_all.append(true)\n",
    "        predicted_all.append(pred)\n",
    "\n",
    "confusion_matrix = metrics.confusion_matrix(actual_all, predicted_all)\n",
    "confusion_matrix_norm = confusion_matrix.astype(\"float\") / confusion_matrix.sum(axis=1)[:, np.newaxis]\n",
    "print(confusion_matrix_norm)\n",
    "\n",
    "cm = pycm.ConfusionMatrix(list(actual_all), list(predicted_all))\n",
    "acc = cm.Overall_ACC\n",
    "\n",
    "print(f'accuracy: {acc}')\n",
    "\n",
    "cm_display = metrics.ConfusionMatrixDisplay(\n",
    "    confusion_matrix = confusion_matrix_norm, display_labels = [0, 1])\n",
    "cm_display.plot(cmap=plt.cm.Blues, include_values=True, values_format=\".2f\")\n",
    "#plt.savefig('classif_BET_confusionMatrix_50_50_size65_RF.pdf', bbox_inches='tight')"
   ]
  },
  {
   "cell_type": "code",
   "execution_count": null,
   "metadata": {},
   "outputs": [],
   "source": []
  },
  {
   "cell_type": "code",
   "execution_count": null,
   "metadata": {},
   "outputs": [],
   "source": []
  },
  {
   "cell_type": "code",
   "execution_count": null,
   "metadata": {},
   "outputs": [],
   "source": []
  },
  {
   "cell_type": "code",
   "execution_count": null,
   "metadata": {},
   "outputs": [],
   "source": []
  }
 ],
 "metadata": {
  "kernelspec": {
   "display_name": "Python [conda env:debyecalculator_env]",
   "language": "python",
   "name": "conda-env-debyecalculator_env-py"
  },
  "language_info": {
   "codemirror_mode": {
    "name": "ipython",
    "version": 3
   },
   "file_extension": ".py",
   "mimetype": "text/x-python",
   "name": "python",
   "nbconvert_exporter": "python",
   "pygments_lexer": "ipython3",
   "version": "3.9.19"
  }
 },
 "nbformat": 4,
 "nbformat_minor": 2
}
