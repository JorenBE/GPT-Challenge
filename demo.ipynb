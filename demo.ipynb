{
 "cells": [
  {
   "cell_type": "markdown",
   "metadata": {},
   "source": [
    "## Classical Machine learning models for the GPTchallenge\n",
    "### Overall demo\n",
    "This notebook showcases different models (Regression and Classification) to predict the melting point based on smiles. It might include errors, this is an overall roadmap. For detail information visit each experiment folder and go the the directory 'ml'"
   ]
  },
  {
   "cell_type": "code",
   "execution_count": 15,
   "metadata": {},
   "outputs": [
    {
     "data": {
      "text/html": [
       "<div>\n",
       "<style scoped>\n",
       "    .dataframe tbody tr th:only-of-type {\n",
       "        vertical-align: middle;\n",
       "    }\n",
       "\n",
       "    .dataframe tbody tr th {\n",
       "        vertical-align: top;\n",
       "    }\n",
       "\n",
       "    .dataframe thead th {\n",
       "        text-align: right;\n",
       "    }\n",
       "</style>\n",
       "<table border=\"1\" class=\"dataframe\">\n",
       "  <thead>\n",
       "    <tr style=\"text-align: right;\">\n",
       "      <th></th>\n",
       "      <th>Unnamed: 0</th>\n",
       "      <th>SMILES</th>\n",
       "      <th>mp</th>\n",
       "      <th>NAME</th>\n",
       "      <th>Melting Point</th>\n",
       "      <th>mp_bin</th>\n",
       "      <th>len_smiles</th>\n",
       "      <th>SMILES_random</th>\n",
       "      <th>name_smiles</th>\n",
       "    </tr>\n",
       "  </thead>\n",
       "  <tbody>\n",
       "    <tr>\n",
       "      <th>0</th>\n",
       "      <td>0</td>\n",
       "      <td>C(CCC)C1=NC=CC2=C(C=CC=C12)[N+](=O)[O-]</td>\n",
       "      <td>69.25</td>\n",
       "      <td>1-n-butyl-5-nitro-isoquinoline</td>\n",
       "      <td>69.0 - 69.5</td>\n",
       "      <td>0</td>\n",
       "      <td>39</td>\n",
       "      <td>(CCNO)2=CCCC2C([1C]N)=OC=CC=+(1CC==]-[)</td>\n",
       "      <td>1-n-butyl-5-nitro-isoquinoline (C(CCC)C1=NC=CC...</td>\n",
       "    </tr>\n",
       "    <tr>\n",
       "      <th>1</th>\n",
       "      <td>1</td>\n",
       "      <td>ClC=1N=CC2=CC=CC(=C2C1)N</td>\n",
       "      <td>176.50</td>\n",
       "      <td>3-chloro-5-amino-isoquinoline</td>\n",
       "      <td>176.0 - 177.0</td>\n",
       "      <td>1</td>\n",
       "      <td>24</td>\n",
       "      <td>C===CCCCC=221C)NNC=C(Cl1</td>\n",
       "      <td>3-chloro-5-amino-isoquinoline (ClC=1N=CC2=CC=C...</td>\n",
       "    </tr>\n",
       "    <tr>\n",
       "      <th>2</th>\n",
       "      <td>2</td>\n",
       "      <td>ClC1=NC(=CC2=C(C=CC=C12)[N+](=O)[O-])C</td>\n",
       "      <td>112.00</td>\n",
       "      <td>1-chloro-3-methyl-5-nitro-isoquinoline</td>\n",
       "      <td>112.0</td>\n",
       "      <td>0</td>\n",
       "      <td>38</td>\n",
       "      <td>C((C1CC+[[C=)]O=C=C)lNO2C1-=C==C)]2CN(</td>\n",
       "      <td>1-chloro-3-methyl-5-nitro-isoquinoline (ClC1=N...</td>\n",
       "    </tr>\n",
       "    <tr>\n",
       "      <th>3</th>\n",
       "      <td>3</td>\n",
       "      <td>C(CCCCCCCCCCC)C=1C(C=CC(C1)=O)=S</td>\n",
       "      <td>131.50</td>\n",
       "      <td>2-dodecylthio-p-benzoquinone</td>\n",
       "      <td>131.0 - 132.0</td>\n",
       "      <td>0</td>\n",
       "      <td>32</td>\n",
       "      <td>CCCCCCC(C)O=C==1)C1CS)C=CCCC(CC(</td>\n",
       "      <td>2-dodecylthio-p-benzoquinone (C(CCCCCCCCCCC)C=...</td>\n",
       "    </tr>\n",
       "    <tr>\n",
       "      <th>4</th>\n",
       "      <td>4</td>\n",
       "      <td>[N+](=O)([O-])OCC12CC(C3C4(C=CC(C=C4CCC3C1CCC2...</td>\n",
       "      <td>163.00</td>\n",
       "      <td>11,18-dihydroxy-pregna-1,4-diene-3,20-dione 18...</td>\n",
       "      <td>162.0 - 164.0</td>\n",
       "      <td>1</td>\n",
       "      <td>59</td>\n",
       "      <td>OCC=C](O))CCOO[C)C)1C(C(C3NCC)CO2C=((=(C]4=[CC...</td>\n",
       "      <td>11,18-dihydroxy-pregna-1,4-diene-3,20-dione 18...</td>\n",
       "    </tr>\n",
       "  </tbody>\n",
       "</table>\n",
       "</div>"
      ],
      "text/plain": [
       "   Unnamed: 0                                             SMILES      mp  \\\n",
       "0           0            C(CCC)C1=NC=CC2=C(C=CC=C12)[N+](=O)[O-]   69.25   \n",
       "1           1                           ClC=1N=CC2=CC=CC(=C2C1)N  176.50   \n",
       "2           2             ClC1=NC(=CC2=C(C=CC=C12)[N+](=O)[O-])C  112.00   \n",
       "3           3                   C(CCCCCCCCCCC)C=1C(C=CC(C1)=O)=S  131.50   \n",
       "4           4  [N+](=O)([O-])OCC12CC(C3C4(C=CC(C=C4CCC3C1CCC2...  163.00   \n",
       "\n",
       "                                                NAME  Melting Point  mp_bin  \\\n",
       "0                     1-n-butyl-5-nitro-isoquinoline    69.0 - 69.5       0   \n",
       "1                      3-chloro-5-amino-isoquinoline  176.0 - 177.0       1   \n",
       "2             1-chloro-3-methyl-5-nitro-isoquinoline          112.0       0   \n",
       "3                       2-dodecylthio-p-benzoquinone  131.0 - 132.0       0   \n",
       "4  11,18-dihydroxy-pregna-1,4-diene-3,20-dione 18...  162.0 - 164.0       1   \n",
       "\n",
       "   len_smiles                                      SMILES_random  \\\n",
       "0          39            (CCNO)2=CCCC2C([1C]N)=OC=CC=+(1CC==]-[)   \n",
       "1          24                           C===CCCCC=221C)NNC=C(Cl1   \n",
       "2          38             C((C1CC+[[C=)]O=C=C)lNO2C1-=C==C)]2CN(   \n",
       "3          32                   CCCCCCC(C)O=C==1)C1CS)C=CCCC(CC(   \n",
       "4          59  OCC=C](O))CCOO[C)C)1C(C(C3NCC)CO2C=((=(C]4=[CC...   \n",
       "\n",
       "                                         name_smiles  \n",
       "0  1-n-butyl-5-nitro-isoquinoline (C(CCC)C1=NC=CC...  \n",
       "1  3-chloro-5-amino-isoquinoline (ClC=1N=CC2=CC=C...  \n",
       "2  1-chloro-3-methyl-5-nitro-isoquinoline (ClC1=N...  \n",
       "3  2-dodecylthio-p-benzoquinone (C(CCCCCCCCCCC)C=...  \n",
       "4  11,18-dihydroxy-pregna-1,4-diene-3,20-dione 18...  "
      ]
     },
     "metadata": {},
     "output_type": "display_data"
    },
    {
     "name": "stdout",
     "output_type": "stream",
     "text": [
      "Count of unique smiles: 273237\n",
      "Count of all of the smiles: 273237\n"
     ]
    },
    {
     "name": "stderr",
     "output_type": "stream",
     "text": [
      "[16:13:34] Explicit valence for atom # 10 S, 9, is greater than permitted\n"
     ]
    },
    {
     "name": "stdout",
     "output_type": "stream",
     "text": [
      "Invalid SMILES string: ClC1C(C(=O)O)=CC(=C(C1=[SH3](=O)=O)Cl)C(F)(F)F \n",
      " Skipping this molecule\n"
     ]
    },
    {
     "name": "stderr",
     "output_type": "stream",
     "text": [
      "[16:13:37] Explicit valence for atom # 16 S, 9, is greater than permitted\n",
      "[16:13:37] Explicit valence for atom # 10 S, 9, is greater than permitted\n"
     ]
    },
    {
     "name": "stdout",
     "output_type": "stream",
     "text": [
      "Invalid SMILES string: C(C)N(CC)CCNC(C=1C(C(C=C(C1)C)=[SH3](=O)=O)OC)=O \n",
      " Skipping this molecule\n",
      "Invalid SMILES string: N1(CCCC1)N2C(NC(C2)=[SH3](=O)=O)=O \n",
      " Skipping this molecule\n"
     ]
    },
    {
     "name": "stderr",
     "output_type": "stream",
     "text": [
      "[16:13:49] Explicit valence for atom # 14 S, 9, is greater than permitted\n",
      "[16:13:49] Explicit valence for atom # 11 S, 9, is greater than permitted\n"
     ]
    },
    {
     "name": "stdout",
     "output_type": "stream",
     "text": [
      "Invalid SMILES string: C(=C)C(CCNC(=O)NCCC(C=C)=[SH3](=O)=O)=[SH3](=O)=O \n",
      " Skipping this molecule\n",
      "Invalid SMILES string: CON=C(C=1C(C(C=CC1Cl)=[SH3](=O)=O)Cl)C#N \n",
      " Skipping this molecule\n"
     ]
    },
    {
     "name": "stderr",
     "output_type": "stream",
     "text": [
      "[16:13:51] Explicit valence for atom # 10 S, 9, is greater than permitted\n"
     ]
    },
    {
     "name": "stdout",
     "output_type": "stream",
     "text": [
      "Invalid SMILES string: COC(=O)C=1S(C=CC1Cl)=[SH3](=O)=O \n",
      " Skipping this molecule\n"
     ]
    },
    {
     "name": "stderr",
     "output_type": "stream",
     "text": [
      "[16:14:02] Explicit valence for atom # 29 S, 9, is greater than permitted\n",
      "[16:14:02] Explicit valence for atom # 24 S, 9, is greater than permitted\n",
      "[16:14:02] Explicit valence for atom # 22 S, 9, is greater than permitted\n",
      "[16:14:02] Explicit valence for atom # 30 S, 9, is greater than permitted\n"
     ]
    },
    {
     "name": "stdout",
     "output_type": "stream",
     "text": [
      "Invalid SMILES string: C(C1=CC=CC=C1)NC=2C(C(C(=O)O)C=C(C2SC3=CC=CC=C3)N4C=CC=C4)=[SH3](=O)=O \n",
      " Skipping this molecule\n",
      "Invalid SMILES string: COC(C1C(C(=C(C(=C1)N2C=CC=C2)SC3=CC=CC=C3)[N+](=O)[O-])=[SH3](=O)=O)=O \n",
      " Skipping this molecule\n",
      "Invalid SMILES string: COC(C1C(C(=C(C(=C1)N2C=CC=C2)SC3=CC=CC=C3)N)=[SH3](=O)=O)=O \n",
      " Skipping this molecule\n",
      "Invalid SMILES string: COC(C1C(C(=C(C(=C1)N2C=CC=C2)SC3=CC=CC=C3)NC(C4=CC=CC=C4)=O)=[SH3](=O)=O)=O \n",
      " Skipping this molecule\n"
     ]
    },
    {
     "name": "stderr",
     "output_type": "stream",
     "text": [
      "[16:14:05] Explicit valence for atom # 9 S, 9, is greater than permitted\n"
     ]
    },
    {
     "name": "stdout",
     "output_type": "stream",
     "text": [
      "Invalid SMILES string: C1(=CC(=CC=C1)SC(=C=[SH3](=O)=O)C2=CC=CC=C2)C \n",
      " Skipping this molecule\n"
     ]
    },
    {
     "name": "stderr",
     "output_type": "stream",
     "text": [
      "[16:14:07] Explicit valence for atom # 11 S, 9, is greater than permitted\n",
      "[16:14:07] Explicit valence for atom # 12 S, 9, is greater than permitted\n",
      "[16:14:07] Explicit valence for atom # 12 S, 9, is greater than permitted\n",
      "[16:14:07] Explicit valence for atom # 20 S, 9, is greater than permitted\n"
     ]
    },
    {
     "name": "stdout",
     "output_type": "stream",
     "text": [
      "Invalid SMILES string: C1(CCCCC1)C2C(NC(C2=[SH3](=O)=O)=O)=O \n",
      " Skipping this molecule\n",
      "Invalid SMILES string: C1(=CC=CC=C1)N2C(C(C(C2=O)=[SH3](=O)=O)C3CCCCC3)=O \n",
      " Skipping this molecule\n",
      "Invalid SMILES string: C1(=CC=C(C=C1)N2C(C(C(C2=O)=[SH3](=O)=O)C3CCCCC3)=O)C \n",
      " Skipping this molecule\n",
      "Invalid SMILES string: C(C)(=O)OC=1C=C(C=CC1C(=O)OC)N2C(C(C(C2=O)=[SH3](=O)=O)C3CCCCC3)=O \n",
      " Skipping this molecule\n"
     ]
    },
    {
     "name": "stderr",
     "output_type": "stream",
     "text": [
      "[16:14:21] Explicit valence for atom # 24 S, 9, is greater than permitted\n"
     ]
    },
    {
     "name": "stdout",
     "output_type": "stream",
     "text": [
      "Invalid SMILES string: C(C)OC(=O)C1=NC(C2=NC3=CC=C(C=C3C2=C1COC)N(C)C)=[SH3](=O)=O \n",
      " Skipping this molecule\n"
     ]
    },
    {
     "name": "stderr",
     "output_type": "stream",
     "text": [
      "[16:14:23] Explicit valence for atom # 16 S, 9, is greater than permitted\n"
     ]
    },
    {
     "name": "stdout",
     "output_type": "stream",
     "text": [
      "Invalid SMILES string: C(C)(=O)C1=C(C(=C(OCCCCC(C(=O)O)=[SH3](=O)=O)C=C1)CC=C)O \n",
      " Skipping this molecule\n"
     ]
    },
    {
     "name": "stderr",
     "output_type": "stream",
     "text": [
      "[16:14:23] Explicit valence for atom # 0 S, 9, is greater than permitted\n"
     ]
    },
    {
     "name": "stdout",
     "output_type": "stream",
     "text": [
      "Invalid SMILES string: [SH3](=O)(=O)=CCCN1C(C=NC(=C1)C)C \n",
      " Skipping this molecule\n"
     ]
    },
    {
     "name": "stderr",
     "output_type": "stream",
     "text": [
      "[16:14:50] Explicit valence for atom # 19 S, 9, is greater than permitted\n"
     ]
    },
    {
     "name": "stdout",
     "output_type": "stream",
     "text": [
      "Invalid SMILES string: C(C)(C)(C)C1=CC(N(O1)C=2C(C(C(=CC2)S(=O)(=O)C)=[SH3](=O)=O)CCCCCCCCCCCCCC)=O \n",
      " Skipping this molecule\n"
     ]
    },
    {
     "name": "stderr",
     "output_type": "stream",
     "text": [
      "[16:14:51] Explicit valence for atom # 12 S, 9, is greater than permitted\n"
     ]
    },
    {
     "name": "stdout",
     "output_type": "stream",
     "text": [
      "Invalid SMILES string: OCCC1=C(C(C(C(=O)O)C=C1)=[SH3](=O)=O)[N+](=O)[O-] \n",
      " Skipping this molecule\n"
     ]
    },
    {
     "name": "stderr",
     "output_type": "stream",
     "text": [
      "[16:15:20] Explicit valence for atom # 7 S, 9, is greater than permitted\n"
     ]
    },
    {
     "name": "stdout",
     "output_type": "stream",
     "text": [
      "Invalid SMILES string: ClCC1=C(C(N(C1=[SH3](=O)=O)C2=CC=C(C=C2)C)C)C \n",
      " Skipping this molecule\n"
     ]
    },
    {
     "name": "stderr",
     "output_type": "stream",
     "text": [
      "[16:15:24] Explicit valence for atom # 10 S, 9, is greater than permitted\n"
     ]
    },
    {
     "name": "stdout",
     "output_type": "stream",
     "text": [
      "Invalid SMILES string: CN(C)C=NCCC(C(I)=[SH3](=O)=O)(C)C \n",
      " Skipping this molecule\n"
     ]
    },
    {
     "name": "stderr",
     "output_type": "stream",
     "text": [
      "[16:15:32] Explicit valence for atom # 24 S, 9, is greater than permitted\n"
     ]
    },
    {
     "name": "stdout",
     "output_type": "stream",
     "text": [
      "Invalid SMILES string: C(#N)C1=CC=C(C=C1)N2C(N(CC2)C3C(C=C(C=C3)CC(=O)OC)=[SH3](=O)=O)=O \n",
      " Skipping this molecule\n"
     ]
    },
    {
     "name": "stderr",
     "output_type": "stream",
     "text": [
      "[16:15:46] Explicit valence for atom # 17 S, 9, is greater than permitted\n"
     ]
    },
    {
     "name": "stdout",
     "output_type": "stream",
     "text": [
      "Invalid SMILES string: ClC1=C(C(=O)OC)C=CC(C1NCC(=O)OC)=[SH3](=O)=O \n",
      " Skipping this molecule\n"
     ]
    },
    {
     "name": "stderr",
     "output_type": "stream",
     "text": [
      "[16:15:47] Explicit valence for atom # 12 S, 9, is greater than permitted\n"
     ]
    },
    {
     "name": "stdout",
     "output_type": "stream",
     "text": [
      "Invalid SMILES string: [N+](=[N-])=C(C(C(CC1=CC=CC=C1)=[SH3](=O)=O)=O)C \n",
      " Skipping this molecule\n"
     ]
    },
    {
     "name": "stderr",
     "output_type": "stream",
     "text": [
      "[16:15:53] Explicit valence for atom # 16 S, 9, is greater than permitted\n"
     ]
    },
    {
     "name": "stdout",
     "output_type": "stream",
     "text": [
      "Invalid SMILES string: NC(=NC(C=1C(C(C(=C(C1)C)N2C=NC=C2)=[SH3](=O)=O)C)=O)N \n",
      " Skipping this molecule\n"
     ]
    },
    {
     "name": "stderr",
     "output_type": "stream",
     "text": [
      "[16:15:59] Explicit valence for atom # 27 S, 9, is greater than permitted\n"
     ]
    },
    {
     "name": "stdout",
     "output_type": "stream",
     "text": [
      "Invalid SMILES string: NC1=CC(=C(C(=O)NCC2CCN(CC2)CCC(CC3=CC=C(C=C3)OC)=[SH3](=O)=O)C=C1Cl)OC \n",
      " Skipping this molecule\n"
     ]
    },
    {
     "name": "stderr",
     "output_type": "stream",
     "text": [
      "[16:16:10] Explicit valence for atom # 26 S, 9, is greater than permitted\n"
     ]
    },
    {
     "name": "stdout",
     "output_type": "stream",
     "text": [
      "Invalid SMILES string: CC1=NC2=C(C=CC=C2C(=C1)C)OCC=3C(=C(C=CC3Cl)N4C(C(CC4)=[SH3](=O)=O)C(=O)N5CCN(CC5)S(=O)(=O)C6=CC=C(C=C6)C=NN)Cl \n",
      " Skipping this molecule\n"
     ]
    },
    {
     "name": "stderr",
     "output_type": "stream",
     "text": [
      "[16:16:14] Explicit valence for atom # 7 S, 9, is greater than permitted\n"
     ]
    },
    {
     "name": "stdout",
     "output_type": "stream",
     "text": [
      "Invalid SMILES string: BrC1=C(C(C(C=C1)=[SH3](=O)=O)CF)Cl \n",
      " Skipping this molecule\n"
     ]
    },
    {
     "name": "stderr",
     "output_type": "stream",
     "text": [
      "[16:16:18] Explicit valence for atom # 14 S, 9, is greater than permitted\n"
     ]
    },
    {
     "name": "stdout",
     "output_type": "stream",
     "text": [
      "Invalid SMILES string: ClC1=C(C(=O)OC)C=CC(=C1CBr)C=[SH3](=O)=O \n",
      " Skipping this molecule\n"
     ]
    },
    {
     "name": "stderr",
     "output_type": "stream",
     "text": [
      "[16:16:24] Explicit valence for atom # 18 S, 9, is greater than permitted\n"
     ]
    },
    {
     "name": "stdout",
     "output_type": "stream",
     "text": [
      "Invalid SMILES string: FC=1C=C2C(=C(C(C2=CC1)=CC3C(C=C(C=C3)C)=[SH3](=O)=O)C)CCN(C(=O)N)O \n",
      " Skipping this molecule\n"
     ]
    },
    {
     "name": "stderr",
     "output_type": "stream",
     "text": [
      "[16:16:28] Explicit valence for atom # 21 S, 9, is greater than permitted\n"
     ]
    },
    {
     "name": "stdout",
     "output_type": "stream",
     "text": [
      "Invalid SMILES string: C(#N)C1=NN(C(C1)C2=CC=C(C=C2)C)C3C(C=C(C=C3)C)=[SH3](=O)=O \n",
      " Skipping this molecule\n"
     ]
    },
    {
     "name": "stderr",
     "output_type": "stream",
     "text": [
      "[16:16:33] Explicit valence for atom # 14 S, 9, is greater than permitted\n"
     ]
    },
    {
     "name": "stdout",
     "output_type": "stream",
     "text": [
      "Invalid SMILES string: CN1N=CC(=C1O)C(C=2C(=C(C(C(C2)=[SH3](=O)=O)C)C3=NOCC3)C)=O \n",
      " Skipping this molecule\n"
     ]
    },
    {
     "name": "stderr",
     "output_type": "stream",
     "text": [
      "[16:16:38] Explicit valence for atom # 17 S, 9, is greater than permitted\n"
     ]
    },
    {
     "name": "stdout",
     "output_type": "stream",
     "text": [
      "Invalid SMILES string: ClC1=C(C(=O)OC)C=CC(=C1C=C[N+](=O)[O-])C=[SH3](=O)=O \n",
      " Skipping this molecule\n"
     ]
    },
    {
     "name": "stderr",
     "output_type": "stream",
     "text": [
      "[16:16:40] Explicit valence for atom # 27 S, 9, is greater than permitted\n"
     ]
    },
    {
     "name": "stdout",
     "output_type": "stream",
     "text": [
      "Invalid SMILES string: CC=1C(C(=O)C2C(C3CCC(C2=O)C3)=O)=CC(C(C1C4=NOC(C4)CCl)C)=[SH3](=O)=O \n",
      " Skipping this molecule\n"
     ]
    },
    {
     "name": "stderr",
     "output_type": "stream",
     "text": [
      "[16:16:43] Explicit valence for atom # 26 S, 9, is greater than permitted\n"
     ]
    },
    {
     "name": "stdout",
     "output_type": "stream",
     "text": [
      "Invalid SMILES string: CC=1C(C(=O)C2=C(C(CC(C2=O)C)C)O)=CC(C(C1C3=NOC4CC34)C)=[SH3](=O)=O \n",
      " Skipping this molecule\n"
     ]
    },
    {
     "name": "stderr",
     "output_type": "stream",
     "text": [
      "[16:16:46] Explicit valence for atom # 20 S, 9, is greater than permitted\n"
     ]
    },
    {
     "name": "stdout",
     "output_type": "stream",
     "text": [
      "Invalid SMILES string: ClC=1C(C(=O)O)=CC(C(C1CSC2=NN=NN2CC)C)=[SH3](=O)=O \n",
      " Skipping this molecule\n"
     ]
    },
    {
     "name": "stderr",
     "output_type": "stream",
     "text": [
      "[16:16:47] Explicit valence for atom # 30 S, 9, is greater than permitted\n"
     ]
    },
    {
     "name": "stdout",
     "output_type": "stream",
     "text": [
      "Invalid SMILES string: COC=1C=C2C=C(N(C2=CC1)S(=O)(=O)C3=CC=CC=C3)CC4N(C5=CC=CC=C5C4=[SH3](=O)=O)C6=CC=CC=C6 \n",
      " Skipping this molecule\n"
     ]
    },
    {
     "name": "stderr",
     "output_type": "stream",
     "text": [
      "[16:17:42] Explicit valence for atom # 25 S, 9, is greater than permitted\n"
     ]
    },
    {
     "name": "stdout",
     "output_type": "stream",
     "text": [
      "Invalid SMILES string: ClC=1C(C(=O)C=2C=NN(C2O)C3CC3)=CC(C(C1C4CC(=NO4)C)C)=[SH3](=O)=O \n",
      " Skipping this molecule\n"
     ]
    },
    {
     "name": "stderr",
     "output_type": "stream",
     "text": [
      "[16:17:46] Explicit valence for atom # 15 S, 9, is greater than permitted\n"
     ]
    },
    {
     "name": "stdout",
     "output_type": "stream",
     "text": [
      "Invalid SMILES string: C(C)C=1C=CC=C2C(C(=NC12)C(=O)OC)=[SH3](=O)=O \n",
      " Skipping this molecule\n"
     ]
    },
    {
     "name": "stderr",
     "output_type": "stream",
     "text": [
      "[16:17:54] Explicit valence for atom # 11 S, 9, is greater than permitted\n"
     ]
    },
    {
     "name": "stdout",
     "output_type": "stream",
     "text": [
      "Invalid SMILES string: ClC1C(C(=O)OC)=CC(=C(C1=[SH3](=O)=O)C)C2=NOC(C2)C \n",
      " Skipping this molecule\n"
     ]
    },
    {
     "name": "stderr",
     "output_type": "stream",
     "text": [
      "[16:18:55] Explicit valence for atom # 12 Cl, 7, is greater than permitted\n"
     ]
    },
    {
     "name": "stdout",
     "output_type": "stream",
     "text": [
      "Invalid SMILES string: CON(C(=O)NC1=CC(=CC=C1)Cl(=O)(=O)=O)C \n",
      " Skipping this molecule\n"
     ]
    },
    {
     "name": "stderr",
     "output_type": "stream",
     "text": [
      "[16:18:55] Explicit valence for atom # 22 S, 9, is greater than permitted\n",
      "[16:18:55] Explicit valence for atom # 12 S, 9, is greater than permitted\n",
      "[16:18:55] Explicit valence for atom # 0 Cl, 5, is greater than permitted\n"
     ]
    },
    {
     "name": "stdout",
     "output_type": "stream",
     "text": [
      "Invalid SMILES string: ClC1=C(C=CC=C1)N(C2=NC(NC=N2)(C)NC(C)=O)C(=O)N=[SH3](=O)=O \n",
      " Skipping this molecule\n",
      "Invalid SMILES string: FC(C=1C=C(CN2N=C(C(=C2N=[SH3](=O)=O)C#N)C)C=CC1)(F)F \n",
      " Skipping this molecule\n",
      "Invalid SMILES string: Cl(=O)(=O)CC1=CC(=C(OCC(=O)OCC)C=C1)NC(C2=CC=C(C=C2)OCCCCC3=CC=CC=C3)=O \n",
      " Skipping this molecule\n"
     ]
    },
    {
     "name": "stderr",
     "output_type": "stream",
     "text": [
      "[16:18:56] Explicit valence for atom # 25 S, 9, is greater than permitted\n",
      "[16:18:56] Explicit valence for atom # 23 S, 9, is greater than permitted\n",
      "[16:18:56] Explicit valence for atom # 23 S, 9, is greater than permitted\n",
      "[16:18:56] Explicit valence for atom # 22 S, 9, is greater than permitted\n",
      "[16:18:56] Explicit valence for atom # 24 S, 9, is greater than permitted\n",
      "[16:18:56] Explicit valence for atom # 19 S, 9, is greater than permitted\n",
      "[16:18:56] Explicit valence for atom # 39 S, 9, is greater than permitted\n",
      "[16:18:56] Explicit valence for atom # 0 S, 9, is greater than permitted\n"
     ]
    },
    {
     "name": "stdout",
     "output_type": "stream",
     "text": [
      "Invalid SMILES string: C(C)OC1C(=CC=CC1=C=O)NN2N(C(N(C2=O)C)OCC)C(=O)N=[SH3](=O)=O \n",
      " Skipping this molecule\n",
      "Invalid SMILES string: COC1=C(C=CC=C1)N(C)N2N(C(N(C2=O)CC)OC)C(=O)N=[SH3](=O)=O \n",
      " Skipping this molecule\n",
      "Invalid SMILES string: C(C)OC1=C(C=CC=C1)ON2N(C(N(C2=O)C3CC3)Cl)C(=O)N=[SH3](=O)=O \n",
      " Skipping this molecule\n",
      "Invalid SMILES string: C(#N)C1=C(C(=C(C=C1C)N2N=C(N(C2=O)C)C(F)(F)F)F)N=[SH3](=O)=O \n",
      " Skipping this molecule\n",
      "Invalid SMILES string: C(CCC)C1C(C2=CC=C(C=C2C1)C(C=CC3=CC=CC=C3)=O)N=[SH3](=O)=O \n",
      " Skipping this molecule\n",
      "Invalid SMILES string: C(=C)C1C(C2=CC=C(C=C2C1)C=3CCC(NN3)=O)N=[SH3](=O)=O \n",
      " Skipping this molecule\n",
      "Invalid SMILES string: C(CCCCCC)NC(NC1=C(C(=O)NC2CCN(CC2)C(C3=CC=CC=C3)C4=CC=CC=C4)C=C(C=C1N=[SH3](=O)=O)C)=O \n",
      " Skipping this molecule\n",
      "Invalid SMILES string: [SH3](=O)(=O)=NC=1C=C(C=CC1OC)CC(=O)N(C2CCCCC2)C(=S)NC \n",
      " Skipping this molecule\n"
     ]
    },
    {
     "name": "stderr",
     "output_type": "stream",
     "text": [
      "[16:18:56] Explicit valence for atom # 25 S, 9, is greater than permitted\n"
     ]
    },
    {
     "name": "stdout",
     "output_type": "stream",
     "text": [
      "Invalid SMILES string: C(C)(C)(C)C1=CC=C(C=N1)C2(C(C2)C(=O)NC(C)C3=CC(=C(C=C3)N=[SH3](=O)=O)C)CC \n",
      " Skipping this molecule\n"
     ]
    },
    {
     "data": {
      "text/plain": [
       "122"
      ]
     },
     "execution_count": 15,
     "metadata": {},
     "output_type": "execute_result"
    }
   ],
   "source": [
    "import pandas as pd\n",
    "import numpy as np\n",
    "import zipfile\n",
    "from rdkit import Chem\n",
    "from rdkit.Chem import rdFingerprintGenerator\n",
    "\n",
    "path_to_dataset = 'experiments/01_Materials_and_Properties/MeltingPoint_molecules/ml/train_meltingPoint_noDuplicates.zip'\n",
    "csv_filename = 'train_meltingPoint_noDuplicates.csv'\n",
    "\n",
    "# Open the file, Correct the encoding and sep if necessary\n",
    "if path_to_dataset.endswith('.zip'):\n",
    "    with zipfile.ZipFile(path_to_dataset, 'r') as z:\n",
    "        # Open the CSV file within the ZIP file\n",
    "        with z.open(csv_filename) as f:\n",
    "            # Read the CSV file into a DataFrame\n",
    "            df = pd.read_csv(f, sep=',', on_bad_lines='warn')\n",
    "else:\n",
    "    # Read the CSV file into a DataFrame\n",
    "    df = pd.read_csv(path_to_dataset, sep=',', on_bad_lines='warn')\n",
    "\n",
    "print('Count of unique smiles:', df.SMILES.unique().shape[0])\n",
    "print('Count of all of the smiles:', df.shape[0])\n",
    "\n",
    "fpsize = 1000\n",
    "\n",
    "def smiles_to_fingerprint(smiles: str) -> np.ndarray:\n",
    "    \"\"\"\n",
    "    Convert a SMILES string to a molecular fingerprint using RDKit.\n",
    "    \"\"\"\n",
    "    mol = Chem.MolFromSmiles(smiles)\n",
    "    if mol is None:\n",
    "        print(f\"Invalid SMILES string: {smiles} \\n Skipping this molecule\")\n",
    "        return None\n",
    "    # Generate Morgan fingerprint\n",
    "    mfpgen = rdFingerprintGenerator.GetMorganGenerator(radius=20, fpSize=fpsize)\n",
    "    fingerprint = mfpgen.GetFingerprint(mol)\n",
    "    return np.array(fingerprint)\n",
    "\n",
    "df['fingerprint'] = df.SMILES.apply(smiles_to_fingerprint)\n",
    "\n",
    "a = df.fingerprint.iloc[15] == df.fingerprint.iloc[4]\n",
    "\n",
    "fpsize - sum(a)\n"
   ]
  },
  {
   "cell_type": "code",
   "execution_count": 16,
   "metadata": {},
   "outputs": [
    {
     "name": "stderr",
     "output_type": "stream",
     "text": [
      "/home/lsmo/.local/lib/python3.10/site-packages/tqdm/auto.py:21: TqdmWarning: IProgress not found. Please update jupyter and ipywidgets. See https://ipywidgets.readthedocs.io/en/stable/user_install.html\n",
      "  from .autonotebook import tqdm as notebook_tqdm\n"
     ]
    }
   ],
   "source": [
    "from MLPipeline import MLmodel, BinTheTarget\n",
    "\n",
    "Target = '[°C ]'\n",
    "Features = ['SMILES']"
   ]
  },
  {
   "cell_type": "markdown",
   "metadata": {},
   "source": [
    "### Regression without hyperparameter optimization. (RandomForestRegressor)\n",
    "The dataframe is splitted inside the MLmodel class but you can change its splitting fraction and also get the values"
   ]
  },
  {
   "cell_type": "code",
   "execution_count": 20,
   "metadata": {},
   "outputs": [
    {
     "ename": "TypeError",
     "evalue": "MLmodel.smiles_to_fingerprint() got an unexpected keyword argument 'axis'",
     "output_type": "error",
     "traceback": [
      "\u001b[0;31m---------------------------------------------------------------------------\u001b[0m",
      "\u001b[0;31mTypeError\u001b[0m                                 Traceback (most recent call last)",
      "Cell \u001b[0;32mIn[20], line 1\u001b[0m\n\u001b[0;32m----> 1\u001b[0m model \u001b[38;5;241m=\u001b[39m \u001b[43mMLmodel\u001b[49m\u001b[43m(\u001b[49m\u001b[43mmodelType\u001b[49m\u001b[43m \u001b[49m\u001b[38;5;241;43m=\u001b[39;49m\u001b[43m \u001b[49m\u001b[38;5;124;43m'\u001b[39;49m\u001b[38;5;124;43mrandom_forest\u001b[39;49m\u001b[38;5;124;43m'\u001b[39;49m\u001b[43m,\u001b[49m\u001b[43m \u001b[49m\u001b[43mdf\u001b[49m\u001b[43m \u001b[49m\u001b[38;5;241;43m=\u001b[39;49m\u001b[43m \u001b[49m\u001b[43mdf\u001b[49m\u001b[43m,\u001b[49m\u001b[43m \u001b[49m\u001b[43mfeature_types\u001b[49m\u001b[38;5;241;43m=\u001b[39;49m\u001b[43m[\u001b[49m\u001b[38;5;124;43m'\u001b[39;49m\u001b[38;5;124;43mSMILES\u001b[39;49m\u001b[38;5;124;43m'\u001b[39;49m\u001b[43m]\u001b[49m\u001b[43m,\u001b[49m\n\u001b[1;32m      2\u001b[0m \u001b[43m                \u001b[49m\u001b[43mtarget\u001b[49m\u001b[43m \u001b[49m\u001b[38;5;241;43m=\u001b[39;49m\u001b[43m \u001b[49m\u001b[38;5;124;43m'\u001b[39;49m\u001b[38;5;124;43mmp\u001b[39;49m\u001b[38;5;124;43m'\u001b[39;49m\u001b[43m,\u001b[49m\u001b[43m \u001b[49m\u001b[43mfeatures\u001b[49m\u001b[43m \u001b[49m\u001b[38;5;241;43m=\u001b[39;49m\u001b[43m \u001b[49m\u001b[43mFeatures\u001b[49m\u001b[43m)\u001b[49m\n\u001b[1;32m      4\u001b[0m \u001b[38;5;66;03m# get the values (input and output) of the model\u001b[39;00m\n\u001b[1;32m      5\u001b[0m X_train, X_test, y_train, y_test \u001b[38;5;241m=\u001b[39m model\u001b[38;5;241m.\u001b[39mgetValues()\n",
      "File \u001b[0;32m<string>:16\u001b[0m, in \u001b[0;36m__init__\u001b[0;34m(self, modelType, df, target, features, feature_types, test_count, train_count, randomSeed, hyperparameter_tuning, param_grid, cv, optimization_method, objective)\u001b[0m\n",
      "File \u001b[0;32m~/Desktop/Joren_ML/GPT-Challenge/MLPipeline.py:66\u001b[0m, in \u001b[0;36mMLmodel.__post_init__\u001b[0;34m(self)\u001b[0m\n\u001b[1;32m     64\u001b[0m \u001b[38;5;28;01mif\u001b[39;00m \u001b[38;5;124m'\u001b[39m\u001b[38;5;124mSMILES\u001b[39m\u001b[38;5;124m'\u001b[39m \u001b[38;5;129;01min\u001b[39;00m \u001b[38;5;28mself\u001b[39m\u001b[38;5;241m.\u001b[39mfeature_types:\n\u001b[1;32m     65\u001b[0m     \u001b[38;5;28mself\u001b[39m\u001b[38;5;241m.\u001b[39mdf[\u001b[38;5;124m'\u001b[39m\u001b[38;5;124mSMILES\u001b[39m\u001b[38;5;124m'\u001b[39m] \u001b[38;5;241m=\u001b[39m \u001b[38;5;28mself\u001b[39m\u001b[38;5;241m.\u001b[39mdf[\u001b[38;5;124m'\u001b[39m\u001b[38;5;124mSMILES\u001b[39m\u001b[38;5;124m'\u001b[39m]\u001b[38;5;241m.\u001b[39mastype(\u001b[38;5;28mstr\u001b[39m)\n\u001b[0;32m---> 66\u001b[0m     \u001b[38;5;28mself\u001b[39m\u001b[38;5;241m.\u001b[39mdf[\u001b[38;5;124m'\u001b[39m\u001b[38;5;124mfingerprints\u001b[39m\u001b[38;5;124m'\u001b[39m] \u001b[38;5;241m=\u001b[39m \u001b[38;5;28;43mself\u001b[39;49m\u001b[38;5;241;43m.\u001b[39;49m\u001b[43mdf\u001b[49m\u001b[43m[\u001b[49m\u001b[38;5;124;43m'\u001b[39;49m\u001b[38;5;124;43mSMILES\u001b[39;49m\u001b[38;5;124;43m'\u001b[39;49m\u001b[43m]\u001b[49m\u001b[38;5;241;43m.\u001b[39;49m\u001b[43mapply\u001b[49m\u001b[43m(\u001b[49m\u001b[38;5;28;43mself\u001b[39;49m\u001b[38;5;241;43m.\u001b[39;49m\u001b[43msmiles_to_fingerprint\u001b[49m\u001b[43m,\u001b[49m\u001b[43m \u001b[49m\u001b[43maxis\u001b[49m\u001b[43m \u001b[49m\u001b[38;5;241;43m=\u001b[39;49m\u001b[43m \u001b[49m\u001b[38;5;241;43m1\u001b[39;49m\u001b[43m)\u001b[49m\n\u001b[1;32m     67\u001b[0m     \u001b[38;5;28mself\u001b[39m\u001b[38;5;241m.\u001b[39mfeatures\u001b[38;5;241m.\u001b[39mpop(\u001b[38;5;28mself\u001b[39m\u001b[38;5;241m.\u001b[39mfeatures\u001b[38;5;241m.\u001b[39mindex(\u001b[38;5;124m'\u001b[39m\u001b[38;5;124mSMILES\u001b[39m\u001b[38;5;124m'\u001b[39m))\n\u001b[1;32m     69\u001b[0m \u001b[38;5;28mself\u001b[39m\u001b[38;5;241m.\u001b[39mX \u001b[38;5;241m=\u001b[39m \u001b[38;5;28mself\u001b[39m\u001b[38;5;241m.\u001b[39mdf[\u001b[38;5;28mself\u001b[39m\u001b[38;5;241m.\u001b[39mfeatures \u001b[38;5;241m+\u001b[39m [\u001b[38;5;124m'\u001b[39m\u001b[38;5;124mfingerprints\u001b[39m\u001b[38;5;124m'\u001b[39m]]\n",
      "File \u001b[0;32m~/.local/lib/python3.10/site-packages/pandas/core/series.py:4924\u001b[0m, in \u001b[0;36mSeries.apply\u001b[0;34m(self, func, convert_dtype, args, by_row, **kwargs)\u001b[0m\n\u001b[1;32m   4789\u001b[0m \u001b[38;5;28;01mdef\u001b[39;00m \u001b[38;5;21mapply\u001b[39m(\n\u001b[1;32m   4790\u001b[0m     \u001b[38;5;28mself\u001b[39m,\n\u001b[1;32m   4791\u001b[0m     func: AggFuncType,\n\u001b[0;32m   (...)\u001b[0m\n\u001b[1;32m   4796\u001b[0m     \u001b[38;5;241m*\u001b[39m\u001b[38;5;241m*\u001b[39mkwargs,\n\u001b[1;32m   4797\u001b[0m ) \u001b[38;5;241m-\u001b[39m\u001b[38;5;241m>\u001b[39m DataFrame \u001b[38;5;241m|\u001b[39m Series:\n\u001b[1;32m   4798\u001b[0m \u001b[38;5;250m    \u001b[39m\u001b[38;5;124;03m\"\"\"\u001b[39;00m\n\u001b[1;32m   4799\u001b[0m \u001b[38;5;124;03m    Invoke function on values of Series.\u001b[39;00m\n\u001b[1;32m   4800\u001b[0m \n\u001b[0;32m   (...)\u001b[0m\n\u001b[1;32m   4915\u001b[0m \u001b[38;5;124;03m    dtype: float64\u001b[39;00m\n\u001b[1;32m   4916\u001b[0m \u001b[38;5;124;03m    \"\"\"\u001b[39;00m\n\u001b[1;32m   4917\u001b[0m     \u001b[38;5;28;01mreturn\u001b[39;00m \u001b[43mSeriesApply\u001b[49m\u001b[43m(\u001b[49m\n\u001b[1;32m   4918\u001b[0m \u001b[43m        \u001b[49m\u001b[38;5;28;43mself\u001b[39;49m\u001b[43m,\u001b[49m\n\u001b[1;32m   4919\u001b[0m \u001b[43m        \u001b[49m\u001b[43mfunc\u001b[49m\u001b[43m,\u001b[49m\n\u001b[1;32m   4920\u001b[0m \u001b[43m        \u001b[49m\u001b[43mconvert_dtype\u001b[49m\u001b[38;5;241;43m=\u001b[39;49m\u001b[43mconvert_dtype\u001b[49m\u001b[43m,\u001b[49m\n\u001b[1;32m   4921\u001b[0m \u001b[43m        \u001b[49m\u001b[43mby_row\u001b[49m\u001b[38;5;241;43m=\u001b[39;49m\u001b[43mby_row\u001b[49m\u001b[43m,\u001b[49m\n\u001b[1;32m   4922\u001b[0m \u001b[43m        \u001b[49m\u001b[43margs\u001b[49m\u001b[38;5;241;43m=\u001b[39;49m\u001b[43margs\u001b[49m\u001b[43m,\u001b[49m\n\u001b[1;32m   4923\u001b[0m \u001b[43m        \u001b[49m\u001b[43mkwargs\u001b[49m\u001b[38;5;241;43m=\u001b[39;49m\u001b[43mkwargs\u001b[49m\u001b[43m,\u001b[49m\n\u001b[0;32m-> 4924\u001b[0m \u001b[43m    \u001b[49m\u001b[43m)\u001b[49m\u001b[38;5;241;43m.\u001b[39;49m\u001b[43mapply\u001b[49m\u001b[43m(\u001b[49m\u001b[43m)\u001b[49m\n",
      "File \u001b[0;32m~/.local/lib/python3.10/site-packages/pandas/core/apply.py:1427\u001b[0m, in \u001b[0;36mSeriesApply.apply\u001b[0;34m(self)\u001b[0m\n\u001b[1;32m   1424\u001b[0m     \u001b[38;5;28;01mreturn\u001b[39;00m \u001b[38;5;28mself\u001b[39m\u001b[38;5;241m.\u001b[39mapply_compat()\n\u001b[1;32m   1426\u001b[0m \u001b[38;5;66;03m# self.func is Callable\u001b[39;00m\n\u001b[0;32m-> 1427\u001b[0m \u001b[38;5;28;01mreturn\u001b[39;00m \u001b[38;5;28;43mself\u001b[39;49m\u001b[38;5;241;43m.\u001b[39;49m\u001b[43mapply_standard\u001b[49m\u001b[43m(\u001b[49m\u001b[43m)\u001b[49m\n",
      "File \u001b[0;32m~/.local/lib/python3.10/site-packages/pandas/core/apply.py:1507\u001b[0m, in \u001b[0;36mSeriesApply.apply_standard\u001b[0;34m(self)\u001b[0m\n\u001b[1;32m   1501\u001b[0m \u001b[38;5;66;03m# row-wise access\u001b[39;00m\n\u001b[1;32m   1502\u001b[0m \u001b[38;5;66;03m# apply doesn't have a `na_action` keyword and for backward compat reasons\u001b[39;00m\n\u001b[1;32m   1503\u001b[0m \u001b[38;5;66;03m# we need to give `na_action=\"ignore\"` for categorical data.\u001b[39;00m\n\u001b[1;32m   1504\u001b[0m \u001b[38;5;66;03m# TODO: remove the `na_action=\"ignore\"` when that default has been changed in\u001b[39;00m\n\u001b[1;32m   1505\u001b[0m \u001b[38;5;66;03m#  Categorical (GH51645).\u001b[39;00m\n\u001b[1;32m   1506\u001b[0m action \u001b[38;5;241m=\u001b[39m \u001b[38;5;124m\"\u001b[39m\u001b[38;5;124mignore\u001b[39m\u001b[38;5;124m\"\u001b[39m \u001b[38;5;28;01mif\u001b[39;00m \u001b[38;5;28misinstance\u001b[39m(obj\u001b[38;5;241m.\u001b[39mdtype, CategoricalDtype) \u001b[38;5;28;01melse\u001b[39;00m \u001b[38;5;28;01mNone\u001b[39;00m\n\u001b[0;32m-> 1507\u001b[0m mapped \u001b[38;5;241m=\u001b[39m \u001b[43mobj\u001b[49m\u001b[38;5;241;43m.\u001b[39;49m\u001b[43m_map_values\u001b[49m\u001b[43m(\u001b[49m\n\u001b[1;32m   1508\u001b[0m \u001b[43m    \u001b[49m\u001b[43mmapper\u001b[49m\u001b[38;5;241;43m=\u001b[39;49m\u001b[43mcurried\u001b[49m\u001b[43m,\u001b[49m\u001b[43m \u001b[49m\u001b[43mna_action\u001b[49m\u001b[38;5;241;43m=\u001b[39;49m\u001b[43maction\u001b[49m\u001b[43m,\u001b[49m\u001b[43m \u001b[49m\u001b[43mconvert\u001b[49m\u001b[38;5;241;43m=\u001b[39;49m\u001b[38;5;28;43mself\u001b[39;49m\u001b[38;5;241;43m.\u001b[39;49m\u001b[43mconvert_dtype\u001b[49m\n\u001b[1;32m   1509\u001b[0m \u001b[43m\u001b[49m\u001b[43m)\u001b[49m\n\u001b[1;32m   1511\u001b[0m \u001b[38;5;28;01mif\u001b[39;00m \u001b[38;5;28mlen\u001b[39m(mapped) \u001b[38;5;129;01mand\u001b[39;00m \u001b[38;5;28misinstance\u001b[39m(mapped[\u001b[38;5;241m0\u001b[39m], ABCSeries):\n\u001b[1;32m   1512\u001b[0m     \u001b[38;5;66;03m# GH#43986 Need to do list(mapped) in order to get treated as nested\u001b[39;00m\n\u001b[1;32m   1513\u001b[0m     \u001b[38;5;66;03m#  See also GH#25959 regarding EA support\u001b[39;00m\n\u001b[1;32m   1514\u001b[0m     \u001b[38;5;28;01mreturn\u001b[39;00m obj\u001b[38;5;241m.\u001b[39m_constructor_expanddim(\u001b[38;5;28mlist\u001b[39m(mapped), index\u001b[38;5;241m=\u001b[39mobj\u001b[38;5;241m.\u001b[39mindex)\n",
      "File \u001b[0;32m~/.local/lib/python3.10/site-packages/pandas/core/base.py:921\u001b[0m, in \u001b[0;36mIndexOpsMixin._map_values\u001b[0;34m(self, mapper, na_action, convert)\u001b[0m\n\u001b[1;32m    918\u001b[0m \u001b[38;5;28;01mif\u001b[39;00m \u001b[38;5;28misinstance\u001b[39m(arr, ExtensionArray):\n\u001b[1;32m    919\u001b[0m     \u001b[38;5;28;01mreturn\u001b[39;00m arr\u001b[38;5;241m.\u001b[39mmap(mapper, na_action\u001b[38;5;241m=\u001b[39mna_action)\n\u001b[0;32m--> 921\u001b[0m \u001b[38;5;28;01mreturn\u001b[39;00m \u001b[43malgorithms\u001b[49m\u001b[38;5;241;43m.\u001b[39;49m\u001b[43mmap_array\u001b[49m\u001b[43m(\u001b[49m\u001b[43marr\u001b[49m\u001b[43m,\u001b[49m\u001b[43m \u001b[49m\u001b[43mmapper\u001b[49m\u001b[43m,\u001b[49m\u001b[43m \u001b[49m\u001b[43mna_action\u001b[49m\u001b[38;5;241;43m=\u001b[39;49m\u001b[43mna_action\u001b[49m\u001b[43m,\u001b[49m\u001b[43m \u001b[49m\u001b[43mconvert\u001b[49m\u001b[38;5;241;43m=\u001b[39;49m\u001b[43mconvert\u001b[49m\u001b[43m)\u001b[49m\n",
      "File \u001b[0;32m~/.local/lib/python3.10/site-packages/pandas/core/algorithms.py:1743\u001b[0m, in \u001b[0;36mmap_array\u001b[0;34m(arr, mapper, na_action, convert)\u001b[0m\n\u001b[1;32m   1741\u001b[0m values \u001b[38;5;241m=\u001b[39m arr\u001b[38;5;241m.\u001b[39mastype(\u001b[38;5;28mobject\u001b[39m, copy\u001b[38;5;241m=\u001b[39m\u001b[38;5;28;01mFalse\u001b[39;00m)\n\u001b[1;32m   1742\u001b[0m \u001b[38;5;28;01mif\u001b[39;00m na_action \u001b[38;5;129;01mis\u001b[39;00m \u001b[38;5;28;01mNone\u001b[39;00m:\n\u001b[0;32m-> 1743\u001b[0m     \u001b[38;5;28;01mreturn\u001b[39;00m \u001b[43mlib\u001b[49m\u001b[38;5;241;43m.\u001b[39;49m\u001b[43mmap_infer\u001b[49m\u001b[43m(\u001b[49m\u001b[43mvalues\u001b[49m\u001b[43m,\u001b[49m\u001b[43m \u001b[49m\u001b[43mmapper\u001b[49m\u001b[43m,\u001b[49m\u001b[43m \u001b[49m\u001b[43mconvert\u001b[49m\u001b[38;5;241;43m=\u001b[39;49m\u001b[43mconvert\u001b[49m\u001b[43m)\u001b[49m\n\u001b[1;32m   1744\u001b[0m \u001b[38;5;28;01melse\u001b[39;00m:\n\u001b[1;32m   1745\u001b[0m     \u001b[38;5;28;01mreturn\u001b[39;00m lib\u001b[38;5;241m.\u001b[39mmap_infer_mask(\n\u001b[1;32m   1746\u001b[0m         values, mapper, mask\u001b[38;5;241m=\u001b[39misna(values)\u001b[38;5;241m.\u001b[39mview(np\u001b[38;5;241m.\u001b[39muint8), convert\u001b[38;5;241m=\u001b[39mconvert\n\u001b[1;32m   1747\u001b[0m     )\n",
      "File \u001b[0;32mlib.pyx:2972\u001b[0m, in \u001b[0;36mpandas._libs.lib.map_infer\u001b[0;34m()\u001b[0m\n",
      "File \u001b[0;32m~/.local/lib/python3.10/site-packages/pandas/core/apply.py:1496\u001b[0m, in \u001b[0;36mSeriesApply.apply_standard.<locals>.curried\u001b[0;34m(x)\u001b[0m\n\u001b[1;32m   1495\u001b[0m \u001b[38;5;28;01mdef\u001b[39;00m \u001b[38;5;21mcurried\u001b[39m(x):\n\u001b[0;32m-> 1496\u001b[0m     \u001b[38;5;28;01mreturn\u001b[39;00m \u001b[43mfunc\u001b[49m\u001b[43m(\u001b[49m\u001b[43mx\u001b[49m\u001b[43m,\u001b[49m\u001b[43m \u001b[49m\u001b[38;5;241;43m*\u001b[39;49m\u001b[38;5;28;43mself\u001b[39;49m\u001b[38;5;241;43m.\u001b[39;49m\u001b[43margs\u001b[49m\u001b[43m,\u001b[49m\u001b[43m \u001b[49m\u001b[38;5;241;43m*\u001b[39;49m\u001b[38;5;241;43m*\u001b[39;49m\u001b[38;5;28;43mself\u001b[39;49m\u001b[38;5;241;43m.\u001b[39;49m\u001b[43mkwargs\u001b[49m\u001b[43m)\u001b[49m\n",
      "\u001b[0;31mTypeError\u001b[0m: MLmodel.smiles_to_fingerprint() got an unexpected keyword argument 'axis'"
     ]
    }
   ],
   "source": [
    "model = MLmodel(modelType = 'random_forest', df = df, feature_types=['SMILES'],\n",
    "                target = 'mp', features = Features)\n",
    "\n",
    "# get the values (input and output) of the model\n",
    "X_train, X_test, y_train, y_test = model.getValues()\n",
    "\n",
    "\n",
    "# Train the model\n",
    "model.train()\n",
    "# Predictions and evaluation are done on the test set\n",
    "predictions = model.predict()\n",
    "model.evaluate()"
   ]
  },
  {
   "cell_type": "markdown",
   "metadata": {},
   "source": [
    "### Regression model with hyperparameter optimization using Grid search. (RandomForestRegressor)"
   ]
  },
  {
   "cell_type": "code",
   "execution_count": null,
   "metadata": {},
   "outputs": [],
   "source": [
    "param_grid = {\n",
    "    'n_estimators': [50, 100],  # Number of trees in the forest\n",
    "    'max_depth': [None, 10, 40],  # Maximum depth of the trees\n",
    "#     'min_samples_split': [2, 5, 10, 15],  # Minimum number of samples required to split an internal node\n",
    "#     'min_samples_leaf': [1, 2, 4, 6],     # Minimum number of samples required to be at a leaf node\n",
    "#     'max_features': ['auto', 'sqrt', 'log2'],  # Number of features to consider for the best split\n",
    "#     'bootstrap': [True, False]            # Whether bootstrap samples are used when building trees\n",
    "}"
   ]
  },
  {
   "cell_type": "code",
   "execution_count": null,
   "metadata": {},
   "outputs": [],
   "source": []
  },
  {
   "cell_type": "code",
   "execution_count": null,
   "metadata": {},
   "outputs": [],
   "source": [
    "model = MLmodel(modelType='random_forest', df=df, target='[°C ]', \n",
    "                features=['SMILES'], hyperparameter_tuning=True, \n",
    "                optimization_method='grid_search', param_grid=param_grid)\n",
    "model.train()\n",
    "predictions = model.predict()\n",
    "model.evaluate()"
   ]
  },
  {
   "cell_type": "markdown",
   "metadata": {},
   "source": [
    "### Classification without the hyper parameter optmization. (RandomForestClassifier)"
   ]
  },
  {
   "cell_type": "code",
   "execution_count": null,
   "metadata": {},
   "outputs": [],
   "source": [
    "binner = BinTheTarget(df = df, target = Target, bins = 2)"
   ]
  },
  {
   "cell_type": "code",
   "execution_count": null,
   "metadata": {},
   "outputs": [],
   "source": [
    "model = MLmodel(modelType = 'RandomForestClassifier', df = binner.df,\n",
    "                target = Target , features = Features)\n",
    "                \n",
    "model.train()\n",
    "predictions = model.predict()\n",
    "model.evaluate()"
   ]
  },
  {
   "cell_type": "markdown",
   "metadata": {},
   "source": [
    "### Classification using grid search for hyperparameter optimization. (RandomForestClassifier)"
   ]
  },
  {
   "cell_type": "code",
   "execution_count": null,
   "metadata": {},
   "outputs": [],
   "source": [
    "param_grid = {\n",
    "    'n_estimators': [ 100, 200],  # Number of trees in the forest\n",
    "    'max_depth': [None, 10, 20],  # Maximum depth of the trees\n",
    "    # 'min_samples_split': [2, 5],  # Minimum number of samples required to split an internal node\n",
    "    # 'min_samples_leaf': [1, 2],     # Minimum number of samples required to be at a leaf node\n",
    "    # 'max_features': ['auto', 'sqrt'],  # Number of features to consider for the best split\n",
    "    # 'bootstrap': [True, False],           # Whether bootstrap samples are used when building trees\n",
    "    # 'class_weight': [None, 'balanced']  # Weights associated with classes in the form {class_label: weight}\n",
    "}\n"
   ]
  },
  {
   "cell_type": "code",
   "execution_count": null,
   "metadata": {},
   "outputs": [],
   "source": [
    "model = MLmodel(modelType='RandomForestClassifier', df=df, target='[°C ]', \n",
    "                features=['SMILES'], hyperparameter_tuning=True, param_grid=param_grid,\n",
    "                optimization_method='grid_search')\n",
    "model.train()\n",
    "predictions = model.predict()\n",
    "model.evaluate()"
   ]
  },
  {
   "cell_type": "markdown",
   "metadata": {},
   "source": [
    "### Classification using optuna for hyperparameter optimization. (RandomForestClassifier)"
   ]
  },
  {
   "cell_type": "code",
   "execution_count": null,
   "metadata": {},
   "outputs": [],
   "source": [
    "from sklearn.model_selection import cross_val_score\n",
    "from sklearn.base import clone\n",
    "\n",
    "def objective(trial, model_instance):\n",
    "    \"\"\"\n",
    "    Objective function for Optuna to minimize.\n",
    "    \"\"\"\n",
    "    # Define hyperparameters to tune\n",
    "    params = {\n",
    "        'n_estimators': trial.suggest_int('n_estimators', 50, 300),\n",
    "        'max_depth': trial.suggest_categorical('max_depth', [None, 10, 20, 30, 40]),\n",
    "        'min_samples_split': trial.suggest_int('min_samples_split', 2, 15),\n",
    "        'min_samples_leaf': trial.suggest_int('min_samples_leaf', 1, 6),\n",
    "        'max_features': trial.suggest_categorical('max_features', ['sqrt', 'log2']),\n",
    "        'bootstrap': trial.suggest_categorical('bootstrap', [True, False])\n",
    "    }\n",
    "\n",
    "    # Clone the model to ensure a fresh instance each trial\n",
    "    model_clone = clone(model_instance.model)\n",
    "    model_clone.set_params(**params)\n",
    "    \n",
    "    # Define the score metric\n",
    "    scoring = 'accuracy'\n",
    "\n",
    "    # Perform cross-validation\n",
    "    scores = cross_val_score(model_clone, model_instance.X_train, model_instance.y_train, cv=model_instance.cv, scoring=scoring)\n",
    "\n",
    "    # Return the average score across all folds\n",
    "    return scores.mean()"
   ]
  },
  {
   "cell_type": "code",
   "execution_count": null,
   "metadata": {},
   "outputs": [],
   "source": [
    "model = MLmodel(modelType='RandomForestClassifier', df=df, target='[°C ]', \n",
    "                features=['SMILES'], hyperparameter_tuning=True, param_grid=param_grid,\n",
    "                optimization_method='optuna', objective=lambda trial: objective(trial, model))\n",
    "\n",
    "model.train()\n",
    "predictions = model.predict()\n",
    "model.evaluate()"
   ]
  },
  {
   "cell_type": "markdown",
   "metadata": {},
   "source": [
    "### Different classification models can be used. (MLPClassfier)\n",
    "#### Without hyperparameter optimization"
   ]
  },
  {
   "cell_type": "code",
   "execution_count": null,
   "metadata": {},
   "outputs": [],
   "source": [
    "model = MLmodel(modelType='MLPClassifier', df=df, target='[°C ]', features=['SMILES'])\n",
    "\n",
    "model.train()\n",
    "predictions = model.predict()\n",
    "model.evaluate()"
   ]
  }
 ],
 "metadata": {
  "kernelspec": {
   "display_name": "Python 3",
   "language": "python",
   "name": "python3"
  },
  "language_info": {
   "codemirror_mode": {
    "name": "ipython",
    "version": 3
   },
   "file_extension": ".py",
   "mimetype": "text/x-python",
   "name": "python",
   "nbconvert_exporter": "python",
   "pygments_lexer": "ipython3",
   "version": "3.10.14"
  }
 },
 "nbformat": 4,
 "nbformat_minor": 2
}
